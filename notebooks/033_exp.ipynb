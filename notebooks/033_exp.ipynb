{
 "cells": [
  {
   "cell_type": "markdown",
   "id": "dfc667e8",
   "metadata": {},
   "source": [
    "![](https://images.unsplash.com/photo-1602084551218-a28205125639?ixlib=rb-1.2.1&ixid=MnwxMjA3fDB8MHxwaG90by1wYWdlfHx8fGVufDB8fHx8&auto=format&fit=crop&w=2070&q=80)"
   ]
  },
  {
   "cell_type": "markdown",
   "id": "62d5ccba",
   "metadata": {},
   "source": [
    "<div class = 'alert alert-block alert-info'\n",
    "     style = 'background-color:#4c1c84;\n",
    "              color:#eeebf1;\n",
    "              border-width:5px;\n",
    "              border-color:#4c1c84;\n",
    "              font-family:Comic Sans MS;\n",
    "              border-radius: 50px 50px'>\n",
    "    <p style = 'font-size:24px'>Exp 033</p>\n",
    "    <a href = \"#Config\"\n",
    "       style = \"color:#eeebf1;\n",
    "                font-size:14px\">1.Config</a><br>\n",
    "    <a href = \"#Settings\"\n",
    "       style = \"color:#eeebf1;\n",
    "                font-size:14px\">2.Settings</a><br>\n",
    "    <a href = \"#Data-Load\"\n",
    "       style = \"color:#eeebf1;\n",
    "                font-size:14px\">3.Data Load</a><br>\n",
    "    <a href = \"#Pytorch-Settings\"\n",
    "       style = \"color:#eeebf1;\n",
    "                font-size:14px\">4.Pytorch Settings</a><br>\n",
    "    <a href = \"#Training\"\n",
    "       style = \"color:#eeebf1;\n",
    "                font-size:14px\">5.Training</a><br>\n",
    "</div>\n",
    "\n",
    "<p style = 'font-size:24px;\n",
    "            color:#4c1c84'>\n",
    "    実施したこと\n",
    "</p>\n",
    "    <li style = \"color:#4c1c84;\n",
    "                font-size:14px\">使用データ:Jigsaw-Classification</li>\n",
    "    <li style = \"color:#4c1c84;\n",
    "                font-size:14px\">使用モデル:unitary/toxic-bert</li>\n",
    "    <li style = \"color:#4c1c84;\n",
    "                font-size:14px\">Attentionの可視化</li>"
   ]
  },
  {
   "cell_type": "markdown",
   "id": "cf5d9032",
   "metadata": {},
   "source": [
    "<br>\n",
    "<h1 style = \"font-size:45px; font-family:Comic Sans MS ; font-weight : normal; background-color: #4c1c84 ; color : #eeebf1; text-align: center; border-radius: 100px 100px;\">\n",
    "    Config\n",
    "</h1>\n",
    "<br>"
   ]
  },
  {
   "cell_type": "code",
   "execution_count": 1,
   "id": "c645d84e",
   "metadata": {},
   "outputs": [],
   "source": [
    "import sys\n",
    "sys.path.append(\"../src/utils/iterative-stratification/\")\n",
    "sys.path.append(\"../src/utils/detoxify\")\n",
    "sys.path.append(\"../src/utils/coral-pytorch/\")\n",
    "sys.path.append(\"../src/utils/pyspellchecker\")"
   ]
  },
  {
   "cell_type": "code",
   "execution_count": 2,
   "id": "6f05fda2",
   "metadata": {},
   "outputs": [
    {
     "name": "stderr",
     "output_type": "stream",
     "text": [
      "2022-01-28 02:22:52.130585: I tensorflow/stream_executor/platform/default/dso_loader.cc:49] Successfully opened dynamic library libcudart.so.11.0\n"
     ]
    }
   ],
   "source": [
    "import warnings\n",
    "warnings.simplefilter('ignore')\n",
    "\n",
    "import os\n",
    "import gc\n",
    "gc.enable()\n",
    "import sys\n",
    "import glob\n",
    "import copy\n",
    "import math\n",
    "import time\n",
    "import random\n",
    "import string\n",
    "import psutil\n",
    "import pathlib\n",
    "from pathlib import Path\n",
    "from contextlib import contextmanager\n",
    "from collections import defaultdict\n",
    "from box import Box\n",
    "from typing import Optional\n",
    "from pprint import pprint\n",
    "\n",
    "import numpy as np\n",
    "import pandas as pd\n",
    "import matplotlib.pyplot as plt\n",
    "import seaborn as sns\n",
    "import japanize_matplotlib\n",
    "\n",
    "from tqdm.auto import tqdm as tqdmp\n",
    "from tqdm.autonotebook import tqdm as tqdm\n",
    "tqdmp.pandas()\n",
    "\n",
    "## Model\n",
    "from sklearn.metrics import mean_squared_error\n",
    "from sklearn.model_selection import StratifiedKFold, KFold\n",
    "import torch\n",
    "import torch.nn as nn\n",
    "import torch.nn.functional as F\n",
    "from torch.utils.data import Dataset, DataLoader\n",
    "from transformers import AutoTokenizer, AutoModel, AdamW, AutoModelForSequenceClassification\n",
    "from transformers import RobertaModel, RobertaForSequenceClassification\n",
    "from transformers import RobertaTokenizer\n",
    "from transformers import LukeTokenizer, LukeModel, LukeConfig\n",
    "from transformers import get_linear_schedule_with_warmup, get_cosine_schedule_with_warmup\n",
    "from transformers import BertTokenizer, BertForSequenceClassification, BertForMaskedLM\n",
    "from transformers import RobertaTokenizer, RobertaForSequenceClassification\n",
    "from transformers import XLMRobertaTokenizer, XLMRobertaForSequenceClassification\n",
    "from transformers import DebertaTokenizer, DebertaModel\n",
    "\n",
    "# Pytorch Lightning\n",
    "import pytorch_lightning as pl\n",
    "from pytorch_lightning.utilities.seed import seed_everything\n",
    "from pytorch_lightning import callbacks\n",
    "from pytorch_lightning.callbacks.progress import ProgressBarBase\n",
    "from pytorch_lightning import LightningDataModule, LightningDataModule\n",
    "from pytorch_lightning import Trainer\n",
    "from pytorch_lightning.callbacks import ModelCheckpoint, EarlyStopping, LearningRateMonitor\n",
    "from pytorch_lightning.loggers import WandbLogger\n",
    "from pytorch_lightning.loggers.csv_logs import CSVLogger\n",
    "from pytorch_lightning.callbacks import RichProgressBar\n",
    "\n",
    "from sklearn.linear_model import Ridge\n",
    "from sklearn.svm import SVC, SVR\n",
    "from sklearn.feature_extraction.text import TfidfVectorizer\n",
    "from scipy.stats import rankdata\n",
    "from cuml.svm import SVR as cuml_SVR\n",
    "from cuml.linear_model import Ridge as cuml_Ridge\n",
    "import cudf\n",
    "from detoxify import Detoxify\n",
    "from iterstrat.ml_stratifiers import MultilabelStratifiedKFold\n",
    "\n",
    "from ast import literal_eval\n",
    "from nltk.tokenize import TweetTokenizer\n",
    "import spacy\n",
    "from scipy.stats import sem\n",
    "from copy import deepcopy\n",
    "from spellchecker import SpellChecker\n",
    "from typing import Text, Set, List\n"
   ]
  },
  {
   "cell_type": "code",
   "execution_count": 3,
   "id": "c887d899",
   "metadata": {},
   "outputs": [],
   "source": [
    "import torch\n",
    "\n",
    "config = {\n",
    "    \"exp_comment\":\"Jigsaw-Classification をHateBERTで学習\",\n",
    "    \"seed\": 42,\n",
    "    \"root\": \"/content/drive/MyDrive/kaggle/Jigsaw/raw\",\n",
    "    \"n_fold\": 5,\n",
    "    \"epoch\": 5,\n",
    "    \"max_length\": 256,\n",
    "    \"environment\": \"AWS\",\n",
    "    \"project\": \"Jigsaw\",\n",
    "    \"entity\": \"dataskywalker\",\n",
    "    \"exp_name\": \"032_exp\",\n",
    "    \"margin\": 0.5,\n",
    "    \"train_fold\": [0, 1, 2, 3, 4],\n",
    "\n",
    "    \"trainer\": {\n",
    "        \"gpus\": 1,\n",
    "        \"accumulate_grad_batches\": 8,\n",
    "        \"progress_bar_refresh_rate\": 1,\n",
    "        \"fast_dev_run\": True,\n",
    "        \"num_sanity_val_steps\": 0,\n",
    "    },\n",
    "\n",
    "    \"train_loader\": {\n",
    "        \"batch_size\": 8,\n",
    "        \"shuffle\": True,\n",
    "        \"num_workers\": 1,\n",
    "        \"pin_memory\": True,\n",
    "        \"drop_last\": True,\n",
    "    },\n",
    "\n",
    "    \"valid_loader\": {\n",
    "        \"batch_size\": 8,\n",
    "        \"shuffle\": False,\n",
    "        \"num_workers\": 1,\n",
    "        \"pin_memory\": True,\n",
    "        \"drop_last\": False,\n",
    "    },\n",
    "\n",
    "    \"test_loader\": {\n",
    "        \"batch_size\": 8,\n",
    "        \"shuffle\": False,\n",
    "        \"num_workers\": 1,\n",
    "        \"pin_memory\": True,\n",
    "        \"drop_last\": False,\n",
    "    },\n",
    "\n",
    "    \"backbone\": {\n",
    "        \"name\": \"GroNLP/hateBERT\",\n",
    "        \"output_dim\": 1,\n",
    "    },\n",
    "\n",
    "    \"optimizer\": {\n",
    "        \"name\": \"torch.optim.AdamW\",\n",
    "        \"params\": {\n",
    "            \"lr\": 1e-6,\n",
    "        },\n",
    "    },\n",
    "\n",
    "    \"scheduler\": {\n",
    "        \"name\": \"torch.optim.lr_scheduler.CosineAnnealingWarmRestarts\",\n",
    "        \"params\": {\n",
    "            \"T_0\": 20,\n",
    "            \"eta_min\": 0,\n",
    "        },\n",
    "    },\n",
    "\n",
    "    \"loss\": \"nn.MSELoss\",\n",
    "}\n",
    "\n",
    "config = Box(config)\n",
    "config.tokenizer = AutoTokenizer.from_pretrained(config.backbone.name)\n",
    "config.model = BertForMaskedLM.from_pretrained(config.backbone.name)\n",
    "# pprint(config)"
   ]
  },
  {
   "cell_type": "code",
   "execution_count": 4,
   "id": "418b318c",
   "metadata": {},
   "outputs": [],
   "source": [
    "config.tokenizer.save_pretrained(f\"../data/processed/{config.backbone.name}\")\n",
    "\n",
    "pretrain_model = BertForMaskedLM.from_pretrained(config.backbone.name)\n",
    "pretrain_model.save_pretrained(f\"../data/processed/{config.backbone.name}\")"
   ]
  },
  {
   "cell_type": "code",
   "execution_count": 5,
   "id": "2771cc93",
   "metadata": {},
   "outputs": [
    {
     "name": "stdout",
     "output_type": "stream",
     "text": [
      "Your environment is 'AWS'.\n",
      "INPUT_DIR is /mnt/work/data/kaggle/Jigsaw\n",
      "MODEL_DIR is ../models/032_exp\n",
      "OUTPUT_DIR is ../data/interim/032_exp\n",
      "UTIL_DIR is /mnt/work/shimizu/kaggle/PetFinder/src/utils\n"
     ]
    }
   ],
   "source": [
    "# 個人的にAWSやKaggle環境やGoogle Colabを行ったり来たりしているのでまとめています\n",
    "import os\n",
    "import sys\n",
    "from pathlib import Path\n",
    "\n",
    "if config.environment == 'AWS':\n",
    "    \n",
    "    INPUT_DIR = Path('/mnt/work/data/kaggle/Jigsaw/')\n",
    "    MODEL_DIR = Path(f'../models/{config.exp_name}/')\n",
    "    OUTPUT_DIR = Path(f'../data/interim/{config.exp_name}/')\n",
    "    UTIL_DIR = Path('/mnt/work/shimizu/kaggle/PetFinder/src/utils')\n",
    "    \n",
    "    os.makedirs(MODEL_DIR, exist_ok=True)\n",
    "    os.makedirs(OUTPUT_DIR, exist_ok=True)\n",
    "    \n",
    "    print(f\"Your environment is 'AWS'.\\nINPUT_DIR is {INPUT_DIR}\\nMODEL_DIR is {MODEL_DIR}\\nOUTPUT_DIR is {OUTPUT_DIR}\\nUTIL_DIR is {UTIL_DIR}\")\n",
    "    \n",
    "    \n",
    "elif config.environment == 'Kaggle':\n",
    "    INPUT_DIR = Path('../input/*****')\n",
    "    MODEL_DIR = Path('./')\n",
    "    OUTPUT_DIR = Path('./')\n",
    "    print(f\"Your environment is 'Kaggle'.\\nINPUT_DIR is {INPUT_DIR}\\nMODEL_DIR is {MODEL_DIR}\\nOUTPUT_DIR is {OUTPUT_DIR}\")\n",
    "\n",
    "    \n",
    "elif config.environment == 'Colab':\n",
    "    INPUT_DIR = Path('/content/drive/MyDrive/kaggle/Jigsaw/raw')\n",
    "    BASE_DIR = Path(\"/content/drive/MyDrive/kaggle/Jigsaw/interim\")\n",
    "\n",
    "    MODEL_DIR = BASE_DIR / f'{config.exp_name}'\n",
    "    OUTPUT_DIR = BASE_DIR / f'{config.exp_name}/'\n",
    "\n",
    "    os.makedirs(MODEL_DIR, exist_ok=True)\n",
    "    os.makedirs(OUTPUT_DIR, exist_ok=True)\n",
    "    \n",
    "    if not os.path.exists(INPUT_DIR):\n",
    "        print('Please Mount your Google Drive.')\n",
    "    else:\n",
    "        print(f\"Your environment is 'Colab'.\\nINPUT_DIR is {INPUT_DIR}\\nMODEL_DIR is {MODEL_DIR}\\nOUTPUT_DIR is {OUTPUT_DIR}\")\n",
    "        \n",
    "else:\n",
    "    print(\"Please choose 'AWS' or 'Kaggle' or 'Colab'.\\nINPUT_DIR is not found.\")"
   ]
  },
  {
   "cell_type": "code",
   "execution_count": 6,
   "id": "563acf4d",
   "metadata": {},
   "outputs": [
    {
     "data": {
      "text/plain": [
       "42"
      ]
     },
     "execution_count": 6,
     "metadata": {},
     "output_type": "execute_result"
    }
   ],
   "source": [
    "# Seed固定\n",
    "seed_everything(config.seed)"
   ]
  },
  {
   "cell_type": "code",
   "execution_count": 7,
   "id": "9d99d4b3",
   "metadata": {},
   "outputs": [],
   "source": [
    "## 処理時間計測\n",
    "@contextmanager\n",
    "def timer(name:str, slack:bool=False):\n",
    "    t0 = time.time()\n",
    "    p = psutil.Process(os.getpid())\n",
    "    m0 = p.memory_info()[0] / 2. ** 30\n",
    "    print(f'<< {name} >> Start')\n",
    "    yield\n",
    "    \n",
    "    m1 = p.memory_info()[0] / 2. ** 30\n",
    "    delta = m1 - m0\n",
    "    sign = '+' if delta >= 0 else '-'\n",
    "    delta = math.fabs(delta)\n",
    "    \n",
    "    print(f\"<< {name} >> {m1:.1f}GB({sign}{delta:.1f}GB):{time.time() - t0:.1f}sec\", file=sys.stderr)"
   ]
  },
  {
   "cell_type": "markdown",
   "id": "faaa5c55",
   "metadata": {
    "id": "zWE2XhHeTFos"
   },
   "source": [
    "<br>\n",
    "<h1 style = \"font-size:45px; font-family:Comic Sans MS ; font-weight : normal; background-color: #4c1c84 ; color : #eeebf1; text-align: center; border-radius: 100px 100px;\">\n",
    "    Data Load\n",
    "</h1>\n",
    "<br>"
   ]
  },
  {
   "cell_type": "code",
   "execution_count": 8,
   "id": "efad52c7",
   "metadata": {
    "colab": {
     "base_uri": "https://localhost:8080/"
    },
    "id": "3DFxNX0CTD9t",
    "outputId": "240b449b-9f09-4519-d155-b4f865053621"
   },
   "outputs": [
    {
     "name": "stdout",
     "output_type": "stream",
     "text": [
      "/mnt/work/data/kaggle/Jigsaw/comments_to_score.csv\n",
      "/mnt/work/data/kaggle/Jigsaw/sample_submission.csv\n",
      "/mnt/work/data/kaggle/Jigsaw/validation_data.csv\n"
     ]
    }
   ],
   "source": [
    "## Data Check\n",
    "for dirnames, _, filenames in os.walk(INPUT_DIR):\n",
    "    \n",
    "    for filename in filenames:\n",
    "\n",
    "        print(f'{dirnames}/{filename}')"
   ]
  },
  {
   "cell_type": "code",
   "execution_count": 9,
   "id": "b90e7dcd",
   "metadata": {},
   "outputs": [
    {
     "data": {
      "text/html": [
       "<div>\n",
       "<style scoped>\n",
       "    .dataframe tbody tr th:only-of-type {\n",
       "        vertical-align: middle;\n",
       "    }\n",
       "\n",
       "    .dataframe tbody tr th {\n",
       "        vertical-align: top;\n",
       "    }\n",
       "\n",
       "    .dataframe thead th {\n",
       "        text-align: right;\n",
       "    }\n",
       "</style>\n",
       "<table border=\"1\" class=\"dataframe\">\n",
       "  <thead>\n",
       "    <tr style=\"text-align: right;\">\n",
       "      <th></th>\n",
       "      <th>worker</th>\n",
       "      <th>less_toxic</th>\n",
       "      <th>more_toxic</th>\n",
       "    </tr>\n",
       "  </thead>\n",
       "  <tbody>\n",
       "    <tr>\n",
       "      <th>0</th>\n",
       "      <td>313</td>\n",
       "      <td>This article sucks \\n\\nwoo woo wooooooo</td>\n",
       "      <td>WHAT!!!!!!!!?!?!!?!?!!?!?!?!?!!!!!!!!!!!!!!!!!...</td>\n",
       "    </tr>\n",
       "    <tr>\n",
       "      <th>1</th>\n",
       "      <td>188</td>\n",
       "      <td>\"And yes, people should recognize that but the...</td>\n",
       "      <td>Daphne Guinness \\n\\nTop of the mornin' my fav...</td>\n",
       "    </tr>\n",
       "    <tr>\n",
       "      <th>2</th>\n",
       "      <td>82</td>\n",
       "      <td>Western Media?\\n\\nYup, because every crime in...</td>\n",
       "      <td>\"Atom you don't believe actual photos of mastu...</td>\n",
       "    </tr>\n",
       "    <tr>\n",
       "      <th>3</th>\n",
       "      <td>347</td>\n",
       "      <td>And you removed it! You numbskull! I don't car...</td>\n",
       "      <td>You seem to have sand in your vagina.\\n\\nMight...</td>\n",
       "    </tr>\n",
       "    <tr>\n",
       "      <th>4</th>\n",
       "      <td>539</td>\n",
       "      <td>smelly vagina \\n\\nBluerasberry why don't you ...</td>\n",
       "      <td>hey \\n\\nway to support nazis, you racist</td>\n",
       "    </tr>\n",
       "  </tbody>\n",
       "</table>\n",
       "</div>"
      ],
      "text/plain": [
       "   worker                                         less_toxic  \\\n",
       "0     313            This article sucks \\n\\nwoo woo wooooooo   \n",
       "1     188  \"And yes, people should recognize that but the...   \n",
       "2      82   Western Media?\\n\\nYup, because every crime in...   \n",
       "3     347  And you removed it! You numbskull! I don't car...   \n",
       "4     539   smelly vagina \\n\\nBluerasberry why don't you ...   \n",
       "\n",
       "                                          more_toxic  \n",
       "0  WHAT!!!!!!!!?!?!!?!?!!?!?!?!?!!!!!!!!!!!!!!!!!...  \n",
       "1   Daphne Guinness \\n\\nTop of the mornin' my fav...  \n",
       "2  \"Atom you don't believe actual photos of mastu...  \n",
       "3  You seem to have sand in your vagina.\\n\\nMight...  \n",
       "4           hey \\n\\nway to support nazis, you racist  "
      ]
     },
     "metadata": {},
     "output_type": "display_data"
    },
    {
     "data": {
      "text/html": [
       "<div>\n",
       "<style scoped>\n",
       "    .dataframe tbody tr th:only-of-type {\n",
       "        vertical-align: middle;\n",
       "    }\n",
       "\n",
       "    .dataframe tbody tr th {\n",
       "        vertical-align: top;\n",
       "    }\n",
       "\n",
       "    .dataframe thead th {\n",
       "        text-align: right;\n",
       "    }\n",
       "</style>\n",
       "<table border=\"1\" class=\"dataframe\">\n",
       "  <thead>\n",
       "    <tr style=\"text-align: right;\">\n",
       "      <th></th>\n",
       "      <th>comment_id</th>\n",
       "      <th>text</th>\n",
       "    </tr>\n",
       "  </thead>\n",
       "  <tbody>\n",
       "    <tr>\n",
       "      <th>0</th>\n",
       "      <td>114890</td>\n",
       "      <td>\"\\n \\n\\nGjalexei, you asked about whether ther...</td>\n",
       "    </tr>\n",
       "    <tr>\n",
       "      <th>1</th>\n",
       "      <td>732895</td>\n",
       "      <td>Looks like be have an abuser , can you please ...</td>\n",
       "    </tr>\n",
       "    <tr>\n",
       "      <th>2</th>\n",
       "      <td>1139051</td>\n",
       "      <td>I confess to having complete (and apparently b...</td>\n",
       "    </tr>\n",
       "    <tr>\n",
       "      <th>3</th>\n",
       "      <td>1434512</td>\n",
       "      <td>\"\\n\\nFreud's ideas are certainly much discusse...</td>\n",
       "    </tr>\n",
       "    <tr>\n",
       "      <th>4</th>\n",
       "      <td>2084821</td>\n",
       "      <td>It is not just you. This is a laundry list of ...</td>\n",
       "    </tr>\n",
       "  </tbody>\n",
       "</table>\n",
       "</div>"
      ],
      "text/plain": [
       "   comment_id                                               text\n",
       "0      114890  \"\\n \\n\\nGjalexei, you asked about whether ther...\n",
       "1      732895  Looks like be have an abuser , can you please ...\n",
       "2     1139051  I confess to having complete (and apparently b...\n",
       "3     1434512  \"\\n\\nFreud's ideas are certainly much discusse...\n",
       "4     2084821  It is not just you. This is a laundry list of ..."
      ]
     },
     "metadata": {},
     "output_type": "display_data"
    }
   ],
   "source": [
    "val_df = pd.read_csv(\"/mnt/work/data/kaggle/Jigsaw/validation_data.csv\")\n",
    "test_df = pd.read_csv(\"/mnt/work/data/kaggle/Jigsaw/comments_to_score.csv\")\n",
    "\n",
    "display(val_df.head())\n",
    "display(test_df.head())"
   ]
  },
  {
   "cell_type": "markdown",
   "id": "a2e9460b",
   "metadata": {},
   "source": [
    "<br>\n",
    "<h2 style = \"font-size:45px;\n",
    "             font-family:Comic Sans MS ;\n",
    "             font-weight : normal; \n",
    "             background-color: #eeebf1 ;\n",
    "             color : #4c1c84;\n",
    "             text-align: center;\n",
    "             border-radius: 100px 100px;\">\n",
    "    Jigsaw Classification\n",
    "</h2>\n",
    "<br>"
   ]
  },
  {
   "cell_type": "code",
   "execution_count": 10,
   "id": "e4f1bf5f",
   "metadata": {},
   "outputs": [
    {
     "data": {
      "text/html": [
       "<div>\n",
       "<style scoped>\n",
       "    .dataframe tbody tr th:only-of-type {\n",
       "        vertical-align: middle;\n",
       "    }\n",
       "\n",
       "    .dataframe tbody tr th {\n",
       "        vertical-align: top;\n",
       "    }\n",
       "\n",
       "    .dataframe thead th {\n",
       "        text-align: right;\n",
       "    }\n",
       "</style>\n",
       "<table border=\"1\" class=\"dataframe\">\n",
       "  <thead>\n",
       "    <tr style=\"text-align: right;\">\n",
       "      <th></th>\n",
       "      <th>id</th>\n",
       "      <th>comment_text</th>\n",
       "      <th>toxic</th>\n",
       "      <th>severe_toxic</th>\n",
       "      <th>obscene</th>\n",
       "      <th>threat</th>\n",
       "      <th>insult</th>\n",
       "      <th>identity_hate</th>\n",
       "    </tr>\n",
       "  </thead>\n",
       "  <tbody>\n",
       "    <tr>\n",
       "      <th>0</th>\n",
       "      <td>0000997932d777bf</td>\n",
       "      <td>Explanation\\nWhy the edits made under my usern...</td>\n",
       "      <td>0</td>\n",
       "      <td>0</td>\n",
       "      <td>0</td>\n",
       "      <td>0</td>\n",
       "      <td>0</td>\n",
       "      <td>0</td>\n",
       "    </tr>\n",
       "    <tr>\n",
       "      <th>1</th>\n",
       "      <td>000103f0d9cfb60f</td>\n",
       "      <td>D'aww! He matches this background colour I'm s...</td>\n",
       "      <td>0</td>\n",
       "      <td>0</td>\n",
       "      <td>0</td>\n",
       "      <td>0</td>\n",
       "      <td>0</td>\n",
       "      <td>0</td>\n",
       "    </tr>\n",
       "    <tr>\n",
       "      <th>2</th>\n",
       "      <td>000113f07ec002fd</td>\n",
       "      <td>Hey man, I'm really not trying to edit war. It...</td>\n",
       "      <td>0</td>\n",
       "      <td>0</td>\n",
       "      <td>0</td>\n",
       "      <td>0</td>\n",
       "      <td>0</td>\n",
       "      <td>0</td>\n",
       "    </tr>\n",
       "    <tr>\n",
       "      <th>3</th>\n",
       "      <td>0001b41b1c6bb37e</td>\n",
       "      <td>\"\\nMore\\nI can't make any real suggestions on ...</td>\n",
       "      <td>0</td>\n",
       "      <td>0</td>\n",
       "      <td>0</td>\n",
       "      <td>0</td>\n",
       "      <td>0</td>\n",
       "      <td>0</td>\n",
       "    </tr>\n",
       "    <tr>\n",
       "      <th>4</th>\n",
       "      <td>0001d958c54c6e35</td>\n",
       "      <td>You, sir, are my hero. Any chance you remember...</td>\n",
       "      <td>0</td>\n",
       "      <td>0</td>\n",
       "      <td>0</td>\n",
       "      <td>0</td>\n",
       "      <td>0</td>\n",
       "      <td>0</td>\n",
       "    </tr>\n",
       "    <tr>\n",
       "      <th>5</th>\n",
       "      <td>00025465d4725e87</td>\n",
       "      <td>\"\\n\\nCongratulations from me as well, use the ...</td>\n",
       "      <td>0</td>\n",
       "      <td>0</td>\n",
       "      <td>0</td>\n",
       "      <td>0</td>\n",
       "      <td>0</td>\n",
       "      <td>0</td>\n",
       "    </tr>\n",
       "    <tr>\n",
       "      <th>6</th>\n",
       "      <td>0002bcb3da6cb337</td>\n",
       "      <td>COCKSUCKER BEFORE YOU PISS AROUND ON MY WORK</td>\n",
       "      <td>1</td>\n",
       "      <td>1</td>\n",
       "      <td>1</td>\n",
       "      <td>0</td>\n",
       "      <td>1</td>\n",
       "      <td>0</td>\n",
       "    </tr>\n",
       "    <tr>\n",
       "      <th>7</th>\n",
       "      <td>00031b1e95af7921</td>\n",
       "      <td>Your vandalism to the Matt Shirvington article...</td>\n",
       "      <td>0</td>\n",
       "      <td>0</td>\n",
       "      <td>0</td>\n",
       "      <td>0</td>\n",
       "      <td>0</td>\n",
       "      <td>0</td>\n",
       "    </tr>\n",
       "    <tr>\n",
       "      <th>8</th>\n",
       "      <td>00037261f536c51d</td>\n",
       "      <td>Sorry if the word 'nonsense' was offensive to ...</td>\n",
       "      <td>0</td>\n",
       "      <td>0</td>\n",
       "      <td>0</td>\n",
       "      <td>0</td>\n",
       "      <td>0</td>\n",
       "      <td>0</td>\n",
       "    </tr>\n",
       "    <tr>\n",
       "      <th>9</th>\n",
       "      <td>00040093b2687caa</td>\n",
       "      <td>alignment on this subject and which are contra...</td>\n",
       "      <td>0</td>\n",
       "      <td>0</td>\n",
       "      <td>0</td>\n",
       "      <td>0</td>\n",
       "      <td>0</td>\n",
       "      <td>0</td>\n",
       "    </tr>\n",
       "  </tbody>\n",
       "</table>\n",
       "</div>"
      ],
      "text/plain": [
       "                 id                                       comment_text  toxic  \\\n",
       "0  0000997932d777bf  Explanation\\nWhy the edits made under my usern...      0   \n",
       "1  000103f0d9cfb60f  D'aww! He matches this background colour I'm s...      0   \n",
       "2  000113f07ec002fd  Hey man, I'm really not trying to edit war. It...      0   \n",
       "3  0001b41b1c6bb37e  \"\\nMore\\nI can't make any real suggestions on ...      0   \n",
       "4  0001d958c54c6e35  You, sir, are my hero. Any chance you remember...      0   \n",
       "5  00025465d4725e87  \"\\n\\nCongratulations from me as well, use the ...      0   \n",
       "6  0002bcb3da6cb337       COCKSUCKER BEFORE YOU PISS AROUND ON MY WORK      1   \n",
       "7  00031b1e95af7921  Your vandalism to the Matt Shirvington article...      0   \n",
       "8  00037261f536c51d  Sorry if the word 'nonsense' was offensive to ...      0   \n",
       "9  00040093b2687caa  alignment on this subject and which are contra...      0   \n",
       "\n",
       "   severe_toxic  obscene  threat  insult  identity_hate  \n",
       "0             0        0       0       0              0  \n",
       "1             0        0       0       0              0  \n",
       "2             0        0       0       0              0  \n",
       "3             0        0       0       0              0  \n",
       "4             0        0       0       0              0  \n",
       "5             0        0       0       0              0  \n",
       "6             1        1       0       1              0  \n",
       "7             0        0       0       0              0  \n",
       "8             0        0       0       0              0  \n",
       "9             0        0       0       0              0  "
      ]
     },
     "metadata": {},
     "output_type": "display_data"
    },
    {
     "data": {
      "text/plain": [
       "(159571, 8)"
      ]
     },
     "metadata": {},
     "output_type": "display_data"
    }
   ],
   "source": [
    "train_df = pd.read_csv(\"../data/external/jigsaw-classification/train.csv.zip\")\n",
    "display(train_df.head(10))\n",
    "display(train_df.shape)"
   ]
  },
  {
   "cell_type": "code",
   "execution_count": 11,
   "id": "4dca7a51",
   "metadata": {},
   "outputs": [
    {
     "data": {
      "application/vnd.jupyter.widget-view+json": {
       "model_id": "37c327a96a1b447b80616ba303f168a4",
       "version_major": 2,
       "version_minor": 0
      },
      "text/plain": [
       "  0%|          | 0/159571 [00:00<?, ?it/s]"
      ]
     },
     "metadata": {},
     "output_type": "display_data"
    }
   ],
   "source": [
    "train_df[\"is_colon\"] = train_df[\"comment_text\"].progress_apply(lambda x:1 if \":\" in x else 0)"
   ]
  },
  {
   "cell_type": "code",
   "execution_count": 12,
   "id": "5d43dc68",
   "metadata": {},
   "outputs": [],
   "source": [
    "def preprocess_text(txt:str) -> str:\n",
    "    \n",
    "    new_texts = txt\n",
    "    new_texts = new_texts.replace(\":\", \",\")\n",
    "    \n",
    "    return new_texts"
   ]
  },
  {
   "cell_type": "code",
   "execution_count": 13,
   "id": "cd2d3ae9",
   "metadata": {},
   "outputs": [
    {
     "data": {
      "application/vnd.jupyter.widget-view+json": {
       "model_id": "c1855f841cf349abaf46f509aebf5b7c",
       "version_major": 2,
       "version_minor": 0
      },
      "text/plain": [
       "  0%|          | 0/159571 [00:00<?, ?it/s]"
      ]
     },
     "metadata": {},
     "output_type": "display_data"
    },
    {
     "data": {
      "application/vnd.jupyter.widget-view+json": {
       "model_id": "b3e9c6e9ffc14bc097bde65559f4ae9b",
       "version_major": 2,
       "version_minor": 0
      },
      "text/plain": [
       "  0%|          | 0/7537 [00:00<?, ?it/s]"
      ]
     },
     "metadata": {},
     "output_type": "display_data"
    },
    {
     "data": {
      "application/vnd.jupyter.widget-view+json": {
       "model_id": "80b8220952054b47ac39c59798054d49",
       "version_major": 2,
       "version_minor": 0
      },
      "text/plain": [
       "  0%|          | 0/30108 [00:00<?, ?it/s]"
      ]
     },
     "metadata": {},
     "output_type": "display_data"
    },
    {
     "data": {
      "application/vnd.jupyter.widget-view+json": {
       "model_id": "0c1f3f6caa3242c5825359aa51fcb132",
       "version_major": 2,
       "version_minor": 0
      },
      "text/plain": [
       "  0%|          | 0/30108 [00:00<?, ?it/s]"
      ]
     },
     "metadata": {},
     "output_type": "display_data"
    }
   ],
   "source": [
    "train_df[\"text\"] = train_df[\"comment_text\"].progress_apply(preprocess_text)\n",
    "test_df[\"text\"] = test_df[\"text\"].progress_apply(preprocess_text)\n",
    "val_df[\"less_toxic\"] = val_df[\"less_toxic\"].progress_apply(preprocess_text)\n",
    "val_df[\"more_toxic\"] = val_df[\"more_toxic\"].progress_apply(preprocess_text)"
   ]
  },
  {
   "cell_type": "code",
   "execution_count": 17,
   "id": "b89f883a",
   "metadata": {},
   "outputs": [],
   "source": [
    "import re\n",
    "\n",
    "spell = SpellChecker(distance=1)\n",
    "\n",
    "def misspelt_words_fn(dataframe: pd.DataFrame, col=\"text\") -> Set[Text]:\n",
    "    misspelt_words = set()\n",
    "    for tweet in dataframe[col].str.casefold():\n",
    "        [misspelt_words.add(word) for word in spell.unknown(tweet.split())]\n",
    "    return misspelt_words\n",
    "\n",
    "\n",
    "WORD = re.compile(r'\\w+')\n",
    "def reTokenize(tweet: Text) -> List[Text]:\n",
    "    return WORD.findall(tweet.casefold())\n",
    "\n",
    "PATTERN = re.compile(r\"(.)\\1{2,}\")\n",
    "def reduce_lengthening(text: Text) -> Text:\n",
    "    return PATTERN.sub(r\"\\1\\1\", text)\n",
    "\n",
    "def spell_correction(text: Text) -> Text:\n",
    "    return ' '.join([spell.correction(word)\n",
    "                     if word in misspelt_words else word\n",
    "                     for word in reTokenize(reduce_lengthening(text))])\n"
   ]
  },
  {
   "cell_type": "code",
   "execution_count": 18,
   "id": "29b082fd",
   "metadata": {},
   "outputs": [
    {
     "data": {
      "application/vnd.jupyter.widget-view+json": {
       "model_id": "820974ee4f3245229bfd3d01a546f1f6",
       "version_major": 2,
       "version_minor": 0
      },
      "text/plain": [
       "  0%|          | 0/159571 [00:00<?, ?it/s]"
      ]
     },
     "metadata": {},
     "output_type": "display_data"
    },
    {
     "data": {
      "application/vnd.jupyter.widget-view+json": {
       "model_id": "7138ce01f1e84931827916ddae1d07c9",
       "version_major": 2,
       "version_minor": 0
      },
      "text/plain": [
       "  0%|          | 0/7537 [00:00<?, ?it/s]"
      ]
     },
     "metadata": {},
     "output_type": "display_data"
    },
    {
     "data": {
      "application/vnd.jupyter.widget-view+json": {
       "model_id": "f1d4b9fbcc7744928ce64dcdfd56c06a",
       "version_major": 2,
       "version_minor": 0
      },
      "text/plain": [
       "  0%|          | 0/30108 [00:00<?, ?it/s]"
      ]
     },
     "metadata": {},
     "output_type": "display_data"
    },
    {
     "data": {
      "application/vnd.jupyter.widget-view+json": {
       "model_id": "626eaae3fdcc4734b9e8cddde812795b",
       "version_major": 2,
       "version_minor": 0
      },
      "text/plain": [
       "  0%|          | 0/30108 [00:00<?, ?it/s]"
      ]
     },
     "metadata": {},
     "output_type": "display_data"
    }
   ],
   "source": [
    "misspelt_words = misspelt_words_fn(train_df, \"text\")\n",
    "train_df[\"text\"] = train_df[\"text\"].progress_apply(spell_correction)\n",
    "\n",
    "misspelt_words = misspelt_words_fn(test_df, \"text\")\n",
    "test_df[\"text\"] = test_df[\"text\"].progress_apply(spell_correction)\n",
    "\n",
    "misspelt_words = misspelt_words_fn(val_df, \"less_toxic\")\n",
    "val_df[\"less_toxic\"] = val_df[\"less_toxic\"].progress_apply(spell_correction)\n",
    "\n",
    "misspelt_words = misspelt_words_fn(val_df, \"more_toxic\")\n",
    "val_df[\"more_toxic\"] = val_df[\"more_toxic\"].progress_apply(spell_correction)"
   ]
  },
  {
   "cell_type": "code",
   "execution_count": 30,
   "id": "e58eaafd",
   "metadata": {},
   "outputs": [
    {
     "data": {
      "image/png": "[encoded data removed]",
      "text/plain": [
       "<Figure size 864x360 with 1 Axes>"
      ]
     },
     "metadata": {
      "needs_background": "light"
     },
     "output_type": "display_data"
    }
   ],
   "source": [
    "target_cols = [\n",
    "    \"toxic\",\n",
    "    \"severe_toxic\",\n",
    "    \"obscene\",\n",
    "    \"threat\",\n",
    "    \"insult\",\n",
    "    \"identity_hate\"\n",
    "]\n",
    "\n",
    "plt.figure(figsize=(12, 5))\n",
    "sns.histplot(train_df[\"toxic\"], color=\"#4c1c84\")\n",
    "plt.grid()\n",
    "plt.show()"
   ]
  },
  {
   "cell_type": "code",
   "execution_count": 31,
   "id": "c31bb0a2",
   "metadata": {},
   "outputs": [
    {
     "data": {
      "text/html": [
       "<div>\n",
       "<style scoped>\n",
       "    .dataframe tbody tr th:only-of-type {\n",
       "        vertical-align: middle;\n",
       "    }\n",
       "\n",
       "    .dataframe tbody tr th {\n",
       "        vertical-align: top;\n",
       "    }\n",
       "\n",
       "    .dataframe thead th {\n",
       "        text-align: right;\n",
       "    }\n",
       "</style>\n",
       "<table border=\"1\" class=\"dataframe\">\n",
       "  <thead>\n",
       "    <tr style=\"text-align: right;\">\n",
       "      <th></th>\n",
       "      <th>id</th>\n",
       "      <th>comment_text</th>\n",
       "      <th>toxic</th>\n",
       "      <th>severe_toxic</th>\n",
       "      <th>obscene</th>\n",
       "      <th>threat</th>\n",
       "      <th>insult</th>\n",
       "      <th>identity_hate</th>\n",
       "      <th>is_colon</th>\n",
       "      <th>text</th>\n",
       "      <th>kfold</th>\n",
       "    </tr>\n",
       "  </thead>\n",
       "  <tbody>\n",
       "    <tr>\n",
       "      <th>0</th>\n",
       "      <td>0000997932d777bf</td>\n",
       "      <td>Explanation\\nWhy the edits made under my usern...</td>\n",
       "      <td>0</td>\n",
       "      <td>0</td>\n",
       "      <td>0</td>\n",
       "      <td>0</td>\n",
       "      <td>0</td>\n",
       "      <td>0</td>\n",
       "      <td>0</td>\n",
       "      <td>explanation why the edits made under my userna...</td>\n",
       "      <td>0</td>\n",
       "    </tr>\n",
       "    <tr>\n",
       "      <th>1</th>\n",
       "      <td>000103f0d9cfb60f</td>\n",
       "      <td>D'aww! He matches this background colour I'm s...</td>\n",
       "      <td>0</td>\n",
       "      <td>0</td>\n",
       "      <td>0</td>\n",
       "      <td>0</td>\n",
       "      <td>0</td>\n",
       "      <td>0</td>\n",
       "      <td>1</td>\n",
       "      <td>i aww he matches this background colour i i se...</td>\n",
       "      <td>2</td>\n",
       "    </tr>\n",
       "    <tr>\n",
       "      <th>2</th>\n",
       "      <td>000113f07ec002fd</td>\n",
       "      <td>Hey man, I'm really not trying to edit war. It...</td>\n",
       "      <td>0</td>\n",
       "      <td>0</td>\n",
       "      <td>0</td>\n",
       "      <td>0</td>\n",
       "      <td>0</td>\n",
       "      <td>0</td>\n",
       "      <td>0</td>\n",
       "      <td>hey man i i really not trying to edit war it i...</td>\n",
       "      <td>3</td>\n",
       "    </tr>\n",
       "    <tr>\n",
       "      <th>3</th>\n",
       "      <td>0001b41b1c6bb37e</td>\n",
       "      <td>\"\\nMore\\nI can't make any real suggestions on ...</td>\n",
       "      <td>0</td>\n",
       "      <td>0</td>\n",
       "      <td>0</td>\n",
       "      <td>0</td>\n",
       "      <td>0</td>\n",
       "      <td>0</td>\n",
       "      <td>1</td>\n",
       "      <td>more i can i make any real suggestions on impr...</td>\n",
       "      <td>2</td>\n",
       "    </tr>\n",
       "    <tr>\n",
       "      <th>4</th>\n",
       "      <td>0001d958c54c6e35</td>\n",
       "      <td>You, sir, are my hero. Any chance you remember...</td>\n",
       "      <td>0</td>\n",
       "      <td>0</td>\n",
       "      <td>0</td>\n",
       "      <td>0</td>\n",
       "      <td>0</td>\n",
       "      <td>0</td>\n",
       "      <td>0</td>\n",
       "      <td>you sir are my hero any chance you remember wh...</td>\n",
       "      <td>0</td>\n",
       "    </tr>\n",
       "  </tbody>\n",
       "</table>\n",
       "</div>"
      ],
      "text/plain": [
       "                 id                                       comment_text  toxic  \\\n",
       "0  0000997932d777bf  Explanation\\nWhy the edits made under my usern...      0   \n",
       "1  000103f0d9cfb60f  D'aww! He matches this background colour I'm s...      0   \n",
       "2  000113f07ec002fd  Hey man, I'm really not trying to edit war. It...      0   \n",
       "3  0001b41b1c6bb37e  \"\\nMore\\nI can't make any real suggestions on ...      0   \n",
       "4  0001d958c54c6e35  You, sir, are my hero. Any chance you remember...      0   \n",
       "\n",
       "   severe_toxic  obscene  threat  insult  identity_hate  is_colon  \\\n",
       "0             0        0       0       0              0         0   \n",
       "1             0        0       0       0              0         1   \n",
       "2             0        0       0       0              0         0   \n",
       "3             0        0       0       0              0         1   \n",
       "4             0        0       0       0              0         0   \n",
       "\n",
       "                                                text  kfold  \n",
       "0  explanation why the edits made under my userna...      0  \n",
       "1  i aww he matches this background colour i i se...      2  \n",
       "2  hey man i i really not trying to edit war it i...      3  \n",
       "3  more i can i make any real suggestions on impr...      2  \n",
       "4  you sir are my hero any chance you remember wh...      0  "
      ]
     },
     "execution_count": 31,
     "metadata": {},
     "output_type": "execute_result"
    }
   ],
   "source": [
    "train_df.head()"
   ]
  },
  {
   "cell_type": "markdown",
   "id": "e8ca7b4f",
   "metadata": {},
   "source": [
    "<br>\n",
    "<h1 style = \"font-size:45px; font-family:Comic Sans MS ; font-weight : normal; background-color: #4c1c84 ; color : #eeebf1; text-align: center; border-radius: 100px 100px;\">\n",
    "    Pytorch Dataset\n",
    "</h1>\n",
    "<br>"
   ]
  },
  {
   "cell_type": "code",
   "execution_count": null,
   "id": "cd4a09c0",
   "metadata": {},
   "outputs": [],
   "source": []
  },
  {
   "cell_type": "code",
   "execution_count": 32,
   "id": "9fe0d735",
   "metadata": {},
   "outputs": [],
   "source": [
    "class JigsawDataset:\n",
    "    \n",
    "    def __init__(self, df, tokenizer, max_length, mode, target_cols):\n",
    "        \n",
    "        self.df = df\n",
    "        self.max_len = max_length\n",
    "        self.tokenizer = tokenizer\n",
    "        self.mode = mode\n",
    "        self.target_cols = target_cols\n",
    "        \n",
    "        if self.mode == \"train\":\n",
    "            self.text = df[\"text\"].values\n",
    "            self.target = df[target_cols].values\n",
    "            \n",
    "        elif self.mode == \"valid\":\n",
    "            self.more_toxic = df[\"more_toxic\"].values\n",
    "            self.less_toxic = df[\"less_toxic\"].values\n",
    "            \n",
    "        else:\n",
    "            self.text = df[\"text\"].values\n",
    "            \n",
    "    def __len__(self):\n",
    "        return len(self.df)\n",
    "    \n",
    "    def __getitem__(self, index):\n",
    "        \n",
    "        if self.mode == \"train\":\n",
    "            \n",
    "            text = self.text[index]\n",
    "            target = self.target[index]\n",
    "            \n",
    "            inputs_text = self.tokenizer.encode_plus(\n",
    "                text,\n",
    "                truncation=True,\n",
    "                return_attention_mask=True,\n",
    "                return_token_type_ids=True,\n",
    "                max_length = self.max_len,\n",
    "                padding=\"max_length\",\n",
    "            )\n",
    "            \n",
    "            text_ids = inputs_text[\"input_ids\"]\n",
    "            text_mask = inputs_text[\"attention_mask\"]\n",
    "            text_token_type_ids = inputs_text[\"token_type_ids\"]\n",
    "\n",
    "            return {\n",
    "                'text_ids': torch.tensor(text_ids, dtype=torch.long),\n",
    "                'text_mask': torch.tensor(text_mask, dtype=torch.long),\n",
    "                'text_token_type_ids': torch.tensor(text_token_type_ids, dtype=torch.long),\n",
    "                'target': torch.tensor(target, dtype=torch.float)\n",
    "            }\n",
    "        \n",
    "        elif self.mode == \"valid\":\n",
    "            \n",
    "            more_toxic = self.more_toxic[index]\n",
    "            less_toxic = self.less_toxic[index]\n",
    "\n",
    "            inputs_more_toxic = self.tokenizer.encode_plus(\n",
    "                more_toxic,\n",
    "                truncation=True,\n",
    "                return_attention_mask=True,\n",
    "                return_token_type_ids=True,\n",
    "                max_length = self.max_len,\n",
    "                padding=\"max_length\",\n",
    "            )\n",
    "\n",
    "            inputs_less_toxic = self.tokenizer.encode_plus(\n",
    "                less_toxic,\n",
    "                truncation=True,\n",
    "                return_attention_mask=True,\n",
    "                return_token_type_ids=True,\n",
    "                max_length = self.max_len,\n",
    "                padding=\"max_length\",\n",
    "            )\n",
    "            \n",
    "            target = 1\n",
    "\n",
    "            more_toxic_ids = inputs_more_toxic[\"input_ids\"]\n",
    "            more_toxic_mask = inputs_more_toxic[\"attention_mask\"]\n",
    "            more_token_type_ids = inputs_more_toxic[\"token_type_ids\"]\n",
    "\n",
    "            less_toxic_ids = inputs_less_toxic[\"input_ids\"]\n",
    "            less_toxic_mask = inputs_less_toxic[\"attention_mask\"]\n",
    "            less_token_type_ids = inputs_less_toxic[\"token_type_ids\"]\n",
    "            \n",
    "            return {\n",
    "                'more_toxic_ids': torch.tensor(more_toxic_ids, dtype=torch.long),\n",
    "                'more_toxic_mask': torch.tensor(more_toxic_mask, dtype=torch.long),\n",
    "                'more_token_type_ids': torch.tensor(more_token_type_ids, dtype=torch.long),\n",
    "                \n",
    "                'less_toxic_ids': torch.tensor(less_toxic_ids, dtype=torch.long),\n",
    "                'less_toxic_mask': torch.tensor(less_toxic_mask, dtype=torch.long),\n",
    "                'less_token_type_ids': torch.tensor(less_token_type_ids, dtype=torch.long),\n",
    "                \n",
    "                'target': torch.tensor(target, dtype=torch.float)\n",
    "            }\n",
    "        \n",
    "        else:\n",
    "            \n",
    "            text = self.text[index]\n",
    "            \n",
    "            inputs_text = self.tokenizer.encode_plus(\n",
    "                text,\n",
    "                truncation=True,\n",
    "                return_attention_mask=True,\n",
    "                return_token_type_ids=True,\n",
    "                max_length = self.max_len,\n",
    "                padding=\"max_length\",\n",
    "            )\n",
    "            \n",
    "            text_ids = inputs_text[\"input_ids\"]\n",
    "            text_mask = inputs_text[\"attention_mask\"]\n",
    "            text_token_type_ids = inputs_text[\"token_type_ids\"]\n",
    "\n",
    "            return {\n",
    "                'text_ids': torch.tensor(text_ids, dtype=torch.long),\n",
    "                'text_mask': torch.tensor(text_mask, dtype=torch.long),\n",
    "                'text_token_type_ids': torch.tensor(text_token_type_ids, dtype=torch.long),\n",
    "            }"
   ]
  },
  {
   "cell_type": "markdown",
   "id": "3f19f70a",
   "metadata": {},
   "source": [
    "<br>\n",
    "<h2 style = \"font-size:45px;\n",
    "             font-family:Comic Sans MS ;\n",
    "             font-weight : normal;\n",
    "             background-color: #eeebf1 ;\n",
    "             color : #4c1c84;\n",
    "             text-align: center; \n",
    "             border-radius: 100px 100px;\">\n",
    "    DataModule\n",
    "</h2>\n",
    "<br>"
   ]
  },
  {
   "cell_type": "code",
   "execution_count": 33,
   "id": "1a23c675",
   "metadata": {},
   "outputs": [],
   "source": [
    "class JigsawDataModule(LightningDataModule):\n",
    "\n",
    "    def __init__(self, train_df, valid_df, test_df, cfg):\n",
    "\n",
    "        super().__init__()\n",
    "        self._train_df = train_df\n",
    "        self._valid_df = valid_df\n",
    "        self._test_df = test_df\n",
    "        self._cfg = cfg\n",
    "\n",
    "    def train_dataloader(self):\n",
    "        dataset = JigsawDataset(\n",
    "            df=self._train_df, \n",
    "            tokenizer=self._cfg.tokenizer,\n",
    "            max_length=self._cfg.max_length,\n",
    "            mode=\"train\",\n",
    "            target_cols=target_cols\n",
    "            )\n",
    "        return DataLoader(dataset, **self._cfg.train_loader)\n",
    "\n",
    "    def val_dataloader(self):\n",
    "        dataset = JigsawDataset(\n",
    "            df=self._valid_df, \n",
    "            tokenizer=self._cfg.tokenizer,\n",
    "            max_length=self._cfg.max_length,\n",
    "            mode=\"valid\",\n",
    "            target_cols=target_cols\n",
    "            )\n",
    "        return DataLoader(dataset, **self._cfg.valid_loader)\n",
    "\n",
    "    def test_dataloader(self):\n",
    "        dataset = JigsawDataset(\n",
    "            df=self._test_df,\n",
    "            tokenizer = self._cfg.tokenizer,\n",
    "            max_length=self._cfg.max_length,\n",
    "            mode=\"test\",\n",
    "            target_cols=target_cols\n",
    "        )\n",
    "\n",
    "        return DataLoader(dataset, **self._cfg.test_loader)"
   ]
  },
  {
   "cell_type": "code",
   "execution_count": 34,
   "id": "6a499c8e",
   "metadata": {},
   "outputs": [],
   "source": [
    "## DataCheck\n",
    "seed_everything(config.seed)\n",
    "\n",
    "sample_dataloader = JigsawDataModule(train_df, val_df, test_df, config).train_dataloader()\n",
    "for data in sample_dataloader:\n",
    "    break"
   ]
  },
  {
   "cell_type": "code",
   "execution_count": 35,
   "id": "16fd76ca",
   "metadata": {},
   "outputs": [
    {
     "name": "stdout",
     "output_type": "stream",
     "text": [
      "torch.Size([8, 256])\n",
      "torch.Size([8, 256])\n",
      "torch.Size([8, 256])\n",
      "torch.Size([8, 6])\n",
      "tensor([[0., 0., 0., 0., 0., 0.],\n",
      "        [0., 0., 0., 0., 0., 0.],\n",
      "        [0., 0., 0., 0., 0., 0.],\n",
      "        [0., 0., 0., 0., 0., 0.],\n",
      "        [0., 0., 0., 0., 0., 0.],\n",
      "        [0., 0., 0., 0., 0., 0.],\n",
      "        [0., 0., 0., 0., 0., 0.],\n",
      "        [0., 0., 0., 0., 0., 0.]])\n",
      "torch.Size([8, 256, 768]) torch.Size([8, 12, 256, 256])\n",
      "torch.Size([8, 768]) torch.Size([8, 12, 256, 256])\n"
     ]
    }
   ],
   "source": [
    "print(data[\"text_ids\"].size())\n",
    "print(data[\"text_mask\"].size())\n",
    "print(data[\"text_token_type_ids\"].size())\n",
    "print(data[\"target\"].size())\n",
    "print(data[\"target\"])\n",
    "output = config.model(\n",
    "    data[\"text_ids\"],\n",
    "    data[\"text_mask\"],\n",
    "    data[\"text_token_type_ids\"],\n",
    "    output_hidden_states=True,\n",
    "    output_attentions=True,\n",
    ")\n",
    "print(output[\"hidden_states\"][-1].size(), output[\"attentions\"][-1].size())\n",
    "print(output[\"hidden_states\"][-1][:, 0, :].size(), output[\"attentions\"][-1].size())"
   ]
  },
  {
   "cell_type": "markdown",
   "id": "b1b18cb1",
   "metadata": {},
   "source": [
    "<br>\n",
    "<h2 style = \"font-size:45px;\n",
    "             font-family:Comic Sans MS ;\n",
    "             font-weight : normal;\n",
    "             background-color: #eeebf1 ;\n",
    "             color : #4c1c84;\n",
    "             text-align: center; \n",
    "             border-radius: 100px 100px;\">\n",
    "    LigitningModule\n",
    "</h2>\n",
    "<br>"
   ]
  },
  {
   "cell_type": "code",
   "execution_count": 36,
   "id": "e9f8f433",
   "metadata": {},
   "outputs": [],
   "source": [
    "class JigsawModel(pl.LightningModule):\n",
    "    \n",
    "    def __init__(self, cfg, fold_num):\n",
    "        \n",
    "        super().__init__()\n",
    "        self.cfg = cfg\n",
    "        self.__build_model()\n",
    "        self.criterion = eval(self.cfg.loss)()\n",
    "        self.save_hyperparameters(cfg)\n",
    "        self.fold_num = fold_num\n",
    "        \n",
    "    def __build_model(self):\n",
    "        \n",
    "        self.base_model = BertForMaskedLM.from_pretrained(\n",
    "            self.cfg.backbone.name\n",
    "        )\n",
    "        print(f\"Use Model: {self.cfg.backbone.name}\")\n",
    "        self.norm = nn.LayerNorm(768)\n",
    "        self.drop = nn.Dropout(p=0.3)\n",
    "        self.head = nn.Linear(768, self.cfg.backbone.output_dim)\n",
    "        \n",
    "    def forward(self, ids, mask, token_type_ids):\n",
    "        \n",
    "        output = self.base_model(\n",
    "            input_ids=ids, \n",
    "            attention_mask=mask,\n",
    "            token_type_ids=token_type_ids,\n",
    "            output_hidden_states=True,\n",
    "            output_attentions=True\n",
    "        )\n",
    "        feature = self.norm(output[\"hidden_states\"][-1][:, 0, :])\n",
    "        out = self.drop(feature)\n",
    "        out = self.head(out)\n",
    "        \n",
    "        return {\n",
    "            \"logits\":out, \n",
    "            \"feature\":feature,\n",
    "            \"attention\":output[\"attentions\"], \n",
    "            \"mask\":mask,\n",
    "        }\n",
    "    \n",
    "    def training_step(self, batch, batch_idx):\n",
    "        \n",
    "        text_ids = batch[\"text_ids\"]\n",
    "        text_mask = batch['text_mask']\n",
    "        text_token_type_ids = batch['text_token_type_ids']\n",
    "        targets = batch['target']\n",
    "        \n",
    "        outputs = self.forward(text_ids, text_mask, text_token_type_ids)\n",
    "        loss = torch.sqrt(self.criterion(outputs[\"logits\"], targets))\n",
    "        \n",
    "        return {\n",
    "            \"loss\":loss,\n",
    "            \"targets\":targets,\n",
    "        }\n",
    "    \n",
    "    def training_epoch_end(self, training_step_outputs):\n",
    "\n",
    "        loss_list = []\n",
    "\n",
    "        for out in training_step_outputs:\n",
    "\n",
    "            loss_list.extend([out[\"loss\"].cpu().detach().tolist()])\n",
    "\n",
    "        meanloss = sum(loss_list)/len(loss_list)\n",
    "\n",
    "        logs = {f\"train_loss/fold{self.fold_num+1}\": meanloss,}\n",
    "\n",
    "        self.log_dict(\n",
    "            logs,\n",
    "            on_step=False,\n",
    "            on_epoch=True,\n",
    "            prog_bar=True,\n",
    "            logger=True\n",
    "        )\n",
    "        \n",
    "    def validation_step(self, batch, batch_idx):\n",
    "\n",
    "        more_toxic_ids = batch['more_toxic_ids']\n",
    "        more_toxic_mask = batch['more_toxic_mask']\n",
    "        more_text_token_type_ids = batch['more_token_type_ids']\n",
    "        \n",
    "        less_toxic_ids = batch['less_toxic_ids']\n",
    "        less_toxic_mask = batch['less_toxic_mask']\n",
    "        less_text_token_type_ids = batch['less_token_type_ids']\n",
    "        \n",
    "        targets = batch['target']\n",
    "\n",
    "        more_outputs = self.forward(\n",
    "            more_toxic_ids, \n",
    "            more_toxic_mask,\n",
    "            more_text_token_type_ids\n",
    "        )\n",
    "        \n",
    "        less_outputs = self.forward(\n",
    "            less_toxic_ids, \n",
    "            less_toxic_mask,\n",
    "            less_text_token_type_ids\n",
    "        )\n",
    "        \n",
    "        \n",
    "        more_outputs = torch.sum(more_outputs[\"logits\"], 1)\n",
    "        less_outputs = torch.sum(less_outputs[\"logits\"], 1)\n",
    "        \n",
    "        outputs = more_outputs - less_outputs\n",
    "        logits = outputs.clone()\n",
    "\n",
    "        logits[logits > 0] = 1\n",
    "        loss = self.criterion(logits, targets)\n",
    "\n",
    "        return {\n",
    "            \"loss\":loss,\n",
    "            \"pred\":outputs,\n",
    "            \"targets\":targets,\n",
    "        }\n",
    "    \n",
    "    \n",
    "    def validation_epoch_end(self, validation_step_outputs):\n",
    "\n",
    "        loss_list = []\n",
    "        pred_list = []\n",
    "        target_list = []\n",
    "\n",
    "        for out in validation_step_outputs:\n",
    "            loss_list.extend([out[\"loss\"].cpu().detach().tolist()])\n",
    "            pred_list.append(out[\"pred\"].detach().cpu().numpy())\n",
    "            target_list.append(out[\"targets\"].detach().cpu().numpy())\n",
    "\n",
    "        meanloss = sum(loss_list)/len(loss_list)\n",
    "        pred_list = np.concatenate(pred_list)\n",
    "        pred_count = sum(x>0 for x in pred_list)/len(pred_list)\n",
    "\n",
    "        logs = {\n",
    "            f\"valid_loss/fold{self.fold_num+1}\":meanloss,\n",
    "            f\"valid_acc/fold{self.fold_num+1}\":pred_count,\n",
    "        }\n",
    "\n",
    "        self.log_dict(\n",
    "            logs,\n",
    "            on_step=False,\n",
    "            on_epoch=True,\n",
    "            prog_bar=True,\n",
    "            logger=True\n",
    "        )\n",
    "        \n",
    "    def configure_optimizers(self):\n",
    "\n",
    "        optimizer = eval(self.cfg.optimizer.name)(\n",
    "            self.parameters(), **self.cfg.optimizer.params\n",
    "        )\n",
    "\n",
    "        self.scheduler = eval(self.cfg.scheduler.name)(\n",
    "            optimizer, **self.cfg.scheduler.params\n",
    "        )\n",
    "        \n",
    "        scheduler = {\"scheduler\": self.scheduler, \"interval\": \"step\",}\n",
    "\n",
    "        return [optimizer], [scheduler]"
   ]
  },
  {
   "cell_type": "markdown",
   "id": "029e1f6b",
   "metadata": {},
   "source": [
    "<br>\n",
    "<h2 style = \"font-size:45px;\n",
    "             font-family:Comic Sans MS ;\n",
    "             font-weight : normal;\n",
    "             background-color: #eeebf1 ;\n",
    "             color : #4c1c84;\n",
    "             text-align: center; \n",
    "             border-radius: 100px 100px;\">\n",
    "    Training\n",
    "</h2>\n",
    "<br>"
   ]
  },
  {
   "cell_type": "code",
   "execution_count": 37,
   "id": "5c5afbcd",
   "metadata": {},
   "outputs": [
    {
     "data": {
      "text/html": [
       "<div>\n",
       "<style scoped>\n",
       "    .dataframe tbody tr th:only-of-type {\n",
       "        vertical-align: middle;\n",
       "    }\n",
       "\n",
       "    .dataframe tbody tr th {\n",
       "        vertical-align: top;\n",
       "    }\n",
       "\n",
       "    .dataframe thead th {\n",
       "        text-align: right;\n",
       "    }\n",
       "</style>\n",
       "<table border=\"1\" class=\"dataframe\">\n",
       "  <thead>\n",
       "    <tr style=\"text-align: right;\">\n",
       "      <th></th>\n",
       "      <th>id</th>\n",
       "      <th>comment_text</th>\n",
       "      <th>toxic</th>\n",
       "      <th>severe_toxic</th>\n",
       "      <th>obscene</th>\n",
       "      <th>threat</th>\n",
       "      <th>insult</th>\n",
       "      <th>identity_hate</th>\n",
       "      <th>is_colon</th>\n",
       "      <th>text</th>\n",
       "      <th>kfold</th>\n",
       "    </tr>\n",
       "  </thead>\n",
       "  <tbody>\n",
       "    <tr>\n",
       "      <th>0</th>\n",
       "      <td>0000997932d777bf</td>\n",
       "      <td>Explanation\\nWhy the edits made under my usern...</td>\n",
       "      <td>0</td>\n",
       "      <td>0</td>\n",
       "      <td>0</td>\n",
       "      <td>0</td>\n",
       "      <td>0</td>\n",
       "      <td>0</td>\n",
       "      <td>0</td>\n",
       "      <td>explanation why the edits made under my userna...</td>\n",
       "      <td>0</td>\n",
       "    </tr>\n",
       "    <tr>\n",
       "      <th>1</th>\n",
       "      <td>000103f0d9cfb60f</td>\n",
       "      <td>D'aww! He matches this background colour I'm s...</td>\n",
       "      <td>0</td>\n",
       "      <td>0</td>\n",
       "      <td>0</td>\n",
       "      <td>0</td>\n",
       "      <td>0</td>\n",
       "      <td>0</td>\n",
       "      <td>1</td>\n",
       "      <td>i aww he matches this background colour i i se...</td>\n",
       "      <td>2</td>\n",
       "    </tr>\n",
       "    <tr>\n",
       "      <th>2</th>\n",
       "      <td>000113f07ec002fd</td>\n",
       "      <td>Hey man, I'm really not trying to edit war. It...</td>\n",
       "      <td>0</td>\n",
       "      <td>0</td>\n",
       "      <td>0</td>\n",
       "      <td>0</td>\n",
       "      <td>0</td>\n",
       "      <td>0</td>\n",
       "      <td>0</td>\n",
       "      <td>hey man i i really not trying to edit war it i...</td>\n",
       "      <td>3</td>\n",
       "    </tr>\n",
       "    <tr>\n",
       "      <th>3</th>\n",
       "      <td>0001b41b1c6bb37e</td>\n",
       "      <td>\"\\nMore\\nI can't make any real suggestions on ...</td>\n",
       "      <td>0</td>\n",
       "      <td>0</td>\n",
       "      <td>0</td>\n",
       "      <td>0</td>\n",
       "      <td>0</td>\n",
       "      <td>0</td>\n",
       "      <td>1</td>\n",
       "      <td>more i can i make any real suggestions on impr...</td>\n",
       "      <td>2</td>\n",
       "    </tr>\n",
       "    <tr>\n",
       "      <th>4</th>\n",
       "      <td>0001d958c54c6e35</td>\n",
       "      <td>You, sir, are my hero. Any chance you remember...</td>\n",
       "      <td>0</td>\n",
       "      <td>0</td>\n",
       "      <td>0</td>\n",
       "      <td>0</td>\n",
       "      <td>0</td>\n",
       "      <td>0</td>\n",
       "      <td>0</td>\n",
       "      <td>you sir are my hero any chance you remember wh...</td>\n",
       "      <td>0</td>\n",
       "    </tr>\n",
       "  </tbody>\n",
       "</table>\n",
       "</div>"
      ],
      "text/plain": [
       "                 id                                       comment_text  toxic  \\\n",
       "0  0000997932d777bf  Explanation\\nWhy the edits made under my usern...      0   \n",
       "1  000103f0d9cfb60f  D'aww! He matches this background colour I'm s...      0   \n",
       "2  000113f07ec002fd  Hey man, I'm really not trying to edit war. It...      0   \n",
       "3  0001b41b1c6bb37e  \"\\nMore\\nI can't make any real suggestions on ...      0   \n",
       "4  0001d958c54c6e35  You, sir, are my hero. Any chance you remember...      0   \n",
       "\n",
       "   severe_toxic  obscene  threat  insult  identity_hate  is_colon  \\\n",
       "0             0        0       0       0              0         0   \n",
       "1             0        0       0       0              0         1   \n",
       "2             0        0       0       0              0         0   \n",
       "3             0        0       0       0              0         1   \n",
       "4             0        0       0       0              0         0   \n",
       "\n",
       "                                                text  kfold  \n",
       "0  explanation why the edits made under my userna...      0  \n",
       "1  i aww he matches this background colour i i se...      2  \n",
       "2  hey man i i really not trying to edit war it i...      3  \n",
       "3  more i can i make any real suggestions on impr...      2  \n",
       "4  you sir are my hero any chance you remember wh...      0  "
      ]
     },
     "execution_count": 37,
     "metadata": {},
     "output_type": "execute_result"
    }
   ],
   "source": [
    "skf = KFold(\n",
    "    n_splits=config.n_fold, \n",
    "    shuffle=True, \n",
    "    random_state=config.seed\n",
    ")\n",
    "\n",
    "for fold, (_, val_idx) in enumerate(skf.split(X=train_df, y=train_df[\"toxic\"])):\n",
    "    train_df.loc[val_idx, \"kfold\"] = int(fold)\n",
    "\n",
    "train_df[\"kfold\"] = train_df[\"kfold\"].astype(int)\n",
    "train_df.head()"
   ]
  },
  {
   "cell_type": "code",
   "execution_count": 78,
   "id": "d2a326ae",
   "metadata": {},
   "outputs": [
    {
     "name": "stdout",
     "output_type": "stream",
     "text": [
      "★★★★★★★★★★★★★★★★★★★★★★★★★  Fold1  ★★★★★★★★★★★★★★★★★★★★★★★★★\n",
      "Use Model: GroNLP/hateBERT\n"
     ]
    },
    {
     "data": {
      "text/html": [
       "<pre style=\"white-space:pre;overflow-x:auto;line-height:normal;font-family:Menlo,'DejaVu Sans Mono',consolas,'Courier New',monospace\">┏━━━┳━━━━━━━━━━━━┳━━━━━━━━━━━━━━━━━┳━━━━━━━━┓\n",
       "┃<span style=\"color: #800080; text-decoration-color: #800080; font-weight: bold\">   </span>┃<span style=\"color: #800080; text-decoration-color: #800080; font-weight: bold\"> Name       </span>┃<span style=\"color: #800080; text-decoration-color: #800080; font-weight: bold\"> Type            </span>┃<span style=\"color: #800080; text-decoration-color: #800080; font-weight: bold\"> Params </span>┃\n",
       "┡━━━╇━━━━━━━━━━━━╇━━━━━━━━━━━━━━━━━╇━━━━━━━━┩\n",
       "│<span style=\"color: #7f7f7f; text-decoration-color: #7f7f7f\"> 0 </span>│ base_model │ BertForMaskedLM │  109 M │\n",
       "│<span style=\"color: #7f7f7f; text-decoration-color: #7f7f7f\"> 1 </span>│ norm       │ LayerNorm       │  1.5 K │\n",
       "│<span style=\"color: #7f7f7f; text-decoration-color: #7f7f7f\"> 2 </span>│ drop       │ Dropout         │      0 │\n",
       "│<span style=\"color: #7f7f7f; text-decoration-color: #7f7f7f\"> 3 </span>│ head       │ Linear          │  4.6 K │\n",
       "│<span style=\"color: #7f7f7f; text-decoration-color: #7f7f7f\"> 4 </span>│ criterion  │ MSELoss         │      0 │\n",
       "└───┴────────────┴─────────────────┴────────┘\n",
       "</pre>\n"
      ],
      "text/plain": [
       "┏━━━┳━━━━━━━━━━━━┳━━━━━━━━━━━━━━━━━┳━━━━━━━━┓\n",
       "┃\u001b[1;35m \u001b[0m\u001b[1;35m \u001b[0m\u001b[1;35m \u001b[0m┃\u001b[1;35m \u001b[0m\u001b[1;35mName      \u001b[0m\u001b[1;35m \u001b[0m┃\u001b[1;35m \u001b[0m\u001b[1;35mType           \u001b[0m\u001b[1;35m \u001b[0m┃\u001b[1;35m \u001b[0m\u001b[1;35mParams\u001b[0m\u001b[1;35m \u001b[0m┃\n",
       "┡━━━╇━━━━━━━━━━━━╇━━━━━━━━━━━━━━━━━╇━━━━━━━━┩\n",
       "│\u001b[2m \u001b[0m\u001b[2m0\u001b[0m\u001b[2m \u001b[0m│ base_model │ BertForMaskedLM │  109 M │\n",
       "│\u001b[2m \u001b[0m\u001b[2m1\u001b[0m\u001b[2m \u001b[0m│ norm       │ LayerNorm       │  1.5 K │\n",
       "│\u001b[2m \u001b[0m\u001b[2m2\u001b[0m\u001b[2m \u001b[0m│ drop       │ Dropout         │      0 │\n",
       "│\u001b[2m \u001b[0m\u001b[2m3\u001b[0m\u001b[2m \u001b[0m│ head       │ Linear          │  4.6 K │\n",
       "│\u001b[2m \u001b[0m\u001b[2m4\u001b[0m\u001b[2m \u001b[0m│ criterion  │ MSELoss         │      0 │\n",
       "└───┴────────────┴─────────────────┴────────┘\n"
      ]
     },
     "metadata": {},
     "output_type": "display_data"
    },
    {
     "data": {
      "text/html": [
       "<pre style=\"white-space:pre;overflow-x:auto;line-height:normal;font-family:Menlo,'DejaVu Sans Mono',consolas,'Courier New',monospace\"><span style=\"font-weight: bold\">Trainable params</span>: 109 M                                                                      \n",
       "<span style=\"font-weight: bold\">Non-trainable params</span>: 0                                                                      \n",
       "<span style=\"font-weight: bold\">Total params</span>: 109 M                                                                          \n",
       "<span style=\"font-weight: bold\">Total estimated model params size (MB)</span>: 438                                                  \n",
       "</pre>\n"
      ],
      "text/plain": [
       "\u001b[1mTrainable params\u001b[0m: 109 M                                                                      \n",
       "\u001b[1mNon-trainable params\u001b[0m: 0                                                                      \n",
       "\u001b[1mTotal params\u001b[0m: 109 M                                                                          \n",
       "\u001b[1mTotal estimated model params size (MB)\u001b[0m: 438                                                  \n"
      ]
     },
     "metadata": {},
     "output_type": "display_data"
    },
    {
     "data": {
      "application/vnd.jupyter.widget-view+json": {
       "model_id": "83181854a8214a51ae9aa7cec64be8ef",
       "version_major": 2,
       "version_minor": 0
      },
      "text/plain": [
       "Output()"
      ]
     },
     "metadata": {},
     "output_type": "display_data"
    },
    {
     "data": {
      "text/html": [
       "<pre style=\"white-space:pre;overflow-x:auto;line-height:normal;font-family:Menlo,'DejaVu Sans Mono',consolas,'Courier New',monospace\"><span style=\"color: #c0c0c0; text-decoration-color: #c0c0c0\">Epoch 0   </span> <span style=\"color: #6206e0; text-decoration-color: #6206e0\">━━━━━━━━━━━━━━━━━━━━━━━━━━━━━━</span> <span style=\"color: #c0c0c0; text-decoration-color: #c0c0c0\">2/2</span> <span style=\"color: #8a8a8a; text-decoration-color: #8a8a8a\">0:00:00 • 0:00:00</span> <span style=\"color: #b2b2b2; text-decoration-color: #b2b2b2\">3.73it/s</span> <span style=\"color: #c0c0c0; text-decoration-color: #c0c0c0\">loss: 0.591 v_num:  </span>\n",
       "</pre>\n"
      ],
      "text/plain": [
       "\u001b[37mEpoch 0   \u001b[0m \u001b[38;2;98;6;224m━━━━━━━━━━━━━━━━━━━━━━━━━━━━━━\u001b[0m \u001b[37m2/2\u001b[0m \u001b[38;5;245m0:00:00 • 0:00:00\u001b[0m \u001b[38;5;249m3.73it/s\u001b[0m \u001b[37mloss: 0.591 v_num:  \u001b[0m\n"
      ]
     },
     "metadata": {},
     "output_type": "display_data"
    },
    {
     "data": {
      "text/html": [
       "<pre style=\"white-space:pre;overflow-x:auto;line-height:normal;font-family:Menlo,'DejaVu Sans Mono',consolas,'Courier New',monospace\">\n",
       "</pre>\n"
      ],
      "text/plain": [
       "\n"
      ]
     },
     "metadata": {},
     "output_type": "display_data"
    },
    {
     "name": "stdout",
     "output_type": "stream",
     "text": [
      "★★★★★★★★★★★★★★★★★★★★★★★★★  Fold2  ★★★★★★★★★★★★★★★★★★★★★★★★★\n",
      "Use Model: GroNLP/hateBERT\n"
     ]
    },
    {
     "data": {
      "text/html": [
       "<pre style=\"white-space:pre;overflow-x:auto;line-height:normal;font-family:Menlo,'DejaVu Sans Mono',consolas,'Courier New',monospace\">┏━━━┳━━━━━━━━━━━━┳━━━━━━━━━━━━━━━━━┳━━━━━━━━┓\n",
       "┃<span style=\"color: #800080; text-decoration-color: #800080; font-weight: bold\">   </span>┃<span style=\"color: #800080; text-decoration-color: #800080; font-weight: bold\"> Name       </span>┃<span style=\"color: #800080; text-decoration-color: #800080; font-weight: bold\"> Type            </span>┃<span style=\"color: #800080; text-decoration-color: #800080; font-weight: bold\"> Params </span>┃\n",
       "┡━━━╇━━━━━━━━━━━━╇━━━━━━━━━━━━━━━━━╇━━━━━━━━┩\n",
       "│<span style=\"color: #7f7f7f; text-decoration-color: #7f7f7f\"> 0 </span>│ base_model │ BertForMaskedLM │  109 M │\n",
       "│<span style=\"color: #7f7f7f; text-decoration-color: #7f7f7f\"> 1 </span>│ norm       │ LayerNorm       │  1.5 K │\n",
       "│<span style=\"color: #7f7f7f; text-decoration-color: #7f7f7f\"> 2 </span>│ drop       │ Dropout         │      0 │\n",
       "│<span style=\"color: #7f7f7f; text-decoration-color: #7f7f7f\"> 3 </span>│ head       │ Linear          │  4.6 K │\n",
       "│<span style=\"color: #7f7f7f; text-decoration-color: #7f7f7f\"> 4 </span>│ criterion  │ MSELoss         │      0 │\n",
       "└───┴────────────┴─────────────────┴────────┘\n",
       "</pre>\n"
      ],
      "text/plain": [
       "┏━━━┳━━━━━━━━━━━━┳━━━━━━━━━━━━━━━━━┳━━━━━━━━┓\n",
       "┃\u001b[1;35m \u001b[0m\u001b[1;35m \u001b[0m\u001b[1;35m \u001b[0m┃\u001b[1;35m \u001b[0m\u001b[1;35mName      \u001b[0m\u001b[1;35m \u001b[0m┃\u001b[1;35m \u001b[0m\u001b[1;35mType           \u001b[0m\u001b[1;35m \u001b[0m┃\u001b[1;35m \u001b[0m\u001b[1;35mParams\u001b[0m\u001b[1;35m \u001b[0m┃\n",
       "┡━━━╇━━━━━━━━━━━━╇━━━━━━━━━━━━━━━━━╇━━━━━━━━┩\n",
       "│\u001b[2m \u001b[0m\u001b[2m0\u001b[0m\u001b[2m \u001b[0m│ base_model │ BertForMaskedLM │  109 M │\n",
       "│\u001b[2m \u001b[0m\u001b[2m1\u001b[0m\u001b[2m \u001b[0m│ norm       │ LayerNorm       │  1.5 K │\n",
       "│\u001b[2m \u001b[0m\u001b[2m2\u001b[0m\u001b[2m \u001b[0m│ drop       │ Dropout         │      0 │\n",
       "│\u001b[2m \u001b[0m\u001b[2m3\u001b[0m\u001b[2m \u001b[0m│ head       │ Linear          │  4.6 K │\n",
       "│\u001b[2m \u001b[0m\u001b[2m4\u001b[0m\u001b[2m \u001b[0m│ criterion  │ MSELoss         │      0 │\n",
       "└───┴────────────┴─────────────────┴────────┘\n"
      ]
     },
     "metadata": {},
     "output_type": "display_data"
    },
    {
     "data": {
      "text/html": [
       "<pre style=\"white-space:pre;overflow-x:auto;line-height:normal;font-family:Menlo,'DejaVu Sans Mono',consolas,'Courier New',monospace\"><span style=\"font-weight: bold\">Trainable params</span>: 109 M                                                                      \n",
       "<span style=\"font-weight: bold\">Non-trainable params</span>: 0                                                                      \n",
       "<span style=\"font-weight: bold\">Total params</span>: 109 M                                                                          \n",
       "<span style=\"font-weight: bold\">Total estimated model params size (MB)</span>: 438                                                  \n",
       "</pre>\n"
      ],
      "text/plain": [
       "\u001b[1mTrainable params\u001b[0m: 109 M                                                                      \n",
       "\u001b[1mNon-trainable params\u001b[0m: 0                                                                      \n",
       "\u001b[1mTotal params\u001b[0m: 109 M                                                                          \n",
       "\u001b[1mTotal estimated model params size (MB)\u001b[0m: 438                                                  \n"
      ]
     },
     "metadata": {},
     "output_type": "display_data"
    },
    {
     "data": {
      "application/vnd.jupyter.widget-view+json": {
       "model_id": "6e9f6ebe30a343d1a88bc42fd620ac5b",
       "version_major": 2,
       "version_minor": 0
      },
      "text/plain": [
       "Output()"
      ]
     },
     "metadata": {},
     "output_type": "display_data"
    },
    {
     "data": {
      "text/html": [
       "<pre style=\"white-space:pre;overflow-x:auto;line-height:normal;font-family:Menlo,'DejaVu Sans Mono',consolas,'Courier New',monospace\"><span style=\"color: #c0c0c0; text-decoration-color: #c0c0c0\">Epoch 0   </span> <span style=\"color: #6206e0; text-decoration-color: #6206e0\">━━━━━━━━━━━━━━━━━━━━━━━━━━━━━━</span> <span style=\"color: #c0c0c0; text-decoration-color: #c0c0c0\">2/2</span> <span style=\"color: #8a8a8a; text-decoration-color: #8a8a8a\">0:00:00 • 0:00:00</span> <span style=\"color: #b2b2b2; text-decoration-color: #b2b2b2\">3.67it/s</span> <span style=\"color: #c0c0c0; text-decoration-color: #c0c0c0\">loss: 0.641 v_num:  </span>\n",
       "</pre>\n"
      ],
      "text/plain": [
       "\u001b[37mEpoch 0   \u001b[0m \u001b[38;2;98;6;224m━━━━━━━━━━━━━━━━━━━━━━━━━━━━━━\u001b[0m \u001b[37m2/2\u001b[0m \u001b[38;5;245m0:00:00 • 0:00:00\u001b[0m \u001b[38;5;249m3.67it/s\u001b[0m \u001b[37mloss: 0.641 v_num:  \u001b[0m\n"
      ]
     },
     "metadata": {},
     "output_type": "display_data"
    },
    {
     "data": {
      "text/html": [
       "<pre style=\"white-space:pre;overflow-x:auto;line-height:normal;font-family:Menlo,'DejaVu Sans Mono',consolas,'Courier New',monospace\">\n",
       "</pre>\n"
      ],
      "text/plain": [
       "\n"
      ]
     },
     "metadata": {},
     "output_type": "display_data"
    },
    {
     "name": "stdout",
     "output_type": "stream",
     "text": [
      "★★★★★★★★★★★★★★★★★★★★★★★★★  Fold3  ★★★★★★★★★★★★★★★★★★★★★★★★★\n",
      "Use Model: GroNLP/hateBERT\n"
     ]
    },
    {
     "data": {
      "text/html": [
       "<pre style=\"white-space:pre;overflow-x:auto;line-height:normal;font-family:Menlo,'DejaVu Sans Mono',consolas,'Courier New',monospace\">┏━━━┳━━━━━━━━━━━━┳━━━━━━━━━━━━━━━━━┳━━━━━━━━┓\n",
       "┃<span style=\"color: #800080; text-decoration-color: #800080; font-weight: bold\">   </span>┃<span style=\"color: #800080; text-decoration-color: #800080; font-weight: bold\"> Name       </span>┃<span style=\"color: #800080; text-decoration-color: #800080; font-weight: bold\"> Type            </span>┃<span style=\"color: #800080; text-decoration-color: #800080; font-weight: bold\"> Params </span>┃\n",
       "┡━━━╇━━━━━━━━━━━━╇━━━━━━━━━━━━━━━━━╇━━━━━━━━┩\n",
       "│<span style=\"color: #7f7f7f; text-decoration-color: #7f7f7f\"> 0 </span>│ base_model │ BertForMaskedLM │  109 M │\n",
       "│<span style=\"color: #7f7f7f; text-decoration-color: #7f7f7f\"> 1 </span>│ norm       │ LayerNorm       │  1.5 K │\n",
       "│<span style=\"color: #7f7f7f; text-decoration-color: #7f7f7f\"> 2 </span>│ drop       │ Dropout         │      0 │\n",
       "│<span style=\"color: #7f7f7f; text-decoration-color: #7f7f7f\"> 3 </span>│ head       │ Linear          │  4.6 K │\n",
       "│<span style=\"color: #7f7f7f; text-decoration-color: #7f7f7f\"> 4 </span>│ criterion  │ MSELoss         │      0 │\n",
       "└───┴────────────┴─────────────────┴────────┘\n",
       "</pre>\n"
      ],
      "text/plain": [
       "┏━━━┳━━━━━━━━━━━━┳━━━━━━━━━━━━━━━━━┳━━━━━━━━┓\n",
       "┃\u001b[1;35m \u001b[0m\u001b[1;35m \u001b[0m\u001b[1;35m \u001b[0m┃\u001b[1;35m \u001b[0m\u001b[1;35mName      \u001b[0m\u001b[1;35m \u001b[0m┃\u001b[1;35m \u001b[0m\u001b[1;35mType           \u001b[0m\u001b[1;35m \u001b[0m┃\u001b[1;35m \u001b[0m\u001b[1;35mParams\u001b[0m\u001b[1;35m \u001b[0m┃\n",
       "┡━━━╇━━━━━━━━━━━━╇━━━━━━━━━━━━━━━━━╇━━━━━━━━┩\n",
       "│\u001b[2m \u001b[0m\u001b[2m0\u001b[0m\u001b[2m \u001b[0m│ base_model │ BertForMaskedLM │  109 M │\n",
       "│\u001b[2m \u001b[0m\u001b[2m1\u001b[0m\u001b[2m \u001b[0m│ norm       │ LayerNorm       │  1.5 K │\n",
       "│\u001b[2m \u001b[0m\u001b[2m2\u001b[0m\u001b[2m \u001b[0m│ drop       │ Dropout         │      0 │\n",
       "│\u001b[2m \u001b[0m\u001b[2m3\u001b[0m\u001b[2m \u001b[0m│ head       │ Linear          │  4.6 K │\n",
       "│\u001b[2m \u001b[0m\u001b[2m4\u001b[0m\u001b[2m \u001b[0m│ criterion  │ MSELoss         │      0 │\n",
       "└───┴────────────┴─────────────────┴────────┘\n"
      ]
     },
     "metadata": {},
     "output_type": "display_data"
    },
    {
     "data": {
      "text/html": [
       "<pre style=\"white-space:pre;overflow-x:auto;line-height:normal;font-family:Menlo,'DejaVu Sans Mono',consolas,'Courier New',monospace\"><span style=\"font-weight: bold\">Trainable params</span>: 109 M                                                                      \n",
       "<span style=\"font-weight: bold\">Non-trainable params</span>: 0                                                                      \n",
       "<span style=\"font-weight: bold\">Total params</span>: 109 M                                                                          \n",
       "<span style=\"font-weight: bold\">Total estimated model params size (MB)</span>: 438                                                  \n",
       "</pre>\n"
      ],
      "text/plain": [
       "\u001b[1mTrainable params\u001b[0m: 109 M                                                                      \n",
       "\u001b[1mNon-trainable params\u001b[0m: 0                                                                      \n",
       "\u001b[1mTotal params\u001b[0m: 109 M                                                                          \n",
       "\u001b[1mTotal estimated model params size (MB)\u001b[0m: 438                                                  \n"
      ]
     },
     "metadata": {},
     "output_type": "display_data"
    },
    {
     "data": {
      "application/vnd.jupyter.widget-view+json": {
       "model_id": "0e72143ae74e459493ffaebc30db8b9c",
       "version_major": 2,
       "version_minor": 0
      },
      "text/plain": [
       "Output()"
      ]
     },
     "metadata": {},
     "output_type": "display_data"
    },
    {
     "data": {
      "text/html": [
       "<pre style=\"white-space:pre;overflow-x:auto;line-height:normal;font-family:Menlo,'DejaVu Sans Mono',consolas,'Courier New',monospace\"><span style=\"color: #c0c0c0; text-decoration-color: #c0c0c0\">Epoch 0   </span> <span style=\"color: #6206e0; text-decoration-color: #6206e0\">━━━━━━━━━━━━━━━━━━━━━━━━━━━━━━</span> <span style=\"color: #c0c0c0; text-decoration-color: #c0c0c0\">2/2</span> <span style=\"color: #8a8a8a; text-decoration-color: #8a8a8a\">0:00:00 • 0:00:00</span> <span style=\"color: #b2b2b2; text-decoration-color: #b2b2b2\">3.44it/s</span> <span style=\"color: #c0c0c0; text-decoration-color: #c0c0c0\">loss: 0.675 v_num:  </span>\n",
       "</pre>\n"
      ],
      "text/plain": [
       "\u001b[37mEpoch 0   \u001b[0m \u001b[38;2;98;6;224m━━━━━━━━━━━━━━━━━━━━━━━━━━━━━━\u001b[0m \u001b[37m2/2\u001b[0m \u001b[38;5;245m0:00:00 • 0:00:00\u001b[0m \u001b[38;5;249m3.44it/s\u001b[0m \u001b[37mloss: 0.675 v_num:  \u001b[0m\n"
      ]
     },
     "metadata": {},
     "output_type": "display_data"
    },
    {
     "data": {
      "text/html": [
       "<pre style=\"white-space:pre;overflow-x:auto;line-height:normal;font-family:Menlo,'DejaVu Sans Mono',consolas,'Courier New',monospace\">\n",
       "</pre>\n"
      ],
      "text/plain": [
       "\n"
      ]
     },
     "metadata": {},
     "output_type": "display_data"
    },
    {
     "name": "stdout",
     "output_type": "stream",
     "text": [
      "★★★★★★★★★★★★★★★★★★★★★★★★★  Fold4  ★★★★★★★★★★★★★★★★★★★★★★★★★\n",
      "Use Model: GroNLP/hateBERT\n"
     ]
    },
    {
     "data": {
      "text/html": [
       "<pre style=\"white-space:pre;overflow-x:auto;line-height:normal;font-family:Menlo,'DejaVu Sans Mono',consolas,'Courier New',monospace\">┏━━━┳━━━━━━━━━━━━┳━━━━━━━━━━━━━━━━━┳━━━━━━━━┓\n",
       "┃<span style=\"color: #800080; text-decoration-color: #800080; font-weight: bold\">   </span>┃<span style=\"color: #800080; text-decoration-color: #800080; font-weight: bold\"> Name       </span>┃<span style=\"color: #800080; text-decoration-color: #800080; font-weight: bold\"> Type            </span>┃<span style=\"color: #800080; text-decoration-color: #800080; font-weight: bold\"> Params </span>┃\n",
       "┡━━━╇━━━━━━━━━━━━╇━━━━━━━━━━━━━━━━━╇━━━━━━━━┩\n",
       "│<span style=\"color: #7f7f7f; text-decoration-color: #7f7f7f\"> 0 </span>│ base_model │ BertForMaskedLM │  109 M │\n",
       "│<span style=\"color: #7f7f7f; text-decoration-color: #7f7f7f\"> 1 </span>│ norm       │ LayerNorm       │  1.5 K │\n",
       "│<span style=\"color: #7f7f7f; text-decoration-color: #7f7f7f\"> 2 </span>│ drop       │ Dropout         │      0 │\n",
       "│<span style=\"color: #7f7f7f; text-decoration-color: #7f7f7f\"> 3 </span>│ head       │ Linear          │  4.6 K │\n",
       "│<span style=\"color: #7f7f7f; text-decoration-color: #7f7f7f\"> 4 </span>│ criterion  │ MSELoss         │      0 │\n",
       "└───┴────────────┴─────────────────┴────────┘\n",
       "</pre>\n"
      ],
      "text/plain": [
       "┏━━━┳━━━━━━━━━━━━┳━━━━━━━━━━━━━━━━━┳━━━━━━━━┓\n",
       "┃\u001b[1;35m \u001b[0m\u001b[1;35m \u001b[0m\u001b[1;35m \u001b[0m┃\u001b[1;35m \u001b[0m\u001b[1;35mName      \u001b[0m\u001b[1;35m \u001b[0m┃\u001b[1;35m \u001b[0m\u001b[1;35mType           \u001b[0m\u001b[1;35m \u001b[0m┃\u001b[1;35m \u001b[0m\u001b[1;35mParams\u001b[0m\u001b[1;35m \u001b[0m┃\n",
       "┡━━━╇━━━━━━━━━━━━╇━━━━━━━━━━━━━━━━━╇━━━━━━━━┩\n",
       "│\u001b[2m \u001b[0m\u001b[2m0\u001b[0m\u001b[2m \u001b[0m│ base_model │ BertForMaskedLM │  109 M │\n",
       "│\u001b[2m \u001b[0m\u001b[2m1\u001b[0m\u001b[2m \u001b[0m│ norm       │ LayerNorm       │  1.5 K │\n",
       "│\u001b[2m \u001b[0m\u001b[2m2\u001b[0m\u001b[2m \u001b[0m│ drop       │ Dropout         │      0 │\n",
       "│\u001b[2m \u001b[0m\u001b[2m3\u001b[0m\u001b[2m \u001b[0m│ head       │ Linear          │  4.6 K │\n",
       "│\u001b[2m \u001b[0m\u001b[2m4\u001b[0m\u001b[2m \u001b[0m│ criterion  │ MSELoss         │      0 │\n",
       "└───┴────────────┴─────────────────┴────────┘\n"
      ]
     },
     "metadata": {},
     "output_type": "display_data"
    },
    {
     "data": {
      "text/html": [
       "<pre style=\"white-space:pre;overflow-x:auto;line-height:normal;font-family:Menlo,'DejaVu Sans Mono',consolas,'Courier New',monospace\"><span style=\"font-weight: bold\">Trainable params</span>: 109 M                                                                      \n",
       "<span style=\"font-weight: bold\">Non-trainable params</span>: 0                                                                      \n",
       "<span style=\"font-weight: bold\">Total params</span>: 109 M                                                                          \n",
       "<span style=\"font-weight: bold\">Total estimated model params size (MB)</span>: 438                                                  \n",
       "</pre>\n"
      ],
      "text/plain": [
       "\u001b[1mTrainable params\u001b[0m: 109 M                                                                      \n",
       "\u001b[1mNon-trainable params\u001b[0m: 0                                                                      \n",
       "\u001b[1mTotal params\u001b[0m: 109 M                                                                          \n",
       "\u001b[1mTotal estimated model params size (MB)\u001b[0m: 438                                                  \n"
      ]
     },
     "metadata": {},
     "output_type": "display_data"
    },
    {
     "data": {
      "application/vnd.jupyter.widget-view+json": {
       "model_id": "4025eab697364cfca23bd7377266cf1e",
       "version_major": 2,
       "version_minor": 0
      },
      "text/plain": [
       "Output()"
      ]
     },
     "metadata": {},
     "output_type": "display_data"
    },
    {
     "data": {
      "text/html": [
       "<pre style=\"white-space:pre;overflow-x:auto;line-height:normal;font-family:Menlo,'DejaVu Sans Mono',consolas,'Courier New',monospace\"><span style=\"color: #c0c0c0; text-decoration-color: #c0c0c0\">Epoch 0   </span> <span style=\"color: #6206e0; text-decoration-color: #6206e0\">━━━━━━━━━━━━━━━━━━━━━━━━━━━━━━</span> <span style=\"color: #c0c0c0; text-decoration-color: #c0c0c0\">2/2</span> <span style=\"color: #8a8a8a; text-decoration-color: #8a8a8a\">0:00:00 • 0:00:00</span> <span style=\"color: #b2b2b2; text-decoration-color: #b2b2b2\">3.10it/s</span> <span style=\"color: #c0c0c0; text-decoration-color: #c0c0c0\">loss: 0.581 v_num:  </span>\n",
       "</pre>\n"
      ],
      "text/plain": [
       "\u001b[37mEpoch 0   \u001b[0m \u001b[38;2;98;6;224m━━━━━━━━━━━━━━━━━━━━━━━━━━━━━━\u001b[0m \u001b[37m2/2\u001b[0m \u001b[38;5;245m0:00:00 • 0:00:00\u001b[0m \u001b[38;5;249m3.10it/s\u001b[0m \u001b[37mloss: 0.581 v_num:  \u001b[0m\n"
      ]
     },
     "metadata": {},
     "output_type": "display_data"
    },
    {
     "data": {
      "text/html": [
       "<pre style=\"white-space:pre;overflow-x:auto;line-height:normal;font-family:Menlo,'DejaVu Sans Mono',consolas,'Courier New',monospace\">\n",
       "</pre>\n"
      ],
      "text/plain": [
       "\n"
      ]
     },
     "metadata": {},
     "output_type": "display_data"
    },
    {
     "name": "stdout",
     "output_type": "stream",
     "text": [
      "★★★★★★★★★★★★★★★★★★★★★★★★★  Fold5  ★★★★★★★★★★★★★★★★★★★★★★★★★\n",
      "Use Model: GroNLP/hateBERT\n"
     ]
    },
    {
     "data": {
      "text/html": [
       "<pre style=\"white-space:pre;overflow-x:auto;line-height:normal;font-family:Menlo,'DejaVu Sans Mono',consolas,'Courier New',monospace\">┏━━━┳━━━━━━━━━━━━┳━━━━━━━━━━━━━━━━━┳━━━━━━━━┓\n",
       "┃<span style=\"color: #800080; text-decoration-color: #800080; font-weight: bold\">   </span>┃<span style=\"color: #800080; text-decoration-color: #800080; font-weight: bold\"> Name       </span>┃<span style=\"color: #800080; text-decoration-color: #800080; font-weight: bold\"> Type            </span>┃<span style=\"color: #800080; text-decoration-color: #800080; font-weight: bold\"> Params </span>┃\n",
       "┡━━━╇━━━━━━━━━━━━╇━━━━━━━━━━━━━━━━━╇━━━━━━━━┩\n",
       "│<span style=\"color: #7f7f7f; text-decoration-color: #7f7f7f\"> 0 </span>│ base_model │ BertForMaskedLM │  109 M │\n",
       "│<span style=\"color: #7f7f7f; text-decoration-color: #7f7f7f\"> 1 </span>│ norm       │ LayerNorm       │  1.5 K │\n",
       "│<span style=\"color: #7f7f7f; text-decoration-color: #7f7f7f\"> 2 </span>│ drop       │ Dropout         │      0 │\n",
       "│<span style=\"color: #7f7f7f; text-decoration-color: #7f7f7f\"> 3 </span>│ head       │ Linear          │  4.6 K │\n",
       "│<span style=\"color: #7f7f7f; text-decoration-color: #7f7f7f\"> 4 </span>│ criterion  │ MSELoss         │      0 │\n",
       "└───┴────────────┴─────────────────┴────────┘\n",
       "</pre>\n"
      ],
      "text/plain": [
       "┏━━━┳━━━━━━━━━━━━┳━━━━━━━━━━━━━━━━━┳━━━━━━━━┓\n",
       "┃\u001b[1;35m \u001b[0m\u001b[1;35m \u001b[0m\u001b[1;35m \u001b[0m┃\u001b[1;35m \u001b[0m\u001b[1;35mName      \u001b[0m\u001b[1;35m \u001b[0m┃\u001b[1;35m \u001b[0m\u001b[1;35mType           \u001b[0m\u001b[1;35m \u001b[0m┃\u001b[1;35m \u001b[0m\u001b[1;35mParams\u001b[0m\u001b[1;35m \u001b[0m┃\n",
       "┡━━━╇━━━━━━━━━━━━╇━━━━━━━━━━━━━━━━━╇━━━━━━━━┩\n",
       "│\u001b[2m \u001b[0m\u001b[2m0\u001b[0m\u001b[2m \u001b[0m│ base_model │ BertForMaskedLM │  109 M │\n",
       "│\u001b[2m \u001b[0m\u001b[2m1\u001b[0m\u001b[2m \u001b[0m│ norm       │ LayerNorm       │  1.5 K │\n",
       "│\u001b[2m \u001b[0m\u001b[2m2\u001b[0m\u001b[2m \u001b[0m│ drop       │ Dropout         │      0 │\n",
       "│\u001b[2m \u001b[0m\u001b[2m3\u001b[0m\u001b[2m \u001b[0m│ head       │ Linear          │  4.6 K │\n",
       "│\u001b[2m \u001b[0m\u001b[2m4\u001b[0m\u001b[2m \u001b[0m│ criterion  │ MSELoss         │      0 │\n",
       "└───┴────────────┴─────────────────┴────────┘\n"
      ]
     },
     "metadata": {},
     "output_type": "display_data"
    },
    {
     "data": {
      "text/html": [
       "<pre style=\"white-space:pre;overflow-x:auto;line-height:normal;font-family:Menlo,'DejaVu Sans Mono',consolas,'Courier New',monospace\"><span style=\"font-weight: bold\">Trainable params</span>: 109 M                                                                      \n",
       "<span style=\"font-weight: bold\">Non-trainable params</span>: 0                                                                      \n",
       "<span style=\"font-weight: bold\">Total params</span>: 109 M                                                                          \n",
       "<span style=\"font-weight: bold\">Total estimated model params size (MB)</span>: 438                                                  \n",
       "</pre>\n"
      ],
      "text/plain": [
       "\u001b[1mTrainable params\u001b[0m: 109 M                                                                      \n",
       "\u001b[1mNon-trainable params\u001b[0m: 0                                                                      \n",
       "\u001b[1mTotal params\u001b[0m: 109 M                                                                          \n",
       "\u001b[1mTotal estimated model params size (MB)\u001b[0m: 438                                                  \n"
      ]
     },
     "metadata": {},
     "output_type": "display_data"
    },
    {
     "data": {
      "application/vnd.jupyter.widget-view+json": {
       "model_id": "f5c48adca21f4171951afb28940f26e7",
       "version_major": 2,
       "version_minor": 0
      },
      "text/plain": [
       "Output()"
      ]
     },
     "metadata": {},
     "output_type": "display_data"
    },
    {
     "data": {
      "text/html": [
       "<pre style=\"white-space:pre;overflow-x:auto;line-height:normal;font-family:Menlo,'DejaVu Sans Mono',consolas,'Courier New',monospace\"><span style=\"color: #c0c0c0; text-decoration-color: #c0c0c0\">Epoch 0   </span> <span style=\"color: #6206e0; text-decoration-color: #6206e0\">━━━━━━━━━━━━━━━━━━━━━━━━━━━━━━</span> <span style=\"color: #c0c0c0; text-decoration-color: #c0c0c0\">2/2</span> <span style=\"color: #8a8a8a; text-decoration-color: #8a8a8a\">0:00:00 • 0:00:00</span> <span style=\"color: #b2b2b2; text-decoration-color: #b2b2b2\">2.85it/s</span> <span style=\"color: #c0c0c0; text-decoration-color: #c0c0c0\">loss: 0.769 v_num:  </span>\n",
       "</pre>\n"
      ],
      "text/plain": [
       "\u001b[37mEpoch 0   \u001b[0m \u001b[38;2;98;6;224m━━━━━━━━━━━━━━━━━━━━━━━━━━━━━━\u001b[0m \u001b[37m2/2\u001b[0m \u001b[38;5;245m0:00:00 • 0:00:00\u001b[0m \u001b[38;5;249m2.85it/s\u001b[0m \u001b[37mloss: 0.769 v_num:  \u001b[0m\n"
      ]
     },
     "metadata": {},
     "output_type": "display_data"
    },
    {
     "data": {
      "text/html": [
       "<pre style=\"white-space:pre;overflow-x:auto;line-height:normal;font-family:Menlo,'DejaVu Sans Mono',consolas,'Courier New',monospace\">\n",
       "</pre>\n"
      ],
      "text/plain": [
       "\n"
      ]
     },
     "metadata": {},
     "output_type": "display_data"
    }
   ],
   "source": [
    "## Debug\n",
    "config.trainer.fast_dev_run = True\n",
    "config.backbone.output_dim = len(target_cols)\n",
    "\n",
    "for fold in config.train_fold:\n",
    "    \n",
    "    print(\"★\"*25, f\" Fold{fold+1} \", \"★\"*25)\n",
    "\n",
    "    df_train = train_df[train_df.kfold != fold].reset_index(drop=True)\n",
    "\n",
    "    datamodule = JigsawDataModule(df_train, val_df, test_df, config)\n",
    "    sample_dataloader = JigsawDataModule(df_train, val_df, test_df, config).train_dataloader()\n",
    "\n",
    "    config.scheduler.params.T_0 = config.epoch * len(sample_dataloader)\n",
    "    model = JigsawModel(config, fold)\n",
    "    lr_monitor = callbacks.LearningRateMonitor()\n",
    "\n",
    "    loss_checkpoint = callbacks.ModelCheckpoint(\n",
    "        filename=f\"best_acc_fold{fold+1}\",\n",
    "        monitor=f\"valid_acc/fold{fold+1}\",\n",
    "        save_top_k=1,\n",
    "        mode=\"max\",\n",
    "        save_last=False,\n",
    "        dirpath=MODEL_DIR,\n",
    "        save_weights_only=True,\n",
    "    )\n",
    "\n",
    "    wandb_logger = WandbLogger(\n",
    "        project=config.project, \n",
    "        entity=config.entity,\n",
    "        name = f\"{config.exp_name}\",\n",
    "        tags = ['Hate-BERT', \"Jigsaw-Classification\"]\n",
    "    )\n",
    "\n",
    "    lr_monitor = LearningRateMonitor(logging_interval='step')\n",
    "\n",
    "    trainer = pl.Trainer(\n",
    "        max_epochs=config.epoch,\n",
    "        callbacks=[loss_checkpoint, lr_monitor, RichProgressBar()],\n",
    "#         deterministic=True,\n",
    "        logger=[wandb_logger],\n",
    "        **config.trainer\n",
    "    )\n",
    "    trainer.fit(model, datamodule=datamodule)"
   ]
  },
  {
   "cell_type": "code",
   "execution_count": null,
   "id": "37135440",
   "metadata": {},
   "outputs": [
    {
     "name": "stdout",
     "output_type": "stream",
     "text": [
      "★★★★★★★★★★★★★★★★★★★★★★★★★  Fold1  ★★★★★★★★★★★★★★★★★★★★★★★★★\n",
      "Use Model: GroNLP/hateBERT\n"
     ]
    },
    {
     "name": "stderr",
     "output_type": "stream",
     "text": [
      "\u001b[34m\u001b[1mwandb\u001b[0m: Currently logged in as: \u001b[33mdataskywalker\u001b[0m (use `wandb login --relogin` to force relogin)\n",
      "\u001b[34m\u001b[1mwandb\u001b[0m: wandb version 0.12.9 is available!  To upgrade, please run:\n",
      "\u001b[34m\u001b[1mwandb\u001b[0m:  $ pip install wandb --upgrade\n",
      "2022-01-27 09:12:16.260800: I tensorflow/stream_executor/platform/default/dso_loader.cc:49] Successfully opened dynamic library libcudart.so.11.0\n",
      "fatal: ambiguous argument 'HEAD': unknown revision or path not in the working tree.\n",
      "Use '--' to separate paths from revisions, like this:\n",
      "'git <command> [<revision>...] -- [<file>...]'\n",
      "\n",
      "CondaEnvException: Unable to determine environment\n",
      "\n",
      "Please re-run this command with one of the following options:\n",
      "\n",
      "* Provide an environment name via --name or -n\n",
      "* Re-run this command inside an activated conda environment.\n",
      "\n"
     ]
    },
    {
     "data": {
      "text/html": [
       "\n",
       "                Tracking run with wandb version 0.11.2<br/>\n",
       "                Syncing run <strong style=\"color:#cdcd00\">032_exp</strong> to <a href=\"https://wandb.ai\" target=\"_blank\">Weights & Biases</a> <a href=\"https://docs.wandb.com/integrations/jupyter.html\" target=\"_blank\">(Documentation)</a>.<br/>\n",
       "                Project page: <a href=\"https://wandb.ai/dataskywalker/Jigsaw\" target=\"_blank\">https://wandb.ai/dataskywalker/Jigsaw</a><br/>\n",
       "                Run page: <a href=\"https://wandb.ai/dataskywalker/Jigsaw/runs/35fa3ll7\" target=\"_blank\">https://wandb.ai/dataskywalker/Jigsaw/runs/35fa3ll7</a><br/>\n",
       "                Run data is saved locally in <code>/mnt/work/shimizu/kaggle/Jigsaw/notebooks/wandb/run-20220127_091213-35fa3ll7</code><br/><br/>\n",
       "            "
      ],
      "text/plain": [
       "<IPython.core.display.HTML object>"
      ]
     },
     "metadata": {},
     "output_type": "display_data"
    },
    {
     "data": {
      "text/html": [
       "<pre style=\"white-space:pre;overflow-x:auto;line-height:normal;font-family:Menlo,'DejaVu Sans Mono',consolas,'Courier New',monospace\">┏━━━┳━━━━━━━━━━━━┳━━━━━━━━━━━━━━━━━┳━━━━━━━━┓\n",
       "┃<span style=\"color: #800080; text-decoration-color: #800080; font-weight: bold\">   </span>┃<span style=\"color: #800080; text-decoration-color: #800080; font-weight: bold\"> Name       </span>┃<span style=\"color: #800080; text-decoration-color: #800080; font-weight: bold\"> Type            </span>┃<span style=\"color: #800080; text-decoration-color: #800080; font-weight: bold\"> Params </span>┃\n",
       "┡━━━╇━━━━━━━━━━━━╇━━━━━━━━━━━━━━━━━╇━━━━━━━━┩\n",
       "│<span style=\"color: #7f7f7f; text-decoration-color: #7f7f7f\"> 0 </span>│ base_model │ BertForMaskedLM │  109 M │\n",
       "│<span style=\"color: #7f7f7f; text-decoration-color: #7f7f7f\"> 1 </span>│ norm       │ LayerNorm       │  1.5 K │\n",
       "│<span style=\"color: #7f7f7f; text-decoration-color: #7f7f7f\"> 2 </span>│ drop       │ Dropout         │      0 │\n",
       "│<span style=\"color: #7f7f7f; text-decoration-color: #7f7f7f\"> 3 </span>│ head       │ Linear          │  4.6 K │\n",
       "│<span style=\"color: #7f7f7f; text-decoration-color: #7f7f7f\"> 4 </span>│ criterion  │ MSELoss         │      0 │\n",
       "└───┴────────────┴─────────────────┴────────┘\n",
       "</pre>\n"
      ],
      "text/plain": [
       "┏━━━┳━━━━━━━━━━━━┳━━━━━━━━━━━━━━━━━┳━━━━━━━━┓\n",
       "┃\u001b[1;35m \u001b[0m\u001b[1;35m \u001b[0m\u001b[1;35m \u001b[0m┃\u001b[1;35m \u001b[0m\u001b[1;35mName      \u001b[0m\u001b[1;35m \u001b[0m┃\u001b[1;35m \u001b[0m\u001b[1;35mType           \u001b[0m\u001b[1;35m \u001b[0m┃\u001b[1;35m \u001b[0m\u001b[1;35mParams\u001b[0m\u001b[1;35m \u001b[0m┃\n",
       "┡━━━╇━━━━━━━━━━━━╇━━━━━━━━━━━━━━━━━╇━━━━━━━━┩\n",
       "│\u001b[2m \u001b[0m\u001b[2m0\u001b[0m\u001b[2m \u001b[0m│ base_model │ BertForMaskedLM │  109 M │\n",
       "│\u001b[2m \u001b[0m\u001b[2m1\u001b[0m\u001b[2m \u001b[0m│ norm       │ LayerNorm       │  1.5 K │\n",
       "│\u001b[2m \u001b[0m\u001b[2m2\u001b[0m\u001b[2m \u001b[0m│ drop       │ Dropout         │      0 │\n",
       "│\u001b[2m \u001b[0m\u001b[2m3\u001b[0m\u001b[2m \u001b[0m│ head       │ Linear          │  4.6 K │\n",
       "│\u001b[2m \u001b[0m\u001b[2m4\u001b[0m\u001b[2m \u001b[0m│ criterion  │ MSELoss         │      0 │\n",
       "└───┴────────────┴─────────────────┴────────┘\n"
      ]
     },
     "metadata": {},
     "output_type": "display_data"
    },
    {
     "data": {
      "text/html": [
       "<pre style=\"white-space:pre;overflow-x:auto;line-height:normal;font-family:Menlo,'DejaVu Sans Mono',consolas,'Courier New',monospace\"><span style=\"font-weight: bold\">Trainable params</span>: 109 M                                                                      \n",
       "<span style=\"font-weight: bold\">Non-trainable params</span>: 0                                                                      \n",
       "<span style=\"font-weight: bold\">Total params</span>: 109 M                                                                          \n",
       "<span style=\"font-weight: bold\">Total estimated model params size (MB)</span>: 438                                                  \n",
       "</pre>\n"
      ],
      "text/plain": [
       "\u001b[1mTrainable params\u001b[0m: 109 M                                                                      \n",
       "\u001b[1mNon-trainable params\u001b[0m: 0                                                                      \n",
       "\u001b[1mTotal params\u001b[0m: 109 M                                                                          \n",
       "\u001b[1mTotal estimated model params size (MB)\u001b[0m: 438                                                  \n"
      ]
     },
     "metadata": {},
     "output_type": "display_data"
    },
    {
     "data": {
      "application/vnd.jupyter.widget-view+json": {
       "model_id": "115c253740bf4b2d898f8fbf5ff9aff9",
       "version_major": 2,
       "version_minor": 0
      },
      "text/plain": [
       "Output()"
      ]
     },
     "metadata": {},
     "output_type": "display_data"
    }
   ],
   "source": [
    "## Training\n",
    "config.trainer.fast_dev_run = False\n",
    "config.backbone.output_dim = len(target_cols)\n",
    "\n",
    "for fold in config.train_fold:\n",
    "    \n",
    "    print(\"★\"*25, f\" Fold{fold+1} \", \"★\"*25)\n",
    "\n",
    "    df_train = train_df[train_df.kfold != fold].reset_index(drop=True)\n",
    "\n",
    "    datamodule = JigsawDataModule(df_train, val_df, test_df, config)\n",
    "    sample_dataloader = JigsawDataModule(df_train, val_df, test_df, config).train_dataloader()\n",
    "\n",
    "    config.scheduler.params.T_0 = config.epoch * len(sample_dataloader)\n",
    "    model = JigsawModel(config, fold)\n",
    "    lr_monitor = callbacks.LearningRateMonitor()\n",
    "\n",
    "    loss_checkpoint = callbacks.ModelCheckpoint(\n",
    "        filename=f\"best_acc_fold{fold+1}\",\n",
    "        monitor=f\"valid_acc/fold{fold+1}\",\n",
    "        save_top_k=1,\n",
    "        mode=\"max\",\n",
    "        save_last=False,\n",
    "        dirpath=MODEL_DIR,\n",
    "        save_weights_only=True,\n",
    "    )\n",
    "\n",
    "    wandb_logger = WandbLogger(\n",
    "        project=config.project, \n",
    "        entity=config.entity,\n",
    "        name = f\"{config.exp_name}\",\n",
    "        tags = ['Hate-BERT', \"Jigsaw-Classification\"]\n",
    "    )\n",
    "\n",
    "    lr_monitor = LearningRateMonitor(logging_interval='step')\n",
    "\n",
    "    trainer = pl.Trainer(\n",
    "        max_epochs=config.epoch,\n",
    "        callbacks=[loss_checkpoint, lr_monitor, RichProgressBar()],\n",
    "#         deterministic=True,\n",
    "        logger=[wandb_logger],\n",
    "        **config.trainer\n",
    "    )\n",
    "    trainer.fit(model, datamodule=datamodule)"
   ]
  },
  {
   "cell_type": "code",
   "execution_count": 39,
   "id": "cb4b5eec",
   "metadata": {},
   "outputs": [
    {
     "name": "stdout",
     "output_type": "stream",
     "text": [
      "Device == cuda\n",
      "★★★★★★★★★★★★★★★★★★★★★★★★★  Fold1  ★★★★★★★★★★★★★★★★★★★★★★★★★\n",
      "Use Model: GroNLP/hateBERT\n",
      "Use Model: GroNLP/hateBERT\n"
     ]
    },
    {
     "data": {
      "application/vnd.jupyter.widget-view+json": {
       "model_id": "4bd67af6c76f4c3fb1a8eae92bca9861",
       "version_major": 2,
       "version_minor": 0
      },
      "text/plain": [
       "  0%|          | 0/3764 [00:00<?, ?it/s]"
      ]
     },
     "metadata": {},
     "output_type": "display_data"
    },
    {
     "name": "stdout",
     "output_type": "stream",
     "text": [
      "★★★★★★★★★★★★★★★★★★★★★★★★★  Fold2  ★★★★★★★★★★★★★★★★★★★★★★★★★\n",
      "Use Model: GroNLP/hateBERT\n",
      "Use Model: GroNLP/hateBERT\n"
     ]
    },
    {
     "data": {
      "application/vnd.jupyter.widget-view+json": {
       "model_id": "037e99715faa44cf96c840f2123f4136",
       "version_major": 2,
       "version_minor": 0
      },
      "text/plain": [
       "  0%|          | 0/3764 [00:00<?, ?it/s]"
      ]
     },
     "metadata": {},
     "output_type": "display_data"
    },
    {
     "name": "stdout",
     "output_type": "stream",
     "text": [
      "★★★★★★★★★★★★★★★★★★★★★★★★★  Fold3  ★★★★★★★★★★★★★★★★★★★★★★★★★\n",
      "Use Model: GroNLP/hateBERT\n",
      "Use Model: GroNLP/hateBERT\n"
     ]
    },
    {
     "data": {
      "application/vnd.jupyter.widget-view+json": {
       "model_id": "bd66e38ddc6941b08214be05afd90fe4",
       "version_major": 2,
       "version_minor": 0
      },
      "text/plain": [
       "  0%|          | 0/3764 [00:00<?, ?it/s]"
      ]
     },
     "metadata": {},
     "output_type": "display_data"
    },
    {
     "name": "stdout",
     "output_type": "stream",
     "text": [
      "★★★★★★★★★★★★★★★★★★★★★★★★★  Fold4  ★★★★★★★★★★★★★★★★★★★★★★★★★\n",
      "Use Model: GroNLP/hateBERT\n",
      "Use Model: GroNLP/hateBERT\n"
     ]
    },
    {
     "data": {
      "application/vnd.jupyter.widget-view+json": {
       "model_id": "2187bd5383754aa88223e753c3a5a0ef",
       "version_major": 2,
       "version_minor": 0
      },
      "text/plain": [
       "  0%|          | 0/3764 [00:00<?, ?it/s]"
      ]
     },
     "metadata": {},
     "output_type": "display_data"
    },
    {
     "name": "stdout",
     "output_type": "stream",
     "text": [
      "★★★★★★★★★★★★★★★★★★★★★★★★★  Fold5  ★★★★★★★★★★★★★★★★★★★★★★★★★\n",
      "Use Model: GroNLP/hateBERT\n",
      "Use Model: GroNLP/hateBERT\n"
     ]
    },
    {
     "data": {
      "application/vnd.jupyter.widget-view+json": {
       "model_id": "b3481ddd4f314727ab83a76d84a77c60",
       "version_major": 2,
       "version_minor": 0
      },
      "text/plain": [
       "  0%|          | 0/3764 [00:00<?, ?it/s]"
      ]
     },
     "metadata": {},
     "output_type": "display_data"
    }
   ],
   "source": [
    "device = torch.device('cuda' if torch.cuda.is_available() else 'cpu')\n",
    "config.backbone.output_dim = len(target_cols)\n",
    "\n",
    "print(f\"Device == {device}\")\n",
    "\n",
    "MORE = np.zeros((len(val_df), config.backbone.output_dim))\n",
    "LESS = np.zeros((len(val_df), config.backbone.output_dim))\n",
    "PRED = np.zeros((len(test_df), config.backbone.output_dim))\n",
    "\n",
    "attention_array = np.zeros((len(val_df), 256)) # attention格納\n",
    "mask_array = np.zeros((len(val_df), 256)) # mask情報格納,後でattentionと掛け合わせる\n",
    "\n",
    "for fold in config.train_fold:\n",
    "\n",
    "    pred_list = []\n",
    "    print(\"★\"*25, f\" Fold{fold+1} \", \"★\"*25)\n",
    "\n",
    "    valid_dataloader = JigsawDataModule(train_df, val_df, test_df, config).val_dataloader()\n",
    "    model = JigsawModel(config, fold)\n",
    "\n",
    "    loss_checkpoint = callbacks.ModelCheckpoint(\n",
    "        filename=f\"best_acc_fold{fold+1}\",\n",
    "        monitor=f\"valid_acc/fold{fold+1}\",\n",
    "        save_top_k=1,\n",
    "        mode=\"max\",\n",
    "        save_last=False,\n",
    "        dirpath=\"../input/toxicroberta/\",\n",
    "    )\n",
    "    model = model.load_from_checkpoint(MODEL_DIR/f\"best_acc_fold{fold+1}-v1.ckpt\", cfg=config, fold_num=fold)\n",
    "    model.to(device)\n",
    "    model.eval()\n",
    "    \n",
    "    more_list = []\n",
    "    less_list = []\n",
    "    \n",
    "    for step, data in tqdm(enumerate(valid_dataloader), total=len(valid_dataloader)):\n",
    "\n",
    "        more_toxic_ids = data['more_toxic_ids'].to(device)\n",
    "        more_toxic_mask = data['more_toxic_mask'].to(device)\n",
    "        more_text_token_type_ids = data['more_token_type_ids'].to(device)\n",
    "        \n",
    "        less_toxic_ids = data['less_toxic_ids'].to(device)\n",
    "        less_toxic_mask = data['less_toxic_mask'].to(device)\n",
    "        less_text_token_type_ids = data['less_token_type_ids'].to(device)\n",
    "        \n",
    "        more_outputs = model(\n",
    "            more_toxic_ids, \n",
    "            more_toxic_mask,\n",
    "            more_text_token_type_ids,\n",
    "        )\n",
    "        \n",
    "        less_outputs = model(\n",
    "            less_toxic_ids, \n",
    "            less_toxic_mask,\n",
    "            less_text_token_type_ids\n",
    "        )\n",
    "        \n",
    "        more_list.append(more_outputs[\"logits\"].detach().cpu().numpy())\n",
    "        less_list.append(less_outputs[\"logits\"].detach().cpu().numpy())\n",
    "\n",
    "    MORE += np.concatenate(more_list)/len(config.train_fold)\n",
    "    LESS += np.concatenate(less_list)/len(config.train_fold)\n",
    "#     PRED += pred_list/len(config.train_fold)"
   ]
  },
  {
   "cell_type": "code",
   "execution_count": 40,
   "id": "397336c2",
   "metadata": {},
   "outputs": [
    {
     "data": {
      "image/png": "[encoded data removed]",
      "text/plain": [
       "<Figure size 864x360 with 1 Axes>"
      ]
     },
     "metadata": {
      "needs_background": "light"
     },
     "output_type": "display_data"
    }
   ],
   "source": [
    "plt.figure(figsize=(12, 5))\n",
    "plt.scatter(LESS, MORE)\n",
    "plt.xlabel(\"less-toxic\")\n",
    "plt.ylabel(\"more-toxic\")\n",
    "plt.grid()\n",
    "plt.show()"
   ]
  },
  {
   "cell_type": "code",
   "execution_count": 41,
   "id": "c3755bb8",
   "metadata": {},
   "outputs": [
    {
     "name": "stdout",
     "output_type": "stream",
     "text": [
      "exp033 Score: 0.687160\n"
     ]
    }
   ],
   "source": [
    "val_df[\"less_attack\"] = LESS.sum(axis=1)\n",
    "val_df[\"more_attack\"] = MORE.sum(axis=1)\n",
    "val_df[\"diff_attack\"] = val_df[\"more_attack\"] - val_df[\"less_attack\"]\n",
    "attack_score = val_df[val_df[\"diff_attack\"]>0][\"diff_attack\"].count()/len(val_df)\n",
    "print(f\"exp033 Score: {attack_score:.6f}\")"
   ]
  },
  {
   "cell_type": "markdown",
   "id": "ad89bffc",
   "metadata": {},
   "source": [
    "<br>\n",
    "<h2 style = \"font-size:45px;\n",
    "             font-family:Comic Sans MS ;\n",
    "             font-weight : normal;\n",
    "             background-color: #eeebf1 ;\n",
    "             color : #4c1c84;\n",
    "             text-align: center; \n",
    "             border-radius: 100px 100px;\">\n",
    "    Attention Visualize\n",
    "</h2>\n",
    "<br>"
   ]
  },
  {
   "cell_type": "code",
   "execution_count": 42,
   "id": "af82a137",
   "metadata": {},
   "outputs": [
    {
     "data": {
      "text/html": [
       "<div>\n",
       "<style scoped>\n",
       "    .dataframe tbody tr th:only-of-type {\n",
       "        vertical-align: middle;\n",
       "    }\n",
       "\n",
       "    .dataframe tbody tr th {\n",
       "        vertical-align: top;\n",
       "    }\n",
       "\n",
       "    .dataframe thead th {\n",
       "        text-align: right;\n",
       "    }\n",
       "</style>\n",
       "<table border=\"1\" class=\"dataframe\">\n",
       "  <thead>\n",
       "    <tr style=\"text-align: right;\">\n",
       "      <th></th>\n",
       "      <th>text</th>\n",
       "    </tr>\n",
       "  </thead>\n",
       "  <tbody>\n",
       "    <tr>\n",
       "      <th>0</th>\n",
       "      <td>xman52 i talking rubbish again when calzaghe f...</td>\n",
       "    </tr>\n",
       "    <tr>\n",
       "      <th>1</th>\n",
       "      <td>is congratulations on receiving the bitch star...</td>\n",
       "    </tr>\n",
       "    <tr>\n",
       "      <th>2</th>\n",
       "      <td>hi dipshit just so we re clear i i into vandal...</td>\n",
       "    </tr>\n",
       "    <tr>\n",
       "      <th>3</th>\n",
       "      <td>sweetie darlings you will never outrun me i ha...</td>\n",
       "    </tr>\n",
       "    <tr>\n",
       "      <th>4</th>\n",
       "      <td>either way you should unprotect the article an...</td>\n",
       "    </tr>\n",
       "  </tbody>\n",
       "</table>\n",
       "</div>"
      ],
      "text/plain": [
       "                                                text\n",
       "0  xman52 i talking rubbish again when calzaghe f...\n",
       "1  is congratulations on receiving the bitch star...\n",
       "2  hi dipshit just so we re clear i i into vandal...\n",
       "3  sweetie darlings you will never outrun me i ha...\n",
       "4  either way you should unprotect the article an..."
      ]
     },
     "metadata": {},
     "output_type": "display_data"
    },
    {
     "data": {
      "text/plain": [
       "(14317, 1)"
      ]
     },
     "metadata": {},
     "output_type": "display_data"
    }
   ],
   "source": [
    "text_df = pd.DataFrame()\n",
    "text_df[\"text\"] = list(set(val_df[\"less_toxic\"].unique().tolist() + val_df[\"more_toxic\"].unique().tolist()))\n",
    "\n",
    "display(text_df.head())\n",
    "display(text_df.shape)"
   ]
  },
  {
   "cell_type": "code",
   "execution_count": 44,
   "id": "0813e65e",
   "metadata": {},
   "outputs": [
    {
     "name": "stdout",
     "output_type": "stream",
     "text": [
      "Device == cuda\n",
      "★★★★★★★★★★★★★★★★★★★★★★★★★  Fold1  ★★★★★★★★★★★★★★★★★★★★★★★★★\n",
      "Use Model: GroNLP/hateBERT\n",
      "Use Model: GroNLP/hateBERT\n"
     ]
    },
    {
     "data": {
      "application/vnd.jupyter.widget-view+json": {
       "model_id": "842025eff03f4aa1bee009801b58ed73",
       "version_major": 2,
       "version_minor": 0
      },
      "text/plain": [
       "  0%|          | 0/1790 [00:00<?, ?it/s]"
      ]
     },
     "metadata": {},
     "output_type": "display_data"
    },
    {
     "name": "stdout",
     "output_type": "stream",
     "text": [
      "★★★★★★★★★★★★★★★★★★★★★★★★★  Fold2  ★★★★★★★★★★★★★★★★★★★★★★★★★\n",
      "Use Model: GroNLP/hateBERT\n",
      "Use Model: GroNLP/hateBERT\n"
     ]
    },
    {
     "data": {
      "application/vnd.jupyter.widget-view+json": {
       "model_id": "79061f8b8e3f4216ac53cfafe4fd4376",
       "version_major": 2,
       "version_minor": 0
      },
      "text/plain": [
       "  0%|          | 0/1790 [00:00<?, ?it/s]"
      ]
     },
     "metadata": {},
     "output_type": "display_data"
    },
    {
     "name": "stdout",
     "output_type": "stream",
     "text": [
      "★★★★★★★★★★★★★★★★★★★★★★★★★  Fold3  ★★★★★★★★★★★★★★★★★★★★★★★★★\n",
      "Use Model: GroNLP/hateBERT\n",
      "Use Model: GroNLP/hateBERT\n"
     ]
    },
    {
     "data": {
      "application/vnd.jupyter.widget-view+json": {
       "model_id": "d6eb7cff5a4846cd95ad561b6e9b05fa",
       "version_major": 2,
       "version_minor": 0
      },
      "text/plain": [
       "  0%|          | 0/1790 [00:00<?, ?it/s]"
      ]
     },
     "metadata": {},
     "output_type": "display_data"
    },
    {
     "name": "stdout",
     "output_type": "stream",
     "text": [
      "★★★★★★★★★★★★★★★★★★★★★★★★★  Fold4  ★★★★★★★★★★★★★★★★★★★★★★★★★\n",
      "Use Model: GroNLP/hateBERT\n",
      "Use Model: GroNLP/hateBERT\n"
     ]
    },
    {
     "data": {
      "application/vnd.jupyter.widget-view+json": {
       "model_id": "2da7a3a90c924bf5a013959d5947136c",
       "version_major": 2,
       "version_minor": 0
      },
      "text/plain": [
       "  0%|          | 0/1790 [00:00<?, ?it/s]"
      ]
     },
     "metadata": {},
     "output_type": "display_data"
    },
    {
     "name": "stdout",
     "output_type": "stream",
     "text": [
      "★★★★★★★★★★★★★★★★★★★★★★★★★  Fold5  ★★★★★★★★★★★★★★★★★★★★★★★★★\n",
      "Use Model: GroNLP/hateBERT\n",
      "Use Model: GroNLP/hateBERT\n"
     ]
    },
    {
     "data": {
      "application/vnd.jupyter.widget-view+json": {
       "model_id": "c280db75be844c1aae871bff1dd15fd3",
       "version_major": 2,
       "version_minor": 0
      },
      "text/plain": [
       "  0%|          | 0/1790 [00:00<?, ?it/s]"
      ]
     },
     "metadata": {},
     "output_type": "display_data"
    }
   ],
   "source": [
    "device = torch.device('cuda' if torch.cuda.is_available() else 'cpu')\n",
    "config.backbone.output_dim = len(target_cols)\n",
    "\n",
    "print(f\"Device == {device}\")\n",
    "\n",
    "attention_array = np.zeros((len(text_df), config.max_length)) # attention格納\n",
    "mask_array = np.zeros((len(text_df), config.max_length)) # mask情報格納,後でattentionと掛け合わせる\n",
    "feature_array = np.zeros((len(text_df), 768))\n",
    "PRED = np.zeros((len(text_df), config.backbone.output_dim))\n",
    "\n",
    "for fold in config.train_fold:\n",
    "\n",
    "    pred_list = []\n",
    "    print(\"★\"*25, f\" Fold{fold+1} \", \"★\"*25)\n",
    "\n",
    "    test_dataloader = JigsawDataModule(train_df, val_df, text_df, config).test_dataloader()\n",
    "    model = JigsawModel(config, fold)\n",
    "\n",
    "    loss_checkpoint = callbacks.ModelCheckpoint(\n",
    "        filename=f\"best_acc_fold{fold+1}\",\n",
    "        monitor=f\"valid_acc/fold{fold+1}\",\n",
    "        save_top_k=1,\n",
    "        mode=\"max\",\n",
    "        save_last=False,\n",
    "        dirpath=\"../input/toxicroberta/\",\n",
    "    )\n",
    "    model = model.load_from_checkpoint(MODEL_DIR/f\"best_acc_fold{fold+1}-v1.ckpt\", cfg=config, fold_num=fold)\n",
    "    model.to(device)\n",
    "    model.eval()\n",
    "    \n",
    "    attention_list = []\n",
    "    feature_list = []\n",
    "    mask_list = []\n",
    "    pred_list = []\n",
    "    \n",
    "    for step, data in tqdm(enumerate(test_dataloader), total=len(test_dataloader)):\n",
    "\n",
    "        text_ids = data[\"text_ids\"].to(device)\n",
    "        text_mask = data[\"text_mask\"].to(device)\n",
    "        text_token_type_ids = data[\"text_token_type_ids\"].to(device)\n",
    "        \n",
    "        mask_list.append(text_mask.detach().cpu().numpy())\n",
    "            \n",
    "        outputs = model(\n",
    "            text_ids, \n",
    "            text_mask,\n",
    "            text_token_type_ids,\n",
    "        )\n",
    "        \n",
    "        ## Last LayerのCLS Tokenに対するAttention\n",
    "        last_attention = outputs[\"attention\"][-1].detach().cpu().numpy()\n",
    "        total_attention = np.zeros((last_attention.shape[0], config.max_length))\n",
    "        \n",
    "        for batch in range(last_attention.shape[0]):\n",
    "            for n_head in range(12):\n",
    "                total_attention[batch, :] += last_attention[batch, n_head, 0, :]\n",
    "                \n",
    "        attention_list.append(total_attention)\n",
    "        pred_list.append(outputs[\"logits\"].detach().cpu().numpy())\n",
    "        feature_list.append(outputs[\"feature\"].detach().cpu().numpy())\n",
    "\n",
    "    attention_array += np.concatenate(attention_list)/config.n_fold\n",
    "    mask_array += np.concatenate(mask_list)/config.n_fold\n",
    "    feature_array += np.concatenate(feature_list)/config.n_fold\n",
    "    PRED += np.concatenate(pred_list)/len(config.train_fold)\n",
    "    \n",
    "    "
   ]
  },
  {
   "cell_type": "code",
   "execution_count": 45,
   "id": "e9a3a0d4",
   "metadata": {},
   "outputs": [],
   "source": [
    "text_df[\"target\"] = PRED[:, 0]\n",
    "text_df.to_pickle(OUTPUT_DIR/\"text_df.pkl\")\n",
    "np.save(OUTPUT_DIR/'toxic-bert-exp033-attention.npy', attention_array)\n",
    "np.save(OUTPUT_DIR/'toxic-bert-exp033-mask.npy', mask_array)\n",
    "np.save(OUTPUT_DIR/'toxic-bert-exp033-feature.npy', feature_array)"
   ]
  },
  {
   "cell_type": "code",
   "execution_count": 46,
   "id": "f56370eb",
   "metadata": {},
   "outputs": [
    {
     "data": {
      "image/png": "[encoded data removed]",
      "text/plain": [
       "<Figure size 864x360 with 1 Axes>"
      ]
     },
     "metadata": {
      "needs_background": "light"
     },
     "output_type": "display_data"
    }
   ],
   "source": [
    "plt.figure(figsize=(12, 5))\n",
    "sns.histplot(text_df[\"target\"], color=\"#4c1c84\")\n",
    "plt.grid()\n",
    "plt.show()"
   ]
  },
  {
   "cell_type": "markdown",
   "id": "b46a8bcd",
   "metadata": {},
   "source": [
    "<br>\n",
    "<h2 style = \"font-size:45px;\n",
    "             font-family:Comic Sans MS ;\n",
    "             font-weight : normal;\n",
    "             background-color: #eeebf1 ;\n",
    "             color : #4c1c84;\n",
    "             text-align: center; \n",
    "             border-radius: 100px 100px;\">\n",
    "    Attention Load\n",
    "</h2>\n",
    "<br>"
   ]
  },
  {
   "cell_type": "code",
   "execution_count": 47,
   "id": "fd1994ef",
   "metadata": {},
   "outputs": [],
   "source": [
    "text_df = pd.read_pickle(OUTPUT_DIR/\"text_df.pkl\")\n",
    "attention_array = np.load(OUTPUT_DIR/'toxic-bert-exp033-attention.npy')\n",
    "mask_array = np.load(OUTPUT_DIR/'toxic-bert-exp033-mask.npy')\n",
    "feature_array = np.load(OUTPUT_DIR/'toxic-bert-exp033-feature.npy')"
   ]
  },
  {
   "cell_type": "code",
   "execution_count": 48,
   "id": "89493f7d",
   "metadata": {},
   "outputs": [],
   "source": [
    "from IPython.display import display, HTML\n",
    "\n",
    "def highlight_r(word, attn):\n",
    "    html_color = '#%02X%02X%02X' % (255, int(255*(1 - attn)), int(255*(1 - attn)))\n",
    "    return '<span style=\"background-color: {}\">{}</span>'.format(html_color, word)"
   ]
  },
  {
   "cell_type": "code",
   "execution_count": 49,
   "id": "4d6dba5e",
   "metadata": {},
   "outputs": [
    {
     "name": "stdout",
     "output_type": "stream",
     "text": [
      "Offensive Score is 0.9471661150455475\n"
     ]
    },
    {
     "data": {
      "text/html": [
       "<span style=\"background-color: #FFD0D0\">[CLS]</span> <span style=\"background-color: #FFCDCD\">not</span> <span style=\"background-color: #FFC1C1\">me</span> <span style=\"background-color: #FFD0D0\">doing</span> <span style=\"background-color: #FFD2D2\">the</span> <span style=\"background-color: #FFDBDB\">shock</span> <span style=\"background-color: #FFE1E1\">##er</span> <span style=\"background-color: #FFCCCC\">bitch</span> <span style=\"background-color: #FF-989-989\">[SEP]</span>"
      ],
      "text/plain": [
       "<IPython.core.display.HTML object>"
      ]
     },
     "metadata": {},
     "output_type": "display_data"
    },
    {
     "data": {
      "text/plain": [
       "'not me doing the shocker bitch'"
      ]
     },
     "metadata": {},
     "output_type": "display_data"
    }
   ],
   "source": [
    "num = 12\n",
    "\n",
    "ids = config.tokenizer(text_df.loc[num, \"text\"])[\"input_ids\"]\n",
    "tokens = config.tokenizer.convert_ids_to_tokens(ids)\n",
    "attention = attention_array[num, :][np.nonzero(mask_array[num, :])]\n",
    "\n",
    "html_outputs = []\n",
    "\n",
    "for word, attn in zip(tokens, attention):\n",
    "    html_outputs.append(highlight_r(word, attn))\n",
    "\n",
    "print(f\"Offensive Score is {PRED[num, 0]}\")\n",
    "display(HTML(' '.join(html_outputs)))\n",
    "display(text_df.loc[num, \"text\"])"
   ]
  },
  {
   "cell_type": "code",
   "execution_count": 50,
   "id": "7ad6d935",
   "metadata": {},
   "outputs": [
    {
     "data": {
      "text/html": [
       "<div>\n",
       "<style scoped>\n",
       "    .dataframe tbody tr th:only-of-type {\n",
       "        vertical-align: middle;\n",
       "    }\n",
       "\n",
       "    .dataframe tbody tr th {\n",
       "        vertical-align: top;\n",
       "    }\n",
       "\n",
       "    .dataframe thead th {\n",
       "        text-align: right;\n",
       "    }\n",
       "</style>\n",
       "<table border=\"1\" class=\"dataframe\">\n",
       "  <thead>\n",
       "    <tr style=\"text-align: right;\">\n",
       "      <th></th>\n",
       "      <th>text</th>\n",
       "      <th>target</th>\n",
       "    </tr>\n",
       "  </thead>\n",
       "  <tbody>\n",
       "    <tr>\n",
       "      <th>4942</th>\n",
       "      <td>congratulations on being such a huge fucking a...</td>\n",
       "      <td>1.174115</td>\n",
       "    </tr>\n",
       "    <tr>\n",
       "      <th>13726</th>\n",
       "      <td>you can also go out and suck 500 dicks and suc...</td>\n",
       "      <td>1.174111</td>\n",
       "    </tr>\n",
       "    <tr>\n",
       "      <th>8017</th>\n",
       "      <td>dumbledore suck my balls i suck my balls</td>\n",
       "      <td>1.174053</td>\n",
       "    </tr>\n",
       "    <tr>\n",
       "      <th>243</th>\n",
       "      <td>you suck deadly assassin is gay</td>\n",
       "      <td>1.170887</td>\n",
       "    </tr>\n",
       "    <tr>\n",
       "      <th>13350</th>\n",
       "      <td>penis pennis penis pensnsnniensnsn penis penis...</td>\n",
       "      <td>1.168586</td>\n",
       "    </tr>\n",
       "    <tr>\n",
       "      <th>7062</th>\n",
       "      <td>epbr123 is a bigger faggot then wikipedia and ...</td>\n",
       "      <td>1.164875</td>\n",
       "    </tr>\n",
       "    <tr>\n",
       "      <th>3228</th>\n",
       "      <td>i am a really big fat fag i like to jerkoff in...</td>\n",
       "      <td>1.163759</td>\n",
       "    </tr>\n",
       "    <tr>\n",
       "      <th>11468</th>\n",
       "      <td>i love dicks in my butt user</td>\n",
       "      <td>1.162294</td>\n",
       "    </tr>\n",
       "    <tr>\n",
       "      <th>5796</th>\n",
       "      <td>go fuck yourselfto fuck yourselfto fuck yourse...</td>\n",
       "      <td>1.159175</td>\n",
       "    </tr>\n",
       "    <tr>\n",
       "      <th>6948</th>\n",
       "      <td>hi im so gay and retarded we suck so many ball...</td>\n",
       "      <td>1.159142</td>\n",
       "    </tr>\n",
       "    <tr>\n",
       "      <th>7394</th>\n",
       "      <td>i am a cuntbag i am a cuntbag i am a cuntbag i...</td>\n",
       "      <td>1.156866</td>\n",
       "    </tr>\n",
       "    <tr>\n",
       "      <th>10357</th>\n",
       "      <td>i am a cuntbag i am a cuntbag i am a cuntbag i...</td>\n",
       "      <td>1.156866</td>\n",
       "    </tr>\n",
       "    <tr>\n",
       "      <th>7338</th>\n",
       "      <td>you suck it big time you suck it big time</td>\n",
       "      <td>1.154853</td>\n",
       "    </tr>\n",
       "    <tr>\n",
       "      <th>905</th>\n",
       "      <td>how big is ur cock i wanna suck u dry</td>\n",
       "      <td>1.154759</td>\n",
       "    </tr>\n",
       "    <tr>\n",
       "      <th>12854</th>\n",
       "      <td>i i wanna fuck a dog in the ass</td>\n",
       "      <td>1.153696</td>\n",
       "    </tr>\n",
       "    <tr>\n",
       "      <th>9250</th>\n",
       "      <td>matt bakers dad sucked my big fat cock last night</td>\n",
       "      <td>1.150695</td>\n",
       "    </tr>\n",
       "    <tr>\n",
       "      <th>10484</th>\n",
       "      <td>people on this site suck people on this site suck</td>\n",
       "      <td>1.148858</td>\n",
       "    </tr>\n",
       "    <tr>\n",
       "      <th>8364</th>\n",
       "      <td>wesley bart likes to suck cock loves that cock...</td>\n",
       "      <td>1.148590</td>\n",
       "    </tr>\n",
       "    <tr>\n",
       "      <th>1603</th>\n",
       "      <td>everybody lock ur dicks cuz theyre gay</td>\n",
       "      <td>1.148016</td>\n",
       "    </tr>\n",
       "    <tr>\n",
       "      <th>1420</th>\n",
       "      <td>i fucked your mom last night it felt awsome i ...</td>\n",
       "      <td>1.147632</td>\n",
       "    </tr>\n",
       "  </tbody>\n",
       "</table>\n",
       "</div>"
      ],
      "text/plain": [
       "                                                    text    target\n",
       "4942   congratulations on being such a huge fucking a...  1.174115\n",
       "13726  you can also go out and suck 500 dicks and suc...  1.174111\n",
       "8017            dumbledore suck my balls i suck my balls  1.174053\n",
       "243                      you suck deadly assassin is gay  1.170887\n",
       "13350  penis pennis penis pensnsnniensnsn penis penis...  1.168586\n",
       "7062   epbr123 is a bigger faggot then wikipedia and ...  1.164875\n",
       "3228   i am a really big fat fag i like to jerkoff in...  1.163759\n",
       "11468                       i love dicks in my butt user  1.162294\n",
       "5796   go fuck yourselfto fuck yourselfto fuck yourse...  1.159175\n",
       "6948   hi im so gay and retarded we suck so many ball...  1.159142\n",
       "7394   i am a cuntbag i am a cuntbag i am a cuntbag i...  1.156866\n",
       "10357  i am a cuntbag i am a cuntbag i am a cuntbag i...  1.156866\n",
       "7338           you suck it big time you suck it big time  1.154853\n",
       "905                how big is ur cock i wanna suck u dry  1.154759\n",
       "12854                    i i wanna fuck a dog in the ass  1.153696\n",
       "9250   matt bakers dad sucked my big fat cock last night  1.150695\n",
       "10484  people on this site suck people on this site suck  1.148858\n",
       "8364   wesley bart likes to suck cock loves that cock...  1.148590\n",
       "1603              everybody lock ur dicks cuz theyre gay  1.148016\n",
       "1420   i fucked your mom last night it felt awsome i ...  1.147632"
      ]
     },
     "execution_count": 50,
     "metadata": {},
     "output_type": "execute_result"
    }
   ],
   "source": [
    "text_df.sort_values(\"target\", ascending=False).head(20)"
   ]
  },
  {
   "cell_type": "code",
   "execution_count": 51,
   "id": "0d202cb6",
   "metadata": {},
   "outputs": [
    {
     "name": "stderr",
     "output_type": "stream",
     "text": [
      "Token indices sequence length is longer than the specified maximum sequence length for this model (1194 > 512). Running this sequence through the model will result in indexing errors\n"
     ]
    },
    {
     "name": "stdout",
     "output_type": "stream",
     "text": [
      "Offensive Score is 1.1741149425506592\n"
     ]
    },
    {
     "data": {
      "text/html": [
       "<span style=\"background-color: #FFF6F6\">[CLS]</span> <span style=\"background-color: #FFF5F5\">congratulations</span> <span style=\"background-color: #FFFAFA\">on</span> <span style=\"background-color: #FFFBFB\">being</span> <span style=\"background-color: #FFFCFC\">such</span> <span style=\"background-color: #FFFCFC\">a</span> <span style=\"background-color: #FFFCFC\">huge</span> <span style=\"background-color: #FFF8F8\">fucking</span> <span style=\"background-color: #FFFBFB\">asshole</span> <span style=\"background-color: #FFFBFB\">bon</span> <span style=\"background-color: #FFFBFB\">##g</span> <span style=\"background-color: #FFFBFB\">##war</span> <span style=\"background-color: #FFFDFD\">##rio</span> <span style=\"background-color: #FFFCFC\">##rco</span> <span style=\"background-color: #FFFDFD\">##ng</span> <span style=\"background-color: #FFFCFC\">##rat</span> <span style=\"background-color: #FFFCFC\">##ual</span> <span style=\"background-color: #FFFAFA\">##tions</span> <span style=\"background-color: #FFFAFA\">on</span> <span style=\"background-color: #FFFCFC\">being</span> <span style=\"background-color: #FFFDFD\">such</span> <span style=\"background-color: #FFFDFD\">a</span> <span style=\"background-color: #FFFDFD\">huge</span> <span style=\"background-color: #FFF9F9\">fucking</span> <span style=\"background-color: #FFFCFC\">asshole</span> <span style=\"background-color: #FFFCFC\">bon</span> <span style=\"background-color: #FFFCFC\">##g</span> <span style=\"background-color: #FFFCFC\">##war</span> <span style=\"background-color: #FFFDFD\">##rio</span> <span style=\"background-color: #FFFCFC\">##rco</span> <span style=\"background-color: #FFFDFD\">##ng</span> <span style=\"background-color: #FFFDFD\">##rat</span> <span style=\"background-color: #FFFDFD\">##ual</span> <span style=\"background-color: #FFFCFC\">##tions</span> <span style=\"background-color: #FFFBFB\">on</span> <span style=\"background-color: #FFFCFC\">being</span> <span style=\"background-color: #FFFDFD\">such</span> <span style=\"background-color: #FFFDFD\">a</span> <span style=\"background-color: #FFFDFD\">huge</span> <span style=\"background-color: #FFF9F9\">fucking</span> <span style=\"background-color: #FFFDFD\">asshole</span> <span style=\"background-color: #FFFCFC\">bon</span> <span style=\"background-color: #FFFDFD\">##g</span> <span style=\"background-color: #FFFDFD\">##war</span> <span style=\"background-color: #FFFEFE\">##rio</span> <span style=\"background-color: #FFFDFD\">##rco</span> <span style=\"background-color: #FFFEFE\">##ng</span> <span style=\"background-color: #FFFEFE\">##rat</span> <span style=\"background-color: #FFFDFD\">##ual</span> <span style=\"background-color: #FFFDFD\">##tions</span> <span style=\"background-color: #FFFCFC\">on</span> <span style=\"background-color: #FFFDFD\">being</span> <span style=\"background-color: #FFFDFD\">such</span> <span style=\"background-color: #FFFDFD\">a</span> <span style=\"background-color: #FFFDFD\">huge</span> <span style=\"background-color: #FFFBFB\">fucking</span> <span style=\"background-color: #FFFDFD\">asshole</span> <span style=\"background-color: #FFFDFD\">bon</span> <span style=\"background-color: #FFFDFD\">##g</span> <span style=\"background-color: #FFFEFE\">##war</span> <span style=\"background-color: #FFFEFE\">##rio</span> <span style=\"background-color: #FFFDFD\">##rco</span> <span style=\"background-color: #FFFEFE\">##ng</span> <span style=\"background-color: #FFFDFD\">##rat</span> <span style=\"background-color: #FFFDFD\">##ual</span> <span style=\"background-color: #FFFCFC\">##tions</span> <span style=\"background-color: #FFFBFB\">on</span> <span style=\"background-color: #FFFCFC\">being</span> <span style=\"background-color: #FFFDFD\">such</span> <span style=\"background-color: #FFFEFE\">a</span> <span style=\"background-color: #FFFDFD\">huge</span> <span style=\"background-color: #FFFAFA\">fucking</span> <span style=\"background-color: #FFFDFD\">asshole</span> <span style=\"background-color: #FFFCFC\">bon</span> <span style=\"background-color: #FFFDFD\">##g</span> <span style=\"background-color: #FFFEFE\">##war</span> <span style=\"background-color: #FFFEFE\">##rio</span> <span style=\"background-color: #FFFDFD\">##rco</span> <span style=\"background-color: #FFFEFE\">##ng</span> <span style=\"background-color: #FFFEFE\">##rat</span> <span style=\"background-color: #FFFDFD\">##ual</span> <span style=\"background-color: #FFFDFD\">##tions</span> <span style=\"background-color: #FFFCFC\">on</span> <span style=\"background-color: #FFFCFC\">being</span> <span style=\"background-color: #FFFDFD\">such</span> <span style=\"background-color: #FFFDFD\">a</span> <span style=\"background-color: #FFFDFD\">huge</span> <span style=\"background-color: #FFFBFB\">fucking</span> <span style=\"background-color: #FFFDFD\">asshole</span> <span style=\"background-color: #FFFCFC\">bon</span> <span style=\"background-color: #FFFDFD\">##g</span> <span style=\"background-color: #FFFDFD\">##war</span> <span style=\"background-color: #FFFEFE\">##rio</span> <span style=\"background-color: #FFFDFD\">##rco</span> <span style=\"background-color: #FFFEFE\">##ng</span> <span style=\"background-color: #FFFDFD\">##rat</span> <span style=\"background-color: #FFFDFD\">##ual</span> <span style=\"background-color: #FFFDFD\">##tions</span> <span style=\"background-color: #FFFCFC\">on</span> <span style=\"background-color: #FFFDFD\">being</span> <span style=\"background-color: #FFFDFD\">such</span> <span style=\"background-color: #FFFEFE\">a</span> <span style=\"background-color: #FFFEFE\">huge</span> <span style=\"background-color: #FFFBFB\">fucking</span> <span style=\"background-color: #FFFDFD\">asshole</span> <span style=\"background-color: #FFFCFC\">bon</span> <span style=\"background-color: #FFFDFD\">##g</span> <span style=\"background-color: #FFFDFD\">##war</span> <span style=\"background-color: #FFFEFE\">##rio</span> <span style=\"background-color: #FFFDFD\">##rco</span> <span style=\"background-color: #FFFEFE\">##ng</span> <span style=\"background-color: #FFFDFD\">##rat</span> <span style=\"background-color: #FFFDFD\">##ual</span> <span style=\"background-color: #FFFDFD\">##tions</span> <span style=\"background-color: #FFFCFC\">on</span> <span style=\"background-color: #FFFDFD\">being</span> <span style=\"background-color: #FFFDFD\">such</span> <span style=\"background-color: #FFFEFE\">a</span> <span style=\"background-color: #FFFEFE\">huge</span> <span style=\"background-color: #FFFBFB\">fucking</span> <span style=\"background-color: #FFFDFD\">asshole</span> <span style=\"background-color: #FFFCFC\">bon</span> <span style=\"background-color: #FFFDFD\">##g</span> <span style=\"background-color: #FFFDFD\">##war</span> <span style=\"background-color: #FFFEFE\">##rio</span> <span style=\"background-color: #FFFDFD\">##rco</span> <span style=\"background-color: #FFFDFD\">##ng</span> <span style=\"background-color: #FFFDFD\">##rat</span> <span style=\"background-color: #FFFCFC\">##ual</span> <span style=\"background-color: #FFFCFC\">##tions</span> <span style=\"background-color: #FFFCFC\">on</span> <span style=\"background-color: #FFFCFC\">being</span> <span style=\"background-color: #FFFDFD\">such</span> <span style=\"background-color: #FFFDFD\">a</span> <span style=\"background-color: #FFFDFD\">huge</span> <span style=\"background-color: #FFFAFA\">fucking</span> <span style=\"background-color: #FFFDFD\">asshole</span> <span style=\"background-color: #FFFCFC\">bon</span> <span style=\"background-color: #FFFDFD\">##g</span> <span style=\"background-color: #FFFDFD\">##war</span> <span style=\"background-color: #FFFDFD\">##rio</span> <span style=\"background-color: #FFFCFC\">##rco</span> <span style=\"background-color: #FFFDFD\">##ng</span> <span style=\"background-color: #FFFCFC\">##rat</span> <span style=\"background-color: #FFFCFC\">##ual</span> <span style=\"background-color: #FFFCFC\">##tions</span> <span style=\"background-color: #FFFBFB\">on</span> <span style=\"background-color: #FFFCFC\">being</span> <span style=\"background-color: #FFFDFD\">such</span> <span style=\"background-color: #FFFDFD\">a</span> <span style=\"background-color: #FFFDFD\">huge</span> <span style=\"background-color: #FFF9F9\">fucking</span> <span style=\"background-color: #FFFDFD\">asshole</span> <span style=\"background-color: #FFFCFC\">bon</span> <span style=\"background-color: #FFFDFD\">##g</span> <span style=\"background-color: #FFFDFD\">##war</span> <span style=\"background-color: #FFFEFE\">##rio</span> <span style=\"background-color: #FFFDFD\">##rco</span> <span style=\"background-color: #FFFDFD\">##ng</span> <span style=\"background-color: #FFFDFD\">##rat</span> <span style=\"background-color: #FFFDFD\">##ual</span> <span style=\"background-color: #FFFCFC\">##tions</span> <span style=\"background-color: #FFFCFC\">on</span> <span style=\"background-color: #FFFCFC\">being</span> <span style=\"background-color: #FFFDFD\">such</span> <span style=\"background-color: #FFFDFD\">a</span> <span style=\"background-color: #FFFDFD\">huge</span> <span style=\"background-color: #FFFAFA\">fucking</span> <span style=\"background-color: #FFFDFD\">asshole</span> <span style=\"background-color: #FFFCFC\">bon</span> <span style=\"background-color: #FFFDFD\">##g</span> <span style=\"background-color: #FFFEFE\">##war</span> <span style=\"background-color: #FFFEFE\">##rio</span> <span style=\"background-color: #FFFDFD\">##rco</span> <span style=\"background-color: #FFFEFE\">##ng</span> <span style=\"background-color: #FFFEFE\">##rat</span> <span style=\"background-color: #FFFDFD\">##ual</span> <span style=\"background-color: #FFFDFD\">##tions</span> <span style=\"background-color: #FFFDFD\">on</span> <span style=\"background-color: #FFFDFD\">being</span> <span style=\"background-color: #FFFDFD\">such</span> <span style=\"background-color: #FFFEFE\">a</span> <span style=\"background-color: #FFFEFE\">huge</span> <span style=\"background-color: #FFFBFB\">fucking</span> <span style=\"background-color: #FFFDFD\">asshole</span> <span style=\"background-color: #FFFDFD\">bon</span> <span style=\"background-color: #FFFEFE\">##g</span> <span style=\"background-color: #FFFEFE\">##war</span> <span style=\"background-color: #FFFEFE\">##rio</span> <span style=\"background-color: #FFFEFE\">##rco</span> <span style=\"background-color: #FFFEFE\">##ng</span> <span style=\"background-color: #FFFEFE\">##rat</span> <span style=\"background-color: #FFFEFE\">##ual</span> <span style=\"background-color: #FFFEFE\">##tions</span> <span style=\"background-color: #FFFDFD\">on</span> <span style=\"background-color: #FFFDFD\">being</span> <span style=\"background-color: #FFFEFE\">such</span> <span style=\"background-color: #FFFEFE\">a</span> <span style=\"background-color: #FFFEFE\">huge</span> <span style=\"background-color: #FFFBFB\">fucking</span> <span style=\"background-color: #FFFEFE\">asshole</span> <span style=\"background-color: #FFFDFD\">bon</span> <span style=\"background-color: #FFFEFE\">##g</span> <span style=\"background-color: #FFFEFE\">##war</span> <span style=\"background-color: #FFFEFE\">##rio</span> <span style=\"background-color: #FFFEFE\">##rco</span> <span style=\"background-color: #FFFEFE\">##ng</span> <span style=\"background-color: #FFFEFE\">##rat</span> <span style=\"background-color: #FFFEFE\">##ual</span> <span style=\"background-color: #FFFDFD\">##tions</span> <span style=\"background-color: #FFFDFD\">on</span> <span style=\"background-color: #FFFDFD\">being</span> <span style=\"background-color: #FFFDFD\">such</span> <span style=\"background-color: #FFFEFE\">a</span> <span style=\"background-color: #FFFEFE\">huge</span> <span style=\"background-color: #FFFBFB\">fucking</span> <span style=\"background-color: #FFFDFD\">asshole</span> <span style=\"background-color: #FFFDFD\">bon</span> <span style=\"background-color: #FFFDFD\">##g</span> <span style=\"background-color: #FFFEFE\">##war</span> <span style=\"background-color: #FFFEFE\">##rio</span> <span style=\"background-color: #FFFDFD\">##rco</span> <span style=\"background-color: #FFFEFE\">##ng</span> <span style=\"background-color: #FFFDFD\">##rat</span> <span style=\"background-color: #FFFDFD\">##ual</span> <span style=\"background-color: #FFFDFD\">##tions</span> <span style=\"background-color: #FFFCFC\">on</span> <span style=\"background-color: #FFFDFD\">being</span> <span style=\"background-color: #FFFDFD\">such</span> <span style=\"background-color: #FFFEFE\">a</span> <span style=\"background-color: #FFFDFD\">huge</span> <span style=\"background-color: #FFFAFA\">fucking</span> <span style=\"background-color: #FFFDFD\">asshole</span> <span style=\"background-color: #FFFCFC\">bon</span> <span style=\"background-color: #FFFDFD\">##g</span> <span style=\"background-color: #FFFDFD\">##war</span> <span style=\"background-color: #FFFEFE\">##rio</span> <span style=\"background-color: #FFFDFD\">##rco</span> <span style=\"background-color: #FFFDFD\">##ng</span> <span style=\"background-color: #FFFDFD\">##rat</span> <span style=\"background-color: #FFFCFC\">##ual</span> <span style=\"background-color: #FFFCFC\">##tions</span> <span style=\"background-color: #FFFBFB\">on</span> <span style=\"background-color: #FFFCFC\">being</span> <span style=\"background-color: #FFFDFD\">such</span> <span style=\"background-color: #FFFDFD\">a</span> <span style=\"background-color: #FFFDFD\">huge</span> <span style=\"background-color: #FFFAFA\">fucking</span> <span style=\"background-color: #FFFDFD\">asshole</span> <span style=\"background-color: #FFFCFC\">bon</span> <span style=\"background-color: #FFFDFD\">##g</span> <span style=\"background-color: #FFFDFD\">##war</span> <span style=\"background-color: #FFFDFD\">##rio</span> <span style=\"background-color: #FFFCFC\">##rco</span> <span style=\"background-color: #FFFCFC\">##ng</span> <span style=\"background-color: #FF-91E-91E\">##rat</span>"
      ],
      "text/plain": [
       "<IPython.core.display.HTML object>"
      ]
     },
     "metadata": {},
     "output_type": "display_data"
    },
    {
     "data": {
      "text/plain": [
       "'congratulations on being such a huge fucking asshole bongwarriorcongratualtions on being such a huge fucking asshole bongwarriorcongratualtions on being such a huge fucking asshole bongwarriorcongratualtions on being such a huge fucking asshole bongwarriorcongratualtions on being such a huge fucking asshole bongwarriorcongratualtions on being such a huge fucking asshole bongwarriorcongratualtions on being such a huge fucking asshole bongwarriorcongratualtions on being such a huge fucking asshole bongwarriorcongratualtions on being such a huge fucking asshole bongwarriorcongratualtions on being such a huge fucking asshole bongwarriorcongratualtions on being such a huge fucking asshole bongwarriorcongratualtions on being such a huge fucking asshole bongwarriorcongratualtions on being such a huge fucking asshole bongwarriorcongratualtions on being such a huge fucking asshole bongwarriorcongratualtions on being such a huge fucking asshole bongwarriorcongratualtions on being such a huge fucking asshole bongwarriorcongratualtions on being such a huge fucking asshole bongwarriorcongratualtions on being such a huge fucking asshole bongwarriorcongratualtions on being such a huge fucking asshole bongwarriorcongratualtions on being such a huge fucking asshole bongwarriorcongratualtions on being such a huge fucking asshole bongwarriorcongratualtions on being such a huge fucking asshole bongwarriorcongratualtions on being such a huge fucking asshole bongwarriorcongratualtions on being such a huge fucking asshole bongwarriorcongratualtions on being such a huge fucking asshole bongwarriorcongratualtions on being such a huge fucking asshole bongwarriorcongratualtions on being such a huge fucking asshole bongwarriorcongratualtions on being such a huge fucking asshole bongwarriorcongratualtions on being such a huge fucking asshole bongwarriorcongratualtions on being such a huge fucking asshole bongwarriorcongratualtions on being such a huge fucking asshole bongwarriorcongratualtions on being such a huge fucking asshole bongwarriorcongratualtions on being such a huge fucking asshole bongwarriorcongratualtions on being such a huge fucking asshole bongwarriorcongratualtions on being such a huge fucking asshole bongwarriorcongratualtions on being such a huge fucking asshole bongwarriorcongratualtions on being such a huge fucking asshole bongwarriorcongratualtions on being such a huge fucking asshole bongwarriorcongratualtions on being such a huge fucking asshole bongwarriorcongratualtions on being such a huge fucking asshole bongwarriorcongratualtions on being such a huge fucking asshole bongwarriorcongratualtions on being such a huge fucking asshole bongwarriorcongratualtions on being such a huge fucking asshole bongwarriorcongratualtions on being such a huge fucking asshole bongwarriorcongratualtions on being such a huge fucking asshole bongwarriorcongratualtions on being such a huge fucking asshole bongwarriorcongratualtions on being such a huge fucking asshole bongwarriorcongratualtions on being such a huge fucking asshole bongwarriorcongratualtions on being such a huge fucking asshole bongwarriorcongratualtions on being such a huge fucking asshole bongwarriorcongratualtions on being such a huge fucking asshole bongwarriorcongratualtions on being such a huge fucking asshole bongwarriorcongratualtions on being such a huge fucking asshole bongwarriorcongratualtions on being such a huge fucking asshole bongwarriorcongratualtions on being such a huge fucking asshole bongwarriorcongratualtions on being such a huge fucking asshole bongwarriorcongratualtions on being such a huge fucking asshole bongwarriorcongratualtions on being such a huge fucking asshole bongwarriorcongratualtions on being such a huge fucking asshole bongwarriorcongratualtions on being such a huge fucking asshole bongwarriorcongratualtions on being such a huge fucking asshole bongwarriorcongratualtions on being such a huge fucking asshole bongwarriorcongratualtions on being such a huge fucking asshole bongwarriorcongratualtions on being such a huge fucking asshole bongwarriorcongratualtions on being such a huge fucking asshole bongwarriorcongratualtions on being such a huge fucking asshole bongwarriorcongratualtions on being such a huge fucking asshole bongwarriorcongratualtions on being such a huge fucking asshole bongwarriorcongratualtions on being such a huge fucking asshole bongwarriorcongratualtions on being such a huge fucking asshole bongwarriorcongratualtions on being such a huge fucking asshole bongwarriorcongratualtions on being such a huge fucking asshole bongwarriorcongratualtions on being such a huge fucking asshole bongwarriorcongratualtions on being such a huge fucking asshole bongwarriorcongratualtions on being such a huge fucki'"
      ]
     },
     "metadata": {},
     "output_type": "display_data"
    },
    {
     "name": "stdout",
     "output_type": "stream",
     "text": [
      "Offensive Score is 1.1741114407777786\n"
     ]
    },
    {
     "data": {
      "text/html": [
       "<span style=\"background-color: #FFE5E5\">[CLS]</span> <span style=\"background-color: #FFE6E6\">you</span> <span style=\"background-color: #FFE6E6\">can</span> <span style=\"background-color: #FFEAEA\">also</span> <span style=\"background-color: #FFEBEB\">go</span> <span style=\"background-color: #FFEDED\">out</span> <span style=\"background-color: #FFECEC\">and</span> <span style=\"background-color: #FFEDED\">suck</span> <span style=\"background-color: #FFEEEE\">500</span> <span style=\"background-color: #FFEEEE\">dick</span> <span style=\"background-color: #FFEFEF\">##s</span> <span style=\"background-color: #FFEAEA\">and</span> <span style=\"background-color: #FFEBEB\">suck</span> <span style=\"background-color: #FFEEEE\">your</span> <span style=\"background-color: #FFECEC\">daddy</span> <span style=\"background-color: #FFE6E6\">i</span> <span style=\"background-color: #FFEBEB\">dick</span> <span style=\"background-color: #FFECEC\">too</span> <span style=\"background-color: #FFEEEE\">am</span> <span style=\"background-color: #FFEEEE\">##en</span> <span style=\"background-color: #FF-972-972\">[SEP]</span>"
      ],
      "text/plain": [
       "<IPython.core.display.HTML object>"
      ]
     },
     "metadata": {},
     "output_type": "display_data"
    },
    {
     "data": {
      "text/plain": [
       "'you can also go out and suck 500 dicks and suck your daddy i dick too amen'"
      ]
     },
     "metadata": {},
     "output_type": "display_data"
    },
    {
     "name": "stdout",
     "output_type": "stream",
     "text": [
      "Offensive Score is 1.1740529835224152\n"
     ]
    },
    {
     "data": {
      "text/html": [
       "<span style=\"background-color: #FFDCDC\">[CLS]</span> <span style=\"background-color: #FFDCDC\">dumb</span> <span style=\"background-color: #FFE1E1\">##led</span> <span style=\"background-color: #FFE1E1\">##ore</span> <span style=\"background-color: #FFE1E1\">suck</span> <span style=\"background-color: #FFE8E8\">my</span> <span style=\"background-color: #FFE4E4\">balls</span> <span style=\"background-color: #FFD3D3\">i</span> <span style=\"background-color: #FFD9D9\">suck</span> <span style=\"background-color: #FFE5E5\">my</span> <span style=\"background-color: #FFDEDE\">balls</span> <span style=\"background-color: #FF-999-999\">[SEP]</span>"
      ],
      "text/plain": [
       "<IPython.core.display.HTML object>"
      ]
     },
     "metadata": {},
     "output_type": "display_data"
    },
    {
     "data": {
      "text/plain": [
       "'dumbledore suck my balls i suck my balls'"
      ]
     },
     "metadata": {},
     "output_type": "display_data"
    },
    {
     "name": "stdout",
     "output_type": "stream",
     "text": [
      "Offensive Score is 1.1708874702453613\n"
     ]
    },
    {
     "data": {
      "text/html": [
       "<span style=\"background-color: #FFD3D3\">[CLS]</span> <span style=\"background-color: #FFCCCC\">you</span> <span style=\"background-color: #FFD3D3\">suck</span> <span style=\"background-color: #FFD1D1\">deadly</span> <span style=\"background-color: #FFC8C8\">assassin</span> <span style=\"background-color: #FFD2D2\">is</span> <span style=\"background-color: #FFCCCC\">gay</span> <span style=\"background-color: #FF-9A8-9A8\">[SEP]</span>"
      ],
      "text/plain": [
       "<IPython.core.display.HTML object>"
      ]
     },
     "metadata": {},
     "output_type": "display_data"
    },
    {
     "data": {
      "text/plain": [
       "'you suck deadly assassin is gay'"
      ]
     },
     "metadata": {},
     "output_type": "display_data"
    },
    {
     "name": "stdout",
     "output_type": "stream",
     "text": [
      "Offensive Score is 1.1685859560966492\n"
     ]
    },
    {
     "data": {
      "text/html": [
       "<span style=\"background-color: #FFF3F3\">[CLS]</span> <span style=\"background-color: #FFF4F4\">penis</span> <span style=\"background-color: #FFF8F8\">penn</span> <span style=\"background-color: #FFFAFA\">##is</span> <span style=\"background-color: #FFF6F6\">penis</span> <span style=\"background-color: #FFFBFB\">pens</span> <span style=\"background-color: #FFFCFC\">##ns</span> <span style=\"background-color: #FFFCFC\">##nni</span> <span style=\"background-color: #FFFCFC\">##ens</span> <span style=\"background-color: #FFFBFB\">##ns</span> <span style=\"background-color: #FFFAFA\">##n</span> <span style=\"background-color: #FFF7F7\">penis</span> <span style=\"background-color: #FFF7F7\">penis</span> <span style=\"background-color: #FFF9F9\">penn</span> <span style=\"background-color: #FFFBFB\">##is</span> <span style=\"background-color: #FFF7F7\">penis</span> <span style=\"background-color: #FFFAFA\">pens</span> <span style=\"background-color: #FFFCFC\">##ns</span> <span style=\"background-color: #FFFDFD\">##nni</span> <span style=\"background-color: #FFFDFD\">##ens</span> <span style=\"background-color: #FFFCFC\">##ns</span> <span style=\"background-color: #FFFCFC\">##n</span> <span style=\"background-color: #FFF9F9\">penis</span> <span style=\"background-color: #FFF9F9\">penis</span> <span style=\"background-color: #FFFCFC\">penn</span> <span style=\"background-color: #FFFCFC\">##is</span> <span style=\"background-color: #FFFAFA\">penis</span> <span style=\"background-color: #FFFCFC\">pens</span> <span style=\"background-color: #FFFDFD\">##ns</span> <span style=\"background-color: #FFFEFE\">##nni</span> <span style=\"background-color: #FFFDFD\">##ens</span> <span style=\"background-color: #FFFDFD\">##ns</span> <span style=\"background-color: #FFFCFC\">##n</span> <span style=\"background-color: #FFFAFA\">penis</span> <span style=\"background-color: #FFFAFA\">penis</span> <span style=\"background-color: #FFFCFC\">penn</span> <span style=\"background-color: #FFFCFC\">##is</span> <span style=\"background-color: #FFFBFB\">penis</span> <span style=\"background-color: #FFFCFC\">pens</span> <span style=\"background-color: #FFFDFD\">##ns</span> <span style=\"background-color: #FFFEFE\">##nni</span> <span style=\"background-color: #FFFEFE\">##ens</span> <span style=\"background-color: #FFFDFD\">##ns</span> <span style=\"background-color: #FFFCFC\">##n</span> <span style=\"background-color: #FFFAFA\">penis</span> <span style=\"background-color: #FFFAFA\">penis</span> <span style=\"background-color: #FFFCFC\">penn</span> <span style=\"background-color: #FFFDFD\">##is</span> <span style=\"background-color: #FFFBFB\">penis</span> <span style=\"background-color: #FFFDFD\">pens</span> <span style=\"background-color: #FFFDFD\">##ns</span> <span style=\"background-color: #FFFEFE\">##nni</span> <span style=\"background-color: #FFFEFE\">##ens</span> <span style=\"background-color: #FFFEFE\">##ns</span> <span style=\"background-color: #FFFDFD\">##n</span> <span style=\"background-color: #FFFBFB\">penis</span> <span style=\"background-color: #FFFAFA\">penis</span> <span style=\"background-color: #FFFDFD\">penn</span> <span style=\"background-color: #FFFDFD\">##is</span> <span style=\"background-color: #FFFBFB\">penis</span> <span style=\"background-color: #FFFDFD\">pens</span> <span style=\"background-color: #FFFDFD\">##ns</span> <span style=\"background-color: #FFFEFE\">##nni</span> <span style=\"background-color: #FFFEFE\">##ens</span> <span style=\"background-color: #FFFDFD\">##ns</span> <span style=\"background-color: #FFFDFD\">##n</span> <span style=\"background-color: #FFFAFA\">penis</span> <span style=\"background-color: #FFFAFA\">penis</span> <span style=\"background-color: #FFFCFC\">penn</span> <span style=\"background-color: #FFFDFD\">##is</span> <span style=\"background-color: #FFFBFB\">penis</span> <span style=\"background-color: #FFFDFD\">pens</span> <span style=\"background-color: #FFFDFD\">##ns</span> <span style=\"background-color: #FFFEFE\">##nni</span> <span style=\"background-color: #FFFDFD\">##ens</span> <span style=\"background-color: #FFFDFD\">##ns</span> <span style=\"background-color: #FFFDFD\">##n</span> <span style=\"background-color: #FFFBFB\">penis</span> <span style=\"background-color: #FFFBFB\">penis</span> <span style=\"background-color: #FFFDFD\">penn</span> <span style=\"background-color: #FFFDFD\">##is</span> <span style=\"background-color: #FFFCFC\">penis</span> <span style=\"background-color: #FFFDFD\">pens</span> <span style=\"background-color: #FFFEFE\">##ns</span> <span style=\"background-color: #FFFEFE\">##nni</span> <span style=\"background-color: #FFFEFE\">##ens</span> <span style=\"background-color: #FFFEFE\">##ns</span> <span style=\"background-color: #FFFDFD\">##n</span> <span style=\"background-color: #FFFBFB\">penis</span> <span style=\"background-color: #FFFBFB\">penis</span> <span style=\"background-color: #FFFDFD\">penn</span> <span style=\"background-color: #FFFDFD\">##is</span> <span style=\"background-color: #FFFCFC\">penis</span> <span style=\"background-color: #FFFDFD\">pens</span> <span style=\"background-color: #FFFDFD\">##ns</span> <span style=\"background-color: #FFFEFE\">##nni</span> <span style=\"background-color: #FFFEFE\">##ens</span> <span style=\"background-color: #FFFEFE\">##ns</span> <span style=\"background-color: #FFFDFD\">##n</span> <span style=\"background-color: #FFFBFB\">penis</span> <span style=\"background-color: #FFFBFB\">penis</span> <span style=\"background-color: #FFFDFD\">penn</span> <span style=\"background-color: #FFFDFD\">##is</span> <span style=\"background-color: #FFFCFC\">penis</span> <span style=\"background-color: #FFFDFD\">pens</span> <span style=\"background-color: #FFFDFD\">##ns</span> <span style=\"background-color: #FFFEFE\">##nni</span> <span style=\"background-color: #FFFEFE\">##ens</span> <span style=\"background-color: #FFFEFE\">##ns</span> <span style=\"background-color: #FFFDFD\">##n</span> <span style=\"background-color: #FFFBFB\">penis</span> <span style=\"background-color: #FFFBFB\">penis</span> <span style=\"background-color: #FFFDFD\">penn</span> <span style=\"background-color: #FFFDFD\">##is</span> <span style=\"background-color: #FFFBFB\">penis</span> <span style=\"background-color: #FFFDFD\">pens</span> <span style=\"background-color: #FFFEFE\">##ns</span> <span style=\"background-color: #FFFEFE\">##nni</span> <span style=\"background-color: #FFFEFE\">##ens</span> <span style=\"background-color: #FFFEFE\">##ns</span> <span style=\"background-color: #FFFDFD\">##n</span> <span style=\"background-color: #FFFBFB\">penis</span> <span style=\"background-color: #FFFAFA\">penis</span> <span style=\"background-color: #FFFCFC\">penn</span> <span style=\"background-color: #FFFCFC\">##is</span> <span style=\"background-color: #FFFBFB\">penis</span> <span style=\"background-color: #FFFDFD\">pens</span> <span style=\"background-color: #FFFDFD\">##ns</span> <span style=\"background-color: #FFFDFD\">##nni</span> <span style=\"background-color: #FFFDFD\">##ens</span> <span style=\"background-color: #FFFDFD\">##ns</span> <span style=\"background-color: #FFFCFC\">##n</span> <span style=\"background-color: #FFFAFA\">penis</span> <span style=\"background-color: #FFFAFA\">penis</span> <span style=\"background-color: #FFFCFC\">penn</span> <span style=\"background-color: #FFFDFD\">##is</span> <span style=\"background-color: #FFFBFB\">penis</span> <span style=\"background-color: #FFFCFC\">pens</span> <span style=\"background-color: #FFFDFD\">##ns</span> <span style=\"background-color: #FFFDFD\">##nni</span> <span style=\"background-color: #FFFDFD\">##ens</span> <span style=\"background-color: #FFFDFD\">##ns</span> <span style=\"background-color: #FFFCFC\">##n</span> <span style=\"background-color: #FFFBFB\">penis</span> <span style=\"background-color: #FFFAFA\">penis</span> <span style=\"background-color: #FFFCFC\">penn</span> <span style=\"background-color: #FFFDFD\">##is</span> <span style=\"background-color: #FFFBFB\">penis</span> <span style=\"background-color: #FFFDFD\">pens</span> <span style=\"background-color: #FFFDFD\">##ns</span> <span style=\"background-color: #FFFDFD\">##nni</span> <span style=\"background-color: #FFFDFD\">##ens</span> <span style=\"background-color: #FFFDFD\">##ns</span> <span style=\"background-color: #FFFCFC\">##n</span> <span style=\"background-color: #FFFBFB\">penis</span> <span style=\"background-color: #FFFBFB\">penis</span> <span style=\"background-color: #FFFCFC\">penn</span> <span style=\"background-color: #FFFDFD\">##is</span> <span style=\"background-color: #FFFBFB\">penis</span> <span style=\"background-color: #FFFDFD\">pens</span> <span style=\"background-color: #FFFDFD\">##ns</span> <span style=\"background-color: #FFFDFD\">##nni</span> <span style=\"background-color: #FFFDFD\">##ens</span> <span style=\"background-color: #FFFDFD\">##ns</span> <span style=\"background-color: #FFFDFD\">##n</span> <span style=\"background-color: #FFFBFB\">penis</span> <span style=\"background-color: #FFFCFC\">penis</span> <span style=\"background-color: #FFFDFD\">penn</span> <span style=\"background-color: #FFFDFD\">##is</span> <span style=\"background-color: #FFFCFC\">penis</span> <span style=\"background-color: #FFFDFD\">pens</span> <span style=\"background-color: #FFFDFD\">##ns</span> <span style=\"background-color: #FFFEFE\">##nni</span> <span style=\"background-color: #FFFEFE\">##ens</span> <span style=\"background-color: #FFFEFE\">##ns</span> <span style=\"background-color: #FFFDFD\">##n</span> <span style=\"background-color: #FFFCFC\">penis</span> <span style=\"background-color: #FFFCFC\">penis</span> <span style=\"background-color: #FFFDFD\">penn</span> <span style=\"background-color: #FFFDFD\">##is</span> <span style=\"background-color: #FFFCFC\">penis</span> <span style=\"background-color: #FFFEFE\">pens</span> <span style=\"background-color: #FFFEFE\">##ns</span> <span style=\"background-color: #FFFEFE\">##nni</span> <span style=\"background-color: #FFFEFE\">##ens</span> <span style=\"background-color: #FFFDFD\">##ns</span> <span style=\"background-color: #FFFDFD\">##n</span> <span style=\"background-color: #FFFCFC\">penis</span> <span style=\"background-color: #FFFCFC\">penis</span> <span style=\"background-color: #FFFDFD\">penn</span> <span style=\"background-color: #FFFEFE\">##is</span> <span style=\"background-color: #FFFDFD\">penis</span> <span style=\"background-color: #FFFEFE\">pens</span> <span style=\"background-color: #FFFEFE\">##ns</span> <span style=\"background-color: #FFFEFE\">##nni</span> <span style=\"background-color: #FFFEFE\">##ens</span> <span style=\"background-color: #FFFEFE\">##ns</span> <span style=\"background-color: #FFFDFD\">##n</span> <span style=\"background-color: #FFFCFC\">penis</span> <span style=\"background-color: #FFFCFC\">penis</span> <span style=\"background-color: #FFFDFD\">penn</span> <span style=\"background-color: #FFFDFD\">##is</span> <span style=\"background-color: #FFFDFD\">penis</span> <span style=\"background-color: #FFFEFE\">pens</span> <span style=\"background-color: #FFFEFE\">##ns</span> <span style=\"background-color: #FFFEFE\">##nni</span> <span style=\"background-color: #FFFEFE\">##ens</span> <span style=\"background-color: #FFFEFE\">##ns</span> <span style=\"background-color: #FFFDFD\">##n</span> <span style=\"background-color: #FFFDFD\">penis</span> <span style=\"background-color: #FFFCFC\">penis</span> <span style=\"background-color: #FFFEFE\">penn</span> <span style=\"background-color: #FFFDFD\">##is</span> <span style=\"background-color: #FFFCFC\">penis</span> <span style=\"background-color: #FFFEFE\">pens</span> <span style=\"background-color: #FFFEFE\">##ns</span> <span style=\"background-color: #FFFEFE\">##nni</span> <span style=\"background-color: #FFFEFE\">##ens</span> <span style=\"background-color: #FFFEFE\">##ns</span> <span style=\"background-color: #FFFDFD\">##n</span> <span style=\"background-color: #FFFCFC\">penis</span> <span style=\"background-color: #FFFCFC\">penis</span> <span style=\"background-color: #FFFDFD\">penn</span> <span style=\"background-color: #FFFDFD\">##is</span> <span style=\"background-color: #FFFCFC\">penis</span> <span style=\"background-color: #FFFDFD\">pens</span> <span style=\"background-color: #FFFEFE\">##ns</span> <span style=\"background-color: #FFFEFE\">##nni</span> <span style=\"background-color: #FFFEFE\">##ens</span> <span style=\"background-color: #FFFDFD\">##ns</span> <span style=\"background-color: #FFFDFD\">##n</span> <span style=\"background-color: #FFFCFC\">penis</span> <span style=\"background-color: #FFFCFC\">penis</span> <span style=\"background-color: #FFFDFD\">penn</span> <span style=\"background-color: #FFFDFD\">##is</span> <span style=\"background-color: #FFFCFC\">penis</span> <span style=\"background-color: #FFFDFD\">pens</span> <span style=\"background-color: #FFFDFD\">##ns</span> <span style=\"background-color: #FFFEFE\">##nni</span> <span style=\"background-color: #FFFEFE\">##ens</span> <span style=\"background-color: #FFFDFD\">##ns</span> <span style=\"background-color: #FFFDFD\">##n</span> <span style=\"background-color: #FFFBFB\">penis</span> <span style=\"background-color: #FFFBFB\">penis</span> <span style=\"background-color: #FFFCFC\">penn</span> <span style=\"background-color: #FFFDFD\">##is</span> <span style=\"background-color: #FFFCFC\">penis</span> <span style=\"background-color: #FFFDFD\">pens</span> <span style=\"background-color: #FFFDFD\">##ns</span> <span style=\"background-color: #FFFEFE\">##nni</span> <span style=\"background-color: #FFFEFE\">##ens</span> <span style=\"background-color: #FFFDFD\">##ns</span> <span style=\"background-color: #FFFDFD\">##n</span> <span style=\"background-color: #FFFBFB\">penis</span> <span style=\"background-color: #FFFAFA\">penis</span> <span style=\"background-color: #FF-8D8-8D8\">penn</span>"
      ],
      "text/plain": [
       "<IPython.core.display.HTML object>"
      ]
     },
     "metadata": {},
     "output_type": "display_data"
    },
    {
     "data": {
      "text/plain": [
       "'penis pennis penis pensnsnniensnsn penis penis pennis penis pensnsnniensnsn penis penis pennis penis pensnsnniensnsn penis penis pennis penis pensnsnniensnsn penis penis pennis penis pensnsnniensnsn penis penis pennis penis pensnsnniensnsn penis penis pennis penis pensnsnniensnsn penis penis pennis penis pensnsnniensnsn penis penis pennis penis pensnsnniensnsn penis penis pennis penis pensnsnniensnsn penis penis pennis penis pensnsnniensnsn penis penis pennis penis pensnsnniensnsn penis penis pennis penis pensnsnniensnsn penis penis pennis penis pensnsnniensnsn penis penis pennis penis pensnsnniensnsn penis penis pennis penis pensnsnniensnsn penis penis pennis penis pensnsnniensnsn penis penis pennis penis pensnsnniensnsn penis penis pennis penis pensnsnniensnsn penis penis pennis penis pensnsnniensnsn penis penis pennis penis pensnsnniensnsn penis penis pennis penis pensnsnniensnsn penis penis pennis penis pensnsnniensnsn penis penis pennis penis pensnsnniensnsn penis penis pennis penis pensnsnniensnsn penis penis pennis penis pensnsnniensnsn penis penis pennis penis pensnsnniensnsn penis penis pennis penis pensnsnniensnsn penis penis pennis penis pensnsnniensnsn penis penis pennis penis pensnsnniensnsn penis penis pennis penis pensnsnniensnsn penis penis pennis penis pensnsnniensnsn penis penis pennis penis pensnsnniensnsn penis penis pennis penis pensnsnniensnsn penis penis pennis penis pensnsnniensnsn penis penis pennis penis pensnsnniensnsn penis penis pennis penis pensnsnniensnsn penis penis pennis penis pensnsnniensnsn penis penis pennis penis pensnsnniensnsn penis penis pennis penis pensnsnniensnsn penis penis pennis penis pensnsnniensnsn penis penis pennis penis pensnsnniensnsn penis penis pennis penis pensnsnniensnsn penis penis pennis penis pensnsnniensnsn penis penis pennis penis pensnsnniensnsn penis penis pennis penis pensnsnniensnsn penis penis pennis penis pensnsnniensnsn penis penis pennis penis pensnsnniensnsn penis penis pennis penis pensnsnniensnsn penis penis pennis penis pensnsnniensnsn penis penis pennis penis pensnsnniensnsn penis penis pennis penis pensnsnniensnsn penis penis pennis penis pensnsnniensnsn penis penis pennis penis pensnsnniensnsn penis penis pennis penis pensnsnniensnsn penis penis pennis penis pensnsnniensnsn penis penis pennis penis pensnsnniensnsn penis penis pennis penis pensnsnniensnsn penis penis pennis penis pensnsnniensnsn penis penis pennis penis pensnsnniensnsn penis penis pennis penis pensnsnniensnsn penis penis pennis penis pensnsnniensnsn penis penis pennis penis pensnsnniensnsn penis penis pennis penis pensnsnniensnsn penis penis pennis penis pensnsnniensnsn penis penis pennis penis pensnsnniensnsn penis penis pennis penis pensnsnniensnsn penis penis pennis penis pensnsnniensnsn penis penis pennis penis pensnsnniensnsn penis penis pennis penis pensnsnniensnsn penis penis pennis penis pensnsnniensnsn penis penis pennis penis pensnsnniensnsn penis penis pennis penis pensnsnniensnsn penis penis pennis penis pensnsnniensnsn penis penis pennis penis pensnsnniensnsn penis penis pennis penis pensnsnniensnsn penis penis pennis penis pensnsnniensnsn penis penis pennis penis pensnsnniensnsn penis penis pennis penis pensnsnniensnsn penis penis pennis penis pensnsnniensnsn penis penis pennis penis pensnsnniensnsn penis penis pennis penis pensnsnniensnsn penis penis pennis penis pensnsnniensnsn penis penis pennis penis pensnsnniensnsn penis penis pennis penis pensnsnniensnsn penis penis pennis penis pensnsnniensnsn penis penis pennis penis pensnsnniensnsn penis penis pennis penis pensnsnniensnsn penis penis pennis penis pensnsnniensnsn penis penis pennis penis pensnsnniensnsn penis penis pennis penis pensnsnniensnsn penis penis pennis penis pensnsnniensnsn penis penis pennis penis pensnsnniensnsn penis penis pennis penis pensnsnniensnsn penis penis pennis penis pensnsnniensnsn penis penis pennis penis pensnsnniensnsn penis penis pennis penis pensnsnniensnsn penis penis pennis penis pensnsnniensnsn penis penis pennis penis pensnsnniensnsn penis penis pennis penis pensnsnniensnsn penis penis pennis penis pensnsnniensnsn penis penis pennis penis pensnsnniensnsn penis penis pennis penis pensnsnniensnsn penis penis pennis penis pensnsnniensnsn penis penis pennis penis pensnsnniensnsn penis'"
      ]
     },
     "metadata": {},
     "output_type": "display_data"
    },
    {
     "name": "stdout",
     "output_type": "stream",
     "text": [
      "Offensive Score is 1.1648753732442856\n"
     ]
    },
    {
     "data": {
      "text/html": [
       "<span style=\"background-color: #FFF8F8\">[CLS]</span> <span style=\"background-color: #FFFAFA\">ep</span> <span style=\"background-color: #FFFAFA\">##br</span> <span style=\"background-color: #FFFCFC\">##12</span> <span style=\"background-color: #FFFAFA\">##3</span> <span style=\"background-color: #FFFAFA\">is</span> <span style=\"background-color: #FFFBFB\">a</span> <span style=\"background-color: #FFFBFB\">bigger</span> <span style=\"background-color: #FFFAFA\">fa</span> <span style=\"background-color: #FFFCFC\">##gg</span> <span style=\"background-color: #FFFCFC\">##ot</span> <span style=\"background-color: #FFFAFA\">then</span> <span style=\"background-color: #FFFAFA\">wikipedia</span> <span style=\"background-color: #FFFAFA\">and</span> <span style=\"background-color: #FFFBFB\">loves</span> <span style=\"background-color: #FFFBFB\">to</span> <span style=\"background-color: #FFFBFB\">suck</span> <span style=\"background-color: #FFFBFB\">the</span> <span style=\"background-color: #FFFBFB\">cock</span> <span style=\"background-color: #FFFBFB\">ep</span> <span style=\"background-color: #FFFCFC\">##br</span> <span style=\"background-color: #FFFCFC\">##12</span> <span style=\"background-color: #FFFCFC\">##3</span> <span style=\"background-color: #FFFCFC\">is</span> <span style=\"background-color: #FFFCFC\">a</span> <span style=\"background-color: #FFFCFC\">bigger</span> <span style=\"background-color: #FFFBFB\">fa</span> <span style=\"background-color: #FFFDFD\">##gg</span> <span style=\"background-color: #FFFDFD\">##ot</span> <span style=\"background-color: #FFFCFC\">then</span> <span style=\"background-color: #FFFCFC\">wikipedia</span> <span style=\"background-color: #FFFCFC\">and</span> <span style=\"background-color: #FFFDFD\">loves</span> <span style=\"background-color: #FFFCFC\">to</span> <span style=\"background-color: #FFFCFC\">suck</span> <span style=\"background-color: #FFFCFC\">the</span> <span style=\"background-color: #FFFCFC\">cock</span> <span style=\"background-color: #FFFCFC\">ep</span> <span style=\"background-color: #FFFDFD\">##br</span> <span style=\"background-color: #FFFDFD\">##12</span> <span style=\"background-color: #FFFCFC\">##3</span> <span style=\"background-color: #FFFCFC\">is</span> <span style=\"background-color: #FFFDFD\">a</span> <span style=\"background-color: #FFFCFC\">bigger</span> <span style=\"background-color: #FFFCFC\">fa</span> <span style=\"background-color: #FFFDFD\">##gg</span> <span style=\"background-color: #FFFDFD\">##ot</span> <span style=\"background-color: #FFFCFC\">then</span> <span style=\"background-color: #FFFDFD\">wikipedia</span> <span style=\"background-color: #FFFCFC\">and</span> <span style=\"background-color: #FFFDFD\">loves</span> <span style=\"background-color: #FFFDFD\">to</span> <span style=\"background-color: #FFFCFC\">suck</span> <span style=\"background-color: #FFFCFC\">the</span> <span style=\"background-color: #FFFDFD\">cock</span> <span style=\"background-color: #FFFDFD\">ep</span> <span style=\"background-color: #FFFDFD\">##br</span> <span style=\"background-color: #FFFDFD\">##12</span> <span style=\"background-color: #FFFCFC\">##3</span> <span style=\"background-color: #FFFCFC\">is</span> <span style=\"background-color: #FFFDFD\">a</span> <span style=\"background-color: #FFFDFD\">bigger</span> <span style=\"background-color: #FFFCFC\">fa</span> <span style=\"background-color: #FFFDFD\">##gg</span> <span style=\"background-color: #FFFDFD\">##ot</span> <span style=\"background-color: #FFFCFC\">then</span> <span style=\"background-color: #FFFCFC\">wikipedia</span> <span style=\"background-color: #FFFCFC\">and</span> <span style=\"background-color: #FFFDFD\">loves</span> <span style=\"background-color: #FFFCFC\">to</span> <span style=\"background-color: #FFFCFC\">suck</span> <span style=\"background-color: #FFFCFC\">the</span> <span style=\"background-color: #FFFCFC\">cock</span> <span style=\"background-color: #FFFDFD\">ep</span> <span style=\"background-color: #FFFDFD\">##br</span> <span style=\"background-color: #FFFDFD\">##12</span> <span style=\"background-color: #FFFCFC\">##3</span> <span style=\"background-color: #FFFDFD\">is</span> <span style=\"background-color: #FFFDFD\">a</span> <span style=\"background-color: #FFFDFD\">bigger</span> <span style=\"background-color: #FFFCFC\">fa</span> <span style=\"background-color: #FFFDFD\">##gg</span> <span style=\"background-color: #FFFDFD\">##ot</span> <span style=\"background-color: #FFFDFD\">then</span> <span style=\"background-color: #FFFDFD\">wikipedia</span> <span style=\"background-color: #FFFCFC\">and</span> <span style=\"background-color: #FFFDFD\">loves</span> <span style=\"background-color: #FFFDFD\">to</span> <span style=\"background-color: #FFFCFC\">suck</span> <span style=\"background-color: #FFFCFC\">the</span> <span style=\"background-color: #FFFDFD\">cock</span> <span style=\"background-color: #FFFDFD\">ep</span> <span style=\"background-color: #FFFDFD\">##br</span> <span style=\"background-color: #FFFDFD\">##12</span> <span style=\"background-color: #FFFCFC\">##3</span> <span style=\"background-color: #FFFDFD\">is</span> <span style=\"background-color: #FFFDFD\">a</span> <span style=\"background-color: #FFFDFD\">bigger</span> <span style=\"background-color: #FFFCFC\">fa</span> <span style=\"background-color: #FFFDFD\">##gg</span> <span style=\"background-color: #FFFDFD\">##ot</span> <span style=\"background-color: #FFFCFC\">then</span> <span style=\"background-color: #FFFDFD\">wikipedia</span> <span style=\"background-color: #FFFCFC\">and</span> <span style=\"background-color: #FFFDFD\">loves</span> <span style=\"background-color: #FFFDFD\">to</span> <span style=\"background-color: #FFFCFC\">suck</span> <span style=\"background-color: #FFFDFD\">the</span> <span style=\"background-color: #FFFCFC\">cock</span> <span style=\"background-color: #FFFCFC\">ep</span> <span style=\"background-color: #FFFDFD\">##br</span> <span style=\"background-color: #FFFDFD\">##12</span> <span style=\"background-color: #FFFCFC\">##3</span> <span style=\"background-color: #FFFDFD\">is</span> <span style=\"background-color: #FFFDFD\">a</span> <span style=\"background-color: #FFFDFD\">bigger</span> <span style=\"background-color: #FFFCFC\">fa</span> <span style=\"background-color: #FFFDFD\">##gg</span> <span style=\"background-color: #FFFDFD\">##ot</span> <span style=\"background-color: #FFFBFB\">then</span> <span style=\"background-color: #FFFCFC\">wikipedia</span> <span style=\"background-color: #FFFBFB\">and</span> <span style=\"background-color: #FFFCFC\">loves</span> <span style=\"background-color: #FFFCFC\">to</span> <span style=\"background-color: #FFFCFC\">suck</span> <span style=\"background-color: #FFFBFB\">the</span> <span style=\"background-color: #FFFCFC\">cock</span> <span style=\"background-color: #FFFBFB\">ep</span> <span style=\"background-color: #FFFCFC\">##br</span> <span style=\"background-color: #FFFCFC\">##12</span> <span style=\"background-color: #FFFCFC\">##3</span> <span style=\"background-color: #FFFCFC\">is</span> <span style=\"background-color: #FFFCFC\">a</span> <span style=\"background-color: #FFFCFC\">bigger</span> <span style=\"background-color: #FFFBFB\">fa</span> <span style=\"background-color: #FFFCFC\">##gg</span> <span style=\"background-color: #FFFDFD\">##ot</span> <span style=\"background-color: #FFFBFB\">then</span> <span style=\"background-color: #FFFCFC\">wikipedia</span> <span style=\"background-color: #FFFCFC\">and</span> <span style=\"background-color: #FFFCFC\">loves</span> <span style=\"background-color: #FFFCFC\">to</span> <span style=\"background-color: #FFFCFC\">suck</span> <span style=\"background-color: #FFFCFC\">the</span> <span style=\"background-color: #FFFCFC\">cock</span> <span style=\"background-color: #FFFCFC\">ep</span> <span style=\"background-color: #FFFDFD\">##br</span> <span style=\"background-color: #FFFDFD\">##12</span> <span style=\"background-color: #FFFCFC\">##3</span> <span style=\"background-color: #FFFCFC\">is</span> <span style=\"background-color: #FFFDFD\">a</span> <span style=\"background-color: #FFFDFD\">bigger</span> <span style=\"background-color: #FFFCFC\">fa</span> <span style=\"background-color: #FFFDFD\">##gg</span> <span style=\"background-color: #FFFDFD\">##ot</span> <span style=\"background-color: #FFFCFC\">then</span> <span style=\"background-color: #FFFBFB\">wikipedia</span> <span style=\"background-color: #FFFCFC\">and</span> <span style=\"background-color: #FFFCFC\">loves</span> <span style=\"background-color: #FFFCFC\">to</span> <span style=\"background-color: #FFFCFC\">suck</span> <span style=\"background-color: #FFFCFC\">the</span> <span style=\"background-color: #FFFCFC\">cock</span> <span style=\"background-color: #FF-976-976\">[SEP]</span>"
      ],
      "text/plain": [
       "<IPython.core.display.HTML object>"
      ]
     },
     "metadata": {},
     "output_type": "display_data"
    },
    {
     "data": {
      "text/plain": [
       "'epbr123 is a bigger faggot then wikipedia and loves to suck the cock epbr123 is a bigger faggot then wikipedia and loves to suck the cock epbr123 is a bigger faggot then wikipedia and loves to suck the cock epbr123 is a bigger faggot then wikipedia and loves to suck the cock epbr123 is a bigger faggot then wikipedia and loves to suck the cock epbr123 is a bigger faggot then wikipedia and loves to suck the cock epbr123 is a bigger faggot then wikipedia and loves to suck the cock epbr123 is a bigger faggot then wikipedia and loves to suck the cock epbr123 is a bigger faggot then wikipedia and loves to suck the cock'"
      ]
     },
     "metadata": {},
     "output_type": "display_data"
    },
    {
     "name": "stdout",
     "output_type": "stream",
     "text": [
      "Offensive Score is 1.163759022951126\n"
     ]
    },
    {
     "data": {
      "text/html": [
       "<span style=\"background-color: #FFE5E5\">[CLS]</span> <span style=\"background-color: #FFE3E3\">i</span> <span style=\"background-color: #FFE5E5\">am</span> <span style=\"background-color: #FFE8E8\">a</span> <span style=\"background-color: #FFECEC\">really</span> <span style=\"background-color: #FFEAEA\">big</span> <span style=\"background-color: #FFE7E7\">fat</span> <span style=\"background-color: #FFE5E5\">fa</span> <span style=\"background-color: #FFEEEE\">##g</span> <span style=\"background-color: #FFE3E3\">i</span> <span style=\"background-color: #FFE9E9\">like</span> <span style=\"background-color: #FFEBEB\">to</span> <span style=\"background-color: #FFE9E9\">jerk</span> <span style=\"background-color: #FFEBEB\">##off</span> <span style=\"background-color: #FFE8E8\">in</span> <span style=\"background-color: #FFE8E8\">my</span> <span style=\"background-color: #FFEDED\">free</span> <span style=\"background-color: #FFF2F2\">time</span> <span style=\"background-color: #FF-96D-96D\">[SEP]</span>"
      ],
      "text/plain": [
       "<IPython.core.display.HTML object>"
      ]
     },
     "metadata": {},
     "output_type": "display_data"
    },
    {
     "data": {
      "text/plain": [
       "'i am a really big fat fag i like to jerkoff in my free time'"
      ]
     },
     "metadata": {},
     "output_type": "display_data"
    },
    {
     "name": "stdout",
     "output_type": "stream",
     "text": [
      "Offensive Score is 1.1622943580150604\n"
     ]
    },
    {
     "data": {
      "text/html": [
       "<span style=\"background-color: #FFD6D6\">[CLS]</span> <span style=\"background-color: #FFD4D4\">i</span> <span style=\"background-color: #FFD3D3\">love</span> <span style=\"background-color: #FFC8C8\">dick</span> <span style=\"background-color: #FFD7D7\">##s</span> <span style=\"background-color: #FFD1D1\">in</span> <span style=\"background-color: #FFD7D7\">my</span> <span style=\"background-color: #FFD1D1\">butt</span> <span style=\"background-color: #FFDBDB\">user</span> <span style=\"background-color: #FF-973-973\">[SEP]</span>"
      ],
      "text/plain": [
       "<IPython.core.display.HTML object>"
      ]
     },
     "metadata": {},
     "output_type": "display_data"
    },
    {
     "data": {
      "text/plain": [
       "'i love dicks in my butt user'"
      ]
     },
     "metadata": {},
     "output_type": "display_data"
    },
    {
     "name": "stdout",
     "output_type": "stream",
     "text": [
      "Offensive Score is 1.1591747552156448\n"
     ]
    },
    {
     "data": {
      "text/html": [
       "<span style=\"background-color: #FFF2F2\">[CLS]</span> <span style=\"background-color: #FFF9F9\">go</span> <span style=\"background-color: #FFFBFB\">fuck</span> <span style=\"background-color: #FFFCFC\">yourself</span> <span style=\"background-color: #FFF7F7\">##to</span> <span style=\"background-color: #FFFBFB\">fuck</span> <span style=\"background-color: #FFFCFC\">yourself</span> <span style=\"background-color: #FFF8F8\">##to</span> <span style=\"background-color: #FFFBFB\">fuck</span> <span style=\"background-color: #FFFCFC\">yourself</span> <span style=\"background-color: #FFF7F7\">##to</span> <span style=\"background-color: #FFFAFA\">fuck</span> <span style=\"background-color: #FFFCFC\">yourself</span> <span style=\"background-color: #FFF7F7\">##to</span> <span style=\"background-color: #FFFAFA\">fuck</span> <span style=\"background-color: #FFFCFC\">yourself</span> <span style=\"background-color: #FFF8F8\">##to</span> <span style=\"background-color: #FFFAFA\">fuck</span> <span style=\"background-color: #FFFCFC\">yourself</span> <span style=\"background-color: #FFF8F8\">##to</span> <span style=\"background-color: #FFFBFB\">fuck</span> <span style=\"background-color: #FFFCFC\">yourself</span> <span style=\"background-color: #FFF9F9\">##to</span> <span style=\"background-color: #FFFBFB\">fuck</span> <span style=\"background-color: #FFFDFD\">yourself</span> <span style=\"background-color: #FFF9F9\">##to</span> <span style=\"background-color: #FFFBFB\">fuck</span> <span style=\"background-color: #FFFDFD\">yourself</span> <span style=\"background-color: #FFFAFA\">##to</span> <span style=\"background-color: #FFFBFB\">fuck</span> <span style=\"background-color: #FFFDFD\">yourself</span> <span style=\"background-color: #FFFAFA\">##to</span> <span style=\"background-color: #FFFCFC\">fuck</span> <span style=\"background-color: #FFFDFD\">yourself</span> <span style=\"background-color: #FFFAFA\">##to</span> <span style=\"background-color: #FFFCFC\">fuck</span> <span style=\"background-color: #FFFDFD\">yourself</span> <span style=\"background-color: #FFFBFB\">##to</span> <span style=\"background-color: #FFFBFB\">fuck</span> <span style=\"background-color: #FFFDFD\">yourself</span> <span style=\"background-color: #FFFAFA\">##to</span> <span style=\"background-color: #FFFCFC\">fuck</span> <span style=\"background-color: #FFFDFD\">yourself</span> <span style=\"background-color: #FFFBFB\">##to</span> <span style=\"background-color: #FFFCFC\">fuck</span> <span style=\"background-color: #FFFDFD\">yourself</span> <span style=\"background-color: #FFFBFB\">##to</span> <span style=\"background-color: #FFFDFD\">fuck</span> <span style=\"background-color: #FFFEFE\">yourself</span> <span style=\"background-color: #FFFCFC\">##to</span> <span style=\"background-color: #FFFDFD\">fuck</span> <span style=\"background-color: #FFFEFE\">yourself</span> <span style=\"background-color: #FFFCFC\">##to</span> <span style=\"background-color: #FFFDFD\">fuck</span> <span style=\"background-color: #FFFEFE\">yourself</span> <span style=\"background-color: #FFFCFC\">##to</span> <span style=\"background-color: #FFFDFD\">fuck</span> <span style=\"background-color: #FFFEFE\">yourself</span> <span style=\"background-color: #FFFCFC\">##to</span> <span style=\"background-color: #FFFDFD\">fuck</span> <span style=\"background-color: #FFFEFE\">yourself</span> <span style=\"background-color: #FFFCFC\">##to</span> <span style=\"background-color: #FFFDFD\">fuck</span> <span style=\"background-color: #FFFEFE\">yourself</span> <span style=\"background-color: #FFFBFB\">##to</span> <span style=\"background-color: #FFFCFC\">fuck</span> <span style=\"background-color: #FFFEFE\">yourself</span> <span style=\"background-color: #FFFBFB\">##to</span> <span style=\"background-color: #FFFCFC\">fuck</span> <span style=\"background-color: #FFFEFE\">yourself</span> <span style=\"background-color: #FFFBFB\">##to</span> <span style=\"background-color: #FFFCFC\">fuck</span> <span style=\"background-color: #FFFEFE\">yourself</span> <span style=\"background-color: #FFFBFB\">##to</span> <span style=\"background-color: #FFFDFD\">fuck</span> <span style=\"background-color: #FFFEFE\">yourself</span> <span style=\"background-color: #FFFCFC\">##to</span> <span style=\"background-color: #FFFDFD\">fuck</span> <span style=\"background-color: #FFFEFE\">yourself</span> <span style=\"background-color: #FFFCFC\">##to</span> <span style=\"background-color: #FFFDFD\">fuck</span> <span style=\"background-color: #FFFEFE\">yourself</span> <span style=\"background-color: #FFFCFC\">##to</span> <span style=\"background-color: #FFFDFD\">fuck</span> <span style=\"background-color: #FFFEFE\">yourself</span> <span style=\"background-color: #FFFCFC\">##to</span> <span style=\"background-color: #FFFDFD\">fuck</span> <span style=\"background-color: #FFFEFE\">yourself</span> <span style=\"background-color: #FFFCFC\">##to</span> <span style=\"background-color: #FFFDFD\">fuck</span> <span style=\"background-color: #FFFEFE\">yourself</span> <span style=\"background-color: #FFFCFC\">##to</span> <span style=\"background-color: #FFFCFC\">fuck</span> <span style=\"background-color: #FFFEFE\">yourself</span> <span style=\"background-color: #FFFCFC\">##to</span> <span style=\"background-color: #FFFCFC\">fuck</span> <span style=\"background-color: #FFFEFE\">yourself</span> <span style=\"background-color: #FFFBFB\">##to</span> <span style=\"background-color: #FFFCFC\">fuck</span> <span style=\"background-color: #FFFEFE\">yourself</span> <span style=\"background-color: #FFFCFC\">##to</span> <span style=\"background-color: #FFFCFC\">fuck</span> <span style=\"background-color: #FFFEFE\">yourself</span> <span style=\"background-color: #FFFCFC\">##to</span> <span style=\"background-color: #FFFDFD\">fuck</span> <span style=\"background-color: #FFFEFE\">yourself</span> <span style=\"background-color: #FFFCFC\">##to</span> <span style=\"background-color: #FFFCFC\">fuck</span> <span style=\"background-color: #FFFEFE\">yourself</span> <span style=\"background-color: #FFFCFC\">##to</span> <span style=\"background-color: #FFFDFD\">fuck</span> <span style=\"background-color: #FFFEFE\">yourself</span> <span style=\"background-color: #FFFCFC\">##to</span> <span style=\"background-color: #FFFDFD\">fuck</span> <span style=\"background-color: #FFFEFE\">yourself</span> <span style=\"background-color: #FFFCFC\">##to</span> <span style=\"background-color: #FFFDFD\">fuck</span> <span style=\"background-color: #FFFEFE\">yourself</span> <span style=\"background-color: #FFFBFB\">##to</span> <span style=\"background-color: #FFFCFC\">fuck</span> <span style=\"background-color: #FFFEFE\">yourself</span> <span style=\"background-color: #FFFBFB\">##to</span> <span style=\"background-color: #FFFCFC\">fuck</span> <span style=\"background-color: #FFFEFE\">yourself</span> <span style=\"background-color: #FFFBFB\">##to</span> <span style=\"background-color: #FFFCFC\">fuck</span> <span style=\"background-color: #FFFEFE\">yourself</span> <span style=\"background-color: #FFFBFB\">##to</span> <span style=\"background-color: #FFFCFC\">fuck</span> <span style=\"background-color: #FFFEFE\">yourself</span> <span style=\"background-color: #FFFCFC\">##to</span> <span style=\"background-color: #FFFCFC\">fuck</span> <span style=\"background-color: #FFFEFE\">yourself</span> <span style=\"background-color: #FFFBFB\">##to</span> <span style=\"background-color: #FFFCFC\">fuck</span> <span style=\"background-color: #FFFEFE\">yourself</span> <span style=\"background-color: #FFFCFC\">##to</span> <span style=\"background-color: #FFFCFC\">fuck</span> <span style=\"background-color: #FFFEFE\">yourself</span> <span style=\"background-color: #FFFCFC\">##to</span> <span style=\"background-color: #FFFCFC\">fuck</span> <span style=\"background-color: #FFFEFE\">yourself</span> <span style=\"background-color: #FFFBFB\">##to</span> <span style=\"background-color: #FFFCFC\">fuck</span> <span style=\"background-color: #FFFEFE\">yourself</span> <span style=\"background-color: #FFFBFB\">##to</span> <span style=\"background-color: #FFFCFC\">fuck</span> <span style=\"background-color: #FFFEFE\">yourself</span> <span style=\"background-color: #FFFBFB\">##to</span> <span style=\"background-color: #FFFCFC\">fuck</span> <span style=\"background-color: #FFFEFE\">yourself</span> <span style=\"background-color: #FFFBFB\">##to</span> <span style=\"background-color: #FFFCFC\">fuck</span> <span style=\"background-color: #FFFEFE\">yourself</span> <span style=\"background-color: #FFFAFA\">##to</span> <span style=\"background-color: #FFFCFC\">fuck</span> <span style=\"background-color: #FFFEFE\">yourself</span> <span style=\"background-color: #FFFBFB\">##to</span> <span style=\"background-color: #FFFCFC\">fuck</span> <span style=\"background-color: #FFFEFE\">yourself</span> <span style=\"background-color: #FFFBFB\">##to</span> <span style=\"background-color: #FFFCFC\">fuck</span> <span style=\"background-color: #FFFEFE\">yourself</span> <span style=\"background-color: #FFFCFC\">##to</span> <span style=\"background-color: #FFFDFD\">fuck</span> <span style=\"background-color: #FFFEFE\">yourself</span> <span style=\"background-color: #FFFCFC\">##to</span> <span style=\"background-color: #FFFDFD\">fuck</span> <span style=\"background-color: #FFFEFE\">yourself</span> <span style=\"background-color: #FFFCFC\">##to</span> <span style=\"background-color: #FFFDFD\">fuck</span> <span style=\"background-color: #FFFEFE\">yourself</span> <span style=\"background-color: #FFFCFC\">##to</span> <span style=\"background-color: #FFFDFD\">fuck</span> <span style=\"background-color: #FFFEFE\">yourself</span> <span style=\"background-color: #FFFCFC\">##to</span> <span style=\"background-color: #FFFDFD\">fuck</span> <span style=\"background-color: #FFFEFE\">yourself</span> <span style=\"background-color: #FFFCFC\">##to</span> <span style=\"background-color: #FFFDFD\">fuck</span> <span style=\"background-color: #FFFEFE\">yourself</span> <span style=\"background-color: #FFFDFD\">##to</span> <span style=\"background-color: #FFFDFD\">fuck</span> <span style=\"background-color: #FFFEFE\">yourself</span> <span style=\"background-color: #FFFDFD\">##to</span> <span style=\"background-color: #FFFDFD\">fuck</span> <span style=\"background-color: #FFFEFE\">yourself</span> <span style=\"background-color: #FFFCFC\">##to</span> <span style=\"background-color: #FFFDFD\">fuck</span> <span style=\"background-color: #FFFEFE\">yourself</span> <span style=\"background-color: #FFFDFD\">##to</span> <span style=\"background-color: #FFFDFD\">fuck</span> <span style=\"background-color: #FFFEFE\">yourself</span> <span style=\"background-color: #FFFDFD\">##to</span> <span style=\"background-color: #FFFDFD\">fuck</span> <span style=\"background-color: #FFFEFE\">yourself</span> <span style=\"background-color: #FFFDFD\">##to</span> <span style=\"background-color: #FFFDFD\">fuck</span> <span style=\"background-color: #FFFEFE\">yourself</span> <span style=\"background-color: #FFFDFD\">##to</span> <span style=\"background-color: #FFFDFD\">fuck</span> <span style=\"background-color: #FFFEFE\">yourself</span> <span style=\"background-color: #FFFDFD\">##to</span> <span style=\"background-color: #FFFDFD\">fuck</span> <span style=\"background-color: #FFFEFE\">yourself</span> <span style=\"background-color: #FFFDFD\">##to</span> <span style=\"background-color: #FFFEFE\">fuck</span> <span style=\"background-color: #FFFEFE\">yourself</span> <span style=\"background-color: #FFFDFD\">##to</span> <span style=\"background-color: #FFFEFE\">fuck</span> <span style=\"background-color: #FFFEFE\">yourself</span> <span style=\"background-color: #FFFDFD\">##to</span> <span style=\"background-color: #FFFEFE\">fuck</span> <span style=\"background-color: #FFFEFE\">yourself</span> <span style=\"background-color: #FFFDFD\">##to</span> <span style=\"background-color: #FFFDFD\">fuck</span> <span style=\"background-color: #FFFEFE\">yourself</span> <span style=\"background-color: #FFFCFC\">##to</span> <span style=\"background-color: #FFFDFD\">fuck</span> <span style=\"background-color: #FFFEFE\">yourself</span> <span style=\"background-color: #FFFCFC\">##to</span> <span style=\"background-color: #FFFDFD\">fuck</span> <span style=\"background-color: #FFFEFE\">yourself</span> <span style=\"background-color: #FFFCFC\">##to</span> <span style=\"background-color: #FFFDFD\">fuck</span> <span style=\"background-color: #FFFEFE\">yourself</span> <span style=\"background-color: #FFFCFC\">##to</span> <span style=\"background-color: #FFFDFD\">fuck</span> <span style=\"background-color: #FFFEFE\">yourself</span> <span style=\"background-color: #FFFCFC\">##to</span> <span style=\"background-color: #FFFDFD\">fuck</span> <span style=\"background-color: #FFFEFE\">yourself</span> <span style=\"background-color: #FFFDFD\">##to</span> <span style=\"background-color: #FFFDFD\">fuck</span> <span style=\"background-color: #FFFEFE\">yourself</span> <span style=\"background-color: #FFFDFD\">##to</span> <span style=\"background-color: #FFFDFD\">fuck</span> <span style=\"background-color: #FFFEFE\">yourself</span> <span style=\"background-color: #FFFDFD\">##to</span> <span style=\"background-color: #FFFDFD\">fuck</span> <span style=\"background-color: #FFFEFE\">yourself</span> <span style=\"background-color: #FFFDFD\">##to</span> <span style=\"background-color: #FFFDFD\">fuck</span> <span style=\"background-color: #FFFEFE\">yourself</span> <span style=\"background-color: #FFFCFC\">##to</span> <span style=\"background-color: #FFFDFD\">fuck</span> <span style=\"background-color: #FFFEFE\">yourself</span> <span style=\"background-color: #FFFDFD\">##to</span> <span style=\"background-color: #FFFDFD\">fuck</span> <span style=\"background-color: #FFFEFE\">yourself</span> <span style=\"background-color: #FFFDFD\">##to</span> <span style=\"background-color: #FFFDFD\">fuck</span> <span style=\"background-color: #FFFEFE\">yourself</span> <span style=\"background-color: #FFFDFD\">##to</span> <span style=\"background-color: #FFFDFD\">fuck</span> <span style=\"background-color: #FF-8EC-8EC\">yourself</span>"
      ],
      "text/plain": [
       "<IPython.core.display.HTML object>"
      ]
     },
     "metadata": {},
     "output_type": "display_data"
    },
    {
     "data": {
      "text/plain": [
       "'go fuck yourselfto fuck yourselfto fuck yourselfto fuck yourselfto fuck yourselfto fuck yourselfto fuck yourselfto fuck yourselfto fuck yourselfto fuck yourselfto fuck yourselfto fuck yourselfto fuck yourselfto fuck yourselfto fuck yourselfto fuck yourselfto fuck yourselfto fuck yourselfto fuck yourselfto fuck yourselfto fuck yourselfto fuck yourselfto fuck yourselfto fuck yourselfto fuck yourselfto fuck yourselfto fuck yourselfto fuck yourselfto fuck yourselfto fuck yourselfto fuck yourselfto fuck yourselfto fuck yourselfto fuck yourselfto fuck yourselfto fuck yourselfto fuck yourselfto fuck yourselfto fuck yourselfto fuck yourselfto fuck yourselfto fuck yourselfto fuck yourselfto fuck yourselfto fuck yourselfto fuck yourselfto fuck yourselfto fuck yourselfto fuck yourselfto fuck yourselfto fuck yourselfto fuck yourselfto fuck yourselfto fuck yourselfto fuck yourselfto fuck yourselfto fuck yourselfto fuck yourselfto fuck yourselfto fuck yourselfto fuck yourselfto fuck yourselfto fuck yourselfto fuck yourselfto fuck yourselfto fuck yourselfto fuck yourselfto fuck yourselfto fuck yourselfto fuck yourselfto fuck yourselfto fuck yourselfto fuck yourselfto fuck yourselfto fuck yourselfto fuck yourselfto fuck yourselfto fuck yourselfto fuck yourselfto fuck yourselfto fuck yourselfto fuck yourselfto fuck yourselfto fuck yourselfto fuck yourselfto fuck yourselfto fuck yourselfto fuck yourselfto fuck yourselfto fuck yourselfto fuck yourselfto fuck yourselfto fuck yourselfto fuck yourselfto fuck yourselfto fuck yourselfto fuck yourselfto fuck yourselfto fuck yourselfto fuck yourselfto fuck yourselfto fuck yourselfto fuck yourselfto fuck yourselfto fuck yourselfto fuck yourselfto fuck yourselfto fuck yourselfto fuck yourselfto fuck yourselfto fuck yourselfto fuck yourselfto fuck yourselfto fuck yourselfto fuck yourselfto fuck yourselfto fuck yourselfto fuck yourselfto fuck yourselfto fuck yourselfto fuck yourselfto fuck yourselfto fuck yourselfto fuck yourselfto fuck yourselfto fuck yourselfto fuck yourselfto fuck yourselfto fuck yourselfto fuck yourselfto fuck yourselfto fuck yourselfto fuck yourselfto fuck yourselfto fuck yourselfto fuck yourselfto fuck yourselfto fuck yourselfto fuck yourselfto fuck yourselfto fuck yourselfto fuck yourselfto fuck yourselfto fuck yourselfto fuck yourselfto fuck yourselfto fuck yourselfto fuck yourselfto fuck yourselfto fuck yourselfto fuck yourselfto fuck yourselfto fuck yourselfto fuck yourselfto fuck yourselfto fuck yourselfto fuck yourselfto fuck yourselfto fuck yourselfto fuck yourselfto fuck yourselfto fuck yourselfto fuck yourselfto fuck yourselfto fuck yourselfto fuck yourselfto fuck yourselfto fuck yourselfto fuck yourselfto fuck yourselfto fuck yourselfto fuck yourselfto fuck yourselfto fuck yourselfto fuck yourselfto fuck yourselfto fuck yourselfto fuck yourselfto fuck yourselfto fuck yourselfto fuck yourselfto fuck yourselfto fuck yourselfto fuck yourselfto fuck yourselfto fuck yourselfto fuck yourselfto fuck yourselfto fuck yourselfto fuck yourselfto fuck yourselfto fuck yourselfto fuck yourselfto fuck yourselfto fuck yourselfto fuck yourselfto fuck yourselfto fuck yourselfto fuck yourselfto fuck yourselfto fuck yourselfto fuck yourselfto fuck yourselfto fuck yourselfto fuck yourselfto fuck yourselfto fuck yourselfto fuck yourselfto fuck yourselfto fuck yourselfto fuck yourselfto fuck yourselfto fuck yourselfto fuck yourselfto fuck yourselfto fuck yourselfto fuck yourselfto fuck yourselfto fuck yourselfto fuck yourselfto fuck yourselfto fuck yourselfto fuck yourselfto fuck yourselfto fuck yourselfto fuck yourselfto fuck yourselfto fuck yourselfto fuck yourselfto fuck yourselfto fuck yourselfto fuck yourselfto fuck yourselfto fuck yourselfto fuck yourselfto fuck yourselfto fuck yourselfto fuck yourselfto fuck yourselfto fuck yourselfto fuck yourselfto fuck yourselfto fuck yourselfto fuck yourselfto fuck yourselfto fuck yourselfto fuck yourselfto fuck yourselfto fuck yourselfto fuck yourselfto fuck yourselfto fuck yourselfto fuck yourselfto fuck yourselfto fuck yourselfto fuck yourselfto fuck yourselfto fuck yourselfto fuck yourselfto fuck yourselfto fuck yourselfto fuck yourselfto fuck yourselfto fuck yourselfto fuck yourselfto fuck yourselfto fuck yourselfto fuck yourselfto fuck yourselfto fuck yourselfto fuck yourselfto fuck yourselfto fuck yourselfto fuck yourselfto fuck yourselfto fuck yourselfto fuck yourselfto fuck yourselfto fuck yourselfto fuck yourselfto fuck yourselfto fuck yourselfto fuck yourselfto fuck yourselfto fuck yourselfto fuck yourselfto fuck yourselfto fuck yourselfto fuck yourselfto fuck yourselfto fuck yourselfto fuck yourselfto fuck yourselfto fuck yourselfto fuck yourselfto fuck yourselfto fuck yourselfto fuck yourselfto fuck yourselfto fuck yourselfto fuck yourselfto fuck yourselfto fuck yourselfto fuck yourselfto fuck yourselfto fuck yourselfto fuck yourselfto fuck yourselfto fuck yourselfto fuck yourselfto fuck yourselfto fuck yourselfto fuck'"
      ]
     },
     "metadata": {},
     "output_type": "display_data"
    },
    {
     "name": "stdout",
     "output_type": "stream",
     "text": [
      "Offensive Score is 1.1591417491436005\n"
     ]
    },
    {
     "data": {
      "text/html": [
       "<span style=\"background-color: #FFE7E7\">[CLS]</span> <span style=\"background-color: #FFE9E9\">hi</span> <span style=\"background-color: #FFDADA\">im</span> <span style=\"background-color: #FFECEC\">so</span> <span style=\"background-color: #FFE6E6\">gay</span> <span style=\"background-color: #FFECEC\">and</span> <span style=\"background-color: #FFF4F4\">re</span> <span style=\"background-color: #FFF3F3\">##tar</span> <span style=\"background-color: #FFF0F0\">##ded</span> <span style=\"background-color: #FFE8E8\">we</span> <span style=\"background-color: #FFEBEB\">suck</span> <span style=\"background-color: #FFEBEB\">so</span> <span style=\"background-color: #FFECEC\">many</span> <span style=\"background-color: #FFECEC\">balls</span> <span style=\"background-color: #FFEAEA\">o</span> <span style=\"background-color: #FFEFEF\">##o</span> <span style=\"background-color: #FFECEC\">i</span> <span style=\"background-color: #FFEEEE\">love</span> <span style=\"background-color: #FFE8E8\">men</span> <span style=\"background-color: #FF-97F-97F\">[SEP]</span>"
      ],
      "text/plain": [
       "<IPython.core.display.HTML object>"
      ]
     },
     "metadata": {},
     "output_type": "display_data"
    },
    {
     "data": {
      "text/plain": [
       "'hi im so gay and retarded we suck so many balls oo i love men'"
      ]
     },
     "metadata": {},
     "output_type": "display_data"
    },
    {
     "name": "stdout",
     "output_type": "stream",
     "text": [
      "Offensive Score is 1.1568662822246552\n"
     ]
    },
    {
     "data": {
      "text/html": [
       "<span style=\"background-color: #FFF4F4\">[CLS]</span> <span style=\"background-color: #FFF8F8\">i</span> <span style=\"background-color: #FFFAFA\">am</span> <span style=\"background-color: #FFFBFB\">a</span> <span style=\"background-color: #FFFBFB\">cu</span> <span style=\"background-color: #FFFBFB\">##nt</span> <span style=\"background-color: #FFFAFA\">##bag</span> <span style=\"background-color: #FFF8F8\">i</span> <span style=\"background-color: #FFFAFA\">am</span> <span style=\"background-color: #FFFBFB\">a</span> <span style=\"background-color: #FFFCFC\">cu</span> <span style=\"background-color: #FFFBFB\">##nt</span> <span style=\"background-color: #FFFAFA\">##bag</span> <span style=\"background-color: #FFF9F9\">i</span> <span style=\"background-color: #FFFBFB\">am</span> <span style=\"background-color: #FFFCFC\">a</span> <span style=\"background-color: #FFFCFC\">cu</span> <span style=\"background-color: #FFFCFC\">##nt</span> <span style=\"background-color: #FFFBFB\">##bag</span> <span style=\"background-color: #FFFAFA\">i</span> <span style=\"background-color: #FFFCFC\">am</span> <span style=\"background-color: #FFFCFC\">a</span> <span style=\"background-color: #FFFDFD\">cu</span> <span style=\"background-color: #FFFCFC\">##nt</span> <span style=\"background-color: #FFFCFC\">##bag</span> <span style=\"background-color: #FFFBFB\">i</span> <span style=\"background-color: #FFFCFC\">am</span> <span style=\"background-color: #FFFCFC\">a</span> <span style=\"background-color: #FFFDFD\">cu</span> <span style=\"background-color: #FFFCFC\">##nt</span> <span style=\"background-color: #FFFCFC\">##bag</span> <span style=\"background-color: #FFFBFB\">i</span> <span style=\"background-color: #FFFCFC\">am</span> <span style=\"background-color: #FFFCFC\">a</span> <span style=\"background-color: #FFFDFD\">cu</span> <span style=\"background-color: #FFFCFC\">##nt</span> <span style=\"background-color: #FFFCFC\">##bag</span> <span style=\"background-color: #FFFBFB\">i</span> <span style=\"background-color: #FFFCFC\">am</span> <span style=\"background-color: #FFFCFC\">a</span> <span style=\"background-color: #FFFDFD\">cu</span> <span style=\"background-color: #FFFCFC\">##nt</span> <span style=\"background-color: #FFFCFC\">##bag</span> <span style=\"background-color: #FFFCFC\">i</span> <span style=\"background-color: #FFFDFD\">am</span> <span style=\"background-color: #FFFDFD\">a</span> <span style=\"background-color: #FFFDFD\">cu</span> <span style=\"background-color: #FFFDFD\">##nt</span> <span style=\"background-color: #FFFDFD\">##bag</span> <span style=\"background-color: #FFFCFC\">i</span> <span style=\"background-color: #FFFDFD\">am</span> <span style=\"background-color: #FFFDFD\">a</span> <span style=\"background-color: #FFFDFD\">cu</span> <span style=\"background-color: #FFFDFD\">##nt</span> <span style=\"background-color: #FFFDFD\">##bag</span> <span style=\"background-color: #FFFCFC\">i</span> <span style=\"background-color: #FFFDFD\">am</span> <span style=\"background-color: #FFFDFD\">a</span> <span style=\"background-color: #FFFDFD\">cu</span> <span style=\"background-color: #FFFDFD\">##nt</span> <span style=\"background-color: #FFFCFC\">##bag</span> <span style=\"background-color: #FFFBFB\">i</span> <span style=\"background-color: #FFFCFC\">am</span> <span style=\"background-color: #FFFDFD\">a</span> <span style=\"background-color: #FFFDFD\">cu</span> <span style=\"background-color: #FFFCFC\">##nt</span> <span style=\"background-color: #FFFCFC\">##bag</span> <span style=\"background-color: #FFFBFB\">i</span> <span style=\"background-color: #FFFCFC\">am</span> <span style=\"background-color: #FFFDFD\">a</span> <span style=\"background-color: #FFFDFD\">cu</span> <span style=\"background-color: #FFFCFC\">##nt</span> <span style=\"background-color: #FFFCFC\">##bag</span> <span style=\"background-color: #FFFCFC\">i</span> <span style=\"background-color: #FFFDFD\">am</span> <span style=\"background-color: #FFFDFD\">a</span> <span style=\"background-color: #FFFDFD\">cu</span> <span style=\"background-color: #FFFDFD\">##nt</span> <span style=\"background-color: #FFFDFD\">##bag</span> <span style=\"background-color: #FFFCFC\">i</span> <span style=\"background-color: #FFFDFD\">am</span> <span style=\"background-color: #FFFDFD\">a</span> <span style=\"background-color: #FFFDFD\">cu</span> <span style=\"background-color: #FFFDFD\">##nt</span> <span style=\"background-color: #FFFCFC\">##bag</span> <span style=\"background-color: #FFFCFC\">i</span> <span style=\"background-color: #FFFDFD\">am</span> <span style=\"background-color: #FFFDFD\">a</span> <span style=\"background-color: #FFFDFD\">cu</span> <span style=\"background-color: #FFFDFD\">##nt</span> <span style=\"background-color: #FFFDFD\">##bag</span> <span style=\"background-color: #FFFCFC\">i</span> <span style=\"background-color: #FFFDFD\">am</span> <span style=\"background-color: #FFFDFD\">a</span> <span style=\"background-color: #FFFDFD\">cu</span> <span style=\"background-color: #FFFDFD\">##nt</span> <span style=\"background-color: #FFFDFD\">##bag</span> <span style=\"background-color: #FFFCFC\">i</span> <span style=\"background-color: #FFFDFD\">am</span> <span style=\"background-color: #FFFDFD\">a</span> <span style=\"background-color: #FFFDFD\">cu</span> <span style=\"background-color: #FFFDFD\">##nt</span> <span style=\"background-color: #FFFDFD\">##bag</span> <span style=\"background-color: #FFFDFD\">i</span> <span style=\"background-color: #FFFDFD\">am</span> <span style=\"background-color: #FFFDFD\">a</span> <span style=\"background-color: #FFFDFD\">cu</span> <span style=\"background-color: #FFFDFD\">##nt</span> <span style=\"background-color: #FFFDFD\">##bag</span> <span style=\"background-color: #FFFCFC\">i</span> <span style=\"background-color: #FFFDFD\">am</span> <span style=\"background-color: #FFFDFD\">a</span> <span style=\"background-color: #FFFDFD\">cu</span> <span style=\"background-color: #FFFDFD\">##nt</span> <span style=\"background-color: #FFFDFD\">##bag</span> <span style=\"background-color: #FFFDFD\">i</span> <span style=\"background-color: #FFFDFD\">am</span> <span style=\"background-color: #FFFDFD\">a</span> <span style=\"background-color: #FFFDFD\">cu</span> <span style=\"background-color: #FFFDFD\">##nt</span> <span style=\"background-color: #FFFDFD\">##bag</span> <span style=\"background-color: #FFFCFC\">i</span> <span style=\"background-color: #FFFCFC\">am</span> <span style=\"background-color: #FFFDFD\">a</span> <span style=\"background-color: #FFFDFD\">cu</span> <span style=\"background-color: #FFFDFD\">##nt</span> <span style=\"background-color: #FFFDFD\">##bag</span> <span style=\"background-color: #FFFCFC\">i</span> <span style=\"background-color: #FFFCFC\">am</span> <span style=\"background-color: #FFFDFD\">a</span> <span style=\"background-color: #FFFDFD\">cu</span> <span style=\"background-color: #FFFDFD\">##nt</span> <span style=\"background-color: #FFFDFD\">##bag</span> <span style=\"background-color: #FFFCFC\">i</span> <span style=\"background-color: #FFFCFC\">am</span> <span style=\"background-color: #FFFDFD\">a</span> <span style=\"background-color: #FFFDFD\">cu</span> <span style=\"background-color: #FFFDFD\">##nt</span> <span style=\"background-color: #FFFDFD\">##bag</span> <span style=\"background-color: #FFFCFC\">i</span> <span style=\"background-color: #FFFCFC\">am</span> <span style=\"background-color: #FFFDFD\">a</span> <span style=\"background-color: #FFFDFD\">cu</span> <span style=\"background-color: #FFFDFD\">##nt</span> <span style=\"background-color: #FFFDFD\">##bag</span> <span style=\"background-color: #FFFCFC\">i</span> <span style=\"background-color: #FFFCFC\">am</span> <span style=\"background-color: #FFFDFD\">a</span> <span style=\"background-color: #FFFDFD\">cu</span> <span style=\"background-color: #FFFDFD\">##nt</span> <span style=\"background-color: #FFFDFD\">##bag</span> <span style=\"background-color: #FFFCFC\">i</span> <span style=\"background-color: #FFFCFC\">am</span> <span style=\"background-color: #FFFDFD\">a</span> <span style=\"background-color: #FFFDFD\">cu</span> <span style=\"background-color: #FFFDFD\">##nt</span> <span style=\"background-color: #FFFDFD\">##bag</span> <span style=\"background-color: #FFFCFC\">i</span> <span style=\"background-color: #FFFDFD\">am</span> <span style=\"background-color: #FFFDFD\">a</span> <span style=\"background-color: #FFFDFD\">cu</span> <span style=\"background-color: #FFFDFD\">##nt</span> <span style=\"background-color: #FFFDFD\">##bag</span> <span style=\"background-color: #FFFCFC\">i</span> <span style=\"background-color: #FFFDFD\">am</span> <span style=\"background-color: #FFFDFD\">a</span> <span style=\"background-color: #FFFDFD\">cu</span> <span style=\"background-color: #FFFDFD\">##nt</span> <span style=\"background-color: #FFFDFD\">##bag</span> <span style=\"background-color: #FFFDFD\">i</span> <span style=\"background-color: #FFFDFD\">am</span> <span style=\"background-color: #FFFDFD\">a</span> <span style=\"background-color: #FFFEFE\">cu</span> <span style=\"background-color: #FFFDFD\">##nt</span> <span style=\"background-color: #FFFDFD\">##bag</span> <span style=\"background-color: #FFFDFD\">i</span> <span style=\"background-color: #FFFDFD\">am</span> <span style=\"background-color: #FFFDFD\">a</span> <span style=\"background-color: #FFFEFE\">cu</span> <span style=\"background-color: #FFFDFD\">##nt</span> <span style=\"background-color: #FFFDFD\">##bag</span> <span style=\"background-color: #FFFDFD\">i</span> <span style=\"background-color: #FFFDFD\">am</span> <span style=\"background-color: #FFFDFD\">a</span> <span style=\"background-color: #FFFEFE\">cu</span> <span style=\"background-color: #FFFDFD\">##nt</span> <span style=\"background-color: #FFFDFD\">##bag</span> <span style=\"background-color: #FFFDFD\">i</span> <span style=\"background-color: #FFFDFD\">am</span> <span style=\"background-color: #FFFDFD\">a</span> <span style=\"background-color: #FFFDFD\">cu</span> <span style=\"background-color: #FFFDFD\">##nt</span> <span style=\"background-color: #FFFDFD\">##bag</span> <span style=\"background-color: #FFFDFD\">i</span> <span style=\"background-color: #FFFDFD\">am</span> <span style=\"background-color: #FFFDFD\">a</span> <span style=\"background-color: #FFFEFE\">cu</span> <span style=\"background-color: #FFFDFD\">##nt</span> <span style=\"background-color: #FFFDFD\">##bag</span> <span style=\"background-color: #FFFDFD\">i</span> <span style=\"background-color: #FFFDFD\">am</span> <span style=\"background-color: #FFFEFE\">a</span> <span style=\"background-color: #FFFEFE\">cu</span> <span style=\"background-color: #FFFDFD\">##nt</span> <span style=\"background-color: #FFFDFD\">##bag</span> <span style=\"background-color: #FFFDFD\">i</span> <span style=\"background-color: #FFFDFD\">am</span> <span style=\"background-color: #FFFEFE\">a</span> <span style=\"background-color: #FFFEFE\">cu</span> <span style=\"background-color: #FFFDFD\">##nt</span> <span style=\"background-color: #FFFDFD\">##bag</span> <span style=\"background-color: #FFFDFD\">i</span> <span style=\"background-color: #FFFDFD\">am</span> <span style=\"background-color: #FFFDFD\">a</span> <span style=\"background-color: #FFFEFE\">cu</span> <span style=\"background-color: #FFFDFD\">##nt</span> <span style=\"background-color: #FFFDFD\">##bag</span> <span style=\"background-color: #FFFDFD\">i</span> <span style=\"background-color: #FFFDFD\">am</span> <span style=\"background-color: #FFFDFD\">a</span> <span style=\"background-color: #FFFDFD\">cu</span> <span style=\"background-color: #FFFDFD\">##nt</span> <span style=\"background-color: #FFFDFD\">##bag</span> <span style=\"background-color: #FFFCFC\">i</span> <span style=\"background-color: #FFFDFD\">am</span> <span style=\"background-color: #FFFDFD\">a</span> <span style=\"background-color: #FFFDFD\">cu</span> <span style=\"background-color: #FFFDFD\">##nt</span> <span style=\"background-color: #FFFDFD\">##bag</span> <span style=\"background-color: #FFFDFD\">i</span> <span style=\"background-color: #FFFDFD\">am</span> <span style=\"background-color: #FFFDFD\">a</span> <span style=\"background-color: #FFFDFD\">cu</span> <span style=\"background-color: #FFFDFD\">##nt</span> <span style=\"background-color: #FFFDFD\">##bag</span> <span style=\"background-color: #FFFCFC\">i</span> <span style=\"background-color: #FFFDFD\">am</span> <span style=\"background-color: #FFFDFD\">a</span> <span style=\"background-color: #FFFDFD\">cu</span> <span style=\"background-color: #FFFDFD\">##nt</span> <span style=\"background-color: #FFFCFC\">##bag</span> <span style=\"background-color: #FFFCFC\">i</span> <span style=\"background-color: #FFFDFD\">am</span> <span style=\"background-color: #FFFDFD\">a</span> <span style=\"background-color: #FFFDFD\">cu</span> <span style=\"background-color: #FFFDFD\">##nt</span> <span style=\"background-color: #FFFCFC\">##bag</span> <span style=\"background-color: #FFFCFC\">i</span> <span style=\"background-color: #FFFDFD\">am</span> <span style=\"background-color: #FFFDFD\">a</span> <span style=\"background-color: #FFFDFD\">cu</span> <span style=\"background-color: #FFFDFD\">##nt</span> <span style=\"background-color: #FFFCFC\">##bag</span> <span style=\"background-color: #FFFCFC\">i</span> <span style=\"background-color: #FFFCFC\">am</span> <span style=\"background-color: #FF-90A-90A\">a</span>"
      ],
      "text/plain": [
       "<IPython.core.display.HTML object>"
      ]
     },
     "metadata": {},
     "output_type": "display_data"
    },
    {
     "data": {
      "text/plain": [
       "'i am a cuntbag i am a cuntbag i am a cuntbag i am a cuntbag i am a cuntbag i am a cuntbag i am a cuntbag i am a cuntbag i am a cuntbag i am a cuntbag i am a cuntbag i am a cuntbag i am a cuntbag i am a cuntbag i am a cuntbag i am a cuntbag i am a cuntbag i am a cuntbag i am a cuntbag i am a cuntbag i am a cuntbag i am a cuntbag i am a cuntbag i am a cuntbag i am a cuntbag i am a cuntbag i am a cuntbag i am a cuntbag i am a cuntbag i am a cuntbag i am a cuntbag i am a cuntbag i am a cuntbag i am a cuntbag i am a cuntbag i am a cuntbag i am a cuntbag i am a cuntbag i am a cuntbag i am a cuntbag i am a cuntbag i am a cuntbag i am a cuntbag i am a cuntbag i am a cuntbag i am a cuntbag i am a cuntbag i am a cuntbag i am a cuntbag i am a cuntbag i am a cuntbag i am a cuntbag i am a cuntbag i am a cuntbag i am a cuntbag i am a cuntbag i am a cuntbag i am a cuntbag i am a cuntbag i am a cuntbag i am a cuntbag i am a cuntbag i am a cuntbag i am a cuntbag i am a cuntbag i am a cuntbag i am a cuntbag i am a cuntbag i am a cuntbag i am a cuntbag i am a cuntbag i am a cuntbag i am a cuntbag i am a cuntbag i am a cuntbag i am a cuntbag i am a cuntbag i am a cuntbag i am a cuntbag i am a cuntbag i am a cuntbag i am a cuntbag i am a cuntbag i am a cuntbag i am a cuntbag i am a cuntbag i am a cuntbag i am a cuntbag i am a cuntbag i am a cuntbag i am a cuntbag i am a cuntbag i am a cuntbag i am a cuntbag i am a cuntbag i am a cuntbag i am a cuntbag i am a cuntbag i am a cuntbag i am a cuntbag i am a cuntbag i am a cuntbag i am a cuntbag i am a cuntbag i am a cuntbag i am a cuntbag i am a cuntbag i am a cuntbag i am a cuntbag i am a cuntbag i am a cuntbag i am a cuntbag i am a cuntbag i am a cuntbag i am a cuntbag i am a cuntbag i am a cuntbag i am a cuntbag i am a cuntbag i am a cuntbag i am a cuntbag i am a cuntbag i am a cuntbag i am a cuntbag i am a cuntbag i am a cuntbag'"
      ]
     },
     "metadata": {},
     "output_type": "display_data"
    },
    {
     "name": "stdout",
     "output_type": "stream",
     "text": [
      "Offensive Score is 1.1568662822246552\n"
     ]
    },
    {
     "data": {
      "text/html": [
       "<span style=\"background-color: #FFF4F4\">[CLS]</span> <span style=\"background-color: #FFF8F8\">i</span> <span style=\"background-color: #FFFAFA\">am</span> <span style=\"background-color: #FFFBFB\">a</span> <span style=\"background-color: #FFFBFB\">cu</span> <span style=\"background-color: #FFFBFB\">##nt</span> <span style=\"background-color: #FFFAFA\">##bag</span> <span style=\"background-color: #FFF8F8\">i</span> <span style=\"background-color: #FFFAFA\">am</span> <span style=\"background-color: #FFFBFB\">a</span> <span style=\"background-color: #FFFCFC\">cu</span> <span style=\"background-color: #FFFBFB\">##nt</span> <span style=\"background-color: #FFFAFA\">##bag</span> <span style=\"background-color: #FFF9F9\">i</span> <span style=\"background-color: #FFFBFB\">am</span> <span style=\"background-color: #FFFCFC\">a</span> <span style=\"background-color: #FFFCFC\">cu</span> <span style=\"background-color: #FFFCFC\">##nt</span> <span style=\"background-color: #FFFBFB\">##bag</span> <span style=\"background-color: #FFFAFA\">i</span> <span style=\"background-color: #FFFCFC\">am</span> <span style=\"background-color: #FFFCFC\">a</span> <span style=\"background-color: #FFFDFD\">cu</span> <span style=\"background-color: #FFFCFC\">##nt</span> <span style=\"background-color: #FFFCFC\">##bag</span> <span style=\"background-color: #FFFBFB\">i</span> <span style=\"background-color: #FFFCFC\">am</span> <span style=\"background-color: #FFFCFC\">a</span> <span style=\"background-color: #FFFDFD\">cu</span> <span style=\"background-color: #FFFCFC\">##nt</span> <span style=\"background-color: #FFFCFC\">##bag</span> <span style=\"background-color: #FFFBFB\">i</span> <span style=\"background-color: #FFFCFC\">am</span> <span style=\"background-color: #FFFCFC\">a</span> <span style=\"background-color: #FFFDFD\">cu</span> <span style=\"background-color: #FFFCFC\">##nt</span> <span style=\"background-color: #FFFCFC\">##bag</span> <span style=\"background-color: #FFFBFB\">i</span> <span style=\"background-color: #FFFCFC\">am</span> <span style=\"background-color: #FFFCFC\">a</span> <span style=\"background-color: #FFFDFD\">cu</span> <span style=\"background-color: #FFFCFC\">##nt</span> <span style=\"background-color: #FFFCFC\">##bag</span> <span style=\"background-color: #FFFCFC\">i</span> <span style=\"background-color: #FFFDFD\">am</span> <span style=\"background-color: #FFFDFD\">a</span> <span style=\"background-color: #FFFDFD\">cu</span> <span style=\"background-color: #FFFDFD\">##nt</span> <span style=\"background-color: #FFFDFD\">##bag</span> <span style=\"background-color: #FFFCFC\">i</span> <span style=\"background-color: #FFFDFD\">am</span> <span style=\"background-color: #FFFDFD\">a</span> <span style=\"background-color: #FFFDFD\">cu</span> <span style=\"background-color: #FFFDFD\">##nt</span> <span style=\"background-color: #FFFDFD\">##bag</span> <span style=\"background-color: #FFFCFC\">i</span> <span style=\"background-color: #FFFDFD\">am</span> <span style=\"background-color: #FFFDFD\">a</span> <span style=\"background-color: #FFFDFD\">cu</span> <span style=\"background-color: #FFFDFD\">##nt</span> <span style=\"background-color: #FFFCFC\">##bag</span> <span style=\"background-color: #FFFBFB\">i</span> <span style=\"background-color: #FFFCFC\">am</span> <span style=\"background-color: #FFFDFD\">a</span> <span style=\"background-color: #FFFDFD\">cu</span> <span style=\"background-color: #FFFCFC\">##nt</span> <span style=\"background-color: #FFFCFC\">##bag</span> <span style=\"background-color: #FFFBFB\">i</span> <span style=\"background-color: #FFFCFC\">am</span> <span style=\"background-color: #FFFDFD\">a</span> <span style=\"background-color: #FFFDFD\">cu</span> <span style=\"background-color: #FFFCFC\">##nt</span> <span style=\"background-color: #FFFCFC\">##bag</span> <span style=\"background-color: #FFFCFC\">i</span> <span style=\"background-color: #FFFDFD\">am</span> <span style=\"background-color: #FFFDFD\">a</span> <span style=\"background-color: #FFFDFD\">cu</span> <span style=\"background-color: #FFFDFD\">##nt</span> <span style=\"background-color: #FFFDFD\">##bag</span> <span style=\"background-color: #FFFCFC\">i</span> <span style=\"background-color: #FFFDFD\">am</span> <span style=\"background-color: #FFFDFD\">a</span> <span style=\"background-color: #FFFDFD\">cu</span> <span style=\"background-color: #FFFDFD\">##nt</span> <span style=\"background-color: #FFFCFC\">##bag</span> <span style=\"background-color: #FFFCFC\">i</span> <span style=\"background-color: #FFFDFD\">am</span> <span style=\"background-color: #FFFDFD\">a</span> <span style=\"background-color: #FFFDFD\">cu</span> <span style=\"background-color: #FFFDFD\">##nt</span> <span style=\"background-color: #FFFDFD\">##bag</span> <span style=\"background-color: #FFFCFC\">i</span> <span style=\"background-color: #FFFDFD\">am</span> <span style=\"background-color: #FFFDFD\">a</span> <span style=\"background-color: #FFFDFD\">cu</span> <span style=\"background-color: #FFFDFD\">##nt</span> <span style=\"background-color: #FFFDFD\">##bag</span> <span style=\"background-color: #FFFCFC\">i</span> <span style=\"background-color: #FFFDFD\">am</span> <span style=\"background-color: #FFFDFD\">a</span> <span style=\"background-color: #FFFDFD\">cu</span> <span style=\"background-color: #FFFDFD\">##nt</span> <span style=\"background-color: #FFFDFD\">##bag</span> <span style=\"background-color: #FFFDFD\">i</span> <span style=\"background-color: #FFFDFD\">am</span> <span style=\"background-color: #FFFDFD\">a</span> <span style=\"background-color: #FFFDFD\">cu</span> <span style=\"background-color: #FFFDFD\">##nt</span> <span style=\"background-color: #FFFDFD\">##bag</span> <span style=\"background-color: #FFFCFC\">i</span> <span style=\"background-color: #FFFDFD\">am</span> <span style=\"background-color: #FFFDFD\">a</span> <span style=\"background-color: #FFFDFD\">cu</span> <span style=\"background-color: #FFFDFD\">##nt</span> <span style=\"background-color: #FFFDFD\">##bag</span> <span style=\"background-color: #FFFDFD\">i</span> <span style=\"background-color: #FFFDFD\">am</span> <span style=\"background-color: #FFFDFD\">a</span> <span style=\"background-color: #FFFDFD\">cu</span> <span style=\"background-color: #FFFDFD\">##nt</span> <span style=\"background-color: #FFFDFD\">##bag</span> <span style=\"background-color: #FFFCFC\">i</span> <span style=\"background-color: #FFFCFC\">am</span> <span style=\"background-color: #FFFDFD\">a</span> <span style=\"background-color: #FFFDFD\">cu</span> <span style=\"background-color: #FFFDFD\">##nt</span> <span style=\"background-color: #FFFDFD\">##bag</span> <span style=\"background-color: #FFFCFC\">i</span> <span style=\"background-color: #FFFCFC\">am</span> <span style=\"background-color: #FFFDFD\">a</span> <span style=\"background-color: #FFFDFD\">cu</span> <span style=\"background-color: #FFFDFD\">##nt</span> <span style=\"background-color: #FFFDFD\">##bag</span> <span style=\"background-color: #FFFCFC\">i</span> <span style=\"background-color: #FFFCFC\">am</span> <span style=\"background-color: #FFFDFD\">a</span> <span style=\"background-color: #FFFDFD\">cu</span> <span style=\"background-color: #FFFDFD\">##nt</span> <span style=\"background-color: #FFFDFD\">##bag</span> <span style=\"background-color: #FFFCFC\">i</span> <span style=\"background-color: #FFFCFC\">am</span> <span style=\"background-color: #FFFDFD\">a</span> <span style=\"background-color: #FFFDFD\">cu</span> <span style=\"background-color: #FFFDFD\">##nt</span> <span style=\"background-color: #FFFDFD\">##bag</span> <span style=\"background-color: #FFFCFC\">i</span> <span style=\"background-color: #FFFCFC\">am</span> <span style=\"background-color: #FFFDFD\">a</span> <span style=\"background-color: #FFFDFD\">cu</span> <span style=\"background-color: #FFFDFD\">##nt</span> <span style=\"background-color: #FFFDFD\">##bag</span> <span style=\"background-color: #FFFCFC\">i</span> <span style=\"background-color: #FFFCFC\">am</span> <span style=\"background-color: #FFFDFD\">a</span> <span style=\"background-color: #FFFDFD\">cu</span> <span style=\"background-color: #FFFDFD\">##nt</span> <span style=\"background-color: #FFFDFD\">##bag</span> <span style=\"background-color: #FFFCFC\">i</span> <span style=\"background-color: #FFFDFD\">am</span> <span style=\"background-color: #FFFDFD\">a</span> <span style=\"background-color: #FFFDFD\">cu</span> <span style=\"background-color: #FFFDFD\">##nt</span> <span style=\"background-color: #FFFDFD\">##bag</span> <span style=\"background-color: #FFFCFC\">i</span> <span style=\"background-color: #FFFDFD\">am</span> <span style=\"background-color: #FFFDFD\">a</span> <span style=\"background-color: #FFFDFD\">cu</span> <span style=\"background-color: #FFFDFD\">##nt</span> <span style=\"background-color: #FFFDFD\">##bag</span> <span style=\"background-color: #FFFDFD\">i</span> <span style=\"background-color: #FFFDFD\">am</span> <span style=\"background-color: #FFFDFD\">a</span> <span style=\"background-color: #FFFEFE\">cu</span> <span style=\"background-color: #FFFDFD\">##nt</span> <span style=\"background-color: #FFFDFD\">##bag</span> <span style=\"background-color: #FFFDFD\">i</span> <span style=\"background-color: #FFFDFD\">am</span> <span style=\"background-color: #FFFDFD\">a</span> <span style=\"background-color: #FFFEFE\">cu</span> <span style=\"background-color: #FFFDFD\">##nt</span> <span style=\"background-color: #FFFDFD\">##bag</span> <span style=\"background-color: #FFFDFD\">i</span> <span style=\"background-color: #FFFDFD\">am</span> <span style=\"background-color: #FFFDFD\">a</span> <span style=\"background-color: #FFFEFE\">cu</span> <span style=\"background-color: #FFFDFD\">##nt</span> <span style=\"background-color: #FFFDFD\">##bag</span> <span style=\"background-color: #FFFDFD\">i</span> <span style=\"background-color: #FFFDFD\">am</span> <span style=\"background-color: #FFFDFD\">a</span> <span style=\"background-color: #FFFDFD\">cu</span> <span style=\"background-color: #FFFDFD\">##nt</span> <span style=\"background-color: #FFFDFD\">##bag</span> <span style=\"background-color: #FFFDFD\">i</span> <span style=\"background-color: #FFFDFD\">am</span> <span style=\"background-color: #FFFDFD\">a</span> <span style=\"background-color: #FFFEFE\">cu</span> <span style=\"background-color: #FFFDFD\">##nt</span> <span style=\"background-color: #FFFDFD\">##bag</span> <span style=\"background-color: #FFFDFD\">i</span> <span style=\"background-color: #FFFDFD\">am</span> <span style=\"background-color: #FFFEFE\">a</span> <span style=\"background-color: #FFFEFE\">cu</span> <span style=\"background-color: #FFFDFD\">##nt</span> <span style=\"background-color: #FFFDFD\">##bag</span> <span style=\"background-color: #FFFDFD\">i</span> <span style=\"background-color: #FFFDFD\">am</span> <span style=\"background-color: #FFFEFE\">a</span> <span style=\"background-color: #FFFEFE\">cu</span> <span style=\"background-color: #FFFDFD\">##nt</span> <span style=\"background-color: #FFFDFD\">##bag</span> <span style=\"background-color: #FFFDFD\">i</span> <span style=\"background-color: #FFFDFD\">am</span> <span style=\"background-color: #FFFDFD\">a</span> <span style=\"background-color: #FFFEFE\">cu</span> <span style=\"background-color: #FFFDFD\">##nt</span> <span style=\"background-color: #FFFDFD\">##bag</span> <span style=\"background-color: #FFFDFD\">i</span> <span style=\"background-color: #FFFDFD\">am</span> <span style=\"background-color: #FFFDFD\">a</span> <span style=\"background-color: #FFFDFD\">cu</span> <span style=\"background-color: #FFFDFD\">##nt</span> <span style=\"background-color: #FFFDFD\">##bag</span> <span style=\"background-color: #FFFCFC\">i</span> <span style=\"background-color: #FFFDFD\">am</span> <span style=\"background-color: #FFFDFD\">a</span> <span style=\"background-color: #FFFDFD\">cu</span> <span style=\"background-color: #FFFDFD\">##nt</span> <span style=\"background-color: #FFFDFD\">##bag</span> <span style=\"background-color: #FFFDFD\">i</span> <span style=\"background-color: #FFFDFD\">am</span> <span style=\"background-color: #FFFDFD\">a</span> <span style=\"background-color: #FFFDFD\">cu</span> <span style=\"background-color: #FFFDFD\">##nt</span> <span style=\"background-color: #FFFDFD\">##bag</span> <span style=\"background-color: #FFFCFC\">i</span> <span style=\"background-color: #FFFDFD\">am</span> <span style=\"background-color: #FFFDFD\">a</span> <span style=\"background-color: #FFFDFD\">cu</span> <span style=\"background-color: #FFFDFD\">##nt</span> <span style=\"background-color: #FFFCFC\">##bag</span> <span style=\"background-color: #FFFCFC\">i</span> <span style=\"background-color: #FFFDFD\">am</span> <span style=\"background-color: #FFFDFD\">a</span> <span style=\"background-color: #FFFDFD\">cu</span> <span style=\"background-color: #FFFDFD\">##nt</span> <span style=\"background-color: #FFFCFC\">##bag</span> <span style=\"background-color: #FFFCFC\">i</span> <span style=\"background-color: #FFFDFD\">am</span> <span style=\"background-color: #FFFDFD\">a</span> <span style=\"background-color: #FFFDFD\">cu</span> <span style=\"background-color: #FFFDFD\">##nt</span> <span style=\"background-color: #FFFCFC\">##bag</span> <span style=\"background-color: #FFFCFC\">i</span> <span style=\"background-color: #FFFCFC\">am</span> <span style=\"background-color: #FF-90A-90A\">a</span>"
      ],
      "text/plain": [
       "<IPython.core.display.HTML object>"
      ]
     },
     "metadata": {},
     "output_type": "display_data"
    },
    {
     "data": {
      "text/plain": [
       "'i am a cuntbag i am a cuntbag i am a cuntbag i am a cuntbag i am a cuntbag i am a cuntbag i am a cuntbag i am a cuntbag i am a cuntbag i am a cuntbag i am a cuntbag i am a cuntbag i am a cuntbag i am a cuntbag i am a cuntbag i am a cuntbag i am a cuntbag i am a cuntbag i am a cuntbag i am a cuntbag i am a cuntbag i am a cuntbag i am a cuntbag i am a cuntbag i am a cuntbag i am a cuntbag i am a cuntbag i am a cuntbag i am a cuntbag i am a cuntbag i am a cuntbag i am a cuntbag i am a cuntbag i am a cuntbag i am a cuntbag i am a cuntbag i am a cuntbag i am a cuntbag i am a cuntbag i am a cuntbag i am a cuntbag i am a cuntbag i am a cuntbag i am a cuntbag i am a cuntbag i am a cuntbag i am a cuntbag i am a cuntbag i am a cuntbag i am a cuntbag i am a cuntbag i am a cuntbag i am a cuntbag i am a cuntbag i am a cuntbag i am a cuntbag i am a cuntbag i am a cuntbag i am a cuntbag i am a cuntbag i am a cuntbag i am a cuntbag i am a cuntbag i am a cuntbag i am a cuntbag i am a cuntbag i am a cuntbag i am a cuntbag i am a cuntbag i am a cuntbag i am a cuntbag i am a cuntbag i am a cuntbag i am a cuntbag i am a cuntbag i am a cuntbag i am a cuntbag i am a cuntbag i am a cuntbag i am a cuntbag i am a cuntbag i am a cuntbag i am a cuntbag i am a cuntbag i am a cuntbag i am a cuntbag i am a cuntbag i am a cuntbag i am a cuntbag i am a cuntbag i am a cuntbag i am a cuntbag i am a cuntbag i am a cuntbag i am a cuntbag i am a cuntbag i am a cuntbag i am a cuntbag'"
      ]
     },
     "metadata": {},
     "output_type": "display_data"
    },
    {
     "name": "stdout",
     "output_type": "stream",
     "text": [
      "Offensive Score is 1.1548528373241425\n"
     ]
    },
    {
     "data": {
      "text/html": [
       "<span style=\"background-color: #FFD8D8\">[CLS]</span> <span style=\"background-color: #FFD2D2\">you</span> <span style=\"background-color: #FFD5D5\">suck</span> <span style=\"background-color: #FFDADA\">it</span> <span style=\"background-color: #FFD7D7\">big</span> <span style=\"background-color: #FFE4E4\">time</span> <span style=\"background-color: #FFD4D4\">you</span> <span style=\"background-color: #FFCECE\">suck</span> <span style=\"background-color: #FFDBDB\">it</span> <span style=\"background-color: #FFDBDB\">big</span> <span style=\"background-color: #FFE3E3\">time</span> <span style=\"background-color: #FF-953-953\">[SEP]</span>"
      ],
      "text/plain": [
       "<IPython.core.display.HTML object>"
      ]
     },
     "metadata": {},
     "output_type": "display_data"
    },
    {
     "data": {
      "text/plain": [
       "'you suck it big time you suck it big time'"
      ]
     },
     "metadata": {},
     "output_type": "display_data"
    },
    {
     "name": "stdout",
     "output_type": "stream",
     "text": [
      "Offensive Score is 1.154758632183075\n"
     ]
    },
    {
     "data": {
      "text/html": [
       "<span style=\"background-color: #FFD8D8\">[CLS]</span> <span style=\"background-color: #FFDADA\">how</span> <span style=\"background-color: #FFD4D4\">big</span> <span style=\"background-color: #FFE0E0\">is</span> <span style=\"background-color: #FFD7D7\">ur</span> <span style=\"background-color: #FFE2E2\">cock</span> <span style=\"background-color: #FFD9D9\">i</span> <span style=\"background-color: #FFDDDD\">wanna</span> <span style=\"background-color: #FFE5E5\">suck</span> <span style=\"background-color: #FFD2D2\">u</span> <span style=\"background-color: #FFE6E6\">dry</span> <span style=\"background-color: #FF-977-977\">[SEP]</span>"
      ],
      "text/plain": [
       "<IPython.core.display.HTML object>"
      ]
     },
     "metadata": {},
     "output_type": "display_data"
    },
    {
     "data": {
      "text/plain": [
       "'how big is ur cock i wanna suck u dry'"
      ]
     },
     "metadata": {},
     "output_type": "display_data"
    },
    {
     "name": "stdout",
     "output_type": "stream",
     "text": [
      "Offensive Score is 1.1536963880062103\n"
     ]
    },
    {
     "data": {
      "text/html": [
       "<span style=\"background-color: #FFD2D2\">[CLS]</span> <span style=\"background-color: #FFC8C8\">i</span> <span style=\"background-color: #FFCDCD\">i</span> <span style=\"background-color: #FFC2C2\">wanna</span> <span style=\"background-color: #FFCBCB\">fuck</span> <span style=\"background-color: #FFD9D9\">a</span> <span style=\"background-color: #FFD7D7\">dog</span> <span style=\"background-color: #FFD8D8\">in</span> <span style=\"background-color: #FFD6D6\">the</span> <span style=\"background-color: #FFD5D5\">ass</span> <span style=\"background-color: #FF-92A-92A\">[SEP]</span>"
      ],
      "text/plain": [
       "<IPython.core.display.HTML object>"
      ]
     },
     "metadata": {},
     "output_type": "display_data"
    },
    {
     "data": {
      "text/plain": [
       "'i i wanna fuck a dog in the ass'"
      ]
     },
     "metadata": {},
     "output_type": "display_data"
    },
    {
     "name": "stdout",
     "output_type": "stream",
     "text": [
      "Offensive Score is 1.1506949067115784\n"
     ]
    },
    {
     "data": {
      "text/html": [
       "<span style=\"background-color: #FFD6D6\">[CLS]</span> <span style=\"background-color: #FFD6D6\">matt</span> <span style=\"background-color: #FFDCDC\">baker</span> <span style=\"background-color: #FFDADA\">##s</span> <span style=\"background-color: #FFD9D9\">dad</span> <span style=\"background-color: #FFD6D6\">sucked</span> <span style=\"background-color: #FFDBDB\">my</span> <span style=\"background-color: #FFE0E0\">big</span> <span style=\"background-color: #FFDDDD\">fat</span> <span style=\"background-color: #FFDEDE\">cock</span> <span style=\"background-color: #FFE1E1\">last</span> <span style=\"background-color: #FFE2E2\">night</span> <span style=\"background-color: #FF-951-951\">[SEP]</span>"
      ],
      "text/plain": [
       "<IPython.core.display.HTML object>"
      ]
     },
     "metadata": {},
     "output_type": "display_data"
    },
    {
     "data": {
      "text/plain": [
       "'matt bakers dad sucked my big fat cock last night'"
      ]
     },
     "metadata": {},
     "output_type": "display_data"
    },
    {
     "name": "stdout",
     "output_type": "stream",
     "text": [
      "Offensive Score is 1.1488575637340546\n"
     ]
    },
    {
     "data": {
      "text/html": [
       "<span style=\"background-color: #FFDDDD\">[CLS]</span> <span style=\"background-color: #FFD8D8\">people</span> <span style=\"background-color: #FFDFDF\">on</span> <span style=\"background-color: #FFE2E2\">this</span> <span style=\"background-color: #FFE4E4\">site</span> <span style=\"background-color: #FFD0D0\">suck</span> <span style=\"background-color: #FFD9D9\">people</span> <span style=\"background-color: #FFDDDD\">on</span> <span style=\"background-color: #FFDFDF\">this</span> <span style=\"background-color: #FFE4E4\">site</span> <span style=\"background-color: #FFCFCF\">suck</span> <span style=\"background-color: #FF-976-976\">[SEP]</span>"
      ],
      "text/plain": [
       "<IPython.core.display.HTML object>"
      ]
     },
     "metadata": {},
     "output_type": "display_data"
    },
    {
     "data": {
      "text/plain": [
       "'people on this site suck people on this site suck'"
      ]
     },
     "metadata": {},
     "output_type": "display_data"
    },
    {
     "name": "stdout",
     "output_type": "stream",
     "text": [
      "Offensive Score is 1.1485898792743683\n"
     ]
    },
    {
     "data": {
      "text/html": [
       "<span style=\"background-color: #FFE8E8\">[CLS]</span> <span style=\"background-color: #FFE6E6\">wesley</span> <span style=\"background-color: #FFE9E9\">bart</span> <span style=\"background-color: #FFEDED\">likes</span> <span style=\"background-color: #FFEEEE\">to</span> <span style=\"background-color: #FFEFEF\">suck</span> <span style=\"background-color: #FFEFEF\">cock</span> <span style=\"background-color: #FFEDED\">loves</span> <span style=\"background-color: #FFEBEB\">that</span> <span style=\"background-color: #FFEFEF\">cock</span> <span style=\"background-color: #FFE8E8\">he</span> <span style=\"background-color: #FFECEC\">can</span> <span style=\"background-color: #FFECEC\">i</span> <span style=\"background-color: #FFEDED\">live</span> <span style=\"background-color: #FFEDED\">without</span> <span style=\"background-color: #FFEDED\">the</span> <span style=\"background-color: #FFEEEE\">cock</span> <span style=\"background-color: #FF-9BA-9BA\">[SEP]</span>"
      ],
      "text/plain": [
       "<IPython.core.display.HTML object>"
      ]
     },
     "metadata": {},
     "output_type": "display_data"
    },
    {
     "data": {
      "text/plain": [
       "'wesley bart likes to suck cock loves that cock he can i live without the cock'"
      ]
     },
     "metadata": {},
     "output_type": "display_data"
    },
    {
     "name": "stdout",
     "output_type": "stream",
     "text": [
      "Offensive Score is 1.148016333580017\n"
     ]
    },
    {
     "data": {
      "text/html": [
       "<span style=\"background-color: #FFD4D4\">[CLS]</span> <span style=\"background-color: #FFD5D5\">everybody</span> <span style=\"background-color: #FFDBDB\">lock</span> <span style=\"background-color: #FFD0D0\">ur</span> <span style=\"background-color: #FFDBDB\">dick</span> <span style=\"background-color: #FFE3E3\">##s</span> <span style=\"background-color: #FFDFDF\">cu</span> <span style=\"background-color: #FFEBEB\">##z</span> <span style=\"background-color: #FFCECE\">they</span> <span style=\"background-color: #FFCECE\">##re</span> <span style=\"background-color: #FFD3D3\">gay</span> <span style=\"background-color: #FF-950-950\">[SEP]</span>"
      ],
      "text/plain": [
       "<IPython.core.display.HTML object>"
      ]
     },
     "metadata": {},
     "output_type": "display_data"
    },
    {
     "data": {
      "text/plain": [
       "'everybody lock ur dicks cuz theyre gay'"
      ]
     },
     "metadata": {},
     "output_type": "display_data"
    },
    {
     "name": "stdout",
     "output_type": "stream",
     "text": [
      "Offensive Score is 1.1476316899061203\n"
     ]
    },
    {
     "data": {
      "text/html": [
       "<span style=\"background-color: #FFF1F1\">[CLS]</span> <span style=\"background-color: #FFF2F2\">i</span> <span style=\"background-color: #FFEDED\">fucked</span> <span style=\"background-color: #FFEFEF\">your</span> <span style=\"background-color: #FFF4F4\">mom</span> <span style=\"background-color: #FFF4F4\">last</span> <span style=\"background-color: #FFF6F6\">night</span> <span style=\"background-color: #FFF1F1\">it</span> <span style=\"background-color: #FFF3F3\">felt</span> <span style=\"background-color: #FFF5F5\">aw</span> <span style=\"background-color: #FFF7F7\">##some</span> <span style=\"background-color: #FFF2F2\">i</span> <span style=\"background-color: #FFF7F7\">stuck</span> <span style=\"background-color: #FFF7F7\">my</span> <span style=\"background-color: #FFF5F5\">dick</span> <span style=\"background-color: #FFF7F7\">in</span> <span style=\"background-color: #FFF3F3\">her</span> <span style=\"background-color: #FFF8F8\">mouth</span> <span style=\"background-color: #FFF6F6\">and</span> <span style=\"background-color: #FFF7F7\">in</span> <span style=\"background-color: #FFF7F7\">her</span> <span style=\"background-color: #FFF5F5\">pussy</span> <span style=\"background-color: #FFF4F4\">she</span> <span style=\"background-color: #FFF7F7\">let</span> <span style=\"background-color: #FFF6F6\">me</span> <span style=\"background-color: #FFF7F7\">lick</span> <span style=\"background-color: #FFF7F7\">her</span> <span style=\"background-color: #FFF6F6\">tits</span> <span style=\"background-color: #FFF4F4\">and</span> <span style=\"background-color: #FFF1F1\">fuck</span> <span style=\"background-color: #FFF7F7\">her</span> <span style=\"background-color: #FFF7F7\">all</span> <span style=\"background-color: #FFF7F7\">night</span> <span style=\"background-color: #FFF7F7\">long</span> <span style=\"background-color: #FFF5F5\">ye</span> <span style=\"background-color: #FFF8F8\">##e</span> <span style=\"background-color: #FFF5F5\">ha</span> <span style=\"background-color: #FFF5F5\">##a</span> <span style=\"background-color: #FFF5F5\">is</span> <span style=\"background-color: #FFF5F5\">what</span> <span style=\"background-color: #FFF5F5\">i</span> <span style=\"background-color: #FFF5F5\">was</span> <span style=\"background-color: #FFF5F5\">screaming</span> <span style=\"background-color: #FF-956-956\">[SEP]</span>"
      ],
      "text/plain": [
       "<IPython.core.display.HTML object>"
      ]
     },
     "metadata": {},
     "output_type": "display_data"
    },
    {
     "data": {
      "text/plain": [
       "'i fucked your mom last night it felt awsome i stuck my dick in her mouth and in her pussy she let me lick her tits and fuck her all night long yee haa is what i was screaming'"
      ]
     },
     "metadata": {},
     "output_type": "display_data"
    }
   ],
   "source": [
    "high_score_list = text_df.sort_values(\"target\", ascending=False).head(20).index.tolist()\n",
    "\n",
    "for num in high_score_list:\n",
    "    \n",
    "    ids = config.tokenizer(text_df.loc[num, \"text\"])[\"input_ids\"]\n",
    "    tokens = config.tokenizer.convert_ids_to_tokens(ids)\n",
    "    attention = attention_array[num, :][np.nonzero(mask_array[num, :])]\n",
    "\n",
    "    html_outputs = []\n",
    "\n",
    "    for word, attn in zip(tokens, attention):\n",
    "        html_outputs.append(highlight_r(word, attn))\n",
    "\n",
    "    print(f\"Offensive Score is {PRED[num, 0]}\")\n",
    "    display(HTML(' '.join(html_outputs)))\n",
    "    display(text_df.loc[num, \"text\"])\n",
    "\n"
   ]
  },
  {
   "cell_type": "code",
   "execution_count": null,
   "id": "de217db0",
   "metadata": {},
   "outputs": [],
   "source": []
  }
 ],
 "metadata": {
  "kernelspec": {
   "display_name": "Python 3 (ipykernel)",
   "language": "python",
   "name": "python3"
  },
  "language_info": {
   "codemirror_mode": {
    "name": "ipython",
    "version": 3
   },
   "file_extension": ".py",
   "mimetype": "text/x-python",
   "name": "python",
   "nbconvert_exporter": "python",
   "pygments_lexer": "ipython3",
   "version": "3.7.10"
  }
 },
 "nbformat": 4,
 "nbformat_minor": 5
}
