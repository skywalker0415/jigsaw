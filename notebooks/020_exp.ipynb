{
 "cells": [
  {
   "cell_type": "markdown",
   "id": "1a2fedfb",
   "metadata": {},
   "source": [
    "![](https://images.unsplash.com/photo-1602084551218-a28205125639?ixlib=rb-1.2.1&ixid=MnwxMjA3fDB8MHxwaG90by1wYWdlfHx8fGVufDB8fHx8&auto=format&fit=crop&w=2070&q=80)"
   ]
  },
  {
   "cell_type": "markdown",
   "id": "084ba537",
   "metadata": {},
   "source": [
    "<div class = 'alert alert-block alert-info'\n",
    "     style = 'background-color:#4c1c84;\n",
    "              color:#eeebf1;\n",
    "              border-width:5px;\n",
    "              border-color:#4c1c84;\n",
    "              font-family:Comic Sans MS;\n",
    "              border-radius: 50px 50px'>\n",
    "    <p style = 'font-size:24px'>Exp 020</p>\n",
    "    <a href = \"#Config\"\n",
    "       style = \"color:#eeebf1;\n",
    "                font-size:14px\">1.Config</a><br>\n",
    "    <a href = \"#Settings\"\n",
    "       style = \"color:#eeebf1;\n",
    "                font-size:14px\">2.Settings</a><br>\n",
    "    <a href = \"#Data-Load\"\n",
    "       style = \"color:#eeebf1;\n",
    "                font-size:14px\">3.Data Load</a><br>\n",
    "    <a href = \"#Pytorch-Settings\"\n",
    "       style = \"color:#eeebf1;\n",
    "                font-size:14px\">4.Pytorch Settings</a><br>\n",
    "    <a href = \"#Training\"\n",
    "       style = \"color:#eeebf1;\n",
    "                font-size:14px\">5.Training</a><br>\n",
    "</div>\n",
    "\n",
    "<p style = 'font-size:24px;\n",
    "            color:#4c1c84'>\n",
    "    実施したこと\n",
    "</p>\n",
    "    <li style = \"color:#4c1c84;\n",
    "                font-size:14px\">過去コンペの予測ラベル</li>\n",
    "    <li style = \"color:#4c1c84;\n",
    "                font-size:14px\">TFIDF</li>\n",
    "    <li style = \"color:#4c1c84;\n",
    "                font-size:14px\">SVR</li>"
   ]
  },
  {
   "cell_type": "markdown",
   "id": "6d3d25eb",
   "metadata": {},
   "source": [
    "<br>\n",
    "<h1 style = \"font-size:45px; font-family:Comic Sans MS ; font-weight : normal; background-color: #4c1c84 ; color : #eeebf1; text-align: center; border-radius: 100px 100px;\">\n",
    "    Config\n",
    "</h1>\n",
    "<br>"
   ]
  },
  {
   "cell_type": "code",
   "execution_count": 1,
   "id": "68b69b7b",
   "metadata": {},
   "outputs": [],
   "source": [
    "import sys\n",
    "sys.path.append(\"../src/utils/iterative-stratification/\")"
   ]
  },
  {
   "cell_type": "code",
   "execution_count": 10,
   "id": "294e3342",
   "metadata": {},
   "outputs": [],
   "source": [
    "import warnings\n",
    "warnings.simplefilter('ignore')\n",
    "\n",
    "import os\n",
    "import gc\n",
    "gc.enable()\n",
    "import sys\n",
    "import glob\n",
    "import copy\n",
    "import math\n",
    "import time\n",
    "import random\n",
    "import string\n",
    "import psutil\n",
    "import pathlib\n",
    "from pathlib import Path\n",
    "from contextlib import contextmanager\n",
    "from collections import defaultdict\n",
    "from box import Box\n",
    "from typing import Optional\n",
    "from pprint import pprint\n",
    "\n",
    "import numpy as np\n",
    "import pandas as pd\n",
    "import matplotlib.pyplot as plt\n",
    "import seaborn as sns\n",
    "import japanize_matplotlib\n",
    "\n",
    "from tqdm.auto import tqdm as tqdmp\n",
    "from tqdm.autonotebook import tqdm as tqdm\n",
    "tqdmp.pandas()\n",
    "\n",
    "## Model\n",
    "from sklearn.metrics import mean_squared_error\n",
    "from sklearn.model_selection import StratifiedKFold, KFold\n",
    "import torch\n",
    "import torch.nn as nn\n",
    "import torch.nn.functional as F\n",
    "from torch.utils.data import Dataset, DataLoader\n",
    "from transformers import AutoTokenizer, AutoModel, AdamW\n",
    "from transformers import RobertaModel, RobertaForSequenceClassification\n",
    "from transformers import RobertaTokenizer\n",
    "from transformers import LukeTokenizer, LukeModel, LukeConfig\n",
    "from transformers import get_linear_schedule_with_warmup, get_cosine_schedule_with_warmup\n",
    "\n",
    "# Pytorch Lightning\n",
    "import pytorch_lightning as pl\n",
    "from pytorch_lightning.utilities.seed import seed_everything\n",
    "from pytorch_lightning import callbacks\n",
    "from pytorch_lightning.callbacks.progress import ProgressBarBase\n",
    "from pytorch_lightning import LightningDataModule, LightningDataModule\n",
    "from pytorch_lightning import Trainer\n",
    "from pytorch_lightning.callbacks import ModelCheckpoint, EarlyStopping, LearningRateMonitor\n",
    "from pytorch_lightning.loggers import WandbLogger\n",
    "from pytorch_lightning.loggers.csv_logs import CSVLogger\n",
    "from pytorch_lightning.callbacks import RichProgressBar\n",
    "\n",
    "from sklearn.linear_model import Ridge\n",
    "from sklearn.svm import SVC, SVR\n",
    "from sklearn.feature_extraction.text import TfidfVectorizer\n",
    "from scipy.stats import rankdata\n",
    "from cuml.svm import SVR\n",
    "from cuml.linear_model import Ridge as cuml_Ridge\n",
    "import cudf"
   ]
  },
  {
   "cell_type": "code",
   "execution_count": 11,
   "id": "074b723a",
   "metadata": {},
   "outputs": [
    {
     "name": "stdout",
     "output_type": "stream",
     "text": [
      "{'backbone': <Box: {'name': 'studio-ousia/luke-base', 'output_dim': 1}>,\n",
      " 'entity': 'dataskywalker',\n",
      " 'environment': 'AWS',\n",
      " 'epoch': 5,\n",
      " 'exp_name': '020_exp',\n",
      " 'loss': 'nn.MarginRankingLoss',\n",
      " 'margin': 0.5,\n",
      " 'max_length': 128,\n",
      " 'n_fold': 5,\n",
      " 'optimizer': <Box: {'name': 'torch.optim.AdamW', 'params': {'lr': 1e-06}}>,\n",
      " 'project': 'Jigsaw',\n",
      " 'root': '/content/drive/MyDrive/kaggle/Jigsaw/raw',\n",
      " 'scheduler': {'name': 'torch.optim.lr_scheduler.CosineAnnealingWarmRestarts',\n",
      "               'params': <Box: {'T_0': 20, 'eta_min': 0}>},\n",
      " 'seed': 42,\n",
      " 'test_loader': {'batch_size': 32,\n",
      "                 'drop_last': False,\n",
      "                 'num_workers': 1,\n",
      "                 'pin_memory': True,\n",
      "                 'shuffle': False},\n",
      " 'train_fold': <BoxList: [0, 1, 2, 3, 4]>,\n",
      " 'train_loader': {'batch_size': 32,\n",
      "                  'drop_last': True,\n",
      "                  'num_workers': 1,\n",
      "                  'pin_memory': True,\n",
      "                  'shuffle': True},\n",
      " 'trainer': {'accumulate_grad_batches': 8,\n",
      "             'fast_dev_run': False,\n",
      "             'gpus': 1,\n",
      "             'num_sanity_val_steps': 0,\n",
      "             'progress_bar_refresh_rate': 1},\n",
      " 'valid_loader': {'batch_size': 64,\n",
      "                  'drop_last': False,\n",
      "                  'num_workers': 1,\n",
      "                  'pin_memory': True,\n",
      "                  'shuffle': False}}\n"
     ]
    }
   ],
   "source": [
    "import torch\n",
    "\n",
    "config = {\n",
    "    \"seed\": 42,\n",
    "    \"root\": \"/content/drive/MyDrive/kaggle/Jigsaw/raw\",\n",
    "    \"n_fold\": 5,\n",
    "    \"epoch\": 5,\n",
    "    \"max_length\": 128,\n",
    "    \"environment\": \"AWS\",\n",
    "    \"project\": \"Jigsaw\",\n",
    "    \"entity\": \"dataskywalker\",\n",
    "    \"exp_name\": \"020_exp\",\n",
    "    \"margin\": 0.5,\n",
    "    \"train_fold\": [0, 1, 2, 3, 4],\n",
    "\n",
    "    \"trainer\": {\n",
    "        \"gpus\": 1,\n",
    "        \"accumulate_grad_batches\": 8,\n",
    "        \"progress_bar_refresh_rate\": 1,\n",
    "        \"fast_dev_run\": False,\n",
    "        \"num_sanity_val_steps\": 0,\n",
    "    },\n",
    "\n",
    "    \"train_loader\": {\n",
    "        \"batch_size\": 32,\n",
    "        \"shuffle\": True,\n",
    "        \"num_workers\": 1,\n",
    "        \"pin_memory\": True,\n",
    "        \"drop_last\": True,\n",
    "    },\n",
    "\n",
    "    \"valid_loader\": {\n",
    "        \"batch_size\": 64,\n",
    "        \"shuffle\": False,\n",
    "        \"num_workers\": 1,\n",
    "        \"pin_memory\": True,\n",
    "        \"drop_last\": False,\n",
    "    },\n",
    "\n",
    "    \"test_loader\": {\n",
    "        \"batch_size\": 32,\n",
    "        \"shuffle\": False,\n",
    "        \"num_workers\": 1,\n",
    "        \"pin_memory\": True,\n",
    "        \"drop_last\": False,\n",
    "    },\n",
    "\n",
    "    \"backbone\": {\n",
    "        \"name\": \"studio-ousia/luke-base\",\n",
    "        \"output_dim\": 1,\n",
    "    },\n",
    "\n",
    "    \"optimizer\": {\n",
    "        \"name\": \"torch.optim.AdamW\",\n",
    "        \"params\": {\n",
    "            \"lr\": 1e-6,\n",
    "        },\n",
    "    },\n",
    "\n",
    "    \"scheduler\": {\n",
    "        \"name\": \"torch.optim.lr_scheduler.CosineAnnealingWarmRestarts\",\n",
    "        \"params\": {\n",
    "            \"T_0\": 20,\n",
    "            \"eta_min\": 0,\n",
    "        },\n",
    "    },\n",
    "\n",
    "    \"loss\": \"nn.MarginRankingLoss\",\n",
    "}\n",
    "\n",
    "config = Box(config)\n",
    "pprint(config)"
   ]
  },
  {
   "cell_type": "code",
   "execution_count": 12,
   "id": "a156c932",
   "metadata": {},
   "outputs": [
    {
     "name": "stdout",
     "output_type": "stream",
     "text": [
      "Your environment is 'AWS'.\n",
      "INPUT_DIR is /mnt/work/data/kaggle/Jigsaw\n",
      "MODEL_DIR is ../models/020_exp\n",
      "OUTPUT_DIR is ../data/interim/020_exp\n",
      "UTIL_DIR is /mnt/work/shimizu/kaggle/PetFinder/src/utils\n"
     ]
    }
   ],
   "source": [
    "# 個人的にAWSやKaggle環境やGoogle Colabを行ったり来たりしているのでまとめています\n",
    "import os\n",
    "import sys\n",
    "from pathlib import Path\n",
    "\n",
    "if config.environment == 'AWS':\n",
    "    \n",
    "    INPUT_DIR = Path('/mnt/work/data/kaggle/Jigsaw/')\n",
    "    MODEL_DIR = Path(f'../models/{config.exp_name}/')\n",
    "    OUTPUT_DIR = Path(f'../data/interim/{config.exp_name}/')\n",
    "    UTIL_DIR = Path('/mnt/work/shimizu/kaggle/PetFinder/src/utils')\n",
    "    \n",
    "    os.makedirs(MODEL_DIR, exist_ok=True)\n",
    "    os.makedirs(OUTPUT_DIR, exist_ok=True)\n",
    "    \n",
    "    print(f\"Your environment is 'AWS'.\\nINPUT_DIR is {INPUT_DIR}\\nMODEL_DIR is {MODEL_DIR}\\nOUTPUT_DIR is {OUTPUT_DIR}\\nUTIL_DIR is {UTIL_DIR}\")\n",
    "    \n",
    "    \n",
    "elif config.environment == 'Kaggle':\n",
    "    INPUT_DIR = Path('../input/*****')\n",
    "    MODEL_DIR = Path('./')\n",
    "    OUTPUT_DIR = Path('./')\n",
    "    print(f\"Your environment is 'Kaggle'.\\nINPUT_DIR is {INPUT_DIR}\\nMODEL_DIR is {MODEL_DIR}\\nOUTPUT_DIR is {OUTPUT_DIR}\")\n",
    "\n",
    "    \n",
    "elif config.environment == 'Colab':\n",
    "    INPUT_DIR = Path('/content/drive/MyDrive/kaggle/Jigsaw/raw')\n",
    "    BASE_DIR = Path(\"/content/drive/MyDrive/kaggle/Jigsaw/interim\")\n",
    "\n",
    "    MODEL_DIR = BASE_DIR / f'{config.exp_name}'\n",
    "    OUTPUT_DIR = BASE_DIR / f'{config.exp_name}/'\n",
    "\n",
    "    os.makedirs(MODEL_DIR, exist_ok=True)\n",
    "    os.makedirs(OUTPUT_DIR, exist_ok=True)\n",
    "    \n",
    "    if not os.path.exists(INPUT_DIR):\n",
    "        print('Please Mount your Google Drive.')\n",
    "    else:\n",
    "        print(f\"Your environment is 'Colab'.\\nINPUT_DIR is {INPUT_DIR}\\nMODEL_DIR is {MODEL_DIR}\\nOUTPUT_DIR is {OUTPUT_DIR}\")\n",
    "        \n",
    "else:\n",
    "    print(\"Please choose 'AWS' or 'Kaggle' or 'Colab'.\\nINPUT_DIR is not found.\")"
   ]
  },
  {
   "cell_type": "code",
   "execution_count": 13,
   "id": "6c6a0262",
   "metadata": {},
   "outputs": [
    {
     "data": {
      "text/plain": [
       "42"
      ]
     },
     "execution_count": 13,
     "metadata": {},
     "output_type": "execute_result"
    }
   ],
   "source": [
    "# Seed固定\n",
    "seed_everything(config.seed)"
   ]
  },
  {
   "cell_type": "code",
   "execution_count": 14,
   "id": "a41a5a51",
   "metadata": {},
   "outputs": [],
   "source": [
    "## 処理時間計測\n",
    "@contextmanager\n",
    "def timer(name:str, slack:bool=False):\n",
    "    t0 = time.time()\n",
    "    p = psutil.Process(os.getpid())\n",
    "    m0 = p.memory_info()[0] / 2. ** 30\n",
    "    print(f'<< {name} >> Start')\n",
    "    yield\n",
    "    \n",
    "    m1 = p.memory_info()[0] / 2. ** 30\n",
    "    delta = m1 - m0\n",
    "    sign = '+' if delta >= 0 else '-'\n",
    "    delta = math.fabs(delta)\n",
    "    \n",
    "    print(f\"<< {name} >> {m1:.1f}GB({sign}{delta:.1f}GB):{time.time() - t0:.1f}sec\", file=sys.stderr)"
   ]
  },
  {
   "cell_type": "markdown",
   "id": "1fdf10ea",
   "metadata": {
    "id": "zWE2XhHeTFos"
   },
   "source": [
    "<br>\n",
    "<h1 style = \"font-size:45px; font-family:Comic Sans MS ; font-weight : normal; background-color: #4c1c84 ; color : #eeebf1; text-align: center; border-radius: 100px 100px;\">\n",
    "    Data Load\n",
    "</h1>\n",
    "<br>"
   ]
  },
  {
   "cell_type": "code",
   "execution_count": 15,
   "id": "9367acf3",
   "metadata": {
    "colab": {
     "base_uri": "https://localhost:8080/"
    },
    "id": "3DFxNX0CTD9t",
    "outputId": "240b449b-9f09-4519-d155-b4f865053621"
   },
   "outputs": [
    {
     "name": "stdout",
     "output_type": "stream",
     "text": [
      "/mnt/work/data/kaggle/Jigsaw/comments_to_score.csv\n",
      "/mnt/work/data/kaggle/Jigsaw/sample_submission.csv\n",
      "/mnt/work/data/kaggle/Jigsaw/validation_data.csv\n"
     ]
    }
   ],
   "source": [
    "## Data Check\n",
    "for dirnames, _, filenames in os.walk(INPUT_DIR):\n",
    "    \n",
    "    for filename in filenames:\n",
    "\n",
    "        print(f'{dirnames}/{filename}')"
   ]
  },
  {
   "cell_type": "code",
   "execution_count": 16,
   "id": "a60183af",
   "metadata": {},
   "outputs": [
    {
     "data": {
      "text/html": [
       "<div>\n",
       "<style scoped>\n",
       "    .dataframe tbody tr th:only-of-type {\n",
       "        vertical-align: middle;\n",
       "    }\n",
       "\n",
       "    .dataframe tbody tr th {\n",
       "        vertical-align: top;\n",
       "    }\n",
       "\n",
       "    .dataframe thead th {\n",
       "        text-align: right;\n",
       "    }\n",
       "</style>\n",
       "<table border=\"1\" class=\"dataframe\">\n",
       "  <thead>\n",
       "    <tr style=\"text-align: right;\">\n",
       "      <th></th>\n",
       "      <th>worker</th>\n",
       "      <th>less_toxic</th>\n",
       "      <th>more_toxic</th>\n",
       "    </tr>\n",
       "  </thead>\n",
       "  <tbody>\n",
       "    <tr>\n",
       "      <th>0</th>\n",
       "      <td>313</td>\n",
       "      <td>This article sucks \\n\\nwoo woo wooooooo</td>\n",
       "      <td>WHAT!!!!!!!!?!?!!?!?!!?!?!?!?!!!!!!!!!!!!!!!!!...</td>\n",
       "    </tr>\n",
       "    <tr>\n",
       "      <th>1</th>\n",
       "      <td>188</td>\n",
       "      <td>\"And yes, people should recognize that but the...</td>\n",
       "      <td>Daphne Guinness \\n\\nTop of the mornin' my fav...</td>\n",
       "    </tr>\n",
       "    <tr>\n",
       "      <th>2</th>\n",
       "      <td>82</td>\n",
       "      <td>Western Media?\\n\\nYup, because every crime in...</td>\n",
       "      <td>\"Atom you don't believe actual photos of mastu...</td>\n",
       "    </tr>\n",
       "    <tr>\n",
       "      <th>3</th>\n",
       "      <td>347</td>\n",
       "      <td>And you removed it! You numbskull! I don't car...</td>\n",
       "      <td>You seem to have sand in your vagina.\\n\\nMight...</td>\n",
       "    </tr>\n",
       "    <tr>\n",
       "      <th>4</th>\n",
       "      <td>539</td>\n",
       "      <td>smelly vagina \\n\\nBluerasberry why don't you ...</td>\n",
       "      <td>hey \\n\\nway to support nazis, you racist</td>\n",
       "    </tr>\n",
       "  </tbody>\n",
       "</table>\n",
       "</div>"
      ],
      "text/plain": [
       "   worker                                         less_toxic  \\\n",
       "0     313            This article sucks \\n\\nwoo woo wooooooo   \n",
       "1     188  \"And yes, people should recognize that but the...   \n",
       "2      82   Western Media?\\n\\nYup, because every crime in...   \n",
       "3     347  And you removed it! You numbskull! I don't car...   \n",
       "4     539   smelly vagina \\n\\nBluerasberry why don't you ...   \n",
       "\n",
       "                                          more_toxic  \n",
       "0  WHAT!!!!!!!!?!?!!?!?!!?!?!?!?!!!!!!!!!!!!!!!!!...  \n",
       "1   Daphne Guinness \\n\\nTop of the mornin' my fav...  \n",
       "2  \"Atom you don't believe actual photos of mastu...  \n",
       "3  You seem to have sand in your vagina.\\n\\nMight...  \n",
       "4           hey \\n\\nway to support nazis, you racist  "
      ]
     },
     "metadata": {},
     "output_type": "display_data"
    },
    {
     "data": {
      "text/html": [
       "<div>\n",
       "<style scoped>\n",
       "    .dataframe tbody tr th:only-of-type {\n",
       "        vertical-align: middle;\n",
       "    }\n",
       "\n",
       "    .dataframe tbody tr th {\n",
       "        vertical-align: top;\n",
       "    }\n",
       "\n",
       "    .dataframe thead th {\n",
       "        text-align: right;\n",
       "    }\n",
       "</style>\n",
       "<table border=\"1\" class=\"dataframe\">\n",
       "  <thead>\n",
       "    <tr style=\"text-align: right;\">\n",
       "      <th></th>\n",
       "      <th>comment_id</th>\n",
       "      <th>text</th>\n",
       "    </tr>\n",
       "  </thead>\n",
       "  <tbody>\n",
       "    <tr>\n",
       "      <th>0</th>\n",
       "      <td>114890</td>\n",
       "      <td>\"\\n \\n\\nGjalexei, you asked about whether ther...</td>\n",
       "    </tr>\n",
       "    <tr>\n",
       "      <th>1</th>\n",
       "      <td>732895</td>\n",
       "      <td>Looks like be have an abuser , can you please ...</td>\n",
       "    </tr>\n",
       "    <tr>\n",
       "      <th>2</th>\n",
       "      <td>1139051</td>\n",
       "      <td>I confess to having complete (and apparently b...</td>\n",
       "    </tr>\n",
       "    <tr>\n",
       "      <th>3</th>\n",
       "      <td>1434512</td>\n",
       "      <td>\"\\n\\nFreud's ideas are certainly much discusse...</td>\n",
       "    </tr>\n",
       "    <tr>\n",
       "      <th>4</th>\n",
       "      <td>2084821</td>\n",
       "      <td>It is not just you. This is a laundry list of ...</td>\n",
       "    </tr>\n",
       "  </tbody>\n",
       "</table>\n",
       "</div>"
      ],
      "text/plain": [
       "   comment_id                                               text\n",
       "0      114890  \"\\n \\n\\nGjalexei, you asked about whether ther...\n",
       "1      732895  Looks like be have an abuser , can you please ...\n",
       "2     1139051  I confess to having complete (and apparently b...\n",
       "3     1434512  \"\\n\\nFreud's ideas are certainly much discusse...\n",
       "4     2084821  It is not just you. This is a laundry list of ..."
      ]
     },
     "metadata": {},
     "output_type": "display_data"
    }
   ],
   "source": [
    "val_df = pd.read_csv(\"/mnt/work/data/kaggle/Jigsaw/validation_data.csv\")\n",
    "test_df = pd.read_csv(\"/mnt/work/data/kaggle/Jigsaw/comments_to_score.csv\")\n",
    "\n",
    "display(val_df.head())\n",
    "display(test_df.head())"
   ]
  },
  {
   "cell_type": "markdown",
   "id": "25da6cfb",
   "metadata": {},
   "source": [
    "<br>\n",
    "<h1 style = \"font-size:45px; font-family:Comic Sans MS ; font-weight : normal; background-color: #4c1c84 ; color : #eeebf1; text-align: center; border-radius: 100px 100px;\">\n",
    "    Jigsaw 1st\n",
    "</h1>\n",
    "<br>"
   ]
  },
  {
   "cell_type": "code",
   "execution_count": 17,
   "id": "9314c416",
   "metadata": {},
   "outputs": [
    {
     "name": "stdout",
     "output_type": "stream",
     "text": [
      "(159571, 8)\n"
     ]
    },
    {
     "data": {
      "text/html": [
       "<div>\n",
       "<style scoped>\n",
       "    .dataframe tbody tr th:only-of-type {\n",
       "        vertical-align: middle;\n",
       "    }\n",
       "\n",
       "    .dataframe tbody tr th {\n",
       "        vertical-align: top;\n",
       "    }\n",
       "\n",
       "    .dataframe thead th {\n",
       "        text-align: right;\n",
       "    }\n",
       "</style>\n",
       "<table border=\"1\" class=\"dataframe\">\n",
       "  <thead>\n",
       "    <tr style=\"text-align: right;\">\n",
       "      <th></th>\n",
       "      <th>id</th>\n",
       "      <th>comment_text</th>\n",
       "      <th>toxic</th>\n",
       "      <th>severe_toxic</th>\n",
       "      <th>obscene</th>\n",
       "      <th>threat</th>\n",
       "      <th>insult</th>\n",
       "      <th>identity_hate</th>\n",
       "    </tr>\n",
       "  </thead>\n",
       "  <tbody>\n",
       "    <tr>\n",
       "      <th>0</th>\n",
       "      <td>0000997932d777bf</td>\n",
       "      <td>Explanation\\nWhy the edits made under my usern...</td>\n",
       "      <td>0</td>\n",
       "      <td>0</td>\n",
       "      <td>0</td>\n",
       "      <td>0</td>\n",
       "      <td>0</td>\n",
       "      <td>0</td>\n",
       "    </tr>\n",
       "    <tr>\n",
       "      <th>1</th>\n",
       "      <td>000103f0d9cfb60f</td>\n",
       "      <td>D'aww! He matches this background colour I'm s...</td>\n",
       "      <td>0</td>\n",
       "      <td>0</td>\n",
       "      <td>0</td>\n",
       "      <td>0</td>\n",
       "      <td>0</td>\n",
       "      <td>0</td>\n",
       "    </tr>\n",
       "    <tr>\n",
       "      <th>2</th>\n",
       "      <td>000113f07ec002fd</td>\n",
       "      <td>Hey man, I'm really not trying to edit war. It...</td>\n",
       "      <td>0</td>\n",
       "      <td>0</td>\n",
       "      <td>0</td>\n",
       "      <td>0</td>\n",
       "      <td>0</td>\n",
       "      <td>0</td>\n",
       "    </tr>\n",
       "    <tr>\n",
       "      <th>3</th>\n",
       "      <td>0001b41b1c6bb37e</td>\n",
       "      <td>\"\\nMore\\nI can't make any real suggestions on ...</td>\n",
       "      <td>0</td>\n",
       "      <td>0</td>\n",
       "      <td>0</td>\n",
       "      <td>0</td>\n",
       "      <td>0</td>\n",
       "      <td>0</td>\n",
       "    </tr>\n",
       "    <tr>\n",
       "      <th>4</th>\n",
       "      <td>0001d958c54c6e35</td>\n",
       "      <td>You, sir, are my hero. Any chance you remember...</td>\n",
       "      <td>0</td>\n",
       "      <td>0</td>\n",
       "      <td>0</td>\n",
       "      <td>0</td>\n",
       "      <td>0</td>\n",
       "      <td>0</td>\n",
       "    </tr>\n",
       "  </tbody>\n",
       "</table>\n",
       "</div>"
      ],
      "text/plain": [
       "                 id                                       comment_text  toxic  \\\n",
       "0  0000997932d777bf  Explanation\\nWhy the edits made under my usern...      0   \n",
       "1  000103f0d9cfb60f  D'aww! He matches this background colour I'm s...      0   \n",
       "2  000113f07ec002fd  Hey man, I'm really not trying to edit war. It...      0   \n",
       "3  0001b41b1c6bb37e  \"\\nMore\\nI can't make any real suggestions on ...      0   \n",
       "4  0001d958c54c6e35  You, sir, are my hero. Any chance you remember...      0   \n",
       "\n",
       "   severe_toxic  obscene  threat  insult  identity_hate  \n",
       "0             0        0       0       0              0  \n",
       "1             0        0       0       0              0  \n",
       "2             0        0       0       0              0  \n",
       "3             0        0       0       0              0  \n",
       "4             0        0       0       0              0  "
      ]
     },
     "metadata": {},
     "output_type": "display_data"
    }
   ],
   "source": [
    "train_df = pd.read_csv(\"../data/external/jigsaw-classification/train.csv.zip\")\n",
    "print(train_df.shape)\n",
    "display(train_df.head())"
   ]
  },
  {
   "cell_type": "code",
   "execution_count": 18,
   "id": "8a005d03",
   "metadata": {},
   "outputs": [],
   "source": [
    "def sample_df(df:pd.DataFrame, frac=0.2):\n",
    "    \n",
    "    '''\n",
    "    train_dfからtoxicとnon_toxicを抽出\n",
    "    non_toxicの割合をfracで調整\n",
    "    '''\n",
    "    \n",
    "    label_cols = [\"toxic\", \"severe_toxic\", \"obscene\", \"threat\", \"insult\", \"identity_hate\"]\n",
    "    df[\"y\"] = df[label_cols].sum(axis=1)\n",
    "    df[\"y\"] = df[\"y\"]/df[\"y\"].max()\n",
    "\n",
    "    toxic_df = df[df[\"y\"]>0].reset_index(drop=True)\n",
    "    nontoxic_df = df[df[\"y\"]==0].reset_index(drop=True)\n",
    "    nontoxic_df = nontoxic_df.sample(frac=frac, random_state=config.seed)\n",
    "    \n",
    "    df = pd.concat([toxic_df, nontoxic_df], axis=0).sample(frac=1).reset_index(drop=True)\n",
    "    \n",
    "    return df"
   ]
  },
  {
   "cell_type": "code",
   "execution_count": 19,
   "id": "0d92b487",
   "metadata": {},
   "outputs": [
    {
     "name": "stdout",
     "output_type": "stream",
     "text": [
      "<< sampling df >> Start\n"
     ]
    },
    {
     "data": {
      "text/html": [
       "<div>\n",
       "<style scoped>\n",
       "    .dataframe tbody tr th:only-of-type {\n",
       "        vertical-align: middle;\n",
       "    }\n",
       "\n",
       "    .dataframe tbody tr th {\n",
       "        vertical-align: top;\n",
       "    }\n",
       "\n",
       "    .dataframe thead th {\n",
       "        text-align: right;\n",
       "    }\n",
       "</style>\n",
       "<table border=\"1\" class=\"dataframe\">\n",
       "  <thead>\n",
       "    <tr style=\"text-align: right;\">\n",
       "      <th></th>\n",
       "      <th>id</th>\n",
       "      <th>comment_text</th>\n",
       "      <th>toxic</th>\n",
       "      <th>severe_toxic</th>\n",
       "      <th>obscene</th>\n",
       "      <th>threat</th>\n",
       "      <th>insult</th>\n",
       "      <th>identity_hate</th>\n",
       "      <th>y</th>\n",
       "    </tr>\n",
       "  </thead>\n",
       "  <tbody>\n",
       "    <tr>\n",
       "      <th>0</th>\n",
       "      <td>ab52a5eae0a34feb</td>\n",
       "      <td>You should be BOLD.   CookieMonster755</td>\n",
       "      <td>0</td>\n",
       "      <td>0</td>\n",
       "      <td>0</td>\n",
       "      <td>0</td>\n",
       "      <td>0</td>\n",
       "      <td>0</td>\n",
       "      <td>0.000000</td>\n",
       "    </tr>\n",
       "    <tr>\n",
       "      <th>1</th>\n",
       "      <td>a45f2ab74cc1213d</td>\n",
       "      <td>The nameless correspondent \\n\\nn June 2010, a ...</td>\n",
       "      <td>0</td>\n",
       "      <td>0</td>\n",
       "      <td>0</td>\n",
       "      <td>0</td>\n",
       "      <td>0</td>\n",
       "      <td>0</td>\n",
       "      <td>0.000000</td>\n",
       "    </tr>\n",
       "    <tr>\n",
       "      <th>2</th>\n",
       "      <td>60efc53b2350dd56</td>\n",
       "      <td>So when is coming going to warn YOU about your...</td>\n",
       "      <td>1</td>\n",
       "      <td>0</td>\n",
       "      <td>1</td>\n",
       "      <td>0</td>\n",
       "      <td>0</td>\n",
       "      <td>0</td>\n",
       "      <td>0.333333</td>\n",
       "    </tr>\n",
       "    <tr>\n",
       "      <th>3</th>\n",
       "      <td>377ff5f8b6c03f17</td>\n",
       "      <td>Malta is an Arab \\n\\nWhy are people lying? It ...</td>\n",
       "      <td>1</td>\n",
       "      <td>0</td>\n",
       "      <td>1</td>\n",
       "      <td>0</td>\n",
       "      <td>1</td>\n",
       "      <td>0</td>\n",
       "      <td>0.500000</td>\n",
       "    </tr>\n",
       "    <tr>\n",
       "      <th>4</th>\n",
       "      <td>861232fa06fd2382</td>\n",
       "      <td>Thank you for experimenting with  Wikipedia. Y...</td>\n",
       "      <td>0</td>\n",
       "      <td>0</td>\n",
       "      <td>0</td>\n",
       "      <td>0</td>\n",
       "      <td>0</td>\n",
       "      <td>0</td>\n",
       "      <td>0.000000</td>\n",
       "    </tr>\n",
       "  </tbody>\n",
       "</table>\n",
       "</div>"
      ],
      "text/plain": [
       "                 id                                       comment_text  toxic  \\\n",
       "0  ab52a5eae0a34feb             You should be BOLD.   CookieMonster755      0   \n",
       "1  a45f2ab74cc1213d  The nameless correspondent \\n\\nn June 2010, a ...      0   \n",
       "2  60efc53b2350dd56  So when is coming going to warn YOU about your...      1   \n",
       "3  377ff5f8b6c03f17  Malta is an Arab \\n\\nWhy are people lying? It ...      1   \n",
       "4  861232fa06fd2382  Thank you for experimenting with  Wikipedia. Y...      0   \n",
       "\n",
       "   severe_toxic  obscene  threat  insult  identity_hate         y  \n",
       "0             0        0       0       0              0  0.000000  \n",
       "1             0        0       0       0              0  0.000000  \n",
       "2             0        1       0       0              0  0.333333  \n",
       "3             0        1       0       1              0  0.500000  \n",
       "4             0        0       0       0              0  0.000000  "
      ]
     },
     "metadata": {},
     "output_type": "display_data"
    },
    {
     "name": "stderr",
     "output_type": "stream",
     "text": [
      "<< sampling df >> 1.8GB(-0.0GB):0.1sec\n"
     ]
    }
   ],
   "source": [
    "with timer(\"sampling df\"):\n",
    "    \n",
    "    train_df = sample_df(train_df, frac=0.1)\n",
    "    display(train_df.head())"
   ]
  },
  {
   "cell_type": "markdown",
   "id": "1dcbfb3e",
   "metadata": {},
   "source": [
    "<br>\n",
    "<h2 style = \"font-size:45px; font-family:Comic Sans MS ; font-weight : normal; background-color: #4c1c84 ; color : #eeebf1; text-align: center; border-radius: 100px 100px;\">\n",
    "    Text Cleaning\n",
    "</h2>\n",
    "<br>"
   ]
  },
  {
   "cell_type": "code",
   "execution_count": 20,
   "id": "d6634733",
   "metadata": {},
   "outputs": [],
   "source": [
    "def clean(data, col):\n",
    "\n",
    "    data[col] = data[col].str.lower()\n",
    "    # Clean some punctutation\n",
    "    data[col] = data[col].str.replace('\\n', ' \\n ')\n",
    "    data[col] = data[col].str.replace(r'([a-zA-Z]+)([/!?.])([a-zA-Z]+)',r'\\1 \\2 \\3')\n",
    "    # Replace repeating characters more than 3 times to length of 3\n",
    "    data[col] = data[col].str.replace(r'([*!?\\'])\\1\\1{2,}',r'\\1\\1\\1')    \n",
    "    # Add space around repeating characters\n",
    "    data[col] = data[col].str.replace(r'([*!?\\']+)',r' \\1 ')    \n",
    "    # patterns with repeating characters \n",
    "    data[col] = data[col].str.replace(r'([a-zA-Z])\\1{2,}\\b',r'\\1\\1')\n",
    "    data[col] = data[col].str.replace(r'([a-zA-Z])\\1\\1{2,}\\B',r'\\1\\1\\1')\n",
    "    data[col] = data[col].str.replace(r'[ ]{2,}',' ').str.strip()\n",
    "    \n",
    "    # removing characters\n",
    "    data[col] = data[col].str.replace(r\"[^a-zA-Z0-9]\",' ')    \n",
    "    \n",
    "    return data"
   ]
  },
  {
   "cell_type": "code",
   "execution_count": 21,
   "id": "0845eace",
   "metadata": {},
   "outputs": [
    {
     "name": "stdout",
     "output_type": "stream",
     "text": [
      "<< sampling df >> Start\n"
     ]
    },
    {
     "data": {
      "text/html": [
       "<div>\n",
       "<style scoped>\n",
       "    .dataframe tbody tr th:only-of-type {\n",
       "        vertical-align: middle;\n",
       "    }\n",
       "\n",
       "    .dataframe tbody tr th {\n",
       "        vertical-align: top;\n",
       "    }\n",
       "\n",
       "    .dataframe thead th {\n",
       "        text-align: right;\n",
       "    }\n",
       "</style>\n",
       "<table border=\"1\" class=\"dataframe\">\n",
       "  <thead>\n",
       "    <tr style=\"text-align: right;\">\n",
       "      <th></th>\n",
       "      <th>id</th>\n",
       "      <th>comment_text</th>\n",
       "      <th>toxic</th>\n",
       "      <th>severe_toxic</th>\n",
       "      <th>obscene</th>\n",
       "      <th>threat</th>\n",
       "      <th>insult</th>\n",
       "      <th>identity_hate</th>\n",
       "      <th>y</th>\n",
       "    </tr>\n",
       "  </thead>\n",
       "  <tbody>\n",
       "    <tr>\n",
       "      <th>0</th>\n",
       "      <td>ab52a5eae0a34feb</td>\n",
       "      <td>you should be bold  cookiemonster755</td>\n",
       "      <td>0</td>\n",
       "      <td>0</td>\n",
       "      <td>0</td>\n",
       "      <td>0</td>\n",
       "      <td>0</td>\n",
       "      <td>0</td>\n",
       "      <td>0.000000</td>\n",
       "    </tr>\n",
       "    <tr>\n",
       "      <th>1</th>\n",
       "      <td>a45f2ab74cc1213d</td>\n",
       "      <td>the nameless correspondent     n june 2010  a ...</td>\n",
       "      <td>0</td>\n",
       "      <td>0</td>\n",
       "      <td>0</td>\n",
       "      <td>0</td>\n",
       "      <td>0</td>\n",
       "      <td>0</td>\n",
       "      <td>0.000000</td>\n",
       "    </tr>\n",
       "    <tr>\n",
       "      <th>2</th>\n",
       "      <td>60efc53b2350dd56</td>\n",
       "      <td>so when is coming going to warn you about your...</td>\n",
       "      <td>1</td>\n",
       "      <td>0</td>\n",
       "      <td>1</td>\n",
       "      <td>0</td>\n",
       "      <td>0</td>\n",
       "      <td>0</td>\n",
       "      <td>0.333333</td>\n",
       "    </tr>\n",
       "    <tr>\n",
       "      <th>3</th>\n",
       "      <td>377ff5f8b6c03f17</td>\n",
       "      <td>malta is an arab     why are people lying   it...</td>\n",
       "      <td>1</td>\n",
       "      <td>0</td>\n",
       "      <td>1</td>\n",
       "      <td>0</td>\n",
       "      <td>1</td>\n",
       "      <td>0</td>\n",
       "      <td>0.500000</td>\n",
       "    </tr>\n",
       "    <tr>\n",
       "      <th>4</th>\n",
       "      <td>861232fa06fd2382</td>\n",
       "      <td>thank you for experimenting with wikipedia  yo...</td>\n",
       "      <td>0</td>\n",
       "      <td>0</td>\n",
       "      <td>0</td>\n",
       "      <td>0</td>\n",
       "      <td>0</td>\n",
       "      <td>0</td>\n",
       "      <td>0.000000</td>\n",
       "    </tr>\n",
       "  </tbody>\n",
       "</table>\n",
       "</div>"
      ],
      "text/plain": [
       "                 id                                       comment_text  toxic  \\\n",
       "0  ab52a5eae0a34feb               you should be bold  cookiemonster755      0   \n",
       "1  a45f2ab74cc1213d  the nameless correspondent     n june 2010  a ...      0   \n",
       "2  60efc53b2350dd56  so when is coming going to warn you about your...      1   \n",
       "3  377ff5f8b6c03f17  malta is an arab     why are people lying   it...      1   \n",
       "4  861232fa06fd2382  thank you for experimenting with wikipedia  yo...      0   \n",
       "\n",
       "   severe_toxic  obscene  threat  insult  identity_hate         y  \n",
       "0             0        0       0       0              0  0.000000  \n",
       "1             0        0       0       0              0  0.000000  \n",
       "2             0        1       0       0              0  0.333333  \n",
       "3             0        1       0       1              0  0.500000  \n",
       "4             0        0       0       0              0  0.000000  "
      ]
     },
     "metadata": {},
     "output_type": "display_data"
    },
    {
     "data": {
      "text/html": [
       "<div>\n",
       "<style scoped>\n",
       "    .dataframe tbody tr th:only-of-type {\n",
       "        vertical-align: middle;\n",
       "    }\n",
       "\n",
       "    .dataframe tbody tr th {\n",
       "        vertical-align: top;\n",
       "    }\n",
       "\n",
       "    .dataframe thead th {\n",
       "        text-align: right;\n",
       "    }\n",
       "</style>\n",
       "<table border=\"1\" class=\"dataframe\">\n",
       "  <thead>\n",
       "    <tr style=\"text-align: right;\">\n",
       "      <th></th>\n",
       "      <th>worker</th>\n",
       "      <th>less_toxic</th>\n",
       "      <th>more_toxic</th>\n",
       "    </tr>\n",
       "  </thead>\n",
       "  <tbody>\n",
       "    <tr>\n",
       "      <th>0</th>\n",
       "      <td>313</td>\n",
       "      <td>this article sucks     woo woo woo</td>\n",
       "      <td>what                                   wher is...</td>\n",
       "    </tr>\n",
       "    <tr>\n",
       "      <th>1</th>\n",
       "      <td>188</td>\n",
       "      <td>and yes  people should recognize that but the...</td>\n",
       "      <td>daphne guinness     top of the mornin   my fav...</td>\n",
       "    </tr>\n",
       "    <tr>\n",
       "      <th>2</th>\n",
       "      <td>82</td>\n",
       "      <td>western media       yup  because every crime i...</td>\n",
       "      <td>atom you don   t believe actual photos of mas...</td>\n",
       "    </tr>\n",
       "    <tr>\n",
       "      <th>3</th>\n",
       "      <td>347</td>\n",
       "      <td>and you removed it   you numbskull   i don   t...</td>\n",
       "      <td>you seem to have sand in your vagina      migh...</td>\n",
       "    </tr>\n",
       "    <tr>\n",
       "      <th>4</th>\n",
       "      <td>539</td>\n",
       "      <td>smelly vagina     bluerasberry why don   t you...</td>\n",
       "      <td>hey     way to support nazis  you racist</td>\n",
       "    </tr>\n",
       "  </tbody>\n",
       "</table>\n",
       "</div>"
      ],
      "text/plain": [
       "   worker                                         less_toxic  \\\n",
       "0     313                 this article sucks     woo woo woo   \n",
       "1     188   and yes  people should recognize that but the...   \n",
       "2      82  western media       yup  because every crime i...   \n",
       "3     347  and you removed it   you numbskull   i don   t...   \n",
       "4     539  smelly vagina     bluerasberry why don   t you...   \n",
       "\n",
       "                                          more_toxic  \n",
       "0  what                                   wher is...  \n",
       "1  daphne guinness     top of the mornin   my fav...  \n",
       "2   atom you don   t believe actual photos of mas...  \n",
       "3  you seem to have sand in your vagina      migh...  \n",
       "4           hey     way to support nazis  you racist  "
      ]
     },
     "metadata": {},
     "output_type": "display_data"
    },
    {
     "data": {
      "text/html": [
       "<div>\n",
       "<style scoped>\n",
       "    .dataframe tbody tr th:only-of-type {\n",
       "        vertical-align: middle;\n",
       "    }\n",
       "\n",
       "    .dataframe tbody tr th {\n",
       "        vertical-align: top;\n",
       "    }\n",
       "\n",
       "    .dataframe thead th {\n",
       "        text-align: right;\n",
       "    }\n",
       "</style>\n",
       "<table border=\"1\" class=\"dataframe\">\n",
       "  <thead>\n",
       "    <tr style=\"text-align: right;\">\n",
       "      <th></th>\n",
       "      <th>comment_id</th>\n",
       "      <th>text</th>\n",
       "    </tr>\n",
       "  </thead>\n",
       "  <tbody>\n",
       "    <tr>\n",
       "      <th>0</th>\n",
       "      <td>114890</td>\n",
       "      <td>gjalexei  you asked about whether ther...</td>\n",
       "    </tr>\n",
       "    <tr>\n",
       "      <th>1</th>\n",
       "      <td>732895</td>\n",
       "      <td>looks like be have an abuser   can you please ...</td>\n",
       "    </tr>\n",
       "    <tr>\n",
       "      <th>2</th>\n",
       "      <td>1139051</td>\n",
       "      <td>i confess to having complete  and apparently b...</td>\n",
       "    </tr>\n",
       "    <tr>\n",
       "      <th>3</th>\n",
       "      <td>1434512</td>\n",
       "      <td>freud   s ideas are certainly much discu...</td>\n",
       "    </tr>\n",
       "    <tr>\n",
       "      <th>4</th>\n",
       "      <td>2084821</td>\n",
       "      <td>it is not just you  this is a laundry list of ...</td>\n",
       "    </tr>\n",
       "  </tbody>\n",
       "</table>\n",
       "</div>"
      ],
      "text/plain": [
       "   comment_id                                               text\n",
       "0      114890          gjalexei  you asked about whether ther...\n",
       "1      732895  looks like be have an abuser   can you please ...\n",
       "2     1139051  i confess to having complete  and apparently b...\n",
       "3     1434512        freud   s ideas are certainly much discu...\n",
       "4     2084821  it is not just you  this is a laundry list of ..."
      ]
     },
     "metadata": {},
     "output_type": "display_data"
    },
    {
     "name": "stderr",
     "output_type": "stream",
     "text": [
      "<< sampling df >> 1.8GB(-0.0GB):17.2sec\n"
     ]
    }
   ],
   "source": [
    "with timer(\"sampling df\"):\n",
    "    \n",
    "    train_df = clean(train_df, \"comment_text\")\n",
    "    val_df = clean(val_df, \"more_toxic\")\n",
    "    val_df = clean(val_df, \"less_toxic\")\n",
    "    test_df = clean(test_df, \"text\")\n",
    "    display(train_df.head())\n",
    "    display(val_df.head())\n",
    "    display(test_df.head())"
   ]
  },
  {
   "cell_type": "markdown",
   "id": "d91b6331",
   "metadata": {},
   "source": [
    "<br>\n",
    "<h2 style = \"font-size:45px; font-family:Comic Sans MS ; font-weight : normal; background-color: #4c1c84 ; color : #eeebf1; text-align: center; border-radius: 100px 100px;\">\n",
    "    TFIDF + Ridge\n",
    "</h2>\n",
    "<br>"
   ]
  },
  {
   "cell_type": "code",
   "execution_count": 22,
   "id": "7535d8c7",
   "metadata": {},
   "outputs": [
    {
     "name": "stdout",
     "output_type": "stream",
     "text": [
      "(30560, 364773)\n"
     ]
    }
   ],
   "source": [
    "## tfidf\n",
    "vec = TfidfVectorizer(\n",
    "    analyzer=\"char_wb\",\n",
    "    max_df=0.7, \n",
    "    min_df=1, \n",
    "    ngram_range=(2, 6)\n",
    ")\n",
    "X = vec.fit_transform(train_df[\"comment_text\"])\n",
    "print(X.shape)"
   ]
  },
  {
   "cell_type": "code",
   "execution_count": 23,
   "id": "5c7402ac",
   "metadata": {},
   "outputs": [
    {
     "data": {
      "text/plain": [
       "Ridge(alpha=0.5)"
      ]
     },
     "execution_count": 23,
     "metadata": {},
     "output_type": "execute_result"
    }
   ],
   "source": [
    "ridge_model = Ridge(alpha=0.5)\n",
    "ridge_model.fit(X, train_df[\"y\"].values)"
   ]
  },
  {
   "cell_type": "code",
   "execution_count": 24,
   "id": "b74f4ac0",
   "metadata": {},
   "outputs": [],
   "source": [
    "less_vec = vec.transform(val_df[\"less_toxic\"])\n",
    "more_vec = vec.transform(val_df[\"more_toxic\"])\n",
    "\n",
    "less_pred = ridge_model.predict(less_vec)\n",
    "more_pred = ridge_model.predict(more_vec)\n",
    "\n",
    "test_vec = vec.transform(test_df[\"text\"])\n",
    "test_pred = ridge_model.predict(test_vec)"
   ]
  },
  {
   "cell_type": "code",
   "execution_count": 26,
   "id": "1642cd85",
   "metadata": {},
   "outputs": [
    {
     "name": "stdout",
     "output_type": "stream",
     "text": [
      "TFIDF + Ridge Model Score: 0.680949\n"
     ]
    }
   ],
   "source": [
    "OOF_DF = pd.DataFrame()\n",
    "OOF_DF[\"Ridge_less_pred\"] = less_pred\n",
    "OOF_DF[\"Ridge_more_pred\"] = more_pred\n",
    "OOF_DF[\"Ridge_diff\"] = OOF_DF[\"Ridge_more_pred\"] - OOF_DF[\"Ridge_less_pred\"]\n",
    "\n",
    "ridge_score = OOF_DF[OOF_DF[\"Ridge_diff\"]>0][\"Ridge_diff\"].count()/len(OOF_DF)\n",
    "print(f\"TFIDF + Ridge Model Score: {ridge_score:.6f}\")"
   ]
  },
  {
   "cell_type": "code",
   "execution_count": 27,
   "id": "4cf3b2e7",
   "metadata": {},
   "outputs": [],
   "source": [
    "test_df[\"jigsaw1st_tfidf_ridge\"] = test_pred"
   ]
  },
  {
   "cell_type": "markdown",
   "id": "023dab3c",
   "metadata": {},
   "source": [
    "<br>\n",
    "<h1 style = \"font-size:45px; font-family:Comic Sans MS ; font-weight : normal; background-color: #4c1c84 ; color : #eeebf1; text-align: center; border-radius: 100px 100px;\">\n",
    "    Ruddit + TFIDF + Ridge\n",
    "</h21>\n",
    "<br>"
   ]
  },
  {
   "cell_type": "code",
   "execution_count": 28,
   "id": "178cefe2",
   "metadata": {},
   "outputs": [
    {
     "name": "stdout",
     "output_type": "stream",
     "text": [
      "(5838, 5)\n"
     ]
    },
    {
     "data": {
      "text/html": [
       "<div>\n",
       "<style scoped>\n",
       "    .dataframe tbody tr th:only-of-type {\n",
       "        vertical-align: middle;\n",
       "    }\n",
       "\n",
       "    .dataframe tbody tr th {\n",
       "        vertical-align: top;\n",
       "    }\n",
       "\n",
       "    .dataframe thead th {\n",
       "        text-align: right;\n",
       "    }\n",
       "</style>\n",
       "<table border=\"1\" class=\"dataframe\">\n",
       "  <thead>\n",
       "    <tr style=\"text-align: right;\">\n",
       "      <th></th>\n",
       "      <th>post_id</th>\n",
       "      <th>comment_id</th>\n",
       "      <th>txt</th>\n",
       "      <th>url</th>\n",
       "      <th>offensiveness_score</th>\n",
       "    </tr>\n",
       "  </thead>\n",
       "  <tbody>\n",
       "    <tr>\n",
       "      <th>0</th>\n",
       "      <td>42g75o</td>\n",
       "      <td>cza1q49</td>\n",
       "      <td>&gt; The difference in average earnings between m...</td>\n",
       "      <td>https://www.reddit.com/r/changemyview/comments...</td>\n",
       "      <td>-0.083</td>\n",
       "    </tr>\n",
       "    <tr>\n",
       "      <th>1</th>\n",
       "      <td>42g75o</td>\n",
       "      <td>cza1wdh</td>\n",
       "      <td>The myth is that the \"gap\" is entirely based o...</td>\n",
       "      <td>https://www.reddit.com/r/changemyview/comments...</td>\n",
       "      <td>-0.022</td>\n",
       "    </tr>\n",
       "    <tr>\n",
       "      <th>2</th>\n",
       "      <td>42g75o</td>\n",
       "      <td>cza23qx</td>\n",
       "      <td>[deleted]</td>\n",
       "      <td>https://www.reddit.com/r/changemyview/comments...</td>\n",
       "      <td>0.167</td>\n",
       "    </tr>\n",
       "    <tr>\n",
       "      <th>3</th>\n",
       "      <td>42g75o</td>\n",
       "      <td>cza2bw8</td>\n",
       "      <td>The assertion is that women get paid less for ...</td>\n",
       "      <td>https://www.reddit.com/r/changemyview/comments...</td>\n",
       "      <td>-0.146</td>\n",
       "    </tr>\n",
       "    <tr>\n",
       "      <th>4</th>\n",
       "      <td>42g75o</td>\n",
       "      <td>cza2iji</td>\n",
       "      <td>You said in the OP that's not what they're mea...</td>\n",
       "      <td>https://www.reddit.com/r/changemyview/comments...</td>\n",
       "      <td>-0.083</td>\n",
       "    </tr>\n",
       "  </tbody>\n",
       "</table>\n",
       "</div>"
      ],
      "text/plain": [
       "  post_id comment_id                                                txt  \\\n",
       "0  42g75o    cza1q49  > The difference in average earnings between m...   \n",
       "1  42g75o    cza1wdh  The myth is that the \"gap\" is entirely based o...   \n",
       "2  42g75o    cza23qx                                          [deleted]   \n",
       "3  42g75o    cza2bw8  The assertion is that women get paid less for ...   \n",
       "4  42g75o    cza2iji  You said in the OP that's not what they're mea...   \n",
       "\n",
       "                                                 url  offensiveness_score  \n",
       "0  https://www.reddit.com/r/changemyview/comments...               -0.083  \n",
       "1  https://www.reddit.com/r/changemyview/comments...               -0.022  \n",
       "2  https://www.reddit.com/r/changemyview/comments...                0.167  \n",
       "3  https://www.reddit.com/r/changemyview/comments...               -0.146  \n",
       "4  https://www.reddit.com/r/changemyview/comments...               -0.083  "
      ]
     },
     "metadata": {},
     "output_type": "display_data"
    }
   ],
   "source": [
    "ruddit_df = pd.read_csv(\"../data/external/Ruddit/Dataset/ruddit_with_text.csv\")\n",
    "print(ruddit_df.shape)\n",
    "display(ruddit_df.head())"
   ]
  },
  {
   "cell_type": "code",
   "execution_count": 29,
   "id": "5d125411",
   "metadata": {},
   "outputs": [
    {
     "data": {
      "text/html": [
       "<div>\n",
       "<style scoped>\n",
       "    .dataframe tbody tr th:only-of-type {\n",
       "        vertical-align: middle;\n",
       "    }\n",
       "\n",
       "    .dataframe tbody tr th {\n",
       "        vertical-align: top;\n",
       "    }\n",
       "\n",
       "    .dataframe thead th {\n",
       "        text-align: right;\n",
       "    }\n",
       "</style>\n",
       "<table border=\"1\" class=\"dataframe\">\n",
       "  <thead>\n",
       "    <tr style=\"text-align: right;\">\n",
       "      <th></th>\n",
       "      <th>post_id</th>\n",
       "      <th>comment_id</th>\n",
       "      <th>txt</th>\n",
       "      <th>url</th>\n",
       "      <th>offensiveness_score</th>\n",
       "    </tr>\n",
       "  </thead>\n",
       "  <tbody>\n",
       "    <tr>\n",
       "      <th>0</th>\n",
       "      <td>42g75o</td>\n",
       "      <td>cza1q49</td>\n",
       "      <td>the difference in average earnings between m...</td>\n",
       "      <td>https://www.reddit.com/r/changemyview/comments...</td>\n",
       "      <td>-0.083</td>\n",
       "    </tr>\n",
       "    <tr>\n",
       "      <th>1</th>\n",
       "      <td>42g75o</td>\n",
       "      <td>cza1wdh</td>\n",
       "      <td>the myth is that the  gap  is entirely based o...</td>\n",
       "      <td>https://www.reddit.com/r/changemyview/comments...</td>\n",
       "      <td>-0.022</td>\n",
       "    </tr>\n",
       "    <tr>\n",
       "      <th>2</th>\n",
       "      <td>42g75o</td>\n",
       "      <td>cza2bw8</td>\n",
       "      <td>the assertion is that women get paid less for ...</td>\n",
       "      <td>https://www.reddit.com/r/changemyview/comments...</td>\n",
       "      <td>-0.146</td>\n",
       "    </tr>\n",
       "    <tr>\n",
       "      <th>3</th>\n",
       "      <td>42g75o</td>\n",
       "      <td>cza2iji</td>\n",
       "      <td>you said in the op that   s not what they   re...</td>\n",
       "      <td>https://www.reddit.com/r/changemyview/comments...</td>\n",
       "      <td>-0.083</td>\n",
       "    </tr>\n",
       "    <tr>\n",
       "      <th>4</th>\n",
       "      <td>42g75o</td>\n",
       "      <td>cza2jj3</td>\n",
       "      <td>men and women are not payed less for the same...</td>\n",
       "      <td>https://www.reddit.com/r/changemyview/comments...</td>\n",
       "      <td>-0.042</td>\n",
       "    </tr>\n",
       "  </tbody>\n",
       "</table>\n",
       "</div>"
      ],
      "text/plain": [
       "  post_id comment_id                                                txt  \\\n",
       "0  42g75o    cza1q49    the difference in average earnings between m...   \n",
       "1  42g75o    cza1wdh  the myth is that the  gap  is entirely based o...   \n",
       "2  42g75o    cza2bw8  the assertion is that women get paid less for ...   \n",
       "3  42g75o    cza2iji  you said in the op that   s not what they   re...   \n",
       "4  42g75o    cza2jj3   men and women are not payed less for the same...   \n",
       "\n",
       "                                                 url  offensiveness_score  \n",
       "0  https://www.reddit.com/r/changemyview/comments...               -0.083  \n",
       "1  https://www.reddit.com/r/changemyview/comments...               -0.022  \n",
       "2  https://www.reddit.com/r/changemyview/comments...               -0.146  \n",
       "3  https://www.reddit.com/r/changemyview/comments...               -0.083  \n",
       "4  https://www.reddit.com/r/changemyview/comments...               -0.042  "
      ]
     },
     "metadata": {},
     "output_type": "display_data"
    }
   ],
   "source": [
    "ruddit_df = ruddit_df[ruddit_df[\"txt\"]!=\"[deleted]\"].reset_index(drop=True)\n",
    "ruddit_df = clean(ruddit_df, \"txt\")\n",
    "display(ruddit_df.head())"
   ]
  },
  {
   "cell_type": "code",
   "execution_count": 30,
   "id": "8f1010c1",
   "metadata": {},
   "outputs": [],
   "source": [
    "## tfidf\n",
    "rud_vec = TfidfVectorizer(\n",
    "    analyzer=\"char_wb\",\n",
    "    max_df=0.7, \n",
    "    min_df=3, \n",
    "    ngram_range=(3, 4)\n",
    ")\n",
    "X = rud_vec.fit_transform(ruddit_df[\"txt\"])"
   ]
  },
  {
   "cell_type": "code",
   "execution_count": 31,
   "id": "1660267c",
   "metadata": {},
   "outputs": [
    {
     "data": {
      "text/plain": [
       "Ridge(alpha=0.5)"
      ]
     },
     "execution_count": 31,
     "metadata": {},
     "output_type": "execute_result"
    }
   ],
   "source": [
    "rud_ridge_model = Ridge(alpha=0.5)\n",
    "rud_ridge_model.fit(X, ruddit_df[\"offensiveness_score\"].values)"
   ]
  },
  {
   "cell_type": "code",
   "execution_count": 32,
   "id": "47d3406a",
   "metadata": {},
   "outputs": [],
   "source": [
    "less_vec = rud_vec.transform(val_df[\"less_toxic\"])\n",
    "more_vec = rud_vec.transform(val_df[\"more_toxic\"])\n",
    "\n",
    "less_pred = rud_ridge_model.predict(less_vec)\n",
    "more_pred = rud_ridge_model.predict(more_vec)\n",
    "\n",
    "test_vec = rud_vec.transform(test_df[\"text\"])\n",
    "test_pred = rud_ridge_model.predict(test_vec)"
   ]
  },
  {
   "cell_type": "code",
   "execution_count": 33,
   "id": "b19a7483",
   "metadata": {},
   "outputs": [
    {
     "name": "stdout",
     "output_type": "stream",
     "text": [
      "Ruddit + TFIDF + Ridge Model Score: 0.634781\n"
     ]
    }
   ],
   "source": [
    "OOF_DF[\"Ruddit_Ridge_less_pred\"] = less_pred\n",
    "OOF_DF[\"Ruddit_Ridge_more_pred\"] = more_pred\n",
    "OOF_DF[\"Ruddit_Ridge_diff\"] = OOF_DF[\"Ruddit_Ridge_more_pred\"] - OOF_DF[\"Ruddit_Ridge_less_pred\"]\n",
    "\n",
    "ridge_score = OOF_DF[OOF_DF[\"Ruddit_Ridge_diff\"]>0][\"Ruddit_Ridge_diff\"].count()/len(OOF_DF)\n",
    "print(f\"Ruddit + TFIDF + Ridge Model Score: {ridge_score:.6f}\")"
   ]
  },
  {
   "cell_type": "code",
   "execution_count": 34,
   "id": "9c7293aa",
   "metadata": {},
   "outputs": [],
   "source": [
    "test_df[\"ruddit_tfidf_ridge\"] = test_pred"
   ]
  },
  {
   "cell_type": "code",
   "execution_count": 35,
   "id": "7b5c15ac",
   "metadata": {},
   "outputs": [
    {
     "data": {
      "image/png": "[encoded data removed]",
      "text/plain": [
       "<Figure size 864x288 with 1 Axes>"
      ]
     },
     "metadata": {
      "needs_background": "light"
     },
     "output_type": "display_data"
    }
   ],
   "source": [
    "plt.figure(figsize=(12, 4))\n",
    "sns.distplot(test_df[\"jigsaw1st_tfidf_ridge\"], label=\"jigsaw1st_tfidf_ridge\")\n",
    "sns.distplot(test_df[\"ruddit_tfidf_ridge\"], label=\"ruddit_tfidf_ridge\")\n",
    "plt.legend()\n",
    "plt.show()"
   ]
  },
  {
   "cell_type": "code",
   "execution_count": 36,
   "id": "c571d48f",
   "metadata": {},
   "outputs": [
    {
     "data": {
      "image/png": "[encoded data removed]",
      "text/plain": [
       "<Figure size 864x288 with 1 Axes>"
      ]
     },
     "metadata": {
      "needs_background": "light"
     },
     "output_type": "display_data"
    }
   ],
   "source": [
    "plt.figure(figsize=(12, 4))\n",
    "plt.scatter(test_df[\"jigsaw1st_tfidf_ridge\"], test_df[\"ruddit_tfidf_ridge\"])\n",
    "plt.xlabel(\"jigsaw1st_tfidf_ridge\")\n",
    "plt.ylabel(\"ruddit_tfidf_ridge\")\n",
    "plt.grid()\n",
    "plt.show()"
   ]
  },
  {
   "cell_type": "markdown",
   "id": "10126ecb",
   "metadata": {},
   "source": [
    "<br>\n",
    "<h1 style = \"font-size:45px; font-family:Comic Sans MS ; font-weight : normal; background-color: #4c1c84 ; color : #eeebf1; text-align: center; border-radius: 100px 100px;\">\n",
    "    Detoxify\n",
    "</h1>\n",
    "<br>"
   ]
  },
  {
   "cell_type": "markdown",
   "id": "16488c98",
   "metadata": {},
   "source": [
    "<br>\n",
    "<h2 style = \"font-size:45px;\n",
    "             font-family:Comic Sans MS ;\n",
    "             font-weight : normal; \n",
    "             background-color: #eeebf1 ;\n",
    "             color : #4c1c84;\n",
    "             text-align: center;\n",
    "             border-radius: 100px 100px;\">\n",
    "    Original\n",
    "</h2>\n",
    "<br>"
   ]
  },
  {
   "cell_type": "code",
   "execution_count": 37,
   "id": "b9febea2",
   "metadata": {},
   "outputs": [
    {
     "data": {
      "text/plain": [
       "{'num_classes': 6,\n",
       " 'model_type': 'bert-base-uncased',\n",
       " 'model_name': 'BertForSequenceClassification',\n",
       " 'tokenizer_name': 'BertTokenizer'}"
      ]
     },
     "execution_count": 37,
     "metadata": {},
     "output_type": "execute_result"
    }
   ],
   "source": [
    "loaded = torch.load(\"../data/external/detoxify_ckpt/toxic_original-c1212f89.ckpt\")\n",
    "loaded[\"config\"][\"arch\"][\"args\"]"
   ]
  },
  {
   "cell_type": "code",
   "execution_count": 39,
   "id": "3bb30ab4",
   "metadata": {},
   "outputs": [
    {
     "name": "stderr",
     "output_type": "stream",
     "text": [
      "Some weights of the model checkpoint at roberta-base were not used when initializing RobertaForSequenceClassification: ['lm_head.dense.weight', 'lm_head.layer_norm.weight', 'roberta.pooler.dense.weight', 'lm_head.bias', 'lm_head.dense.bias', 'lm_head.layer_norm.bias', 'lm_head.decoder.weight', 'roberta.pooler.dense.bias']\n",
      "- This IS expected if you are initializing RobertaForSequenceClassification from the checkpoint of a model trained on another task or with another architecture (e.g. initializing a BertForSequenceClassification model from a BertForPreTraining model).\n",
      "- This IS NOT expected if you are initializing RobertaForSequenceClassification from the checkpoint of a model that you expect to be exactly identical (initializing a BertForSequenceClassification model from a BertForSequenceClassification model).\n",
      "Some weights of RobertaForSequenceClassification were not initialized from the model checkpoint at roberta-base and are newly initialized: ['classifier.dense.bias', 'classifier.out_proj.weight', 'classifier.out_proj.bias', 'classifier.dense.weight']\n",
      "You should probably TRAIN this model on a down-stream task to be able to use it for predictions and inference.\n"
     ]
    }
   ],
   "source": [
    "from transformers import BertTokenizer, BertForSequenceClassification\n",
    "from transformers import RobertaTokenizer, RobertaForSequenceClassification\n",
    "from transformers import XLMRobertaTokenizer, XLMRobertaForSequenceClassification\n",
    "\n",
    "bert_tokeninzer = BertTokenizer.from_pretrained('roberta-base')\n",
    "bert_tokeninzer.save_pretrained(OUTPUT_DIR/f\"roberta-base\")\n",
    "bert_model = BertForSequenceClassification.from_pretrained('roberta-base')\n",
    "bert_model.save_pretrained(OUTPUT_DIR/'roberta-base')"
   ]
  },
  {
   "cell_type": "code",
   "execution_count": null,
   "id": "16fc935e",
   "metadata": {},
   "outputs": [],
   "source": [
    "sys.path.append(\"../src/utils/detoxify\")\n",
    "\n",
    "from detoxify import Detoxify\n",
    "\n",
    "detox_model = Detoxify(\n",
    "    'original', \n",
    "    checkpoint=\"../data/external/detoxify_ckpt/toxic_original-c1212f89.ckpt\",\n",
    "    device=\"cuda\"\n",
    ")\n",
    "detox_model.predict(train_df[\"comment_text\"].tolist()[0])"
   ]
  },
  {
   "cell_type": "code",
   "execution_count": null,
   "id": "1dff85ea",
   "metadata": {},
   "outputs": [],
   "source": [
    "val_df['more_detoxify_score'] = val_df['more_toxic'].progress_map(lambda line: detox_model.predict(line))\n",
    "val_df['less_detoxify_score'] = val_df['less_toxic'].progress_map(lambda line: detox_model.predict(line))\n",
    "\n",
    "more_detoxify_df = val_df[\"more_detoxify_score\"].apply(pd.Series)\n",
    "less_detoxify_df = val_df[\"less_detoxify_score\"].apply(pd.Series)"
   ]
  },
  {
   "cell_type": "code",
   "execution_count": null,
   "id": "641bea32",
   "metadata": {},
   "outputs": [],
   "source": [
    "OOF_DF[\"more_detoxify_unbiased_score\"] = more_detoxify_df[detoxify_cols].sum(axis=1)\n",
    "OOF_DF[\"less_detoxify_unbiased_score\"] = less_detoxify_df[detoxify_cols].sum(axis=1)\n",
    "OOF_DF[\"detoxify_diff\"] = OOF_DF[\"more_detoxify_score\"] - OOF_DF[\"less_detoxify_score\"]\n",
    "detoxify_score = OOF_DF[OOF_DF[\"detoxify_diff\"]>0][\"detoxify_diff\"].count()/len(OOF_DF)\n",
    "print(f\"Detoxify Model Score: {detoxify_score:.6f}\")"
   ]
  },
  {
   "cell_type": "code",
   "execution_count": 45,
   "id": "50c9503a",
   "metadata": {},
   "outputs": [
    {
     "data": {
      "text/html": [
       "<div>\n",
       "<style scoped>\n",
       "    .dataframe tbody tr th:only-of-type {\n",
       "        vertical-align: middle;\n",
       "    }\n",
       "\n",
       "    .dataframe tbody tr th {\n",
       "        vertical-align: top;\n",
       "    }\n",
       "\n",
       "    .dataframe thead th {\n",
       "        text-align: right;\n",
       "    }\n",
       "</style>\n",
       "<table border=\"1\" class=\"dataframe\">\n",
       "  <thead>\n",
       "    <tr style=\"text-align: right;\">\n",
       "      <th></th>\n",
       "      <th>Ridge_less_pred</th>\n",
       "      <th>Ridge_more_pred</th>\n",
       "      <th>Ridge_diff</th>\n",
       "      <th>Ruddit_Ridge_less_pred</th>\n",
       "      <th>Ruddit_Ridge_more_pred</th>\n",
       "      <th>Ruddit_Ridge_diff</th>\n",
       "      <th>more_detoxify_score</th>\n",
       "      <th>less_detoxify_score</th>\n",
       "      <th>detoxify_diff</th>\n",
       "    </tr>\n",
       "  </thead>\n",
       "  <tbody>\n",
       "    <tr>\n",
       "      <th>0</th>\n",
       "      <td>0.328368</td>\n",
       "      <td>0.213607</td>\n",
       "      <td>-0.114761</td>\n",
       "      <td>-0.162604</td>\n",
       "      <td>-0.083511</td>\n",
       "      <td>0.079093</td>\n",
       "      <td>0.953505</td>\n",
       "      <td>2.143710</td>\n",
       "      <td>-1.190205</td>\n",
       "    </tr>\n",
       "    <tr>\n",
       "      <th>1</th>\n",
       "      <td>0.045194</td>\n",
       "      <td>0.171636</td>\n",
       "      <td>0.126443</td>\n",
       "      <td>-0.098692</td>\n",
       "      <td>-0.040686</td>\n",
       "      <td>0.058006</td>\n",
       "      <td>1.964873</td>\n",
       "      <td>0.002753</td>\n",
       "      <td>1.962120</td>\n",
       "    </tr>\n",
       "    <tr>\n",
       "      <th>2</th>\n",
       "      <td>0.142531</td>\n",
       "      <td>0.111072</td>\n",
       "      <td>-0.031459</td>\n",
       "      <td>0.154540</td>\n",
       "      <td>0.036213</td>\n",
       "      <td>-0.118327</td>\n",
       "      <td>0.574108</td>\n",
       "      <td>0.051482</td>\n",
       "      <td>0.522626</td>\n",
       "    </tr>\n",
       "    <tr>\n",
       "      <th>3</th>\n",
       "      <td>0.285728</td>\n",
       "      <td>0.539906</td>\n",
       "      <td>0.254178</td>\n",
       "      <td>0.077980</td>\n",
       "      <td>0.315090</td>\n",
       "      <td>0.237110</td>\n",
       "      <td>3.406781</td>\n",
       "      <td>1.015747</td>\n",
       "      <td>2.391034</td>\n",
       "    </tr>\n",
       "    <tr>\n",
       "      <th>4</th>\n",
       "      <td>0.298790</td>\n",
       "      <td>0.301840</td>\n",
       "      <td>0.003050</td>\n",
       "      <td>0.063660</td>\n",
       "      <td>0.342435</td>\n",
       "      <td>0.278775</td>\n",
       "      <td>1.921882</td>\n",
       "      <td>2.486528</td>\n",
       "      <td>-0.564646</td>\n",
       "    </tr>\n",
       "  </tbody>\n",
       "</table>\n",
       "</div>"
      ],
      "text/plain": [
       "   Ridge_less_pred  Ridge_more_pred  Ridge_diff  Ruddit_Ridge_less_pred  \\\n",
       "0         0.328368         0.213607   -0.114761               -0.162604   \n",
       "1         0.045194         0.171636    0.126443               -0.098692   \n",
       "2         0.142531         0.111072   -0.031459                0.154540   \n",
       "3         0.285728         0.539906    0.254178                0.077980   \n",
       "4         0.298790         0.301840    0.003050                0.063660   \n",
       "\n",
       "   Ruddit_Ridge_more_pred  Ruddit_Ridge_diff  more_detoxify_score  \\\n",
       "0               -0.083511           0.079093             0.953505   \n",
       "1               -0.040686           0.058006             1.964873   \n",
       "2                0.036213          -0.118327             0.574108   \n",
       "3                0.315090           0.237110             3.406781   \n",
       "4                0.342435           0.278775             1.921882   \n",
       "\n",
       "   less_detoxify_score  detoxify_diff  \n",
       "0             2.143710      -1.190205  \n",
       "1             0.002753       1.962120  \n",
       "2             0.051482       0.522626  \n",
       "3             1.015747       2.391034  \n",
       "4             2.486528      -0.564646  "
      ]
     },
     "execution_count": 45,
     "metadata": {},
     "output_type": "execute_result"
    }
   ],
   "source": [
    "OOF_DF.head()"
   ]
  },
  {
   "cell_type": "markdown",
   "id": "05d58a71",
   "metadata": {},
   "source": [
    "<br>\n",
    "<h2 style = \"font-size:45px;\n",
    "             font-family:Comic Sans MS ;\n",
    "             font-weight : normal; \n",
    "             background-color: #eeebf1 ;\n",
    "             color : #4c1c84;\n",
    "             text-align: center;\n",
    "             border-radius: 100px 100px;\">\n",
    "    Unbiased\n",
    "</h2>\n",
    "<br>"
   ]
  },
  {
   "cell_type": "code",
   "execution_count": 38,
   "id": "cdc6677b",
   "metadata": {},
   "outputs": [
    {
     "data": {
      "text/plain": [
       "{'num_classes': 16,\n",
       " 'model_type': 'roberta-base',\n",
       " 'model_name': 'RobertaForSequenceClassification',\n",
       " 'tokenizer_name': 'RobertaTokenizer'}"
      ]
     },
     "execution_count": 38,
     "metadata": {},
     "output_type": "execute_result"
    }
   ],
   "source": [
    "loaded = torch.load(\"../data/external/detoxify_ckpt/toxic_debiased-c7548aa0.ckpt\")\n",
    "loaded[\"config\"][\"arch\"][\"args\"]"
   ]
  },
  {
   "cell_type": "code",
   "execution_count": null,
   "id": "70cc817d",
   "metadata": {},
   "outputs": [],
   "source": [
    "from transformers import BertTokenizer, BertForSequenceClassification\n",
    "from transformers import RobertaTokenizer, RobertaForSequenceClassification\n",
    "from transformers import XLMRobertaTokenizer, XLMRobertaForSequenceClassification\n",
    "\n",
    "bert_tokeninzer = RobertaTokenizer.from_pretrained('roberta-base')\n",
    "bert_tokeninzer.save_pretrained(OUTPUT_DIR/f\"roberta-base\")\n",
    "bert_model = RobertaForSequenceClassification.from_pretrained('roberta-base')\n",
    "bert_model.save_pretrained(OUTPUT_DIR/'roberta-base')"
   ]
  },
  {
   "cell_type": "code",
   "execution_count": null,
   "id": "f2bf3a50",
   "metadata": {},
   "outputs": [],
   "source": [
    "detox_model = Detoxify(\n",
    "    'unbiased', \n",
    "    checkpoint=\"../data/external/detoxify_ckpt/toxic_debiased-c7548aa0.ckpt\",\n",
    "    device=\"cuda\"\n",
    ")\n",
    "detox_model.predict(train_df[\"comment_text\"].tolist()[0])"
   ]
  },
  {
   "cell_type": "code",
   "execution_count": null,
   "id": "a6ea69e5",
   "metadata": {},
   "outputs": [],
   "source": [
    "val_df['more_detoxify_unbiased_score'] = val_df['more_toxic'].progress_map(lambda line: detox_model.predict(line))\n",
    "val_df['less_detoxify_unbiased_score'] = val_df['less_toxic'].progress_map(lambda line: detox_model.predict(line))\n",
    "\n",
    "more_detoxify_df = val_df[\"more_detoxify_unbiased_score\"].apply(pd.Series)\n",
    "less_detoxify_df = val_df[\"less_detoxify_unbiased_score\"].apply(pd.Series)"
   ]
  },
  {
   "cell_type": "code",
   "execution_count": null,
   "id": "46fed501",
   "metadata": {},
   "outputs": [],
   "source": [
    "detoxify_cols = more_detoxify_df.columns.tolist()\n",
    "\n",
    "\n",
    "OOF_DF[\"more_detoxify_unbiased_score\"] = more_detoxify_df[detoxify_cols].sum(axis=1)\n",
    "OOF_DF[\"less_detoxify_unbiased_score\"] = less_detoxify_df[detoxify_cols].sum(axis=1)\n",
    "OOF_DF[\"detoxify_unbiased_diff\"] = OOF_DF[\"more_detoxify_unbiased_score\"] - OOF_DF[\"less_detoxify_unbiased_score\"]\n",
    "detoxify_score = OOF_DF[OOF_DF[\"detoxify_unbiased_diff\"]>0][\"detoxify_unbiased_diff\"].count()/len(OOF_DF)\n",
    "print(f\"Detoxify Unbiased Model Score: {detoxify_score:.6f}\")"
   ]
  },
  {
   "cell_type": "code",
   "execution_count": 79,
   "id": "afa4c684",
   "metadata": {},
   "outputs": [
    {
     "name": "stdout",
     "output_type": "stream",
     "text": [
      "Detoxify Unbiased Model Score: 0.694832\n"
     ]
    }
   ],
   "source": [
    "\n",
    "# OOF_DF[\"more_detoxify_unbiased_score\"] = more_detoxify_df[detoxify_cols].sum(axis=1)\n",
    "# OOF_DF[\"less_detoxify_unbiased_score\"] = less_detoxify_df[detoxify_cols].sum(axis=1)\n",
    "OOF_DF[\"detoxify_unbiased_diff\"] = OOF_DF[\"more_detoxify_unbiased_score\"] - OOF_DF[\"less_detoxify_unbiased_score\"]\n",
    "detoxify_score = OOF_DF[OOF_DF[\"detoxify_unbiased_diff\"]>0][\"detoxify_unbiased_diff\"].count()/len(OOF_DF)\n",
    "print(f\"Detoxify Unbiased Model Score: {detoxify_score:.6f}\")"
   ]
  },
  {
   "cell_type": "markdown",
   "id": "7f02bb62",
   "metadata": {},
   "source": [
    "<br>\n",
    "<h2 style = \"font-size:45px;\n",
    "             font-family:Comic Sans MS ;\n",
    "             font-weight : normal; \n",
    "             background-color: #eeebf1 ;\n",
    "             color : #4c1c84;\n",
    "             text-align: center;\n",
    "             border-radius: 100px 100px;\">\n",
    "    Multilingual\n",
    "</h2>\n",
    "<br>"
   ]
  },
  {
   "cell_type": "code",
   "execution_count": 56,
   "id": "06316863",
   "metadata": {},
   "outputs": [
    {
     "data": {
      "text/plain": [
       "{'num_classes': 16,\n",
       " 'model_type': 'xlm-roberta-base',\n",
       " 'model_name': 'XLMRobertaForSequenceClassification',\n",
       " 'tokenizer_name': 'XLMRobertaTokenizer'}"
      ]
     },
     "execution_count": 56,
     "metadata": {},
     "output_type": "execute_result"
    }
   ],
   "source": [
    "loaded = torch.load(\"../data/external/detoxify_ckpt/multilingual_debiased-0b549669.ckpt\")\n",
    "loaded[\"config\"][\"arch\"][\"args\"]"
   ]
  },
  {
   "cell_type": "code",
   "execution_count": null,
   "id": "5065c54e",
   "metadata": {},
   "outputs": [],
   "source": [
    "from transformers import BertTokenizer, BertForSequenceClassification\n",
    "from transformers import RobertaTokenizer, RobertaForSequenceClassification\n",
    "from transformers import XLMRobertaTokenizer, XLMRobertaForSequenceClassification\n",
    "\n",
    "bert_tokeninzer = XLMRobertaTokenizer.from_pretrained('xlm-roberta-base')\n",
    "bert_tokeninzer.save_pretrained(OUTPUT_DIR/f\"xlm-roberta-base\")\n",
    "bert_model = XLMRobertaForSequenceClassification.from_pretrained('xlm-roberta-base')\n",
    "bert_model.save_pretrained(OUTPUT_DIR/'xlm-roberta-base')"
   ]
  },
  {
   "cell_type": "code",
   "execution_count": 58,
   "id": "af5afb82",
   "metadata": {},
   "outputs": [
    {
     "data": {
      "text/plain": [
       "{'toxicity': 0.17353217,\n",
       " 'severe_toxicity': 0.0002474817,\n",
       " 'obscene': 0.007298799,\n",
       " 'identity_attack': 0.0027313058,\n",
       " 'insult': 0.07068583,\n",
       " 'threat': 0.00070219924,\n",
       " 'sexual_explicit': 0.00090324157}"
      ]
     },
     "execution_count": 58,
     "metadata": {},
     "output_type": "execute_result"
    }
   ],
   "source": [
    "detox_model = Detoxify(\n",
    "    'multilingual', \n",
    "    checkpoint=\"../data/external/detoxify_ckpt/multilingual_debiased-0b549669.ckpt\",\n",
    "    device=\"cuda\"\n",
    ")\n",
    "detox_model.predict(train_df[\"comment_text\"].tolist()[0])"
   ]
  },
  {
   "cell_type": "code",
   "execution_count": 59,
   "id": "29a3fc1f",
   "metadata": {},
   "outputs": [
    {
     "data": {
      "application/vnd.jupyter.widget-view+json": {
       "model_id": "f5c78bbcdf1642ea9798692bebf2fb23",
       "version_major": 2,
       "version_minor": 0
      },
      "text/plain": [
       "  0%|          | 0/30108 [00:00<?, ?it/s]"
      ]
     },
     "metadata": {},
     "output_type": "display_data"
    },
    {
     "data": {
      "application/vnd.jupyter.widget-view+json": {
       "model_id": "d2eaa1f1d88345648143ed507f66c8ca",
       "version_major": 2,
       "version_minor": 0
      },
      "text/plain": [
       "  0%|          | 0/30108 [00:00<?, ?it/s]"
      ]
     },
     "metadata": {},
     "output_type": "display_data"
    }
   ],
   "source": [
    "val_df['more_detoxify_multi_score'] = val_df['more_toxic'].progress_map(lambda line: detox_model.predict(line))\n",
    "val_df['less_detoxify_multi_score'] = val_df['less_toxic'].progress_map(lambda line: detox_model.predict(line))\n",
    "\n",
    "more_detoxify_df = val_df[\"more_detoxify_multi_score\"].apply(pd.Series)\n",
    "less_detoxify_df = val_df[\"less_detoxify_multi_score\"].apply(pd.Series)"
   ]
  },
  {
   "cell_type": "code",
   "execution_count": 61,
   "id": "fcca8077",
   "metadata": {},
   "outputs": [
    {
     "name": "stdout",
     "output_type": "stream",
     "text": [
      "Detoxify Multilingual Model Score: 0.691976\n"
     ]
    }
   ],
   "source": [
    "detoxify_cols = more_detoxify_df.columns.tolist()\n",
    "\n",
    "OOF_DF[\"more_detoxify_multi_score\"] = more_detoxify_df[detoxify_cols].sum(axis=1)\n",
    "OOF_DF[\"less_detoxify_multi_score\"] = less_detoxify_df[detoxify_cols].sum(axis=1)\n",
    "OOF_DF[\"detoxify_multi_diff\"] = OOF_DF[\"more_detoxify_multi_score\"] - OOF_DF[\"less_detoxify_multi_score\"]\n",
    "detoxify_score = OOF_DF[OOF_DF[\"detoxify_multi_diff\"]>0][\"detoxify_multi_diff\"].count()/len(OOF_DF)\n",
    "print(f\"Detoxify Multilingual Model Score: {detoxify_score:.6f}\")"
   ]
  },
  {
   "cell_type": "markdown",
   "id": "17eb7617",
   "metadata": {},
   "source": [
    "<br>\n",
    "<h2 style = \"font-size:45px;\n",
    "             font-family:Comic Sans MS ;\n",
    "             font-weight : normal; \n",
    "             background-color: #eeebf1 ;\n",
    "             color : #4c1c84;\n",
    "             text-align: center;\n",
    "             border-radius: 100px 100px;\">\n",
    "    Original-Small\n",
    "</h2>\n",
    "<br>"
   ]
  },
  {
   "cell_type": "code",
   "execution_count": 63,
   "id": "13935d2b",
   "metadata": {},
   "outputs": [
    {
     "data": {
      "text/plain": [
       "{'num_classes': 6,\n",
       " 'model_type': 'albert-base-v2',\n",
       " 'model_name': 'AlbertForSequenceClassification',\n",
       " 'tokenizer_name': 'AlbertTokenizer'}"
      ]
     },
     "execution_count": 63,
     "metadata": {},
     "output_type": "execute_result"
    }
   ],
   "source": [
    "loaded = torch.load(\"../data/external/detoxify_ckpt/original-albert-0e1d6498.ckpt\")\n",
    "loaded[\"config\"][\"arch\"][\"args\"]"
   ]
  },
  {
   "cell_type": "code",
   "execution_count": 64,
   "id": "ffb15e48",
   "metadata": {},
   "outputs": [
    {
     "data": {
      "application/vnd.jupyter.widget-view+json": {
       "model_id": "25f11afb4a154617a000a128a6306e0a",
       "version_major": 2,
       "version_minor": 0
      },
      "text/plain": [
       "Downloading:   0%|          | 0.00/760k [00:00<?, ?B/s]"
      ]
     },
     "metadata": {},
     "output_type": "display_data"
    },
    {
     "data": {
      "application/vnd.jupyter.widget-view+json": {
       "model_id": "5ad6482fb4c9482089d4d46009b7e0c6",
       "version_major": 2,
       "version_minor": 0
      },
      "text/plain": [
       "Downloading:   0%|          | 0.00/1.31M [00:00<?, ?B/s]"
      ]
     },
     "metadata": {},
     "output_type": "display_data"
    },
    {
     "data": {
      "application/vnd.jupyter.widget-view+json": {
       "model_id": "1a7429ec97764974b4ae8bb79ea7b7d3",
       "version_major": 2,
       "version_minor": 0
      },
      "text/plain": [
       "Downloading:   0%|          | 0.00/684 [00:00<?, ?B/s]"
      ]
     },
     "metadata": {},
     "output_type": "display_data"
    },
    {
     "data": {
      "application/vnd.jupyter.widget-view+json": {
       "model_id": "e409ef57e83e49ac859649dbf6a0647d",
       "version_major": 2,
       "version_minor": 0
      },
      "text/plain": [
       "Downloading:   0%|          | 0.00/47.4M [00:00<?, ?B/s]"
      ]
     },
     "metadata": {},
     "output_type": "display_data"
    },
    {
     "name": "stderr",
     "output_type": "stream",
     "text": [
      "Some weights of the model checkpoint at albert-base-v2 were not used when initializing AlbertForSequenceClassification: ['predictions.bias', 'predictions.LayerNorm.weight', 'predictions.decoder.weight', 'predictions.dense.bias', 'predictions.LayerNorm.bias', 'predictions.decoder.bias', 'predictions.dense.weight']\n",
      "- This IS expected if you are initializing AlbertForSequenceClassification from the checkpoint of a model trained on another task or with another architecture (e.g. initializing a BertForSequenceClassification model from a BertForPreTraining model).\n",
      "- This IS NOT expected if you are initializing AlbertForSequenceClassification from the checkpoint of a model that you expect to be exactly identical (initializing a BertForSequenceClassification model from a BertForSequenceClassification model).\n",
      "Some weights of AlbertForSequenceClassification were not initialized from the model checkpoint at albert-base-v2 and are newly initialized: ['classifier.weight', 'classifier.bias']\n",
      "You should probably TRAIN this model on a down-stream task to be able to use it for predictions and inference.\n"
     ]
    }
   ],
   "source": [
    "from transformers import BertTokenizer, BertForSequenceClassification\n",
    "from transformers import RobertaTokenizer, RobertaForSequenceClassification\n",
    "from transformers import XLMRobertaTokenizer, XLMRobertaForSequenceClassification\n",
    "from transformers import AlbertTokenizer, AlbertForSequenceClassification\n",
    "\n",
    "bert_tokeninzer = AlbertTokenizer.from_pretrained('albert-base-v2')\n",
    "bert_tokeninzer.save_pretrained(OUTPUT_DIR/f\"albert-base-v2\")\n",
    "bert_model = AlbertForSequenceClassification.from_pretrained('albert-base-v2')\n",
    "bert_model.save_pretrained(OUTPUT_DIR/'albert-base-v2')"
   ]
  },
  {
   "cell_type": "code",
   "execution_count": 65,
   "id": "3dcc7d80",
   "metadata": {},
   "outputs": [
    {
     "data": {
      "text/plain": [
       "{'toxicity': 0.008386395,\n",
       " 'severe_toxicity': 6.696652e-05,\n",
       " 'obscene': 0.0007168955,\n",
       " 'threat': 9.130974e-05,\n",
       " 'insult': 0.00030911065,\n",
       " 'identity_attack': 0.00019027268}"
      ]
     },
     "execution_count": 65,
     "metadata": {},
     "output_type": "execute_result"
    }
   ],
   "source": [
    "detox_model = Detoxify(\n",
    "    'original-small', \n",
    "    checkpoint=\"../data/external/detoxify_ckpt/original-albert-0e1d6498.ckpt\",\n",
    "    device=\"cuda\"\n",
    ")\n",
    "detox_model.predict(train_df[\"comment_text\"].tolist()[0])"
   ]
  },
  {
   "cell_type": "code",
   "execution_count": 66,
   "id": "088c10e2",
   "metadata": {},
   "outputs": [
    {
     "data": {
      "application/vnd.jupyter.widget-view+json": {
       "model_id": "6f24d4937e3740c3abd26052c5169370",
       "version_major": 2,
       "version_minor": 0
      },
      "text/plain": [
       "  0%|          | 0/30108 [00:00<?, ?it/s]"
      ]
     },
     "metadata": {},
     "output_type": "display_data"
    },
    {
     "data": {
      "application/vnd.jupyter.widget-view+json": {
       "model_id": "d0002bf5ad42413ca2b93ecdde77551c",
       "version_major": 2,
       "version_minor": 0
      },
      "text/plain": [
       "  0%|          | 0/30108 [00:00<?, ?it/s]"
      ]
     },
     "metadata": {},
     "output_type": "display_data"
    }
   ],
   "source": [
    "val_df['more_detoxify_ori_small_score'] = val_df['more_toxic'].progress_map(lambda line: detox_model.predict(line))\n",
    "val_df['less_detoxify_ori_small_score'] = val_df['less_toxic'].progress_map(lambda line: detox_model.predict(line))\n",
    "\n",
    "more_detoxify_df = val_df[\"more_detoxify_ori_small_score\"].apply(pd.Series)\n",
    "less_detoxify_df = val_df[\"less_detoxify_ori_small_score\"].apply(pd.Series)\n"
   ]
  },
  {
   "cell_type": "code",
   "execution_count": 68,
   "id": "f5a16dfe",
   "metadata": {},
   "outputs": [
    {
     "name": "stdout",
     "output_type": "stream",
     "text": [
      "Detoxify Original Small Model Score: 0.696127\n"
     ]
    }
   ],
   "source": [
    "detoxify_cols = more_detoxify_df.columns.tolist()\n",
    "\n",
    "OOF_DF[\"more_detoxify_ori_small_score\"] = more_detoxify_df[detoxify_cols].sum(axis=1)\n",
    "OOF_DF[\"less_detoxify_ori_small_score\"] = less_detoxify_df[detoxify_cols].sum(axis=1)\n",
    "OOF_DF[\"detoxify_ori_small_diff\"] = OOF_DF[\"more_detoxify_ori_small_score\"] - OOF_DF[\"less_detoxify_ori_small_score\"]\n",
    "detoxify_score = OOF_DF[OOF_DF[\"detoxify_ori_small_diff\"]>0][\"detoxify_ori_small_diff\"].count()/len(OOF_DF)\n",
    "print(f\"Detoxify Original Small Model Score: {detoxify_score:.6f}\")"
   ]
  },
  {
   "cell_type": "markdown",
   "id": "23ad5905",
   "metadata": {},
   "source": [
    "<br>\n",
    "<h2 style = \"font-size:45px;\n",
    "             font-family:Comic Sans MS ;\n",
    "             font-weight : normal; \n",
    "             background-color: #eeebf1 ;\n",
    "             color : #4c1c84;\n",
    "             text-align: center;\n",
    "             border-radius: 100px 100px;\">\n",
    "    Unbiased-Small\n",
    "</h2>\n",
    "<br>"
   ]
  },
  {
   "cell_type": "code",
   "execution_count": 70,
   "id": "fd2ce961",
   "metadata": {},
   "outputs": [
    {
     "data": {
      "text/plain": [
       "{'num_classes': 16,\n",
       " 'model_type': 'albert-base-v2',\n",
       " 'model_name': 'AlbertForSequenceClassification',\n",
       " 'tokenizer_name': 'AlbertTokenizer'}"
      ]
     },
     "execution_count": 70,
     "metadata": {},
     "output_type": "execute_result"
    }
   ],
   "source": [
    "loaded = torch.load(\"../data/external/detoxify_ckpt/unbiased-albert-c8519128.ckpt\")\n",
    "loaded[\"config\"][\"arch\"][\"args\"]"
   ]
  },
  {
   "cell_type": "code",
   "execution_count": 71,
   "id": "67842d6d",
   "metadata": {},
   "outputs": [
    {
     "name": "stderr",
     "output_type": "stream",
     "text": [
      "Some weights of the model checkpoint at albert-base-v2 were not used when initializing AlbertForSequenceClassification: ['predictions.bias', 'predictions.LayerNorm.weight', 'predictions.decoder.weight', 'predictions.dense.bias', 'predictions.LayerNorm.bias', 'predictions.decoder.bias', 'predictions.dense.weight']\n",
      "- This IS expected if you are initializing AlbertForSequenceClassification from the checkpoint of a model trained on another task or with another architecture (e.g. initializing a BertForSequenceClassification model from a BertForPreTraining model).\n",
      "- This IS NOT expected if you are initializing AlbertForSequenceClassification from the checkpoint of a model that you expect to be exactly identical (initializing a BertForSequenceClassification model from a BertForSequenceClassification model).\n",
      "Some weights of AlbertForSequenceClassification were not initialized from the model checkpoint at albert-base-v2 and are newly initialized: ['classifier.weight', 'classifier.bias']\n",
      "You should probably TRAIN this model on a down-stream task to be able to use it for predictions and inference.\n"
     ]
    }
   ],
   "source": [
    "from transformers import BertTokenizer, BertForSequenceClassification\n",
    "from transformers import RobertaTokenizer, RobertaForSequenceClassification\n",
    "from transformers import XLMRobertaTokenizer, XLMRobertaForSequenceClassification\n",
    "from transformers import AlbertTokenizer, AlbertForSequenceClassification\n",
    "\n",
    "bert_tokeninzer = AlbertTokenizer.from_pretrained('albert-base-v2')\n",
    "bert_tokeninzer.save_pretrained(OUTPUT_DIR/f\"albert-base-v2\")\n",
    "bert_model = AlbertForSequenceClassification.from_pretrained('albert-base-v2')\n",
    "bert_model.save_pretrained(OUTPUT_DIR/'albert-base-v2')"
   ]
  },
  {
   "cell_type": "code",
   "execution_count": 72,
   "id": "d0d689b6",
   "metadata": {},
   "outputs": [
    {
     "data": {
      "text/plain": [
       "{'toxicity': 0.0058559845,\n",
       " 'severe_toxicity': 2.6555358e-06,\n",
       " 'obscene': 0.00012663109,\n",
       " 'identity_attack': 0.0001412511,\n",
       " 'insult': 0.0049695116,\n",
       " 'threat': 0.00011448261,\n",
       " 'sexual_explicit': 0.00010405782}"
      ]
     },
     "execution_count": 72,
     "metadata": {},
     "output_type": "execute_result"
    }
   ],
   "source": [
    "detox_model = Detoxify(\n",
    "    'unbiased-small', \n",
    "    checkpoint=\"../data/external/detoxify_ckpt/unbiased-albert-c8519128.ckpt\",\n",
    "    device=\"cuda\"\n",
    ")\n",
    "detox_model.predict(train_df[\"comment_text\"].tolist()[0])"
   ]
  },
  {
   "cell_type": "code",
   "execution_count": 73,
   "id": "51d38931",
   "metadata": {},
   "outputs": [
    {
     "data": {
      "application/vnd.jupyter.widget-view+json": {
       "model_id": "d0fd52a770f2418b8e0478130d399832",
       "version_major": 2,
       "version_minor": 0
      },
      "text/plain": [
       "  0%|          | 0/30108 [00:00<?, ?it/s]"
      ]
     },
     "metadata": {},
     "output_type": "display_data"
    },
    {
     "data": {
      "application/vnd.jupyter.widget-view+json": {
       "model_id": "d5e4b78cd62249f784019bd28bda29d3",
       "version_major": 2,
       "version_minor": 0
      },
      "text/plain": [
       "  0%|          | 0/30108 [00:00<?, ?it/s]"
      ]
     },
     "metadata": {},
     "output_type": "display_data"
    }
   ],
   "source": [
    "val_df['more_detoxify_unb_small_score'] = val_df['more_toxic'].progress_map(lambda line: detox_model.predict(line))\n",
    "val_df['less_detoxify_unb_small_score'] = val_df['less_toxic'].progress_map(lambda line: detox_model.predict(line))\n",
    "\n",
    "more_detoxify_df = val_df[\"more_detoxify_unb_small_score\"].apply(pd.Series)\n",
    "less_detoxify_df = val_df[\"less_detoxify_unb_small_score\"].apply(pd.Series)\n"
   ]
  },
  {
   "cell_type": "code",
   "execution_count": 74,
   "id": "8a748880",
   "metadata": {},
   "outputs": [
    {
     "name": "stdout",
     "output_type": "stream",
     "text": [
      "Detoxify Unbiased Small Model Score: 0.683606\n"
     ]
    }
   ],
   "source": [
    "detoxify_cols = more_detoxify_df.columns.tolist()\n",
    "\n",
    "OOF_DF[\"more_detoxify_unb_small_score\"] = more_detoxify_df[detoxify_cols].sum(axis=1)\n",
    "OOF_DF[\"less_detoxify_unb_small_score\"] = less_detoxify_df[detoxify_cols].sum(axis=1)\n",
    "OOF_DF[\"detoxify_unb_small_diff\"] = OOF_DF[\"more_detoxify_unb_small_score\"] - OOF_DF[\"less_detoxify_unb_small_score\"]\n",
    "detoxify_score = OOF_DF[OOF_DF[\"detoxify_unb_small_diff\"]>0][\"detoxify_unb_small_diff\"].count()/len(OOF_DF)\n",
    "print(f\"Detoxify Unbiased Small Model Score: {detoxify_score:.6f}\")"
   ]
  },
  {
   "cell_type": "code",
   "execution_count": 80,
   "id": "bcb37a17",
   "metadata": {},
   "outputs": [
    {
     "name": "stdout",
     "output_type": "stream",
     "text": [
      "Ensemble Score: 0.700578\n"
     ]
    }
   ],
   "source": [
    "\n",
    "more_cols = [\n",
    "#     \"Ridge_more_pred\",\n",
    "#     \"Ruddit_Ridge_more_pred\",\n",
    "    \"more_detoxify_score\",\n",
    "    \"more_detoxify_unbiased_score\",\n",
    "    \"more_detoxify_multi_score\",\n",
    "    \"more_detoxify_ori_small_score\",\n",
    "    \"more_detoxify_unb_small_score\"\n",
    "]\n",
    "\n",
    "less_cols = [\n",
    "#     \"Ridge_less_pred\",\n",
    "#     \"Ruddit_Ridge_less_pred\",\n",
    "    \"less_detoxify_score\",\n",
    "    \"less_detoxify_unbiased_score\",\n",
    "    \"less_detoxify_multi_score\",\n",
    "    \"less_detoxify_ori_small_score\",\n",
    "    \"less_detoxify_unb_small_score\"\n",
    "]\n",
    "\n",
    "OOF_DF[\"ensemble_more\"] = OOF_DF[more_cols].mean(axis=1)\n",
    "OOF_DF[\"ensemble_less\"] = OOF_DF[less_cols].mean(axis=1)\n",
    "\n",
    "OOF_DF[\"ensemble_diff\"] = OOF_DF[\"ensemble_more\"] - OOF_DF[\"ensemble_less\"]\n",
    "detoxify_score = OOF_DF[OOF_DF[\"ensemble_diff\"]>0][\"ensemble_diff\"].count()/len(OOF_DF)\n",
    "print(f\"Ensemble Score: {detoxify_score:.6f}\")"
   ]
  },
  {
   "cell_type": "code",
   "execution_count": 77,
   "id": "0db05301",
   "metadata": {},
   "outputs": [
    {
     "name": "stdout",
     "output_type": "stream",
     "text": [
      "8945\n"
     ]
    }
   ],
   "source": [
    "whole_text = list(set(val_df[\"less_toxic\"].unique().tolist())&set(val_df[\"more_toxic\"].unique().tolist()))\n",
    "print(len(whole_text))"
   ]
  },
  {
   "cell_type": "code",
   "execution_count": null,
   "id": "361a5922",
   "metadata": {},
   "outputs": [],
   "source": []
  }
 ],
 "metadata": {
  "kernelspec": {
   "display_name": "Python 3 (ipykernel)",
   "language": "python",
   "name": "python3"
  },
  "language_info": {
   "codemirror_mode": {
    "name": "ipython",
    "version": 3
   },
   "file_extension": ".py",
   "mimetype": "text/x-python",
   "name": "python",
   "nbconvert_exporter": "python",
   "pygments_lexer": "ipython3",
   "version": "3.7.10"
  },
  "toc-autonumbering": true
 },
 "nbformat": 4,
 "nbformat_minor": 5
}
