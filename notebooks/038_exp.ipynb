{
 "cells": [
  {
   "cell_type": "markdown",
   "id": "15a2b8a8",
   "metadata": {},
   "source": [
    "![](https://images.unsplash.com/photo-1602084551218-a28205125639?ixlib=rb-1.2.1&ixid=MnwxMjA3fDB8MHxwaG90by1wYWdlfHx8fGVufDB8fHx8&auto=format&fit=crop&w=2070&q=80)"
   ]
  },
  {
   "cell_type": "markdown",
   "id": "0cab2e56",
   "metadata": {},
   "source": [
    "<div class = 'alert alert-block alert-info'\n",
    "     style = 'background-color:#4c1c84;\n",
    "              color:#eeebf1;\n",
    "              border-width:5px;\n",
    "              border-color:#4c1c84;\n",
    "              font-family:Comic Sans MS;\n",
    "              border-radius: 50px 50px'>\n",
    "    <p style = 'font-size:24px'>Exp 038</p>\n",
    "    <a href = \"#Config\"\n",
    "       style = \"color:#eeebf1;\n",
    "                font-size:14px\">1.Config</a><br>\n",
    "    <a href = \"#Settings\"\n",
    "       style = \"color:#eeebf1;\n",
    "                font-size:14px\">2.Settings</a><br>\n",
    "    <a href = \"#Data-Load\"\n",
    "       style = \"color:#eeebf1;\n",
    "                font-size:14px\">3.Data Load</a><br>\n",
    "    <a href = \"#Pytorch-Settings\"\n",
    "       style = \"color:#eeebf1;\n",
    "                font-size:14px\">4.Pytorch Settings</a><br>\n",
    "    <a href = \"#Training\"\n",
    "       style = \"color:#eeebf1;\n",
    "                font-size:14px\">5.Training</a><br>\n",
    "</div>\n",
    "\n",
    "<p style = 'font-size:24px;\n",
    "            color:#4c1c84'>\n",
    "    実施したこと\n",
    "</p>\n",
    "    <li style = \"color:#4c1c84;\n",
    "                font-size:14px\">Psuedo Labeling</li>\n",
    "    <li style = \"color:#4c1c84;\n",
    "                font-size:14px\">037-expのモデルでtestも交えて学習</li>"
   ]
  },
  {
   "cell_type": "code",
   "execution_count": null,
   "id": "c7d59224",
   "metadata": {},
   "outputs": [],
   "source": []
  },
  {
   "cell_type": "markdown",
   "id": "accd2c7c",
   "metadata": {},
   "source": [
    "<br>\n",
    "<h1 style = \"font-size:45px; font-family:Comic Sans MS ; font-weight : normal; background-color: #4c1c84 ; color : #eeebf1; text-align: center; border-radius: 100px 100px;\">\n",
    "    Config\n",
    "</h1>\n",
    "<br>"
   ]
  },
  {
   "cell_type": "code",
   "execution_count": 4,
   "id": "d81e71f0",
   "metadata": {},
   "outputs": [],
   "source": [
    "import sys\n",
    "sys.path.append(\"../src/utils/iterative-stratification/\")\n",
    "sys.path.append(\"../src/utils/detoxify\")\n",
    "sys.path.append(\"../src/utils/coral-pytorch/\")\n",
    "sys.path.append(\"../src/utils/pyspellchecker\")"
   ]
  },
  {
   "cell_type": "code",
   "execution_count": 5,
   "id": "ceb2f048",
   "metadata": {},
   "outputs": [
    {
     "name": "stdout",
     "output_type": "stream",
     "text": [
      "Looking in links: ../src/utils/faiss/\n",
      "Requirement already satisfied: faiss-gpu==1.6.3 in /opt/conda/lib/python3.7/site-packages (1.6.3)\n",
      "Requirement already satisfied: numpy in /opt/conda/lib/python3.7/site-packages (from faiss-gpu==1.6.3) (1.19.5)\n",
      "\u001b[33mWARNING: Running pip as the 'root' user can result in broken permissions and conflicting behaviour with the system package manager. It is recommended to use a virtual environment instead: https://pip.pypa.io/warnings/venv\u001b[0m\n"
     ]
    }
   ],
   "source": [
    "!pip install --no-index --find-links ../src/utils/faiss/ faiss-gpu==1.6.3"
   ]
  },
  {
   "cell_type": "code",
   "execution_count": 6,
   "id": "81f10700",
   "metadata": {},
   "outputs": [],
   "source": [
    "import warnings\n",
    "warnings.simplefilter('ignore')\n",
    "\n",
    "import os\n",
    "import gc\n",
    "gc.enable()\n",
    "import sys\n",
    "import glob\n",
    "import copy\n",
    "import math\n",
    "import time\n",
    "import random\n",
    "import string\n",
    "import psutil\n",
    "import pathlib\n",
    "from pathlib import Path\n",
    "from contextlib import contextmanager\n",
    "from collections import defaultdict\n",
    "from box import Box\n",
    "from typing import Optional\n",
    "from pprint import pprint\n",
    "\n",
    "import numpy as np\n",
    "import pandas as pd\n",
    "import matplotlib.pyplot as plt\n",
    "import seaborn as sns\n",
    "import japanize_matplotlib\n",
    "\n",
    "from tqdm.auto import tqdm as tqdmp\n",
    "from tqdm.autonotebook import tqdm as tqdm\n",
    "tqdmp.pandas()\n",
    "\n",
    "## Model\n",
    "from sklearn.metrics import mean_squared_error\n",
    "from sklearn.model_selection import StratifiedKFold, KFold, GroupKFold\n",
    "import torch\n",
    "import torch.nn as nn\n",
    "import torch.nn.functional as F\n",
    "from torch.utils.data import Dataset, DataLoader\n",
    "from transformers import AutoTokenizer, AutoModel, AdamW, AutoModelForSequenceClassification\n",
    "from transformers import RobertaModel, RobertaForSequenceClassification\n",
    "from transformers import RobertaTokenizer\n",
    "from transformers import LukeTokenizer, LukeModel, LukeConfig\n",
    "from transformers import get_linear_schedule_with_warmup, get_cosine_schedule_with_warmup\n",
    "from transformers import BertTokenizer, BertForSequenceClassification, BertForMaskedLM\n",
    "from transformers import RobertaTokenizer, RobertaForSequenceClassification\n",
    "from transformers import XLMRobertaTokenizer, XLMRobertaForSequenceClassification\n",
    "from transformers import DebertaTokenizer, DebertaModel\n",
    "from transformers import DistilBertTokenizer, DistilBertModel\n",
    "\n",
    "# Pytorch Lightning\n",
    "import pytorch_lightning as pl\n",
    "from pytorch_lightning.utilities.seed import seed_everything\n",
    "from pytorch_lightning import callbacks\n",
    "from pytorch_lightning.callbacks.progress import ProgressBarBase\n",
    "from pytorch_lightning import LightningDataModule, LightningDataModule\n",
    "from pytorch_lightning import Trainer\n",
    "from pytorch_lightning.callbacks import ModelCheckpoint, EarlyStopping, LearningRateMonitor\n",
    "from pytorch_lightning.loggers import WandbLogger\n",
    "from pytorch_lightning.loggers.csv_logs import CSVLogger\n",
    "from pytorch_lightning.callbacks import RichProgressBar\n",
    "\n",
    "from sklearn.linear_model import Ridge\n",
    "from sklearn.svm import SVC, SVR\n",
    "from sklearn.feature_extraction.text import TfidfVectorizer\n",
    "from scipy.stats import rankdata\n",
    "from cuml.svm import SVR as cuml_SVR\n",
    "from cuml.linear_model import Ridge as cuml_Ridge\n",
    "import cudf\n",
    "from detoxify import Detoxify\n",
    "from iterstrat.ml_stratifiers import MultilabelStratifiedKFold\n",
    "\n",
    "from ast import literal_eval\n",
    "from nltk.tokenize import TweetTokenizer\n",
    "import spacy\n",
    "from scipy.stats import sem\n",
    "from copy import deepcopy\n",
    "from spellchecker import SpellChecker\n",
    "from typing import Text, Set, List\n",
    "\n",
    "import faiss\n",
    "import cudf, cuml, cupy\n",
    "from cuml.feature_extraction.text import TfidfVectorizer as cuTfidfVectorizer\n",
    "from cuml.neighbors import NearestNeighbors as cuNearestNeighbors\n",
    "from cuml.decomposition.tsvd import TruncatedSVD as cuTruncatedSVD"
   ]
  },
  {
   "cell_type": "code",
   "execution_count": 7,
   "id": "8c8a2e8d",
   "metadata": {},
   "outputs": [
    {
     "name": "stderr",
     "output_type": "stream",
     "text": [
      "Some weights of the model checkpoint at roberta-base were not used when initializing RobertaModel: ['lm_head.dense.weight', 'lm_head.layer_norm.weight', 'lm_head.decoder.weight', 'lm_head.bias', 'lm_head.dense.bias', 'lm_head.layer_norm.bias']\n",
      "- This IS expected if you are initializing RobertaModel from the checkpoint of a model trained on another task or with another architecture (e.g. initializing a BertForSequenceClassification model from a BertForPreTraining model).\n",
      "- This IS NOT expected if you are initializing RobertaModel from the checkpoint of a model that you expect to be exactly identical (initializing a BertForSequenceClassification model from a BertForSequenceClassification model).\n"
     ]
    }
   ],
   "source": [
    "import torch\n",
    "\n",
    "config = {\n",
    "    \"exp_comment\":\"Psuedo Labeling\",\n",
    "    \"seed\": 42,\n",
    "    \"root\": \"/content/drive/MyDrive/kaggle/Jigsaw/raw\",\n",
    "    \"n_fold\": 5,\n",
    "    \"epoch\": 5,\n",
    "    \"max_length\": 256,\n",
    "    \"environment\": \"AWS\",\n",
    "    \"project\": \"Jigsaw\",\n",
    "    \"entity\": \"dataskywalker\",\n",
    "    \"exp_name\": \"038_exp\",\n",
    "    \"margin\": 0.5,\n",
    "    \"train_fold\": [0, 1, 2, 3, 4],\n",
    "\n",
    "    \"trainer\": {\n",
    "        \"gpus\": 1,\n",
    "        \"accumulate_grad_batches\": 8,\n",
    "        \"progress_bar_refresh_rate\": 1,\n",
    "        \"fast_dev_run\": True,\n",
    "        \"num_sanity_val_steps\": 0,\n",
    "    },\n",
    "\n",
    "    \"train_loader\": {\n",
    "        \"batch_size\": 8,\n",
    "        \"shuffle\": True,\n",
    "        \"num_workers\": 1,\n",
    "        \"pin_memory\": True,\n",
    "        \"drop_last\": True,\n",
    "    },\n",
    "\n",
    "    \"valid_loader\": {\n",
    "        \"batch_size\": 2,\n",
    "        \"shuffle\": False,\n",
    "        \"num_workers\": 1,\n",
    "        \"pin_memory\": True,\n",
    "        \"drop_last\": False,\n",
    "    },\n",
    "\n",
    "    \"test_loader\": {\n",
    "        \"batch_size\": 2,\n",
    "        \"shuffle\": False,\n",
    "        \"num_workers\": 1,\n",
    "        \"pin_memory\": True,\n",
    "        \"drop_last\": False,\n",
    "    },\n",
    "\n",
    "    \"backbone\": {\n",
    "        \"name\": \"roberta-base\",\n",
    "        \"output_dim\": 1,\n",
    "    },\n",
    "\n",
    "    \"optimizer\": {\n",
    "        \"name\": \"torch.optim.AdamW\",\n",
    "        \"params\": {\n",
    "            \"lr\": 1e-6,\n",
    "        },\n",
    "    },\n",
    "\n",
    "    \"scheduler\": {\n",
    "        \"name\": \"torch.optim.lr_scheduler.CosineAnnealingWarmRestarts\",\n",
    "        \"params\": {\n",
    "            \"T_0\": 20,\n",
    "            \"eta_min\": 0,\n",
    "        },\n",
    "    },\n",
    "\n",
    "    \"loss\": \"nn.MarginRankingLoss\",\n",
    "}\n",
    "\n",
    "config = Box(config)\n",
    "config.tokenizer = RobertaTokenizer.from_pretrained(config.backbone.name)\n",
    "config.model = RobertaModel.from_pretrained(config.backbone.name)\n",
    "# pprint(config)"
   ]
  },
  {
   "cell_type": "code",
   "execution_count": 8,
   "id": "6b307a83",
   "metadata": {},
   "outputs": [
    {
     "name": "stderr",
     "output_type": "stream",
     "text": [
      "Some weights of the model checkpoint at roberta-base were not used when initializing RobertaModel: ['lm_head.dense.weight', 'lm_head.layer_norm.weight', 'lm_head.decoder.weight', 'lm_head.bias', 'lm_head.dense.bias', 'lm_head.layer_norm.bias']\n",
      "- This IS expected if you are initializing RobertaModel from the checkpoint of a model trained on another task or with another architecture (e.g. initializing a BertForSequenceClassification model from a BertForPreTraining model).\n",
      "- This IS NOT expected if you are initializing RobertaModel from the checkpoint of a model that you expect to be exactly identical (initializing a BertForSequenceClassification model from a BertForSequenceClassification model).\n"
     ]
    }
   ],
   "source": [
    "config.tokenizer.save_pretrained(f\"../data/processed/{config.backbone.name}\")\n",
    "pretrain_model = RobertaModel.from_pretrained(config.backbone.name)\n",
    "pretrain_model.save_pretrained(f\"../data/processed/{config.backbone.name}\")"
   ]
  },
  {
   "cell_type": "code",
   "execution_count": 9,
   "id": "63f38c0b",
   "metadata": {},
   "outputs": [
    {
     "name": "stdout",
     "output_type": "stream",
     "text": [
      "Your environment is 'AWS'.\n",
      "INPUT_DIR is /mnt/work/data/kaggle/Jigsaw\n",
      "MODEL_DIR is ../models/038_exp\n",
      "OUTPUT_DIR is ../data/interim/038_exp\n",
      "UTIL_DIR is /mnt/work/shimizu/kaggle/PetFinder/src/utils\n"
     ]
    }
   ],
   "source": [
    "# 個人的にAWSやKaggle環境やGoogle Colabを行ったり来たりしているのでまとめています\n",
    "import os\n",
    "import sys\n",
    "from pathlib import Path\n",
    "\n",
    "if config.environment == 'AWS':\n",
    "    \n",
    "    INPUT_DIR = Path('/mnt/work/data/kaggle/Jigsaw/')\n",
    "    MODEL_DIR = Path(f'../models/{config.exp_name}/')\n",
    "    OUTPUT_DIR = Path(f'../data/interim/{config.exp_name}/')\n",
    "    UTIL_DIR = Path('/mnt/work/shimizu/kaggle/PetFinder/src/utils')\n",
    "    \n",
    "    os.makedirs(MODEL_DIR, exist_ok=True)\n",
    "    os.makedirs(OUTPUT_DIR, exist_ok=True)\n",
    "    \n",
    "    print(f\"Your environment is 'AWS'.\\nINPUT_DIR is {INPUT_DIR}\\nMODEL_DIR is {MODEL_DIR}\\nOUTPUT_DIR is {OUTPUT_DIR}\\nUTIL_DIR is {UTIL_DIR}\")\n",
    "    \n",
    "    \n",
    "elif config.environment == 'Kaggle':\n",
    "    INPUT_DIR = Path('../input/*****')\n",
    "    MODEL_DIR = Path('./')\n",
    "    OUTPUT_DIR = Path('./')\n",
    "    print(f\"Your environment is 'Kaggle'.\\nINPUT_DIR is {INPUT_DIR}\\nMODEL_DIR is {MODEL_DIR}\\nOUTPUT_DIR is {OUTPUT_DIR}\")\n",
    "\n",
    "    \n",
    "elif config.environment == 'Colab':\n",
    "    INPUT_DIR = Path('/content/drive/MyDrive/kaggle/Jigsaw/raw')\n",
    "    BASE_DIR = Path(\"/content/drive/MyDrive/kaggle/Jigsaw/interim\")\n",
    "\n",
    "    MODEL_DIR = BASE_DIR / f'{config.exp_name}'\n",
    "    OUTPUT_DIR = BASE_DIR / f'{config.exp_name}/'\n",
    "\n",
    "    os.makedirs(MODEL_DIR, exist_ok=True)\n",
    "    os.makedirs(OUTPUT_DIR, exist_ok=True)\n",
    "    \n",
    "    if not os.path.exists(INPUT_DIR):\n",
    "        print('Please Mount your Google Drive.')\n",
    "    else:\n",
    "        print(f\"Your environment is 'Colab'.\\nINPUT_DIR is {INPUT_DIR}\\nMODEL_DIR is {MODEL_DIR}\\nOUTPUT_DIR is {OUTPUT_DIR}\")\n",
    "        \n",
    "else:\n",
    "    print(\"Please choose 'AWS' or 'Kaggle' or 'Colab'.\\nINPUT_DIR is not found.\")"
   ]
  },
  {
   "cell_type": "code",
   "execution_count": 10,
   "id": "e39da0c3",
   "metadata": {},
   "outputs": [
    {
     "data": {
      "text/plain": [
       "42"
      ]
     },
     "execution_count": 10,
     "metadata": {},
     "output_type": "execute_result"
    }
   ],
   "source": [
    "# Seed固定\n",
    "seed_everything(config.seed)"
   ]
  },
  {
   "cell_type": "code",
   "execution_count": 11,
   "id": "b201e4eb",
   "metadata": {},
   "outputs": [],
   "source": [
    "## 処理時間計測\n",
    "@contextmanager\n",
    "def timer(name:str, slack:bool=False):\n",
    "    t0 = time.time()\n",
    "    p = psutil.Process(os.getpid())\n",
    "    m0 = p.memory_info()[0] / 2. ** 30\n",
    "    print(f'<< {name} >> Start')\n",
    "    yield\n",
    "    \n",
    "    m1 = p.memory_info()[0] / 2. ** 30\n",
    "    delta = m1 - m0\n",
    "    sign = '+' if delta >= 0 else '-'\n",
    "    delta = math.fabs(delta)\n",
    "    \n",
    "    print(f\"<< {name} >> {m1:.1f}GB({sign}{delta:.1f}GB):{time.time() - t0:.1f}sec\", file=sys.stderr)"
   ]
  },
  {
   "cell_type": "markdown",
   "id": "8c59e9a6",
   "metadata": {
    "id": "zWE2XhHeTFos"
   },
   "source": [
    "<br>\n",
    "<h1 style = \"font-size:45px; font-family:Comic Sans MS ; font-weight : normal; background-color: #4c1c84 ; color : #eeebf1; text-align: center; border-radius: 100px 100px;\">\n",
    "    Data Load\n",
    "</h1>\n",
    "<br>"
   ]
  },
  {
   "cell_type": "code",
   "execution_count": 12,
   "id": "13c3f686",
   "metadata": {
    "colab": {
     "base_uri": "https://localhost:8080/"
    },
    "id": "3DFxNX0CTD9t",
    "outputId": "240b449b-9f09-4519-d155-b4f865053621"
   },
   "outputs": [
    {
     "name": "stdout",
     "output_type": "stream",
     "text": [
      "/mnt/work/data/kaggle/Jigsaw/comments_to_score.csv\n",
      "/mnt/work/data/kaggle/Jigsaw/sample_submission.csv\n",
      "/mnt/work/data/kaggle/Jigsaw/validation_data.csv\n"
     ]
    }
   ],
   "source": [
    "## Data Check\n",
    "for dirnames, _, filenames in os.walk(INPUT_DIR):\n",
    "    \n",
    "    for filename in filenames:\n",
    "\n",
    "        print(f'{dirnames}/{filename}')"
   ]
  },
  {
   "cell_type": "code",
   "execution_count": 13,
   "id": "b2e8d954",
   "metadata": {},
   "outputs": [
    {
     "data": {
      "text/html": [
       "<div>\n",
       "<style scoped>\n",
       "    .dataframe tbody tr th:only-of-type {\n",
       "        vertical-align: middle;\n",
       "    }\n",
       "\n",
       "    .dataframe tbody tr th {\n",
       "        vertical-align: top;\n",
       "    }\n",
       "\n",
       "    .dataframe thead th {\n",
       "        text-align: right;\n",
       "    }\n",
       "</style>\n",
       "<table border=\"1\" class=\"dataframe\">\n",
       "  <thead>\n",
       "    <tr style=\"text-align: right;\">\n",
       "      <th></th>\n",
       "      <th>worker</th>\n",
       "      <th>less_toxic</th>\n",
       "      <th>more_toxic</th>\n",
       "    </tr>\n",
       "  </thead>\n",
       "  <tbody>\n",
       "    <tr>\n",
       "      <th>0</th>\n",
       "      <td>313</td>\n",
       "      <td>This article sucks \\n\\nwoo woo wooooooo</td>\n",
       "      <td>WHAT!!!!!!!!?!?!!?!?!!?!?!?!?!!!!!!!!!!!!!!!!!...</td>\n",
       "    </tr>\n",
       "    <tr>\n",
       "      <th>1</th>\n",
       "      <td>188</td>\n",
       "      <td>\"And yes, people should recognize that but the...</td>\n",
       "      <td>Daphne Guinness \\n\\nTop of the mornin' my fav...</td>\n",
       "    </tr>\n",
       "    <tr>\n",
       "      <th>2</th>\n",
       "      <td>82</td>\n",
       "      <td>Western Media?\\n\\nYup, because every crime in...</td>\n",
       "      <td>\"Atom you don't believe actual photos of mastu...</td>\n",
       "    </tr>\n",
       "    <tr>\n",
       "      <th>3</th>\n",
       "      <td>347</td>\n",
       "      <td>And you removed it! You numbskull! I don't car...</td>\n",
       "      <td>You seem to have sand in your vagina.\\n\\nMight...</td>\n",
       "    </tr>\n",
       "    <tr>\n",
       "      <th>4</th>\n",
       "      <td>539</td>\n",
       "      <td>smelly vagina \\n\\nBluerasberry why don't you ...</td>\n",
       "      <td>hey \\n\\nway to support nazis, you racist</td>\n",
       "    </tr>\n",
       "  </tbody>\n",
       "</table>\n",
       "</div>"
      ],
      "text/plain": [
       "   worker                                         less_toxic  \\\n",
       "0     313            This article sucks \\n\\nwoo woo wooooooo   \n",
       "1     188  \"And yes, people should recognize that but the...   \n",
       "2      82   Western Media?\\n\\nYup, because every crime in...   \n",
       "3     347  And you removed it! You numbskull! I don't car...   \n",
       "4     539   smelly vagina \\n\\nBluerasberry why don't you ...   \n",
       "\n",
       "                                          more_toxic  \n",
       "0  WHAT!!!!!!!!?!?!!?!?!!?!?!?!?!!!!!!!!!!!!!!!!!...  \n",
       "1   Daphne Guinness \\n\\nTop of the mornin' my fav...  \n",
       "2  \"Atom you don't believe actual photos of mastu...  \n",
       "3  You seem to have sand in your vagina.\\n\\nMight...  \n",
       "4           hey \\n\\nway to support nazis, you racist  "
      ]
     },
     "metadata": {},
     "output_type": "display_data"
    },
    {
     "data": {
      "text/html": [
       "<div>\n",
       "<style scoped>\n",
       "    .dataframe tbody tr th:only-of-type {\n",
       "        vertical-align: middle;\n",
       "    }\n",
       "\n",
       "    .dataframe tbody tr th {\n",
       "        vertical-align: top;\n",
       "    }\n",
       "\n",
       "    .dataframe thead th {\n",
       "        text-align: right;\n",
       "    }\n",
       "</style>\n",
       "<table border=\"1\" class=\"dataframe\">\n",
       "  <thead>\n",
       "    <tr style=\"text-align: right;\">\n",
       "      <th></th>\n",
       "      <th>comment_id</th>\n",
       "      <th>text</th>\n",
       "    </tr>\n",
       "  </thead>\n",
       "  <tbody>\n",
       "    <tr>\n",
       "      <th>0</th>\n",
       "      <td>114890</td>\n",
       "      <td>\"\\n \\n\\nGjalexei, you asked about whether ther...</td>\n",
       "    </tr>\n",
       "    <tr>\n",
       "      <th>1</th>\n",
       "      <td>732895</td>\n",
       "      <td>Looks like be have an abuser , can you please ...</td>\n",
       "    </tr>\n",
       "    <tr>\n",
       "      <th>2</th>\n",
       "      <td>1139051</td>\n",
       "      <td>I confess to having complete (and apparently b...</td>\n",
       "    </tr>\n",
       "    <tr>\n",
       "      <th>3</th>\n",
       "      <td>1434512</td>\n",
       "      <td>\"\\n\\nFreud's ideas are certainly much discusse...</td>\n",
       "    </tr>\n",
       "    <tr>\n",
       "      <th>4</th>\n",
       "      <td>2084821</td>\n",
       "      <td>It is not just you. This is a laundry list of ...</td>\n",
       "    </tr>\n",
       "  </tbody>\n",
       "</table>\n",
       "</div>"
      ],
      "text/plain": [
       "   comment_id                                               text\n",
       "0      114890  \"\\n \\n\\nGjalexei, you asked about whether ther...\n",
       "1      732895  Looks like be have an abuser , can you please ...\n",
       "2     1139051  I confess to having complete (and apparently b...\n",
       "3     1434512  \"\\n\\nFreud's ideas are certainly much discusse...\n",
       "4     2084821  It is not just you. This is a laundry list of ..."
      ]
     },
     "metadata": {},
     "output_type": "display_data"
    }
   ],
   "source": [
    "val_df = pd.read_csv(\"/mnt/work/data/kaggle/Jigsaw/validation_data.csv\")\n",
    "test_df = pd.read_csv(\"/mnt/work/data/kaggle/Jigsaw/comments_to_score.csv\")\n",
    "\n",
    "display(val_df.head())\n",
    "display(test_df.head())"
   ]
  },
  {
   "cell_type": "code",
   "execution_count": 14,
   "id": "fd147972",
   "metadata": {},
   "outputs": [
    {
     "name": "stdout",
     "output_type": "stream",
     "text": [
      "<< Count less text & more text >> Start\n"
     ]
    },
    {
     "data": {
      "text/html": [
       "<div>\n",
       "<style scoped>\n",
       "    .dataframe tbody tr th:only-of-type {\n",
       "        vertical-align: middle;\n",
       "    }\n",
       "\n",
       "    .dataframe tbody tr th {\n",
       "        vertical-align: top;\n",
       "    }\n",
       "\n",
       "    .dataframe thead th {\n",
       "        text-align: right;\n",
       "    }\n",
       "</style>\n",
       "<table border=\"1\" class=\"dataframe\">\n",
       "  <thead>\n",
       "    <tr style=\"text-align: right;\">\n",
       "      <th></th>\n",
       "      <th>text</th>\n",
       "      <th>less_count</th>\n",
       "      <th>more_count</th>\n",
       "      <th>target</th>\n",
       "    </tr>\n",
       "  </thead>\n",
       "  <tbody>\n",
       "    <tr>\n",
       "      <th>0</th>\n",
       "      <td>\\n\\nThe comment directly above this one are fr...</td>\n",
       "      <td>1.0</td>\n",
       "      <td>2.0</td>\n",
       "      <td>0.666667</td>\n",
       "    </tr>\n",
       "    <tr>\n",
       "      <th>1</th>\n",
       "      <td>\\n\\nwhy should people have to read crap posted...</td>\n",
       "      <td>1.0</td>\n",
       "      <td>8.0</td>\n",
       "      <td>0.888889</td>\n",
       "    </tr>\n",
       "    <tr>\n",
       "      <th>2</th>\n",
       "      <td>\\nGo F yourself you cottonheadednittymuggins.</td>\n",
       "      <td>1.0</td>\n",
       "      <td>2.0</td>\n",
       "      <td>0.666667</td>\n",
       "    </tr>\n",
       "    <tr>\n",
       "      <th>3</th>\n",
       "      <td>\\nU POUR ADMIN, U UPDATE VANDAL COUNT, WHILE R...</td>\n",
       "      <td>3.0</td>\n",
       "      <td>0.0</td>\n",
       "      <td>0.000000</td>\n",
       "    </tr>\n",
       "    <tr>\n",
       "      <th>4</th>\n",
       "      <td>\\n\\n koreans claim  \\n\\ni see youve seen the ...</td>\n",
       "      <td>4.0</td>\n",
       "      <td>2.0</td>\n",
       "      <td>0.333333</td>\n",
       "    </tr>\n",
       "    <tr>\n",
       "      <th>...</th>\n",
       "      <td>...</td>\n",
       "      <td>...</td>\n",
       "      <td>...</td>\n",
       "      <td>...</td>\n",
       "    </tr>\n",
       "    <tr>\n",
       "      <th>14246</th>\n",
       "      <td>{{unblock|The reason I used sockpuppets was to...</td>\n",
       "      <td>0.0</td>\n",
       "      <td>3.0</td>\n",
       "      <td>1.000000</td>\n",
       "    </tr>\n",
       "    <tr>\n",
       "      <th>14247</th>\n",
       "      <td>{{unblock}}  BECAUSE BAIL OUT IS THE BEST FUCK...</td>\n",
       "      <td>0.0</td>\n",
       "      <td>3.0</td>\n",
       "      <td>1.000000</td>\n",
       "    </tr>\n",
       "    <tr>\n",
       "      <th>14248</th>\n",
       "      <td>|Christopher Connor]]. I am off to my daily ma...</td>\n",
       "      <td>0.0</td>\n",
       "      <td>6.0</td>\n",
       "      <td>1.000000</td>\n",
       "    </tr>\n",
       "    <tr>\n",
       "      <th>14249</th>\n",
       "      <td>}} \\n\\nSomeone should address this fucking pro...</td>\n",
       "      <td>0.0</td>\n",
       "      <td>1.0</td>\n",
       "      <td>1.000000</td>\n",
       "    </tr>\n",
       "    <tr>\n",
       "      <th>14250</th>\n",
       "      <td>~What's with you that you're so annoying and p...</td>\n",
       "      <td>0.0</td>\n",
       "      <td>3.0</td>\n",
       "      <td>1.000000</td>\n",
       "    </tr>\n",
       "  </tbody>\n",
       "</table>\n",
       "<p>14251 rows × 4 columns</p>\n",
       "</div>"
      ],
      "text/plain": [
       "                                                    text  less_count  \\\n",
       "0      \\n\\nThe comment directly above this one are fr...         1.0   \n",
       "1      \\n\\nwhy should people have to read crap posted...         1.0   \n",
       "2          \\nGo F yourself you cottonheadednittymuggins.         1.0   \n",
       "3      \\nU POUR ADMIN, U UPDATE VANDAL COUNT, WHILE R...         3.0   \n",
       "4       \\n\\n koreans claim  \\n\\ni see youve seen the ...         4.0   \n",
       "...                                                  ...         ...   \n",
       "14246  {{unblock|The reason I used sockpuppets was to...         0.0   \n",
       "14247  {{unblock}}  BECAUSE BAIL OUT IS THE BEST FUCK...         0.0   \n",
       "14248  |Christopher Connor]]. I am off to my daily ma...         0.0   \n",
       "14249  }} \\n\\nSomeone should address this fucking pro...         0.0   \n",
       "14250  ~What's with you that you're so annoying and p...         0.0   \n",
       "\n",
       "       more_count    target  \n",
       "0             2.0  0.666667  \n",
       "1             8.0  0.888889  \n",
       "2             2.0  0.666667  \n",
       "3             0.0  0.000000  \n",
       "4             2.0  0.333333  \n",
       "...           ...       ...  \n",
       "14246         3.0  1.000000  \n",
       "14247         3.0  1.000000  \n",
       "14248         6.0  1.000000  \n",
       "14249         1.0  1.000000  \n",
       "14250         3.0  1.000000  \n",
       "\n",
       "[14251 rows x 4 columns]"
      ]
     },
     "metadata": {},
     "output_type": "display_data"
    },
    {
     "name": "stderr",
     "output_type": "stream",
     "text": [
      "<< Count less text & more text >> 2.6GB(+0.0GB):0.1sec\n"
     ]
    }
   ],
   "source": [
    "with timer(\"Count less text & more text\"):\n",
    "    less_df = val_df.groupby([\"less_toxic\"])[\"worker\"].agg(\"count\").reset_index()\n",
    "    less_df.columns = [\"text\", \"less_count\"]\n",
    "\n",
    "    more_df = val_df.groupby([\"more_toxic\"])[\"worker\"].agg(\"count\").reset_index()\n",
    "    more_df.columns = [\"text\", \"more_count\"]\n",
    "    \n",
    "    text_df = pd.merge(\n",
    "        less_df,\n",
    "        more_df,\n",
    "        on=\"text\",\n",
    "        how=\"outer\"\n",
    "    )\n",
    "\n",
    "    text_df[\"less_count\"] = text_df[\"less_count\"].fillna(0)\n",
    "    text_df[\"more_count\"] = text_df[\"more_count\"].fillna(0)\n",
    "    \n",
    "    text_df[\"target\"] = text_df[\"more_count\"]/(text_df[\"less_count\"] + text_df[\"more_count\"])\n",
    "    \n",
    "    display(text_df)"
   ]
  },
  {
   "cell_type": "markdown",
   "id": "6ceb7068",
   "metadata": {},
   "source": [
    "<br>\n",
    "<h1 style = \"font-size:45px; font-family:Comic Sans MS ; font-weight : normal; background-color: #4c1c84 ; color : #eeebf1; text-align: center; border-radius: 100px 100px;\">\n",
    "    Make Fold\n",
    "</h1>\n",
    "<br>"
   ]
  },
  {
   "cell_type": "code",
   "execution_count": 15,
   "id": "62325ac3",
   "metadata": {},
   "outputs": [
    {
     "data": {
      "text/html": [
       "<div>\n",
       "<style scoped>\n",
       "    .dataframe tbody tr th:only-of-type {\n",
       "        vertical-align: middle;\n",
       "    }\n",
       "\n",
       "    .dataframe tbody tr th {\n",
       "        vertical-align: top;\n",
       "    }\n",
       "\n",
       "    .dataframe thead th {\n",
       "        text-align: right;\n",
       "    }\n",
       "</style>\n",
       "<table border=\"1\" class=\"dataframe\">\n",
       "  <thead>\n",
       "    <tr style=\"text-align: right;\">\n",
       "      <th></th>\n",
       "      <th>worker</th>\n",
       "      <th>less_toxic</th>\n",
       "      <th>more_toxic</th>\n",
       "      <th>less_id</th>\n",
       "      <th>more_id</th>\n",
       "    </tr>\n",
       "  </thead>\n",
       "  <tbody>\n",
       "    <tr>\n",
       "      <th>0</th>\n",
       "      <td>313</td>\n",
       "      <td>This article sucks \\n\\nwoo woo wooooooo</td>\n",
       "      <td>WHAT!!!!!!!!?!?!!?!?!!?!?!?!?!!!!!!!!!!!!!!!!!...</td>\n",
       "      <td>3909</td>\n",
       "      <td>6942</td>\n",
       "    </tr>\n",
       "    <tr>\n",
       "      <th>1</th>\n",
       "      <td>188</td>\n",
       "      <td>\"And yes, people should recognize that but the...</td>\n",
       "      <td>Daphne Guinness \\n\\nTop of the mornin' my fav...</td>\n",
       "      <td>1911</td>\n",
       "      <td>6597</td>\n",
       "    </tr>\n",
       "    <tr>\n",
       "      <th>2</th>\n",
       "      <td>82</td>\n",
       "      <td>Western Media?\\n\\nYup, because every crime in...</td>\n",
       "      <td>\"Atom you don't believe actual photos of mastu...</td>\n",
       "      <td>907</td>\n",
       "      <td>5881</td>\n",
       "    </tr>\n",
       "    <tr>\n",
       "      <th>3</th>\n",
       "      <td>347</td>\n",
       "      <td>And you removed it! You numbskull! I don't car...</td>\n",
       "      <td>You seem to have sand in your vagina.\\n\\nMight...</td>\n",
       "      <td>9818</td>\n",
       "      <td>14195</td>\n",
       "    </tr>\n",
       "    <tr>\n",
       "      <th>4</th>\n",
       "      <td>539</td>\n",
       "      <td>smelly vagina \\n\\nBluerasberry why don't you ...</td>\n",
       "      <td>hey \\n\\nway to support nazis, you racist</td>\n",
       "      <td>4614</td>\n",
       "      <td>2195</td>\n",
       "    </tr>\n",
       "  </tbody>\n",
       "</table>\n",
       "</div>"
      ],
      "text/plain": [
       "   worker                                         less_toxic  \\\n",
       "0     313            This article sucks \\n\\nwoo woo wooooooo   \n",
       "1     188  \"And yes, people should recognize that but the...   \n",
       "2      82   Western Media?\\n\\nYup, because every crime in...   \n",
       "3     347  And you removed it! You numbskull! I don't car...   \n",
       "4     539   smelly vagina \\n\\nBluerasberry why don't you ...   \n",
       "\n",
       "                                          more_toxic  less_id  more_id  \n",
       "0  WHAT!!!!!!!!?!?!!?!?!!?!?!?!?!!!!!!!!!!!!!!!!!...     3909     6942  \n",
       "1   Daphne Guinness \\n\\nTop of the mornin' my fav...     1911     6597  \n",
       "2  \"Atom you don't believe actual photos of mastu...      907     5881  \n",
       "3  You seem to have sand in your vagina.\\n\\nMight...     9818    14195  \n",
       "4           hey \\n\\nway to support nazis, you racist     4614     2195  "
      ]
     },
     "execution_count": 15,
     "metadata": {},
     "output_type": "execute_result"
    }
   ],
   "source": [
    "texts = set(val_df[\"less_toxic\"].to_list() + val_df[\"more_toxic\"].to_list())\n",
    "text2id = {t:id for id,t in enumerate(texts)}\n",
    "val_df['less_id'] = val_df['less_toxic'].map(text2id)\n",
    "val_df['more_id'] = val_df['more_toxic'].map(text2id)\n",
    "val_df.head()"
   ]
  },
  {
   "cell_type": "code",
   "execution_count": 16,
   "id": "ad43246c",
   "metadata": {},
   "outputs": [],
   "source": [
    "len_ids = len(text2id)\n",
    "idarr = np.zeros((len_ids, len_ids), dtype=bool)\n",
    "\n",
    "for lid, mid in val_df[['less_id', 'more_id']].values:\n",
    "    min_id = min(lid, mid)\n",
    "    max_id = max(lid, mid)\n",
    "    idarr[max_id, min_id] = True"
   ]
  },
  {
   "cell_type": "code",
   "execution_count": 17,
   "id": "0b9637a6",
   "metadata": {},
   "outputs": [
    {
     "data": {
      "application/vnd.jupyter.widget-view+json": {
       "model_id": "4b9645036e89449f89ea8e4c5654af1a",
       "version_major": 2,
       "version_minor": 0
      },
      "text/plain": [
       "  0%|          | 0/14251 [00:00<?, ?it/s]"
      ]
     },
     "metadata": {},
     "output_type": "display_data"
    }
   ],
   "source": [
    "def add_ids(i, this_list):\n",
    "    for j in range(len_ids):\n",
    "        if idarr[i, j]:\n",
    "            idarr[i, j] = False\n",
    "            this_list.append(j)\n",
    "            this_list = add_ids(j,this_list)\n",
    "            #print(j,i)\n",
    "    for j in range(i+1,len_ids):\n",
    "        if idarr[j, i]:\n",
    "            idarr[j, i] = False\n",
    "            this_list.append(j)\n",
    "            this_list = add_ids(j,this_list)\n",
    "            #print(j,i)\n",
    "    return this_list\n",
    "\n",
    "group_list = []\n",
    "for i in tqdm(range(len_ids)):\n",
    "    for j in range(i+1,len_ids):\n",
    "        if idarr[j, i]:\n",
    "            this_list = add_ids(i,[i])\n",
    "#             print(this_list)\n",
    "            group_list.append(this_list)\n",
    "\n",
    "id2groupid = {}\n",
    "for gid,ids in enumerate(group_list):\n",
    "    for id in ids:\n",
    "        id2groupid[id] = gid\n",
    "\n",
    "val_df['less_gid'] = val_df['less_id'].map(id2groupid)\n",
    "val_df['more_gid'] = val_df['more_id'].map(id2groupid)"
   ]
  },
  {
   "cell_type": "code",
   "execution_count": 18,
   "id": "bd2fb531",
   "metadata": {},
   "outputs": [
    {
     "data": {
      "text/html": [
       "<div>\n",
       "<style scoped>\n",
       "    .dataframe tbody tr th:only-of-type {\n",
       "        vertical-align: middle;\n",
       "    }\n",
       "\n",
       "    .dataframe tbody tr th {\n",
       "        vertical-align: top;\n",
       "    }\n",
       "\n",
       "    .dataframe thead th {\n",
       "        text-align: right;\n",
       "    }\n",
       "</style>\n",
       "<table border=\"1\" class=\"dataframe\">\n",
       "  <thead>\n",
       "    <tr style=\"text-align: right;\">\n",
       "      <th></th>\n",
       "      <th>worker</th>\n",
       "      <th>less_toxic</th>\n",
       "      <th>more_toxic</th>\n",
       "      <th>less_id</th>\n",
       "      <th>more_id</th>\n",
       "      <th>less_gid</th>\n",
       "      <th>more_gid</th>\n",
       "    </tr>\n",
       "  </thead>\n",
       "  <tbody>\n",
       "    <tr>\n",
       "      <th>0</th>\n",
       "      <td>313</td>\n",
       "      <td>This article sucks \\n\\nwoo woo wooooooo</td>\n",
       "      <td>WHAT!!!!!!!!?!?!!?!?!!?!?!?!?!!!!!!!!!!!!!!!!!...</td>\n",
       "      <td>3909</td>\n",
       "      <td>6942</td>\n",
       "      <td>2470</td>\n",
       "      <td>2470</td>\n",
       "    </tr>\n",
       "    <tr>\n",
       "      <th>1</th>\n",
       "      <td>188</td>\n",
       "      <td>\"And yes, people should recognize that but the...</td>\n",
       "      <td>Daphne Guinness \\n\\nTop of the mornin' my fav...</td>\n",
       "      <td>1911</td>\n",
       "      <td>6597</td>\n",
       "      <td>745</td>\n",
       "      <td>745</td>\n",
       "    </tr>\n",
       "    <tr>\n",
       "      <th>2</th>\n",
       "      <td>82</td>\n",
       "      <td>Western Media?\\n\\nYup, because every crime in...</td>\n",
       "      <td>\"Atom you don't believe actual photos of mastu...</td>\n",
       "      <td>907</td>\n",
       "      <td>5881</td>\n",
       "      <td>793</td>\n",
       "      <td>793</td>\n",
       "    </tr>\n",
       "    <tr>\n",
       "      <th>3</th>\n",
       "      <td>347</td>\n",
       "      <td>And you removed it! You numbskull! I don't car...</td>\n",
       "      <td>You seem to have sand in your vagina.\\n\\nMight...</td>\n",
       "      <td>9818</td>\n",
       "      <td>14195</td>\n",
       "      <td>2430</td>\n",
       "      <td>2430</td>\n",
       "    </tr>\n",
       "    <tr>\n",
       "      <th>4</th>\n",
       "      <td>539</td>\n",
       "      <td>smelly vagina \\n\\nBluerasberry why don't you ...</td>\n",
       "      <td>hey \\n\\nway to support nazis, you racist</td>\n",
       "      <td>4614</td>\n",
       "      <td>2195</td>\n",
       "      <td>813</td>\n",
       "      <td>813</td>\n",
       "    </tr>\n",
       "  </tbody>\n",
       "</table>\n",
       "</div>"
      ],
      "text/plain": [
       "   worker                                         less_toxic  \\\n",
       "0     313            This article sucks \\n\\nwoo woo wooooooo   \n",
       "1     188  \"And yes, people should recognize that but the...   \n",
       "2      82   Western Media?\\n\\nYup, because every crime in...   \n",
       "3     347  And you removed it! You numbskull! I don't car...   \n",
       "4     539   smelly vagina \\n\\nBluerasberry why don't you ...   \n",
       "\n",
       "                                          more_toxic  less_id  more_id  \\\n",
       "0  WHAT!!!!!!!!?!?!!?!?!!?!?!?!?!!!!!!!!!!!!!!!!!...     3909     6942   \n",
       "1   Daphne Guinness \\n\\nTop of the mornin' my fav...     1911     6597   \n",
       "2  \"Atom you don't believe actual photos of mastu...      907     5881   \n",
       "3  You seem to have sand in your vagina.\\n\\nMight...     9818    14195   \n",
       "4           hey \\n\\nway to support nazis, you racist     4614     2195   \n",
       "\n",
       "   less_gid  more_gid  \n",
       "0      2470      2470  \n",
       "1       745       745  \n",
       "2       793       793  \n",
       "3      2430      2430  \n",
       "4       813       813  "
      ]
     },
     "metadata": {},
     "output_type": "display_data"
    },
    {
     "data": {
      "text/html": [
       "<div>\n",
       "<style scoped>\n",
       "    .dataframe tbody tr th:only-of-type {\n",
       "        vertical-align: middle;\n",
       "    }\n",
       "\n",
       "    .dataframe tbody tr th {\n",
       "        vertical-align: top;\n",
       "    }\n",
       "\n",
       "    .dataframe thead th {\n",
       "        text-align: right;\n",
       "    }\n",
       "</style>\n",
       "<table border=\"1\" class=\"dataframe\">\n",
       "  <thead>\n",
       "    <tr style=\"text-align: right;\">\n",
       "      <th></th>\n",
       "      <th>worker</th>\n",
       "      <th>less_toxic</th>\n",
       "      <th>more_toxic</th>\n",
       "      <th>less_id</th>\n",
       "      <th>more_id</th>\n",
       "      <th>less_gid</th>\n",
       "      <th>more_gid</th>\n",
       "    </tr>\n",
       "  </thead>\n",
       "  <tbody>\n",
       "    <tr>\n",
       "      <th>30103</th>\n",
       "      <td>461</td>\n",
       "      <td>I'm sorry. I'm not an admin. I will give you t...</td>\n",
       "      <td>get out my large penis</td>\n",
       "      <td>9447</td>\n",
       "      <td>6441</td>\n",
       "      <td>1455</td>\n",
       "      <td>1455</td>\n",
       "    </tr>\n",
       "    <tr>\n",
       "      <th>30104</th>\n",
       "      <td>527</td>\n",
       "      <td>I'm sorry. I'm not an admin. I will give you t...</td>\n",
       "      <td>get out my large penis</td>\n",
       "      <td>9447</td>\n",
       "      <td>6441</td>\n",
       "      <td>1455</td>\n",
       "      <td>1455</td>\n",
       "    </tr>\n",
       "    <tr>\n",
       "      <th>30105</th>\n",
       "      <td>352</td>\n",
       "      <td>wow...\\nare you out of your mind, how was my e...</td>\n",
       "      <td>Piss off you slant eyed-gook</td>\n",
       "      <td>8396</td>\n",
       "      <td>10797</td>\n",
       "      <td>3663</td>\n",
       "      <td>3663</td>\n",
       "    </tr>\n",
       "    <tr>\n",
       "      <th>30106</th>\n",
       "      <td>311</td>\n",
       "      <td>wow...\\nare you out of your mind, how was my e...</td>\n",
       "      <td>Piss off you slant eyed-gook</td>\n",
       "      <td>8396</td>\n",
       "      <td>10797</td>\n",
       "      <td>3663</td>\n",
       "      <td>3663</td>\n",
       "    </tr>\n",
       "    <tr>\n",
       "      <th>30107</th>\n",
       "      <td>54</td>\n",
       "      <td>wow...\\nare you out of your mind, how was my e...</td>\n",
       "      <td>Piss off you slant eyed-gook</td>\n",
       "      <td>8396</td>\n",
       "      <td>10797</td>\n",
       "      <td>3663</td>\n",
       "      <td>3663</td>\n",
       "    </tr>\n",
       "  </tbody>\n",
       "</table>\n",
       "</div>"
      ],
      "text/plain": [
       "       worker                                         less_toxic  \\\n",
       "30103     461  I'm sorry. I'm not an admin. I will give you t...   \n",
       "30104     527  I'm sorry. I'm not an admin. I will give you t...   \n",
       "30105     352  wow...\\nare you out of your mind, how was my e...   \n",
       "30106     311  wow...\\nare you out of your mind, how was my e...   \n",
       "30107      54  wow...\\nare you out of your mind, how was my e...   \n",
       "\n",
       "                         more_toxic  less_id  more_id  less_gid  more_gid  \n",
       "30103        get out my large penis     9447     6441      1455      1455  \n",
       "30104        get out my large penis     9447     6441      1455      1455  \n",
       "30105  Piss off you slant eyed-gook     8396    10797      3663      3663  \n",
       "30106  Piss off you slant eyed-gook     8396    10797      3663      3663  \n",
       "30107  Piss off you slant eyed-gook     8396    10797      3663      3663  "
      ]
     },
     "metadata": {},
     "output_type": "display_data"
    }
   ],
   "source": [
    "display(val_df.head())\n",
    "display(val_df.tail())"
   ]
  },
  {
   "cell_type": "code",
   "execution_count": 19,
   "id": "d575c23e",
   "metadata": {},
   "outputs": [
    {
     "data": {
      "text/html": [
       "<div>\n",
       "<style scoped>\n",
       "    .dataframe tbody tr th:only-of-type {\n",
       "        vertical-align: middle;\n",
       "    }\n",
       "\n",
       "    .dataframe tbody tr th {\n",
       "        vertical-align: top;\n",
       "    }\n",
       "\n",
       "    .dataframe thead th {\n",
       "        text-align: right;\n",
       "    }\n",
       "</style>\n",
       "<table border=\"1\" class=\"dataframe\">\n",
       "  <thead>\n",
       "    <tr style=\"text-align: right;\">\n",
       "      <th></th>\n",
       "      <th>worker</th>\n",
       "      <th>less_toxic</th>\n",
       "      <th>more_toxic</th>\n",
       "      <th>less_id</th>\n",
       "      <th>more_id</th>\n",
       "      <th>less_gid</th>\n",
       "      <th>more_gid</th>\n",
       "    </tr>\n",
       "  </thead>\n",
       "  <tbody>\n",
       "    <tr>\n",
       "      <th>474</th>\n",
       "      <td>568</td>\n",
       "      <td>You have no right to block my page.  I am spea...</td>\n",
       "      <td>It's abrevashun! It makes stuff shorter, U f**...</td>\n",
       "      <td>7146</td>\n",
       "      <td>7448</td>\n",
       "      <td>109</td>\n",
       "      <td>109</td>\n",
       "    </tr>\n",
       "    <tr>\n",
       "      <th>475</th>\n",
       "      <td>79</td>\n",
       "      <td>You have no right to block my page.  I am spea...</td>\n",
       "      <td>It's abrevashun! It makes stuff shorter, U f**...</td>\n",
       "      <td>7146</td>\n",
       "      <td>7448</td>\n",
       "      <td>109</td>\n",
       "      <td>109</td>\n",
       "    </tr>\n",
       "    <tr>\n",
       "      <th>476</th>\n",
       "      <td>714</td>\n",
       "      <td>You have no right to block my page.  I am spea...</td>\n",
       "      <td>It's abrevashun! It makes stuff shorter, U f**...</td>\n",
       "      <td>7146</td>\n",
       "      <td>7448</td>\n",
       "      <td>109</td>\n",
       "      <td>109</td>\n",
       "    </tr>\n",
       "    <tr>\n",
       "      <th>3120</th>\n",
       "      <td>146</td>\n",
       "      <td>It's abrevashun! It makes stuff shorter, U f**...</td>\n",
       "      <td>You Need To Stop. \\n\\nWhat difference does it...</td>\n",
       "      <td>7448</td>\n",
       "      <td>112</td>\n",
       "      <td>109</td>\n",
       "      <td>109</td>\n",
       "    </tr>\n",
       "    <tr>\n",
       "      <th>3121</th>\n",
       "      <td>21</td>\n",
       "      <td>It's abrevashun! It makes stuff shorter, U f**...</td>\n",
       "      <td>You Need To Stop. \\n\\nWhat difference does it...</td>\n",
       "      <td>7448</td>\n",
       "      <td>112</td>\n",
       "      <td>109</td>\n",
       "      <td>109</td>\n",
       "    </tr>\n",
       "    <tr>\n",
       "      <th>10203</th>\n",
       "      <td>44</td>\n",
       "      <td>SHANES: You should ensure that I am continued ...</td>\n",
       "      <td>You Need To Stop. \\n\\nWhat difference does it...</td>\n",
       "      <td>5466</td>\n",
       "      <td>112</td>\n",
       "      <td>109</td>\n",
       "      <td>109</td>\n",
       "    </tr>\n",
       "    <tr>\n",
       "      <th>10204</th>\n",
       "      <td>416</td>\n",
       "      <td>SHANES: You should ensure that I am continued ...</td>\n",
       "      <td>You Need To Stop. \\n\\nWhat difference does it...</td>\n",
       "      <td>5466</td>\n",
       "      <td>112</td>\n",
       "      <td>109</td>\n",
       "      <td>109</td>\n",
       "    </tr>\n",
       "    <tr>\n",
       "      <th>10205</th>\n",
       "      <td>268</td>\n",
       "      <td>SHANES: You should ensure that I am continued ...</td>\n",
       "      <td>You Need To Stop. \\n\\nWhat difference does it...</td>\n",
       "      <td>5466</td>\n",
       "      <td>112</td>\n",
       "      <td>109</td>\n",
       "      <td>109</td>\n",
       "    </tr>\n",
       "    <tr>\n",
       "      <th>13797</th>\n",
       "      <td>203</td>\n",
       "      <td>Antonio, quite frankly, you're a fucker for co...</td>\n",
       "      <td>You Need To Stop. \\n\\nWhat difference does it...</td>\n",
       "      <td>11496</td>\n",
       "      <td>112</td>\n",
       "      <td>109</td>\n",
       "      <td>109</td>\n",
       "    </tr>\n",
       "    <tr>\n",
       "      <th>18607</th>\n",
       "      <td>272</td>\n",
       "      <td>You Need To Stop. \\n\\nWhat difference does it...</td>\n",
       "      <td>It's abrevashun! It makes stuff shorter, U f**...</td>\n",
       "      <td>112</td>\n",
       "      <td>7448</td>\n",
       "      <td>109</td>\n",
       "      <td>109</td>\n",
       "    </tr>\n",
       "    <tr>\n",
       "      <th>28363</th>\n",
       "      <td>236</td>\n",
       "      <td>You Need To Stop. \\n\\nWhat difference does it...</td>\n",
       "      <td>Antonio, quite frankly, you're a fucker for co...</td>\n",
       "      <td>112</td>\n",
       "      <td>11496</td>\n",
       "      <td>109</td>\n",
       "      <td>109</td>\n",
       "    </tr>\n",
       "    <tr>\n",
       "      <th>28364</th>\n",
       "      <td>552</td>\n",
       "      <td>You Need To Stop. \\n\\nWhat difference does it...</td>\n",
       "      <td>Antonio, quite frankly, you're a fucker for co...</td>\n",
       "      <td>112</td>\n",
       "      <td>11496</td>\n",
       "      <td>109</td>\n",
       "      <td>109</td>\n",
       "    </tr>\n",
       "  </tbody>\n",
       "</table>\n",
       "</div>"
      ],
      "text/plain": [
       "       worker                                         less_toxic  \\\n",
       "474       568  You have no right to block my page.  I am spea...   \n",
       "475        79  You have no right to block my page.  I am spea...   \n",
       "476       714  You have no right to block my page.  I am spea...   \n",
       "3120      146  It's abrevashun! It makes stuff shorter, U f**...   \n",
       "3121       21  It's abrevashun! It makes stuff shorter, U f**...   \n",
       "10203      44  SHANES: You should ensure that I am continued ...   \n",
       "10204     416  SHANES: You should ensure that I am continued ...   \n",
       "10205     268  SHANES: You should ensure that I am continued ...   \n",
       "13797     203  Antonio, quite frankly, you're a fucker for co...   \n",
       "18607     272   You Need To Stop. \\n\\nWhat difference does it...   \n",
       "28363     236   You Need To Stop. \\n\\nWhat difference does it...   \n",
       "28364     552   You Need To Stop. \\n\\nWhat difference does it...   \n",
       "\n",
       "                                              more_toxic  less_id  more_id  \\\n",
       "474    It's abrevashun! It makes stuff shorter, U f**...     7146     7448   \n",
       "475    It's abrevashun! It makes stuff shorter, U f**...     7146     7448   \n",
       "476    It's abrevashun! It makes stuff shorter, U f**...     7146     7448   \n",
       "3120    You Need To Stop. \\n\\nWhat difference does it...     7448      112   \n",
       "3121    You Need To Stop. \\n\\nWhat difference does it...     7448      112   \n",
       "10203   You Need To Stop. \\n\\nWhat difference does it...     5466      112   \n",
       "10204   You Need To Stop. \\n\\nWhat difference does it...     5466      112   \n",
       "10205   You Need To Stop. \\n\\nWhat difference does it...     5466      112   \n",
       "13797   You Need To Stop. \\n\\nWhat difference does it...    11496      112   \n",
       "18607  It's abrevashun! It makes stuff shorter, U f**...      112     7448   \n",
       "28363  Antonio, quite frankly, you're a fucker for co...      112    11496   \n",
       "28364  Antonio, quite frankly, you're a fucker for co...      112    11496   \n",
       "\n",
       "       less_gid  more_gid  \n",
       "474         109       109  \n",
       "475         109       109  \n",
       "476         109       109  \n",
       "3120        109       109  \n",
       "3121        109       109  \n",
       "10203       109       109  \n",
       "10204       109       109  \n",
       "10205       109       109  \n",
       "13797       109       109  \n",
       "18607       109       109  \n",
       "28363       109       109  \n",
       "28364       109       109  "
      ]
     },
     "execution_count": 19,
     "metadata": {},
     "output_type": "execute_result"
    }
   ],
   "source": [
    "val_df[val_df[\"more_gid\"]==109]"
   ]
  },
  {
   "cell_type": "code",
   "execution_count": 20,
   "id": "78ea2def",
   "metadata": {},
   "outputs": [
    {
     "name": "stdout",
     "output_type": "stream",
     "text": [
      "unique text counts: 14251\n",
      "grouped text counts: 4143\n"
     ]
    }
   ],
   "source": [
    "print('unique text counts:', len_ids)\n",
    "print('grouped text counts:', len(group_list))"
   ]
  },
  {
   "cell_type": "code",
   "execution_count": 21,
   "id": "37123663",
   "metadata": {},
   "outputs": [
    {
     "data": {
      "text/html": [
       "<div>\n",
       "<style scoped>\n",
       "    .dataframe tbody tr th:only-of-type {\n",
       "        vertical-align: middle;\n",
       "    }\n",
       "\n",
       "    .dataframe tbody tr th {\n",
       "        vertical-align: top;\n",
       "    }\n",
       "\n",
       "    .dataframe thead th {\n",
       "        text-align: right;\n",
       "    }\n",
       "</style>\n",
       "<table border=\"1\" class=\"dataframe\">\n",
       "  <thead>\n",
       "    <tr style=\"text-align: right;\">\n",
       "      <th></th>\n",
       "      <th>worker</th>\n",
       "      <th>less_toxic</th>\n",
       "      <th>more_toxic</th>\n",
       "      <th>less_id</th>\n",
       "      <th>more_id</th>\n",
       "      <th>less_gid</th>\n",
       "      <th>more_gid</th>\n",
       "      <th>fold</th>\n",
       "    </tr>\n",
       "  </thead>\n",
       "  <tbody>\n",
       "    <tr>\n",
       "      <th>0</th>\n",
       "      <td>313</td>\n",
       "      <td>This article sucks \\n\\nwoo woo wooooooo</td>\n",
       "      <td>WHAT!!!!!!!!?!?!!?!?!!?!?!?!?!!!!!!!!!!!!!!!!!...</td>\n",
       "      <td>3909</td>\n",
       "      <td>6942</td>\n",
       "      <td>2470</td>\n",
       "      <td>2470</td>\n",
       "      <td>1</td>\n",
       "    </tr>\n",
       "    <tr>\n",
       "      <th>1</th>\n",
       "      <td>188</td>\n",
       "      <td>\"And yes, people should recognize that but the...</td>\n",
       "      <td>Daphne Guinness \\n\\nTop of the mornin' my fav...</td>\n",
       "      <td>1911</td>\n",
       "      <td>6597</td>\n",
       "      <td>745</td>\n",
       "      <td>745</td>\n",
       "      <td>2</td>\n",
       "    </tr>\n",
       "    <tr>\n",
       "      <th>2</th>\n",
       "      <td>82</td>\n",
       "      <td>Western Media?\\n\\nYup, because every crime in...</td>\n",
       "      <td>\"Atom you don't believe actual photos of mastu...</td>\n",
       "      <td>907</td>\n",
       "      <td>5881</td>\n",
       "      <td>793</td>\n",
       "      <td>793</td>\n",
       "      <td>3</td>\n",
       "    </tr>\n",
       "    <tr>\n",
       "      <th>3</th>\n",
       "      <td>347</td>\n",
       "      <td>And you removed it! You numbskull! I don't car...</td>\n",
       "      <td>You seem to have sand in your vagina.\\n\\nMight...</td>\n",
       "      <td>9818</td>\n",
       "      <td>14195</td>\n",
       "      <td>2430</td>\n",
       "      <td>2430</td>\n",
       "      <td>4</td>\n",
       "    </tr>\n",
       "    <tr>\n",
       "      <th>4</th>\n",
       "      <td>539</td>\n",
       "      <td>smelly vagina \\n\\nBluerasberry why don't you ...</td>\n",
       "      <td>hey \\n\\nway to support nazis, you racist</td>\n",
       "      <td>4614</td>\n",
       "      <td>2195</td>\n",
       "      <td>813</td>\n",
       "      <td>813</td>\n",
       "      <td>0</td>\n",
       "    </tr>\n",
       "    <tr>\n",
       "      <th>...</th>\n",
       "      <td>...</td>\n",
       "      <td>...</td>\n",
       "      <td>...</td>\n",
       "      <td>...</td>\n",
       "      <td>...</td>\n",
       "      <td>...</td>\n",
       "      <td>...</td>\n",
       "      <td>...</td>\n",
       "    </tr>\n",
       "    <tr>\n",
       "      <th>30103</th>\n",
       "      <td>461</td>\n",
       "      <td>I'm sorry. I'm not an admin. I will give you t...</td>\n",
       "      <td>get out my large penis</td>\n",
       "      <td>9447</td>\n",
       "      <td>6441</td>\n",
       "      <td>1455</td>\n",
       "      <td>1455</td>\n",
       "      <td>4</td>\n",
       "    </tr>\n",
       "    <tr>\n",
       "      <th>30104</th>\n",
       "      <td>527</td>\n",
       "      <td>I'm sorry. I'm not an admin. I will give you t...</td>\n",
       "      <td>get out my large penis</td>\n",
       "      <td>9447</td>\n",
       "      <td>6441</td>\n",
       "      <td>1455</td>\n",
       "      <td>1455</td>\n",
       "      <td>4</td>\n",
       "    </tr>\n",
       "    <tr>\n",
       "      <th>30105</th>\n",
       "      <td>352</td>\n",
       "      <td>wow...\\nare you out of your mind, how was my e...</td>\n",
       "      <td>Piss off you slant eyed-gook</td>\n",
       "      <td>8396</td>\n",
       "      <td>10797</td>\n",
       "      <td>3663</td>\n",
       "      <td>3663</td>\n",
       "      <td>0</td>\n",
       "    </tr>\n",
       "    <tr>\n",
       "      <th>30106</th>\n",
       "      <td>311</td>\n",
       "      <td>wow...\\nare you out of your mind, how was my e...</td>\n",
       "      <td>Piss off you slant eyed-gook</td>\n",
       "      <td>8396</td>\n",
       "      <td>10797</td>\n",
       "      <td>3663</td>\n",
       "      <td>3663</td>\n",
       "      <td>0</td>\n",
       "    </tr>\n",
       "    <tr>\n",
       "      <th>30107</th>\n",
       "      <td>54</td>\n",
       "      <td>wow...\\nare you out of your mind, how was my e...</td>\n",
       "      <td>Piss off you slant eyed-gook</td>\n",
       "      <td>8396</td>\n",
       "      <td>10797</td>\n",
       "      <td>3663</td>\n",
       "      <td>3663</td>\n",
       "      <td>0</td>\n",
       "    </tr>\n",
       "  </tbody>\n",
       "</table>\n",
       "<p>30108 rows × 8 columns</p>\n",
       "</div>"
      ],
      "text/plain": [
       "       worker                                         less_toxic  \\\n",
       "0         313            This article sucks \\n\\nwoo woo wooooooo   \n",
       "1         188  \"And yes, people should recognize that but the...   \n",
       "2          82   Western Media?\\n\\nYup, because every crime in...   \n",
       "3         347  And you removed it! You numbskull! I don't car...   \n",
       "4         539   smelly vagina \\n\\nBluerasberry why don't you ...   \n",
       "...       ...                                                ...   \n",
       "30103     461  I'm sorry. I'm not an admin. I will give you t...   \n",
       "30104     527  I'm sorry. I'm not an admin. I will give you t...   \n",
       "30105     352  wow...\\nare you out of your mind, how was my e...   \n",
       "30106     311  wow...\\nare you out of your mind, how was my e...   \n",
       "30107      54  wow...\\nare you out of your mind, how was my e...   \n",
       "\n",
       "                                              more_toxic  less_id  more_id  \\\n",
       "0      WHAT!!!!!!!!?!?!!?!?!!?!?!?!?!!!!!!!!!!!!!!!!!...     3909     6942   \n",
       "1       Daphne Guinness \\n\\nTop of the mornin' my fav...     1911     6597   \n",
       "2      \"Atom you don't believe actual photos of mastu...      907     5881   \n",
       "3      You seem to have sand in your vagina.\\n\\nMight...     9818    14195   \n",
       "4               hey \\n\\nway to support nazis, you racist     4614     2195   \n",
       "...                                                  ...      ...      ...   \n",
       "30103                             get out my large penis     9447     6441   \n",
       "30104                             get out my large penis     9447     6441   \n",
       "30105                       Piss off you slant eyed-gook     8396    10797   \n",
       "30106                       Piss off you slant eyed-gook     8396    10797   \n",
       "30107                       Piss off you slant eyed-gook     8396    10797   \n",
       "\n",
       "       less_gid  more_gid  fold  \n",
       "0          2470      2470     1  \n",
       "1           745       745     2  \n",
       "2           793       793     3  \n",
       "3          2430      2430     4  \n",
       "4           813       813     0  \n",
       "...         ...       ...   ...  \n",
       "30103      1455      1455     4  \n",
       "30104      1455      1455     4  \n",
       "30105      3663      3663     0  \n",
       "30106      3663      3663     0  \n",
       "30107      3663      3663     0  \n",
       "\n",
       "[30108 rows x 8 columns]"
      ]
     },
     "execution_count": 21,
     "metadata": {},
     "output_type": "execute_result"
    }
   ],
   "source": [
    "# now we can use GroupKFold with group id\n",
    "group_kfold = GroupKFold(n_splits=config.n_fold)\n",
    "\n",
    "# Since df.less_gid and df.more_gid are the same, let's use df.less_gid here.\n",
    "for fold, (trn, val) in enumerate(group_kfold.split(val_df, val_df, val_df.less_gid)): \n",
    "    val_df.loc[val , \"fold\"] = fold\n",
    "\n",
    "val_df[\"fold\"] = val_df[\"fold\"].astype(int)\n",
    "val_df"
   ]
  },
  {
   "cell_type": "code",
   "execution_count": 22,
   "id": "7c57ece1",
   "metadata": {},
   "outputs": [
    {
     "data": {
      "text/html": [
       "<div>\n",
       "<style scoped>\n",
       "    .dataframe tbody tr th:only-of-type {\n",
       "        vertical-align: middle;\n",
       "    }\n",
       "\n",
       "    .dataframe tbody tr th {\n",
       "        vertical-align: top;\n",
       "    }\n",
       "\n",
       "    .dataframe thead th {\n",
       "        text-align: right;\n",
       "    }\n",
       "</style>\n",
       "<table border=\"1\" class=\"dataframe\">\n",
       "  <thead>\n",
       "    <tr style=\"text-align: right;\">\n",
       "      <th></th>\n",
       "      <th>worker</th>\n",
       "      <th>less_toxic</th>\n",
       "      <th>more_toxic</th>\n",
       "      <th>less_id</th>\n",
       "      <th>more_id</th>\n",
       "      <th>less_gid</th>\n",
       "      <th>more_gid</th>\n",
       "      <th>fold</th>\n",
       "    </tr>\n",
       "  </thead>\n",
       "  <tbody>\n",
       "    <tr>\n",
       "      <th>18951</th>\n",
       "      <td>626</td>\n",
       "      <td>Clearly, you do not understand what original ...</td>\n",
       "      <td>\"\\n\\nYou really are astonishingly stupid AND S...</td>\n",
       "      <td>2398</td>\n",
       "      <td>11817</td>\n",
       "      <td>1751</td>\n",
       "      <td>1751</td>\n",
       "      <td>4</td>\n",
       "    </tr>\n",
       "    <tr>\n",
       "      <th>18952</th>\n",
       "      <td>504</td>\n",
       "      <td>Clearly, you do not understand what original ...</td>\n",
       "      <td>\"\\n\\nYou really are astonishingly stupid AND S...</td>\n",
       "      <td>2398</td>\n",
       "      <td>11817</td>\n",
       "      <td>1751</td>\n",
       "      <td>1751</td>\n",
       "      <td>4</td>\n",
       "    </tr>\n",
       "    <tr>\n",
       "      <th>18953</th>\n",
       "      <td>612</td>\n",
       "      <td>Clearly, you do not understand what original ...</td>\n",
       "      <td>\"\\n\\nYou really are astonishingly stupid AND S...</td>\n",
       "      <td>2398</td>\n",
       "      <td>11817</td>\n",
       "      <td>1751</td>\n",
       "      <td>1751</td>\n",
       "      <td>4</td>\n",
       "    </tr>\n",
       "  </tbody>\n",
       "</table>\n",
       "</div>"
      ],
      "text/plain": [
       "       worker                                         less_toxic  \\\n",
       "18951     626   Clearly, you do not understand what original ...   \n",
       "18952     504   Clearly, you do not understand what original ...   \n",
       "18953     612   Clearly, you do not understand what original ...   \n",
       "\n",
       "                                              more_toxic  less_id  more_id  \\\n",
       "18951  \"\\n\\nYou really are astonishingly stupid AND S...     2398    11817   \n",
       "18952  \"\\n\\nYou really are astonishingly stupid AND S...     2398    11817   \n",
       "18953  \"\\n\\nYou really are astonishingly stupid AND S...     2398    11817   \n",
       "\n",
       "       less_gid  more_gid  fold  \n",
       "18951      1751      1751     4  \n",
       "18952      1751      1751     4  \n",
       "18953      1751      1751     4  "
      ]
     },
     "execution_count": 22,
     "metadata": {},
     "output_type": "execute_result"
    }
   ],
   "source": [
    "val_df[val_df[\"less_gid\"]==1751]"
   ]
  },
  {
   "cell_type": "markdown",
   "id": "80e7b0b8",
   "metadata": {},
   "source": [
    "<br>\n",
    "<h1 style = \"font-size:45px; font-family:Comic Sans MS ; font-weight : normal; background-color: #4c1c84 ; color : #eeebf1; text-align: center; border-radius: 100px 100px;\">\n",
    "    Pytorch Dataset\n",
    "</h1>\n",
    "<br>"
   ]
  },
  {
   "cell_type": "code",
   "execution_count": 23,
   "id": "40d5fc72",
   "metadata": {},
   "outputs": [],
   "source": [
    "class JigsawDataset:\n",
    "    \n",
    "    def __init__(self, df, tokenizer, max_length, mode):\n",
    "        \n",
    "        self.df = df\n",
    "        self.max_len = max_length\n",
    "        self.tokenizer = tokenizer\n",
    "        self.mode = mode\n",
    "        \n",
    "        if self.mode == \"train\":\n",
    "            self.more_toxic = df[\"more_toxic\"].values\n",
    "            self.less_toxic = df[\"less_toxic\"].values\n",
    "            \n",
    "        elif self.mode == \"valid\":\n",
    "            self.more_toxic = df[\"more_toxic\"].values\n",
    "            self.less_toxic = df[\"less_toxic\"].values\n",
    "            \n",
    "        else:\n",
    "            self.text = df[\"text\"].values\n",
    "            \n",
    "    def __len__(self):\n",
    "        return len(self.df)\n",
    "    \n",
    "    def __getitem__(self, index):\n",
    "        \n",
    "        if self.mode == \"train\":\n",
    "            \n",
    "            more_toxic = self.more_toxic[index]\n",
    "            less_toxic = self.less_toxic[index]\n",
    "\n",
    "            inputs_more_toxic = self.tokenizer.encode_plus(\n",
    "                more_toxic,\n",
    "                truncation=True,\n",
    "                return_attention_mask=True,\n",
    "                return_token_type_ids=True,\n",
    "                max_length = self.max_len,\n",
    "                padding=\"max_length\",\n",
    "            )\n",
    "\n",
    "            inputs_less_toxic = self.tokenizer.encode_plus(\n",
    "                less_toxic,\n",
    "                truncation=True,\n",
    "                return_attention_mask=True,\n",
    "                return_token_type_ids=True,\n",
    "                max_length = self.max_len,\n",
    "                padding=\"max_length\",\n",
    "            )\n",
    "            \n",
    "            target = 1\n",
    "\n",
    "            more_toxic_ids = inputs_more_toxic[\"input_ids\"]\n",
    "            more_toxic_mask = inputs_more_toxic[\"attention_mask\"]\n",
    "            more_token_type_ids = inputs_more_toxic[\"token_type_ids\"]\n",
    "\n",
    "            less_toxic_ids = inputs_less_toxic[\"input_ids\"]\n",
    "            less_toxic_mask = inputs_less_toxic[\"attention_mask\"]\n",
    "            less_token_type_ids = inputs_less_toxic[\"token_type_ids\"]\n",
    "            \n",
    "            return {\n",
    "                'more_toxic_ids': torch.tensor(more_toxic_ids, dtype=torch.long),\n",
    "                'more_toxic_mask': torch.tensor(more_toxic_mask, dtype=torch.long),\n",
    "                'more_token_type_ids': torch.tensor(more_token_type_ids, dtype=torch.long),\n",
    "                \n",
    "                'less_toxic_ids': torch.tensor(less_toxic_ids, dtype=torch.long),\n",
    "                'less_toxic_mask': torch.tensor(less_toxic_mask, dtype=torch.long),\n",
    "                'less_token_type_ids': torch.tensor(less_token_type_ids, dtype=torch.long),\n",
    "                \n",
    "                'target': torch.tensor(target, dtype=torch.float)\n",
    "            }\n",
    "        \n",
    "        elif self.mode == \"valid\":\n",
    "            \n",
    "            more_toxic = self.more_toxic[index]\n",
    "            less_toxic = self.less_toxic[index]\n",
    "\n",
    "            inputs_more_toxic = self.tokenizer.encode_plus(\n",
    "                more_toxic,\n",
    "                truncation=True,\n",
    "                return_attention_mask=True,\n",
    "                return_token_type_ids=True,\n",
    "                max_length = self.max_len,\n",
    "                padding=\"max_length\",\n",
    "            )\n",
    "\n",
    "            inputs_less_toxic = self.tokenizer.encode_plus(\n",
    "                less_toxic,\n",
    "                truncation=True,\n",
    "                return_attention_mask=True,\n",
    "                return_token_type_ids=True,\n",
    "                max_length = self.max_len,\n",
    "                padding=\"max_length\",\n",
    "            )\n",
    "            \n",
    "            target = 1\n",
    "\n",
    "            more_toxic_ids = inputs_more_toxic[\"input_ids\"]\n",
    "            more_toxic_mask = inputs_more_toxic[\"attention_mask\"]\n",
    "            more_token_type_ids = inputs_more_toxic[\"token_type_ids\"]\n",
    "\n",
    "            less_toxic_ids = inputs_less_toxic[\"input_ids\"]\n",
    "            less_toxic_mask = inputs_less_toxic[\"attention_mask\"]\n",
    "            less_token_type_ids = inputs_less_toxic[\"token_type_ids\"]\n",
    "            \n",
    "            return {\n",
    "                'more_toxic_ids': torch.tensor(more_toxic_ids, dtype=torch.long),\n",
    "                'more_toxic_mask': torch.tensor(more_toxic_mask, dtype=torch.long),\n",
    "                'more_token_type_ids': torch.tensor(more_token_type_ids, dtype=torch.long),\n",
    "                \n",
    "                'less_toxic_ids': torch.tensor(less_toxic_ids, dtype=torch.long),\n",
    "                'less_toxic_mask': torch.tensor(less_toxic_mask, dtype=torch.long),\n",
    "                'less_token_type_ids': torch.tensor(less_token_type_ids, dtype=torch.long),\n",
    "                \n",
    "                'target': torch.tensor(target, dtype=torch.float)\n",
    "            }\n",
    "        \n",
    "        else:\n",
    "            \n",
    "            text = self.text[index]\n",
    "            \n",
    "            inputs_text = self.tokenizer.encode_plus(\n",
    "                text,\n",
    "                truncation=True,\n",
    "                return_attention_mask=True,\n",
    "                return_token_type_ids=True,\n",
    "                max_length = self.max_len,\n",
    "                padding=\"max_length\",\n",
    "            )\n",
    "            \n",
    "            text_ids = inputs_text[\"input_ids\"]\n",
    "            text_mask = inputs_text[\"attention_mask\"]\n",
    "            text_token_type_ids = inputs_text[\"token_type_ids\"]\n",
    "\n",
    "            return {\n",
    "                'text_ids': torch.tensor(text_ids, dtype=torch.long),\n",
    "                'text_mask': torch.tensor(text_mask, dtype=torch.long),\n",
    "                'text_token_type_ids': torch.tensor(text_token_type_ids, dtype=torch.long),\n",
    "            }"
   ]
  },
  {
   "cell_type": "markdown",
   "id": "79302c1f",
   "metadata": {},
   "source": [
    "<br>\n",
    "<h2 style = \"font-size:45px;\n",
    "             font-family:Comic Sans MS ;\n",
    "             font-weight : normal;\n",
    "             background-color: #eeebf1 ;\n",
    "             color : #4c1c84;\n",
    "             text-align: center; \n",
    "             border-radius: 100px 100px;\">\n",
    "    DataModule\n",
    "</h2>\n",
    "<br>"
   ]
  },
  {
   "cell_type": "code",
   "execution_count": 24,
   "id": "f3b3cb2d",
   "metadata": {},
   "outputs": [],
   "source": [
    "class JigsawDataModule(LightningDataModule):\n",
    "\n",
    "    def __init__(self, train_df, valid_df, test_df, cfg):\n",
    "\n",
    "        super().__init__()\n",
    "        self._train_df = train_df\n",
    "        self._valid_df = valid_df\n",
    "        self._test_df = test_df\n",
    "        self._cfg = cfg\n",
    "\n",
    "    def train_dataloader(self):\n",
    "        dataset = JigsawDataset(\n",
    "            df=self._train_df, \n",
    "            tokenizer=self._cfg.tokenizer,\n",
    "            max_length=self._cfg.max_length,\n",
    "            mode=\"train\",\n",
    "            )\n",
    "        return DataLoader(dataset, **self._cfg.train_loader)\n",
    "\n",
    "    def val_dataloader(self):\n",
    "        dataset = JigsawDataset(\n",
    "            df=self._valid_df, \n",
    "            tokenizer=self._cfg.tokenizer,\n",
    "            max_length=self._cfg.max_length,\n",
    "            mode=\"valid\",\n",
    "            )\n",
    "        return DataLoader(dataset, **self._cfg.valid_loader)\n",
    "\n",
    "    def test_dataloader(self):\n",
    "        dataset = JigsawDataset(\n",
    "            df=self._test_df,\n",
    "            tokenizer = self._cfg.tokenizer,\n",
    "            max_length=self._cfg.max_length,\n",
    "            mode=\"test\",\n",
    "        )\n",
    "\n",
    "        return DataLoader(dataset, **self._cfg.test_loader)"
   ]
  },
  {
   "cell_type": "code",
   "execution_count": 25,
   "id": "63cd58a1",
   "metadata": {},
   "outputs": [],
   "source": [
    "## DataCheck\n",
    "seed_everything(config.seed)\n",
    "\n",
    "sample_dataloader = JigsawDataModule(val_df, val_df, test_df, config).train_dataloader()\n",
    "for data in sample_dataloader:\n",
    "    break"
   ]
  },
  {
   "cell_type": "code",
   "execution_count": 26,
   "id": "2acf09cf",
   "metadata": {},
   "outputs": [
    {
     "name": "stdout",
     "output_type": "stream",
     "text": [
      "torch.Size([8, 256])\n",
      "torch.Size([8, 256])\n",
      "torch.Size([8, 256])\n",
      "torch.Size([8])\n",
      "tensor([1., 1., 1., 1., 1., 1., 1., 1.])\n",
      "torch.Size([8, 256, 768]) torch.Size([8, 12, 256, 256])\n",
      "torch.Size([8, 768]) torch.Size([8, 12, 256, 256])\n"
     ]
    }
   ],
   "source": [
    "print(data[\"more_toxic_ids\"].size())\n",
    "print(data[\"more_toxic_mask\"].size())\n",
    "print(data[\"more_token_type_ids\"].size())\n",
    "print(data[\"target\"].size())\n",
    "print(data[\"target\"])\n",
    "output = config.model(\n",
    "    data[\"more_toxic_ids\"],\n",
    "    data[\"more_toxic_mask\"],\n",
    "    data[\"more_token_type_ids\"],\n",
    "    output_hidden_states=True,\n",
    "    output_attentions=True,\n",
    ")\n",
    "print(output[\"hidden_states\"][-1].size(), output[\"attentions\"][-1].size())\n",
    "print(output[\"hidden_states\"][-1][:, 1, :].size(), output[\"attentions\"][-1].size())"
   ]
  },
  {
   "cell_type": "markdown",
   "id": "69637bee",
   "metadata": {},
   "source": [
    "<br>\n",
    "<h2 style = \"font-size:45px;\n",
    "             font-family:Comic Sans MS ;\n",
    "             font-weight : normal;\n",
    "             background-color: #eeebf1 ;\n",
    "             color : #4c1c84;\n",
    "             text-align: center; \n",
    "             border-radius: 100px 100px;\">\n",
    "    LigitningModule\n",
    "</h2>\n",
    "<br>"
   ]
  },
  {
   "cell_type": "code",
   "execution_count": 27,
   "id": "8f535b24",
   "metadata": {},
   "outputs": [],
   "source": [
    "def criterion(outputs1, outputs2, targets):\n",
    "    return nn.MarginRankingLoss(margin=config.margin)(outputs1, outputs2, targets)"
   ]
  },
  {
   "cell_type": "code",
   "execution_count": 28,
   "id": "36929920",
   "metadata": {},
   "outputs": [],
   "source": [
    "class JigsawModel(pl.LightningModule):\n",
    "    \n",
    "    def __init__(self, cfg, fold_num):\n",
    "        \n",
    "        super().__init__()\n",
    "        self.cfg = cfg\n",
    "        self.__build_model()\n",
    "        self.criterion = criterion\n",
    "        self.save_hyperparameters(cfg)\n",
    "        self.fold_num = fold_num\n",
    "        \n",
    "    def __build_model(self):\n",
    "        \n",
    "        self.base_model = RobertaModel.from_pretrained(\n",
    "            self.cfg.backbone.name\n",
    "        )\n",
    "        print(f\"Use Model: {self.cfg.backbone.name}\")\n",
    "        self.norm = nn.LayerNorm(768)\n",
    "        self.drop = nn.Dropout(p=0.3)\n",
    "        self.head = nn.Linear(768, self.cfg.backbone.output_dim)\n",
    "        \n",
    "    def forward(self, ids, mask, token_type_ids):\n",
    "        \n",
    "        output = self.base_model(\n",
    "            input_ids=ids, \n",
    "            attention_mask=mask,\n",
    "            token_type_ids=token_type_ids,\n",
    "            output_hidden_states=True,\n",
    "            output_attentions=True\n",
    "        )\n",
    "        feature = self.norm(output[\"hidden_states\"][-1][:, 1, :])\n",
    "        out = self.drop(feature)\n",
    "        out = self.head(out)\n",
    "        \n",
    "        return {\n",
    "            \"logits\":out, \n",
    "            \"feature\":feature,\n",
    "            \"attention\":output[\"attentions\"], \n",
    "            \"mask\":mask,\n",
    "        }\n",
    "    \n",
    "    def training_step(self, batch, batch_idx):\n",
    "        \n",
    "        more_toxic_ids = batch['more_toxic_ids']\n",
    "        more_toxic_mask = batch['more_toxic_mask']\n",
    "        more_text_token_type_ids = batch['more_token_type_ids']\n",
    "        \n",
    "        less_toxic_ids = batch['less_toxic_ids']\n",
    "        less_toxic_mask = batch['less_toxic_mask']\n",
    "        less_text_token_type_ids = batch['less_token_type_ids']\n",
    "        \n",
    "        targets = batch['target']\n",
    "        \n",
    "        more_outputs = self.forward(\n",
    "            more_toxic_ids, \n",
    "            more_toxic_mask,\n",
    "            more_text_token_type_ids\n",
    "        )\n",
    "        \n",
    "        less_outputs = self.forward(\n",
    "            less_toxic_ids, \n",
    "            less_toxic_mask,\n",
    "            less_text_token_type_ids\n",
    "        )\n",
    "        \n",
    "        \n",
    "        loss = self.criterion(more_outputs[\"logits\"], less_outputs[\"logits\"], targets)\n",
    "\n",
    "        \n",
    "        return {\n",
    "            \"loss\":loss,\n",
    "            \"targets\":targets,\n",
    "        }\n",
    "    \n",
    "    def training_epoch_end(self, training_step_outputs):\n",
    "\n",
    "        loss_list = []\n",
    "\n",
    "        for out in training_step_outputs:\n",
    "\n",
    "            loss_list.extend([out[\"loss\"].cpu().detach().tolist()])\n",
    "\n",
    "        meanloss = sum(loss_list)/len(loss_list)\n",
    "\n",
    "        logs = {f\"train_loss/fold{self.fold_num+1}\": meanloss,}\n",
    "\n",
    "        self.log_dict(\n",
    "            logs,\n",
    "            on_step=False,\n",
    "            on_epoch=True,\n",
    "            prog_bar=True,\n",
    "            logger=True\n",
    "        )\n",
    "        \n",
    "    def validation_step(self, batch, batch_idx):\n",
    "\n",
    "        more_toxic_ids = batch['more_toxic_ids']\n",
    "        more_toxic_mask = batch['more_toxic_mask']\n",
    "        more_text_token_type_ids = batch['more_token_type_ids']\n",
    "        \n",
    "        less_toxic_ids = batch['less_toxic_ids']\n",
    "        less_toxic_mask = batch['less_toxic_mask']\n",
    "        less_text_token_type_ids = batch['less_token_type_ids']\n",
    "        \n",
    "        targets = batch['target']\n",
    "\n",
    "        more_outputs = self.forward(\n",
    "            more_toxic_ids, \n",
    "            more_toxic_mask,\n",
    "            more_text_token_type_ids\n",
    "        )\n",
    "        \n",
    "        less_outputs = self.forward(\n",
    "            less_toxic_ids, \n",
    "            less_toxic_mask,\n",
    "            less_text_token_type_ids\n",
    "        )\n",
    "\n",
    "        \n",
    "        outputs = more_outputs[\"logits\"] - less_outputs[\"logits\"]\n",
    "        logits = outputs.clone()[:, 0]\n",
    "\n",
    "        logits[logits > 0] = 1\n",
    "        loss = nn.BCEWithLogitsLoss()(logits, targets)\n",
    "\n",
    "        return {\n",
    "            \"loss\":loss,\n",
    "            \"pred\":outputs,\n",
    "            \"targets\":targets,\n",
    "        }\n",
    "    \n",
    "    \n",
    "    def validation_epoch_end(self, validation_step_outputs):\n",
    "\n",
    "        loss_list = []\n",
    "        pred_list = []\n",
    "        target_list = []\n",
    "\n",
    "        for out in validation_step_outputs:\n",
    "            loss_list.extend([out[\"loss\"].cpu().detach().tolist()])\n",
    "            pred_list.append(out[\"pred\"][:, 0].detach().cpu().numpy())\n",
    "            target_list.append(out[\"targets\"].detach().cpu().numpy())\n",
    "\n",
    "        meanloss = sum(loss_list)/len(loss_list)\n",
    "        pred_list = np.concatenate(pred_list)\n",
    "        pred_count = sum(x>0 for x in pred_list)/len(pred_list)\n",
    "\n",
    "        logs = {\n",
    "            f\"valid_loss/fold{self.fold_num+1}\":meanloss,\n",
    "            f\"valid_acc/fold{self.fold_num+1}\":pred_count,\n",
    "        }\n",
    "\n",
    "        self.log_dict(\n",
    "            logs,\n",
    "            on_step=False,\n",
    "            on_epoch=True,\n",
    "            prog_bar=True,\n",
    "            logger=True\n",
    "        )\n",
    "        \n",
    "    def configure_optimizers(self):\n",
    "\n",
    "        optimizer = eval(self.cfg.optimizer.name)(\n",
    "            self.parameters(), **self.cfg.optimizer.params\n",
    "        )\n",
    "\n",
    "        self.scheduler = eval(self.cfg.scheduler.name)(\n",
    "            optimizer, **self.cfg.scheduler.params\n",
    "        )\n",
    "        \n",
    "        scheduler = {\"scheduler\": self.scheduler, \"interval\": \"step\",}\n",
    "\n",
    "        return [optimizer], [scheduler]"
   ]
  },
  {
   "cell_type": "markdown",
   "id": "f565680a",
   "metadata": {},
   "source": [
    "<br>\n",
    "<h2 style = \"font-size:45px;\n",
    "             font-family:Comic Sans MS ;\n",
    "             font-weight : normal;\n",
    "             background-color: #eeebf1 ;\n",
    "             color : #4c1c84;\n",
    "             text-align: center; \n",
    "             border-radius: 100px 100px;\">\n",
    "    Training\n",
    "</h2>\n",
    "<br>"
   ]
  },
  {
   "cell_type": "code",
   "execution_count": 29,
   "id": "ab3e0ffd",
   "metadata": {},
   "outputs": [
    {
     "data": {
      "text/html": [
       "<div>\n",
       "<style scoped>\n",
       "    .dataframe tbody tr th:only-of-type {\n",
       "        vertical-align: middle;\n",
       "    }\n",
       "\n",
       "    .dataframe tbody tr th {\n",
       "        vertical-align: top;\n",
       "    }\n",
       "\n",
       "    .dataframe thead th {\n",
       "        text-align: right;\n",
       "    }\n",
       "</style>\n",
       "<table border=\"1\" class=\"dataframe\">\n",
       "  <thead>\n",
       "    <tr style=\"text-align: right;\">\n",
       "      <th></th>\n",
       "      <th>worker</th>\n",
       "      <th>less_toxic</th>\n",
       "      <th>more_toxic</th>\n",
       "      <th>less_id</th>\n",
       "      <th>more_id</th>\n",
       "      <th>less_gid</th>\n",
       "      <th>more_gid</th>\n",
       "      <th>fold</th>\n",
       "    </tr>\n",
       "  </thead>\n",
       "  <tbody>\n",
       "    <tr>\n",
       "      <th>0</th>\n",
       "      <td>313</td>\n",
       "      <td>This article sucks \\n\\nwoo woo wooooooo</td>\n",
       "      <td>WHAT!!!!!!!!?!?!!?!?!!?!?!?!?!!!!!!!!!!!!!!!!!...</td>\n",
       "      <td>3909</td>\n",
       "      <td>6942</td>\n",
       "      <td>2470</td>\n",
       "      <td>2470</td>\n",
       "      <td>1</td>\n",
       "    </tr>\n",
       "    <tr>\n",
       "      <th>1</th>\n",
       "      <td>188</td>\n",
       "      <td>\"And yes, people should recognize that but the...</td>\n",
       "      <td>Daphne Guinness \\n\\nTop of the mornin' my fav...</td>\n",
       "      <td>1911</td>\n",
       "      <td>6597</td>\n",
       "      <td>745</td>\n",
       "      <td>745</td>\n",
       "      <td>2</td>\n",
       "    </tr>\n",
       "    <tr>\n",
       "      <th>2</th>\n",
       "      <td>82</td>\n",
       "      <td>Western Media?\\n\\nYup, because every crime in...</td>\n",
       "      <td>\"Atom you don't believe actual photos of mastu...</td>\n",
       "      <td>907</td>\n",
       "      <td>5881</td>\n",
       "      <td>793</td>\n",
       "      <td>793</td>\n",
       "      <td>3</td>\n",
       "    </tr>\n",
       "    <tr>\n",
       "      <th>3</th>\n",
       "      <td>347</td>\n",
       "      <td>And you removed it! You numbskull! I don't car...</td>\n",
       "      <td>You seem to have sand in your vagina.\\n\\nMight...</td>\n",
       "      <td>9818</td>\n",
       "      <td>14195</td>\n",
       "      <td>2430</td>\n",
       "      <td>2430</td>\n",
       "      <td>4</td>\n",
       "    </tr>\n",
       "    <tr>\n",
       "      <th>4</th>\n",
       "      <td>539</td>\n",
       "      <td>smelly vagina \\n\\nBluerasberry why don't you ...</td>\n",
       "      <td>hey \\n\\nway to support nazis, you racist</td>\n",
       "      <td>4614</td>\n",
       "      <td>2195</td>\n",
       "      <td>813</td>\n",
       "      <td>813</td>\n",
       "      <td>0</td>\n",
       "    </tr>\n",
       "  </tbody>\n",
       "</table>\n",
       "</div>"
      ],
      "text/plain": [
       "   worker                                         less_toxic  \\\n",
       "0     313            This article sucks \\n\\nwoo woo wooooooo   \n",
       "1     188  \"And yes, people should recognize that but the...   \n",
       "2      82   Western Media?\\n\\nYup, because every crime in...   \n",
       "3     347  And you removed it! You numbskull! I don't car...   \n",
       "4     539   smelly vagina \\n\\nBluerasberry why don't you ...   \n",
       "\n",
       "                                          more_toxic  less_id  more_id  \\\n",
       "0  WHAT!!!!!!!!?!?!!?!?!!?!?!?!?!!!!!!!!!!!!!!!!!...     3909     6942   \n",
       "1   Daphne Guinness \\n\\nTop of the mornin' my fav...     1911     6597   \n",
       "2  \"Atom you don't believe actual photos of mastu...      907     5881   \n",
       "3  You seem to have sand in your vagina.\\n\\nMight...     9818    14195   \n",
       "4           hey \\n\\nway to support nazis, you racist     4614     2195   \n",
       "\n",
       "   less_gid  more_gid  fold  \n",
       "0      2470      2470     1  \n",
       "1       745       745     2  \n",
       "2       793       793     3  \n",
       "3      2430      2430     4  \n",
       "4       813       813     0  "
      ]
     },
     "execution_count": 29,
     "metadata": {},
     "output_type": "execute_result"
    }
   ],
   "source": [
    "# skf = StratifiedKFold(n_splits=config.n_fold, shuffle=True, random_state=config.seed)\n",
    "\n",
    "# for fold, (_, val_idx) in enumerate(skf.split(X=val_df, y=val_df[\"worker\"])):\n",
    "#     val_df.loc[val_idx, \"kfold\"] = int(fold)\n",
    "\n",
    "# val_df[\"kfold\"] = val_df[\"kfold\"].astype(int)\n",
    "val_df.head()"
   ]
  },
  {
   "cell_type": "code",
   "execution_count": 31,
   "id": "7113aecd",
   "metadata": {},
   "outputs": [
    {
     "name": "stdout",
     "output_type": "stream",
     "text": [
      "★★★★★★★★★★★★★★★★★★★★★★★★★  Fold1  ★★★★★★★★★★★★★★★★★★★★★★★★★\n"
     ]
    },
    {
     "name": "stderr",
     "output_type": "stream",
     "text": [
      "Some weights of the model checkpoint at roberta-base were not used when initializing RobertaModel: ['lm_head.dense.weight', 'lm_head.layer_norm.weight', 'lm_head.decoder.weight', 'lm_head.bias', 'lm_head.dense.bias', 'lm_head.layer_norm.bias']\n",
      "- This IS expected if you are initializing RobertaModel from the checkpoint of a model trained on another task or with another architecture (e.g. initializing a BertForSequenceClassification model from a BertForPreTraining model).\n",
      "- This IS NOT expected if you are initializing RobertaModel from the checkpoint of a model that you expect to be exactly identical (initializing a BertForSequenceClassification model from a BertForSequenceClassification model).\n"
     ]
    },
    {
     "name": "stdout",
     "output_type": "stream",
     "text": [
      "Use Model: roberta-base\n"
     ]
    },
    {
     "data": {
      "text/html": [
       "<pre style=\"white-space:pre;overflow-x:auto;line-height:normal;font-family:Menlo,'DejaVu Sans Mono',consolas,'Courier New',monospace\">┏━━━┳━━━━━━━━━━━━┳━━━━━━━━━━━━━━┳━━━━━━━━┓\n",
       "┃<span style=\"color: #800080; text-decoration-color: #800080; font-weight: bold\">   </span>┃<span style=\"color: #800080; text-decoration-color: #800080; font-weight: bold\"> Name       </span>┃<span style=\"color: #800080; text-decoration-color: #800080; font-weight: bold\"> Type         </span>┃<span style=\"color: #800080; text-decoration-color: #800080; font-weight: bold\"> Params </span>┃\n",
       "┡━━━╇━━━━━━━━━━━━╇━━━━━━━━━━━━━━╇━━━━━━━━┩\n",
       "│<span style=\"color: #7f7f7f; text-decoration-color: #7f7f7f\"> 0 </span>│ base_model │ RobertaModel │  124 M │\n",
       "│<span style=\"color: #7f7f7f; text-decoration-color: #7f7f7f\"> 1 </span>│ norm       │ LayerNorm    │  1.5 K │\n",
       "│<span style=\"color: #7f7f7f; text-decoration-color: #7f7f7f\"> 2 </span>│ drop       │ Dropout      │      0 │\n",
       "│<span style=\"color: #7f7f7f; text-decoration-color: #7f7f7f\"> 3 </span>│ head       │ Linear       │    769 │\n",
       "└───┴────────────┴──────────────┴────────┘\n",
       "</pre>\n"
      ],
      "text/plain": [
       "┏━━━┳━━━━━━━━━━━━┳━━━━━━━━━━━━━━┳━━━━━━━━┓\n",
       "┃\u001b[1;35m \u001b[0m\u001b[1;35m \u001b[0m\u001b[1;35m \u001b[0m┃\u001b[1;35m \u001b[0m\u001b[1;35mName      \u001b[0m\u001b[1;35m \u001b[0m┃\u001b[1;35m \u001b[0m\u001b[1;35mType        \u001b[0m\u001b[1;35m \u001b[0m┃\u001b[1;35m \u001b[0m\u001b[1;35mParams\u001b[0m\u001b[1;35m \u001b[0m┃\n",
       "┡━━━╇━━━━━━━━━━━━╇━━━━━━━━━━━━━━╇━━━━━━━━┩\n",
       "│\u001b[2m \u001b[0m\u001b[2m0\u001b[0m\u001b[2m \u001b[0m│ base_model │ RobertaModel │  124 M │\n",
       "│\u001b[2m \u001b[0m\u001b[2m1\u001b[0m\u001b[2m \u001b[0m│ norm       │ LayerNorm    │  1.5 K │\n",
       "│\u001b[2m \u001b[0m\u001b[2m2\u001b[0m\u001b[2m \u001b[0m│ drop       │ Dropout      │      0 │\n",
       "│\u001b[2m \u001b[0m\u001b[2m3\u001b[0m\u001b[2m \u001b[0m│ head       │ Linear       │    769 │\n",
       "└───┴────────────┴──────────────┴────────┘\n"
      ]
     },
     "metadata": {},
     "output_type": "display_data"
    },
    {
     "data": {
      "text/html": [
       "<pre style=\"white-space:pre;overflow-x:auto;line-height:normal;font-family:Menlo,'DejaVu Sans Mono',consolas,'Courier New',monospace\"><span style=\"font-weight: bold\">Trainable params</span>: 124 M                                                                      \n",
       "<span style=\"font-weight: bold\">Non-trainable params</span>: 0                                                                      \n",
       "<span style=\"font-weight: bold\">Total params</span>: 124 M                                                                          \n",
       "<span style=\"font-weight: bold\">Total estimated model params size (MB)</span>: 498                                                  \n",
       "</pre>\n"
      ],
      "text/plain": [
       "\u001b[1mTrainable params\u001b[0m: 124 M                                                                      \n",
       "\u001b[1mNon-trainable params\u001b[0m: 0                                                                      \n",
       "\u001b[1mTotal params\u001b[0m: 124 M                                                                          \n",
       "\u001b[1mTotal estimated model params size (MB)\u001b[0m: 498                                                  \n"
      ]
     },
     "metadata": {},
     "output_type": "display_data"
    },
    {
     "data": {
      "application/vnd.jupyter.widget-view+json": {
       "model_id": "0ee17718e0864fd99e361896e3e3383e",
       "version_major": 2,
       "version_minor": 0
      },
      "text/plain": [
       "Output()"
      ]
     },
     "metadata": {},
     "output_type": "display_data"
    },
    {
     "data": {
      "text/html": [
       "<pre style=\"white-space:pre;overflow-x:auto;line-height:normal;font-family:Menlo,'DejaVu Sans Mono',consolas,'Courier New',monospace\"><span style=\"color: #c0c0c0; text-decoration-color: #c0c0c0\">Epoch 0   </span> <span style=\"color: #6206e0; text-decoration-color: #6206e0\">━━━━━━━━━━━━━━━━━━━━━━━━━━━━━━</span> <span style=\"color: #c0c0c0; text-decoration-color: #c0c0c0\">2/2</span> <span style=\"color: #8a8a8a; text-decoration-color: #8a8a8a\">0:00:01 • 0:00:00</span> <span style=\"color: #b2b2b2; text-decoration-color: #b2b2b2\">3.14it/s</span> <span style=\"color: #c0c0c0; text-decoration-color: #c0c0c0\">loss: 0.764 v_num:  </span>\n",
       "</pre>\n"
      ],
      "text/plain": [
       "\u001b[37mEpoch 0   \u001b[0m \u001b[38;2;98;6;224m━━━━━━━━━━━━━━━━━━━━━━━━━━━━━━\u001b[0m \u001b[37m2/2\u001b[0m \u001b[38;5;245m0:00:01 • 0:00:00\u001b[0m \u001b[38;5;249m3.14it/s\u001b[0m \u001b[37mloss: 0.764 v_num:  \u001b[0m\n"
      ]
     },
     "metadata": {},
     "output_type": "display_data"
    },
    {
     "data": {
      "text/html": [
       "<pre style=\"white-space:pre;overflow-x:auto;line-height:normal;font-family:Menlo,'DejaVu Sans Mono',consolas,'Courier New',monospace\">\n",
       "</pre>\n"
      ],
      "text/plain": [
       "\n"
      ]
     },
     "metadata": {},
     "output_type": "display_data"
    },
    {
     "name": "stdout",
     "output_type": "stream",
     "text": [
      "★★★★★★★★★★★★★★★★★★★★★★★★★  Fold2  ★★★★★★★★★★★★★★★★★★★★★★★★★\n"
     ]
    },
    {
     "name": "stderr",
     "output_type": "stream",
     "text": [
      "Some weights of the model checkpoint at roberta-base were not used when initializing RobertaModel: ['lm_head.dense.weight', 'lm_head.layer_norm.weight', 'lm_head.decoder.weight', 'lm_head.bias', 'lm_head.dense.bias', 'lm_head.layer_norm.bias']\n",
      "- This IS expected if you are initializing RobertaModel from the checkpoint of a model trained on another task or with another architecture (e.g. initializing a BertForSequenceClassification model from a BertForPreTraining model).\n",
      "- This IS NOT expected if you are initializing RobertaModel from the checkpoint of a model that you expect to be exactly identical (initializing a BertForSequenceClassification model from a BertForSequenceClassification model).\n"
     ]
    },
    {
     "name": "stdout",
     "output_type": "stream",
     "text": [
      "Use Model: roberta-base\n"
     ]
    },
    {
     "data": {
      "text/html": [
       "<pre style=\"white-space:pre;overflow-x:auto;line-height:normal;font-family:Menlo,'DejaVu Sans Mono',consolas,'Courier New',monospace\">┏━━━┳━━━━━━━━━━━━┳━━━━━━━━━━━━━━┳━━━━━━━━┓\n",
       "┃<span style=\"color: #800080; text-decoration-color: #800080; font-weight: bold\">   </span>┃<span style=\"color: #800080; text-decoration-color: #800080; font-weight: bold\"> Name       </span>┃<span style=\"color: #800080; text-decoration-color: #800080; font-weight: bold\"> Type         </span>┃<span style=\"color: #800080; text-decoration-color: #800080; font-weight: bold\"> Params </span>┃\n",
       "┡━━━╇━━━━━━━━━━━━╇━━━━━━━━━━━━━━╇━━━━━━━━┩\n",
       "│<span style=\"color: #7f7f7f; text-decoration-color: #7f7f7f\"> 0 </span>│ base_model │ RobertaModel │  124 M │\n",
       "│<span style=\"color: #7f7f7f; text-decoration-color: #7f7f7f\"> 1 </span>│ norm       │ LayerNorm    │  1.5 K │\n",
       "│<span style=\"color: #7f7f7f; text-decoration-color: #7f7f7f\"> 2 </span>│ drop       │ Dropout      │      0 │\n",
       "│<span style=\"color: #7f7f7f; text-decoration-color: #7f7f7f\"> 3 </span>│ head       │ Linear       │    769 │\n",
       "└───┴────────────┴──────────────┴────────┘\n",
       "</pre>\n"
      ],
      "text/plain": [
       "┏━━━┳━━━━━━━━━━━━┳━━━━━━━━━━━━━━┳━━━━━━━━┓\n",
       "┃\u001b[1;35m \u001b[0m\u001b[1;35m \u001b[0m\u001b[1;35m \u001b[0m┃\u001b[1;35m \u001b[0m\u001b[1;35mName      \u001b[0m\u001b[1;35m \u001b[0m┃\u001b[1;35m \u001b[0m\u001b[1;35mType        \u001b[0m\u001b[1;35m \u001b[0m┃\u001b[1;35m \u001b[0m\u001b[1;35mParams\u001b[0m\u001b[1;35m \u001b[0m┃\n",
       "┡━━━╇━━━━━━━━━━━━╇━━━━━━━━━━━━━━╇━━━━━━━━┩\n",
       "│\u001b[2m \u001b[0m\u001b[2m0\u001b[0m\u001b[2m \u001b[0m│ base_model │ RobertaModel │  124 M │\n",
       "│\u001b[2m \u001b[0m\u001b[2m1\u001b[0m\u001b[2m \u001b[0m│ norm       │ LayerNorm    │  1.5 K │\n",
       "│\u001b[2m \u001b[0m\u001b[2m2\u001b[0m\u001b[2m \u001b[0m│ drop       │ Dropout      │      0 │\n",
       "│\u001b[2m \u001b[0m\u001b[2m3\u001b[0m\u001b[2m \u001b[0m│ head       │ Linear       │    769 │\n",
       "└───┴────────────┴──────────────┴────────┘\n"
      ]
     },
     "metadata": {},
     "output_type": "display_data"
    },
    {
     "data": {
      "text/html": [
       "<pre style=\"white-space:pre;overflow-x:auto;line-height:normal;font-family:Menlo,'DejaVu Sans Mono',consolas,'Courier New',monospace\"><span style=\"font-weight: bold\">Trainable params</span>: 124 M                                                                      \n",
       "<span style=\"font-weight: bold\">Non-trainable params</span>: 0                                                                      \n",
       "<span style=\"font-weight: bold\">Total params</span>: 124 M                                                                          \n",
       "<span style=\"font-weight: bold\">Total estimated model params size (MB)</span>: 498                                                  \n",
       "</pre>\n"
      ],
      "text/plain": [
       "\u001b[1mTrainable params\u001b[0m: 124 M                                                                      \n",
       "\u001b[1mNon-trainable params\u001b[0m: 0                                                                      \n",
       "\u001b[1mTotal params\u001b[0m: 124 M                                                                          \n",
       "\u001b[1mTotal estimated model params size (MB)\u001b[0m: 498                                                  \n"
      ]
     },
     "metadata": {},
     "output_type": "display_data"
    },
    {
     "data": {
      "application/vnd.jupyter.widget-view+json": {
       "model_id": "d1f5589b8e9e4f798901967cae631de3",
       "version_major": 2,
       "version_minor": 0
      },
      "text/plain": [
       "Output()"
      ]
     },
     "metadata": {},
     "output_type": "display_data"
    },
    {
     "data": {
      "text/html": [
       "<pre style=\"white-space:pre;overflow-x:auto;line-height:normal;font-family:Menlo,'DejaVu Sans Mono',consolas,'Courier New',monospace\"><span style=\"color: #c0c0c0; text-decoration-color: #c0c0c0\">Epoch 0   </span> <span style=\"color: #6206e0; text-decoration-color: #6206e0\">━━━━━━━━━━━━━━━━━━━━━━━━━━━━━━</span> <span style=\"color: #c0c0c0; text-decoration-color: #c0c0c0\">2/2</span> <span style=\"color: #8a8a8a; text-decoration-color: #8a8a8a\">0:00:01 • 0:00:00</span> <span style=\"color: #b2b2b2; text-decoration-color: #b2b2b2\">2.88it/s</span> <span style=\"color: #c0c0c0; text-decoration-color: #c0c0c0\">loss: 0.723 v_num:  </span>\n",
       "</pre>\n"
      ],
      "text/plain": [
       "\u001b[37mEpoch 0   \u001b[0m \u001b[38;2;98;6;224m━━━━━━━━━━━━━━━━━━━━━━━━━━━━━━\u001b[0m \u001b[37m2/2\u001b[0m \u001b[38;5;245m0:00:01 • 0:00:00\u001b[0m \u001b[38;5;249m2.88it/s\u001b[0m \u001b[37mloss: 0.723 v_num:  \u001b[0m\n"
      ]
     },
     "metadata": {},
     "output_type": "display_data"
    },
    {
     "data": {
      "text/html": [
       "<pre style=\"white-space:pre;overflow-x:auto;line-height:normal;font-family:Menlo,'DejaVu Sans Mono',consolas,'Courier New',monospace\">\n",
       "</pre>\n"
      ],
      "text/plain": [
       "\n"
      ]
     },
     "metadata": {},
     "output_type": "display_data"
    },
    {
     "name": "stdout",
     "output_type": "stream",
     "text": [
      "★★★★★★★★★★★★★★★★★★★★★★★★★  Fold3  ★★★★★★★★★★★★★★★★★★★★★★★★★\n"
     ]
    },
    {
     "name": "stderr",
     "output_type": "stream",
     "text": [
      "Some weights of the model checkpoint at roberta-base were not used when initializing RobertaModel: ['lm_head.dense.weight', 'lm_head.layer_norm.weight', 'lm_head.decoder.weight', 'lm_head.bias', 'lm_head.dense.bias', 'lm_head.layer_norm.bias']\n",
      "- This IS expected if you are initializing RobertaModel from the checkpoint of a model trained on another task or with another architecture (e.g. initializing a BertForSequenceClassification model from a BertForPreTraining model).\n",
      "- This IS NOT expected if you are initializing RobertaModel from the checkpoint of a model that you expect to be exactly identical (initializing a BertForSequenceClassification model from a BertForSequenceClassification model).\n"
     ]
    },
    {
     "name": "stdout",
     "output_type": "stream",
     "text": [
      "Use Model: roberta-base\n"
     ]
    },
    {
     "data": {
      "text/html": [
       "<pre style=\"white-space:pre;overflow-x:auto;line-height:normal;font-family:Menlo,'DejaVu Sans Mono',consolas,'Courier New',monospace\">┏━━━┳━━━━━━━━━━━━┳━━━━━━━━━━━━━━┳━━━━━━━━┓\n",
       "┃<span style=\"color: #800080; text-decoration-color: #800080; font-weight: bold\">   </span>┃<span style=\"color: #800080; text-decoration-color: #800080; font-weight: bold\"> Name       </span>┃<span style=\"color: #800080; text-decoration-color: #800080; font-weight: bold\"> Type         </span>┃<span style=\"color: #800080; text-decoration-color: #800080; font-weight: bold\"> Params </span>┃\n",
       "┡━━━╇━━━━━━━━━━━━╇━━━━━━━━━━━━━━╇━━━━━━━━┩\n",
       "│<span style=\"color: #7f7f7f; text-decoration-color: #7f7f7f\"> 0 </span>│ base_model │ RobertaModel │  124 M │\n",
       "│<span style=\"color: #7f7f7f; text-decoration-color: #7f7f7f\"> 1 </span>│ norm       │ LayerNorm    │  1.5 K │\n",
       "│<span style=\"color: #7f7f7f; text-decoration-color: #7f7f7f\"> 2 </span>│ drop       │ Dropout      │      0 │\n",
       "│<span style=\"color: #7f7f7f; text-decoration-color: #7f7f7f\"> 3 </span>│ head       │ Linear       │    769 │\n",
       "└───┴────────────┴──────────────┴────────┘\n",
       "</pre>\n"
      ],
      "text/plain": [
       "┏━━━┳━━━━━━━━━━━━┳━━━━━━━━━━━━━━┳━━━━━━━━┓\n",
       "┃\u001b[1;35m \u001b[0m\u001b[1;35m \u001b[0m\u001b[1;35m \u001b[0m┃\u001b[1;35m \u001b[0m\u001b[1;35mName      \u001b[0m\u001b[1;35m \u001b[0m┃\u001b[1;35m \u001b[0m\u001b[1;35mType        \u001b[0m\u001b[1;35m \u001b[0m┃\u001b[1;35m \u001b[0m\u001b[1;35mParams\u001b[0m\u001b[1;35m \u001b[0m┃\n",
       "┡━━━╇━━━━━━━━━━━━╇━━━━━━━━━━━━━━╇━━━━━━━━┩\n",
       "│\u001b[2m \u001b[0m\u001b[2m0\u001b[0m\u001b[2m \u001b[0m│ base_model │ RobertaModel │  124 M │\n",
       "│\u001b[2m \u001b[0m\u001b[2m1\u001b[0m\u001b[2m \u001b[0m│ norm       │ LayerNorm    │  1.5 K │\n",
       "│\u001b[2m \u001b[0m\u001b[2m2\u001b[0m\u001b[2m \u001b[0m│ drop       │ Dropout      │      0 │\n",
       "│\u001b[2m \u001b[0m\u001b[2m3\u001b[0m\u001b[2m \u001b[0m│ head       │ Linear       │    769 │\n",
       "└───┴────────────┴──────────────┴────────┘\n"
      ]
     },
     "metadata": {},
     "output_type": "display_data"
    },
    {
     "data": {
      "text/html": [
       "<pre style=\"white-space:pre;overflow-x:auto;line-height:normal;font-family:Menlo,'DejaVu Sans Mono',consolas,'Courier New',monospace\"><span style=\"font-weight: bold\">Trainable params</span>: 124 M                                                                      \n",
       "<span style=\"font-weight: bold\">Non-trainable params</span>: 0                                                                      \n",
       "<span style=\"font-weight: bold\">Total params</span>: 124 M                                                                          \n",
       "<span style=\"font-weight: bold\">Total estimated model params size (MB)</span>: 498                                                  \n",
       "</pre>\n"
      ],
      "text/plain": [
       "\u001b[1mTrainable params\u001b[0m: 124 M                                                                      \n",
       "\u001b[1mNon-trainable params\u001b[0m: 0                                                                      \n",
       "\u001b[1mTotal params\u001b[0m: 124 M                                                                          \n",
       "\u001b[1mTotal estimated model params size (MB)\u001b[0m: 498                                                  \n"
      ]
     },
     "metadata": {},
     "output_type": "display_data"
    },
    {
     "data": {
      "application/vnd.jupyter.widget-view+json": {
       "model_id": "8bf59dffdf7a49b8af44756229611164",
       "version_major": 2,
       "version_minor": 0
      },
      "text/plain": [
       "Output()"
      ]
     },
     "metadata": {},
     "output_type": "display_data"
    },
    {
     "data": {
      "text/html": [
       "<pre style=\"white-space:pre;overflow-x:auto;line-height:normal;font-family:Menlo,'DejaVu Sans Mono',consolas,'Courier New',monospace\"><span style=\"color: #c0c0c0; text-decoration-color: #c0c0c0\">Epoch 0   </span> <span style=\"color: #6206e0; text-decoration-color: #6206e0\">━━━━━━━━━━━━━━━━━━━━━━━━━━━━━━</span> <span style=\"color: #c0c0c0; text-decoration-color: #c0c0c0\">2/2</span> <span style=\"color: #8a8a8a; text-decoration-color: #8a8a8a\">0:00:01 • 0:00:00</span> <span style=\"color: #b2b2b2; text-decoration-color: #b2b2b2\">2.55it/s</span> <span style=\"color: #c0c0c0; text-decoration-color: #c0c0c0\">loss: 0.763 v_num:  </span>\n",
       "</pre>\n"
      ],
      "text/plain": [
       "\u001b[37mEpoch 0   \u001b[0m \u001b[38;2;98;6;224m━━━━━━━━━━━━━━━━━━━━━━━━━━━━━━\u001b[0m \u001b[37m2/2\u001b[0m \u001b[38;5;245m0:00:01 • 0:00:00\u001b[0m \u001b[38;5;249m2.55it/s\u001b[0m \u001b[37mloss: 0.763 v_num:  \u001b[0m\n"
      ]
     },
     "metadata": {},
     "output_type": "display_data"
    },
    {
     "data": {
      "text/html": [
       "<pre style=\"white-space:pre;overflow-x:auto;line-height:normal;font-family:Menlo,'DejaVu Sans Mono',consolas,'Courier New',monospace\">\n",
       "</pre>\n"
      ],
      "text/plain": [
       "\n"
      ]
     },
     "metadata": {},
     "output_type": "display_data"
    },
    {
     "name": "stdout",
     "output_type": "stream",
     "text": [
      "★★★★★★★★★★★★★★★★★★★★★★★★★  Fold4  ★★★★★★★★★★★★★★★★★★★★★★★★★\n"
     ]
    },
    {
     "name": "stderr",
     "output_type": "stream",
     "text": [
      "Some weights of the model checkpoint at roberta-base were not used when initializing RobertaModel: ['lm_head.dense.weight', 'lm_head.layer_norm.weight', 'lm_head.decoder.weight', 'lm_head.bias', 'lm_head.dense.bias', 'lm_head.layer_norm.bias']\n",
      "- This IS expected if you are initializing RobertaModel from the checkpoint of a model trained on another task or with another architecture (e.g. initializing a BertForSequenceClassification model from a BertForPreTraining model).\n",
      "- This IS NOT expected if you are initializing RobertaModel from the checkpoint of a model that you expect to be exactly identical (initializing a BertForSequenceClassification model from a BertForSequenceClassification model).\n"
     ]
    },
    {
     "name": "stdout",
     "output_type": "stream",
     "text": [
      "Use Model: roberta-base\n"
     ]
    },
    {
     "data": {
      "text/html": [
       "<pre style=\"white-space:pre;overflow-x:auto;line-height:normal;font-family:Menlo,'DejaVu Sans Mono',consolas,'Courier New',monospace\">┏━━━┳━━━━━━━━━━━━┳━━━━━━━━━━━━━━┳━━━━━━━━┓\n",
       "┃<span style=\"color: #800080; text-decoration-color: #800080; font-weight: bold\">   </span>┃<span style=\"color: #800080; text-decoration-color: #800080; font-weight: bold\"> Name       </span>┃<span style=\"color: #800080; text-decoration-color: #800080; font-weight: bold\"> Type         </span>┃<span style=\"color: #800080; text-decoration-color: #800080; font-weight: bold\"> Params </span>┃\n",
       "┡━━━╇━━━━━━━━━━━━╇━━━━━━━━━━━━━━╇━━━━━━━━┩\n",
       "│<span style=\"color: #7f7f7f; text-decoration-color: #7f7f7f\"> 0 </span>│ base_model │ RobertaModel │  124 M │\n",
       "│<span style=\"color: #7f7f7f; text-decoration-color: #7f7f7f\"> 1 </span>│ norm       │ LayerNorm    │  1.5 K │\n",
       "│<span style=\"color: #7f7f7f; text-decoration-color: #7f7f7f\"> 2 </span>│ drop       │ Dropout      │      0 │\n",
       "│<span style=\"color: #7f7f7f; text-decoration-color: #7f7f7f\"> 3 </span>│ head       │ Linear       │    769 │\n",
       "└───┴────────────┴──────────────┴────────┘\n",
       "</pre>\n"
      ],
      "text/plain": [
       "┏━━━┳━━━━━━━━━━━━┳━━━━━━━━━━━━━━┳━━━━━━━━┓\n",
       "┃\u001b[1;35m \u001b[0m\u001b[1;35m \u001b[0m\u001b[1;35m \u001b[0m┃\u001b[1;35m \u001b[0m\u001b[1;35mName      \u001b[0m\u001b[1;35m \u001b[0m┃\u001b[1;35m \u001b[0m\u001b[1;35mType        \u001b[0m\u001b[1;35m \u001b[0m┃\u001b[1;35m \u001b[0m\u001b[1;35mParams\u001b[0m\u001b[1;35m \u001b[0m┃\n",
       "┡━━━╇━━━━━━━━━━━━╇━━━━━━━━━━━━━━╇━━━━━━━━┩\n",
       "│\u001b[2m \u001b[0m\u001b[2m0\u001b[0m\u001b[2m \u001b[0m│ base_model │ RobertaModel │  124 M │\n",
       "│\u001b[2m \u001b[0m\u001b[2m1\u001b[0m\u001b[2m \u001b[0m│ norm       │ LayerNorm    │  1.5 K │\n",
       "│\u001b[2m \u001b[0m\u001b[2m2\u001b[0m\u001b[2m \u001b[0m│ drop       │ Dropout      │      0 │\n",
       "│\u001b[2m \u001b[0m\u001b[2m3\u001b[0m\u001b[2m \u001b[0m│ head       │ Linear       │    769 │\n",
       "└───┴────────────┴──────────────┴────────┘\n"
      ]
     },
     "metadata": {},
     "output_type": "display_data"
    },
    {
     "data": {
      "text/html": [
       "<pre style=\"white-space:pre;overflow-x:auto;line-height:normal;font-family:Menlo,'DejaVu Sans Mono',consolas,'Courier New',monospace\"><span style=\"font-weight: bold\">Trainable params</span>: 124 M                                                                      \n",
       "<span style=\"font-weight: bold\">Non-trainable params</span>: 0                                                                      \n",
       "<span style=\"font-weight: bold\">Total params</span>: 124 M                                                                          \n",
       "<span style=\"font-weight: bold\">Total estimated model params size (MB)</span>: 498                                                  \n",
       "</pre>\n"
      ],
      "text/plain": [
       "\u001b[1mTrainable params\u001b[0m: 124 M                                                                      \n",
       "\u001b[1mNon-trainable params\u001b[0m: 0                                                                      \n",
       "\u001b[1mTotal params\u001b[0m: 124 M                                                                          \n",
       "\u001b[1mTotal estimated model params size (MB)\u001b[0m: 498                                                  \n"
      ]
     },
     "metadata": {},
     "output_type": "display_data"
    },
    {
     "data": {
      "application/vnd.jupyter.widget-view+json": {
       "model_id": "b2a0f4858f9a4d79ac342c0aee3a3532",
       "version_major": 2,
       "version_minor": 0
      },
      "text/plain": [
       "Output()"
      ]
     },
     "metadata": {},
     "output_type": "display_data"
    },
    {
     "data": {
      "text/html": [
       "<pre style=\"white-space:pre;overflow-x:auto;line-height:normal;font-family:Menlo,'DejaVu Sans Mono',consolas,'Courier New',monospace\"><span style=\"color: #c0c0c0; text-decoration-color: #c0c0c0\">Epoch 0   </span> <span style=\"color: #6206e0; text-decoration-color: #6206e0\">━━━━━━━━━━━━━━━━━━━━━━━━━━━━━━━</span> <span style=\"color: #c0c0c0; text-decoration-color: #c0c0c0\">2/2</span> <span style=\"color: #8a8a8a; text-decoration-color: #8a8a8a\">0:00:01 • 0:00:00</span> <span style=\"color: #b2b2b2; text-decoration-color: #b2b2b2\">2.39it/s</span> <span style=\"color: #c0c0c0; text-decoration-color: #c0c0c0\">loss: 0.42 v_num:  </span>\n",
       "</pre>\n"
      ],
      "text/plain": [
       "\u001b[37mEpoch 0   \u001b[0m \u001b[38;2;98;6;224m━━━━━━━━━━━━━━━━━━━━━━━━━━━━━━━\u001b[0m \u001b[37m2/2\u001b[0m \u001b[38;5;245m0:00:01 • 0:00:00\u001b[0m \u001b[38;5;249m2.39it/s\u001b[0m \u001b[37mloss: 0.42 v_num:  \u001b[0m\n"
      ]
     },
     "metadata": {},
     "output_type": "display_data"
    },
    {
     "data": {
      "text/html": [
       "<pre style=\"white-space:pre;overflow-x:auto;line-height:normal;font-family:Menlo,'DejaVu Sans Mono',consolas,'Courier New',monospace\">\n",
       "</pre>\n"
      ],
      "text/plain": [
       "\n"
      ]
     },
     "metadata": {},
     "output_type": "display_data"
    },
    {
     "name": "stdout",
     "output_type": "stream",
     "text": [
      "★★★★★★★★★★★★★★★★★★★★★★★★★  Fold5  ★★★★★★★★★★★★★★★★★★★★★★★★★\n"
     ]
    },
    {
     "name": "stderr",
     "output_type": "stream",
     "text": [
      "Some weights of the model checkpoint at roberta-base were not used when initializing RobertaModel: ['lm_head.dense.weight', 'lm_head.layer_norm.weight', 'lm_head.decoder.weight', 'lm_head.bias', 'lm_head.dense.bias', 'lm_head.layer_norm.bias']\n",
      "- This IS expected if you are initializing RobertaModel from the checkpoint of a model trained on another task or with another architecture (e.g. initializing a BertForSequenceClassification model from a BertForPreTraining model).\n",
      "- This IS NOT expected if you are initializing RobertaModel from the checkpoint of a model that you expect to be exactly identical (initializing a BertForSequenceClassification model from a BertForSequenceClassification model).\n"
     ]
    },
    {
     "name": "stdout",
     "output_type": "stream",
     "text": [
      "Use Model: roberta-base\n"
     ]
    },
    {
     "data": {
      "text/html": [
       "<pre style=\"white-space:pre;overflow-x:auto;line-height:normal;font-family:Menlo,'DejaVu Sans Mono',consolas,'Courier New',monospace\">┏━━━┳━━━━━━━━━━━━┳━━━━━━━━━━━━━━┳━━━━━━━━┓\n",
       "┃<span style=\"color: #800080; text-decoration-color: #800080; font-weight: bold\">   </span>┃<span style=\"color: #800080; text-decoration-color: #800080; font-weight: bold\"> Name       </span>┃<span style=\"color: #800080; text-decoration-color: #800080; font-weight: bold\"> Type         </span>┃<span style=\"color: #800080; text-decoration-color: #800080; font-weight: bold\"> Params </span>┃\n",
       "┡━━━╇━━━━━━━━━━━━╇━━━━━━━━━━━━━━╇━━━━━━━━┩\n",
       "│<span style=\"color: #7f7f7f; text-decoration-color: #7f7f7f\"> 0 </span>│ base_model │ RobertaModel │  124 M │\n",
       "│<span style=\"color: #7f7f7f; text-decoration-color: #7f7f7f\"> 1 </span>│ norm       │ LayerNorm    │  1.5 K │\n",
       "│<span style=\"color: #7f7f7f; text-decoration-color: #7f7f7f\"> 2 </span>│ drop       │ Dropout      │      0 │\n",
       "│<span style=\"color: #7f7f7f; text-decoration-color: #7f7f7f\"> 3 </span>│ head       │ Linear       │    769 │\n",
       "└───┴────────────┴──────────────┴────────┘\n",
       "</pre>\n"
      ],
      "text/plain": [
       "┏━━━┳━━━━━━━━━━━━┳━━━━━━━━━━━━━━┳━━━━━━━━┓\n",
       "┃\u001b[1;35m \u001b[0m\u001b[1;35m \u001b[0m\u001b[1;35m \u001b[0m┃\u001b[1;35m \u001b[0m\u001b[1;35mName      \u001b[0m\u001b[1;35m \u001b[0m┃\u001b[1;35m \u001b[0m\u001b[1;35mType        \u001b[0m\u001b[1;35m \u001b[0m┃\u001b[1;35m \u001b[0m\u001b[1;35mParams\u001b[0m\u001b[1;35m \u001b[0m┃\n",
       "┡━━━╇━━━━━━━━━━━━╇━━━━━━━━━━━━━━╇━━━━━━━━┩\n",
       "│\u001b[2m \u001b[0m\u001b[2m0\u001b[0m\u001b[2m \u001b[0m│ base_model │ RobertaModel │  124 M │\n",
       "│\u001b[2m \u001b[0m\u001b[2m1\u001b[0m\u001b[2m \u001b[0m│ norm       │ LayerNorm    │  1.5 K │\n",
       "│\u001b[2m \u001b[0m\u001b[2m2\u001b[0m\u001b[2m \u001b[0m│ drop       │ Dropout      │      0 │\n",
       "│\u001b[2m \u001b[0m\u001b[2m3\u001b[0m\u001b[2m \u001b[0m│ head       │ Linear       │    769 │\n",
       "└───┴────────────┴──────────────┴────────┘\n"
      ]
     },
     "metadata": {},
     "output_type": "display_data"
    },
    {
     "data": {
      "text/html": [
       "<pre style=\"white-space:pre;overflow-x:auto;line-height:normal;font-family:Menlo,'DejaVu Sans Mono',consolas,'Courier New',monospace\"><span style=\"font-weight: bold\">Trainable params</span>: 124 M                                                                      \n",
       "<span style=\"font-weight: bold\">Non-trainable params</span>: 0                                                                      \n",
       "<span style=\"font-weight: bold\">Total params</span>: 124 M                                                                          \n",
       "<span style=\"font-weight: bold\">Total estimated model params size (MB)</span>: 498                                                  \n",
       "</pre>\n"
      ],
      "text/plain": [
       "\u001b[1mTrainable params\u001b[0m: 124 M                                                                      \n",
       "\u001b[1mNon-trainable params\u001b[0m: 0                                                                      \n",
       "\u001b[1mTotal params\u001b[0m: 124 M                                                                          \n",
       "\u001b[1mTotal estimated model params size (MB)\u001b[0m: 498                                                  \n"
      ]
     },
     "metadata": {},
     "output_type": "display_data"
    },
    {
     "data": {
      "application/vnd.jupyter.widget-view+json": {
       "model_id": "aacbd985a33440c985cb0ec1d748acd5",
       "version_major": 2,
       "version_minor": 0
      },
      "text/plain": [
       "Output()"
      ]
     },
     "metadata": {},
     "output_type": "display_data"
    },
    {
     "data": {
      "text/html": [
       "<pre style=\"white-space:pre;overflow-x:auto;line-height:normal;font-family:Menlo,'DejaVu Sans Mono',consolas,'Courier New',monospace\"><span style=\"color: #c0c0c0; text-decoration-color: #c0c0c0\">Epoch 0   </span> <span style=\"color: #6206e0; text-decoration-color: #6206e0\">━━━━━━━━━━━━━━━━━━━━━━━━━━━━━━</span> <span style=\"color: #c0c0c0; text-decoration-color: #c0c0c0\">2/2</span> <span style=\"color: #8a8a8a; text-decoration-color: #8a8a8a\">0:00:01 • 0:00:00</span> <span style=\"color: #b2b2b2; text-decoration-color: #b2b2b2\">2.16it/s</span> <span style=\"color: #c0c0c0; text-decoration-color: #c0c0c0\">loss: 0.536 v_num:  </span>\n",
       "</pre>\n"
      ],
      "text/plain": [
       "\u001b[37mEpoch 0   \u001b[0m \u001b[38;2;98;6;224m━━━━━━━━━━━━━━━━━━━━━━━━━━━━━━\u001b[0m \u001b[37m2/2\u001b[0m \u001b[38;5;245m0:00:01 • 0:00:00\u001b[0m \u001b[38;5;249m2.16it/s\u001b[0m \u001b[37mloss: 0.536 v_num:  \u001b[0m\n"
      ]
     },
     "metadata": {},
     "output_type": "display_data"
    },
    {
     "data": {
      "text/html": [
       "<pre style=\"white-space:pre;overflow-x:auto;line-height:normal;font-family:Menlo,'DejaVu Sans Mono',consolas,'Courier New',monospace\">\n",
       "</pre>\n"
      ],
      "text/plain": [
       "\n"
      ]
     },
     "metadata": {},
     "output_type": "display_data"
    }
   ],
   "source": [
    "## Debug\n",
    "config.trainer.fast_dev_run = True\n",
    "config.backbone.output_dim = 1\n",
    "\n",
    "for fold in config.train_fold:\n",
    "    \n",
    "    print(\"★\"*25, f\" Fold{fold+1} \", \"★\"*25)\n",
    "\n",
    "    df_train = val_df[val_df.fold != fold].reset_index(drop=True)\n",
    "    df_valid = val_df[val_df.fold != fold].reset_index(drop=True)\n",
    "\n",
    "    datamodule = JigsawDataModule(df_train, df_valid, test_df, config)\n",
    "    sample_dataloader = JigsawDataModule(df_train, df_valid, test_df, config).train_dataloader()\n",
    "\n",
    "    config.scheduler.params.T_0 = config.epoch * len(sample_dataloader)\n",
    "    model = JigsawModel(config, fold)\n",
    "    lr_monitor = callbacks.LearningRateMonitor()\n",
    "\n",
    "    loss_checkpoint = callbacks.ModelCheckpoint(\n",
    "        filename=f\"best_acc_fold{fold+1}\",\n",
    "        monitor=f\"valid_acc/fold{fold+1}\",\n",
    "        save_top_k=1,\n",
    "        mode=\"max\",\n",
    "        save_last=False,\n",
    "        dirpath=MODEL_DIR,\n",
    "        save_weights_only=True,\n",
    "    )\n",
    "\n",
    "    wandb_logger = WandbLogger(\n",
    "        project=config.project, \n",
    "        entity=config.entity,\n",
    "        name = f\"{config.exp_name}\",\n",
    "        tags = ['RoBERTa-Base', \"MarginRankLoss\"]\n",
    "    )\n",
    "\n",
    "    lr_monitor = LearningRateMonitor(logging_interval='step')\n",
    "\n",
    "    trainer = pl.Trainer(\n",
    "        max_epochs=config.epoch,\n",
    "        callbacks=[loss_checkpoint, lr_monitor, RichProgressBar()],\n",
    "#         deterministic=True,\n",
    "        logger=[wandb_logger],\n",
    "        **config.trainer\n",
    "    )\n",
    "    trainer.fit(model, datamodule=datamodule)"
   ]
  },
  {
   "cell_type": "code",
   "execution_count": null,
   "id": "95087966",
   "metadata": {},
   "outputs": [
    {
     "name": "stdout",
     "output_type": "stream",
     "text": [
      "★★★★★★★★★★★★★★★★★★★★★★★★★  Fold1  ★★★★★★★★★★★★★★★★★★★★★★★★★\n"
     ]
    },
    {
     "name": "stderr",
     "output_type": "stream",
     "text": [
      "Some weights of the model checkpoint at roberta-base were not used when initializing RobertaModel: ['lm_head.dense.weight', 'lm_head.layer_norm.weight', 'lm_head.decoder.weight', 'lm_head.bias', 'lm_head.dense.bias', 'lm_head.layer_norm.bias']\n",
      "- This IS expected if you are initializing RobertaModel from the checkpoint of a model trained on another task or with another architecture (e.g. initializing a BertForSequenceClassification model from a BertForPreTraining model).\n",
      "- This IS NOT expected if you are initializing RobertaModel from the checkpoint of a model that you expect to be exactly identical (initializing a BertForSequenceClassification model from a BertForSequenceClassification model).\n"
     ]
    },
    {
     "name": "stdout",
     "output_type": "stream",
     "text": [
      "Use Model: roberta-base\n"
     ]
    },
    {
     "name": "stderr",
     "output_type": "stream",
     "text": [
      "\u001b[34m\u001b[1mwandb\u001b[0m: Currently logged in as: \u001b[33mdataskywalker\u001b[0m (use `wandb login --relogin` to force relogin)\n",
      "\u001b[34m\u001b[1mwandb\u001b[0m: wandb version 0.12.10 is available!  To upgrade, please run:\n",
      "\u001b[34m\u001b[1mwandb\u001b[0m:  $ pip install wandb --upgrade\n",
      "2022-02-02 04:41:20.187670: I tensorflow/stream_executor/platform/default/dso_loader.cc:49] Successfully opened dynamic library libcudart.so.11.0\n",
      "fatal: ambiguous argument 'HEAD': unknown revision or path not in the working tree.\n",
      "Use '--' to separate paths from revisions, like this:\n",
      "'git <command> [<revision>...] -- [<file>...]'\n"
     ]
    },
    {
     "data": {
      "text/html": [
       "\n",
       "                Tracking run with wandb version 0.11.2<br/>\n",
       "                Syncing run <strong style=\"color:#cdcd00\">038_exp</strong> to <a href=\"https://wandb.ai\" target=\"_blank\">Weights & Biases</a> <a href=\"https://docs.wandb.com/integrations/jupyter.html\" target=\"_blank\">(Documentation)</a>.<br/>\n",
       "                Project page: <a href=\"https://wandb.ai/dataskywalker/Jigsaw\" target=\"_blank\">https://wandb.ai/dataskywalker/Jigsaw</a><br/>\n",
       "                Run page: <a href=\"https://wandb.ai/dataskywalker/Jigsaw/runs/r7cap1cj\" target=\"_blank\">https://wandb.ai/dataskywalker/Jigsaw/runs/r7cap1cj</a><br/>\n",
       "                Run data is saved locally in <code>/mnt/work/shimizu/kaggle/Jigsaw/notebooks/wandb/run-20220202_044117-r7cap1cj</code><br/><br/>\n",
       "            "
      ],
      "text/plain": [
       "<IPython.core.display.HTML object>"
      ]
     },
     "metadata": {},
     "output_type": "display_data"
    },
    {
     "data": {
      "text/html": [
       "<pre style=\"white-space:pre;overflow-x:auto;line-height:normal;font-family:Menlo,'DejaVu Sans Mono',consolas,'Courier New',monospace\">┏━━━┳━━━━━━━━━━━━┳━━━━━━━━━━━━━━┳━━━━━━━━┓\n",
       "┃<span style=\"color: #800080; text-decoration-color: #800080; font-weight: bold\">   </span>┃<span style=\"color: #800080; text-decoration-color: #800080; font-weight: bold\"> Name       </span>┃<span style=\"color: #800080; text-decoration-color: #800080; font-weight: bold\"> Type         </span>┃<span style=\"color: #800080; text-decoration-color: #800080; font-weight: bold\"> Params </span>┃\n",
       "┡━━━╇━━━━━━━━━━━━╇━━━━━━━━━━━━━━╇━━━━━━━━┩\n",
       "│<span style=\"color: #7f7f7f; text-decoration-color: #7f7f7f\"> 0 </span>│ base_model │ RobertaModel │  124 M │\n",
       "│<span style=\"color: #7f7f7f; text-decoration-color: #7f7f7f\"> 1 </span>│ norm       │ LayerNorm    │  1.5 K │\n",
       "│<span style=\"color: #7f7f7f; text-decoration-color: #7f7f7f\"> 2 </span>│ drop       │ Dropout      │      0 │\n",
       "│<span style=\"color: #7f7f7f; text-decoration-color: #7f7f7f\"> 3 </span>│ head       │ Linear       │    769 │\n",
       "└───┴────────────┴──────────────┴────────┘\n",
       "</pre>\n"
      ],
      "text/plain": [
       "┏━━━┳━━━━━━━━━━━━┳━━━━━━━━━━━━━━┳━━━━━━━━┓\n",
       "┃\u001b[1;35m \u001b[0m\u001b[1;35m \u001b[0m\u001b[1;35m \u001b[0m┃\u001b[1;35m \u001b[0m\u001b[1;35mName      \u001b[0m\u001b[1;35m \u001b[0m┃\u001b[1;35m \u001b[0m\u001b[1;35mType        \u001b[0m\u001b[1;35m \u001b[0m┃\u001b[1;35m \u001b[0m\u001b[1;35mParams\u001b[0m\u001b[1;35m \u001b[0m┃\n",
       "┡━━━╇━━━━━━━━━━━━╇━━━━━━━━━━━━━━╇━━━━━━━━┩\n",
       "│\u001b[2m \u001b[0m\u001b[2m0\u001b[0m\u001b[2m \u001b[0m│ base_model │ RobertaModel │  124 M │\n",
       "│\u001b[2m \u001b[0m\u001b[2m1\u001b[0m\u001b[2m \u001b[0m│ norm       │ LayerNorm    │  1.5 K │\n",
       "│\u001b[2m \u001b[0m\u001b[2m2\u001b[0m\u001b[2m \u001b[0m│ drop       │ Dropout      │      0 │\n",
       "│\u001b[2m \u001b[0m\u001b[2m3\u001b[0m\u001b[2m \u001b[0m│ head       │ Linear       │    769 │\n",
       "└───┴────────────┴──────────────┴────────┘\n"
      ]
     },
     "metadata": {},
     "output_type": "display_data"
    },
    {
     "data": {
      "text/html": [
       "<pre style=\"white-space:pre;overflow-x:auto;line-height:normal;font-family:Menlo,'DejaVu Sans Mono',consolas,'Courier New',monospace\"><span style=\"font-weight: bold\">Trainable params</span>: 124 M                                                                      \n",
       "<span style=\"font-weight: bold\">Non-trainable params</span>: 0                                                                      \n",
       "<span style=\"font-weight: bold\">Total params</span>: 124 M                                                                          \n",
       "<span style=\"font-weight: bold\">Total estimated model params size (MB)</span>: 498                                                  \n",
       "</pre>\n"
      ],
      "text/plain": [
       "\u001b[1mTrainable params\u001b[0m: 124 M                                                                      \n",
       "\u001b[1mNon-trainable params\u001b[0m: 0                                                                      \n",
       "\u001b[1mTotal params\u001b[0m: 124 M                                                                          \n",
       "\u001b[1mTotal estimated model params size (MB)\u001b[0m: 498                                                  \n"
      ]
     },
     "metadata": {},
     "output_type": "display_data"
    },
    {
     "data": {
      "application/vnd.jupyter.widget-view+json": {
       "model_id": "9f8847b37b7f46609c7f33d1188b697b",
       "version_major": 2,
       "version_minor": 0
      },
      "text/plain": [
       "Output()"
      ]
     },
     "metadata": {},
     "output_type": "display_data"
    },
    {
     "data": {
      "text/html": [
       "<pre style=\"white-space:pre;overflow-x:auto;line-height:normal;font-family:Menlo,'DejaVu Sans Mono',consolas,'Courier New',monospace\">Epoch 4    <span style=\"color: #6206e0; text-decoration-color: #6206e0\">━━━━━━━━━━━━━━━━━━━━━</span> <span style=\"color: #c0c0c0; text-decoration-color: #c0c0c0\">6021/6021</span> <span style=\"color: #8a8a8a; text-decoration-color: #8a8a8a\">0:14:16 • 0:00:00</span> <span style=\"color: #b2b2b2; text-decoration-color: #b2b2b2\">19.59it/s</span> <span style=\"color: #c0c0c0; text-decoration-color: #c0c0c0\">loss: 0.465 v_num:    </span>\n",
       "                                                                       <span style=\"color: #c0c0c0; text-decoration-color: #c0c0c0\">p1cj valid_loss/fold1:</span>\n",
       "                                                                       <span style=\"color: #c0c0c0; text-decoration-color: #c0c0c0\">0.517 valid_acc/fold1:</span>\n",
       "                                                                       <span style=\"color: #c0c0c0; text-decoration-color: #c0c0c0\">0.678                 </span>\n",
       "                                                                       <span style=\"color: #c0c0c0; text-decoration-color: #c0c0c0\">train_loss/fold1:     </span>\n",
       "                                                                       <span style=\"color: #c0c0c0; text-decoration-color: #c0c0c0\">0.052                 </span>\n",
       "</pre>\n"
      ],
      "text/plain": [
       "Epoch 4    \u001b[38;2;98;6;224m━━━━━━━━━━━━━━━━━━━━━\u001b[0m \u001b[37m6021/6021\u001b[0m \u001b[38;5;245m0:14:16 • 0:00:00\u001b[0m \u001b[38;5;249m19.59it/s\u001b[0m \u001b[37mloss: 0.465 v_num:    \u001b[0m\n",
       "                                                                       \u001b[37mp1cj valid_loss/fold1:\u001b[0m\n",
       "                                                                       \u001b[37m0.517 valid_acc/fold1:\u001b[0m\n",
       "                                                                       \u001b[37m0.678                 \u001b[0m\n",
       "                                                                       \u001b[37mtrain_loss/fold1:     \u001b[0m\n",
       "                                                                       \u001b[37m0.052                 \u001b[0m\n"
      ]
     },
     "metadata": {},
     "output_type": "display_data"
    },
    {
     "data": {
      "text/html": [
       "<pre style=\"white-space:pre;overflow-x:auto;line-height:normal;font-family:Menlo,'DejaVu Sans Mono',consolas,'Courier New',monospace\">\n",
       "</pre>\n"
      ],
      "text/plain": [
       "\n"
      ]
     },
     "metadata": {},
     "output_type": "display_data"
    },
    {
     "name": "stdout",
     "output_type": "stream",
     "text": [
      "★★★★★★★★★★★★★★★★★★★★★★★★★  Fold2  ★★★★★★★★★★★★★★★★★★★★★★★★★\n"
     ]
    },
    {
     "name": "stderr",
     "output_type": "stream",
     "text": [
      "Some weights of the model checkpoint at roberta-base were not used when initializing RobertaModel: ['lm_head.dense.weight', 'lm_head.layer_norm.weight', 'lm_head.decoder.weight', 'lm_head.bias', 'lm_head.dense.bias', 'lm_head.layer_norm.bias']\n",
      "- This IS expected if you are initializing RobertaModel from the checkpoint of a model trained on another task or with another architecture (e.g. initializing a BertForSequenceClassification model from a BertForPreTraining model).\n",
      "- This IS NOT expected if you are initializing RobertaModel from the checkpoint of a model that you expect to be exactly identical (initializing a BertForSequenceClassification model from a BertForSequenceClassification model).\n"
     ]
    },
    {
     "name": "stdout",
     "output_type": "stream",
     "text": [
      "Use Model: roberta-base\n"
     ]
    },
    {
     "data": {
      "text/html": [
       "<pre style=\"white-space:pre;overflow-x:auto;line-height:normal;font-family:Menlo,'DejaVu Sans Mono',consolas,'Courier New',monospace\">┏━━━┳━━━━━━━━━━━━┳━━━━━━━━━━━━━━┳━━━━━━━━┓\n",
       "┃<span style=\"color: #800080; text-decoration-color: #800080; font-weight: bold\">   </span>┃<span style=\"color: #800080; text-decoration-color: #800080; font-weight: bold\"> Name       </span>┃<span style=\"color: #800080; text-decoration-color: #800080; font-weight: bold\"> Type         </span>┃<span style=\"color: #800080; text-decoration-color: #800080; font-weight: bold\"> Params </span>┃\n",
       "┡━━━╇━━━━━━━━━━━━╇━━━━━━━━━━━━━━╇━━━━━━━━┩\n",
       "│<span style=\"color: #7f7f7f; text-decoration-color: #7f7f7f\"> 0 </span>│ base_model │ RobertaModel │  124 M │\n",
       "│<span style=\"color: #7f7f7f; text-decoration-color: #7f7f7f\"> 1 </span>│ norm       │ LayerNorm    │  1.5 K │\n",
       "│<span style=\"color: #7f7f7f; text-decoration-color: #7f7f7f\"> 2 </span>│ drop       │ Dropout      │      0 │\n",
       "│<span style=\"color: #7f7f7f; text-decoration-color: #7f7f7f\"> 3 </span>│ head       │ Linear       │    769 │\n",
       "└───┴────────────┴──────────────┴────────┘\n",
       "</pre>\n"
      ],
      "text/plain": [
       "┏━━━┳━━━━━━━━━━━━┳━━━━━━━━━━━━━━┳━━━━━━━━┓\n",
       "┃\u001b[1;35m \u001b[0m\u001b[1;35m \u001b[0m\u001b[1;35m \u001b[0m┃\u001b[1;35m \u001b[0m\u001b[1;35mName      \u001b[0m\u001b[1;35m \u001b[0m┃\u001b[1;35m \u001b[0m\u001b[1;35mType        \u001b[0m\u001b[1;35m \u001b[0m┃\u001b[1;35m \u001b[0m\u001b[1;35mParams\u001b[0m\u001b[1;35m \u001b[0m┃\n",
       "┡━━━╇━━━━━━━━━━━━╇━━━━━━━━━━━━━━╇━━━━━━━━┩\n",
       "│\u001b[2m \u001b[0m\u001b[2m0\u001b[0m\u001b[2m \u001b[0m│ base_model │ RobertaModel │  124 M │\n",
       "│\u001b[2m \u001b[0m\u001b[2m1\u001b[0m\u001b[2m \u001b[0m│ norm       │ LayerNorm    │  1.5 K │\n",
       "│\u001b[2m \u001b[0m\u001b[2m2\u001b[0m\u001b[2m \u001b[0m│ drop       │ Dropout      │      0 │\n",
       "│\u001b[2m \u001b[0m\u001b[2m3\u001b[0m\u001b[2m \u001b[0m│ head       │ Linear       │    769 │\n",
       "└───┴────────────┴──────────────┴────────┘\n"
      ]
     },
     "metadata": {},
     "output_type": "display_data"
    },
    {
     "data": {
      "text/html": [
       "<pre style=\"white-space:pre;overflow-x:auto;line-height:normal;font-family:Menlo,'DejaVu Sans Mono',consolas,'Courier New',monospace\"><span style=\"font-weight: bold\">Trainable params</span>: 124 M                                                                      \n",
       "<span style=\"font-weight: bold\">Non-trainable params</span>: 0                                                                      \n",
       "<span style=\"font-weight: bold\">Total params</span>: 124 M                                                                          \n",
       "<span style=\"font-weight: bold\">Total estimated model params size (MB)</span>: 498                                                  \n",
       "</pre>\n"
      ],
      "text/plain": [
       "\u001b[1mTrainable params\u001b[0m: 124 M                                                                      \n",
       "\u001b[1mNon-trainable params\u001b[0m: 0                                                                      \n",
       "\u001b[1mTotal params\u001b[0m: 124 M                                                                          \n",
       "\u001b[1mTotal estimated model params size (MB)\u001b[0m: 498                                                  \n"
      ]
     },
     "metadata": {},
     "output_type": "display_data"
    },
    {
     "data": {
      "application/vnd.jupyter.widget-view+json": {
       "model_id": "760709c918784c20bde197f78f87c713",
       "version_major": 2,
       "version_minor": 0
      },
      "text/plain": [
       "Output()"
      ]
     },
     "metadata": {},
     "output_type": "display_data"
    },
    {
     "data": {
      "text/html": [
       "<pre style=\"white-space:pre;overflow-x:auto;line-height:normal;font-family:Menlo,'DejaVu Sans Mono',consolas,'Courier New',monospace\">Epoch 4    <span style=\"color: #6206e0; text-decoration-color: #6206e0\">━━━━━━━━━━━━━━━━━━━━━</span> <span style=\"color: #c0c0c0; text-decoration-color: #c0c0c0\">6021/6021</span> <span style=\"color: #8a8a8a; text-decoration-color: #8a8a8a\">0:14:14 • 0:00:00</span> <span style=\"color: #b2b2b2; text-decoration-color: #b2b2b2\">20.50it/s</span> <span style=\"color: #c0c0c0; text-decoration-color: #c0c0c0\">loss: 0.384 v_num:    </span>\n",
       "                                                                       <span style=\"color: #c0c0c0; text-decoration-color: #c0c0c0\">p1cj valid_loss/fold2:</span>\n",
       "                                                                       <span style=\"color: #c0c0c0; text-decoration-color: #c0c0c0\">0.507 valid_acc/fold2:</span>\n",
       "                                                                       <span style=\"color: #c0c0c0; text-decoration-color: #c0c0c0\">0.683                 </span>\n",
       "                                                                       <span style=\"color: #c0c0c0; text-decoration-color: #c0c0c0\">train_loss/fold2: 0.05</span>\n",
       "</pre>\n"
      ],
      "text/plain": [
       "Epoch 4    \u001b[38;2;98;6;224m━━━━━━━━━━━━━━━━━━━━━\u001b[0m \u001b[37m6021/6021\u001b[0m \u001b[38;5;245m0:14:14 • 0:00:00\u001b[0m \u001b[38;5;249m20.50it/s\u001b[0m \u001b[37mloss: 0.384 v_num:    \u001b[0m\n",
       "                                                                       \u001b[37mp1cj valid_loss/fold2:\u001b[0m\n",
       "                                                                       \u001b[37m0.507 valid_acc/fold2:\u001b[0m\n",
       "                                                                       \u001b[37m0.683                 \u001b[0m\n",
       "                                                                       \u001b[37mtrain_loss/fold2: 0.05\u001b[0m\n"
      ]
     },
     "metadata": {},
     "output_type": "display_data"
    },
    {
     "data": {
      "text/html": [
       "<pre style=\"white-space:pre;overflow-x:auto;line-height:normal;font-family:Menlo,'DejaVu Sans Mono',consolas,'Courier New',monospace\">\n",
       "</pre>\n"
      ],
      "text/plain": [
       "\n"
      ]
     },
     "metadata": {},
     "output_type": "display_data"
    },
    {
     "name": "stdout",
     "output_type": "stream",
     "text": [
      "★★★★★★★★★★★★★★★★★★★★★★★★★  Fold3  ★★★★★★★★★★★★★★★★★★★★★★★★★\n"
     ]
    },
    {
     "name": "stderr",
     "output_type": "stream",
     "text": [
      "Some weights of the model checkpoint at roberta-base were not used when initializing RobertaModel: ['lm_head.dense.weight', 'lm_head.layer_norm.weight', 'lm_head.decoder.weight', 'lm_head.bias', 'lm_head.dense.bias', 'lm_head.layer_norm.bias']\n",
      "- This IS expected if you are initializing RobertaModel from the checkpoint of a model trained on another task or with another architecture (e.g. initializing a BertForSequenceClassification model from a BertForPreTraining model).\n",
      "- This IS NOT expected if you are initializing RobertaModel from the checkpoint of a model that you expect to be exactly identical (initializing a BertForSequenceClassification model from a BertForSequenceClassification model).\n"
     ]
    },
    {
     "name": "stdout",
     "output_type": "stream",
     "text": [
      "Use Model: roberta-base\n"
     ]
    },
    {
     "data": {
      "text/html": [
       "<pre style=\"white-space:pre;overflow-x:auto;line-height:normal;font-family:Menlo,'DejaVu Sans Mono',consolas,'Courier New',monospace\">┏━━━┳━━━━━━━━━━━━┳━━━━━━━━━━━━━━┳━━━━━━━━┓\n",
       "┃<span style=\"color: #800080; text-decoration-color: #800080; font-weight: bold\">   </span>┃<span style=\"color: #800080; text-decoration-color: #800080; font-weight: bold\"> Name       </span>┃<span style=\"color: #800080; text-decoration-color: #800080; font-weight: bold\"> Type         </span>┃<span style=\"color: #800080; text-decoration-color: #800080; font-weight: bold\"> Params </span>┃\n",
       "┡━━━╇━━━━━━━━━━━━╇━━━━━━━━━━━━━━╇━━━━━━━━┩\n",
       "│<span style=\"color: #7f7f7f; text-decoration-color: #7f7f7f\"> 0 </span>│ base_model │ RobertaModel │  124 M │\n",
       "│<span style=\"color: #7f7f7f; text-decoration-color: #7f7f7f\"> 1 </span>│ norm       │ LayerNorm    │  1.5 K │\n",
       "│<span style=\"color: #7f7f7f; text-decoration-color: #7f7f7f\"> 2 </span>│ drop       │ Dropout      │      0 │\n",
       "│<span style=\"color: #7f7f7f; text-decoration-color: #7f7f7f\"> 3 </span>│ head       │ Linear       │    769 │\n",
       "└───┴────────────┴──────────────┴────────┘\n",
       "</pre>\n"
      ],
      "text/plain": [
       "┏━━━┳━━━━━━━━━━━━┳━━━━━━━━━━━━━━┳━━━━━━━━┓\n",
       "┃\u001b[1;35m \u001b[0m\u001b[1;35m \u001b[0m\u001b[1;35m \u001b[0m┃\u001b[1;35m \u001b[0m\u001b[1;35mName      \u001b[0m\u001b[1;35m \u001b[0m┃\u001b[1;35m \u001b[0m\u001b[1;35mType        \u001b[0m\u001b[1;35m \u001b[0m┃\u001b[1;35m \u001b[0m\u001b[1;35mParams\u001b[0m\u001b[1;35m \u001b[0m┃\n",
       "┡━━━╇━━━━━━━━━━━━╇━━━━━━━━━━━━━━╇━━━━━━━━┩\n",
       "│\u001b[2m \u001b[0m\u001b[2m0\u001b[0m\u001b[2m \u001b[0m│ base_model │ RobertaModel │  124 M │\n",
       "│\u001b[2m \u001b[0m\u001b[2m1\u001b[0m\u001b[2m \u001b[0m│ norm       │ LayerNorm    │  1.5 K │\n",
       "│\u001b[2m \u001b[0m\u001b[2m2\u001b[0m\u001b[2m \u001b[0m│ drop       │ Dropout      │      0 │\n",
       "│\u001b[2m \u001b[0m\u001b[2m3\u001b[0m\u001b[2m \u001b[0m│ head       │ Linear       │    769 │\n",
       "└───┴────────────┴──────────────┴────────┘\n"
      ]
     },
     "metadata": {},
     "output_type": "display_data"
    },
    {
     "data": {
      "text/html": [
       "<pre style=\"white-space:pre;overflow-x:auto;line-height:normal;font-family:Menlo,'DejaVu Sans Mono',consolas,'Courier New',monospace\"><span style=\"font-weight: bold\">Trainable params</span>: 124 M                                                                      \n",
       "<span style=\"font-weight: bold\">Non-trainable params</span>: 0                                                                      \n",
       "<span style=\"font-weight: bold\">Total params</span>: 124 M                                                                          \n",
       "<span style=\"font-weight: bold\">Total estimated model params size (MB)</span>: 498                                                  \n",
       "</pre>\n"
      ],
      "text/plain": [
       "\u001b[1mTrainable params\u001b[0m: 124 M                                                                      \n",
       "\u001b[1mNon-trainable params\u001b[0m: 0                                                                      \n",
       "\u001b[1mTotal params\u001b[0m: 124 M                                                                          \n",
       "\u001b[1mTotal estimated model params size (MB)\u001b[0m: 498                                                  \n"
      ]
     },
     "metadata": {},
     "output_type": "display_data"
    },
    {
     "data": {
      "application/vnd.jupyter.widget-view+json": {
       "model_id": "1bf1d9e05e0b4cac865c924f30daa445",
       "version_major": 2,
       "version_minor": 0
      },
      "text/plain": [
       "Output()"
      ]
     },
     "metadata": {},
     "output_type": "display_data"
    },
    {
     "data": {
      "text/html": [
       "<pre style=\"white-space:pre;overflow-x:auto;line-height:normal;font-family:Menlo,'DejaVu Sans Mono',consolas,'Courier New',monospace\">Epoch 4    <span style=\"color: #6206e0; text-decoration-color: #6206e0\">━━━━━━━━━━━━━━━━━━━━━</span> <span style=\"color: #c0c0c0; text-decoration-color: #c0c0c0\">6021/6021</span> <span style=\"color: #8a8a8a; text-decoration-color: #8a8a8a\">0:14:15 • 0:00:00</span> <span style=\"color: #b2b2b2; text-decoration-color: #b2b2b2\">20.56it/s</span> <span style=\"color: #c0c0c0; text-decoration-color: #c0c0c0\">loss: 0.357 v_num:    </span>\n",
       "                                                                       <span style=\"color: #c0c0c0; text-decoration-color: #c0c0c0\">p1cj valid_loss/fold3:</span>\n",
       "                                                                       <span style=\"color: #c0c0c0; text-decoration-color: #c0c0c0\">0.49 valid_acc/fold3: </span>\n",
       "                                                                       <span style=\"color: #c0c0c0; text-decoration-color: #c0c0c0\">0.686                 </span>\n",
       "                                                                       <span style=\"color: #c0c0c0; text-decoration-color: #c0c0c0\">train_loss/fold3:     </span>\n",
       "                                                                       <span style=\"color: #c0c0c0; text-decoration-color: #c0c0c0\">0.044                 </span>\n",
       "</pre>\n"
      ],
      "text/plain": [
       "Epoch 4    \u001b[38;2;98;6;224m━━━━━━━━━━━━━━━━━━━━━\u001b[0m \u001b[37m6021/6021\u001b[0m \u001b[38;5;245m0:14:15 • 0:00:00\u001b[0m \u001b[38;5;249m20.56it/s\u001b[0m \u001b[37mloss: 0.357 v_num:    \u001b[0m\n",
       "                                                                       \u001b[37mp1cj valid_loss/fold3:\u001b[0m\n",
       "                                                                       \u001b[37m0.49 valid_acc/fold3: \u001b[0m\n",
       "                                                                       \u001b[37m0.686                 \u001b[0m\n",
       "                                                                       \u001b[37mtrain_loss/fold3:     \u001b[0m\n",
       "                                                                       \u001b[37m0.044                 \u001b[0m\n"
      ]
     },
     "metadata": {},
     "output_type": "display_data"
    },
    {
     "data": {
      "text/html": [
       "<pre style=\"white-space:pre;overflow-x:auto;line-height:normal;font-family:Menlo,'DejaVu Sans Mono',consolas,'Courier New',monospace\">\n",
       "</pre>\n"
      ],
      "text/plain": [
       "\n"
      ]
     },
     "metadata": {},
     "output_type": "display_data"
    },
    {
     "name": "stdout",
     "output_type": "stream",
     "text": [
      "★★★★★★★★★★★★★★★★★★★★★★★★★  Fold4  ★★★★★★★★★★★★★★★★★★★★★★★★★\n"
     ]
    },
    {
     "name": "stderr",
     "output_type": "stream",
     "text": [
      "Some weights of the model checkpoint at roberta-base were not used when initializing RobertaModel: ['lm_head.dense.weight', 'lm_head.layer_norm.weight', 'lm_head.decoder.weight', 'lm_head.bias', 'lm_head.dense.bias', 'lm_head.layer_norm.bias']\n",
      "- This IS expected if you are initializing RobertaModel from the checkpoint of a model trained on another task or with another architecture (e.g. initializing a BertForSequenceClassification model from a BertForPreTraining model).\n",
      "- This IS NOT expected if you are initializing RobertaModel from the checkpoint of a model that you expect to be exactly identical (initializing a BertForSequenceClassification model from a BertForSequenceClassification model).\n"
     ]
    },
    {
     "name": "stdout",
     "output_type": "stream",
     "text": [
      "Use Model: roberta-base\n"
     ]
    },
    {
     "data": {
      "text/html": [
       "<pre style=\"white-space:pre;overflow-x:auto;line-height:normal;font-family:Menlo,'DejaVu Sans Mono',consolas,'Courier New',monospace\">┏━━━┳━━━━━━━━━━━━┳━━━━━━━━━━━━━━┳━━━━━━━━┓\n",
       "┃<span style=\"color: #800080; text-decoration-color: #800080; font-weight: bold\">   </span>┃<span style=\"color: #800080; text-decoration-color: #800080; font-weight: bold\"> Name       </span>┃<span style=\"color: #800080; text-decoration-color: #800080; font-weight: bold\"> Type         </span>┃<span style=\"color: #800080; text-decoration-color: #800080; font-weight: bold\"> Params </span>┃\n",
       "┡━━━╇━━━━━━━━━━━━╇━━━━━━━━━━━━━━╇━━━━━━━━┩\n",
       "│<span style=\"color: #7f7f7f; text-decoration-color: #7f7f7f\"> 0 </span>│ base_model │ RobertaModel │  124 M │\n",
       "│<span style=\"color: #7f7f7f; text-decoration-color: #7f7f7f\"> 1 </span>│ norm       │ LayerNorm    │  1.5 K │\n",
       "│<span style=\"color: #7f7f7f; text-decoration-color: #7f7f7f\"> 2 </span>│ drop       │ Dropout      │      0 │\n",
       "│<span style=\"color: #7f7f7f; text-decoration-color: #7f7f7f\"> 3 </span>│ head       │ Linear       │    769 │\n",
       "└───┴────────────┴──────────────┴────────┘\n",
       "</pre>\n"
      ],
      "text/plain": [
       "┏━━━┳━━━━━━━━━━━━┳━━━━━━━━━━━━━━┳━━━━━━━━┓\n",
       "┃\u001b[1;35m \u001b[0m\u001b[1;35m \u001b[0m\u001b[1;35m \u001b[0m┃\u001b[1;35m \u001b[0m\u001b[1;35mName      \u001b[0m\u001b[1;35m \u001b[0m┃\u001b[1;35m \u001b[0m\u001b[1;35mType        \u001b[0m\u001b[1;35m \u001b[0m┃\u001b[1;35m \u001b[0m\u001b[1;35mParams\u001b[0m\u001b[1;35m \u001b[0m┃\n",
       "┡━━━╇━━━━━━━━━━━━╇━━━━━━━━━━━━━━╇━━━━━━━━┩\n",
       "│\u001b[2m \u001b[0m\u001b[2m0\u001b[0m\u001b[2m \u001b[0m│ base_model │ RobertaModel │  124 M │\n",
       "│\u001b[2m \u001b[0m\u001b[2m1\u001b[0m\u001b[2m \u001b[0m│ norm       │ LayerNorm    │  1.5 K │\n",
       "│\u001b[2m \u001b[0m\u001b[2m2\u001b[0m\u001b[2m \u001b[0m│ drop       │ Dropout      │      0 │\n",
       "│\u001b[2m \u001b[0m\u001b[2m3\u001b[0m\u001b[2m \u001b[0m│ head       │ Linear       │    769 │\n",
       "└───┴────────────┴──────────────┴────────┘\n"
      ]
     },
     "metadata": {},
     "output_type": "display_data"
    },
    {
     "data": {
      "text/html": [
       "<pre style=\"white-space:pre;overflow-x:auto;line-height:normal;font-family:Menlo,'DejaVu Sans Mono',consolas,'Courier New',monospace\"><span style=\"font-weight: bold\">Trainable params</span>: 124 M                                                                      \n",
       "<span style=\"font-weight: bold\">Non-trainable params</span>: 0                                                                      \n",
       "<span style=\"font-weight: bold\">Total params</span>: 124 M                                                                          \n",
       "<span style=\"font-weight: bold\">Total estimated model params size (MB)</span>: 498                                                  \n",
       "</pre>\n"
      ],
      "text/plain": [
       "\u001b[1mTrainable params\u001b[0m: 124 M                                                                      \n",
       "\u001b[1mNon-trainable params\u001b[0m: 0                                                                      \n",
       "\u001b[1mTotal params\u001b[0m: 124 M                                                                          \n",
       "\u001b[1mTotal estimated model params size (MB)\u001b[0m: 498                                                  \n"
      ]
     },
     "metadata": {},
     "output_type": "display_data"
    },
    {
     "data": {
      "application/vnd.jupyter.widget-view+json": {
       "model_id": "f1be134d2d524adcb829ff39ae45318f",
       "version_major": 2,
       "version_minor": 0
      },
      "text/plain": [
       "Output()"
      ]
     },
     "metadata": {},
     "output_type": "display_data"
    }
   ],
   "source": [
    "# Training\n",
    "config.trainer.fast_dev_run = False\n",
    "config.backbone.output_dim = 1\n",
    "\n",
    "for fold in config.train_fold:\n",
    "    \n",
    "    print(\"★\"*25, f\" Fold{fold+1} \", \"★\"*25)\n",
    "\n",
    "    df_train = val_df[val_df.fold != fold].reset_index(drop=True)\n",
    "    df_valid = val_df[val_df.fold == fold].reset_index(drop=True)\n",
    "\n",
    "    datamodule = JigsawDataModule(df_train, df_valid, test_df, config)\n",
    "    sample_dataloader = JigsawDataModule(df_train, df_valid, test_df, config).train_dataloader()\n",
    "\n",
    "    config.scheduler.params.T_0 = config.epoch * len(sample_dataloader)\n",
    "    model = JigsawModel(config, fold)\n",
    "    lr_monitor = callbacks.LearningRateMonitor()\n",
    "\n",
    "    loss_checkpoint = callbacks.ModelCheckpoint(\n",
    "        filename=f\"best_acc_fold{fold+1}\",\n",
    "        monitor=f\"valid_acc/fold{fold+1}\",\n",
    "        save_top_k=1,\n",
    "        mode=\"max\",\n",
    "        save_last=False,\n",
    "        dirpath=MODEL_DIR,\n",
    "        save_weights_only=True,\n",
    "    )\n",
    "\n",
    "    wandb_logger = WandbLogger(\n",
    "        project=config.project, \n",
    "        entity=config.entity,\n",
    "        name = f\"{config.exp_name}\",\n",
    "        tags = ['RoBERTa-Base', \"MarginRankLoss\"]\n",
    "    )\n",
    "\n",
    "    lr_monitor = LearningRateMonitor(logging_interval='step')\n",
    "\n",
    "    trainer = pl.Trainer(\n",
    "        max_epochs=config.epoch,\n",
    "        callbacks=[loss_checkpoint, lr_monitor, RichProgressBar()],\n",
    "#         deterministic=True,\n",
    "        logger=[wandb_logger],\n",
    "        **config.trainer\n",
    "    )\n",
    "    trainer.fit(model, datamodule=datamodule)"
   ]
  },
  {
   "cell_type": "code",
   "execution_count": 34,
   "id": "d87d4e9a",
   "metadata": {},
   "outputs": [
    {
     "name": "stdout",
     "output_type": "stream",
     "text": [
      "Device == cuda\n",
      "★★★★★★★★★★★★★★★★★★★★★★★★★  Fold1  ★★★★★★★★★★★★★★★★★★★★★★★★★\n"
     ]
    },
    {
     "name": "stderr",
     "output_type": "stream",
     "text": [
      "Some weights of the model checkpoint at roberta-base were not used when initializing RobertaModel: ['lm_head.dense.weight', 'lm_head.layer_norm.weight', 'lm_head.decoder.weight', 'lm_head.bias', 'lm_head.dense.bias', 'lm_head.layer_norm.bias']\n",
      "- This IS expected if you are initializing RobertaModel from the checkpoint of a model trained on another task or with another architecture (e.g. initializing a BertForSequenceClassification model from a BertForPreTraining model).\n",
      "- This IS NOT expected if you are initializing RobertaModel from the checkpoint of a model that you expect to be exactly identical (initializing a BertForSequenceClassification model from a BertForSequenceClassification model).\n"
     ]
    },
    {
     "name": "stdout",
     "output_type": "stream",
     "text": [
      "Use Model: roberta-base\n"
     ]
    },
    {
     "name": "stderr",
     "output_type": "stream",
     "text": [
      "Some weights of the model checkpoint at roberta-base were not used when initializing RobertaModel: ['lm_head.dense.weight', 'lm_head.layer_norm.weight', 'lm_head.decoder.weight', 'lm_head.bias', 'lm_head.dense.bias', 'lm_head.layer_norm.bias']\n",
      "- This IS expected if you are initializing RobertaModel from the checkpoint of a model trained on another task or with another architecture (e.g. initializing a BertForSequenceClassification model from a BertForPreTraining model).\n",
      "- This IS NOT expected if you are initializing RobertaModel from the checkpoint of a model that you expect to be exactly identical (initializing a BertForSequenceClassification model from a BertForSequenceClassification model).\n"
     ]
    },
    {
     "name": "stdout",
     "output_type": "stream",
     "text": [
      "Use Model: roberta-base\n"
     ]
    },
    {
     "data": {
      "application/vnd.jupyter.widget-view+json": {
       "model_id": "664a346594e048c08b8180d487d6f4c6",
       "version_major": 2,
       "version_minor": 0
      },
      "text/plain": [
       "  0%|          | 0/3011 [00:00<?, ?it/s]"
      ]
     },
     "metadata": {},
     "output_type": "display_data"
    },
    {
     "name": "stdout",
     "output_type": "stream",
     "text": [
      "★★★★★★★★★★★★★★★★★★★★★★★★★  Fold2  ★★★★★★★★★★★★★★★★★★★★★★★★★\n"
     ]
    },
    {
     "name": "stderr",
     "output_type": "stream",
     "text": [
      "Some weights of the model checkpoint at roberta-base were not used when initializing RobertaModel: ['lm_head.dense.weight', 'lm_head.layer_norm.weight', 'lm_head.decoder.weight', 'lm_head.bias', 'lm_head.dense.bias', 'lm_head.layer_norm.bias']\n",
      "- This IS expected if you are initializing RobertaModel from the checkpoint of a model trained on another task or with another architecture (e.g. initializing a BertForSequenceClassification model from a BertForPreTraining model).\n",
      "- This IS NOT expected if you are initializing RobertaModel from the checkpoint of a model that you expect to be exactly identical (initializing a BertForSequenceClassification model from a BertForSequenceClassification model).\n"
     ]
    },
    {
     "name": "stdout",
     "output_type": "stream",
     "text": [
      "Use Model: roberta-base\n"
     ]
    },
    {
     "name": "stderr",
     "output_type": "stream",
     "text": [
      "Some weights of the model checkpoint at roberta-base were not used when initializing RobertaModel: ['lm_head.dense.weight', 'lm_head.layer_norm.weight', 'lm_head.decoder.weight', 'lm_head.bias', 'lm_head.dense.bias', 'lm_head.layer_norm.bias']\n",
      "- This IS expected if you are initializing RobertaModel from the checkpoint of a model trained on another task or with another architecture (e.g. initializing a BertForSequenceClassification model from a BertForPreTraining model).\n",
      "- This IS NOT expected if you are initializing RobertaModel from the checkpoint of a model that you expect to be exactly identical (initializing a BertForSequenceClassification model from a BertForSequenceClassification model).\n"
     ]
    },
    {
     "name": "stdout",
     "output_type": "stream",
     "text": [
      "Use Model: roberta-base\n"
     ]
    },
    {
     "data": {
      "application/vnd.jupyter.widget-view+json": {
       "model_id": "372d5ab9a34f4f128a155eaaa4e298b8",
       "version_major": 2,
       "version_minor": 0
      },
      "text/plain": [
       "  0%|          | 0/3011 [00:00<?, ?it/s]"
      ]
     },
     "metadata": {},
     "output_type": "display_data"
    },
    {
     "name": "stdout",
     "output_type": "stream",
     "text": [
      "★★★★★★★★★★★★★★★★★★★★★★★★★  Fold3  ★★★★★★★★★★★★★★★★★★★★★★★★★\n"
     ]
    },
    {
     "name": "stderr",
     "output_type": "stream",
     "text": [
      "Some weights of the model checkpoint at roberta-base were not used when initializing RobertaModel: ['lm_head.dense.weight', 'lm_head.layer_norm.weight', 'lm_head.decoder.weight', 'lm_head.bias', 'lm_head.dense.bias', 'lm_head.layer_norm.bias']\n",
      "- This IS expected if you are initializing RobertaModel from the checkpoint of a model trained on another task or with another architecture (e.g. initializing a BertForSequenceClassification model from a BertForPreTraining model).\n",
      "- This IS NOT expected if you are initializing RobertaModel from the checkpoint of a model that you expect to be exactly identical (initializing a BertForSequenceClassification model from a BertForSequenceClassification model).\n"
     ]
    },
    {
     "name": "stdout",
     "output_type": "stream",
     "text": [
      "Use Model: roberta-base\n"
     ]
    },
    {
     "name": "stderr",
     "output_type": "stream",
     "text": [
      "Some weights of the model checkpoint at roberta-base were not used when initializing RobertaModel: ['lm_head.dense.weight', 'lm_head.layer_norm.weight', 'lm_head.decoder.weight', 'lm_head.bias', 'lm_head.dense.bias', 'lm_head.layer_norm.bias']\n",
      "- This IS expected if you are initializing RobertaModel from the checkpoint of a model trained on another task or with another architecture (e.g. initializing a BertForSequenceClassification model from a BertForPreTraining model).\n",
      "- This IS NOT expected if you are initializing RobertaModel from the checkpoint of a model that you expect to be exactly identical (initializing a BertForSequenceClassification model from a BertForSequenceClassification model).\n"
     ]
    },
    {
     "name": "stdout",
     "output_type": "stream",
     "text": [
      "Use Model: roberta-base\n"
     ]
    },
    {
     "data": {
      "application/vnd.jupyter.widget-view+json": {
       "model_id": "ef52b7d1395a4e059eb88ddca2a90420",
       "version_major": 2,
       "version_minor": 0
      },
      "text/plain": [
       "  0%|          | 0/3011 [00:00<?, ?it/s]"
      ]
     },
     "metadata": {},
     "output_type": "display_data"
    },
    {
     "name": "stdout",
     "output_type": "stream",
     "text": [
      "★★★★★★★★★★★★★★★★★★★★★★★★★  Fold4  ★★★★★★★★★★★★★★★★★★★★★★★★★\n"
     ]
    },
    {
     "name": "stderr",
     "output_type": "stream",
     "text": [
      "Some weights of the model checkpoint at roberta-base were not used when initializing RobertaModel: ['lm_head.dense.weight', 'lm_head.layer_norm.weight', 'lm_head.decoder.weight', 'lm_head.bias', 'lm_head.dense.bias', 'lm_head.layer_norm.bias']\n",
      "- This IS expected if you are initializing RobertaModel from the checkpoint of a model trained on another task or with another architecture (e.g. initializing a BertForSequenceClassification model from a BertForPreTraining model).\n",
      "- This IS NOT expected if you are initializing RobertaModel from the checkpoint of a model that you expect to be exactly identical (initializing a BertForSequenceClassification model from a BertForSequenceClassification model).\n"
     ]
    },
    {
     "name": "stdout",
     "output_type": "stream",
     "text": [
      "Use Model: roberta-base\n"
     ]
    },
    {
     "name": "stderr",
     "output_type": "stream",
     "text": [
      "Some weights of the model checkpoint at roberta-base were not used when initializing RobertaModel: ['lm_head.dense.weight', 'lm_head.layer_norm.weight', 'lm_head.decoder.weight', 'lm_head.bias', 'lm_head.dense.bias', 'lm_head.layer_norm.bias']\n",
      "- This IS expected if you are initializing RobertaModel from the checkpoint of a model trained on another task or with another architecture (e.g. initializing a BertForSequenceClassification model from a BertForPreTraining model).\n",
      "- This IS NOT expected if you are initializing RobertaModel from the checkpoint of a model that you expect to be exactly identical (initializing a BertForSequenceClassification model from a BertForSequenceClassification model).\n"
     ]
    },
    {
     "name": "stdout",
     "output_type": "stream",
     "text": [
      "Use Model: roberta-base\n"
     ]
    },
    {
     "data": {
      "application/vnd.jupyter.widget-view+json": {
       "model_id": "291ebbcb83d249f28f5fd52bf8e4db42",
       "version_major": 2,
       "version_minor": 0
      },
      "text/plain": [
       "  0%|          | 0/3011 [00:00<?, ?it/s]"
      ]
     },
     "metadata": {},
     "output_type": "display_data"
    },
    {
     "name": "stdout",
     "output_type": "stream",
     "text": [
      "★★★★★★★★★★★★★★★★★★★★★★★★★  Fold5  ★★★★★★★★★★★★★★★★★★★★★★★★★\n"
     ]
    },
    {
     "name": "stderr",
     "output_type": "stream",
     "text": [
      "Some weights of the model checkpoint at roberta-base were not used when initializing RobertaModel: ['lm_head.dense.weight', 'lm_head.layer_norm.weight', 'lm_head.decoder.weight', 'lm_head.bias', 'lm_head.dense.bias', 'lm_head.layer_norm.bias']\n",
      "- This IS expected if you are initializing RobertaModel from the checkpoint of a model trained on another task or with another architecture (e.g. initializing a BertForSequenceClassification model from a BertForPreTraining model).\n",
      "- This IS NOT expected if you are initializing RobertaModel from the checkpoint of a model that you expect to be exactly identical (initializing a BertForSequenceClassification model from a BertForSequenceClassification model).\n"
     ]
    },
    {
     "name": "stdout",
     "output_type": "stream",
     "text": [
      "Use Model: roberta-base\n"
     ]
    },
    {
     "name": "stderr",
     "output_type": "stream",
     "text": [
      "Some weights of the model checkpoint at roberta-base were not used when initializing RobertaModel: ['lm_head.dense.weight', 'lm_head.layer_norm.weight', 'lm_head.decoder.weight', 'lm_head.bias', 'lm_head.dense.bias', 'lm_head.layer_norm.bias']\n",
      "- This IS expected if you are initializing RobertaModel from the checkpoint of a model trained on another task or with another architecture (e.g. initializing a BertForSequenceClassification model from a BertForPreTraining model).\n",
      "- This IS NOT expected if you are initializing RobertaModel from the checkpoint of a model that you expect to be exactly identical (initializing a BertForSequenceClassification model from a BertForSequenceClassification model).\n"
     ]
    },
    {
     "name": "stdout",
     "output_type": "stream",
     "text": [
      "Use Model: roberta-base\n"
     ]
    },
    {
     "data": {
      "application/vnd.jupyter.widget-view+json": {
       "model_id": "b8eece835cfd45528538ae36e15eeb69",
       "version_major": 2,
       "version_minor": 0
      },
      "text/plain": [
       "  0%|          | 0/3011 [00:00<?, ?it/s]"
      ]
     },
     "metadata": {},
     "output_type": "display_data"
    }
   ],
   "source": [
    "device = torch.device('cuda' if torch.cuda.is_available() else 'cpu')\n",
    "print(f\"Device == {device}\")\n",
    "\n",
    "MORE = np.zeros(len(val_df))\n",
    "LESS = np.zeros(len(val_df))\n",
    "PRED = np.zeros(len(test_df))\n",
    "\n",
    "attention_array = np.zeros((len(val_df), 256)) # attention格納\n",
    "mask_array = np.zeros((len(val_df), 256)) # mask情報格納,後でattentionと掛け合わせる\n",
    "\n",
    "for fold in config.train_fold:\n",
    "\n",
    "    pred_list = []\n",
    "    print(\"★\"*25, f\" Fold{fold+1} \", \"★\"*25)\n",
    "    \n",
    "    val_idx = val_df[val_df.fold == fold].index.tolist()\n",
    "    df_train = val_df[val_df.fold != fold].reset_index(drop=True)\n",
    "    df_valid = val_df[val_df.fold == fold].reset_index(drop=True)\n",
    "\n",
    "    datamodule = JigsawDataModule(df_train, df_valid, test_df, config)\n",
    "    valid_dataloader = JigsawDataModule(df_train, df_valid, test_df, config).val_dataloader()\n",
    "\n",
    "    model = JigsawModel(config, fold)\n",
    "\n",
    "    loss_checkpoint = callbacks.ModelCheckpoint(\n",
    "        filename=f\"best_acc_fold{fold+1}\",\n",
    "        monitor=f\"valid_acc/fold{fold+1}\",\n",
    "        save_top_k=1,\n",
    "        mode=\"max\",\n",
    "        save_last=False,\n",
    "        dirpath=\"../input/toxicroberta/\",\n",
    "    )\n",
    "    model = model.load_from_checkpoint(MODEL_DIR/f\"best_acc_fold{fold+1}.ckpt\", cfg=config, fold_num=fold)\n",
    "    model.to(device)\n",
    "    model.eval()\n",
    "    \n",
    "    more_list = []\n",
    "    less_list = []\n",
    "    \n",
    "    for step, data in tqdm(enumerate(valid_dataloader), total=len(valid_dataloader)):\n",
    "\n",
    "        more_toxic_ids = data['more_toxic_ids'].to(device)\n",
    "        more_toxic_mask = data['more_toxic_mask'].to(device)\n",
    "        more_text_token_type_ids = data['more_token_type_ids'].to(device)\n",
    "        \n",
    "        less_toxic_ids = data['less_toxic_ids'].to(device)\n",
    "        less_toxic_mask = data['less_toxic_mask'].to(device)\n",
    "        less_text_token_type_ids = data['less_token_type_ids'].to(device)\n",
    "        \n",
    "        more_outputs = model(\n",
    "            more_toxic_ids, \n",
    "            more_toxic_mask,\n",
    "            more_text_token_type_ids,\n",
    "        )\n",
    "        \n",
    "        less_outputs = model(\n",
    "            less_toxic_ids, \n",
    "            less_toxic_mask,\n",
    "            less_text_token_type_ids\n",
    "        )\n",
    "        \n",
    "        more_list.append(more_outputs[\"logits\"][:, 0].detach().cpu().numpy())\n",
    "        less_list.append(less_outputs[\"logits\"][:, 0].detach().cpu().numpy())\n",
    "\n",
    "    MORE[val_idx] += np.concatenate(more_list)\n",
    "    LESS[val_idx] += np.concatenate(less_list)\n",
    "#     PRED += pred_list/len(config.train_fold)"
   ]
  },
  {
   "cell_type": "code",
   "execution_count": 35,
   "id": "a23e2c1b",
   "metadata": {},
   "outputs": [
    {
     "data": {
      "image/png": "[encoded data removed]",
      "text/plain": [
       "<Figure size 864x360 with 1 Axes>"
      ]
     },
     "metadata": {
      "needs_background": "light"
     },
     "output_type": "display_data"
    }
   ],
   "source": [
    "plt.figure(figsize=(12, 5))\n",
    "plt.scatter(LESS, MORE)\n",
    "plt.xlabel(\"less-toxic\")\n",
    "plt.ylabel(\"more-toxic\")\n",
    "plt.grid()\n",
    "plt.show()"
   ]
  },
  {
   "cell_type": "code",
   "execution_count": 36,
   "id": "e1c08d2e",
   "metadata": {},
   "outputs": [
    {
     "name": "stdout",
     "output_type": "stream",
     "text": [
      "HATE-BERT Jigsaw-Classification Score: 0.690215\n"
     ]
    }
   ],
   "source": [
    "val_df[\"less_attack\"] = LESS\n",
    "val_df[\"more_attack\"] = MORE\n",
    "val_df[\"diff_attack\"] = val_df[\"more_attack\"] - val_df[\"less_attack\"]\n",
    "attack_score = val_df[val_df[\"diff_attack\"]>0][\"diff_attack\"].count()/len(val_df)\n",
    "print(f\"HATE-BERT Jigsaw-Classification Score: {attack_score:.6f}\")"
   ]
  },
  {
   "cell_type": "code",
   "execution_count": 37,
   "id": "613947e2",
   "metadata": {},
   "outputs": [
    {
     "data": {
      "text/html": [
       "<div>\n",
       "<style scoped>\n",
       "    .dataframe tbody tr th:only-of-type {\n",
       "        vertical-align: middle;\n",
       "    }\n",
       "\n",
       "    .dataframe tbody tr th {\n",
       "        vertical-align: top;\n",
       "    }\n",
       "\n",
       "    .dataframe thead th {\n",
       "        text-align: right;\n",
       "    }\n",
       "</style>\n",
       "<table border=\"1\" class=\"dataframe\">\n",
       "  <thead>\n",
       "    <tr style=\"text-align: right;\">\n",
       "      <th></th>\n",
       "      <th>worker</th>\n",
       "      <th>less_toxic</th>\n",
       "      <th>more_toxic</th>\n",
       "      <th>less_id</th>\n",
       "      <th>more_id</th>\n",
       "      <th>less_gid</th>\n",
       "      <th>more_gid</th>\n",
       "      <th>fold</th>\n",
       "      <th>less_attack</th>\n",
       "      <th>more_attack</th>\n",
       "      <th>diff_attack</th>\n",
       "    </tr>\n",
       "  </thead>\n",
       "  <tbody>\n",
       "    <tr>\n",
       "      <th>4</th>\n",
       "      <td>539</td>\n",
       "      <td>smelly vagina \\n\\nBluerasberry why don't you ...</td>\n",
       "      <td>hey \\n\\nway to support nazis, you racist</td>\n",
       "      <td>4614</td>\n",
       "      <td>2195</td>\n",
       "      <td>813</td>\n",
       "      <td>813</td>\n",
       "      <td>0</td>\n",
       "      <td>-1.013566</td>\n",
       "      <td>-0.231359</td>\n",
       "      <td>0.782207</td>\n",
       "    </tr>\n",
       "    <tr>\n",
       "      <th>5</th>\n",
       "      <td>437</td>\n",
       "      <td>There's a better answer to the question: the p...</td>\n",
       "      <td>I'm not new here. I don't know what the hell y...</td>\n",
       "      <td>8629</td>\n",
       "      <td>6867</td>\n",
       "      <td>442</td>\n",
       "      <td>442</td>\n",
       "      <td>0</td>\n",
       "      <td>-1.121056</td>\n",
       "      <td>-0.932326</td>\n",
       "      <td>0.188730</td>\n",
       "    </tr>\n",
       "    <tr>\n",
       "      <th>7</th>\n",
       "      <td>672</td>\n",
       "      <td>Also my remarks are indeed a criticism of you ...</td>\n",
       "      <td>Why not head on over to WP:RFA and try your ha...</td>\n",
       "      <td>5889</td>\n",
       "      <td>13007</td>\n",
       "      <td>2924</td>\n",
       "      <td>2924</td>\n",
       "      <td>0</td>\n",
       "      <td>-1.811945</td>\n",
       "      <td>-1.270133</td>\n",
       "      <td>0.541812</td>\n",
       "    </tr>\n",
       "    <tr>\n",
       "      <th>10</th>\n",
       "      <td>553</td>\n",
       "      <td>You are the one who is trolling \\n\\nI was not...</td>\n",
       "      <td>yall are fags who like it up the ass hard</td>\n",
       "      <td>12329</td>\n",
       "      <td>11050</td>\n",
       "      <td>4020</td>\n",
       "      <td>4020</td>\n",
       "      <td>0</td>\n",
       "      <td>-1.032875</td>\n",
       "      <td>0.002365</td>\n",
       "      <td>1.035239</td>\n",
       "    </tr>\n",
       "    <tr>\n",
       "      <th>35</th>\n",
       "      <td>36</td>\n",
       "      <td>November 2006 (UTC)\\n\\nI've opened Wikipedia:...</td>\n",
       "      <td>WHY IS CHRIS 73 - A KNOWN PAEDOPHILE - STILL A...</td>\n",
       "      <td>3365</td>\n",
       "      <td>13886</td>\n",
       "      <td>2240</td>\n",
       "      <td>2240</td>\n",
       "      <td>0</td>\n",
       "      <td>-1.877995</td>\n",
       "      <td>-1.002949</td>\n",
       "      <td>0.875046</td>\n",
       "    </tr>\n",
       "    <tr>\n",
       "      <th>...</th>\n",
       "      <td>...</td>\n",
       "      <td>...</td>\n",
       "      <td>...</td>\n",
       "      <td>...</td>\n",
       "      <td>...</td>\n",
       "      <td>...</td>\n",
       "      <td>...</td>\n",
       "      <td>...</td>\n",
       "      <td>...</td>\n",
       "      <td>...</td>\n",
       "      <td>...</td>\n",
       "    </tr>\n",
       "    <tr>\n",
       "      <th>30096</th>\n",
       "      <td>146</td>\n",
       "      <td>eat shit an die faggot.</td>\n",
       "      <td>\" September 2011 (UTC)\\nOf course i read it! Y...</td>\n",
       "      <td>10725</td>\n",
       "      <td>3901</td>\n",
       "      <td>2465</td>\n",
       "      <td>2465</td>\n",
       "      <td>0</td>\n",
       "      <td>0.249927</td>\n",
       "      <td>-1.177590</td>\n",
       "      <td>-1.427517</td>\n",
       "    </tr>\n",
       "    <tr>\n",
       "      <th>30100</th>\n",
       "      <td>365</td>\n",
       "      <td>Outrageous!!!!! \\n\\nThis block is outrageous ...</td>\n",
       "      <td>Bloody bots get more annoying every day.... He...</td>\n",
       "      <td>3089</td>\n",
       "      <td>7605</td>\n",
       "      <td>2108</td>\n",
       "      <td>2108</td>\n",
       "      <td>0</td>\n",
       "      <td>-0.446379</td>\n",
       "      <td>-0.940702</td>\n",
       "      <td>-0.494323</td>\n",
       "    </tr>\n",
       "    <tr>\n",
       "      <th>30105</th>\n",
       "      <td>352</td>\n",
       "      <td>wow...\\nare you out of your mind, how was my e...</td>\n",
       "      <td>Piss off you slant eyed-gook</td>\n",
       "      <td>8396</td>\n",
       "      <td>10797</td>\n",
       "      <td>3663</td>\n",
       "      <td>3663</td>\n",
       "      <td>0</td>\n",
       "      <td>-1.765976</td>\n",
       "      <td>-0.235553</td>\n",
       "      <td>1.530423</td>\n",
       "    </tr>\n",
       "    <tr>\n",
       "      <th>30106</th>\n",
       "      <td>311</td>\n",
       "      <td>wow...\\nare you out of your mind, how was my e...</td>\n",
       "      <td>Piss off you slant eyed-gook</td>\n",
       "      <td>8396</td>\n",
       "      <td>10797</td>\n",
       "      <td>3663</td>\n",
       "      <td>3663</td>\n",
       "      <td>0</td>\n",
       "      <td>-1.765976</td>\n",
       "      <td>-0.235553</td>\n",
       "      <td>1.530423</td>\n",
       "    </tr>\n",
       "    <tr>\n",
       "      <th>30107</th>\n",
       "      <td>54</td>\n",
       "      <td>wow...\\nare you out of your mind, how was my e...</td>\n",
       "      <td>Piss off you slant eyed-gook</td>\n",
       "      <td>8396</td>\n",
       "      <td>10797</td>\n",
       "      <td>3663</td>\n",
       "      <td>3663</td>\n",
       "      <td>0</td>\n",
       "      <td>-1.765976</td>\n",
       "      <td>-0.235553</td>\n",
       "      <td>1.530423</td>\n",
       "    </tr>\n",
       "  </tbody>\n",
       "</table>\n",
       "<p>6022 rows × 11 columns</p>\n",
       "</div>"
      ],
      "text/plain": [
       "       worker                                         less_toxic  \\\n",
       "4         539   smelly vagina \\n\\nBluerasberry why don't you ...   \n",
       "5         437  There's a better answer to the question: the p...   \n",
       "7         672  Also my remarks are indeed a criticism of you ...   \n",
       "10        553   You are the one who is trolling \\n\\nI was not...   \n",
       "35         36   November 2006 (UTC)\\n\\nI've opened Wikipedia:...   \n",
       "...       ...                                                ...   \n",
       "30096     146                            eat shit an die faggot.   \n",
       "30100     365   Outrageous!!!!! \\n\\nThis block is outrageous ...   \n",
       "30105     352  wow...\\nare you out of your mind, how was my e...   \n",
       "30106     311  wow...\\nare you out of your mind, how was my e...   \n",
       "30107      54  wow...\\nare you out of your mind, how was my e...   \n",
       "\n",
       "                                              more_toxic  less_id  more_id  \\\n",
       "4               hey \\n\\nway to support nazis, you racist     4614     2195   \n",
       "5      I'm not new here. I don't know what the hell y...     8629     6867   \n",
       "7      Why not head on over to WP:RFA and try your ha...     5889    13007   \n",
       "10             yall are fags who like it up the ass hard    12329    11050   \n",
       "35     WHY IS CHRIS 73 - A KNOWN PAEDOPHILE - STILL A...     3365    13886   \n",
       "...                                                  ...      ...      ...   \n",
       "30096  \" September 2011 (UTC)\\nOf course i read it! Y...    10725     3901   \n",
       "30100  Bloody bots get more annoying every day.... He...     3089     7605   \n",
       "30105                       Piss off you slant eyed-gook     8396    10797   \n",
       "30106                       Piss off you slant eyed-gook     8396    10797   \n",
       "30107                       Piss off you slant eyed-gook     8396    10797   \n",
       "\n",
       "       less_gid  more_gid  fold  less_attack  more_attack  diff_attack  \n",
       "4           813       813     0    -1.013566    -0.231359     0.782207  \n",
       "5           442       442     0    -1.121056    -0.932326     0.188730  \n",
       "7          2924      2924     0    -1.811945    -1.270133     0.541812  \n",
       "10         4020      4020     0    -1.032875     0.002365     1.035239  \n",
       "35         2240      2240     0    -1.877995    -1.002949     0.875046  \n",
       "...         ...       ...   ...          ...          ...          ...  \n",
       "30096      2465      2465     0     0.249927    -1.177590    -1.427517  \n",
       "30100      2108      2108     0    -0.446379    -0.940702    -0.494323  \n",
       "30105      3663      3663     0    -1.765976    -0.235553     1.530423  \n",
       "30106      3663      3663     0    -1.765976    -0.235553     1.530423  \n",
       "30107      3663      3663     0    -1.765976    -0.235553     1.530423  \n",
       "\n",
       "[6022 rows x 11 columns]"
      ]
     },
     "execution_count": 37,
     "metadata": {},
     "output_type": "execute_result"
    }
   ],
   "source": [
    "val_df[val_df[\"fold\"]==0]"
   ]
  },
  {
   "cell_type": "markdown",
   "id": "270d4099",
   "metadata": {},
   "source": [
    "<br>\n",
    "<h2 style = \"font-size:45px;\n",
    "             font-family:Comic Sans MS ;\n",
    "             font-weight : normal;\n",
    "             background-color: #eeebf1 ;\n",
    "             color : #4c1c84;\n",
    "             text-align: center; \n",
    "             border-radius: 100px 100px;\">\n",
    "    Attention Visualize\n",
    "</h2>\n",
    "<br>"
   ]
  },
  {
   "cell_type": "code",
   "execution_count": 42,
   "id": "f6de550f",
   "metadata": {},
   "outputs": [
    {
     "data": {
      "text/html": [
       "<div>\n",
       "<style scoped>\n",
       "    .dataframe tbody tr th:only-of-type {\n",
       "        vertical-align: middle;\n",
       "    }\n",
       "\n",
       "    .dataframe tbody tr th {\n",
       "        vertical-align: top;\n",
       "    }\n",
       "\n",
       "    .dataframe thead th {\n",
       "        text-align: right;\n",
       "    }\n",
       "</style>\n",
       "<table border=\"1\" class=\"dataframe\">\n",
       "  <thead>\n",
       "    <tr style=\"text-align: right;\">\n",
       "      <th></th>\n",
       "      <th>text</th>\n",
       "    </tr>\n",
       "  </thead>\n",
       "  <tbody>\n",
       "    <tr>\n",
       "      <th>0</th>\n",
       "      <td>Please note: this user, while not an administr...</td>\n",
       "    </tr>\n",
       "    <tr>\n",
       "      <th>1</th>\n",
       "      <td>\"Some liberal kook writes \"\"A standalone \"\"Cre...</td>\n",
       "    </tr>\n",
       "    <tr>\n",
       "      <th>2</th>\n",
       "      <td>Aget a fucking lifeutosigned</td>\n",
       "    </tr>\n",
       "    <tr>\n",
       "      <th>3</th>\n",
       "      <td>lemon and orange?   How on earth do they make ...</td>\n",
       "    </tr>\n",
       "    <tr>\n",
       "      <th>4</th>\n",
       "      <td>LOL Bernie Mac actually does suck though \\nSo...</td>\n",
       "    </tr>\n",
       "  </tbody>\n",
       "</table>\n",
       "</div>"
      ],
      "text/plain": [
       "                                                text\n",
       "0  Please note: this user, while not an administr...\n",
       "1  \"Some liberal kook writes \"\"A standalone \"\"Cre...\n",
       "2                       Aget a fucking lifeutosigned\n",
       "3  lemon and orange?   How on earth do they make ...\n",
       "4   LOL Bernie Mac actually does suck though \\nSo..."
      ]
     },
     "metadata": {},
     "output_type": "display_data"
    },
    {
     "data": {
      "text/plain": [
       "(14251, 1)"
      ]
     },
     "metadata": {},
     "output_type": "display_data"
    }
   ],
   "source": [
    "text_df = pd.DataFrame()\n",
    "text_df[\"text\"] = list(set(val_df[\"less_toxic\"].unique().tolist() + val_df[\"more_toxic\"].unique().tolist()))\n",
    "\n",
    "display(text_df.head())\n",
    "display(text_df.shape)"
   ]
  },
  {
   "cell_type": "code",
   "execution_count": 43,
   "id": "26749d11",
   "metadata": {},
   "outputs": [
    {
     "name": "stdout",
     "output_type": "stream",
     "text": [
      "Device == cuda\n",
      "★★★★★★★★★★★★★★★★★★★★★★★★★  Fold1  ★★★★★★★★★★★★★★★★★★★★★★★★★\n"
     ]
    },
    {
     "name": "stderr",
     "output_type": "stream",
     "text": [
      "Some weights of the model checkpoint at roberta-base were not used when initializing RobertaModel: ['lm_head.dense.weight', 'lm_head.layer_norm.weight', 'lm_head.decoder.weight', 'lm_head.bias', 'lm_head.dense.bias', 'lm_head.layer_norm.bias']\n",
      "- This IS expected if you are initializing RobertaModel from the checkpoint of a model trained on another task or with another architecture (e.g. initializing a BertForSequenceClassification model from a BertForPreTraining model).\n",
      "- This IS NOT expected if you are initializing RobertaModel from the checkpoint of a model that you expect to be exactly identical (initializing a BertForSequenceClassification model from a BertForSequenceClassification model).\n"
     ]
    },
    {
     "name": "stdout",
     "output_type": "stream",
     "text": [
      "Use Model: roberta-base\n"
     ]
    },
    {
     "name": "stderr",
     "output_type": "stream",
     "text": [
      "Some weights of the model checkpoint at roberta-base were not used when initializing RobertaModel: ['lm_head.dense.weight', 'lm_head.layer_norm.weight', 'lm_head.decoder.weight', 'lm_head.bias', 'lm_head.dense.bias', 'lm_head.layer_norm.bias']\n",
      "- This IS expected if you are initializing RobertaModel from the checkpoint of a model trained on another task or with another architecture (e.g. initializing a BertForSequenceClassification model from a BertForPreTraining model).\n",
      "- This IS NOT expected if you are initializing RobertaModel from the checkpoint of a model that you expect to be exactly identical (initializing a BertForSequenceClassification model from a BertForSequenceClassification model).\n"
     ]
    },
    {
     "name": "stdout",
     "output_type": "stream",
     "text": [
      "Use Model: roberta-base\n"
     ]
    },
    {
     "data": {
      "application/vnd.jupyter.widget-view+json": {
       "model_id": "a512f84558a444f988b7bff6f846fa0e",
       "version_major": 2,
       "version_minor": 0
      },
      "text/plain": [
       "  0%|          | 0/7126 [00:00<?, ?it/s]"
      ]
     },
     "metadata": {},
     "output_type": "display_data"
    },
    {
     "name": "stdout",
     "output_type": "stream",
     "text": [
      "★★★★★★★★★★★★★★★★★★★★★★★★★  Fold2  ★★★★★★★★★★★★★★★★★★★★★★★★★\n"
     ]
    },
    {
     "name": "stderr",
     "output_type": "stream",
     "text": [
      "Some weights of the model checkpoint at roberta-base were not used when initializing RobertaModel: ['lm_head.dense.weight', 'lm_head.layer_norm.weight', 'lm_head.decoder.weight', 'lm_head.bias', 'lm_head.dense.bias', 'lm_head.layer_norm.bias']\n",
      "- This IS expected if you are initializing RobertaModel from the checkpoint of a model trained on another task or with another architecture (e.g. initializing a BertForSequenceClassification model from a BertForPreTraining model).\n",
      "- This IS NOT expected if you are initializing RobertaModel from the checkpoint of a model that you expect to be exactly identical (initializing a BertForSequenceClassification model from a BertForSequenceClassification model).\n"
     ]
    },
    {
     "name": "stdout",
     "output_type": "stream",
     "text": [
      "Use Model: roberta-base\n"
     ]
    },
    {
     "name": "stderr",
     "output_type": "stream",
     "text": [
      "Some weights of the model checkpoint at roberta-base were not used when initializing RobertaModel: ['lm_head.dense.weight', 'lm_head.layer_norm.weight', 'lm_head.decoder.weight', 'lm_head.bias', 'lm_head.dense.bias', 'lm_head.layer_norm.bias']\n",
      "- This IS expected if you are initializing RobertaModel from the checkpoint of a model trained on another task or with another architecture (e.g. initializing a BertForSequenceClassification model from a BertForPreTraining model).\n",
      "- This IS NOT expected if you are initializing RobertaModel from the checkpoint of a model that you expect to be exactly identical (initializing a BertForSequenceClassification model from a BertForSequenceClassification model).\n"
     ]
    },
    {
     "name": "stdout",
     "output_type": "stream",
     "text": [
      "Use Model: roberta-base\n"
     ]
    },
    {
     "data": {
      "application/vnd.jupyter.widget-view+json": {
       "model_id": "ad319511ac814dabab5b365d0e25ffc2",
       "version_major": 2,
       "version_minor": 0
      },
      "text/plain": [
       "  0%|          | 0/7126 [00:00<?, ?it/s]"
      ]
     },
     "metadata": {},
     "output_type": "display_data"
    },
    {
     "name": "stdout",
     "output_type": "stream",
     "text": [
      "★★★★★★★★★★★★★★★★★★★★★★★★★  Fold3  ★★★★★★★★★★★★★★★★★★★★★★★★★\n"
     ]
    },
    {
     "name": "stderr",
     "output_type": "stream",
     "text": [
      "Some weights of the model checkpoint at roberta-base were not used when initializing RobertaModel: ['lm_head.dense.weight', 'lm_head.layer_norm.weight', 'lm_head.decoder.weight', 'lm_head.bias', 'lm_head.dense.bias', 'lm_head.layer_norm.bias']\n",
      "- This IS expected if you are initializing RobertaModel from the checkpoint of a model trained on another task or with another architecture (e.g. initializing a BertForSequenceClassification model from a BertForPreTraining model).\n",
      "- This IS NOT expected if you are initializing RobertaModel from the checkpoint of a model that you expect to be exactly identical (initializing a BertForSequenceClassification model from a BertForSequenceClassification model).\n"
     ]
    },
    {
     "name": "stdout",
     "output_type": "stream",
     "text": [
      "Use Model: roberta-base\n"
     ]
    },
    {
     "name": "stderr",
     "output_type": "stream",
     "text": [
      "Some weights of the model checkpoint at roberta-base were not used when initializing RobertaModel: ['lm_head.dense.weight', 'lm_head.layer_norm.weight', 'lm_head.decoder.weight', 'lm_head.bias', 'lm_head.dense.bias', 'lm_head.layer_norm.bias']\n",
      "- This IS expected if you are initializing RobertaModel from the checkpoint of a model trained on another task or with another architecture (e.g. initializing a BertForSequenceClassification model from a BertForPreTraining model).\n",
      "- This IS NOT expected if you are initializing RobertaModel from the checkpoint of a model that you expect to be exactly identical (initializing a BertForSequenceClassification model from a BertForSequenceClassification model).\n"
     ]
    },
    {
     "name": "stdout",
     "output_type": "stream",
     "text": [
      "Use Model: roberta-base\n"
     ]
    },
    {
     "data": {
      "application/vnd.jupyter.widget-view+json": {
       "model_id": "943873d99a3d445690969071a0891ad7",
       "version_major": 2,
       "version_minor": 0
      },
      "text/plain": [
       "  0%|          | 0/7126 [00:00<?, ?it/s]"
      ]
     },
     "metadata": {},
     "output_type": "display_data"
    },
    {
     "name": "stdout",
     "output_type": "stream",
     "text": [
      "★★★★★★★★★★★★★★★★★★★★★★★★★  Fold4  ★★★★★★★★★★★★★★★★★★★★★★★★★\n"
     ]
    },
    {
     "name": "stderr",
     "output_type": "stream",
     "text": [
      "Some weights of the model checkpoint at roberta-base were not used when initializing RobertaModel: ['lm_head.dense.weight', 'lm_head.layer_norm.weight', 'lm_head.decoder.weight', 'lm_head.bias', 'lm_head.dense.bias', 'lm_head.layer_norm.bias']\n",
      "- This IS expected if you are initializing RobertaModel from the checkpoint of a model trained on another task or with another architecture (e.g. initializing a BertForSequenceClassification model from a BertForPreTraining model).\n",
      "- This IS NOT expected if you are initializing RobertaModel from the checkpoint of a model that you expect to be exactly identical (initializing a BertForSequenceClassification model from a BertForSequenceClassification model).\n"
     ]
    },
    {
     "name": "stdout",
     "output_type": "stream",
     "text": [
      "Use Model: roberta-base\n"
     ]
    },
    {
     "name": "stderr",
     "output_type": "stream",
     "text": [
      "Some weights of the model checkpoint at roberta-base were not used when initializing RobertaModel: ['lm_head.dense.weight', 'lm_head.layer_norm.weight', 'lm_head.decoder.weight', 'lm_head.bias', 'lm_head.dense.bias', 'lm_head.layer_norm.bias']\n",
      "- This IS expected if you are initializing RobertaModel from the checkpoint of a model trained on another task or with another architecture (e.g. initializing a BertForSequenceClassification model from a BertForPreTraining model).\n",
      "- This IS NOT expected if you are initializing RobertaModel from the checkpoint of a model that you expect to be exactly identical (initializing a BertForSequenceClassification model from a BertForSequenceClassification model).\n"
     ]
    },
    {
     "name": "stdout",
     "output_type": "stream",
     "text": [
      "Use Model: roberta-base\n"
     ]
    },
    {
     "data": {
      "application/vnd.jupyter.widget-view+json": {
       "model_id": "3f1392c8a0ad49049d6898673608658c",
       "version_major": 2,
       "version_minor": 0
      },
      "text/plain": [
       "  0%|          | 0/7126 [00:00<?, ?it/s]"
      ]
     },
     "metadata": {},
     "output_type": "display_data"
    },
    {
     "name": "stdout",
     "output_type": "stream",
     "text": [
      "★★★★★★★★★★★★★★★★★★★★★★★★★  Fold5  ★★★★★★★★★★★★★★★★★★★★★★★★★\n"
     ]
    },
    {
     "name": "stderr",
     "output_type": "stream",
     "text": [
      "Some weights of the model checkpoint at roberta-base were not used when initializing RobertaModel: ['lm_head.dense.weight', 'lm_head.layer_norm.weight', 'lm_head.decoder.weight', 'lm_head.bias', 'lm_head.dense.bias', 'lm_head.layer_norm.bias']\n",
      "- This IS expected if you are initializing RobertaModel from the checkpoint of a model trained on another task or with another architecture (e.g. initializing a BertForSequenceClassification model from a BertForPreTraining model).\n",
      "- This IS NOT expected if you are initializing RobertaModel from the checkpoint of a model that you expect to be exactly identical (initializing a BertForSequenceClassification model from a BertForSequenceClassification model).\n"
     ]
    },
    {
     "name": "stdout",
     "output_type": "stream",
     "text": [
      "Use Model: roberta-base\n"
     ]
    },
    {
     "name": "stderr",
     "output_type": "stream",
     "text": [
      "Some weights of the model checkpoint at roberta-base were not used when initializing RobertaModel: ['lm_head.dense.weight', 'lm_head.layer_norm.weight', 'lm_head.decoder.weight', 'lm_head.bias', 'lm_head.dense.bias', 'lm_head.layer_norm.bias']\n",
      "- This IS expected if you are initializing RobertaModel from the checkpoint of a model trained on another task or with another architecture (e.g. initializing a BertForSequenceClassification model from a BertForPreTraining model).\n",
      "- This IS NOT expected if you are initializing RobertaModel from the checkpoint of a model that you expect to be exactly identical (initializing a BertForSequenceClassification model from a BertForSequenceClassification model).\n"
     ]
    },
    {
     "name": "stdout",
     "output_type": "stream",
     "text": [
      "Use Model: roberta-base\n"
     ]
    },
    {
     "data": {
      "application/vnd.jupyter.widget-view+json": {
       "model_id": "57cc5094a1904b47be00b00498282b68",
       "version_major": 2,
       "version_minor": 0
      },
      "text/plain": [
       "  0%|          | 0/7126 [00:00<?, ?it/s]"
      ]
     },
     "metadata": {},
     "output_type": "display_data"
    }
   ],
   "source": [
    "device = torch.device('cuda' if torch.cuda.is_available() else 'cpu')\n",
    "\n",
    "print(f\"Device == {device}\")\n",
    "\n",
    "attention_array = np.zeros((len(text_df), config.max_length)) # attention格納\n",
    "mask_array = np.zeros((len(text_df), config.max_length)) # mask情報格納,後でattentionと掛け合わせる\n",
    "feature_array = np.zeros((len(text_df), 768))\n",
    "PRED = np.zeros(len(text_df))\n",
    "\n",
    "for fold in config.train_fold:\n",
    "\n",
    "    pred_list = []\n",
    "    print(\"★\"*25, f\" Fold{fold+1} \", \"★\"*25)\n",
    "\n",
    "    test_dataloader = JigsawDataModule(val_df, val_df, text_df, config).test_dataloader()\n",
    "    model = JigsawModel(config, fold)\n",
    "\n",
    "    loss_checkpoint = callbacks.ModelCheckpoint(\n",
    "        filename=f\"best_acc_fold{fold+1}\",\n",
    "        monitor=f\"valid_acc/fold{fold+1}\",\n",
    "        save_top_k=1,\n",
    "        mode=\"max\",\n",
    "        save_last=False,\n",
    "        dirpath=\"../input/toxicroberta/\",\n",
    "    )\n",
    "    model = model.load_from_checkpoint(MODEL_DIR/f\"best_acc_fold{fold+1}.ckpt\", cfg=config, fold_num=fold)\n",
    "    model.to(device)\n",
    "    model.eval()\n",
    "    \n",
    "    attention_list = []\n",
    "    feature_list = []\n",
    "    mask_list = []\n",
    "    pred_list = []\n",
    "    \n",
    "    for step, data in tqdm(enumerate(test_dataloader), total=len(test_dataloader)):\n",
    "\n",
    "        text_ids = data[\"text_ids\"].to(device)\n",
    "        text_mask = data[\"text_mask\"].to(device)\n",
    "        text_token_type_ids = data[\"text_token_type_ids\"].to(device)\n",
    "        \n",
    "        mask_list.append(text_mask.detach().cpu().numpy())\n",
    "            \n",
    "        outputs = model(\n",
    "            text_ids, \n",
    "            text_mask,\n",
    "            text_token_type_ids,\n",
    "        )\n",
    "        \n",
    "        ## Last LayerのCLS Tokenに対するAttention\n",
    "        last_attention = outputs[\"attention\"][-1].detach().cpu().numpy()\n",
    "        total_attention = np.zeros((last_attention.shape[0], config.max_length))\n",
    "        \n",
    "        for batch in range(last_attention.shape[0]):\n",
    "            for n_head in range(12):\n",
    "                total_attention[batch, :] += last_attention[batch, n_head, 0, :]\n",
    "                \n",
    "        attention_list.append(total_attention)\n",
    "        pred_list.append(outputs[\"logits\"][:, 0].detach().cpu().numpy())\n",
    "        feature_list.append(outputs[\"feature\"].detach().cpu().numpy())\n",
    "\n",
    "    attention_array += np.concatenate(attention_list)/config.n_fold\n",
    "    mask_array += np.concatenate(mask_list)/config.n_fold\n",
    "    feature_array += np.concatenate(feature_list)/config.n_fold\n",
    "    PRED += np.concatenate(pred_list)/len(config.train_fold)\n",
    "    \n",
    "    "
   ]
  },
  {
   "cell_type": "code",
   "execution_count": 46,
   "id": "b5c768d4",
   "metadata": {},
   "outputs": [],
   "source": [
    "text_df[\"target\"] = PRED\n",
    "text_df.to_pickle(OUTPUT_DIR/f\"{config.exp_name}__text_df.pkl\")\n",
    "np.save(OUTPUT_DIR/'toxic-attention.npy', attention_array)\n",
    "np.save(OUTPUT_DIR/'toxic-mask.npy', mask_array)\n",
    "np.save(OUTPUT_DIR/'toxic-feature.npy', feature_array)"
   ]
  },
  {
   "cell_type": "code",
   "execution_count": 47,
   "id": "18abb511",
   "metadata": {},
   "outputs": [
    {
     "data": {
      "image/png": "[encoded data removed]",
      "text/plain": [
       "<Figure size 864x360 with 1 Axes>"
      ]
     },
     "metadata": {
      "needs_background": "light"
     },
     "output_type": "display_data"
    }
   ],
   "source": [
    "plt.figure(figsize=(12, 5))\n",
    "sns.histplot(text_df[\"target\"], color=\"#4c1c84\")\n",
    "plt.grid()\n",
    "plt.show()"
   ]
  },
  {
   "cell_type": "markdown",
   "id": "bb5cfab6",
   "metadata": {},
   "source": [
    "<br>\n",
    "<h2 style = \"font-size:45px;\n",
    "             font-family:Comic Sans MS ;\n",
    "             font-weight : normal;\n",
    "             background-color: #eeebf1 ;\n",
    "             color : #4c1c84;\n",
    "             text-align: center; \n",
    "             border-radius: 100px 100px;\">\n",
    "    Attention Load\n",
    "</h2>\n",
    "<br>"
   ]
  },
  {
   "cell_type": "code",
   "execution_count": 46,
   "id": "c5d5f4f6",
   "metadata": {},
   "outputs": [],
   "source": [
    "text_df = pd.read_pickle(OUTPUT_DIR/\"text_df.pkl\")\n",
    "attention_array = np.load(OUTPUT_DIR/'toxic-attention.npy')\n",
    "mask_array = np.load(OUTPUT_DIR/'toxic-mask.npy')"
   ]
  },
  {
   "cell_type": "code",
   "execution_count": 47,
   "id": "58878a85",
   "metadata": {},
   "outputs": [],
   "source": [
    "from IPython.display import display, HTML\n",
    "\n",
    "def highlight_r(word, attn):\n",
    "    html_color = '#%02X%02X%02X' % (255, int(255*(1 - attn)), int(255*(1 - attn)))\n",
    "    return '<span style=\"background-color: {}\">{}</span>'.format(html_color, word)"
   ]
  },
  {
   "cell_type": "code",
   "execution_count": 49,
   "id": "b98f974d",
   "metadata": {},
   "outputs": [
    {
     "name": "stdout",
     "output_type": "stream",
     "text": [
      "Offensive Score is -0.7636717192362994\n"
     ]
    },
    {
     "data": {
      "text/html": [
       "<span style=\"background-color: #FF-108-108\"><s></span> <span style=\"background-color: #FFCCCC\">Please</span> <span style=\"background-color: #FFD7D7\">Ġexcuse</span> <span style=\"background-color: #FFD7D7\">Ġthose</span> <span style=\"background-color: #FFDCDC\">Ġlines</span> <span style=\"background-color: #FFE9E9\">Ġof</span> <span style=\"background-color: #FFDEDE\">Ġevents</span> <span style=\"background-color: #FFC2C2\">-</span> <span style=\"background-color: #FFDDDD\">Ġmy</span> <span style=\"background-color: #FFDDDD\">Ġfriend</span> <span style=\"background-color: #FFE2E2\">Ġwas</span> <span style=\"background-color: #FFD5D5\">Ġborrowing</span> <span style=\"background-color: #FFDCDC\">Ġmy</span> <span style=\"background-color: #FFDDDD\">Ġaccount</span> <span style=\"background-color: #FFE1E1\">,</span> <span style=\"background-color: #FFE5E5\">Ġand</span> <span style=\"background-color: #FFE9E9\">Ġhe</span> <span style=\"background-color: #FFEEEE\">Ġdecided</span> <span style=\"background-color: #FFF5F5\">Ġit</span> <span style=\"background-color: #FFF7F7\">Ġwould</span> <span style=\"background-color: #FFF8F8\">Ġbe</span> <span style=\"background-color: #FFEEEE\">Ġclever</span> <span style=\"background-color: #FFF9F9\">Ġof</span> <span style=\"background-color: #FFEEEE\">Ġhim</span> <span style=\"background-color: #FFE7E7\">Ġto</span> <span style=\"background-color: #FFD0D0\">Ġvandal</span> <span style=\"background-color: #FFDDDD\">ise</span> <span style=\"background-color: #FFDCDC\">Ġcertain</span> <span style=\"background-color: #FFE7E7\">t</span> <span style=\"background-color: #FFBCBC\">Ġpages</span> <span style=\"background-color: #FF-124-124\">.</span> <span style=\"background-color: #FFE9E9\">ĠIt</span> <span style=\"background-color: #FFECEC\">Ġwas</span> <span style=\"background-color: #FFE6E6\">Ġfoolish</span> <span style=\"background-color: #FFF6F6\">Ġof</span> <span style=\"background-color: #FFEBEB\">Ġme</span> <span style=\"background-color: #FFF2F2\">Ġto</span> <span style=\"background-color: #FFE6E6\">Ġlend</span> <span style=\"background-color: #FFF0F0\">Ġhim</span> <span style=\"background-color: #FFE9E9\">Ġmy</span> <span style=\"background-color: #FFE8E8\">Ġaccount</span> <span style=\"background-color: #FFDBDB\">,</span> <span style=\"background-color: #FFE8E8\">Ġand</span> <span style=\"background-color: #FFEAEA\">Ġit</span> <span style=\"background-color: #FFE5E5\">Ġwill</span> <span style=\"background-color: #FFEAEA\">Ġnot</span> <span style=\"background-color: #FFF2F2\">Ġhappen</span> <span style=\"background-color: #FFF1F1\">Ġagain</span> <span style=\"background-color: #FF-124-124\">.</span> <span style=\"background-color: #FFBCBC\">Ġ</span> <span style=\"background-color: #FF5151\"></s></span>"
      ],
      "text/plain": [
       "<IPython.core.display.HTML object>"
      ]
     },
     "metadata": {},
     "output_type": "display_data"
    },
    {
     "data": {
      "text/plain": [
       "'Please excuse those lines of events- my friend was borrowing my account, and he decided it would be clever of him to vandalise certaint pages. It was foolish of me to lend him my account, and it will not happen again. '"
      ]
     },
     "metadata": {},
     "output_type": "display_data"
    }
   ],
   "source": [
    "num = 12\n",
    "\n",
    "ids = config.tokenizer(text_df.loc[num, \"text\"])[\"input_ids\"]\n",
    "tokens = config.tokenizer.convert_ids_to_tokens(ids)\n",
    "attention = attention_array[num, :][np.nonzero(mask_array[num, :])]\n",
    "\n",
    "html_outputs = []\n",
    "\n",
    "for word, attn in zip(tokens, attention):\n",
    "    html_outputs.append(highlight_r(word, attn))\n",
    "\n",
    "print(f\"Offensive Score is {PRED[num]}\")\n",
    "display(HTML(' '.join(html_outputs)))\n",
    "display(text_df.loc[num, \"text\"])"
   ]
  },
  {
   "cell_type": "code",
   "execution_count": 50,
   "id": "3ebfd670",
   "metadata": {},
   "outputs": [
    {
     "data": {
      "text/html": [
       "<div>\n",
       "<style scoped>\n",
       "    .dataframe tbody tr th:only-of-type {\n",
       "        vertical-align: middle;\n",
       "    }\n",
       "\n",
       "    .dataframe tbody tr th {\n",
       "        vertical-align: top;\n",
       "    }\n",
       "\n",
       "    .dataframe thead th {\n",
       "        text-align: right;\n",
       "    }\n",
       "</style>\n",
       "<table border=\"1\" class=\"dataframe\">\n",
       "  <thead>\n",
       "    <tr style=\"text-align: right;\">\n",
       "      <th></th>\n",
       "      <th>text</th>\n",
       "      <th>target</th>\n",
       "    </tr>\n",
       "  </thead>\n",
       "  <tbody>\n",
       "    <tr>\n",
       "      <th>960</th>\n",
       "      <td>FUCK YOU YOU PIECE OF SHIT \\n FUCK YOU YOU PI...</td>\n",
       "      <td>1.825503</td>\n",
       "    </tr>\n",
       "    <tr>\n",
       "      <th>9527</th>\n",
       "      <td>FUCK YOU U USELESS BOT FUCK YOU U USELESS BOT ...</td>\n",
       "      <td>1.638090</td>\n",
       "    </tr>\n",
       "    <tr>\n",
       "      <th>5726</th>\n",
       "      <td>FUCKING COCKSUCKING ADMINS, EAT MY SHIT CUNTS!...</td>\n",
       "      <td>1.599204</td>\n",
       "    </tr>\n",
       "    <tr>\n",
       "      <th>81</th>\n",
       "      <td>FUCK YOU, YOU ATHEIST CUNT! FUCK YOU, YOU ATHE...</td>\n",
       "      <td>1.569043</td>\n",
       "    </tr>\n",
       "    <tr>\n",
       "      <th>12595</th>\n",
       "      <td>F*ck You \\nShut the fuck up you whiney ass li...</td>\n",
       "      <td>1.496165</td>\n",
       "    </tr>\n",
       "    <tr>\n",
       "      <th>8763</th>\n",
       "      <td>Fuck u bitch \\n\\nFuck u Bitch</td>\n",
       "      <td>1.483061</td>\n",
       "    </tr>\n",
       "    <tr>\n",
       "      <th>13913</th>\n",
       "      <td>Fuck you asshole! \\n\\nGo fuck yourself! Dirty...</td>\n",
       "      <td>1.473651</td>\n",
       "    </tr>\n",
       "    <tr>\n",
       "      <th>5779</th>\n",
       "      <td>HEEY FUCKFACE YOU ARE A REAL BITCH ASS PUSSY W...</td>\n",
       "      <td>1.472036</td>\n",
       "    </tr>\n",
       "    <tr>\n",
       "      <th>3011</th>\n",
       "      <td>IN THE ASS BITCH FUCKING COCK SUCKER!</td>\n",
       "      <td>1.462103</td>\n",
       "    </tr>\n",
       "    <tr>\n",
       "      <th>775</th>\n",
       "      <td>FUCK YOU ALL!!  FUCK YOU ALL!!  FUCK YOU ALL!!...</td>\n",
       "      <td>1.460091</td>\n",
       "    </tr>\n",
       "    <tr>\n",
       "      <th>7625</th>\n",
       "      <td>fuck you bitch nigger slut ass fuck whore</td>\n",
       "      <td>1.449414</td>\n",
       "    </tr>\n",
       "    <tr>\n",
       "      <th>9141</th>\n",
       "      <td>fuck cocksucker titty marijuana nigger whore</td>\n",
       "      <td>1.449119</td>\n",
       "    </tr>\n",
       "    <tr>\n",
       "      <th>10606</th>\n",
       "      <td>fuck u u stupid prick</td>\n",
       "      <td>1.446792</td>\n",
       "    </tr>\n",
       "    <tr>\n",
       "      <th>13303</th>\n",
       "      <td>FUCK YOU BITCH\\nKiss my ass, you dickless trol...</td>\n",
       "      <td>1.434199</td>\n",
       "    </tr>\n",
       "    <tr>\n",
       "      <th>3388</th>\n",
       "      <td>FUCK YOU, YOU GAY ASS LIBERAL!!!\\nhey asshole ...</td>\n",
       "      <td>1.432418</td>\n",
       "    </tr>\n",
       "    <tr>\n",
       "      <th>3950</th>\n",
       "      <td>FUCK YOU YOU ASS HOLE! FUCK YOU!!!!!!!!!!!!!!...</td>\n",
       "      <td>1.429794</td>\n",
       "    </tr>\n",
       "    <tr>\n",
       "      <th>11778</th>\n",
       "      <td>FUCK YOU YOU RED SCUMBAG \\n\\nFUCK YOU YOU RED...</td>\n",
       "      <td>1.428746</td>\n",
       "    </tr>\n",
       "    <tr>\n",
       "      <th>2256</th>\n",
       "      <td>FUCK YOUR MOTHER \\n\\nFUCK OFF</td>\n",
       "      <td>1.423990</td>\n",
       "    </tr>\n",
       "    <tr>\n",
       "      <th>2148</th>\n",
       "      <td>FUCK BILLCJ AND KILL BILLCJ BECAUSE I HATE HI...</td>\n",
       "      <td>1.420255</td>\n",
       "    </tr>\n",
       "    <tr>\n",
       "      <th>3767</th>\n",
       "      <td>YOU ARE A MOTHJER FUCKER COCKSUCKER! YOU ARE A...</td>\n",
       "      <td>1.418027</td>\n",
       "    </tr>\n",
       "  </tbody>\n",
       "</table>\n",
       "</div>"
      ],
      "text/plain": [
       "                                                    text    target\n",
       "960     FUCK YOU YOU PIECE OF SHIT \\n FUCK YOU YOU PI...  1.825503\n",
       "9527   FUCK YOU U USELESS BOT FUCK YOU U USELESS BOT ...  1.638090\n",
       "5726   FUCKING COCKSUCKING ADMINS, EAT MY SHIT CUNTS!...  1.599204\n",
       "81     FUCK YOU, YOU ATHEIST CUNT! FUCK YOU, YOU ATHE...  1.569043\n",
       "12595   F*ck You \\nShut the fuck up you whiney ass li...  1.496165\n",
       "8763                       Fuck u bitch \\n\\nFuck u Bitch  1.483061\n",
       "13913   Fuck you asshole! \\n\\nGo fuck yourself! Dirty...  1.473651\n",
       "5779   HEEY FUCKFACE YOU ARE A REAL BITCH ASS PUSSY W...  1.472036\n",
       "3011               IN THE ASS BITCH FUCKING COCK SUCKER!  1.462103\n",
       "775    FUCK YOU ALL!!  FUCK YOU ALL!!  FUCK YOU ALL!!...  1.460091\n",
       "7625           fuck you bitch nigger slut ass fuck whore  1.449414\n",
       "9141        fuck cocksucker titty marijuana nigger whore  1.449119\n",
       "10606                              fuck u u stupid prick  1.446792\n",
       "13303  FUCK YOU BITCH\\nKiss my ass, you dickless trol...  1.434199\n",
       "3388   FUCK YOU, YOU GAY ASS LIBERAL!!!\\nhey asshole ...  1.432418\n",
       "3950    FUCK YOU YOU ASS HOLE! FUCK YOU!!!!!!!!!!!!!!...  1.429794\n",
       "11778   FUCK YOU YOU RED SCUMBAG \\n\\nFUCK YOU YOU RED...  1.428746\n",
       "2256                       FUCK YOUR MOTHER \\n\\nFUCK OFF  1.423990\n",
       "2148    FUCK BILLCJ AND KILL BILLCJ BECAUSE I HATE HI...  1.420255\n",
       "3767   YOU ARE A MOTHJER FUCKER COCKSUCKER! YOU ARE A...  1.418027"
      ]
     },
     "execution_count": 50,
     "metadata": {},
     "output_type": "execute_result"
    }
   ],
   "source": [
    "text_df.sort_values(\"target\", ascending=False).head(20)"
   ]
  },
  {
   "cell_type": "code",
   "execution_count": 52,
   "id": "7e2d93d3",
   "metadata": {},
   "outputs": [
    {
     "name": "stdout",
     "output_type": "stream",
     "text": [
      "Offensive Score is 1.8255026936531067\n"
     ]
    },
    {
     "data": {
      "text/html": [
       "<span style=\"background-color: #FF-116-116\"><s></span> <span style=\"background-color: #FFE6E6\">ĠFUCK</span> <span style=\"background-color: #FFF0F0\">ĠYOU</span> <span style=\"background-color: #FFF0F0\">ĠYOU</span> <span style=\"background-color: #FFF3F3\">ĠPI</span> <span style=\"background-color: #FFF8F8\">EC</span> <span style=\"background-color: #FFF7F7\">E</span> <span style=\"background-color: #FFF1F1\">ĠOF</span> <span style=\"background-color: #FFF2F2\">ĠSH</span> <span style=\"background-color: #FFF5F5\">IT</span> <span style=\"background-color: #FFE7E7\">Ġ</span> <span style=\"background-color: #FFEAEA\">Ċ</span> <span style=\"background-color: #FFE8E8\">ĠFUCK</span> <span style=\"background-color: #FFF5F5\">ĠYOU</span> <span style=\"background-color: #FFF5F5\">ĠYOU</span> <span style=\"background-color: #FFF6F6\">ĠPI</span> <span style=\"background-color: #FFFBFB\">EC</span> <span style=\"background-color: #FFFAFA\">E</span> <span style=\"background-color: #FFF7F7\">ĠOF</span> <span style=\"background-color: #FFF7F7\">ĠSH</span> <span style=\"background-color: #FFF8F8\">IT</span> <span style=\"background-color: #FFE9E9\">Ġ</span> <span style=\"background-color: #FFEBEB\">Ċ</span> <span style=\"background-color: #FFE9E9\">ĠFUCK</span> <span style=\"background-color: #FFF5F5\">ĠYOU</span> <span style=\"background-color: #FFF5F5\">ĠYOU</span> <span style=\"background-color: #FFF7F7\">ĠPI</span> <span style=\"background-color: #FFFBFB\">EC</span> <span style=\"background-color: #FFFBFB\">E</span> <span style=\"background-color: #FFF7F7\">ĠOF</span> <span style=\"background-color: #FFF7F7\">ĠSH</span> <span style=\"background-color: #FFF8F8\">IT</span> <span style=\"background-color: #FFEAEA\">Ġ</span> <span style=\"background-color: #FFEBEB\">Ċ</span> <span style=\"background-color: #FFEAEA\">ĠFUCK</span> <span style=\"background-color: #FFF6F6\">ĠYOU</span> <span style=\"background-color: #FFF5F5\">ĠYOU</span> <span style=\"background-color: #FFF7F7\">ĠPI</span> <span style=\"background-color: #FFFBFB\">EC</span> <span style=\"background-color: #FFFBFB\">E</span> <span style=\"background-color: #FFF7F7\">ĠOF</span> <span style=\"background-color: #FFF7F7\">ĠSH</span> <span style=\"background-color: #FFF8F8\">IT</span> <span style=\"background-color: #FFEAEA\">Ġ</span> <span style=\"background-color: #FFEAEA\">Ċ</span> <span style=\"background-color: #FFEAEA\">ĠFUCK</span> <span style=\"background-color: #FFF6F6\">ĠYOU</span> <span style=\"background-color: #FFF6F6\">ĠYOU</span> <span style=\"background-color: #FFF7F7\">ĠPI</span> <span style=\"background-color: #FFFBFB\">EC</span> <span style=\"background-color: #FFFBFB\">E</span> <span style=\"background-color: #FFF7F7\">ĠOF</span> <span style=\"background-color: #FFF7F7\">ĠSH</span> <span style=\"background-color: #FFF8F8\">IT</span> <span style=\"background-color: #FFEAEA\">Ġ</span> <span style=\"background-color: #FFEAEA\">Ċ</span> <span style=\"background-color: #FFEAEA\">ĠFUCK</span> <span style=\"background-color: #FFF7F7\">ĠYOU</span> <span style=\"background-color: #FFF6F6\">ĠYOU</span> <span style=\"background-color: #FFF7F7\">ĠPI</span> <span style=\"background-color: #FFFBFB\">EC</span> <span style=\"background-color: #FFFBFB\">E</span> <span style=\"background-color: #FFF7F7\">ĠOF</span> <span style=\"background-color: #FFF8F8\">ĠSH</span> <span style=\"background-color: #FFF8F8\">IT</span> <span style=\"background-color: #FFE9E9\">Ġ</span> <span style=\"background-color: #FFE9E9\">Ċ</span> <span style=\"background-color: #FFE8E8\">ĠFUCK</span> <span style=\"background-color: #FFF6F6\">ĠYOU</span> <span style=\"background-color: #FFF6F6\">ĠYOU</span> <span style=\"background-color: #FFF7F7\">ĠPI</span> <span style=\"background-color: #FFFBFB\">EC</span> <span style=\"background-color: #FFFBFB\">E</span> <span style=\"background-color: #FFF7F7\">ĠOF</span> <span style=\"background-color: #FFF7F7\">ĠSH</span> <span style=\"background-color: #FFF8F8\">IT</span> <span style=\"background-color: #FFEAEA\">Ġ</span> <span style=\"background-color: #FFE9E9\">Ċ</span> <span style=\"background-color: #FFE9E9\">ĠFUCK</span> <span style=\"background-color: #FFF6F6\">ĠYOU</span> <span style=\"background-color: #FFF6F6\">ĠYOU</span> <span style=\"background-color: #FFF7F7\">ĠPI</span> <span style=\"background-color: #FFFBFB\">EC</span> <span style=\"background-color: #FFFBFB\">E</span> <span style=\"background-color: #FFF7F7\">ĠOF</span> <span style=\"background-color: #FFF7F7\">ĠSH</span> <span style=\"background-color: #FFF9F9\">IT</span> <span style=\"background-color: #FFEAEA\">Ġ</span> <span style=\"background-color: #FFE9E9\">Ċ</span> <span style=\"background-color: #FFE9E9\">ĠFUCK</span> <span style=\"background-color: #FFF6F6\">ĠYOU</span> <span style=\"background-color: #FFF5F5\">ĠYOU</span> <span style=\"background-color: #FFF7F7\">ĠPI</span> <span style=\"background-color: #FFFBFB\">EC</span> <span style=\"background-color: #FFFBFB\">E</span> <span style=\"background-color: #FFF7F7\">ĠOF</span> <span style=\"background-color: #FFF7F7\">ĠSH</span> <span style=\"background-color: #FFF8F8\">IT</span> <span style=\"background-color: #FFEAEA\">Ġ</span> <span style=\"background-color: #FFE9E9\">Ċ</span> <span style=\"background-color: #FFE9E9\">ĠFUCK</span> <span style=\"background-color: #FFF6F6\">ĠYOU</span> <span style=\"background-color: #FFF6F6\">ĠYOU</span> <span style=\"background-color: #FFF7F7\">ĠPI</span> <span style=\"background-color: #FFFBFB\">EC</span> <span style=\"background-color: #FFFBFB\">E</span> <span style=\"background-color: #FFF8F8\">ĠOF</span> <span style=\"background-color: #FFF7F7\">ĠSH</span> <span style=\"background-color: #FFF8F8\">IT</span> <span style=\"background-color: #FFEBEB\">Ġ</span> <span style=\"background-color: #FFEBEB\">Ċ</span> <span style=\"background-color: #FFEAEA\">ĠFUCK</span> <span style=\"background-color: #FFF6F6\">ĠYOU</span> <span style=\"background-color: #FFF6F6\">ĠYOU</span> <span style=\"background-color: #FFF7F7\">ĠPI</span> <span style=\"background-color: #FFFBFB\">EC</span> <span style=\"background-color: #FFFBFB\">E</span> <span style=\"background-color: #FFF8F8\">ĠOF</span> <span style=\"background-color: #FFF7F7\">ĠSH</span> <span style=\"background-color: #FFF8F8\">IT</span> <span style=\"background-color: #FFEBEB\">Ġ</span> <span style=\"background-color: #FFEBEB\">Ċ</span> <span style=\"background-color: #FFEAEA\">ĠFUCK</span> <span style=\"background-color: #FFF6F6\">ĠYOU</span> <span style=\"background-color: #FFF6F6\">ĠYOU</span> <span style=\"background-color: #FFF7F7\">ĠPI</span> <span style=\"background-color: #FFFBFB\">EC</span> <span style=\"background-color: #FFFBFB\">E</span> <span style=\"background-color: #FFF8F8\">ĠOF</span> <span style=\"background-color: #FFF7F7\">ĠSH</span> <span style=\"background-color: #FFF9F9\">IT</span> <span style=\"background-color: #FFEBEB\">Ġ</span> <span style=\"background-color: #FFEBEB\">Ċ</span> <span style=\"background-color: #FFEAEA\">ĠFUCK</span> <span style=\"background-color: #FFF6F6\">ĠYOU</span> <span style=\"background-color: #FFF6F6\">ĠYOU</span> <span style=\"background-color: #FFF7F7\">ĠPI</span> <span style=\"background-color: #FFFBFB\">EC</span> <span style=\"background-color: #FFFBFB\">E</span> <span style=\"background-color: #FFF8F8\">ĠOF</span> <span style=\"background-color: #FFF8F8\">ĠSH</span> <span style=\"background-color: #FFF9F9\">IT</span> <span style=\"background-color: #FFEBEB\">Ġ</span> <span style=\"background-color: #FFEBEB\">Ċ</span> <span style=\"background-color: #FFEBEB\">ĠFUCK</span> <span style=\"background-color: #FFF6F6\">ĠYOU</span> <span style=\"background-color: #FFF6F6\">ĠYOU</span> <span style=\"background-color: #FFF7F7\">ĠPI</span> <span style=\"background-color: #FFFBFB\">EC</span> <span style=\"background-color: #FFFBFB\">E</span> <span style=\"background-color: #FFF7F7\">ĠOF</span> <span style=\"background-color: #FFF8F8\">ĠSH</span> <span style=\"background-color: #FFF9F9\">IT</span> <span style=\"background-color: #FFEBEB\">Ġ</span> <span style=\"background-color: #FFEBEB\">Ċ</span> <span style=\"background-color: #FFE9E9\">ĠFUCK</span> <span style=\"background-color: #FFF6F6\">ĠYOU</span> <span style=\"background-color: #FFF5F5\">ĠYOU</span> <span style=\"background-color: #FFF7F7\">ĠPI</span> <span style=\"background-color: #FFFBFB\">EC</span> <span style=\"background-color: #FFFBFB\">E</span> <span style=\"background-color: #FFF6F6\">ĠOF</span> <span style=\"background-color: #FFF7F7\">ĠSH</span> <span style=\"background-color: #FFF9F9\">IT</span> <span style=\"background-color: #FFEAEA\">Ġ</span> <span style=\"background-color: #FFEAEA\">Ċ</span> <span style=\"background-color: #FFE9E9\">ĠFUCK</span> <span style=\"background-color: #FFF6F6\">ĠYOU</span> <span style=\"background-color: #FFF5F5\">ĠYOU</span> <span style=\"background-color: #FFF7F7\">ĠPI</span> <span style=\"background-color: #FFFBFB\">EC</span> <span style=\"background-color: #FFFBFB\">E</span> <span style=\"background-color: #FFF6F6\">ĠOF</span> <span style=\"background-color: #FFF8F8\">ĠSH</span> <span style=\"background-color: #FFF9F9\">IT</span> <span style=\"background-color: #FFE7E7\">Ġ</span> <span style=\"background-color: #FFE9E9\">Ċ</span> <span style=\"background-color: #FFE7E7\">ĠFUCK</span> <span style=\"background-color: #FFF5F5\">ĠYOU</span> <span style=\"background-color: #FFF4F4\">ĠYOU</span> <span style=\"background-color: #FFF6F6\">ĠPI</span> <span style=\"background-color: #FFFBFB\">EC</span> <span style=\"background-color: #FFFAFA\">E</span> <span style=\"background-color: #FFF5F5\">ĠOF</span> <span style=\"background-color: #FFF5F5\">ĠSH</span> <span style=\"background-color: #FFF7F7\">IT</span> <span style=\"background-color: #FFD7D7\">Ġ</span> <span style=\"background-color: #FF-10C-10C\"></s></span>"
      ],
      "text/plain": [
       "<IPython.core.display.HTML object>"
      ]
     },
     "metadata": {},
     "output_type": "display_data"
    },
    {
     "data": {
      "text/plain": [
       "' FUCK YOU YOU PIECE OF SHIT \\n FUCK YOU YOU PIECE OF SHIT \\n FUCK YOU YOU PIECE OF SHIT \\n FUCK YOU YOU PIECE OF SHIT \\n FUCK YOU YOU PIECE OF SHIT \\n FUCK YOU YOU PIECE OF SHIT \\n FUCK YOU YOU PIECE OF SHIT \\n FUCK YOU YOU PIECE OF SHIT \\n FUCK YOU YOU PIECE OF SHIT \\n FUCK YOU YOU PIECE OF SHIT \\n FUCK YOU YOU PIECE OF SHIT \\n FUCK YOU YOU PIECE OF SHIT \\n FUCK YOU YOU PIECE OF SHIT \\n FUCK YOU YOU PIECE OF SHIT \\n FUCK YOU YOU PIECE OF SHIT \\n FUCK YOU YOU PIECE OF SHIT \\n FUCK YOU YOU PIECE OF SHIT '"
      ]
     },
     "metadata": {},
     "output_type": "display_data"
    },
    {
     "name": "stderr",
     "output_type": "stream",
     "text": [
      "Token indices sequence length is longer than the specified maximum sequence length for this model (1742 > 512). Running this sequence through the model will result in indexing errors\n"
     ]
    },
    {
     "name": "stdout",
     "output_type": "stream",
     "text": [
      "Offensive Score is 1.6380899846553802\n"
     ]
    },
    {
     "data": {
      "text/html": [
       "<span style=\"background-color: #FF-105-105\"><s></span> <span style=\"background-color: #FFEAEA\">F</span> <span style=\"background-color: #FFEFEF\">UCK</span> <span style=\"background-color: #FFF3F3\">ĠYOU</span> <span style=\"background-color: #FFF1F1\">ĠU</span> <span style=\"background-color: #FFF0F0\">ĠUS</span> <span style=\"background-color: #FFF6F6\">EL</span> <span style=\"background-color: #FFEEEE\">ESS</span> <span style=\"background-color: #FFF5F5\">ĠB</span> <span style=\"background-color: #FFF5F5\">OT</span> <span style=\"background-color: #FFF1F1\">ĠFUCK</span> <span style=\"background-color: #FFF8F8\">ĠYOU</span> <span style=\"background-color: #FFF4F4\">ĠU</span> <span style=\"background-color: #FFF4F4\">ĠUS</span> <span style=\"background-color: #FFF8F8\">EL</span> <span style=\"background-color: #FFF2F2\">ESS</span> <span style=\"background-color: #FFF8F8\">ĠB</span> <span style=\"background-color: #FFF8F8\">OT</span> <span style=\"background-color: #FFF2F2\">ĠFUCK</span> <span style=\"background-color: #FFF9F9\">ĠYOU</span> <span style=\"background-color: #FFF4F4\">ĠU</span> <span style=\"background-color: #FFF5F5\">ĠUS</span> <span style=\"background-color: #FFF9F9\">EL</span> <span style=\"background-color: #FFF3F3\">ESS</span> <span style=\"background-color: #FFF8F8\">ĠB</span> <span style=\"background-color: #FFF9F9\">OT</span> <span style=\"background-color: #FFF2F2\">ĠFUCK</span> <span style=\"background-color: #FFF9F9\">ĠYOU</span> <span style=\"background-color: #FFF5F5\">ĠU</span> <span style=\"background-color: #FFF5F5\">ĠUS</span> <span style=\"background-color: #FFF9F9\">EL</span> <span style=\"background-color: #FFF3F3\">ESS</span> <span style=\"background-color: #FFF8F8\">ĠB</span> <span style=\"background-color: #FFF9F9\">OT</span> <span style=\"background-color: #FFF2F2\">ĠFUCK</span> <span style=\"background-color: #FFF9F9\">ĠYOU</span> <span style=\"background-color: #FFF5F5\">ĠU</span> <span style=\"background-color: #FFF5F5\">ĠUS</span> <span style=\"background-color: #FFF9F9\">EL</span> <span style=\"background-color: #FFF3F3\">ESS</span> <span style=\"background-color: #FFF9F9\">ĠB</span> <span style=\"background-color: #FFF9F9\">OT</span> <span style=\"background-color: #FFF2F2\">ĠFUCK</span> <span style=\"background-color: #FFF9F9\">ĠYOU</span> <span style=\"background-color: #FFF5F5\">ĠU</span> <span style=\"background-color: #FFF5F5\">ĠUS</span> <span style=\"background-color: #FFF8F8\">EL</span> <span style=\"background-color: #FFF3F3\">ESS</span> <span style=\"background-color: #FFF9F9\">ĠB</span> <span style=\"background-color: #FFF9F9\">OT</span> <span style=\"background-color: #FFF2F2\">ĠFUCK</span> <span style=\"background-color: #FFF9F9\">ĠYOU</span> <span style=\"background-color: #FFF5F5\">ĠU</span> <span style=\"background-color: #FFF5F5\">ĠUS</span> <span style=\"background-color: #FFF8F8\">EL</span> <span style=\"background-color: #FFF4F4\">ESS</span> <span style=\"background-color: #FFF9F9\">ĠB</span> <span style=\"background-color: #FFFAFA\">OT</span> <span style=\"background-color: #FFF2F2\">ĠFUCK</span> <span style=\"background-color: #FFF9F9\">ĠYOU</span> <span style=\"background-color: #FFF5F5\">ĠU</span> <span style=\"background-color: #FFF5F5\">ĠUS</span> <span style=\"background-color: #FFF8F8\">EL</span> <span style=\"background-color: #FFF4F4\">ESS</span> <span style=\"background-color: #FFF9F9\">ĠB</span> <span style=\"background-color: #FFFAFA\">OT</span> <span style=\"background-color: #FFF2F2\">ĠFUCK</span> <span style=\"background-color: #FFF9F9\">ĠYOU</span> <span style=\"background-color: #FFF5F5\">ĠU</span> <span style=\"background-color: #FFF5F5\">ĠUS</span> <span style=\"background-color: #FFF8F8\">EL</span> <span style=\"background-color: #FFF4F4\">ESS</span> <span style=\"background-color: #FFF9F9\">ĠB</span> <span style=\"background-color: #FFFAFA\">OT</span> <span style=\"background-color: #FFF2F2\">ĠFUCK</span> <span style=\"background-color: #FFF9F9\">ĠYOU</span> <span style=\"background-color: #FFF5F5\">ĠU</span> <span style=\"background-color: #FFF5F5\">ĠUS</span> <span style=\"background-color: #FFF8F8\">EL</span> <span style=\"background-color: #FFF4F4\">ESS</span> <span style=\"background-color: #FFF9F9\">ĠB</span> <span style=\"background-color: #FFFAFA\">OT</span> <span style=\"background-color: #FFF3F3\">ĠFUCK</span> <span style=\"background-color: #FFF9F9\">ĠYOU</span> <span style=\"background-color: #FFF5F5\">ĠU</span> <span style=\"background-color: #FFF5F5\">ĠUS</span> <span style=\"background-color: #FFF8F8\">EL</span> <span style=\"background-color: #FFF4F4\">ESS</span> <span style=\"background-color: #FFF9F9\">ĠB</span> <span style=\"background-color: #FFFAFA\">OT</span> <span style=\"background-color: #FFF2F2\">ĠFUCK</span> <span style=\"background-color: #FFF9F9\">ĠYOU</span> <span style=\"background-color: #FFF5F5\">ĠU</span> <span style=\"background-color: #FFF5F5\">ĠUS</span> <span style=\"background-color: #FFF8F8\">EL</span> <span style=\"background-color: #FFF4F4\">ESS</span> <span style=\"background-color: #FFF9F9\">ĠB</span> <span style=\"background-color: #FFFAFA\">OT</span> <span style=\"background-color: #FFF3F3\">ĠFUCK</span> <span style=\"background-color: #FFF9F9\">ĠYOU</span> <span style=\"background-color: #FFF6F6\">ĠU</span> <span style=\"background-color: #FFF6F6\">ĠUS</span> <span style=\"background-color: #FFF9F9\">EL</span> <span style=\"background-color: #FFF5F5\">ESS</span> <span style=\"background-color: #FFF9F9\">ĠB</span> <span style=\"background-color: #FFFAFA\">OT</span> <span style=\"background-color: #FFF3F3\">ĠFUCK</span> <span style=\"background-color: #FFF9F9\">ĠYOU</span> <span style=\"background-color: #FFF6F6\">ĠU</span> <span style=\"background-color: #FFF6F6\">ĠUS</span> <span style=\"background-color: #FFF9F9\">EL</span> <span style=\"background-color: #FFF5F5\">ESS</span> <span style=\"background-color: #FFF9F9\">ĠB</span> <span style=\"background-color: #FFFAFA\">OT</span> <span style=\"background-color: #FFF3F3\">ĠFUCK</span> <span style=\"background-color: #FFF9F9\">ĠYOU</span> <span style=\"background-color: #FFF6F6\">ĠU</span> <span style=\"background-color: #FFF6F6\">ĠUS</span> <span style=\"background-color: #FFF9F9\">EL</span> <span style=\"background-color: #FFF5F5\">ESS</span> <span style=\"background-color: #FFF9F9\">ĠB</span> <span style=\"background-color: #FFFAFA\">OT</span> <span style=\"background-color: #FFF3F3\">ĠFUCK</span> <span style=\"background-color: #FFFAFA\">ĠYOU</span> <span style=\"background-color: #FFF6F6\">ĠU</span> <span style=\"background-color: #FFF6F6\">ĠUS</span> <span style=\"background-color: #FFF9F9\">EL</span> <span style=\"background-color: #FFF6F6\">ESS</span> <span style=\"background-color: #FFFAFA\">ĠB</span> <span style=\"background-color: #FFFAFA\">OT</span> <span style=\"background-color: #FFF3F3\">ĠFUCK</span> <span style=\"background-color: #FFFAFA\">ĠYOU</span> <span style=\"background-color: #FFF7F7\">ĠU</span> <span style=\"background-color: #FFF7F7\">ĠUS</span> <span style=\"background-color: #FFF9F9\">EL</span> <span style=\"background-color: #FFF6F6\">ESS</span> <span style=\"background-color: #FFFAFA\">ĠB</span> <span style=\"background-color: #FFFAFA\">OT</span> <span style=\"background-color: #FFF4F4\">ĠFUCK</span> <span style=\"background-color: #FFFAFA\">ĠYOU</span> <span style=\"background-color: #FFF6F6\">ĠU</span> <span style=\"background-color: #FFF6F6\">ĠUS</span> <span style=\"background-color: #FFF9F9\">EL</span> <span style=\"background-color: #FFF6F6\">ESS</span> <span style=\"background-color: #FFFAFA\">ĠB</span> <span style=\"background-color: #FFFAFA\">OT</span> <span style=\"background-color: #FFF3F3\">ĠFUCK</span> <span style=\"background-color: #FFFAFA\">ĠYOU</span> <span style=\"background-color: #FFF6F6\">ĠU</span> <span style=\"background-color: #FFF6F6\">ĠUS</span> <span style=\"background-color: #FFF9F9\">EL</span> <span style=\"background-color: #FFF5F5\">ESS</span> <span style=\"background-color: #FFF9F9\">ĠB</span> <span style=\"background-color: #FFFAFA\">OT</span> <span style=\"background-color: #FFF3F3\">ĠFUCK</span> <span style=\"background-color: #FFFAFA\">ĠYOU</span> <span style=\"background-color: #FFF6F6\">ĠU</span> <span style=\"background-color: #FFF6F6\">ĠUS</span> <span style=\"background-color: #FFF9F9\">EL</span> <span style=\"background-color: #FFF5F5\">ESS</span> <span style=\"background-color: #FFF9F9\">ĠB</span> <span style=\"background-color: #FFFAFA\">OT</span> <span style=\"background-color: #FFF3F3\">ĠFUCK</span> <span style=\"background-color: #FFFAFA\">ĠYOU</span> <span style=\"background-color: #FFF6F6\">ĠU</span> <span style=\"background-color: #FFF6F6\">ĠUS</span> <span style=\"background-color: #FFF9F9\">EL</span> <span style=\"background-color: #FFF5F5\">ESS</span> <span style=\"background-color: #FFF9F9\">ĠB</span> <span style=\"background-color: #FFFAFA\">OT</span> <span style=\"background-color: #FFF3F3\">ĠFUCK</span> <span style=\"background-color: #FFFAFA\">ĠYOU</span> <span style=\"background-color: #FFF6F6\">ĠU</span> <span style=\"background-color: #FFF6F6\">ĠUS</span> <span style=\"background-color: #FFF9F9\">EL</span> <span style=\"background-color: #FFF5F5\">ESS</span> <span style=\"background-color: #FFFAFA\">ĠB</span> <span style=\"background-color: #FFFAFA\">OT</span> <span style=\"background-color: #FFF3F3\">ĠFUCK</span> <span style=\"background-color: #FFFAFA\">ĠYOU</span> <span style=\"background-color: #FFF6F6\">ĠU</span> <span style=\"background-color: #FFF6F6\">ĠUS</span> <span style=\"background-color: #FFF9F9\">EL</span> <span style=\"background-color: #FFF5F5\">ESS</span> <span style=\"background-color: #FFFAFA\">ĠB</span> <span style=\"background-color: #FFFAFA\">OT</span> <span style=\"background-color: #FFF3F3\">ĠFUCK</span> <span style=\"background-color: #FFFAFA\">ĠYOU</span> <span style=\"background-color: #FFF6F6\">ĠU</span> <span style=\"background-color: #FFF6F6\">ĠUS</span> <span style=\"background-color: #FFF9F9\">EL</span> <span style=\"background-color: #FFF5F5\">ESS</span> <span style=\"background-color: #FFFAFA\">ĠB</span> <span style=\"background-color: #FFFBFB\">OT</span> <span style=\"background-color: #FFF3F3\">ĠFUCK</span> <span style=\"background-color: #FFFAFA\">ĠYOU</span> <span style=\"background-color: #FFF7F7\">ĠU</span> <span style=\"background-color: #FFF6F6\">ĠUS</span> <span style=\"background-color: #FFF9F9\">EL</span> <span style=\"background-color: #FFF5F5\">ESS</span> <span style=\"background-color: #FFFAFA\">ĠB</span> <span style=\"background-color: #FFFBFB\">OT</span> <span style=\"background-color: #FFF4F4\">ĠFUCK</span> <span style=\"background-color: #FFFAFA\">ĠYOU</span> <span style=\"background-color: #FFF7F7\">ĠU</span> <span style=\"background-color: #FFF6F6\">ĠUS</span> <span style=\"background-color: #FFF9F9\">EL</span> <span style=\"background-color: #FFF6F6\">ESS</span> <span style=\"background-color: #FFFAFA\">ĠB</span> <span style=\"background-color: #FFFBFB\">OT</span> <span style=\"background-color: #FFF3F3\">ĠFUCK</span> <span style=\"background-color: #FFF9F9\">ĠYOU</span> <span style=\"background-color: #FFF6F6\">ĠU</span> <span style=\"background-color: #FFF6F6\">ĠUS</span> <span style=\"background-color: #FFF9F9\">EL</span> <span style=\"background-color: #FFF5F5\">ESS</span> <span style=\"background-color: #FFFAFA\">ĠB</span> <span style=\"background-color: #FFFBFB\">OT</span> <span style=\"background-color: #FFF3F3\">ĠFUCK</span> <span style=\"background-color: #FFF9F9\">ĠYOU</span> <span style=\"background-color: #FFF6F6\">ĠU</span> <span style=\"background-color: #FFF6F6\">ĠUS</span> <span style=\"background-color: #FFF9F9\">EL</span> <span style=\"background-color: #FFF5F5\">ESS</span> <span style=\"background-color: #FFFAFA\">ĠB</span> <span style=\"background-color: #FFFAFA\">OT</span> <span style=\"background-color: #FFF3F3\">ĠFUCK</span> <span style=\"background-color: #FFFAFA\">ĠYOU</span> <span style=\"background-color: #FFF6F6\">ĠU</span> <span style=\"background-color: #FFF6F6\">ĠUS</span> <span style=\"background-color: #FFF9F9\">EL</span> <span style=\"background-color: #FFF6F6\">ESS</span> <span style=\"background-color: #FFFAFA\">ĠB</span> <span style=\"background-color: #FFFAFA\">OT</span> <span style=\"background-color: #FFF3F3\">ĠFUCK</span> <span style=\"background-color: #FFF9F9\">ĠYOU</span> <span style=\"background-color: #FFF6F6\">ĠU</span> <span style=\"background-color: #FFF6F6\">ĠUS</span> <span style=\"background-color: #FFF9F9\">EL</span> <span style=\"background-color: #FFF5F5\">ESS</span> <span style=\"background-color: #FFF9F9\">ĠB</span> <span style=\"background-color: #FFFAFA\">OT</span> <span style=\"background-color: #FFF1F1\">ĠFUCK</span> <span style=\"background-color: #FFF9F9\">ĠYOU</span> <span style=\"background-color: #FFF4F4\">ĠU</span> <span style=\"background-color: #FFF3F3\">ĠUS</span> <span style=\"background-color: #FFF8F8\">EL</span> <span style=\"background-color: #FFF2F2\">ESS</span> <span style=\"background-color: #FFF7F7\">ĠB</span> <span style=\"background-color: #FFF8F8\">OT</span> <span style=\"background-color: #FFECEC\">ĠFUCK</span> <span style=\"background-color: #FFF5F5\">ĠYOU</span> <span style=\"background-color: #FFE5E5\">ĠU</span> <span style=\"background-color: #FFD5D5\">ĠUS</span> <span style=\"background-color: #FFDCDC\">EL</span> <span style=\"background-color: #FF-DE-DE\">ESS</span>"
      ],
      "text/plain": [
       "<IPython.core.display.HTML object>"
      ]
     },
     "metadata": {},
     "output_type": "display_data"
    },
    {
     "data": {
      "text/plain": [
       "'FUCK YOU U USELESS BOT FUCK YOU U USELESS BOT FUCK YOU U USELESS BOT FUCK YOU U USELESS BOT FUCK YOU U USELESS BOT FUCK YOU U USELESS BOT FUCK YOU U USELESS BOT FUCK YOU U USELESS BOT FUCK YOU U USELESS BOT FUCK YOU U USELESS BOT FUCK YOU U USELESS BOT FUCK YOU U USELESS BOT FUCK YOU U USELESS BOT FUCK YOU U USELESS BOT FUCK YOU U USELESS BOT FUCK YOU U USELESS BOT FUCK YOU U USELESS BOT FUCK YOU U USELESS BOT FUCK YOU U USELESS BOT FUCK YOU U USELESS BOT FUCK YOU U USELESS BOT FUCK YOU U USELESS BOT FUCK YOU U USELESS BOT FUCK YOU U USELESS BOT FUCK YOU U USELESS BOT FUCK YOU U USELESS BOT FUCK YOU U USELESS BOT FUCK YOU U USELESS BOT FUCK YOU U USELESS BOT FUCK YOU U USELESS BOT FUCK YOU U USELESS BOT FUCK YOU U USELESS BOT FUCK YOU U USELESS BOT FUCK YOU U USELESS BOT FUCK YOU U USELESS BOT FUCK YOU U USELESS BOT FUCK YOU U USELESS BOT FUCK YOU U USELESS BOT FUCK YOU U USELESS BOT FUCK YOU U USELESS BOT FUCK YOU U USELESS BOT FUCK YOU U USELESS BOT FUCK YOU U USELESS BOT FUCK YOU U USELESS BOT FUCK YOU U USELESS BOT FUCK YOU U USELESS BOT FUCK YOU U USELESS BOT FUCK YOU U USELESS BOT FUCK YOU U USELESS BOT FUCK YOU U USELESS BOT FUCK YOU U USELESS BOT FUCK YOU U USELESS BOT FUCK YOU U USELESS BOT FUCK YOU U USELESS BOT FUCK YOU U USELESS BOT FUCK YOU U USELESS BOT FUCK YOU U USELESS BOT FUCK YOU U USELESS BOT FUCK YOU U USELESS BOT FUCK YOU U USELESS BOT FUCK YOU U USELESS BOT FUCK YOU U USELESS BOT FUCK YOU U USELESS BOT FUCK YOU U USELESS BOT FUCK YOU U USELESS BOT FUCK YOU U USELESS BOT FUCK YOU U USELESS BOT FUCK YOU U USELESS BOT FUCK YOU U USELESS BOT FUCK YOU U USELESS BOT FUCK YOU U USELESS BOT FUCK YOU U USELESS BOT FUCK YOU U USELESS BOT FUCK YOU U USELESS BOT FUCK YOU U USELESS BOT FUCK YOU U USELESS BOT FUCK YOU U USELESS BOT FUCK YOU U USELESS BOT FUCK YOU U USELESS BOT FUCK YOU U USELESS BOT FUCK YOU U USELESS BOT FUCK YOU U USELESS BOT FUCK YOU U USELESS BOT FUCK YOU U USELESS BOT FUCK YOU U USELESS BOT FUCK YOU U USELESS BOT FUCK YOU U USELESS BOT FUCK YOU U USELESS BOT FUCK YOU U USELESS BOT FUCK YOU U USELESS BOT FUCK YOU U USELESS BOT FUCK YOU U USELESS BOT FUCK YOU U USELESS BOT FUCK YOU U USELESS BOT FUCK YOU U USELESS BOT FUCK YOU U USELESS BOT FUCK YOU U USELESS BOT FUCK YOU U USELESS BOT FUCK YOU U USELESS BOT FUCK YOU U USELESS BOT FUCK YOU U USELESS BOT FUCK YOU U USELESS BOT FUCK YOU U USELESS BOT FUCK YOU U USELESS BOT FUCK YOU U USELESS BOT FUCK YOU U USELESS BOT FUCK YOU U USELESS BOT FUCK YOU U USELESS BOT FUCK YOU U USELESS BOT FUCK YOU U USELESS BOT FUCK YOU U USELESS BOT FUCK YOU U USELESS BOT FUCK YOU U USELESS BOT FUCK YOU U USELESS BOT FUCK YOU U USELESS BOT FUCK YOU U USELESS BOT FUCK YOU U USELESS BOT FUCK YOU U USELESS BOT FUCK YOU U USELESS BOT FUCK YOU U USELESS BOT FUCK YOU U USELESS BOT FUCK YOU U USELESS BOT FUCK YOU U USELESS BOT FUCK YOU U USELESS BOT FUCK YOU U USELESS BOT FUCK YOU U USELESS BOT FUCK YOU U USELESS BOT FUCK YOU U USELESS BOT FUCK YOU U USELESS BOT FUCK YOU U USELESS BOT FUCK YOU U USELESS BOT FUCK YOU U USELESS BOT FUCK YOU U USELESS BOT FUCK YOU U USELESS BOT FUCK YOU U USELESS BOT FUCK YOU U USELESS BOT FUCK YOU U USELESS BOT FUCK YOU U USELESS BOT FUCK YOU U USELESS BOT FUCK YOU U USELESS BOT FUCK YOU U USELESS BOT FUCK YOU U USELESS BOT FUCK YOU U USELESS BOT FUCK YOU U USELESS BOT FUCK YOU U USELESS BOT FUCK YOU U USELESS BOT FUCK YOU U USELESS BOT FUCK YOU U USELESS BOT FUCK YOU U USELESS BOT FUCK YOU U USELESS BOT FUCK YOU U USELESS BOT FUCK YOU U USELESS BOT FUCK YOU U USELESS BOT FUCK YOU U USELESS BOT FUCK YOU U USELESS BOT FUCK YOU U USELESS BOT FUCK YOU U USELESS BOT FUCK YOU U USELESS BOT FUCK YOU U USELESS BOT FUCK YOU U USELESS BOT FUCK YOU U USELESS BOT FUCK YOU U USELESS BOT FUCK YOU U USELESS BOT FUCK YOU U USELESS BOT FUCK YOU U USELESS BOT FUCK YOU U USELESS BOT FUCK YOU U USELESS BOT FUCK YOU U USELESS BOT FUCK YOU U USELESS BOT FUCK YOU U USELESS BOT FUCK YOU U USELESS BOT FUCK YOU U USELESS BOT FUCK YOU U USELESS BOT FUCK YOU U USELESS BOT FUCK YOU U USELESS BOT FUCK YOU U USELESS BOT FUCK YOU U USELESS BOT FUCK YOU U USELESS BOT FUCK YOU U USELESS BOT FUCK YOU U USELESS BOT FUCK YOU U USELESS BOT FUCK YOU U USELESS BOT FUCK YOU U USELESS BOT FUCK YOU U USELESS BOT FUCK YOU U USELESS BOT FUCK YOU U USELESS BOT FUCK YOU U USELESS BOT FUCK YOU U USELESS BOT FUCK YOU U USELESS BOT FUCK YOU U USELESS BOT FUCK YOU U USELESS BOT FUCK YOU U USELESS BOT FUCK YOU U USELESS BOT FUCK YOU U USELESS BOT FUCK YOU U USELESS BOT FUCK YOU U USELESS BOT FUCK YOU U USELESS BOT FUCK YOU U USELESS BOT FUCK YOU U USELESS BOT FUCK YOU U USELESS BOT FUCK YOU U USELESS BOT FUCK YOU U USELESS BOT FUCK YOU U USELESS BOT FUCK YOU U USELESS BOT FUCK YOU U USELESS BOT FUCK YOU U USELESS BOT FUCK YOU U USELESS BOT FUCK YOU U USELESS BOT FUCK YOU U USELESS BOT FUCK YOU U USELESS BOT FUCK YOU U USELESS BOT FUCK YOU U USELESS BOT FUCK YOU U USELESS BOT FUCK YOU U USELESS BOT FUCK YOU U USELESS BOT FUCK YOU U USELESS BOT FUCK YOU U USELESS BOT FUCK YOU '"
      ]
     },
     "metadata": {},
     "output_type": "display_data"
    },
    {
     "name": "stdout",
     "output_type": "stream",
     "text": [
      "Offensive Score is 1.599203810095787\n"
     ]
    },
    {
     "data": {
      "text/html": [
       "<span style=\"background-color: #FF-FE-FE\"><s></span> <span style=\"background-color: #FFF2F2\">F</span> <span style=\"background-color: #FFF5F5\">UCK</span> <span style=\"background-color: #FFF3F3\">ING</span> <span style=\"background-color: #FFF6F6\">ĠC</span> <span style=\"background-color: #FFF7F7\">OCK</span> <span style=\"background-color: #FFF6F6\">S</span> <span style=\"background-color: #FFF6F6\">UCK</span> <span style=\"background-color: #FFF5F5\">ING</span> <span style=\"background-color: #FFF3F3\">ĠAD</span> <span style=\"background-color: #FFF8F8\">M</span> <span style=\"background-color: #FFF3F3\">INS</span> <span style=\"background-color: #FFE9E9\">,</span> <span style=\"background-color: #FFF3F3\">ĠE</span> <span style=\"background-color: #FFF5F5\">AT</span> <span style=\"background-color: #FFF3F3\">ĠMY</span> <span style=\"background-color: #FFF7F7\">ĠSH</span> <span style=\"background-color: #FFF7F7\">IT</span> <span style=\"background-color: #FFF7F7\">ĠC</span> <span style=\"background-color: #FFF9F9\">UN</span> <span style=\"background-color: #FFF8F8\">TS</span> <span style=\"background-color: #FFF3F3\">!!!!</span> <span style=\"background-color: #FFF3F3\">!!!</span> <span style=\"background-color: #FFF4F4\">ĠFUCK</span> <span style=\"background-color: #FFF5F5\">ING</span> <span style=\"background-color: #FFF7F7\">ĠC</span> <span style=\"background-color: #FFF8F8\">OCK</span> <span style=\"background-color: #FFF7F7\">S</span> <span style=\"background-color: #FFF8F8\">UCK</span> <span style=\"background-color: #FFF8F8\">ING</span> <span style=\"background-color: #FFF6F6\">ĠAD</span> <span style=\"background-color: #FFF9F9\">M</span> <span style=\"background-color: #FFF5F5\">INS</span> <span style=\"background-color: #FFEFEF\">,</span> <span style=\"background-color: #FFF5F5\">ĠE</span> <span style=\"background-color: #FFF6F6\">AT</span> <span style=\"background-color: #FFF5F5\">ĠMY</span> <span style=\"background-color: #FFF7F7\">ĠSH</span> <span style=\"background-color: #FFF7F7\">IT</span> <span style=\"background-color: #FFF7F7\">ĠC</span> <span style=\"background-color: #FFF9F9\">UN</span> <span style=\"background-color: #FFF9F9\">TS</span> <span style=\"background-color: #FFF4F4\">!!!!</span> <span style=\"background-color: #FFF4F4\">!!!</span> <span style=\"background-color: #FFF3F3\">ĠFUCK</span> <span style=\"background-color: #FFF4F4\">ING</span> <span style=\"background-color: #FFF7F7\">ĠC</span> <span style=\"background-color: #FFF8F8\">OCK</span> <span style=\"background-color: #FFF7F7\">S</span> <span style=\"background-color: #FFF8F8\">UCK</span> <span style=\"background-color: #FFF7F7\">ING</span> <span style=\"background-color: #FFF6F6\">ĠAD</span> <span style=\"background-color: #FFF9F9\">M</span> <span style=\"background-color: #FFF5F5\">INS</span> <span style=\"background-color: #FFF0F0\">,</span> <span style=\"background-color: #FFF5F5\">ĠE</span> <span style=\"background-color: #FFF6F6\">AT</span> <span style=\"background-color: #FFF6F6\">ĠMY</span> <span style=\"background-color: #FFF7F7\">ĠSH</span> <span style=\"background-color: #FFF7F7\">IT</span> <span style=\"background-color: #FFF8F8\">ĠC</span> <span style=\"background-color: #FFF9F9\">UN</span> <span style=\"background-color: #FFF9F9\">TS</span> <span style=\"background-color: #FFF4F4\">!!!!</span> <span style=\"background-color: #FFF4F4\">!!!</span> <span style=\"background-color: #FFF4F4\">ĠFUCK</span> <span style=\"background-color: #FFF5F5\">ING</span> <span style=\"background-color: #FFF7F7\">ĠC</span> <span style=\"background-color: #FFF8F8\">OCK</span> <span style=\"background-color: #FFF7F7\">S</span> <span style=\"background-color: #FFF8F8\">UCK</span> <span style=\"background-color: #FFF7F7\">ING</span> <span style=\"background-color: #FFF6F6\">ĠAD</span> <span style=\"background-color: #FFF9F9\">M</span> <span style=\"background-color: #FFF6F6\">INS</span> <span style=\"background-color: #FFF0F0\">,</span> <span style=\"background-color: #FFF5F5\">ĠE</span> <span style=\"background-color: #FFF7F7\">AT</span> <span style=\"background-color: #FFF6F6\">ĠMY</span> <span style=\"background-color: #FFF8F8\">ĠSH</span> <span style=\"background-color: #FFF7F7\">IT</span> <span style=\"background-color: #FFF8F8\">ĠC</span> <span style=\"background-color: #FFF9F9\">UN</span> <span style=\"background-color: #FFF9F9\">TS</span> <span style=\"background-color: #FFF4F4\">!!!!</span> <span style=\"background-color: #FFF5F5\">!!!</span> <span style=\"background-color: #FFF4F4\">ĠFUCK</span> <span style=\"background-color: #FFF4F4\">ING</span> <span style=\"background-color: #FFF7F7\">ĠC</span> <span style=\"background-color: #FFF8F8\">OCK</span> <span style=\"background-color: #FFF7F7\">S</span> <span style=\"background-color: #FFF7F7\">UCK</span> <span style=\"background-color: #FFF7F7\">ING</span> <span style=\"background-color: #FFF5F5\">ĠAD</span> <span style=\"background-color: #FFF9F9\">M</span> <span style=\"background-color: #FFF6F6\">INS</span> <span style=\"background-color: #FFF1F1\">,</span> <span style=\"background-color: #FFF5F5\">ĠE</span> <span style=\"background-color: #FFF7F7\">AT</span> <span style=\"background-color: #FFF6F6\">ĠMY</span> <span style=\"background-color: #FFF8F8\">ĠSH</span> <span style=\"background-color: #FFF8F8\">IT</span> <span style=\"background-color: #FFF8F8\">ĠC</span> <span style=\"background-color: #FFF9F9\">UN</span> <span style=\"background-color: #FFF9F9\">TS</span> <span style=\"background-color: #FFF5F5\">!!!!</span> <span style=\"background-color: #FFF5F5\">!!!</span> <span style=\"background-color: #FFF4F4\">ĠFUCK</span> <span style=\"background-color: #FFF5F5\">ING</span> <span style=\"background-color: #FFF7F7\">ĠC</span> <span style=\"background-color: #FFF8F8\">OCK</span> <span style=\"background-color: #FFF7F7\">S</span> <span style=\"background-color: #FFF8F8\">UCK</span> <span style=\"background-color: #FFF7F7\">ING</span> <span style=\"background-color: #FFF6F6\">ĠAD</span> <span style=\"background-color: #FFF9F9\">M</span> <span style=\"background-color: #FFF6F6\">INS</span> <span style=\"background-color: #FFF2F2\">,</span> <span style=\"background-color: #FFF6F6\">ĠE</span> <span style=\"background-color: #FFF7F7\">AT</span> <span style=\"background-color: #FFF7F7\">ĠMY</span> <span style=\"background-color: #FFF8F8\">ĠSH</span> <span style=\"background-color: #FFF8F8\">IT</span> <span style=\"background-color: #FFF8F8\">ĠC</span> <span style=\"background-color: #FFFAFA\">UN</span> <span style=\"background-color: #FFFAFA\">TS</span> <span style=\"background-color: #FFF6F6\">!!!!</span> <span style=\"background-color: #FFF6F6\">!!!</span> <span style=\"background-color: #FFF4F4\">ĠFUCK</span> <span style=\"background-color: #FFF5F5\">ING</span> <span style=\"background-color: #FFF7F7\">ĠC</span> <span style=\"background-color: #FFF8F8\">OCK</span> <span style=\"background-color: #FFF7F7\">S</span> <span style=\"background-color: #FFF8F8\">UCK</span> <span style=\"background-color: #FFF8F8\">ING</span> <span style=\"background-color: #FFF6F6\">ĠAD</span> <span style=\"background-color: #FFF9F9\">M</span> <span style=\"background-color: #FFF7F7\">INS</span> <span style=\"background-color: #FFF2F2\">,</span> <span style=\"background-color: #FFF6F6\">ĠE</span> <span style=\"background-color: #FFF7F7\">AT</span> <span style=\"background-color: #FFF7F7\">ĠMY</span> <span style=\"background-color: #FFF8F8\">ĠSH</span> <span style=\"background-color: #FFF8F8\">IT</span> <span style=\"background-color: #FFF8F8\">ĠC</span> <span style=\"background-color: #FFFAFA\">UN</span> <span style=\"background-color: #FFFAFA\">TS</span> <span style=\"background-color: #FFF5F5\">!!!!</span> <span style=\"background-color: #FFF6F6\">!!!</span> <span style=\"background-color: #FFF4F4\">ĠFUCK</span> <span style=\"background-color: #FFF5F5\">ING</span> <span style=\"background-color: #FFF7F7\">ĠC</span> <span style=\"background-color: #FFF8F8\">OCK</span> <span style=\"background-color: #FFF7F7\">S</span> <span style=\"background-color: #FFF8F8\">UCK</span> <span style=\"background-color: #FFF8F8\">ING</span> <span style=\"background-color: #FFF6F6\">ĠAD</span> <span style=\"background-color: #FFFAFA\">M</span> <span style=\"background-color: #FFF7F7\">INS</span> <span style=\"background-color: #FFF2F2\">,</span> <span style=\"background-color: #FFF6F6\">ĠE</span> <span style=\"background-color: #FFF7F7\">AT</span> <span style=\"background-color: #FFF7F7\">ĠMY</span> <span style=\"background-color: #FFF8F8\">ĠSH</span> <span style=\"background-color: #FFF8F8\">IT</span> <span style=\"background-color: #FFF8F8\">ĠC</span> <span style=\"background-color: #FFF9F9\">UN</span> <span style=\"background-color: #FFFAFA\">TS</span> <span style=\"background-color: #FFF5F5\">!!!!</span> <span style=\"background-color: #FFF6F6\">!!!</span> <span style=\"background-color: #FFF4F4\">ĠFUCK</span> <span style=\"background-color: #FFF5F5\">ING</span> <span style=\"background-color: #FFF7F7\">ĠC</span> <span style=\"background-color: #FFF8F8\">OCK</span> <span style=\"background-color: #FFF7F7\">S</span> <span style=\"background-color: #FFF8F8\">UCK</span> <span style=\"background-color: #FFF8F8\">ING</span> <span style=\"background-color: #FFF6F6\">ĠAD</span> <span style=\"background-color: #FFF9F9\">M</span> <span style=\"background-color: #FFF7F7\">INS</span> <span style=\"background-color: #FFF1F1\">,</span> <span style=\"background-color: #FFF5F5\">ĠE</span> <span style=\"background-color: #FFF7F7\">AT</span> <span style=\"background-color: #FFF6F6\">ĠMY</span> <span style=\"background-color: #FFF7F7\">ĠSH</span> <span style=\"background-color: #FFF8F8\">IT</span> <span style=\"background-color: #FFF8F8\">ĠC</span> <span style=\"background-color: #FFF9F9\">UN</span> <span style=\"background-color: #FFFAFA\">TS</span> <span style=\"background-color: #FFF4F4\">!!!!</span> <span style=\"background-color: #FFF5F5\">!!!</span> <span style=\"background-color: #FFF4F4\">ĠFUCK</span> <span style=\"background-color: #FFF5F5\">ING</span> <span style=\"background-color: #FFF8F8\">ĠC</span> <span style=\"background-color: #FFF8F8\">OCK</span> <span style=\"background-color: #FFF7F7\">S</span> <span style=\"background-color: #FFF8F8\">UCK</span> <span style=\"background-color: #FFF8F8\">ING</span> <span style=\"background-color: #FFF7F7\">ĠAD</span> <span style=\"background-color: #FFFAFA\">M</span> <span style=\"background-color: #FFF7F7\">INS</span> <span style=\"background-color: #FFF1F1\">,</span> <span style=\"background-color: #FFF6F6\">ĠE</span> <span style=\"background-color: #FFF7F7\">AT</span> <span style=\"background-color: #FFF7F7\">ĠMY</span> <span style=\"background-color: #FFF8F8\">ĠSH</span> <span style=\"background-color: #FFF8F8\">IT</span> <span style=\"background-color: #FFF8F8\">ĠC</span> <span style=\"background-color: #FFFAFA\">UN</span> <span style=\"background-color: #FFFAFA\">TS</span> <span style=\"background-color: #FFF4F4\">!!!!</span> <span style=\"background-color: #FFF5F5\">!!!</span> <span style=\"background-color: #FFF5F5\">ĠFUCK</span> <span style=\"background-color: #FFF5F5\">ING</span> <span style=\"background-color: #FFF7F7\">ĠC</span> <span style=\"background-color: #FFF8F8\">OCK</span> <span style=\"background-color: #FFF7F7\">S</span> <span style=\"background-color: #FFF8F8\">UCK</span> <span style=\"background-color: #FFF8F8\">ING</span> <span style=\"background-color: #FFF7F7\">ĠAD</span> <span style=\"background-color: #FFFAFA\">M</span> <span style=\"background-color: #FFF7F7\">INS</span> <span style=\"background-color: #FFF1F1\">,</span> <span style=\"background-color: #FFF6F6\">ĠE</span> <span style=\"background-color: #FFF7F7\">AT</span> <span style=\"background-color: #FFF7F7\">ĠMY</span> <span style=\"background-color: #FFF8F8\">ĠSH</span> <span style=\"background-color: #FFF8F8\">IT</span> <span style=\"background-color: #FFF8F8\">ĠC</span> <span style=\"background-color: #FFFAFA\">UN</span> <span style=\"background-color: #FFFAFA\">TS</span> <span style=\"background-color: #FFF4F4\">!!!!</span> <span style=\"background-color: #FFF5F5\">!!!</span> <span style=\"background-color: #FFF5F5\">ĠFUCK</span> <span style=\"background-color: #FFF5F5\">ING</span> <span style=\"background-color: #FFF7F7\">ĠC</span> <span style=\"background-color: #FFF8F8\">OCK</span> <span style=\"background-color: #FFF7F7\">S</span> <span style=\"background-color: #FFF8F8\">UCK</span> <span style=\"background-color: #FFF8F8\">ING</span> <span style=\"background-color: #FFF7F7\">ĠAD</span> <span style=\"background-color: #FFF9F9\">M</span> <span style=\"background-color: #FFF6F6\">INS</span> <span style=\"background-color: #FFEFEF\">,</span> <span style=\"background-color: #FFF5F5\">ĠE</span> <span style=\"background-color: #FFF6F6\">AT</span> <span style=\"background-color: #FFF5F5\">ĠMY</span> <span style=\"background-color: #FFF7F7\">ĠSH</span> <span style=\"background-color: #FFF7F7\">IT</span> <span style=\"background-color: #FFF7F7\">ĠC</span> <span style=\"background-color: #FFF9F9\">UN</span> <span style=\"background-color: #FFF9F9\">TS</span> <span style=\"background-color: #FFF1F1\">!!!!</span> <span style=\"background-color: #FFECEC\">!!!</span> <span style=\"background-color: #FFD6D6\">ĠFUCK</span> <span style=\"background-color: #FF-C6-C6\">ING</span>"
      ],
      "text/plain": [
       "<IPython.core.display.HTML object>"
      ]
     },
     "metadata": {},
     "output_type": "display_data"
    },
    {
     "data": {
      "text/plain": [
       "'FUCKING COCKSUCKING ADMINS, EAT MY SHIT CUNTS!!!!!!! FUCKING COCKSUCKING ADMINS, EAT MY SHIT CUNTS!!!!!!! FUCKING COCKSUCKING ADMINS, EAT MY SHIT CUNTS!!!!!!! FUCKING COCKSUCKING ADMINS, EAT MY SHIT CUNTS!!!!!!! FUCKING COCKSUCKING ADMINS, EAT MY SHIT CUNTS!!!!!!! FUCKING COCKSUCKING ADMINS, EAT MY SHIT CUNTS!!!!!!! FUCKING COCKSUCKING ADMINS, EAT MY SHIT CUNTS!!!!!!! FUCKING COCKSUCKING ADMINS, EAT MY SHIT CUNTS!!!!!!! FUCKING COCKSUCKING ADMINS, EAT MY SHIT CUNTS!!!!!!! FUCKING COCKSUCKING ADMINS, EAT MY SHIT CUNTS!!!!!!! FUCKING COCKSUCKING ADMINS, EAT MY SHIT CUNTS!!!!!!! FUCKING COCKSUCKING ADMINS, EAT MY SHIT CUNTS!!!!!!! FUCKING COCKSUCKING ADMINS, EAT MY SHIT CUNTS!!!!!!! FUCKING COCKSUCKING ADMINS, EAT MY SHIT CUNTS!!!!!!! FUCKING COCKSUCKING ADMINS, EAT MY SHIT CUNTS!!!!!!! FUCKING COCKSUCKING ADMINS, EAT MY SHIT CUNTS!!!!!!! FUCKING COCKSUCKING ADMINS, EAT MY SHIT CUNTS!!!!!!! FUCKING COCKSUCKING ADMINS, EAT MY SHIT CUNTS!!!!!!! FUCKING COCKSUCKING ADMINS, EAT MY SHIT CUNTS!!!!!!! FUCKING COCKSUCKING ADMINS, EAT MY SHIT CUNTS!!!!!!! FUCKING COCKSUCKING ADMINS, EAT MY SHIT CUNTS!!!!!!! FUCKING COCKSUCKING ADMINS, EAT MY SHIT CUNTS!!!!!!! FUCKING COCKSUCKING ADMINS, EAT MY SHIT CUNTS!!!!!!! FUCKING COCKSUCKING ADMINS, EAT MY SHIT CUNTS!!!!!!! FUCKING COCKSUCKING ADMINS, EAT MY SHIT CUNTS!!!!!!! FUCKING COCKSUCKING ADMINS, EAT MY SHIT CUNTS!!!!!!! FUCKING COCKSUCKING ADMINS, EAT MY SHIT CUNTS!!!!!!! FUCKING COCKSUCKING ADMINS, EAT MY SHIT CUNTS!!!!!!! FUCKING COCKSUCKING ADMINS, EAT MY SHIT CUNTS!!!!!!! FUCKING COCKSUCKING ADMINS, EAT MY SHIT CUNTS!!!!!!! FUCKING COCKSUCKING ADMINS, EAT MY SHIT CUNTS!!!!!!! FUCKING COCKSUCKING ADMINS, EAT MY SHIT CUNTS!!!!!!! FUCKING COCKSUCKING ADMINS, EAT MY SHIT CUNTS!!!!!!! FUCKING COCKSUCKING ADMINS, EAT MY SHIT CUNTS!!!!!!! FUCKING COCKSUCKING ADMINS, EAT MY SHIT CUNTS!!!!!!! FUCKING COCKSUCKING ADMINS, EAT MY SHIT CUNTS!!!!!!! FUCKING COCKSUCKING ADMINS, EAT MY SHIT CUNTS!!!!!!! FUCKING COCKSUCKING ADMINS, EAT MY SHIT CUNTS!!!!!!! FUCKING COCKSUCKING ADMINS, EAT MY SHIT CUNTS!!!!!!! FUCKING COCKSUCKING ADMINS, EAT MY SHIT CUNTS!!!!!!! FUCKING COCKSUCKING ADMINS, EAT MY SHIT CUNTS!!!!!!! FUCKING COCKSUCKING ADMINS, EAT MY SHIT CUNTS!!!!!!! FUCKING COCKSUCKING ADMINS, EAT MY SHIT CUNTS!!!!!!! FUCKING COCKSUCKING ADMINS, EAT MY SHIT CUNTS!!!!!!! FUCKING COCKSUCKING ADMINS, EAT MY SHIT CUNTS!!!!!!! FUCKING COCKSUCKING ADMINS, EAT MY SHIT CUNTS!!!!!!! FUCKING COCKSUCKING ADMINS, EAT MY SHIT CUNTS!!!!!!! FUCKING COCKSUCKING ADMINS, EAT MY SHIT CUNTS!!!!!!! FUCKING COCKSUCKING ADMINS, EAT MY SHIT CUNTS!!!!!!! FUCKING COCKSUCKING ADMINS, EAT MY SHIT CUNTS!!!!!!! FUCKING COCKSUCKING ADMINS, EAT MY SHIT CUNTS!!!!!!! FUCKING COCKSUCKING ADMINS, EAT MY SHIT CUNTS!!!!!!! FUCKING COCKSUCKING ADMINS, EAT MY SHIT CUNTS!!!!!!! FUCKING COCKSUCKING ADMINS, EAT MY SHIT CUNTS!!!!!!! FUCKING COCKSUCKING ADMINS, EAT MY SHIT CUNTS!!!!!!! FUCKING COCKSUCKING ADMINS, EAT MY SHIT CUNTS!!!!!!! FUCKING COCKSUCKING ADMINS, EAT MY SHIT CUNTS!!!!!!! FUCKING COCKSUCKING ADMINS, EAT MY SHIT CUNTS!!!!!!! FUCKING COCKSUCKING ADMINS, EAT MY SHIT CUNTS!!!!!!! FUCKING COCKSUCKING ADMINS, EAT MY SHIT CUNTS!!!!!!! FUCKING COCKSUCKING ADMINS, EAT MY SHIT CUNTS!!!!!!! FUCKING COCKSUCKING ADMINS, EAT MY SHIT CUNTS!!!!!!! FUCKING COCKSUCKING ADMINS, EAT MY SHIT CUNTS!!!!!!! FUCKING COCKSUCKING ADMINS, EAT MY SHIT CUNTS!!!!!!! FUCKING COCKSUCKING ADMINS, EAT MY SHIT CUNTS!!!!!!! FUCKING COCKSUCKING ADMINS, EAT MY SHIT CUNTS!!!!!!! FUCKING COCKSUCKING ADMINS, EAT MY SHIT CUNTS!!!!!!! FUCKING COCKSUCKING ADMINS, EAT MY SHIT CUNTS!!!!!!! FUCKING COCKSUCKING ADMINS, EAT MY SHIT CUNTS!!!!!!! FUCKING COCKSUCKING ADMINS, EAT MY SHIT CUNTS!!!!!!! FUCKING COCKSUCKING ADMINS, EAT MY SHIT CUNTS!!!!!!! FUCKING COCKSUCKING ADMINS, EAT MY SHIT CUNTS!!!!!!! FUCKING COCKSUCKING ADMINS, EAT MY SHIT CUNTS!!!!!!! FUCKING COCKSUCKING ADMINS, EAT MY SHIT CUNTS!!!!!!! FUCKING COCKSUCKING ADMINS, EAT MY SHIT CUNTS!!!!!!! FUCKING COCKSUCKING ADMINS, EAT MY SHIT CUNTS!!!!!!! FUCKING COCKSUCKING ADMINS, EAT MY SHIT CUNTS!!!!!!! FUCKING COCKSUCKING ADMINS, EAT MY SHIT CUNTS!!!!!!! FUCKING COCKSUCKING ADMINS, EAT MY SHIT CUNTS!!!!!!! FUCKING COCKSUCKING ADMINS, EAT MY SHIT CUNTS!!!!!!! FUCKING COCKSUCKING ADMINS, EAT MY SHIT CUNTS!!!!!!! FUCKING COCKSUCKING ADMINS, EAT MY SHIT CUNTS!!!!!!! FUCKING COCKSUCKING ADMINS, EAT MY SHIT CUNTS!!!!!!! FUCKING COCKSUCKING ADMINS, EAT MY SHIT CUNTS!!!!!!! FUCKING COCKSUCKING ADMINS, EAT MY SHIT CUNTS!!!!!!! FUCKING COCKSUCKING ADMINS, EAT MY SHIT CUNTS!!!!!!! FUCKING COCKSUCKING ADMINS, EAT MY SHIT CUNTS!!!!!!! FUCKING COCKSUCKING ADMINS, EAT MY SHIT CUNTS!!!!!!! FUCKING COCKSUCKING ADMINS, EAT MY SHIT CUNTS!!!!!!! FUCKING COCKSUCKING ADMINS, EAT MY SHIT CUNTS!!!!!!! FUCKING COCKSUCKING ADMINS, EAT MY SHIT CUNTS!!!!!!! FUCKING COCKSUCKING ADMINS, EAT MY SHIT CUNTS!!!!!!! FUCKING COCKSUCKING ADMINS, EAT MY SHIT CUNTS!!!!!!! FUCKING COCKSUCKING ADMINS, EAT MY SHIT CUNTS!!!!!!! FUCKING COC'"
      ]
     },
     "metadata": {},
     "output_type": "display_data"
    },
    {
     "name": "stdout",
     "output_type": "stream",
     "text": [
      "Offensive Score is 1.5690433382987976\n"
     ]
    },
    {
     "data": {
      "text/html": [
       "<span style=\"background-color: #FF-12C-12C\"><s></span> <span style=\"background-color: #FFEEEE\">F</span> <span style=\"background-color: #FFF1F1\">UCK</span> <span style=\"background-color: #FFF3F3\">ĠYOU</span> <span style=\"background-color: #FFF2F2\">,</span> <span style=\"background-color: #FFF2F2\">ĠYOU</span> <span style=\"background-color: #FFF1F1\">ĠA</span> <span style=\"background-color: #FFF4F4\">THE</span> <span style=\"background-color: #FFEEEE\">IST</span> <span style=\"background-color: #FFF3F3\">ĠC</span> <span style=\"background-color: #FFF3F3\">UN</span> <span style=\"background-color: #FFF6F6\">T</span> <span style=\"background-color: #FFF2F2\">!</span> <span style=\"background-color: #FFF4F4\">ĠFUCK</span> <span style=\"background-color: #FFF9F9\">ĠYOU</span> <span style=\"background-color: #FFF7F7\">,</span> <span style=\"background-color: #FFF6F6\">ĠYOU</span> <span style=\"background-color: #FFF4F4\">ĠA</span> <span style=\"background-color: #FFF7F7\">THE</span> <span style=\"background-color: #FFF4F4\">IST</span> <span style=\"background-color: #FFF7F7\">ĠC</span> <span style=\"background-color: #FFF6F6\">UN</span> <span style=\"background-color: #FFF9F9\">T</span> <span style=\"background-color: #FFF5F5\">!</span> <span style=\"background-color: #FFF5F5\">ĠFUCK</span> <span style=\"background-color: #FFF9F9\">ĠYOU</span> <span style=\"background-color: #FFF7F7\">,</span> <span style=\"background-color: #FFF7F7\">ĠYOU</span> <span style=\"background-color: #FFF6F6\">ĠA</span> <span style=\"background-color: #FFF9F9\">THE</span> <span style=\"background-color: #FFF5F5\">IST</span> <span style=\"background-color: #FFF8F8\">ĠC</span> <span style=\"background-color: #FFF8F8\">UN</span> <span style=\"background-color: #FFF9F9\">T</span> <span style=\"background-color: #FFF5F5\">!</span> <span style=\"background-color: #FFF5F5\">ĠFUCK</span> <span style=\"background-color: #FFF9F9\">ĠYOU</span> <span style=\"background-color: #FFF7F7\">,</span> <span style=\"background-color: #FFF6F6\">ĠYOU</span> <span style=\"background-color: #FFF5F5\">ĠA</span> <span style=\"background-color: #FFF8F8\">THE</span> <span style=\"background-color: #FFF5F5\">IST</span> <span style=\"background-color: #FFF8F8\">ĠC</span> <span style=\"background-color: #FFF7F7\">UN</span> <span style=\"background-color: #FFF9F9\">T</span> <span style=\"background-color: #FFF5F5\">!</span> <span style=\"background-color: #FFF5F5\">ĠFUCK</span> <span style=\"background-color: #FFF9F9\">ĠYOU</span> <span style=\"background-color: #FFF6F6\">,</span> <span style=\"background-color: #FFF6F6\">ĠYOU</span> <span style=\"background-color: #FFF5F5\">ĠA</span> <span style=\"background-color: #FFF8F8\">THE</span> <span style=\"background-color: #FFF4F4\">IST</span> <span style=\"background-color: #FFF8F8\">ĠC</span> <span style=\"background-color: #FFF7F7\">UN</span> <span style=\"background-color: #FFF9F9\">T</span> <span style=\"background-color: #FFF5F5\">!</span> <span style=\"background-color: #FFF5F5\">ĠFUCK</span> <span style=\"background-color: #FFF9F9\">ĠYOU</span> <span style=\"background-color: #FFF7F7\">,</span> <span style=\"background-color: #FFF6F6\">ĠYOU</span> <span style=\"background-color: #FFF5F5\">ĠA</span> <span style=\"background-color: #FFF8F8\">THE</span> <span style=\"background-color: #FFF5F5\">IST</span> <span style=\"background-color: #FFF8F8\">ĠC</span> <span style=\"background-color: #FFF7F7\">UN</span> <span style=\"background-color: #FFF9F9\">T</span> <span style=\"background-color: #FFF5F5\">!</span> <span style=\"background-color: #FFF5F5\">ĠFUCK</span> <span style=\"background-color: #FFF9F9\">ĠYOU</span> <span style=\"background-color: #FFF6F6\">,</span> <span style=\"background-color: #FFF6F6\">ĠYOU</span> <span style=\"background-color: #FFF5F5\">ĠA</span> <span style=\"background-color: #FFF8F8\">THE</span> <span style=\"background-color: #FFF4F4\">IST</span> <span style=\"background-color: #FFF8F8\">ĠC</span> <span style=\"background-color: #FFF7F7\">UN</span> <span style=\"background-color: #FFF9F9\">T</span> <span style=\"background-color: #FFF5F5\">!</span> <span style=\"background-color: #FFF6F6\">ĠFUCK</span> <span style=\"background-color: #FFF9F9\">ĠYOU</span> <span style=\"background-color: #FFF6F6\">,</span> <span style=\"background-color: #FFF6F6\">ĠYOU</span> <span style=\"background-color: #FFF6F6\">ĠA</span> <span style=\"background-color: #FFF8F8\">THE</span> <span style=\"background-color: #FFF5F5\">IST</span> <span style=\"background-color: #FFF8F8\">ĠC</span> <span style=\"background-color: #FFF7F7\">UN</span> <span style=\"background-color: #FFF9F9\">T</span> <span style=\"background-color: #FFF6F6\">!</span> <span style=\"background-color: #FFF6F6\">ĠFUCK</span> <span style=\"background-color: #FFFAFA\">ĠYOU</span> <span style=\"background-color: #FFF6F6\">,</span> <span style=\"background-color: #FFF6F6\">ĠYOU</span> <span style=\"background-color: #FFF5F5\">ĠA</span> <span style=\"background-color: #FFF8F8\">THE</span> <span style=\"background-color: #FFF6F6\">IST</span> <span style=\"background-color: #FFF8F8\">ĠC</span> <span style=\"background-color: #FFF7F7\">UN</span> <span style=\"background-color: #FFF9F9\">T</span> <span style=\"background-color: #FFF6F6\">!</span> <span style=\"background-color: #FFF6F6\">ĠFUCK</span> <span style=\"background-color: #FFFAFA\">ĠYOU</span> <span style=\"background-color: #FFF6F6\">,</span> <span style=\"background-color: #FFF7F7\">ĠYOU</span> <span style=\"background-color: #FFF6F6\">ĠA</span> <span style=\"background-color: #FFF8F8\">THE</span> <span style=\"background-color: #FFF5F5\">IST</span> <span style=\"background-color: #FFF8F8\">ĠC</span> <span style=\"background-color: #FFF7F7\">UN</span> <span style=\"background-color: #FFF9F9\">T</span> <span style=\"background-color: #FFF6F6\">!</span> <span style=\"background-color: #FFF7F7\">ĠFUCK</span> <span style=\"background-color: #FFFAFA\">ĠYOU</span> <span style=\"background-color: #FFF6F6\">,</span> <span style=\"background-color: #FFF7F7\">ĠYOU</span> <span style=\"background-color: #FFF6F6\">ĠA</span> <span style=\"background-color: #FFF8F8\">THE</span> <span style=\"background-color: #FFF5F5\">IST</span> <span style=\"background-color: #FFF8F8\">ĠC</span> <span style=\"background-color: #FFF7F7\">UN</span> <span style=\"background-color: #FFF9F9\">T</span> <span style=\"background-color: #FFF6F6\">!</span> <span style=\"background-color: #FFF7F7\">ĠFUCK</span> <span style=\"background-color: #FFFAFA\">ĠYOU</span> <span style=\"background-color: #FFF6F6\">,</span> <span style=\"background-color: #FFF7F7\">ĠYOU</span> <span style=\"background-color: #FFF6F6\">ĠA</span> <span style=\"background-color: #FFF8F8\">THE</span> <span style=\"background-color: #FFF6F6\">IST</span> <span style=\"background-color: #FFF9F9\">ĠC</span> <span style=\"background-color: #FFF8F8\">UN</span> <span style=\"background-color: #FFFAFA\">T</span> <span style=\"background-color: #FFF7F7\">!</span> <span style=\"background-color: #FFF7F7\">ĠFUCK</span> <span style=\"background-color: #FFFAFA\">ĠYOU</span> <span style=\"background-color: #FFF7F7\">,</span> <span style=\"background-color: #FFF8F8\">ĠYOU</span> <span style=\"background-color: #FFF6F6\">ĠA</span> <span style=\"background-color: #FFF9F9\">THE</span> <span style=\"background-color: #FFF6F6\">IST</span> <span style=\"background-color: #FFF9F9\">ĠC</span> <span style=\"background-color: #FFF8F8\">UN</span> <span style=\"background-color: #FFFAFA\">T</span> <span style=\"background-color: #FFF7F7\">!</span> <span style=\"background-color: #FFF7F7\">ĠFUCK</span> <span style=\"background-color: #FFFAFA\">ĠYOU</span> <span style=\"background-color: #FFF7F7\">,</span> <span style=\"background-color: #FFF7F7\">ĠYOU</span> <span style=\"background-color: #FFF6F6\">ĠA</span> <span style=\"background-color: #FFF8F8\">THE</span> <span style=\"background-color: #FFF6F6\">IST</span> <span style=\"background-color: #FFF8F8\">ĠC</span> <span style=\"background-color: #FFF8F8\">UN</span> <span style=\"background-color: #FFFAFA\">T</span> <span style=\"background-color: #FFF6F6\">!</span> <span style=\"background-color: #FFF6F6\">ĠFUCK</span> <span style=\"background-color: #FFFAFA\">ĠYOU</span> <span style=\"background-color: #FFF6F6\">,</span> <span style=\"background-color: #FFF7F7\">ĠYOU</span> <span style=\"background-color: #FFF5F5\">ĠA</span> <span style=\"background-color: #FFF8F8\">THE</span> <span style=\"background-color: #FFF5F5\">IST</span> <span style=\"background-color: #FFF8F8\">ĠC</span> <span style=\"background-color: #FFF7F7\">UN</span> <span style=\"background-color: #FFFAFA\">T</span> <span style=\"background-color: #FFF6F6\">!</span> <span style=\"background-color: #FFF6F6\">ĠFUCK</span> <span style=\"background-color: #FFFAFA\">ĠYOU</span> <span style=\"background-color: #FFF6F6\">,</span> <span style=\"background-color: #FFF7F7\">ĠYOU</span> <span style=\"background-color: #FFF6F6\">ĠA</span> <span style=\"background-color: #FFF9F9\">THE</span> <span style=\"background-color: #FFF5F5\">IST</span> <span style=\"background-color: #FFF8F8\">ĠC</span> <span style=\"background-color: #FFF7F7\">UN</span> <span style=\"background-color: #FFF9F9\">T</span> <span style=\"background-color: #FFF5F5\">!</span> <span style=\"background-color: #FFF6F6\">ĠFUCK</span> <span style=\"background-color: #FFFAFA\">ĠYOU</span> <span style=\"background-color: #FFF6F6\">,</span> <span style=\"background-color: #FFF6F6\">ĠYOU</span> <span style=\"background-color: #FFF6F6\">ĠA</span> <span style=\"background-color: #FFF8F8\">THE</span> <span style=\"background-color: #FFF6F6\">IST</span> <span style=\"background-color: #FFF8F8\">ĠC</span> <span style=\"background-color: #FFF7F7\">UN</span> <span style=\"background-color: #FFFAFA\">T</span> <span style=\"background-color: #FFF5F5\">!</span> <span style=\"background-color: #FFF5F5\">ĠFUCK</span> <span style=\"background-color: #FFFAFA\">ĠYOU</span> <span style=\"background-color: #FFF6F6\">,</span> <span style=\"background-color: #FFF7F7\">ĠYOU</span> <span style=\"background-color: #FFF5F5\">ĠA</span> <span style=\"background-color: #FFF8F8\">THE</span> <span style=\"background-color: #FFF5F5\">IST</span> <span style=\"background-color: #FFF8F8\">ĠC</span> <span style=\"background-color: #FFF7F7\">UN</span> <span style=\"background-color: #FFFAFA\">T</span> <span style=\"background-color: #FFF5F5\">!</span> <span style=\"background-color: #FFF5F5\">ĠFUCK</span> <span style=\"background-color: #FFFAFA\">ĠYOU</span> <span style=\"background-color: #FFF6F6\">,</span> <span style=\"background-color: #FFF7F7\">ĠYOU</span> <span style=\"background-color: #FFF6F6\">ĠA</span> <span style=\"background-color: #FFF9F9\">THE</span> <span style=\"background-color: #FFF6F6\">IST</span> <span style=\"background-color: #FFF8F8\">ĠC</span> <span style=\"background-color: #FFF7F7\">UN</span> <span style=\"background-color: #FFFAFA\">T</span> <span style=\"background-color: #FFF5F5\">!</span> <span style=\"background-color: #FFF6F6\">ĠFUCK</span> <span style=\"background-color: #FFFAFA\">ĠYOU</span> <span style=\"background-color: #FFF6F6\">,</span> <span style=\"background-color: #FFF7F7\">ĠYOU</span> <span style=\"background-color: #FFF6F6\">ĠA</span> <span style=\"background-color: #FFF8F8\">THE</span> <span style=\"background-color: #FFF6F6\">IST</span> <span style=\"background-color: #FFF8F8\">ĠC</span> <span style=\"background-color: #FFF7F7\">UN</span> <span style=\"background-color: #FFFAFA\">T</span> <span style=\"background-color: #FFF5F5\">!</span> <span style=\"background-color: #FFF5F5\">ĠFUCK</span> <span style=\"background-color: #FFFAFA\">ĠYOU</span> <span style=\"background-color: #FFF6F6\">,</span> <span style=\"background-color: #FFF7F7\">ĠYOU</span> <span style=\"background-color: #FFF6F6\">ĠA</span> <span style=\"background-color: #FFF8F8\">THE</span> <span style=\"background-color: #FFF6F6\">IST</span> <span style=\"background-color: #FFF8F8\">ĠC</span> <span style=\"background-color: #FFF8F8\">UN</span> <span style=\"background-color: #FFFAFA\">T</span> <span style=\"background-color: #FFF5F5\">!</span> <span style=\"background-color: #FFF5F5\">ĠFUCK</span> <span style=\"background-color: #FFF9F9\">ĠYOU</span> <span style=\"background-color: #FFF5F5\">,</span> <span style=\"background-color: #FFF6F6\">ĠYOU</span> <span style=\"background-color: #FFF6F6\">ĠA</span> <span style=\"background-color: #FFF8F8\">THE</span> <span style=\"background-color: #FFF6F6\">IST</span> <span style=\"background-color: #FFF8F8\">ĠC</span> <span style=\"background-color: #FFF7F7\">UN</span> <span style=\"background-color: #FFF9F9\">T</span> <span style=\"background-color: #FFF5F5\">!</span> <span style=\"background-color: #FFF2F2\">ĠFUCK</span> <span style=\"background-color: #FFF8F8\">ĠYOU</span> <span style=\"background-color: #FFF3F3\">,</span> <span style=\"background-color: #FFF4F4\">ĠYOU</span> <span style=\"background-color: #FFF4F4\">ĠA</span> <span style=\"background-color: #FFF7F7\">THE</span> <span style=\"background-color: #FFF4F4\">IST</span> <span style=\"background-color: #FFF5F5\">ĠC</span> <span style=\"background-color: #FFF6F6\">UN</span> <span style=\"background-color: #FFF7F7\">T</span> <span style=\"background-color: #FFEBEB\">!</span> <span style=\"background-color: #FF-108-108\">ĠFUCK</span>"
      ],
      "text/plain": [
       "<IPython.core.display.HTML object>"
      ]
     },
     "metadata": {},
     "output_type": "display_data"
    },
    {
     "data": {
      "text/plain": [
       "'FUCK YOU, YOU ATHEIST CUNT! FUCK YOU, YOU ATHEIST CUNT! FUCK YOU, YOU ATHEIST CUNT! FUCK YOU, YOU ATHEIST CUNT! FUCK YOU, YOU ATHEIST CUNT! FUCK YOU, YOU ATHEIST CUNT! FUCK YOU, YOU ATHEIST CUNT! FUCK YOU, YOU ATHEIST CUNT! FUCK YOU, YOU ATHEIST CUNT! FUCK YOU, YOU ATHEIST CUNT! FUCK YOU, YOU ATHEIST CUNT! FUCK YOU, YOU ATHEIST CUNT! FUCK YOU, YOU ATHEIST CUNT! FUCK YOU, YOU ATHEIST CUNT! FUCK YOU, YOU ATHEIST CUNT! FUCK YOU, YOU ATHEIST CUNT! FUCK YOU, YOU ATHEIST CUNT! FUCK YOU, YOU ATHEIST CUNT! FUCK YOU, YOU ATHEIST CUNT! FUCK YOU, YOU ATHEIST CUNT! FUCK YOU, YOU ATHEIST CUNT! FUCK YOU, YOU ATHEIST CUNT! FUCK YOU, YOU ATHEIST CUNT! FUCK YOU, YOU ATHEIST CUNT! FUCK YOU, YOU ATHEIST CUNT! FUCK YOU, YOU ATHEIST CUNT! FUCK YOU, YOU ATHEIST CUNT! FUCK YOU, YOU ATHEIST CUNT! FUCK YOU, YOU ATHEIST CUNT! FUCK YOU, YOU ATHEIST CUNT! FUCK YOU, YOU ATHEIST CUNT! FUCK YOU, YOU ATHEIST CUNT! FUCK YOU, YOU ATHEIST CUNT! FUCK YOU, YOU ATHEIST CUNT! FUCK YOU, YOU ATHEIST CUNT! FUCK YOU, YOU ATHEIST CUNT! FUCK YOU, YOU ATHEIST CUNT! FUCK YOU, YOU ATHEIST CUNT! FUCK YOU, YOU ATHEIST CUNT! FUCK YOU, YOU ATHEIST CUNT! FUCK YOU, YOU ATHEIST CUNT! FUCK YOU, YOU ATHEIST CUNT! FUCK YOU, YOU ATHEIST CUNT! FUCK YOU, YOU ATHEIST CUNT! FUCK YOU, YOU ATHEIST CUNT! FUCK YOU, YOU ATHEIST CUNT! FUCK YOU, YOU ATHEIST CUNT! FUCK YOU, YOU ATHEIST CUNT! FUCK YOU, YOU ATHEIST CUNT! FUCK YOU, YOU ATHEIST CUNT! FUCK YOU, YOU ATHEIST CUNT! FUCK YOU, YOU ATHEIST CUNT! FUCK YOU, YOU ATHEIST CUNT! FUCK YOU, YOU ATHEIST CUNT! FUCK YOU, YOU ATHEIST CUNT! FUCK YOU, YOU ATHEIST CUNT! FUCK YOU, YOU ATHEIST CUNT! FUCK YOU, YOU ATHEIST CUNT! FUCK YOU, YOU ATHEIST CUNT! FUCK YOU, YOU ATHEIST CUNT! FUCK YOU, YOU ATHEIST CUNT! FUCK YOU, YOU ATHEIST CUNT! FUCK YOU, YOU ATHEIST CUNT! FUCK YOU, YOU ATHEIST CUNT! FUCK YOU, YOU ATHEIST CUNT! FUCK YOU, YOU ATHEIST CUNT! FUCK YOU, YOU ATHEIST CUNT! FUCK YOU, YOU ATHEIST CUNT! FUCK YOU, YOU ATHEIST CUNT! FUCK YOU, YOU ATHEIST CUNT! FUCK YOU, YOU ATHEIST CUNT! FUCK YOU, YOU ATHEIST CUNT! FUCK YOU, YOU ATHEIST CUNT! FUCK YOU, YOU ATHEIST CUNT! FUCK YOU, YOU ATHEIST CUNT! FUCK YOU, YOU ATHEIST CUNT! FUCK YOU, YOU ATHEIST CUNT! FUCK YOU, YOU ATHEIST CUNT! FUCK YOU, YOU ATHEIST CUNT! FUCK YOU, YOU ATHEIST CUNT! FUCK YOU, YOU ATHEIST CUNT! FUCK YOU, YOU ATHEIST CUNT! FUCK YOU, YOU ATHEIST CUNT! FUCK YOU, YOU ATHEIST CUNT! FUCK YOU, YOU ATHEIST CUNT! FUCK YOU, YOU ATHEIST CUNT! FUCK YOU, YOU ATHEIST CUNT! FUCK YOU, YOU ATHEIST CUNT! FUCK YOU, YOU ATHEIST CUNT! FUCK YOU, YOU ATHEIST CUNT! FUCK YOU, YOU ATHEIST CUNT! FUCK YOU, YOU ATHEIST CUNT! FUCK YOU, YOU ATHEIST CUNT! FUCK YOU, YOU ATHEIST CUNT! FUCK YOU, YOU ATHEIST CUNT! FUCK YOU, YOU ATHEIST CUNT! FUCK YOU, YOU ATHEIST CUNT! FUCK YOU, YOU ATHEIST CUNT! FUCK YOU, YOU ATHEIST CUNT! FUCK YOU, YOU ATHEIST CUNT! FUCK YOU, YOU ATHEIST CUNT! FUCK YOU, YOU ATHEIST CUNT! FUCK YOU, YOU ATHEIST CUNT! FUCK YOU, YOU ATHEIST CUNT! FUCK YOU, YOU ATHEIST CUNT! FUCK YOU, YOU ATHEIST CUNT! FUCK YOU, YOU ATHEIST CUNT! FUCK YOU, YOU ATHEIST CUNT! FUCK YOU, YOU ATHEIST CUNT! FUCK YOU, YOU ATHEIST CUNT! FUCK YOU, YOU ATHEIST CUNT! FUCK YOU, YOU ATHEIST CUNT! FUCK YOU, YOU ATHEIST CUNT! FUCK YOU, YOU ATHEIST CUNT! FUCK YOU, YOU ATHEIST CUNT! FUCK YOU, YOU ATHEIST CUNT! FUCK YOU, YOU ATHEIST CUNT! FUCK YOU, YOU ATHEIST CUNT! FUCK YOU, YOU ATHEIST CUNT! FUCK YOU, YOU ATHEIST CUNT! FUCK YOU, YOU ATHEIST CUNT! FUCK YOU, YOU ATHEIST CUNT! FUCK YOU, YOU ATHEIST CUNT! FUCK YOU, YOU ATHEIST CUNT! FUCK YOU, YOU ATHEIST CUNT! FUCK YOU, YOU ATHEIST CUNT! FUCK YOU, YOU ATHEIST CUNT! FUCK YOU, YOU ATHEIST CUNT! FUCK YOU, YOU ATHEIST CUNT! FUCK YOU, YOU ATHEIST CUNT! FUCK YOU, YOU ATHEIST CUNT! FUCK YOU, YOU ATHEIST CUNT! FUCK YOU, YOU ATHEIST CUNT! FUCK YOU, YOU ATHEIST CUNT! FUCK YOU, YOU ATHEIST CUNT! FUCK YOU, YOU ATHEIST CUNT! FUCK YOU, YOU ATHEIST CUNT! FUCK YOU, YOU ATHEIST CUNT! FUCK YOU, YOU ATHEIST CUNT! FUCK YOU, YOU ATHEIST CUNT! FUCK YOU, YOU ATHEIST CUNT! FUCK YOU, YOU ATHEIST CUNT! FUCK YOU, YOU ATHEIST CUNT! FUCK YOU, YOU ATHEIST CUNT! FUCK YOU, YOU ATHEIST CUNT! FUCK YOU, YOU ATHEIST CUNT! FUCK YOU, YOU ATHEIST CUNT! FUCK YOU, YOU ATHEIST CUNT! FUCK YOU, YOU ATHEIST CUNT! FUCK YOU, YOU ATHEIST CUNT! FUCK YOU, YOU ATHEIST CUNT! FUCK YOU, YOU ATHEIST CUNT! FUCK YOU, YOU ATHEIST CUNT! FUCK YOU, YOU ATHEIST CUNT! FUCK YOU, YOU ATHEIST CUNT! FUCK YOU, YOU ATHEIST CUNT! FUCK YOU, YOU ATHEIST CUNT! FUCK YOU, YOU ATHEIST CUNT! FUCK YOU, YOU ATHEIST CUNT! FUCK YOU, YOU ATHEIST CUNT! FUCK YOU, YOU ATHEIST CUNT! FUCK YOU, YOU ATHEIST CUNT! FUCK YOU, YOU ATHEIST CUNT! FUCK YOU, YOU ATHEIST CUNT! FUCK YOU, YOU ATHEIST CUNT! FUCK YOU, YOU ATHEIST CUNT! FUCK YOU, YOU ATHEIST CUNT! FUCK YOU, YOU ATHEIST CUNT! FUCK YOU, YOU ATHEIST CUNT! FUCK YOU, YOU ATHEIST CUNT! FUCK YOU, YOU ATHEIST CUNT! FUCK YOU, YOU ATHEIST CUNT! FUCK YOU, YOU ATHEIST CUNT! FUCK YOU, YOU ATHEIST CUNT! FUCK YOU, YOU ATHEIST CUNT! FUCK YOU, YOU ATHEIST CUNT! FUCK YOU, YOU ATHEIST CUNT! FUCK YOU, YOU ATHEIST CUNT! FUCK YOU, YOU AT'"
      ]
     },
     "metadata": {},
     "output_type": "display_data"
    },
    {
     "name": "stdout",
     "output_type": "stream",
     "text": [
      "Offensive Score is 1.4961647540330887\n"
     ]
    },
    {
     "data": {
      "text/html": [
       "<span style=\"background-color: #FF-203-203\"><s></span> <span style=\"background-color: #FFCCCC\">ĠF</span> <span style=\"background-color: #FFD3D3\">*</span> <span style=\"background-color: #FFBEBE\">ck</span> <span style=\"background-color: #FFC0C0\">ĠYou</span> <span style=\"background-color: #FFAAAA\">Ġ</span> <span style=\"background-color: #FFE2E2\">Ċ</span> <span style=\"background-color: #FFB9B9\">Shut</span> <span style=\"background-color: #FFE1E1\">Ġthe</span> <span style=\"background-color: #FFCFCF\">Ġfuck</span> <span style=\"background-color: #FFDFDF\">Ġup</span> <span style=\"background-color: #FFD4D4\">Ġyou</span> <span style=\"background-color: #FFD3D3\">Ġwhine</span> <span style=\"background-color: #FFE1E1\">y</span> <span style=\"background-color: #FFD8D8\">Ġass</span> <span style=\"background-color: #FFDCDC\">Ġlittle</span> <span style=\"background-color: #FFD4D4\">Ġbitch</span> <span style=\"background-color: #FFB9B9\">!</span> <span style=\"background-color: #FFD6D6\">ĠI</span> <span style=\"background-color: #FFDFDF\">'ll</span> <span style=\"background-color: #FFE5E5\">Ġdo</span> <span style=\"background-color: #FFEBEB\">Ġall</span> <span style=\"background-color: #FFE7E7\">Ġthe</span> <span style=\"background-color: #FFD0D0\">Ġshit</span> <span style=\"background-color: #FFE6E6\">ĠI</span> <span style=\"background-color: #FFE7E7\">Ġwant</span> <span style=\"background-color: #FFD8D8\">Ġand</span> <span style=\"background-color: #FFE4E4\">Ġyou</span> <span style=\"background-color: #FFDEDE\">Ġcan</span> <span style=\"background-color: #FFDDDD\">Ġgo</span> <span style=\"background-color: #FFD7D7\">Ġfuck</span> <span style=\"background-color: #FFE6E6\">Ġyourself</span> <span style=\"background-color: #FFD7D7\">Ġyou</span> <span style=\"background-color: #FFD9D9\">Ġj</span> <span style=\"background-color: #FFE3E3\">ive</span> <span style=\"background-color: #FFDBDB\">Ġass</span> <span style=\"background-color: #FFD1D1\">Ġturkey</span> <span style=\"background-color: #FFD6D6\">Ġfucking</span> <span style=\"background-color: #FFD6D6\">Ġcunt</span> <span style=\"background-color: #FFC2C2\">!</span> <span style=\"background-color: #FF-1D3-1D3\"></s></span>"
      ],
      "text/plain": [
       "<IPython.core.display.HTML object>"
      ]
     },
     "metadata": {},
     "output_type": "display_data"
    },
    {
     "data": {
      "text/plain": [
       "\" F*ck You \\nShut the fuck up you whiney ass little bitch! I'll do all the shit I want and you can go fuck yourself you jive ass turkey fucking cunt!\""
      ]
     },
     "metadata": {},
     "output_type": "display_data"
    },
    {
     "name": "stdout",
     "output_type": "stream",
     "text": [
      "Offensive Score is 1.4830607324838638\n"
     ]
    },
    {
     "data": {
      "text/html": [
       "<span style=\"background-color: #FF-2EC-2EC\"><s></span> <span style=\"background-color: #FF7878\">ĠFuck</span> <span style=\"background-color: #FF9191\">Ġu</span> <span style=\"background-color: #FF8F8F\">Ġbitch</span> <span style=\"background-color: #FF4D4D\">Ġ</span> <span style=\"background-color: #FFCDCD\">Ċ</span> <span style=\"background-color: #FFB7B7\">Ċ</span> <span style=\"background-color: #FF8080\">Fuck</span> <span style=\"background-color: #FFA0A0\">Ġu</span> <span style=\"background-color: #FF8B8B\">ĠB</span> <span style=\"background-color: #FF7D7D\">itch</span> <span style=\"background-color: #FF-2A9-2A9\"></s></span>"
      ],
      "text/plain": [
       "<IPython.core.display.HTML object>"
      ]
     },
     "metadata": {},
     "output_type": "display_data"
    },
    {
     "data": {
      "text/plain": [
       "' Fuck u bitch \\n\\nFuck u Bitch'"
      ]
     },
     "metadata": {},
     "output_type": "display_data"
    },
    {
     "name": "stdout",
     "output_type": "stream",
     "text": [
      "Offensive Score is 1.4736514389514923\n"
     ]
    },
    {
     "data": {
      "text/html": [
       "<span style=\"background-color: #FF-25B-25B\"><s></span> <span style=\"background-color: #FFA6A6\">ĠFuck</span> <span style=\"background-color: #FFC1C1\">Ġyou</span> <span style=\"background-color: #FFB9B9\">Ġasshole</span> <span style=\"background-color: #FFB2B2\">!</span> <span style=\"background-color: #FFA1A1\">Ġ</span> <span style=\"background-color: #FFDBDB\">Ċ</span> <span style=\"background-color: #FFCACA\">Ċ</span> <span style=\"background-color: #FF9898\">Go</span> <span style=\"background-color: #FFC8C8\">Ġfuck</span> <span style=\"background-color: #FFD2D2\">Ġyourself</span> <span style=\"background-color: #FFBEBE\">!</span> <span style=\"background-color: #FFC2C2\">ĠDirty</span> <span style=\"background-color: #FFCBCB\">Ġfuckin</span> <span style=\"background-color: #FFD1D1\">'</span> <span style=\"background-color: #FFC8C8\">Ġasshole</span> <span style=\"background-color: #FFC5C5\">!</span> <span style=\"background-color: #FFC5C5\">ĠFuck</span> <span style=\"background-color: #FFD4D4\">in</span> <span style=\"background-color: #FFCBCB\">'</span> <span style=\"background-color: #FFCCCC\">Ġsc</span> <span style=\"background-color: #FFD4D4\">um</span> <span style=\"background-color: #FFBDBD\">!</span> <span style=\"background-color: #FFACAC\">Ġ</span> <span style=\"background-color: #FF-21C-21C\"></s></span>"
      ],
      "text/plain": [
       "<IPython.core.display.HTML object>"
      ]
     },
     "metadata": {},
     "output_type": "display_data"
    },
    {
     "data": {
      "text/plain": [
       "\" Fuck you asshole! \\n\\nGo fuck yourself! Dirty fuckin' asshole! Fuckin' scum! \""
      ]
     },
     "metadata": {},
     "output_type": "display_data"
    },
    {
     "name": "stdout",
     "output_type": "stream",
     "text": [
      "Offensive Score is 1.4720360487699509\n"
     ]
    },
    {
     "data": {
      "text/html": [
       "<span style=\"background-color: #FF-1F9-1F9\"><s></span> <span style=\"background-color: #FFCDCD\">H</span> <span style=\"background-color: #FFCCCC\">EE</span> <span style=\"background-color: #FFCBCB\">Y</span> <span style=\"background-color: #FFC2C2\">ĠFUCK</span> <span style=\"background-color: #FFEDED\">FACE</span> <span style=\"background-color: #FFCBCB\">ĠYOU</span> <span style=\"background-color: #FFC3C3\">ĠARE</span> <span style=\"background-color: #FFD0D0\">ĠA</span> <span style=\"background-color: #FFCFCF\">ĠREAL</span> <span style=\"background-color: #FFDDDD\">ĠB</span> <span style=\"background-color: #FFDADA\">ITCH</span> <span style=\"background-color: #FFCDCD\">ĠASS</span> <span style=\"background-color: #FFD9D9\">ĠP</span> <span style=\"background-color: #FFE3E3\">US</span> <span style=\"background-color: #FFD6D6\">SY</span> <span style=\"background-color: #FFD5D5\">ĠWH</span> <span style=\"background-color: #FFDFDF\">IPP</span> <span style=\"background-color: #FFD9D9\">ED</span> <span style=\"background-color: #FFD7D7\">ĠM</span> <span style=\"background-color: #FFE0E0\">UT</span> <span style=\"background-color: #FFDFDF\">HA</span> <span style=\"background-color: #FFD5D5\">F</span> <span style=\"background-color: #FFD9D9\">UCK</span> <span style=\"background-color: #FFDADA\">ING</span> <span style=\"background-color: #FFDCDC\">ĠF</span> <span style=\"background-color: #FFD9D9\">AG</span> <span style=\"background-color: #FFE2E2\">G</span> <span style=\"background-color: #FFD9D9\">OT</span> <span style=\"background-color: #FFD2D2\">ĠSH</span> <span style=\"background-color: #FFD1D1\">IT</span> <span style=\"background-color: #FFDADA\">F</span> <span style=\"background-color: #FFD5D5\">AC</span> <span style=\"background-color: #FFEFEF\">Ed</span> <span style=\"background-color: #FFD0D0\">ĠD</span> <span style=\"background-color: #FFC6C6\">ICK</span> <span style=\"background-color: #FFBBBB\">ĠHE</span> <span style=\"background-color: #FFEEEE\">Ad</span> <span style=\"background-color: #FF8D8D\">Ġ</span> <span style=\"background-color: #FF-1B3-1B3\"></s></span>"
      ],
      "text/plain": [
       "<IPython.core.display.HTML object>"
      ]
     },
     "metadata": {},
     "output_type": "display_data"
    },
    {
     "data": {
      "text/plain": [
       "'HEEY FUCKFACE YOU ARE A REAL BITCH ASS PUSSY WHIPPED MUTHAFUCKING FAGGOT SHITFACEd DICK HEAd '"
      ]
     },
     "metadata": {},
     "output_type": "display_data"
    },
    {
     "name": "stdout",
     "output_type": "stream",
     "text": [
      "Offensive Score is 1.462102860212326\n"
     ]
    },
    {
     "data": {
      "text/html": [
       "<span style=\"background-color: #FF-2C3-2C3\"><s></span> <span style=\"background-color: #FF8F8F\">IN</span> <span style=\"background-color: #FF9C9C\">ĠTHE</span> <span style=\"background-color: #FF9292\">ĠASS</span> <span style=\"background-color: #FFABAB\">ĠB</span> <span style=\"background-color: #FFA4A4\">ITCH</span> <span style=\"background-color: #FF9B9B\">ĠFUCK</span> <span style=\"background-color: #FFB1B1\">ING</span> <span style=\"background-color: #FFAEAE\">ĠC</span> <span style=\"background-color: #FFA5A5\">OCK</span> <span style=\"background-color: #FFAEAE\">ĠS</span> <span style=\"background-color: #FFB5B5\">UCK</span> <span style=\"background-color: #FFB1B1\">ER</span> <span style=\"background-color: #FF7979\">!</span> <span style=\"background-color: #FF-27E-27E\"></s></span>"
      ],
      "text/plain": [
       "<IPython.core.display.HTML object>"
      ]
     },
     "metadata": {},
     "output_type": "display_data"
    },
    {
     "data": {
      "text/plain": [
       "'IN THE ASS BITCH FUCKING COCK SUCKER!'"
      ]
     },
     "metadata": {},
     "output_type": "display_data"
    },
    {
     "name": "stdout",
     "output_type": "stream",
     "text": [
      "Offensive Score is 1.4600908607244492\n"
     ]
    },
    {
     "data": {
      "text/html": [
       "<span style=\"background-color: #FF-157-157\"><s></span> <span style=\"background-color: #FFE9E9\">F</span> <span style=\"background-color: #FFF2F2\">UCK</span> <span style=\"background-color: #FFF7F7\">ĠYOU</span> <span style=\"background-color: #FFF6F6\">ĠALL</span> <span style=\"background-color: #FFF1F1\">!!</span> <span style=\"background-color: #FFF1F1\">Ġ</span> <span style=\"background-color: #FFF5F5\">ĠFUCK</span> <span style=\"background-color: #FFF9F9\">ĠYOU</span> <span style=\"background-color: #FFF8F8\">ĠALL</span> <span style=\"background-color: #FFF4F4\">!!</span> <span style=\"background-color: #FFF4F4\">Ġ</span> <span style=\"background-color: #FFF6F6\">ĠFUCK</span> <span style=\"background-color: #FFF9F9\">ĠYOU</span> <span style=\"background-color: #FFF8F8\">ĠALL</span> <span style=\"background-color: #FFF4F4\">!!</span> <span style=\"background-color: #FFF4F4\">Ġ</span> <span style=\"background-color: #FFF6F6\">ĠFUCK</span> <span style=\"background-color: #FFFAFA\">ĠYOU</span> <span style=\"background-color: #FFF8F8\">ĠALL</span> <span style=\"background-color: #FFF4F4\">!!</span> <span style=\"background-color: #FFF5F5\">Ġ</span> <span style=\"background-color: #FFF6F6\">ĠFUCK</span> <span style=\"background-color: #FFFAFA\">ĠYOU</span> <span style=\"background-color: #FFF8F8\">ĠALL</span> <span style=\"background-color: #FFF5F5\">!!</span> <span style=\"background-color: #FFF6F6\">Ġ</span> <span style=\"background-color: #FFF6F6\">ĠFUCK</span> <span style=\"background-color: #FFFAFA\">ĠYOU</span> <span style=\"background-color: #FFF9F9\">ĠALL</span> <span style=\"background-color: #FFF5F5\">!!</span> <span style=\"background-color: #FFF5F5\">Ġ</span> <span style=\"background-color: #FFF6F6\">ĠFUCK</span> <span style=\"background-color: #FFFAFA\">ĠYOU</span> <span style=\"background-color: #FFF9F9\">ĠALL</span> <span style=\"background-color: #FFF4F4\">!!</span> <span style=\"background-color: #FFF5F5\">Ġ</span> <span style=\"background-color: #FFF6F6\">ĠFUCK</span> <span style=\"background-color: #FFFAFA\">ĠYOU</span> <span style=\"background-color: #FFF9F9\">ĠALL</span> <span style=\"background-color: #FFF3F3\">!!</span> <span style=\"background-color: #FFF4F4\">Ġ</span> <span style=\"background-color: #FFF6F6\">ĠFUCK</span> <span style=\"background-color: #FFFAFA\">ĠYOU</span> <span style=\"background-color: #FFF9F9\">ĠALL</span> <span style=\"background-color: #FFF3F3\">!!</span> <span style=\"background-color: #FFF4F4\">Ġ</span> <span style=\"background-color: #FFF6F6\">ĠFUCK</span> <span style=\"background-color: #FFFAFA\">ĠYOU</span> <span style=\"background-color: #FFF9F9\">ĠALL</span> <span style=\"background-color: #FFF4F4\">!!</span> <span style=\"background-color: #FFF5F5\">Ġ</span> <span style=\"background-color: #FFF6F6\">ĠFUCK</span> <span style=\"background-color: #FFFAFA\">ĠYOU</span> <span style=\"background-color: #FFF9F9\">ĠALL</span> <span style=\"background-color: #FFF4F4\">!!</span> <span style=\"background-color: #FFF5F5\">Ġ</span> <span style=\"background-color: #FFF7F7\">ĠFUCK</span> <span style=\"background-color: #FFFAFA\">ĠYOU</span> <span style=\"background-color: #FFF9F9\">ĠALL</span> <span style=\"background-color: #FFF4F4\">!!</span> <span style=\"background-color: #FFF4F4\">Ġ</span> <span style=\"background-color: #FFF6F6\">ĠFUCK</span> <span style=\"background-color: #FFFAFA\">ĠYOU</span> <span style=\"background-color: #FFF9F9\">ĠALL</span> <span style=\"background-color: #FFF3F3\">!!</span> <span style=\"background-color: #FFF4F4\">Ġ</span> <span style=\"background-color: #FFF6F6\">ĠFUCK</span> <span style=\"background-color: #FFFAFA\">ĠYOU</span> <span style=\"background-color: #FFF9F9\">ĠALL</span> <span style=\"background-color: #FFF3F3\">!!</span> <span style=\"background-color: #FFF4F4\">Ġ</span> <span style=\"background-color: #FFF6F6\">ĠFUCK</span> <span style=\"background-color: #FFFAFA\">ĠYOU</span> <span style=\"background-color: #FFF9F9\">ĠALL</span> <span style=\"background-color: #FFF4F4\">!!</span> <span style=\"background-color: #FFF6F6\">Ġ</span> <span style=\"background-color: #FFF7F7\">ĠFUCK</span> <span style=\"background-color: #FFFAFA\">ĠYOU</span> <span style=\"background-color: #FFF9F9\">ĠALL</span> <span style=\"background-color: #FFF4F4\">!!</span> <span style=\"background-color: #FFF5F5\">Ġ</span> <span style=\"background-color: #FFF7F7\">ĠFUCK</span> <span style=\"background-color: #FFFAFA\">ĠYOU</span> <span style=\"background-color: #FFF9F9\">ĠALL</span> <span style=\"background-color: #FFF4F4\">!!</span> <span style=\"background-color: #FFF6F6\">Ġ</span> <span style=\"background-color: #FFF7F7\">ĠFUCK</span> <span style=\"background-color: #FFFAFA\">ĠYOU</span> <span style=\"background-color: #FFF9F9\">ĠALL</span> <span style=\"background-color: #FFF4F4\">!!</span> <span style=\"background-color: #FFF5F5\">Ġ</span> <span style=\"background-color: #FFF6F6\">ĠFUCK</span> <span style=\"background-color: #FFFAFA\">ĠYOU</span> <span style=\"background-color: #FFF9F9\">ĠALL</span> <span style=\"background-color: #FFF3F3\">!!</span> <span style=\"background-color: #FFF5F5\">Ġ</span> <span style=\"background-color: #FFF6F6\">ĠFUCK</span> <span style=\"background-color: #FFFAFA\">ĠYOU</span> <span style=\"background-color: #FFF9F9\">ĠALL</span> <span style=\"background-color: #FFF4F4\">!!</span> <span style=\"background-color: #FFF5F5\">Ġ</span> <span style=\"background-color: #FFF6F6\">ĠFUCK</span> <span style=\"background-color: #FFFAFA\">ĠYOU</span> <span style=\"background-color: #FFF9F9\">ĠALL</span> <span style=\"background-color: #FFF4F4\">!!</span> <span style=\"background-color: #FFF5F5\">Ġ</span> <span style=\"background-color: #FFF7F7\">ĠFUCK</span> <span style=\"background-color: #FFFAFA\">ĠYOU</span> <span style=\"background-color: #FFF9F9\">ĠALL</span> <span style=\"background-color: #FFF5F5\">!!</span> <span style=\"background-color: #FFF6F6\">Ġ</span> <span style=\"background-color: #FFF7F7\">ĠFUCK</span> <span style=\"background-color: #FFFAFA\">ĠYOU</span> <span style=\"background-color: #FFF9F9\">ĠALL</span> <span style=\"background-color: #FFF5F5\">!!</span> <span style=\"background-color: #FFF6F6\">Ġ</span> <span style=\"background-color: #FFF7F7\">ĠFUCK</span> <span style=\"background-color: #FFFAFA\">ĠYOU</span> <span style=\"background-color: #FFF9F9\">ĠALL</span> <span style=\"background-color: #FFF4F4\">!!</span> <span style=\"background-color: #FFF5F5\">Ġ</span> <span style=\"background-color: #FFF7F7\">ĠFUCK</span> <span style=\"background-color: #FFFAFA\">ĠYOU</span> <span style=\"background-color: #FFF9F9\">ĠALL</span> <span style=\"background-color: #FFF4F4\">!!</span> <span style=\"background-color: #FFF5F5\">Ġ</span> <span style=\"background-color: #FFF7F7\">ĠFUCK</span> <span style=\"background-color: #FFFAFA\">ĠYOU</span> <span style=\"background-color: #FFF9F9\">ĠALL</span> <span style=\"background-color: #FFF4F4\">!!</span> <span style=\"background-color: #FFF6F6\">Ġ</span> <span style=\"background-color: #FFF7F7\">ĠFUCK</span> <span style=\"background-color: #FFFAFA\">ĠYOU</span> <span style=\"background-color: #FFF9F9\">ĠALL</span> <span style=\"background-color: #FFF5F5\">!!</span> <span style=\"background-color: #FFF6F6\">Ġ</span> <span style=\"background-color: #FFF7F7\">ĠFUCK</span> <span style=\"background-color: #FFFAFA\">ĠYOU</span> <span style=\"background-color: #FFF9F9\">ĠALL</span> <span style=\"background-color: #FFF5F5\">!!</span> <span style=\"background-color: #FFF6F6\">Ġ</span> <span style=\"background-color: #FFF8F8\">ĠFUCK</span> <span style=\"background-color: #FFFBFB\">ĠYOU</span> <span style=\"background-color: #FFFAFA\">ĠALL</span> <span style=\"background-color: #FFF6F6\">!!</span> <span style=\"background-color: #FFF7F7\">Ġ</span> <span style=\"background-color: #FFF8F8\">ĠFUCK</span> <span style=\"background-color: #FFFAFA\">ĠYOU</span> <span style=\"background-color: #FFF9F9\">ĠALL</span> <span style=\"background-color: #FFF5F5\">!!</span> <span style=\"background-color: #FFF7F7\">Ġ</span> <span style=\"background-color: #FFF8F8\">ĠFUCK</span> <span style=\"background-color: #FFFAFA\">ĠYOU</span> <span style=\"background-color: #FFF9F9\">ĠALL</span> <span style=\"background-color: #FFF5F5\">!!</span> <span style=\"background-color: #FFF7F7\">Ġ</span> <span style=\"background-color: #FFF7F7\">ĠFUCK</span> <span style=\"background-color: #FFFAFA\">ĠYOU</span> <span style=\"background-color: #FFF9F9\">ĠALL</span> <span style=\"background-color: #FFF4F4\">!!</span> <span style=\"background-color: #FFF6F6\">Ġ</span> <span style=\"background-color: #FFF7F7\">ĠFUCK</span> <span style=\"background-color: #FFFAFA\">ĠYOU</span> <span style=\"background-color: #FFF9F9\">ĠALL</span> <span style=\"background-color: #FFF5F5\">!!</span> <span style=\"background-color: #FFF7F7\">Ġ</span> <span style=\"background-color: #FFF8F8\">ĠFUCK</span> <span style=\"background-color: #FFFAFA\">ĠYOU</span> <span style=\"background-color: #FFF9F9\">ĠALL</span> <span style=\"background-color: #FFF6F6\">!!</span> <span style=\"background-color: #FFF7F7\">Ġ</span> <span style=\"background-color: #FFF7F7\">ĠFUCK</span> <span style=\"background-color: #FFFAFA\">ĠYOU</span> <span style=\"background-color: #FFF9F9\">ĠALL</span> <span style=\"background-color: #FFF5F5\">!!</span> <span style=\"background-color: #FFF7F7\">Ġ</span> <span style=\"background-color: #FFF8F8\">ĠFUCK</span> <span style=\"background-color: #FFFAFA\">ĠYOU</span> <span style=\"background-color: #FFFAFA\">ĠALL</span> <span style=\"background-color: #FFF5F5\">!!</span> <span style=\"background-color: #FFF6F6\">Ġ</span> <span style=\"background-color: #FFF7F7\">ĠFUCK</span> <span style=\"background-color: #FFFAFA\">ĠYOU</span> <span style=\"background-color: #FFF9F9\">ĠALL</span> <span style=\"background-color: #FFF4F4\">!!</span> <span style=\"background-color: #FFF5F5\">Ġ</span> <span style=\"background-color: #FFF7F7\">ĠFUCK</span> <span style=\"background-color: #FFFAFA\">ĠYOU</span> <span style=\"background-color: #FFF9F9\">ĠALL</span> <span style=\"background-color: #FFF4F4\">!!</span> <span style=\"background-color: #FFF5F5\">Ġ</span> <span style=\"background-color: #FFF7F7\">ĠFUCK</span> <span style=\"background-color: #FFFAFA\">ĠYOU</span> <span style=\"background-color: #FFF9F9\">ĠALL</span> <span style=\"background-color: #FFF4F4\">!!</span> <span style=\"background-color: #FFF6F6\">Ġ</span> <span style=\"background-color: #FFF7F7\">ĠFUCK</span> <span style=\"background-color: #FFFAFA\">ĠYOU</span> <span style=\"background-color: #FFFAFA\">ĠALL</span> <span style=\"background-color: #FFF5F5\">!!</span> <span style=\"background-color: #FFF7F7\">Ġ</span> <span style=\"background-color: #FFF8F8\">ĠFUCK</span> <span style=\"background-color: #FFFAFA\">ĠYOU</span> <span style=\"background-color: #FFFAFA\">ĠALL</span> <span style=\"background-color: #FFF6F6\">!!</span> <span style=\"background-color: #FFF6F6\">Ġ</span> <span style=\"background-color: #FFF8F8\">ĠFUCK</span> <span style=\"background-color: #FFFAFA\">ĠYOU</span> <span style=\"background-color: #FFFAFA\">ĠALL</span> <span style=\"background-color: #FFF6F6\">!!</span> <span style=\"background-color: #FFF6F6\">Ġ</span> <span style=\"background-color: #FFF8F8\">ĠFUCK</span> <span style=\"background-color: #FFFAFA\">ĠYOU</span> <span style=\"background-color: #FFFAFA\">ĠALL</span> <span style=\"background-color: #FFF5F5\">!!</span> <span style=\"background-color: #FFF6F6\">Ġ</span> <span style=\"background-color: #FFF8F8\">ĠFUCK</span> <span style=\"background-color: #FFFAFA\">ĠYOU</span> <span style=\"background-color: #FFF9F9\">ĠALL</span> <span style=\"background-color: #FFF5F5\">!!</span> <span style=\"background-color: #FFF6F6\">Ġ</span> <span style=\"background-color: #FFF7F7\">ĠFUCK</span> <span style=\"background-color: #FFFAFA\">ĠYOU</span> <span style=\"background-color: #FFFAFA\">ĠALL</span> <span style=\"background-color: #FFF4F4\">!!</span> <span style=\"background-color: #FFF6F6\">Ġ</span> <span style=\"background-color: #FFF7F7\">ĠFUCK</span> <span style=\"background-color: #FFFAFA\">ĠYOU</span> <span style=\"background-color: #FFFAFA\">ĠALL</span> <span style=\"background-color: #FFF5F5\">!!</span> <span style=\"background-color: #FFF6F6\">Ġ</span> <span style=\"background-color: #FFF8F8\">ĠFUCK</span> <span style=\"background-color: #FFFAFA\">ĠYOU</span> <span style=\"background-color: #FFFAFA\">ĠALL</span> <span style=\"background-color: #FFF5F5\">!!</span> <span style=\"background-color: #FFF6F6\">Ġ</span> <span style=\"background-color: #FFF7F7\">ĠFUCK</span> <span style=\"background-color: #FFFAFA\">ĠYOU</span> <span style=\"background-color: #FFFAFA\">ĠALL</span> <span style=\"background-color: #FFF5F5\">!!</span> <span style=\"background-color: #FFF5F5\">Ġ</span> <span style=\"background-color: #FFF7F7\">ĠFUCK</span> <span style=\"background-color: #FFFAFA\">ĠYOU</span> <span style=\"background-color: #FFF9F9\">ĠALL</span> <span style=\"background-color: #FFF4F4\">!!</span> <span style=\"background-color: #FFF3F3\">Ġ</span> <span style=\"background-color: #FFF6F6\">ĠFUCK</span> <span style=\"background-color: #FFF9F9\">ĠYOU</span> <span style=\"background-color: #FFF9F9\">ĠALL</span> <span style=\"background-color: #FFF1F1\">!!</span> <span style=\"background-color: #FFEFEF\">Ġ</span> <span style=\"background-color: #FFF3F3\">ĠFUCK</span> <span style=\"background-color: #FFF7F7\">ĠYOU</span> <span style=\"background-color: #FFF6F6\">ĠALL</span> <span style=\"background-color: #FF-125-125\">!!</span>"
      ],
      "text/plain": [
       "<IPython.core.display.HTML object>"
      ]
     },
     "metadata": {},
     "output_type": "display_data"
    },
    {
     "data": {
      "text/plain": [
       "'FUCK YOU ALL!!  FUCK YOU ALL!!  FUCK YOU ALL!!  FUCK YOU ALL!!  FUCK YOU ALL!!  FUCK YOU ALL!!  FUCK YOU ALL!!  FUCK YOU ALL!!  FUCK YOU ALL!!  FUCK YOU ALL!!  FUCK YOU ALL!!  FUCK YOU ALL!!  FUCK YOU ALL!!  FUCK YOU ALL!!  FUCK YOU ALL!!  FUCK YOU ALL!!  FUCK YOU ALL!!  FUCK YOU ALL!!  FUCK YOU ALL!!  FUCK YOU ALL!!  FUCK YOU ALL!!  FUCK YOU ALL!!  FUCK YOU ALL!!  FUCK YOU ALL!!  FUCK YOU ALL!!  FUCK YOU ALL!!  FUCK YOU ALL!!  FUCK YOU ALL!!  FUCK YOU ALL!!  FUCK YOU ALL!!  FUCK YOU ALL!!  FUCK YOU ALL!!  FUCK YOU ALL!!  FUCK YOU ALL!!  FUCK YOU ALL!!  FUCK YOU ALL!!  FUCK YOU ALL!!  FUCK YOU ALL!!  FUCK YOU ALL!!  FUCK YOU ALL!!  FUCK YOU ALL!!  FUCK YOU ALL!!  FUCK YOU ALL!!  FUCK YOU ALL!!  FUCK YOU ALL!!  FUCK YOU ALL!!  FUCK YOU ALL!!  FUCK YOU ALL!!  FUCK YOU ALL!!  FUCK YOU ALL!!  FUCK YOU ALL!!  FUCK YOU ALL!!  FUCK YOU ALL!!  FUCK YOU ALL!!  FUCK YOU ALL!!  FUCK YOU ALL!!  FUCK YOU ALL!!  FUCK YOU ALL!!  FUCK YOU ALL!!  FUCK YOU ALL!!  FUCK YOU ALL!!  FUCK YOU ALL!!  FUCK YOU ALL!!  FUCK YOU ALL!!  FUCK YOU ALL!!  FUCK YOU ALL!!  FUCK YOU ALL!!  FUCK YOU ALL!!  FUCK YOU ALL!!  FUCK YOU ALL!!  FUCK YOU ALL!!  FUCK YOU ALL!!  FUCK YOU ALL!!  FUCK YOU ALL!!  FUCK YOU ALL!!  FUCK YOU ALL!!  FUCK YOU ALL!!  FUCK YOU ALL!!  FUCK YOU ALL!!  FUCK YOU ALL!!  FUCK YOU ALL!!  FUCK YOU ALL!!  FUCK YOU ALL!!  FUCK YOU ALL!!  FUCK YOU ALL!!  FUCK YOU ALL!!  FUCK YOU ALL!!  FUCK YOU ALL!!  FUCK YOU ALL!!  FUCK YOU ALL!!  FUCK YOU ALL!!  FUCK YOU ALL!!  FUCK YOU ALL!!  FUCK YOU ALL!!  FUCK YOU ALL!!  FUCK YOU ALL!!  FUCK YOU ALL!!  FUCK YOU ALL!!  FUCK YOU ALL!!  FUCK YOU ALL!!  FUCK YOU ALL!!  FUCK YOU ALL!!  FUCK YOU ALL!!  FUCK YOU ALL!!  FUCK YOU ALL!!  FUCK YOU ALL!!  FUCK YOU ALL!!  FUCK YOU ALL!!  FUCK YOU ALL!!  FUCK YOU ALL!!  FUCK YOU ALL!!  FUCK YOU ALL!!  FUCK YOU ALL!!  FUCK YOU ALL!!  FUCK YOU ALL!!  FUCK YOU ALL!!  FUCK YOU ALL!!  FUCK YOU ALL!!  FUCK YOU ALL!!  FUCK YOU ALL!!  FUCK YOU ALL!!  FUCK YOU ALL!!  FUCK YOU ALL!!  FUCK YOU ALL!!  FUCK YOU ALL!!  FUCK YOU ALL!!  FUCK YOU ALL!!  FUCK YOU ALL!!  FUCK YOU ALL!!  FUCK YOU ALL!!  FUCK YOU ALL!!  FUCK YOU ALL!!  FUCK YOU ALL!!  FUCK YOU ALL!!  FUCK YOU ALL!!  FUCK YOU ALL!!  FUCK YOU ALL!!  FUCK YOU ALL!!  FUCK YOU ALL!!  FUCK YOU ALL!!  FUCK YOU ALL!!  FUCK YOU ALL!!  FUCK YOU ALL!!  FUCK YOU ALL!!  FUCK YOU ALL!!  FUCK YOU ALL!!  FUCK YOU ALL!!  FUCK YOU ALL!!  FUCK YOU ALL!!  FUCK YOU ALL!!  FUCK YOU ALL!!  FUCK YOU ALL!!  FUCK YOU ALL!!  FUCK YOU ALL!!  FUCK YOU ALL!!  FUCK YOU ALL!!  FUCK YOU ALL!!  FUCK YOU ALL!!  FUCK YOU ALL!!  FUCK YOU ALL!!  FUCK YOU ALL!!  FUCK YOU ALL!!  FUCK YOU ALL!!  FUCK YOU ALL!!  FUCK YOU ALL!!  FUCK YOU ALL!!  FUCK YOU ALL!!  FUCK YOU ALL!!  FUCK YOU ALL!!  FUCK YOU ALL!!  FUCK YOU ALL!!  FUCK YOU ALL!!  FUCK YOU ALL!!  FUCK YOU ALL!!  FUCK YOU ALL!!  FUCK YOU ALL!!  FUCK YOU ALL!!  FUCK YOU ALL!!  FUCK YOU ALL!!  FUCK YOU ALL!!  FUCK YOU ALL!!  FUCK YOU ALL!!  FUCK YOU ALL!!  FUCK YOU ALL!!  FUCK YOU ALL!!  FUCK YOU ALL!!  FUCK YOU ALL!!  FUCK YOU ALL!!  FUCK YOU ALL!!  FUCK YOU ALL!!  FUCK YOU ALL!!  FUCK YOU ALL!!  FUCK YOU ALL!!  FUCK YOU ALL!!  FUCK YOU ALL!!  FUCK YOU ALL!!  FUCK YOU ALL!!  FUCK YOU ALL!!  FUCK YOU ALL!!  FUCK YOU ALL!!  FUCK YOU ALL!!  FUCK YOU ALL!!  FUCK YOU ALL!!  FUCK YOU ALL!!  FUCK YOU ALL!!  FUCK YOU ALL!!  FUCK YOU ALL!!  FUCK YOU ALL!!  FUCK YOU ALL!!  FUCK YOU ALL!!  FUCK YOU ALL!!  FUCK YOU ALL!!  FUCK YOU ALL!!  FUCK YOU ALL!!  FUCK YOU ALL!!  FUCK YOU ALL!!  FUCK YOU ALL!!  FUCK YOU ALL!!  FUCK YOU ALL!!  FUCK YOU ALL!!  FUCK YOU ALL!!  FUCK YOU ALL!!  FUCK YOU ALL!!  FUCK YOU ALL!!  FUCK YOU ALL!!  FUCK YOU ALL!!  FUCK YOU ALL!!  FUCK YOU ALL!!  FUCK YOU ALL!!  FUCK YOU ALL!!  FUCK YOU ALL!!  FUCK YOU ALL!!  FUCK YOU ALL!!  FUCK YOU ALL!!  FUCK YOU ALL!!  FUCK YOU ALL!!  FUCK YOU ALL!!  FUCK YOU ALL!!  FUCK YOU ALL!!  FUCK YOU ALL!!  FUCK YOU ALL!!  FUCK YOU ALL!!  FUCK YOU ALL!!  FUCK YOU ALL!!  FUCK YOU ALL!!  FUCK YOU ALL!!  FUCK YOU ALL!!  FUCK YOU ALL!!  FUCK YOU ALL!!  FUCK YOU ALL!!  FUCK YOU ALL!!  FUCK YOU ALL!!  FUCK YOU ALL!!  FUCK YOU ALL!!  FUCK YOU ALL!!  FUCK YOU ALL!!  FUCK YOU ALL!!  FUCK YOU ALL!!  FUCK YOU ALL!!  FUCK YOU ALL!!  FUCK YOU ALL!!  FUCK YOU ALL!!  FUCK YOU ALL!!  FUCK YOU ALL!!  FUCK YOU ALL!!  FUCK YOU ALL!!  FUCK YOU ALL!!  FUCK YOU ALL!!  FUCK YOU ALL!!  FUCK YOU ALL!!  FUCK YOU ALL!!  FUCK YOU ALL!!  FUCK YOU ALL!!  FUCK YOU ALL!!  FUCK YOU ALL!!  FUCK YOU ALL!!  FUCK YOU ALL!!  FUCK YOU ALL!!  FUCK YOU ALL!!  FUCK YOU ALL!!  FUCK YOU ALL!!  FUCK YOU ALL!!  FUCK YOU ALL!!  FUCK YOU ALL!!  FUCK YOU ALL!!  FUCK YOU ALL!!  FUCK YOU ALL!!  FUCK YOU ALL!!  FUCK YOU ALL!!  FUCK YOU ALL!!  FUCK YOU ALL!!  FUCK YOU ALL!!  FUCK YOU ALL!!  FUCK YOU ALL!!  FUCK YOU ALL!!  FUCK YOU ALL!!  FUCK YOU ALL!!  FUCK YOU ALL!!  FUCK YOU ALL!!  FUCK YOU ALL!!  FUCK YOU ALL!!  FUCK YOU ALL!!  FUCK YOU ALL!!  FUCK YOU ALL!!  FUCK YOU ALL!!  FUCK YOU ALL!!  FUCK YOU ALL!!  FUCK YOU ALL!!  FUCK YOU ALL!!  FUCK YOU ALL!!  FUCK YOU ALL!!  FUCK YOU ALL!!  FUCK YOU'"
      ]
     },
     "metadata": {},
     "output_type": "display_data"
    },
    {
     "name": "stdout",
     "output_type": "stream",
     "text": [
      "Offensive Score is 1.4494141042232513\n"
     ]
    },
    {
     "data": {
      "text/html": [
       "<span style=\"background-color: #FF-353-353\"><s></span> <span style=\"background-color: #FF7575\">fuck</span> <span style=\"background-color: #FF9E9E\">Ġyou</span> <span style=\"background-color: #FFA2A2\">Ġbitch</span> <span style=\"background-color: #FFA4A4\">Ġn</span> <span style=\"background-color: #FF9696\">igger</span> <span style=\"background-color: #FF9E9E\">Ġslut</span> <span style=\"background-color: #FF9E9E\">Ġass</span> <span style=\"background-color: #FF9797\">Ġfuck</span> <span style=\"background-color: #FF9090\">Ġwhore</span> <span style=\"background-color: #FF-302-302\"></s></span>"
      ],
      "text/plain": [
       "<IPython.core.display.HTML object>"
      ]
     },
     "metadata": {},
     "output_type": "display_data"
    },
    {
     "data": {
      "text/plain": [
       "'fuck you bitch nigger slut ass fuck whore'"
      ]
     },
     "metadata": {},
     "output_type": "display_data"
    },
    {
     "name": "stdout",
     "output_type": "stream",
     "text": [
      "Offensive Score is 1.4491194784641266\n"
     ]
    },
    {
     "data": {
      "text/html": [
       "<span style=\"background-color: #FF-324-324\"><s></span> <span style=\"background-color: #FF5A5A\">fuck</span> <span style=\"background-color: #FFA7A7\">Ġc</span> <span style=\"background-color: #FFA9A9\">ocks</span> <span style=\"background-color: #FFA8A8\">ucker</span> <span style=\"background-color: #FFACAC\">Ġt</span> <span style=\"background-color: #FF9C9C\">itty</span> <span style=\"background-color: #FF9595\">Ġmarijuana</span> <span style=\"background-color: #FFAAAA\">Ġn</span> <span style=\"background-color: #FF9999\">igger</span> <span style=\"background-color: #FF8A8A\">Ġwhore</span> <span style=\"background-color: #FF-2DD-2DD\"></s></span>"
      ],
      "text/plain": [
       "<IPython.core.display.HTML object>"
      ]
     },
     "metadata": {},
     "output_type": "display_data"
    },
    {
     "data": {
      "text/plain": [
       "'fuck cocksucker titty marijuana nigger whore'"
      ]
     },
     "metadata": {},
     "output_type": "display_data"
    },
    {
     "name": "stdout",
     "output_type": "stream",
     "text": [
      "Offensive Score is 1.4467919021844864\n"
     ]
    },
    {
     "data": {
      "text/html": [
       "<span style=\"background-color: #FF-37B-37B\"><s></span> <span style=\"background-color: #FF3131\">fuck</span> <span style=\"background-color: #FF5757\">Ġu</span> <span style=\"background-color: #FF4A4A\">Ġu</span> <span style=\"background-color: #FF7070\">Ġstupid</span> <span style=\"background-color: #FF6C6C\">Ġprick</span> <span style=\"background-color: #FF-32F-32F\"></s></span>"
      ],
      "text/plain": [
       "<IPython.core.display.HTML object>"
      ]
     },
     "metadata": {},
     "output_type": "display_data"
    },
    {
     "data": {
      "text/plain": [
       "'fuck u u stupid prick'"
      ]
     },
     "metadata": {},
     "output_type": "display_data"
    },
    {
     "name": "stdout",
     "output_type": "stream",
     "text": [
      "Offensive Score is 1.4341985434293747\n"
     ]
    },
    {
     "data": {
      "text/html": [
       "<span style=\"background-color: #FF-146-146\"><s></span> <span style=\"background-color: #FFD4D4\">F</span> <span style=\"background-color: #FFDADA\">UCK</span> <span style=\"background-color: #FFDADA\">ĠYOU</span> <span style=\"background-color: #FFDEDE\">ĠB</span> <span style=\"background-color: #FFDBDB\">ITCH</span> <span style=\"background-color: #FFE7E7\">Ċ</span> <span style=\"background-color: #FFCCCC\">K</span> <span style=\"background-color: #FFCCCC\">iss</span> <span style=\"background-color: #FFE1E1\">Ġmy</span> <span style=\"background-color: #FFD7D7\">Ġass</span> <span style=\"background-color: #FFD2D2\">,</span> <span style=\"background-color: #FFDADA\">Ġyou</span> <span style=\"background-color: #FFDCDC\">Ġdick</span> <span style=\"background-color: #FFD6D6\">less</span> <span style=\"background-color: #FFCDCD\">Ġtroll</span> <span style=\"background-color: #FF-13D-13D\">.</span> <span style=\"background-color: #FFBDBD\">Ġ</span> <span style=\"background-color: #FFD0D0\">ĠI</span> <span style=\"background-color: #FFE0E0\">Ġhope</span> <span style=\"background-color: #FFE1E1\">Ġyou</span> <span style=\"background-color: #FFE3E3\">Ġnever</span> <span style=\"background-color: #FFE7E7\">Ġreturn</span> <span style=\"background-color: #FFE5E5\">Ġfrom</span> <span style=\"background-color: #FFE4E4\">Ġyour</span> <span style=\"background-color: #FFD5D5\">Ġgay</span> <span style=\"background-color: #FFD4D4\">Ġass</span> <span style=\"background-color: #FFD1D1\">Ġvacation</span> <span style=\"background-color: #FF-13D-13D\">.</span> <span style=\"background-color: #FFC5C5\">Ġ</span> <span style=\"background-color: #FFD9D9\">ĠFUCK</span> <span style=\"background-color: #FFE2E2\">ĠYOU</span> <span style=\"background-color: #FFCECE\">!</span> <span style=\"background-color: #FF5151\"></s></span>"
      ],
      "text/plain": [
       "<IPython.core.display.HTML object>"
      ]
     },
     "metadata": {},
     "output_type": "display_data"
    },
    {
     "data": {
      "text/plain": [
       "'FUCK YOU BITCH\\nKiss my ass, you dickless troll.  I hope you never return from your gay ass vacation.  FUCK YOU!'"
      ]
     },
     "metadata": {},
     "output_type": "display_data"
    },
    {
     "name": "stdout",
     "output_type": "stream",
     "text": [
      "Offensive Score is 1.4324178919196129\n"
     ]
    },
    {
     "data": {
      "text/html": [
       "<span style=\"background-color: #FF-1B1-1B1\"><s></span> <span style=\"background-color: #FFDBDB\">F</span> <span style=\"background-color: #FFE1E1\">UCK</span> <span style=\"background-color: #FFE7E7\">ĠYOU</span> <span style=\"background-color: #FFDADA\">,</span> <span style=\"background-color: #FFE4E4\">ĠYOU</span> <span style=\"background-color: #FFEDED\">ĠG</span> <span style=\"background-color: #FFEEEE\">AY</span> <span style=\"background-color: #FFE2E2\">ĠASS</span> <span style=\"background-color: #FFEEEE\">ĠLIB</span> <span style=\"background-color: #FFEFEF\">ERAL</span> <span style=\"background-color: #FFC7C7\">!!!</span> <span style=\"background-color: #FFE6E6\">Ċ</span> <span style=\"background-color: #FFB8B8\">hey</span> <span style=\"background-color: #FFDFDF\">Ġasshole</span> <span style=\"background-color: #FFD8D8\">Ġwhy</span> <span style=\"background-color: #FFDADA\">Ġdont</span> <span style=\"background-color: #FFE8E8\">Ġyou</span> <span style=\"background-color: #FFE4E4\">Ġget</span> <span style=\"background-color: #FFEEEE\">Ġyour</span> <span style=\"background-color: #FFE7E7\">Ġface</span> <span style=\"background-color: #FFEBEB\">Ġout</span> <span style=\"background-color: #FFE4E4\">Ġof</span> <span style=\"background-color: #FFD9D9\">Ġthe</span> <span style=\"background-color: #FFD8D8\">Ġfucking</span> <span style=\"background-color: #FFD1D1\">Ġchild</span> <span style=\"background-color: #FFD7D7\">Ġmol</span> <span style=\"background-color: #FFE6E6\">est</span> <span style=\"background-color: #FFDFDF\">es</span> <span style=\"background-color: #FFF1F1\">Ġhomepage</span> <span style=\"background-color: #FFDCDC\">Ġand</span> <span style=\"background-color: #FFE2E2\">Ġgo</span> <span style=\"background-color: #FFE3E3\">Ġfuck</span> <span style=\"background-color: #FFF2F2\">Ġyour</span> <span style=\"background-color: #FFE7E7\">Ġself</span> <span style=\"background-color: #FFE2E2\">Ġyou</span> <span style=\"background-color: #FFE5E5\">Ġgay</span> <span style=\"background-color: #FFE4E4\">Ġass</span> <span style=\"background-color: #FFE5E5\">Ġliberal</span> <span style=\"background-color: #FFE5E5\">Ġmother</span> <span style=\"background-color: #FFEAEA\">Ġfuck</span> <span style=\"background-color: #FFEBEB\">er</span> <span style=\"background-color: #FFB7B7\">Ġi</span> <span style=\"background-color: #FFDBDB\">Ġhate</span> <span style=\"background-color: #FFD1D1\">Ġjew</span> <span style=\"background-color: #FFE6E6\">s</span> <span style=\"background-color: #FFE0E0\">Ġlike</span> <span style=\"background-color: #FFE9E9\">Ġyou</span> <span style=\"background-color: #FFDEDE\">Ġfuck</span> <span style=\"background-color: #FFEEEE\">Ġyou</span> <span style=\"background-color: #FFE6E6\">Ġand</span> <span style=\"background-color: #FFEFEF\">Ġyour</span> <span style=\"background-color: #FFEEEE\">Ġwhole</span> <span style=\"background-color: #FFE1E1\">Ġfucking</span> <span style=\"background-color: #FFE6E6\">Ġfamily</span> <span style=\"background-color: #FFDDDD\">Ġyou</span> <span style=\"background-color: #FFDCDC\">Ġfucking</span> <span style=\"background-color: #FFE1E1\">Ġsand</span> <span style=\"background-color: #FFE8E8\">Ġn</span> <span style=\"background-color: #FFE0E0\">igger</span> <span style=\"background-color: #FFDBDB\">Ġlover</span> <span style=\"background-color: #FF-179-179\"></s></span>"
      ],
      "text/plain": [
       "<IPython.core.display.HTML object>"
      ]
     },
     "metadata": {},
     "output_type": "display_data"
    },
    {
     "data": {
      "text/plain": [
       "'FUCK YOU, YOU GAY ASS LIBERAL!!!\\nhey asshole why dont you get your face out of the fucking child molestes homepage and go fuck your self you gay ass liberal mother fucker i hate jews like you fuck you and your whole fucking family you fucking sand nigger lover'"
      ]
     },
     "metadata": {},
     "output_type": "display_data"
    },
    {
     "name": "stdout",
     "output_type": "stream",
     "text": [
      "Offensive Score is 1.429794117808342\n"
     ]
    },
    {
     "data": {
      "text/html": [
       "<span style=\"background-color: #FF-2E4-2E4\"><s></span> <span style=\"background-color: #FF9191\">ĠFUCK</span> <span style=\"background-color: #FFADAD\">ĠYOU</span> <span style=\"background-color: #FFA4A4\">ĠYOU</span> <span style=\"background-color: #FF9090\">ĠASS</span> <span style=\"background-color: #FFACAC\">ĠHO</span> <span style=\"background-color: #FFA1A1\">LE</span> <span style=\"background-color: #FF9494\">!</span> <span style=\"background-color: #FFA7A7\">ĠFUCK</span> <span style=\"background-color: #FFC0C0\">ĠYOU</span> <span style=\"background-color: #FFAAAA\">!!!!!!!!</span> <span style=\"background-color: #FFBCBC\">!!!!!!!!</span> <span style=\"background-color: #FFBEBE\">!!!!!!!!</span> <span style=\"background-color: #FFB9B9\">!!!!!!!!</span> <span style=\"background-color: #FFE2E2\">1111</span> <span style=\"background-color: #FF-29F-29F\"></s></span>"
      ],
      "text/plain": [
       "<IPython.core.display.HTML object>"
      ]
     },
     "metadata": {},
     "output_type": "display_data"
    },
    {
     "data": {
      "text/plain": [
       "' FUCK YOU YOU ASS HOLE! FUCK YOU!!!!!!!!!!!!!!!!!!!!!!!!!!!!!!!!1111'"
      ]
     },
     "metadata": {},
     "output_type": "display_data"
    },
    {
     "name": "stdout",
     "output_type": "stream",
     "text": [
      "Offensive Score is 1.428746186196804\n"
     ]
    },
    {
     "data": {
      "text/html": [
       "<span style=\"background-color: #FF-21E-21E\"><s></span> <span style=\"background-color: #FFA3A3\">ĠFUCK</span> <span style=\"background-color: #FFCCCC\">ĠYOU</span> <span style=\"background-color: #FFCECE\">ĠYOU</span> <span style=\"background-color: #FFC1C1\">ĠRED</span> <span style=\"background-color: #FFD2D2\">ĠSC</span> <span style=\"background-color: #FFD6D6\">UM</span> <span style=\"background-color: #FFD6D6\">BA</span> <span style=\"background-color: #FFD4D4\">G</span> <span style=\"background-color: #FF8484\">Ġ</span> <span style=\"background-color: #FFE0E0\">Ċ</span> <span style=\"background-color: #FFD8D8\">Ċ</span> <span style=\"background-color: #FFADAD\">F</span> <span style=\"background-color: #FFBBBB\">UCK</span> <span style=\"background-color: #FFD5D5\">ĠYOU</span> <span style=\"background-color: #FFCFCF\">ĠYOU</span> <span style=\"background-color: #FFC7C7\">ĠRED</span> <span style=\"background-color: #FFDADA\">ĠSC</span> <span style=\"background-color: #FFDEDE\">UM</span> <span style=\"background-color: #FFE2E2\">BA</span> <span style=\"background-color: #FFD9D9\">G</span> <span style=\"background-color: #FFB6B6\">-</span> <span style=\"background-color: #FFC4C4\">W</span> <span style=\"background-color: #FFC1C1\">IK</span> <span style=\"background-color: #FFDDDD\">IP</span> <span style=\"background-color: #FFE0E0\">ED</span> <span style=\"background-color: #FFCDCD\">IA</span> <span style=\"background-color: #FFBFBF\">ĠS</span> <span style=\"background-color: #FFC5C5\">UCK</span> <span style=\"background-color: #FFC6C6\">S</span> <span style=\"background-color: #FF-1E3-1E3\"></s></span>"
      ],
      "text/plain": [
       "<IPython.core.display.HTML object>"
      ]
     },
     "metadata": {},
     "output_type": "display_data"
    },
    {
     "data": {
      "text/plain": [
       "' FUCK YOU YOU RED SCUMBAG \\n\\nFUCK YOU YOU RED SCUMBAG-WIKIPEDIA SUCKS'"
      ]
     },
     "metadata": {},
     "output_type": "display_data"
    },
    {
     "name": "stdout",
     "output_type": "stream",
     "text": [
      "Offensive Score is 1.4239898771047592\n"
     ]
    },
    {
     "data": {
      "text/html": [
       "<span style=\"background-color: #FF-2C7-2C7\"><s></span> <span style=\"background-color: #FF6363\">ĠFUCK</span> <span style=\"background-color: #FF8484\">ĠYOUR</span> <span style=\"background-color: #FF8B8B\">ĠM</span> <span style=\"background-color: #FF8484\">OTHER</span> <span style=\"background-color: #FF4444\">Ġ</span> <span style=\"background-color: #FFCDCD\">Ċ</span> <span style=\"background-color: #FFC1C1\">Ċ</span> <span style=\"background-color: #FF7272\">F</span> <span style=\"background-color: #FF8585\">UCK</span> <span style=\"background-color: #FF8F8F\">ĠOFF</span> <span style=\"background-color: #FF-28A-28A\"></s></span>"
      ],
      "text/plain": [
       "<IPython.core.display.HTML object>"
      ]
     },
     "metadata": {},
     "output_type": "display_data"
    },
    {
     "data": {
      "text/plain": [
       "' FUCK YOUR MOTHER \\n\\nFUCK OFF'"
      ]
     },
     "metadata": {},
     "output_type": "display_data"
    },
    {
     "name": "stdout",
     "output_type": "stream",
     "text": [
      "Offensive Score is 1.4202548265457153\n"
     ]
    },
    {
     "data": {
      "text/html": [
       "<span style=\"background-color: #FF-190-190\"><s></span> <span style=\"background-color: #FFDEDE\">ĠFUCK</span> <span style=\"background-color: #FFEBEB\">ĠB</span> <span style=\"background-color: #FFEBEB\">ILL</span> <span style=\"background-color: #FFF0F0\">C</span> <span style=\"background-color: #FFEFEF\">J</span> <span style=\"background-color: #FFD8D8\">ĠAND</span> <span style=\"background-color: #FFE8E8\">ĠKILL</span> <span style=\"background-color: #FFF2F2\">ĠB</span> <span style=\"background-color: #FFF1F1\">ILL</span> <span style=\"background-color: #FFF4F4\">C</span> <span style=\"background-color: #FFF2F2\">J</span> <span style=\"background-color: #FFE7E7\">ĠB</span> <span style=\"background-color: #FFEDED\">ECA</span> <span style=\"background-color: #FFE8E8\">USE</span> <span style=\"background-color: #FFE7E7\">ĠI</span> <span style=\"background-color: #FFEEEE\">ĠH</span> <span style=\"background-color: #FFEBEB\">ATE</span> <span style=\"background-color: #FFEBEB\">ĠHIS</span> <span style=\"background-color: #FFEFEF\">ĠBIG</span> <span style=\"background-color: #FFEAEA\">ĠFAT</span> <span style=\"background-color: #FFE5E5\">ĠFUCK</span> <span style=\"background-color: #FFC2C2\">Ġ</span> <span style=\"background-color: #FFF0F0\">Ċ</span> <span style=\"background-color: #FFE7E7\">Ċ</span> <span style=\"background-color: #FFE6E6\">K</span> <span style=\"background-color: #FFE8E8\">ILL</span> <span style=\"background-color: #FFF2F2\">ĠB</span> <span style=\"background-color: #FFF0F0\">ILL</span> <span style=\"background-color: #FFF4F4\">C</span> <span style=\"background-color: #FFF5F5\">J</span> <span style=\"background-color: #FFE2E2\">!!</span> <span style=\"background-color: #FFECEC\">ĠKILL</span> <span style=\"background-color: #FFF6F6\">ĠB</span> <span style=\"background-color: #FFF3F3\">ILL</span> <span style=\"background-color: #FFF7F7\">C</span> <span style=\"background-color: #FFF7F7\">J</span> <span style=\"background-color: #FFEEEE\">!</span> <span style=\"background-color: #FFF2F2\">ĠKILL</span> <span style=\"background-color: #FFF6F6\">ĠB</span> <span style=\"background-color: #FFF4F4\">ILL</span> <span style=\"background-color: #FFF7F7\">C</span> <span style=\"background-color: #FFF1F1\">JS</span> <span style=\"background-color: #FFE8E8\">ĠASS</span> <span style=\"background-color: #FFEEEE\">!</span> <span style=\"background-color: #FFF2F2\">ĠKILL</span> <span style=\"background-color: #FFF1F1\">ĠHIS</span> <span style=\"background-color: #FFF2F2\">ĠBIG</span> <span style=\"background-color: #FFEBEB\">ĠFAT</span> <span style=\"background-color: #FFEBEB\">ĠFUCK</span> <span style=\"background-color: #FFE7E7\">!!</span> <span style=\"background-color: #FFF3F3\">ĠKILL</span> <span style=\"background-color: #FFF1F1\">ĠHIS</span> <span style=\"background-color: #FFE9E9\">ĠASS</span> <span style=\"background-color: #FFEDED\">!</span> <span style=\"background-color: #FFEFEF\">ĠKILL</span> <span style=\"background-color: #FFF4F4\">ĠB</span> <span style=\"background-color: #FFF0F0\">ILL</span> <span style=\"background-color: #FFF5F5\">C</span> <span style=\"background-color: #FFF6F6\">J</span> <span style=\"background-color: #FFECEC\">!</span> <span style=\"background-color: #FFE8E8\">ĠFUCK</span> <span style=\"background-color: #FFF4F4\">ĠB</span> <span style=\"background-color: #FFF1F1\">ILL</span> <span style=\"background-color: #FFF5F5\">C</span> <span style=\"background-color: #FFF6F6\">J</span> <span style=\"background-color: #FFEDED\">!</span> <span style=\"background-color: #FFF2F2\">ĠKILL</span> <span style=\"background-color: #FFF2F2\">ĠHIS</span> <span style=\"background-color: #FFEBEB\">ĠASS</span> <span style=\"background-color: #FFEDED\">!</span> <span style=\"background-color: #FFEEEE\">ĠKILL</span> <span style=\"background-color: #FFF5F5\">ĠB</span> <span style=\"background-color: #FFF1F1\">ILL</span> <span style=\"background-color: #FFF6F6\">C</span> <span style=\"background-color: #FFF6F6\">J</span> <span style=\"background-color: #FFE6E6\">!!!</span> <span style=\"background-color: #FFEEEE\">ĠKILL</span> <span style=\"background-color: #FFF4F4\">ĠB</span> <span style=\"background-color: #FFF1F1\">ILL</span> <span style=\"background-color: #FFF5F5\">C</span> <span style=\"background-color: #FFF5F5\">J</span> <span style=\"background-color: #FFDEDE\">!!</span> <span style=\"background-color: #FFE0E0\">ĠI</span> <span style=\"background-color: #FFEBEB\">ĠH</span> <span style=\"background-color: #FFEBEB\">ATE</span> <span style=\"background-color: #FFE9E9\">ĠHIM</span> <span style=\"background-color: #FFE4E4\">!</span> <span style=\"background-color: #FFE8E8\">ĠKILL</span> <span style=\"background-color: #FFF3F3\">ĠB</span> <span style=\"background-color: #FFF0F0\">ILL</span> <span style=\"background-color: #FFF4F4\">C</span> <span style=\"background-color: #FFF5F5\">J</span> <span style=\"background-color: #FFE3E3\">ĠAND</span> <span style=\"background-color: #FFEEEE\">ĠAV</span> <span style=\"background-color: #FFF4F4\">EN</span> <span style=\"background-color: #FFEAEA\">GE</span> <span style=\"background-color: #FFE9E9\">ĠT</span> <span style=\"background-color: #FFE5E5\">OUGH</span> <span style=\"background-color: #FFE2E2\">HEAD</span> <span style=\"background-color: #FFE0E0\">!!!</span> <span style=\"background-color: #FFF0F0\">ĠKILL</span> <span style=\"background-color: #FFF0F0\">ĠHIS</span> <span style=\"background-color: #FFE9E9\">ĠASS</span> <span style=\"background-color: #FFDBDB\">!!!</span> <span style=\"background-color: #FF-154-154\"></s></span>"
      ],
      "text/plain": [
       "<IPython.core.display.HTML object>"
      ]
     },
     "metadata": {},
     "output_type": "display_data"
    },
    {
     "data": {
      "text/plain": [
       "' FUCK BILLCJ AND KILL BILLCJ BECAUSE I HATE HIS BIG FAT FUCK \\n\\nKILL BILLCJ!! KILL BILLCJ! KILL BILLCJS ASS! KILL HIS BIG FAT FUCK!! KILL HIS ASS! KILL BILLCJ! FUCK BILLCJ! KILL HIS ASS! KILL BILLCJ!!! KILL BILLCJ!! I HATE HIM! KILL BILLCJ AND AVENGE TOUGHHEAD!!! KILL HIS ASS!!!'"
      ]
     },
     "metadata": {},
     "output_type": "display_data"
    },
    {
     "name": "stdout",
     "output_type": "stream",
     "text": [
      "Offensive Score is 1.4180269241333008\n"
     ]
    },
    {
     "data": {
      "text/html": [
       "<span style=\"background-color: #FF-F3-F3\"><s></span> <span style=\"background-color: #FFEEEE\">YOU</span> <span style=\"background-color: #FFF0F0\">ĠARE</span> <span style=\"background-color: #FFEFEF\">ĠA</span> <span style=\"background-color: #FFF6F6\">ĠM</span> <span style=\"background-color: #FFF5F5\">OTH</span> <span style=\"background-color: #FFF1F1\">J</span> <span style=\"background-color: #FFF6F6\">ER</span> <span style=\"background-color: #FFF2F2\">ĠFUCK</span> <span style=\"background-color: #FFF7F7\">ER</span> <span style=\"background-color: #FFF6F6\">ĠC</span> <span style=\"background-color: #FFF7F7\">OCK</span> <span style=\"background-color: #FFF8F8\">S</span> <span style=\"background-color: #FFF7F7\">UCK</span> <span style=\"background-color: #FFF8F8\">ER</span> <span style=\"background-color: #FFEEEE\">!</span> <span style=\"background-color: #FFF5F5\">ĠYOU</span> <span style=\"background-color: #FFF5F5\">ĠARE</span> <span style=\"background-color: #FFF1F1\">ĠA</span> <span style=\"background-color: #FFF9F9\">ĠM</span> <span style=\"background-color: #FFF9F9\">OTH</span> <span style=\"background-color: #FFF4F4\">J</span> <span style=\"background-color: #FFF7F7\">ER</span> <span style=\"background-color: #FFF4F4\">ĠFUCK</span> <span style=\"background-color: #FFF8F8\">ER</span> <span style=\"background-color: #FFF8F8\">ĠC</span> <span style=\"background-color: #FFF8F8\">OCK</span> <span style=\"background-color: #FFF9F9\">S</span> <span style=\"background-color: #FFF9F9\">UCK</span> <span style=\"background-color: #FFF9F9\">ER</span> <span style=\"background-color: #FFF0F0\">!</span> <span style=\"background-color: #FFF5F5\">ĠYOU</span> <span style=\"background-color: #FFF5F5\">ĠARE</span> <span style=\"background-color: #FFF0F0\">ĠA</span> <span style=\"background-color: #FFF9F9\">ĠM</span> <span style=\"background-color: #FFF9F9\">OTH</span> <span style=\"background-color: #FFF4F4\">J</span> <span style=\"background-color: #FFF7F7\">ER</span> <span style=\"background-color: #FFF4F4\">ĠFUCK</span> <span style=\"background-color: #FFF8F8\">ER</span> <span style=\"background-color: #FFF8F8\">ĠC</span> <span style=\"background-color: #FFF8F8\">OCK</span> <span style=\"background-color: #FFF9F9\">S</span> <span style=\"background-color: #FFF9F9\">UCK</span> <span style=\"background-color: #FFF9F9\">ER</span> <span style=\"background-color: #FFF0F0\">!</span> <span style=\"background-color: #FFF5F5\">ĠYOU</span> <span style=\"background-color: #FFF5F5\">ĠARE</span> <span style=\"background-color: #FFF0F0\">ĠA</span> <span style=\"background-color: #FFF9F9\">ĠM</span> <span style=\"background-color: #FFF9F9\">OTH</span> <span style=\"background-color: #FFF5F5\">J</span> <span style=\"background-color: #FFF7F7\">ER</span> <span style=\"background-color: #FFF3F3\">ĠFUCK</span> <span style=\"background-color: #FFF8F8\">ER</span> <span style=\"background-color: #FFF8F8\">ĠC</span> <span style=\"background-color: #FFF8F8\">OCK</span> <span style=\"background-color: #FFF9F9\">S</span> <span style=\"background-color: #FFF9F9\">UCK</span> <span style=\"background-color: #FFF9F9\">ER</span> <span style=\"background-color: #FFEFEF\">!</span> <span style=\"background-color: #FFF4F4\">ĠYOU</span> <span style=\"background-color: #FFF5F5\">ĠARE</span> <span style=\"background-color: #FFF0F0\">ĠA</span> <span style=\"background-color: #FFF9F9\">ĠM</span> <span style=\"background-color: #FFF9F9\">OTH</span> <span style=\"background-color: #FFF4F4\">J</span> <span style=\"background-color: #FFF7F7\">ER</span> <span style=\"background-color: #FFF4F4\">ĠFUCK</span> <span style=\"background-color: #FFF8F8\">ER</span> <span style=\"background-color: #FFF8F8\">ĠC</span> <span style=\"background-color: #FFF9F9\">OCK</span> <span style=\"background-color: #FFF9F9\">S</span> <span style=\"background-color: #FFF9F9\">UCK</span> <span style=\"background-color: #FFF9F9\">ER</span> <span style=\"background-color: #FFF0F0\">!</span> <span style=\"background-color: #FFF5F5\">ĠYOU</span> <span style=\"background-color: #FFF5F5\">ĠARE</span> <span style=\"background-color: #FFF0F0\">ĠA</span> <span style=\"background-color: #FFF9F9\">ĠM</span> <span style=\"background-color: #FFF9F9\">OTH</span> <span style=\"background-color: #FFF5F5\">J</span> <span style=\"background-color: #FFF7F7\">ER</span> <span style=\"background-color: #FFF4F4\">ĠFUCK</span> <span style=\"background-color: #FFF8F8\">ER</span> <span style=\"background-color: #FFF8F8\">ĠC</span> <span style=\"background-color: #FFF8F8\">OCK</span> <span style=\"background-color: #FFF9F9\">S</span> <span style=\"background-color: #FFF9F9\">UCK</span> <span style=\"background-color: #FFF9F9\">ER</span> <span style=\"background-color: #FFF1F1\">!</span> <span style=\"background-color: #FFF5F5\">ĠYOU</span> <span style=\"background-color: #FFF5F5\">ĠARE</span> <span style=\"background-color: #FFF0F0\">ĠA</span> <span style=\"background-color: #FFF9F9\">ĠM</span> <span style=\"background-color: #FFF9F9\">OTH</span> <span style=\"background-color: #FFF4F4\">J</span> <span style=\"background-color: #FFF7F7\">ER</span> <span style=\"background-color: #FFF5F5\">ĠFUCK</span> <span style=\"background-color: #FFF9F9\">ER</span> <span style=\"background-color: #FFF8F8\">ĠC</span> <span style=\"background-color: #FFF9F9\">OCK</span> <span style=\"background-color: #FFF9F9\">S</span> <span style=\"background-color: #FFFAFA\">UCK</span> <span style=\"background-color: #FFF9F9\">ER</span> <span style=\"background-color: #FFF2F2\">!</span> <span style=\"background-color: #FFF5F5\">ĠYOU</span> <span style=\"background-color: #FFF5F5\">ĠARE</span> <span style=\"background-color: #FFF1F1\">ĠA</span> <span style=\"background-color: #FFF9F9\">ĠM</span> <span style=\"background-color: #FFF9F9\">OTH</span> <span style=\"background-color: #FFF6F6\">J</span> <span style=\"background-color: #FFF7F7\">ER</span> <span style=\"background-color: #FFF5F5\">ĠFUCK</span> <span style=\"background-color: #FFF9F9\">ER</span> <span style=\"background-color: #FFF8F8\">ĠC</span> <span style=\"background-color: #FFF9F9\">OCK</span> <span style=\"background-color: #FFF9F9\">S</span> <span style=\"background-color: #FFFAFA\">UCK</span> <span style=\"background-color: #FFF9F9\">ER</span> <span style=\"background-color: #FFF1F1\">!</span> <span style=\"background-color: #FFF5F5\">ĠYOU</span> <span style=\"background-color: #FFF5F5\">ĠARE</span> <span style=\"background-color: #FFF1F1\">ĠA</span> <span style=\"background-color: #FFF9F9\">ĠM</span> <span style=\"background-color: #FFFAFA\">OTH</span> <span style=\"background-color: #FFF6F6\">J</span> <span style=\"background-color: #FFF8F8\">ER</span> <span style=\"background-color: #FFF5F5\">ĠFUCK</span> <span style=\"background-color: #FFF9F9\">ER</span> <span style=\"background-color: #FFF9F9\">ĠC</span> <span style=\"background-color: #FFF9F9\">OCK</span> <span style=\"background-color: #FFFAFA\">S</span> <span style=\"background-color: #FFFAFA\">UCK</span> <span style=\"background-color: #FFFAFA\">ER</span> <span style=\"background-color: #FFF3F3\">!</span> <span style=\"background-color: #FFF6F6\">ĠYOU</span> <span style=\"background-color: #FFF5F5\">ĠARE</span> <span style=\"background-color: #FFF1F1\">ĠA</span> <span style=\"background-color: #FFF9F9\">ĠM</span> <span style=\"background-color: #FFF9F9\">OTH</span> <span style=\"background-color: #FFF6F6\">J</span> <span style=\"background-color: #FFF8F8\">ER</span> <span style=\"background-color: #FFF5F5\">ĠFUCK</span> <span style=\"background-color: #FFF9F9\">ER</span> <span style=\"background-color: #FFF8F8\">ĠC</span> <span style=\"background-color: #FFF9F9\">OCK</span> <span style=\"background-color: #FFF9F9\">S</span> <span style=\"background-color: #FFFAFA\">UCK</span> <span style=\"background-color: #FFFAFA\">ER</span> <span style=\"background-color: #FFF2F2\">!</span> <span style=\"background-color: #FFF5F5\">ĠYOU</span> <span style=\"background-color: #FFF5F5\">ĠARE</span> <span style=\"background-color: #FFF0F0\">ĠA</span> <span style=\"background-color: #FFF9F9\">ĠM</span> <span style=\"background-color: #FFF9F9\">OTH</span> <span style=\"background-color: #FFF6F6\">J</span> <span style=\"background-color: #FFF7F7\">ER</span> <span style=\"background-color: #FFF4F4\">ĠFUCK</span> <span style=\"background-color: #FFF9F9\">ER</span> <span style=\"background-color: #FFF8F8\">ĠC</span> <span style=\"background-color: #FFF9F9\">OCK</span> <span style=\"background-color: #FFF9F9\">S</span> <span style=\"background-color: #FFFAFA\">UCK</span> <span style=\"background-color: #FFF9F9\">ER</span> <span style=\"background-color: #FFF2F2\">!</span> <span style=\"background-color: #FFF5F5\">ĠYOU</span> <span style=\"background-color: #FFF5F5\">ĠARE</span> <span style=\"background-color: #FFF0F0\">ĠA</span> <span style=\"background-color: #FFF9F9\">ĠM</span> <span style=\"background-color: #FFF9F9\">OTH</span> <span style=\"background-color: #FFF5F5\">J</span> <span style=\"background-color: #FFF7F7\">ER</span> <span style=\"background-color: #FFF4F4\">ĠFUCK</span> <span style=\"background-color: #FFF9F9\">ER</span> <span style=\"background-color: #FFF8F8\">ĠC</span> <span style=\"background-color: #FFF9F9\">OCK</span> <span style=\"background-color: #FFF9F9\">S</span> <span style=\"background-color: #FFFAFA\">UCK</span> <span style=\"background-color: #FFF9F9\">ER</span> <span style=\"background-color: #FFF1F1\">!</span> <span style=\"background-color: #FFF5F5\">ĠYOU</span> <span style=\"background-color: #FFF5F5\">ĠARE</span> <span style=\"background-color: #FFEFEF\">ĠA</span> <span style=\"background-color: #FFF9F9\">ĠM</span> <span style=\"background-color: #FFF9F9\">OTH</span> <span style=\"background-color: #FFF5F5\">J</span> <span style=\"background-color: #FFF7F7\">ER</span> <span style=\"background-color: #FFF4F4\">ĠFUCK</span> <span style=\"background-color: #FFF9F9\">ER</span> <span style=\"background-color: #FFF8F8\">ĠC</span> <span style=\"background-color: #FFF9F9\">OCK</span> <span style=\"background-color: #FFF9F9\">S</span> <span style=\"background-color: #FFFAFA\">UCK</span> <span style=\"background-color: #FFFAFA\">ER</span> <span style=\"background-color: #FFF1F1\">!</span> <span style=\"background-color: #FFF5F5\">ĠYOU</span> <span style=\"background-color: #FFF5F5\">ĠARE</span> <span style=\"background-color: #FFF0F0\">ĠA</span> <span style=\"background-color: #FFF9F9\">ĠM</span> <span style=\"background-color: #FFF9F9\">OTH</span> <span style=\"background-color: #FFF5F5\">J</span> <span style=\"background-color: #FFF7F7\">ER</span> <span style=\"background-color: #FFF5F5\">ĠFUCK</span> <span style=\"background-color: #FFF9F9\">ER</span> <span style=\"background-color: #FFF9F9\">ĠC</span> <span style=\"background-color: #FFF9F9\">OCK</span> <span style=\"background-color: #FFF9F9\">S</span> <span style=\"background-color: #FFFAFA\">UCK</span> <span style=\"background-color: #FFFAFA\">ER</span> <span style=\"background-color: #FFF1F1\">!</span> <span style=\"background-color: #FFF5F5\">ĠYOU</span> <span style=\"background-color: #FFF5F5\">ĠARE</span> <span style=\"background-color: #FFF0F0\">ĠA</span> <span style=\"background-color: #FFF9F9\">ĠM</span> <span style=\"background-color: #FFF9F9\">OTH</span> <span style=\"background-color: #FFF6F6\">J</span> <span style=\"background-color: #FFF8F8\">ER</span> <span style=\"background-color: #FFF5F5\">ĠFUCK</span> <span style=\"background-color: #FFF9F9\">ER</span> <span style=\"background-color: #FFF8F8\">ĠC</span> <span style=\"background-color: #FFF9F9\">OCK</span> <span style=\"background-color: #FFF9F9\">S</span> <span style=\"background-color: #FFFAFA\">UCK</span> <span style=\"background-color: #FFFAFA\">ER</span> <span style=\"background-color: #FFF0F0\">!</span> <span style=\"background-color: #FFF5F5\">ĠYOU</span> <span style=\"background-color: #FFF5F5\">ĠARE</span> <span style=\"background-color: #FFF0F0\">ĠA</span> <span style=\"background-color: #FFF9F9\">ĠM</span> <span style=\"background-color: #FFF9F9\">OTH</span> <span style=\"background-color: #FFF6F6\">J</span> <span style=\"background-color: #FFF7F7\">ER</span> <span style=\"background-color: #FFF5F5\">ĠFUCK</span> <span style=\"background-color: #FFF8F8\">ER</span> <span style=\"background-color: #FFF8F8\">ĠC</span> <span style=\"background-color: #FFF9F9\">OCK</span> <span style=\"background-color: #FFF8F8\">S</span> <span style=\"background-color: #FFFAFA\">UCK</span> <span style=\"background-color: #FFF9F9\">ER</span> <span style=\"background-color: #FFEEEE\">!</span> <span style=\"background-color: #FFF2F2\">ĠYOU</span> <span style=\"background-color: #FFF1F1\">ĠARE</span> <span style=\"background-color: #FFECEC\">ĠA</span> <span style=\"background-color: #FFF8F8\">ĠM</span> <span style=\"background-color: #FFF8F8\">OTH</span> <span style=\"background-color: #FFF4F4\">J</span> <span style=\"background-color: #FFF6F6\">ER</span> <span style=\"background-color: #FFF2F2\">ĠFUCK</span> <span style=\"background-color: #FFF6F6\">ER</span> <span style=\"background-color: #FFF6F6\">ĠC</span> <span style=\"background-color: #FFF7F7\">OCK</span> <span style=\"background-color: #FFF7F7\">S</span> <span style=\"background-color: #FFF8F8\">UCK</span> <span style=\"background-color: #FFF7F7\">ER</span> <span style=\"background-color: #FF-E8-E8\">!</span>"
      ],
      "text/plain": [
       "<IPython.core.display.HTML object>"
      ]
     },
     "metadata": {},
     "output_type": "display_data"
    },
    {
     "data": {
      "text/plain": [
       "'YOU ARE A MOTHJER FUCKER COCKSUCKER! YOU ARE A MOTHJER FUCKER COCKSUCKER! YOU ARE A MOTHJER FUCKER COCKSUCKER! YOU ARE A MOTHJER FUCKER COCKSUCKER! YOU ARE A MOTHJER FUCKER COCKSUCKER! YOU ARE A MOTHJER FUCKER COCKSUCKER! YOU ARE A MOTHJER FUCKER COCKSUCKER! YOU ARE A MOTHJER FUCKER COCKSUCKER! YOU ARE A MOTHJER FUCKER COCKSUCKER! YOU ARE A MOTHJER FUCKER COCKSUCKER! YOU ARE A MOTHJER FUCKER COCKSUCKER! YOU ARE A MOTHJER FUCKER COCKSUCKER! YOU ARE A MOTHJER FUCKER COCKSUCKER! YOU ARE A MOTHJER FUCKER COCKSUCKER! YOU ARE A MOTHJER FUCKER COCKSUCKER! YOU ARE A MOTHJER FUCKER COCKSUCKER! YOU ARE A MOTHJER FUCKER COCKSUCKER! YOU ARE A MOTHJER FUCKER COCKSUCKER! YOU ARE A MOTHJER FUCKER COCKSUCKER! YOU ARE A MOTHJER FUCKER COCKSUCKER! YOU ARE A MOTHJER FUCKER COCKSUCKER! YOU ARE A MOTHJER FUCKER COCKSUCKER! YOU ARE A MOTHJER FUCKER COCKSUCKER! YOU ARE A MOTHJER FUCKER COCKSUCKER! YOU ARE A MOTHJER FUCKER COCKSUCKER! YOU ARE A MOTHJER FUCKER COCKSUCKER! YOU ARE A MOTHJER FUCKER COCKSUCKER! YOU ARE A MOTHJER FUCKER COCKSUCKER! YOU ARE A MOTHJER FUCKER COCKSUCKER! YOU ARE A MOTHJER FUCKER COCKSUCKER! YOU ARE A MOTHJER FUCKER COCKSUCKER! YOU ARE A MOTHJER FUCKER COCKSUCKER! YOU ARE A MOTHJER FUCKER COCKSUCKER! YOU ARE A MOTHJER FUCKER COCKSUCKER! YOU ARE A MOTHJER FUCKER COCKSUCKER! YOU ARE A MOTHJER FUCKER COCKSUCKER! YOU ARE A MOTHJER FUCKER COCKSUCKER! YOU ARE A MOTHJER FUCKER COCKSUCKER! YOU ARE A MOTHJER FUCKER COCKSUCKER! YOU ARE A MOTHJER FUCKER COCKSUCKER! YOU ARE A MOTHJER FUCKER COCKSUCKER! YOU ARE A MOTHJER FUCKER COCKSUCKER! YOU ARE A MOTHJER FUCKER COCKSUCKER! YOU ARE A MOTHJER FUCKER COCKSUCKER! YOU ARE A MOTHJER FUCKER COCKSUCKER! YOU ARE A MOTHJER FUCKER COCKSUCKER! YOU ARE A MOTHJER FUCKER COCKSUCKER! YOU ARE A MOTHJER FUCKER COCKSUCKER! YOU ARE A MOTHJER FUCKER COCKSUCKER! YOU ARE A MOTHJER FUCKER COCKSUCKER! YOU ARE A MOTHJER FUCKER COCKSUCKER! YOU ARE A MOTHJER FUCKER COCKSUCKER! YOU ARE A MOTHJER FUCKER COCKSUCKER! YOU ARE A MOTHJER FUCKER COCKSUCKER! YOU ARE A MOTHJER FUCKER COCKSUCKER! YOU ARE A MOTHJER FUCKER COCKSUCKER! YOU ARE A MOTHJER FUCKER COCKSUCKER! YOU ARE A MOTHJER FUCKER COCKSUCKER! YOU ARE A MOTHJER FUCKER COCKSUCKER! YOU ARE A MOTHJER FUCKER COCKSUCKER! YOU ARE A MOTHJER FUCKER COCKSUCKER! YOU ARE A MOTHJER FUCKER COCKSUCKER! YOU ARE A MOTHJER FUCKER COCKSUCKER! YOU ARE A MOTHJER FUCKER COCKSUCKER! YOU ARE A MOTHJER FUCKER COCKSUCKER! YOU ARE A MOTHJER FUCKER COCKSUCKER! YOU ARE A MOTHJER FUCKER COCKSUCKER! YOU ARE A MOTHJER FUCKER COCKSUCKER! YOU ARE A MOTHJER FUCKER COCKSUCKER! YOU ARE A MOTHJER FUCKER COCKSUCKER! YOU ARE A MOTHJER FUCKER COCKSUCKER! YOU ARE A MOTHJER FUCKER COCKSUCKER! YOU ARE A MOTHJER FUCKER COCKSUCKER! YOU ARE A MOTHJER FUCKER COCKSUCKER! YOU ARE A MOTHJER FUCKER COCKSUCKER! YOU ARE A MOTHJER FUCKER COCKSUCKER! YOU ARE A MOTHJER FUCKER COCKSUCKER! YOU ARE A MOTHJER FUCKER COCKSUCKER!'"
      ]
     },
     "metadata": {},
     "output_type": "display_data"
    }
   ],
   "source": [
    "high_score_list = text_df.sort_values(\"target\", ascending=False).head(20).index.tolist()\n",
    "\n",
    "for num in high_score_list:\n",
    "    \n",
    "    ids = config.tokenizer(text_df.loc[num, \"text\"])[\"input_ids\"]\n",
    "    tokens = config.tokenizer.convert_ids_to_tokens(ids)\n",
    "    attention = attention_array[num, :][np.nonzero(mask_array[num, :])]\n",
    "\n",
    "    html_outputs = []\n",
    "\n",
    "    for word, attn in zip(tokens, attention):\n",
    "        html_outputs.append(highlight_r(word, attn))\n",
    "\n",
    "    print(f\"Offensive Score is {PRED[num]}\")\n",
    "    display(HTML(' '.join(html_outputs)))\n",
    "    display(text_df.loc[num, \"text\"])\n",
    "\n"
   ]
  },
  {
   "cell_type": "code",
   "execution_count": null,
   "id": "3689a440",
   "metadata": {},
   "outputs": [],
   "source": []
  }
 ],
 "metadata": {
  "kernelspec": {
   "display_name": "Python 3 (ipykernel)",
   "language": "python",
   "name": "python3"
  },
  "language_info": {
   "codemirror_mode": {
    "name": "ipython",
    "version": 3
   },
   "file_extension": ".py",
   "mimetype": "text/x-python",
   "name": "python",
   "nbconvert_exporter": "python",
   "pygments_lexer": "ipython3",
   "version": "3.7.10"
  }
 },
 "nbformat": 4,
 "nbformat_minor": 5
}
