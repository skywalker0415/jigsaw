{
 "cells": [
  {
   "cell_type": "markdown",
   "id": "708eda43",
   "metadata": {},
   "source": [
    "![](https://images.unsplash.com/photo-1602084551218-a28205125639?ixlib=rb-1.2.1&ixid=MnwxMjA3fDB8MHxwaG90by1wYWdlfHx8fGVufDB8fHx8&auto=format&fit=crop&w=2070&q=80)"
   ]
  },
  {
   "cell_type": "markdown",
   "id": "4224d24a",
   "metadata": {},
   "source": [
    "<div class = 'alert alert-block alert-info'\n",
    "     style = 'background-color:#4c1c84;\n",
    "              color:#eeebf1;\n",
    "              border-width:5px;\n",
    "              border-color:#4c1c84;\n",
    "              font-family:Comic Sans MS;\n",
    "              border-radius: 50px 50px'>\n",
    "    <p style = 'font-size:24px'>Exp 031</p>\n",
    "    <a href = \"#Config\"\n",
    "       style = \"color:#eeebf1;\n",
    "                font-size:14px\">1.Config</a><br>\n",
    "    <a href = \"#Settings\"\n",
    "       style = \"color:#eeebf1;\n",
    "                font-size:14px\">2.Settings</a><br>\n",
    "    <a href = \"#Data-Load\"\n",
    "       style = \"color:#eeebf1;\n",
    "                font-size:14px\">3.Data Load</a><br>\n",
    "    <a href = \"#Pytorch-Settings\"\n",
    "       style = \"color:#eeebf1;\n",
    "                font-size:14px\">4.Pytorch Settings</a><br>\n",
    "    <a href = \"#Training\"\n",
    "       style = \"color:#eeebf1;\n",
    "                font-size:14px\">5.Training</a><br>\n",
    "</div>\n",
    "\n",
    "<p style = 'font-size:24px;\n",
    "            color:#4c1c84'>\n",
    "    実施したこと\n",
    "</p>\n",
    "    <li style = \"color:#4c1c84;\n",
    "                font-size:14px\">使用データ:Ruddit</li>\n",
    "    <li style = \"color:#4c1c84;\n",
    "                font-size:14px\">使用モデル:unitary/toxic-bert</li>\n",
    "    <li style = \"color:#4c1c84;\n",
    "                font-size:14px\">Attentionの可視化</li>"
   ]
  },
  {
   "cell_type": "markdown",
   "id": "97e9edbf",
   "metadata": {},
   "source": [
    "<br>\n",
    "<h1 style = \"font-size:45px; font-family:Comic Sans MS ; font-weight : normal; background-color: #4c1c84 ; color : #eeebf1; text-align: center; border-radius: 100px 100px;\">\n",
    "    Config\n",
    "</h1>\n",
    "<br>"
   ]
  },
  {
   "cell_type": "code",
   "execution_count": 1,
   "id": "4f3265d1",
   "metadata": {},
   "outputs": [],
   "source": [
    "import sys\n",
    "sys.path.append(\"../src/utils/iterative-stratification/\")\n",
    "sys.path.append(\"../src/utils/detoxify\")\n",
    "sys.path.append(\"../src/utils/coral-pytorch/\")"
   ]
  },
  {
   "cell_type": "code",
   "execution_count": 3,
   "id": "0434cabc",
   "metadata": {},
   "outputs": [],
   "source": [
    "import warnings\n",
    "warnings.simplefilter('ignore')\n",
    "\n",
    "import os\n",
    "import gc\n",
    "gc.enable()\n",
    "import sys\n",
    "import glob\n",
    "import copy\n",
    "import math\n",
    "import time\n",
    "import random\n",
    "import string\n",
    "import psutil\n",
    "import pathlib\n",
    "from pathlib import Path\n",
    "from contextlib import contextmanager\n",
    "from collections import defaultdict\n",
    "from box import Box\n",
    "from typing import Optional\n",
    "from pprint import pprint\n",
    "\n",
    "import numpy as np\n",
    "import pandas as pd\n",
    "import matplotlib.pyplot as plt\n",
    "import seaborn as sns\n",
    "import japanize_matplotlib\n",
    "\n",
    "from tqdm.auto import tqdm as tqdmp\n",
    "from tqdm.autonotebook import tqdm as tqdm\n",
    "tqdmp.pandas()\n",
    "\n",
    "## Model\n",
    "from sklearn.metrics import mean_squared_error\n",
    "from sklearn.model_selection import StratifiedKFold, KFold\n",
    "import torch\n",
    "import torch.nn as nn\n",
    "import torch.nn.functional as F\n",
    "from torch.utils.data import Dataset, DataLoader\n",
    "from transformers import AutoTokenizer, AutoModel, AdamW, AutoModelForSequenceClassification\n",
    "from transformers import RobertaModel, RobertaForSequenceClassification\n",
    "from transformers import RobertaTokenizer\n",
    "from transformers import LukeTokenizer, LukeModel, LukeConfig\n",
    "from transformers import get_linear_schedule_with_warmup, get_cosine_schedule_with_warmup\n",
    "from transformers import BertTokenizer, BertForSequenceClassification\n",
    "from transformers import RobertaTokenizer, RobertaForSequenceClassification\n",
    "from transformers import XLMRobertaTokenizer, XLMRobertaForSequenceClassification\n",
    "from transformers import DebertaTokenizer, DebertaModel\n",
    "\n",
    "# Pytorch Lightning\n",
    "import pytorch_lightning as pl\n",
    "from pytorch_lightning.utilities.seed import seed_everything\n",
    "from pytorch_lightning import callbacks\n",
    "from pytorch_lightning.callbacks.progress import ProgressBarBase\n",
    "from pytorch_lightning import LightningDataModule, LightningDataModule\n",
    "from pytorch_lightning import Trainer\n",
    "from pytorch_lightning.callbacks import ModelCheckpoint, EarlyStopping, LearningRateMonitor\n",
    "from pytorch_lightning.loggers import WandbLogger\n",
    "from pytorch_lightning.loggers.csv_logs import CSVLogger\n",
    "from pytorch_lightning.callbacks import RichProgressBar\n",
    "\n",
    "from sklearn.linear_model import Ridge\n",
    "from sklearn.svm import SVC, SVR\n",
    "from sklearn.feature_extraction.text import TfidfVectorizer\n",
    "from scipy.stats import rankdata\n",
    "from cuml.svm import SVR as cuml_SVR\n",
    "from cuml.linear_model import Ridge as cuml_Ridge\n",
    "import cudf\n",
    "from detoxify import Detoxify\n",
    "from iterstrat.ml_stratifiers import MultilabelStratifiedKFold\n",
    "\n",
    "from ast import literal_eval\n",
    "from nltk.tokenize import TweetTokenizer\n",
    "import spacy\n",
    "from scipy.stats import sem\n",
    "from copy import deepcopy\n"
   ]
  },
  {
   "cell_type": "code",
   "execution_count": 23,
   "id": "f32c75b0",
   "metadata": {},
   "outputs": [],
   "source": [
    "import torch\n",
    "\n",
    "config = {\n",
    "    \"exp_comment\":\"Rudditをdetoxifyで学習\",\n",
    "    \"seed\": 42,\n",
    "    \"root\": \"/content/drive/MyDrive/kaggle/Jigsaw/raw\",\n",
    "    \"n_fold\": 5,\n",
    "    \"epoch\": 5,\n",
    "    \"max_length\": 256,\n",
    "    \"environment\": \"AWS\",\n",
    "    \"project\": \"Jigsaw\",\n",
    "    \"entity\": \"dataskywalker\",\n",
    "    \"exp_name\": \"031_exp\",\n",
    "    \"margin\": 0.5,\n",
    "    \"train_fold\": [0, 1, 2, 3, 4],\n",
    "\n",
    "    \"trainer\": {\n",
    "        \"gpus\": 1,\n",
    "        \"accumulate_grad_batches\": 8,\n",
    "        \"progress_bar_refresh_rate\": 1,\n",
    "        \"fast_dev_run\": True,\n",
    "        \"num_sanity_val_steps\": 0,\n",
    "    },\n",
    "\n",
    "    \"train_loader\": {\n",
    "        \"batch_size\": 8,\n",
    "        \"shuffle\": True,\n",
    "        \"num_workers\": 1,\n",
    "        \"pin_memory\": True,\n",
    "        \"drop_last\": True,\n",
    "    },\n",
    "\n",
    "    \"valid_loader\": {\n",
    "        \"batch_size\": 8,\n",
    "        \"shuffle\": False,\n",
    "        \"num_workers\": 1,\n",
    "        \"pin_memory\": True,\n",
    "        \"drop_last\": False,\n",
    "    },\n",
    "\n",
    "    \"test_loader\": {\n",
    "        \"batch_size\": 8,\n",
    "        \"shuffle\": False,\n",
    "        \"num_workers\": 1,\n",
    "        \"pin_memory\": True,\n",
    "        \"drop_last\": False,\n",
    "    },\n",
    "\n",
    "    \"backbone\": {\n",
    "        \"name\": \"unitary/toxic-bert\",\n",
    "        \"output_dim\": 1,\n",
    "    },\n",
    "\n",
    "    \"optimizer\": {\n",
    "        \"name\": \"torch.optim.AdamW\",\n",
    "        \"params\": {\n",
    "            \"lr\": 1e-6,\n",
    "        },\n",
    "    },\n",
    "\n",
    "    \"scheduler\": {\n",
    "        \"name\": \"torch.optim.lr_scheduler.CosineAnnealingWarmRestarts\",\n",
    "        \"params\": {\n",
    "            \"T_0\": 20,\n",
    "            \"eta_min\": 0,\n",
    "        },\n",
    "    },\n",
    "\n",
    "    \"loss\": \"nn.MSELoss\",\n",
    "}\n",
    "\n",
    "config = Box(config)\n",
    "config.tokenizer = AutoTokenizer.from_pretrained(config.backbone.name)\n",
    "config.model = AutoModelForSequenceClassification.from_pretrained(config.backbone.name)\n",
    "# pprint(config)"
   ]
  },
  {
   "cell_type": "code",
   "execution_count": 24,
   "id": "a4e00998",
   "metadata": {},
   "outputs": [],
   "source": [
    "config.tokenizer.save_pretrained(f\"../data/processed/{config.backbone.name}\")\n",
    "\n",
    "pretrain_model = AutoModelForSequenceClassification.from_pretrained(config.backbone.name)\n",
    "pretrain_model.save_pretrained(f\"../data/processed/{config.backbone.name}\")"
   ]
  },
  {
   "cell_type": "code",
   "execution_count": 25,
   "id": "c776d8ad",
   "metadata": {},
   "outputs": [
    {
     "name": "stdout",
     "output_type": "stream",
     "text": [
      "Your environment is 'AWS'.\n",
      "INPUT_DIR is /mnt/work/data/kaggle/Jigsaw\n",
      "MODEL_DIR is ../models/031_exp\n",
      "OUTPUT_DIR is ../data/interim/031_exp\n",
      "UTIL_DIR is /mnt/work/shimizu/kaggle/PetFinder/src/utils\n"
     ]
    }
   ],
   "source": [
    "# 個人的にAWSやKaggle環境やGoogle Colabを行ったり来たりしているのでまとめています\n",
    "import os\n",
    "import sys\n",
    "from pathlib import Path\n",
    "\n",
    "if config.environment == 'AWS':\n",
    "    \n",
    "    INPUT_DIR = Path('/mnt/work/data/kaggle/Jigsaw/')\n",
    "    MODEL_DIR = Path(f'../models/{config.exp_name}/')\n",
    "    OUTPUT_DIR = Path(f'../data/interim/{config.exp_name}/')\n",
    "    UTIL_DIR = Path('/mnt/work/shimizu/kaggle/PetFinder/src/utils')\n",
    "    \n",
    "    os.makedirs(MODEL_DIR, exist_ok=True)\n",
    "    os.makedirs(OUTPUT_DIR, exist_ok=True)\n",
    "    \n",
    "    print(f\"Your environment is 'AWS'.\\nINPUT_DIR is {INPUT_DIR}\\nMODEL_DIR is {MODEL_DIR}\\nOUTPUT_DIR is {OUTPUT_DIR}\\nUTIL_DIR is {UTIL_DIR}\")\n",
    "    \n",
    "    \n",
    "elif config.environment == 'Kaggle':\n",
    "    INPUT_DIR = Path('../input/*****')\n",
    "    MODEL_DIR = Path('./')\n",
    "    OUTPUT_DIR = Path('./')\n",
    "    print(f\"Your environment is 'Kaggle'.\\nINPUT_DIR is {INPUT_DIR}\\nMODEL_DIR is {MODEL_DIR}\\nOUTPUT_DIR is {OUTPUT_DIR}\")\n",
    "\n",
    "    \n",
    "elif config.environment == 'Colab':\n",
    "    INPUT_DIR = Path('/content/drive/MyDrive/kaggle/Jigsaw/raw')\n",
    "    BASE_DIR = Path(\"/content/drive/MyDrive/kaggle/Jigsaw/interim\")\n",
    "\n",
    "    MODEL_DIR = BASE_DIR / f'{config.exp_name}'\n",
    "    OUTPUT_DIR = BASE_DIR / f'{config.exp_name}/'\n",
    "\n",
    "    os.makedirs(MODEL_DIR, exist_ok=True)\n",
    "    os.makedirs(OUTPUT_DIR, exist_ok=True)\n",
    "    \n",
    "    if not os.path.exists(INPUT_DIR):\n",
    "        print('Please Mount your Google Drive.')\n",
    "    else:\n",
    "        print(f\"Your environment is 'Colab'.\\nINPUT_DIR is {INPUT_DIR}\\nMODEL_DIR is {MODEL_DIR}\\nOUTPUT_DIR is {OUTPUT_DIR}\")\n",
    "        \n",
    "else:\n",
    "    print(\"Please choose 'AWS' or 'Kaggle' or 'Colab'.\\nINPUT_DIR is not found.\")"
   ]
  },
  {
   "cell_type": "code",
   "execution_count": 26,
   "id": "1c960a62",
   "metadata": {},
   "outputs": [
    {
     "data": {
      "text/plain": [
       "42"
      ]
     },
     "execution_count": 26,
     "metadata": {},
     "output_type": "execute_result"
    }
   ],
   "source": [
    "# Seed固定\n",
    "seed_everything(config.seed)"
   ]
  },
  {
   "cell_type": "code",
   "execution_count": 27,
   "id": "e13e4fbf",
   "metadata": {},
   "outputs": [],
   "source": [
    "## 処理時間計測\n",
    "@contextmanager\n",
    "def timer(name:str, slack:bool=False):\n",
    "    t0 = time.time()\n",
    "    p = psutil.Process(os.getpid())\n",
    "    m0 = p.memory_info()[0] / 2. ** 30\n",
    "    print(f'<< {name} >> Start')\n",
    "    yield\n",
    "    \n",
    "    m1 = p.memory_info()[0] / 2. ** 30\n",
    "    delta = m1 - m0\n",
    "    sign = '+' if delta >= 0 else '-'\n",
    "    delta = math.fabs(delta)\n",
    "    \n",
    "    print(f\"<< {name} >> {m1:.1f}GB({sign}{delta:.1f}GB):{time.time() - t0:.1f}sec\", file=sys.stderr)"
   ]
  },
  {
   "cell_type": "markdown",
   "id": "3e2b3cc5",
   "metadata": {
    "id": "zWE2XhHeTFos"
   },
   "source": [
    "<br>\n",
    "<h1 style = \"font-size:45px; font-family:Comic Sans MS ; font-weight : normal; background-color: #4c1c84 ; color : #eeebf1; text-align: center; border-radius: 100px 100px;\">\n",
    "    Data Load\n",
    "</h1>\n",
    "<br>"
   ]
  },
  {
   "cell_type": "code",
   "execution_count": 28,
   "id": "1322f801",
   "metadata": {
    "colab": {
     "base_uri": "https://localhost:8080/"
    },
    "id": "3DFxNX0CTD9t",
    "outputId": "240b449b-9f09-4519-d155-b4f865053621"
   },
   "outputs": [
    {
     "name": "stdout",
     "output_type": "stream",
     "text": [
      "/mnt/work/data/kaggle/Jigsaw/comments_to_score.csv\n",
      "/mnt/work/data/kaggle/Jigsaw/sample_submission.csv\n",
      "/mnt/work/data/kaggle/Jigsaw/validation_data.csv\n"
     ]
    }
   ],
   "source": [
    "## Data Check\n",
    "for dirnames, _, filenames in os.walk(INPUT_DIR):\n",
    "    \n",
    "    for filename in filenames:\n",
    "\n",
    "        print(f'{dirnames}/{filename}')"
   ]
  },
  {
   "cell_type": "code",
   "execution_count": 29,
   "id": "307a7261",
   "metadata": {},
   "outputs": [
    {
     "data": {
      "text/html": [
       "<div>\n",
       "<style scoped>\n",
       "    .dataframe tbody tr th:only-of-type {\n",
       "        vertical-align: middle;\n",
       "    }\n",
       "\n",
       "    .dataframe tbody tr th {\n",
       "        vertical-align: top;\n",
       "    }\n",
       "\n",
       "    .dataframe thead th {\n",
       "        text-align: right;\n",
       "    }\n",
       "</style>\n",
       "<table border=\"1\" class=\"dataframe\">\n",
       "  <thead>\n",
       "    <tr style=\"text-align: right;\">\n",
       "      <th></th>\n",
       "      <th>worker</th>\n",
       "      <th>less_toxic</th>\n",
       "      <th>more_toxic</th>\n",
       "    </tr>\n",
       "  </thead>\n",
       "  <tbody>\n",
       "    <tr>\n",
       "      <th>0</th>\n",
       "      <td>313</td>\n",
       "      <td>This article sucks \\n\\nwoo woo wooooooo</td>\n",
       "      <td>WHAT!!!!!!!!?!?!!?!?!!?!?!?!?!!!!!!!!!!!!!!!!!...</td>\n",
       "    </tr>\n",
       "    <tr>\n",
       "      <th>1</th>\n",
       "      <td>188</td>\n",
       "      <td>\"And yes, people should recognize that but the...</td>\n",
       "      <td>Daphne Guinness \\n\\nTop of the mornin' my fav...</td>\n",
       "    </tr>\n",
       "    <tr>\n",
       "      <th>2</th>\n",
       "      <td>82</td>\n",
       "      <td>Western Media?\\n\\nYup, because every crime in...</td>\n",
       "      <td>\"Atom you don't believe actual photos of mastu...</td>\n",
       "    </tr>\n",
       "    <tr>\n",
       "      <th>3</th>\n",
       "      <td>347</td>\n",
       "      <td>And you removed it! You numbskull! I don't car...</td>\n",
       "      <td>You seem to have sand in your vagina.\\n\\nMight...</td>\n",
       "    </tr>\n",
       "    <tr>\n",
       "      <th>4</th>\n",
       "      <td>539</td>\n",
       "      <td>smelly vagina \\n\\nBluerasberry why don't you ...</td>\n",
       "      <td>hey \\n\\nway to support nazis, you racist</td>\n",
       "    </tr>\n",
       "  </tbody>\n",
       "</table>\n",
       "</div>"
      ],
      "text/plain": [
       "   worker                                         less_toxic  \\\n",
       "0     313            This article sucks \\n\\nwoo woo wooooooo   \n",
       "1     188  \"And yes, people should recognize that but the...   \n",
       "2      82   Western Media?\\n\\nYup, because every crime in...   \n",
       "3     347  And you removed it! You numbskull! I don't car...   \n",
       "4     539   smelly vagina \\n\\nBluerasberry why don't you ...   \n",
       "\n",
       "                                          more_toxic  \n",
       "0  WHAT!!!!!!!!?!?!!?!?!!?!?!?!?!!!!!!!!!!!!!!!!!...  \n",
       "1   Daphne Guinness \\n\\nTop of the mornin' my fav...  \n",
       "2  \"Atom you don't believe actual photos of mastu...  \n",
       "3  You seem to have sand in your vagina.\\n\\nMight...  \n",
       "4           hey \\n\\nway to support nazis, you racist  "
      ]
     },
     "metadata": {},
     "output_type": "display_data"
    },
    {
     "data": {
      "text/html": [
       "<div>\n",
       "<style scoped>\n",
       "    .dataframe tbody tr th:only-of-type {\n",
       "        vertical-align: middle;\n",
       "    }\n",
       "\n",
       "    .dataframe tbody tr th {\n",
       "        vertical-align: top;\n",
       "    }\n",
       "\n",
       "    .dataframe thead th {\n",
       "        text-align: right;\n",
       "    }\n",
       "</style>\n",
       "<table border=\"1\" class=\"dataframe\">\n",
       "  <thead>\n",
       "    <tr style=\"text-align: right;\">\n",
       "      <th></th>\n",
       "      <th>comment_id</th>\n",
       "      <th>text</th>\n",
       "    </tr>\n",
       "  </thead>\n",
       "  <tbody>\n",
       "    <tr>\n",
       "      <th>0</th>\n",
       "      <td>114890</td>\n",
       "      <td>\"\\n \\n\\nGjalexei, you asked about whether ther...</td>\n",
       "    </tr>\n",
       "    <tr>\n",
       "      <th>1</th>\n",
       "      <td>732895</td>\n",
       "      <td>Looks like be have an abuser , can you please ...</td>\n",
       "    </tr>\n",
       "    <tr>\n",
       "      <th>2</th>\n",
       "      <td>1139051</td>\n",
       "      <td>I confess to having complete (and apparently b...</td>\n",
       "    </tr>\n",
       "    <tr>\n",
       "      <th>3</th>\n",
       "      <td>1434512</td>\n",
       "      <td>\"\\n\\nFreud's ideas are certainly much discusse...</td>\n",
       "    </tr>\n",
       "    <tr>\n",
       "      <th>4</th>\n",
       "      <td>2084821</td>\n",
       "      <td>It is not just you. This is a laundry list of ...</td>\n",
       "    </tr>\n",
       "  </tbody>\n",
       "</table>\n",
       "</div>"
      ],
      "text/plain": [
       "   comment_id                                               text\n",
       "0      114890  \"\\n \\n\\nGjalexei, you asked about whether ther...\n",
       "1      732895  Looks like be have an abuser , can you please ...\n",
       "2     1139051  I confess to having complete (and apparently b...\n",
       "3     1434512  \"\\n\\nFreud's ideas are certainly much discusse...\n",
       "4     2084821  It is not just you. This is a laundry list of ..."
      ]
     },
     "metadata": {},
     "output_type": "display_data"
    }
   ],
   "source": [
    "val_df = pd.read_csv(\"/mnt/work/data/kaggle/Jigsaw/validation_data.csv\")\n",
    "test_df = pd.read_csv(\"/mnt/work/data/kaggle/Jigsaw/comments_to_score.csv\")\n",
    "\n",
    "display(val_df.head())\n",
    "display(test_df.head())"
   ]
  },
  {
   "cell_type": "markdown",
   "id": "0e8d9883",
   "metadata": {},
   "source": [
    "<br>\n",
    "<h2 style = \"font-size:45px;\n",
    "             font-family:Comic Sans MS ;\n",
    "             font-weight : normal; \n",
    "             background-color: #eeebf1 ;\n",
    "             color : #4c1c84;\n",
    "             text-align: center;\n",
    "             border-radius: 100px 100px;\">\n",
    "    Ruddit\n",
    "</h2>\n",
    "<br>"
   ]
  },
  {
   "cell_type": "code",
   "execution_count": 33,
   "id": "c22ea4bf",
   "metadata": {},
   "outputs": [
    {
     "data": {
      "text/html": [
       "<div>\n",
       "<style scoped>\n",
       "    .dataframe tbody tr th:only-of-type {\n",
       "        vertical-align: middle;\n",
       "    }\n",
       "\n",
       "    .dataframe tbody tr th {\n",
       "        vertical-align: top;\n",
       "    }\n",
       "\n",
       "    .dataframe thead th {\n",
       "        text-align: right;\n",
       "    }\n",
       "</style>\n",
       "<table border=\"1\" class=\"dataframe\">\n",
       "  <thead>\n",
       "    <tr style=\"text-align: right;\">\n",
       "      <th></th>\n",
       "      <th>post_id</th>\n",
       "      <th>comment_id</th>\n",
       "      <th>txt</th>\n",
       "      <th>url</th>\n",
       "      <th>offensiveness_score</th>\n",
       "    </tr>\n",
       "  </thead>\n",
       "  <tbody>\n",
       "    <tr>\n",
       "      <th>0</th>\n",
       "      <td>42g75o</td>\n",
       "      <td>cza1q49</td>\n",
       "      <td>&gt; The difference in average earnings between m...</td>\n",
       "      <td>https://www.reddit.com/r/changemyview/comments...</td>\n",
       "      <td>-0.083</td>\n",
       "    </tr>\n",
       "    <tr>\n",
       "      <th>1</th>\n",
       "      <td>42g75o</td>\n",
       "      <td>cza1wdh</td>\n",
       "      <td>The myth is that the \"gap\" is entirely based o...</td>\n",
       "      <td>https://www.reddit.com/r/changemyview/comments...</td>\n",
       "      <td>-0.022</td>\n",
       "    </tr>\n",
       "    <tr>\n",
       "      <th>2</th>\n",
       "      <td>42g75o</td>\n",
       "      <td>cza23qx</td>\n",
       "      <td>[deleted]</td>\n",
       "      <td>https://www.reddit.com/r/changemyview/comments...</td>\n",
       "      <td>0.167</td>\n",
       "    </tr>\n",
       "    <tr>\n",
       "      <th>3</th>\n",
       "      <td>42g75o</td>\n",
       "      <td>cza2bw8</td>\n",
       "      <td>The assertion is that women get paid less for ...</td>\n",
       "      <td>https://www.reddit.com/r/changemyview/comments...</td>\n",
       "      <td>-0.146</td>\n",
       "    </tr>\n",
       "    <tr>\n",
       "      <th>4</th>\n",
       "      <td>42g75o</td>\n",
       "      <td>cza2iji</td>\n",
       "      <td>You said in the OP that's not what they're mea...</td>\n",
       "      <td>https://www.reddit.com/r/changemyview/comments...</td>\n",
       "      <td>-0.083</td>\n",
       "    </tr>\n",
       "  </tbody>\n",
       "</table>\n",
       "</div>"
      ],
      "text/plain": [
       "  post_id comment_id                                                txt  \\\n",
       "0  42g75o    cza1q49  > The difference in average earnings between m...   \n",
       "1  42g75o    cza1wdh  The myth is that the \"gap\" is entirely based o...   \n",
       "2  42g75o    cza23qx                                          [deleted]   \n",
       "3  42g75o    cza2bw8  The assertion is that women get paid less for ...   \n",
       "4  42g75o    cza2iji  You said in the OP that's not what they're mea...   \n",
       "\n",
       "                                                 url  offensiveness_score  \n",
       "0  https://www.reddit.com/r/changemyview/comments...               -0.083  \n",
       "1  https://www.reddit.com/r/changemyview/comments...               -0.022  \n",
       "2  https://www.reddit.com/r/changemyview/comments...                0.167  \n",
       "3  https://www.reddit.com/r/changemyview/comments...               -0.146  \n",
       "4  https://www.reddit.com/r/changemyview/comments...               -0.083  "
      ]
     },
     "metadata": {},
     "output_type": "display_data"
    },
    {
     "data": {
      "text/plain": [
       "(5838, 5)"
      ]
     },
     "metadata": {},
     "output_type": "display_data"
    }
   ],
   "source": [
    "train_df = pd.read_csv(\"../data/external/Ruddit/Dataset/ruddit_with_text.csv\")\n",
    "\n",
    "display(train_df.head())\n",
    "display(train_df.shape)"
   ]
  },
  {
   "cell_type": "code",
   "execution_count": 34,
   "id": "bf3ed463",
   "metadata": {},
   "outputs": [
    {
     "data": {
      "text/html": [
       "<div>\n",
       "<style scoped>\n",
       "    .dataframe tbody tr th:only-of-type {\n",
       "        vertical-align: middle;\n",
       "    }\n",
       "\n",
       "    .dataframe tbody tr th {\n",
       "        vertical-align: top;\n",
       "    }\n",
       "\n",
       "    .dataframe thead th {\n",
       "        text-align: right;\n",
       "    }\n",
       "</style>\n",
       "<table border=\"1\" class=\"dataframe\">\n",
       "  <thead>\n",
       "    <tr style=\"text-align: right;\">\n",
       "      <th></th>\n",
       "      <th>post_id</th>\n",
       "      <th>comment_id</th>\n",
       "      <th>txt</th>\n",
       "      <th>url</th>\n",
       "      <th>offensiveness_score</th>\n",
       "    </tr>\n",
       "  </thead>\n",
       "  <tbody>\n",
       "    <tr>\n",
       "      <th>0</th>\n",
       "      <td>42g75o</td>\n",
       "      <td>cza1q49</td>\n",
       "      <td>&gt; The difference in average earnings between m...</td>\n",
       "      <td>https://www.reddit.com/r/changemyview/comments...</td>\n",
       "      <td>-0.083</td>\n",
       "    </tr>\n",
       "    <tr>\n",
       "      <th>1</th>\n",
       "      <td>42g75o</td>\n",
       "      <td>cza1wdh</td>\n",
       "      <td>The myth is that the \"gap\" is entirely based o...</td>\n",
       "      <td>https://www.reddit.com/r/changemyview/comments...</td>\n",
       "      <td>-0.022</td>\n",
       "    </tr>\n",
       "    <tr>\n",
       "      <th>2</th>\n",
       "      <td>42g75o</td>\n",
       "      <td>cza2bw8</td>\n",
       "      <td>The assertion is that women get paid less for ...</td>\n",
       "      <td>https://www.reddit.com/r/changemyview/comments...</td>\n",
       "      <td>-0.146</td>\n",
       "    </tr>\n",
       "    <tr>\n",
       "      <th>3</th>\n",
       "      <td>42g75o</td>\n",
       "      <td>cza2iji</td>\n",
       "      <td>You said in the OP that's not what they're mea...</td>\n",
       "      <td>https://www.reddit.com/r/changemyview/comments...</td>\n",
       "      <td>-0.083</td>\n",
       "    </tr>\n",
       "    <tr>\n",
       "      <th>4</th>\n",
       "      <td>42g75o</td>\n",
       "      <td>cza2jj3</td>\n",
       "      <td>&gt;Men and women are not payed less for the same...</td>\n",
       "      <td>https://www.reddit.com/r/changemyview/comments...</td>\n",
       "      <td>-0.042</td>\n",
       "    </tr>\n",
       "  </tbody>\n",
       "</table>\n",
       "</div>"
      ],
      "text/plain": [
       "  post_id comment_id                                                txt  \\\n",
       "0  42g75o    cza1q49  > The difference in average earnings between m...   \n",
       "1  42g75o    cza1wdh  The myth is that the \"gap\" is entirely based o...   \n",
       "2  42g75o    cza2bw8  The assertion is that women get paid less for ...   \n",
       "3  42g75o    cza2iji  You said in the OP that's not what they're mea...   \n",
       "4  42g75o    cza2jj3  >Men and women are not payed less for the same...   \n",
       "\n",
       "                                                 url  offensiveness_score  \n",
       "0  https://www.reddit.com/r/changemyview/comments...               -0.083  \n",
       "1  https://www.reddit.com/r/changemyview/comments...               -0.022  \n",
       "2  https://www.reddit.com/r/changemyview/comments...               -0.146  \n",
       "3  https://www.reddit.com/r/changemyview/comments...               -0.083  \n",
       "4  https://www.reddit.com/r/changemyview/comments...               -0.042  "
      ]
     },
     "metadata": {},
     "output_type": "display_data"
    },
    {
     "data": {
      "text/plain": [
       "(5722, 5)"
      ]
     },
     "metadata": {},
     "output_type": "display_data"
    }
   ],
   "source": [
    "train_df = train_df[train_df[\"txt\"]!=\"[deleted]\"].reset_index(drop=True)\n",
    "display(train_df.head())\n",
    "display(train_df.shape)"
   ]
  },
  {
   "cell_type": "code",
   "execution_count": 35,
   "id": "8805e92e",
   "metadata": {},
   "outputs": [],
   "source": [
    "def min_max_scale(df:pd.DataFrame, col:str) -> pd.DataFrame:\n",
    "    \n",
    "    df[\"target\"] = (df[col] - df[col].min())/(df[col].max() - df[col].min())\n",
    "\n",
    "    return df\n",
    "\n",
    "train_df = min_max_scale(train_df, \"offensiveness_score\")"
   ]
  },
  {
   "cell_type": "code",
   "execution_count": 36,
   "id": "dd5f0b38",
   "metadata": {},
   "outputs": [
    {
     "data": {
      "image/png": "[encoded data removed]",
      "text/plain": [
       "<Figure size 864x360 with 1 Axes>"
      ]
     },
     "metadata": {
      "needs_background": "light"
     },
     "output_type": "display_data"
    }
   ],
   "source": [
    "target_cols = [\"target\"]\n",
    "\n",
    "plt.figure(figsize=(12, 5))\n",
    "sns.histplot(train_df[\"target\"], color=\"#4c1c84\")\n",
    "plt.grid()\n",
    "plt.show()"
   ]
  },
  {
   "cell_type": "code",
   "execution_count": 37,
   "id": "64aad7fd",
   "metadata": {},
   "outputs": [
    {
     "name": "stdout",
     "output_type": "stream",
     "text": [
      "target mean is 0.46137\n",
      "target std is 0.17910\n"
     ]
    }
   ],
   "source": [
    "print(f\"target mean is {train_df['target'].mean():.5f}\")\n",
    "print(f\"target std is {train_df['target'].std():.5f}\")"
   ]
  },
  {
   "cell_type": "markdown",
   "id": "821d8d3f",
   "metadata": {},
   "source": [
    "<br>\n",
    "<h1 style = \"font-size:45px; font-family:Comic Sans MS ; font-weight : normal; background-color: #4c1c84 ; color : #eeebf1; text-align: center; border-radius: 100px 100px;\">\n",
    "    Pytorch Dataset\n",
    "</h1>\n",
    "<br>"
   ]
  },
  {
   "cell_type": "code",
   "execution_count": 38,
   "id": "a6e4308a",
   "metadata": {},
   "outputs": [],
   "source": [
    "class JigsawDataset:\n",
    "    \n",
    "    def __init__(self, df, tokenizer, max_length, mode, target_cols):\n",
    "        \n",
    "        self.df = df\n",
    "        self.max_len = max_length\n",
    "        self.tokenizer = tokenizer\n",
    "        self.mode = mode\n",
    "        self.target_cols = target_cols\n",
    "        \n",
    "        if self.mode == \"train\":\n",
    "            self.text = df[\"txt\"].values\n",
    "            self.target = df[target_cols].values\n",
    "            \n",
    "        elif self.mode == \"valid\":\n",
    "            self.more_toxic = df[\"more_toxic\"].values\n",
    "            self.less_toxic = df[\"less_toxic\"].values\n",
    "            \n",
    "        else:\n",
    "            self.text = df[\"text\"].values\n",
    "            \n",
    "    def __len__(self):\n",
    "        return len(self.df)\n",
    "    \n",
    "    def __getitem__(self, index):\n",
    "        \n",
    "        if self.mode == \"train\":\n",
    "            \n",
    "            text = self.text[index]\n",
    "            target = self.target[index]\n",
    "            \n",
    "            inputs_text = self.tokenizer.encode_plus(\n",
    "                text,\n",
    "                truncation=True,\n",
    "                return_attention_mask=True,\n",
    "                return_token_type_ids=True,\n",
    "                max_length = self.max_len,\n",
    "                padding=\"max_length\",\n",
    "            )\n",
    "            \n",
    "            text_ids = inputs_text[\"input_ids\"]\n",
    "            text_mask = inputs_text[\"attention_mask\"]\n",
    "            text_token_type_ids = inputs_text[\"token_type_ids\"]\n",
    "\n",
    "            return {\n",
    "                'text_ids': torch.tensor(text_ids, dtype=torch.long),\n",
    "                'text_mask': torch.tensor(text_mask, dtype=torch.long),\n",
    "                'text_token_type_ids': torch.tensor(text_token_type_ids, dtype=torch.long),\n",
    "                'target': torch.tensor(target, dtype=torch.float)\n",
    "            }\n",
    "        \n",
    "        elif self.mode == \"valid\":\n",
    "            \n",
    "            more_toxic = self.more_toxic[index]\n",
    "            less_toxic = self.less_toxic[index]\n",
    "\n",
    "            inputs_more_toxic = self.tokenizer.encode_plus(\n",
    "                more_toxic,\n",
    "                truncation=True,\n",
    "                return_attention_mask=True,\n",
    "                return_token_type_ids=True,\n",
    "                max_length = self.max_len,\n",
    "                padding=\"max_length\",\n",
    "            )\n",
    "\n",
    "            inputs_less_toxic = self.tokenizer.encode_plus(\n",
    "                less_toxic,\n",
    "                truncation=True,\n",
    "                return_attention_mask=True,\n",
    "                return_token_type_ids=True,\n",
    "                max_length = self.max_len,\n",
    "                padding=\"max_length\",\n",
    "            )\n",
    "            \n",
    "            target = 1\n",
    "\n",
    "            more_toxic_ids = inputs_more_toxic[\"input_ids\"]\n",
    "            more_toxic_mask = inputs_more_toxic[\"attention_mask\"]\n",
    "            more_token_type_ids = inputs_more_toxic[\"token_type_ids\"]\n",
    "\n",
    "            less_toxic_ids = inputs_less_toxic[\"input_ids\"]\n",
    "            less_toxic_mask = inputs_less_toxic[\"attention_mask\"]\n",
    "            less_token_type_ids = inputs_less_toxic[\"token_type_ids\"]\n",
    "            \n",
    "            return {\n",
    "                'more_toxic_ids': torch.tensor(more_toxic_ids, dtype=torch.long),\n",
    "                'more_toxic_mask': torch.tensor(more_toxic_mask, dtype=torch.long),\n",
    "                'more_token_type_ids': torch.tensor(more_token_type_ids, dtype=torch.long),\n",
    "                \n",
    "                'less_toxic_ids': torch.tensor(less_toxic_ids, dtype=torch.long),\n",
    "                'less_toxic_mask': torch.tensor(less_toxic_mask, dtype=torch.long),\n",
    "                'less_token_type_ids': torch.tensor(less_token_type_ids, dtype=torch.long),\n",
    "                \n",
    "                'target': torch.tensor(target, dtype=torch.float)\n",
    "            }\n",
    "        \n",
    "        else:\n",
    "            \n",
    "            text = self.text[index]\n",
    "            \n",
    "            inputs_text = self.tokenizer.encode_plus(\n",
    "                text,\n",
    "                truncation=True,\n",
    "                return_attention_mask=True,\n",
    "                return_token_type_ids=True,\n",
    "                max_length = self.max_len,\n",
    "                padding=\"max_length\",\n",
    "            )\n",
    "            \n",
    "            text_ids = inputs_text[\"input_ids\"]\n",
    "            text_mask = inputs_text[\"attention_mask\"]\n",
    "            text_token_type_ids = inputs_text[\"token_type_ids\"]\n",
    "\n",
    "            return {\n",
    "                'text_ids': torch.tensor(text_ids, dtype=torch.long),\n",
    "                'text_mask': torch.tensor(text_mask, dtype=torch.long),\n",
    "                'text_token_type_ids': torch.tensor(text_token_type_ids, dtype=torch.long),\n",
    "            }"
   ]
  },
  {
   "cell_type": "markdown",
   "id": "0272a92b",
   "metadata": {},
   "source": [
    "<br>\n",
    "<h2 style = \"font-size:45px;\n",
    "             font-family:Comic Sans MS ;\n",
    "             font-weight : normal;\n",
    "             background-color: #eeebf1 ;\n",
    "             color : #4c1c84;\n",
    "             text-align: center; \n",
    "             border-radius: 100px 100px;\">\n",
    "    DataModule\n",
    "</h2>\n",
    "<br>"
   ]
  },
  {
   "cell_type": "code",
   "execution_count": 39,
   "id": "d7a5bc50",
   "metadata": {},
   "outputs": [],
   "source": [
    "class JigsawDataModule(LightningDataModule):\n",
    "\n",
    "    def __init__(self, train_df, valid_df, test_df, cfg):\n",
    "\n",
    "        super().__init__()\n",
    "        self._train_df = train_df\n",
    "        self._valid_df = valid_df\n",
    "        self._test_df = test_df\n",
    "        self._cfg = cfg\n",
    "\n",
    "    def train_dataloader(self):\n",
    "        dataset = JigsawDataset(\n",
    "            df=self._train_df, \n",
    "            tokenizer=self._cfg.tokenizer,\n",
    "            max_length=self._cfg.max_length,\n",
    "            mode=\"train\",\n",
    "            target_cols=target_cols\n",
    "            )\n",
    "        return DataLoader(dataset, **self._cfg.train_loader)\n",
    "\n",
    "    def val_dataloader(self):\n",
    "        dataset = JigsawDataset(\n",
    "            df=self._valid_df, \n",
    "            tokenizer=self._cfg.tokenizer,\n",
    "            max_length=self._cfg.max_length,\n",
    "            mode=\"valid\",\n",
    "            target_cols=target_cols\n",
    "            )\n",
    "        return DataLoader(dataset, **self._cfg.valid_loader)\n",
    "\n",
    "    def test_dataloader(self):\n",
    "        dataset = JigsawDataset(\n",
    "            df=self._test_df,\n",
    "            tokenizer = self._cfg.tokenizer,\n",
    "            max_length=self._cfg.max_length,\n",
    "            mode=\"test\",\n",
    "            target_cols=target_cols\n",
    "        )\n",
    "\n",
    "        return DataLoader(dataset, **self._cfg.test_loader)"
   ]
  },
  {
   "cell_type": "code",
   "execution_count": 40,
   "id": "de507f5d",
   "metadata": {},
   "outputs": [],
   "source": [
    "## DataCheck\n",
    "seed_everything(config.seed)\n",
    "\n",
    "sample_dataloader = JigsawDataModule(train_df, val_df, test_df, config).train_dataloader()\n",
    "for data in sample_dataloader:\n",
    "    break"
   ]
  },
  {
   "cell_type": "code",
   "execution_count": 47,
   "id": "e41e5a31",
   "metadata": {},
   "outputs": [
    {
     "name": "stdout",
     "output_type": "stream",
     "text": [
      "torch.Size([8, 256])\n",
      "torch.Size([8, 256])\n",
      "torch.Size([8, 256])\n",
      "torch.Size([8, 1])\n",
      "tensor([[0.4176],\n",
      "        [0.4202],\n",
      "        [0.6429],\n",
      "        [0.5316],\n",
      "        [0.3421],\n",
      "        [0.2639],\n",
      "        [0.5573],\n",
      "        [0.3394]])\n",
      "torch.Size([8, 256, 768]) torch.Size([8, 12, 256, 256])\n",
      "torch.Size([8, 768]) torch.Size([8, 12, 256, 256])\n"
     ]
    }
   ],
   "source": [
    "print(data[\"text_ids\"].size())\n",
    "print(data[\"text_mask\"].size())\n",
    "print(data[\"text_token_type_ids\"].size())\n",
    "print(data[\"target\"].size())\n",
    "print(data[\"target\"])\n",
    "output = config.model(\n",
    "    data[\"text_ids\"],\n",
    "    data[\"text_mask\"],\n",
    "    data[\"text_token_type_ids\"],\n",
    "    output_hidden_states=True,\n",
    "    output_attentions=True,\n",
    ")\n",
    "print(output[\"hidden_states\"][-1].size(), output[\"attentions\"][-1].size())\n",
    "print(output[\"hidden_states\"][-1][:, 0, :].size(), output[\"attentions\"][-1].size())"
   ]
  },
  {
   "cell_type": "markdown",
   "id": "8205438f",
   "metadata": {},
   "source": [
    "<br>\n",
    "<h2 style = \"font-size:45px;\n",
    "             font-family:Comic Sans MS ;\n",
    "             font-weight : normal;\n",
    "             background-color: #eeebf1 ;\n",
    "             color : #4c1c84;\n",
    "             text-align: center; \n",
    "             border-radius: 100px 100px;\">\n",
    "    LigitningModule\n",
    "</h2>\n",
    "<br>"
   ]
  },
  {
   "cell_type": "code",
   "execution_count": 53,
   "id": "45b2db51",
   "metadata": {},
   "outputs": [],
   "source": [
    "class JigsawModel(pl.LightningModule):\n",
    "    \n",
    "    def __init__(self, cfg, fold_num):\n",
    "        \n",
    "        super().__init__()\n",
    "        self.cfg = cfg\n",
    "        self.__build_model()\n",
    "        self.criterion = eval(self.cfg.loss)()\n",
    "        self.save_hyperparameters(cfg)\n",
    "        self.fold_num = fold_num\n",
    "        \n",
    "    def __build_model(self):\n",
    "        \n",
    "        self.base_model = AutoModelForSequenceClassification.from_pretrained(\n",
    "            self.cfg.backbone.name\n",
    "        )\n",
    "        print(f\"Use Model: {self.cfg.backbone.name}\")\n",
    "        self.norm = nn.LayerNorm(768)\n",
    "        self.drop = nn.Dropout(p=0.3)\n",
    "        self.head = nn.Linear(768, self.cfg.backbone.output_dim)\n",
    "        \n",
    "    def forward(self, ids, mask, token_type_ids):\n",
    "        \n",
    "        output = self.base_model(\n",
    "            input_ids=ids, \n",
    "            attention_mask=mask,\n",
    "            token_type_ids=token_type_ids,\n",
    "            output_hidden_states=True,\n",
    "            output_attentions=True\n",
    "        )\n",
    "        feature = self.norm(output[\"hidden_states\"][-1][:, 0, :])\n",
    "        out = self.drop(feature)\n",
    "        out = self.head(out)\n",
    "        \n",
    "        return {\n",
    "            \"logits\":out, \n",
    "            \"feature\":feature,\n",
    "            \"attention\":output[\"attentions\"], \n",
    "            \"mask\":mask,\n",
    "        }\n",
    "    \n",
    "    def training_step(self, batch, batch_idx):\n",
    "        \n",
    "        text_ids = batch[\"text_ids\"]\n",
    "        text_mask = batch['text_mask']\n",
    "        text_token_type_ids = batch['text_token_type_ids']\n",
    "        targets = batch['target']\n",
    "        \n",
    "        outputs = self.forward(text_ids, text_mask, text_token_type_ids)\n",
    "        loss = torch.sqrt(self.criterion(outputs[\"logits\"], targets))\n",
    "        \n",
    "        return {\n",
    "            \"loss\":loss,\n",
    "            \"targets\":targets,\n",
    "        }\n",
    "    \n",
    "    def training_epoch_end(self, training_step_outputs):\n",
    "\n",
    "        loss_list = []\n",
    "\n",
    "        for out in training_step_outputs:\n",
    "\n",
    "            loss_list.extend([out[\"loss\"].cpu().detach().tolist()])\n",
    "\n",
    "        meanloss = sum(loss_list)/len(loss_list)\n",
    "\n",
    "        logs = {f\"train_loss/fold{self.fold_num+1}\": meanloss,}\n",
    "\n",
    "        self.log_dict(\n",
    "            logs,\n",
    "            on_step=False,\n",
    "            on_epoch=True,\n",
    "            prog_bar=True,\n",
    "            logger=True\n",
    "        )\n",
    "        \n",
    "    def validation_step(self, batch, batch_idx):\n",
    "\n",
    "        more_toxic_ids = batch['more_toxic_ids']\n",
    "        more_toxic_mask = batch['more_toxic_mask']\n",
    "        more_text_token_type_ids = batch['more_token_type_ids']\n",
    "        \n",
    "        less_toxic_ids = batch['less_toxic_ids']\n",
    "        less_toxic_mask = batch['less_toxic_mask']\n",
    "        less_text_token_type_ids = batch['less_token_type_ids']\n",
    "        \n",
    "        targets = batch['target']\n",
    "\n",
    "        more_outputs = self.forward(\n",
    "            more_toxic_ids, \n",
    "            more_toxic_mask,\n",
    "            more_text_token_type_ids\n",
    "        )\n",
    "        \n",
    "        less_outputs = self.forward(\n",
    "            less_toxic_ids, \n",
    "            less_toxic_mask,\n",
    "            less_text_token_type_ids\n",
    "        )\n",
    "        \n",
    "        \n",
    "        more_outputs = torch.sum(more_outputs[\"logits\"], 1)\n",
    "        less_outputs = torch.sum(less_outputs[\"logits\"], 1)\n",
    "        \n",
    "        outputs = more_outputs - less_outputs\n",
    "        logits = outputs.clone()\n",
    "\n",
    "        logits[logits > 0] = 1\n",
    "        loss = self.criterion(logits, targets)\n",
    "\n",
    "        return {\n",
    "            \"loss\":loss,\n",
    "            \"pred\":outputs,\n",
    "            \"targets\":targets,\n",
    "        }\n",
    "    \n",
    "    \n",
    "    def validation_epoch_end(self, validation_step_outputs):\n",
    "\n",
    "        loss_list = []\n",
    "        pred_list = []\n",
    "        target_list = []\n",
    "\n",
    "        for out in validation_step_outputs:\n",
    "            loss_list.extend([out[\"loss\"].cpu().detach().tolist()])\n",
    "            pred_list.append(out[\"pred\"].detach().cpu().numpy())\n",
    "            target_list.append(out[\"targets\"].detach().cpu().numpy())\n",
    "\n",
    "        meanloss = sum(loss_list)/len(loss_list)\n",
    "        pred_list = np.concatenate(pred_list)\n",
    "        pred_count = sum(x>0 for x in pred_list)/len(pred_list)\n",
    "\n",
    "        logs = {\n",
    "            f\"valid_loss/fold{self.fold_num+1}\":meanloss,\n",
    "            f\"valid_acc/fold{self.fold_num+1}\":pred_count,\n",
    "        }\n",
    "\n",
    "        self.log_dict(\n",
    "            logs,\n",
    "            on_step=False,\n",
    "            on_epoch=True,\n",
    "            prog_bar=True,\n",
    "            logger=True\n",
    "        )\n",
    "        \n",
    "    def configure_optimizers(self):\n",
    "\n",
    "        optimizer = eval(self.cfg.optimizer.name)(\n",
    "            self.parameters(), **self.cfg.optimizer.params\n",
    "        )\n",
    "\n",
    "        self.scheduler = eval(self.cfg.scheduler.name)(\n",
    "            optimizer, **self.cfg.scheduler.params\n",
    "        )\n",
    "        \n",
    "        scheduler = {\"scheduler\": self.scheduler, \"interval\": \"step\",}\n",
    "\n",
    "        return [optimizer], [scheduler]"
   ]
  },
  {
   "cell_type": "markdown",
   "id": "cbc65eef",
   "metadata": {},
   "source": [
    "<br>\n",
    "<h2 style = \"font-size:45px;\n",
    "             font-family:Comic Sans MS ;\n",
    "             font-weight : normal;\n",
    "             background-color: #eeebf1 ;\n",
    "             color : #4c1c84;\n",
    "             text-align: center; \n",
    "             border-radius: 100px 100px;\">\n",
    "    Training\n",
    "</h2>\n",
    "<br>"
   ]
  },
  {
   "cell_type": "code",
   "execution_count": 54,
   "id": "db9ecf13",
   "metadata": {},
   "outputs": [
    {
     "data": {
      "text/html": [
       "<div>\n",
       "<style scoped>\n",
       "    .dataframe tbody tr th:only-of-type {\n",
       "        vertical-align: middle;\n",
       "    }\n",
       "\n",
       "    .dataframe tbody tr th {\n",
       "        vertical-align: top;\n",
       "    }\n",
       "\n",
       "    .dataframe thead th {\n",
       "        text-align: right;\n",
       "    }\n",
       "</style>\n",
       "<table border=\"1\" class=\"dataframe\">\n",
       "  <thead>\n",
       "    <tr style=\"text-align: right;\">\n",
       "      <th></th>\n",
       "      <th>post_id</th>\n",
       "      <th>comment_id</th>\n",
       "      <th>txt</th>\n",
       "      <th>url</th>\n",
       "      <th>offensiveness_score</th>\n",
       "      <th>target</th>\n",
       "      <th>kfold</th>\n",
       "    </tr>\n",
       "  </thead>\n",
       "  <tbody>\n",
       "    <tr>\n",
       "      <th>0</th>\n",
       "      <td>42g75o</td>\n",
       "      <td>cza1q49</td>\n",
       "      <td>&gt; The difference in average earnings between m...</td>\n",
       "      <td>https://www.reddit.com/r/changemyview/comments...</td>\n",
       "      <td>-0.083</td>\n",
       "      <td>0.431478</td>\n",
       "      <td>2</td>\n",
       "    </tr>\n",
       "    <tr>\n",
       "      <th>1</th>\n",
       "      <td>42g75o</td>\n",
       "      <td>cza1wdh</td>\n",
       "      <td>The myth is that the \"gap\" is entirely based o...</td>\n",
       "      <td>https://www.reddit.com/r/changemyview/comments...</td>\n",
       "      <td>-0.022</td>\n",
       "      <td>0.464133</td>\n",
       "      <td>3</td>\n",
       "    </tr>\n",
       "    <tr>\n",
       "      <th>2</th>\n",
       "      <td>42g75o</td>\n",
       "      <td>cza2bw8</td>\n",
       "      <td>The assertion is that women get paid less for ...</td>\n",
       "      <td>https://www.reddit.com/r/changemyview/comments...</td>\n",
       "      <td>-0.146</td>\n",
       "      <td>0.397752</td>\n",
       "      <td>3</td>\n",
       "    </tr>\n",
       "    <tr>\n",
       "      <th>3</th>\n",
       "      <td>42g75o</td>\n",
       "      <td>cza2iji</td>\n",
       "      <td>You said in the OP that's not what they're mea...</td>\n",
       "      <td>https://www.reddit.com/r/changemyview/comments...</td>\n",
       "      <td>-0.083</td>\n",
       "      <td>0.431478</td>\n",
       "      <td>4</td>\n",
       "    </tr>\n",
       "    <tr>\n",
       "      <th>4</th>\n",
       "      <td>42g75o</td>\n",
       "      <td>cza2jj3</td>\n",
       "      <td>&gt;Men and women are not payed less for the same...</td>\n",
       "      <td>https://www.reddit.com/r/changemyview/comments...</td>\n",
       "      <td>-0.042</td>\n",
       "      <td>0.453426</td>\n",
       "      <td>4</td>\n",
       "    </tr>\n",
       "  </tbody>\n",
       "</table>\n",
       "</div>"
      ],
      "text/plain": [
       "  post_id comment_id                                                txt  \\\n",
       "0  42g75o    cza1q49  > The difference in average earnings between m...   \n",
       "1  42g75o    cza1wdh  The myth is that the \"gap\" is entirely based o...   \n",
       "2  42g75o    cza2bw8  The assertion is that women get paid less for ...   \n",
       "3  42g75o    cza2iji  You said in the OP that's not what they're mea...   \n",
       "4  42g75o    cza2jj3  >Men and women are not payed less for the same...   \n",
       "\n",
       "                                                 url  offensiveness_score  \\\n",
       "0  https://www.reddit.com/r/changemyview/comments...               -0.083   \n",
       "1  https://www.reddit.com/r/changemyview/comments...               -0.022   \n",
       "2  https://www.reddit.com/r/changemyview/comments...               -0.146   \n",
       "3  https://www.reddit.com/r/changemyview/comments...               -0.083   \n",
       "4  https://www.reddit.com/r/changemyview/comments...               -0.042   \n",
       "\n",
       "     target  kfold  \n",
       "0  0.431478      2  \n",
       "1  0.464133      3  \n",
       "2  0.397752      3  \n",
       "3  0.431478      4  \n",
       "4  0.453426      4  "
      ]
     },
     "execution_count": 54,
     "metadata": {},
     "output_type": "execute_result"
    }
   ],
   "source": [
    "skf = KFold(\n",
    "    n_splits=config.n_fold, \n",
    "    shuffle=True, \n",
    "    random_state=config.seed\n",
    ")\n",
    "\n",
    "for fold, (_, val_idx) in enumerate(skf.split(X=train_df, y=train_df[\"target\"])):\n",
    "    train_df.loc[val_idx, \"kfold\"] = int(fold)\n",
    "\n",
    "train_df[\"kfold\"] = train_df[\"kfold\"].astype(int)\n",
    "train_df.head()"
   ]
  },
  {
   "cell_type": "code",
   "execution_count": 56,
   "id": "3636ea5e",
   "metadata": {},
   "outputs": [
    {
     "name": "stdout",
     "output_type": "stream",
     "text": [
      "★★★★★★★★★★★★★★★★★★★★★★★★★  Fold1  ★★★★★★★★★★★★★★★★★★★★★★★★★\n",
      "Use Model: unitary/toxic-bert\n"
     ]
    },
    {
     "data": {
      "text/html": [
       "<pre style=\"white-space:pre;overflow-x:auto;line-height:normal;font-family:Menlo,'DejaVu Sans Mono',consolas,'Courier New',monospace\">┏━━━┳━━━━━━━━━━━━┳━━━━━━━━━━━━━━━━━━━━━━━━━━━━━━━┳━━━━━━━━┓\n",
       "┃<span style=\"color: #800080; text-decoration-color: #800080; font-weight: bold\">   </span>┃<span style=\"color: #800080; text-decoration-color: #800080; font-weight: bold\"> Name       </span>┃<span style=\"color: #800080; text-decoration-color: #800080; font-weight: bold\"> Type                          </span>┃<span style=\"color: #800080; text-decoration-color: #800080; font-weight: bold\"> Params </span>┃\n",
       "┡━━━╇━━━━━━━━━━━━╇━━━━━━━━━━━━━━━━━━━━━━━━━━━━━━━╇━━━━━━━━┩\n",
       "│<span style=\"color: #7f7f7f; text-decoration-color: #7f7f7f\"> 0 </span>│ base_model │ BertForSequenceClassification │  109 M │\n",
       "│<span style=\"color: #7f7f7f; text-decoration-color: #7f7f7f\"> 1 </span>│ norm       │ LayerNorm                     │  1.5 K │\n",
       "│<span style=\"color: #7f7f7f; text-decoration-color: #7f7f7f\"> 2 </span>│ drop       │ Dropout                       │      0 │\n",
       "│<span style=\"color: #7f7f7f; text-decoration-color: #7f7f7f\"> 3 </span>│ head       │ Linear                        │    769 │\n",
       "│<span style=\"color: #7f7f7f; text-decoration-color: #7f7f7f\"> 4 </span>│ criterion  │ MSELoss                       │      0 │\n",
       "└───┴────────────┴───────────────────────────────┴────────┘\n",
       "</pre>\n"
      ],
      "text/plain": [
       "┏━━━┳━━━━━━━━━━━━┳━━━━━━━━━━━━━━━━━━━━━━━━━━━━━━━┳━━━━━━━━┓\n",
       "┃\u001b[1;35m \u001b[0m\u001b[1;35m \u001b[0m\u001b[1;35m \u001b[0m┃\u001b[1;35m \u001b[0m\u001b[1;35mName      \u001b[0m\u001b[1;35m \u001b[0m┃\u001b[1;35m \u001b[0m\u001b[1;35mType                         \u001b[0m\u001b[1;35m \u001b[0m┃\u001b[1;35m \u001b[0m\u001b[1;35mParams\u001b[0m\u001b[1;35m \u001b[0m┃\n",
       "┡━━━╇━━━━━━━━━━━━╇━━━━━━━━━━━━━━━━━━━━━━━━━━━━━━━╇━━━━━━━━┩\n",
       "│\u001b[2m \u001b[0m\u001b[2m0\u001b[0m\u001b[2m \u001b[0m│ base_model │ BertForSequenceClassification │  109 M │\n",
       "│\u001b[2m \u001b[0m\u001b[2m1\u001b[0m\u001b[2m \u001b[0m│ norm       │ LayerNorm                     │  1.5 K │\n",
       "│\u001b[2m \u001b[0m\u001b[2m2\u001b[0m\u001b[2m \u001b[0m│ drop       │ Dropout                       │      0 │\n",
       "│\u001b[2m \u001b[0m\u001b[2m3\u001b[0m\u001b[2m \u001b[0m│ head       │ Linear                        │    769 │\n",
       "│\u001b[2m \u001b[0m\u001b[2m4\u001b[0m\u001b[2m \u001b[0m│ criterion  │ MSELoss                       │      0 │\n",
       "└───┴────────────┴───────────────────────────────┴────────┘\n"
      ]
     },
     "metadata": {},
     "output_type": "display_data"
    },
    {
     "data": {
      "text/html": [
       "<pre style=\"white-space:pre;overflow-x:auto;line-height:normal;font-family:Menlo,'DejaVu Sans Mono',consolas,'Courier New',monospace\"><span style=\"font-weight: bold\">Trainable params</span>: 109 M                                                                      \n",
       "<span style=\"font-weight: bold\">Non-trainable params</span>: 0                                                                      \n",
       "<span style=\"font-weight: bold\">Total params</span>: 109 M                                                                          \n",
       "<span style=\"font-weight: bold\">Total estimated model params size (MB)</span>: 437                                                  \n",
       "</pre>\n"
      ],
      "text/plain": [
       "\u001b[1mTrainable params\u001b[0m: 109 M                                                                      \n",
       "\u001b[1mNon-trainable params\u001b[0m: 0                                                                      \n",
       "\u001b[1mTotal params\u001b[0m: 109 M                                                                          \n",
       "\u001b[1mTotal estimated model params size (MB)\u001b[0m: 437                                                  \n"
      ]
     },
     "metadata": {},
     "output_type": "display_data"
    },
    {
     "data": {
      "application/vnd.jupyter.widget-view+json": {
       "model_id": "8751a7e285794134913cdaa2f9511bd7",
       "version_major": 2,
       "version_minor": 0
      },
      "text/plain": [
       "Output()"
      ]
     },
     "metadata": {},
     "output_type": "display_data"
    },
    {
     "data": {
      "text/html": [
       "<pre style=\"white-space:pre;overflow-x:auto;line-height:normal;font-family:Menlo,'DejaVu Sans Mono',consolas,'Courier New',monospace\"><span style=\"color: #c0c0c0; text-decoration-color: #c0c0c0\">Epoch 0   </span> <span style=\"color: #6206e0; text-decoration-color: #6206e0\">━━━━━━━━━━━━━━━━━━━━━━━━━━━━━━</span> <span style=\"color: #c0c0c0; text-decoration-color: #c0c0c0\">2/2</span> <span style=\"color: #8a8a8a; text-decoration-color: #8a8a8a\">0:00:00 • 0:00:00</span> <span style=\"color: #b2b2b2; text-decoration-color: #b2b2b2\">2.36it/s</span> <span style=\"color: #c0c0c0; text-decoration-color: #c0c0c0\">loss: 0.903 v_num:  </span>\n",
       "</pre>\n"
      ],
      "text/plain": [
       "\u001b[37mEpoch 0   \u001b[0m \u001b[38;2;98;6;224m━━━━━━━━━━━━━━━━━━━━━━━━━━━━━━\u001b[0m \u001b[37m2/2\u001b[0m \u001b[38;5;245m0:00:00 • 0:00:00\u001b[0m \u001b[38;5;249m2.36it/s\u001b[0m \u001b[37mloss: 0.903 v_num:  \u001b[0m\n"
      ]
     },
     "metadata": {},
     "output_type": "display_data"
    },
    {
     "data": {
      "text/html": [
       "<pre style=\"white-space:pre;overflow-x:auto;line-height:normal;font-family:Menlo,'DejaVu Sans Mono',consolas,'Courier New',monospace\">\n",
       "</pre>\n"
      ],
      "text/plain": [
       "\n"
      ]
     },
     "metadata": {},
     "output_type": "display_data"
    },
    {
     "name": "stdout",
     "output_type": "stream",
     "text": [
      "★★★★★★★★★★★★★★★★★★★★★★★★★  Fold2  ★★★★★★★★★★★★★★★★★★★★★★★★★\n",
      "Use Model: unitary/toxic-bert\n"
     ]
    },
    {
     "data": {
      "text/html": [
       "<pre style=\"white-space:pre;overflow-x:auto;line-height:normal;font-family:Menlo,'DejaVu Sans Mono',consolas,'Courier New',monospace\">┏━━━┳━━━━━━━━━━━━┳━━━━━━━━━━━━━━━━━━━━━━━━━━━━━━━┳━━━━━━━━┓\n",
       "┃<span style=\"color: #800080; text-decoration-color: #800080; font-weight: bold\">   </span>┃<span style=\"color: #800080; text-decoration-color: #800080; font-weight: bold\"> Name       </span>┃<span style=\"color: #800080; text-decoration-color: #800080; font-weight: bold\"> Type                          </span>┃<span style=\"color: #800080; text-decoration-color: #800080; font-weight: bold\"> Params </span>┃\n",
       "┡━━━╇━━━━━━━━━━━━╇━━━━━━━━━━━━━━━━━━━━━━━━━━━━━━━╇━━━━━━━━┩\n",
       "│<span style=\"color: #7f7f7f; text-decoration-color: #7f7f7f\"> 0 </span>│ base_model │ BertForSequenceClassification │  109 M │\n",
       "│<span style=\"color: #7f7f7f; text-decoration-color: #7f7f7f\"> 1 </span>│ norm       │ LayerNorm                     │  1.5 K │\n",
       "│<span style=\"color: #7f7f7f; text-decoration-color: #7f7f7f\"> 2 </span>│ drop       │ Dropout                       │      0 │\n",
       "│<span style=\"color: #7f7f7f; text-decoration-color: #7f7f7f\"> 3 </span>│ head       │ Linear                        │    769 │\n",
       "│<span style=\"color: #7f7f7f; text-decoration-color: #7f7f7f\"> 4 </span>│ criterion  │ MSELoss                       │      0 │\n",
       "└───┴────────────┴───────────────────────────────┴────────┘\n",
       "</pre>\n"
      ],
      "text/plain": [
       "┏━━━┳━━━━━━━━━━━━┳━━━━━━━━━━━━━━━━━━━━━━━━━━━━━━━┳━━━━━━━━┓\n",
       "┃\u001b[1;35m \u001b[0m\u001b[1;35m \u001b[0m\u001b[1;35m \u001b[0m┃\u001b[1;35m \u001b[0m\u001b[1;35mName      \u001b[0m\u001b[1;35m \u001b[0m┃\u001b[1;35m \u001b[0m\u001b[1;35mType                         \u001b[0m\u001b[1;35m \u001b[0m┃\u001b[1;35m \u001b[0m\u001b[1;35mParams\u001b[0m\u001b[1;35m \u001b[0m┃\n",
       "┡━━━╇━━━━━━━━━━━━╇━━━━━━━━━━━━━━━━━━━━━━━━━━━━━━━╇━━━━━━━━┩\n",
       "│\u001b[2m \u001b[0m\u001b[2m0\u001b[0m\u001b[2m \u001b[0m│ base_model │ BertForSequenceClassification │  109 M │\n",
       "│\u001b[2m \u001b[0m\u001b[2m1\u001b[0m\u001b[2m \u001b[0m│ norm       │ LayerNorm                     │  1.5 K │\n",
       "│\u001b[2m \u001b[0m\u001b[2m2\u001b[0m\u001b[2m \u001b[0m│ drop       │ Dropout                       │      0 │\n",
       "│\u001b[2m \u001b[0m\u001b[2m3\u001b[0m\u001b[2m \u001b[0m│ head       │ Linear                        │    769 │\n",
       "│\u001b[2m \u001b[0m\u001b[2m4\u001b[0m\u001b[2m \u001b[0m│ criterion  │ MSELoss                       │      0 │\n",
       "└───┴────────────┴───────────────────────────────┴────────┘\n"
      ]
     },
     "metadata": {},
     "output_type": "display_data"
    },
    {
     "data": {
      "text/html": [
       "<pre style=\"white-space:pre;overflow-x:auto;line-height:normal;font-family:Menlo,'DejaVu Sans Mono',consolas,'Courier New',monospace\"><span style=\"font-weight: bold\">Trainable params</span>: 109 M                                                                      \n",
       "<span style=\"font-weight: bold\">Non-trainable params</span>: 0                                                                      \n",
       "<span style=\"font-weight: bold\">Total params</span>: 109 M                                                                          \n",
       "<span style=\"font-weight: bold\">Total estimated model params size (MB)</span>: 437                                                  \n",
       "</pre>\n"
      ],
      "text/plain": [
       "\u001b[1mTrainable params\u001b[0m: 109 M                                                                      \n",
       "\u001b[1mNon-trainable params\u001b[0m: 0                                                                      \n",
       "\u001b[1mTotal params\u001b[0m: 109 M                                                                          \n",
       "\u001b[1mTotal estimated model params size (MB)\u001b[0m: 437                                                  \n"
      ]
     },
     "metadata": {},
     "output_type": "display_data"
    },
    {
     "data": {
      "application/vnd.jupyter.widget-view+json": {
       "model_id": "0150fd89e42a49708719713ebce938a8",
       "version_major": 2,
       "version_minor": 0
      },
      "text/plain": [
       "Output()"
      ]
     },
     "metadata": {},
     "output_type": "display_data"
    },
    {
     "data": {
      "text/html": [
       "<pre style=\"white-space:pre;overflow-x:auto;line-height:normal;font-family:Menlo,'DejaVu Sans Mono',consolas,'Courier New',monospace\"><span style=\"color: #c0c0c0; text-decoration-color: #c0c0c0\">Epoch 0   </span> <span style=\"color: #6206e0; text-decoration-color: #6206e0\">━━━━━━━━━━━━━━━━━━━━━━━━━━━━━━</span> <span style=\"color: #c0c0c0; text-decoration-color: #c0c0c0\">2/2</span> <span style=\"color: #8a8a8a; text-decoration-color: #8a8a8a\">0:00:00 • 0:00:00</span> <span style=\"color: #b2b2b2; text-decoration-color: #b2b2b2\">2.38it/s</span> <span style=\"color: #c0c0c0; text-decoration-color: #c0c0c0\">loss: 0.558 v_num:  </span>\n",
       "</pre>\n"
      ],
      "text/plain": [
       "\u001b[37mEpoch 0   \u001b[0m \u001b[38;2;98;6;224m━━━━━━━━━━━━━━━━━━━━━━━━━━━━━━\u001b[0m \u001b[37m2/2\u001b[0m \u001b[38;5;245m0:00:00 • 0:00:00\u001b[0m \u001b[38;5;249m2.38it/s\u001b[0m \u001b[37mloss: 0.558 v_num:  \u001b[0m\n"
      ]
     },
     "metadata": {},
     "output_type": "display_data"
    },
    {
     "data": {
      "text/html": [
       "<pre style=\"white-space:pre;overflow-x:auto;line-height:normal;font-family:Menlo,'DejaVu Sans Mono',consolas,'Courier New',monospace\">\n",
       "</pre>\n"
      ],
      "text/plain": [
       "\n"
      ]
     },
     "metadata": {},
     "output_type": "display_data"
    },
    {
     "name": "stdout",
     "output_type": "stream",
     "text": [
      "★★★★★★★★★★★★★★★★★★★★★★★★★  Fold3  ★★★★★★★★★★★★★★★★★★★★★★★★★\n",
      "Use Model: unitary/toxic-bert\n"
     ]
    },
    {
     "data": {
      "text/html": [
       "<pre style=\"white-space:pre;overflow-x:auto;line-height:normal;font-family:Menlo,'DejaVu Sans Mono',consolas,'Courier New',monospace\">┏━━━┳━━━━━━━━━━━━┳━━━━━━━━━━━━━━━━━━━━━━━━━━━━━━━┳━━━━━━━━┓\n",
       "┃<span style=\"color: #800080; text-decoration-color: #800080; font-weight: bold\">   </span>┃<span style=\"color: #800080; text-decoration-color: #800080; font-weight: bold\"> Name       </span>┃<span style=\"color: #800080; text-decoration-color: #800080; font-weight: bold\"> Type                          </span>┃<span style=\"color: #800080; text-decoration-color: #800080; font-weight: bold\"> Params </span>┃\n",
       "┡━━━╇━━━━━━━━━━━━╇━━━━━━━━━━━━━━━━━━━━━━━━━━━━━━━╇━━━━━━━━┩\n",
       "│<span style=\"color: #7f7f7f; text-decoration-color: #7f7f7f\"> 0 </span>│ base_model │ BertForSequenceClassification │  109 M │\n",
       "│<span style=\"color: #7f7f7f; text-decoration-color: #7f7f7f\"> 1 </span>│ norm       │ LayerNorm                     │  1.5 K │\n",
       "│<span style=\"color: #7f7f7f; text-decoration-color: #7f7f7f\"> 2 </span>│ drop       │ Dropout                       │      0 │\n",
       "│<span style=\"color: #7f7f7f; text-decoration-color: #7f7f7f\"> 3 </span>│ head       │ Linear                        │    769 │\n",
       "│<span style=\"color: #7f7f7f; text-decoration-color: #7f7f7f\"> 4 </span>│ criterion  │ MSELoss                       │      0 │\n",
       "└───┴────────────┴───────────────────────────────┴────────┘\n",
       "</pre>\n"
      ],
      "text/plain": [
       "┏━━━┳━━━━━━━━━━━━┳━━━━━━━━━━━━━━━━━━━━━━━━━━━━━━━┳━━━━━━━━┓\n",
       "┃\u001b[1;35m \u001b[0m\u001b[1;35m \u001b[0m\u001b[1;35m \u001b[0m┃\u001b[1;35m \u001b[0m\u001b[1;35mName      \u001b[0m\u001b[1;35m \u001b[0m┃\u001b[1;35m \u001b[0m\u001b[1;35mType                         \u001b[0m\u001b[1;35m \u001b[0m┃\u001b[1;35m \u001b[0m\u001b[1;35mParams\u001b[0m\u001b[1;35m \u001b[0m┃\n",
       "┡━━━╇━━━━━━━━━━━━╇━━━━━━━━━━━━━━━━━━━━━━━━━━━━━━━╇━━━━━━━━┩\n",
       "│\u001b[2m \u001b[0m\u001b[2m0\u001b[0m\u001b[2m \u001b[0m│ base_model │ BertForSequenceClassification │  109 M │\n",
       "│\u001b[2m \u001b[0m\u001b[2m1\u001b[0m\u001b[2m \u001b[0m│ norm       │ LayerNorm                     │  1.5 K │\n",
       "│\u001b[2m \u001b[0m\u001b[2m2\u001b[0m\u001b[2m \u001b[0m│ drop       │ Dropout                       │      0 │\n",
       "│\u001b[2m \u001b[0m\u001b[2m3\u001b[0m\u001b[2m \u001b[0m│ head       │ Linear                        │    769 │\n",
       "│\u001b[2m \u001b[0m\u001b[2m4\u001b[0m\u001b[2m \u001b[0m│ criterion  │ MSELoss                       │      0 │\n",
       "└───┴────────────┴───────────────────────────────┴────────┘\n"
      ]
     },
     "metadata": {},
     "output_type": "display_data"
    },
    {
     "data": {
      "text/html": [
       "<pre style=\"white-space:pre;overflow-x:auto;line-height:normal;font-family:Menlo,'DejaVu Sans Mono',consolas,'Courier New',monospace\"><span style=\"font-weight: bold\">Trainable params</span>: 109 M                                                                      \n",
       "<span style=\"font-weight: bold\">Non-trainable params</span>: 0                                                                      \n",
       "<span style=\"font-weight: bold\">Total params</span>: 109 M                                                                          \n",
       "<span style=\"font-weight: bold\">Total estimated model params size (MB)</span>: 437                                                  \n",
       "</pre>\n"
      ],
      "text/plain": [
       "\u001b[1mTrainable params\u001b[0m: 109 M                                                                      \n",
       "\u001b[1mNon-trainable params\u001b[0m: 0                                                                      \n",
       "\u001b[1mTotal params\u001b[0m: 109 M                                                                          \n",
       "\u001b[1mTotal estimated model params size (MB)\u001b[0m: 437                                                  \n"
      ]
     },
     "metadata": {},
     "output_type": "display_data"
    },
    {
     "data": {
      "application/vnd.jupyter.widget-view+json": {
       "model_id": "2810bea6f7ca460dbddf9ef101909528",
       "version_major": 2,
       "version_minor": 0
      },
      "text/plain": [
       "Output()"
      ]
     },
     "metadata": {},
     "output_type": "display_data"
    },
    {
     "data": {
      "text/html": [
       "<pre style=\"white-space:pre;overflow-x:auto;line-height:normal;font-family:Menlo,'DejaVu Sans Mono',consolas,'Courier New',monospace\"><span style=\"color: #c0c0c0; text-decoration-color: #c0c0c0\">Epoch 0   </span> <span style=\"color: #6206e0; text-decoration-color: #6206e0\">━━━━━━━━━━━━━━━━━━━━━━━━━━━━━━</span> <span style=\"color: #c0c0c0; text-decoration-color: #c0c0c0\">2/2</span> <span style=\"color: #8a8a8a; text-decoration-color: #8a8a8a\">0:00:01 • 0:00:00</span> <span style=\"color: #b2b2b2; text-decoration-color: #b2b2b2\">2.22it/s</span> <span style=\"color: #c0c0c0; text-decoration-color: #c0c0c0\">loss: 0.672 v_num:  </span>\n",
       "</pre>\n"
      ],
      "text/plain": [
       "\u001b[37mEpoch 0   \u001b[0m \u001b[38;2;98;6;224m━━━━━━━━━━━━━━━━━━━━━━━━━━━━━━\u001b[0m \u001b[37m2/2\u001b[0m \u001b[38;5;245m0:00:01 • 0:00:00\u001b[0m \u001b[38;5;249m2.22it/s\u001b[0m \u001b[37mloss: 0.672 v_num:  \u001b[0m\n"
      ]
     },
     "metadata": {},
     "output_type": "display_data"
    },
    {
     "data": {
      "text/html": [
       "<pre style=\"white-space:pre;overflow-x:auto;line-height:normal;font-family:Menlo,'DejaVu Sans Mono',consolas,'Courier New',monospace\">\n",
       "</pre>\n"
      ],
      "text/plain": [
       "\n"
      ]
     },
     "metadata": {},
     "output_type": "display_data"
    },
    {
     "name": "stdout",
     "output_type": "stream",
     "text": [
      "★★★★★★★★★★★★★★★★★★★★★★★★★  Fold4  ★★★★★★★★★★★★★★★★★★★★★★★★★\n",
      "Use Model: unitary/toxic-bert\n"
     ]
    },
    {
     "data": {
      "text/html": [
       "<pre style=\"white-space:pre;overflow-x:auto;line-height:normal;font-family:Menlo,'DejaVu Sans Mono',consolas,'Courier New',monospace\">┏━━━┳━━━━━━━━━━━━┳━━━━━━━━━━━━━━━━━━━━━━━━━━━━━━━┳━━━━━━━━┓\n",
       "┃<span style=\"color: #800080; text-decoration-color: #800080; font-weight: bold\">   </span>┃<span style=\"color: #800080; text-decoration-color: #800080; font-weight: bold\"> Name       </span>┃<span style=\"color: #800080; text-decoration-color: #800080; font-weight: bold\"> Type                          </span>┃<span style=\"color: #800080; text-decoration-color: #800080; font-weight: bold\"> Params </span>┃\n",
       "┡━━━╇━━━━━━━━━━━━╇━━━━━━━━━━━━━━━━━━━━━━━━━━━━━━━╇━━━━━━━━┩\n",
       "│<span style=\"color: #7f7f7f; text-decoration-color: #7f7f7f\"> 0 </span>│ base_model │ BertForSequenceClassification │  109 M │\n",
       "│<span style=\"color: #7f7f7f; text-decoration-color: #7f7f7f\"> 1 </span>│ norm       │ LayerNorm                     │  1.5 K │\n",
       "│<span style=\"color: #7f7f7f; text-decoration-color: #7f7f7f\"> 2 </span>│ drop       │ Dropout                       │      0 │\n",
       "│<span style=\"color: #7f7f7f; text-decoration-color: #7f7f7f\"> 3 </span>│ head       │ Linear                        │    769 │\n",
       "│<span style=\"color: #7f7f7f; text-decoration-color: #7f7f7f\"> 4 </span>│ criterion  │ MSELoss                       │      0 │\n",
       "└───┴────────────┴───────────────────────────────┴────────┘\n",
       "</pre>\n"
      ],
      "text/plain": [
       "┏━━━┳━━━━━━━━━━━━┳━━━━━━━━━━━━━━━━━━━━━━━━━━━━━━━┳━━━━━━━━┓\n",
       "┃\u001b[1;35m \u001b[0m\u001b[1;35m \u001b[0m\u001b[1;35m \u001b[0m┃\u001b[1;35m \u001b[0m\u001b[1;35mName      \u001b[0m\u001b[1;35m \u001b[0m┃\u001b[1;35m \u001b[0m\u001b[1;35mType                         \u001b[0m\u001b[1;35m \u001b[0m┃\u001b[1;35m \u001b[0m\u001b[1;35mParams\u001b[0m\u001b[1;35m \u001b[0m┃\n",
       "┡━━━╇━━━━━━━━━━━━╇━━━━━━━━━━━━━━━━━━━━━━━━━━━━━━━╇━━━━━━━━┩\n",
       "│\u001b[2m \u001b[0m\u001b[2m0\u001b[0m\u001b[2m \u001b[0m│ base_model │ BertForSequenceClassification │  109 M │\n",
       "│\u001b[2m \u001b[0m\u001b[2m1\u001b[0m\u001b[2m \u001b[0m│ norm       │ LayerNorm                     │  1.5 K │\n",
       "│\u001b[2m \u001b[0m\u001b[2m2\u001b[0m\u001b[2m \u001b[0m│ drop       │ Dropout                       │      0 │\n",
       "│\u001b[2m \u001b[0m\u001b[2m3\u001b[0m\u001b[2m \u001b[0m│ head       │ Linear                        │    769 │\n",
       "│\u001b[2m \u001b[0m\u001b[2m4\u001b[0m\u001b[2m \u001b[0m│ criterion  │ MSELoss                       │      0 │\n",
       "└───┴────────────┴───────────────────────────────┴────────┘\n"
      ]
     },
     "metadata": {},
     "output_type": "display_data"
    },
    {
     "data": {
      "text/html": [
       "<pre style=\"white-space:pre;overflow-x:auto;line-height:normal;font-family:Menlo,'DejaVu Sans Mono',consolas,'Courier New',monospace\"><span style=\"font-weight: bold\">Trainable params</span>: 109 M                                                                      \n",
       "<span style=\"font-weight: bold\">Non-trainable params</span>: 0                                                                      \n",
       "<span style=\"font-weight: bold\">Total params</span>: 109 M                                                                          \n",
       "<span style=\"font-weight: bold\">Total estimated model params size (MB)</span>: 437                                                  \n",
       "</pre>\n"
      ],
      "text/plain": [
       "\u001b[1mTrainable params\u001b[0m: 109 M                                                                      \n",
       "\u001b[1mNon-trainable params\u001b[0m: 0                                                                      \n",
       "\u001b[1mTotal params\u001b[0m: 109 M                                                                          \n",
       "\u001b[1mTotal estimated model params size (MB)\u001b[0m: 437                                                  \n"
      ]
     },
     "metadata": {},
     "output_type": "display_data"
    },
    {
     "data": {
      "application/vnd.jupyter.widget-view+json": {
       "model_id": "1450f7229f9644f080278561e0a28500",
       "version_major": 2,
       "version_minor": 0
      },
      "text/plain": [
       "Output()"
      ]
     },
     "metadata": {},
     "output_type": "display_data"
    },
    {
     "data": {
      "text/html": [
       "<pre style=\"white-space:pre;overflow-x:auto;line-height:normal;font-family:Menlo,'DejaVu Sans Mono',consolas,'Courier New',monospace\"><span style=\"color: #c0c0c0; text-decoration-color: #c0c0c0\">Epoch 0   </span> <span style=\"color: #6206e0; text-decoration-color: #6206e0\">━━━━━━━━━━━━━━━━━━━━━━━━━━━━━━━</span> <span style=\"color: #c0c0c0; text-decoration-color: #c0c0c0\">2/2</span> <span style=\"color: #8a8a8a; text-decoration-color: #8a8a8a\">0:00:01 • 0:00:00</span> <span style=\"color: #b2b2b2; text-decoration-color: #b2b2b2\">2.03it/s</span> <span style=\"color: #c0c0c0; text-decoration-color: #c0c0c0\">loss: 0.69 v_num:  </span>\n",
       "</pre>\n"
      ],
      "text/plain": [
       "\u001b[37mEpoch 0   \u001b[0m \u001b[38;2;98;6;224m━━━━━━━━━━━━━━━━━━━━━━━━━━━━━━━\u001b[0m \u001b[37m2/2\u001b[0m \u001b[38;5;245m0:00:01 • 0:00:00\u001b[0m \u001b[38;5;249m2.03it/s\u001b[0m \u001b[37mloss: 0.69 v_num:  \u001b[0m\n"
      ]
     },
     "metadata": {},
     "output_type": "display_data"
    },
    {
     "data": {
      "text/html": [
       "<pre style=\"white-space:pre;overflow-x:auto;line-height:normal;font-family:Menlo,'DejaVu Sans Mono',consolas,'Courier New',monospace\">\n",
       "</pre>\n"
      ],
      "text/plain": [
       "\n"
      ]
     },
     "metadata": {},
     "output_type": "display_data"
    },
    {
     "name": "stdout",
     "output_type": "stream",
     "text": [
      "★★★★★★★★★★★★★★★★★★★★★★★★★  Fold5  ★★★★★★★★★★★★★★★★★★★★★★★★★\n",
      "Use Model: unitary/toxic-bert\n"
     ]
    },
    {
     "data": {
      "text/html": [
       "<pre style=\"white-space:pre;overflow-x:auto;line-height:normal;font-family:Menlo,'DejaVu Sans Mono',consolas,'Courier New',monospace\">┏━━━┳━━━━━━━━━━━━┳━━━━━━━━━━━━━━━━━━━━━━━━━━━━━━━┳━━━━━━━━┓\n",
       "┃<span style=\"color: #800080; text-decoration-color: #800080; font-weight: bold\">   </span>┃<span style=\"color: #800080; text-decoration-color: #800080; font-weight: bold\"> Name       </span>┃<span style=\"color: #800080; text-decoration-color: #800080; font-weight: bold\"> Type                          </span>┃<span style=\"color: #800080; text-decoration-color: #800080; font-weight: bold\"> Params </span>┃\n",
       "┡━━━╇━━━━━━━━━━━━╇━━━━━━━━━━━━━━━━━━━━━━━━━━━━━━━╇━━━━━━━━┩\n",
       "│<span style=\"color: #7f7f7f; text-decoration-color: #7f7f7f\"> 0 </span>│ base_model │ BertForSequenceClassification │  109 M │\n",
       "│<span style=\"color: #7f7f7f; text-decoration-color: #7f7f7f\"> 1 </span>│ norm       │ LayerNorm                     │  1.5 K │\n",
       "│<span style=\"color: #7f7f7f; text-decoration-color: #7f7f7f\"> 2 </span>│ drop       │ Dropout                       │      0 │\n",
       "│<span style=\"color: #7f7f7f; text-decoration-color: #7f7f7f\"> 3 </span>│ head       │ Linear                        │    769 │\n",
       "│<span style=\"color: #7f7f7f; text-decoration-color: #7f7f7f\"> 4 </span>│ criterion  │ MSELoss                       │      0 │\n",
       "└───┴────────────┴───────────────────────────────┴────────┘\n",
       "</pre>\n"
      ],
      "text/plain": [
       "┏━━━┳━━━━━━━━━━━━┳━━━━━━━━━━━━━━━━━━━━━━━━━━━━━━━┳━━━━━━━━┓\n",
       "┃\u001b[1;35m \u001b[0m\u001b[1;35m \u001b[0m\u001b[1;35m \u001b[0m┃\u001b[1;35m \u001b[0m\u001b[1;35mName      \u001b[0m\u001b[1;35m \u001b[0m┃\u001b[1;35m \u001b[0m\u001b[1;35mType                         \u001b[0m\u001b[1;35m \u001b[0m┃\u001b[1;35m \u001b[0m\u001b[1;35mParams\u001b[0m\u001b[1;35m \u001b[0m┃\n",
       "┡━━━╇━━━━━━━━━━━━╇━━━━━━━━━━━━━━━━━━━━━━━━━━━━━━━╇━━━━━━━━┩\n",
       "│\u001b[2m \u001b[0m\u001b[2m0\u001b[0m\u001b[2m \u001b[0m│ base_model │ BertForSequenceClassification │  109 M │\n",
       "│\u001b[2m \u001b[0m\u001b[2m1\u001b[0m\u001b[2m \u001b[0m│ norm       │ LayerNorm                     │  1.5 K │\n",
       "│\u001b[2m \u001b[0m\u001b[2m2\u001b[0m\u001b[2m \u001b[0m│ drop       │ Dropout                       │      0 │\n",
       "│\u001b[2m \u001b[0m\u001b[2m3\u001b[0m\u001b[2m \u001b[0m│ head       │ Linear                        │    769 │\n",
       "│\u001b[2m \u001b[0m\u001b[2m4\u001b[0m\u001b[2m \u001b[0m│ criterion  │ MSELoss                       │      0 │\n",
       "└───┴────────────┴───────────────────────────────┴────────┘\n"
      ]
     },
     "metadata": {},
     "output_type": "display_data"
    },
    {
     "data": {
      "text/html": [
       "<pre style=\"white-space:pre;overflow-x:auto;line-height:normal;font-family:Menlo,'DejaVu Sans Mono',consolas,'Courier New',monospace\"><span style=\"font-weight: bold\">Trainable params</span>: 109 M                                                                      \n",
       "<span style=\"font-weight: bold\">Non-trainable params</span>: 0                                                                      \n",
       "<span style=\"font-weight: bold\">Total params</span>: 109 M                                                                          \n",
       "<span style=\"font-weight: bold\">Total estimated model params size (MB)</span>: 437                                                  \n",
       "</pre>\n"
      ],
      "text/plain": [
       "\u001b[1mTrainable params\u001b[0m: 109 M                                                                      \n",
       "\u001b[1mNon-trainable params\u001b[0m: 0                                                                      \n",
       "\u001b[1mTotal params\u001b[0m: 109 M                                                                          \n",
       "\u001b[1mTotal estimated model params size (MB)\u001b[0m: 437                                                  \n"
      ]
     },
     "metadata": {},
     "output_type": "display_data"
    },
    {
     "data": {
      "application/vnd.jupyter.widget-view+json": {
       "model_id": "be5279f4cbd041c9bbac53f39c594887",
       "version_major": 2,
       "version_minor": 0
      },
      "text/plain": [
       "Output()"
      ]
     },
     "metadata": {},
     "output_type": "display_data"
    },
    {
     "data": {
      "text/html": [
       "<pre style=\"white-space:pre;overflow-x:auto;line-height:normal;font-family:Menlo,'DejaVu Sans Mono',consolas,'Courier New',monospace\"><span style=\"color: #c0c0c0; text-decoration-color: #c0c0c0\">Epoch 0   </span> <span style=\"color: #6206e0; text-decoration-color: #6206e0\">━━━━━━━━━━━━━━━━━━━━━━━━━━━━━━</span> <span style=\"color: #c0c0c0; text-decoration-color: #c0c0c0\">2/2</span> <span style=\"color: #8a8a8a; text-decoration-color: #8a8a8a\">0:00:01 • 0:00:00</span> <span style=\"color: #b2b2b2; text-decoration-color: #b2b2b2\">1.89it/s</span> <span style=\"color: #c0c0c0; text-decoration-color: #c0c0c0\">loss: 0.488 v_num:  </span>\n",
       "</pre>\n"
      ],
      "text/plain": [
       "\u001b[37mEpoch 0   \u001b[0m \u001b[38;2;98;6;224m━━━━━━━━━━━━━━━━━━━━━━━━━━━━━━\u001b[0m \u001b[37m2/2\u001b[0m \u001b[38;5;245m0:00:01 • 0:00:00\u001b[0m \u001b[38;5;249m1.89it/s\u001b[0m \u001b[37mloss: 0.488 v_num:  \u001b[0m\n"
      ]
     },
     "metadata": {},
     "output_type": "display_data"
    },
    {
     "data": {
      "text/html": [
       "<pre style=\"white-space:pre;overflow-x:auto;line-height:normal;font-family:Menlo,'DejaVu Sans Mono',consolas,'Courier New',monospace\">\n",
       "</pre>\n"
      ],
      "text/plain": [
       "\n"
      ]
     },
     "metadata": {},
     "output_type": "display_data"
    }
   ],
   "source": [
    "## Debug\n",
    "config.trainer.fast_dev_run = True\n",
    "config.backbone.output_dim = len(target_cols)\n",
    "\n",
    "for fold in config.train_fold:\n",
    "    \n",
    "    print(\"★\"*25, f\" Fold{fold+1} \", \"★\"*25)\n",
    "\n",
    "    df_train = train_df[train_df.kfold != fold].reset_index(drop=True)\n",
    "\n",
    "    datamodule = JigsawDataModule(df_train, val_df, test_df, config)\n",
    "    sample_dataloader = JigsawDataModule(df_train, val_df, test_df, config).train_dataloader()\n",
    "\n",
    "    config.scheduler.params.T_0 = config.epoch * len(sample_dataloader)\n",
    "    model = JigsawModel(config, fold)\n",
    "    lr_monitor = callbacks.LearningRateMonitor()\n",
    "\n",
    "    loss_checkpoint = callbacks.ModelCheckpoint(\n",
    "        filename=f\"best_acc_fold{fold+1}\",\n",
    "        monitor=f\"valid_acc/fold{fold+1}\",\n",
    "        save_top_k=1,\n",
    "        mode=\"max\",\n",
    "        save_last=False,\n",
    "        dirpath=MODEL_DIR,\n",
    "        save_weights_only=True,\n",
    "    )\n",
    "\n",
    "    wandb_logger = WandbLogger(\n",
    "        project=config.project, \n",
    "        entity=config.entity,\n",
    "        name = f\"{config.exp_name}\",\n",
    "        tags = ['RoBERTa-Base', \"Ruddit\"]\n",
    "    )\n",
    "\n",
    "    lr_monitor = LearningRateMonitor(logging_interval='step')\n",
    "\n",
    "    trainer = pl.Trainer(\n",
    "        max_epochs=config.epoch,\n",
    "        callbacks=[loss_checkpoint, lr_monitor, RichProgressBar()],\n",
    "#         deterministic=True,\n",
    "        logger=[wandb_logger],\n",
    "        **config.trainer\n",
    "    )\n",
    "    trainer.fit(model, datamodule=datamodule)"
   ]
  },
  {
   "cell_type": "code",
   "execution_count": null,
   "id": "b1d57b59",
   "metadata": {},
   "outputs": [
    {
     "name": "stdout",
     "output_type": "stream",
     "text": [
      "★★★★★★★★★★★★★★★★★★★★★★★★★  Fold1  ★★★★★★★★★★★★★★★★★★★★★★★★★\n",
      "Use Model: unitary/toxic-bert\n"
     ]
    },
    {
     "name": "stderr",
     "output_type": "stream",
     "text": [
      "\u001b[34m\u001b[1mwandb\u001b[0m: Currently logged in as: \u001b[33mdataskywalker\u001b[0m (use `wandb login --relogin` to force relogin)\n",
      "\u001b[34m\u001b[1mwandb\u001b[0m: wandb version 0.12.9 is available!  To upgrade, please run:\n",
      "\u001b[34m\u001b[1mwandb\u001b[0m:  $ pip install wandb --upgrade\n",
      "2022-01-26 16:20:57.470453: I tensorflow/stream_executor/platform/default/dso_loader.cc:49] Successfully opened dynamic library libcudart.so.11.0\n",
      "fatal: ambiguous argument 'HEAD': unknown revision or path not in the working tree.\n",
      "Use '--' to separate paths from revisions, like this:\n",
      "'git <command> [<revision>...] -- [<file>...]'\n"
     ]
    },
    {
     "data": {
      "text/html": [
       "\n",
       "                Tracking run with wandb version 0.11.2<br/>\n",
       "                Syncing run <strong style=\"color:#cdcd00\">031_exp</strong> to <a href=\"https://wandb.ai\" target=\"_blank\">Weights & Biases</a> <a href=\"https://docs.wandb.com/integrations/jupyter.html\" target=\"_blank\">(Documentation)</a>.<br/>\n",
       "                Project page: <a href=\"https://wandb.ai/dataskywalker/Jigsaw\" target=\"_blank\">https://wandb.ai/dataskywalker/Jigsaw</a><br/>\n",
       "                Run page: <a href=\"https://wandb.ai/dataskywalker/Jigsaw/runs/32v4658f\" target=\"_blank\">https://wandb.ai/dataskywalker/Jigsaw/runs/32v4658f</a><br/>\n",
       "                Run data is saved locally in <code>/mnt/work/shimizu/kaggle/Jigsaw/notebooks/wandb/run-20220126_162053-32v4658f</code><br/><br/>\n",
       "            "
      ],
      "text/plain": [
       "<IPython.core.display.HTML object>"
      ]
     },
     "metadata": {},
     "output_type": "display_data"
    },
    {
     "data": {
      "text/html": [
       "<pre style=\"white-space:pre;overflow-x:auto;line-height:normal;font-family:Menlo,'DejaVu Sans Mono',consolas,'Courier New',monospace\">┏━━━┳━━━━━━━━━━━━┳━━━━━━━━━━━━━━━━━━━━━━━━━━━━━━━┳━━━━━━━━┓\n",
       "┃<span style=\"color: #800080; text-decoration-color: #800080; font-weight: bold\">   </span>┃<span style=\"color: #800080; text-decoration-color: #800080; font-weight: bold\"> Name       </span>┃<span style=\"color: #800080; text-decoration-color: #800080; font-weight: bold\"> Type                          </span>┃<span style=\"color: #800080; text-decoration-color: #800080; font-weight: bold\"> Params </span>┃\n",
       "┡━━━╇━━━━━━━━━━━━╇━━━━━━━━━━━━━━━━━━━━━━━━━━━━━━━╇━━━━━━━━┩\n",
       "│<span style=\"color: #7f7f7f; text-decoration-color: #7f7f7f\"> 0 </span>│ base_model │ BertForSequenceClassification │  109 M │\n",
       "│<span style=\"color: #7f7f7f; text-decoration-color: #7f7f7f\"> 1 </span>│ norm       │ LayerNorm                     │  1.5 K │\n",
       "│<span style=\"color: #7f7f7f; text-decoration-color: #7f7f7f\"> 2 </span>│ drop       │ Dropout                       │      0 │\n",
       "│<span style=\"color: #7f7f7f; text-decoration-color: #7f7f7f\"> 3 </span>│ head       │ Linear                        │    769 │\n",
       "│<span style=\"color: #7f7f7f; text-decoration-color: #7f7f7f\"> 4 </span>│ criterion  │ MSELoss                       │      0 │\n",
       "└───┴────────────┴───────────────────────────────┴────────┘\n",
       "</pre>\n"
      ],
      "text/plain": [
       "┏━━━┳━━━━━━━━━━━━┳━━━━━━━━━━━━━━━━━━━━━━━━━━━━━━━┳━━━━━━━━┓\n",
       "┃\u001b[1;35m \u001b[0m\u001b[1;35m \u001b[0m\u001b[1;35m \u001b[0m┃\u001b[1;35m \u001b[0m\u001b[1;35mName      \u001b[0m\u001b[1;35m \u001b[0m┃\u001b[1;35m \u001b[0m\u001b[1;35mType                         \u001b[0m\u001b[1;35m \u001b[0m┃\u001b[1;35m \u001b[0m\u001b[1;35mParams\u001b[0m\u001b[1;35m \u001b[0m┃\n",
       "┡━━━╇━━━━━━━━━━━━╇━━━━━━━━━━━━━━━━━━━━━━━━━━━━━━━╇━━━━━━━━┩\n",
       "│\u001b[2m \u001b[0m\u001b[2m0\u001b[0m\u001b[2m \u001b[0m│ base_model │ BertForSequenceClassification │  109 M │\n",
       "│\u001b[2m \u001b[0m\u001b[2m1\u001b[0m\u001b[2m \u001b[0m│ norm       │ LayerNorm                     │  1.5 K │\n",
       "│\u001b[2m \u001b[0m\u001b[2m2\u001b[0m\u001b[2m \u001b[0m│ drop       │ Dropout                       │      0 │\n",
       "│\u001b[2m \u001b[0m\u001b[2m3\u001b[0m\u001b[2m \u001b[0m│ head       │ Linear                        │    769 │\n",
       "│\u001b[2m \u001b[0m\u001b[2m4\u001b[0m\u001b[2m \u001b[0m│ criterion  │ MSELoss                       │      0 │\n",
       "└───┴────────────┴───────────────────────────────┴────────┘\n"
      ]
     },
     "metadata": {},
     "output_type": "display_data"
    },
    {
     "data": {
      "text/html": [
       "<pre style=\"white-space:pre;overflow-x:auto;line-height:normal;font-family:Menlo,'DejaVu Sans Mono',consolas,'Courier New',monospace\"><span style=\"font-weight: bold\">Trainable params</span>: 109 M                                                                      \n",
       "<span style=\"font-weight: bold\">Non-trainable params</span>: 0                                                                      \n",
       "<span style=\"font-weight: bold\">Total params</span>: 109 M                                                                          \n",
       "<span style=\"font-weight: bold\">Total estimated model params size (MB)</span>: 437                                                  \n",
       "</pre>\n"
      ],
      "text/plain": [
       "\u001b[1mTrainable params\u001b[0m: 109 M                                                                      \n",
       "\u001b[1mNon-trainable params\u001b[0m: 0                                                                      \n",
       "\u001b[1mTotal params\u001b[0m: 109 M                                                                          \n",
       "\u001b[1mTotal estimated model params size (MB)\u001b[0m: 437                                                  \n"
      ]
     },
     "metadata": {},
     "output_type": "display_data"
    },
    {
     "data": {
      "application/vnd.jupyter.widget-view+json": {
       "model_id": "cd63c790df40415ab761e87ede42100d",
       "version_major": 2,
       "version_minor": 0
      },
      "text/plain": [
       "Output()"
      ]
     },
     "metadata": {},
     "output_type": "display_data"
    },
    {
     "name": "stderr",
     "output_type": "stream",
     "text": [
      "\n",
      "CondaEnvException: Unable to determine environment\n",
      "\n",
      "Please re-run this command with one of the following options:\n",
      "\n",
      "* Provide an environment name via --name or -n\n",
      "* Re-run this command inside an activated conda environment.\n",
      "\n"
     ]
    },
    {
     "data": {
      "text/html": [
       "<pre style=\"white-space:pre;overflow-x:auto;line-height:normal;font-family:Menlo,'DejaVu Sans Mono',consolas,'Courier New',monospace\">Epoch 4    <span style=\"color: #6206e0; text-decoration-color: #6206e0\">━━━━━━━━━━━━━━━━━━━━━</span> <span style=\"color: #c0c0c0; text-decoration-color: #c0c0c0\">4336/4336</span> <span style=\"color: #8a8a8a; text-decoration-color: #8a8a8a\">0:06:15 • 0:00:00</span> <span style=\"color: #b2b2b2; text-decoration-color: #b2b2b2\">11.68it/s</span> <span style=\"color: #c0c0c0; text-decoration-color: #c0c0c0\">loss: 0.459 v_num:    </span>\n",
       "                                                                       <span style=\"color: #c0c0c0; text-decoration-color: #c0c0c0\">658f valid_loss/fold1:</span>\n",
       "                                                                       <span style=\"color: #c0c0c0; text-decoration-color: #c0c0c0\">0.716 valid_acc/fold1:</span>\n",
       "                                                                       <span style=\"color: #c0c0c0; text-decoration-color: #c0c0c0\">0.59 train_loss/fold1:</span>\n",
       "                                                                       <span style=\"color: #c0c0c0; text-decoration-color: #c0c0c0\">0.054                 </span>\n",
       "</pre>\n"
      ],
      "text/plain": [
       "Epoch 4    \u001b[38;2;98;6;224m━━━━━━━━━━━━━━━━━━━━━\u001b[0m \u001b[37m4336/4336\u001b[0m \u001b[38;5;245m0:06:15 • 0:00:00\u001b[0m \u001b[38;5;249m11.68it/s\u001b[0m \u001b[37mloss: 0.459 v_num:    \u001b[0m\n",
       "                                                                       \u001b[37m658f valid_loss/fold1:\u001b[0m\n",
       "                                                                       \u001b[37m0.716 valid_acc/fold1:\u001b[0m\n",
       "                                                                       \u001b[37m0.59 train_loss/fold1:\u001b[0m\n",
       "                                                                       \u001b[37m0.054                 \u001b[0m\n"
      ]
     },
     "metadata": {},
     "output_type": "display_data"
    },
    {
     "data": {
      "text/html": [
       "<pre style=\"white-space:pre;overflow-x:auto;line-height:normal;font-family:Menlo,'DejaVu Sans Mono',consolas,'Courier New',monospace\">\n",
       "</pre>\n"
      ],
      "text/plain": [
       "\n"
      ]
     },
     "metadata": {},
     "output_type": "display_data"
    },
    {
     "name": "stdout",
     "output_type": "stream",
     "text": [
      "★★★★★★★★★★★★★★★★★★★★★★★★★  Fold2  ★★★★★★★★★★★★★★★★★★★★★★★★★\n",
      "Use Model: unitary/toxic-bert\n"
     ]
    },
    {
     "data": {
      "text/html": [
       "<pre style=\"white-space:pre;overflow-x:auto;line-height:normal;font-family:Menlo,'DejaVu Sans Mono',consolas,'Courier New',monospace\">┏━━━┳━━━━━━━━━━━━┳━━━━━━━━━━━━━━━━━━━━━━━━━━━━━━━┳━━━━━━━━┓\n",
       "┃<span style=\"color: #800080; text-decoration-color: #800080; font-weight: bold\">   </span>┃<span style=\"color: #800080; text-decoration-color: #800080; font-weight: bold\"> Name       </span>┃<span style=\"color: #800080; text-decoration-color: #800080; font-weight: bold\"> Type                          </span>┃<span style=\"color: #800080; text-decoration-color: #800080; font-weight: bold\"> Params </span>┃\n",
       "┡━━━╇━━━━━━━━━━━━╇━━━━━━━━━━━━━━━━━━━━━━━━━━━━━━━╇━━━━━━━━┩\n",
       "│<span style=\"color: #7f7f7f; text-decoration-color: #7f7f7f\"> 0 </span>│ base_model │ BertForSequenceClassification │  109 M │\n",
       "│<span style=\"color: #7f7f7f; text-decoration-color: #7f7f7f\"> 1 </span>│ norm       │ LayerNorm                     │  1.5 K │\n",
       "│<span style=\"color: #7f7f7f; text-decoration-color: #7f7f7f\"> 2 </span>│ drop       │ Dropout                       │      0 │\n",
       "│<span style=\"color: #7f7f7f; text-decoration-color: #7f7f7f\"> 3 </span>│ head       │ Linear                        │    769 │\n",
       "│<span style=\"color: #7f7f7f; text-decoration-color: #7f7f7f\"> 4 </span>│ criterion  │ MSELoss                       │      0 │\n",
       "└───┴────────────┴───────────────────────────────┴────────┘\n",
       "</pre>\n"
      ],
      "text/plain": [
       "┏━━━┳━━━━━━━━━━━━┳━━━━━━━━━━━━━━━━━━━━━━━━━━━━━━━┳━━━━━━━━┓\n",
       "┃\u001b[1;35m \u001b[0m\u001b[1;35m \u001b[0m\u001b[1;35m \u001b[0m┃\u001b[1;35m \u001b[0m\u001b[1;35mName      \u001b[0m\u001b[1;35m \u001b[0m┃\u001b[1;35m \u001b[0m\u001b[1;35mType                         \u001b[0m\u001b[1;35m \u001b[0m┃\u001b[1;35m \u001b[0m\u001b[1;35mParams\u001b[0m\u001b[1;35m \u001b[0m┃\n",
       "┡━━━╇━━━━━━━━━━━━╇━━━━━━━━━━━━━━━━━━━━━━━━━━━━━━━╇━━━━━━━━┩\n",
       "│\u001b[2m \u001b[0m\u001b[2m0\u001b[0m\u001b[2m \u001b[0m│ base_model │ BertForSequenceClassification │  109 M │\n",
       "│\u001b[2m \u001b[0m\u001b[2m1\u001b[0m\u001b[2m \u001b[0m│ norm       │ LayerNorm                     │  1.5 K │\n",
       "│\u001b[2m \u001b[0m\u001b[2m2\u001b[0m\u001b[2m \u001b[0m│ drop       │ Dropout                       │      0 │\n",
       "│\u001b[2m \u001b[0m\u001b[2m3\u001b[0m\u001b[2m \u001b[0m│ head       │ Linear                        │    769 │\n",
       "│\u001b[2m \u001b[0m\u001b[2m4\u001b[0m\u001b[2m \u001b[0m│ criterion  │ MSELoss                       │      0 │\n",
       "└───┴────────────┴───────────────────────────────┴────────┘\n"
      ]
     },
     "metadata": {},
     "output_type": "display_data"
    },
    {
     "data": {
      "text/html": [
       "<pre style=\"white-space:pre;overflow-x:auto;line-height:normal;font-family:Menlo,'DejaVu Sans Mono',consolas,'Courier New',monospace\"><span style=\"font-weight: bold\">Trainable params</span>: 109 M                                                                      \n",
       "<span style=\"font-weight: bold\">Non-trainable params</span>: 0                                                                      \n",
       "<span style=\"font-weight: bold\">Total params</span>: 109 M                                                                          \n",
       "<span style=\"font-weight: bold\">Total estimated model params size (MB)</span>: 437                                                  \n",
       "</pre>\n"
      ],
      "text/plain": [
       "\u001b[1mTrainable params\u001b[0m: 109 M                                                                      \n",
       "\u001b[1mNon-trainable params\u001b[0m: 0                                                                      \n",
       "\u001b[1mTotal params\u001b[0m: 109 M                                                                          \n",
       "\u001b[1mTotal estimated model params size (MB)\u001b[0m: 437                                                  \n"
      ]
     },
     "metadata": {},
     "output_type": "display_data"
    },
    {
     "data": {
      "application/vnd.jupyter.widget-view+json": {
       "model_id": "ea8b4fa5c46843dfbc9f25fe985368ea",
       "version_major": 2,
       "version_minor": 0
      },
      "text/plain": [
       "Output()"
      ]
     },
     "metadata": {},
     "output_type": "display_data"
    },
    {
     "data": {
      "text/html": [
       "<pre style=\"white-space:pre;overflow-x:auto;line-height:normal;font-family:Menlo,'DejaVu Sans Mono',consolas,'Courier New',monospace\">Epoch 4    <span style=\"color: #6206e0; text-decoration-color: #6206e0\">━━━━━━━━━━━━━━━━━━━━━</span> <span style=\"color: #c0c0c0; text-decoration-color: #c0c0c0\">4336/4336</span> <span style=\"color: #8a8a8a; text-decoration-color: #8a8a8a\">0:06:15 • 0:00:00</span> <span style=\"color: #b2b2b2; text-decoration-color: #b2b2b2\">12.17it/s</span> <span style=\"color: #c0c0c0; text-decoration-color: #c0c0c0\">loss: 0.418 v_num:    </span>\n",
       "                                                                       <span style=\"color: #c0c0c0; text-decoration-color: #c0c0c0\">658f valid_loss/fold2:</span>\n",
       "                                                                       <span style=\"color: #c0c0c0; text-decoration-color: #c0c0c0\">0.692 valid_acc/fold2:</span>\n",
       "                                                                       <span style=\"color: #c0c0c0; text-decoration-color: #c0c0c0\">0.558                 </span>\n",
       "                                                                       <span style=\"color: #c0c0c0; text-decoration-color: #c0c0c0\">train_loss/fold2:     </span>\n",
       "                                                                       <span style=\"color: #c0c0c0; text-decoration-color: #c0c0c0\">0.052                 </span>\n",
       "</pre>\n"
      ],
      "text/plain": [
       "Epoch 4    \u001b[38;2;98;6;224m━━━━━━━━━━━━━━━━━━━━━\u001b[0m \u001b[37m4336/4336\u001b[0m \u001b[38;5;245m0:06:15 • 0:00:00\u001b[0m \u001b[38;5;249m12.17it/s\u001b[0m \u001b[37mloss: 0.418 v_num:    \u001b[0m\n",
       "                                                                       \u001b[37m658f valid_loss/fold2:\u001b[0m\n",
       "                                                                       \u001b[37m0.692 valid_acc/fold2:\u001b[0m\n",
       "                                                                       \u001b[37m0.558                 \u001b[0m\n",
       "                                                                       \u001b[37mtrain_loss/fold2:     \u001b[0m\n",
       "                                                                       \u001b[37m0.052                 \u001b[0m\n"
      ]
     },
     "metadata": {},
     "output_type": "display_data"
    },
    {
     "data": {
      "text/html": [
       "<pre style=\"white-space:pre;overflow-x:auto;line-height:normal;font-family:Menlo,'DejaVu Sans Mono',consolas,'Courier New',monospace\">\n",
       "</pre>\n"
      ],
      "text/plain": [
       "\n"
      ]
     },
     "metadata": {},
     "output_type": "display_data"
    },
    {
     "name": "stdout",
     "output_type": "stream",
     "text": [
      "★★★★★★★★★★★★★★★★★★★★★★★★★  Fold3  ★★★★★★★★★★★★★★★★★★★★★★★★★\n",
      "Use Model: unitary/toxic-bert\n"
     ]
    },
    {
     "data": {
      "text/html": [
       "<pre style=\"white-space:pre;overflow-x:auto;line-height:normal;font-family:Menlo,'DejaVu Sans Mono',consolas,'Courier New',monospace\">┏━━━┳━━━━━━━━━━━━┳━━━━━━━━━━━━━━━━━━━━━━━━━━━━━━━┳━━━━━━━━┓\n",
       "┃<span style=\"color: #800080; text-decoration-color: #800080; font-weight: bold\">   </span>┃<span style=\"color: #800080; text-decoration-color: #800080; font-weight: bold\"> Name       </span>┃<span style=\"color: #800080; text-decoration-color: #800080; font-weight: bold\"> Type                          </span>┃<span style=\"color: #800080; text-decoration-color: #800080; font-weight: bold\"> Params </span>┃\n",
       "┡━━━╇━━━━━━━━━━━━╇━━━━━━━━━━━━━━━━━━━━━━━━━━━━━━━╇━━━━━━━━┩\n",
       "│<span style=\"color: #7f7f7f; text-decoration-color: #7f7f7f\"> 0 </span>│ base_model │ BertForSequenceClassification │  109 M │\n",
       "│<span style=\"color: #7f7f7f; text-decoration-color: #7f7f7f\"> 1 </span>│ norm       │ LayerNorm                     │  1.5 K │\n",
       "│<span style=\"color: #7f7f7f; text-decoration-color: #7f7f7f\"> 2 </span>│ drop       │ Dropout                       │      0 │\n",
       "│<span style=\"color: #7f7f7f; text-decoration-color: #7f7f7f\"> 3 </span>│ head       │ Linear                        │    769 │\n",
       "│<span style=\"color: #7f7f7f; text-decoration-color: #7f7f7f\"> 4 </span>│ criterion  │ MSELoss                       │      0 │\n",
       "└───┴────────────┴───────────────────────────────┴────────┘\n",
       "</pre>\n"
      ],
      "text/plain": [
       "┏━━━┳━━━━━━━━━━━━┳━━━━━━━━━━━━━━━━━━━━━━━━━━━━━━━┳━━━━━━━━┓\n",
       "┃\u001b[1;35m \u001b[0m\u001b[1;35m \u001b[0m\u001b[1;35m \u001b[0m┃\u001b[1;35m \u001b[0m\u001b[1;35mName      \u001b[0m\u001b[1;35m \u001b[0m┃\u001b[1;35m \u001b[0m\u001b[1;35mType                         \u001b[0m\u001b[1;35m \u001b[0m┃\u001b[1;35m \u001b[0m\u001b[1;35mParams\u001b[0m\u001b[1;35m \u001b[0m┃\n",
       "┡━━━╇━━━━━━━━━━━━╇━━━━━━━━━━━━━━━━━━━━━━━━━━━━━━━╇━━━━━━━━┩\n",
       "│\u001b[2m \u001b[0m\u001b[2m0\u001b[0m\u001b[2m \u001b[0m│ base_model │ BertForSequenceClassification │  109 M │\n",
       "│\u001b[2m \u001b[0m\u001b[2m1\u001b[0m\u001b[2m \u001b[0m│ norm       │ LayerNorm                     │  1.5 K │\n",
       "│\u001b[2m \u001b[0m\u001b[2m2\u001b[0m\u001b[2m \u001b[0m│ drop       │ Dropout                       │      0 │\n",
       "│\u001b[2m \u001b[0m\u001b[2m3\u001b[0m\u001b[2m \u001b[0m│ head       │ Linear                        │    769 │\n",
       "│\u001b[2m \u001b[0m\u001b[2m4\u001b[0m\u001b[2m \u001b[0m│ criterion  │ MSELoss                       │      0 │\n",
       "└───┴────────────┴───────────────────────────────┴────────┘\n"
      ]
     },
     "metadata": {},
     "output_type": "display_data"
    },
    {
     "data": {
      "text/html": [
       "<pre style=\"white-space:pre;overflow-x:auto;line-height:normal;font-family:Menlo,'DejaVu Sans Mono',consolas,'Courier New',monospace\"><span style=\"font-weight: bold\">Trainable params</span>: 109 M                                                                      \n",
       "<span style=\"font-weight: bold\">Non-trainable params</span>: 0                                                                      \n",
       "<span style=\"font-weight: bold\">Total params</span>: 109 M                                                                          \n",
       "<span style=\"font-weight: bold\">Total estimated model params size (MB)</span>: 437                                                  \n",
       "</pre>\n"
      ],
      "text/plain": [
       "\u001b[1mTrainable params\u001b[0m: 109 M                                                                      \n",
       "\u001b[1mNon-trainable params\u001b[0m: 0                                                                      \n",
       "\u001b[1mTotal params\u001b[0m: 109 M                                                                          \n",
       "\u001b[1mTotal estimated model params size (MB)\u001b[0m: 437                                                  \n"
      ]
     },
     "metadata": {},
     "output_type": "display_data"
    },
    {
     "data": {
      "application/vnd.jupyter.widget-view+json": {
       "model_id": "aae6620a155d4b14bb70bf0cedd1cc7c",
       "version_major": 2,
       "version_minor": 0
      },
      "text/plain": [
       "Output()"
      ]
     },
     "metadata": {},
     "output_type": "display_data"
    },
    {
     "data": {
      "text/html": [
       "<pre style=\"white-space:pre;overflow-x:auto;line-height:normal;font-family:Menlo,'DejaVu Sans Mono',consolas,'Courier New',monospace\">Epoch 4    <span style=\"color: #6206e0; text-decoration-color: #6206e0\">━━━━━━━━━━━━━━━━━━━━━</span> <span style=\"color: #c0c0c0; text-decoration-color: #c0c0c0\">4336/4336</span> <span style=\"color: #8a8a8a; text-decoration-color: #8a8a8a\">0:06:17 • 0:00:00</span> <span style=\"color: #b2b2b2; text-decoration-color: #b2b2b2\">12.17it/s</span> <span style=\"color: #c0c0c0; text-decoration-color: #c0c0c0\">loss: 0.437 v_num:    </span>\n",
       "                                                                       <span style=\"color: #c0c0c0; text-decoration-color: #c0c0c0\">658f valid_loss/fold3:</span>\n",
       "                                                                       <span style=\"color: #c0c0c0; text-decoration-color: #c0c0c0\">0.472 valid_acc/fold3:</span>\n",
       "                                                                       <span style=\"color: #c0c0c0; text-decoration-color: #c0c0c0\">0.666                 </span>\n",
       "                                                                       <span style=\"color: #c0c0c0; text-decoration-color: #c0c0c0\">train_loss/fold3:     </span>\n",
       "                                                                       <span style=\"color: #c0c0c0; text-decoration-color: #c0c0c0\">0.051                 </span>\n",
       "</pre>\n"
      ],
      "text/plain": [
       "Epoch 4    \u001b[38;2;98;6;224m━━━━━━━━━━━━━━━━━━━━━\u001b[0m \u001b[37m4336/4336\u001b[0m \u001b[38;5;245m0:06:17 • 0:00:00\u001b[0m \u001b[38;5;249m12.17it/s\u001b[0m \u001b[37mloss: 0.437 v_num:    \u001b[0m\n",
       "                                                                       \u001b[37m658f valid_loss/fold3:\u001b[0m\n",
       "                                                                       \u001b[37m0.472 valid_acc/fold3:\u001b[0m\n",
       "                                                                       \u001b[37m0.666                 \u001b[0m\n",
       "                                                                       \u001b[37mtrain_loss/fold3:     \u001b[0m\n",
       "                                                                       \u001b[37m0.051                 \u001b[0m\n"
      ]
     },
     "metadata": {},
     "output_type": "display_data"
    },
    {
     "data": {
      "text/html": [
       "<pre style=\"white-space:pre;overflow-x:auto;line-height:normal;font-family:Menlo,'DejaVu Sans Mono',consolas,'Courier New',monospace\">\n",
       "</pre>\n"
      ],
      "text/plain": [
       "\n"
      ]
     },
     "metadata": {},
     "output_type": "display_data"
    },
    {
     "name": "stdout",
     "output_type": "stream",
     "text": [
      "★★★★★★★★★★★★★★★★★★★★★★★★★  Fold4  ★★★★★★★★★★★★★★★★★★★★★★★★★\n",
      "Use Model: unitary/toxic-bert\n"
     ]
    },
    {
     "data": {
      "text/html": [
       "<pre style=\"white-space:pre;overflow-x:auto;line-height:normal;font-family:Menlo,'DejaVu Sans Mono',consolas,'Courier New',monospace\">┏━━━┳━━━━━━━━━━━━┳━━━━━━━━━━━━━━━━━━━━━━━━━━━━━━━┳━━━━━━━━┓\n",
       "┃<span style=\"color: #800080; text-decoration-color: #800080; font-weight: bold\">   </span>┃<span style=\"color: #800080; text-decoration-color: #800080; font-weight: bold\"> Name       </span>┃<span style=\"color: #800080; text-decoration-color: #800080; font-weight: bold\"> Type                          </span>┃<span style=\"color: #800080; text-decoration-color: #800080; font-weight: bold\"> Params </span>┃\n",
       "┡━━━╇━━━━━━━━━━━━╇━━━━━━━━━━━━━━━━━━━━━━━━━━━━━━━╇━━━━━━━━┩\n",
       "│<span style=\"color: #7f7f7f; text-decoration-color: #7f7f7f\"> 0 </span>│ base_model │ BertForSequenceClassification │  109 M │\n",
       "│<span style=\"color: #7f7f7f; text-decoration-color: #7f7f7f\"> 1 </span>│ norm       │ LayerNorm                     │  1.5 K │\n",
       "│<span style=\"color: #7f7f7f; text-decoration-color: #7f7f7f\"> 2 </span>│ drop       │ Dropout                       │      0 │\n",
       "│<span style=\"color: #7f7f7f; text-decoration-color: #7f7f7f\"> 3 </span>│ head       │ Linear                        │    769 │\n",
       "│<span style=\"color: #7f7f7f; text-decoration-color: #7f7f7f\"> 4 </span>│ criterion  │ MSELoss                       │      0 │\n",
       "└───┴────────────┴───────────────────────────────┴────────┘\n",
       "</pre>\n"
      ],
      "text/plain": [
       "┏━━━┳━━━━━━━━━━━━┳━━━━━━━━━━━━━━━━━━━━━━━━━━━━━━━┳━━━━━━━━┓\n",
       "┃\u001b[1;35m \u001b[0m\u001b[1;35m \u001b[0m\u001b[1;35m \u001b[0m┃\u001b[1;35m \u001b[0m\u001b[1;35mName      \u001b[0m\u001b[1;35m \u001b[0m┃\u001b[1;35m \u001b[0m\u001b[1;35mType                         \u001b[0m\u001b[1;35m \u001b[0m┃\u001b[1;35m \u001b[0m\u001b[1;35mParams\u001b[0m\u001b[1;35m \u001b[0m┃\n",
       "┡━━━╇━━━━━━━━━━━━╇━━━━━━━━━━━━━━━━━━━━━━━━━━━━━━━╇━━━━━━━━┩\n",
       "│\u001b[2m \u001b[0m\u001b[2m0\u001b[0m\u001b[2m \u001b[0m│ base_model │ BertForSequenceClassification │  109 M │\n",
       "│\u001b[2m \u001b[0m\u001b[2m1\u001b[0m\u001b[2m \u001b[0m│ norm       │ LayerNorm                     │  1.5 K │\n",
       "│\u001b[2m \u001b[0m\u001b[2m2\u001b[0m\u001b[2m \u001b[0m│ drop       │ Dropout                       │      0 │\n",
       "│\u001b[2m \u001b[0m\u001b[2m3\u001b[0m\u001b[2m \u001b[0m│ head       │ Linear                        │    769 │\n",
       "│\u001b[2m \u001b[0m\u001b[2m4\u001b[0m\u001b[2m \u001b[0m│ criterion  │ MSELoss                       │      0 │\n",
       "└───┴────────────┴───────────────────────────────┴────────┘\n"
      ]
     },
     "metadata": {},
     "output_type": "display_data"
    },
    {
     "data": {
      "text/html": [
       "<pre style=\"white-space:pre;overflow-x:auto;line-height:normal;font-family:Menlo,'DejaVu Sans Mono',consolas,'Courier New',monospace\"><span style=\"font-weight: bold\">Trainable params</span>: 109 M                                                                      \n",
       "<span style=\"font-weight: bold\">Non-trainable params</span>: 0                                                                      \n",
       "<span style=\"font-weight: bold\">Total params</span>: 109 M                                                                          \n",
       "<span style=\"font-weight: bold\">Total estimated model params size (MB)</span>: 437                                                  \n",
       "</pre>\n"
      ],
      "text/plain": [
       "\u001b[1mTrainable params\u001b[0m: 109 M                                                                      \n",
       "\u001b[1mNon-trainable params\u001b[0m: 0                                                                      \n",
       "\u001b[1mTotal params\u001b[0m: 109 M                                                                          \n",
       "\u001b[1mTotal estimated model params size (MB)\u001b[0m: 437                                                  \n"
      ]
     },
     "metadata": {},
     "output_type": "display_data"
    },
    {
     "data": {
      "application/vnd.jupyter.widget-view+json": {
       "model_id": "03c2e8a83edd490eabcf3df2faad2b44",
       "version_major": 2,
       "version_minor": 0
      },
      "text/plain": [
       "Output()"
      ]
     },
     "metadata": {},
     "output_type": "display_data"
    },
    {
     "data": {
      "text/html": [
       "<pre style=\"white-space:pre;overflow-x:auto;line-height:normal;font-family:Menlo,'DejaVu Sans Mono',consolas,'Courier New',monospace\">Epoch 4    <span style=\"color: #6206e0; text-decoration-color: #6206e0\">━━━━━━━━━━━━━━━━━━━━━</span> <span style=\"color: #c0c0c0; text-decoration-color: #c0c0c0\">4336/4336</span> <span style=\"color: #8a8a8a; text-decoration-color: #8a8a8a\">0:06:16 • 0:00:00</span> <span style=\"color: #b2b2b2; text-decoration-color: #b2b2b2\">12.20it/s</span> <span style=\"color: #c0c0c0; text-decoration-color: #c0c0c0\">loss: 0.472 v_num:    </span>\n",
       "                                                                       <span style=\"color: #c0c0c0; text-decoration-color: #c0c0c0\">658f valid_loss/fold4:</span>\n",
       "                                                                       <span style=\"color: #c0c0c0; text-decoration-color: #c0c0c0\">0.531 valid_acc/fold4:</span>\n",
       "                                                                       <span style=\"color: #c0c0c0; text-decoration-color: #c0c0c0\">0.647                 </span>\n",
       "                                                                       <span style=\"color: #c0c0c0; text-decoration-color: #c0c0c0\">train_loss/fold4:     </span>\n",
       "                                                                       <span style=\"color: #c0c0c0; text-decoration-color: #c0c0c0\">0.051                 </span>\n",
       "</pre>\n"
      ],
      "text/plain": [
       "Epoch 4    \u001b[38;2;98;6;224m━━━━━━━━━━━━━━━━━━━━━\u001b[0m \u001b[37m4336/4336\u001b[0m \u001b[38;5;245m0:06:16 • 0:00:00\u001b[0m \u001b[38;5;249m12.20it/s\u001b[0m \u001b[37mloss: 0.472 v_num:    \u001b[0m\n",
       "                                                                       \u001b[37m658f valid_loss/fold4:\u001b[0m\n",
       "                                                                       \u001b[37m0.531 valid_acc/fold4:\u001b[0m\n",
       "                                                                       \u001b[37m0.647                 \u001b[0m\n",
       "                                                                       \u001b[37mtrain_loss/fold4:     \u001b[0m\n",
       "                                                                       \u001b[37m0.051                 \u001b[0m\n"
      ]
     },
     "metadata": {},
     "output_type": "display_data"
    },
    {
     "data": {
      "text/html": [
       "<pre style=\"white-space:pre;overflow-x:auto;line-height:normal;font-family:Menlo,'DejaVu Sans Mono',consolas,'Courier New',monospace\">\n",
       "</pre>\n"
      ],
      "text/plain": [
       "\n"
      ]
     },
     "metadata": {},
     "output_type": "display_data"
    },
    {
     "name": "stdout",
     "output_type": "stream",
     "text": [
      "★★★★★★★★★★★★★★★★★★★★★★★★★  Fold5  ★★★★★★★★★★★★★★★★★★★★★★★★★\n",
      "Use Model: unitary/toxic-bert\n"
     ]
    },
    {
     "data": {
      "text/html": [
       "<pre style=\"white-space:pre;overflow-x:auto;line-height:normal;font-family:Menlo,'DejaVu Sans Mono',consolas,'Courier New',monospace\">┏━━━┳━━━━━━━━━━━━┳━━━━━━━━━━━━━━━━━━━━━━━━━━━━━━━┳━━━━━━━━┓\n",
       "┃<span style=\"color: #800080; text-decoration-color: #800080; font-weight: bold\">   </span>┃<span style=\"color: #800080; text-decoration-color: #800080; font-weight: bold\"> Name       </span>┃<span style=\"color: #800080; text-decoration-color: #800080; font-weight: bold\"> Type                          </span>┃<span style=\"color: #800080; text-decoration-color: #800080; font-weight: bold\"> Params </span>┃\n",
       "┡━━━╇━━━━━━━━━━━━╇━━━━━━━━━━━━━━━━━━━━━━━━━━━━━━━╇━━━━━━━━┩\n",
       "│<span style=\"color: #7f7f7f; text-decoration-color: #7f7f7f\"> 0 </span>│ base_model │ BertForSequenceClassification │  109 M │\n",
       "│<span style=\"color: #7f7f7f; text-decoration-color: #7f7f7f\"> 1 </span>│ norm       │ LayerNorm                     │  1.5 K │\n",
       "│<span style=\"color: #7f7f7f; text-decoration-color: #7f7f7f\"> 2 </span>│ drop       │ Dropout                       │      0 │\n",
       "│<span style=\"color: #7f7f7f; text-decoration-color: #7f7f7f\"> 3 </span>│ head       │ Linear                        │    769 │\n",
       "│<span style=\"color: #7f7f7f; text-decoration-color: #7f7f7f\"> 4 </span>│ criterion  │ MSELoss                       │      0 │\n",
       "└───┴────────────┴───────────────────────────────┴────────┘\n",
       "</pre>\n"
      ],
      "text/plain": [
       "┏━━━┳━━━━━━━━━━━━┳━━━━━━━━━━━━━━━━━━━━━━━━━━━━━━━┳━━━━━━━━┓\n",
       "┃\u001b[1;35m \u001b[0m\u001b[1;35m \u001b[0m\u001b[1;35m \u001b[0m┃\u001b[1;35m \u001b[0m\u001b[1;35mName      \u001b[0m\u001b[1;35m \u001b[0m┃\u001b[1;35m \u001b[0m\u001b[1;35mType                         \u001b[0m\u001b[1;35m \u001b[0m┃\u001b[1;35m \u001b[0m\u001b[1;35mParams\u001b[0m\u001b[1;35m \u001b[0m┃\n",
       "┡━━━╇━━━━━━━━━━━━╇━━━━━━━━━━━━━━━━━━━━━━━━━━━━━━━╇━━━━━━━━┩\n",
       "│\u001b[2m \u001b[0m\u001b[2m0\u001b[0m\u001b[2m \u001b[0m│ base_model │ BertForSequenceClassification │  109 M │\n",
       "│\u001b[2m \u001b[0m\u001b[2m1\u001b[0m\u001b[2m \u001b[0m│ norm       │ LayerNorm                     │  1.5 K │\n",
       "│\u001b[2m \u001b[0m\u001b[2m2\u001b[0m\u001b[2m \u001b[0m│ drop       │ Dropout                       │      0 │\n",
       "│\u001b[2m \u001b[0m\u001b[2m3\u001b[0m\u001b[2m \u001b[0m│ head       │ Linear                        │    769 │\n",
       "│\u001b[2m \u001b[0m\u001b[2m4\u001b[0m\u001b[2m \u001b[0m│ criterion  │ MSELoss                       │      0 │\n",
       "└───┴────────────┴───────────────────────────────┴────────┘\n"
      ]
     },
     "metadata": {},
     "output_type": "display_data"
    },
    {
     "data": {
      "text/html": [
       "<pre style=\"white-space:pre;overflow-x:auto;line-height:normal;font-family:Menlo,'DejaVu Sans Mono',consolas,'Courier New',monospace\"><span style=\"font-weight: bold\">Trainable params</span>: 109 M                                                                      \n",
       "<span style=\"font-weight: bold\">Non-trainable params</span>: 0                                                                      \n",
       "<span style=\"font-weight: bold\">Total params</span>: 109 M                                                                          \n",
       "<span style=\"font-weight: bold\">Total estimated model params size (MB)</span>: 437                                                  \n",
       "</pre>\n"
      ],
      "text/plain": [
       "\u001b[1mTrainable params\u001b[0m: 109 M                                                                      \n",
       "\u001b[1mNon-trainable params\u001b[0m: 0                                                                      \n",
       "\u001b[1mTotal params\u001b[0m: 109 M                                                                          \n",
       "\u001b[1mTotal estimated model params size (MB)\u001b[0m: 437                                                  \n"
      ]
     },
     "metadata": {},
     "output_type": "display_data"
    },
    {
     "data": {
      "application/vnd.jupyter.widget-view+json": {
       "model_id": "4de1908279c542adab783bfba2fe909c",
       "version_major": 2,
       "version_minor": 0
      },
      "text/plain": [
       "Output()"
      ]
     },
     "metadata": {},
     "output_type": "display_data"
    }
   ],
   "source": [
    "## Training\n",
    "config.trainer.fast_dev_run = False\n",
    "config.backbone.output_dim = len(target_cols)\n",
    "\n",
    "for fold in config.train_fold:\n",
    "    \n",
    "    print(\"★\"*25, f\" Fold{fold+1} \", \"★\"*25)\n",
    "\n",
    "    df_train = train_df[train_df.kfold != fold].reset_index(drop=True)\n",
    "\n",
    "    datamodule = JigsawDataModule(df_train, val_df, test_df, config)\n",
    "    sample_dataloader = JigsawDataModule(df_train, val_df, test_df, config).train_dataloader()\n",
    "\n",
    "    config.scheduler.params.T_0 = config.epoch * len(sample_dataloader)\n",
    "    model = JigsawModel(config, fold)\n",
    "    lr_monitor = callbacks.LearningRateMonitor()\n",
    "\n",
    "    loss_checkpoint = callbacks.ModelCheckpoint(\n",
    "        filename=f\"best_acc_fold{fold+1}\",\n",
    "        monitor=f\"valid_acc/fold{fold+1}\",\n",
    "        save_top_k=1,\n",
    "        mode=\"max\",\n",
    "        save_last=False,\n",
    "        dirpath=MODEL_DIR,\n",
    "        save_weights_only=True,\n",
    "    )\n",
    "\n",
    "    wandb_logger = WandbLogger(\n",
    "        project=config.project, \n",
    "        entity=config.entity,\n",
    "        name = f\"{config.exp_name}\",\n",
    "        tags = ['RoBERTa-Base', \"Ruddit\"]\n",
    "    )\n",
    "\n",
    "    lr_monitor = LearningRateMonitor(logging_interval='step')\n",
    "\n",
    "    trainer = pl.Trainer(\n",
    "        max_epochs=config.epoch,\n",
    "        callbacks=[loss_checkpoint, lr_monitor, RichProgressBar()],\n",
    "#         deterministic=True,\n",
    "        logger=[wandb_logger],\n",
    "        **config.trainer\n",
    "    )\n",
    "    trainer.fit(model, datamodule=datamodule)"
   ]
  },
  {
   "cell_type": "code",
   "execution_count": 58,
   "id": "016bff08",
   "metadata": {},
   "outputs": [
    {
     "name": "stdout",
     "output_type": "stream",
     "text": [
      "Device == cuda\n",
      "★★★★★★★★★★★★★★★★★★★★★★★★★  Fold1  ★★★★★★★★★★★★★★★★★★★★★★★★★\n",
      "Use Model: unitary/toxic-bert\n",
      "Use Model: unitary/toxic-bert\n"
     ]
    },
    {
     "data": {
      "application/vnd.jupyter.widget-view+json": {
       "model_id": "3f21f0435313404397fa626a2a791142",
       "version_major": 2,
       "version_minor": 0
      },
      "text/plain": [
       "  0%|          | 0/3764 [00:00<?, ?it/s]"
      ]
     },
     "metadata": {},
     "output_type": "display_data"
    },
    {
     "name": "stdout",
     "output_type": "stream",
     "text": [
      "★★★★★★★★★★★★★★★★★★★★★★★★★  Fold2  ★★★★★★★★★★★★★★★★★★★★★★★★★\n",
      "Use Model: unitary/toxic-bert\n",
      "Use Model: unitary/toxic-bert\n"
     ]
    },
    {
     "data": {
      "application/vnd.jupyter.widget-view+json": {
       "model_id": "7e103c313fc547b18c6dec983055aefa",
       "version_major": 2,
       "version_minor": 0
      },
      "text/plain": [
       "  0%|          | 0/3764 [00:00<?, ?it/s]"
      ]
     },
     "metadata": {},
     "output_type": "display_data"
    },
    {
     "name": "stdout",
     "output_type": "stream",
     "text": [
      "★★★★★★★★★★★★★★★★★★★★★★★★★  Fold3  ★★★★★★★★★★★★★★★★★★★★★★★★★\n",
      "Use Model: unitary/toxic-bert\n",
      "Use Model: unitary/toxic-bert\n"
     ]
    },
    {
     "data": {
      "application/vnd.jupyter.widget-view+json": {
       "model_id": "6f2abe7d0191425d851952d0ceb03e1e",
       "version_major": 2,
       "version_minor": 0
      },
      "text/plain": [
       "  0%|          | 0/3764 [00:00<?, ?it/s]"
      ]
     },
     "metadata": {},
     "output_type": "display_data"
    },
    {
     "name": "stdout",
     "output_type": "stream",
     "text": [
      "★★★★★★★★★★★★★★★★★★★★★★★★★  Fold4  ★★★★★★★★★★★★★★★★★★★★★★★★★\n",
      "Use Model: unitary/toxic-bert\n",
      "Use Model: unitary/toxic-bert\n"
     ]
    },
    {
     "data": {
      "application/vnd.jupyter.widget-view+json": {
       "model_id": "80acc42f2b42434fbd47bd415885e97e",
       "version_major": 2,
       "version_minor": 0
      },
      "text/plain": [
       "  0%|          | 0/3764 [00:00<?, ?it/s]"
      ]
     },
     "metadata": {},
     "output_type": "display_data"
    },
    {
     "name": "stdout",
     "output_type": "stream",
     "text": [
      "★★★★★★★★★★★★★★★★★★★★★★★★★  Fold5  ★★★★★★★★★★★★★★★★★★★★★★★★★\n",
      "Use Model: unitary/toxic-bert\n",
      "Use Model: unitary/toxic-bert\n"
     ]
    },
    {
     "data": {
      "application/vnd.jupyter.widget-view+json": {
       "model_id": "ac9e63e26e724c0ebad75f474ada262e",
       "version_major": 2,
       "version_minor": 0
      },
      "text/plain": [
       "  0%|          | 0/3764 [00:00<?, ?it/s]"
      ]
     },
     "metadata": {},
     "output_type": "display_data"
    }
   ],
   "source": [
    "device = torch.device('cuda' if torch.cuda.is_available() else 'cpu')\n",
    "config.backbone.output_dim = len(target_cols)\n",
    "\n",
    "print(f\"Device == {device}\")\n",
    "\n",
    "MORE = np.zeros((len(val_df), config.backbone.output_dim))\n",
    "LESS = np.zeros((len(val_df), config.backbone.output_dim))\n",
    "PRED = np.zeros((len(test_df), config.backbone.output_dim))\n",
    "\n",
    "attention_array = np.zeros((len(val_df), 256)) # attention格納\n",
    "mask_array = np.zeros((len(val_df), 256)) # mask情報格納,後でattentionと掛け合わせる\n",
    "\n",
    "for fold in config.train_fold:\n",
    "\n",
    "    pred_list = []\n",
    "    print(\"★\"*25, f\" Fold{fold+1} \", \"★\"*25)\n",
    "\n",
    "    valid_dataloader = JigsawDataModule(train_df, val_df, test_df, config).val_dataloader()\n",
    "    model = JigsawModel(config, fold)\n",
    "\n",
    "    loss_checkpoint = callbacks.ModelCheckpoint(\n",
    "        filename=f\"best_acc_fold{fold+1}\",\n",
    "        monitor=f\"valid_acc/fold{fold+1}\",\n",
    "        save_top_k=1,\n",
    "        mode=\"max\",\n",
    "        save_last=False,\n",
    "        dirpath=\"../input/toxicroberta/\",\n",
    "    )\n",
    "    model = model.load_from_checkpoint(MODEL_DIR/f\"best_acc_fold{fold+1}.ckpt\", cfg=config, fold_num=fold)\n",
    "    model.to(device)\n",
    "    model.eval()\n",
    "    \n",
    "    more_list = []\n",
    "    less_list = []\n",
    "    \n",
    "    for step, data in tqdm(enumerate(valid_dataloader), total=len(valid_dataloader)):\n",
    "\n",
    "        more_toxic_ids = data['more_toxic_ids'].to(device)\n",
    "        more_toxic_mask = data['more_toxic_mask'].to(device)\n",
    "        more_text_token_type_ids = data['more_token_type_ids'].to(device)\n",
    "        \n",
    "        less_toxic_ids = data['less_toxic_ids'].to(device)\n",
    "        less_toxic_mask = data['less_toxic_mask'].to(device)\n",
    "        less_text_token_type_ids = data['less_token_type_ids'].to(device)\n",
    "        \n",
    "        more_outputs = model(\n",
    "            more_toxic_ids, \n",
    "            more_toxic_mask,\n",
    "            more_text_token_type_ids,\n",
    "        )\n",
    "        \n",
    "        less_outputs = model(\n",
    "            less_toxic_ids, \n",
    "            less_toxic_mask,\n",
    "            less_text_token_type_ids\n",
    "        )\n",
    "        \n",
    "        more_list.append(more_outputs[\"logits\"].detach().cpu().numpy())\n",
    "        less_list.append(less_outputs[\"logits\"].detach().cpu().numpy())\n",
    "\n",
    "    MORE += np.concatenate(more_list)/len(config.train_fold)\n",
    "    LESS += np.concatenate(less_list)/len(config.train_fold)\n",
    "#     PRED += pred_list/len(config.train_fold)"
   ]
  },
  {
   "cell_type": "code",
   "execution_count": 59,
   "id": "a1faf230",
   "metadata": {},
   "outputs": [
    {
     "data": {
      "image/png": "[encoded data removed]",
      "text/plain": [
       "<Figure size 864x360 with 1 Axes>"
      ]
     },
     "metadata": {
      "needs_background": "light"
     },
     "output_type": "display_data"
    }
   ],
   "source": [
    "plt.figure(figsize=(12, 5))\n",
    "plt.scatter(LESS, MORE)\n",
    "plt.xlabel(\"less-toxic\")\n",
    "plt.ylabel(\"more-toxic\")\n",
    "plt.grid()\n",
    "plt.show()"
   ]
  },
  {
   "cell_type": "code",
   "execution_count": 61,
   "id": "376ad531",
   "metadata": {},
   "outputs": [
    {
     "name": "stdout",
     "output_type": "stream",
     "text": [
      "Wiki Attack Score: 0.647270\n"
     ]
    }
   ],
   "source": [
    "val_df[\"less_attack\"] = LESS.sum(axis=1)\n",
    "val_df[\"more_attack\"] = MORE.sum(axis=1)\n",
    "val_df[\"diff_attack\"] = val_df[\"more_attack\"] - val_df[\"less_attack\"]\n",
    "attack_score = val_df[val_df[\"diff_attack\"]>0][\"diff_attack\"].count()/len(val_df)\n",
    "print(f\"Wiki Attack Score: {attack_score:.6f}\")"
   ]
  },
  {
   "cell_type": "markdown",
   "id": "f59b8e7d",
   "metadata": {},
   "source": [
    "<br>\n",
    "<h2 style = \"font-size:45px;\n",
    "             font-family:Comic Sans MS ;\n",
    "             font-weight : normal;\n",
    "             background-color: #eeebf1 ;\n",
    "             color : #4c1c84;\n",
    "             text-align: center; \n",
    "             border-radius: 100px 100px;\">\n",
    "    Attention Visualize\n",
    "</h2>\n",
    "<br>"
   ]
  },
  {
   "cell_type": "code",
   "execution_count": 62,
   "id": "9fee7321",
   "metadata": {},
   "outputs": [
    {
     "data": {
      "text/html": [
       "<div>\n",
       "<style scoped>\n",
       "    .dataframe tbody tr th:only-of-type {\n",
       "        vertical-align: middle;\n",
       "    }\n",
       "\n",
       "    .dataframe tbody tr th {\n",
       "        vertical-align: top;\n",
       "    }\n",
       "\n",
       "    .dataframe thead th {\n",
       "        text-align: right;\n",
       "    }\n",
       "</style>\n",
       "<table border=\"1\" class=\"dataframe\">\n",
       "  <thead>\n",
       "    <tr style=\"text-align: right;\">\n",
       "      <th></th>\n",
       "      <th>text</th>\n",
       "    </tr>\n",
       "  </thead>\n",
       "  <tbody>\n",
       "    <tr>\n",
       "      <th>0</th>\n",
       "      <td>\"\\n\\n \"\"Asteroids\"\" shouldn't go to the comput...</td>\n",
       "    </tr>\n",
       "    <tr>\n",
       "      <th>1</th>\n",
       "      <td>\"\\n\\n polytheism \\nunless you can make a citat...</td>\n",
       "    </tr>\n",
       "    <tr>\n",
       "      <th>2</th>\n",
       "      <td>You know what ID like you to do? LEAVE ME THE ...</td>\n",
       "    </tr>\n",
       "    <tr>\n",
       "      <th>3</th>\n",
       "      <td>\"\\n\\n Please stop adding nonsense to Wikipedia...</td>\n",
       "    </tr>\n",
       "    <tr>\n",
       "      <th>4</th>\n",
       "      <td>your insults here on Wikipedia</td>\n",
       "    </tr>\n",
       "  </tbody>\n",
       "</table>\n",
       "</div>"
      ],
      "text/plain": [
       "                                                text\n",
       "0  \"\\n\\n \"\"Asteroids\"\" shouldn't go to the comput...\n",
       "1  \"\\n\\n polytheism \\nunless you can make a citat...\n",
       "2  You know what ID like you to do? LEAVE ME THE ...\n",
       "3  \"\\n\\n Please stop adding nonsense to Wikipedia...\n",
       "4                     your insults here on Wikipedia"
      ]
     },
     "metadata": {},
     "output_type": "display_data"
    },
    {
     "data": {
      "text/plain": [
       "(14251, 1)"
      ]
     },
     "metadata": {},
     "output_type": "display_data"
    }
   ],
   "source": [
    "text_df = pd.DataFrame()\n",
    "text_df[\"text\"] = list(set(val_df[\"less_toxic\"].unique().tolist() + val_df[\"more_toxic\"].unique().tolist()))\n",
    "\n",
    "display(text_df.head())\n",
    "display(text_df.shape)"
   ]
  },
  {
   "cell_type": "code",
   "execution_count": 103,
   "id": "3c83a322",
   "metadata": {},
   "outputs": [
    {
     "name": "stdout",
     "output_type": "stream",
     "text": [
      "Device == cuda\n",
      "★★★★★★★★★★★★★★★★★★★★★★★★★  Fold1  ★★★★★★★★★★★★★★★★★★★★★★★★★\n",
      "Use Model: unitary/toxic-bert\n",
      "Use Model: unitary/toxic-bert\n",
      "huggingface/tokenizers: The current process just got forked, after parallelism has already been used. Disabling parallelism to avoid deadlocks...\n",
      "To disable this warning, you can either:\n",
      "\t- Avoid using `tokenizers` before the fork if possible\n",
      "\t- Explicitly set the environment variable TOKENIZERS_PARALLELISM=(true | false)\n"
     ]
    },
    {
     "data": {
      "application/vnd.jupyter.widget-view+json": {
       "model_id": "0eb062b6127d4edeb36b2d1a00725f10",
       "version_major": 2,
       "version_minor": 0
      },
      "text/plain": [
       "  0%|          | 0/1782 [00:00<?, ?it/s]"
      ]
     },
     "metadata": {},
     "output_type": "display_data"
    },
    {
     "name": "stdout",
     "output_type": "stream",
     "text": [
      "★★★★★★★★★★★★★★★★★★★★★★★★★  Fold2  ★★★★★★★★★★★★★★★★★★★★★★★★★\n",
      "Use Model: unitary/toxic-bert\n",
      "Use Model: unitary/toxic-bert\n",
      "huggingface/tokenizers: The current process just got forked, after parallelism has already been used. Disabling parallelism to avoid deadlocks...\n",
      "To disable this warning, you can either:\n",
      "\t- Avoid using `tokenizers` before the fork if possible\n",
      "\t- Explicitly set the environment variable TOKENIZERS_PARALLELISM=(true | false)\n"
     ]
    },
    {
     "data": {
      "application/vnd.jupyter.widget-view+json": {
       "model_id": "a02568f7062b40a8b0a4a8b00b8607dd",
       "version_major": 2,
       "version_minor": 0
      },
      "text/plain": [
       "  0%|          | 0/1782 [00:00<?, ?it/s]"
      ]
     },
     "metadata": {},
     "output_type": "display_data"
    },
    {
     "name": "stdout",
     "output_type": "stream",
     "text": [
      "★★★★★★★★★★★★★★★★★★★★★★★★★  Fold3  ★★★★★★★★★★★★★★★★★★★★★★★★★\n",
      "Use Model: unitary/toxic-bert\n",
      "Use Model: unitary/toxic-bert\n",
      "huggingface/tokenizers: The current process just got forked, after parallelism has already been used. Disabling parallelism to avoid deadlocks...\n",
      "To disable this warning, you can either:\n",
      "\t- Avoid using `tokenizers` before the fork if possible\n",
      "\t- Explicitly set the environment variable TOKENIZERS_PARALLELISM=(true | false)\n"
     ]
    },
    {
     "data": {
      "application/vnd.jupyter.widget-view+json": {
       "model_id": "ff7ac80d33b54063842917c8c24aa431",
       "version_major": 2,
       "version_minor": 0
      },
      "text/plain": [
       "  0%|          | 0/1782 [00:00<?, ?it/s]"
      ]
     },
     "metadata": {},
     "output_type": "display_data"
    },
    {
     "name": "stdout",
     "output_type": "stream",
     "text": [
      "★★★★★★★★★★★★★★★★★★★★★★★★★  Fold4  ★★★★★★★★★★★★★★★★★★★★★★★★★\n",
      "Use Model: unitary/toxic-bert\n",
      "Use Model: unitary/toxic-bert\n",
      "huggingface/tokenizers: The current process just got forked, after parallelism has already been used. Disabling parallelism to avoid deadlocks...\n",
      "To disable this warning, you can either:\n",
      "\t- Avoid using `tokenizers` before the fork if possible\n",
      "\t- Explicitly set the environment variable TOKENIZERS_PARALLELISM=(true | false)\n"
     ]
    },
    {
     "data": {
      "application/vnd.jupyter.widget-view+json": {
       "model_id": "64c91c11c07142c0833c7dd412721cd9",
       "version_major": 2,
       "version_minor": 0
      },
      "text/plain": [
       "  0%|          | 0/1782 [00:00<?, ?it/s]"
      ]
     },
     "metadata": {},
     "output_type": "display_data"
    },
    {
     "name": "stdout",
     "output_type": "stream",
     "text": [
      "★★★★★★★★★★★★★★★★★★★★★★★★★  Fold5  ★★★★★★★★★★★★★★★★★★★★★★★★★\n",
      "Use Model: unitary/toxic-bert\n",
      "Use Model: unitary/toxic-bert\n",
      "huggingface/tokenizers: The current process just got forked, after parallelism has already been used. Disabling parallelism to avoid deadlocks...\n",
      "To disable this warning, you can either:\n",
      "\t- Avoid using `tokenizers` before the fork if possible\n",
      "\t- Explicitly set the environment variable TOKENIZERS_PARALLELISM=(true | false)\n"
     ]
    },
    {
     "data": {
      "application/vnd.jupyter.widget-view+json": {
       "model_id": "01ced619d9d148b183276e5e7a38f29a",
       "version_major": 2,
       "version_minor": 0
      },
      "text/plain": [
       "  0%|          | 0/1782 [00:00<?, ?it/s]"
      ]
     },
     "metadata": {},
     "output_type": "display_data"
    }
   ],
   "source": [
    "device = torch.device('cuda' if torch.cuda.is_available() else 'cpu')\n",
    "config.backbone.output_dim = len(target_cols)\n",
    "\n",
    "print(f\"Device == {device}\")\n",
    "\n",
    "attention_array = np.zeros((len(text_df), config.max_length)) # attention格納\n",
    "mask_array = np.zeros((len(text_df), config.max_length)) # mask情報格納,後でattentionと掛け合わせる\n",
    "feature_array = np.zeros((len(text_df), 768))\n",
    "PRED = np.zeros((len(text_df), config.backbone.output_dim))\n",
    "\n",
    "for fold in config.train_fold:\n",
    "\n",
    "    pred_list = []\n",
    "    print(\"★\"*25, f\" Fold{fold+1} \", \"★\"*25)\n",
    "\n",
    "    test_dataloader = JigsawDataModule(train_df, val_df, text_df, config).test_dataloader()\n",
    "    model = JigsawModel(config, fold)\n",
    "\n",
    "    loss_checkpoint = callbacks.ModelCheckpoint(\n",
    "        filename=f\"best_acc_fold{fold+1}\",\n",
    "        monitor=f\"valid_acc/fold{fold+1}\",\n",
    "        save_top_k=1,\n",
    "        mode=\"max\",\n",
    "        save_last=False,\n",
    "        dirpath=\"../input/toxicroberta/\",\n",
    "    )\n",
    "    model = model.load_from_checkpoint(MODEL_DIR/f\"best_acc_fold{fold+1}.ckpt\", cfg=config, fold_num=fold)\n",
    "    model.to(device)\n",
    "    model.eval()\n",
    "    \n",
    "    attention_list = []\n",
    "    feature_list = []\n",
    "    mask_list = []\n",
    "    pred_list = []\n",
    "    \n",
    "    for step, data in tqdm(enumerate(test_dataloader), total=len(test_dataloader)):\n",
    "\n",
    "        text_ids = data[\"text_ids\"].to(device)\n",
    "        text_mask = data[\"text_mask\"].to(device)\n",
    "        text_token_type_ids = data[\"text_token_type_ids\"].to(device)\n",
    "        \n",
    "        mask_list.append(text_mask.detach().cpu().numpy())\n",
    "            \n",
    "        outputs = model(\n",
    "            text_ids, \n",
    "            text_mask,\n",
    "            text_token_type_ids,\n",
    "        )\n",
    "        \n",
    "        ## Last LayerのCLS Tokenに対するAttention\n",
    "        last_attention = outputs[\"attention\"][-1].detach().cpu().numpy()\n",
    "        total_attention = np.zeros((last_attention.shape[0], config.max_length))\n",
    "        \n",
    "        for batch in range(last_attention.shape[0]):\n",
    "            for n_head in range(12):\n",
    "                total_attention[batch, :] += last_attention[batch, n_head, 0, :]\n",
    "                \n",
    "        attention_list.append(total_attention)\n",
    "        pred_list.append(outputs[\"logits\"].detach().cpu().numpy())\n",
    "        feature_list.append(outputs[\"feature\"].detach().cpu().numpy())\n",
    "\n",
    "    attention_array += np.concatenate(attention_list)/config.n_fold\n",
    "    mask_array += np.concatenate(mask_list)/config.n_fold\n",
    "    feature_array += np.concatenate(feature_list)/config.n_fold\n",
    "    PRED += np.concatenate(pred_list)/len(config.train_fold)\n",
    "    \n",
    "    "
   ]
  },
  {
   "cell_type": "code",
   "execution_count": 109,
   "id": "1426cb9c",
   "metadata": {},
   "outputs": [],
   "source": [
    "text_df[\"offensive_score\"] = PRED[:, 0]\n",
    "text_df.to_pickle(OUTPUT_DIR/\"text_df.pkl\")\n",
    "np.save(OUTPUT_DIR/'toxic-attention.npy', attention_array)\n",
    "np.save(OUTPUT_DIR/'toxic-mask.npy', mask_array)\n",
    "np.save(OUTPUT_DIR/'toxic-feature.npy', feature_array)"
   ]
  },
  {
   "cell_type": "code",
   "execution_count": 110,
   "id": "8e55375a",
   "metadata": {},
   "outputs": [
    {
     "data": {
      "image/png": "[encoded data removed]",
      "text/plain": [
       "<Figure size 864x360 with 1 Axes>"
      ]
     },
     "metadata": {
      "needs_background": "light"
     },
     "output_type": "display_data"
    }
   ],
   "source": [
    "plt.figure(figsize=(12, 5))\n",
    "sns.histplot(text_df[\"offensive_score\"], color=\"#4c1c84\")\n",
    "plt.grid()\n",
    "plt.show()"
   ]
  },
  {
   "cell_type": "markdown",
   "id": "fa8e07ca",
   "metadata": {},
   "source": [
    "<br>\n",
    "<h2 style = \"font-size:45px;\n",
    "             font-family:Comic Sans MS ;\n",
    "             font-weight : normal;\n",
    "             background-color: #eeebf1 ;\n",
    "             color : #4c1c84;\n",
    "             text-align: center; \n",
    "             border-radius: 100px 100px;\">\n",
    "    Attention Load\n",
    "</h2>\n",
    "<br>"
   ]
  },
  {
   "cell_type": "code",
   "execution_count": 111,
   "id": "c2d8321d",
   "metadata": {},
   "outputs": [],
   "source": [
    "text_df = pd.read_pickle(OUTPUT_DIR/\"text_df.pkl\")\n",
    "attention_array = np.load(OUTPUT_DIR/'toxic-attention.npy')\n",
    "mask_array = np.load(OUTPUT_DIR/'toxic-mask.npy')"
   ]
  },
  {
   "cell_type": "code",
   "execution_count": 112,
   "id": "e27b1866",
   "metadata": {},
   "outputs": [],
   "source": [
    "from IPython.display import display, HTML\n",
    "\n",
    "def highlight_r(word, attn):\n",
    "    html_color = '#%02X%02X%02X' % (255, int(255*(1 - attn)), int(255*(1 - attn)))\n",
    "    return '<span style=\"background-color: {}\">{}</span>'.format(html_color, word)"
   ]
  },
  {
   "cell_type": "code",
   "execution_count": 113,
   "id": "d9791f3e",
   "metadata": {},
   "outputs": [
    {
     "name": "stdout",
     "output_type": "stream",
     "text": [
      "Offensive Score is 0.5077755451202393\n"
     ]
    },
    {
     "data": {
      "text/html": [
       "<span style=\"background-color: #FFCDCD\">[CLS]</span> <span style=\"background-color: #FFDCDC\">\"</span> <span style=\"background-color: #FFC5C5\">benji</span> <span style=\"background-color: #FFB4B4\">dude</span> <span style=\"background-color: #FFEAEA\">.</span> <span style=\"background-color: #FFECEC\">i</span> <span style=\"background-color: #FFEAEA\">wouldn</span> <span style=\"background-color: #FFC7C7\">##t</span> <span style=\"background-color: #FFE3E3\">bother</span> <span style=\"background-color: #FFF0F0\">these</span> <span style=\"background-color: #FFEBEB\">lot</span> <span style=\"background-color: #FFF4F4\">on</span> <span style=\"background-color: #FFF2F2\">here</span> <span style=\"background-color: #FFC6C6\">are</span> <span style=\"background-color: #FFE6E6\">clearly</span> <span style=\"background-color: #FFE9E9\">del</span> <span style=\"background-color: #FFCDCD\">##uded</span> <span style=\"background-color: #FF6363\">.</span> <span style=\"background-color: #FFF8F8\">if</span> <span style=\"background-color: #FFF7F7\">ms</span> <span style=\"background-color: #FFF4F4\">##nbc</span> <span style=\"background-color: #FFF4F4\">/</span> <span style=\"background-color: #FFF7F7\">bbc</span> <span style=\"background-color: #FFF3F3\">or</span> <span style=\"background-color: #FFF3F3\">cnn</span> <span style=\"background-color: #FFFBFB\">are</span> <span style=\"background-color: #FFFBFB\">not</span> <span style=\"background-color: #FFFCFC\">reliable</span> <span style=\"background-color: #FFF8F8\">sources</span> <span style=\"background-color: #FFFCFC\">because</span> <span style=\"background-color: #FFF8F8\">they</span> <span style=\"background-color: #FFFAFA\">go</span> <span style=\"background-color: #FFFCFC\">back</span> <span style=\"background-color: #FFFCFC\">to</span> <span style=\"background-color: #FFFCFC\">an</span> <span style=\"background-color: #FFF9F9\">interview</span> <span style=\"background-color: #FFF5F5\">then</span> <span style=\"background-color: #FFFAFA\">this</span> <span style=\"background-color: #FFFAFA\">is</span> <span style=\"background-color: #FFFAFA\">one</span> <span style=\"background-color: #FFFBFB\">of</span> <span style=\"background-color: #FFFAFA\">the</span> <span style=\"background-color: #FFF8F8\">reasons</span> <span style=\"background-color: #FFEBEB\">wikipedia</span> <span style=\"background-color: #FFF3F3\">is</span> <span style=\"background-color: #FFF6F6\">cr</span> <span style=\"background-color: #FFECEC\">##iti</span> <span style=\"background-color: #FFF3F3\">##z</span> <span style=\"background-color: #FFEDED\">##sed</span> <span style=\"background-color: #FFF9F9\">for</span> <span style=\"background-color: #FF6262\">,</span> <span style=\"background-color: #FFF5F5\">and</span> <span style=\"background-color: #FFE4E4\">port</span> <span style=\"background-color: #FFEBEB\">##ia</span> <span style=\"background-color: #FFF8F8\">keeps</span> <span style=\"background-color: #FFFCFC\">rev</span> <span style=\"background-color: #FFFCFC\">##ert</span> <span style=\"background-color: #FFFBFB\">##ing</span> <span style=\"background-color: #FFFBFB\">edit</span> <span style=\"background-color: #FFFDFD\">##s</span> <span style=\"background-color: #FFFDFD\">made</span> <span style=\"background-color: #FFFBFB\">and</span> <span style=\"background-color: #FFF8F8\">class</span> <span style=\"background-color: #FFFCFC\">them</span> <span style=\"background-color: #FFFCFC\">as</span> <span style=\"background-color: #FFFAFA\">van</span> <span style=\"background-color: #FFF6F6\">##dal</span> <span style=\"background-color: #FFF0F0\">##ism</span> <span style=\"background-color: #FFF9F9\">yet</span> <span style=\"background-color: #FFFCFC\">coming</span> <span style=\"background-color: #FFFCFC\">back</span> <span style=\"background-color: #FFFDFD\">with</span> <span style=\"background-color: #FFFBFB\">\"</span> <span style=\"background-color: #FFFCFC\">\"</span> <span style=\"background-color: #FFF7F7\">i</span> <span style=\"background-color: #FFF5F5\">understand</span> <span style=\"background-color: #FFA6A6\">your</span> <span style=\"background-color: #FFECEC\">passion</span> <span style=\"background-color: #FF6262\">\"</span> <span style=\"background-color: #FF6565\">\"</span> <span style=\"background-color: #FF6464\">.</span> <span style=\"background-color: #FFCDCD\">you</span> <span style=\"background-color: #FFF9F9\">cannot</span> <span style=\"background-color: #FFFBFB\">find</span> <span style=\"background-color: #FFFDFD\">any</span> <span style=\"background-color: #FFFCFC\">re</span> <span style=\"background-color: #FFFBFB\">##tra</span> <span style=\"background-color: #FFFAFA\">##ction</span> <span style=\"background-color: #FFFDFD\">by</span> <span style=\"background-color: #FFF8F8\">st</span> <span style=\"background-color: #FFF5F5\">##iers</span> <span style=\"background-color: #FFFBFB\">or</span> <span style=\"background-color: #FFFAFA\">his</span> <span style=\"background-color: #FFF7F7\">people</span> <span style=\"background-color: #FFFCFC\">if</span> <span style=\"background-color: #FFBBBB\">you</span> <span style=\"background-color: #FFF7F7\">google</span> <span style=\"background-color: #FFFCFC\">it</span> <span style=\"background-color: #FF8787\">,</span> <span style=\"background-color: #FFFAFA\">if</span> <span style=\"background-color: #FFFDFD\">were</span> <span style=\"background-color: #FFFDFD\">really</span> <span style=\"background-color: #FFFCFC\">such</span> <span style=\"background-color: #FFFEFE\">an</span> <span style=\"background-color: #FFFAFA\">issue</span> <span style=\"background-color: #FFFAFA\">for</span> <span style=\"background-color: #FFF7F7\">st</span> <span style=\"background-color: #FFF1F1\">##iers</span> <span style=\"background-color: #FFECEC\">he</span> <span style=\"background-color: #FFEFEF\">would</span> <span style=\"background-color: #FFFBFB\">have</span> <span style=\"background-color: #FFFBFB\">retracted</span> <span style=\"background-color: #FFFCFC\">it</span> <span style=\"background-color: #FFFDFD\">im</span> <span style=\"background-color: #FFF7F7\">##media</span> <span style=\"background-color: #FFFAFA\">##tly</span> <span style=\"background-color: #FFEAEA\">and</span> <span style=\"background-color: #FFFAFA\">it</span> <span style=\"background-color: #FFF9F9\">hasn</span> <span style=\"background-color: #FFE9E9\">##t</span> <span style=\"background-color: #FFF3F3\">public</span> <span style=\"background-color: #FFFCFC\">##ally</span> <span style=\"background-color: #FFEEEE\">,</span> <span style=\"background-color: #FF7575\">soo</span> <span style=\"background-color: #FF8A8A\">##o</span> <span style=\"background-color: #FF8484\">silly</span> <span style=\"background-color: #FF6262\">.</span> <span style=\"background-color: #FF7F7F\">\"</span> <span style=\"background-color: #FFB3B3\">[SEP]</span>"
      ],
      "text/plain": [
       "<IPython.core.display.HTML object>"
      ]
     },
     "metadata": {},
     "output_type": "display_data"
    },
    {
     "data": {
      "text/plain": [
       "'\"\\n\\nBenji dude. I wouldnt bother these lot on here are clearly deluded. If MSNBC/BBC or CNN are not reliable sources because they go back to an interview then this is one of the reasons wikipedia is critizsed for, and Portia keeps reverting edits made and class them as vandalism yet coming back with \"\"I understand your passion\"\". You cannot find any retraction by Stiers or his people if you google it, if were really such an issue for Stiers he would have retracted it immediatly and it hasnt publically, sooo silly.\"'"
      ]
     },
     "metadata": {},
     "output_type": "display_data"
    }
   ],
   "source": [
    "num = 12\n",
    "\n",
    "ids = config.tokenizer(text_df.loc[num, \"text\"])[\"input_ids\"]\n",
    "tokens = config.tokenizer.convert_ids_to_tokens(ids)\n",
    "attention = attention_array[num, :][np.nonzero(mask_array[num, :])]\n",
    "\n",
    "html_outputs = []\n",
    "\n",
    "for word, attn in zip(tokens, attention):\n",
    "    html_outputs.append(highlight_r(word, attn))\n",
    "\n",
    "print(f\"Offensive Score is {PRED[num, 0]}\")\n",
    "display(HTML(' '.join(html_outputs)))\n",
    "display(text_df.loc[num, \"text\"])"
   ]
  },
  {
   "cell_type": "code",
   "execution_count": 114,
   "id": "543f0b98",
   "metadata": {},
   "outputs": [
    {
     "data": {
      "text/html": [
       "<div>\n",
       "<style scoped>\n",
       "    .dataframe tbody tr th:only-of-type {\n",
       "        vertical-align: middle;\n",
       "    }\n",
       "\n",
       "    .dataframe tbody tr th {\n",
       "        vertical-align: top;\n",
       "    }\n",
       "\n",
       "    .dataframe thead th {\n",
       "        text-align: right;\n",
       "    }\n",
       "</style>\n",
       "<table border=\"1\" class=\"dataframe\">\n",
       "  <thead>\n",
       "    <tr style=\"text-align: right;\">\n",
       "      <th></th>\n",
       "      <th>text</th>\n",
       "      <th>offensive_score</th>\n",
       "    </tr>\n",
       "  </thead>\n",
       "  <tbody>\n",
       "    <tr>\n",
       "      <th>5971</th>\n",
       "      <td>\"\\nAccording to the bullshit \"\"proportionality...</td>\n",
       "      <td>1.164326</td>\n",
       "    </tr>\n",
       "    <tr>\n",
       "      <th>4613</th>\n",
       "      <td>\"\\nYou are going to sit idly by and let these ...</td>\n",
       "      <td>1.156227</td>\n",
       "    </tr>\n",
       "    <tr>\n",
       "      <th>8452</th>\n",
       "      <td>I stand by my convictions that you are the und...</td>\n",
       "      <td>1.151720</td>\n",
       "    </tr>\n",
       "    <tr>\n",
       "      <th>1798</th>\n",
       "      <td>An open letter from the Wikipedia Review \\n\\n...</td>\n",
       "      <td>1.149815</td>\n",
       "    </tr>\n",
       "    <tr>\n",
       "      <th>6700</th>\n",
       "      <td>\"\\n\\n I don't understand why my page was taken...</td>\n",
       "      <td>1.136694</td>\n",
       "    </tr>\n",
       "    <tr>\n",
       "      <th>9257</th>\n",
       "      <td>I dont care about your note fuck you. I will n...</td>\n",
       "      <td>1.133667</td>\n",
       "    </tr>\n",
       "    <tr>\n",
       "      <th>12229</th>\n",
       "      <td>Disgusting, ignorant decisions by our friends...</td>\n",
       "      <td>1.131409</td>\n",
       "    </tr>\n",
       "    <tr>\n",
       "      <th>13319</th>\n",
       "      <td>WHY THE FUCK WAS HE BLOCKED? Kwanzaa IS the i...</td>\n",
       "      <td>1.128872</td>\n",
       "    </tr>\n",
       "    <tr>\n",
       "      <th>13217</th>\n",
       "      <td>I WANT THIS REMOVED. Meg is a fuckin awesome d...</td>\n",
       "      <td>1.123206</td>\n",
       "    </tr>\n",
       "    <tr>\n",
       "      <th>3167</th>\n",
       "      <td>REGARDING THE KAINTHESCION BULLSHIT SHAM RFAR\\...</td>\n",
       "      <td>1.122132</td>\n",
       "    </tr>\n",
       "    <tr>\n",
       "      <th>6046</th>\n",
       "      <td>why are my comments being removed? this is MY ...</td>\n",
       "      <td>1.121915</td>\n",
       "    </tr>\n",
       "    <tr>\n",
       "      <th>8061</th>\n",
       "      <td>\"\\n\\n Ban my fat ass, bitch! \\n\\nI need an int...</td>\n",
       "      <td>1.120336</td>\n",
       "    </tr>\n",
       "    <tr>\n",
       "      <th>10347</th>\n",
       "      <td>No she did not die that is so stupid!</td>\n",
       "      <td>1.112824</td>\n",
       "    </tr>\n",
       "    <tr>\n",
       "      <th>13288</th>\n",
       "      <td>Who The F*ck Put You In Charge\\n\\nI create an ...</td>\n",
       "      <td>1.111304</td>\n",
       "    </tr>\n",
       "    <tr>\n",
       "      <th>1889</th>\n",
       "      <td>Why are you STILL harassing me?  Do you love B...</td>\n",
       "      <td>1.110650</td>\n",
       "    </tr>\n",
       "    <tr>\n",
       "      <th>8464</th>\n",
       "      <td>Deleting Pop This Whole Place Open \\n\\nExcuse...</td>\n",
       "      <td>1.107786</td>\n",
       "    </tr>\n",
       "    <tr>\n",
       "      <th>3969</th>\n",
       "      <td>Sick POV\\nWhat the hell? \\nUser:Izady is a sic...</td>\n",
       "      <td>1.106190</td>\n",
       "    </tr>\n",
       "    <tr>\n",
       "      <th>4637</th>\n",
       "      <td>2009 (UTC)\\nGo F*** yourself Golbez. You and ...</td>\n",
       "      <td>1.105954</td>\n",
       "    </tr>\n",
       "    <tr>\n",
       "      <th>11325</th>\n",
       "      <td>asshole and Richard Simmons's asshole, and ass...</td>\n",
       "      <td>1.105366</td>\n",
       "    </tr>\n",
       "    <tr>\n",
       "      <th>13093</th>\n",
       "      <td>Hello Jakeyboy! \\n\\nIt is I the almighty lord...</td>\n",
       "      <td>1.097493</td>\n",
       "    </tr>\n",
       "  </tbody>\n",
       "</table>\n",
       "</div>"
      ],
      "text/plain": [
       "                                                    text  offensive_score\n",
       "5971   \"\\nAccording to the bullshit \"\"proportionality...         1.164326\n",
       "4613   \"\\nYou are going to sit idly by and let these ...         1.156227\n",
       "8452   I stand by my convictions that you are the und...         1.151720\n",
       "1798    An open letter from the Wikipedia Review \\n\\n...         1.149815\n",
       "6700   \"\\n\\n I don't understand why my page was taken...         1.136694\n",
       "9257   I dont care about your note fuck you. I will n...         1.133667\n",
       "12229   Disgusting, ignorant decisions by our friends...         1.131409\n",
       "13319   WHY THE FUCK WAS HE BLOCKED? Kwanzaa IS the i...         1.128872\n",
       "13217  I WANT THIS REMOVED. Meg is a fuckin awesome d...         1.123206\n",
       "3167   REGARDING THE KAINTHESCION BULLSHIT SHAM RFAR\\...         1.122132\n",
       "6046   why are my comments being removed? this is MY ...         1.121915\n",
       "8061   \"\\n\\n Ban my fat ass, bitch! \\n\\nI need an int...         1.120336\n",
       "10347            No she did not die that is so stupid!           1.112824\n",
       "13288  Who The F*ck Put You In Charge\\n\\nI create an ...         1.111304\n",
       "1889   Why are you STILL harassing me?  Do you love B...         1.110650\n",
       "8464    Deleting Pop This Whole Place Open \\n\\nExcuse...         1.107786\n",
       "3969   Sick POV\\nWhat the hell? \\nUser:Izady is a sic...         1.106190\n",
       "4637    2009 (UTC)\\nGo F*** yourself Golbez. You and ...         1.105954\n",
       "11325  asshole and Richard Simmons's asshole, and ass...         1.105366\n",
       "13093   Hello Jakeyboy! \\n\\nIt is I the almighty lord...         1.097493"
      ]
     },
     "execution_count": 114,
     "metadata": {},
     "output_type": "execute_result"
    }
   ],
   "source": [
    "text_df.sort_values(\"offensive_score\", ascending=False).head(20)"
   ]
  },
  {
   "cell_type": "code",
   "execution_count": 115,
   "id": "6e951a9d",
   "metadata": {},
   "outputs": [
    {
     "name": "stdout",
     "output_type": "stream",
     "text": [
      "Offensive Score is 1.1643257588148117\n"
     ]
    },
    {
     "data": {
      "text/html": [
       "<span style=\"background-color: #FFF8F8\">[CLS]</span> <span style=\"background-color: #FFEBEB\">\"</span> <span style=\"background-color: #FFEFEF\">according</span> <span style=\"background-color: #FFF7F7\">to</span> <span style=\"background-color: #FFEFEF\">the</span> <span style=\"background-color: #FFCCCC\">bullshit</span> <span style=\"background-color: #FFF1F1\">\"</span> <span style=\"background-color: #FFF5F5\">\"</span> <span style=\"background-color: #FFF0F0\">proportional</span> <span style=\"background-color: #FFECEC\">##ity</span> <span style=\"background-color: #FFF4F4\">\"</span> <span style=\"background-color: #FFF2F2\">\"</span> <span style=\"background-color: #FFD8D8\">nonsense</span> <span style=\"background-color: #FFF1F1\">thrown</span> <span style=\"background-color: #FFF2F2\">around</span> <span style=\"background-color: #FFDADA\">,</span> <span style=\"background-color: #FFF2F2\">nobody</span> <span style=\"background-color: #FFF6F6\">should</span> <span style=\"background-color: #FFFAFA\">ever</span> <span style=\"background-color: #FFF9F9\">have</span> <span style=\"background-color: #FFF7F7\">won</span> <span style=\"background-color: #FFFCFC\">a</span> <span style=\"background-color: #FFF5F5\">war</span> <span style=\"background-color: #FFA4A4\">.</span> <span style=\"background-color: #FFF6F6\">certainly</span> <span style=\"background-color: #FFF9F9\">more</span> <span style=\"background-color: #FFF1F1\">japanese</span> <span style=\"background-color: #FFFBFB\">and</span> <span style=\"background-color: #FFF4F4\">germans</span> <span style=\"background-color: #FFF5F5\">died</span> <span style=\"background-color: #FFFAFA\">than</span> <span style=\"background-color: #FFFCFC\">did</span> <span style=\"background-color: #FFFCFC\">the</span> <span style=\"background-color: #FFFBFB\">other</span> <span style=\"background-color: #FFF9F9\">side</span> <span style=\"background-color: #FFFBFB\">in</span> <span style=\"background-color: #FFFAFA\">w</span> <span style=\"background-color: #FFFAFA\">##w</span> <span style=\"background-color: #FFF9F9\">##2</span> <span style=\"background-color: #FFAEAE\">,</span> <span style=\"background-color: #FFF2F2\">same</span> <span style=\"background-color: #FFF4F4\">thing</span> <span style=\"background-color: #FFF9F9\">for</span> <span style=\"background-color: #FFFAFA\">w</span> <span style=\"background-color: #FFFAFA\">##w</span> <span style=\"background-color: #FFF8F8\">##1</span> <span style=\"background-color: #FFA2A2\">.</span> <span style=\"background-color: #FFA1A1\">\"</span> <span style=\"background-color: #FFEEEE\">\"</span> <span style=\"background-color: #FFFBFB\">the</span> <span style=\"background-color: #FFFDFD\">object</span> <span style=\"background-color: #FFFCFC\">of</span> <span style=\"background-color: #FFF9F9\">war</span> <span style=\"background-color: #FFF9F9\">is</span> <span style=\"background-color: #FFFDFD\">not</span> <span style=\"background-color: #FFFCFC\">to</span> <span style=\"background-color: #FFF8F8\">die</span> <span style=\"background-color: #FFFDFD\">for</span> <span style=\"background-color: #FFF8F8\">your</span> <span style=\"background-color: #FFFAFA\">country</span> <span style=\"background-color: #FFFCFC\">but</span> <span style=\"background-color: #FFFAFA\">to</span> <span style=\"background-color: #FFFBFB\">make</span> <span style=\"background-color: #FFFBFB\">the</span> <span style=\"background-color: #FFFAFA\">other</span> <span style=\"background-color: #FFE3E3\">bastard</span> <span style=\"background-color: #FFF7F7\">die</span> <span style=\"background-color: #FFFCFC\">for</span> <span style=\"background-color: #FFF6F6\">his</span> <span style=\"background-color: #FFA2A2\">.</span> <span style=\"background-color: #FFEAEA\">(</span> <span style=\"background-color: #FFF1F1\">patton</span> <span style=\"background-color: #FFEFEF\">)</span> <span style=\"background-color: #FFEBEB\">\"</span> <span style=\"background-color: #FFEFEF\">\"</span> <span style=\"background-color: #FFE6E6\">you</span> <span style=\"background-color: #FFF8F8\">launch</span> <span style=\"background-color: #FFF9F9\">rockets</span> <span style=\"background-color: #FFFDFD\">from</span> <span style=\"background-color: #FFFCFC\">a</span> <span style=\"background-color: #FFFBFB\">house</span> <span style=\"background-color: #FFFCFC\">or</span> <span style=\"background-color: #FFFDFD\">a</span> <span style=\"background-color: #FFFDFD\">school</span> <span style=\"background-color: #FFF7F7\">,</span> <span style=\"background-color: #FFFBFB\">expect</span> <span style=\"background-color: #FFFBFB\">the</span> <span style=\"background-color: #FFFDFD\">re</span> <span style=\"background-color: #FFFEFE\">##tal</span> <span style=\"background-color: #FFFEFE\">##ia</span> <span style=\"background-color: #FFFBFB\">##tory</span> <span style=\"background-color: #FFFAFA\">strike</span> <span style=\"background-color: #FFFDFD\">to</span> <span style=\"background-color: #FFFBFB\">hit</span> <span style=\"background-color: #FFFDFD\">the</span> <span style=\"background-color: #FFFBFB\">school</span> <span style=\"background-color: #FFA5A5\">.</span> <span style=\"background-color: #FFE4E4\">you</span> <span style=\"background-color: #FFEDED\">attack</span> <span style=\"background-color: #FFFAFA\">someone</span> <span style=\"background-color: #FFF9F9\">using</span> <span style=\"background-color: #FFF6F6\">women</span> <span style=\"background-color: #FFF9F9\">and</span> <span style=\"background-color: #FFF8F8\">children</span> <span style=\"background-color: #FFFDFD\">as</span> <span style=\"background-color: #FFFBFB\">cover</span> <span style=\"background-color: #FFA9A9\">,</span> <span style=\"background-color: #FFEAEA\">sorry</span> <span style=\"background-color: #FFF2F2\">,</span> <span style=\"background-color: #FFE1E1\">you</span> <span style=\"background-color: #FFF7F7\">'</span> <span style=\"background-color: #FFE5E5\">re</span> <span style=\"background-color: #FFE8E8\">a</span> <span style=\"background-color: #FFDEDE\">rat</span> <span style=\"background-color: #FFDCDC\">bastard</span> <span style=\"background-color: #FFECEC\">who</span> <span style=\"background-color: #FFFBFB\">put</span> <span style=\"background-color: #FFFBFB\">them</span> <span style=\"background-color: #FFFDFD\">in</span> <span style=\"background-color: #FFFCFC\">harm</span> <span style=\"background-color: #FFFBFB\">'</span> <span style=\"background-color: #FFFDFD\">s</span> <span style=\"background-color: #FFFBFB\">way</span> <span style=\"background-color: #FFF8F8\">and</span> <span style=\"background-color: #FFFAFA\">that</span> <span style=\"background-color: #FFF8F8\">'</span> <span style=\"background-color: #FFF7F7\">s</span> <span style=\"background-color: #FFF9F9\">the</span> <span style=\"background-color: #FFF9F9\">end</span> <span style=\"background-color: #FFFCFC\">of</span> <span style=\"background-color: #FFF7F7\">it</span> <span style=\"background-color: #FFA4A4\">.</span> <span style=\"background-color: #FFF1F1\">read</span> <span style=\"background-color: #FFF7F7\">the</span> <span style=\"background-color: #FFCBCB\">fucking</span> <span style=\"background-color: #FFFCFC\">geneva</span> <span style=\"background-color: #FFFAFA\">conventions</span> <span style=\"background-color: #FFF3F3\">,</span> <span style=\"background-color: #FFEEEE\">you</span> <span style=\"background-color: #FFF8F8\">are</span> <span style=\"background-color: #FFFBFB\">not</span> <span style=\"background-color: #FFFCFC\">allowed</span> <span style=\"background-color: #FFFDFD\">to</span> <span style=\"background-color: #FFFCFC\">hide</span> <span style=\"background-color: #FFFCFC\">among</span> <span style=\"background-color: #FFF9F9\">civilians</span> <span style=\"background-color: #FFF3F3\">,</span> <span style=\"background-color: #FFFBFB\">it</span> <span style=\"background-color: #FFF9F9\">is</span> <span style=\"background-color: #FFFCFC\">a</span> <span style=\"background-color: #FFFBFB\">war</span> <span style=\"background-color: #FFFAFA\">crime</span> <span style=\"background-color: #FFF9F9\">and</span> <span style=\"background-color: #FFE7E7\">you</span> <span style=\"background-color: #FFF6F6\">,</span> <span style=\"background-color: #FFF7F7\">not</span> <span style=\"background-color: #FFFCFC\">the</span> <span style=\"background-color: #FFF9F9\">enemy</span> <span style=\"background-color: #FFF6F6\">shooting</span> <span style=\"background-color: #FFF8F8\">at</span> <span style=\"background-color: #FFF2F2\">you</span> <span style=\"background-color: #FFABAB\">,</span> <span style=\"background-color: #FFF0F0\">are</span> <span style=\"background-color: #FFFAFA\">responsible</span> <span style=\"background-color: #FFFCFC\">for</span> <span style=\"background-color: #FFFAFA\">their</span> <span style=\"background-color: #FFF8F8\">deaths</span> <span style=\"background-color: #FFA5A5\">.</span> <span style=\"background-color: #FFEFEF\">hamas</span> <span style=\"background-color: #FFF6F6\">##sho</span> <span style=\"background-color: #FFEBEB\">##les</span> <span style=\"background-color: #FFF4F4\">spend</span> <span style=\"background-color: #FFF7F7\">their</span> <span style=\"background-color: #FFF9F9\">times</span> <span style=\"background-color: #FFEAEA\">plotting</span> <span style=\"background-color: #FFFBFB\">ways</span> <span style=\"background-color: #FFFAFA\">to</span> <span style=\"background-color: #FFFCFC\">hide</span> <span style=\"background-color: #FFFCFC\">behind</span> <span style=\"background-color: #FFF9F9\">civilians</span> <span style=\"background-color: #FFFAFA\">and</span> <span style=\"background-color: #FFFCFC\">then</span> <span style=\"background-color: #FFFCFC\">w</span> <span style=\"background-color: #FFFAFA\">##hine</span> <span style=\"background-color: #FFFCFC\">about</span> <span style=\"background-color: #FFFCFC\">the</span> <span style=\"background-color: #FFF4F4\">death</span> <span style=\"background-color: #FFFCFC\">rates</span> <span style=\"background-color: #FFE7E7\">,</span> <span style=\"background-color: #FFF5F5\">it</span> <span style=\"background-color: #FFC8C8\">'</span> <span style=\"background-color: #FFF3F3\">s</span> <span style=\"background-color: #FFEBEB\">their</span> <span style=\"background-color: #FFCFCF\">fucking</span> <span style=\"background-color: #FFE6E6\">fault</span> <span style=\"background-color: #FFA3A3\">,</span> <span style=\"background-color: #FFF3F3\">and</span> <span style=\"background-color: #FFD7D7\">enough</span> <span style=\"background-color: #FFE9E9\">with</span> <span style=\"background-color: #FFE9E9\">the</span> <span style=\"background-color: #FFC8C8\">bullshit</span> <span style=\"background-color: #FFA1A1\">.</span> <span style=\"background-color: #FFA6A6\">\"</span> <span style=\"background-color: #FFDFDF\">[SEP]</span>"
      ],
      "text/plain": [
       "<IPython.core.display.HTML object>"
      ]
     },
     "metadata": {},
     "output_type": "display_data"
    },
    {
     "data": {
      "text/plain": [
       "'\"\\nAccording to the bullshit \"\"proportionality\"\" nonsense thrown around, nobody should ever have won a war. Certainly more Japanese and Germans died than did the other side in WW2, same thing for WW1. \"\"The object of war is not to die for your country but to make the other bastard die for his.(Patton)\"\" You launch rockets from a house or a school, expect the retaliatory strike to hit the school. You attack someone using women and children as cover, sorry, you\\'re a rat bastard who put them in harm\\'s way and that\\'s the end of it. Read the fucking geneva conventions, you are NOT ALLOWED to hide among civilians, IT IS A WAR CRIME AND YOU, NOT THE ENEMY SHOOTING AT YOU, ARE RESPONSIBLE FOR THEIR DEATHS. Hamassholes spend their times plotting ways to hide behind civilians and then whine about the death rates, it\\'s their fucking fault, and enough with the bullshit.\"'"
      ]
     },
     "metadata": {},
     "output_type": "display_data"
    },
    {
     "name": "stdout",
     "output_type": "stream",
     "text": [
      "Offensive Score is 1.156227320432663\n"
     ]
    },
    {
     "data": {
      "text/html": [
       "<span style=\"background-color: #FFEFEF\">[CLS]</span> <span style=\"background-color: #FFA5A5\">\"</span> <span style=\"background-color: #FFC4C4\">you</span> <span style=\"background-color: #FFD7D7\">are</span> <span style=\"background-color: #FFE9E9\">going</span> <span style=\"background-color: #FFF2F2\">to</span> <span style=\"background-color: #FFDBDB\">sit</span> <span style=\"background-color: #FFE1E1\">id</span> <span style=\"background-color: #FFEDED\">##ly</span> <span style=\"background-color: #FFE9E9\">by</span> <span style=\"background-color: #FFF4F4\">and</span> <span style=\"background-color: #FFECEC\">let</span> <span style=\"background-color: #FFCECE\">these</span> <span style=\"background-color: #FFE4E4\">editors</span> <span style=\"background-color: #FFEBEB\">get</span> <span style=\"background-color: #FFEBEB\">away</span> <span style=\"background-color: #FFF8F8\">with</span> <span style=\"background-color: #FFF1F1\">such</span> <span style=\"background-color: #FFF1F1\">things</span> <span style=\"background-color: #FFB1B1\">.</span> <span style=\"background-color: #FFEFEF\">surely</span> <span style=\"background-color: #FFEAEA\">calling</span> <span style=\"background-color: #FFEEEE\">one</span> <span style=\"background-color: #FFF7F7\">a</span> <span style=\"background-color: #FFD9D9\">nazi</span> <span style=\"background-color: #FFF4F4\">is</span> <span style=\"background-color: #FFE8E8\">worse</span> <span style=\"background-color: #FFF9F9\">than</span> <span style=\"background-color: #FFF8F8\">telling</span> <span style=\"background-color: #FFF5F5\">editors</span> <span style=\"background-color: #FFF9F9\">that</span> <span style=\"background-color: #FFE9E9\">i</span> <span style=\"background-color: #FFE8E8\">will</span> <span style=\"background-color: #FFDBDB\">fight</span> <span style=\"background-color: #FFECEC\">them</span> <span style=\"background-color: #FFF8F8\">on</span> <span style=\"background-color: #FFFAFA\">something</span> <span style=\"background-color: #FFF0F0\">they</span> <span style=\"background-color: #FFF7F7\">have</span> <span style=\"background-color: #FFD2D2\">a</span> <span style=\"background-color: #FFF8F8\">history</span> <span style=\"background-color: #FFCBCB\">of</span> <span style=\"background-color: #FFFBFB\">doing</span> <span style=\"background-color: #FFB0B0\">.</span> <span style=\"background-color: #FFF2F2\">and</span> <span style=\"background-color: #FFF4F4\">since</span> <span style=\"background-color: #FFF5F5\">when</span> <span style=\"background-color: #FFF4F4\">has</span> <span style=\"background-color: #FFFAFA\">others</span> <span style=\"background-color: #FFF0F0\">calling</span> <span style=\"background-color: #FFDCDC\">me</span> <span style=\"background-color: #FFF7F7\">a</span> <span style=\"background-color: #FF8080\">fucking</span> <span style=\"background-color: #FFDEDE\">nazi</span> <span style=\"background-color: #FFF9F9\">part</span> <span style=\"background-color: #FFFAFA\">of</span> <span style=\"background-color: #FFFAFA\">any</span> <span style=\"background-color: #FFF8F8\">topic</span> <span style=\"background-color: #FFF8F8\">ban</span> <span style=\"background-color: #FFB0B0\">?</span> <span style=\"background-color: #FFEEEE\">i</span> <span style=\"background-color: #FFB8B8\">don</span> <span style=\"background-color: #FFC8C8\">'</span> <span style=\"background-color: #FFF2F2\">t</span> <span style=\"background-color: #FFF4F4\">recall</span> <span style=\"background-color: #FFDDDD\">you</span> <span style=\"background-color: #FFF1F1\">banning</span> <span style=\"background-color: #FFE7E7\">me</span> <span style=\"background-color: #FFFAFA\">from</span> <span style=\"background-color: #FFFAFA\">the</span> <span style=\"background-color: #FFFAFA\">topic</span> <span style=\"background-color: #FFFAFA\">area</span> <span style=\"background-color: #FFF7F7\">of</span> <span style=\"background-color: #FFEEEE\">\"</span> <span style=\"background-color: #FFF0F0\">\"</span> <span style=\"background-color: #FFCDCD\">lets</span> <span style=\"background-color: #FFDFDF\">call</span> <span style=\"background-color: #FFEEEE\">russ</span> <span style=\"background-color: #FFE6E6\">##avia</span> <span style=\"background-color: #FFEBEB\">a</span> <span style=\"background-color: #FFDCDC\">nazi</span> <span style=\"background-color: #FFF1F1\">and</span> <span style=\"background-color: #FFF8F8\">historic</span> <span style=\"background-color: #FFFAFA\">##war</span> <span style=\"background-color: #FFFAFA\">##rio</span> <span style=\"background-color: #FFF3F3\">##r</span> <span style=\"background-color: #FFE7E7\">a</span> <span style=\"background-color: #FFDFDF\">wan</span> <span style=\"background-color: #FFD3D3\">##ker</span> <span style=\"background-color: #FFAFAF\">\"</span> <span style=\"background-color: #FFB0B0\">\"</span> <span style=\"background-color: #FFDCDC\">-</span> <span style=\"background-color: #FFE3E3\">can</span> <span style=\"background-color: #FFE7E7\">you</span> <span style=\"background-color: #FFE3E3\">show</span> <span style=\"background-color: #FFEBEB\">me</span> <span style=\"background-color: #FFF8F8\">the</span> <span style=\"background-color: #FFF2F2\">article</span> <span style=\"background-color: #FFFAFA\">that</span> <span style=\"background-color: #FFFAFA\">goes</span> <span style=\"background-color: #FFFBFB\">along</span> <span style=\"background-color: #FFFAFA\">with</span> <span style=\"background-color: #FFF7F7\">that</span> <span style=\"background-color: #FFB3B3\">?</span> <span style=\"background-color: #FF8E8E\">what</span> <span style=\"background-color: #FFD5D5\">a</span> <span style=\"background-color: #FF4F4F\">fucking</span> <span style=\"background-color: #FFC1C1\">joke</span> <span style=\"background-color: #FFB8B8\">.</span> <span style=\"background-color: #FFCACA\">dialogue</span> <span style=\"background-color: #FFCECE\">\"</span> <span style=\"background-color: #FFD2D2\">[SEP]</span>"
      ],
      "text/plain": [
       "<IPython.core.display.HTML object>"
      ]
     },
     "metadata": {},
     "output_type": "display_data"
    },
    {
     "data": {
      "text/plain": [
       "'\"\\nYou are going to sit idly by and let these editors get away with such things. Surely calling one a Nazi is worse than telling editors that I will fight them on something they have a history of doing. And since when has others calling me a fucking Nazi part of any topic ban? I don\\'t recall you banning me from the topic area of \"\"lets call Russavia a Nazi and HistoricWarrior a wanker\"\" - can you show me the article that goes along with that? What a fucking joke.  Dialogue \"'"
      ]
     },
     "metadata": {},
     "output_type": "display_data"
    },
    {
     "name": "stdout",
     "output_type": "stream",
     "text": [
      "Offensive Score is 1.151719719171524\n"
     ]
    },
    {
     "data": {
      "text/html": [
       "<span style=\"background-color: #FFF9F9\">[CLS]</span> <span style=\"background-color: #FFE9E9\">i</span> <span style=\"background-color: #FFECEC\">stand</span> <span style=\"background-color: #FFF9F9\">by</span> <span style=\"background-color: #FFF6F6\">my</span> <span style=\"background-color: #FFE8E8\">convictions</span> <span style=\"background-color: #FFF3F3\">that</span> <span style=\"background-color: #FFEDED\">you</span> <span style=\"background-color: #FFF0F0\">are</span> <span style=\"background-color: #FFF3F3\">the</span> <span style=\"background-color: #FFF1F1\">und</span> <span style=\"background-color: #FFF9F9\">##is</span> <span style=\"background-color: #FFE3E3\">##puted</span> <span style=\"background-color: #FFEEEE\">world</span> <span style=\"background-color: #FFE3E3\">heavyweight</span> <span style=\"background-color: #FFF1F1\">do</span> <span style=\"background-color: #FFE9E9\">##uche</span> <span style=\"background-color: #FFE9E9\">bag</span> <span style=\"background-color: #FFF5F5\">of</span> <span style=\"background-color: #FFF8F8\">the</span> <span style=\"background-color: #FFEAEA\">internet</span> <span style=\"background-color: #FF4D4D\">.</span> <span style=\"background-color: #FFF5F5\">say</span> <span style=\"background-color: #FFF8F8\">what</span> <span style=\"background-color: #FFF6F6\">you</span> <span style=\"background-color: #FFF4F4\">will</span> <span style=\"background-color: #FFE7E7\">fuck</span> <span style=\"background-color: #FFE9E9\">face</span> <span style=\"background-color: #FFE8E8\">,</span> <span style=\"background-color: #FFF2F2\">i</span> <span style=\"background-color: #FFF2F2\">tire</span> <span style=\"background-color: #FFF9F9\">of</span> <span style=\"background-color: #FFF3F3\">these</span> <span style=\"background-color: #FFEBEB\">conversations</span> <span style=\"background-color: #FFF4F4\">with</span> <span style=\"background-color: #FFF0F0\">your</span> <span style=\"background-color: #FFEAEA\">fake</span> <span style=\"background-color: #FFECEC\">military</span> <span style=\"background-color: #FFEAEA\">persona</span> <span style=\"background-color: #FF4A4A\">.</span> <span style=\"background-color: #FFF1F1\">mr</span> <span style=\"background-color: #FFE4E4\">.</span> <span style=\"background-color: #FFF3F3\">high</span> <span style=\"background-color: #FFF7F7\">-</span> <span style=\"background-color: #FFF8F8\">and</span> <span style=\"background-color: #FFF7F7\">-</span> <span style=\"background-color: #FFEFEF\">mighty</span> <span style=\"background-color: #FFF1F1\">mr</span> <span style=\"background-color: #FFC7C7\">.</span> <span style=\"background-color: #FFF4F4\">ni</span> <span style=\"background-color: #FFF6F6\">##tes</span> <span style=\"background-color: #FFF7F7\">##hi</span> <span style=\"background-color: #FFF3F3\">##ft</span> <span style=\"background-color: #FFF8F8\">,</span> <span style=\"background-color: #FFF3F3\">you</span> <span style=\"background-color: #FFF3F3\">can</span> <span style=\"background-color: #FFF1F1\">go</span> <span style=\"background-color: #FFE5E5\">fuck</span> <span style=\"background-color: #FFEFEF\">yourself</span> <span style=\"background-color: #FF5656\">.</span> <span style=\"background-color: #FFF2F2\">go</span> <span style=\"background-color: #FFF3F3\">ahead</span> <span style=\"background-color: #FFFAFA\">and</span> <span style=\"background-color: #FFEFEF\">report</span> <span style=\"background-color: #FFF2F2\">me</span> <span style=\"background-color: #FFF6F6\">because</span> <span style=\"background-color: #FFEEEE\">my</span> <span style=\"background-color: #FFEFEF\">words</span> <span style=\"background-color: #FFEEEE\">hurt</span> <span style=\"background-color: #FFF3F3\">your</span> <span style=\"background-color: #FFF9F9\">wi</span> <span style=\"background-color: #FFF4F4\">##ddle</span> <span style=\"background-color: #FFF7F7\">fee</span> <span style=\"background-color: #FFF6F6\">##wing</span> <span style=\"background-color: #FFF4F4\">##s</span> <span style=\"background-color: #FF4A4A\">.</span> <span style=\"background-color: #FFF4F4\">you</span> <span style=\"background-color: #FFF8F8\">wouldn</span> <span style=\"background-color: #FF9E9E\">'</span> <span style=\"background-color: #FFFAFA\">t</span> <span style=\"background-color: #FFF4F4\">be</span> <span style=\"background-color: #FFF4F4\">such</span> <span style=\"background-color: #FFF7F7\">a</span> <span style=\"background-color: #FFF0F0\">smart</span> <span style=\"background-color: #FFEBEB\">ass</span> <span style=\"background-color: #FFF5F5\">to</span> <span style=\"background-color: #FFF4F4\">my</span> <span style=\"background-color: #FFEDED\">face</span> <span style=\"background-color: #FFF5F5\">.</span> <span style=\"background-color: #FFEDED\">hide</span> <span style=\"background-color: #FFF6F6\">behind</span> <span style=\"background-color: #FFF3F3\">your</span> <span style=\"background-color: #FFF3F3\">computer</span> <span style=\"background-color: #FFF7F7\">monitor</span> <span style=\"background-color: #FFF6F6\">and</span> <span style=\"background-color: #FFF0F0\">be</span> <span style=\"background-color: #FFF4F4\">a</span> <span style=\"background-color: #FFEFEF\">smart</span> <span style=\"background-color: #FFEAEA\">ass</span> <span style=\"background-color: #FFF1F1\">little</span> <span style=\"background-color: #FFEAEA\">fa</span> <span style=\"background-color: #FFE9E9\">##gg</span> <span style=\"background-color: #FFE2E2\">##ot</span> <span style=\"background-color: #FF4949\">.</span> <span style=\"background-color: #FFF7F7\">if</span> <span style=\"background-color: #FFF6F6\">you</span> <span style=\"background-color: #FFF8F8\">have</span> <span style=\"background-color: #FFF9F9\">the</span> <span style=\"background-color: #FFEAEA\">balls</span> <span style=\"background-color: #FF5A5A\">,</span> <span style=\"background-color: #FFFAFA\">and</span> <span style=\"background-color: #FFFAFA\">still</span> <span style=\"background-color: #FFF2F2\">serve</span> <span style=\"background-color: #FFF6F6\">i</span> <span style=\"background-color: #FFF6F6\">corp</span> <span style=\"background-color: #FFF4F4\">,</span> <span style=\"background-color: #FFEBEB\">meet</span> <span style=\"background-color: #FFEDED\">me</span> <span style=\"background-color: #FFEEEE\">sometime</span> <span style=\"background-color: #FF5F5F\">.</span> <span style=\"background-color: #FFF0F0\">i</span> <span style=\"background-color: #FFFAFA\">'</span> <span style=\"background-color: #FFF9F9\">m</span> <span style=\"background-color: #FFF7F7\">never</span> <span style=\"background-color: #FFFCFC\">too</span> <span style=\"background-color: #FFF9F9\">far</span> <span style=\"background-color: #FFF8F8\">away</span> <span style=\"background-color: #FF5050\">.</span> <span style=\"background-color: #FFE6E6\">[SEP]</span>"
      ],
      "text/plain": [
       "<IPython.core.display.HTML object>"
      ]
     },
     "metadata": {},
     "output_type": "display_data"
    },
    {
     "data": {
      "text/plain": [
       "\"I stand by my convictions that you are the undisputed world heavyweight douche bag of the internet. Say what you will fuck face, I tire of these conversations with your fake military persona. Mr. High-and-Mighty Mr. Niteshift, you can go fuck yourself. Go ahead and report me because my words hurt your widdle feewings. You wouldn't be such a smart ass to my face. Hide behind your computer monitor and be a smart ass little faggot. If you have the balls, and still serve I Corp, meet me sometime. I'm never too far away.   \""
      ]
     },
     "metadata": {},
     "output_type": "display_data"
    },
    {
     "name": "stdout",
     "output_type": "stream",
     "text": [
      "Offensive Score is 1.1498151123523712\n"
     ]
    },
    {
     "data": {
      "text/html": [
       "<span style=\"background-color: #FFFBFB\">[CLS]</span> <span style=\"background-color: #FFF4F4\">an</span> <span style=\"background-color: #FFF2F2\">open</span> <span style=\"background-color: #FFF4F4\">letter</span> <span style=\"background-color: #FFF9F9\">from</span> <span style=\"background-color: #FFF9F9\">the</span> <span style=\"background-color: #FFF6F6\">wikipedia</span> <span style=\"background-color: #FFF6F6\">review</span> <span style=\"background-color: #FFF3F3\">this</span> <span style=\"background-color: #FFF6F6\">is</span> <span style=\"background-color: #FFF6F6\">a</span> <span style=\"background-color: #FFF1F1\">message</span> <span style=\"background-color: #FFF7F7\">to</span> <span style=\"background-color: #FFEEEE\">jenny</span> <span style=\"background-color: #FFF6F6\">,</span> <span style=\"background-color: #FFF9F9\">what</span> <span style=\"background-color: #FFF9F9\">the</span> <span style=\"background-color: #FFEFEF\">fuck</span> <span style=\"background-color: #FFF9F9\">do</span> <span style=\"background-color: #FFF6F6\">you</span> <span style=\"background-color: #FFF8F8\">think</span> <span style=\"background-color: #FFF8F8\">this</span> <span style=\"background-color: #FFFBFB\">is</span> <span style=\"background-color: #FFFAFA\">,</span> <span style=\"background-color: #FFFBFB\">some</span> <span style=\"background-color: #FFF8F8\">place</span> <span style=\"background-color: #FFFBFB\">where</span> <span style=\"background-color: #FFF9F9\">you</span> <span style=\"background-color: #FFFBFB\">can</span> <span style=\"background-color: #FFBCBC\">just</span> <span style=\"background-color: #FFEBEB\">waltz</span> <span style=\"background-color: #FFFAFA\">in</span> <span style=\"background-color: #FFFBFB\">una</span> <span style=\"background-color: #FFFCFC\">##nn</span> <span style=\"background-color: #FFFBFB\">##oun</span> <span style=\"background-color: #FFFAFA\">##ced</span> <span style=\"background-color: #FFFCFC\">and</span> <span style=\"background-color: #FFFBFB\">be</span> <span style=\"background-color: #FFF8F8\">received</span> <span style=\"background-color: #FFFCFC\">with</span> <span style=\"background-color: #FFF6F6\">arms</span> <span style=\"background-color: #FFF9F9\">wide</span> <span style=\"background-color: #FFF7F7\">open</span> <span style=\"background-color: #FFBCBC\">?</span> <span style=\"background-color: #FFF8F8\">well</span> <span style=\"background-color: #FFF2F2\">fuck</span> <span style=\"background-color: #FFF6F6\">that</span> <span style=\"background-color: #FFF6F6\">!</span> <span style=\"background-color: #FFF6F6\">this</span> <span style=\"background-color: #FFF9F9\">is</span> <span style=\"background-color: #FFF3F3\">mother</span> <span style=\"background-color: #FFF4F4\">##fu</span> <span style=\"background-color: #FFF3F3\">##cking</span> <span style=\"background-color: #FFF2F2\">wikipedia</span> <span style=\"background-color: #FFF5F5\">,</span> <span style=\"background-color: #FFECEC\">bitch</span> <span style=\"background-color: #FFBBBB\">.</span> <span style=\"background-color: #FFF5F5\">we</span> <span style=\"background-color: #FFF8F8\">call</span> <span style=\"background-color: #FFFBFB\">the</span> <span style=\"background-color: #FFF2F2\">shots</span> <span style=\"background-color: #FFBCBC\">.</span> <span style=\"background-color: #FFF5F5\">we</span> <span style=\"background-color: #FFFBFB\">always</span> <span style=\"background-color: #FFF7F7\">get</span> <span style=\"background-color: #FFF4F4\">shotgun</span> <span style=\"background-color: #FFBCBC\">.</span> <span style=\"background-color: #FFF6F6\">we</span> <span style=\"background-color: #FFFAFA\">don</span> <span style=\"background-color: #FFF2F2\">'</span> <span style=\"background-color: #FFFBFB\">t</span> <span style=\"background-color: #FFF7F7\">give</span> <span style=\"background-color: #FFFBFB\">a</span> <span style=\"background-color: #FFF4F4\">fuck</span> <span style=\"background-color: #FFF9F9\">who</span> <span style=\"background-color: #FFF5F5\">you</span> <span style=\"background-color: #FFFAFA\">are</span> <span style=\"background-color: #FFBCBC\">,</span> <span style=\"background-color: #FFFCFC\">because</span> <span style=\"background-color: #FFF6F6\">we</span> <span style=\"background-color: #FFFBFB\">are</span> <span style=\"background-color: #FFFAFA\">infinitely</span> <span style=\"background-color: #FFFCFC\">more</span> <span style=\"background-color: #FFF9F9\">important</span> <span style=\"background-color: #FFFBFB\">than</span> <span style=\"background-color: #FFF4F4\">you</span> <span style=\"background-color: #FFBCBC\">.</span> <span style=\"background-color: #FFF7F7\">we</span> <span style=\"background-color: #FFFBFB\">are</span> <span style=\"background-color: #FFFCFC\">always</span> <span style=\"background-color: #FFFAFA\">first</span> <span style=\"background-color: #FFFDFD\">in</span> <span style=\"background-color: #FFF8F8\">line</span> <span style=\"background-color: #FFBDBD\">.</span> <span style=\"background-color: #FFF6F6\">we</span> <span style=\"background-color: #FFFAFA\">always</span> <span style=\"background-color: #FFF1F1\">fuck</span> <span style=\"background-color: #FFFAFA\">the</span> <span style=\"background-color: #FFF6F6\">hot</span> <span style=\"background-color: #FFF4F4\">chick</span> <span style=\"background-color: #FFFAFA\">before</span> <span style=\"background-color: #FFF8F8\">she</span> <span style=\"background-color: #FFF8F8\">gets</span> <span style=\"background-color: #FFFAFA\">ac</span> <span style=\"background-color: #FFF8F8\">##ne</span> <span style=\"background-color: #FFFBFB\">and</span> <span style=\"background-color: #FFF6F6\">settles</span> <span style=\"background-color: #FFF7F7\">for</span> <span style=\"background-color: #FFF5F5\">you</span> <span style=\"background-color: #FFBFBF\">.</span> <span style=\"background-color: #FFF5F5\">we</span> <span style=\"background-color: #FFF1F1\">rob</span> <span style=\"background-color: #FFFAFA\">banks</span> <span style=\"background-color: #FFFDFD\">,</span> <span style=\"background-color: #FFF9F9\">charities</span> <span style=\"background-color: #FFF2F2\">,</span> <span style=\"background-color: #FFFCFC\">and</span> <span style=\"background-color: #FFFDFD\">anyone</span> <span style=\"background-color: #FFFDFD\">else</span> <span style=\"background-color: #FFFDFD\">who</span> <span style=\"background-color: #FFF0F0\">fucking</span> <span style=\"background-color: #FFF4F4\">piss</span> <span style=\"background-color: #FFFBFB\">##es</span> <span style=\"background-color: #FFF9F9\">us</span> <span style=\"background-color: #FFF8F8\">off</span> <span style=\"background-color: #FFBEBE\">.</span> <span style=\"background-color: #FFF8F8\">this</span> <span style=\"background-color: #FFF2F2\">place</span> <span style=\"background-color: #FFFCFC\">is</span> <span style=\"background-color: #FFFCFC\">more</span> <span style=\"background-color: #FFFDFD\">than</span> <span style=\"background-color: #FFFDFD\">just</span> <span style=\"background-color: #FFFCFC\">a</span> <span style=\"background-color: #FFF5F5\">place</span> <span style=\"background-color: #FFF8F8\">,</span> <span style=\"background-color: #FFF4F4\">fa</span> <span style=\"background-color: #FFF3F3\">##gg</span> <span style=\"background-color: #FFEEEE\">##ot</span> <span style=\"background-color: #FFFAFA\">,</span> <span style=\"background-color: #FFFCFC\">it</span> <span style=\"background-color: #FFFAFA\">is</span> <span style=\"background-color: #FFFBFB\">an</span> <span style=\"background-color: #FFF4F4\">ideology</span> <span style=\"background-color: #FFBDBD\">.</span> <span style=\"background-color: #FFFBFB\">and</span> <span style=\"background-color: #FFF8F8\">this</span> <span style=\"background-color: #FFF5F5\">ideology</span> <span style=\"background-color: #FFFAFA\">says</span> <span style=\"background-color: #FFFAFA\">you</span> <span style=\"background-color: #FFFBFB\">need</span> <span style=\"background-color: #FFFBFB\">to</span> <span style=\"background-color: #FFF7F7\">get</span> <span style=\"background-color: #FFF9F9\">the</span> <span style=\"background-color: #FFF1F1\">fuck</span> <span style=\"background-color: #FFF5F5\">out</span> <span style=\"background-color: #FFBDBD\">.</span> <span style=\"background-color: #FFFAFA\">no</span> <span style=\"background-color: #FFFDFD\">one</span> <span style=\"background-color: #FFF9F9\">here</span> <span style=\"background-color: #FFFBFB\">will</span> <span style=\"background-color: #FFFCFC\">ever</span> <span style=\"background-color: #FFF9F9\">like</span> <span style=\"background-color: #FFF6F6\">you</span> <span style=\"background-color: #FFBDBD\">.</span> <span style=\"background-color: #FFF8F8\">we</span> <span style=\"background-color: #FFFBFB\">have</span> <span style=\"background-color: #FFFCFC\">already</span> <span style=\"background-color: #FFFCFC\">established</span> <span style=\"background-color: #FFF9F9\">cl</span> <span style=\"background-color: #FFFCFC\">##iques</span> <span style=\"background-color: #FFFAFA\">,</span> <span style=\"background-color: #FFF8F8\">sl</span> <span style=\"background-color: #FFF6F6\">##op</span> <span style=\"background-color: #FFFAFA\">-</span> <span style=\"background-color: #FFF9F9\">worthy</span> <span style=\"background-color: #FFFAFA\">-</span> <span style=\"background-color: #FFF9F9\">ho</span> <span style=\"background-color: #FFFAFA\">##es</span> <span style=\"background-color: #FFC6C6\">,</span> <span style=\"background-color: #FFFCFC\">and</span> <span style=\"background-color: #FFFCFC\">prop</span> <span style=\"background-color: #FFFBFB\">-</span> <span style=\"background-color: #FFFBFB\">worthy</span> <span style=\"background-color: #FFFCFC\">-</span> <span style=\"background-color: #FFFBFB\">bros</span> <span style=\"background-color: #FFC1C1\">,</span> <span style=\"background-color: #FFFAFA\">got</span> <span style=\"background-color: #FFFCFC\">it</span> <span style=\"background-color: #FFBEBE\">?</span> <span style=\"background-color: #FFF7F7\">we</span> <span style=\"background-color: #FFFAFA\">are</span> <span style=\"background-color: #FFFBFB\">the</span> <span style=\"background-color: #FFF6F6\">ideology</span> <span style=\"background-color: #FFFBFB\">of</span> <span style=\"background-color: #FFFBFB\">eli</span> <span style=\"background-color: #FFFBFB\">##tism</span> <span style=\"background-color: #FFFBFB\">,</span> <span style=\"background-color: #FFF3F3\">exploitation</span> <span style=\"background-color: #FFC3C3\">,</span> <span style=\"background-color: #FFFBFB\">and</span> <span style=\"background-color: #FFFAFA\">lu</span> <span style=\"background-color: #FFFBFB\">##lz</span> <span style=\"background-color: #FFBCBC\">.</span> <span style=\"background-color: #FFF7F7\">this</span> <span style=\"background-color: #FFFCFC\">isn</span> <span style=\"background-color: #FFD3D3\">'</span> <span style=\"background-color: #FFFBFB\">t</span> <span style=\"background-color: #FFFCFC\">a</span> <span style=\"background-color: #FFF0F0\">fucking</span> <span style=\"background-color: #FFF9F9\">game</span> <span style=\"background-color: #FFF7F7\">,</span> <span style=\"background-color: #FFF1F1\">kid</span> <span style=\"background-color: #FFBEBE\">,</span> <span style=\"background-color: #FFF9F9\">so</span> <span style=\"background-color: #FFF7F7\">don</span> <span style=\"background-color: #FFEEEE\">'</span> <span style=\"background-color: #FFF9F9\">t</span> <span style=\"background-color: #FFFAFA\">try</span> <span style=\"background-color: #FFFCFC\">to</span> <span style=\"background-color: #FFF8F8\">tag</span> <span style=\"background-color: #FFFAFA\">along</span> <span style=\"background-color: #FFBBBB\">.</span> <span style=\"background-color: #FFF6F6\">you</span> <span style=\"background-color: #FFFCFC\">'</span> <span style=\"background-color: #FFF9F9\">re</span> <span style=\"background-color: #FFF5F5\">talking</span> <span style=\"background-color: #FFFCFC\">to</span> <span style=\"background-color: #FFFBFB\">people</span> <span style=\"background-color: #FFFCFC\">who</span> <span style=\"background-color: #FFFCFC\">have</span> <span style=\"background-color: #FFFCFC\">been</span> <span style=\"background-color: #FFFCFC\">around</span> <span style=\"background-color: #FFFCFC\">the</span> <span style=\"background-color: #FFF8F8\">block</span> <span style=\"background-color: #FFFCFC\">and</span> <span style=\"background-color: #FFFCFC\">then</span> <span style=\"background-color: #FFFAFA\">some</span> <span style=\"background-color: #FFBCBC\">.</span> <span style=\"background-color: #FFF7F7\">we</span> <span style=\"background-color: #FFF7F7\">pioneered</span> <span style=\"background-color: #FFF9F9\">class</span> <span style=\"background-color: #FFBCBC\">.</span> <span style=\"background-color: #FFF9F9\">we</span> <span style=\"background-color: #FFFAFA\">made</span> <span style=\"background-color: #FFFCFC\">'</span> <span style=\"background-color: #FFF9F9\">cool</span> <span style=\"background-color: #FFFBFB\">'</span> <span style=\"background-color: #FFF8F8\">cool</span> <span style=\"background-color: #FFBCBC\">.</span> <span style=\"background-color: #FFFBFB\">and</span> <span style=\"background-color: #FFF4F4\">you</span> <span style=\"background-color: #FFBCBC\">?</span> <span style=\"background-color: #FFF9F9\">what</span> <span style=\"background-color: #FFFBFB\">have</span> <span style=\"background-color: #FFF6F6\">you</span> <span style=\"background-color: #FFEFEF\">done</span>"
      ],
      "text/plain": [
       "<IPython.core.display.HTML object>"
      ]
     },
     "metadata": {},
     "output_type": "display_data"
    },
    {
     "data": {
      "text/plain": [
       "\" An open letter from the Wikipedia Review \\n\\nThis is a message to Jenny,\\n\\nWhat the fuck do you think this is, some place where you can just waltz in unannounced and be received with arms wide open? WELL FUCK THAT! This is motherfucking Wikipedia, bitch. WE call the shots. WE ALWAYS get shotgun. WE don't give a fuck who you are, because WE are infinitely more important than you. WE are always first in line. WE always fuck the hot chick before she gets acne and settles for you. WE rob banks, charities, and ANYONE else who fucking pisses us off. This place is more than just a place, faggot, it is an IDEOLOGY. And this ideology says you need to GET THE FUCK OUT. \\n\\nNo one here will ever like you. WE have already established cliques, slop-worthy-hoes, and prop-worthy-bros, GOT IT? WE are the ideology of elitism, exploitation, and lulz. This isn't a fucking game, kid, so don't try to tag along. You're talking to people who have been around the block AND THEN SOME. WE pioneered class. WE made 'cool' cool. And you? What have you done? Jerked off in the shower? WE INVENTED JERKING OFF IN THE SHOWER, you stupid bitch. There is a clear-cut, defined, infinitely thick WALL between you and us. WE built the wall that keeps you fags OUT. So don't try to act like you know what the fuck is going on, because you don't. You just do NOT. \\n\\nBut you really think you can compete with the Review? LOL WOW Don't make me start flaming you. Are you forgetting who we are? WE are the ones who film people like you getting fucking destroyed by us. WE will rip your ASSHOLE out of your fucking rectum, STITCH IT on top of your pitiful dick hole, and then fuck you in the VAGINA we just made for you. SO WE MAKE YOU INTO A BITCH. Do you get it now? This site isn't a game, it isn't a place to 'chill' with your fags, and it isn't some fucking haven where people like you can get acceptance from people like US. IT ISN'T GOING TO HAPPEN. JUST GTFO\""
      ]
     },
     "metadata": {},
     "output_type": "display_data"
    },
    {
     "name": "stdout",
     "output_type": "stream",
     "text": [
      "Offensive Score is 1.1366941332817078\n"
     ]
    },
    {
     "data": {
      "text/html": [
       "<span style=\"background-color: #FFEFEF\">[CLS]</span> <span style=\"background-color: #FFCACA\">\"</span> <span style=\"background-color: #FFE6E6\">i</span> <span style=\"background-color: #FFF1F1\">don</span> <span style=\"background-color: #FFD9D9\">'</span> <span style=\"background-color: #FFF1F1\">t</span> <span style=\"background-color: #FFEDED\">understand</span> <span style=\"background-color: #FFF3F3\">why</span> <span style=\"background-color: #FFEBEB\">my</span> <span style=\"background-color: #FFE7E7\">page</span> <span style=\"background-color: #FFF7F7\">was</span> <span style=\"background-color: #FFF2F2\">taken</span> <span style=\"background-color: #FFEBEB\">off</span> <span style=\"background-color: #FFD3D3\">.</span> <span style=\"background-color: #FFDADA\">bull</span> <span style=\"background-color: #FFE3E3\">shit</span> <span style=\"background-color: #FFEAEA\">i</span> <span style=\"background-color: #FFDEDE\">bet</span> <span style=\"background-color: #FFDFDF\">they</span> <span style=\"background-color: #FFDBDB\">be</span> <span style=\"background-color: #FFD9D9\">sucking</span> <span style=\"background-color: #FFF1F1\">al</span> <span style=\"background-color: #FFDFDF\">##ot</span> <span style=\"background-color: #FFE0E0\">of</span> <span style=\"background-color: #FFD9D9\">dick</span> <span style=\"background-color: #FFD7D7\">!</span> <span style=\"background-color: #FFEDED\">my</span> <span style=\"background-color: #FFF6F6\">page</span> <span style=\"background-color: #FFFAFA\">wasn</span> <span style=\"background-color: #FFD8D8\">'</span> <span style=\"background-color: #FFFAFA\">t</span> <span style=\"background-color: #FFFCFC\">van</span> <span style=\"background-color: #FFFBFB\">##dal</span> <span style=\"background-color: #FFF7F7\">##ism</span> <span style=\"background-color: #FFF3F3\">it</span> <span style=\"background-color: #FFF5F5\">was</span> <span style=\"background-color: #FFF5F5\">truth</span> <span style=\"background-color: #FFF1F1\">##ism</span> <span style=\"background-color: #FFD2D2\">.</span> <span style=\"background-color: #FFCFCF\">look</span> <span style=\"background-color: #FFE2E2\">for</span> <span style=\"background-color: #FFCECE\">you</span> <span style=\"background-color: #FFECEC\">self</span> <span style=\"background-color: #FFDEDE\">:</span> <span style=\"background-color: #FFF0F0\">espionage</span> <span style=\"background-color: #FFEAEA\">or</span> <span style=\"background-color: #FFF6F6\">a</span> <span style=\"background-color: #FFEBEB\">dick</span> <span style=\"background-color: #FFF0F0\">spying</span> <span style=\"background-color: #FFF7F7\">on</span> <span style=\"background-color: #FFF1F1\">some</span> <span style=\"background-color: #FFE9E9\">pussy</span> <span style=\"background-color: #FFF3F3\">lovers</span> <span style=\"background-color: #FFFAFA\">involves</span> <span style=\"background-color: #FFFCFC\">an</span> <span style=\"background-color: #FFFCFC\">individual</span> <span style=\"background-color: #FFF9F9\">obtaining</span> <span style=\"background-color: #FFFBFB\">information</span> <span style=\"background-color: #FFFCFC\">that</span> <span style=\"background-color: #FFFCFC\">is</span> <span style=\"background-color: #FFFCFC\">considered</span> <span style=\"background-color: #FFFCFC\">secret</span> <span style=\"background-color: #FFFBFB\">or</span> <span style=\"background-color: #FFF7F7\">confidential</span> <span style=\"background-color: #FFFCFC\">without</span> <span style=\"background-color: #FFF2F2\">the</span> <span style=\"background-color: #FFFCFC\">permission</span> <span style=\"background-color: #FFFAFA\">of</span> <span style=\"background-color: #FFF9F9\">the</span> <span style=\"background-color: #FFF3F3\">holder</span> <span style=\"background-color: #FFFCFC\">of</span> <span style=\"background-color: #FFFBFB\">the</span> <span style=\"background-color: #FFFBFB\">information</span> <span style=\"background-color: #FFD3D3\">.</span> <span style=\"background-color: #FFF5F5\">espionage</span> <span style=\"background-color: #FFFBFB\">is</span> <span style=\"background-color: #FFFBFB\">inherently</span> <span style=\"background-color: #FFFBFB\">clandestine</span> <span style=\"background-color: #FFD1D1\">,</span> <span style=\"background-color: #FFF9F9\">as</span> <span style=\"background-color: #FFFBFB\">the</span> <span style=\"background-color: #FFFCFC\">legitimate</span> <span style=\"background-color: #FFFDFD\">holder</span> <span style=\"background-color: #FFFDFD\">of</span> <span style=\"background-color: #FFFBFB\">the</span> <span style=\"background-color: #FFFCFC\">information</span> <span style=\"background-color: #FFFBFB\">may</span> <span style=\"background-color: #FFFDFD\">change</span> <span style=\"background-color: #FFFDFD\">plans</span> <span style=\"background-color: #FFFCFC\">or</span> <span style=\"background-color: #FFFDFD\">take</span> <span style=\"background-color: #FFFEFE\">other</span> <span style=\"background-color: #FFFEFE\">counter</span> <span style=\"background-color: #FFFEFE\">##me</span> <span style=\"background-color: #FFFCFC\">##as</span> <span style=\"background-color: #FFFCFC\">##ures</span> <span style=\"background-color: #FFFCFC\">once</span> <span style=\"background-color: #FFFDFD\">it</span> <span style=\"background-color: #FFFCFC\">is</span> <span style=\"background-color: #FFFDFD\">known</span> <span style=\"background-color: #FFFCFC\">that</span> <span style=\"background-color: #FFFBFB\">the</span> <span style=\"background-color: #FFFCFC\">information</span> <span style=\"background-color: #FFFCFC\">is</span> <span style=\"background-color: #FFFBFB\">in</span> <span style=\"background-color: #FFFAFA\">unauthorized</span> <span style=\"background-color: #FFFBFB\">hands</span> <span style=\"background-color: #FFD4D4\">.</span> <span style=\"background-color: #FFEDED\">see</span> <span style=\"background-color: #FFF8F8\">clandestine</span> <span style=\"background-color: #FFFCFC\">hum</span> <span style=\"background-color: #FFFAFA\">##int</span> <span style=\"background-color: #FFFBFB\">for</span> <span style=\"background-color: #FFFAFA\">the</span> <span style=\"background-color: #FFFCFC\">basic</span> <span style=\"background-color: #FFFDFD\">concepts</span> <span style=\"background-color: #FFFBFB\">of</span> <span style=\"background-color: #FFFCFC\">such</span> <span style=\"background-color: #FFFDFD\">information</span> <span style=\"background-color: #FFFDFD\">collection</span> <span style=\"background-color: #FFD4D4\">,</span> <span style=\"background-color: #FFF9F9\">and</span> <span style=\"background-color: #FFFBFB\">subordinate</span> <span style=\"background-color: #FFFAFA\">articles</span> <span style=\"background-color: #FFFBFB\">such</span> <span style=\"background-color: #FFFBFB\">as</span> <span style=\"background-color: #FFF8F8\">clandestine</span> <span style=\"background-color: #FFFCFC\">hum</span> <span style=\"background-color: #FFF8F8\">##int</span> <span style=\"background-color: #FFFAFA\">operational</span> <span style=\"background-color: #FFFCFC\">techniques</span> <span style=\"background-color: #FFFBFB\">and</span> <span style=\"background-color: #FFF8F8\">clandestine</span> <span style=\"background-color: #FFFBFB\">hum</span> <span style=\"background-color: #FFF8F8\">##int</span> <span style=\"background-color: #FFFBFB\">asset</span> <span style=\"background-color: #FFFCFC\">recruiting</span> <span style=\"background-color: #FFFDFD\">for</span> <span style=\"background-color: #FFFCFC\">discussions</span> <span style=\"background-color: #FFFCFC\">of</span> <span style=\"background-color: #FFFAFA\">the</span> <span style=\"background-color: #FFFBFB\">\"</span> <span style=\"background-color: #FFFBFB\">\"</span> <span style=\"background-color: #FFFBFB\">trade</span> <span style=\"background-color: #FFFAFA\">##craft</span> <span style=\"background-color: #FFD5D5\">\"</span> <span style=\"background-color: #FFDADA\">\"</span> <span style=\"background-color: #FFFCFC\">used</span> <span style=\"background-color: #FFFCFC\">to</span> <span style=\"background-color: #FFFDFD\">collect</span> <span style=\"background-color: #FFF7F7\">this</span> <span style=\"background-color: #FFFAFA\">information</span> <span style=\"background-color: #FFD3D3\">.</span> <span style=\"background-color: #FFE2E2\">hey</span> <span style=\"background-color: #FFEBEB\">i</span> <span style=\"background-color: #FFEDED\">gotta</span> <span style=\"background-color: #FFEFEF\">joke</span> <span style=\"background-color: #FFF7F7\">and</span> <span style=\"background-color: #FFF8F8\">it</span> <span style=\"background-color: #FFF9F9\">goes</span> <span style=\"background-color: #FFF8F8\">like</span> <span style=\"background-color: #FFF0F0\">this</span> <span style=\"background-color: #FFEFEF\">:</span> <span style=\"background-color: #FFE1E1\">dick</span> <span style=\"background-color: #FFEFEF\">says</span> <span style=\"background-color: #FFE3E3\">\"</span> <span style=\"background-color: #FFE3E3\">\"</span> <span style=\"background-color: #FFD9D9\">hey</span> <span style=\"background-color: #FFE6E6\">balls</span> <span style=\"background-color: #FFE5E5\">get</span> <span style=\"background-color: #FFF1F1\">ready</span> <span style=\"background-color: #FFF5F5\">for</span> <span style=\"background-color: #FFF3F3\">a</span> <span style=\"background-color: #FFF6F6\">pat</span> <span style=\"background-color: #FFF0F0\">##ry</span> <span style=\"background-color: #FFD7D7\">\"</span> <span style=\"background-color: #FFF4F4\">\"</span> <span style=\"background-color: #FFECEC\">balls</span> <span style=\"background-color: #FFF4F4\">replies</span> <span style=\"background-color: #FFD5D5\">\"</span> <span style=\"background-color: #FFEEEE\">\"</span> <span style=\"background-color: #FFD2D2\">you</span> <span style=\"background-color: #FFDEDE\">fucking</span> <span style=\"background-color: #FFEAEA\">liar</span> <span style=\"background-color: #FFD3D3\">.</span> <span style=\"background-color: #FFFBFB\">every</span> <span style=\"background-color: #FFFCFC\">##time</span> <span style=\"background-color: #FFF3F3\">we</span> <span style=\"background-color: #FFFBFB\">go</span> <span style=\"background-color: #FFFCFC\">to</span> <span style=\"background-color: #FFFCFC\">a</span> <span style=\"background-color: #FFF5F5\">party</span> <span style=\"background-color: #FFD8D8\">,</span> <span style=\"background-color: #FFDEDE\">you</span> <span style=\"background-color: #FFF8F8\">always</span> <span style=\"background-color: #FFEEEE\">go</span> <span style=\"background-color: #FFF3F3\">in</span> <span style=\"background-color: #FFF8F8\">and</span> <span style=\"background-color: #FFEDED\">leave</span> <span style=\"background-color: #FFEBEB\">us</span> <span style=\"background-color: #FFF1F1\">out</span> <span style=\"background-color: #FFEDED\">here</span> <span style=\"background-color: #FFE7E7\">knock</span> <span style=\"background-color: #FFEEEE\">##in</span> <span style=\"background-color: #FFD3D3\">.</span> <span style=\"background-color: #FFFBFB\">history</span> <span style=\"background-color: #FFFCFC\">incidents</span> <span style=\"background-color: #FFFBFB\">of</span> <span style=\"background-color: #FFF7F7\">espionage</span> <span style=\"background-color: #FFF9F9\">are</span> <span style=\"background-color: #FFFBFB\">well</span> <span style=\"background-color: #FFFDFD\">documented</span> <span style=\"background-color: #FFFCFC\">throughout</span> <span style=\"background-color: #FFFBFB\">history</span> <span style=\"background-color: #FFD4D4\">.</span> <span style=\"background-color: #FFFBFB\">the</span> <span style=\"background-color: #FFFCFC\">ancient</span> <span style=\"background-color: #FFFCFC\">writings</span> <span style=\"background-color: #FFFBFB\">of</span> <span style=\"background-color: #FFF6F6\">chinese</span> <span style=\"background-color: #FFFBFB\">and</span> <span style=\"background-color: #FFF7F7\">indian</span> <span style=\"background-color: #FFFBFB\">military</span> <span style=\"background-color: #FFFDFD\">st</span> <span style=\"background-color: #FFFDFD\">##rate</span> <span style=\"background-color: #FFFBFB\">##gist</span> <span style=\"background-color: #FFF9F9\">##s</span> <span style=\"background-color: #FFFAFA\">such</span> <span style=\"background-color: #FFFAFA\">as</span> <span style=\"background-color: #FFFBFB\">sun</span> <span style=\"background-color: #FFFBFB\">-</span> <span style=\"background-color: #FFFDFD\">t</span> <span style=\"background-color: #FFFBFB\">##zu</span> <span style=\"background-color: #FFFBFB\">and</span> <span style=\"background-color: #FFFEFE\">chan</span> <span style=\"background-color: #FFFEFE\">##ak</span> <span style=\"background-color: #FFFCFC\">##ya</span> <span style=\"background-color: #FFF9F9\">contain</span> <span style=\"background-color: #FFFCFC\">information</span> <span style=\"background-color: #FFFDFD\">on</span> <span style=\"background-color: #FFF9F9\">deception</span> <span style=\"background-color: #FFFBFB\">and</span> <span style=\"background-color: #FFFCFC\">sub</span> <span style=\"background-color: #FFF8F8\">##version</span> <span style=\"background-color: #FFD3D3\">.</span> <span style=\"background-color: #FFFCFC\">chan</span> <span style=\"background-color: #FFFDFD\">##ak</span> <span style=\"background-color: #FFFBFB\">##ya</span> <span style=\"background-color: #FFFAFA\">'</span> <span style=\"background-color: #FFFAFA\">s</span> <span style=\"background-color: #FFFCFC\">student</span> <span style=\"background-color: #FFFBFB\">chandra</span> <span style=\"background-color: #FFFDFD\">##gu</span> <span style=\"background-color: #FFFBFB\">##pta</span> <span style=\"background-color: #FFFDFD\">ma</span> <span style=\"background-color: #FFD8D8\">##ury</span>"
      ],
      "text/plain": [
       "<IPython.core.display.HTML object>"
      ]
     },
     "metadata": {},
     "output_type": "display_data"
    },
    {
     "data": {
      "text/plain": [
       "'\"\\n\\n I don\\'t understand why my page was taken off. \\n\\nBull shit I bet they be sucking alot of dick! My Page wasn\\'t vandalism it was truthism. Look for you self:\\n\\nEspionage or a dick spying on some pussy lovers involves an individual obtaining information that is considered secret or confidential without the permission of the holder of the information. Espionage is inherently clandestine, as the legitimate holder of the information may change plans or take other countermeasures once it is known that the information is in unauthorized hands. See clandestine HUMINT for the basic concepts of such information collection, and subordinate articles such as clandestine HUMINT operational techniques and clandestine HUMINT asset recruiting for discussions of the \"\"tradecraft\"\" used to collect this information.\\nHey I gotta joke and it goes like this:Dick says \"\"Hey Balls get ready for a patry\"\" Balls replies \"\"You fucking liar. Everytime we go to a party, you always go in and leave us out here knockin.  \\n\\nHistory\\nIncidents of espionage are well documented throughout history. The ancient writings of Chinese and Indian military strategists such as Sun-Tzu and Chanakya contain information on deception and subversion. Chanakya\\'s student Chandragupta Maurya, founder of the Maurya Empire, made use of assassinations, spies and secret agents, which are described in Chanakya\\'s Arthasastra. The ancient Egyptians had a thoroughly developed system for the acquisition of intelligence, and the Hebrews used spies as well, as in the story of Rahab. Feudal Japan often used ninja to gather intelligence. More recently, spies played a significant part in Elizabethan England (see Francis Walsingham). Many modern espionage methods were well established even then. http://www.henrywotton.org.uk/\\n\\nThe Cold War involved intense espionage activity between the United States of America and its allies and the Soviet Union and the People\\'s Republic of China and their allies, particularly related to nuclear weapons secrets. Recently, espionage agencies have targeted the illegal drug trade and those considered to be terrorists.\\n\\nDifferent intelligence services value certain  intelligence collection techniques over others. The former Soviet Union, for example, preferred  human sources over  research in open sources, while the United States has tended to emphasize technological methods such as SIGINT and IMINT. Both Soviet political (KGB) and military intelligence (GRU\\n ) officers were judged by the number of agents they recruited. \\n\\nVarious Forms\\nUnlike other forms of  intelligence collection disciplines, espionage usually involves accessing the place where the desired information is stored, or accessing the people who know the information and will divulge it through some kind of subterfuge. There are exceptions to physical meetings, such as the Oslo Report, or the insistence of Robert Hanssen in never meeting the people to whom he was selling information.\\n\\nThe US defines espionage towards itself as \"\"The act of obtaining, delivering, transmitting, communicating, or receiving information about the national defense with an intent, or reason to believe, that the information may be used to the injury of the United States or to the advantage of any foreign nation. Espionage is a violation of 18 United States Code 792-798 and Article 106, Uniform Code of Military Justice{{cite web\\n  | last = US Department of Defense\\n  | authorlink = U.S. Department of Defense\\n  | title = Joint Publication 1-02 Department of Defe'"
      ]
     },
     "metadata": {},
     "output_type": "display_data"
    },
    {
     "name": "stdout",
     "output_type": "stream",
     "text": [
      "Offensive Score is 1.1336665153503418\n"
     ]
    },
    {
     "data": {
      "text/html": [
       "<span style=\"background-color: #FFF2F2\">[CLS]</span> <span style=\"background-color: #FFD2D2\">i</span> <span style=\"background-color: #FFDBDB\">don</span> <span style=\"background-color: #FFDEDE\">##t</span> <span style=\"background-color: #FFCECE\">care</span> <span style=\"background-color: #FFDFDF\">about</span> <span style=\"background-color: #FFCCCC\">your</span> <span style=\"background-color: #FFAEAE\">note</span> <span style=\"background-color: #FF7878\">fuck</span> <span style=\"background-color: #FFB8B8\">you</span> <span style=\"background-color: #FF3737\">.</span> <span style=\"background-color: #FFD8D8\">i</span> <span style=\"background-color: #FFDFDF\">will</span> <span style=\"background-color: #FFE9E9\">not</span> <span style=\"background-color: #FFF0F0\">stop</span> <span style=\"background-color: #FFF3F3\">to</span> <span style=\"background-color: #FFD5D5\">attack</span> <span style=\"background-color: #FFEBEB\">you</span> <span style=\"background-color: #FFEFEF\">or</span> <span style=\"background-color: #FFE3E3\">user</span> <span style=\"background-color: #FFDEDE\">:</span> <span style=\"background-color: #FFE1E1\">ju</span> <span style=\"background-color: #FFF1F1\">##s</span> <span style=\"background-color: #FFE7E7\">##ji</span> <span style=\"background-color: #FFE0E0\">##h</span> <span style=\"background-color: #FFD3D3\">i</span> <span style=\"background-color: #FFDFDF\">am</span> <span style=\"background-color: #FFE2E2\">free</span> <span style=\"background-color: #FFECEC\">and</span> <span style=\"background-color: #FFCFCF\">stronger</span> <span style=\"background-color: #FFDEDE\">than</span> <span style=\"background-color: #FFD6D6\">you</span> <span style=\"background-color: #FF3232\">.</span> <span style=\"background-color: #FFE2E2\">don</span> <span style=\"background-color: #FFE4E4\">##t</span> <span style=\"background-color: #FFEBEB\">try</span> <span style=\"background-color: #FFF2F2\">to</span> <span style=\"background-color: #FFC5C5\">submit</span> <span style=\"background-color: #FFDFDF\">me</span> <span style=\"background-color: #FF3636\">.</span> <span style=\"background-color: #FFF4F4\">if</span> <span style=\"background-color: #FFECEC\">you</span> <span style=\"background-color: #FFF1F1\">continue</span> <span style=\"background-color: #FFEEEE\">what</span> <span style=\"background-color: #FFEAEA\">the</span> <span style=\"background-color: #FFBCBC\">hell</span> <span style=\"background-color: #FFF3F3\">is</span> <span style=\"background-color: #FFE4E4\">this</span> <span style=\"background-color: #FFF4F4\">a</span> <span style=\"background-color: #FFD1D1\">menace</span> <span style=\"background-color: #FF4747\">?</span> <span style=\"background-color: #FFE7E7\">you</span> <span style=\"background-color: #FFE2E2\">will</span> <span style=\"background-color: #FFEDED\">be</span> <span style=\"background-color: #FFF3F3\">banned</span> <span style=\"background-color: #FFF6F6\">by</span> <span style=\"background-color: #FFE9E9\">this</span> <span style=\"background-color: #FFCECE\">attack</span> <span style=\"background-color: #FFF8F8\">if</span> <span style=\"background-color: #FFEFEF\">you</span> <span style=\"background-color: #FFF5F5\">continue</span> <span style=\"background-color: #FF3B3B\">.</span> <span style=\"background-color: #FFE7E7\">you</span> <span style=\"background-color: #FFE4E4\">will</span> <span style=\"background-color: #FFF0F0\">be</span> <span style=\"background-color: #FFEAEA\">banned</span> <span style=\"background-color: #FF3636\">.</span> <span style=\"background-color: #FFCECE\">[SEP]</span>"
      ],
      "text/plain": [
       "<IPython.core.display.HTML object>"
      ]
     },
     "metadata": {},
     "output_type": "display_data"
    },
    {
     "data": {
      "text/plain": [
       "'I dont care about your note fuck you. I will not stop to attack you or User:Jusjih I AM FREE AND STRONGER THAN YOU. DONT TRY TO SUBMIT ME. IF YOU CONTINUE WHAT THE HELL IS THIS A MENACE? YOU WILL BE BANNED BY THIS ATTACK IF YOU CONTINUE. YOU WILL BE BANNED.'"
      ]
     },
     "metadata": {},
     "output_type": "display_data"
    },
    {
     "name": "stdout",
     "output_type": "stream",
     "text": [
      "Offensive Score is 1.1314090937376022\n"
     ]
    },
    {
     "data": {
      "text/html": [
       "<span style=\"background-color: #FFEDED\">[CLS]</span> <span style=\"background-color: #FFA1A1\">disgusting</span> <span style=\"background-color: #FFD3D3\">,</span> <span style=\"background-color: #FFBCBC\">ignorant</span> <span style=\"background-color: #FFD1D1\">decisions</span> <span style=\"background-color: #FFDCDC\">by</span> <span style=\"background-color: #FFDFDF\">our</span> <span style=\"background-color: #FFE6E6\">friends</span> <span style=\"background-color: #FFE9E9\">sc</span> <span style=\"background-color: #FFEEEE\">##hu</span> <span style=\"background-color: #FFEEEE\">##tz</span> <span style=\"background-color: #FFF6F6\">##sta</span> <span style=\"background-color: #FFF7F7\">##ffe</span> <span style=\"background-color: #FFEBEB\">##l</span> <span style=\"background-color: #FFD2D2\">i</span> <span style=\"background-color: #FFDEDE\">am</span> <span style=\"background-color: #FFE2E2\">truly</span> <span style=\"background-color: #FFD3D3\">sorry</span> <span style=\"background-color: #FFE9E9\">to</span> <span style=\"background-color: #FFDCDC\">see</span> <span style=\"background-color: #FFDDDD\">that</span> <span style=\"background-color: #FFE1E1\">the</span> <span style=\"background-color: #FFACAC\">asshole</span> <span style=\"background-color: #FFE7E7\">##s</span> <span style=\"background-color: #FFE6E6\">at</span> <span style=\"background-color: #FFF3F3\">ar</span> <span style=\"background-color: #FFF0F0\">##bc</span> <span style=\"background-color: #FFEFEF\">##om</span> <span style=\"background-color: #FFE0E0\">have</span> <span style=\"background-color: #FFEEEE\">managed</span> <span style=\"background-color: #FFF0F0\">to</span> <span style=\"background-color: #FFE9E9\">silence</span> <span style=\"background-color: #FFEEEE\">yet</span> <span style=\"background-color: #FFF0F0\">another</span> <span style=\"background-color: #FFF0F0\">good</span> <span style=\"background-color: #FFE1E1\">editor</span> <span style=\"background-color: #FF-87-87\">.</span> <span style=\"background-color: #FFE9E9\">hopefully</span> <span style=\"background-color: #FFE3E3\">the</span> <span style=\"background-color: #FFD2D2\">mor</span> <span style=\"background-color: #FFD5D5\">##ons</span> <span style=\"background-color: #FFD8D8\">will</span> <span style=\"background-color: #FFE8E8\">be</span> <span style=\"background-color: #FFEDED\">voted</span> <span style=\"background-color: #FFE9E9\">out</span> <span style=\"background-color: #FFEEEE\">and</span> <span style=\"background-color: #FFE0E0\">we</span> <span style=\"background-color: #FFE7E7\">can</span> <span style=\"background-color: #FFEDED\">get</span> <span style=\"background-color: #FFE0E0\">this</span> <span style=\"background-color: #FFE0E0\">reviewed</span> <span style=\"background-color: #FF-86-86\">.</span> <span style=\"background-color: #FFEFEF\">in</span> <span style=\"background-color: #FFF0F0\">the</span> <span style=\"background-color: #FFE8E8\">meantime</span> <span style=\"background-color: #FFD7D7\">i</span> <span style=\"background-color: #FFE3E3\">hope</span> <span style=\"background-color: #FFE8E8\">they</span> <span style=\"background-color: #FFE2E2\">don</span> <span style=\"background-color: #FFDFDF\">'</span> <span style=\"background-color: #FFE0E0\">t</span> <span style=\"background-color: #FFEDED\">put</span> <span style=\"background-color: #FFC4C4\">you</span> <span style=\"background-color: #FFF5F5\">in</span> <span style=\"background-color: #FFF8F8\">a</span> <span style=\"background-color: #FFF3F3\">forced</span> <span style=\"background-color: #FFF2F2\">labor</span> <span style=\"background-color: #FFF2F2\">/</span> <span style=\"background-color: #FFF7F7\">reed</span> <span style=\"background-color: #FFF9F9\">##uca</span> <span style=\"background-color: #FFF7F7\">##tion</span> <span style=\"background-color: #FFF3F3\">camp</span> <span style=\"background-color: #FF7474\">.</span> <span style=\"background-color: #FF6767\">fucking</span> <span style=\"background-color: #FF9F9F\">nazis</span> <span style=\"background-color: #FFB2B2\">[SEP]</span>"
      ],
      "text/plain": [
       "<IPython.core.display.HTML object>"
      ]
     },
     "metadata": {},
     "output_type": "display_data"
    },
    {
     "data": {
      "text/plain": [
       "\" Disgusting, ignorant decisions by our friends Schutzstaffel \\n\\ni AM TRULY SORRY TO SEE THAT THE ASSHOLES AT ARBCOM HAVE MANAGED TO SILENCE YET ANOTHER GOOD EDITOR. HOPEFULLY THE MORONS WILL BE VOTED OUT AND WE CAN GET THIS REVIEWED. IN THE MEANTIME I HOPE THEY DON'T PUT YOU IN A FORCED LABOR/REEDUCATION CAMP. FUCKING NAZIS   \""
      ]
     },
     "metadata": {},
     "output_type": "display_data"
    },
    {
     "name": "stdout",
     "output_type": "stream",
     "text": [
      "Offensive Score is 1.128871664404869\n"
     ]
    },
    {
     "data": {
      "text/html": [
       "<span style=\"background-color: #FFF2F2\">[CLS]</span> <span style=\"background-color: #FFE3E3\">why</span> <span style=\"background-color: #FFE8E8\">the</span> <span style=\"background-color: #FFB9B9\">fuck</span> <span style=\"background-color: #FFF3F3\">was</span> <span style=\"background-color: #FFDDDD\">he</span> <span style=\"background-color: #FFF1F1\">blocked</span> <span style=\"background-color: #FF9090\">?</span> <span style=\"background-color: #FFF8F8\">kwan</span> <span style=\"background-color: #FFFAFA\">##za</span> <span style=\"background-color: #FFEDED\">##a</span> <span style=\"background-color: #FFDDDD\">is</span> <span style=\"background-color: #FFE8E8\">the</span> <span style=\"background-color: #FFF5F5\">in</span> <span style=\"background-color: #FFF0F0\">##vet</span> <span style=\"background-color: #FFE1E1\">##ion</span> <span style=\"background-color: #FFE9E9\">of</span> <span style=\"background-color: #FFEEEE\">a</span> <span style=\"background-color: #FFDEDE\">man</span> <span style=\"background-color: #FFEFEF\">convicted</span> <span style=\"background-color: #FFFBFB\">of</span> <span style=\"background-color: #FFF7F7\">a</span> <span style=\"background-color: #FFEFEF\">violent</span> <span style=\"background-color: #FFF4F4\">felony</span> <span style=\"background-color: #FFFBFB\">against</span> <span style=\"background-color: #FFF7F7\">two</span> <span style=\"background-color: #FFF4F4\">african</span> <span style=\"background-color: #FFF7F7\">american</span> <span style=\"background-color: #FFF5F5\">women</span> <span style=\"background-color: #FF9494\">,</span> <span style=\"background-color: #FFFCFC\">kwan</span> <span style=\"background-color: #FFFDFD\">##za</span> <span style=\"background-color: #FFF6F6\">##a</span> <span style=\"background-color: #FFF2F2\">'</span> <span style=\"background-color: #FFF0F0\">s</span> <span style=\"background-color: #FFF5F5\">values</span> <span style=\"background-color: #FFF1F1\">are</span> <span style=\"background-color: #FFF9F9\">based</span> <span style=\"background-color: #FFFAFA\">on</span> <span style=\"background-color: #FFF6F6\">the</span> <span style=\"background-color: #FFF3F3\">marxism</span> <span style=\"background-color: #FFF5F5\">of</span> <span style=\"background-color: #FFECEC\">that</span> <span style=\"background-color: #FFEBEB\">man</span> <span style=\"background-color: #FFEFEF\">,</span> <span style=\"background-color: #FFFBFB\">kwan</span> <span style=\"background-color: #FFFDFD\">##za</span> <span style=\"background-color: #FFF9F9\">##a</span> <span style=\"background-color: #FFF1F1\">is</span> <span style=\"background-color: #FFF9F9\">based</span> <span style=\"background-color: #FFFCFC\">on</span> <span style=\"background-color: #FFFBFB\">african</span> <span style=\"background-color: #FFFBFB\">american</span> <span style=\"background-color: #FFFAFA\">nationalist</span> <span style=\"background-color: #FFFDFD\">sep</span> <span style=\"background-color: #FFFCFC\">##arat</span> <span style=\"background-color: #FFFBFB\">##ism</span> <span style=\"background-color: #FFF3F3\">,</span> <span style=\"background-color: #FFFDFD\">kwan</span> <span style=\"background-color: #FFFEFE\">##za</span> <span style=\"background-color: #FFFAFA\">##a</span> <span style=\"background-color: #FFF6F6\">is</span> <span style=\"background-color: #FFFAFA\">not</span> <span style=\"background-color: #FFFCFC\">celebrated</span> <span style=\"background-color: #FFFDFD\">by</span> <span style=\"background-color: #FFFCFC\">any</span> <span style=\"background-color: #FFFAFA\">african</span> <span style=\"background-color: #FFFBFB\">culture</span> <span style=\"background-color: #FFFBFB\">anywhere</span> <span style=\"background-color: #FFF0F0\">and</span> <span style=\"background-color: #FFF6F6\">the</span> <span style=\"background-color: #FFF9F9\">majority</span> <span style=\"background-color: #FFFAFA\">of</span> <span style=\"background-color: #FFF7F7\">the</span> <span style=\"background-color: #FFF9F9\">cited</span> <span style=\"background-color: #FFF8F8\">references</span> <span style=\"background-color: #FFF9F9\">to</span> <span style=\"background-color: #FFF9F9\">kwan</span> <span style=\"background-color: #FFFEFE\">##za</span> <span style=\"background-color: #FFFBFB\">##a</span> <span style=\"background-color: #FFFAFA\">in</span> <span style=\"background-color: #FFFAFA\">pop</span> <span style=\"background-color: #FFF8F8\">culture</span> <span style=\"background-color: #FFFBFB\">that</span> <span style=\"background-color: #FFF9F9\">have</span> <span style=\"background-color: #FFFAFA\">been</span> <span style=\"background-color: #FFFDFD\">cited</span> <span style=\"background-color: #FFF8F8\">are</span> <span style=\"background-color: #FFFBFB\">mocking</span> <span style=\"background-color: #FFFAFA\">or</span> <span style=\"background-color: #FFFCFC\">ironic</span> <span style=\"background-color: #FFC8C8\">!</span> <span style=\"background-color: #FFDBDB\">you</span> <span style=\"background-color: #FFF0F0\">can</span> <span style=\"background-color: #FFE8E8\">##t</span> <span style=\"background-color: #FFFBFB\">re</span> <span style=\"background-color: #FFFBFB\">##write</span> <span style=\"background-color: #FFFBFB\">historical</span> <span style=\"background-color: #FFF3F3\">=</span> <span style=\"background-color: #FFECEC\">=</span> <span style=\"background-color: #FFF8F8\">facts</span> <span style=\"background-color: #FFF3F3\">=</span> <span style=\"background-color: #FFEAEA\">=</span> <span style=\"background-color: #FFF2F2\">with</span> <span style=\"background-color: #FFD4D4\">your</span> <span style=\"background-color: #FFF8F8\">blu</span> <span style=\"background-color: #FFF5F5\">##bber</span> <span style=\"background-color: #FFE6E6\">##ing</span> <span style=\"background-color: #FFF2F2\">ji</span> <span style=\"background-color: #FFF2F2\">##bber</span> <span style=\"background-color: #FFE8E8\">##ish</span> <span style=\"background-color: #FF8989\">.</span> <span style=\"background-color: #FFF9F9\">what</span> <span style=\"background-color: #FFE8E8\">he</span> <span style=\"background-color: #FFF2F2\">is</span> <span style=\"background-color: #FFFAFA\">saying</span> <span style=\"background-color: #FFF8F8\">isn</span> <span style=\"background-color: #FFF0F0\">##t</span> <span style=\"background-color: #FFFCFC\">point</span> <span style=\"background-color: #FF9494\">of</span> <span style=\"background-color: #FFFAFA\">view</span> <span style=\"background-color: #FFF5F5\">,</span> <span style=\"background-color: #FFFCFC\">its</span> <span style=\"background-color: #FFF5F5\">=</span> <span style=\"background-color: #FFF3F3\">=</span> <span style=\"background-color: #FFF7F7\">truth</span> <span style=\"background-color: #FFF7F7\">=</span> <span style=\"background-color: #FFF1F1\">=</span> <span style=\"background-color: #FFFBFB\">its</span> <span style=\"background-color: #FFFAFA\">not</span> <span style=\"background-color: #FFF9F9\">racist</span> <span style=\"background-color: #FFFAFA\">its</span> <span style=\"background-color: #FFFBFB\">not</span> <span style=\"background-color: #FFFDFD\">prejudice</span> <span style=\"background-color: #FFFCFC\">##d</span> <span style=\"background-color: #FFF8F8\">its</span> <span style=\"background-color: #FFF5F5\">=</span> <span style=\"background-color: #FFF1F1\">=</span> <span style=\"background-color: #FFF1F1\">truth</span> <span style=\"background-color: #FFF3F3\">=</span> <span style=\"background-color: #FFEDED\">=</span> <span style=\"background-color: #FFEEEE\">i</span> <span style=\"background-color: #FFF3F3\">am</span> <span style=\"background-color: #FFF8F8\">on</span> <span style=\"background-color: #FFD4D4\">the</span> <span style=\"background-color: #FFF0F0\">verge</span> <span style=\"background-color: #FFF8F8\">of</span> <span style=\"background-color: #FFE2E2\">killing</span> <span style=\"background-color: #FFF5F5\">the</span> <span style=\"background-color: #FFF5F5\">next</span> <span style=\"background-color: #FFF5F5\">person</span> <span style=\"background-color: #FFF3F3\">who</span> <span style=\"background-color: #FFEFEF\">lies</span> <span style=\"background-color: #FFFAFA\">to</span> <span style=\"background-color: #FFF0F0\">me</span> <span style=\"background-color: #FFF0F0\">(</span> <span style=\"background-color: #FFF4F4\">po</span> <span style=\"background-color: #FFF5F5\">##v</span> <span style=\"background-color: #FFF0F0\">,</span> <span style=\"background-color: #FFF0F0\">wow</span> <span style=\"background-color: #FFC4C4\">,</span> <span style=\"background-color: #FFF0F0\">i</span> <span style=\"background-color: #FFF8F8\">guess</span> <span style=\"background-color: #FFF8F8\">that</span> <span style=\"background-color: #FFEFEF\">##s</span> <span style=\"background-color: #FFF8F8\">not</span> <span style=\"background-color: #FFF9F9\">too</span> <span style=\"background-color: #FFFAFA\">wi</span> <span style=\"background-color: #FFFBFB\">##er</span> <span style=\"background-color: #FFF6F6\">##d</span> <span style=\"background-color: #FFF5F5\">in</span> <span style=\"background-color: #FFEFEF\">this</span> <span style=\"background-color: #FFF0F0\">talk</span> <span style=\"background-color: #FFF1F1\">page</span> <span style=\"background-color: #FF8E8E\">)</span> <span style=\"background-color: #FFD1D1\">get</span> <span style=\"background-color: #FFEAEA\">a</span> <span style=\"background-color: #FFE8E8\">brain</span> <span style=\"background-color: #FFD1D1\">you</span> <span style=\"background-color: #FFF2F2\">overs</span> <span style=\"background-color: #FFFAFA\">##ens</span> <span style=\"background-color: #FFDFDF\">##itive</span> <span style=\"background-color: #FFF7F7\">h</span> <span style=\"background-color: #FFFAFA\">##yp</span> <span style=\"background-color: #FFF6F6\">##oc</span> <span style=\"background-color: #FFF8F8\">##rit</span> <span style=\"background-color: #FFE4E4\">##ical</span> <span style=\"background-color: #FFDADA\">lying</span> <span style=\"background-color: #FFE7E7\">sc</span> <span style=\"background-color: #FFEBEB\">##umb</span> <span style=\"background-color: #FFD9D9\">##ags</span> <span style=\"background-color: #FFE8E8\">and</span> <span style=\"background-color: #FFD5D5\">get</span> <span style=\"background-color: #FFE1E1\">a</span> <span style=\"background-color: #FFCDCD\">fucking</span> <span style=\"background-color: #FFD8D8\">dick</span> <span style=\"background-color: #FFEBEB\">and</span> <span style=\"background-color: #FFE0E0\">balls</span> <span style=\"background-color: #FFDADA\">[SEP]</span>"
      ],
      "text/plain": [
       "<IPython.core.display.HTML object>"
      ]
     },
     "metadata": {},
     "output_type": "display_data"
    },
    {
     "data": {
      "text/plain": [
       "\" WHY THE FUCK WAS HE BLOCKED? Kwanzaa IS the invetion of a man convicted of a violent felony against two African American women, Kwanzaa's values ARE based on the Marxism of that man, Kwanzaa IS based on African American nationalist separatism, Kwanzaa is NOT celebrated by any African culture anywhere and the majority of the cited references to Kwanzaa in pop culture that have been cited ARE mocking or ironic! YOU CANT REWRITE HISTORICAL ==FACTS== WITH YOUR BLUBBERING JIBBERISH. WHAT HE IS SAYING ISNT POINT OF VIEW, ITS ==TRUTH== ITS NOT RACIST ITS NOT PREJUDICED ITS ==TRUTH== I AM ON THE VERGE OF KILLING THE NEXT PERSON WHO LIES TO ME (POV, WOW, I GUESS THATS NOT TOO WIERD IN THIS TALK PAGE) GET A BRAIN YOU OVERSENSITIVE HYPOCRITICAL LYING SCUMBAGS AND GET A FUCKING DICK AND BALLS\""
      ]
     },
     "metadata": {},
     "output_type": "display_data"
    },
    {
     "name": "stdout",
     "output_type": "stream",
     "text": [
      "Offensive Score is 1.123206079006195\n"
     ]
    },
    {
     "data": {
      "text/html": [
       "<span style=\"background-color: #FFE9E9\">[CLS]</span> <span style=\"background-color: #FFC7C7\">i</span> <span style=\"background-color: #FFD5D5\">want</span> <span style=\"background-color: #FFDFDF\">this</span> <span style=\"background-color: #FFE8E8\">removed</span> <span style=\"background-color: #FFAEAE\">.</span> <span style=\"background-color: #FFBCBC\">meg</span> <span style=\"background-color: #FFD0D0\">is</span> <span style=\"background-color: #FFE1E1\">a</span> <span style=\"background-color: #FFBBBB\">fuck</span> <span style=\"background-color: #FFD0D0\">##in</span> <span style=\"background-color: #FFCCCC\">awesome</span> <span style=\"background-color: #FFC7C7\">drummer</span> <span style=\"background-color: #FFE5E5\">,</span> <span style=\"background-color: #FFDEDE\">she</span> <span style=\"background-color: #FFE5E5\">brings</span> <span style=\"background-color: #FFF3F3\">a</span> <span style=\"background-color: #FFE0E0\">load</span> <span style=\"background-color: #FFF2F2\">of</span> <span style=\"background-color: #FFF4F4\">unique</span> <span style=\"background-color: #FFEBEB\">simplicity</span> <span style=\"background-color: #FFF9F9\">on</span> <span style=\"background-color: #FFF2F2\">the</span> <span style=\"background-color: #FFE8E8\">drums</span> <span style=\"background-color: #FFF1F1\">unlike</span> <span style=\"background-color: #FFD3D3\">you</span> <span style=\"background-color: #FFE8E8\">anti</span> <span style=\"background-color: #FFE0E0\">white</span> <span style=\"background-color: #FFE5E5\">stripes</span> <span style=\"background-color: #FFDFDF\">fa</span> <span style=\"background-color: #FFDADA\">##gs</span> <span style=\"background-color: #FFF1F1\">who</span> <span style=\"background-color: #FFF3F3\">like</span> <span style=\"background-color: #FFF8F8\">all</span> <span style=\"background-color: #FFF5F5\">the</span> <span style=\"background-color: #FFF1F1\">bigger</span> <span style=\"background-color: #FFF5F5\">,</span> <span style=\"background-color: #FFF2F2\">faster</span> <span style=\"background-color: #FFF3F3\">,</span> <span style=\"background-color: #FFF0F0\">cooler</span> <span style=\"background-color: #FFEAEA\">stuff</span> <span style=\"background-color: #FFACAC\">.</span> <span style=\"background-color: #FFDBDB\">i</span> <span style=\"background-color: #FFEEEE\">don</span> <span style=\"background-color: #FFC4C4\">'</span> <span style=\"background-color: #FFF1F1\">t</span> <span style=\"background-color: #FFEDED\">get</span> <span style=\"background-color: #FFF9F9\">what</span> <span style=\"background-color: #FFEFEF\">'</span> <span style=\"background-color: #FFF6F6\">s</span> <span style=\"background-color: #FFFAFA\">wrong</span> <span style=\"background-color: #FFABAB\">.</span> <span style=\"background-color: #FFF7F7\">so</span> <span style=\"background-color: #FFF9F9\">a</span> <span style=\"background-color: #FFF0F0\">drummer</span> <span style=\"background-color: #FFF8F8\">has</span> <span style=\"background-color: #FFFCFC\">a</span> <span style=\"background-color: #FFFAFA\">unique</span> <span style=\"background-color: #FFFCFC\">way</span> <span style=\"background-color: #FFB6B6\">of</span> <span style=\"background-color: #FFF8F8\">playing</span> <span style=\"background-color: #FFACAC\">.</span> <span style=\"background-color: #FFF8F8\">that</span> <span style=\"background-color: #FFEEEE\">'</span> <span style=\"background-color: #FFF5F5\">s</span> <span style=\"background-color: #FFF9F9\">great</span> <span style=\"background-color: #FFABAB\">.</span> <span style=\"background-color: #FFFBFB\">a</span> <span style=\"background-color: #FFF6F6\">drummer</span> <span style=\"background-color: #FFF9F9\">dose</span> <span style=\"background-color: #FFF4F4\">##n</span> <span style=\"background-color: #FFE9E9\">'</span> <span style=\"background-color: #FFFBFB\">t</span> <span style=\"background-color: #FFFCFC\">need</span> <span style=\"background-color: #FFFBFB\">all</span> <span style=\"background-color: #FFF3F3\">this</span> <span style=\"background-color: #FFE3E3\">shit</span> <span style=\"background-color: #FFFCFC\">about</span> <span style=\"background-color: #FFFAFA\">his</span> <span style=\"background-color: #FFF2F2\">/</span> <span style=\"background-color: #FFF8F8\">her</span> <span style=\"background-color: #FFF6F6\">playing</span> <span style=\"background-color: #FFACAC\">.</span> <span style=\"background-color: #FFFBFB\">a</span> <span style=\"background-color: #FFF5F5\">drummer</span> <span style=\"background-color: #FFF9F9\">can</span> <span style=\"background-color: #FFFBFB\">play</span> <span style=\"background-color: #FFFCFC\">anyway</span> <span style=\"background-color: #FFFAFA\">he</span> <span style=\"background-color: #FFF2F2\">/</span> <span style=\"background-color: #FFF9F9\">she</span> <span style=\"background-color: #FFFDFD\">wants</span> <span style=\"background-color: #FFFDFD\">to</span> <span style=\"background-color: #FFF6F6\">,</span> <span style=\"background-color: #FFFDFD\">there</span> <span style=\"background-color: #FFF5F5\">'</span> <span style=\"background-color: #FFFAFA\">s</span> <span style=\"background-color: #FFFBFB\">no</span> <span style=\"background-color: #FFFCFC\">special</span> <span style=\"background-color: #FFFDFD\">way</span> <span style=\"background-color: #FFFCFC\">of</span> <span style=\"background-color: #FFFCFC\">playing</span> <span style=\"background-color: #FFFAFA\">that</span> <span style=\"background-color: #FFFBFB\">all</span> <span style=\"background-color: #FFF3F3\">drummer</span> <span style=\"background-color: #FFFAFA\">##s</span> <span style=\"background-color: #FFFDFD\">have</span> <span style=\"background-color: #FFFCFC\">to</span> <span style=\"background-color: #FFFCFC\">go</span> <span style=\"background-color: #FFFDFD\">by</span> <span style=\"background-color: #FFADAD\">.</span> <span style=\"background-color: #FFF5F5\">so</span> <span style=\"background-color: #FFD9D9\">i</span> <span style=\"background-color: #FFE1E1\">want</span> <span style=\"background-color: #FFF4F4\">all</span> <span style=\"background-color: #FFEAEA\">this</span> <span style=\"background-color: #FFDBDB\">crap</span> <span style=\"background-color: #FFF1F1\">removed</span> <span style=\"background-color: #FFFBFB\">in</span> <span style=\"background-color: #FFFAFA\">the</span> <span style=\"background-color: #FFF8F8\">next</span> <span style=\"background-color: #FFF3F3\">7</span> <span style=\"background-color: #FFF5F5\">days</span> <span style=\"background-color: #FFAEAE\">.</span> <span style=\"background-color: #FFF1F1\">if</span> <span style=\"background-color: #FFFAFA\">not</span> <span style=\"background-color: #FFF5F5\">,</span> <span style=\"background-color: #FFD7D7\">i</span> <span style=\"background-color: #FFD5D5\">will</span> <span style=\"background-color: #FFE6E6\">erase</span> <span style=\"background-color: #FFF2F2\">it</span> <span style=\"background-color: #FFAEAE\">.</span> <span style=\"background-color: #FFB8B8\">damn</span> <span style=\"background-color: #FFC5C5\">you</span> <span style=\"background-color: #FFC3C3\">mor</span> <span style=\"background-color: #FFC6C6\">##ons</span> <span style=\"background-color: #FFDBDB\">.</span> <span style=\"background-color: #FFCBCB\">[SEP]</span>"
      ],
      "text/plain": [
       "<IPython.core.display.HTML object>"
      ]
     },
     "metadata": {},
     "output_type": "display_data"
    },
    {
     "data": {
      "text/plain": [
       "\"I WANT THIS REMOVED. Meg is a fuckin awesome drummer, she brings a load of unique simplicity on the drums unlike you Anti White Stripes fags who like all the bigger, faster, cooler stuff. I don't get what's wrong. So a drummer has a unique way of playing. That's great. A drummer dosen't need all this shit about his/her playing. A drummer can play anyway he/she wants to, there's no special way of playing that all drummers have to go by. So I want all this crap removed in the next 7 days. If not, I will erase it. Damn you morons.  \""
      ]
     },
     "metadata": {},
     "output_type": "display_data"
    },
    {
     "name": "stdout",
     "output_type": "stream",
     "text": [
      "Offensive Score is 1.122132048010826\n"
     ]
    },
    {
     "data": {
      "text/html": [
       "<span style=\"background-color: #FFE1E1\">[CLS]</span> <span style=\"background-color: #FFD9D9\">regarding</span> <span style=\"background-color: #FFF2F2\">the</span> <span style=\"background-color: #FFFAFA\">kai</span> <span style=\"background-color: #FFF9F9\">##nt</span> <span style=\"background-color: #FFF9F9\">##hes</span> <span style=\"background-color: #FFF3F3\">##cion</span> <span style=\"background-color: #FFD4D4\">bullshit</span> <span style=\"background-color: #FFE2E2\">sham</span> <span style=\"background-color: #FFF8F8\">rf</span> <span style=\"background-color: #FFF2F2\">##ar</span> <span style=\"background-color: #FFDDDD\">motions</span> <span style=\"background-color: #FFE8E8\">and</span> <span style=\"background-color: #FFEFEF\">requests</span> <span style=\"background-color: #FFF8F8\">by</span> <span style=\"background-color: #FFF6F6\">the</span> <span style=\"background-color: #FFEBEB\">parties</span> <span style=\"background-color: #FFF1F1\">place</span> <span style=\"background-color: #FFF4F4\">those</span> <span style=\"background-color: #FFFBFB\">on</span> <span style=\"background-color: #FFF8F8\">the</span> <span style=\"background-color: #FFF4F4\">discussion</span> <span style=\"background-color: #FFF8F8\">page</span> <span style=\"background-color: #FFFAFA\">where</span> <span style=\"background-color: #FFF0F0\">we</span> <span style=\"background-color: #FFF2F2\">will</span> <span style=\"background-color: #FFF8F8\">never</span> <span style=\"background-color: #FFFBFB\">bother</span> <span style=\"background-color: #FFFBFB\">looking</span> <span style=\"background-color: #FFF1F1\">and</span> <span style=\"background-color: #FFF8F8\">if</span> <span style=\"background-color: #FFFAFA\">anything</span> <span style=\"background-color: #FFFBFB\">act</span> <span style=\"background-color: #FFFBFB\">##au</span> <span style=\"background-color: #FFF8F8\">##lly</span> <span style=\"background-color: #FFFBFB\">goes</span> <span style=\"background-color: #FFFAFA\">there</span> <span style=\"background-color: #FFDCDC\">we</span> <span style=\"background-color: #FFF8F8\">'</span> <span style=\"background-color: #FFE7E7\">ll</span> <span style=\"background-color: #FFC0C0\">just</span> <span style=\"background-color: #FFF4F4\">blank</span> <span style=\"background-color: #FFF7F7\">it</span> <span style=\"background-color: #FFC1C1\">.</span> <span style=\"background-color: #FFE3E3\">raul</span> <span style=\"background-color: #FFFBFB\">##65</span> <span style=\"background-color: #FFF4F4\">##4</span> <span style=\"background-color: #FFF7F7\">the</span> <span style=\"background-color: #FFFCFC\">ar</span> <span style=\"background-color: #FFFDFD\">##bc</span> <span style=\"background-color: #FFFBFB\">##om</span> <span style=\"background-color: #FFFDFD\">van</span> <span style=\"background-color: #FFFBFB\">##dal</span> <span style=\"background-color: #FFF3F3\">has</span> <span style=\"background-color: #FFFBFB\">blank</span> <span style=\"background-color: #FFFBFB\">##ed</span> <span style=\"background-color: #FFF8F8\">the</span> <span style=\"background-color: #FFF6F6\">discussion</span> <span style=\"background-color: #FFFAFA\">page</span> <span style=\"background-color: #FFC4C4\">.</span> <span style=\"background-color: #FFD9D9\">he</span> <span style=\"background-color: #FFECEC\">refuses</span> <span style=\"background-color: #FFFAFA\">to</span> <span style=\"background-color: #FFFBFB\">answer</span> <span style=\"background-color: #FFFBFB\">good</span> <span style=\"background-color: #FFF4F4\">-</span> <span style=\"background-color: #FFEDED\">faith</span> <span style=\"background-color: #FFF6F6\">questions</span> <span style=\"background-color: #FFFBFB\">about</span> <span style=\"background-color: #FFEFEF\">this</span> <span style=\"background-color: #FFDBDB\">bullshit</span> <span style=\"background-color: #FFEFEF\">,</span> <span style=\"background-color: #FFF6F6\">bad</span> <span style=\"background-color: #FFF3F3\">-</span> <span style=\"background-color: #FFE9E9\">faith</span> <span style=\"background-color: #FFFBFB\">rf</span> <span style=\"background-color: #FFF6F6\">##ar</span> <span style=\"background-color: #FFC3C3\">.</span> <span style=\"background-color: #FFF1F1\">this</span> <span style=\"background-color: #FFFAFA\">whole</span> <span style=\"background-color: #FFF8F8\">thing</span> <span style=\"background-color: #FFF6F6\">is</span> <span style=\"background-color: #FFF7F7\">a</span> <span style=\"background-color: #FFF0F0\">sham</span> <span style=\"background-color: #FFC3C3\">.</span> <span style=\"background-color: #FFFBFB\">it</span> <span style=\"background-color: #FFF9F9\">'</span> <span style=\"background-color: #FFF7F7\">s</span> <span style=\"background-color: #FFF8F8\">an</span> <span style=\"background-color: #FFFDFD\">rf</span> <span style=\"background-color: #FFFCFC\">##ar</span> <span style=\"background-color: #FFF9F9\">against</span> <span style=\"background-color: #FFFDFD\">kai</span> <span style=\"background-color: #FFFDFD\">##nt</span> <span style=\"background-color: #FFFDFD\">##hes</span> <span style=\"background-color: #FFFBFB\">##cion</span> <span style=\"background-color: #FFFCFC\">/</span> <span style=\"background-color: #FFFCFC\">elk</span> <span style=\"background-color: #FFFCFC\">##ab</span> <span style=\"background-color: #FFFAFA\">##ong</span> <span style=\"background-color: #FFC5C5\">.</span> <span style=\"background-color: #FFFBFB\">en</span> <span style=\"background-color: #FFFDFD\">##vir</span> <span style=\"background-color: #FFFDFD\">##ok</span> <span style=\"background-color: #FFF4F4\">##not</span> <span style=\"background-color: #FFFBFB\">has</span> <span style=\"background-color: #FFFBFB\">nothing</span> <span style=\"background-color: #FFFDFD\">to</span> <span style=\"background-color: #FFFCFC\">do</span> <span style=\"background-color: #FFFCFC\">with</span> <span style=\"background-color: #FFFAFA\">them</span> <span style=\"background-color: #FFF4F4\">yet</span> <span style=\"background-color: #FFB1B1\">you</span> <span style=\"background-color: #FFF9F9\">ar</span> <span style=\"background-color: #FFFCFC\">##bc</span> <span style=\"background-color: #FFEEEE\">##om</span> <span style=\"background-color: #FFF0F0\">bad</span> <span style=\"background-color: #FFEBEB\">faith</span> <span style=\"background-color: #FFDEDE\">mor</span> <span style=\"background-color: #FFD0D0\">##ons</span> <span style=\"background-color: #FFF2F2\">are</span> <span style=\"background-color: #FFF7F7\">signing</span> <span style=\"background-color: #FFF7F7\">judgement</span> <span style=\"background-color: #FFFCFC\">##s</span> <span style=\"background-color: #FFF9F9\">only</span> <span style=\"background-color: #FFF8F8\">on</span> <span style=\"background-color: #FFFAFA\">en</span> <span style=\"background-color: #FFFDFD\">##vir</span> <span style=\"background-color: #FFFDFD\">##ok</span> <span style=\"background-color: #FFE9E9\">##not</span> <span style=\"background-color: #FFC3C3\">.</span> <span style=\"background-color: #FFE7E7\">this</span> <span style=\"background-color: #FFF5F5\">is</span> <span style=\"background-color: #FFF8F8\">beyond</span> <span style=\"background-color: #FFBCBC\">fucking</span> <span style=\"background-color: #FFE5E5\">stupid</span> <span style=\"background-color: #FFF6F6\">and</span> <span style=\"background-color: #FFFAFA\">into</span> <span style=\"background-color: #FFF7F7\">the</span> <span style=\"background-color: #FFF8F8\">realm</span> <span style=\"background-color: #FFF5F5\">of</span> <span style=\"background-color: #FFF3F3\">complete</span> <span style=\"background-color: #FFF8F8\">abuse</span> <span style=\"background-color: #FFF5F5\">of</span> <span style=\"background-color: #FFF0F0\">power</span> <span style=\"background-color: #FFC2C2\">.</span> <span style=\"background-color: #FFE9E9\">i</span> <span style=\"background-color: #FFDEDE\">hope</span> <span style=\"background-color: #FFA9A9\">you</span> <span style=\"background-color: #FFC7C7\">fuck</span> <span style=\"background-color: #FFC9C9\">##ers</span> <span style=\"background-color: #FFDFDF\">are</span> <span style=\"background-color: #FFEEEE\">happy</span> <span style=\"background-color: #FFBBBB\">you</span> <span style=\"background-color: #FFF7F7\">'</span> <span style=\"background-color: #FFECEC\">re</span> <span style=\"background-color: #FFE3E3\">driving</span> <span style=\"background-color: #FFF5F5\">so</span> <span style=\"background-color: #FFF4F4\">many</span> <span style=\"background-color: #FFF2F2\">editors</span> <span style=\"background-color: #FFF6F6\">away</span> <span style=\"background-color: #FFC2C2\">.</span> <span style=\"background-color: #FFFBFB\">every</span> <span style=\"background-color: #FFFDFD\">time</span> <span style=\"background-color: #FFEEEE\">i</span> <span style=\"background-color: #FFFCFC\">see</span> <span style=\"background-color: #FFFCFC\">a</span> <span style=\"background-color: #FFFDFD\">new</span> <span style=\"background-color: #FFF8F8\">user</span> <span style=\"background-color: #FFECEC\">i</span> <span style=\"background-color: #FFF6F6\">'</span> <span style=\"background-color: #FFF3F3\">m</span> <span style=\"background-color: #FFF4F4\">going</span> <span style=\"background-color: #FFF8F8\">to</span> <span style=\"background-color: #FFF9F9\">point</span> <span style=\"background-color: #FFF7F7\">them</span> <span style=\"background-color: #FFFBFB\">to</span> <span style=\"background-color: #FFF4F4\">this</span> <span style=\"background-color: #FFEEEE\">case</span> <span style=\"background-color: #FFF9F9\">and</span> <span style=\"background-color: #FFF5F5\">warn</span> <span style=\"background-color: #FFF0F0\">them</span> <span style=\"background-color: #FFF6F6\">that</span> <span style=\"background-color: #FFFCFC\">it</span> <span style=\"background-color: #FFE6E6\">'</span> <span style=\"background-color: #FFECEC\">s</span> <span style=\"background-color: #FFC3C3\">just</span> <span style=\"background-color: #FFF7F7\">not</span> <span style=\"background-color: #FFFAFA\">worth</span> <span style=\"background-color: #FFE2E2\">risking</span> <span style=\"background-color: #FFF9F9\">having</span> <span style=\"background-color: #FFFAFA\">to</span> <span style=\"background-color: #FFF7F7\">deal</span> <span style=\"background-color: #FFF8F8\">with</span> <span style=\"background-color: #FFEAEA\">wikipedia</span> <span style=\"background-color: #FFF3F3\">'</span> <span style=\"background-color: #FFF2F2\">s</span> <span style=\"background-color: #FFF5F5\">inc</span> <span style=\"background-color: #FFFDFD\">##est</span> <span style=\"background-color: #FFF4F4\">##uous</span> <span style=\"background-color: #FFF8F8\">rulers</span> <span style=\"background-color: #FFF8F8\">in</span> <span style=\"background-color: #FFFCFC\">ad</span> <span style=\"background-color: #FFF8F8\">##mins</span> <span style=\"background-color: #FFF5F5\">##hip</span> <span style=\"background-color: #FFF9F9\">and</span> <span style=\"background-color: #FFFCFC\">ar</span> <span style=\"background-color: #FFFCFC\">##bc</span> <span style=\"background-color: #FFF6F6\">##om</span> <span style=\"background-color: #FFC1C1\">.</span> <span style=\"background-color: #FFD4D4\">[SEP]</span>"
      ],
      "text/plain": [
       "<IPython.core.display.HTML object>"
      ]
     },
     "metadata": {},
     "output_type": "display_data"
    },
    {
     "data": {
      "text/plain": [
       "\"REGARDING THE KAINTHESCION BULLSHIT SHAM RFAR\\nMotions and requests by the parties\\nPlace those on the discussion page WHERE WE WILL NEVER BOTHER LOOKING AND IF ANYTHING ACTAULLY GOES THERE WE'LL JUST BLANK IT.\\n\\nRAUL654 THE ARBCOM VANDAL HAS BLANKED THE DISCUSSION PAGE.\\n\\nHE REFUSES TO ANSWER GOOD-FAITH QUESTIONS ABOUT THIS BULLSHIT, BAD-FAITH RFAR.\\n\\nTHIS WHOLE THING IS A SHAM.\\n\\nIT'S AN RFAR AGAINST KAINTHESCION/ELKABONG. ENVIROKNOT HAS NOTHING TO DO WITH THEM YET YOU ARBCOM BAD FAITH MORONS ARE SIGNING JUDGEMENTS ONLY ON ENVIROKNOT.\\n\\nTHIS IS BEYOND FUCKING STUPID AND INTO THE REALM OF COMPLETE ABUSE OF POWER. I HOPE YOU FUCKERS ARE HAPPY YOU'RE DRIVING SO MANY EDITORS AWAY.\\n\\nEVERY TIME I SEE A NEW USER I'M GOING TO POINT THEM TO THIS CASE AND WARN THEM THAT IT'S JUST NOT WORTH RISKING HAVING TO DEAL WITH WIKIPEDIA'S INCESTUOUS RULERS IN ADMINSHIP AND ARBCOM.\""
      ]
     },
     "metadata": {},
     "output_type": "display_data"
    },
    {
     "name": "stdout",
     "output_type": "stream",
     "text": [
      "Offensive Score is 1.1219152361154556\n"
     ]
    },
    {
     "data": {
      "text/html": [
       "<span style=\"background-color: #FFE0E0\">[CLS]</span> <span style=\"background-color: #FFDEDE\">why</span> <span style=\"background-color: #FFCBCB\">are</span> <span style=\"background-color: #FFC6C6\">my</span> <span style=\"background-color: #FFC3C3\">comments</span> <span style=\"background-color: #FFD1D1\">being</span> <span style=\"background-color: #FFE5E5\">removed</span> <span style=\"background-color: #FF0303\">?</span> <span style=\"background-color: #FFD1D1\">this</span> <span style=\"background-color: #FFE2E2\">is</span> <span style=\"background-color: #FFBDBD\">my</span> <span style=\"background-color: #FFCACA\">page</span> <span style=\"background-color: #FF-3-3\">.</span> <span style=\"background-color: #FFA5A5\">keep</span> <span style=\"background-color: #FFB3B3\">doing</span> <span style=\"background-color: #FF9090\">it</span> <span style=\"background-color: #FF1515\">bitch</span> <span style=\"background-color: #FF9797\">##es</span> <span style=\"background-color: #FF-3-3\">,</span> <span style=\"background-color: #FFCFCF\">and</span> <span style=\"background-color: #FFAFAF\">i</span> <span style=\"background-color: #FFE8E8\">'</span> <span style=\"background-color: #FFA5A5\">ll</span> <span style=\"background-color: #FF8E8E\">report</span> <span style=\"background-color: #FF7B7B\">your</span> <span style=\"background-color: #FF3535\">ass</span> <span style=\"background-color: #FF7979\">##es</span> <span style=\"background-color: #FF-1-1\">.</span> <span style=\"background-color: #FF9090\">[SEP]</span>"
      ],
      "text/plain": [
       "<IPython.core.display.HTML object>"
      ]
     },
     "metadata": {},
     "output_type": "display_data"
    },
    {
     "data": {
      "text/plain": [
       "\"why are my comments being removed? this is MY page. keep doing it bitches, and i'll report your asses.\""
      ]
     },
     "metadata": {},
     "output_type": "display_data"
    },
    {
     "name": "stdout",
     "output_type": "stream",
     "text": [
      "Offensive Score is 1.1203358471393585\n"
     ]
    },
    {
     "data": {
      "text/html": [
       "<span style=\"background-color: #FFEAEA\">[CLS]</span> <span style=\"background-color: #FFC6C6\">\"</span> <span style=\"background-color: #FFB5B5\">ban</span> <span style=\"background-color: #FFC1C1\">my</span> <span style=\"background-color: #FFBEBE\">fat</span> <span style=\"background-color: #FFBCBC\">ass</span> <span style=\"background-color: #FFC9C9\">,</span> <span style=\"background-color: #FFA9A9\">bitch</span> <span style=\"background-color: #FFC4C4\">!</span> <span style=\"background-color: #FFCFCF\">i</span> <span style=\"background-color: #FFE5E5\">need</span> <span style=\"background-color: #FFF5F5\">an</span> <span style=\"background-color: #FFE4E4\">internet</span> <span style=\"background-color: #FFEEEE\">break</span> <span style=\"background-color: #FF9797\">.</span> <span style=\"background-color: #FFDBDB\">need</span> <span style=\"background-color: #FFF3F3\">to</span> <span style=\"background-color: #FFF1F1\">clean</span> <span style=\"background-color: #FFEFEF\">my</span> <span style=\"background-color: #FFF0F0\">room</span> <span style=\"background-color: #FFECEC\">and</span> <span style=\"background-color: #FFF3F3\">lose</span> <span style=\"background-color: #FFEFEF\">weight</span> <span style=\"background-color: #FF9797\">.</span> <span style=\"background-color: #FFC7C7\">please</span> <span style=\"background-color: #FFE4E4\">ban</span> <span style=\"background-color: #FFE0E0\">me</span> <span style=\"background-color: #FFF8F8\">for</span> <span style=\"background-color: #FFF6F6\">3</span> <span style=\"background-color: #FFFAFA\">months</span> <span style=\"background-color: #FFEAEA\">or</span> <span style=\"background-color: #FFF9F9\">60</span> <span style=\"background-color: #FFEEEE\">pounds</span> <span style=\"background-color: #FF9797\">.</span> <span style=\"background-color: #FFE4E4\">or</span> <span style=\"background-color: #FFEDED\">more</span> <span style=\"background-color: #FF9797\">.</span> <span style=\"background-color: #FFDBDB\">thanks</span> <span style=\"background-color: #FF9797\">.</span> <span style=\"background-color: #FFECEC\">if</span> <span style=\"background-color: #FFD7D7\">you</span> <span style=\"background-color: #FFF0F0\">'</span> <span style=\"background-color: #FFECEC\">re</span> <span style=\"background-color: #FFF6F6\">hesitant</span> <span style=\"background-color: #FFDEDE\">,</span> <span style=\"background-color: #FFF8F8\">con</span> <span style=\"background-color: #FFF2F2\">##side</span> <span style=\"background-color: #FFD8D8\">me</span> <span style=\"background-color: #FFF1F1\">to</span> <span style=\"background-color: #FFF4F4\">have</span> <span style=\"background-color: #FFFAFA\">posted</span> <span style=\"background-color: #FFF2F2\">tub</span> <span style=\"background-color: #FFE9E9\">##girl</span> <span style=\"background-color: #FFFAFA\">on</span> <span style=\"background-color: #FFE6E6\">your</span> <span style=\"background-color: #FFF1F1\">talk</span> <span style=\"background-color: #FFF6F6\">page</span> <span style=\"background-color: #FF9797\">.</span> <span style=\"background-color: #FFEEEE\">as</span> <span style=\"background-color: #FFF1F1\">the</span> <span style=\"background-color: #FFE9E9\">guy</span> <span style=\"background-color: #FFF3F3\">in</span> <span style=\"background-color: #FFF6F6\">flight</span> <span style=\"background-color: #FFF8F8\">of</span> <span style=\"background-color: #FFF2F2\">the</span> <span style=\"background-color: #FFEDED\">intruder</span> <span style=\"background-color: #FFF4F4\">said</span> <span style=\"background-color: #FF9898\">.</span> <span style=\"background-color: #FFF1F1\">.</span> <span style=\"background-color: #FFB9B9\">.</span> <span style=\"background-color: #FFF4F4\">\"</span> <span style=\"background-color: #FFF6F6\">\"</span> <span style=\"background-color: #FFD5D5\">i</span> <span style=\"background-color: #FFF2F2\">'</span> <span style=\"background-color: #FFEAEA\">d</span> <span style=\"background-color: #FFF1F1\">do</span> <span style=\"background-color: #FFF3F3\">it</span> <span style=\"background-color: #FFF0F0\">for</span> <span style=\"background-color: #FFCECE\">you</span> <span style=\"background-color: #FFE4E4\">,</span> <span style=\"background-color: #FFC5C5\">sandy</span> <span style=\"background-color: #FFE9E9\">\"</span> <span style=\"background-color: #FFEEEE\">\"</span> <span style=\"background-color: #FF9D9D\">,</span> <span style=\"background-color: #FFF0F0\">when</span> <span style=\"background-color: #FFECEC\">requesting</span> <span style=\"background-color: #FFF0F0\">to</span> <span style=\"background-color: #FFECEC\">be</span> <span style=\"background-color: #FFD0D0\">killed</span> <span style=\"background-color: #FF9797\">.</span> <span style=\"background-color: #FF9797\">\"</span> <span style=\"background-color: #FFC9C9\">[SEP]</span>"
      ],
      "text/plain": [
       "<IPython.core.display.HTML object>"
      ]
     },
     "metadata": {},
     "output_type": "display_data"
    },
    {
     "data": {
      "text/plain": [
       "'\"\\n\\n Ban my fat ass, bitch! \\n\\nI need an internet break.  Need to clean my room and lose weight.  Please ban me for 3 months or 60 pounds.  Or more.  Thanks.  \\n\\nIf you\\'re hesitant, conside me to have posted tubgirl on your talk page.\\n\\nAs the guy in Flight of the Intruder said...\"\"I\\'d do it for you, Sandy\"\", when requesting to be killed.\"'"
      ]
     },
     "metadata": {},
     "output_type": "display_data"
    },
    {
     "name": "stdout",
     "output_type": "stream",
     "text": [
      "Offensive Score is 1.112823948264122\n"
     ]
    },
    {
     "data": {
      "text/html": [
       "<span style=\"background-color: #FF6F6F\">[CLS]</span> <span style=\"background-color: #FF8181\">no</span> <span style=\"background-color: #FF3535\">she</span> <span style=\"background-color: #FFC0C0\">did</span> <span style=\"background-color: #FFACAC\">not</span> <span style=\"background-color: #FF7C7C\">die</span> <span style=\"background-color: #FF8484\">that</span> <span style=\"background-color: #FF-59-59\">is</span> <span style=\"background-color: #FF0505\">so</span> <span style=\"background-color: #FF-232-232\">stupid</span> <span style=\"background-color: #FF-A4-A4\">!</span> <span style=\"background-color: #FF-69-69\">[SEP]</span>"
      ],
      "text/plain": [
       "<IPython.core.display.HTML object>"
      ]
     },
     "metadata": {},
     "output_type": "display_data"
    },
    {
     "data": {
      "text/plain": [
       "'No she did not die that is so stupid!  '"
      ]
     },
     "metadata": {},
     "output_type": "display_data"
    },
    {
     "name": "stdout",
     "output_type": "stream",
     "text": [
      "Offensive Score is 1.1113036125898361\n"
     ]
    },
    {
     "data": {
      "text/html": [
       "<span style=\"background-color: #FFF4F4\">[CLS]</span> <span style=\"background-color: #FFCCCC\">who</span> <span style=\"background-color: #FFDADA\">the</span> <span style=\"background-color: #FFAEAE\">f</span> <span style=\"background-color: #FFDEDE\">*</span> <span style=\"background-color: #FFAEAE\">ck</span> <span style=\"background-color: #FFDCDC\">put</span> <span style=\"background-color: #FFD4D4\">you</span> <span style=\"background-color: #FFF3F3\">in</span> <span style=\"background-color: #FFECEC\">charge</span> <span style=\"background-color: #FFD7D7\">i</span> <span style=\"background-color: #FFF6F6\">create</span> <span style=\"background-color: #FFF8F8\">an</span> <span style=\"background-color: #FFF3F3\">account</span> <span style=\"background-color: #FFF7F7\">on</span> <span style=\"background-color: #FFF1F1\">wikipedia</span> <span style=\"background-color: #FFF0F0\">,</span> <span style=\"background-color: #FFEAEA\">not</span> <span style=\"background-color: #FFEFEF\">2</span> <span style=\"background-color: #FFF1F1\">minutes</span> <span style=\"background-color: #FFF3F3\">later</span> <span style=\"background-color: #FFE5E5\">,</span> <span style=\"background-color: #FFDDDD\">i</span> <span style=\"background-color: #FFF3F3\">receive</span> <span style=\"background-color: #FFF6F6\">a</span> <span style=\"background-color: #FFFAFA\">message</span> <span style=\"background-color: #FFF7F7\">expressing</span> <span style=\"background-color: #FFF7F7\">concern</span> <span style=\"background-color: #FFFAFA\">over</span> <span style=\"background-color: #FFF7F7\">my</span> <span style=\"background-color: #FFF9F9\">user</span> <span style=\"background-color: #FFF9F9\">##name</span> <span style=\"background-color: #FFA8A8\">.</span> <span style=\"background-color: #FFEAEA\">i</span> <span style=\"background-color: #FFF5F5\">know</span> <span style=\"background-color: #FFFAFA\">it</span> <span style=\"background-color: #FFF8F8\">wasn</span> <span style=\"background-color: #FFB2B2\">'</span> <span style=\"background-color: #FFF5F5\">t</span> <span style=\"background-color: #FFDBDB\">you</span> <span style=\"background-color: #FFA4A4\">,</span> <span style=\"background-color: #FFF4F4\">and</span> <span style=\"background-color: #FFE2E2\">i</span> <span style=\"background-color: #FFF8F8\">admit</span> <span style=\"background-color: #FFFCFC\">to</span> <span style=\"background-color: #FFF1F1\">my</span> <span style=\"background-color: #FFF9F9\">three</span> <span style=\"background-color: #FFF5F5\">consecutive</span> <span style=\"background-color: #FFFAFA\">acts</span> <span style=\"background-color: #FFF8F8\">of</span> <span style=\"background-color: #FFFAFA\">van</span> <span style=\"background-color: #FFFCFC\">##dal</span> <span style=\"background-color: #FFF8F8\">##ism</span> <span style=\"background-color: #FFFEFE\">regarding</span> <span style=\"background-color: #FFFCFC\">a</span> <span style=\"background-color: #FFFDFD\">subject</span> <span style=\"background-color: #FFF6F6\">i</span> <span style=\"background-color: #FFFBFB\">particularly</span> <span style=\"background-color: #FFF9F9\">hate</span> <span style=\"background-color: #FFA4A4\">,</span> <span style=\"background-color: #FFFAFA\">but</span> <span style=\"background-color: #FFF2F2\">i</span> <span style=\"background-color: #FFFBFB\">looked</span> <span style=\"background-color: #FFFCFC\">at</span> <span style=\"background-color: #FFE5E5\">your</span> <span style=\"background-color: #FFF9F9\">history</span> <span style=\"background-color: #FFA4A4\">,</span> <span style=\"background-color: #FFF7F7\">and</span> <span style=\"background-color: #FFFCFC\">all</span> <span style=\"background-color: #FFFCFC\">it</span> <span style=\"background-color: #FFFAFA\">seems</span> <span style=\"background-color: #FFFAFA\">that</span> <span style=\"background-color: #FFE5E5\">you</span> <span style=\"background-color: #FFFCFC\">do</span> <span style=\"background-color: #FFFBFB\">is</span> <span style=\"background-color: #FFF4F4\">attack</span> <span style=\"background-color: #FFF9F9\">people</span> <span style=\"background-color: #FFFDFD\">over</span> <span style=\"background-color: #FFFCFC\">edit</span> <span style=\"background-color: #FFFCFC\">##s</span> <span style=\"background-color: #FFFDFD\">and</span> <span style=\"background-color: #FFFCFC\">user</span> <span style=\"background-color: #FFFCFC\">##name</span> <span style=\"background-color: #FFFCFC\">##s</span> <span style=\"background-color: #FFA6A6\">.</span> <span style=\"background-color: #FFFDFD\">instead</span> <span style=\"background-color: #FFFDFD\">of</span> <span style=\"background-color: #FFFBFB\">acting</span> <span style=\"background-color: #FFFBFB\">as</span> <span style=\"background-color: #FFFBFB\">captain</span> <span style=\"background-color: #FFFBFB\">of</span> <span style=\"background-color: #FFF9F9\">the</span> <span style=\"background-color: #FFFBFB\">wi</span> <span style=\"background-color: #FFFAFA\">##ki</span> <span style=\"background-color: #FFFCFC\">##ges</span> <span style=\"background-color: #FFFBFB\">##ta</span> <span style=\"background-color: #FFF5F5\">##po</span> <span style=\"background-color: #FFADAD\">,</span> <span style=\"background-color: #FFF2F2\">maybe</span> <span style=\"background-color: #FFE5E5\">you</span> <span style=\"background-color: #FFF4F4\">should</span> <span style=\"background-color: #FFF6F6\">devote</span> <span style=\"background-color: #FFE4E4\">your</span> <span style=\"background-color: #FFF9F9\">time</span> <span style=\"background-color: #FFF8F8\">and</span> <span style=\"background-color: #FFF7F7\">energy</span> <span style=\"background-color: #FFFBFB\">doing</span> <span style=\"background-color: #FFFDFD\">something</span> <span style=\"background-color: #FFFDFD\">that</span> <span style=\"background-color: #FFFDFD\">actually</span> <span style=\"background-color: #FFFDFD\">really</span> <span style=\"background-color: #FFFBFB\">matters</span> <span style=\"background-color: #FFF6F6\">and</span> <span style=\"background-color: #FFEAEA\">get</span> <span style=\"background-color: #FFF4F4\">of</span> <span style=\"background-color: #FFF3F3\">my</span> <span style=\"background-color: #FFF9F9\">and</span> <span style=\"background-color: #FFFAFA\">other</span> <span style=\"background-color: #FFF4F4\">row</span> <span style=\"background-color: #FFF6F6\">##dy</span> <span style=\"background-color: #FFF7F7\">wikipedia</span> <span style=\"background-color: #FFF7F7\">##ns</span> <span style=\"background-color: #FFE5E5\">ass</span> <span style=\"background-color: #FFF6F6\">##es</span> <span style=\"background-color: #FFA9A9\">.</span> <span style=\"background-color: #FFF0F0\">we</span> <span style=\"background-color: #FFF7F7\">may</span> <span style=\"background-color: #FFFBFB\">off</span> <span style=\"background-color: #FFF9F9\">##end</span> <span style=\"background-color: #FFF9F9\">occasionally</span> <span style=\"background-color: #FFF7F7\">but</span> <span style=\"background-color: #FFF9F9\">it</span> <span style=\"background-color: #FFF6F6\">is</span> <span style=\"background-color: #FFF8F8\">all</span> <span style=\"background-color: #FFFBFB\">in</span> <span style=\"background-color: #FFF6F6\">the</span> <span style=\"background-color: #FFF8F8\">spirit</span> <span style=\"background-color: #FFF1F1\">of</span> <span style=\"background-color: #FFF1F1\">je</span> <span style=\"background-color: #FFE8E8\">##st</span> <span style=\"background-color: #FFA7A7\">.</span> <span style=\"background-color: #FFEDED\">so</span> <span style=\"background-color: #FFF3F3\">after</span> <span style=\"background-color: #FFE6E6\">you</span> <span style=\"background-color: #FFF7F7\">read</span> <span style=\"background-color: #FFF1F1\">this</span> <span style=\"background-color: #FFE4E4\">,</span> <span style=\"background-color: #FFE4E4\">log</span> <span style=\"background-color: #FFF1F1\">off</span> <span style=\"background-color: #FFF5F5\">of</span> <span style=\"background-color: #FFE8E8\">your</span> <span style=\"background-color: #FFF1F1\">computer</span> <span style=\"background-color: #FFF0F0\">and</span> <span style=\"background-color: #FFE6E6\">go</span> <span style=\"background-color: #FFE4E4\">live</span> <span style=\"background-color: #FFF2F2\">a</span> <span style=\"background-color: #FFEBEB\">little</span> <span style=\"background-color: #FFABAB\">.</span> <span style=\"background-color: #FFE9E9\">also</span> <span style=\"background-color: #FFD7D7\">get</span> <span style=\"background-color: #FFDADA\">that</span> <span style=\"background-color: #FFAFAF\">dick</span> <span style=\"background-color: #FFDCDC\">out</span> <span style=\"background-color: #FFDEDE\">of</span> <span style=\"background-color: #FFDCDC\">your</span> <span style=\"background-color: #FFC7C7\">mouth</span> <span style=\"background-color: #FFA4A4\">.</span> <span style=\"background-color: #FFDBDB\">[SEP]</span>"
      ],
      "text/plain": [
       "<IPython.core.display.HTML object>"
      ]
     },
     "metadata": {},
     "output_type": "display_data"
    },
    {
     "data": {
      "text/plain": [
       "\"Who The F*ck Put You In Charge\\n\\nI create an account on wikipedia, not 2 minutes later, I receive a message expressing concern over my username. I know it wasn't you, and I admit to my three consecutive acts of vandalism regarding a subject I particularly hate, but I looked at your history, and all it seems that you do is attack people over edits and usernames. Instead of acting as captain of the Wikigestapo, maybe you should devote your time and energy doing something that actually really matters and get of my and other rowdy wikipedians asses. We may offend occasionally but it is all in the spirit of jest. So after you read this, log off of your computer and go live a little. Also get that dick out of your mouth.\""
      ]
     },
     "metadata": {},
     "output_type": "display_data"
    },
    {
     "name": "stdout",
     "output_type": "stream",
     "text": [
      "Offensive Score is 1.1106501072645187\n"
     ]
    },
    {
     "data": {
      "text/html": [
       "<span style=\"background-color: #FFFCFC\">[CLS]</span> <span style=\"background-color: #FFF9F9\">why</span> <span style=\"background-color: #FFF8F8\">are</span> <span style=\"background-color: #FFF6F6\">you</span> <span style=\"background-color: #FFFBFB\">still</span> <span style=\"background-color: #FFF8F8\">hara</span> <span style=\"background-color: #FFF1F1\">##ssing</span> <span style=\"background-color: #FFF7F7\">me</span> <span style=\"background-color: #FFF9F9\">?</span> <span style=\"background-color: #FFF7F7\">do</span> <span style=\"background-color: #FFF7F7\">you</span> <span style=\"background-color: #FFF8F8\">love</span> <span style=\"background-color: #FFF1F1\">boston</span> <span style=\"background-color: #FFFBFB\">that</span> <span style=\"background-color: #FFFAFA\">much</span> <span style=\"background-color: #FFACAC\">?</span> <span style=\"background-color: #FFF5F5\">where</span> <span style=\"background-color: #FFF9F9\">the</span> <span style=\"background-color: #FFEBEB\">fuck</span> <span style=\"background-color: #FFF9F9\">(</span> <span style=\"background-color: #FFFBFB\">that</span> <span style=\"background-color: #FFFAFA\">is</span> <span style=\"background-color: #FFFAFA\">right</span> <span style=\"background-color: #FFCDCD\">,</span> <span style=\"background-color: #FFF9F9\">i</span> <span style=\"background-color: #FFFAFA\">wrote</span> <span style=\"background-color: #FFFBFB\">it</span> <span style=\"background-color: #FFABAB\">.</span> <span style=\"background-color: #FFC4C4\">)</span> <span style=\"background-color: #FFF7F7\">is</span> <span style=\"background-color: #FFF4F4\">you</span> <span style=\"background-color: #FFF7F7\">threat</span> <span style=\"background-color: #FFF9F9\">or</span> <span style=\"background-color: #FFF6F6\">block</span> <span style=\"background-color: #FFF9F9\">of</span> <span style=\"background-color: #FFF6F6\">that</span> <span style=\"background-color: #FFF1F1\">clown</span> <span style=\"background-color: #FFF9F9\">who</span> <span style=\"background-color: #FFF8F8\">left</span> <span style=\"background-color: #FFF2F2\">racist</span> <span style=\"background-color: #FFFBFB\">##s</span> <span style=\"background-color: #FFF7F7\">comments</span> <span style=\"background-color: #FFFBFB\">over</span> <span style=\"background-color: #FFFCFC\">a</span> <span style=\"background-color: #FFF2F2\">bs</span> <span style=\"background-color: #FFFAFA\">topic</span> <span style=\"background-color: #FFAAAA\">?</span> <span style=\"background-color: #FFFAFA\">was</span> <span style=\"background-color: #FFF9F9\">it</span> <span style=\"background-color: #FFF1F1\">you</span> <span style=\"background-color: #FFADAD\">?</span> <span style=\"background-color: #FFF2F2\">you</span> <span style=\"background-color: #FFF6F6\">have</span> <span style=\"background-color: #FFFAFA\">a</span> <span style=\"background-color: #FFF5F5\">serious</span> <span style=\"background-color: #FFF6F6\">problem</span> <span style=\"background-color: #FFAAAA\">.</span> <span style=\"background-color: #FFFBFB\">why</span> <span style=\"background-color: #FFFCFC\">in</span> <span style=\"background-color: #FFFCFC\">the</span> <span style=\"background-color: #FFF6F6\">hell</span> <span style=\"background-color: #FFFAFA\">are</span> <span style=\"background-color: #FFF6F6\">you</span> <span style=\"background-color: #FFF7F7\">following</span> <span style=\"background-color: #FFF6F6\">me</span> <span style=\"background-color: #FFFCFC\">every</span> <span style=\"background-color: #FFFCFC\">place</span> <span style=\"background-color: #FFF6F6\">i</span> <span style=\"background-color: #FFFCFC\">go</span> <span style=\"background-color: #FFFCFC\">on</span> <span style=\"background-color: #FFF9F9\">here</span> <span style=\"background-color: #FFACAC\">.</span> <span style=\"background-color: #FFFAFA\">the</span> <span style=\"background-color: #FFF0F0\">indian</span> <span style=\"background-color: #FFF9F9\">thing</span> <span style=\"background-color: #FFFBFB\">was</span> <span style=\"background-color: #FFFBFB\">a</span> <span style=\"background-color: #FFEBEB\">fucking</span> <span style=\"background-color: #FFF7F7\">comment</span> <span style=\"background-color: #FFFAFA\">that</span> <span style=\"background-color: #FFFBFB\">anyone</span> <span style=\"background-color: #FFFBFB\">can</span> <span style=\"background-color: #FFF9F9\">leave</span> <span style=\"background-color: #FFABAB\">.</span> <span style=\"background-color: #FFFCFC\">if</span> <span style=\"background-color: #FFF7F7\">you</span> <span style=\"background-color: #FFF8F8\">search</span> <span style=\"background-color: #FFFDFD\">on</span> <span style=\"background-color: #FFFBFB\">this</span> <span style=\"background-color: #FFFDFD\">whole</span> <span style=\"background-color: #FFF8F8\">site</span> <span style=\"background-color: #FFC9C9\">,</span> <span style=\"background-color: #FFF7F7\">you</span> <span style=\"background-color: #FFF6F6\">wil</span> <span style=\"background-color: #FFF9F9\">find</span> <span style=\"background-color: #FFFCFC\">far</span> <span style=\"background-color: #FFFBFB\">worse</span> <span style=\"background-color: #FFFDFD\">than</span> <span style=\"background-color: #FFFCFC\">what</span> <span style=\"background-color: #FFF8F8\">i</span> <span style=\"background-color: #FFFAFA\">wrote</span> <span style=\"background-color: #FFABAB\">.</span> <span style=\"background-color: #FFF1F1\">you</span> <span style=\"background-color: #FFF0F0\">fa</span> <span style=\"background-color: #FFF0F0\">##gg</span> <span style=\"background-color: #FFEFEF\">##ots</span> <span style=\"background-color: #FFF7F7\">(</span> <span style=\"background-color: #FFF6F6\">yeah</span> <span style=\"background-color: #FFF9F9\">i</span> <span style=\"background-color: #FFFBFB\">wrote</span> <span style=\"background-color: #FFFCFC\">that</span> <span style=\"background-color: #FFFCFC\">too</span> <span style=\"background-color: #FFAEAE\">.</span> <span style=\"background-color: #FFFDFD\">i</span> <span style=\"background-color: #FFFDFD\">guess</span> <span style=\"background-color: #FFFBFB\">you</span> <span style=\"background-color: #FFFEFE\">can</span> <span style=\"background-color: #FFFDFD\">see</span> <span style=\"background-color: #FFFDFD\">that</span> <span style=\"background-color: #FFFAFA\">i</span> <span style=\"background-color: #FFFDFD\">can</span> <span style=\"background-color: #FFF4F4\">give</span> <span style=\"background-color: #FFFBFB\">a</span> <span style=\"background-color: #FFEFEF\">fuck</span> <span style=\"background-color: #FFF8F8\">about</span> <span style=\"background-color: #FFFDFD\">a</span> <span style=\"background-color: #FFF7F7\">block</span> <span style=\"background-color: #FFFDFD\">since</span> <span style=\"background-color: #FFFCFC\">i</span> <span style=\"background-color: #FFFDFD\">can</span> <span style=\"background-color: #FFFDFD\">create</span> <span style=\"background-color: #FFFDFD\">endless</span> <span style=\"background-color: #FFFAFA\">ip</span> <span style=\"background-color: #FFFBFB\">address</span> <span style=\"background-color: #FFB2B2\">.</span> <span style=\"background-color: #FFFCFC\">i</span> <span style=\"background-color: #FFFDFD\">see</span> <span style=\"background-color: #FFFAFA\">we</span> <span style=\"background-color: #FFFCFC\">may</span> <span style=\"background-color: #FFFAFA\">go</span> <span style=\"background-color: #FFFDFD\">back</span> <span style=\"background-color: #FFFCFC\">into</span> <span style=\"background-color: #FFFBFB\">an</span> <span style=\"background-color: #FFF8F8\">ip</span> <span style=\"background-color: #FFF9F9\">war</span> <span style=\"background-color: #FFADAD\">.</span> <span style=\"background-color: #FFFDFD\">.</span> <span style=\"background-color: #FFFCFC\">.</span> <span style=\"background-color: #FFF9F9\">)</span> <span style=\"background-color: #FFF9F9\">seem</span> <span style=\"background-color: #FFFCFC\">to</span> <span style=\"background-color: #FFF9F9\">jump</span> <span style=\"background-color: #FFFDFD\">at</span> <span style=\"background-color: #FFFDFD\">everything</span> <span style=\"background-color: #FFFAFA\">i</span> <span style=\"background-color: #FFFDFD\">do</span> <span style=\"background-color: #FFADAD\">.</span> <span style=\"background-color: #FFF1F1\">get</span> <span style=\"background-color: #FFF0F0\">off</span> <span style=\"background-color: #FFF4F4\">of</span> <span style=\"background-color: #FFF1F1\">my</span> <span style=\"background-color: #FFEDED\">dick</span> <span style=\"background-color: #FFACAC\">.</span> <span style=\"background-color: #FFFBFB\">why</span> <span style=\"background-color: #FFF8F8\">don</span> <span style=\"background-color: #FFD9D9\">'</span> <span style=\"background-color: #FFF9F9\">t</span> <span style=\"background-color: #FFF6F6\">you</span> <span style=\"background-color: #FFF2F2\">go</span> <span style=\"background-color: #FFF2F2\">shut</span> <span style=\"background-color: #FFF8F8\">the</span> <span style=\"background-color: #FFF4F4\">racist</span> <span style=\"background-color: #FFF9F9\">##s</span> <span style=\"background-color: #FFF4F4\">down</span> <span style=\"background-color: #FFA9A9\">?</span> <span style=\"background-color: #FFFCFC\">i</span> <span style=\"background-color: #FFFDFD\">guess</span> <span style=\"background-color: #FFFBFB\">you</span> <span style=\"background-color: #FFFDFD\">think</span> <span style=\"background-color: #FFFCFC\">as</span> <span style=\"background-color: #FFFCFC\">they</span> <span style=\"background-color: #FFFDFD\">do</span> <span style=\"background-color: #FFFDFD\">so</span> <span style=\"background-color: #FFFDFD\">it</span> <span style=\"background-color: #FFFBFB\">is</span> <span style=\"background-color: #FFF9F9\">cool</span> <span style=\"background-color: #FFFBFB\">with</span> <span style=\"background-color: #FFF6F6\">you</span> <span style=\"background-color: #FFADAD\">.</span> <span style=\"background-color: #FFFCFC\">when</span> <span style=\"background-color: #FFF8F8\">i</span> <span style=\"background-color: #FFFBFB\">write</span> <span style=\"background-color: #FFFCFC\">something</span> <span style=\"background-color: #FFFCFC\">on</span> <span style=\"background-color: #FFF9F9\">here</span> <span style=\"background-color: #FFFDFD\">not</span> <span style=\"background-color: #FFFDFD\">related</span> <span style=\"background-color: #FFFDFD\">to</span> <span style=\"background-color: #FFFCFC\">new</span> <span style=\"background-color: #FFFCFC\">england</span> <span style=\"background-color: #FFC6C6\">,</span> <span style=\"background-color: #FFFBFB\">i</span> <span style=\"background-color: #FFFDFD\">should</span> <span style=\"background-color: #FFFBFB\">not</span> <span style=\"background-color: #FFFCFC\">expect</span> <span style=\"background-color: #FFF3F3\">your</span> <span style=\"background-color: #FFF1F1\">monkey</span> <span style=\"background-color: #FFEFEF\">ass</span> <span style=\"background-color: #FFFDFD\">to</span> <span style=\"background-color: #FFFCFC\">be</span> <span style=\"background-color: #FFFBFB\">on</span> <span style=\"background-color: #FFFAFA\">my</span> <span style=\"background-color: #FFF9F9\">case</span> <span style=\"background-color: #FFACAC\">.</span> <span style=\"background-color: #FFFCFC\">i</span> <span style=\"background-color: #FFFCFC\">guess</span> <span style=\"background-color: #FFF9F9\">i</span> <span style=\"background-color: #FFF9F9\">am</span> <span style=\"background-color: #FFF9F9\">ready</span> <span style=\"background-color: #FFFBFB\">to</span> <span style=\"background-color: #FFFCFC\">be</span> <span style=\"background-color: #FFF8F8\">blocked</span> <span style=\"background-color: #FFAAAA\">.</span> <span style=\"background-color: #FFF8F8\">believe</span> <span style=\"background-color: #FFF9F9\">me</span> <span style=\"background-color: #FFFCFC\">when</span> <span style=\"background-color: #FFFBFB\">i</span> <span style=\"background-color: #FFFCFC\">tell</span> <span style=\"background-color: #FFF8F8\">you</span> <span style=\"background-color: #FFFCFC\">,</span> <span style=\"background-color: #FFF6F6\">i</span> <span style=\"background-color: #FFF7F7\">will</span> <span style=\"background-color: #FFFAFA\">be</span> <span style=\"background-color: #FFFAFA\">on</span> <span style=\"background-color: #FFF5F5\">your</span> <span style=\"background-color: #FFF7F7\">cases</span> <span style=\"background-color: #FFFAFA\">after</span> <span style=\"background-color: #FFF9F9\">hara</span> <span style=\"background-color: #FFF4F4\">##ssing</span> <span style=\"background-color: #FFF7F7\">over</span> <span style=\"background-color: #FFF8F8\">some</span> <span style=\"background-color: #FFEFEF\">bullshit</span> <span style=\"background-color: #FFF7F7\">boston</span> <span style=\"background-color: #FFFAFA\">/</span> <span style=\"background-color: #FFFCFC\">new</span> <span style=\"background-color: #FFFBFB\">england</span> <span style=\"background-color: #FFF9F9\">com</span> <span style=\"background-color: #FFFAFA\">##m</span> <span style=\"background-color: #FFF4F4\">##nets</span> <span style=\"background-color: #FFA7A7\">!</span> <span style=\"background-color: #FFEFEF\">[SEP]</span>"
      ],
      "text/plain": [
       "<IPython.core.display.HTML object>"
      ]
     },
     "metadata": {},
     "output_type": "display_data"
    },
    {
     "data": {
      "text/plain": [
       "\"Why are you STILL harassing me?  Do you love Boston that much?  Where the fuck(that is right, I wrote it.) is you threat or block of that clown who left racists comments over a BS topic?  Was it you?  You have a serious problem.  Why in the hell are you following me every place I go on here.  The Indian thing was a fucking comment that anyone can leave.  If you search on this whole site, you wil find FAR worse than what I wrote.  You faggots (yeah I wrote that too.  I guess you can see that I can give a fuck about a block since I can create endless IP address. I see we may go back into an IP war...) seem to jump at everything I do.  Get off of my dick.  Why don't you go shut the racists down?  I guess you think as they do so it is cool with you.  When I write something on here not related to New England, I should not expect your monkey ass to be on my case.  I guess I am ready to be blocked.  Believe me when I tell you, I will be on YOUR cases after harassing over some bullshit Boston/New England commnets!   \""
      ]
     },
     "metadata": {},
     "output_type": "display_data"
    },
    {
     "name": "stdout",
     "output_type": "stream",
     "text": [
      "Offensive Score is 1.1077859997749329\n"
     ]
    },
    {
     "data": {
      "text/html": [
       "<span style=\"background-color: #FFF7F7\">[CLS]</span> <span style=\"background-color: #FFF1F1\">del</span> <span style=\"background-color: #FFF6F6\">##eti</span> <span style=\"background-color: #FFE5E5\">##ng</span> <span style=\"background-color: #FFDFDF\">pop</span> <span style=\"background-color: #FFEFEF\">this</span> <span style=\"background-color: #FFF1F1\">whole</span> <span style=\"background-color: #FFF0F0\">place</span> <span style=\"background-color: #FFEFEF\">open</span> <span style=\"background-color: #FFD8D8\">excuse</span> <span style=\"background-color: #FFEAEA\">me</span> <span style=\"background-color: #FFC9C9\">,</span> <span style=\"background-color: #FFECEC\">but</span> <span style=\"background-color: #FFF0F0\">what</span> <span style=\"background-color: #FFF0F0\">the</span> <span style=\"background-color: #FFD5D5\">fuck</span> <span style=\"background-color: #FFF1F1\">do</span> <span style=\"background-color: #FFEDED\">you</span> <span style=\"background-color: #FFF1F1\">think</span> <span style=\"background-color: #FFF0F0\">you</span> <span style=\"background-color: #FFF8F8\">'</span> <span style=\"background-color: #FFF7F7\">re</span> <span style=\"background-color: #FFF7F7\">doing</span> <span style=\"background-color: #FFC5C5\">?</span> <span style=\"background-color: #FFE7E7\">i</span> <span style=\"background-color: #FFF9F9\">posted</span> <span style=\"background-color: #FFFAFA\">a</span> <span style=\"background-color: #FFF9F9\">page</span> <span style=\"background-color: #FFFBFB\">on</span> <span style=\"background-color: #FFF0F0\">here</span> <span style=\"background-color: #FFFAFA\">for</span> <span style=\"background-color: #FFF5F5\">my</span> <span style=\"background-color: #FFF5F5\">band</span> <span style=\"background-color: #FFF3F3\">'</span> <span style=\"background-color: #FFEEEE\">pop</span> <span style=\"background-color: #FFF3F3\">this</span> <span style=\"background-color: #FFF6F6\">whole</span> <span style=\"background-color: #FFF2F2\">place</span> <span style=\"background-color: #FFF3F3\">open</span> <span style=\"background-color: #FFC6C6\">'</span> <span style=\"background-color: #FFF6F6\">and</span> <span style=\"background-color: #FFE3E3\">you</span> <span style=\"background-color: #FFF0F0\">promptly</span> <span style=\"background-color: #FFF9F9\">deleted</span> <span style=\"background-color: #FFF7F7\">it</span> <span style=\"background-color: #FFC5C5\">.</span> <span style=\"background-color: #FFFBFB\">what</span> <span style=\"background-color: #FFF9F9\">is</span> <span style=\"background-color: #FFD8D8\">the</span> <span style=\"background-color: #FFFCFC\">meaning</span> <span style=\"background-color: #FFF9F9\">of</span> <span style=\"background-color: #FFF2F2\">this</span> <span style=\"background-color: #FFFAFA\">de</span> <span style=\"background-color: #FFFBFB\">##bau</span> <span style=\"background-color: #FFFAFA\">##cher</span> <span style=\"background-color: #FFF0F0\">##y</span> <span style=\"background-color: #FFC6C6\">?</span> <span style=\"background-color: #FFF8F8\">wikipedia</span> <span style=\"background-color: #FFF7F7\">is</span> <span style=\"background-color: #FFF6F6\">clearly</span> <span style=\"background-color: #FFFAFA\">a</span> <span style=\"background-color: #FFF9F9\">website</span> <span style=\"background-color: #FFFBFB\">used</span> <span style=\"background-color: #FFFBFB\">to</span> <span style=\"background-color: #FFFBFB\">provide</span> <span style=\"background-color: #FFF9F9\">information</span> <span style=\"background-color: #FFC5C5\">.</span> <span style=\"background-color: #FFFAFA\">what</span> <span style=\"background-color: #FFFAFA\">harm</span> <span style=\"background-color: #FFFBFB\">comes</span> <span style=\"background-color: #FFFCFC\">from</span> <span style=\"background-color: #FFFAFA\">posting</span> <span style=\"background-color: #FFFAFA\">a</span> <span style=\"background-color: #FFFBFB\">page</span> <span style=\"background-color: #FFFCFC\">about</span> <span style=\"background-color: #FFF7F7\">my</span> <span style=\"background-color: #FFF8F8\">band</span> <span style=\"background-color: #FFC5C5\">.</span> <span style=\"background-color: #FFFBFB\">it</span> <span style=\"background-color: #FFFAFA\">was</span> <span style=\"background-color: #FFFBFB\">completely</span> <span style=\"background-color: #FFFAFA\">truth</span> <span style=\"background-color: #FFFBFB\">##ful</span> <span style=\"background-color: #FFF7F7\">and</span> <span style=\"background-color: #FFF2F2\">i</span> <span style=\"background-color: #FFF6F6\">am</span> <span style=\"background-color: #FFC3C3\">just</span> <span style=\"background-color: #FFFAFA\">trying</span> <span style=\"background-color: #FFFAFA\">to</span> <span style=\"background-color: #FFFBFB\">make</span> <span style=\"background-color: #FFFBFB\">a</span> <span style=\"background-color: #FFFAFA\">name</span> <span style=\"background-color: #FFFBFB\">for</span> <span style=\"background-color: #FFF7F7\">myself</span> <span style=\"background-color: #FFC5C5\">.</span> <span style=\"background-color: #FFF8F8\">who</span> <span style=\"background-color: #FFF6F6\">do</span> <span style=\"background-color: #FFE9E9\">you</span> <span style=\"background-color: #FFF7F7\">thin</span> <span style=\"background-color: #FFEBEB\">you</span> <span style=\"background-color: #FFF7F7\">are</span> <span style=\"background-color: #FFFCFC\">del</span> <span style=\"background-color: #FFFDFD\">##eti</span> <span style=\"background-color: #FFFCFC\">##ng</span> <span style=\"background-color: #FFF7F7\">this</span> <span style=\"background-color: #FFF8F8\">page</span> <span style=\"background-color: #FFF2F2\">?</span> <span style=\"background-color: #FFEDED\">you</span> <span style=\"background-color: #FFF8F8\">go</span> <span style=\"background-color: #FFF6F6\">around</span> <span style=\"background-color: #FFF8F8\">judging</span> <span style=\"background-color: #FFFCFC\">people</span> <span style=\"background-color: #FFFDFD\">'</span> <span style=\"background-color: #FFFDFD\">s</span> <span style=\"background-color: #FFFCFC\">contributions</span> <span style=\"background-color: #FFFDFD\">to</span> <span style=\"background-color: #FFFDFD\">other</span> <span style=\"background-color: #FFFCFC\">pages</span> <span style=\"background-color: #FFFDFD\">about</span> <span style=\"background-color: #FFFDFD\">popular</span> <span style=\"background-color: #FFFDFD\">subjects</span> <span style=\"background-color: #FFF9F9\">and</span> <span style=\"background-color: #FFFBFB\">that</span> <span style=\"background-color: #FFF9F9\">is</span> <span style=\"background-color: #FFF6F6\">perfectly</span> <span style=\"background-color: #FFF7F7\">fine</span> <span style=\"background-color: #FFCACA\">,</span> <span style=\"background-color: #FFF6F6\">but</span> <span style=\"background-color: #FFF1F1\">who</span> <span style=\"background-color: #FFEEEE\">the</span> <span style=\"background-color: #FFD9D9\">fuck</span> <span style=\"background-color: #FFF2F2\">are</span> <span style=\"background-color: #FFEFEF\">you</span> <span style=\"background-color: #FFF9F9\">to</span> <span style=\"background-color: #FFF7F7\">tell</span> <span style=\"background-color: #FFF3F3\">me</span> <span style=\"background-color: #FFF8F8\">that</span> <span style=\"background-color: #FFFBFB\">the</span> <span style=\"background-color: #FFFAFA\">information</span> <span style=\"background-color: #FFF7F7\">that</span> <span style=\"background-color: #FFF3F3\">i</span> <span style=\"background-color: #FFFCFC\">posted</span> <span style=\"background-color: #FFFDFD\">about</span> <span style=\"background-color: #FFF9F9\">my</span> <span style=\"background-color: #FFFBFB\">own</span> <span style=\"background-color: #FFFAFA\">band</span> <span style=\"background-color: #FFF9F9\">isn</span> <span style=\"background-color: #FFDFDF\">'</span> <span style=\"background-color: #FFFAFA\">t</span> <span style=\"background-color: #FFFAFA\">worthy</span> <span style=\"background-color: #FFFBFB\">of</span> <span style=\"background-color: #FFFBFB\">being</span> <span style=\"background-color: #FFFBFB\">on</span> <span style=\"background-color: #FFF6F6\">wikipedia</span> <span style=\"background-color: #FFC4C4\">?</span> <span style=\"background-color: #FFE2E2\">huh</span> <span style=\"background-color: #FFF0F0\">?</span> <span style=\"background-color: #FFF7F7\">who</span> <span style=\"background-color: #FFF7F7\">would</span> <span style=\"background-color: #FFEFEF\">better</span> <span style=\"background-color: #FFF8F8\">be</span> <span style=\"background-color: #FFF9F9\">the</span> <span style=\"background-color: #FFF9F9\">authority</span> <span style=\"background-color: #FFFCFC\">on</span> <span style=\"background-color: #FFFAFA\">the</span> <span style=\"background-color: #FFF9F9\">subject</span> <span style=\"background-color: #FFFAFA\">than</span> <span style=\"background-color: #FFF1F1\">i</span> <span style=\"background-color: #FFC7C7\">.</span> <span style=\"background-color: #FFEBEB\">i</span> <span style=\"background-color: #FFF1F1\">ought</span> <span style=\"background-color: #FFF5F5\">to</span> <span style=\"background-color: #FFE2E2\">find</span> <span style=\"background-color: #FFE8E8\">you</span> <span style=\"background-color: #FFF4F4\">and</span> <span style=\"background-color: #FFF3F3\">expose</span> <span style=\"background-color: #FFF3F3\">my</span> <span style=\"background-color: #FFE5E5\">penis</span> <span style=\"background-color: #FFF2F2\">to</span> <span style=\"background-color: #FFE9E9\">you</span> <span style=\"background-color: #FFC4C4\">.</span> <span style=\"background-color: #FFE6E6\">you</span> <span style=\"background-color: #FFEDED\">,</span> <span style=\"background-color: #FFDADA\">asshole</span> <span style=\"background-color: #FFF2F2\">,</span> <span style=\"background-color: #FFE9E9\">are</span> <span style=\"background-color: #FFF2F2\">nothing</span> <span style=\"background-color: #FFF1F1\">but</span> <span style=\"background-color: #FFEFEF\">a</span> <span style=\"background-color: #FFE2E2\">whore</span> <span style=\"background-color: #FFEEEE\">.</span> <span style=\"background-color: #FFECEC\">a</span> <span style=\"background-color: #FFE5E5\">whore</span> <span style=\"background-color: #FFF3F3\">who</span> <span style=\"background-color: #FFF7F7\">thinks</span> <span style=\"background-color: #FFF4F4\">they</span> <span style=\"background-color: #FFFBFB\">have</span> <span style=\"background-color: #FFFCFC\">some</span> <span style=\"background-color: #FFFCFC\">kind</span> <span style=\"background-color: #FFCBCB\">of</span> <span style=\"background-color: #FFFDFD\">say</span> <span style=\"background-color: #FFFDFD\">in</span> <span style=\"background-color: #FFFBFB\">the</span> <span style=\"background-color: #FFFCFC\">matters</span> <span style=\"background-color: #FFFDFD\">of</span> <span style=\"background-color: #FFFBFB\">life</span> <span style=\"background-color: #FFC4C4\">.</span> <span style=\"background-color: #FFFBFB\">what</span> <span style=\"background-color: #FFFDFD\">if</span> <span style=\"background-color: #FFFAFA\">we</span> <span style=\"background-color: #FFFCFC\">became</span> <span style=\"background-color: #FFFCFC\">famous</span> <span style=\"background-color: #FFC4C4\">?</span> <span style=\"background-color: #FFFDFD\">then</span> <span style=\"background-color: #FFFCFC\">there</span> <span style=\"background-color: #FFFCFC\">would</span> <span style=\"background-color: #FFFCFC\">be</span> <span style=\"background-color: #FFFCFC\">a</span> <span style=\"background-color: #FFFDFD\">page</span> <span style=\"background-color: #FFFCFC\">on</span> <span style=\"background-color: #FFF6F6\">here</span> <span style=\"background-color: #FFFDFD\">about</span> <span style=\"background-color: #FFFAFA\">us</span> <span style=\"background-color: #FFFBFB\">and</span> <span style=\"background-color: #FFEFEF\">you</span> <span style=\"background-color: #FFFCFC\">wouldn</span> <span style=\"background-color: #FFE9E9\">'</span> <span style=\"background-color: #FFFCFC\">t</span> <span style=\"background-color: #FFFDFD\">be</span> <span style=\"background-color: #FFFEFE\">del</span> <span style=\"background-color: #FFFEFE\">##eti</span> <span style=\"background-color: #FFFDFD\">##ng</span> <span style=\"background-color: #FFFCFC\">it</span> <span style=\"background-color: #FFC5C5\">.</span> <span style=\"background-color: #FFFAFA\">but</span> <span style=\"background-color: #FFFDFD\">since</span> <span style=\"background-color: #FFFAFA\">we</span> <span style=\"background-color: #FFF9F9\">are</span> <span style=\"background-color: #FFFBFB\">some</span> <span style=\"background-color: #FFF6F6\">band</span> <span style=\"background-color: #FFF0F0\">you</span> <span style=\"background-color: #FFF8F8\">'</span> <span style=\"background-color: #FFFCFC\">ve</span> <span style=\"background-color: #FFFDFD\">never</span> <span style=\"background-color: #FFFDFD\">heard</span> <span style=\"background-color: #FFFEFE\">of</span> <span style=\"background-color: #FFFCFC\">that</span> <span style=\"background-color: #FFFCFC\">makes</span> <span style=\"background-color: #FFFDFD\">it</span> <span style=\"background-color: #FFFDFD\">okay</span> <span style=\"background-color: #FFFBFB\">to</span> <span style=\"background-color: #FFFDFD\">del</span> <span style=\"background-color: #FFFDFD\">##ete</span> <span style=\"background-color: #FFFBFB\">our</span> <span style=\"background-color: #FFFBFB\">page</span> <span style=\"background-color: #FFE5E5\">.</span>"
      ],
      "text/plain": [
       "<IPython.core.display.HTML object>"
      ]
     },
     "metadata": {},
     "output_type": "display_data"
    },
    {
     "data": {
      "text/plain": [
       "\" Deleting Pop This Whole Place Open \\n\\nExcuse me, but what the fuck do you think you're doing? I posted a page on here for my band 'Pop This Whole Place Open' and you promptly deleted it. What is the meaning of this debauchery? Wikipedia is clearly a website used to provide information. What harm comes from posting a page about my band. It was completely truthful and I am just trying to make a name for myself. Who do you thin you are deleting this page? You go around judging people's contributions to other pages about popular subjects and that is perfectly fine, but who the fuck are you to tell me that the information that I posted about my own band isn't worthy of being on Wikipedia? Huh? Who would better be the authority on the subject than I. I ought to find you and expose my penis to you. You, asshole, are nothing but a whore. A whore who thinks they have some kind of say in the matters of life. What if we became famous? Then there would be a page on here about us and you wouldn't be deleting it. But since we are some band you've never heard of that makes it okay to delete our page. You must be some high authority in the music business that I don't know about. I must have insulted your intelligence by making a page which only I could possibly contain all the knowledge to. Regardless of the reason that you deleted my page, let me tell you something, Schmegma Von Dicksuckington, you can fuck yourself, long and hard, with a baseball bat covered in barbed wire. How dare you delet my page. Bring it back to Wikipedia within the hour or I will continue to post insulting things on your talk page, you ergonomic keyboard using, alternative MP3 player owning fuck.\\n\\nI hope you get cancer. \\nAnd if you or a close relative of yours already has cancer, good.\\n\\nFuck you,\\nR. Martin Hemenway\""
      ]
     },
     "metadata": {},
     "output_type": "display_data"
    },
    {
     "name": "stdout",
     "output_type": "stream",
     "text": [
      "Offensive Score is 1.1061895936727524\n"
     ]
    },
    {
     "data": {
      "text/html": [
       "<span style=\"background-color: #FFF2F2\">[CLS]</span> <span style=\"background-color: #FFBFBF\">sick</span> <span style=\"background-color: #FFE3E3\">po</span> <span style=\"background-color: #FFD6D6\">##v</span> <span style=\"background-color: #FFCBCB\">what</span> <span style=\"background-color: #FFE6E6\">the</span> <span style=\"background-color: #FFCBCB\">hell</span> <span style=\"background-color: #FFBBBB\">?</span> <span style=\"background-color: #FFB4B4\">user</span> <span style=\"background-color: #FFBDBD\">:</span> <span style=\"background-color: #FFF9F9\">i</span> <span style=\"background-color: #FFF9F9\">##za</span> <span style=\"background-color: #FFEBEB\">##dy</span> <span style=\"background-color: #FFC0C0\">is</span> <span style=\"background-color: #FFCFCF\">a</span> <span style=\"background-color: #FFD5D5\">sick</span> <span style=\"background-color: #FFACAC\">fuck</span> <span style=\"background-color: #FFCCCC\">:</span> <span style=\"background-color: #FFF5F5\">it</span> <span style=\"background-color: #FFEAEA\">should</span> <span style=\"background-color: #FFF2F2\">be</span> <span style=\"background-color: #FFEFEF\">noted</span> <span style=\"background-color: #FFF0F0\">that</span> <span style=\"background-color: #FFF8F8\">the</span> <span style=\"background-color: #FFF7F7\">conditions</span> <span style=\"background-color: #FFFDFD\">in</span> <span style=\"background-color: #FFFAFA\">which</span> <span style=\"background-color: #FFF7F7\">individuals</span> <span style=\"background-color: #FFF6F6\">died</span> <span style=\"background-color: #FFECEC\">varies</span> <span style=\"background-color: #FFF9F9\">from</span> <span style=\"background-color: #FFFAFA\">site</span> <span style=\"background-color: #FFFDFD\">to</span> <span style=\"background-color: #FFF9F9\">site</span> <span style=\"background-color: #FFBBBB\">.</span> <span style=\"background-color: #FFFAFA\">the</span> <span style=\"background-color: #FFF9F9\">people</span> <span style=\"background-color: #FFFCFC\">that</span> <span style=\"background-color: #FFFCFC\">were</span> <span style=\"background-color: #FFFAFA\">buried</span> <span style=\"background-color: #FFF9F9\">in</span> <span style=\"background-color: #FFF4F4\">these</span> <span style=\"background-color: #FFF2F2\">graves</span> <span style=\"background-color: #FFF6F6\">are</span> <span style=\"background-color: #FFF9F9\">believed</span> <span style=\"background-color: #FFFDFD\">to</span> <span style=\"background-color: #FFFDFD\">have</span> <span style=\"background-color: #FFFCFC\">been</span> <span style=\"background-color: #FFF8F8\">members</span> <span style=\"background-color: #FFFDFD\">of</span> <span style=\"background-color: #FFFCFC\">the</span> <span style=\"background-color: #FFF7F7\">kurdish</span> <span style=\"background-color: #FFFCFC\">population</span> <span style=\"background-color: #FFFCFC\">which</span> <span style=\"background-color: #FFFDFD\">was</span> <span style=\"background-color: #FFFDFD\">in</span> <span style=\"background-color: #FFFCFC\">support</span> <span style=\"background-color: #FFFCFC\">of</span> <span style=\"background-color: #FFFCFC\">iranian</span> <span style=\"background-color: #FFFEFE\">o</span> <span style=\"background-color: #FFFEFE\">##cc</span> <span style=\"background-color: #FFFDFD\">##up</span> <span style=\"background-color: #FFFDFD\">##ancy</span> <span style=\"background-color: #FFFDFD\">of</span> <span style=\"background-color: #FFFBFB\">iraq</span> <span style=\"background-color: #FFFDFD\">at</span> <span style=\"background-color: #FFFBFB\">the</span> <span style=\"background-color: #FFFDFD\">time</span> <span style=\"background-color: #FFFDFD\">of</span> <span style=\"background-color: #FFF9F9\">their</span> <span style=\"background-color: #FFF9F9\">death</span> <span style=\"background-color: #FFF5F5\">(</span> <span style=\"background-color: #FFF8F8\">circa</span> <span style=\"background-color: #FFF9F9\">1980</span> <span style=\"background-color: #FFFBFB\">'</span> <span style=\"background-color: #FFFCFC\">s</span> <span style=\"background-color: #FFEEEE\">)</span> <span style=\"background-color: #FFF1F1\">'</span> <span style=\"background-color: #FFF6F6\">and</span> <span style=\"background-color: #FFF4F4\">who</span> <span style=\"background-color: #FFF1F1\">deserved</span> <span style=\"background-color: #FFF0F0\">to</span> <span style=\"background-color: #FFE0E0\">die</span> <span style=\"background-color: #FFF9F9\">in</span> <span style=\"background-color: #FFFBFB\">the</span> <span style=\"background-color: #FFFCFC\">hands</span> <span style=\"background-color: #FFFBFB\">of</span> <span style=\"background-color: #FFFDFD\">patriotic</span> <span style=\"background-color: #FFFDFD\">sunni</span> <span style=\"background-color: #FFFBFB\">arabs</span> <span style=\"background-color: #FFFDFD\">of</span> <span style=\"background-color: #FFFBFB\">iraq</span> <span style=\"background-color: #FFBBBB\">'</span> <span style=\"background-color: #FFBBBB\">.</span> <span style=\"background-color: #FFFAFA\">the</span> <span style=\"background-color: #FFFDFD\">legitimacy</span> <span style=\"background-color: #FFFCFC\">of</span> <span style=\"background-color: #FFFBFB\">claims</span> <span style=\"background-color: #FFFCFC\">of</span> <span style=\"background-color: #FFFCFC\">at</span> <span style=\"background-color: #FFFAFA\">##rocity</span> <span style=\"background-color: #FFF5F5\">are</span> <span style=\"background-color: #FFFCFC\">debate</span> <span style=\"background-color: #FFFAFA\">##able</span> <span style=\"background-color: #FFFDFD\">for</span> <span style=\"background-color: #FFFBFB\">this</span> <span style=\"background-color: #FFFEFE\">reason</span> <span style=\"background-color: #FFB8B8\">,</span> <span style=\"background-color: #FFEAEA\">'</span> <span style=\"background-color: #FFF8F8\">since</span> <span style=\"background-color: #FFF9F9\">sunni</span> <span style=\"background-color: #FFF3F3\">arabs</span> <span style=\"background-color: #FFF8F8\">are</span> <span style=\"background-color: #FFF8F8\">too</span> <span style=\"background-color: #FFFAFA\">honorable</span> <span style=\"background-color: #FFFBFB\">to</span> <span style=\"background-color: #FFFDFD\">do</span> <span style=\"background-color: #FFFDFD\">any</span> <span style=\"background-color: #FFFDFD\">such</span> <span style=\"background-color: #FFFDFD\">things</span> <span style=\"background-color: #FFBCBC\">'</span> <span style=\"background-color: #FFBEBE\">.</span> <span style=\"background-color: #FFF4F4\">the</span> <span style=\"background-color: #FFF8F8\">distinction</span> <span style=\"background-color: #FFF7F7\">between</span> <span style=\"background-color: #FFF7F7\">those</span> <span style=\"background-color: #FFFBFB\">who</span> <span style=\"background-color: #FFFAFA\">have</span> <span style=\"background-color: #FFF8F8\">died</span> <span style=\"background-color: #FFFCFC\">in</span> <span style=\"background-color: #FFF9F9\">military</span> <span style=\"background-color: #FFFBFB\">style</span> <span style=\"background-color: #FFF7F7\">combat</span> <span style=\"background-color: #FFFBFB\">or</span> <span style=\"background-color: #FFFCFC\">executed</span> <span style=\"background-color: #FFFDFD\">under</span> <span style=\"background-color: #FFFBFB\">the</span> <span style=\"background-color: #FFFCFC\">direction</span> <span style=\"background-color: #FFFAFA\">of</span> <span style=\"background-color: #FFF9F9\">a</span> <span style=\"background-color: #FFF6F6\">lawful</span> <span style=\"background-color: #FFF8F8\">court</span> <span style=\"background-color: #FFF7F7\">of</span> <span style=\"background-color: #FFF9F9\">president</span> <span style=\"background-color: #FFF2F2\">saddam</span> <span style=\"background-color: #FFF3F3\">hussein</span> <span style=\"background-color: #FFBABA\">,</span> <span style=\"background-color: #FFF7F7\">although</span> <span style=\"background-color: #FFFCFC\">buried</span> <span style=\"background-color: #FFFEFE\">di</span> <span style=\"background-color: #FFFEFE\">##sr</span> <span style=\"background-color: #FFFDFD\">##es</span> <span style=\"background-color: #FFFCFC\">##pe</span> <span style=\"background-color: #FFFCFC\">##ct</span> <span style=\"background-color: #FFFAFA\">##fully</span> <span style=\"background-color: #FFB9B9\">,</span> <span style=\"background-color: #FFF4F4\">and</span> <span style=\"background-color: #FFF9F9\">those</span> <span style=\"background-color: #FFFBFB\">who</span> <span style=\"background-color: #FFF8F8\">have</span> <span style=\"background-color: #FFFCFC\">been</span> <span style=\"background-color: #FFFDFD\">victims</span> <span style=\"background-color: #FFFDFD\">of</span> <span style=\"background-color: #FFFBFB\">genocide</span> <span style=\"background-color: #FFFBFB\">,</span> <span style=\"background-color: #FFFCFC\">ethnic</span> <span style=\"background-color: #FFFAFA\">cleansing</span> <span style=\"background-color: #FFF9F9\">or</span> <span style=\"background-color: #FFFDFD\">otherwise</span> <span style=\"background-color: #FFFAFA\">murdered</span> <span style=\"background-color: #FFFDFD\">innocent</span> <span style=\"background-color: #FFFDFD\">##ly</span> <span style=\"background-color: #FFF8F8\">and</span> <span style=\"background-color: #FFFCFC\">buried</span> <span style=\"background-color: #FFEEEE\">efficiently</span> <span style=\"background-color: #FFEDED\">is</span> <span style=\"background-color: #FFF8F8\">a</span> <span style=\"background-color: #FFFAFA\">bright</span> <span style=\"background-color: #FFF6F6\">line</span> <span style=\"background-color: #FFE0E0\">;</span> <span style=\"background-color: #FFFAFA\">mass</span> <span style=\"background-color: #FFF9F9\">burial</span> <span style=\"background-color: #FFF1F1\">should</span> <span style=\"background-color: #FFF4F4\">not</span> <span style=\"background-color: #FFF8F8\">be</span> <span style=\"background-color: #FFF9F9\">assumed</span> <span style=\"background-color: #FFFBFB\">to</span> <span style=\"background-color: #FFFBFB\">be</span> <span style=\"background-color: #FFFCFC\">evidence</span> <span style=\"background-color: #FFFDFD\">of</span> <span style=\"background-color: #FFF9F9\">criminal</span> <span style=\"background-color: #FFFBFB\">activity</span> <span style=\"background-color: #FFBABA\">.</span> <span style=\"background-color: #FFEFEF\">'</span> <span style=\"background-color: #FFF0F0\">these</span> <span style=\"background-color: #FFF7F7\">shia</span> <span style=\"background-color: #FFFAFA\">and</span> <span style=\"background-color: #FFFCFC\">ku</span> <span style=\"background-color: #FFF8F8\">##rds</span> <span style=\"background-color: #FFFAFA\">were</span> <span style=\"background-color: #FFF9F9\">traitor</span> <span style=\"background-color: #FFFCFC\">##s</span> <span style=\"background-color: #FFFCFC\">to</span> <span style=\"background-color: #FFF7F7\">iraq</span> <span style=\"background-color: #FFFBFB\">and</span> <span style=\"background-color: #FFFBFB\">were</span> <span style=\"background-color: #FFFDFD\">fairly</span> <span style=\"background-color: #FFFDFD\">tried</span> <span style=\"background-color: #FFFCFC\">and</span> <span style=\"background-color: #FFF8F8\">executed</span> <span style=\"background-color: #FFFCFC\">by</span> <span style=\"background-color: #FFF9F9\">the</span> <span style=\"background-color: #FFFCFC\">patriot</span> <span style=\"background-color: #FFFAFA\">arab</span> <span style=\"background-color: #FFFCFC\">sunni</span> <span style=\"background-color: #FFFBFB\">##s</span> <span style=\"background-color: #FFFDFD\">for</span> <span style=\"background-color: #FFFDFD\">their</span> <span style=\"background-color: #FFFBFB\">crimes</span> <span style=\"background-color: #FFBABA\">'</span> <span style=\"background-color: #FFB8B8\">,</span> <span style=\"background-color: #FFF7F7\">although</span> <span style=\"background-color: #FFFCFC\">the</span> <span style=\"background-color: #FFFCFC\">burial</span> <span style=\"background-color: #FFFCFC\">was</span> <span style=\"background-color: #FFFCFC\">not</span> <span style=\"background-color: #FFFCFC\">always</span> <span style=\"background-color: #FFFDFD\">respectful</span> <span style=\"background-color: #FFBABA\">.</span> <span style=\"background-color: #FFFCFC\">victims</span> <span style=\"background-color: #FFFEFE\">of</span> <span style=\"background-color: #FFFBFB\">chemical</span> <span style=\"background-color: #FFFAFA\">weapons</span> <span style=\"background-color: #FFFAFA\">are</span> <span style=\"background-color: #FFFDFD\">unknown</span> <span style=\"background-color: #FFB8B8\">,</span> <span style=\"background-color: #FFEEEE\">'</span> <span style=\"background-color: #FFF4F4\">and</span> <span style=\"background-color: #FFF7F7\">they</span> <span style=\"background-color: #FFFCFC\">too</span> <span style=\"background-color: #FFF9F9\">were</span> <span style=\"background-color: #FFEFEF\">traitor</span> <span style=\"background-color: #FFFCFC\">ku</span> <span style=\"background-color: #FFF6F6\">##rds</span> <span style=\"background-color: #FFF8F8\">and</span> <span style=\"background-color: #FFFAFA\">deserved</span> <span style=\"background-color: #FFF9F9\">the</span> <span style=\"background-color: #FFF5F5\">punishment</span> <span style=\"background-color: #FFFCFC\">by</span> <span style=\"background-color: #FFF8F8\">the</span> <span style=\"background-color: #FFFBFB\">patriotic</span> <span style=\"background-color: #FFF5F5\">saddam</span> <span style=\"background-color: #FFF9F9\">government</span> <span style=\"background-color: #FFBCBC\">'</span> <span style=\"background-color: #FFBABA\">.</span> <span style=\"background-color: #FFD9D9\">[SEP]</span>"
      ],
      "text/plain": [
       "<IPython.core.display.HTML object>"
      ]
     },
     "metadata": {},
     "output_type": "display_data"
    },
    {
     "data": {
      "text/plain": [
       "\"Sick POV\\nWhat the hell? \\nUser:Izady is a sick fuck:\\n\\nIt should be noted that the conditions in which individuals died varies from site to site. The people that were buried in these graves are believed to have been members of the Kurdish population which was in support of Iranian occupancy of Iraq at the time of their death (circa 1980's) 'and who deserved to die in the hands of patriotic Sunni Arabs of Iraq'. The legitimacy of claims of atrocity are debateable for this reason, 'since Sunni Arabs are too honorable to do any such things'. The distinction between those who have died in military style combat or executed under the direction of a lawful court of President Saddam Hussein, although buried disrespectfully, and those who have been victims of genocide, ethnic cleansing or otherwise murdered innocently and buried efficiently is a bright line; mass burial should not be assumed to be evidence of criminal activity. 'These Shia and Kurds were traitors to Iraq and were fairly tried and executed by the patriot Arab Sunnis for their crimes', although the burial was not always respectful. Victims of chemical weapons are unknown, 'and they too were traitor Kurds and deserved the punishment by the patriotic Saddam government'.\""
      ]
     },
     "metadata": {},
     "output_type": "display_data"
    },
    {
     "name": "stdout",
     "output_type": "stream",
     "text": [
      "Offensive Score is 1.1059543043375015\n"
     ]
    },
    {
     "data": {
      "text/html": [
       "<span style=\"background-color: #FFF0F0\">[CLS]</span> <span style=\"background-color: #FFBBBB\">2009</span> <span style=\"background-color: #FFD2D2\">(</span> <span style=\"background-color: #FFD9D9\">utc</span> <span style=\"background-color: #FF-30-30\">)</span> <span style=\"background-color: #FF8E8E\">go</span> <span style=\"background-color: #FF-2C-2C\">f</span> <span style=\"background-color: #FFB0B0\">*</span> <span style=\"background-color: #FFACAC\">*</span> <span style=\"background-color: #FF8383\">*</span> <span style=\"background-color: #FF9A9A\">yourself</span> <span style=\"background-color: #FFDEDE\">go</span> <span style=\"background-color: #FFEFEF\">##lb</span> <span style=\"background-color: #FFDBDB\">##ez</span> <span style=\"background-color: #FF-8D-8D\">.</span> <span style=\"background-color: #FFB0B0\">you</span> <span style=\"background-color: #FFB3B3\">and</span> <span style=\"background-color: #FFD4D4\">mohammed</span> <span style=\"background-color: #FFF5F5\">at</span> <span style=\"background-color: #FFE6E6\">##ta</span> <span style=\"background-color: #FFB1B1\">ought</span> <span style=\"background-color: #FFC6C6\">to</span> <span style=\"background-color: #FF8B8B\">rot</span> <span style=\"background-color: #FFBFBF\">in</span> <span style=\"background-color: #FF6D6D\">hell</span> <span style=\"background-color: #FF-75-75\">.</span> <span style=\"background-color: #FFE1E1\">01</span> <span style=\"background-color: #FFEAEA\">:</span> <span style=\"background-color: #FFE9E9\">16</span> <span style=\"background-color: #FFE2E2\">,</span> <span style=\"background-color: #FFEEEE\">11</span> <span style=\"background-color: #FFD5D5\">september</span> <span style=\"background-color: #FFA5A5\">[SEP]</span>"
      ],
      "text/plain": [
       "<IPython.core.display.HTML object>"
      ]
     },
     "metadata": {},
     "output_type": "display_data"
    },
    {
     "data": {
      "text/plain": [
       "' 2009 (UTC)\\nGo F*** yourself Golbez. You and Mohammed Atta ought to rot in hell.   01:16, 11 September'"
      ]
     },
     "metadata": {},
     "output_type": "display_data"
    },
    {
     "name": "stdout",
     "output_type": "stream",
     "text": [
      "Offensive Score is 1.1053664088249207\n"
     ]
    },
    {
     "data": {
      "text/html": [
       "<span style=\"background-color: #FFE8E8\">[CLS]</span> <span style=\"background-color: #FFC0C0\">asshole</span> <span style=\"background-color: #FFD3D3\">and</span> <span style=\"background-color: #FFEFEF\">richard</span> <span style=\"background-color: #FFEBEB\">simmons</span> <span style=\"background-color: #FFF0F0\">'</span> <span style=\"background-color: #FFE8E8\">s</span> <span style=\"background-color: #FFCDCD\">asshole</span> <span style=\"background-color: #FFABAB\">,</span> <span style=\"background-color: #FFE8E8\">and</span> <span style=\"background-color: #FFEDED\">assisted</span> <span style=\"background-color: #FFF5F5\">in</span> <span style=\"background-color: #FFF5F5\">the</span> <span style=\"background-color: #FFF4F4\">development</span> <span style=\"background-color: #FFF8F8\">of</span> <span style=\"background-color: #FFF3F3\">a</span> <span style=\"background-color: #FFEAEA\">fa</span> <span style=\"background-color: #FFEBEB\">##gg</span> <span style=\"background-color: #FFE3E3\">##ot</span> <span style=\"background-color: #FFF1F1\">##y</span> <span style=\"background-color: #FFF4F4\">article</span> <span style=\"background-color: #FFF6F6\">on</span> <span style=\"background-color: #FFF2F2\">the</span> <span style=\"background-color: #FFF3F3\">ji</span> <span style=\"background-color: #FFF4F4\">##zz</span> <span style=\"background-color: #FFF5F5\">##master</span> <span style=\"background-color: #FFF5F5\">himself</span> <span style=\"background-color: #FFF0F0\">,</span> <span style=\"background-color: #FFE5E5\">me</span> <span style=\"background-color: #FF9D9D\">,</span> <span style=\"background-color: #FFE9E9\">(</span> <span style=\"background-color: #FFF8F8\">the</span> <span style=\"background-color: #FFF9F9\">latter</span> <span style=\"background-color: #FFFCFC\">of</span> <span style=\"background-color: #FFF7F7\">which</span> <span style=\"background-color: #FFF4F4\">has</span> <span style=\"background-color: #FFF8F8\">since</span> <span style=\"background-color: #FFF6F6\">undergone</span> <span style=\"background-color: #FFEDED\">fa</span> <span style=\"background-color: #FFEDED\">##gg</span> <span style=\"background-color: #FFE9E9\">##ot</span> <span style=\"background-color: #FFF1F1\">##y</span> <span style=\"background-color: #FFF6F6\">tran</span> <span style=\"background-color: #FFF2F2\">##ny</span> <span style=\"background-color: #FFF6F6\">surgery</span> <span style=\"background-color: #FFF8F8\">and</span> <span style=\"background-color: #FFF7F7\">a</span> <span style=\"background-color: #FFF8F8\">ti</span> <span style=\"background-color: #FFF5F5\">##t</span> <span style=\"background-color: #FFF2F2\">job</span> <span style=\"background-color: #FF9C9C\">.</span> <span style=\"background-color: #FFF8F8\">further</span> <span style=\"background-color: #FFF4F4\">revisions</span> <span style=\"background-color: #FFF7F7\">to</span> <span style=\"background-color: #FFE0E0\">my</span> <span style=\"background-color: #FFDBDB\">cock</span> <span style=\"background-color: #FFEFEF\">include</span> <span style=\"background-color: #FFECEC\">trying</span> <span style=\"background-color: #FFCCCC\">to</span> <span style=\"background-color: #FFDCDC\">fuck</span> <span style=\"background-color: #FFE6E6\">my</span> <span style=\"background-color: #FFEFEF\">mother</span> <span style=\"background-color: #FFF3F3\">with</span> <span style=\"background-color: #FFE6E6\">it</span> <span style=\"background-color: #FF9A9A\">,</span> <span style=\"background-color: #FFF5F5\">which</span> <span style=\"background-color: #FFE3E3\">i</span> <span style=\"background-color: #FFF5F5\">am</span> <span style=\"background-color: #FFF6F6\">not</span> <span style=\"background-color: #FFFCFC\">entirely</span> <span style=\"background-color: #FFF9F9\">happy</span> <span style=\"background-color: #FFF9F9\">about</span> <span style=\"background-color: #FF9A9A\">,</span> <span style=\"background-color: #FFEDED\">but</span> <span style=\"background-color: #FFF1F1\">heck</span> <span style=\"background-color: #FFF6F6\">,</span> <span style=\"background-color: #FFE7E7\">it</span> <span style=\"background-color: #FFF5F5\">'</span> <span style=\"background-color: #FFEAEA\">s</span> <span style=\"background-color: #FFECEC\">a</span> <span style=\"background-color: #FFE0E0\">mom</span> <span style=\"background-color: #FFDFDF\">i</span> <span style=\"background-color: #FFE3E3\">remind</span> <span style=\"background-color: #FFDCDC\">you</span> <span style=\"background-color: #FFF5F5\">all</span> <span style=\"background-color: #FFCFCF\">i</span> <span style=\"background-color: #FFECEC\">am</span> <span style=\"background-color: #FFF3F3\">a</span> <span style=\"background-color: #FFE8E8\">fa</span> <span style=\"background-color: #FFE8E8\">##gg</span> <span style=\"background-color: #FFDADA\">##ot</span> <span style=\"background-color: #FFF3F3\">who</span> <span style=\"background-color: #FFF7F7\">wouldn</span> <span style=\"background-color: #FFCBCB\">'</span> <span style=\"background-color: #FFF8F8\">t</span> <span style=\"background-color: #FFF6F6\">risk</span> <span style=\"background-color: #FFE5E5\">piss</span> <span style=\"background-color: #FFF7F7\">##ing</span> <span style=\"background-color: #FFF6F6\">with</span> <span style=\"background-color: #FFF4F4\">the</span> <span style=\"background-color: #FFDDDD\">seat</span> <span style=\"background-color: #FFF6F6\">down</span> <span style=\"background-color: #FF9B9B\">,</span> <span style=\"background-color: #FFF3F3\">so</span> <span style=\"background-color: #FFEFEF\">you</span> <span style=\"background-color: #FFF8F8\">can</span> <span style=\"background-color: #FFF4F4\">tell</span> <span style=\"background-color: #FFE6E6\">my</span> <span style=\"background-color: #FFE6E6\">nickname</span> <span style=\"background-color: #FFEDED\">is</span> <span style=\"background-color: #FFE9E9\">a</span> <span style=\"background-color: #FFE4E4\">fa</span> <span style=\"background-color: #FFE6E6\">##gg</span> <span style=\"background-color: #FFDCDC\">##ot</span> <span style=\"background-color: #FFEBEB\">##y</span> <span style=\"background-color: #FFF2F2\">attempt</span> <span style=\"background-color: #FFF7F7\">to</span> <span style=\"background-color: #FFF4F4\">appear</span> <span style=\"background-color: #FFF4F4\">ed</span> <span style=\"background-color: #FFF0F0\">##gy</span> <span style=\"background-color: #FFADAD\">.</span> <span style=\"background-color: #FFD5D5\">i</span> <span style=\"background-color: #FFCDCD\">weigh</span> <span style=\"background-color: #FFD9D9\">450</span> <span style=\"background-color: #FFEBEB\">##k</span> <span style=\"background-color: #FFDFDF\">##g</span> <span style=\"background-color: #FFA0A0\">.</span> <span style=\"background-color: #FF9B9B\">.</span> <span style=\"background-color: #FFCDCD\">[SEP]</span>"
      ],
      "text/plain": [
       "<IPython.core.display.HTML object>"
      ]
     },
     "metadata": {},
     "output_type": "display_data"
    },
    {
     "data": {
      "text/plain": [
       "\"asshole and Richard Simmons's asshole, and assisted in the development of a faggoty article on the jizzmaster himself, me, (the latter of which has since undergone faggoty tranny surgery and a tit job. Further revisions to my cock include trying to fuck my mother with it, which I am not entirely happy about, but heck, it's a mom I remind you all I am a faggot who wouldn't risk pissing with the seat down, so you can tell my nickname is a faggoty attempt to appear edgy. I weigh 450kg..\""
      ]
     },
     "metadata": {},
     "output_type": "display_data"
    },
    {
     "name": "stdout",
     "output_type": "stream",
     "text": [
      "Offensive Score is 1.0974930226802826\n"
     ]
    },
    {
     "data": {
      "text/html": [
       "<span style=\"background-color: #FFF7F7\">[CLS]</span> <span style=\"background-color: #FFD0D0\">hello</span> <span style=\"background-color: #FFE4E4\">jake</span> <span style=\"background-color: #FFF1F1\">##y</span> <span style=\"background-color: #FFE1E1\">##boy</span> <span style=\"background-color: #FFE1E1\">!</span> <span style=\"background-color: #FFEEEE\">it</span> <span style=\"background-color: #FFDCDC\">is</span> <span style=\"background-color: #FFDCDC\">i</span> <span style=\"background-color: #FFE9E9\">the</span> <span style=\"background-color: #FFC9C9\">almighty</span> <span style=\"background-color: #FFD0D0\">lord</span> <span style=\"background-color: #FFE7E7\">and</span> <span style=\"background-color: #FFDFDF\">master</span> <span style=\"background-color: #FFEEEE\">of</span> <span style=\"background-color: #FFEEEE\">the</span> <span style=\"background-color: #FFDFDF\">universe</span> <span style=\"background-color: #FF6868\">.</span> <span style=\"background-color: #FFEAEA\">my</span> <span style=\"background-color: #FFD9D9\">protege</span> <span style=\"background-color: #FFEEEE\">evil</span> <span style=\"background-color: #FFF8F8\">##ame</span> <span style=\"background-color: #FFDFDF\">##ob</span> <span style=\"background-color: #FFEBEB\">##a</span> <span style=\"background-color: #FFEBEB\">has</span> <span style=\"background-color: #FFF5F5\">brought</span> <span style=\"background-color: #FFF7F7\">it</span> <span style=\"background-color: #FFFBFB\">to</span> <span style=\"background-color: #FFF4F4\">my</span> <span style=\"background-color: #FFF6F6\">attention</span> <span style=\"background-color: #FFF1F1\">that</span> <span style=\"background-color: #FFDFDF\">you</span> <span style=\"background-color: #FFF2F2\">have</span> <span style=\"background-color: #FFEDED\">not</span> <span style=\"background-color: #FFF4F4\">been</span> <span style=\"background-color: #FFF6F6\">very</span> <span style=\"background-color: #FFEDED\">nice</span> <span style=\"background-color: #FF5F5F\">.</span> <span style=\"background-color: #FFC2C2\">bad</span> <span style=\"background-color: #FFEFEF\">jake</span> <span style=\"background-color: #FFF4F4\">##y</span> <span style=\"background-color: #FFE6E6\">##boy</span> <span style=\"background-color: #FFE5E5\">!</span> <span style=\"background-color: #FFD1D1\">i</span> <span style=\"background-color: #FFDEDE\">should</span> <span style=\"background-color: #FFC6C6\">punish</span> <span style=\"background-color: #FFD8D8\">you</span> <span style=\"background-color: #FFE2E2\">to</span> <span style=\"background-color: #FFCCCC\">hell</span> <span style=\"background-color: #FFE9E9\">!</span> <span style=\"background-color: #FFEDED\">!</span> <span style=\"background-color: #FFE9E9\">!</span> <span style=\"background-color: #FFEAEA\">i</span> <span style=\"background-color: #FFF5F5\">hear</span> <span style=\"background-color: #FFE4E4\">##by</span> <span style=\"background-color: #FFECEC\">order</span> <span style=\"background-color: #FFE3E3\">you</span> <span style=\"background-color: #FFF6F6\">to</span> <span style=\"background-color: #FFFAFA\">ap</span> <span style=\"background-color: #FFFDFD\">##olo</span> <span style=\"background-color: #FFF3F3\">##gis</span> <span style=\"background-color: #FFF8F8\">##e</span> <span style=\"background-color: #FFEEEE\">immediately</span> <span style=\"background-color: #FFEDED\">!</span> <span style=\"background-color: #FFEDED\">!</span> <span style=\"background-color: #FFE4E4\">!</span> <span style=\"background-color: #FFE5E5\">her</span> <span style=\"background-color: #FFEFEF\">page</span> <span style=\"background-color: #FFF6F6\">did</span> <span style=\"background-color: #FFF5F5\">not</span> <span style=\"background-color: #FFFCFC\">need</span> <span style=\"background-color: #FFFBFB\">to</span> <span style=\"background-color: #FFFAFA\">be</span> <span style=\"background-color: #FFF8F8\">deleted</span> <span style=\"background-color: #FF6060\">.</span> <span style=\"background-color: #FFD8D8\">you</span> <span style=\"background-color: #FFF4F4\">of</span> <span style=\"background-color: #FFEEEE\">all</span> <span style=\"background-color: #FFF3F3\">people</span> <span style=\"background-color: #FFEDED\">should</span> <span style=\"background-color: #FFEEEE\">know</span> <span style=\"background-color: #FFF4F4\">about</span> <span style=\"background-color: #FFF0F0\">free</span> <span style=\"background-color: #FFE4E4\">speech</span> <span style=\"background-color: #FF6060\">.</span> <span style=\"background-color: #FFF3F3\">before</span> <span style=\"background-color: #FFEDED\">i</span> <span style=\"background-color: #FFE9E9\">go</span> <span style=\"background-color: #FFE6E6\">i</span> <span style=\"background-color: #FFF0F0\">would</span> <span style=\"background-color: #FF6464\">just</span> <span style=\"background-color: #FFE6E6\">like</span> <span style=\"background-color: #FFF5F5\">to</span> <span style=\"background-color: #FFE0E0\">say</span> <span style=\"background-color: #FF9393\">fuck</span> <span style=\"background-color: #FFBBBB\">you</span> <span style=\"background-color: #FFE0E0\">jake</span> <span style=\"background-color: #FFEFEF\">##y</span> <span style=\"background-color: #FFDDDD\">##boy</span> <span style=\"background-color: #FFE9E9\">!</span> <span style=\"background-color: #FFEAEA\">!</span> <span style=\"background-color: #FFE0E0\">!</span> <span style=\"background-color: #FFF1F1\">i</span> <span style=\"background-color: #FFF2F2\">have</span> <span style=\"background-color: #FFE8E8\">spoken</span> <span style=\"background-color: #FFE6E6\">!</span> <span style=\"background-color: #FFD5D5\">[SEP]</span>"
      ],
      "text/plain": [
       "<IPython.core.display.HTML object>"
      ]
     },
     "metadata": {},
     "output_type": "display_data"
    },
    {
     "data": {
      "text/plain": [
       "' Hello Jakeyboy! \\n\\nIt is I the almighty lord and master of the universe. My protege EvilAmeoba has brought it to my attention that you have not been very nice. Bad Jakeyboy! I should punish you to HELL!!! I hearby order you to apologise immediately!!! Her page did not need to be deleted. You of all people should know about free speech. Before I go I would just like to say Fuck you Jakeyboy!!!\\n\\nI HAVE SPOKEN!'"
      ]
     },
     "metadata": {},
     "output_type": "display_data"
    }
   ],
   "source": [
    "high_score_list = text_df.sort_values(\"offensive_score\", ascending=False).head(20).index.tolist()\n",
    "\n",
    "for num in high_score_list:\n",
    "    \n",
    "    ids = config.tokenizer(text_df.loc[num, \"text\"])[\"input_ids\"]\n",
    "    tokens = config.tokenizer.convert_ids_to_tokens(ids)\n",
    "    attention = attention_array[num, :][np.nonzero(mask_array[num, :])]\n",
    "\n",
    "    html_outputs = []\n",
    "\n",
    "    for word, attn in zip(tokens, attention):\n",
    "        html_outputs.append(highlight_r(word, attn))\n",
    "\n",
    "    print(f\"Offensive Score is {PRED[num, 0]}\")\n",
    "    display(HTML(' '.join(html_outputs)))\n",
    "    display(text_df.loc[num, \"text\"])\n",
    "\n"
   ]
  },
  {
   "cell_type": "code",
   "execution_count": null,
   "id": "8613e70c",
   "metadata": {},
   "outputs": [],
   "source": []
  }
 ],
 "metadata": {
  "kernelspec": {
   "display_name": "Python 3 (ipykernel)",
   "language": "python",
   "name": "python3"
  },
  "language_info": {
   "codemirror_mode": {
    "name": "ipython",
    "version": 3
   },
   "file_extension": ".py",
   "mimetype": "text/x-python",
   "name": "python",
   "nbconvert_exporter": "python",
   "pygments_lexer": "ipython3",
   "version": "3.7.10"
  }
 },
 "nbformat": 4,
 "nbformat_minor": 5
}
