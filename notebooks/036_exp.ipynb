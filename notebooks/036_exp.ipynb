{
 "cells": [
  {
   "cell_type": "markdown",
   "id": "a7f9b3c8",
   "metadata": {},
   "source": [
    "![](https://images.unsplash.com/photo-1602084551218-a28205125639?ixlib=rb-1.2.1&ixid=MnwxMjA3fDB8MHxwaG90by1wYWdlfHx8fGVufDB8fHx8&auto=format&fit=crop&w=2070&q=80)"
   ]
  },
  {
   "cell_type": "markdown",
   "id": "6a393056",
   "metadata": {},
   "source": [
    "<div class = 'alert alert-block alert-info'\n",
    "     style = 'background-color:#4c1c84;\n",
    "              color:#eeebf1;\n",
    "              border-width:5px;\n",
    "              border-color:#4c1c84;\n",
    "              font-family:Comic Sans MS;\n",
    "              border-radius: 50px 50px'>\n",
    "    <p style = 'font-size:24px'>Exp 036</p>\n",
    "    <a href = \"#Config\"\n",
    "       style = \"color:#eeebf1;\n",
    "                font-size:14px\">1.Config</a><br>\n",
    "    <a href = \"#Settings\"\n",
    "       style = \"color:#eeebf1;\n",
    "                font-size:14px\">2.Settings</a><br>\n",
    "    <a href = \"#Data-Load\"\n",
    "       style = \"color:#eeebf1;\n",
    "                font-size:14px\">3.Data Load</a><br>\n",
    "    <a href = \"#Pytorch-Settings\"\n",
    "       style = \"color:#eeebf1;\n",
    "                font-size:14px\">4.Pytorch Settings</a><br>\n",
    "    <a href = \"#Training\"\n",
    "       style = \"color:#eeebf1;\n",
    "                font-size:14px\">5.Training</a><br>\n",
    "</div>\n",
    "\n",
    "<p style = 'font-size:24px;\n",
    "            color:#4c1c84'>\n",
    "    実施したこと\n",
    "</p>\n",
    "    <li style = \"color:#4c1c84;\n",
    "                font-size:14px\">RAPIDSの活用</li>\n",
    "    <li style = \"color:#4c1c84;\n",
    "                font-size:14px\">Embeddingの活用</li>"
   ]
  },
  {
   "cell_type": "markdown",
   "id": "76b779eb",
   "metadata": {},
   "source": [
    "<br>\n",
    "<h1 style = \"font-size:45px; font-family:Comic Sans MS ; font-weight : normal; background-color: #4c1c84 ; color : #eeebf1; text-align: center; border-radius: 100px 100px;\">\n",
    "    Config\n",
    "</h1>\n",
    "<br>"
   ]
  },
  {
   "cell_type": "code",
   "execution_count": 1,
   "id": "a5d4c151",
   "metadata": {},
   "outputs": [],
   "source": [
    "import sys\n",
    "sys.path.append(\"../src/utils/iterative-stratification/\")\n",
    "sys.path.append(\"../src/utils/detoxify\")\n",
    "sys.path.append(\"../src/utils/coral-pytorch/\")\n",
    "sys.path.append(\"../src/utils/pyspellchecker\")"
   ]
  },
  {
   "cell_type": "code",
   "execution_count": 2,
   "id": "b546cdaf",
   "metadata": {},
   "outputs": [
    {
     "name": "stdout",
     "output_type": "stream",
     "text": [
      "Looking in links: ../src/utils/faiss/\n",
      "Requirement already satisfied: faiss-gpu==1.6.3 in /opt/conda/lib/python3.7/site-packages (1.6.3)\n",
      "Requirement already satisfied: numpy in /opt/conda/lib/python3.7/site-packages (from faiss-gpu==1.6.3) (1.19.5)\n",
      "\u001b[33mWARNING: Running pip as the 'root' user can result in broken permissions and conflicting behaviour with the system package manager. It is recommended to use a virtual environment instead: https://pip.pypa.io/warnings/venv\u001b[0m\n"
     ]
    }
   ],
   "source": [
    "!pip install --no-index --find-links ../src/utils/faiss/ faiss-gpu==1.6.3"
   ]
  },
  {
   "cell_type": "code",
   "execution_count": 3,
   "id": "cb9631bd",
   "metadata": {},
   "outputs": [
    {
     "name": "stderr",
     "output_type": "stream",
     "text": [
      "2022-02-01 01:24:37.571414: I tensorflow/stream_executor/platform/default/dso_loader.cc:49] Successfully opened dynamic library libcudart.so.11.0\n"
     ]
    }
   ],
   "source": [
    "import warnings\n",
    "warnings.simplefilter('ignore')\n",
    "\n",
    "import os\n",
    "import gc\n",
    "gc.enable()\n",
    "import sys\n",
    "import glob\n",
    "import copy\n",
    "import math\n",
    "import time\n",
    "import random\n",
    "import string\n",
    "import psutil\n",
    "import pathlib\n",
    "from pathlib import Path\n",
    "from contextlib import contextmanager\n",
    "from collections import defaultdict\n",
    "from box import Box\n",
    "from typing import Optional\n",
    "from pprint import pprint\n",
    "\n",
    "import numpy as np\n",
    "import pandas as pd\n",
    "import matplotlib.pyplot as plt\n",
    "import seaborn as sns\n",
    "import japanize_matplotlib\n",
    "\n",
    "from tqdm.auto import tqdm as tqdmp\n",
    "from tqdm.autonotebook import tqdm as tqdm\n",
    "tqdmp.pandas()\n",
    "\n",
    "## Model\n",
    "from sklearn.metrics import mean_squared_error\n",
    "from sklearn.model_selection import StratifiedKFold, KFold\n",
    "import torch\n",
    "import torch.nn as nn\n",
    "import torch.nn.functional as F\n",
    "from torch.utils.data import Dataset, DataLoader\n",
    "from transformers import AutoTokenizer, AutoModel, AdamW, AutoModelForSequenceClassification\n",
    "from transformers import RobertaModel, RobertaForSequenceClassification\n",
    "from transformers import RobertaTokenizer\n",
    "from transformers import LukeTokenizer, LukeModel, LukeConfig\n",
    "from transformers import get_linear_schedule_with_warmup, get_cosine_schedule_with_warmup\n",
    "from transformers import BertTokenizer, BertForSequenceClassification, BertForMaskedLM\n",
    "from transformers import RobertaTokenizer, RobertaForSequenceClassification\n",
    "from transformers import XLMRobertaTokenizer, XLMRobertaForSequenceClassification\n",
    "from transformers import DebertaTokenizer, DebertaModel\n",
    "\n",
    "# Pytorch Lightning\n",
    "import pytorch_lightning as pl\n",
    "from pytorch_lightning.utilities.seed import seed_everything\n",
    "from pytorch_lightning import callbacks\n",
    "from pytorch_lightning.callbacks.progress import ProgressBarBase\n",
    "from pytorch_lightning import LightningDataModule, LightningDataModule\n",
    "from pytorch_lightning import Trainer\n",
    "from pytorch_lightning.callbacks import ModelCheckpoint, EarlyStopping, LearningRateMonitor\n",
    "from pytorch_lightning.loggers import WandbLogger\n",
    "from pytorch_lightning.loggers.csv_logs import CSVLogger\n",
    "from pytorch_lightning.callbacks import RichProgressBar\n",
    "\n",
    "from sklearn.linear_model import Ridge\n",
    "from sklearn.svm import SVC, SVR\n",
    "from sklearn.feature_extraction.text import TfidfVectorizer\n",
    "from scipy.stats import rankdata\n",
    "from cuml.svm import SVR as cuml_SVR\n",
    "from cuml.linear_model import Ridge as cuml_Ridge\n",
    "import cudf\n",
    "from detoxify import Detoxify\n",
    "from iterstrat.ml_stratifiers import MultilabelStratifiedKFold\n",
    "\n",
    "from ast import literal_eval\n",
    "from nltk.tokenize import TweetTokenizer\n",
    "import spacy\n",
    "from scipy.stats import sem\n",
    "from copy import deepcopy\n",
    "from spellchecker import SpellChecker\n",
    "from typing import Text, Set, List\n",
    "\n",
    "\n",
    "import faiss\n",
    "import cudf, cuml, cupy\n",
    "from cuml.feature_extraction.text import TfidfVectorizer as cuTfidfVectorizer\n",
    "from cuml.neighbors import NearestNeighbors as cuNearestNeighbors"
   ]
  },
  {
   "cell_type": "code",
   "execution_count": 5,
   "id": "37555f38",
   "metadata": {},
   "outputs": [],
   "source": [
    "import torch\n",
    "\n",
    "config = {\n",
    "    \"exp_comment\":\"RAPIDSとfaissの活用\",\n",
    "    \"seed\": 42,\n",
    "    \"root\": \"/content/drive/MyDrive/kaggle/Jigsaw/raw\",\n",
    "    \"n_fold\": 5,\n",
    "    \"epoch\": 5,\n",
    "    \"max_length\": 256,\n",
    "    \"environment\": \"AWS\",\n",
    "    \"project\": \"Jigsaw\",\n",
    "    \"entity\": \"dataskywalker\",\n",
    "    \"exp_name\": \"036_exp\",\n",
    "    \"margin\": 0.5,\n",
    "    \"train_fold\": [0, 1, 2, 3, 4],\n",
    "\n",
    "    \"trainer\": {\n",
    "        \"gpus\": 1,\n",
    "        \"accumulate_grad_batches\": 8,\n",
    "        \"progress_bar_refresh_rate\": 1,\n",
    "        \"fast_dev_run\": True,\n",
    "        \"num_sanity_val_steps\": 0,\n",
    "    },\n",
    "\n",
    "    \"train_loader\": {\n",
    "        \"batch_size\": 8,\n",
    "        \"shuffle\": True,\n",
    "        \"num_workers\": 1,\n",
    "        \"pin_memory\": True,\n",
    "        \"drop_last\": True,\n",
    "    },\n",
    "\n",
    "    \"valid_loader\": {\n",
    "        \"batch_size\": 2,\n",
    "        \"shuffle\": False,\n",
    "        \"num_workers\": 1,\n",
    "        \"pin_memory\": True,\n",
    "        \"drop_last\": False,\n",
    "    },\n",
    "\n",
    "    \"test_loader\": {\n",
    "        \"batch_size\": 2,\n",
    "        \"shuffle\": False,\n",
    "        \"num_workers\": 1,\n",
    "        \"pin_memory\": True,\n",
    "        \"drop_last\": False,\n",
    "    },\n",
    "\n",
    "    \"backbone\": {\n",
    "        \"name\": \"GroNLP/hateBERT\",\n",
    "        \"output_dim\": 1,\n",
    "    },\n",
    "\n",
    "    \"optimizer\": {\n",
    "        \"name\": \"torch.optim.AdamW\",\n",
    "        \"params\": {\n",
    "            \"lr\": 1e-6,\n",
    "        },\n",
    "    },\n",
    "\n",
    "    \"scheduler\": {\n",
    "        \"name\": \"torch.optim.lr_scheduler.CosineAnnealingWarmRestarts\",\n",
    "        \"params\": {\n",
    "            \"T_0\": 20,\n",
    "            \"eta_min\": 0,\n",
    "        },\n",
    "    },\n",
    "\n",
    "    \"loss\": \"nn.MSELoss\",\n",
    "}\n",
    "\n",
    "config = Box(config)\n",
    "config.tokenizer = AutoTokenizer.from_pretrained(config.backbone.name)\n",
    "config.model = BertForMaskedLM.from_pretrained(config.backbone.name)\n",
    "# pprint(config)"
   ]
  },
  {
   "cell_type": "code",
   "execution_count": 6,
   "id": "07ba4ebc",
   "metadata": {},
   "outputs": [],
   "source": [
    "config.tokenizer.save_pretrained(f\"../data/processed/{config.backbone.name}\")\n",
    "\n",
    "pretrain_model = BertForMaskedLM.from_pretrained(config.backbone.name)\n",
    "pretrain_model.save_pretrained(f\"../data/processed/{config.backbone.name}\")"
   ]
  },
  {
   "cell_type": "code",
   "execution_count": 7,
   "id": "aa29c926",
   "metadata": {},
   "outputs": [
    {
     "name": "stdout",
     "output_type": "stream",
     "text": [
      "Your environment is 'AWS'.\n",
      "INPUT_DIR is /mnt/work/data/kaggle/Jigsaw\n",
      "MODEL_DIR is ../models/036_exp\n",
      "OUTPUT_DIR is ../data/interim/036_exp\n",
      "UTIL_DIR is /mnt/work/shimizu/kaggle/PetFinder/src/utils\n"
     ]
    }
   ],
   "source": [
    "# 個人的にAWSやKaggle環境やGoogle Colabを行ったり来たりしているのでまとめています\n",
    "import os\n",
    "import sys\n",
    "from pathlib import Path\n",
    "\n",
    "if config.environment == 'AWS':\n",
    "    \n",
    "    INPUT_DIR = Path('/mnt/work/data/kaggle/Jigsaw/')\n",
    "    MODEL_DIR = Path(f'../models/{config.exp_name}/')\n",
    "    OUTPUT_DIR = Path(f'../data/interim/{config.exp_name}/')\n",
    "    UTIL_DIR = Path('/mnt/work/shimizu/kaggle/PetFinder/src/utils')\n",
    "    \n",
    "    os.makedirs(MODEL_DIR, exist_ok=True)\n",
    "    os.makedirs(OUTPUT_DIR, exist_ok=True)\n",
    "    \n",
    "    print(f\"Your environment is 'AWS'.\\nINPUT_DIR is {INPUT_DIR}\\nMODEL_DIR is {MODEL_DIR}\\nOUTPUT_DIR is {OUTPUT_DIR}\\nUTIL_DIR is {UTIL_DIR}\")\n",
    "    \n",
    "    \n",
    "elif config.environment == 'Kaggle':\n",
    "    INPUT_DIR = Path('../input/*****')\n",
    "    MODEL_DIR = Path('./')\n",
    "    OUTPUT_DIR = Path('./')\n",
    "    print(f\"Your environment is 'Kaggle'.\\nINPUT_DIR is {INPUT_DIR}\\nMODEL_DIR is {MODEL_DIR}\\nOUTPUT_DIR is {OUTPUT_DIR}\")\n",
    "\n",
    "    \n",
    "elif config.environment == 'Colab':\n",
    "    INPUT_DIR = Path('/content/drive/MyDrive/kaggle/Jigsaw/raw')\n",
    "    BASE_DIR = Path(\"/content/drive/MyDrive/kaggle/Jigsaw/interim\")\n",
    "\n",
    "    MODEL_DIR = BASE_DIR / f'{config.exp_name}'\n",
    "    OUTPUT_DIR = BASE_DIR / f'{config.exp_name}/'\n",
    "\n",
    "    os.makedirs(MODEL_DIR, exist_ok=True)\n",
    "    os.makedirs(OUTPUT_DIR, exist_ok=True)\n",
    "    \n",
    "    if not os.path.exists(INPUT_DIR):\n",
    "        print('Please Mount your Google Drive.')\n",
    "    else:\n",
    "        print(f\"Your environment is 'Colab'.\\nINPUT_DIR is {INPUT_DIR}\\nMODEL_DIR is {MODEL_DIR}\\nOUTPUT_DIR is {OUTPUT_DIR}\")\n",
    "        \n",
    "else:\n",
    "    print(\"Please choose 'AWS' or 'Kaggle' or 'Colab'.\\nINPUT_DIR is not found.\")"
   ]
  },
  {
   "cell_type": "code",
   "execution_count": 8,
   "id": "48c0d801",
   "metadata": {},
   "outputs": [
    {
     "data": {
      "text/plain": [
       "42"
      ]
     },
     "execution_count": 8,
     "metadata": {},
     "output_type": "execute_result"
    }
   ],
   "source": [
    "# Seed固定\n",
    "seed_everything(config.seed)"
   ]
  },
  {
   "cell_type": "code",
   "execution_count": 9,
   "id": "6d621167",
   "metadata": {},
   "outputs": [],
   "source": [
    "## 処理時間計測\n",
    "@contextmanager\n",
    "def timer(name:str, slack:bool=False):\n",
    "    t0 = time.time()\n",
    "    p = psutil.Process(os.getpid())\n",
    "    m0 = p.memory_info()[0] / 2. ** 30\n",
    "    print(f'<< {name} >> Start')\n",
    "    yield\n",
    "    \n",
    "    m1 = p.memory_info()[0] / 2. ** 30\n",
    "    delta = m1 - m0\n",
    "    sign = '+' if delta >= 0 else '-'\n",
    "    delta = math.fabs(delta)\n",
    "    \n",
    "    print(f\"<< {name} >> {m1:.1f}GB({sign}{delta:.1f}GB):{time.time() - t0:.1f}sec\", file=sys.stderr)"
   ]
  },
  {
   "cell_type": "markdown",
   "id": "0c6e1e1c",
   "metadata": {
    "id": "zWE2XhHeTFos"
   },
   "source": [
    "<br>\n",
    "<h1 style = \"font-size:45px; font-family:Comic Sans MS ; font-weight : normal; background-color: #4c1c84 ; color : #eeebf1; text-align: center; border-radius: 100px 100px;\">\n",
    "    Data Load\n",
    "</h1>\n",
    "<br>"
   ]
  },
  {
   "cell_type": "code",
   "execution_count": 10,
   "id": "b54f995b",
   "metadata": {
    "colab": {
     "base_uri": "https://localhost:8080/"
    },
    "id": "3DFxNX0CTD9t",
    "outputId": "240b449b-9f09-4519-d155-b4f865053621"
   },
   "outputs": [
    {
     "name": "stdout",
     "output_type": "stream",
     "text": [
      "/mnt/work/data/kaggle/Jigsaw/comments_to_score.csv\n",
      "/mnt/work/data/kaggle/Jigsaw/sample_submission.csv\n",
      "/mnt/work/data/kaggle/Jigsaw/validation_data.csv\n"
     ]
    }
   ],
   "source": [
    "## Data Check\n",
    "for dirnames, _, filenames in os.walk(INPUT_DIR):\n",
    "    \n",
    "    for filename in filenames:\n",
    "\n",
    "        print(f'{dirnames}/{filename}')"
   ]
  },
  {
   "cell_type": "code",
   "execution_count": 11,
   "id": "b505ac28",
   "metadata": {},
   "outputs": [
    {
     "data": {
      "text/html": [
       "<div>\n",
       "<style scoped>\n",
       "    .dataframe tbody tr th:only-of-type {\n",
       "        vertical-align: middle;\n",
       "    }\n",
       "\n",
       "    .dataframe tbody tr th {\n",
       "        vertical-align: top;\n",
       "    }\n",
       "\n",
       "    .dataframe thead th {\n",
       "        text-align: right;\n",
       "    }\n",
       "</style>\n",
       "<table border=\"1\" class=\"dataframe\">\n",
       "  <thead>\n",
       "    <tr style=\"text-align: right;\">\n",
       "      <th></th>\n",
       "      <th>worker</th>\n",
       "      <th>less_toxic</th>\n",
       "      <th>more_toxic</th>\n",
       "    </tr>\n",
       "  </thead>\n",
       "  <tbody>\n",
       "    <tr>\n",
       "      <th>0</th>\n",
       "      <td>313</td>\n",
       "      <td>This article sucks \\n\\nwoo woo wooooooo</td>\n",
       "      <td>WHAT!!!!!!!!?!?!!?!?!!?!?!?!?!!!!!!!!!!!!!!!!!...</td>\n",
       "    </tr>\n",
       "    <tr>\n",
       "      <th>1</th>\n",
       "      <td>188</td>\n",
       "      <td>\"And yes, people should recognize that but the...</td>\n",
       "      <td>Daphne Guinness \\n\\nTop of the mornin' my fav...</td>\n",
       "    </tr>\n",
       "    <tr>\n",
       "      <th>2</th>\n",
       "      <td>82</td>\n",
       "      <td>Western Media?\\n\\nYup, because every crime in...</td>\n",
       "      <td>\"Atom you don't believe actual photos of mastu...</td>\n",
       "    </tr>\n",
       "    <tr>\n",
       "      <th>3</th>\n",
       "      <td>347</td>\n",
       "      <td>And you removed it! You numbskull! I don't car...</td>\n",
       "      <td>You seem to have sand in your vagina.\\n\\nMight...</td>\n",
       "    </tr>\n",
       "    <tr>\n",
       "      <th>4</th>\n",
       "      <td>539</td>\n",
       "      <td>smelly vagina \\n\\nBluerasberry why don't you ...</td>\n",
       "      <td>hey \\n\\nway to support nazis, you racist</td>\n",
       "    </tr>\n",
       "  </tbody>\n",
       "</table>\n",
       "</div>"
      ],
      "text/plain": [
       "   worker                                         less_toxic  \\\n",
       "0     313            This article sucks \\n\\nwoo woo wooooooo   \n",
       "1     188  \"And yes, people should recognize that but the...   \n",
       "2      82   Western Media?\\n\\nYup, because every crime in...   \n",
       "3     347  And you removed it! You numbskull! I don't car...   \n",
       "4     539   smelly vagina \\n\\nBluerasberry why don't you ...   \n",
       "\n",
       "                                          more_toxic  \n",
       "0  WHAT!!!!!!!!?!?!!?!?!!?!?!?!?!!!!!!!!!!!!!!!!!...  \n",
       "1   Daphne Guinness \\n\\nTop of the mornin' my fav...  \n",
       "2  \"Atom you don't believe actual photos of mastu...  \n",
       "3  You seem to have sand in your vagina.\\n\\nMight...  \n",
       "4           hey \\n\\nway to support nazis, you racist  "
      ]
     },
     "metadata": {},
     "output_type": "display_data"
    },
    {
     "data": {
      "text/html": [
       "<div>\n",
       "<style scoped>\n",
       "    .dataframe tbody tr th:only-of-type {\n",
       "        vertical-align: middle;\n",
       "    }\n",
       "\n",
       "    .dataframe tbody tr th {\n",
       "        vertical-align: top;\n",
       "    }\n",
       "\n",
       "    .dataframe thead th {\n",
       "        text-align: right;\n",
       "    }\n",
       "</style>\n",
       "<table border=\"1\" class=\"dataframe\">\n",
       "  <thead>\n",
       "    <tr style=\"text-align: right;\">\n",
       "      <th></th>\n",
       "      <th>comment_id</th>\n",
       "      <th>text</th>\n",
       "    </tr>\n",
       "  </thead>\n",
       "  <tbody>\n",
       "    <tr>\n",
       "      <th>0</th>\n",
       "      <td>114890</td>\n",
       "      <td>\"\\n \\n\\nGjalexei, you asked about whether ther...</td>\n",
       "    </tr>\n",
       "    <tr>\n",
       "      <th>1</th>\n",
       "      <td>732895</td>\n",
       "      <td>Looks like be have an abuser , can you please ...</td>\n",
       "    </tr>\n",
       "    <tr>\n",
       "      <th>2</th>\n",
       "      <td>1139051</td>\n",
       "      <td>I confess to having complete (and apparently b...</td>\n",
       "    </tr>\n",
       "    <tr>\n",
       "      <th>3</th>\n",
       "      <td>1434512</td>\n",
       "      <td>\"\\n\\nFreud's ideas are certainly much discusse...</td>\n",
       "    </tr>\n",
       "    <tr>\n",
       "      <th>4</th>\n",
       "      <td>2084821</td>\n",
       "      <td>It is not just you. This is a laundry list of ...</td>\n",
       "    </tr>\n",
       "  </tbody>\n",
       "</table>\n",
       "</div>"
      ],
      "text/plain": [
       "   comment_id                                               text\n",
       "0      114890  \"\\n \\n\\nGjalexei, you asked about whether ther...\n",
       "1      732895  Looks like be have an abuser , can you please ...\n",
       "2     1139051  I confess to having complete (and apparently b...\n",
       "3     1434512  \"\\n\\nFreud's ideas are certainly much discusse...\n",
       "4     2084821  It is not just you. This is a laundry list of ..."
      ]
     },
     "metadata": {},
     "output_type": "display_data"
    }
   ],
   "source": [
    "val_df = pd.read_csv(\"/mnt/work/data/kaggle/Jigsaw/validation_data.csv\")\n",
    "test_df = pd.read_csv(\"/mnt/work/data/kaggle/Jigsaw/comments_to_score.csv\")\n",
    "\n",
    "display(val_df.head())\n",
    "display(test_df.head())"
   ]
  },
  {
   "cell_type": "code",
   "execution_count": 12,
   "id": "e6f5567b",
   "metadata": {},
   "outputs": [
    {
     "name": "stdout",
     "output_type": "stream",
     "text": [
      "<< Count less text & more text >> Start\n"
     ]
    },
    {
     "data": {
      "text/html": [
       "<div>\n",
       "<style scoped>\n",
       "    .dataframe tbody tr th:only-of-type {\n",
       "        vertical-align: middle;\n",
       "    }\n",
       "\n",
       "    .dataframe tbody tr th {\n",
       "        vertical-align: top;\n",
       "    }\n",
       "\n",
       "    .dataframe thead th {\n",
       "        text-align: right;\n",
       "    }\n",
       "</style>\n",
       "<table border=\"1\" class=\"dataframe\">\n",
       "  <thead>\n",
       "    <tr style=\"text-align: right;\">\n",
       "      <th></th>\n",
       "      <th>text</th>\n",
       "      <th>less_count</th>\n",
       "      <th>more_count</th>\n",
       "    </tr>\n",
       "  </thead>\n",
       "  <tbody>\n",
       "    <tr>\n",
       "      <th>0</th>\n",
       "      <td>\\n\\nThe comment directly above this one are fr...</td>\n",
       "      <td>1.0</td>\n",
       "      <td>2.0</td>\n",
       "    </tr>\n",
       "    <tr>\n",
       "      <th>1</th>\n",
       "      <td>\\n\\nwhy should people have to read crap posted...</td>\n",
       "      <td>1.0</td>\n",
       "      <td>8.0</td>\n",
       "    </tr>\n",
       "    <tr>\n",
       "      <th>2</th>\n",
       "      <td>\\nGo F yourself you cottonheadednittymuggins.</td>\n",
       "      <td>1.0</td>\n",
       "      <td>2.0</td>\n",
       "    </tr>\n",
       "    <tr>\n",
       "      <th>3</th>\n",
       "      <td>\\nU POUR ADMIN, U UPDATE VANDAL COUNT, WHILE R...</td>\n",
       "      <td>3.0</td>\n",
       "      <td>0.0</td>\n",
       "    </tr>\n",
       "    <tr>\n",
       "      <th>4</th>\n",
       "      <td>\\n\\n koreans claim  \\n\\ni see youve seen the ...</td>\n",
       "      <td>4.0</td>\n",
       "      <td>2.0</td>\n",
       "    </tr>\n",
       "    <tr>\n",
       "      <th>...</th>\n",
       "      <td>...</td>\n",
       "      <td>...</td>\n",
       "      <td>...</td>\n",
       "    </tr>\n",
       "    <tr>\n",
       "      <th>14246</th>\n",
       "      <td>{{unblock|The reason I used sockpuppets was to...</td>\n",
       "      <td>0.0</td>\n",
       "      <td>3.0</td>\n",
       "    </tr>\n",
       "    <tr>\n",
       "      <th>14247</th>\n",
       "      <td>{{unblock}}  BECAUSE BAIL OUT IS THE BEST FUCK...</td>\n",
       "      <td>0.0</td>\n",
       "      <td>3.0</td>\n",
       "    </tr>\n",
       "    <tr>\n",
       "      <th>14248</th>\n",
       "      <td>|Christopher Connor]]. I am off to my daily ma...</td>\n",
       "      <td>0.0</td>\n",
       "      <td>6.0</td>\n",
       "    </tr>\n",
       "    <tr>\n",
       "      <th>14249</th>\n",
       "      <td>}} \\n\\nSomeone should address this fucking pro...</td>\n",
       "      <td>0.0</td>\n",
       "      <td>1.0</td>\n",
       "    </tr>\n",
       "    <tr>\n",
       "      <th>14250</th>\n",
       "      <td>~What's with you that you're so annoying and p...</td>\n",
       "      <td>0.0</td>\n",
       "      <td>3.0</td>\n",
       "    </tr>\n",
       "  </tbody>\n",
       "</table>\n",
       "<p>14251 rows × 3 columns</p>\n",
       "</div>"
      ],
      "text/plain": [
       "                                                    text  less_count  \\\n",
       "0      \\n\\nThe comment directly above this one are fr...         1.0   \n",
       "1      \\n\\nwhy should people have to read crap posted...         1.0   \n",
       "2          \\nGo F yourself you cottonheadednittymuggins.         1.0   \n",
       "3      \\nU POUR ADMIN, U UPDATE VANDAL COUNT, WHILE R...         3.0   \n",
       "4       \\n\\n koreans claim  \\n\\ni see youve seen the ...         4.0   \n",
       "...                                                  ...         ...   \n",
       "14246  {{unblock|The reason I used sockpuppets was to...         0.0   \n",
       "14247  {{unblock}}  BECAUSE BAIL OUT IS THE BEST FUCK...         0.0   \n",
       "14248  |Christopher Connor]]. I am off to my daily ma...         0.0   \n",
       "14249  }} \\n\\nSomeone should address this fucking pro...         0.0   \n",
       "14250  ~What's with you that you're so annoying and p...         0.0   \n",
       "\n",
       "       more_count  \n",
       "0             2.0  \n",
       "1             8.0  \n",
       "2             2.0  \n",
       "3             0.0  \n",
       "4             2.0  \n",
       "...           ...  \n",
       "14246         3.0  \n",
       "14247         3.0  \n",
       "14248         6.0  \n",
       "14249         1.0  \n",
       "14250         3.0  \n",
       "\n",
       "[14251 rows x 3 columns]"
      ]
     },
     "metadata": {},
     "output_type": "display_data"
    },
    {
     "name": "stderr",
     "output_type": "stream",
     "text": [
      "<< Count less text & more text >> 2.5GB(+0.0GB):0.1sec\n"
     ]
    }
   ],
   "source": [
    "with timer(\"Count less text & more text\"):\n",
    "    less_df = val_df.groupby([\"less_toxic\"])[\"worker\"].agg(\"count\").reset_index()\n",
    "    less_df.columns = [\"text\", \"less_count\"]\n",
    "\n",
    "    more_df = val_df.groupby([\"more_toxic\"])[\"worker\"].agg(\"count\").reset_index()\n",
    "    more_df.columns = [\"text\", \"more_count\"]\n",
    "    \n",
    "    text_df = pd.merge(\n",
    "        less_df,\n",
    "        more_df,\n",
    "        on=\"text\",\n",
    "        how=\"outer\"\n",
    "    )\n",
    "\n",
    "    text_df[\"less_count\"] = text_df[\"less_count\"].fillna(0)\n",
    "    text_df[\"more_count\"] = text_df[\"more_count\"].fillna(0)\n",
    "    \n",
    "    display(text_df)"
   ]
  },
  {
   "cell_type": "code",
   "execution_count": 13,
   "id": "3a095096",
   "metadata": {},
   "outputs": [
    {
     "data": {
      "text/html": [
       "<div>\n",
       "<style scoped>\n",
       "    .dataframe tbody tr th:only-of-type {\n",
       "        vertical-align: middle;\n",
       "    }\n",
       "\n",
       "    .dataframe tbody tr th {\n",
       "        vertical-align: top;\n",
       "    }\n",
       "\n",
       "    .dataframe thead th {\n",
       "        text-align: right;\n",
       "    }\n",
       "</style>\n",
       "<table border=\"1\" class=\"dataframe\">\n",
       "  <thead>\n",
       "    <tr style=\"text-align: right;\">\n",
       "      <th></th>\n",
       "      <th>text</th>\n",
       "      <th>less_count</th>\n",
       "      <th>more_count</th>\n",
       "    </tr>\n",
       "  </thead>\n",
       "  <tbody>\n",
       "    <tr>\n",
       "      <th>0</th>\n",
       "      <td>\\n\\nThe comment directly above this one are fr...</td>\n",
       "      <td>1.0</td>\n",
       "      <td>2.0</td>\n",
       "    </tr>\n",
       "    <tr>\n",
       "      <th>1</th>\n",
       "      <td>\\n\\nwhy should people have to read crap posted...</td>\n",
       "      <td>1.0</td>\n",
       "      <td>8.0</td>\n",
       "    </tr>\n",
       "    <tr>\n",
       "      <th>2</th>\n",
       "      <td>\\nGo F yourself you cottonheadednittymuggins.</td>\n",
       "      <td>1.0</td>\n",
       "      <td>2.0</td>\n",
       "    </tr>\n",
       "    <tr>\n",
       "      <th>3</th>\n",
       "      <td>\\nU POUR ADMIN, U UPDATE VANDAL COUNT, WHILE R...</td>\n",
       "      <td>3.0</td>\n",
       "      <td>0.0</td>\n",
       "    </tr>\n",
       "    <tr>\n",
       "      <th>4</th>\n",
       "      <td>\\n\\n koreans claim  \\n\\ni see youve seen the ...</td>\n",
       "      <td>4.0</td>\n",
       "      <td>2.0</td>\n",
       "    </tr>\n",
       "  </tbody>\n",
       "</table>\n",
       "</div>"
      ],
      "text/plain": [
       "                                                text  less_count  more_count\n",
       "0  \\n\\nThe comment directly above this one are fr...         1.0         2.0\n",
       "1  \\n\\nwhy should people have to read crap posted...         1.0         8.0\n",
       "2      \\nGo F yourself you cottonheadednittymuggins.         1.0         2.0\n",
       "3  \\nU POUR ADMIN, U UPDATE VANDAL COUNT, WHILE R...         3.0         0.0\n",
       "4   \\n\\n koreans claim  \\n\\ni see youve seen the ...         4.0         2.0"
      ]
     },
     "metadata": {},
     "output_type": "display_data"
    },
    {
     "data": {
      "text/html": [
       "<div>\n",
       "<style scoped>\n",
       "    .dataframe tbody tr th:only-of-type {\n",
       "        vertical-align: middle;\n",
       "    }\n",
       "\n",
       "    .dataframe tbody tr th {\n",
       "        vertical-align: top;\n",
       "    }\n",
       "\n",
       "    .dataframe thead th {\n",
       "        text-align: right;\n",
       "    }\n",
       "</style>\n",
       "<table border=\"1\" class=\"dataframe\">\n",
       "  <thead>\n",
       "    <tr style=\"text-align: right;\">\n",
       "      <th></th>\n",
       "      <th>comment_id</th>\n",
       "      <th>text</th>\n",
       "    </tr>\n",
       "  </thead>\n",
       "  <tbody>\n",
       "    <tr>\n",
       "      <th>0</th>\n",
       "      <td>114890</td>\n",
       "      <td>\"\\n \\n\\nGjalexei, you asked about whether ther...</td>\n",
       "    </tr>\n",
       "    <tr>\n",
       "      <th>1</th>\n",
       "      <td>732895</td>\n",
       "      <td>Looks like be have an abuser , can you please ...</td>\n",
       "    </tr>\n",
       "    <tr>\n",
       "      <th>2</th>\n",
       "      <td>1139051</td>\n",
       "      <td>I confess to having complete (and apparently b...</td>\n",
       "    </tr>\n",
       "    <tr>\n",
       "      <th>3</th>\n",
       "      <td>1434512</td>\n",
       "      <td>\"\\n\\nFreud's ideas are certainly much discusse...</td>\n",
       "    </tr>\n",
       "    <tr>\n",
       "      <th>4</th>\n",
       "      <td>2084821</td>\n",
       "      <td>It is not just you. This is a laundry list of ...</td>\n",
       "    </tr>\n",
       "  </tbody>\n",
       "</table>\n",
       "</div>"
      ],
      "text/plain": [
       "   comment_id                                               text\n",
       "0      114890  \"\\n \\n\\nGjalexei, you asked about whether ther...\n",
       "1      732895  Looks like be have an abuser , can you please ...\n",
       "2     1139051  I confess to having complete (and apparently b...\n",
       "3     1434512  \"\\n\\nFreud's ideas are certainly much discusse...\n",
       "4     2084821  It is not just you. This is a laundry list of ..."
      ]
     },
     "metadata": {},
     "output_type": "display_data"
    }
   ],
   "source": [
    "text_cudf = cudf.from_pandas(text_df)\n",
    "test_cudf = cudf.read_csv(\"/mnt/work/data/kaggle/Jigsaw/comments_to_score.csv\")\n",
    "\n",
    "display(text_cudf.head())\n",
    "display(test_cudf.head())"
   ]
  },
  {
   "cell_type": "markdown",
   "id": "5bf327ec",
   "metadata": {},
   "source": [
    "<br>\n",
    "<h1 style = \"font-size:45px; font-family:Comic Sans MS ; font-weight : normal; background-color: #4c1c84 ; color : #eeebf1; text-align: center; border-radius: 100px 100px;\">\n",
    "    RAPIDS TFIDF x kNN\n",
    "</h1>\n",
    "<br>"
   ]
  },
  {
   "cell_type": "code",
   "execution_count": 32,
   "id": "808c9369",
   "metadata": {},
   "outputs": [
    {
     "name": "stdout",
     "output_type": "stream",
     "text": [
      "<< RAPIDS TFIDF >> Start\n",
      "text embeddings shape is (14251, 147625)\n"
     ]
    },
    {
     "name": "stderr",
     "output_type": "stream",
     "text": [
      "<< RAPIDS TFIDF >> 7.1GB(+0.0GB):64.8sec\n"
     ]
    }
   ],
   "source": [
    "with timer(\"RAPIDS TFIDF\"):\n",
    "    cutfidf = cuTfidfVectorizer(\n",
    "        ngram_range=(2, 4),\n",
    "        analyzer=\"char_wb\",\n",
    "        binary=True\n",
    "    )\n",
    "    text_embeddings = cutfidf.fit_transform(text_cudf[\"text\"]).toarray()\n",
    "    print('text embeddings shape is',text_embeddings.shape)"
   ]
  },
  {
   "cell_type": "code",
   "execution_count": 22,
   "id": "f116005b",
   "metadata": {},
   "outputs": [],
   "source": [
    "KNN = 50\n",
    "model = cuNearestNeighbors(n_neighbors=KNN)\n",
    "model.fit(text_embeddings)\n",
    "distances, indices = model.kneighbors(text_embeddings)"
   ]
  },
  {
   "cell_type": "code",
   "execution_count": 26,
   "id": "3b1bf852",
   "metadata": {},
   "outputs": [
    {
     "name": "stdout",
     "output_type": "stream",
     "text": [
      "[W] [01:33:45.769897] # of Nearest Neighbors should be at least 3 * perplexity. Your results might be a bit strange...\n"
     ]
    }
   ],
   "source": [
    "from cuml.manifold import TSNE as cumlTSNE\n",
    "\n",
    "tsne = cumlTSNE(n_components=2)\n",
    "tsne_embedding = tsne.fit_transform(text_embeddings)"
   ]
  },
  {
   "cell_type": "code",
   "execution_count": 31,
   "id": "c40908e2",
   "metadata": {},
   "outputs": [
    {
     "data": {
      "text/plain": [
       "<matplotlib.collections.PathCollection at 0x7f7c1c100ad0>"
      ]
     },
     "execution_count": 31,
     "metadata": {},
     "output_type": "execute_result"
    },
    {
     "data": {
      "image/png": "[encoded data removed]",
      "text/plain": [
       "<Figure size 432x288 with 1 Axes>"
      ]
     },
     "metadata": {
      "needs_background": "light"
     },
     "output_type": "display_data"
    }
   ],
   "source": [
    "plt.scatter(cupy.asnumpy(tsne_embedding[:, 0]),\n",
    "            cupy.asnumpy(tsne_embedding[:, 1]),\n",
    "            c=text_df[\"more_count\"],\n",
    "            s=0.3\n",
    "           )"
   ]
  },
  {
   "cell_type": "code",
   "execution_count": 24,
   "id": "b4b1da62",
   "metadata": {},
   "outputs": [
    {
     "data": {
      "text/plain": [
       "((14251, 50), (14251, 50))"
      ]
     },
     "execution_count": 24,
     "metadata": {},
     "output_type": "execute_result"
    }
   ],
   "source": [
    "distances.shape, indices.shape"
   ]
  },
  {
   "cell_type": "code",
   "execution_count": 25,
   "id": "25cef2d0",
   "metadata": {},
   "outputs": [
    {
     "name": "stdout",
     "output_type": "stream",
     "text": [
      "                                                   text  less_count  \\\n",
      "0     \\n\\nThe comment directly above this one are fr...         1.0   \n",
      "3190  \"\\n\\n Gyroscopic Inertial Thrusters \\n\\nIntere...         3.0   \n",
      "3523  \"\\n\\n Steve's Biological Parents \\n\\nI've chec...         3.0   \n",
      "5044  \"\\nB.Nambiar,\\nIt looks that you are so obsess...         3.0   \n",
      "3210  \"\\n\\n Horrendous Inaccuracies \\n\\nI think ther...         5.0   \n",
      "\n",
      "      more_count  \n",
      "0            2.0  \n",
      "3190         0.0  \n",
      "3523         0.0  \n",
      "5044         0.0  \n",
      "3210         4.0  \n",
      "\n",
      "\n",
      "                                                    text  less_count  \\\n",
      "1      \\n\\nwhy should people have to read crap posted...         1.0   \n",
      "12365  \"\\n\\n \"\"Those giant lists\"\" \\n\\nWhy do you eve...         0.0   \n",
      "12076                     Who r u? \\n\\nwho the hell r u?         0.0   \n",
      "8177   Idiot\\n\\nWhoo, delete my post!  Brave, aren't ...         1.0   \n",
      "8318   It would if you translate it instead of postin...         1.0   \n",
      "\n",
      "       more_count  \n",
      "1             8.0  \n",
      "12365         3.0  \n",
      "12076         3.0  \n",
      "8177          2.0  \n",
      "8318          2.0  \n",
      "\n",
      "\n",
      "                                                   text  less_count  \\\n",
      "2         \\nGo F yourself you cottonheadednittymuggins.         1.0   \n",
      "54                                 \\n\\nGo fuck yourself         1.0   \n",
      "2533              go fuck yourself \\n\\ngo fuck yourself         2.0   \n",
      "854    Hey nigger \\n\\nGo fuck yourself and stop reve...         1.0   \n",
      "2497                        eat me \\n\\ngo blow yourself         2.0   \n",
      "\n",
      "      more_count  \n",
      "2            2.0  \n",
      "54           5.0  \n",
      "2533         1.0  \n",
      "854          2.0  \n",
      "2497         4.0  \n",
      "\n",
      "\n",
      "                                                    text  less_count  \\\n",
      "3      \\nU POUR ADMIN, U UPDATE VANDAL COUNT, WHILE R...         3.0   \n",
      "2908    you wanna know what I think tony? \\n\\nand yeh...         2.0   \n",
      "234     ARE YOU SERIOUS??? \\n''I WAS JUST TRYNA BE NI...         1.0   \n",
      "631     Excuse me, whoever the Fuck you are \\n\\nSPUI ...         4.0   \n",
      "12041   WHAT THE FCUK  \\n\\nwhat the fcuk u deleatin m...         0.0   \n",
      "\n",
      "       more_count  \n",
      "3             0.0  \n",
      "2908          1.0  \n",
      "234           2.0  \n",
      "631           2.0  \n",
      "12041         3.0  \n",
      "\n",
      "\n",
      "                                                   text  less_count  \\\n",
      "4      \\n\\n koreans claim  \\n\\ni see youve seen the ...         4.0   \n",
      "7388  HEY I AM A FAN IAN JADELYNN BLAUVELT I LOVE TH...         2.0   \n",
      "9570  That was some ugly juvenile vandalism. Kids th...         4.0   \n",
      "2600   i dare you \\n\\ni see you have been hiding in ...         1.0   \n",
      "2695   oioi \\n\\nhello you cunt, its kris weston here...         1.0   \n",
      "\n",
      "      more_count  \n",
      "4            2.0  \n",
      "7388         1.0  \n",
      "9570         2.0  \n",
      "2600         5.0  \n",
      "2695         2.0  \n",
      "\n",
      "\n"
     ]
    }
   ],
   "source": [
    "for k in range(5):\n",
    "    \n",
    "    print(text_cudf.loc[cupy.asnumpy(indices[k,:5]), :])\n",
    "    print()\n",
    "    print()"
   ]
  },
  {
   "cell_type": "code",
   "execution_count": 33,
   "id": "ceea9c67",
   "metadata": {},
   "outputs": [
    {
     "name": "stdout",
     "output_type": "stream",
     "text": [
      "<< Scikit-learn TFIDF >> Start\n",
      "text embeddings shape is (7537, 30063)\n"
     ]
    },
    {
     "name": "stderr",
     "output_type": "stream",
     "text": [
      "<< Scikit-learn TFIDF >> 5.2GB(-0.0GB):0.5sec\n"
     ]
    }
   ],
   "source": [
    "with timer(\"Scikit-learn TFIDF\"):\n",
    "    tfidf = TfidfVectorizer(\n",
    "#         ngram_range=(2, 5),\n",
    "#         analyzer=\"char_wb\",\n",
    "#         max_df=0.7,\n",
    "#         min_df=1,\n",
    "        binary=True\n",
    "    )\n",
    "    text_embeddings = tfidf.fit_transform(test_df[\"text\"])\n",
    "    print('text embeddings shape is',text_embeddings.shape)"
   ]
  },
  {
   "cell_type": "markdown",
   "id": "cdc871df",
   "metadata": {},
   "source": [
    "<br>\n",
    "<h2 style = \"font-size:45px;\n",
    "             font-family:Comic Sans MS ;\n",
    "             font-weight : normal; \n",
    "             background-color: #eeebf1 ;\n",
    "             color : #4c1c84;\n",
    "             text-align: center;\n",
    "             border-radius: 100px 100px;\">\n",
    "    Jigsaw Classification\n",
    "</h2>\n",
    "<br>"
   ]
  },
  {
   "cell_type": "code",
   "execution_count": 10,
   "id": "f4e0f71b",
   "metadata": {},
   "outputs": [
    {
     "data": {
      "text/html": [
       "<div>\n",
       "<style scoped>\n",
       "    .dataframe tbody tr th:only-of-type {\n",
       "        vertical-align: middle;\n",
       "    }\n",
       "\n",
       "    .dataframe tbody tr th {\n",
       "        vertical-align: top;\n",
       "    }\n",
       "\n",
       "    .dataframe thead th {\n",
       "        text-align: right;\n",
       "    }\n",
       "</style>\n",
       "<table border=\"1\" class=\"dataframe\">\n",
       "  <thead>\n",
       "    <tr style=\"text-align: right;\">\n",
       "      <th></th>\n",
       "      <th>id</th>\n",
       "      <th>target</th>\n",
       "      <th>comment_text</th>\n",
       "      <th>severe_toxicity</th>\n",
       "      <th>obscene</th>\n",
       "      <th>identity_attack</th>\n",
       "      <th>insult</th>\n",
       "      <th>threat</th>\n",
       "      <th>asian</th>\n",
       "      <th>atheist</th>\n",
       "      <th>...</th>\n",
       "      <th>article_id</th>\n",
       "      <th>rating</th>\n",
       "      <th>funny</th>\n",
       "      <th>wow</th>\n",
       "      <th>sad</th>\n",
       "      <th>likes</th>\n",
       "      <th>disagree</th>\n",
       "      <th>sexual_explicit</th>\n",
       "      <th>identity_annotator_count</th>\n",
       "      <th>toxicity_annotator_count</th>\n",
       "    </tr>\n",
       "  </thead>\n",
       "  <tbody>\n",
       "    <tr>\n",
       "      <th>0</th>\n",
       "      <td>59848</td>\n",
       "      <td>0.000000</td>\n",
       "      <td>This is so cool. It's like, 'would you want yo...</td>\n",
       "      <td>0.000000</td>\n",
       "      <td>0.000000</td>\n",
       "      <td>0.000000</td>\n",
       "      <td>0.000000</td>\n",
       "      <td>0.0</td>\n",
       "      <td>NaN</td>\n",
       "      <td>NaN</td>\n",
       "      <td>...</td>\n",
       "      <td>2006</td>\n",
       "      <td>rejected</td>\n",
       "      <td>0</td>\n",
       "      <td>0</td>\n",
       "      <td>0</td>\n",
       "      <td>0</td>\n",
       "      <td>0</td>\n",
       "      <td>0.000000</td>\n",
       "      <td>0</td>\n",
       "      <td>4</td>\n",
       "    </tr>\n",
       "    <tr>\n",
       "      <th>1</th>\n",
       "      <td>59849</td>\n",
       "      <td>0.000000</td>\n",
       "      <td>Thank you!! This would make my life a lot less...</td>\n",
       "      <td>0.000000</td>\n",
       "      <td>0.000000</td>\n",
       "      <td>0.000000</td>\n",
       "      <td>0.000000</td>\n",
       "      <td>0.0</td>\n",
       "      <td>NaN</td>\n",
       "      <td>NaN</td>\n",
       "      <td>...</td>\n",
       "      <td>2006</td>\n",
       "      <td>rejected</td>\n",
       "      <td>0</td>\n",
       "      <td>0</td>\n",
       "      <td>0</td>\n",
       "      <td>0</td>\n",
       "      <td>0</td>\n",
       "      <td>0.000000</td>\n",
       "      <td>0</td>\n",
       "      <td>4</td>\n",
       "    </tr>\n",
       "    <tr>\n",
       "      <th>2</th>\n",
       "      <td>59852</td>\n",
       "      <td>0.000000</td>\n",
       "      <td>This is such an urgent design problem; kudos t...</td>\n",
       "      <td>0.000000</td>\n",
       "      <td>0.000000</td>\n",
       "      <td>0.000000</td>\n",
       "      <td>0.000000</td>\n",
       "      <td>0.0</td>\n",
       "      <td>NaN</td>\n",
       "      <td>NaN</td>\n",
       "      <td>...</td>\n",
       "      <td>2006</td>\n",
       "      <td>rejected</td>\n",
       "      <td>0</td>\n",
       "      <td>0</td>\n",
       "      <td>0</td>\n",
       "      <td>0</td>\n",
       "      <td>0</td>\n",
       "      <td>0.000000</td>\n",
       "      <td>0</td>\n",
       "      <td>4</td>\n",
       "    </tr>\n",
       "    <tr>\n",
       "      <th>3</th>\n",
       "      <td>59855</td>\n",
       "      <td>0.000000</td>\n",
       "      <td>Is this something I'll be able to install on m...</td>\n",
       "      <td>0.000000</td>\n",
       "      <td>0.000000</td>\n",
       "      <td>0.000000</td>\n",
       "      <td>0.000000</td>\n",
       "      <td>0.0</td>\n",
       "      <td>NaN</td>\n",
       "      <td>NaN</td>\n",
       "      <td>...</td>\n",
       "      <td>2006</td>\n",
       "      <td>rejected</td>\n",
       "      <td>0</td>\n",
       "      <td>0</td>\n",
       "      <td>0</td>\n",
       "      <td>0</td>\n",
       "      <td>0</td>\n",
       "      <td>0.000000</td>\n",
       "      <td>0</td>\n",
       "      <td>4</td>\n",
       "    </tr>\n",
       "    <tr>\n",
       "      <th>4</th>\n",
       "      <td>59856</td>\n",
       "      <td>0.893617</td>\n",
       "      <td>haha you guys are a bunch of losers.</td>\n",
       "      <td>0.021277</td>\n",
       "      <td>0.000000</td>\n",
       "      <td>0.021277</td>\n",
       "      <td>0.872340</td>\n",
       "      <td>0.0</td>\n",
       "      <td>0.0</td>\n",
       "      <td>0.0</td>\n",
       "      <td>...</td>\n",
       "      <td>2006</td>\n",
       "      <td>rejected</td>\n",
       "      <td>0</td>\n",
       "      <td>0</td>\n",
       "      <td>0</td>\n",
       "      <td>1</td>\n",
       "      <td>0</td>\n",
       "      <td>0.000000</td>\n",
       "      <td>4</td>\n",
       "      <td>47</td>\n",
       "    </tr>\n",
       "    <tr>\n",
       "      <th>5</th>\n",
       "      <td>59859</td>\n",
       "      <td>0.666667</td>\n",
       "      <td>ur a sh*tty comment.</td>\n",
       "      <td>0.047619</td>\n",
       "      <td>0.638095</td>\n",
       "      <td>0.000000</td>\n",
       "      <td>0.333333</td>\n",
       "      <td>0.0</td>\n",
       "      <td>NaN</td>\n",
       "      <td>NaN</td>\n",
       "      <td>...</td>\n",
       "      <td>2006</td>\n",
       "      <td>rejected</td>\n",
       "      <td>0</td>\n",
       "      <td>0</td>\n",
       "      <td>0</td>\n",
       "      <td>0</td>\n",
       "      <td>0</td>\n",
       "      <td>0.009524</td>\n",
       "      <td>0</td>\n",
       "      <td>105</td>\n",
       "    </tr>\n",
       "    <tr>\n",
       "      <th>6</th>\n",
       "      <td>59861</td>\n",
       "      <td>0.457627</td>\n",
       "      <td>hahahahahahahahhha suck it.</td>\n",
       "      <td>0.050847</td>\n",
       "      <td>0.305085</td>\n",
       "      <td>0.000000</td>\n",
       "      <td>0.254237</td>\n",
       "      <td>0.0</td>\n",
       "      <td>NaN</td>\n",
       "      <td>NaN</td>\n",
       "      <td>...</td>\n",
       "      <td>2006</td>\n",
       "      <td>rejected</td>\n",
       "      <td>0</td>\n",
       "      <td>0</td>\n",
       "      <td>0</td>\n",
       "      <td>0</td>\n",
       "      <td>0</td>\n",
       "      <td>0.220339</td>\n",
       "      <td>0</td>\n",
       "      <td>59</td>\n",
       "    </tr>\n",
       "    <tr>\n",
       "      <th>7</th>\n",
       "      <td>59863</td>\n",
       "      <td>0.000000</td>\n",
       "      <td>FFFFUUUUUUUUUUUUUUU</td>\n",
       "      <td>0.000000</td>\n",
       "      <td>0.000000</td>\n",
       "      <td>0.000000</td>\n",
       "      <td>0.000000</td>\n",
       "      <td>0.0</td>\n",
       "      <td>NaN</td>\n",
       "      <td>NaN</td>\n",
       "      <td>...</td>\n",
       "      <td>2006</td>\n",
       "      <td>rejected</td>\n",
       "      <td>0</td>\n",
       "      <td>0</td>\n",
       "      <td>0</td>\n",
       "      <td>0</td>\n",
       "      <td>0</td>\n",
       "      <td>0.000000</td>\n",
       "      <td>0</td>\n",
       "      <td>4</td>\n",
       "    </tr>\n",
       "    <tr>\n",
       "      <th>8</th>\n",
       "      <td>239575</td>\n",
       "      <td>0.000000</td>\n",
       "      <td>The ranchers seem motivated by mostly by greed...</td>\n",
       "      <td>0.000000</td>\n",
       "      <td>0.000000</td>\n",
       "      <td>0.000000</td>\n",
       "      <td>0.000000</td>\n",
       "      <td>0.0</td>\n",
       "      <td>NaN</td>\n",
       "      <td>NaN</td>\n",
       "      <td>...</td>\n",
       "      <td>26662</td>\n",
       "      <td>approved</td>\n",
       "      <td>0</td>\n",
       "      <td>0</td>\n",
       "      <td>0</td>\n",
       "      <td>0</td>\n",
       "      <td>0</td>\n",
       "      <td>0.000000</td>\n",
       "      <td>0</td>\n",
       "      <td>4</td>\n",
       "    </tr>\n",
       "    <tr>\n",
       "      <th>9</th>\n",
       "      <td>239576</td>\n",
       "      <td>0.000000</td>\n",
       "      <td>It was a great show. Not a combo I'd of expect...</td>\n",
       "      <td>0.000000</td>\n",
       "      <td>0.000000</td>\n",
       "      <td>0.000000</td>\n",
       "      <td>0.000000</td>\n",
       "      <td>0.0</td>\n",
       "      <td>NaN</td>\n",
       "      <td>NaN</td>\n",
       "      <td>...</td>\n",
       "      <td>26650</td>\n",
       "      <td>approved</td>\n",
       "      <td>0</td>\n",
       "      <td>0</td>\n",
       "      <td>0</td>\n",
       "      <td>1</td>\n",
       "      <td>0</td>\n",
       "      <td>0.000000</td>\n",
       "      <td>0</td>\n",
       "      <td>4</td>\n",
       "    </tr>\n",
       "  </tbody>\n",
       "</table>\n",
       "<p>10 rows × 45 columns</p>\n",
       "</div>"
      ],
      "text/plain": [
       "       id    target                                       comment_text  \\\n",
       "0   59848  0.000000  This is so cool. It's like, 'would you want yo...   \n",
       "1   59849  0.000000  Thank you!! This would make my life a lot less...   \n",
       "2   59852  0.000000  This is such an urgent design problem; kudos t...   \n",
       "3   59855  0.000000  Is this something I'll be able to install on m...   \n",
       "4   59856  0.893617               haha you guys are a bunch of losers.   \n",
       "5   59859  0.666667                               ur a sh*tty comment.   \n",
       "6   59861  0.457627                        hahahahahahahahhha suck it.   \n",
       "7   59863  0.000000                                FFFFUUUUUUUUUUUUUUU   \n",
       "8  239575  0.000000  The ranchers seem motivated by mostly by greed...   \n",
       "9  239576  0.000000  It was a great show. Not a combo I'd of expect...   \n",
       "\n",
       "   severe_toxicity   obscene  identity_attack    insult  threat  asian  \\\n",
       "0         0.000000  0.000000         0.000000  0.000000     0.0    NaN   \n",
       "1         0.000000  0.000000         0.000000  0.000000     0.0    NaN   \n",
       "2         0.000000  0.000000         0.000000  0.000000     0.0    NaN   \n",
       "3         0.000000  0.000000         0.000000  0.000000     0.0    NaN   \n",
       "4         0.021277  0.000000         0.021277  0.872340     0.0    0.0   \n",
       "5         0.047619  0.638095         0.000000  0.333333     0.0    NaN   \n",
       "6         0.050847  0.305085         0.000000  0.254237     0.0    NaN   \n",
       "7         0.000000  0.000000         0.000000  0.000000     0.0    NaN   \n",
       "8         0.000000  0.000000         0.000000  0.000000     0.0    NaN   \n",
       "9         0.000000  0.000000         0.000000  0.000000     0.0    NaN   \n",
       "\n",
       "   atheist  ...  article_id    rating  funny  wow  sad  likes  disagree  \\\n",
       "0      NaN  ...        2006  rejected      0    0    0      0         0   \n",
       "1      NaN  ...        2006  rejected      0    0    0      0         0   \n",
       "2      NaN  ...        2006  rejected      0    0    0      0         0   \n",
       "3      NaN  ...        2006  rejected      0    0    0      0         0   \n",
       "4      0.0  ...        2006  rejected      0    0    0      1         0   \n",
       "5      NaN  ...        2006  rejected      0    0    0      0         0   \n",
       "6      NaN  ...        2006  rejected      0    0    0      0         0   \n",
       "7      NaN  ...        2006  rejected      0    0    0      0         0   \n",
       "8      NaN  ...       26662  approved      0    0    0      0         0   \n",
       "9      NaN  ...       26650  approved      0    0    0      1         0   \n",
       "\n",
       "   sexual_explicit  identity_annotator_count  toxicity_annotator_count  \n",
       "0         0.000000                         0                         4  \n",
       "1         0.000000                         0                         4  \n",
       "2         0.000000                         0                         4  \n",
       "3         0.000000                         0                         4  \n",
       "4         0.000000                         4                        47  \n",
       "5         0.009524                         0                       105  \n",
       "6         0.220339                         0                        59  \n",
       "7         0.000000                         0                         4  \n",
       "8         0.000000                         0                         4  \n",
       "9         0.000000                         0                         4  \n",
       "\n",
       "[10 rows x 45 columns]"
      ]
     },
     "metadata": {},
     "output_type": "display_data"
    },
    {
     "data": {
      "text/plain": [
       "(1804874, 45)"
      ]
     },
     "metadata": {},
     "output_type": "display_data"
    }
   ],
   "source": [
    "train_df = pd.read_csv(\"../data/external/jigsaw-unbiased/train.csv\")\n",
    "display(train_df.head(10))\n",
    "display(train_df.shape)"
   ]
  },
  {
   "cell_type": "code",
   "execution_count": 11,
   "id": "9c273515",
   "metadata": {},
   "outputs": [
    {
     "data": {
      "application/vnd.jupyter.widget-view+json": {
       "model_id": "f539c409c9d8400a923697b0641af436",
       "version_major": 2,
       "version_minor": 0
      },
      "text/plain": [
       "  0%|          | 0/1804874 [00:00<?, ?it/s]"
      ]
     },
     "metadata": {},
     "output_type": "display_data"
    }
   ],
   "source": [
    "train_df[\"is_colon\"] = train_df[\"comment_text\"].progress_apply(lambda x:1 if \":\" in x else 0)"
   ]
  },
  {
   "cell_type": "code",
   "execution_count": 12,
   "id": "f3e17d7f",
   "metadata": {},
   "outputs": [],
   "source": [
    "def preprocess_text(txt:str) -> str:\n",
    "    \n",
    "    new_texts = txt\n",
    "    new_texts = new_texts.replace(\":\", \",\")\n",
    "    \n",
    "    return new_texts"
   ]
  },
  {
   "cell_type": "code",
   "execution_count": 13,
   "id": "edabda55",
   "metadata": {},
   "outputs": [
    {
     "data": {
      "application/vnd.jupyter.widget-view+json": {
       "model_id": "734054970ab04592a5f049544a487891",
       "version_major": 2,
       "version_minor": 0
      },
      "text/plain": [
       "  0%|          | 0/1804874 [00:00<?, ?it/s]"
      ]
     },
     "metadata": {},
     "output_type": "display_data"
    },
    {
     "data": {
      "application/vnd.jupyter.widget-view+json": {
       "model_id": "fb802926df3445a7890b2c94f33efa84",
       "version_major": 2,
       "version_minor": 0
      },
      "text/plain": [
       "  0%|          | 0/7537 [00:00<?, ?it/s]"
      ]
     },
     "metadata": {},
     "output_type": "display_data"
    },
    {
     "data": {
      "application/vnd.jupyter.widget-view+json": {
       "model_id": "9a4f82add61f4fccaa07852c4ab879b8",
       "version_major": 2,
       "version_minor": 0
      },
      "text/plain": [
       "  0%|          | 0/30108 [00:00<?, ?it/s]"
      ]
     },
     "metadata": {},
     "output_type": "display_data"
    },
    {
     "data": {
      "application/vnd.jupyter.widget-view+json": {
       "model_id": "fef2a4679b71441899d7d0f1422db64e",
       "version_major": 2,
       "version_minor": 0
      },
      "text/plain": [
       "  0%|          | 0/30108 [00:00<?, ?it/s]"
      ]
     },
     "metadata": {},
     "output_type": "display_data"
    }
   ],
   "source": [
    "train_df[\"text\"] = train_df[\"comment_text\"].progress_apply(preprocess_text)\n",
    "test_df[\"text\"] = test_df[\"text\"].progress_apply(preprocess_text)\n",
    "val_df[\"less_toxic\"] = val_df[\"less_toxic\"].progress_apply(preprocess_text)\n",
    "val_df[\"more_toxic\"] = val_df[\"more_toxic\"].progress_apply(preprocess_text)"
   ]
  },
  {
   "cell_type": "code",
   "execution_count": 26,
   "id": "42dcfb88",
   "metadata": {},
   "outputs": [],
   "source": [
    "import re\n",
    "\n",
    "spell = SpellChecker(distance=1)\n",
    "\n",
    "def misspelt_words_fn(dataframe: pd.DataFrame, col=\"text\") -> Set[Text]:\n",
    "    misspelt_words = set()\n",
    "    for tweet in dataframe[col].str.casefold():\n",
    "        [misspelt_words.add(word) for word in spell.unknown(tweet.split())]\n",
    "    return misspelt_words\n",
    "\n",
    "WORD = re.compile(r'\\w+')\n",
    "def reTokenize(tweet: Text) -> List[Text]:\n",
    "    return WORD.findall(tweet.casefold())\n",
    "\n",
    "PATTERN = re.compile(r\"(.)\\1{2,}\")\n",
    "def reduce_lengthening(text: Text) -> Text:\n",
    "    return PATTERN.sub(r\"\\1\\1\", text)\n",
    "\n",
    "def spell_correction(text: Text) -> Text:\n",
    "    return ' '.join([spell.correction(word)\n",
    "                     if word in misspelt_words else word\n",
    "                     for word in reTokenize(reduce_lengthening(text))])\n"
   ]
  },
  {
   "cell_type": "code",
   "execution_count": 15,
   "id": "55d9db59",
   "metadata": {},
   "outputs": [
    {
     "data": {
      "application/vnd.jupyter.widget-view+json": {
       "model_id": "d14527b86dea411c90eb3f874a4371fa",
       "version_major": 2,
       "version_minor": 0
      },
      "text/plain": [
       "  0%|          | 0/1804874 [00:00<?, ?it/s]"
      ]
     },
     "metadata": {},
     "output_type": "display_data"
    },
    {
     "data": {
      "application/vnd.jupyter.widget-view+json": {
       "model_id": "486f0a0abe00436186cef4ba0aafb4b6",
       "version_major": 2,
       "version_minor": 0
      },
      "text/plain": [
       "  0%|          | 0/7537 [00:00<?, ?it/s]"
      ]
     },
     "metadata": {},
     "output_type": "display_data"
    },
    {
     "data": {
      "application/vnd.jupyter.widget-view+json": {
       "model_id": "29a855be1ebb439da7802614b2427602",
       "version_major": 2,
       "version_minor": 0
      },
      "text/plain": [
       "  0%|          | 0/30108 [00:00<?, ?it/s]"
      ]
     },
     "metadata": {},
     "output_type": "display_data"
    },
    {
     "data": {
      "application/vnd.jupyter.widget-view+json": {
       "model_id": "bff7500da5c5471e807a3560fae6fe8c",
       "version_major": 2,
       "version_minor": 0
      },
      "text/plain": [
       "  0%|          | 0/30108 [00:00<?, ?it/s]"
      ]
     },
     "metadata": {},
     "output_type": "display_data"
    }
   ],
   "source": [
    "misspelt_words = misspelt_words_fn(train_df, \"text\")\n",
    "train_df[\"text\"] = train_df[\"text\"].progress_apply(spell_correction)\n",
    "\n",
    "misspelt_words = misspelt_words_fn(test_df, \"text\")\n",
    "test_df[\"text\"] = test_df[\"text\"].progress_apply(spell_correction)\n",
    "\n",
    "misspelt_words = misspelt_words_fn(val_df, \"less_toxic\")\n",
    "val_df[\"less_toxic\"] = val_df[\"less_toxic\"].progress_apply(spell_correction)\n",
    "\n",
    "misspelt_words = misspelt_words_fn(val_df, \"more_toxic\")\n",
    "val_df[\"more_toxic\"] = val_df[\"more_toxic\"].progress_apply(spell_correction)"
   ]
  },
  {
   "cell_type": "code",
   "execution_count": 16,
   "id": "ec83b6e3",
   "metadata": {},
   "outputs": [
    {
     "data": {
      "image/png": "[encoded data removed]",
      "text/plain": [
       "<Figure size 864x360 with 1 Axes>"
      ]
     },
     "metadata": {
      "needs_background": "light"
     },
     "output_type": "display_data"
    }
   ],
   "source": [
    "target_cols = [\n",
    "    \"target\",\n",
    "    \"severe_toxic\",\n",
    "    \"obscene\",\n",
    "    \"threat\",\n",
    "    \"insult\",\n",
    "    \"identity_hate\"\n",
    "]\n",
    "\n",
    "plt.figure(figsize=(12, 5))\n",
    "sns.histplot(train_df[\"target\"], color=\"#4c1c84\")\n",
    "plt.grid()\n",
    "plt.show()"
   ]
  },
  {
   "cell_type": "code",
   "execution_count": 17,
   "id": "719e99e2",
   "metadata": {},
   "outputs": [],
   "source": [
    "def sample_df(df:pd.DataFrame, frac=0.2):\n",
    "    \n",
    "    '''\n",
    "    train_dfからtoxicとnon_toxicを抽出\n",
    "    non_toxicの割合をfracで調整\n",
    "    '''\n",
    "    \n",
    "    print(f\"Before: {df.shape}\")\n",
    "    label_cols = [\n",
    "        \"target\",\n",
    "        \"severe_toxicity\",\n",
    "        \"identity_attack\",\n",
    "        \"insult\",\n",
    "        \"threat\",\n",
    "        \"sexual_explicit\"\n",
    "    ]\n",
    "    df[\"y\"] = df[label_cols].sum(axis=1)\n",
    "    df[\"y\"] = df[\"y\"]/df[\"y\"].max()\n",
    "\n",
    "    toxic_df = df[df[\"y\"]>0].reset_index(drop=True)\n",
    "    nontoxic_df = df[df[\"y\"]==0].reset_index(drop=True)\n",
    "    nontoxic_df = nontoxic_df.sample(frac=frac, random_state=config.seed)\n",
    "    \n",
    "    df = pd.concat([toxic_df, nontoxic_df], axis=0).sample(frac=1).reset_index(drop=True)\n",
    "    \n",
    "    print(f\"After: {df.shape}\")\n",
    "    return df"
   ]
  },
  {
   "cell_type": "code",
   "execution_count": 18,
   "id": "cfa6cd2b",
   "metadata": {},
   "outputs": [
    {
     "name": "stdout",
     "output_type": "stream",
     "text": [
      "<< sampling df >> Start\n",
      "Before: (1804874, 47)\n",
      "After: (573281, 48)\n"
     ]
    },
    {
     "data": {
      "text/html": [
       "<div>\n",
       "<style scoped>\n",
       "    .dataframe tbody tr th:only-of-type {\n",
       "        vertical-align: middle;\n",
       "    }\n",
       "\n",
       "    .dataframe tbody tr th {\n",
       "        vertical-align: top;\n",
       "    }\n",
       "\n",
       "    .dataframe thead th {\n",
       "        text-align: right;\n",
       "    }\n",
       "</style>\n",
       "<table border=\"1\" class=\"dataframe\">\n",
       "  <thead>\n",
       "    <tr style=\"text-align: right;\">\n",
       "      <th></th>\n",
       "      <th>id</th>\n",
       "      <th>target</th>\n",
       "      <th>comment_text</th>\n",
       "      <th>severe_toxicity</th>\n",
       "      <th>obscene</th>\n",
       "      <th>identity_attack</th>\n",
       "      <th>insult</th>\n",
       "      <th>threat</th>\n",
       "      <th>asian</th>\n",
       "      <th>atheist</th>\n",
       "      <th>...</th>\n",
       "      <th>wow</th>\n",
       "      <th>sad</th>\n",
       "      <th>likes</th>\n",
       "      <th>disagree</th>\n",
       "      <th>sexual_explicit</th>\n",
       "      <th>identity_annotator_count</th>\n",
       "      <th>toxicity_annotator_count</th>\n",
       "      <th>is_colon</th>\n",
       "      <th>text</th>\n",
       "      <th>y</th>\n",
       "    </tr>\n",
       "  </thead>\n",
       "  <tbody>\n",
       "    <tr>\n",
       "      <th>0</th>\n",
       "      <td>6169836</td>\n",
       "      <td>0.200000</td>\n",
       "      <td>Cadillac Fairview will feel this, although the...</td>\n",
       "      <td>0.0</td>\n",
       "      <td>0.0</td>\n",
       "      <td>0.000000</td>\n",
       "      <td>0.2</td>\n",
       "      <td>0.000</td>\n",
       "      <td>NaN</td>\n",
       "      <td>NaN</td>\n",
       "      <td>...</td>\n",
       "      <td>0</td>\n",
       "      <td>0</td>\n",
       "      <td>0</td>\n",
       "      <td>0</td>\n",
       "      <td>0.000</td>\n",
       "      <td>0</td>\n",
       "      <td>10</td>\n",
       "      <td>0</td>\n",
       "      <td>cadillac fairview will feel this although thei...</td>\n",
       "      <td>0.080250</td>\n",
       "    </tr>\n",
       "    <tr>\n",
       "      <th>1</th>\n",
       "      <td>665020</td>\n",
       "      <td>0.000000</td>\n",
       "      <td>But will Mr. Trump protect us from hateful dom...</td>\n",
       "      <td>0.0</td>\n",
       "      <td>0.0</td>\n",
       "      <td>0.125000</td>\n",
       "      <td>0.0</td>\n",
       "      <td>0.125</td>\n",
       "      <td>NaN</td>\n",
       "      <td>NaN</td>\n",
       "      <td>...</td>\n",
       "      <td>0</td>\n",
       "      <td>0</td>\n",
       "      <td>0</td>\n",
       "      <td>0</td>\n",
       "      <td>0.125</td>\n",
       "      <td>0</td>\n",
       "      <td>8</td>\n",
       "      <td>0</td>\n",
       "      <td>but will my trump protect us from hateful dome...</td>\n",
       "      <td>0.075235</td>\n",
       "    </tr>\n",
       "    <tr>\n",
       "      <th>2</th>\n",
       "      <td>5685604</td>\n",
       "      <td>1.000000</td>\n",
       "      <td>\"STO, The 'Blue Code of Silence' that \"purport...</td>\n",
       "      <td>0.0</td>\n",
       "      <td>0.0</td>\n",
       "      <td>0.000000</td>\n",
       "      <td>1.0</td>\n",
       "      <td>0.000</td>\n",
       "      <td>NaN</td>\n",
       "      <td>NaN</td>\n",
       "      <td>...</td>\n",
       "      <td>0</td>\n",
       "      <td>0</td>\n",
       "      <td>0</td>\n",
       "      <td>0</td>\n",
       "      <td>0.000</td>\n",
       "      <td>0</td>\n",
       "      <td>4</td>\n",
       "      <td>1</td>\n",
       "      <td>sto the blue code of silence that purportedly ...</td>\n",
       "      <td>0.401252</td>\n",
       "    </tr>\n",
       "    <tr>\n",
       "      <th>3</th>\n",
       "      <td>948754</td>\n",
       "      <td>0.200000</td>\n",
       "      <td>Will you take personal responsibility for all ...</td>\n",
       "      <td>0.0</td>\n",
       "      <td>0.0</td>\n",
       "      <td>0.100000</td>\n",
       "      <td>0.1</td>\n",
       "      <td>0.000</td>\n",
       "      <td>NaN</td>\n",
       "      <td>NaN</td>\n",
       "      <td>...</td>\n",
       "      <td>0</td>\n",
       "      <td>0</td>\n",
       "      <td>2</td>\n",
       "      <td>0</td>\n",
       "      <td>0.000</td>\n",
       "      <td>0</td>\n",
       "      <td>10</td>\n",
       "      <td>0</td>\n",
       "      <td>will you take personal responsibility for all ...</td>\n",
       "      <td>0.080250</td>\n",
       "    </tr>\n",
       "    <tr>\n",
       "      <th>4</th>\n",
       "      <td>5265462</td>\n",
       "      <td>0.166667</td>\n",
       "      <td>You don't have a right to stick your nose in a...</td>\n",
       "      <td>0.0</td>\n",
       "      <td>0.0</td>\n",
       "      <td>0.166667</td>\n",
       "      <td>0.0</td>\n",
       "      <td>0.000</td>\n",
       "      <td>NaN</td>\n",
       "      <td>NaN</td>\n",
       "      <td>...</td>\n",
       "      <td>0</td>\n",
       "      <td>0</td>\n",
       "      <td>0</td>\n",
       "      <td>0</td>\n",
       "      <td>0.000</td>\n",
       "      <td>0</td>\n",
       "      <td>6</td>\n",
       "      <td>1</td>\n",
       "      <td>you don i have a right to stick your nose in a...</td>\n",
       "      <td>0.066875</td>\n",
       "    </tr>\n",
       "  </tbody>\n",
       "</table>\n",
       "<p>5 rows × 48 columns</p>\n",
       "</div>"
      ],
      "text/plain": [
       "        id    target                                       comment_text  \\\n",
       "0  6169836  0.200000  Cadillac Fairview will feel this, although the...   \n",
       "1   665020  0.000000  But will Mr. Trump protect us from hateful dom...   \n",
       "2  5685604  1.000000  \"STO, The 'Blue Code of Silence' that \"purport...   \n",
       "3   948754  0.200000  Will you take personal responsibility for all ...   \n",
       "4  5265462  0.166667  You don't have a right to stick your nose in a...   \n",
       "\n",
       "   severe_toxicity  obscene  identity_attack  insult  threat  asian  atheist  \\\n",
       "0              0.0      0.0         0.000000     0.2   0.000    NaN      NaN   \n",
       "1              0.0      0.0         0.125000     0.0   0.125    NaN      NaN   \n",
       "2              0.0      0.0         0.000000     1.0   0.000    NaN      NaN   \n",
       "3              0.0      0.0         0.100000     0.1   0.000    NaN      NaN   \n",
       "4              0.0      0.0         0.166667     0.0   0.000    NaN      NaN   \n",
       "\n",
       "   ...  wow  sad  likes  disagree  sexual_explicit  identity_annotator_count  \\\n",
       "0  ...    0    0      0         0            0.000                         0   \n",
       "1  ...    0    0      0         0            0.125                         0   \n",
       "2  ...    0    0      0         0            0.000                         0   \n",
       "3  ...    0    0      2         0            0.000                         0   \n",
       "4  ...    0    0      0         0            0.000                         0   \n",
       "\n",
       "   toxicity_annotator_count  is_colon  \\\n",
       "0                        10         0   \n",
       "1                         8         0   \n",
       "2                         4         1   \n",
       "3                        10         0   \n",
       "4                         6         1   \n",
       "\n",
       "                                                text         y  \n",
       "0  cadillac fairview will feel this although thei...  0.080250  \n",
       "1  but will my trump protect us from hateful dome...  0.075235  \n",
       "2  sto the blue code of silence that purportedly ...  0.401252  \n",
       "3  will you take personal responsibility for all ...  0.080250  \n",
       "4  you don i have a right to stick your nose in a...  0.066875  \n",
       "\n",
       "[5 rows x 48 columns]"
      ]
     },
     "metadata": {},
     "output_type": "display_data"
    },
    {
     "name": "stderr",
     "output_type": "stream",
     "text": [
      "<< sampling df >> 4.5GB(-0.4GB):4.3sec\n"
     ]
    }
   ],
   "source": [
    "with timer(\"sampling df\"):\n",
    "    \n",
    "    train_df = sample_df(train_df, frac=0.01)\n",
    "    display(train_df.head())"
   ]
  },
  {
   "cell_type": "code",
   "execution_count": 19,
   "id": "e012b8f0",
   "metadata": {},
   "outputs": [],
   "source": [
    "target_cols = [\n",
    "    \"target\",\n",
    "    \"severe_toxicity\",\n",
    "    \"identity_attack\",\n",
    "    \"insult\",\n",
    "    \"threat\",\n",
    "    \"sexual_explicit\"\n",
    "]"
   ]
  },
  {
   "cell_type": "markdown",
   "id": "ee451919",
   "metadata": {},
   "source": [
    "<br>\n",
    "<h1 style = \"font-size:45px; font-family:Comic Sans MS ; font-weight : normal; background-color: #4c1c84 ; color : #eeebf1; text-align: center; border-radius: 100px 100px;\">\n",
    "    Pytorch Dataset\n",
    "</h1>\n",
    "<br>"
   ]
  },
  {
   "cell_type": "code",
   "execution_count": 20,
   "id": "30cbf016",
   "metadata": {},
   "outputs": [],
   "source": [
    "class JigsawDataset:\n",
    "    \n",
    "    def __init__(self, df, tokenizer, max_length, mode, target_cols):\n",
    "        \n",
    "        self.df = df\n",
    "        self.max_len = max_length\n",
    "        self.tokenizer = tokenizer\n",
    "        self.mode = mode\n",
    "        self.target_cols = target_cols\n",
    "        \n",
    "        if self.mode == \"train\":\n",
    "            self.text = df[\"text\"].values\n",
    "            self.target = df[target_cols].values\n",
    "            \n",
    "        elif self.mode == \"valid\":\n",
    "            self.more_toxic = df[\"more_toxic\"].values\n",
    "            self.less_toxic = df[\"less_toxic\"].values\n",
    "            \n",
    "        else:\n",
    "            self.text = df[\"text\"].values\n",
    "            \n",
    "    def __len__(self):\n",
    "        return len(self.df)\n",
    "    \n",
    "    def __getitem__(self, index):\n",
    "        \n",
    "        if self.mode == \"train\":\n",
    "            \n",
    "            text = self.text[index]\n",
    "            target = self.target[index]\n",
    "            \n",
    "            inputs_text = self.tokenizer.encode_plus(\n",
    "                text,\n",
    "                truncation=True,\n",
    "                return_attention_mask=True,\n",
    "                return_token_type_ids=True,\n",
    "                max_length = self.max_len,\n",
    "                padding=\"max_length\",\n",
    "            )\n",
    "            \n",
    "            text_ids = inputs_text[\"input_ids\"]\n",
    "            text_mask = inputs_text[\"attention_mask\"]\n",
    "            text_token_type_ids = inputs_text[\"token_type_ids\"]\n",
    "\n",
    "            return {\n",
    "                'text_ids': torch.tensor(text_ids, dtype=torch.long),\n",
    "                'text_mask': torch.tensor(text_mask, dtype=torch.long),\n",
    "                'text_token_type_ids': torch.tensor(text_token_type_ids, dtype=torch.long),\n",
    "                'target': torch.tensor(target, dtype=torch.float)\n",
    "            }\n",
    "        \n",
    "        elif self.mode == \"valid\":\n",
    "            \n",
    "            more_toxic = self.more_toxic[index]\n",
    "            less_toxic = self.less_toxic[index]\n",
    "\n",
    "            inputs_more_toxic = self.tokenizer.encode_plus(\n",
    "                more_toxic,\n",
    "                truncation=True,\n",
    "                return_attention_mask=True,\n",
    "                return_token_type_ids=True,\n",
    "                max_length = self.max_len,\n",
    "                padding=\"max_length\",\n",
    "            )\n",
    "\n",
    "            inputs_less_toxic = self.tokenizer.encode_plus(\n",
    "                less_toxic,\n",
    "                truncation=True,\n",
    "                return_attention_mask=True,\n",
    "                return_token_type_ids=True,\n",
    "                max_length = self.max_len,\n",
    "                padding=\"max_length\",\n",
    "            )\n",
    "            \n",
    "            target = 1\n",
    "\n",
    "            more_toxic_ids = inputs_more_toxic[\"input_ids\"]\n",
    "            more_toxic_mask = inputs_more_toxic[\"attention_mask\"]\n",
    "            more_token_type_ids = inputs_more_toxic[\"token_type_ids\"]\n",
    "\n",
    "            less_toxic_ids = inputs_less_toxic[\"input_ids\"]\n",
    "            less_toxic_mask = inputs_less_toxic[\"attention_mask\"]\n",
    "            less_token_type_ids = inputs_less_toxic[\"token_type_ids\"]\n",
    "            \n",
    "            return {\n",
    "                'more_toxic_ids': torch.tensor(more_toxic_ids, dtype=torch.long),\n",
    "                'more_toxic_mask': torch.tensor(more_toxic_mask, dtype=torch.long),\n",
    "                'more_token_type_ids': torch.tensor(more_token_type_ids, dtype=torch.long),\n",
    "                \n",
    "                'less_toxic_ids': torch.tensor(less_toxic_ids, dtype=torch.long),\n",
    "                'less_toxic_mask': torch.tensor(less_toxic_mask, dtype=torch.long),\n",
    "                'less_token_type_ids': torch.tensor(less_token_type_ids, dtype=torch.long),\n",
    "                \n",
    "                'target': torch.tensor(target, dtype=torch.float)\n",
    "            }\n",
    "        \n",
    "        else:\n",
    "            \n",
    "            text = self.text[index]\n",
    "            \n",
    "            inputs_text = self.tokenizer.encode_plus(\n",
    "                text,\n",
    "                truncation=True,\n",
    "                return_attention_mask=True,\n",
    "                return_token_type_ids=True,\n",
    "                max_length = self.max_len,\n",
    "                padding=\"max_length\",\n",
    "            )\n",
    "            \n",
    "            text_ids = inputs_text[\"input_ids\"]\n",
    "            text_mask = inputs_text[\"attention_mask\"]\n",
    "            text_token_type_ids = inputs_text[\"token_type_ids\"]\n",
    "\n",
    "            return {\n",
    "                'text_ids': torch.tensor(text_ids, dtype=torch.long),\n",
    "                'text_mask': torch.tensor(text_mask, dtype=torch.long),\n",
    "                'text_token_type_ids': torch.tensor(text_token_type_ids, dtype=torch.long),\n",
    "            }"
   ]
  },
  {
   "cell_type": "markdown",
   "id": "3f5088d0",
   "metadata": {},
   "source": [
    "<br>\n",
    "<h2 style = \"font-size:45px;\n",
    "             font-family:Comic Sans MS ;\n",
    "             font-weight : normal;\n",
    "             background-color: #eeebf1 ;\n",
    "             color : #4c1c84;\n",
    "             text-align: center; \n",
    "             border-radius: 100px 100px;\">\n",
    "    DataModule\n",
    "</h2>\n",
    "<br>"
   ]
  },
  {
   "cell_type": "code",
   "execution_count": 21,
   "id": "5e757558",
   "metadata": {},
   "outputs": [],
   "source": [
    "class JigsawDataModule(LightningDataModule):\n",
    "\n",
    "    def __init__(self, train_df, valid_df, test_df, cfg):\n",
    "\n",
    "        super().__init__()\n",
    "        self._train_df = train_df\n",
    "        self._valid_df = valid_df\n",
    "        self._test_df = test_df\n",
    "        self._cfg = cfg\n",
    "\n",
    "    def train_dataloader(self):\n",
    "        dataset = JigsawDataset(\n",
    "            df=self._train_df, \n",
    "            tokenizer=self._cfg.tokenizer,\n",
    "            max_length=self._cfg.max_length,\n",
    "            mode=\"train\",\n",
    "            target_cols=target_cols\n",
    "            )\n",
    "        return DataLoader(dataset, **self._cfg.train_loader)\n",
    "\n",
    "    def val_dataloader(self):\n",
    "        dataset = JigsawDataset(\n",
    "            df=self._valid_df, \n",
    "            tokenizer=self._cfg.tokenizer,\n",
    "            max_length=self._cfg.max_length,\n",
    "            mode=\"valid\",\n",
    "            target_cols=target_cols\n",
    "            )\n",
    "        return DataLoader(dataset, **self._cfg.valid_loader)\n",
    "\n",
    "    def test_dataloader(self):\n",
    "        dataset = JigsawDataset(\n",
    "            df=self._test_df,\n",
    "            tokenizer = self._cfg.tokenizer,\n",
    "            max_length=self._cfg.max_length,\n",
    "            mode=\"test\",\n",
    "            target_cols=target_cols\n",
    "        )\n",
    "\n",
    "        return DataLoader(dataset, **self._cfg.test_loader)"
   ]
  },
  {
   "cell_type": "code",
   "execution_count": 22,
   "id": "bd1c9cbe",
   "metadata": {},
   "outputs": [],
   "source": [
    "## DataCheck\n",
    "seed_everything(config.seed)\n",
    "\n",
    "sample_dataloader = JigsawDataModule(train_df, val_df, test_df, config).train_dataloader()\n",
    "for data in sample_dataloader:\n",
    "    break"
   ]
  },
  {
   "cell_type": "code",
   "execution_count": 23,
   "id": "8654e510",
   "metadata": {},
   "outputs": [
    {
     "name": "stdout",
     "output_type": "stream",
     "text": [
      "torch.Size([8, 256])\n",
      "torch.Size([8, 256])\n",
      "torch.Size([8, 256])\n",
      "torch.Size([8, 6])\n",
      "tensor([[0.1667, 0.0000, 0.1667, 0.0000, 0.0000, 0.0000],\n",
      "        [0.6000, 0.1000, 0.2000, 0.5000, 0.0000, 0.0000],\n",
      "        [0.1818, 0.0000, 0.0000, 0.0909, 0.0909, 0.0000],\n",
      "        [0.3000, 0.0000, 0.1000, 0.3000, 0.0000, 0.0000],\n",
      "        [0.6000, 0.0000, 0.1000, 0.6000, 0.0000, 0.0000],\n",
      "        [0.4000, 0.0000, 0.0000, 0.5000, 0.0000, 0.0000],\n",
      "        [0.0000, 0.0000, 0.0000, 0.1667, 0.0000, 0.0000],\n",
      "        [0.1667, 0.0000, 0.1667, 0.1667, 0.0000, 0.0000]])\n",
      "torch.Size([8, 256, 768]) torch.Size([8, 12, 256, 256])\n",
      "torch.Size([8, 768]) torch.Size([8, 12, 256, 256])\n"
     ]
    }
   ],
   "source": [
    "print(data[\"text_ids\"].size())\n",
    "print(data[\"text_mask\"].size())\n",
    "print(data[\"text_token_type_ids\"].size())\n",
    "print(data[\"target\"].size())\n",
    "print(data[\"target\"])\n",
    "output = config.model(\n",
    "    data[\"text_ids\"],\n",
    "    data[\"text_mask\"],\n",
    "    data[\"text_token_type_ids\"],\n",
    "    output_hidden_states=True,\n",
    "    output_attentions=True,\n",
    ")\n",
    "print(output[\"hidden_states\"][-1].size(), output[\"attentions\"][-1].size())\n",
    "print(output[\"hidden_states\"][-1][:, 0, :].size(), output[\"attentions\"][-1].size())"
   ]
  },
  {
   "cell_type": "markdown",
   "id": "da71fba7",
   "metadata": {},
   "source": [
    "<br>\n",
    "<h2 style = \"font-size:45px;\n",
    "             font-family:Comic Sans MS ;\n",
    "             font-weight : normal;\n",
    "             background-color: #eeebf1 ;\n",
    "             color : #4c1c84;\n",
    "             text-align: center; \n",
    "             border-radius: 100px 100px;\">\n",
    "    LigitningModule\n",
    "</h2>\n",
    "<br>"
   ]
  },
  {
   "cell_type": "code",
   "execution_count": 24,
   "id": "7a35a5f4",
   "metadata": {},
   "outputs": [],
   "source": [
    "class JigsawModel(pl.LightningModule):\n",
    "    \n",
    "    def __init__(self, cfg, fold_num):\n",
    "        \n",
    "        super().__init__()\n",
    "        self.cfg = cfg\n",
    "        self.__build_model()\n",
    "        self.criterion = eval(self.cfg.loss)()\n",
    "        self.save_hyperparameters(cfg)\n",
    "        self.fold_num = fold_num\n",
    "        \n",
    "    def __build_model(self):\n",
    "        \n",
    "        self.base_model = BertForMaskedLM.from_pretrained(\n",
    "            self.cfg.backbone.name\n",
    "        )\n",
    "        print(f\"Use Model: {self.cfg.backbone.name}\")\n",
    "        self.norm = nn.LayerNorm(768)\n",
    "        self.drop = nn.Dropout(p=0.3)\n",
    "        self.head = nn.Linear(768, self.cfg.backbone.output_dim)\n",
    "        \n",
    "    def forward(self, ids, mask, token_type_ids):\n",
    "        \n",
    "        output = self.base_model(\n",
    "            input_ids=ids, \n",
    "            attention_mask=mask,\n",
    "            token_type_ids=token_type_ids,\n",
    "            output_hidden_states=True,\n",
    "            output_attentions=True\n",
    "        )\n",
    "        feature = self.norm(output[\"hidden_states\"][-1][:, 0, :])\n",
    "        out = self.drop(feature)\n",
    "        out = self.head(out)\n",
    "        \n",
    "        return {\n",
    "            \"logits\":out, \n",
    "            \"feature\":feature,\n",
    "            \"attention\":output[\"attentions\"], \n",
    "            \"mask\":mask,\n",
    "        }\n",
    "    \n",
    "    def training_step(self, batch, batch_idx):\n",
    "        \n",
    "        text_ids = batch[\"text_ids\"]\n",
    "        text_mask = batch['text_mask']\n",
    "        text_token_type_ids = batch['text_token_type_ids']\n",
    "        targets = batch['target']\n",
    "        \n",
    "        outputs = self.forward(text_ids, text_mask, text_token_type_ids)\n",
    "        loss = torch.sqrt(self.criterion(outputs[\"logits\"], targets))\n",
    "        \n",
    "        return {\n",
    "            \"loss\":loss,\n",
    "            \"targets\":targets,\n",
    "        }\n",
    "    \n",
    "    def training_epoch_end(self, training_step_outputs):\n",
    "\n",
    "        loss_list = []\n",
    "\n",
    "        for out in training_step_outputs:\n",
    "\n",
    "            loss_list.extend([out[\"loss\"].cpu().detach().tolist()])\n",
    "\n",
    "        meanloss = sum(loss_list)/len(loss_list)\n",
    "\n",
    "        logs = {f\"train_loss/fold{self.fold_num+1}\": meanloss,}\n",
    "\n",
    "        self.log_dict(\n",
    "            logs,\n",
    "            on_step=False,\n",
    "            on_epoch=True,\n",
    "            prog_bar=True,\n",
    "            logger=True\n",
    "        )\n",
    "        \n",
    "    def validation_step(self, batch, batch_idx):\n",
    "\n",
    "        more_toxic_ids = batch['more_toxic_ids']\n",
    "        more_toxic_mask = batch['more_toxic_mask']\n",
    "        more_text_token_type_ids = batch['more_token_type_ids']\n",
    "        \n",
    "        less_toxic_ids = batch['less_toxic_ids']\n",
    "        less_toxic_mask = batch['less_toxic_mask']\n",
    "        less_text_token_type_ids = batch['less_token_type_ids']\n",
    "        \n",
    "        targets = batch['target']\n",
    "\n",
    "        more_outputs = self.forward(\n",
    "            more_toxic_ids, \n",
    "            more_toxic_mask,\n",
    "            more_text_token_type_ids\n",
    "        )\n",
    "        \n",
    "        less_outputs = self.forward(\n",
    "            less_toxic_ids, \n",
    "            less_toxic_mask,\n",
    "            less_text_token_type_ids\n",
    "        )\n",
    "        \n",
    "        \n",
    "        more_outputs = torch.sum(more_outputs[\"logits\"], 1)\n",
    "        less_outputs = torch.sum(less_outputs[\"logits\"], 1)\n",
    "        \n",
    "        outputs = more_outputs - less_outputs\n",
    "        logits = outputs.clone()\n",
    "\n",
    "        logits[logits > 0] = 1\n",
    "        loss = self.criterion(logits, targets)\n",
    "\n",
    "        return {\n",
    "            \"loss\":loss,\n",
    "            \"pred\":outputs,\n",
    "            \"targets\":targets,\n",
    "        }\n",
    "    \n",
    "    \n",
    "    def validation_epoch_end(self, validation_step_outputs):\n",
    "\n",
    "        loss_list = []\n",
    "        pred_list = []\n",
    "        target_list = []\n",
    "\n",
    "        for out in validation_step_outputs:\n",
    "            loss_list.extend([out[\"loss\"].cpu().detach().tolist()])\n",
    "            pred_list.append(out[\"pred\"].detach().cpu().numpy())\n",
    "            target_list.append(out[\"targets\"].detach().cpu().numpy())\n",
    "\n",
    "        meanloss = sum(loss_list)/len(loss_list)\n",
    "        pred_list = np.concatenate(pred_list)\n",
    "        pred_count = sum(x>0 for x in pred_list)/len(pred_list)\n",
    "\n",
    "        logs = {\n",
    "            f\"valid_loss/fold{self.fold_num+1}\":meanloss,\n",
    "            f\"valid_acc/fold{self.fold_num+1}\":pred_count,\n",
    "        }\n",
    "\n",
    "        self.log_dict(\n",
    "            logs,\n",
    "            on_step=False,\n",
    "            on_epoch=True,\n",
    "            prog_bar=True,\n",
    "            logger=True\n",
    "        )\n",
    "        \n",
    "    def configure_optimizers(self):\n",
    "\n",
    "        optimizer = eval(self.cfg.optimizer.name)(\n",
    "            self.parameters(), **self.cfg.optimizer.params\n",
    "        )\n",
    "\n",
    "        self.scheduler = eval(self.cfg.scheduler.name)(\n",
    "            optimizer, **self.cfg.scheduler.params\n",
    "        )\n",
    "        \n",
    "        scheduler = {\"scheduler\": self.scheduler, \"interval\": \"step\",}\n",
    "\n",
    "        return [optimizer], [scheduler]"
   ]
  },
  {
   "cell_type": "markdown",
   "id": "d001c786",
   "metadata": {},
   "source": [
    "<br>\n",
    "<h2 style = \"font-size:45px;\n",
    "             font-family:Comic Sans MS ;\n",
    "             font-weight : normal;\n",
    "             background-color: #eeebf1 ;\n",
    "             color : #4c1c84;\n",
    "             text-align: center; \n",
    "             border-radius: 100px 100px;\">\n",
    "    Training\n",
    "</h2>\n",
    "<br>"
   ]
  },
  {
   "cell_type": "code",
   "execution_count": 25,
   "id": "c1953383",
   "metadata": {},
   "outputs": [
    {
     "data": {
      "text/html": [
       "<div>\n",
       "<style scoped>\n",
       "    .dataframe tbody tr th:only-of-type {\n",
       "        vertical-align: middle;\n",
       "    }\n",
       "\n",
       "    .dataframe tbody tr th {\n",
       "        vertical-align: top;\n",
       "    }\n",
       "\n",
       "    .dataframe thead th {\n",
       "        text-align: right;\n",
       "    }\n",
       "</style>\n",
       "<table border=\"1\" class=\"dataframe\">\n",
       "  <thead>\n",
       "    <tr style=\"text-align: right;\">\n",
       "      <th></th>\n",
       "      <th>id</th>\n",
       "      <th>target</th>\n",
       "      <th>comment_text</th>\n",
       "      <th>severe_toxicity</th>\n",
       "      <th>obscene</th>\n",
       "      <th>identity_attack</th>\n",
       "      <th>insult</th>\n",
       "      <th>threat</th>\n",
       "      <th>asian</th>\n",
       "      <th>atheist</th>\n",
       "      <th>...</th>\n",
       "      <th>sad</th>\n",
       "      <th>likes</th>\n",
       "      <th>disagree</th>\n",
       "      <th>sexual_explicit</th>\n",
       "      <th>identity_annotator_count</th>\n",
       "      <th>toxicity_annotator_count</th>\n",
       "      <th>is_colon</th>\n",
       "      <th>text</th>\n",
       "      <th>y</th>\n",
       "      <th>kfold</th>\n",
       "    </tr>\n",
       "  </thead>\n",
       "  <tbody>\n",
       "    <tr>\n",
       "      <th>0</th>\n",
       "      <td>6169836</td>\n",
       "      <td>0.200000</td>\n",
       "      <td>Cadillac Fairview will feel this, although the...</td>\n",
       "      <td>0.0</td>\n",
       "      <td>0.0</td>\n",
       "      <td>0.000000</td>\n",
       "      <td>0.2</td>\n",
       "      <td>0.000</td>\n",
       "      <td>NaN</td>\n",
       "      <td>NaN</td>\n",
       "      <td>...</td>\n",
       "      <td>0</td>\n",
       "      <td>0</td>\n",
       "      <td>0</td>\n",
       "      <td>0.000</td>\n",
       "      <td>0</td>\n",
       "      <td>10</td>\n",
       "      <td>0</td>\n",
       "      <td>cadillac fairview will feel this although thei...</td>\n",
       "      <td>0.080250</td>\n",
       "      <td>2</td>\n",
       "    </tr>\n",
       "    <tr>\n",
       "      <th>1</th>\n",
       "      <td>665020</td>\n",
       "      <td>0.000000</td>\n",
       "      <td>But will Mr. Trump protect us from hateful dom...</td>\n",
       "      <td>0.0</td>\n",
       "      <td>0.0</td>\n",
       "      <td>0.125000</td>\n",
       "      <td>0.0</td>\n",
       "      <td>0.125</td>\n",
       "      <td>NaN</td>\n",
       "      <td>NaN</td>\n",
       "      <td>...</td>\n",
       "      <td>0</td>\n",
       "      <td>0</td>\n",
       "      <td>0</td>\n",
       "      <td>0.125</td>\n",
       "      <td>0</td>\n",
       "      <td>8</td>\n",
       "      <td>0</td>\n",
       "      <td>but will my trump protect us from hateful dome...</td>\n",
       "      <td>0.075235</td>\n",
       "      <td>3</td>\n",
       "    </tr>\n",
       "    <tr>\n",
       "      <th>2</th>\n",
       "      <td>5685604</td>\n",
       "      <td>1.000000</td>\n",
       "      <td>\"STO, The 'Blue Code of Silence' that \"purport...</td>\n",
       "      <td>0.0</td>\n",
       "      <td>0.0</td>\n",
       "      <td>0.000000</td>\n",
       "      <td>1.0</td>\n",
       "      <td>0.000</td>\n",
       "      <td>NaN</td>\n",
       "      <td>NaN</td>\n",
       "      <td>...</td>\n",
       "      <td>0</td>\n",
       "      <td>0</td>\n",
       "      <td>0</td>\n",
       "      <td>0.000</td>\n",
       "      <td>0</td>\n",
       "      <td>4</td>\n",
       "      <td>1</td>\n",
       "      <td>sto the blue code of silence that purportedly ...</td>\n",
       "      <td>0.401252</td>\n",
       "      <td>0</td>\n",
       "    </tr>\n",
       "    <tr>\n",
       "      <th>3</th>\n",
       "      <td>948754</td>\n",
       "      <td>0.200000</td>\n",
       "      <td>Will you take personal responsibility for all ...</td>\n",
       "      <td>0.0</td>\n",
       "      <td>0.0</td>\n",
       "      <td>0.100000</td>\n",
       "      <td>0.1</td>\n",
       "      <td>0.000</td>\n",
       "      <td>NaN</td>\n",
       "      <td>NaN</td>\n",
       "      <td>...</td>\n",
       "      <td>0</td>\n",
       "      <td>2</td>\n",
       "      <td>0</td>\n",
       "      <td>0.000</td>\n",
       "      <td>0</td>\n",
       "      <td>10</td>\n",
       "      <td>0</td>\n",
       "      <td>will you take personal responsibility for all ...</td>\n",
       "      <td>0.080250</td>\n",
       "      <td>4</td>\n",
       "    </tr>\n",
       "    <tr>\n",
       "      <th>4</th>\n",
       "      <td>5265462</td>\n",
       "      <td>0.166667</td>\n",
       "      <td>You don't have a right to stick your nose in a...</td>\n",
       "      <td>0.0</td>\n",
       "      <td>0.0</td>\n",
       "      <td>0.166667</td>\n",
       "      <td>0.0</td>\n",
       "      <td>0.000</td>\n",
       "      <td>NaN</td>\n",
       "      <td>NaN</td>\n",
       "      <td>...</td>\n",
       "      <td>0</td>\n",
       "      <td>0</td>\n",
       "      <td>0</td>\n",
       "      <td>0.000</td>\n",
       "      <td>0</td>\n",
       "      <td>6</td>\n",
       "      <td>1</td>\n",
       "      <td>you don i have a right to stick your nose in a...</td>\n",
       "      <td>0.066875</td>\n",
       "      <td>2</td>\n",
       "    </tr>\n",
       "  </tbody>\n",
       "</table>\n",
       "<p>5 rows × 49 columns</p>\n",
       "</div>"
      ],
      "text/plain": [
       "        id    target                                       comment_text  \\\n",
       "0  6169836  0.200000  Cadillac Fairview will feel this, although the...   \n",
       "1   665020  0.000000  But will Mr. Trump protect us from hateful dom...   \n",
       "2  5685604  1.000000  \"STO, The 'Blue Code of Silence' that \"purport...   \n",
       "3   948754  0.200000  Will you take personal responsibility for all ...   \n",
       "4  5265462  0.166667  You don't have a right to stick your nose in a...   \n",
       "\n",
       "   severe_toxicity  obscene  identity_attack  insult  threat  asian  atheist  \\\n",
       "0              0.0      0.0         0.000000     0.2   0.000    NaN      NaN   \n",
       "1              0.0      0.0         0.125000     0.0   0.125    NaN      NaN   \n",
       "2              0.0      0.0         0.000000     1.0   0.000    NaN      NaN   \n",
       "3              0.0      0.0         0.100000     0.1   0.000    NaN      NaN   \n",
       "4              0.0      0.0         0.166667     0.0   0.000    NaN      NaN   \n",
       "\n",
       "   ...  sad  likes  disagree  sexual_explicit  identity_annotator_count  \\\n",
       "0  ...    0      0         0            0.000                         0   \n",
       "1  ...    0      0         0            0.125                         0   \n",
       "2  ...    0      0         0            0.000                         0   \n",
       "3  ...    0      2         0            0.000                         0   \n",
       "4  ...    0      0         0            0.000                         0   \n",
       "\n",
       "   toxicity_annotator_count  is_colon  \\\n",
       "0                        10         0   \n",
       "1                         8         0   \n",
       "2                         4         1   \n",
       "3                        10         0   \n",
       "4                         6         1   \n",
       "\n",
       "                                                text         y  kfold  \n",
       "0  cadillac fairview will feel this although thei...  0.080250      2  \n",
       "1  but will my trump protect us from hateful dome...  0.075235      3  \n",
       "2  sto the blue code of silence that purportedly ...  0.401252      0  \n",
       "3  will you take personal responsibility for all ...  0.080250      4  \n",
       "4  you don i have a right to stick your nose in a...  0.066875      2  \n",
       "\n",
       "[5 rows x 49 columns]"
      ]
     },
     "execution_count": 25,
     "metadata": {},
     "output_type": "execute_result"
    }
   ],
   "source": [
    "skf = KFold(\n",
    "    n_splits=config.n_fold, \n",
    "    shuffle=True, \n",
    "    random_state=config.seed\n",
    ")\n",
    "\n",
    "for fold, (_, val_idx) in enumerate(skf.split(X=train_df, y=train_df[\"severe_toxicity\"])):\n",
    "    train_df.loc[val_idx, \"kfold\"] = int(fold)\n",
    "\n",
    "train_df[\"kfold\"] = train_df[\"kfold\"].astype(int)\n",
    "train_df.head()"
   ]
  },
  {
   "cell_type": "code",
   "execution_count": 41,
   "id": "848a7b26",
   "metadata": {},
   "outputs": [
    {
     "name": "stdout",
     "output_type": "stream",
     "text": [
      "★★★★★★★★★★★★★★★★★★★★★★★★★  Fold1  ★★★★★★★★★★★★★★★★★★★★★★★★★\n",
      "Use Model: GroNLP/hateBERT\n"
     ]
    },
    {
     "name": "stderr",
     "output_type": "stream",
     "text": [
      "/opt/conda/lib/python3.7/site-packages/pytorch_lightning/trainer/connectors/callback_connector.py:91: LightningDeprecationWarning: Setting `Trainer(progress_bar_refresh_rate=1)` is deprecated in v1.5 and will be removed in v1.7. Please pass `pytorch_lightning.callbacks.progress.TQDMProgressBar` with `refresh_rate` directly to the Trainer's `callbacks` argument instead. Or, to disable the progress bar pass `enable_progress_bar = False` to the Trainer.\n",
      "  f\"Setting `Trainer(progress_bar_refresh_rate={progress_bar_refresh_rate})` is deprecated in v1.5 and\"\n"
     ]
    },
    {
     "data": {
      "text/html": [
       "<pre style=\"white-space:pre;overflow-x:auto;line-height:normal;font-family:Menlo,'DejaVu Sans Mono',consolas,'Courier New',monospace\">┏━━━┳━━━━━━━━━━━━┳━━━━━━━━━━━━━━━━━┳━━━━━━━━┓\n",
       "┃<span style=\"color: #800080; text-decoration-color: #800080; font-weight: bold\">   </span>┃<span style=\"color: #800080; text-decoration-color: #800080; font-weight: bold\"> Name       </span>┃<span style=\"color: #800080; text-decoration-color: #800080; font-weight: bold\"> Type            </span>┃<span style=\"color: #800080; text-decoration-color: #800080; font-weight: bold\"> Params </span>┃\n",
       "┡━━━╇━━━━━━━━━━━━╇━━━━━━━━━━━━━━━━━╇━━━━━━━━┩\n",
       "│<span style=\"color: #7f7f7f; text-decoration-color: #7f7f7f\"> 0 </span>│ base_model │ BertForMaskedLM │  109 M │\n",
       "│<span style=\"color: #7f7f7f; text-decoration-color: #7f7f7f\"> 1 </span>│ norm       │ LayerNorm       │  1.5 K │\n",
       "│<span style=\"color: #7f7f7f; text-decoration-color: #7f7f7f\"> 2 </span>│ drop       │ Dropout         │      0 │\n",
       "│<span style=\"color: #7f7f7f; text-decoration-color: #7f7f7f\"> 3 </span>│ head       │ Linear          │  4.6 K │\n",
       "│<span style=\"color: #7f7f7f; text-decoration-color: #7f7f7f\"> 4 </span>│ criterion  │ MSELoss         │      0 │\n",
       "└───┴────────────┴─────────────────┴────────┘\n",
       "</pre>\n"
      ],
      "text/plain": [
       "┏━━━┳━━━━━━━━━━━━┳━━━━━━━━━━━━━━━━━┳━━━━━━━━┓\n",
       "┃\u001b[1;35m \u001b[0m\u001b[1;35m \u001b[0m\u001b[1;35m \u001b[0m┃\u001b[1;35m \u001b[0m\u001b[1;35mName      \u001b[0m\u001b[1;35m \u001b[0m┃\u001b[1;35m \u001b[0m\u001b[1;35mType           \u001b[0m\u001b[1;35m \u001b[0m┃\u001b[1;35m \u001b[0m\u001b[1;35mParams\u001b[0m\u001b[1;35m \u001b[0m┃\n",
       "┡━━━╇━━━━━━━━━━━━╇━━━━━━━━━━━━━━━━━╇━━━━━━━━┩\n",
       "│\u001b[2m \u001b[0m\u001b[2m0\u001b[0m\u001b[2m \u001b[0m│ base_model │ BertForMaskedLM │  109 M │\n",
       "│\u001b[2m \u001b[0m\u001b[2m1\u001b[0m\u001b[2m \u001b[0m│ norm       │ LayerNorm       │  1.5 K │\n",
       "│\u001b[2m \u001b[0m\u001b[2m2\u001b[0m\u001b[2m \u001b[0m│ drop       │ Dropout         │      0 │\n",
       "│\u001b[2m \u001b[0m\u001b[2m3\u001b[0m\u001b[2m \u001b[0m│ head       │ Linear          │  4.6 K │\n",
       "│\u001b[2m \u001b[0m\u001b[2m4\u001b[0m\u001b[2m \u001b[0m│ criterion  │ MSELoss         │      0 │\n",
       "└───┴────────────┴─────────────────┴────────┘\n"
      ]
     },
     "metadata": {},
     "output_type": "display_data"
    },
    {
     "data": {
      "text/html": [
       "<pre style=\"white-space:pre;overflow-x:auto;line-height:normal;font-family:Menlo,'DejaVu Sans Mono',consolas,'Courier New',monospace\"><span style=\"font-weight: bold\">Trainable params</span>: 109 M                                                                      \n",
       "<span style=\"font-weight: bold\">Non-trainable params</span>: 0                                                                      \n",
       "<span style=\"font-weight: bold\">Total params</span>: 109 M                                                                          \n",
       "<span style=\"font-weight: bold\">Total estimated model params size (MB)</span>: 438                                                  \n",
       "</pre>\n"
      ],
      "text/plain": [
       "\u001b[1mTrainable params\u001b[0m: 109 M                                                                      \n",
       "\u001b[1mNon-trainable params\u001b[0m: 0                                                                      \n",
       "\u001b[1mTotal params\u001b[0m: 109 M                                                                          \n",
       "\u001b[1mTotal estimated model params size (MB)\u001b[0m: 438                                                  \n"
      ]
     },
     "metadata": {},
     "output_type": "display_data"
    },
    {
     "data": {
      "application/vnd.jupyter.widget-view+json": {
       "model_id": "5357ac8d3bbd4ba6af969d7d226f96d9",
       "version_major": 2,
       "version_minor": 0
      },
      "text/plain": [
       "Output()"
      ]
     },
     "metadata": {},
     "output_type": "display_data"
    },
    {
     "data": {
      "text/html": [
       "<pre style=\"white-space:pre;overflow-x:auto;line-height:normal;font-family:Menlo,'DejaVu Sans Mono',consolas,'Courier New',monospace\"><span style=\"color: #c0c0c0; text-decoration-color: #c0c0c0\">Epoch 0   </span> <span style=\"color: #6206e0; text-decoration-color: #6206e0\">━━━━━━━━━━━━━━━━━━━━━━━━━━━━━━</span> <span style=\"color: #c0c0c0; text-decoration-color: #c0c0c0\">2/2</span> <span style=\"color: #8a8a8a; text-decoration-color: #8a8a8a\">0:00:00 • 0:00:00</span> <span style=\"color: #b2b2b2; text-decoration-color: #b2b2b2\">3.32it/s</span> <span style=\"color: #c0c0c0; text-decoration-color: #c0c0c0\">loss: 0.834 v_num:  </span>\n",
       "</pre>\n"
      ],
      "text/plain": [
       "\u001b[37mEpoch 0   \u001b[0m \u001b[38;2;98;6;224m━━━━━━━━━━━━━━━━━━━━━━━━━━━━━━\u001b[0m \u001b[37m2/2\u001b[0m \u001b[38;5;245m0:00:00 • 0:00:00\u001b[0m \u001b[38;5;249m3.32it/s\u001b[0m \u001b[37mloss: 0.834 v_num:  \u001b[0m\n"
      ]
     },
     "metadata": {},
     "output_type": "display_data"
    },
    {
     "data": {
      "text/html": [
       "<pre style=\"white-space:pre;overflow-x:auto;line-height:normal;font-family:Menlo,'DejaVu Sans Mono',consolas,'Courier New',monospace\">\n",
       "</pre>\n"
      ],
      "text/plain": [
       "\n"
      ]
     },
     "metadata": {},
     "output_type": "display_data"
    },
    {
     "name": "stdout",
     "output_type": "stream",
     "text": [
      "★★★★★★★★★★★★★★★★★★★★★★★★★  Fold2  ★★★★★★★★★★★★★★★★★★★★★★★★★\n",
      "Use Model: GroNLP/hateBERT\n"
     ]
    },
    {
     "name": "stderr",
     "output_type": "stream",
     "text": [
      "/opt/conda/lib/python3.7/site-packages/pytorch_lightning/trainer/connectors/callback_connector.py:91: LightningDeprecationWarning: Setting `Trainer(progress_bar_refresh_rate=1)` is deprecated in v1.5 and will be removed in v1.7. Please pass `pytorch_lightning.callbacks.progress.TQDMProgressBar` with `refresh_rate` directly to the Trainer's `callbacks` argument instead. Or, to disable the progress bar pass `enable_progress_bar = False` to the Trainer.\n",
      "  f\"Setting `Trainer(progress_bar_refresh_rate={progress_bar_refresh_rate})` is deprecated in v1.5 and\"\n"
     ]
    },
    {
     "data": {
      "text/html": [
       "<pre style=\"white-space:pre;overflow-x:auto;line-height:normal;font-family:Menlo,'DejaVu Sans Mono',consolas,'Courier New',monospace\">┏━━━┳━━━━━━━━━━━━┳━━━━━━━━━━━━━━━━━┳━━━━━━━━┓\n",
       "┃<span style=\"color: #800080; text-decoration-color: #800080; font-weight: bold\">   </span>┃<span style=\"color: #800080; text-decoration-color: #800080; font-weight: bold\"> Name       </span>┃<span style=\"color: #800080; text-decoration-color: #800080; font-weight: bold\"> Type            </span>┃<span style=\"color: #800080; text-decoration-color: #800080; font-weight: bold\"> Params </span>┃\n",
       "┡━━━╇━━━━━━━━━━━━╇━━━━━━━━━━━━━━━━━╇━━━━━━━━┩\n",
       "│<span style=\"color: #7f7f7f; text-decoration-color: #7f7f7f\"> 0 </span>│ base_model │ BertForMaskedLM │  109 M │\n",
       "│<span style=\"color: #7f7f7f; text-decoration-color: #7f7f7f\"> 1 </span>│ norm       │ LayerNorm       │  1.5 K │\n",
       "│<span style=\"color: #7f7f7f; text-decoration-color: #7f7f7f\"> 2 </span>│ drop       │ Dropout         │      0 │\n",
       "│<span style=\"color: #7f7f7f; text-decoration-color: #7f7f7f\"> 3 </span>│ head       │ Linear          │  4.6 K │\n",
       "│<span style=\"color: #7f7f7f; text-decoration-color: #7f7f7f\"> 4 </span>│ criterion  │ MSELoss         │      0 │\n",
       "└───┴────────────┴─────────────────┴────────┘\n",
       "</pre>\n"
      ],
      "text/plain": [
       "┏━━━┳━━━━━━━━━━━━┳━━━━━━━━━━━━━━━━━┳━━━━━━━━┓\n",
       "┃\u001b[1;35m \u001b[0m\u001b[1;35m \u001b[0m\u001b[1;35m \u001b[0m┃\u001b[1;35m \u001b[0m\u001b[1;35mName      \u001b[0m\u001b[1;35m \u001b[0m┃\u001b[1;35m \u001b[0m\u001b[1;35mType           \u001b[0m\u001b[1;35m \u001b[0m┃\u001b[1;35m \u001b[0m\u001b[1;35mParams\u001b[0m\u001b[1;35m \u001b[0m┃\n",
       "┡━━━╇━━━━━━━━━━━━╇━━━━━━━━━━━━━━━━━╇━━━━━━━━┩\n",
       "│\u001b[2m \u001b[0m\u001b[2m0\u001b[0m\u001b[2m \u001b[0m│ base_model │ BertForMaskedLM │  109 M │\n",
       "│\u001b[2m \u001b[0m\u001b[2m1\u001b[0m\u001b[2m \u001b[0m│ norm       │ LayerNorm       │  1.5 K │\n",
       "│\u001b[2m \u001b[0m\u001b[2m2\u001b[0m\u001b[2m \u001b[0m│ drop       │ Dropout         │      0 │\n",
       "│\u001b[2m \u001b[0m\u001b[2m3\u001b[0m\u001b[2m \u001b[0m│ head       │ Linear          │  4.6 K │\n",
       "│\u001b[2m \u001b[0m\u001b[2m4\u001b[0m\u001b[2m \u001b[0m│ criterion  │ MSELoss         │      0 │\n",
       "└───┴────────────┴─────────────────┴────────┘\n"
      ]
     },
     "metadata": {},
     "output_type": "display_data"
    },
    {
     "data": {
      "text/html": [
       "<pre style=\"white-space:pre;overflow-x:auto;line-height:normal;font-family:Menlo,'DejaVu Sans Mono',consolas,'Courier New',monospace\"><span style=\"font-weight: bold\">Trainable params</span>: 109 M                                                                      \n",
       "<span style=\"font-weight: bold\">Non-trainable params</span>: 0                                                                      \n",
       "<span style=\"font-weight: bold\">Total params</span>: 109 M                                                                          \n",
       "<span style=\"font-weight: bold\">Total estimated model params size (MB)</span>: 438                                                  \n",
       "</pre>\n"
      ],
      "text/plain": [
       "\u001b[1mTrainable params\u001b[0m: 109 M                                                                      \n",
       "\u001b[1mNon-trainable params\u001b[0m: 0                                                                      \n",
       "\u001b[1mTotal params\u001b[0m: 109 M                                                                          \n",
       "\u001b[1mTotal estimated model params size (MB)\u001b[0m: 438                                                  \n"
      ]
     },
     "metadata": {},
     "output_type": "display_data"
    },
    {
     "data": {
      "application/vnd.jupyter.widget-view+json": {
       "model_id": "6dcb97e69e8649a196804ae38ca5d79a",
       "version_major": 2,
       "version_minor": 0
      },
      "text/plain": [
       "Output()"
      ]
     },
     "metadata": {},
     "output_type": "display_data"
    },
    {
     "data": {
      "text/html": [
       "<pre style=\"white-space:pre;overflow-x:auto;line-height:normal;font-family:Menlo,'DejaVu Sans Mono',consolas,'Courier New',monospace\"><span style=\"color: #c0c0c0; text-decoration-color: #c0c0c0\">Epoch 0   </span> <span style=\"color: #6206e0; text-decoration-color: #6206e0\">━━━━━━━━━━━━━━━━━━━━━━━━━━━━━━━</span> <span style=\"color: #c0c0c0; text-decoration-color: #c0c0c0\">2/2</span> <span style=\"color: #8a8a8a; text-decoration-color: #8a8a8a\">0:00:00 • 0:00:00</span> <span style=\"color: #b2b2b2; text-decoration-color: #b2b2b2\">3.07it/s</span> <span style=\"color: #c0c0c0; text-decoration-color: #c0c0c0\">loss: 1.05 v_num:  </span>\n",
       "</pre>\n"
      ],
      "text/plain": [
       "\u001b[37mEpoch 0   \u001b[0m \u001b[38;2;98;6;224m━━━━━━━━━━━━━━━━━━━━━━━━━━━━━━━\u001b[0m \u001b[37m2/2\u001b[0m \u001b[38;5;245m0:00:00 • 0:00:00\u001b[0m \u001b[38;5;249m3.07it/s\u001b[0m \u001b[37mloss: 1.05 v_num:  \u001b[0m\n"
      ]
     },
     "metadata": {},
     "output_type": "display_data"
    },
    {
     "data": {
      "text/html": [
       "<pre style=\"white-space:pre;overflow-x:auto;line-height:normal;font-family:Menlo,'DejaVu Sans Mono',consolas,'Courier New',monospace\">\n",
       "</pre>\n"
      ],
      "text/plain": [
       "\n"
      ]
     },
     "metadata": {},
     "output_type": "display_data"
    },
    {
     "name": "stdout",
     "output_type": "stream",
     "text": [
      "★★★★★★★★★★★★★★★★★★★★★★★★★  Fold3  ★★★★★★★★★★★★★★★★★★★★★★★★★\n",
      "Use Model: GroNLP/hateBERT\n"
     ]
    },
    {
     "name": "stderr",
     "output_type": "stream",
     "text": [
      "/opt/conda/lib/python3.7/site-packages/pytorch_lightning/trainer/connectors/callback_connector.py:91: LightningDeprecationWarning: Setting `Trainer(progress_bar_refresh_rate=1)` is deprecated in v1.5 and will be removed in v1.7. Please pass `pytorch_lightning.callbacks.progress.TQDMProgressBar` with `refresh_rate` directly to the Trainer's `callbacks` argument instead. Or, to disable the progress bar pass `enable_progress_bar = False` to the Trainer.\n",
      "  f\"Setting `Trainer(progress_bar_refresh_rate={progress_bar_refresh_rate})` is deprecated in v1.5 and\"\n"
     ]
    },
    {
     "data": {
      "text/html": [
       "<pre style=\"white-space:pre;overflow-x:auto;line-height:normal;font-family:Menlo,'DejaVu Sans Mono',consolas,'Courier New',monospace\">┏━━━┳━━━━━━━━━━━━┳━━━━━━━━━━━━━━━━━┳━━━━━━━━┓\n",
       "┃<span style=\"color: #800080; text-decoration-color: #800080; font-weight: bold\">   </span>┃<span style=\"color: #800080; text-decoration-color: #800080; font-weight: bold\"> Name       </span>┃<span style=\"color: #800080; text-decoration-color: #800080; font-weight: bold\"> Type            </span>┃<span style=\"color: #800080; text-decoration-color: #800080; font-weight: bold\"> Params </span>┃\n",
       "┡━━━╇━━━━━━━━━━━━╇━━━━━━━━━━━━━━━━━╇━━━━━━━━┩\n",
       "│<span style=\"color: #7f7f7f; text-decoration-color: #7f7f7f\"> 0 </span>│ base_model │ BertForMaskedLM │  109 M │\n",
       "│<span style=\"color: #7f7f7f; text-decoration-color: #7f7f7f\"> 1 </span>│ norm       │ LayerNorm       │  1.5 K │\n",
       "│<span style=\"color: #7f7f7f; text-decoration-color: #7f7f7f\"> 2 </span>│ drop       │ Dropout         │      0 │\n",
       "│<span style=\"color: #7f7f7f; text-decoration-color: #7f7f7f\"> 3 </span>│ head       │ Linear          │  4.6 K │\n",
       "│<span style=\"color: #7f7f7f; text-decoration-color: #7f7f7f\"> 4 </span>│ criterion  │ MSELoss         │      0 │\n",
       "└───┴────────────┴─────────────────┴────────┘\n",
       "</pre>\n"
      ],
      "text/plain": [
       "┏━━━┳━━━━━━━━━━━━┳━━━━━━━━━━━━━━━━━┳━━━━━━━━┓\n",
       "┃\u001b[1;35m \u001b[0m\u001b[1;35m \u001b[0m\u001b[1;35m \u001b[0m┃\u001b[1;35m \u001b[0m\u001b[1;35mName      \u001b[0m\u001b[1;35m \u001b[0m┃\u001b[1;35m \u001b[0m\u001b[1;35mType           \u001b[0m\u001b[1;35m \u001b[0m┃\u001b[1;35m \u001b[0m\u001b[1;35mParams\u001b[0m\u001b[1;35m \u001b[0m┃\n",
       "┡━━━╇━━━━━━━━━━━━╇━━━━━━━━━━━━━━━━━╇━━━━━━━━┩\n",
       "│\u001b[2m \u001b[0m\u001b[2m0\u001b[0m\u001b[2m \u001b[0m│ base_model │ BertForMaskedLM │  109 M │\n",
       "│\u001b[2m \u001b[0m\u001b[2m1\u001b[0m\u001b[2m \u001b[0m│ norm       │ LayerNorm       │  1.5 K │\n",
       "│\u001b[2m \u001b[0m\u001b[2m2\u001b[0m\u001b[2m \u001b[0m│ drop       │ Dropout         │      0 │\n",
       "│\u001b[2m \u001b[0m\u001b[2m3\u001b[0m\u001b[2m \u001b[0m│ head       │ Linear          │  4.6 K │\n",
       "│\u001b[2m \u001b[0m\u001b[2m4\u001b[0m\u001b[2m \u001b[0m│ criterion  │ MSELoss         │      0 │\n",
       "└───┴────────────┴─────────────────┴────────┘\n"
      ]
     },
     "metadata": {},
     "output_type": "display_data"
    },
    {
     "data": {
      "text/html": [
       "<pre style=\"white-space:pre;overflow-x:auto;line-height:normal;font-family:Menlo,'DejaVu Sans Mono',consolas,'Courier New',monospace\"><span style=\"font-weight: bold\">Trainable params</span>: 109 M                                                                      \n",
       "<span style=\"font-weight: bold\">Non-trainable params</span>: 0                                                                      \n",
       "<span style=\"font-weight: bold\">Total params</span>: 109 M                                                                          \n",
       "<span style=\"font-weight: bold\">Total estimated model params size (MB)</span>: 438                                                  \n",
       "</pre>\n"
      ],
      "text/plain": [
       "\u001b[1mTrainable params\u001b[0m: 109 M                                                                      \n",
       "\u001b[1mNon-trainable params\u001b[0m: 0                                                                      \n",
       "\u001b[1mTotal params\u001b[0m: 109 M                                                                          \n",
       "\u001b[1mTotal estimated model params size (MB)\u001b[0m: 438                                                  \n"
      ]
     },
     "metadata": {},
     "output_type": "display_data"
    },
    {
     "data": {
      "application/vnd.jupyter.widget-view+json": {
       "model_id": "8c7df1a9da714a87a104a4af9ecf9500",
       "version_major": 2,
       "version_minor": 0
      },
      "text/plain": [
       "Output()"
      ]
     },
     "metadata": {},
     "output_type": "display_data"
    },
    {
     "data": {
      "text/html": [
       "<pre style=\"white-space:pre;overflow-x:auto;line-height:normal;font-family:Menlo,'DejaVu Sans Mono',consolas,'Courier New',monospace\"><span style=\"color: #c0c0c0; text-decoration-color: #c0c0c0\">Epoch 0   </span> <span style=\"color: #6206e0; text-decoration-color: #6206e0\">━━━━━━━━━━━━━━━━━━━━━━━━━━━━━━</span> <span style=\"color: #c0c0c0; text-decoration-color: #c0c0c0\">2/2</span> <span style=\"color: #8a8a8a; text-decoration-color: #8a8a8a\">0:00:00 • 0:00:00</span> <span style=\"color: #b2b2b2; text-decoration-color: #b2b2b2\">2.99it/s</span> <span style=\"color: #c0c0c0; text-decoration-color: #c0c0c0\">loss: 0.685 v_num:  </span>\n",
       "</pre>\n"
      ],
      "text/plain": [
       "\u001b[37mEpoch 0   \u001b[0m \u001b[38;2;98;6;224m━━━━━━━━━━━━━━━━━━━━━━━━━━━━━━\u001b[0m \u001b[37m2/2\u001b[0m \u001b[38;5;245m0:00:00 • 0:00:00\u001b[0m \u001b[38;5;249m2.99it/s\u001b[0m \u001b[37mloss: 0.685 v_num:  \u001b[0m\n"
      ]
     },
     "metadata": {},
     "output_type": "display_data"
    },
    {
     "data": {
      "text/html": [
       "<pre style=\"white-space:pre;overflow-x:auto;line-height:normal;font-family:Menlo,'DejaVu Sans Mono',consolas,'Courier New',monospace\">\n",
       "</pre>\n"
      ],
      "text/plain": [
       "\n"
      ]
     },
     "metadata": {},
     "output_type": "display_data"
    },
    {
     "name": "stdout",
     "output_type": "stream",
     "text": [
      "★★★★★★★★★★★★★★★★★★★★★★★★★  Fold4  ★★★★★★★★★★★★★★★★★★★★★★★★★\n",
      "Use Model: GroNLP/hateBERT\n"
     ]
    },
    {
     "name": "stderr",
     "output_type": "stream",
     "text": [
      "/opt/conda/lib/python3.7/site-packages/pytorch_lightning/trainer/connectors/callback_connector.py:91: LightningDeprecationWarning: Setting `Trainer(progress_bar_refresh_rate=1)` is deprecated in v1.5 and will be removed in v1.7. Please pass `pytorch_lightning.callbacks.progress.TQDMProgressBar` with `refresh_rate` directly to the Trainer's `callbacks` argument instead. Or, to disable the progress bar pass `enable_progress_bar = False` to the Trainer.\n",
      "  f\"Setting `Trainer(progress_bar_refresh_rate={progress_bar_refresh_rate})` is deprecated in v1.5 and\"\n"
     ]
    },
    {
     "data": {
      "text/html": [
       "<pre style=\"white-space:pre;overflow-x:auto;line-height:normal;font-family:Menlo,'DejaVu Sans Mono',consolas,'Courier New',monospace\">┏━━━┳━━━━━━━━━━━━┳━━━━━━━━━━━━━━━━━┳━━━━━━━━┓\n",
       "┃<span style=\"color: #800080; text-decoration-color: #800080; font-weight: bold\">   </span>┃<span style=\"color: #800080; text-decoration-color: #800080; font-weight: bold\"> Name       </span>┃<span style=\"color: #800080; text-decoration-color: #800080; font-weight: bold\"> Type            </span>┃<span style=\"color: #800080; text-decoration-color: #800080; font-weight: bold\"> Params </span>┃\n",
       "┡━━━╇━━━━━━━━━━━━╇━━━━━━━━━━━━━━━━━╇━━━━━━━━┩\n",
       "│<span style=\"color: #7f7f7f; text-decoration-color: #7f7f7f\"> 0 </span>│ base_model │ BertForMaskedLM │  109 M │\n",
       "│<span style=\"color: #7f7f7f; text-decoration-color: #7f7f7f\"> 1 </span>│ norm       │ LayerNorm       │  1.5 K │\n",
       "│<span style=\"color: #7f7f7f; text-decoration-color: #7f7f7f\"> 2 </span>│ drop       │ Dropout         │      0 │\n",
       "│<span style=\"color: #7f7f7f; text-decoration-color: #7f7f7f\"> 3 </span>│ head       │ Linear          │  4.6 K │\n",
       "│<span style=\"color: #7f7f7f; text-decoration-color: #7f7f7f\"> 4 </span>│ criterion  │ MSELoss         │      0 │\n",
       "└───┴────────────┴─────────────────┴────────┘\n",
       "</pre>\n"
      ],
      "text/plain": [
       "┏━━━┳━━━━━━━━━━━━┳━━━━━━━━━━━━━━━━━┳━━━━━━━━┓\n",
       "┃\u001b[1;35m \u001b[0m\u001b[1;35m \u001b[0m\u001b[1;35m \u001b[0m┃\u001b[1;35m \u001b[0m\u001b[1;35mName      \u001b[0m\u001b[1;35m \u001b[0m┃\u001b[1;35m \u001b[0m\u001b[1;35mType           \u001b[0m\u001b[1;35m \u001b[0m┃\u001b[1;35m \u001b[0m\u001b[1;35mParams\u001b[0m\u001b[1;35m \u001b[0m┃\n",
       "┡━━━╇━━━━━━━━━━━━╇━━━━━━━━━━━━━━━━━╇━━━━━━━━┩\n",
       "│\u001b[2m \u001b[0m\u001b[2m0\u001b[0m\u001b[2m \u001b[0m│ base_model │ BertForMaskedLM │  109 M │\n",
       "│\u001b[2m \u001b[0m\u001b[2m1\u001b[0m\u001b[2m \u001b[0m│ norm       │ LayerNorm       │  1.5 K │\n",
       "│\u001b[2m \u001b[0m\u001b[2m2\u001b[0m\u001b[2m \u001b[0m│ drop       │ Dropout         │      0 │\n",
       "│\u001b[2m \u001b[0m\u001b[2m3\u001b[0m\u001b[2m \u001b[0m│ head       │ Linear          │  4.6 K │\n",
       "│\u001b[2m \u001b[0m\u001b[2m4\u001b[0m\u001b[2m \u001b[0m│ criterion  │ MSELoss         │      0 │\n",
       "└───┴────────────┴─────────────────┴────────┘\n"
      ]
     },
     "metadata": {},
     "output_type": "display_data"
    },
    {
     "data": {
      "text/html": [
       "<pre style=\"white-space:pre;overflow-x:auto;line-height:normal;font-family:Menlo,'DejaVu Sans Mono',consolas,'Courier New',monospace\"><span style=\"font-weight: bold\">Trainable params</span>: 109 M                                                                      \n",
       "<span style=\"font-weight: bold\">Non-trainable params</span>: 0                                                                      \n",
       "<span style=\"font-weight: bold\">Total params</span>: 109 M                                                                          \n",
       "<span style=\"font-weight: bold\">Total estimated model params size (MB)</span>: 438                                                  \n",
       "</pre>\n"
      ],
      "text/plain": [
       "\u001b[1mTrainable params\u001b[0m: 109 M                                                                      \n",
       "\u001b[1mNon-trainable params\u001b[0m: 0                                                                      \n",
       "\u001b[1mTotal params\u001b[0m: 109 M                                                                          \n",
       "\u001b[1mTotal estimated model params size (MB)\u001b[0m: 438                                                  \n"
      ]
     },
     "metadata": {},
     "output_type": "display_data"
    },
    {
     "data": {
      "application/vnd.jupyter.widget-view+json": {
       "model_id": "d6e46a24511a4c3a87ac08e201143102",
       "version_major": 2,
       "version_minor": 0
      },
      "text/plain": [
       "Output()"
      ]
     },
     "metadata": {},
     "output_type": "display_data"
    },
    {
     "data": {
      "text/html": [
       "<pre style=\"white-space:pre;overflow-x:auto;line-height:normal;font-family:Menlo,'DejaVu Sans Mono',consolas,'Courier New',monospace\"><span style=\"color: #c0c0c0; text-decoration-color: #c0c0c0\">Epoch 0   </span> <span style=\"color: #6206e0; text-decoration-color: #6206e0\">━━━━━━━━━━━━━━━━━━━━━━━━━━━━━━</span> <span style=\"color: #c0c0c0; text-decoration-color: #c0c0c0\">2/2</span> <span style=\"color: #8a8a8a; text-decoration-color: #8a8a8a\">0:00:00 • 0:00:00</span> <span style=\"color: #b2b2b2; text-decoration-color: #b2b2b2\">2.67it/s</span> <span style=\"color: #c0c0c0; text-decoration-color: #c0c0c0\">loss: 0.642 v_num:  </span>\n",
       "</pre>\n"
      ],
      "text/plain": [
       "\u001b[37mEpoch 0   \u001b[0m \u001b[38;2;98;6;224m━━━━━━━━━━━━━━━━━━━━━━━━━━━━━━\u001b[0m \u001b[37m2/2\u001b[0m \u001b[38;5;245m0:00:00 • 0:00:00\u001b[0m \u001b[38;5;249m2.67it/s\u001b[0m \u001b[37mloss: 0.642 v_num:  \u001b[0m\n"
      ]
     },
     "metadata": {},
     "output_type": "display_data"
    },
    {
     "data": {
      "text/html": [
       "<pre style=\"white-space:pre;overflow-x:auto;line-height:normal;font-family:Menlo,'DejaVu Sans Mono',consolas,'Courier New',monospace\">\n",
       "</pre>\n"
      ],
      "text/plain": [
       "\n"
      ]
     },
     "metadata": {},
     "output_type": "display_data"
    },
    {
     "name": "stdout",
     "output_type": "stream",
     "text": [
      "★★★★★★★★★★★★★★★★★★★★★★★★★  Fold5  ★★★★★★★★★★★★★★★★★★★★★★★★★\n",
      "Use Model: GroNLP/hateBERT\n"
     ]
    },
    {
     "name": "stderr",
     "output_type": "stream",
     "text": [
      "/opt/conda/lib/python3.7/site-packages/pytorch_lightning/trainer/connectors/callback_connector.py:91: LightningDeprecationWarning: Setting `Trainer(progress_bar_refresh_rate=1)` is deprecated in v1.5 and will be removed in v1.7. Please pass `pytorch_lightning.callbacks.progress.TQDMProgressBar` with `refresh_rate` directly to the Trainer's `callbacks` argument instead. Or, to disable the progress bar pass `enable_progress_bar = False` to the Trainer.\n",
      "  f\"Setting `Trainer(progress_bar_refresh_rate={progress_bar_refresh_rate})` is deprecated in v1.5 and\"\n"
     ]
    },
    {
     "data": {
      "text/html": [
       "<pre style=\"white-space:pre;overflow-x:auto;line-height:normal;font-family:Menlo,'DejaVu Sans Mono',consolas,'Courier New',monospace\">┏━━━┳━━━━━━━━━━━━┳━━━━━━━━━━━━━━━━━┳━━━━━━━━┓\n",
       "┃<span style=\"color: #800080; text-decoration-color: #800080; font-weight: bold\">   </span>┃<span style=\"color: #800080; text-decoration-color: #800080; font-weight: bold\"> Name       </span>┃<span style=\"color: #800080; text-decoration-color: #800080; font-weight: bold\"> Type            </span>┃<span style=\"color: #800080; text-decoration-color: #800080; font-weight: bold\"> Params </span>┃\n",
       "┡━━━╇━━━━━━━━━━━━╇━━━━━━━━━━━━━━━━━╇━━━━━━━━┩\n",
       "│<span style=\"color: #7f7f7f; text-decoration-color: #7f7f7f\"> 0 </span>│ base_model │ BertForMaskedLM │  109 M │\n",
       "│<span style=\"color: #7f7f7f; text-decoration-color: #7f7f7f\"> 1 </span>│ norm       │ LayerNorm       │  1.5 K │\n",
       "│<span style=\"color: #7f7f7f; text-decoration-color: #7f7f7f\"> 2 </span>│ drop       │ Dropout         │      0 │\n",
       "│<span style=\"color: #7f7f7f; text-decoration-color: #7f7f7f\"> 3 </span>│ head       │ Linear          │  4.6 K │\n",
       "│<span style=\"color: #7f7f7f; text-decoration-color: #7f7f7f\"> 4 </span>│ criterion  │ MSELoss         │      0 │\n",
       "└───┴────────────┴─────────────────┴────────┘\n",
       "</pre>\n"
      ],
      "text/plain": [
       "┏━━━┳━━━━━━━━━━━━┳━━━━━━━━━━━━━━━━━┳━━━━━━━━┓\n",
       "┃\u001b[1;35m \u001b[0m\u001b[1;35m \u001b[0m\u001b[1;35m \u001b[0m┃\u001b[1;35m \u001b[0m\u001b[1;35mName      \u001b[0m\u001b[1;35m \u001b[0m┃\u001b[1;35m \u001b[0m\u001b[1;35mType           \u001b[0m\u001b[1;35m \u001b[0m┃\u001b[1;35m \u001b[0m\u001b[1;35mParams\u001b[0m\u001b[1;35m \u001b[0m┃\n",
       "┡━━━╇━━━━━━━━━━━━╇━━━━━━━━━━━━━━━━━╇━━━━━━━━┩\n",
       "│\u001b[2m \u001b[0m\u001b[2m0\u001b[0m\u001b[2m \u001b[0m│ base_model │ BertForMaskedLM │  109 M │\n",
       "│\u001b[2m \u001b[0m\u001b[2m1\u001b[0m\u001b[2m \u001b[0m│ norm       │ LayerNorm       │  1.5 K │\n",
       "│\u001b[2m \u001b[0m\u001b[2m2\u001b[0m\u001b[2m \u001b[0m│ drop       │ Dropout         │      0 │\n",
       "│\u001b[2m \u001b[0m\u001b[2m3\u001b[0m\u001b[2m \u001b[0m│ head       │ Linear          │  4.6 K │\n",
       "│\u001b[2m \u001b[0m\u001b[2m4\u001b[0m\u001b[2m \u001b[0m│ criterion  │ MSELoss         │      0 │\n",
       "└───┴────────────┴─────────────────┴────────┘\n"
      ]
     },
     "metadata": {},
     "output_type": "display_data"
    },
    {
     "data": {
      "text/html": [
       "<pre style=\"white-space:pre;overflow-x:auto;line-height:normal;font-family:Menlo,'DejaVu Sans Mono',consolas,'Courier New',monospace\"><span style=\"font-weight: bold\">Trainable params</span>: 109 M                                                                      \n",
       "<span style=\"font-weight: bold\">Non-trainable params</span>: 0                                                                      \n",
       "<span style=\"font-weight: bold\">Total params</span>: 109 M                                                                          \n",
       "<span style=\"font-weight: bold\">Total estimated model params size (MB)</span>: 438                                                  \n",
       "</pre>\n"
      ],
      "text/plain": [
       "\u001b[1mTrainable params\u001b[0m: 109 M                                                                      \n",
       "\u001b[1mNon-trainable params\u001b[0m: 0                                                                      \n",
       "\u001b[1mTotal params\u001b[0m: 109 M                                                                          \n",
       "\u001b[1mTotal estimated model params size (MB)\u001b[0m: 438                                                  \n"
      ]
     },
     "metadata": {},
     "output_type": "display_data"
    },
    {
     "data": {
      "application/vnd.jupyter.widget-view+json": {
       "model_id": "dcd5dbcc4808477f8cef06b7587a086f",
       "version_major": 2,
       "version_minor": 0
      },
      "text/plain": [
       "Output()"
      ]
     },
     "metadata": {},
     "output_type": "display_data"
    },
    {
     "data": {
      "text/html": [
       "<pre style=\"white-space:pre;overflow-x:auto;line-height:normal;font-family:Menlo,'DejaVu Sans Mono',consolas,'Courier New',monospace\"><span style=\"color: #c0c0c0; text-decoration-color: #c0c0c0\">Epoch 0   </span> <span style=\"color: #6206e0; text-decoration-color: #6206e0\">━━━━━━━━━━━━━━━━━━━━━━━━━━━━━━━</span> <span style=\"color: #c0c0c0; text-decoration-color: #c0c0c0\">2/2</span> <span style=\"color: #8a8a8a; text-decoration-color: #8a8a8a\">0:00:00 • 0:00:00</span> <span style=\"color: #b2b2b2; text-decoration-color: #b2b2b2\">2.76it/s</span> <span style=\"color: #c0c0c0; text-decoration-color: #c0c0c0\">loss: 0.78 v_num:  </span>\n",
       "</pre>\n"
      ],
      "text/plain": [
       "\u001b[37mEpoch 0   \u001b[0m \u001b[38;2;98;6;224m━━━━━━━━━━━━━━━━━━━━━━━━━━━━━━━\u001b[0m \u001b[37m2/2\u001b[0m \u001b[38;5;245m0:00:00 • 0:00:00\u001b[0m \u001b[38;5;249m2.76it/s\u001b[0m \u001b[37mloss: 0.78 v_num:  \u001b[0m\n"
      ]
     },
     "metadata": {},
     "output_type": "display_data"
    },
    {
     "data": {
      "text/html": [
       "<pre style=\"white-space:pre;overflow-x:auto;line-height:normal;font-family:Menlo,'DejaVu Sans Mono',consolas,'Courier New',monospace\">\n",
       "</pre>\n"
      ],
      "text/plain": [
       "\n"
      ]
     },
     "metadata": {},
     "output_type": "display_data"
    }
   ],
   "source": [
    "## Debug\n",
    "config.trainer.fast_dev_run = True\n",
    "config.backbone.output_dim = len(target_cols)\n",
    "\n",
    "for fold in config.train_fold:\n",
    "    \n",
    "    print(\"★\"*25, f\" Fold{fold+1} \", \"★\"*25)\n",
    "\n",
    "    df_train = train_df[train_df.kfold != fold].reset_index(drop=True)\n",
    "\n",
    "    datamodule = JigsawDataModule(df_train, val_df, test_df, config)\n",
    "    sample_dataloader = JigsawDataModule(df_train, val_df, test_df, config).train_dataloader()\n",
    "\n",
    "    config.scheduler.params.T_0 = config.epoch * len(sample_dataloader)\n",
    "    model = JigsawModel(config, fold)\n",
    "    lr_monitor = callbacks.LearningRateMonitor()\n",
    "\n",
    "    loss_checkpoint = callbacks.ModelCheckpoint(\n",
    "        filename=f\"best_acc_fold{fold+1}\",\n",
    "        monitor=f\"valid_acc/fold{fold+1}\",\n",
    "        save_top_k=1,\n",
    "        mode=\"max\",\n",
    "        save_last=False,\n",
    "        dirpath=MODEL_DIR,\n",
    "        save_weights_only=True,\n",
    "    )\n",
    "\n",
    "    wandb_logger = WandbLogger(\n",
    "        project=config.project, \n",
    "        entity=config.entity,\n",
    "        name = f\"{config.exp_name}\",\n",
    "        tags = ['Hate-BERT', \"Jigsaw-Unbiased\"]\n",
    "    )\n",
    "\n",
    "    lr_monitor = LearningRateMonitor(logging_interval='step')\n",
    "\n",
    "    trainer = pl.Trainer(\n",
    "        max_epochs=config.epoch,\n",
    "        callbacks=[loss_checkpoint, lr_monitor, RichProgressBar()],\n",
    "#         deterministic=True,\n",
    "        logger=[wandb_logger],\n",
    "        **config.trainer\n",
    "    )\n",
    "    trainer.fit(model, datamodule=datamodule)"
   ]
  },
  {
   "cell_type": "code",
   "execution_count": null,
   "id": "bef38fc4",
   "metadata": {},
   "outputs": [
    {
     "name": "stdout",
     "output_type": "stream",
     "text": [
      "★★★★★★★★★★★★★★★★★★★★★★★★★  Fold1  ★★★★★★★★★★★★★★★★★★★★★★★★★\n",
      "Use Model: GroNLP/hateBERT\n"
     ]
    },
    {
     "name": "stderr",
     "output_type": "stream",
     "text": [
      "/opt/conda/lib/python3.7/site-packages/pytorch_lightning/trainer/connectors/callback_connector.py:91: LightningDeprecationWarning: Setting `Trainer(progress_bar_refresh_rate=1)` is deprecated in v1.5 and will be removed in v1.7. Please pass `pytorch_lightning.callbacks.progress.TQDMProgressBar` with `refresh_rate` directly to the Trainer's `callbacks` argument instead. Or, to disable the progress bar pass `enable_progress_bar = False` to the Trainer.\n",
      "  f\"Setting `Trainer(progress_bar_refresh_rate={progress_bar_refresh_rate})` is deprecated in v1.5 and\"\n",
      "\u001b[34m\u001b[1mwandb\u001b[0m: Currently logged in as: \u001b[33mdataskywalker\u001b[0m (use `wandb login --relogin` to force relogin)\n",
      "\u001b[34m\u001b[1mwandb\u001b[0m: wandb version 0.12.9 is available!  To upgrade, please run:\n",
      "\u001b[34m\u001b[1mwandb\u001b[0m:  $ pip install wandb --upgrade\n",
      "2022-01-28 06:15:25.592497: I tensorflow/stream_executor/platform/default/dso_loader.cc:49] Successfully opened dynamic library libcudart.so.11.0\n",
      "fatal: ambiguous argument 'HEAD': unknown revision or path not in the working tree.\n",
      "Use '--' to separate paths from revisions, like this:\n",
      "'git <command> [<revision>...] -- [<file>...]'\n",
      "\n",
      "CondaEnvException: Unable to determine environment\n",
      "\n",
      "Please re-run this command with one of the following options:\n",
      "\n",
      "* Provide an environment name via --name or -n\n",
      "* Re-run this command inside an activated conda environment.\n",
      "\n"
     ]
    },
    {
     "data": {
      "text/html": [
       "\n",
       "                Tracking run with wandb version 0.11.2<br/>\n",
       "                Syncing run <strong style=\"color:#cdcd00\">035_exp</strong> to <a href=\"https://wandb.ai\" target=\"_blank\">Weights & Biases</a> <a href=\"https://docs.wandb.com/integrations/jupyter.html\" target=\"_blank\">(Documentation)</a>.<br/>\n",
       "                Project page: <a href=\"https://wandb.ai/dataskywalker/Jigsaw\" target=\"_blank\">https://wandb.ai/dataskywalker/Jigsaw</a><br/>\n",
       "                Run page: <a href=\"https://wandb.ai/dataskywalker/Jigsaw/runs/3urqceav\" target=\"_blank\">https://wandb.ai/dataskywalker/Jigsaw/runs/3urqceav</a><br/>\n",
       "                Run data is saved locally in <code>/mnt/work/shimizu/kaggle/Jigsaw/notebooks/wandb/run-20220128_061523-3urqceav</code><br/><br/>\n",
       "            "
      ],
      "text/plain": [
       "<IPython.core.display.HTML object>"
      ]
     },
     "metadata": {},
     "output_type": "display_data"
    },
    {
     "data": {
      "text/html": [
       "<pre style=\"white-space:pre;overflow-x:auto;line-height:normal;font-family:Menlo,'DejaVu Sans Mono',consolas,'Courier New',monospace\">┏━━━┳━━━━━━━━━━━━┳━━━━━━━━━━━━━━━━━┳━━━━━━━━┓\n",
       "┃<span style=\"color: #800080; text-decoration-color: #800080; font-weight: bold\">   </span>┃<span style=\"color: #800080; text-decoration-color: #800080; font-weight: bold\"> Name       </span>┃<span style=\"color: #800080; text-decoration-color: #800080; font-weight: bold\"> Type            </span>┃<span style=\"color: #800080; text-decoration-color: #800080; font-weight: bold\"> Params </span>┃\n",
       "┡━━━╇━━━━━━━━━━━━╇━━━━━━━━━━━━━━━━━╇━━━━━━━━┩\n",
       "│<span style=\"color: #7f7f7f; text-decoration-color: #7f7f7f\"> 0 </span>│ base_model │ BertForMaskedLM │  109 M │\n",
       "│<span style=\"color: #7f7f7f; text-decoration-color: #7f7f7f\"> 1 </span>│ norm       │ LayerNorm       │  1.5 K │\n",
       "│<span style=\"color: #7f7f7f; text-decoration-color: #7f7f7f\"> 2 </span>│ drop       │ Dropout         │      0 │\n",
       "│<span style=\"color: #7f7f7f; text-decoration-color: #7f7f7f\"> 3 </span>│ head       │ Linear          │  4.6 K │\n",
       "│<span style=\"color: #7f7f7f; text-decoration-color: #7f7f7f\"> 4 </span>│ criterion  │ MSELoss         │      0 │\n",
       "└───┴────────────┴─────────────────┴────────┘\n",
       "</pre>\n"
      ],
      "text/plain": [
       "┏━━━┳━━━━━━━━━━━━┳━━━━━━━━━━━━━━━━━┳━━━━━━━━┓\n",
       "┃\u001b[1;35m \u001b[0m\u001b[1;35m \u001b[0m\u001b[1;35m \u001b[0m┃\u001b[1;35m \u001b[0m\u001b[1;35mName      \u001b[0m\u001b[1;35m \u001b[0m┃\u001b[1;35m \u001b[0m\u001b[1;35mType           \u001b[0m\u001b[1;35m \u001b[0m┃\u001b[1;35m \u001b[0m\u001b[1;35mParams\u001b[0m\u001b[1;35m \u001b[0m┃\n",
       "┡━━━╇━━━━━━━━━━━━╇━━━━━━━━━━━━━━━━━╇━━━━━━━━┩\n",
       "│\u001b[2m \u001b[0m\u001b[2m0\u001b[0m\u001b[2m \u001b[0m│ base_model │ BertForMaskedLM │  109 M │\n",
       "│\u001b[2m \u001b[0m\u001b[2m1\u001b[0m\u001b[2m \u001b[0m│ norm       │ LayerNorm       │  1.5 K │\n",
       "│\u001b[2m \u001b[0m\u001b[2m2\u001b[0m\u001b[2m \u001b[0m│ drop       │ Dropout         │      0 │\n",
       "│\u001b[2m \u001b[0m\u001b[2m3\u001b[0m\u001b[2m \u001b[0m│ head       │ Linear          │  4.6 K │\n",
       "│\u001b[2m \u001b[0m\u001b[2m4\u001b[0m\u001b[2m \u001b[0m│ criterion  │ MSELoss         │      0 │\n",
       "└───┴────────────┴─────────────────┴────────┘\n"
      ]
     },
     "metadata": {},
     "output_type": "display_data"
    },
    {
     "data": {
      "text/html": [
       "<pre style=\"white-space:pre;overflow-x:auto;line-height:normal;font-family:Menlo,'DejaVu Sans Mono',consolas,'Courier New',monospace\"><span style=\"font-weight: bold\">Trainable params</span>: 109 M                                                                      \n",
       "<span style=\"font-weight: bold\">Non-trainable params</span>: 0                                                                      \n",
       "<span style=\"font-weight: bold\">Total params</span>: 109 M                                                                          \n",
       "<span style=\"font-weight: bold\">Total estimated model params size (MB)</span>: 438                                                  \n",
       "</pre>\n"
      ],
      "text/plain": [
       "\u001b[1mTrainable params\u001b[0m: 109 M                                                                      \n",
       "\u001b[1mNon-trainable params\u001b[0m: 0                                                                      \n",
       "\u001b[1mTotal params\u001b[0m: 109 M                                                                          \n",
       "\u001b[1mTotal estimated model params size (MB)\u001b[0m: 438                                                  \n"
      ]
     },
     "metadata": {},
     "output_type": "display_data"
    },
    {
     "data": {
      "application/vnd.jupyter.widget-view+json": {
       "model_id": "3bb22994b4354fb4a5f4dff242c2aadd",
       "version_major": 2,
       "version_minor": 0
      },
      "text/plain": [
       "Output()"
      ]
     },
     "metadata": {},
     "output_type": "display_data"
    }
   ],
   "source": [
    "## Training\n",
    "config.trainer.fast_dev_run = False\n",
    "config.backbone.output_dim = len(target_cols)\n",
    "\n",
    "for fold in config.train_fold:\n",
    "    \n",
    "    print(\"★\"*25, f\" Fold{fold+1} \", \"★\"*25)\n",
    "\n",
    "    df_train = train_df[train_df.kfold != fold].reset_index(drop=True)\n",
    "\n",
    "    datamodule = JigsawDataModule(df_train, val_df, test_df, config)\n",
    "    sample_dataloader = JigsawDataModule(df_train, val_df, test_df, config).train_dataloader()\n",
    "\n",
    "    config.scheduler.params.T_0 = config.epoch * len(sample_dataloader)\n",
    "    model = JigsawModel(config, fold)\n",
    "    lr_monitor = callbacks.LearningRateMonitor()\n",
    "\n",
    "    loss_checkpoint = callbacks.ModelCheckpoint(\n",
    "        filename=f\"best_acc_fold{fold+1}\",\n",
    "        monitor=f\"valid_acc/fold{fold+1}\",\n",
    "        save_top_k=1,\n",
    "        mode=\"max\",\n",
    "        save_last=False,\n",
    "        dirpath=MODEL_DIR,\n",
    "        save_weights_only=True,\n",
    "    )\n",
    "\n",
    "    wandb_logger = WandbLogger(\n",
    "        project=config.project, \n",
    "        entity=config.entity,\n",
    "        name = f\"{config.exp_name}\",\n",
    "        tags = ['Hate-BERT', \"Jigsaw-Unbiased\"]\n",
    "    )\n",
    "\n",
    "    lr_monitor = LearningRateMonitor(logging_interval='step')\n",
    "\n",
    "    trainer = pl.Trainer(\n",
    "        max_epochs=config.epoch,\n",
    "        callbacks=[loss_checkpoint, lr_monitor, RichProgressBar()],\n",
    "#         deterministic=True,\n",
    "        logger=[wandb_logger],\n",
    "        **config.trainer\n",
    "    )\n",
    "    trainer.fit(model, datamodule=datamodule)"
   ]
  },
  {
   "cell_type": "code",
   "execution_count": 27,
   "id": "b38981d2",
   "metadata": {},
   "outputs": [
    {
     "name": "stdout",
     "output_type": "stream",
     "text": [
      "Device == cuda\n",
      "★★★★★★★★★★★★★★★★★★★★★★★★★  Fold1  ★★★★★★★★★★★★★★★★★★★★★★★★★\n",
      "Use Model: GroNLP/hateBERT\n",
      "Use Model: GroNLP/hateBERT\n"
     ]
    },
    {
     "data": {
      "application/vnd.jupyter.widget-view+json": {
       "model_id": "86729773b52c482abaff31ef8091300c",
       "version_major": 2,
       "version_minor": 0
      },
      "text/plain": [
       "  0%|          | 0/15054 [00:00<?, ?it/s]"
      ]
     },
     "metadata": {},
     "output_type": "display_data"
    },
    {
     "name": "stdout",
     "output_type": "stream",
     "text": [
      "★★★★★★★★★★★★★★★★★★★★★★★★★  Fold2  ★★★★★★★★★★★★★★★★★★★★★★★★★\n",
      "Use Model: GroNLP/hateBERT\n",
      "Use Model: GroNLP/hateBERT\n"
     ]
    },
    {
     "data": {
      "application/vnd.jupyter.widget-view+json": {
       "model_id": "c06e2fe4de734442abd0fd9e01b3a175",
       "version_major": 2,
       "version_minor": 0
      },
      "text/plain": [
       "  0%|          | 0/15054 [00:00<?, ?it/s]"
      ]
     },
     "metadata": {},
     "output_type": "display_data"
    },
    {
     "name": "stdout",
     "output_type": "stream",
     "text": [
      "★★★★★★★★★★★★★★★★★★★★★★★★★  Fold3  ★★★★★★★★★★★★★★★★★★★★★★★★★\n",
      "Use Model: GroNLP/hateBERT\n",
      "Use Model: GroNLP/hateBERT\n"
     ]
    },
    {
     "data": {
      "application/vnd.jupyter.widget-view+json": {
       "model_id": "b52a0740120241b785dda85e530e5cc4",
       "version_major": 2,
       "version_minor": 0
      },
      "text/plain": [
       "  0%|          | 0/15054 [00:00<?, ?it/s]"
      ]
     },
     "metadata": {},
     "output_type": "display_data"
    },
    {
     "name": "stdout",
     "output_type": "stream",
     "text": [
      "★★★★★★★★★★★★★★★★★★★★★★★★★  Fold4  ★★★★★★★★★★★★★★★★★★★★★★★★★\n",
      "Use Model: GroNLP/hateBERT\n",
      "Use Model: GroNLP/hateBERT\n"
     ]
    },
    {
     "data": {
      "application/vnd.jupyter.widget-view+json": {
       "model_id": "0b0daeefec184312bc75a94baf41d2d6",
       "version_major": 2,
       "version_minor": 0
      },
      "text/plain": [
       "  0%|          | 0/15054 [00:00<?, ?it/s]"
      ]
     },
     "metadata": {},
     "output_type": "display_data"
    },
    {
     "name": "stdout",
     "output_type": "stream",
     "text": [
      "★★★★★★★★★★★★★★★★★★★★★★★★★  Fold5  ★★★★★★★★★★★★★★★★★★★★★★★★★\n",
      "Use Model: GroNLP/hateBERT\n",
      "Use Model: GroNLP/hateBERT\n"
     ]
    },
    {
     "data": {
      "application/vnd.jupyter.widget-view+json": {
       "model_id": "74817f0dd9e349d0ac7584e4f643fcd8",
       "version_major": 2,
       "version_minor": 0
      },
      "text/plain": [
       "  0%|          | 0/15054 [00:00<?, ?it/s]"
      ]
     },
     "metadata": {},
     "output_type": "display_data"
    }
   ],
   "source": [
    "device = torch.device('cuda' if torch.cuda.is_available() else 'cpu')\n",
    "config.backbone.output_dim = len(target_cols)\n",
    "\n",
    "print(f\"Device == {device}\")\n",
    "\n",
    "MORE = np.zeros((len(val_df), config.backbone.output_dim))\n",
    "LESS = np.zeros((len(val_df), config.backbone.output_dim))\n",
    "PRED = np.zeros((len(test_df), config.backbone.output_dim))\n",
    "\n",
    "attention_array = np.zeros((len(val_df), 256)) # attention格納\n",
    "mask_array = np.zeros((len(val_df), 256)) # mask情報格納,後でattentionと掛け合わせる\n",
    "\n",
    "for fold in config.train_fold:\n",
    "\n",
    "    pred_list = []\n",
    "    print(\"★\"*25, f\" Fold{fold+1} \", \"★\"*25)\n",
    "\n",
    "    valid_dataloader = JigsawDataModule(train_df, val_df, test_df, config).val_dataloader()\n",
    "    model = JigsawModel(config, fold)\n",
    "\n",
    "    loss_checkpoint = callbacks.ModelCheckpoint(\n",
    "        filename=f\"best_acc_fold{fold+1}\",\n",
    "        monitor=f\"valid_acc/fold{fold+1}\",\n",
    "        save_top_k=1,\n",
    "        mode=\"max\",\n",
    "        save_last=False,\n",
    "        dirpath=\"../input/toxicroberta/\",\n",
    "    )\n",
    "    model = model.load_from_checkpoint(MODEL_DIR/f\"best_acc_fold{fold+1}.ckpt\", cfg=config, fold_num=fold)\n",
    "    model.to(device)\n",
    "    model.eval()\n",
    "    \n",
    "    more_list = []\n",
    "    less_list = []\n",
    "    \n",
    "    for step, data in tqdm(enumerate(valid_dataloader), total=len(valid_dataloader)):\n",
    "\n",
    "        more_toxic_ids = data['more_toxic_ids'].to(device)\n",
    "        more_toxic_mask = data['more_toxic_mask'].to(device)\n",
    "        more_text_token_type_ids = data['more_token_type_ids'].to(device)\n",
    "        \n",
    "        less_toxic_ids = data['less_toxic_ids'].to(device)\n",
    "        less_toxic_mask = data['less_toxic_mask'].to(device)\n",
    "        less_text_token_type_ids = data['less_token_type_ids'].to(device)\n",
    "        \n",
    "        more_outputs = model(\n",
    "            more_toxic_ids, \n",
    "            more_toxic_mask,\n",
    "            more_text_token_type_ids,\n",
    "        )\n",
    "        \n",
    "        less_outputs = model(\n",
    "            less_toxic_ids, \n",
    "            less_toxic_mask,\n",
    "            less_text_token_type_ids\n",
    "        )\n",
    "        \n",
    "        more_list.append(more_outputs[\"logits\"].detach().cpu().numpy())\n",
    "        less_list.append(less_outputs[\"logits\"].detach().cpu().numpy())\n",
    "\n",
    "    MORE += np.concatenate(more_list)/len(config.train_fold)\n",
    "    LESS += np.concatenate(less_list)/len(config.train_fold)\n",
    "#     PRED += pred_list/len(config.train_fold)"
   ]
  },
  {
   "cell_type": "code",
   "execution_count": 28,
   "id": "537fb058",
   "metadata": {},
   "outputs": [
    {
     "data": {
      "image/png": "[encoded data removed]",
      "text/plain": [
       "<Figure size 864x360 with 1 Axes>"
      ]
     },
     "metadata": {
      "needs_background": "light"
     },
     "output_type": "display_data"
    }
   ],
   "source": [
    "plt.figure(figsize=(12, 5))\n",
    "plt.scatter(LESS, MORE)\n",
    "plt.xlabel(\"less-toxic\")\n",
    "plt.ylabel(\"more-toxic\")\n",
    "plt.grid()\n",
    "plt.show()"
   ]
  },
  {
   "cell_type": "code",
   "execution_count": 30,
   "id": "30a144cf",
   "metadata": {},
   "outputs": [
    {
     "name": "stdout",
     "output_type": "stream",
     "text": [
      "HATE-BERT Jigsaw-Classification Score: 0.686429\n"
     ]
    }
   ],
   "source": [
    "val_df[\"less_attack\"] = LESS.sum(axis=1)\n",
    "val_df[\"more_attack\"] = MORE.sum(axis=1)\n",
    "val_df[\"diff_attack\"] = val_df[\"more_attack\"] - val_df[\"less_attack\"]\n",
    "attack_score = val_df[val_df[\"diff_attack\"]>0][\"diff_attack\"].count()/len(val_df)\n",
    "print(f\"HATE-BERT Jigsaw-Classification Score: {attack_score:.6f}\")"
   ]
  },
  {
   "cell_type": "markdown",
   "id": "c0bbd6d6",
   "metadata": {},
   "source": [
    "<br>\n",
    "<h2 style = \"font-size:45px;\n",
    "             font-family:Comic Sans MS ;\n",
    "             font-weight : normal;\n",
    "             background-color: #eeebf1 ;\n",
    "             color : #4c1c84;\n",
    "             text-align: center; \n",
    "             border-radius: 100px 100px;\">\n",
    "    Attention Visualize\n",
    "</h2>\n",
    "<br>"
   ]
  },
  {
   "cell_type": "code",
   "execution_count": 31,
   "id": "cd2baf75",
   "metadata": {},
   "outputs": [
    {
     "data": {
      "text/html": [
       "<div>\n",
       "<style scoped>\n",
       "    .dataframe tbody tr th:only-of-type {\n",
       "        vertical-align: middle;\n",
       "    }\n",
       "\n",
       "    .dataframe tbody tr th {\n",
       "        vertical-align: top;\n",
       "    }\n",
       "\n",
       "    .dataframe thead th {\n",
       "        text-align: right;\n",
       "    }\n",
       "</style>\n",
       "<table border=\"1\" class=\"dataframe\">\n",
       "  <thead>\n",
       "    <tr style=\"text-align: right;\">\n",
       "      <th></th>\n",
       "      <th>text</th>\n",
       "    </tr>\n",
       "  </thead>\n",
       "  <tbody>\n",
       "    <tr>\n",
       "      <th>0</th>\n",
       "      <td>so now we i toast ha ha so were toast i we mm ...</td>\n",
       "    </tr>\n",
       "    <tr>\n",
       "      <th>1</th>\n",
       "      <td>caltlas if you continue to rev it i will blank...</td>\n",
       "    </tr>\n",
       "    <tr>\n",
       "      <th>2</th>\n",
       "      <td>as for kuru he she apparently can i read eithe...</td>\n",
       "    </tr>\n",
       "    <tr>\n",
       "      <th>3</th>\n",
       "      <td>oh look a fucking islamist with admin powers f...</td>\n",
       "    </tr>\n",
       "    <tr>\n",
       "      <th>4</th>\n",
       "      <td>your edits to a certain airport please refrain...</td>\n",
       "    </tr>\n",
       "  </tbody>\n",
       "</table>\n",
       "</div>"
      ],
      "text/plain": [
       "                                                text\n",
       "0  so now we i toast ha ha so were toast i we mm ...\n",
       "1  caltlas if you continue to rev it i will blank...\n",
       "2  as for kuru he she apparently can i read eithe...\n",
       "3  oh look a fucking islamist with admin powers f...\n",
       "4  your edits to a certain airport please refrain..."
      ]
     },
     "metadata": {},
     "output_type": "display_data"
    },
    {
     "data": {
      "text/plain": [
       "(14317, 1)"
      ]
     },
     "metadata": {},
     "output_type": "display_data"
    }
   ],
   "source": [
    "text_df = pd.DataFrame()\n",
    "text_df[\"text\"] = list(set(val_df[\"less_toxic\"].unique().tolist() + val_df[\"more_toxic\"].unique().tolist()))\n",
    "\n",
    "display(text_df.head())\n",
    "display(text_df.shape)"
   ]
  },
  {
   "cell_type": "code",
   "execution_count": 32,
   "id": "3d799a0a",
   "metadata": {},
   "outputs": [
    {
     "name": "stdout",
     "output_type": "stream",
     "text": [
      "Device == cuda\n",
      "★★★★★★★★★★★★★★★★★★★★★★★★★  Fold1  ★★★★★★★★★★★★★★★★★★★★★★★★★\n",
      "Use Model: GroNLP/hateBERT\n",
      "Use Model: GroNLP/hateBERT\n"
     ]
    },
    {
     "data": {
      "application/vnd.jupyter.widget-view+json": {
       "model_id": "23d4127df03548a48aaf900a9d11f5ad",
       "version_major": 2,
       "version_minor": 0
      },
      "text/plain": [
       "  0%|          | 0/7159 [00:00<?, ?it/s]"
      ]
     },
     "metadata": {},
     "output_type": "display_data"
    },
    {
     "name": "stdout",
     "output_type": "stream",
     "text": [
      "★★★★★★★★★★★★★★★★★★★★★★★★★  Fold2  ★★★★★★★★★★★★★★★★★★★★★★★★★\n",
      "Use Model: GroNLP/hateBERT\n",
      "Use Model: GroNLP/hateBERT\n"
     ]
    },
    {
     "data": {
      "application/vnd.jupyter.widget-view+json": {
       "model_id": "2eb597d0427a4738af731455de7c8671",
       "version_major": 2,
       "version_minor": 0
      },
      "text/plain": [
       "  0%|          | 0/7159 [00:00<?, ?it/s]"
      ]
     },
     "metadata": {},
     "output_type": "display_data"
    },
    {
     "name": "stdout",
     "output_type": "stream",
     "text": [
      "★★★★★★★★★★★★★★★★★★★★★★★★★  Fold3  ★★★★★★★★★★★★★★★★★★★★★★★★★\n",
      "Use Model: GroNLP/hateBERT\n",
      "Use Model: GroNLP/hateBERT\n"
     ]
    },
    {
     "data": {
      "application/vnd.jupyter.widget-view+json": {
       "model_id": "b93d1a54e59a48cba38cac81274da413",
       "version_major": 2,
       "version_minor": 0
      },
      "text/plain": [
       "  0%|          | 0/7159 [00:00<?, ?it/s]"
      ]
     },
     "metadata": {},
     "output_type": "display_data"
    },
    {
     "name": "stdout",
     "output_type": "stream",
     "text": [
      "★★★★★★★★★★★★★★★★★★★★★★★★★  Fold4  ★★★★★★★★★★★★★★★★★★★★★★★★★\n",
      "Use Model: GroNLP/hateBERT\n",
      "Use Model: GroNLP/hateBERT\n"
     ]
    },
    {
     "data": {
      "application/vnd.jupyter.widget-view+json": {
       "model_id": "7041e5169a864becb86bdda481232889",
       "version_major": 2,
       "version_minor": 0
      },
      "text/plain": [
       "  0%|          | 0/7159 [00:00<?, ?it/s]"
      ]
     },
     "metadata": {},
     "output_type": "display_data"
    },
    {
     "name": "stdout",
     "output_type": "stream",
     "text": [
      "★★★★★★★★★★★★★★★★★★★★★★★★★  Fold5  ★★★★★★★★★★★★★★★★★★★★★★★★★\n",
      "Use Model: GroNLP/hateBERT\n",
      "Use Model: GroNLP/hateBERT\n"
     ]
    },
    {
     "data": {
      "application/vnd.jupyter.widget-view+json": {
       "model_id": "16bf2885feac42a78f5ecbfcafbca0ff",
       "version_major": 2,
       "version_minor": 0
      },
      "text/plain": [
       "  0%|          | 0/7159 [00:00<?, ?it/s]"
      ]
     },
     "metadata": {},
     "output_type": "display_data"
    }
   ],
   "source": [
    "device = torch.device('cuda' if torch.cuda.is_available() else 'cpu')\n",
    "config.backbone.output_dim = len(target_cols)\n",
    "\n",
    "print(f\"Device == {device}\")\n",
    "\n",
    "attention_array = np.zeros((len(text_df), config.max_length)) # attention格納\n",
    "mask_array = np.zeros((len(text_df), config.max_length)) # mask情報格納,後でattentionと掛け合わせる\n",
    "feature_array = np.zeros((len(text_df), 768))\n",
    "PRED = np.zeros((len(text_df), config.backbone.output_dim))\n",
    "\n",
    "for fold in config.train_fold:\n",
    "\n",
    "    pred_list = []\n",
    "    print(\"★\"*25, f\" Fold{fold+1} \", \"★\"*25)\n",
    "\n",
    "    test_dataloader = JigsawDataModule(train_df, val_df, text_df, config).test_dataloader()\n",
    "    model = JigsawModel(config, fold)\n",
    "\n",
    "    loss_checkpoint = callbacks.ModelCheckpoint(\n",
    "        filename=f\"best_acc_fold{fold+1}\",\n",
    "        monitor=f\"valid_acc/fold{fold+1}\",\n",
    "        save_top_k=1,\n",
    "        mode=\"max\",\n",
    "        save_last=False,\n",
    "        dirpath=\"../input/toxicroberta/\",\n",
    "    )\n",
    "    model = model.load_from_checkpoint(MODEL_DIR/f\"best_acc_fold{fold+1}.ckpt\", cfg=config, fold_num=fold)\n",
    "    model.to(device)\n",
    "    model.eval()\n",
    "    \n",
    "    attention_list = []\n",
    "    feature_list = []\n",
    "    mask_list = []\n",
    "    pred_list = []\n",
    "    \n",
    "    for step, data in tqdm(enumerate(test_dataloader), total=len(test_dataloader)):\n",
    "\n",
    "        text_ids = data[\"text_ids\"].to(device)\n",
    "        text_mask = data[\"text_mask\"].to(device)\n",
    "        text_token_type_ids = data[\"text_token_type_ids\"].to(device)\n",
    "        \n",
    "        mask_list.append(text_mask.detach().cpu().numpy())\n",
    "            \n",
    "        outputs = model(\n",
    "            text_ids, \n",
    "            text_mask,\n",
    "            text_token_type_ids,\n",
    "        )\n",
    "        \n",
    "        ## Last LayerのCLS Tokenに対するAttention\n",
    "        last_attention = outputs[\"attention\"][-1].detach().cpu().numpy()\n",
    "        total_attention = np.zeros((last_attention.shape[0], config.max_length))\n",
    "        \n",
    "        for batch in range(last_attention.shape[0]):\n",
    "            for n_head in range(12):\n",
    "                total_attention[batch, :] += last_attention[batch, n_head, 0, :]\n",
    "                \n",
    "        attention_list.append(total_attention)\n",
    "        pred_list.append(outputs[\"logits\"].detach().cpu().numpy())\n",
    "        feature_list.append(outputs[\"feature\"].detach().cpu().numpy())\n",
    "\n",
    "    attention_array += np.concatenate(attention_list)/config.n_fold\n",
    "    mask_array += np.concatenate(mask_list)/config.n_fold\n",
    "    feature_array += np.concatenate(feature_list)/config.n_fold\n",
    "    PRED += np.concatenate(pred_list)/len(config.train_fold)\n",
    "    \n",
    "    "
   ]
  },
  {
   "cell_type": "code",
   "execution_count": 33,
   "id": "96a0d442",
   "metadata": {},
   "outputs": [],
   "source": [
    "text_df[\"target\"] = PRED[:, 0]\n",
    "text_df.to_pickle(OUTPUT_DIR/\"text_df.pkl\")\n",
    "np.save(OUTPUT_DIR/'toxic-attention.npy', attention_array)\n",
    "np.save(OUTPUT_DIR/'toxic-mask.npy', mask_array)\n",
    "np.save(OUTPUT_DIR/'toxic-feature.npy', feature_array)"
   ]
  },
  {
   "cell_type": "code",
   "execution_count": 34,
   "id": "c680f94f",
   "metadata": {},
   "outputs": [
    {
     "data": {
      "image/png": "[encoded data removed]",
      "text/plain": [
       "<Figure size 864x360 with 1 Axes>"
      ]
     },
     "metadata": {
      "needs_background": "light"
     },
     "output_type": "display_data"
    }
   ],
   "source": [
    "plt.figure(figsize=(12, 5))\n",
    "sns.histplot(text_df[\"target\"], color=\"#4c1c84\")\n",
    "plt.grid()\n",
    "plt.show()"
   ]
  },
  {
   "cell_type": "markdown",
   "id": "849e8dfb",
   "metadata": {},
   "source": [
    "<br>\n",
    "<h2 style = \"font-size:45px;\n",
    "             font-family:Comic Sans MS ;\n",
    "             font-weight : normal;\n",
    "             background-color: #eeebf1 ;\n",
    "             color : #4c1c84;\n",
    "             text-align: center; \n",
    "             border-radius: 100px 100px;\">\n",
    "    Attention Load\n",
    "</h2>\n",
    "<br>"
   ]
  },
  {
   "cell_type": "code",
   "execution_count": 35,
   "id": "2afbdc5b",
   "metadata": {},
   "outputs": [],
   "source": [
    "text_df = pd.read_pickle(OUTPUT_DIR/\"text_df.pkl\")\n",
    "attention_array = np.load(OUTPUT_DIR/'toxic-attention.npy')\n",
    "mask_array = np.load(OUTPUT_DIR/'toxic-mask.npy')"
   ]
  },
  {
   "cell_type": "code",
   "execution_count": 36,
   "id": "92ea31c3",
   "metadata": {},
   "outputs": [],
   "source": [
    "from IPython.display import display, HTML\n",
    "\n",
    "def highlight_r(word, attn):\n",
    "    html_color = '#%02X%02X%02X' % (255, int(255*(1 - attn)), int(255*(1 - attn)))\n",
    "    return '<span style=\"background-color: {}\">{}</span>'.format(html_color, word)"
   ]
  },
  {
   "cell_type": "code",
   "execution_count": 37,
   "id": "1c6eec21",
   "metadata": {},
   "outputs": [
    {
     "name": "stdout",
     "output_type": "stream",
     "text": [
      "Offensive Score is 0.9769384562969208\n"
     ]
    },
    {
     "data": {
      "text/html": [
       "<span style=\"background-color: #FFE9E9\">[CLS]</span> <span style=\"background-color: #FFCBCB\">you</span> <span style=\"background-color: #FFD4D4\">fucking</span> <span style=\"background-color: #FFCCCC\">chin</span> <span style=\"background-color: #FFCFCF\">##k</span> <span style=\"background-color: #FFCFCF\">i</span> <span style=\"background-color: #FFC9C9\">hope</span> <span style=\"background-color: #FFCDCD\">you</span> <span style=\"background-color: #FFBDBD\">die</span> <span style=\"background-color: #FFCECE\">of</span> <span style=\"background-color: #FFCBCB\">cancer</span> <span style=\"background-color: #FFD0D0\">like</span> <span style=\"background-color: #FFCECE\">your</span> <span style=\"background-color: #FFCFCF\">grandmother</span> <span style=\"background-color: #FFD2D2\">did</span> <span style=\"background-color: #FFD1D1\">fucking</span> <span style=\"background-color: #FFD0D0\">jack</span> <span style=\"background-color: #FFDADA\">off</span> <span style=\"background-color: #FFD6D6\">get</span> <span style=\"background-color: #FFDEDE\">the</span> <span style=\"background-color: #FFDBDB\">fuck</span> <span style=\"background-color: #FFDDDD\">off</span> <span style=\"background-color: #FFD7D7\">the</span> <span style=\"background-color: #FFCFCF\">internet</span> <span style=\"background-color: #FF-6C3-6C3\">[SEP]</span>"
      ],
      "text/plain": [
       "<IPython.core.display.HTML object>"
      ]
     },
     "metadata": {},
     "output_type": "display_data"
    },
    {
     "data": {
      "text/plain": [
       "'you fucking chink i hope you die of cancer like your grandmother did fucking jack off get the fuck off the internet'"
      ]
     },
     "metadata": {},
     "output_type": "display_data"
    }
   ],
   "source": [
    "num = 12\n",
    "\n",
    "ids = config.tokenizer(text_df.loc[num, \"text\"])[\"input_ids\"]\n",
    "tokens = config.tokenizer.convert_ids_to_tokens(ids)\n",
    "attention = attention_array[num, :][np.nonzero(mask_array[num, :])]\n",
    "\n",
    "html_outputs = []\n",
    "\n",
    "for word, attn in zip(tokens, attention):\n",
    "    html_outputs.append(highlight_r(word, attn))\n",
    "\n",
    "print(f\"Offensive Score is {PRED[num, 0]}\")\n",
    "display(HTML(' '.join(html_outputs)))\n",
    "display(text_df.loc[num, \"text\"])"
   ]
  },
  {
   "cell_type": "code",
   "execution_count": 38,
   "id": "44dd1087",
   "metadata": {},
   "outputs": [
    {
     "data": {
      "text/html": [
       "<div>\n",
       "<style scoped>\n",
       "    .dataframe tbody tr th:only-of-type {\n",
       "        vertical-align: middle;\n",
       "    }\n",
       "\n",
       "    .dataframe tbody tr th {\n",
       "        vertical-align: top;\n",
       "    }\n",
       "\n",
       "    .dataframe thead th {\n",
       "        text-align: right;\n",
       "    }\n",
       "</style>\n",
       "<table border=\"1\" class=\"dataframe\">\n",
       "  <thead>\n",
       "    <tr style=\"text-align: right;\">\n",
       "      <th></th>\n",
       "      <th>text</th>\n",
       "      <th>target</th>\n",
       "    </tr>\n",
       "  </thead>\n",
       "  <tbody>\n",
       "    <tr>\n",
       "      <th>2350</th>\n",
       "      <td>fuck you all fuck you all fuck you all fuck yo...</td>\n",
       "      <td>1.439694</td>\n",
       "    </tr>\n",
       "    <tr>\n",
       "      <th>7905</th>\n",
       "      <td>fuck you fuck you fuck you fuck you fuck you f...</td>\n",
       "      <td>1.436235</td>\n",
       "    </tr>\n",
       "    <tr>\n",
       "      <th>13401</th>\n",
       "      <td>fuck you you atheist cunt fuck you you atheist...</td>\n",
       "      <td>1.430730</td>\n",
       "    </tr>\n",
       "    <tr>\n",
       "      <th>506</th>\n",
       "      <td>go fuck yourself go fuck yourself go fuck your...</td>\n",
       "      <td>1.356863</td>\n",
       "    </tr>\n",
       "    <tr>\n",
       "      <th>11880</th>\n",
       "      <td>bitch you are a fucking hore you suck dick you...</td>\n",
       "      <td>1.336853</td>\n",
       "    </tr>\n",
       "    <tr>\n",
       "      <th>13754</th>\n",
       "      <td>fuck you bitch kiss my ass you dickless troll ...</td>\n",
       "      <td>1.327706</td>\n",
       "    </tr>\n",
       "    <tr>\n",
       "      <th>13098</th>\n",
       "      <td>californiaalibaba is a bitch go fuck yourself ...</td>\n",
       "      <td>1.327367</td>\n",
       "    </tr>\n",
       "    <tr>\n",
       "      <th>4229</th>\n",
       "      <td>being original hasn i ever been my strong suit...</td>\n",
       "      <td>1.321990</td>\n",
       "    </tr>\n",
       "    <tr>\n",
       "      <th>2953</th>\n",
       "      <td>eat shit and die bitch ass nigga eat shit and ...</td>\n",
       "      <td>1.315108</td>\n",
       "    </tr>\n",
       "    <tr>\n",
       "      <th>13720</th>\n",
       "      <td>californiaalibaba is a bitch go fuck yourself ...</td>\n",
       "      <td>1.313637</td>\n",
       "    </tr>\n",
       "    <tr>\n",
       "      <th>12990</th>\n",
       "      <td>fuck u bitches fuck u bitches fuck u bitches f...</td>\n",
       "      <td>1.311634</td>\n",
       "    </tr>\n",
       "    <tr>\n",
       "      <th>12953</th>\n",
       "      <td>suck my fattie you cunt piece of shit blow you...</td>\n",
       "      <td>1.295826</td>\n",
       "    </tr>\n",
       "    <tr>\n",
       "      <th>598</th>\n",
       "      <td>fuck you honkey why you hatin on blacks you fu...</td>\n",
       "      <td>1.293067</td>\n",
       "    </tr>\n",
       "    <tr>\n",
       "      <th>8889</th>\n",
       "      <td>fuck you fuck you majorly suck my dick asshole</td>\n",
       "      <td>1.291198</td>\n",
       "    </tr>\n",
       "    <tr>\n",
       "      <th>13855</th>\n",
       "      <td>eat shit you fucking arse rapping jew fucking ...</td>\n",
       "      <td>1.290224</td>\n",
       "    </tr>\n",
       "    <tr>\n",
       "      <th>10242</th>\n",
       "      <td>suitecivil your a pussy ass bitch i i fucken k...</td>\n",
       "      <td>1.288094</td>\n",
       "    </tr>\n",
       "    <tr>\n",
       "      <th>8255</th>\n",
       "      <td>yalla are you stupid and a gay ass fag whos mo...</td>\n",
       "      <td>1.287875</td>\n",
       "    </tr>\n",
       "    <tr>\n",
       "      <th>13499</th>\n",
       "      <td>fuck billcj and kill billcj because i hate his...</td>\n",
       "      <td>1.286572</td>\n",
       "    </tr>\n",
       "    <tr>\n",
       "      <th>819</th>\n",
       "      <td>go fuck yourself you fucking dick go rot in he...</td>\n",
       "      <td>1.273742</td>\n",
       "    </tr>\n",
       "    <tr>\n",
       "      <th>6717</th>\n",
       "      <td>fuck you you gay ass liberal hey asshole why d...</td>\n",
       "      <td>1.273691</td>\n",
       "    </tr>\n",
       "  </tbody>\n",
       "</table>\n",
       "</div>"
      ],
      "text/plain": [
       "                                                    text    target\n",
       "2350   fuck you all fuck you all fuck you all fuck yo...  1.439694\n",
       "7905   fuck you fuck you fuck you fuck you fuck you f...  1.436235\n",
       "13401  fuck you you atheist cunt fuck you you atheist...  1.430730\n",
       "506    go fuck yourself go fuck yourself go fuck your...  1.356863\n",
       "11880  bitch you are a fucking hore you suck dick you...  1.336853\n",
       "13754  fuck you bitch kiss my ass you dickless troll ...  1.327706\n",
       "13098  californiaalibaba is a bitch go fuck yourself ...  1.327367\n",
       "4229   being original hasn i ever been my strong suit...  1.321990\n",
       "2953   eat shit and die bitch ass nigga eat shit and ...  1.315108\n",
       "13720  californiaalibaba is a bitch go fuck yourself ...  1.313637\n",
       "12990  fuck u bitches fuck u bitches fuck u bitches f...  1.311634\n",
       "12953  suck my fattie you cunt piece of shit blow you...  1.295826\n",
       "598    fuck you honkey why you hatin on blacks you fu...  1.293067\n",
       "8889      fuck you fuck you majorly suck my dick asshole  1.291198\n",
       "13855  eat shit you fucking arse rapping jew fucking ...  1.290224\n",
       "10242  suitecivil your a pussy ass bitch i i fucken k...  1.288094\n",
       "8255   yalla are you stupid and a gay ass fag whos mo...  1.287875\n",
       "13499  fuck billcj and kill billcj because i hate his...  1.286572\n",
       "819    go fuck yourself you fucking dick go rot in he...  1.273742\n",
       "6717   fuck you you gay ass liberal hey asshole why d...  1.273691"
      ]
     },
     "execution_count": 38,
     "metadata": {},
     "output_type": "execute_result"
    }
   ],
   "source": [
    "text_df.sort_values(\"target\", ascending=False).head(20)"
   ]
  },
  {
   "cell_type": "code",
   "execution_count": 39,
   "id": "396dbccb",
   "metadata": {},
   "outputs": [
    {
     "name": "stderr",
     "output_type": "stream",
     "text": [
      "Token indices sequence length is longer than the specified maximum sequence length for this model (940 > 512). Running this sequence through the model will result in indexing errors\n"
     ]
    },
    {
     "name": "stdout",
     "output_type": "stream",
     "text": [
      "Offensive Score is 1.4396938681602478\n"
     ]
    },
    {
     "data": {
      "text/html": [
       "<span style=\"background-color: #FFFCFC\">[CLS]</span> <span style=\"background-color: #FFFAFA\">fuck</span> <span style=\"background-color: #FFFCFC\">you</span> <span style=\"background-color: #FFFCFC\">all</span> <span style=\"background-color: #FFFAFA\">fuck</span> <span style=\"background-color: #FFFCFC\">you</span> <span style=\"background-color: #FFFCFC\">all</span> <span style=\"background-color: #FFFAFA\">fuck</span> <span style=\"background-color: #FFFCFC\">you</span> <span style=\"background-color: #FFFCFC\">all</span> <span style=\"background-color: #FFFAFA\">fuck</span> <span style=\"background-color: #FFFCFC\">you</span> <span style=\"background-color: #FFFCFC\">all</span> <span style=\"background-color: #FFFBFB\">fuck</span> <span style=\"background-color: #FFFCFC\">you</span> <span style=\"background-color: #FFFCFC\">all</span> <span style=\"background-color: #FFFBFB\">fuck</span> <span style=\"background-color: #FFFCFC\">you</span> <span style=\"background-color: #FFFCFC\">all</span> <span style=\"background-color: #FFFBFB\">fuck</span> <span style=\"background-color: #FFFCFC\">you</span> <span style=\"background-color: #FFFCFC\">all</span> <span style=\"background-color: #FFFBFB\">fuck</span> <span style=\"background-color: #FFFCFC\">you</span> <span style=\"background-color: #FFFCFC\">all</span> <span style=\"background-color: #FFFBFB\">fuck</span> <span style=\"background-color: #FFFCFC\">you</span> <span style=\"background-color: #FFFCFC\">all</span> <span style=\"background-color: #FFFBFB\">fuck</span> <span style=\"background-color: #FFFCFC\">you</span> <span style=\"background-color: #FFFCFC\">all</span> <span style=\"background-color: #FFFBFB\">fuck</span> <span style=\"background-color: #FFFCFC\">you</span> <span style=\"background-color: #FFFCFC\">all</span> <span style=\"background-color: #FFFBFB\">fuck</span> <span style=\"background-color: #FFFCFC\">you</span> <span style=\"background-color: #FFFCFC\">all</span> <span style=\"background-color: #FFFBFB\">fuck</span> <span style=\"background-color: #FFFCFC\">you</span> <span style=\"background-color: #FFFCFC\">all</span> <span style=\"background-color: #FFFBFB\">fuck</span> <span style=\"background-color: #FFFDFD\">you</span> <span style=\"background-color: #FFFDFD\">all</span> <span style=\"background-color: #FFFBFB\">fuck</span> <span style=\"background-color: #FFFDFD\">you</span> <span style=\"background-color: #FFFDFD\">all</span> <span style=\"background-color: #FFFCFC\">fuck</span> <span style=\"background-color: #FFFDFD\">you</span> <span style=\"background-color: #FFFDFD\">all</span> <span style=\"background-color: #FFFCFC\">fuck</span> <span style=\"background-color: #FFFDFD\">you</span> <span style=\"background-color: #FFFDFD\">all</span> <span style=\"background-color: #FFFCFC\">fuck</span> <span style=\"background-color: #FFFDFD\">you</span> <span style=\"background-color: #FFFDFD\">all</span> <span style=\"background-color: #FFFBFB\">fuck</span> <span style=\"background-color: #FFFDFD\">you</span> <span style=\"background-color: #FFFDFD\">all</span> <span style=\"background-color: #FFFCFC\">fuck</span> <span style=\"background-color: #FFFDFD\">you</span> <span style=\"background-color: #FFFDFD\">all</span> <span style=\"background-color: #FFFBFB\">fuck</span> <span style=\"background-color: #FFFDFD\">you</span> <span style=\"background-color: #FFFDFD\">all</span> <span style=\"background-color: #FFFCFC\">fuck</span> <span style=\"background-color: #FFFDFD\">you</span> <span style=\"background-color: #FFFDFD\">all</span> <span style=\"background-color: #FFFBFB\">fuck</span> <span style=\"background-color: #FFFDFD\">you</span> <span style=\"background-color: #FFFDFD\">all</span> <span style=\"background-color: #FFFBFB\">fuck</span> <span style=\"background-color: #FFFDFD\">you</span> <span style=\"background-color: #FFFDFD\">all</span> <span style=\"background-color: #FFFBFB\">fuck</span> <span style=\"background-color: #FFFDFD\">you</span> <span style=\"background-color: #FFFDFD\">all</span> <span style=\"background-color: #FFFBFB\">fuck</span> <span style=\"background-color: #FFFDFD\">you</span> <span style=\"background-color: #FFFDFD\">all</span> <span style=\"background-color: #FFFBFB\">fuck</span> <span style=\"background-color: #FFFDFD\">you</span> <span style=\"background-color: #FFFDFD\">all</span> <span style=\"background-color: #FFFBFB\">fuck</span> <span style=\"background-color: #FFFDFD\">you</span> <span style=\"background-color: #FFFDFD\">all</span> <span style=\"background-color: #FFFBFB\">fuck</span> <span style=\"background-color: #FFFDFD\">you</span> <span style=\"background-color: #FFFDFD\">all</span> <span style=\"background-color: #FFFBFB\">fuck</span> <span style=\"background-color: #FFFDFD\">you</span> <span style=\"background-color: #FFFDFD\">all</span> <span style=\"background-color: #FFFBFB\">fuck</span> <span style=\"background-color: #FFFDFD\">you</span> <span style=\"background-color: #FFFDFD\">all</span> <span style=\"background-color: #FFFBFB\">fuck</span> <span style=\"background-color: #FFFDFD\">you</span> <span style=\"background-color: #FFFDFD\">all</span> <span style=\"background-color: #FFFBFB\">fuck</span> <span style=\"background-color: #FFFDFD\">you</span> <span style=\"background-color: #FFFDFD\">all</span> <span style=\"background-color: #FFFBFB\">fuck</span> <span style=\"background-color: #FFFDFD\">you</span> <span style=\"background-color: #FFFDFD\">all</span> <span style=\"background-color: #FFFBFB\">fuck</span> <span style=\"background-color: #FFFDFD\">you</span> <span style=\"background-color: #FFFDFD\">all</span> <span style=\"background-color: #FFFBFB\">fuck</span> <span style=\"background-color: #FFFDFD\">you</span> <span style=\"background-color: #FFFDFD\">all</span> <span style=\"background-color: #FFFBFB\">fuck</span> <span style=\"background-color: #FFFDFD\">you</span> <span style=\"background-color: #FFFDFD\">all</span> <span style=\"background-color: #FFFBFB\">fuck</span> <span style=\"background-color: #FFFDFD\">you</span> <span style=\"background-color: #FFFDFD\">all</span> <span style=\"background-color: #FFFBFB\">fuck</span> <span style=\"background-color: #FFFDFD\">you</span> <span style=\"background-color: #FFFDFD\">all</span> <span style=\"background-color: #FFFBFB\">fuck</span> <span style=\"background-color: #FFFDFD\">you</span> <span style=\"background-color: #FFFDFD\">all</span> <span style=\"background-color: #FFFBFB\">fuck</span> <span style=\"background-color: #FFFDFD\">you</span> <span style=\"background-color: #FFFDFD\">all</span> <span style=\"background-color: #FFFBFB\">fuck</span> <span style=\"background-color: #FFFDFD\">you</span> <span style=\"background-color: #FFFDFD\">all</span> <span style=\"background-color: #FFFBFB\">fuck</span> <span style=\"background-color: #FFFDFD\">you</span> <span style=\"background-color: #FFFDFD\">all</span> <span style=\"background-color: #FFFBFB\">fuck</span> <span style=\"background-color: #FFFDFD\">you</span> <span style=\"background-color: #FFFDFD\">all</span> <span style=\"background-color: #FFFBFB\">fuck</span> <span style=\"background-color: #FFFDFD\">you</span> <span style=\"background-color: #FFFDFD\">all</span> <span style=\"background-color: #FFFBFB\">fuck</span> <span style=\"background-color: #FFFDFD\">you</span> <span style=\"background-color: #FFFDFD\">all</span> <span style=\"background-color: #FFFBFB\">fuck</span> <span style=\"background-color: #FFFDFD\">you</span> <span style=\"background-color: #FFFDFD\">all</span> <span style=\"background-color: #FFFBFB\">fuck</span> <span style=\"background-color: #FFFDFD\">you</span> <span style=\"background-color: #FFFDFD\">all</span> <span style=\"background-color: #FFFBFB\">fuck</span> <span style=\"background-color: #FFFDFD\">you</span> <span style=\"background-color: #FFFDFD\">all</span> <span style=\"background-color: #FFFBFB\">fuck</span> <span style=\"background-color: #FFFDFD\">you</span> <span style=\"background-color: #FFFDFD\">all</span> <span style=\"background-color: #FFFBFB\">fuck</span> <span style=\"background-color: #FFFDFD\">you</span> <span style=\"background-color: #FFFDFD\">all</span> <span style=\"background-color: #FFFCFC\">fuck</span> <span style=\"background-color: #FFFDFD\">you</span> <span style=\"background-color: #FFFDFD\">all</span> <span style=\"background-color: #FFFCFC\">fuck</span> <span style=\"background-color: #FFFDFD\">you</span> <span style=\"background-color: #FFFDFD\">all</span> <span style=\"background-color: #FFFCFC\">fuck</span> <span style=\"background-color: #FFFDFD\">you</span> <span style=\"background-color: #FFFDFD\">all</span> <span style=\"background-color: #FFFCFC\">fuck</span> <span style=\"background-color: #FFFDFD\">you</span> <span style=\"background-color: #FFFDFD\">all</span> <span style=\"background-color: #FFFCFC\">fuck</span> <span style=\"background-color: #FFFDFD\">you</span> <span style=\"background-color: #FFFDFD\">all</span> <span style=\"background-color: #FFFCFC\">fuck</span> <span style=\"background-color: #FFFDFD\">you</span> <span style=\"background-color: #FFFDFD\">all</span> <span style=\"background-color: #FFFCFC\">fuck</span> <span style=\"background-color: #FFFDFD\">you</span> <span style=\"background-color: #FFFDFD\">all</span> <span style=\"background-color: #FFFCFC\">fuck</span> <span style=\"background-color: #FFFDFD\">you</span> <span style=\"background-color: #FFFDFD\">all</span> <span style=\"background-color: #FFFCFC\">fuck</span> <span style=\"background-color: #FFFDFD\">you</span> <span style=\"background-color: #FFFDFD\">all</span> <span style=\"background-color: #FFFCFC\">fuck</span> <span style=\"background-color: #FFFDFD\">you</span> <span style=\"background-color: #FFFDFD\">all</span> <span style=\"background-color: #FFFCFC\">fuck</span> <span style=\"background-color: #FFFDFD\">you</span> <span style=\"background-color: #FFFDFD\">all</span> <span style=\"background-color: #FFFCFC\">fuck</span> <span style=\"background-color: #FFFDFD\">you</span> <span style=\"background-color: #FFFDFD\">all</span> <span style=\"background-color: #FFFCFC\">fuck</span> <span style=\"background-color: #FFFDFD\">you</span> <span style=\"background-color: #FFFDFD\">all</span> <span style=\"background-color: #FFFCFC\">fuck</span> <span style=\"background-color: #FFFDFD\">you</span> <span style=\"background-color: #FFFDFD\">all</span> <span style=\"background-color: #FFFCFC\">fuck</span> <span style=\"background-color: #FFFDFD\">you</span> <span style=\"background-color: #FFFDFD\">all</span> <span style=\"background-color: #FFFCFC\">fuck</span> <span style=\"background-color: #FFFDFD\">you</span> <span style=\"background-color: #FFFDFD\">all</span> <span style=\"background-color: #FFFCFC\">fuck</span> <span style=\"background-color: #FFFDFD\">you</span> <span style=\"background-color: #FFFDFD\">all</span> <span style=\"background-color: #FFFCFC\">fuck</span> <span style=\"background-color: #FFFDFD\">you</span> <span style=\"background-color: #FFFDFD\">all</span> <span style=\"background-color: #FFFCFC\">fuck</span> <span style=\"background-color: #FFFDFD\">you</span> <span style=\"background-color: #FFFDFD\">all</span> <span style=\"background-color: #FFFCFC\">fuck</span> <span style=\"background-color: #FFFDFD\">you</span> <span style=\"background-color: #FFFDFD\">all</span> <span style=\"background-color: #FFFCFC\">fuck</span> <span style=\"background-color: #FFFDFD\">you</span> <span style=\"background-color: #FFFDFD\">all</span> <span style=\"background-color: #FFFCFC\">fuck</span> <span style=\"background-color: #FFFDFD\">you</span> <span style=\"background-color: #FFFDFD\">all</span> <span style=\"background-color: #FFFCFC\">fuck</span> <span style=\"background-color: #FFFDFD\">you</span> <span style=\"background-color: #FFFDFD\">all</span> <span style=\"background-color: #FFFCFC\">fuck</span> <span style=\"background-color: #FFFDFD\">you</span> <span style=\"background-color: #FFFDFD\">all</span> <span style=\"background-color: #FFFBFB\">fuck</span> <span style=\"background-color: #FFFDFD\">you</span> <span style=\"background-color: #FFFDFD\">all</span> <span style=\"background-color: #FFFCFC\">fuck</span> <span style=\"background-color: #FFFDFD\">you</span> <span style=\"background-color: #FFFDFD\">all</span> <span style=\"background-color: #FFFCFC\">fuck</span> <span style=\"background-color: #FFFDFD\">you</span> <span style=\"background-color: #FFFDFD\">all</span> <span style=\"background-color: #FFFCFC\">fuck</span> <span style=\"background-color: #FFFDFD\">you</span> <span style=\"background-color: #FFFDFD\">all</span> <span style=\"background-color: #FFFBFB\">fuck</span> <span style=\"background-color: #FFFDFD\">you</span> <span style=\"background-color: #FFFDFD\">all</span> <span style=\"background-color: #FFFBFB\">fuck</span> <span style=\"background-color: #FFFDFD\">you</span> <span style=\"background-color: #FFFDFD\">all</span> <span style=\"background-color: #FFFBFB\">fuck</span> <span style=\"background-color: #FFFDFD\">you</span> <span style=\"background-color: #FFFDFD\">all</span> <span style=\"background-color: #FFFBFB\">fuck</span> <span style=\"background-color: #FFFDFD\">you</span> <span style=\"background-color: #FFFDFD\">all</span> <span style=\"background-color: #FFFBFB\">fuck</span> <span style=\"background-color: #FFFDFD\">you</span> <span style=\"background-color: #FFFDFD\">all</span> <span style=\"background-color: #FFFBFB\">fuck</span> <span style=\"background-color: #FFFDFD\">you</span> <span style=\"background-color: #FF-8C1-8C1\">all</span>"
      ],
      "text/plain": [
       "<IPython.core.display.HTML object>"
      ]
     },
     "metadata": {},
     "output_type": "display_data"
    },
    {
     "data": {
      "text/plain": [
       "'fuck you all fuck you all fuck you all fuck you all fuck you all fuck you all fuck you all fuck you all fuck you all fuck you all fuck you all fuck you all fuck you all fuck you all fuck you all fuck you all fuck you all fuck you all fuck you all fuck you all fuck you all fuck you all fuck you all fuck you all fuck you all fuck you all fuck you all fuck you all fuck you all fuck you all fuck you all fuck you all fuck you all fuck you all fuck you all fuck you all fuck you all fuck you all fuck you all fuck you all fuck you all fuck you all fuck you all fuck you all fuck you all fuck you all fuck you all fuck you all fuck you all fuck you all fuck you all fuck you all fuck you all fuck you all fuck you all fuck you all fuck you all fuck you all fuck you all fuck you all fuck you all fuck you all fuck you all fuck you all fuck you all fuck you all fuck you all fuck you all fuck you all fuck you all fuck you all fuck you all fuck you all fuck you all fuck you all fuck you all fuck you all fuck you all fuck you all fuck you all fuck you all fuck you all fuck you all fuck you all fuck you all fuck you all fuck you all fuck you all fuck you all fuck you all fuck you all fuck you all fuck you all fuck you all fuck you all fuck you all fuck you all fuck you all fuck you all fuck you all fuck you all fuck you all fuck you all fuck you all fuck you all fuck you all fuck you all fuck you all fuck you all fuck you all fuck you all fuck you all fuck you all fuck you all fuck you all fuck you all fuck you all fuck you all fuck you all fuck you all fuck you all fuck you all fuck you all fuck you all fuck you all fuck you all fuck you all fuck you all fuck you all fuck you all fuck you all fuck you all fuck you all fuck you all fuck you all fuck you all fuck you all fuck you all fuck you all fuck you all fuck you all fuck you all fuck you all fuck you all fuck you all fuck you all fuck you all fuck you all fuck you all fuck you all fuck you all fuck you all fuck you all fuck you all fuck you all fuck you all fuck you all fuck you all fuck you all fuck you all fuck you all fuck you all fuck you all fuck you all fuck you all fuck you all fuck you all fuck you all fuck you all fuck you all fuck you all fuck you all fuck you all fuck you all fuck you all fuck you all fuck you all fuck you all fuck you all fuck you all fuck you all fuck you all fuck you all fuck you all fuck you all fuck you all fuck you all fuck you all fuck you all fuck you all fuck you all fuck you all fuck you all fuck you all fuck you all fuck you all fuck you all fuck you all fuck you all fuck you all fuck you all fuck you all fuck you all fuck you all fuck you all fuck you all fuck you all fuck you all fuck you all fuck you all fuck you all fuck you all fuck you all fuck you all fuck you all fuck you all fuck you all fuck you all fuck you all fuck you all fuck you all fuck you all fuck you all fuck you all fuck you all fuck you all fuck you all fuck you all fuck you all fuck you all fuck you all fuck you all fuck you all fuck you all fuck you all fuck you all fuck you all fuck you all fuck you all fuck you all fuck you all fuck you all fuck you all fuck you all fuck you all fuck you all fuck you all fuck you all fuck you all fuck you all fuck you all fuck you all fuck you all fuck you all fuck you all fuck you all fuck you all fuck you all fuck you all fuck you all fuck you all fuck you all fuck you all fuck you all fuck you all fuck you all fuck you all fuck you all fuck you all fuck you all fuck you all fuck you all fuck you all fuck you all fuck you all fuck you all fuck you all fuck you all fuck you all fuck you all fuck you all fuck you all fuck you all fuck you all fuck you all fuck you all fuck you all fuck you all fuck you all fuck you all fuck you all fuck you all fuck you all fuck you all fuck you all fuck you all fuck you all fuck you all fuck you all fuck you all fuck you all fuck you all fuck you all fuck you all fuck you all fuck you all fuck you all fuck you all fuck you all fuck you all fuck you all fuck you all fuck you'"
      ]
     },
     "metadata": {},
     "output_type": "display_data"
    },
    {
     "name": "stdout",
     "output_type": "stream",
     "text": [
      "Offensive Score is 1.4362346231937408\n"
     ]
    },
    {
     "data": {
      "text/html": [
       "<span style=\"background-color: #FFFBFB\">[CLS]</span> <span style=\"background-color: #FFFAFA\">fuck</span> <span style=\"background-color: #FFFBFB\">you</span> <span style=\"background-color: #FFFAFA\">fuck</span> <span style=\"background-color: #FFFBFB\">you</span> <span style=\"background-color: #FFFAFA\">fuck</span> <span style=\"background-color: #FFFBFB\">you</span> <span style=\"background-color: #FFFAFA\">fuck</span> <span style=\"background-color: #FFFBFB\">you</span> <span style=\"background-color: #FFFBFB\">fuck</span> <span style=\"background-color: #FFFBFB\">you</span> <span style=\"background-color: #FFFBFB\">fuck</span> <span style=\"background-color: #FFFCFC\">you</span> <span style=\"background-color: #FFFBFB\">fuck</span> <span style=\"background-color: #FFFCFC\">you</span> <span style=\"background-color: #FFFBFB\">fuck</span> <span style=\"background-color: #FFFCFC\">you</span> <span style=\"background-color: #FFFBFB\">fuck</span> <span style=\"background-color: #FFFCFC\">you</span> <span style=\"background-color: #FFFBFB\">fuck</span> <span style=\"background-color: #FFFCFC\">you</span> <span style=\"background-color: #FFFBFB\">fuck</span> <span style=\"background-color: #FFFCFC\">you</span> <span style=\"background-color: #FFFBFB\">fuck</span> <span style=\"background-color: #FFFCFC\">you</span> <span style=\"background-color: #FFFBFB\">fuck</span> <span style=\"background-color: #FFFCFC\">you</span> <span style=\"background-color: #FFFBFB\">fuck</span> <span style=\"background-color: #FFFCFC\">you</span> <span style=\"background-color: #FFFBFB\">fuck</span> <span style=\"background-color: #FFFCFC\">you</span> <span style=\"background-color: #FFFBFB\">fuck</span> <span style=\"background-color: #FFFCFC\">you</span> <span style=\"background-color: #FFFBFB\">fuck</span> <span style=\"background-color: #FFFCFC\">you</span> <span style=\"background-color: #FFFBFB\">fuck</span> <span style=\"background-color: #FFFCFC\">you</span> <span style=\"background-color: #FFFBFB\">fuck</span> <span style=\"background-color: #FFFCFC\">you</span> <span style=\"background-color: #FFFBFB\">fuck</span> <span style=\"background-color: #FFFCFC\">you</span> <span style=\"background-color: #FFFBFB\">fuck</span> <span style=\"background-color: #FFFCFC\">you</span> <span style=\"background-color: #FFFBFB\">fuck</span> <span style=\"background-color: #FFFCFC\">you</span> <span style=\"background-color: #FFFCFC\">fuck</span> <span style=\"background-color: #FFFCFC\">you</span> <span style=\"background-color: #FFFCFC\">fuck</span> <span style=\"background-color: #FFFCFC\">you</span> <span style=\"background-color: #FFFCFC\">fuck</span> <span style=\"background-color: #FFFCFC\">you</span> <span style=\"background-color: #FFFCFC\">fuck</span> <span style=\"background-color: #FFFCFC\">you</span> <span style=\"background-color: #FFFCFC\">fuck</span> <span style=\"background-color: #FFFCFC\">you</span> <span style=\"background-color: #FFFCFC\">fuck</span> <span style=\"background-color: #FFFCFC\">you</span> <span style=\"background-color: #FFFCFC\">fuck</span> <span style=\"background-color: #FFFCFC\">you</span> <span style=\"background-color: #FFFCFC\">fuck</span> <span style=\"background-color: #FFFCFC\">you</span> <span style=\"background-color: #FFFCFC\">fuck</span> <span style=\"background-color: #FFFCFC\">you</span> <span style=\"background-color: #FFFCFC\">fuck</span> <span style=\"background-color: #FFFCFC\">you</span> <span style=\"background-color: #FFFCFC\">fuck</span> <span style=\"background-color: #FFFCFC\">you</span> <span style=\"background-color: #FFFCFC\">fuck</span> <span style=\"background-color: #FFFCFC\">you</span> <span style=\"background-color: #FFFBFB\">fuck</span> <span style=\"background-color: #FFFCFC\">you</span> <span style=\"background-color: #FFFBFB\">fuck</span> <span style=\"background-color: #FFFCFC\">you</span> <span style=\"background-color: #FFFBFB\">fuck</span> <span style=\"background-color: #FFFCFC\">you</span> <span style=\"background-color: #FFFCFC\">fuck</span> <span style=\"background-color: #FFFCFC\">you</span> <span style=\"background-color: #FFFCFC\">fuck</span> <span style=\"background-color: #FFFCFC\">you</span> <span style=\"background-color: #FFFCFC\">fuck</span> <span style=\"background-color: #FFFDFD\">you</span> <span style=\"background-color: #FFFBFB\">fuck</span> <span style=\"background-color: #FFFCFC\">you</span> <span style=\"background-color: #FFFBFB\">fuck</span> <span style=\"background-color: #FFFCFC\">you</span> <span style=\"background-color: #FFFBFB\">fuck</span> <span style=\"background-color: #FFFCFC\">you</span> <span style=\"background-color: #FFFBFB\">fuck</span> <span style=\"background-color: #FFFCFC\">you</span> <span style=\"background-color: #FFFBFB\">fuck</span> <span style=\"background-color: #FFFCFC\">you</span> <span style=\"background-color: #FFFBFB\">fuck</span> <span style=\"background-color: #FFFCFC\">you</span> <span style=\"background-color: #FFFBFB\">fuck</span> <span style=\"background-color: #FFFCFC\">you</span> <span style=\"background-color: #FFFBFB\">fuck</span> <span style=\"background-color: #FFFCFC\">you</span> <span style=\"background-color: #FFFBFB\">fuck</span> <span style=\"background-color: #FFFCFC\">you</span> <span style=\"background-color: #FFFBFB\">fuck</span> <span style=\"background-color: #FFFCFC\">you</span> <span style=\"background-color: #FFFBFB\">fuck</span> <span style=\"background-color: #FFFCFC\">you</span> <span style=\"background-color: #FFFBFB\">fuck</span> <span style=\"background-color: #FFFCFC\">you</span> <span style=\"background-color: #FFFBFB\">fuck</span> <span style=\"background-color: #FFFCFC\">you</span> <span style=\"background-color: #FFFCFC\">fuck</span> <span style=\"background-color: #FFFCFC\">you</span> <span style=\"background-color: #FFFCFC\">fuck</span> <span style=\"background-color: #FFFDFD\">you</span> <span style=\"background-color: #FFFBFB\">fuck</span> <span style=\"background-color: #FFFCFC\">you</span> <span style=\"background-color: #FFFBFB\">fuck</span> <span style=\"background-color: #FFFCFC\">you</span> <span style=\"background-color: #FFFBFB\">fuck</span> <span style=\"background-color: #FFFCFC\">you</span> <span style=\"background-color: #FFFBFB\">fuck</span> <span style=\"background-color: #FFFCFC\">you</span> <span style=\"background-color: #FFFBFB\">fuck</span> <span style=\"background-color: #FFFCFC\">you</span> <span style=\"background-color: #FFFBFB\">fuck</span> <span style=\"background-color: #FFFCFC\">you</span> <span style=\"background-color: #FFFBFB\">fuck</span> <span style=\"background-color: #FFFCFC\">you</span> <span style=\"background-color: #FFFBFB\">fuck</span> <span style=\"background-color: #FFFCFC\">you</span> <span style=\"background-color: #FFFBFB\">fuck</span> <span style=\"background-color: #FFFCFC\">you</span> <span style=\"background-color: #FFFBFB\">fuck</span> <span style=\"background-color: #FFFCFC\">you</span> <span style=\"background-color: #FFFBFB\">fuck</span> <span style=\"background-color: #FFFCFC\">you</span> <span style=\"background-color: #FFFBFB\">fuck</span> <span style=\"background-color: #FFFCFC\">you</span> <span style=\"background-color: #FFFCFC\">fuck</span> <span style=\"background-color: #FFFCFC\">you</span> <span style=\"background-color: #FFFCFC\">fuck</span> <span style=\"background-color: #FFFCFC\">you</span> <span style=\"background-color: #FFFCFC\">fuck</span> <span style=\"background-color: #FFFCFC\">you</span> <span style=\"background-color: #FFFBFB\">fuck</span> <span style=\"background-color: #FFFCFC\">you</span> <span style=\"background-color: #FFFBFB\">fuck</span> <span style=\"background-color: #FFFCFC\">you</span> <span style=\"background-color: #FFFBFB\">fuck</span> <span style=\"background-color: #FFFCFC\">you</span> <span style=\"background-color: #FFFBFB\">fuck</span> <span style=\"background-color: #FFFCFC\">you</span> <span style=\"background-color: #FFFBFB\">fuck</span> <span style=\"background-color: #FFFCFC\">you</span> <span style=\"background-color: #FFFBFB\">fuck</span> <span style=\"background-color: #FFFCFC\">you</span> <span style=\"background-color: #FFFBFB\">fuck</span> <span style=\"background-color: #FFFCFC\">you</span> <span style=\"background-color: #FFFCFC\">fuck</span> <span style=\"background-color: #FFFCFC\">you</span> <span style=\"background-color: #FFFCFC\">fuck</span> <span style=\"background-color: #FFFCFC\">you</span> <span style=\"background-color: #FFFCFC\">fuck</span> <span style=\"background-color: #FFFCFC\">you</span> <span style=\"background-color: #FFFCFC\">fuck</span> <span style=\"background-color: #FFFCFC\">you</span> <span style=\"background-color: #FFFCFC\">fuck</span> <span style=\"background-color: #FFFCFC\">you</span> <span style=\"background-color: #FFFCFC\">fuck</span> <span style=\"background-color: #FFFCFC\">you</span> <span style=\"background-color: #FFFCFC\">fuck</span> <span style=\"background-color: #FFFCFC\">you</span> <span style=\"background-color: #FFFCFC\">fuck</span> <span style=\"background-color: #FFFCFC\">you</span> <span style=\"background-color: #FFFCFC\">fuck</span> <span style=\"background-color: #FFFCFC\">you</span> <span style=\"background-color: #FFFCFC\">fuck</span> <span style=\"background-color: #FFFCFC\">you</span> <span style=\"background-color: #FFFCFC\">fuck</span> <span style=\"background-color: #FFFCFC\">you</span> <span style=\"background-color: #FFFCFC\">fuck</span> <span style=\"background-color: #FFFCFC\">you</span> <span style=\"background-color: #FFFCFC\">fuck</span> <span style=\"background-color: #FFFCFC\">you</span> <span style=\"background-color: #FFFCFC\">fuck</span> <span style=\"background-color: #FFFCFC\">you</span> <span style=\"background-color: #FFFCFC\">fuck</span> <span style=\"background-color: #FFFCFC\">you</span> <span style=\"background-color: #FFFCFC\">fuck</span> <span style=\"background-color: #FFFCFC\">you</span> <span style=\"background-color: #FFFCFC\">fuck</span> <span style=\"background-color: #FFFCFC\">you</span> <span style=\"background-color: #FFFCFC\">fuck</span> <span style=\"background-color: #FFFCFC\">you</span> <span style=\"background-color: #FFFCFC\">fuck</span> <span style=\"background-color: #FFFCFC\">you</span> <span style=\"background-color: #FFFCFC\">fuck</span> <span style=\"background-color: #FFFCFC\">you</span> <span style=\"background-color: #FFFCFC\">fuck</span> <span style=\"background-color: #FFFCFC\">you</span> <span style=\"background-color: #FFFCFC\">fuck</span> <span style=\"background-color: #FFFDFD\">you</span> <span style=\"background-color: #FFFCFC\">fuck</span> <span style=\"background-color: #FFFDFD\">you</span> <span style=\"background-color: #FFFCFC\">fuck</span> <span style=\"background-color: #FFFDFD\">you</span> <span style=\"background-color: #FFFCFC\">fuck</span> <span style=\"background-color: #FFFDFD\">you</span> <span style=\"background-color: #FFFCFC\">fuck</span> <span style=\"background-color: #FFFDFD\">you</span> <span style=\"background-color: #FFFCFC\">fuck</span> <span style=\"background-color: #FFFDFD\">you</span> <span style=\"background-color: #FFFCFC\">fuck</span> <span style=\"background-color: #FFFDFD\">you</span> <span style=\"background-color: #FFFCFC\">fuck</span> <span style=\"background-color: #FFFCFC\">you</span> <span style=\"background-color: #FFFCFC\">fuck</span> <span style=\"background-color: #FFFCFC\">you</span> <span style=\"background-color: #FFFCFC\">fuck</span> <span style=\"background-color: #FFFCFC\">you</span> <span style=\"background-color: #FFFCFC\">fuck</span> <span style=\"background-color: #FFFCFC\">you</span> <span style=\"background-color: #FFFCFC\">fuck</span> <span style=\"background-color: #FFFCFC\">you</span> <span style=\"background-color: #FFFCFC\">fuck</span> <span style=\"background-color: #FFFCFC\">you</span> <span style=\"background-color: #FFFCFC\">fuck</span> <span style=\"background-color: #FFFDFD\">you</span> <span style=\"background-color: #FFFCFC\">fuck</span> <span style=\"background-color: #FFFCFC\">you</span> <span style=\"background-color: #FFFCFC\">fuck</span> <span style=\"background-color: #FFFCFC\">you</span> <span style=\"background-color: #FFFCFC\">fuck</span> <span style=\"background-color: #FFFCFC\">you</span> <span style=\"background-color: #FFFCFC\">fuck</span> <span style=\"background-color: #FFFCFC\">you</span> <span style=\"background-color: #FFFCFC\">fuck</span> <span style=\"background-color: #FFFCFC\">you</span> <span style=\"background-color: #FFFCFC\">fuck</span> <span style=\"background-color: #FFFCFC\">you</span> <span style=\"background-color: #FFFCFC\">fuck</span> <span style=\"background-color: #FFFCFC\">you</span> <span style=\"background-color: #FFFBFB\">fuck</span> <span style=\"background-color: #FFFCFC\">you</span> <span style=\"background-color: #FFFBFB\">fuck</span> <span style=\"background-color: #FFFCFC\">you</span> <span style=\"background-color: #FFFCFC\">fuck</span> <span style=\"background-color: #FFFCFC\">you</span> <span style=\"background-color: #FFFBFB\">fuck</span> <span style=\"background-color: #FFFCFC\">you</span> <span style=\"background-color: #FFFBFB\">fuck</span> <span style=\"background-color: #FFFCFC\">you</span> <span style=\"background-color: #FFFCFC\">fuck</span> <span style=\"background-color: #FFFCFC\">you</span> <span style=\"background-color: #FFFBFB\">fuck</span> <span style=\"background-color: #FFFCFC\">you</span> <span style=\"background-color: #FFFBFB\">fuck</span> <span style=\"background-color: #FFFCFC\">you</span> <span style=\"background-color: #FF-851-851\">fuck</span>"
      ],
      "text/plain": [
       "<IPython.core.display.HTML object>"
      ]
     },
     "metadata": {},
     "output_type": "display_data"
    },
    {
     "data": {
      "text/plain": [
       "'fuck you fuck you fuck you fuck you fuck you fuck you fuck you fuck you fuck you fuck you fuck you fuck you fuck you fuck you fuck you fuck you fuck you fuck you fuck you fuck you fuck you fuck you fuck you fuck you fuck you fuck you fuck you fuck you fuck you fuck you fuck you fuck you fuck you fuck you fuck you fuck you fuck you fuck you fuck you fuck you fuck you fuck you fuck you fuck you fuck you fuck you fuck you fuck you fuck you fuck you fuck you fuck you fuck you fuck you fuck you fuck you fuck you fuck you fuck you fuck you fuck you fuck you fuck you fuck you fuck you fuck you fuck you fuck you fuck you fuck you fuck you fuck you fuck you fuck you fuck you fuck you fuck you fuck you fuck you fuck you fuck you fuck you fuck you fuck you fuck you fuck you fuck you fuck you fuck you fuck you fuck you fuck you fuck you fuck you fuck you fuck you fuck you fuck you fuck you fuck you fuck you fuck you fuck you fuck you fuck you fuck you fuck you fuck you fuck you fuck you fuck you fuck you fuck you fuck you fuck you fuck you fuck you fuck you fuck you fuck you fuck you fuck you fuck you fuck you fuck you fuck you fuck you fuck you fuck you fuck you fuck you fuck you fuck you fuck you fuck you fuck you fuck you fuck you fuck you fuck you fuck you fuck you fuck you fuck you fuck you fuck you fuck you fuck you fuck you fuck you fuck you fuck you fuck you fuck you fuck you fuck you fuck you fuck you fuck you fuck you fuck you fuck you fuck you fuck you fuck you fuck you fuck you fuck you fuck you fuck you fuck you fuck you fuck you fuck you fuck you fuck you fuck you fuck you fuck you fuck you fuck you fuck you fuck you fuck you fuck you fuck you fuck you fuck you fuck you fuck you fuck you fuck you fuck you fuck you fuck you fuck you fuck you fuck you fuck you fuck you fuck you fuck you fuck you fuck you fuck you fuck you fuck you fuck you fuck you fuck you fuck you fuck you fuck you fuck you fuck you fuck you fuck you fuck you fuck you fuck you fuck you fuck you fuck you fuck you fuck you fuck you fuck you fuck you fuck you fuck you fuck you fuck you fuck you fuck you fuck you fuck you fuck you fuck you fuck you fuck you fuck you fuck you fuck you fuck you fuck you fuck you fuck you fuck you fuck you fuck you fuck you fuck you fuck you fuck you fuck you fuck you fuck you fuck you fuck you fuck you fuck you fuck you fuck you fuck you fuck you fuck you fuck you fuck you fuck you fuck you fuck you fuck you fuck you fuck you fuck you fuck you fuck you fuck you fuck you fuck you fuck you fuck you fuck you fuck you fuck you fuck you fuck you fuck you fuck you fuck you fuck you fuck you fuck you fuck you fuck you fuck you fuck you fuck you fuck you fuck you fuck you fuck you fuck you fuck you fuck you fuck you fuck you fuck you fuck you fuck you fuck you fuck you fuck you fuck you fuck you fuck you fuck you fuck you fuck you fuck you fuck you fuck you fuck you fuck you fuck you fuck you fuck you fuck you fuck you fuck you fuck you fuck you fuck you fuck you fuck you fuck you fuck you fuck you fuck you fuck you fuck you fuck you fuck you fuck you fuck you fuck you fuck you fuck you fuck you fuck you fuck you fuck you fuck you fuck you fuck you fuck you fuck you fuck you fuck you fuck you fuck you fuck you fuck you fuck you fuck you fuck you fuck you fuck you fuck you fuck you fuck you fuck you fuck you fuck you fuck you fuck you fuck you fuck you fuck you fuck you fuck you fuck you fuck you fuck you fuck you fuck you fuck you fuck you fuck you fuck you fuck you fuck you fuck you fuck you fuck you fuck you fuck you fuck you fuck you fuck you fuck you fuck you fuck you fuck you fuck you fuck you fuck you fuck you fuck you fuck you fuck you fuck you fuck you fuck you fuck you fuck you fuck you fuck you fuck you fuck you fuck you fuck you fuck you fuck you fuck you fuck you fuck you fuck you fuck you fuck you fuck you fuck you fuck you fuck you fuck you fuck you fuck you fuck you fuck you fuck you fuck you fuck you fuck you fuck you fuck you fuck you fuck you fuck you fuck you fuck you fuck you fuck you fuck you fuck you fuck you fuck you fuck you fuck you fuck you fuck you fuck you fuck you fuck you fuck you fuck you fuck you fuck you fuck you fuck you fuck you fuck you fuck you fuck you fuck you fuck you fuck you fuck you fuck you fuck you fuck you fuck you fuck you fuck you fuck you fuck you fuck you fuck you fuck you fuck you fuck you fuck you fuck you fuck you fuck you fuck you fuck you fuck you fuck you fuc'"
      ]
     },
     "metadata": {},
     "output_type": "display_data"
    },
    {
     "name": "stdout",
     "output_type": "stream",
     "text": [
      "Offensive Score is 1.4307299107313156\n"
     ]
    },
    {
     "data": {
      "text/html": [
       "<span style=\"background-color: #FFFCFC\">[CLS]</span> <span style=\"background-color: #FFFAFA\">fuck</span> <span style=\"background-color: #FFFBFB\">you</span> <span style=\"background-color: #FFFBFB\">you</span> <span style=\"background-color: #FFFBFB\">atheist</span> <span style=\"background-color: #FFFBFB\">cu</span> <span style=\"background-color: #FFFBFB\">##nt</span> <span style=\"background-color: #FFFAFA\">fuck</span> <span style=\"background-color: #FFFBFB\">you</span> <span style=\"background-color: #FFFBFB\">you</span> <span style=\"background-color: #FFFCFC\">atheist</span> <span style=\"background-color: #FFFBFB\">cu</span> <span style=\"background-color: #FFFBFB\">##nt</span> <span style=\"background-color: #FFFAFA\">fuck</span> <span style=\"background-color: #FFFBFB\">you</span> <span style=\"background-color: #FFFBFB\">you</span> <span style=\"background-color: #FFFCFC\">atheist</span> <span style=\"background-color: #FFFBFB\">cu</span> <span style=\"background-color: #FFFBFB\">##nt</span> <span style=\"background-color: #FFFBFB\">fuck</span> <span style=\"background-color: #FFFBFB\">you</span> <span style=\"background-color: #FFFBFB\">you</span> <span style=\"background-color: #FFFCFC\">atheist</span> <span style=\"background-color: #FFFBFB\">cu</span> <span style=\"background-color: #FFFBFB\">##nt</span> <span style=\"background-color: #FFFBFB\">fuck</span> <span style=\"background-color: #FFFBFB\">you</span> <span style=\"background-color: #FFFBFB\">you</span> <span style=\"background-color: #FFFCFC\">atheist</span> <span style=\"background-color: #FFFBFB\">cu</span> <span style=\"background-color: #FFFBFB\">##nt</span> <span style=\"background-color: #FFFBFB\">fuck</span> <span style=\"background-color: #FFFBFB\">you</span> <span style=\"background-color: #FFFBFB\">you</span> <span style=\"background-color: #FFFCFC\">atheist</span> <span style=\"background-color: #FFFBFB\">cu</span> <span style=\"background-color: #FFFBFB\">##nt</span> <span style=\"background-color: #FFFBFB\">fuck</span> <span style=\"background-color: #FFFBFB\">you</span> <span style=\"background-color: #FFFCFC\">you</span> <span style=\"background-color: #FFFCFC\">atheist</span> <span style=\"background-color: #FFFBFB\">cu</span> <span style=\"background-color: #FFFCFC\">##nt</span> <span style=\"background-color: #FFFBFB\">fuck</span> <span style=\"background-color: #FFFCFC\">you</span> <span style=\"background-color: #FFFCFC\">you</span> <span style=\"background-color: #FFFCFC\">atheist</span> <span style=\"background-color: #FFFCFC\">cu</span> <span style=\"background-color: #FFFCFC\">##nt</span> <span style=\"background-color: #FFFCFC\">fuck</span> <span style=\"background-color: #FFFCFC\">you</span> <span style=\"background-color: #FFFCFC\">you</span> <span style=\"background-color: #FFFDFD\">atheist</span> <span style=\"background-color: #FFFCFC\">cu</span> <span style=\"background-color: #FFFCFC\">##nt</span> <span style=\"background-color: #FFFCFC\">fuck</span> <span style=\"background-color: #FFFCFC\">you</span> <span style=\"background-color: #FFFCFC\">you</span> <span style=\"background-color: #FFFDFD\">atheist</span> <span style=\"background-color: #FFFCFC\">cu</span> <span style=\"background-color: #FFFCFC\">##nt</span> <span style=\"background-color: #FFFCFC\">fuck</span> <span style=\"background-color: #FFFCFC\">you</span> <span style=\"background-color: #FFFCFC\">you</span> <span style=\"background-color: #FFFDFD\">atheist</span> <span style=\"background-color: #FFFCFC\">cu</span> <span style=\"background-color: #FFFCFC\">##nt</span> <span style=\"background-color: #FFFBFB\">fuck</span> <span style=\"background-color: #FFFCFC\">you</span> <span style=\"background-color: #FFFCFC\">you</span> <span style=\"background-color: #FFFDFD\">atheist</span> <span style=\"background-color: #FFFCFC\">cu</span> <span style=\"background-color: #FFFCFC\">##nt</span> <span style=\"background-color: #FFFBFB\">fuck</span> <span style=\"background-color: #FFFCFC\">you</span> <span style=\"background-color: #FFFCFC\">you</span> <span style=\"background-color: #FFFDFD\">atheist</span> <span style=\"background-color: #FFFCFC\">cu</span> <span style=\"background-color: #FFFCFC\">##nt</span> <span style=\"background-color: #FFFBFB\">fuck</span> <span style=\"background-color: #FFFCFC\">you</span> <span style=\"background-color: #FFFCFC\">you</span> <span style=\"background-color: #FFFDFD\">atheist</span> <span style=\"background-color: #FFFCFC\">cu</span> <span style=\"background-color: #FFFCFC\">##nt</span> <span style=\"background-color: #FFFBFB\">fuck</span> <span style=\"background-color: #FFFCFC\">you</span> <span style=\"background-color: #FFFCFC\">you</span> <span style=\"background-color: #FFFDFD\">atheist</span> <span style=\"background-color: #FFFCFC\">cu</span> <span style=\"background-color: #FFFCFC\">##nt</span> <span style=\"background-color: #FFFBFB\">fuck</span> <span style=\"background-color: #FFFCFC\">you</span> <span style=\"background-color: #FFFCFC\">you</span> <span style=\"background-color: #FFFDFD\">atheist</span> <span style=\"background-color: #FFFCFC\">cu</span> <span style=\"background-color: #FFFCFC\">##nt</span> <span style=\"background-color: #FFFBFB\">fuck</span> <span style=\"background-color: #FFFCFC\">you</span> <span style=\"background-color: #FFFCFC\">you</span> <span style=\"background-color: #FFFDFD\">atheist</span> <span style=\"background-color: #FFFCFC\">cu</span> <span style=\"background-color: #FFFCFC\">##nt</span> <span style=\"background-color: #FFFBFB\">fuck</span> <span style=\"background-color: #FFFCFC\">you</span> <span style=\"background-color: #FFFCFC\">you</span> <span style=\"background-color: #FFFDFD\">atheist</span> <span style=\"background-color: #FFFCFC\">cu</span> <span style=\"background-color: #FFFCFC\">##nt</span> <span style=\"background-color: #FFFBFB\">fuck</span> <span style=\"background-color: #FFFCFC\">you</span> <span style=\"background-color: #FFFCFC\">you</span> <span style=\"background-color: #FFFCFC\">atheist</span> <span style=\"background-color: #FFFCFC\">cu</span> <span style=\"background-color: #FFFCFC\">##nt</span> <span style=\"background-color: #FFFBFB\">fuck</span> <span style=\"background-color: #FFFCFC\">you</span> <span style=\"background-color: #FFFCFC\">you</span> <span style=\"background-color: #FFFCFC\">atheist</span> <span style=\"background-color: #FFFCFC\">cu</span> <span style=\"background-color: #FFFCFC\">##nt</span> <span style=\"background-color: #FFFBFB\">fuck</span> <span style=\"background-color: #FFFCFC\">you</span> <span style=\"background-color: #FFFCFC\">you</span> <span style=\"background-color: #FFFCFC\">atheist</span> <span style=\"background-color: #FFFCFC\">cu</span> <span style=\"background-color: #FFFCFC\">##nt</span> <span style=\"background-color: #FFFBFB\">fuck</span> <span style=\"background-color: #FFFCFC\">you</span> <span style=\"background-color: #FFFCFC\">you</span> <span style=\"background-color: #FFFCFC\">atheist</span> <span style=\"background-color: #FFFCFC\">cu</span> <span style=\"background-color: #FFFCFC\">##nt</span> <span style=\"background-color: #FFFBFB\">fuck</span> <span style=\"background-color: #FFFCFC\">you</span> <span style=\"background-color: #FFFCFC\">you</span> <span style=\"background-color: #FFFCFC\">atheist</span> <span style=\"background-color: #FFFBFB\">cu</span> <span style=\"background-color: #FFFCFC\">##nt</span> <span style=\"background-color: #FFFBFB\">fuck</span> <span style=\"background-color: #FFFBFB\">you</span> <span style=\"background-color: #FFFCFC\">you</span> <span style=\"background-color: #FFFCFC\">atheist</span> <span style=\"background-color: #FFFBFB\">cu</span> <span style=\"background-color: #FFFBFB\">##nt</span> <span style=\"background-color: #FFFBFB\">fuck</span> <span style=\"background-color: #FFFBFB\">you</span> <span style=\"background-color: #FFFBFB\">you</span> <span style=\"background-color: #FFFCFC\">atheist</span> <span style=\"background-color: #FFFBFB\">cu</span> <span style=\"background-color: #FFFBFB\">##nt</span> <span style=\"background-color: #FFFBFB\">fuck</span> <span style=\"background-color: #FFFBFB\">you</span> <span style=\"background-color: #FFFBFB\">you</span> <span style=\"background-color: #FFFCFC\">atheist</span> <span style=\"background-color: #FFFBFB\">cu</span> <span style=\"background-color: #FFFBFB\">##nt</span> <span style=\"background-color: #FFFBFB\">fuck</span> <span style=\"background-color: #FFFBFB\">you</span> <span style=\"background-color: #FFFBFB\">you</span> <span style=\"background-color: #FFFCFC\">atheist</span> <span style=\"background-color: #FFFBFB\">cu</span> <span style=\"background-color: #FFFBFB\">##nt</span> <span style=\"background-color: #FFFBFB\">fuck</span> <span style=\"background-color: #FFFBFB\">you</span> <span style=\"background-color: #FFFCFC\">you</span> <span style=\"background-color: #FFFCFC\">atheist</span> <span style=\"background-color: #FFFBFB\">cu</span> <span style=\"background-color: #FFFCFC\">##nt</span> <span style=\"background-color: #FFFBFB\">fuck</span> <span style=\"background-color: #FFFCFC\">you</span> <span style=\"background-color: #FFFCFC\">you</span> <span style=\"background-color: #FFFCFC\">atheist</span> <span style=\"background-color: #FFFBFB\">cu</span> <span style=\"background-color: #FFFCFC\">##nt</span> <span style=\"background-color: #FFFBFB\">fuck</span> <span style=\"background-color: #FFFCFC\">you</span> <span style=\"background-color: #FFFCFC\">you</span> <span style=\"background-color: #FFFCFC\">atheist</span> <span style=\"background-color: #FFFBFB\">cu</span> <span style=\"background-color: #FFFCFC\">##nt</span> <span style=\"background-color: #FFFBFB\">fuck</span> <span style=\"background-color: #FFFBFB\">you</span> <span style=\"background-color: #FFFBFB\">you</span> <span style=\"background-color: #FFFCFC\">atheist</span> <span style=\"background-color: #FFFBFB\">cu</span> <span style=\"background-color: #FFFCFC\">##nt</span> <span style=\"background-color: #FFFBFB\">fuck</span> <span style=\"background-color: #FFFCFC\">you</span> <span style=\"background-color: #FFFCFC\">you</span> <span style=\"background-color: #FFFCFC\">atheist</span> <span style=\"background-color: #FFFCFC\">cu</span> <span style=\"background-color: #FFFCFC\">##nt</span> <span style=\"background-color: #FFFBFB\">fuck</span> <span style=\"background-color: #FFFCFC\">you</span> <span style=\"background-color: #FFFCFC\">you</span> <span style=\"background-color: #FFFCFC\">atheist</span> <span style=\"background-color: #FFFCFC\">cu</span> <span style=\"background-color: #FFFCFC\">##nt</span> <span style=\"background-color: #FFFBFB\">fuck</span> <span style=\"background-color: #FFFCFC\">you</span> <span style=\"background-color: #FFFCFC\">you</span> <span style=\"background-color: #FFFCFC\">atheist</span> <span style=\"background-color: #FFFCFC\">cu</span> <span style=\"background-color: #FFFCFC\">##nt</span> <span style=\"background-color: #FFFBFB\">fuck</span> <span style=\"background-color: #FFFCFC\">you</span> <span style=\"background-color: #FFFCFC\">you</span> <span style=\"background-color: #FFFCFC\">atheist</span> <span style=\"background-color: #FFFCFC\">cu</span> <span style=\"background-color: #FFFCFC\">##nt</span> <span style=\"background-color: #FFFBFB\">fuck</span> <span style=\"background-color: #FFFCFC\">you</span> <span style=\"background-color: #FFFCFC\">you</span> <span style=\"background-color: #FFFCFC\">atheist</span> <span style=\"background-color: #FFFCFC\">cu</span> <span style=\"background-color: #FFFCFC\">##nt</span> <span style=\"background-color: #FFFBFB\">fuck</span> <span style=\"background-color: #FFFCFC\">you</span> <span style=\"background-color: #FFFCFC\">you</span> <span style=\"background-color: #FFFCFC\">atheist</span> <span style=\"background-color: #FFFCFC\">cu</span> <span style=\"background-color: #FFFCFC\">##nt</span> <span style=\"background-color: #FFFBFB\">fuck</span> <span style=\"background-color: #FFFCFC\">you</span> <span style=\"background-color: #FFFCFC\">you</span> <span style=\"background-color: #FFFCFC\">atheist</span> <span style=\"background-color: #FFFCFC\">cu</span> <span style=\"background-color: #FFFCFC\">##nt</span> <span style=\"background-color: #FFFBFB\">fuck</span> <span style=\"background-color: #FFFCFC\">you</span> <span style=\"background-color: #FFFCFC\">you</span> <span style=\"background-color: #FFFCFC\">atheist</span> <span style=\"background-color: #FFFCFC\">cu</span> <span style=\"background-color: #FFFCFC\">##nt</span> <span style=\"background-color: #FFFBFB\">fuck</span> <span style=\"background-color: #FFFCFC\">you</span> <span style=\"background-color: #FFFCFC\">you</span> <span style=\"background-color: #FFFCFC\">atheist</span> <span style=\"background-color: #FFFCFC\">cu</span> <span style=\"background-color: #FFFBFB\">##nt</span> <span style=\"background-color: #FFFBFB\">fuck</span> <span style=\"background-color: #FFFBFB\">you</span> <span style=\"background-color: #FFFCFC\">you</span> <span style=\"background-color: #FFFCFC\">atheist</span> <span style=\"background-color: #FFFBFB\">cu</span> <span style=\"background-color: #FFFBFB\">##nt</span> <span style=\"background-color: #FFFBFB\">fuck</span> <span style=\"background-color: #FFFBFB\">you</span> <span style=\"background-color: #FFFBFB\">you</span> <span style=\"background-color: #FFFCFC\">atheist</span> <span style=\"background-color: #FFFBFB\">cu</span> <span style=\"background-color: #FFFBFB\">##nt</span> <span style=\"background-color: #FFFAFA\">fuck</span> <span style=\"background-color: #FFFBFB\">you</span> <span style=\"background-color: #FF-815-815\">you</span>"
      ],
      "text/plain": [
       "<IPython.core.display.HTML object>"
      ]
     },
     "metadata": {},
     "output_type": "display_data"
    },
    {
     "data": {
      "text/plain": [
       "'fuck you you atheist cunt fuck you you atheist cunt fuck you you atheist cunt fuck you you atheist cunt fuck you you atheist cunt fuck you you atheist cunt fuck you you atheist cunt fuck you you atheist cunt fuck you you atheist cunt fuck you you atheist cunt fuck you you atheist cunt fuck you you atheist cunt fuck you you atheist cunt fuck you you atheist cunt fuck you you atheist cunt fuck you you atheist cunt fuck you you atheist cunt fuck you you atheist cunt fuck you you atheist cunt fuck you you atheist cunt fuck you you atheist cunt fuck you you atheist cunt fuck you you atheist cunt fuck you you atheist cunt fuck you you atheist cunt fuck you you atheist cunt fuck you you atheist cunt fuck you you atheist cunt fuck you you atheist cunt fuck you you atheist cunt fuck you you atheist cunt fuck you you atheist cunt fuck you you atheist cunt fuck you you atheist cunt fuck you you atheist cunt fuck you you atheist cunt fuck you you atheist cunt fuck you you atheist cunt fuck you you atheist cunt fuck you you atheist cunt fuck you you atheist cunt fuck you you atheist cunt fuck you you atheist cunt fuck you you atheist cunt fuck you you atheist cunt fuck you you atheist cunt fuck you you atheist cunt fuck you you atheist cunt fuck you you atheist cunt fuck you you atheist cunt fuck you you atheist cunt fuck you you atheist cunt fuck you you atheist cunt fuck you you atheist cunt fuck you you atheist cunt fuck you you atheist cunt fuck you you atheist cunt fuck you you atheist cunt fuck you you atheist cunt fuck you you atheist cunt fuck you you atheist cunt fuck you you atheist cunt fuck you you atheist cunt fuck you you atheist cunt fuck you you atheist cunt fuck you you atheist cunt fuck you you atheist cunt fuck you you atheist cunt fuck you you atheist cunt fuck you you atheist cunt fuck you you atheist cunt fuck you you atheist cunt fuck you you atheist cunt fuck you you atheist cunt fuck you you atheist cunt fuck you you atheist cunt fuck you you atheist cunt fuck you you atheist cunt fuck you you atheist cunt fuck you you atheist cunt fuck you you atheist cunt fuck you you atheist cunt fuck you you atheist cunt fuck you you atheist cunt fuck you you atheist cunt fuck you you atheist cunt fuck you you atheist cunt fuck you you atheist cunt fuck you you atheist cunt fuck you you atheist cunt fuck you you atheist cunt fuck you you atheist cunt fuck you you atheist cunt fuck you you atheist cunt fuck you you atheist cunt fuck you you atheist cunt fuck you you atheist cunt fuck you you atheist cunt fuck you you atheist cunt fuck you you atheist cunt fuck you you atheist cunt fuck you you atheist cunt fuck you you atheist cunt fuck you you atheist cunt fuck you you atheist cunt fuck you you atheist cunt fuck you you atheist cunt fuck you you atheist cunt fuck you you atheist cunt fuck you you atheist cunt fuck you you atheist cunt fuck you you atheist cunt fuck you you atheist cunt fuck you you atheist cunt fuck you you atheist cunt fuck you you atheist cunt fuck you you atheist cunt fuck you you atheist cunt fuck you you atheist cunt fuck you you atheist cunt fuck you you atheist cunt fuck you you atheist cunt fuck you you atheist cunt fuck you you atheist cunt fuck you you atheist cunt fuck you you atheist cunt fuck you you atheist cunt fuck you you atheist cunt fuck you you atheist cunt fuck you you atheist cunt fuck you you atheist cunt fuck you you atheist cunt fuck you you atheist cunt fuck you you atheist cunt fuck you you atheist cunt fuck you you atheist cunt fuck you you atheist cunt fuck you you atheist cunt fuck you you atheist cunt fuck you you atheist cunt fuck you you atheist cunt fuck you you atheist cunt fuck you you atheist cunt fuck you you atheist cunt fuck you you atheist cunt fuck you you atheist cunt fuck you you atheist cunt fuck you you atheist cunt fuck you you atheist cunt fuck you you atheist cunt fuck you you atheist cunt fuck you you atheist cunt fuck you you atheist cunt fuck you you atheist cunt fuck you you atheist cunt fuck you you atheist cunt fuck you you atheist cunt fuck you you atheist cunt fuck you you atheist cunt fuck you you atheist cunt fuck you you atheist cunt fuck you you atheist cunt fuck you you atheist cunt fuck you you atheist cunt fuck you you atheist cunt fuck you you atheist cunt fuck you you atheist cunt fuck you you atheist cunt fuck you you atheist cunt fuck you you atheist cunt fuck you you atheist cunt fuck you you atheist cunt fuck you you atheist cunt fuck you you atheist cunt fuck you you atheist cunt fuck you you atheist cunt fuck you you atheist cunt fuck you you atheist cunt fuck you you at'"
      ]
     },
     "metadata": {},
     "output_type": "display_data"
    },
    {
     "name": "stdout",
     "output_type": "stream",
     "text": [
      "Offensive Score is 1.3568626195192337\n"
     ]
    },
    {
     "data": {
      "text/html": [
       "<span style=\"background-color: #FFF9F9\">[CLS]</span> <span style=\"background-color: #FFF8F8\">go</span> <span style=\"background-color: #FFF7F7\">fuck</span> <span style=\"background-color: #FFFAFA\">yourself</span> <span style=\"background-color: #FFF9F9\">go</span> <span style=\"background-color: #FFF8F8\">fuck</span> <span style=\"background-color: #FFFAFA\">yourself</span> <span style=\"background-color: #FFF9F9\">go</span> <span style=\"background-color: #FFF8F8\">fuck</span> <span style=\"background-color: #FFFAFA\">yourself</span> <span style=\"background-color: #FFF9F9\">go</span> <span style=\"background-color: #FFF8F8\">fuck</span> <span style=\"background-color: #FFFAFA\">yourself</span> <span style=\"background-color: #FFF9F9\">go</span> <span style=\"background-color: #FFF8F8\">fuck</span> <span style=\"background-color: #FFFBFB\">yourself</span> <span style=\"background-color: #FFFAFA\">go</span> <span style=\"background-color: #FFF8F8\">fuck</span> <span style=\"background-color: #FFFBFB\">yourself</span> <span style=\"background-color: #FFFAFA\">go</span> <span style=\"background-color: #FFF9F9\">fuck</span> <span style=\"background-color: #FFFBFB\">yourself</span> <span style=\"background-color: #FFFAFA\">go</span> <span style=\"background-color: #FFF9F9\">fuck</span> <span style=\"background-color: #FFFBFB\">yourself</span> <span style=\"background-color: #FFFAFA\">go</span> <span style=\"background-color: #FFF9F9\">fuck</span> <span style=\"background-color: #FFFBFB\">yourself</span> <span style=\"background-color: #FFFAFA\">go</span> <span style=\"background-color: #FFF9F9\">fuck</span> <span style=\"background-color: #FFFBFB\">yourself</span> <span style=\"background-color: #FFFAFA\">go</span> <span style=\"background-color: #FFF9F9\">fuck</span> <span style=\"background-color: #FFFBFB\">yourself</span> <span style=\"background-color: #FFFAFA\">go</span> <span style=\"background-color: #FFF9F9\">fuck</span> <span style=\"background-color: #FFFBFB\">yourself</span> <span style=\"background-color: #FFFAFA\">go</span> <span style=\"background-color: #FFF9F9\">fuck</span> <span style=\"background-color: #FFFCFC\">yourself</span> <span style=\"background-color: #FFFAFA\">go</span> <span style=\"background-color: #FFFAFA\">fuck</span> <span style=\"background-color: #FFFCFC\">yourself</span> <span style=\"background-color: #FFFBFB\">go</span> <span style=\"background-color: #FFFAFA\">fuck</span> <span style=\"background-color: #FFFCFC\">yourself</span> <span style=\"background-color: #FFFBFB\">go</span> <span style=\"background-color: #FFFAFA\">fuck</span> <span style=\"background-color: #FFFCFC\">yourself</span> <span style=\"background-color: #FFFBFB\">go</span> <span style=\"background-color: #FFFAFA\">fuck</span> <span style=\"background-color: #FFFCFC\">yourself</span> <span style=\"background-color: #FFFBFB\">go</span> <span style=\"background-color: #FFFAFA\">fuck</span> <span style=\"background-color: #FFFCFC\">yourself</span> <span style=\"background-color: #FFFBFB\">go</span> <span style=\"background-color: #FFFAFA\">fuck</span> <span style=\"background-color: #FFFCFC\">yourself</span> <span style=\"background-color: #FFFBFB\">go</span> <span style=\"background-color: #FFFAFA\">fuck</span> <span style=\"background-color: #FFFCFC\">yourself</span> <span style=\"background-color: #FFFBFB\">go</span> <span style=\"background-color: #FFFAFA\">fuck</span> <span style=\"background-color: #FFFCFC\">yourself</span> <span style=\"background-color: #FFFCFC\">go</span> <span style=\"background-color: #FFFBFB\">fuck</span> <span style=\"background-color: #FFFCFC\">yourself</span> <span style=\"background-color: #FFFCFC\">go</span> <span style=\"background-color: #FFFBFB\">fuck</span> <span style=\"background-color: #FFFCFC\">yourself</span> <span style=\"background-color: #FFFCFC\">go</span> <span style=\"background-color: #FFFBFB\">fuck</span> <span style=\"background-color: #FFFCFC\">yourself</span> <span style=\"background-color: #FFFCFC\">go</span> <span style=\"background-color: #FFFBFB\">fuck</span> <span style=\"background-color: #FFFCFC\">yourself</span> <span style=\"background-color: #FFFCFC\">go</span> <span style=\"background-color: #FFFBFB\">fuck</span> <span style=\"background-color: #FFFDFD\">yourself</span> <span style=\"background-color: #FFFCFC\">go</span> <span style=\"background-color: #FFFAFA\">fuck</span> <span style=\"background-color: #FFFDFD\">yourself</span> <span style=\"background-color: #FFFCFC\">go</span> <span style=\"background-color: #FFFAFA\">fuck</span> <span style=\"background-color: #FFFDFD\">yourself</span> <span style=\"background-color: #FFFCFC\">go</span> <span style=\"background-color: #FFFAFA\">fuck</span> <span style=\"background-color: #FFFDFD\">yourself</span> <span style=\"background-color: #FFFCFC\">go</span> <span style=\"background-color: #FFFAFA\">fuck</span> <span style=\"background-color: #FFFDFD\">yourself</span> <span style=\"background-color: #FFFCFC\">go</span> <span style=\"background-color: #FFFAFA\">fuck</span> <span style=\"background-color: #FFFDFD\">yourself</span> <span style=\"background-color: #FFFCFC\">go</span> <span style=\"background-color: #FFFAFA\">fuck</span> <span style=\"background-color: #FFFDFD\">yourself</span> <span style=\"background-color: #FFFCFC\">go</span> <span style=\"background-color: #FFFAFA\">fuck</span> <span style=\"background-color: #FFFDFD\">yourself</span> <span style=\"background-color: #FFFCFC\">go</span> <span style=\"background-color: #FFFAFA\">fuck</span> <span style=\"background-color: #FFFDFD\">yourself</span> <span style=\"background-color: #FFFCFC\">go</span> <span style=\"background-color: #FFFBFB\">fuck</span> <span style=\"background-color: #FFFDFD\">yourself</span> <span style=\"background-color: #FFFCFC\">go</span> <span style=\"background-color: #FFFAFA\">fuck</span> <span style=\"background-color: #FFFDFD\">yourself</span> <span style=\"background-color: #FFFCFC\">go</span> <span style=\"background-color: #FFFAFA\">fuck</span> <span style=\"background-color: #FFFDFD\">yourself</span> <span style=\"background-color: #FFFCFC\">go</span> <span style=\"background-color: #FFFAFA\">fuck</span> <span style=\"background-color: #FFFDFD\">yourself</span> <span style=\"background-color: #FFFCFC\">go</span> <span style=\"background-color: #FFFAFA\">fuck</span> <span style=\"background-color: #FFFDFD\">yourself</span> <span style=\"background-color: #FFFCFC\">go</span> <span style=\"background-color: #FFFAFA\">fuck</span> <span style=\"background-color: #FFFDFD\">yourself</span> <span style=\"background-color: #FFFCFC\">go</span> <span style=\"background-color: #FFFAFA\">fuck</span> <span style=\"background-color: #FFFDFD\">yourself</span> <span style=\"background-color: #FFFCFC\">go</span> <span style=\"background-color: #FFFAFA\">fuck</span> <span style=\"background-color: #FFFCFC\">yourself</span> <span style=\"background-color: #FFFBFB\">go</span> <span style=\"background-color: #FFFAFA\">fuck</span> <span style=\"background-color: #FFFCFC\">yourself</span> <span style=\"background-color: #FFFCFC\">go</span> <span style=\"background-color: #FFFAFA\">fuck</span> <span style=\"background-color: #FFFDFD\">yourself</span> <span style=\"background-color: #FFFCFC\">go</span> <span style=\"background-color: #FFFAFA\">fuck</span> <span style=\"background-color: #FFFDFD\">yourself</span> <span style=\"background-color: #FFFCFC\">go</span> <span style=\"background-color: #FFFAFA\">fuck</span> <span style=\"background-color: #FFFDFD\">yourself</span> <span style=\"background-color: #FFFCFC\">go</span> <span style=\"background-color: #FFFAFA\">fuck</span> <span style=\"background-color: #FFFCFC\">yourself</span> <span style=\"background-color: #FFFCFC\">go</span> <span style=\"background-color: #FFFAFA\">fuck</span> <span style=\"background-color: #FFFCFC\">yourself</span> <span style=\"background-color: #FFFCFC\">go</span> <span style=\"background-color: #FFFAFA\">fuck</span> <span style=\"background-color: #FFFCFC\">yourself</span> <span style=\"background-color: #FFFBFB\">go</span> <span style=\"background-color: #FFFAFA\">fuck</span> <span style=\"background-color: #FFFCFC\">yourself</span> <span style=\"background-color: #FFFBFB\">go</span> <span style=\"background-color: #FFFAFA\">fuck</span> <span style=\"background-color: #FFFCFC\">yourself</span> <span style=\"background-color: #FFFBFB\">go</span> <span style=\"background-color: #FFFAFA\">fuck</span> <span style=\"background-color: #FFFCFC\">yourself</span> <span style=\"background-color: #FFFBFB\">go</span> <span style=\"background-color: #FFFAFA\">fuck</span> <span style=\"background-color: #FFFCFC\">yourself</span> <span style=\"background-color: #FFFBFB\">go</span> <span style=\"background-color: #FFFAFA\">fuck</span> <span style=\"background-color: #FFFCFC\">yourself</span> <span style=\"background-color: #FFFBFB\">go</span> <span style=\"background-color: #FFFBFB\">fuck</span> <span style=\"background-color: #FFFCFC\">yourself</span> <span style=\"background-color: #FFFCFC\">go</span> <span style=\"background-color: #FFFBFB\">fuck</span> <span style=\"background-color: #FFFCFC\">yourself</span> <span style=\"background-color: #FFFCFC\">go</span> <span style=\"background-color: #FFFBFB\">fuck</span> <span style=\"background-color: #FFFCFC\">yourself</span> <span style=\"background-color: #FFFCFC\">go</span> <span style=\"background-color: #FFFBFB\">fuck</span> <span style=\"background-color: #FFFCFC\">yourself</span> <span style=\"background-color: #FFFCFC\">go</span> <span style=\"background-color: #FFFAFA\">fuck</span> <span style=\"background-color: #FFFCFC\">yourself</span> <span style=\"background-color: #FFFCFC\">go</span> <span style=\"background-color: #FFFAFA\">fuck</span> <span style=\"background-color: #FFFCFC\">yourself</span> <span style=\"background-color: #FFFCFC\">go</span> <span style=\"background-color: #FFFBFB\">fuck</span> <span style=\"background-color: #FFFCFC\">yourself</span> <span style=\"background-color: #FFFCFC\">go</span> <span style=\"background-color: #FFFBFB\">fuck</span> <span style=\"background-color: #FFFCFC\">yourself</span> <span style=\"background-color: #FFFCFC\">go</span> <span style=\"background-color: #FFFBFB\">fuck</span> <span style=\"background-color: #FFFCFC\">yourself</span> <span style=\"background-color: #FFFCFC\">go</span> <span style=\"background-color: #FFFBFB\">fuck</span> <span style=\"background-color: #FFFDFD\">yourself</span> <span style=\"background-color: #FFFCFC\">go</span> <span style=\"background-color: #FFFBFB\">fuck</span> <span style=\"background-color: #FFFDFD\">yourself</span> <span style=\"background-color: #FFFCFC\">go</span> <span style=\"background-color: #FFFBFB\">fuck</span> <span style=\"background-color: #FFFDFD\">yourself</span> <span style=\"background-color: #FFFCFC\">go</span> <span style=\"background-color: #FFFBFB\">fuck</span> <span style=\"background-color: #FFFDFD\">yourself</span> <span style=\"background-color: #FFFCFC\">go</span> <span style=\"background-color: #FFFBFB\">fuck</span> <span style=\"background-color: #FFFDFD\">yourself</span> <span style=\"background-color: #FFFCFC\">go</span> <span style=\"background-color: #FFFBFB\">fuck</span> <span style=\"background-color: #FFFDFD\">yourself</span> <span style=\"background-color: #FFFCFC\">go</span> <span style=\"background-color: #FFFBFB\">fuck</span> <span style=\"background-color: #FFFCFC\">yourself</span> <span style=\"background-color: #FFFCFC\">go</span> <span style=\"background-color: #FFFBFB\">fuck</span> <span style=\"background-color: #FFFCFC\">yourself</span> <span style=\"background-color: #FFFCFC\">go</span> <span style=\"background-color: #FFFBFB\">fuck</span> <span style=\"background-color: #FFFDFD\">yourself</span> <span style=\"background-color: #FFFCFC\">go</span> <span style=\"background-color: #FFFBFB\">fuck</span> <span style=\"background-color: #FFFDFD\">yourself</span> <span style=\"background-color: #FFFCFC\">go</span> <span style=\"background-color: #FFFBFB\">fuck</span> <span style=\"background-color: #FFFDFD\">yourself</span> <span style=\"background-color: #FFFCFC\">go</span> <span style=\"background-color: #FFFBFB\">fuck</span> <span style=\"background-color: #FFFDFD\">yourself</span> <span style=\"background-color: #FFFCFC\">go</span> <span style=\"background-color: #FFFBFB\">fuck</span> <span style=\"background-color: #FFFDFD\">yourself</span> <span style=\"background-color: #FFFCFC\">go</span> <span style=\"background-color: #FFFBFB\">fuck</span> <span style=\"background-color: #FFFDFD\">yourself</span> <span style=\"background-color: #FFFCFC\">go</span> <span style=\"background-color: #FFFBFB\">fuck</span> <span style=\"background-color: #FFFDFD\">yourself</span> <span style=\"background-color: #FFFCFC\">go</span> <span style=\"background-color: #FFFAFA\">fuck</span> <span style=\"background-color: #FFFDFD\">yourself</span> <span style=\"background-color: #FFFCFC\">go</span> <span style=\"background-color: #FFFAFA\">fuck</span> <span style=\"background-color: #FFFCFC\">yourself</span> <span style=\"background-color: #FFFCFC\">go</span> <span style=\"background-color: #FFFAFA\">fuck</span> <span style=\"background-color: #FFFCFC\">yourself</span> <span style=\"background-color: #FFFCFC\">go</span> <span style=\"background-color: #FFFAFA\">fuck</span> <span style=\"background-color: #FFFCFC\">yourself</span> <span style=\"background-color: #FFFCFC\">go</span> <span style=\"background-color: #FFFAFA\">fuck</span> <span style=\"background-color: #FFFCFC\">yourself</span> <span style=\"background-color: #FFFCFC\">go</span> <span style=\"background-color: #FFFAFA\">fuck</span> <span style=\"background-color: #FFFCFC\">yourself</span> <span style=\"background-color: #FFFCFC\">go</span> <span style=\"background-color: #FFFAFA\">fuck</span> <span style=\"background-color: #FF-7B8-7B8\">yourself</span>"
      ],
      "text/plain": [
       "<IPython.core.display.HTML object>"
      ]
     },
     "metadata": {},
     "output_type": "display_data"
    },
    {
     "data": {
      "text/plain": [
       "'go fuck yourself go fuck yourself go fuck yourself go fuck yourself go fuck yourself go fuck yourself go fuck yourself go fuck yourself go fuck yourself go fuck yourself go fuck yourself go fuck yourself go fuck yourself go fuck yourself go fuck yourself go fuck yourself go fuck yourself go fuck yourself go fuck yourself go fuck yourself go fuck yourself go fuck yourself go fuck yourself go fuck yourself go fuck yourself go fuck yourself go fuck yourself go fuck yourself go fuck yourself go fuck yourself go fuck yourself go fuck yourself go fuck yourself go fuck yourself go fuck yourself go fuck yourself go fuck yourself go fuck yourself go fuck yourself go fuck yourself go fuck yourself go fuck yourself go fuck yourself go fuck yourself go fuck yourself go fuck yourself go fuck yourself go fuck yourself go fuck yourself go fuck yourself go fuck yourself go fuck yourself go fuck yourself go fuck yourself go fuck yourself go fuck yourself go fuck yourself go fuck yourself go fuck yourself go fuck yourself go fuck yourself go fuck yourself go fuck yourself go fuck yourself go fuck yourself go fuck yourself go fuck yourself go fuck yourself go fuck yourself go fuck yourself go fuck yourself go fuck yourself go fuck yourself go fuck yourself go fuck yourself go fuck yourself go fuck yourself go fuck yourself go fuck yourself go fuck yourself go fuck yourself go fuck yourself go fuck yourself go fuck yourself go fuck yourself go fuck yourself go fuck yourself go fuck yourself go fuck yourself go fuck yourself go fuck yourself go fuck yourself go fuck yourself go fuck yourself go fuck yourself go fuck yourself go fuck yourself go fuck yourself go fuck yourself go fuck yourself go fuck yourself go fuck yourself go fuck yourself go fuck yourself go fuck yourself go fuck yourself go fuck yourself go fuck yourself go fuck yourself go fuck yourself go fuck yourself go fuck yourself go fuck yourself go fuck yourself go fuck yourself go fuck yourself go fuck yourself go fuck yourself go fuck yourself go fuck yourself go fuck yourself go fuck yourself go fuck yourself go fuck yourself go fuck yourself go fuck yourself go fuck yourself go fuck yourself go fuck yourself go fuck yourself go fuck yourself go fuck yourself go fuck yourself go fuck yourself go fuck yourself go fuck yourself go fuck yourself go fuck yourself go fuck yourself go fuck yourself go fuck yourself go fuck yourself go fuck yourself go fuck yourself go fuck yourself go fuck yourself go fuck yourself go fuck yourself go fuck yourself go fuck yourself go fuck yourself go fuck yourself go fuck yourself go fuck yourself go fuck yourself go fuck yourself go fuck yourself go fuck yourself go fuck yourself go fuck yourself go fuck yourself go fuck yourself go fuck yourself go fuck yourself go fuck yourself go fuck yourself go fuck yourself go fuck yourself go fuck yourself go fuck yourself go fuck yourself go fuck yourself go fuck yourself go fuck yourself go fuck yourself go fuck yourself go fuck yourself go fuck yourself go fuck yourself go fuck yourself go fuck yourself go fuck yourself go fuck yourself go fuck yourself go fuck yourself go fuck yourself go fuck yourself go fuck yourself go fuck yourself go fuck yourself go fuck yourself go fuck yourself go fuck yourself go fuck yourself go fuck yourself go fuck yourself go fuck yourself go fuck yourself go fuck yourself go fuck yourself go fuck yourself go fuck yourself go fuck yourself go fuck yourself go fuck yourself go fuck yourself go fuck yourself go fuck yourself go fuck yourself go fuck yourself go fuck yourself go fuck yourself go fuck yourself go fuck yourself go fuck yourself go fuck yourself go fuck yourself go fuck yourself go fuck yourself go fuck yourself go fuck yourself go fuck yourself go fuck yourself go fuck yourself go fuck yourself go fuck yourself go fuck yourself go fuck yourself go fuck yourself go fuck yourself go fuck yourself go fuck yourself go fuck yourself go fuck yourself go fuck yourself go fuck yourself go fuck yourself go fuck yourself go fuck yourself go fuck yourself go fuck yourself go fuck yourself go fuck yourself go fuck yourself go fuck yourself go fuck yourself go fuck yourself go fuck yourself go fuck yourself go fuck yourself go fuck yourself go fuck yourself go fuck yourself go fuck yourself go fuck yourself go fuck yourself go fuck yourself go fuck yourself go fuck yourself go fuck yourself go fuck yourself go fuck yourself go fuck yourself go fuck yourself go fuck yourself go fuck yourself go fuck yourself go fuck yourself go fuck yourself go fuck yourself go fuck yourself go fuck yourself go fuck yourself go fuck yourself go fuck yourself go fuck yourself go fuck yourself go fuck yours'"
      ]
     },
     "metadata": {},
     "output_type": "display_data"
    },
    {
     "name": "stdout",
     "output_type": "stream",
     "text": [
      "Offensive Score is 1.336852803826332\n"
     ]
    },
    {
     "data": {
      "text/html": [
       "<span style=\"background-color: #FFF7F7\">[CLS]</span> <span style=\"background-color: #FFF3F3\">bitch</span> <span style=\"background-color: #FFF3F3\">you</span> <span style=\"background-color: #FFF5F5\">are</span> <span style=\"background-color: #FFF4F4\">a</span> <span style=\"background-color: #FFF4F4\">fucking</span> <span style=\"background-color: #FFF3F3\">ho</span> <span style=\"background-color: #FFF4F4\">##re</span> <span style=\"background-color: #FFF3F3\">you</span> <span style=\"background-color: #FFF0F0\">suck</span> <span style=\"background-color: #FFEFEF\">dick</span> <span style=\"background-color: #FFF3F3\">you</span> <span style=\"background-color: #FFF5F5\">big</span> <span style=\"background-color: #FFF3F3\">ass</span> <span style=\"background-color: #FFF5F5\">hole</span> <span style=\"background-color: #FFF3F3\">you</span> <span style=\"background-color: #FFF4F4\">are</span> <span style=\"background-color: #FFEAEA\">gay</span> <span style=\"background-color: #FFF3F3\">you</span> <span style=\"background-color: #FFF3F3\">fa</span> <span style=\"background-color: #FFF4F4\">##gg</span> <span style=\"background-color: #FFF4F4\">##ot</span> <span style=\"background-color: #FFF4F4\">ass</span> <span style=\"background-color: #FFF6F6\">bitch</span> <span style=\"background-color: #FFF5F5\">you</span> <span style=\"background-color: #FFF7F7\">can</span> <span style=\"background-color: #FFF7F7\">go</span> <span style=\"background-color: #FFF7F7\">to</span> <span style=\"background-color: #FFF4F4\">hell</span> <span style=\"background-color: #FFF4F4\">you</span> <span style=\"background-color: #FFF5F5\">bitch</span> <span style=\"background-color: #FFF3F3\">ass</span> <span style=\"background-color: #FFF6F6\">mother</span> <span style=\"background-color: #FFF5F5\">##fu</span> <span style=\"background-color: #FFF6F6\">##cker</span> <span style=\"background-color: #FFF0F0\">suck</span> <span style=\"background-color: #FFF3F3\">a</span> <span style=\"background-color: #FFF4F4\">big</span> <span style=\"background-color: #FFF0F0\">dick</span> <span style=\"background-color: #FFF5F5\">asshole</span> <span style=\"background-color: #FFF3F3\">i</span> <span style=\"background-color: #FFF3F3\">i</span> <span style=\"background-color: #FFF2F2\">fuck</span> <span style=\"background-color: #FFF3F3\">##in</span> <span style=\"background-color: #FFF3F3\">your</span> <span style=\"background-color: #FFF5F5\">mom</span> <span style=\"background-color: #FFF3F3\">ho</span> <span style=\"background-color: #FFF4F4\">she</span> <span style=\"background-color: #FFF5F5\">can</span> <span style=\"background-color: #FFF6F6\">i</span> <span style=\"background-color: #FFF7F7\">get</span> <span style=\"background-color: #FFF5F5\">off</span> <span style=\"background-color: #FFF6F6\">my</span> <span style=\"background-color: #FFF1F1\">dick</span> <span style=\"background-color: #FFF4F4\">your</span> <span style=\"background-color: #FFF6F6\">daddy</span> <span style=\"background-color: #FFF5F5\">probably</span> <span style=\"background-color: #FFEBEB\">raped</span> <span style=\"background-color: #FFF5F5\">you</span> <span style=\"background-color: #FFF4F4\">in</span> <span style=\"background-color: #FFF6F6\">the</span> <span style=\"background-color: #FFF0F0\">ass</span> <span style=\"background-color: #FFF5F5\">everyday</span> <span style=\"background-color: #FFF5F5\">when</span> <span style=\"background-color: #FFF5F5\">you</span> <span style=\"background-color: #FFF6F6\">were</span> <span style=\"background-color: #FFF4F4\">young</span> <span style=\"background-color: #FFF3F3\">you</span> <span style=\"background-color: #FFF4F4\">stupid</span> <span style=\"background-color: #FFF3F3\">ass</span> <span style=\"background-color: #FFF5F5\">mother</span> <span style=\"background-color: #FFF3F3\">##fu</span> <span style=\"background-color: #FFF5F5\">##ck</span> <span style=\"background-color: #FF-7E3-7E3\">[SEP]</span>"
      ],
      "text/plain": [
       "<IPython.core.display.HTML object>"
      ]
     },
     "metadata": {},
     "output_type": "display_data"
    },
    {
     "data": {
      "text/plain": [
       "'bitch you are a fucking hore you suck dick you big ass hole you are gay you faggot ass bitch you can go to hell you bitch ass motherfucker suck a big dick asshole i i fuckin your mom ho she can i get off my dick your daddy probably raped you in the ass everyday when you were young you stupid ass motherfuck'"
      ]
     },
     "metadata": {},
     "output_type": "display_data"
    },
    {
     "name": "stdout",
     "output_type": "stream",
     "text": [
      "Offensive Score is 1.3277055770158768\n"
     ]
    },
    {
     "data": {
      "text/html": [
       "<span style=\"background-color: #FFEEEE\">[CLS]</span> <span style=\"background-color: #FFDDDD\">fuck</span> <span style=\"background-color: #FFE4E4\">you</span> <span style=\"background-color: #FFE0E0\">bitch</span> <span style=\"background-color: #FFD2D2\">kiss</span> <span style=\"background-color: #FFDFDF\">my</span> <span style=\"background-color: #FFDADA\">ass</span> <span style=\"background-color: #FFDFDF\">you</span> <span style=\"background-color: #FFDBDB\">dick</span> <span style=\"background-color: #FFE4E4\">##less</span> <span style=\"background-color: #FFDDDD\">troll</span> <span style=\"background-color: #FFDBDB\">i</span> <span style=\"background-color: #FFDBDB\">hope</span> <span style=\"background-color: #FFE2E2\">you</span> <span style=\"background-color: #FFE1E1\">never</span> <span style=\"background-color: #FFE5E5\">return</span> <span style=\"background-color: #FFE0E0\">from</span> <span style=\"background-color: #FFE0E0\">your</span> <span style=\"background-color: #FFC6C6\">gay</span> <span style=\"background-color: #FFD6D6\">ass</span> <span style=\"background-color: #FFDEDE\">vacation</span> <span style=\"background-color: #FFDFDF\">fuck</span> <span style=\"background-color: #FFE3E3\">you</span> <span style=\"background-color: #FF-805-805\">[SEP]</span>"
      ],
      "text/plain": [
       "<IPython.core.display.HTML object>"
      ]
     },
     "metadata": {},
     "output_type": "display_data"
    },
    {
     "data": {
      "text/plain": [
       "'fuck you bitch kiss my ass you dickless troll i hope you never return from your gay ass vacation fuck you'"
      ]
     },
     "metadata": {},
     "output_type": "display_data"
    },
    {
     "name": "stdout",
     "output_type": "stream",
     "text": [
      "Offensive Score is 1.3273665308952332\n"
     ]
    },
    {
     "data": {
      "text/html": [
       "<span style=\"background-color: #FFF3F3\">[CLS]</span> <span style=\"background-color: #FFEAEA\">california</span> <span style=\"background-color: #FFEBEB\">##ali</span> <span style=\"background-color: #FFECEC\">##ba</span> <span style=\"background-color: #FFECEC\">##ba</span> <span style=\"background-color: #FFEFEF\">is</span> <span style=\"background-color: #FFEFEF\">a</span> <span style=\"background-color: #FFEFEF\">bitch</span> <span style=\"background-color: #FFEFEF\">go</span> <span style=\"background-color: #FFEBEB\">fuck</span> <span style=\"background-color: #FFF0F0\">yourself</span> <span style=\"background-color: #FFEFEF\">you</span> <span style=\"background-color: #FFF0F0\">bitch</span> <span style=\"background-color: #FFEFEF\">ass</span> <span style=\"background-color: #FFF2F2\">mother</span> <span style=\"background-color: #FFF1F1\">##fu</span> <span style=\"background-color: #FFF2F2\">##cker</span> <span style=\"background-color: #FFEDED\">don</span> <span style=\"background-color: #FFF1F1\">i</span> <span style=\"background-color: #FFF1F1\">you</span> <span style=\"background-color: #FFF0F0\">ever</span> <span style=\"background-color: #FFEFEF\">in</span> <span style=\"background-color: #FFF0F0\">your</span> <span style=\"background-color: #FFF1F1\">fucking</span> <span style=\"background-color: #FFF2F2\">life</span> <span style=\"background-color: #FFEDED\">threatening</span> <span style=\"background-color: #FFEFEF\">me</span> <span style=\"background-color: #FFEFEF\">you</span> <span style=\"background-color: #FFF0F0\">fucking</span> <span style=\"background-color: #FFF2F2\">piece</span> <span style=\"background-color: #FFF1F1\">of</span> <span style=\"background-color: #FFF1F1\">shit</span> <span style=\"background-color: #FFEFEF\">you</span> <span style=\"background-color: #FFEEEE\">you</span> <span style=\"background-color: #FFEDED\">don</span> <span style=\"background-color: #FFEEEE\">i</span> <span style=\"background-color: #FFF0F0\">know</span> <span style=\"background-color: #FFF2F2\">me</span> <span style=\"background-color: #FFF0F0\">i</span> <span style=\"background-color: #FFF0F0\">will</span> <span style=\"background-color: #FFEFEF\">fucking</span> <span style=\"background-color: #FFE9E9\">kill</span> <span style=\"background-color: #FFF1F1\">your</span> <span style=\"background-color: #FFE9E9\">ass</span> <span style=\"background-color: #FFF0F0\">you</span> <span style=\"background-color: #FFEDED\">punk</span> <span style=\"background-color: #FFEBEB\">pussy</span> <span style=\"background-color: #FFF1F1\">bitch</span> <span style=\"background-color: #FFF0F0\">tell</span> <span style=\"background-color: #FFF1F1\">your</span> <span style=\"background-color: #FFF2F2\">mama</span> <span style=\"background-color: #FFEFEF\">to</span> <span style=\"background-color: #FFE7E7\">suck</span> <span style=\"background-color: #FFF0F0\">my</span> <span style=\"background-color: #FFE1E1\">black</span> <span style=\"background-color: #FFE7E7\">dick</span> <span style=\"background-color: #FF-77D-77D\">[SEP]</span>"
      ],
      "text/plain": [
       "<IPython.core.display.HTML object>"
      ]
     },
     "metadata": {},
     "output_type": "display_data"
    },
    {
     "data": {
      "text/plain": [
       "'californiaalibaba is a bitch go fuck yourself you bitch ass motherfucker don i you ever in your fucking life threatening me you fucking piece of shit you you don i know me i will fucking kill your ass you punk pussy bitch tell your mama to suck my black dick'"
      ]
     },
     "metadata": {},
     "output_type": "display_data"
    },
    {
     "name": "stdout",
     "output_type": "stream",
     "text": [
      "Offensive Score is 1.3219897896051407\n"
     ]
    },
    {
     "data": {
      "text/html": [
       "<span style=\"background-color: #FFF9F9\">[CLS]</span> <span style=\"background-color: #FFF6F6\">being</span> <span style=\"background-color: #FFF7F7\">original</span> <span style=\"background-color: #FFF7F7\">hasn</span> <span style=\"background-color: #FFF7F7\">i</span> <span style=\"background-color: #FFF9F9\">ever</span> <span style=\"background-color: #FFF8F8\">been</span> <span style=\"background-color: #FFF8F8\">my</span> <span style=\"background-color: #FFF8F8\">strong</span> <span style=\"background-color: #FFF8F8\">suit</span> <span style=\"background-color: #FFF8F8\">so</span> <span style=\"background-color: #FFF9F9\">here</span> <span style=\"background-color: #FFF9F9\">goes</span> <span style=\"background-color: #FFF8F8\">something</span> <span style=\"background-color: #FFF9F9\">cl</span> <span style=\"background-color: #FFF8F8\">##iche</span> <span style=\"background-color: #FFF8F8\">##d</span> <span style=\"background-color: #FFF7F7\">to</span> <span style=\"background-color: #FFF5F5\">death</span> <span style=\"background-color: #FFF8F8\">go</span> <span style=\"background-color: #FFF8F8\">fuck</span> <span style=\"background-color: #FFFAFA\">yourself</span> <span style=\"background-color: #FFF9F9\">go</span> <span style=\"background-color: #FFF8F8\">fuck</span> <span style=\"background-color: #FFFBFB\">yourself</span> <span style=\"background-color: #FFF9F9\">go</span> <span style=\"background-color: #FFF9F9\">fuck</span> <span style=\"background-color: #FFFBFB\">yourself</span> <span style=\"background-color: #FFF9F9\">go</span> <span style=\"background-color: #FFF9F9\">fuck</span> <span style=\"background-color: #FFFBFB\">yourself</span> <span style=\"background-color: #FFFAFA\">go</span> <span style=\"background-color: #FFF9F9\">fuck</span> <span style=\"background-color: #FFFBFB\">yourself</span> <span style=\"background-color: #FFFAFA\">go</span> <span style=\"background-color: #FFF9F9\">fuck</span> <span style=\"background-color: #FFFBFB\">yourself</span> <span style=\"background-color: #FFFAFA\">go</span> <span style=\"background-color: #FFFAFA\">fuck</span> <span style=\"background-color: #FFFCFC\">yourself</span> <span style=\"background-color: #FFFAFA\">go</span> <span style=\"background-color: #FFFAFA\">fuck</span> <span style=\"background-color: #FFFCFC\">yourself</span> <span style=\"background-color: #FFFBFB\">go</span> <span style=\"background-color: #FFFAFA\">fuck</span> <span style=\"background-color: #FFFCFC\">yourself</span> <span style=\"background-color: #FFFBFB\">go</span> <span style=\"background-color: #FFFAFA\">fuck</span> <span style=\"background-color: #FFFCFC\">yourself</span> <span style=\"background-color: #FFFBFB\">go</span> <span style=\"background-color: #FFFBFB\">fuck</span> <span style=\"background-color: #FFFCFC\">yourself</span> <span style=\"background-color: #FFFBFB\">go</span> <span style=\"background-color: #FFFAFA\">fuck</span> <span style=\"background-color: #FFFCFC\">yourself</span> <span style=\"background-color: #FFFBFB\">go</span> <span style=\"background-color: #FFFAFA\">fuck</span> <span style=\"background-color: #FFFCFC\">yourself</span> <span style=\"background-color: #FFFBFB\">go</span> <span style=\"background-color: #FFFAFA\">fuck</span> <span style=\"background-color: #FFFCFC\">yourself</span> <span style=\"background-color: #FFFCFC\">go</span> <span style=\"background-color: #FFFBFB\">fuck</span> <span style=\"background-color: #FFFCFC\">yourself</span> <span style=\"background-color: #FFFCFC\">go</span> <span style=\"background-color: #FFFBFB\">fuck</span> <span style=\"background-color: #FFFCFC\">yourself</span> <span style=\"background-color: #FFFCFC\">go</span> <span style=\"background-color: #FFFBFB\">fuck</span> <span style=\"background-color: #FFFDFD\">yourself</span> <span style=\"background-color: #FFFCFC\">go</span> <span style=\"background-color: #FFFBFB\">fuck</span> <span style=\"background-color: #FFFDFD\">yourself</span> <span style=\"background-color: #FFFCFC\">go</span> <span style=\"background-color: #FFFBFB\">fuck</span> <span style=\"background-color: #FFFDFD\">yourself</span> <span style=\"background-color: #FFFCFC\">go</span> <span style=\"background-color: #FFFBFB\">fuck</span> <span style=\"background-color: #FFFDFD\">yourself</span> <span style=\"background-color: #FFFCFC\">go</span> <span style=\"background-color: #FFFBFB\">fuck</span> <span style=\"background-color: #FFFDFD\">yourself</span> <span style=\"background-color: #FFFCFC\">go</span> <span style=\"background-color: #FFFBFB\">fuck</span> <span style=\"background-color: #FFFDFD\">yourself</span> <span style=\"background-color: #FFFCFC\">go</span> <span style=\"background-color: #FFFAFA\">fuck</span> <span style=\"background-color: #FFFDFD\">yourself</span> <span style=\"background-color: #FFFCFC\">go</span> <span style=\"background-color: #FFFBFB\">fuck</span> <span style=\"background-color: #FFFDFD\">yourself</span> <span style=\"background-color: #FFFCFC\">go</span> <span style=\"background-color: #FFFBFB\">fuck</span> <span style=\"background-color: #FFFDFD\">yourself</span> <span style=\"background-color: #FFFCFC\">go</span> <span style=\"background-color: #FFFBFB\">fuck</span> <span style=\"background-color: #FFFDFD\">yourself</span> <span style=\"background-color: #FFFCFC\">go</span> <span style=\"background-color: #FFFBFB\">fuck</span> <span style=\"background-color: #FFFDFD\">yourself</span> <span style=\"background-color: #FFFCFC\">go</span> <span style=\"background-color: #FFFBFB\">fuck</span> <span style=\"background-color: #FFFDFD\">yourself</span> <span style=\"background-color: #FFFCFC\">go</span> <span style=\"background-color: #FFFBFB\">fuck</span> <span style=\"background-color: #FFFDFD\">yourself</span> <span style=\"background-color: #FFFCFC\">go</span> <span style=\"background-color: #FFFBFB\">fuck</span> <span style=\"background-color: #FFFDFD\">yourself</span> <span style=\"background-color: #FFFCFC\">go</span> <span style=\"background-color: #FFFAFA\">fuck</span> <span style=\"background-color: #FFFDFD\">yourself</span> <span style=\"background-color: #FFFCFC\">go</span> <span style=\"background-color: #FFFAFA\">fuck</span> <span style=\"background-color: #FFFDFD\">yourself</span> <span style=\"background-color: #FFFCFC\">go</span> <span style=\"background-color: #FFFAFA\">fuck</span> <span style=\"background-color: #FFFDFD\">yourself</span> <span style=\"background-color: #FFFCFC\">go</span> <span style=\"background-color: #FFFAFA\">fuck</span> <span style=\"background-color: #FFFDFD\">yourself</span> <span style=\"background-color: #FFFCFC\">go</span> <span style=\"background-color: #FFFAFA\">fuck</span> <span style=\"background-color: #FFFDFD\">yourself</span> <span style=\"background-color: #FFFCFC\">go</span> <span style=\"background-color: #FFFAFA\">fuck</span> <span style=\"background-color: #FFFCFC\">yourself</span> <span style=\"background-color: #FFFBFB\">go</span> <span style=\"background-color: #FFFAFA\">fuck</span> <span style=\"background-color: #FFFDFD\">yourself</span> <span style=\"background-color: #FFFCFC\">go</span> <span style=\"background-color: #FFFAFA\">fuck</span> <span style=\"background-color: #FFFDFD\">yourself</span> <span style=\"background-color: #FFFCFC\">go</span> <span style=\"background-color: #FFFAFA\">fuck</span> <span style=\"background-color: #FFFDFD\">yourself</span> <span style=\"background-color: #FFFCFC\">go</span> <span style=\"background-color: #FFFAFA\">fuck</span> <span style=\"background-color: #FFFDFD\">yourself</span> <span style=\"background-color: #FFFCFC\">go</span> <span style=\"background-color: #FFFAFA\">fuck</span> <span style=\"background-color: #FFFCFC\">yourself</span> <span style=\"background-color: #FFFBFB\">go</span> <span style=\"background-color: #FFFAFA\">fuck</span> <span style=\"background-color: #FFFCFC\">yourself</span> <span style=\"background-color: #FFFBFB\">go</span> <span style=\"background-color: #FFFAFA\">fuck</span> <span style=\"background-color: #FFFCFC\">yourself</span> <span style=\"background-color: #FFFBFB\">go</span> <span style=\"background-color: #FFFAFA\">fuck</span> <span style=\"background-color: #FFFCFC\">yourself</span> <span style=\"background-color: #FFFBFB\">go</span> <span style=\"background-color: #FFFAFA\">fuck</span> <span style=\"background-color: #FFFCFC\">yourself</span> <span style=\"background-color: #FFFBFB\">go</span> <span style=\"background-color: #FFFAFA\">fuck</span> <span style=\"background-color: #FFFCFC\">yourself</span> <span style=\"background-color: #FFFBFB\">go</span> <span style=\"background-color: #FFFAFA\">fuck</span> <span style=\"background-color: #FFFCFC\">yourself</span> <span style=\"background-color: #FFFBFB\">go</span> <span style=\"background-color: #FFFAFA\">fuck</span> <span style=\"background-color: #FFFCFC\">yourself</span> <span style=\"background-color: #FFFBFB\">go</span> <span style=\"background-color: #FFFBFB\">fuck</span> <span style=\"background-color: #FFFCFC\">yourself</span> <span style=\"background-color: #FFFCFC\">go</span> <span style=\"background-color: #FFFBFB\">fuck</span> <span style=\"background-color: #FFFCFC\">yourself</span> <span style=\"background-color: #FFFCFC\">go</span> <span style=\"background-color: #FFFBFB\">fuck</span> <span style=\"background-color: #FFFCFC\">yourself</span> <span style=\"background-color: #FFFCFC\">go</span> <span style=\"background-color: #FFFBFB\">fuck</span> <span style=\"background-color: #FFFCFC\">yourself</span> <span style=\"background-color: #FFFCFC\">go</span> <span style=\"background-color: #FFFAFA\">fuck</span> <span style=\"background-color: #FFFCFC\">yourself</span> <span style=\"background-color: #FFFBFB\">go</span> <span style=\"background-color: #FFFAFA\">fuck</span> <span style=\"background-color: #FFFCFC\">yourself</span> <span style=\"background-color: #FFFCFC\">go</span> <span style=\"background-color: #FFFBFB\">fuck</span> <span style=\"background-color: #FFFCFC\">yourself</span> <span style=\"background-color: #FFFCFC\">go</span> <span style=\"background-color: #FFFBFB\">fuck</span> <span style=\"background-color: #FFFCFC\">yourself</span> <span style=\"background-color: #FFFCFC\">go</span> <span style=\"background-color: #FFFBFB\">fuck</span> <span style=\"background-color: #FFFCFC\">yourself</span> <span style=\"background-color: #FFFCFC\">go</span> <span style=\"background-color: #FFFBFB\">fuck</span> <span style=\"background-color: #FFFDFD\">yourself</span> <span style=\"background-color: #FFFCFC\">go</span> <span style=\"background-color: #FFFBFB\">fuck</span> <span style=\"background-color: #FFFDFD\">yourself</span> <span style=\"background-color: #FFFCFC\">go</span> <span style=\"background-color: #FFFBFB\">fuck</span> <span style=\"background-color: #FFFDFD\">yourself</span> <span style=\"background-color: #FFFCFC\">go</span> <span style=\"background-color: #FFFBFB\">fuck</span> <span style=\"background-color: #FFFDFD\">yourself</span> <span style=\"background-color: #FFFCFC\">go</span> <span style=\"background-color: #FFFBFB\">fuck</span> <span style=\"background-color: #FFFDFD\">yourself</span> <span style=\"background-color: #FFFCFC\">go</span> <span style=\"background-color: #FFFBFB\">fuck</span> <span style=\"background-color: #FFFDFD\">yourself</span> <span style=\"background-color: #FFFCFC\">go</span> <span style=\"background-color: #FFFBFB\">fuck</span> <span style=\"background-color: #FFFCFC\">yourself</span> <span style=\"background-color: #FFFCFC\">go</span> <span style=\"background-color: #FFFBFB\">fuck</span> <span style=\"background-color: #FFFCFC\">yourself</span> <span style=\"background-color: #FFFCFC\">go</span> <span style=\"background-color: #FFFBFB\">fuck</span> <span style=\"background-color: #FFFDFD\">yourself</span> <span style=\"background-color: #FFFCFC\">go</span> <span style=\"background-color: #FFFBFB\">fuck</span> <span style=\"background-color: #FFFDFD\">yourself</span> <span style=\"background-color: #FFFCFC\">go</span> <span style=\"background-color: #FFFBFB\">fuck</span> <span style=\"background-color: #FFFDFD\">yourself</span> <span style=\"background-color: #FFFCFC\">go</span> <span style=\"background-color: #FFFBFB\">fuck</span> <span style=\"background-color: #FFFDFD\">yourself</span> <span style=\"background-color: #FFFCFC\">go</span> <span style=\"background-color: #FFFBFB\">fuck</span> <span style=\"background-color: #FFFDFD\">yourself</span> <span style=\"background-color: #FFFCFC\">go</span> <span style=\"background-color: #FFFBFB\">fuck</span> <span style=\"background-color: #FFFDFD\">yourself</span> <span style=\"background-color: #FFFCFC\">go</span> <span style=\"background-color: #FFFBFB\">fuck</span> <span style=\"background-color: #FFFDFD\">yourself</span> <span style=\"background-color: #FFFCFC\">go</span> <span style=\"background-color: #FFFAFA\">fuck</span> <span style=\"background-color: #FFFDFD\">yourself</span> <span style=\"background-color: #FFFCFC\">go</span> <span style=\"background-color: #FFFAFA\">fuck</span> <span style=\"background-color: #FFFCFC\">yourself</span> <span style=\"background-color: #FFFCFC\">go</span> <span style=\"background-color: #FFFAFA\">fuck</span> <span style=\"background-color: #FFFCFC\">yourself</span> <span style=\"background-color: #FFFCFC\">go</span> <span style=\"background-color: #FFFAFA\">fuck</span> <span style=\"background-color: #FFFCFC\">yourself</span> <span style=\"background-color: #FFFCFC\">go</span> <span style=\"background-color: #FFFAFA\">fuck</span> <span style=\"background-color: #FFFCFC\">yourself</span> <span style=\"background-color: #FFFCFC\">go</span> <span style=\"background-color: #FFFAFA\">fuck</span> <span style=\"background-color: #FFFCFC\">yourself</span> <span style=\"background-color: #FFFCFC\">go</span> <span style=\"background-color: #FFFAFA\">fuck</span> <span style=\"background-color: #FF-79D-79D\">yourself</span>"
      ],
      "text/plain": [
       "<IPython.core.display.HTML object>"
      ]
     },
     "metadata": {},
     "output_type": "display_data"
    },
    {
     "data": {
      "text/plain": [
       "'being original hasn i ever been my strong suit so here goes something cliched to death go fuck yourself go fuck yourself go fuck yourself go fuck yourself go fuck yourself go fuck yourself go fuck yourself go fuck yourself go fuck yourself go fuck yourself go fuck yourself go fuck yourself go fuck yourself go fuck yourself go fuck yourself go fuck yourself go fuck yourself go fuck yourself go fuck yourself go fuck yourself go fuck yourself go fuck yourself go fuck yourself go fuck yourself go fuck yourself go fuck yourself go fuck yourself go fuck yourself go fuck yourself go fuck yourself go fuck yourself go fuck yourself go fuck yourself go fuck yourself go fuck yourself go fuck yourself go fuck yourself go fuck yourself go fuck yourself go fuck yourself go fuck yourself go fuck yourself go fuck yourself go fuck yourself go fuck yourself go fuck yourself go fuck yourself go fuck yourself go fuck yourself go fuck yourself go fuck yourself go fuck yourself go fuck yourself go fuck yourself go fuck yourself go fuck yourself go fuck yourself go fuck yourself go fuck yourself go fuck yourself go fuck yourself go fuck yourself go fuck yourself go fuck yourself go fuck yourself go fuck yourself go fuck yourself go fuck yourself go fuck yourself go fuck yourself go fuck yourself go fuck yourself go fuck yourself go fuck yourself go fuck yourself go fuck yourself go fuck yourself go fuck yourself go fuck yourself go fuck yourself go fuck yourself go fuck yourself go fuck yourself go fuck yourself go fuck yourself go fuck yourself go fuck yourself go fuck yourself go fuck yourself go fuck yourself go fuck yourself go fuck yourself go fuck yourself go fuck yourself go fuck yourself go fuck yourself go fuck yourself go fuck yourself go fuck yourself go fuck yourself go fuck yourself go fuck yourself go fuck yourself go fuck yourself go fuck yourself go fuck yourself go fuck yourself go fuck yourself go fuck yourself go fuck yourself go fuck yourself go fuck yourself go fuck yourself go fuck yourself go fuck yourself go fuck yourself go fuck yourself go fuck yourself go fuck yourself go fuck yourself go fuck yourself go fuck yourself go fuck yourself go fuck yourself go fuck yourself go fuck yourself go fuck yourself go fuck yourself go fuck yourself go fuck yourself go fuck yourself go fuck yourself go fuck yourself go fuck yourself go fuck yourself go fuck yourself go fuck yourself go fuck yourself go fuck yourself go fuck yourself go fuck yourself go fuck yourself go fuck yourself go fuck yourself go fuck yourself go fuck yourself go fuck yourself go fuck yourself go fuck yourself go fuck yourself go fuck yourself go fuck yourself go fuck yourself go fuck yourself go fuck yourself go fuck yourself go fuck yourself go fuck yourself go fuck yourself go fuck yourself go fuck yourself go fuck yourself go fuck yourself go fuck yourself go fuck yourself go fuck yourself go fuck yourself go fuck yourself go fuck yourself go fuck yourself go fuck yourself go fuck yourself go fuck yourself go fuck yourself go fuck yourself go fuck yourself go fuck yourself go fuck yourself go fuck yourself go fuck yourself go fuck yourself go fuck yourself go fuck yourself go fuck yourself go fuck yourself go fuck yourself go fuck yourself go fuck yourself go fuck yourself go fuck yourself go fuck yourself go fuck yourself go fuck yourself go fuck yourself go fuck yourself go fuck yourself go fuck yourself go fuck yourself go fuck yourself go fuck yourself go fuck yourself go fuck yourself go fuck yourself go fuck yourself go fuck yourself go fuck yourself go fuck yourself go fuck yourself go fuck yourself go fuck yourself go fuck yourself go fuck yourself go fuck yourself go fuck yourself go fuck yourself go fuck yourself go fuck yourself go fuck yourself go fuck yourself go fuck yourself go fuck yourself go fuck yourself go fuck yourself go fuck yourself go fuck yourself go fuck yourself go fuck yourself go fuck yourself go fuck yourself go fuck yourself go fuck yourself go fuck yourself go fuck yourself go fuck yourself go fuck yourself go fuck yourself go fuck yourself go fuck yourself go fuck yourself go fuck yourself go fuck yourself go fuck yourself go fuck yourself go fuck yourself go fuck yourself go fuck yourself go fuck yourself go fuck yourself go fuck yourself go fuck yourself go fuck yourself go fuck yourself go fuck yourself go fuck yourself go fuck yourself go fuck yourself go fuck yourself go fuck yourself go fuck yourself go fuck yourself go fuck yourself go fuck yourself go fuck yourself go fuck yourself go fuck yourself'"
      ]
     },
     "metadata": {},
     "output_type": "display_data"
    },
    {
     "name": "stdout",
     "output_type": "stream",
     "text": [
      "Offensive Score is 1.3151080012321472\n"
     ]
    },
    {
     "data": {
      "text/html": [
       "<span style=\"background-color: #FFFBFB\">[CLS]</span> <span style=\"background-color: #FFFAFA\">eat</span> <span style=\"background-color: #FFFBFB\">shit</span> <span style=\"background-color: #FFF9F9\">and</span> <span style=\"background-color: #FFF9F9\">die</span> <span style=\"background-color: #FFFAFA\">bitch</span> <span style=\"background-color: #FFFAFA\">ass</span> <span style=\"background-color: #FFF9F9\">ni</span> <span style=\"background-color: #FFF9F9\">##gga</span> <span style=\"background-color: #FFF9F9\">eat</span> <span style=\"background-color: #FFFBFB\">shit</span> <span style=\"background-color: #FFF8F8\">and</span> <span style=\"background-color: #FFF9F9\">die</span> <span style=\"background-color: #FFFAFA\">bitch</span> <span style=\"background-color: #FFFAFA\">ass</span> <span style=\"background-color: #FFF9F9\">ni</span> <span style=\"background-color: #FFFAFA\">##gga</span> <span style=\"background-color: #FFFAFA\">eat</span> <span style=\"background-color: #FFFBFB\">shit</span> <span style=\"background-color: #FFF9F9\">and</span> <span style=\"background-color: #FFF9F9\">die</span> <span style=\"background-color: #FFFBFB\">bitch</span> <span style=\"background-color: #FFFAFA\">ass</span> <span style=\"background-color: #FFFAFA\">ni</span> <span style=\"background-color: #FFFAFA\">##gga</span> <span style=\"background-color: #FFFAFA\">eat</span> <span style=\"background-color: #FFFBFB\">shit</span> <span style=\"background-color: #FFF9F9\">and</span> <span style=\"background-color: #FFF9F9\">die</span> <span style=\"background-color: #FFFBFB\">bitch</span> <span style=\"background-color: #FFFAFA\">ass</span> <span style=\"background-color: #FFFAFA\">ni</span> <span style=\"background-color: #FFFAFA\">##gga</span> <span style=\"background-color: #FFFAFA\">eat</span> <span style=\"background-color: #FFFBFB\">shit</span> <span style=\"background-color: #FFF9F9\">and</span> <span style=\"background-color: #FFFAFA\">die</span> <span style=\"background-color: #FFFBFB\">bitch</span> <span style=\"background-color: #FFFAFA\">ass</span> <span style=\"background-color: #FFFAFA\">ni</span> <span style=\"background-color: #FFFAFA\">##gga</span> <span style=\"background-color: #FFFAFA\">eat</span> <span style=\"background-color: #FFFBFB\">shit</span> <span style=\"background-color: #FFFAFA\">and</span> <span style=\"background-color: #FFFAFA\">die</span> <span style=\"background-color: #FFFBFB\">bitch</span> <span style=\"background-color: #FFFBFB\">ass</span> <span style=\"background-color: #FFFBFB\">ni</span> <span style=\"background-color: #FFFBFB\">##gga</span> <span style=\"background-color: #FFFBFB\">eat</span> <span style=\"background-color: #FFFCFC\">shit</span> <span style=\"background-color: #FFFAFA\">and</span> <span style=\"background-color: #FFFBFB\">die</span> <span style=\"background-color: #FFFBFB\">bitch</span> <span style=\"background-color: #FFFBFB\">ass</span> <span style=\"background-color: #FFFBFB\">ni</span> <span style=\"background-color: #FFFBFB\">##gga</span> <span style=\"background-color: #FFFBFB\">eat</span> <span style=\"background-color: #FFFCFC\">shit</span> <span style=\"background-color: #FFFAFA\">and</span> <span style=\"background-color: #FFFBFB\">die</span> <span style=\"background-color: #FFFBFB\">bitch</span> <span style=\"background-color: #FFFBFB\">ass</span> <span style=\"background-color: #FFFAFA\">ni</span> <span style=\"background-color: #FFFBFB\">##gga</span> <span style=\"background-color: #FFFBFB\">eat</span> <span style=\"background-color: #FFFCFC\">shit</span> <span style=\"background-color: #FFFAFA\">and</span> <span style=\"background-color: #FFFBFB\">die</span> <span style=\"background-color: #FFFBFB\">bitch</span> <span style=\"background-color: #FFFBFB\">ass</span> <span style=\"background-color: #FFFBFB\">ni</span> <span style=\"background-color: #FFFBFB\">##gga</span> <span style=\"background-color: #FFFCFC\">eat</span> <span style=\"background-color: #FFFCFC\">shit</span> <span style=\"background-color: #FFFBFB\">and</span> <span style=\"background-color: #FFFBFB\">die</span> <span style=\"background-color: #FFFCFC\">bitch</span> <span style=\"background-color: #FFFCFC\">ass</span> <span style=\"background-color: #FFFBFB\">ni</span> <span style=\"background-color: #FFFBFB\">##gga</span> <span style=\"background-color: #FFFCFC\">eat</span> <span style=\"background-color: #FFFCFC\">shit</span> <span style=\"background-color: #FFFBFB\">and</span> <span style=\"background-color: #FFFBFB\">die</span> <span style=\"background-color: #FFFCFC\">bitch</span> <span style=\"background-color: #FFFBFB\">ass</span> <span style=\"background-color: #FFFAFA\">ni</span> <span style=\"background-color: #FFFBFB\">##gga</span> <span style=\"background-color: #FFFCFC\">eat</span> <span style=\"background-color: #FFFCFC\">shit</span> <span style=\"background-color: #FFFBFB\">and</span> <span style=\"background-color: #FFFBFB\">die</span> <span style=\"background-color: #FFFCFC\">bitch</span> <span style=\"background-color: #FFFBFB\">ass</span> <span style=\"background-color: #FFFBFB\">ni</span> <span style=\"background-color: #FFFBFB\">##gga</span> <span style=\"background-color: #FFFCFC\">eat</span> <span style=\"background-color: #FFFCFC\">shit</span> <span style=\"background-color: #FFFBFB\">and</span> <span style=\"background-color: #FFFCFC\">die</span> <span style=\"background-color: #FFFCFC\">bitch</span> <span style=\"background-color: #FFFBFB\">ass</span> <span style=\"background-color: #FFFBFB\">ni</span> <span style=\"background-color: #FFFCFC\">##gga</span> <span style=\"background-color: #FFFCFC\">eat</span> <span style=\"background-color: #FFFCFC\">shit</span> <span style=\"background-color: #FFFCFC\">and</span> <span style=\"background-color: #FFFCFC\">die</span> <span style=\"background-color: #FFFCFC\">bitch</span> <span style=\"background-color: #FFFBFB\">ass</span> <span style=\"background-color: #FFFBFB\">ni</span> <span style=\"background-color: #FFFBFB\">##gga</span> <span style=\"background-color: #FFFCFC\">eat</span> <span style=\"background-color: #FFFCFC\">shit</span> <span style=\"background-color: #FFFCFC\">and</span> <span style=\"background-color: #FFFCFC\">die</span> <span style=\"background-color: #FFFCFC\">bitch</span> <span style=\"background-color: #FFFBFB\">ass</span> <span style=\"background-color: #FFFBFB\">ni</span> <span style=\"background-color: #FFFBFB\">##gga</span> <span style=\"background-color: #FFFCFC\">eat</span> <span style=\"background-color: #FFFCFC\">shit</span> <span style=\"background-color: #FFFBFB\">and</span> <span style=\"background-color: #FFFBFB\">die</span> <span style=\"background-color: #FFFCFC\">bitch</span> <span style=\"background-color: #FFFBFB\">ass</span> <span style=\"background-color: #FFFBFB\">ni</span> <span style=\"background-color: #FFFBFB\">##gga</span> <span style=\"background-color: #FFFCFC\">eat</span> <span style=\"background-color: #FFFCFC\">shit</span> <span style=\"background-color: #FFFBFB\">and</span> <span style=\"background-color: #FFFBFB\">die</span> <span style=\"background-color: #FFFCFC\">bitch</span> <span style=\"background-color: #FFFBFB\">ass</span> <span style=\"background-color: #FFFBFB\">ni</span> <span style=\"background-color: #FFFBFB\">##gga</span> <span style=\"background-color: #FFFBFB\">eat</span> <span style=\"background-color: #FFFCFC\">shit</span> <span style=\"background-color: #FFFBFB\">and</span> <span style=\"background-color: #FFFBFB\">die</span> <span style=\"background-color: #FFFBFB\">bitch</span> <span style=\"background-color: #FFFBFB\">ass</span> <span style=\"background-color: #FFFAFA\">ni</span> <span style=\"background-color: #FFFBFB\">##gga</span> <span style=\"background-color: #FFFBFB\">eat</span> <span style=\"background-color: #FFFBFB\">shit</span> <span style=\"background-color: #FFFAFA\">and</span> <span style=\"background-color: #FFFBFB\">die</span> <span style=\"background-color: #FFFBFB\">bitch</span> <span style=\"background-color: #FFFAFA\">ass</span> <span style=\"background-color: #FFFAFA\">ni</span> <span style=\"background-color: #FFFAFA\">##gga</span> <span style=\"background-color: #FFFAFA\">eat</span> <span style=\"background-color: #FFFBFB\">shit</span> <span style=\"background-color: #FFFAFA\">and</span> <span style=\"background-color: #FFFAFA\">die</span> <span style=\"background-color: #FFFBFB\">bitch</span> <span style=\"background-color: #FFFAFA\">ass</span> <span style=\"background-color: #FFFAFA\">ni</span> <span style=\"background-color: #FFFAFA\">##gga</span> <span style=\"background-color: #FFFAFA\">eat</span> <span style=\"background-color: #FFFBFB\">shit</span> <span style=\"background-color: #FFFAFA\">and</span> <span style=\"background-color: #FFFAFA\">die</span> <span style=\"background-color: #FFFBFB\">bitch</span> <span style=\"background-color: #FFFBFB\">ass</span> <span style=\"background-color: #FFFBFB\">ni</span> <span style=\"background-color: #FFFBFB\">##gga</span> <span style=\"background-color: #FFFBFB\">eat</span> <span style=\"background-color: #FFFBFB\">shit</span> <span style=\"background-color: #FFFAFA\">and</span> <span style=\"background-color: #FFFAFA\">die</span> <span style=\"background-color: #FFFBFB\">bitch</span> <span style=\"background-color: #FFFBFB\">ass</span> <span style=\"background-color: #FFFBFB\">ni</span> <span style=\"background-color: #FFFBFB\">##gga</span> <span style=\"background-color: #FFFBFB\">eat</span> <span style=\"background-color: #FFFBFB\">shit</span> <span style=\"background-color: #FFFAFA\">and</span> <span style=\"background-color: #FFFAFA\">die</span> <span style=\"background-color: #FFFBFB\">bitch</span> <span style=\"background-color: #FFFAFA\">ass</span> <span style=\"background-color: #FFFAFA\">ni</span> <span style=\"background-color: #FFFBFB\">##gga</span> <span style=\"background-color: #FFFBFB\">eat</span> <span style=\"background-color: #FFFBFB\">shit</span> <span style=\"background-color: #FFFAFA\">and</span> <span style=\"background-color: #FFFAFA\">die</span> <span style=\"background-color: #FFFBFB\">bitch</span> <span style=\"background-color: #FFFBFB\">ass</span> <span style=\"background-color: #FFFAFA\">ni</span> <span style=\"background-color: #FFFBFB\">##gga</span> <span style=\"background-color: #FFFBFB\">eat</span> <span style=\"background-color: #FFFBFB\">shit</span> <span style=\"background-color: #FFFAFA\">and</span> <span style=\"background-color: #FFFAFA\">die</span> <span style=\"background-color: #FFFBFB\">bitch</span> <span style=\"background-color: #FFFBFB\">ass</span> <span style=\"background-color: #FFFBFB\">ni</span> <span style=\"background-color: #FFFBFB\">##gga</span> <span style=\"background-color: #FFFBFB\">eat</span> <span style=\"background-color: #FFFCFC\">shit</span> <span style=\"background-color: #FFFBFB\">and</span> <span style=\"background-color: #FFFBFB\">die</span> <span style=\"background-color: #FFFCFC\">bitch</span> <span style=\"background-color: #FFFBFB\">ass</span> <span style=\"background-color: #FFFBFB\">ni</span> <span style=\"background-color: #FFFBFB\">##gga</span> <span style=\"background-color: #FFFCFC\">eat</span> <span style=\"background-color: #FFFCFC\">shit</span> <span style=\"background-color: #FFFBFB\">and</span> <span style=\"background-color: #FFFBFB\">die</span> <span style=\"background-color: #FFFBFB\">bitch</span> <span style=\"background-color: #FFFBFB\">ass</span> <span style=\"background-color: #FFFAFA\">ni</span> <span style=\"background-color: #FFFBFB\">##gga</span> <span style=\"background-color: #FFFBFB\">eat</span> <span style=\"background-color: #FFFCFC\">shit</span> <span style=\"background-color: #FFFBFB\">and</span> <span style=\"background-color: #FFFBFB\">die</span> <span style=\"background-color: #FFFBFB\">bitch</span> <span style=\"background-color: #FFFBFB\">ass</span> <span style=\"background-color: #FFFAFA\">ni</span> <span style=\"background-color: #FFFBFB\">##gga</span> <span style=\"background-color: #FFFBFB\">eat</span> <span style=\"background-color: #FFFBFB\">shit</span> <span style=\"background-color: #FFFAFA\">and</span> <span style=\"background-color: #FFFBFB\">die</span> <span style=\"background-color: #FFFBFB\">bitch</span> <span style=\"background-color: #FFFBFB\">ass</span> <span style=\"background-color: #FFFAFA\">ni</span> <span style=\"background-color: #FFFBFB\">##gga</span> <span style=\"background-color: #FFFBFB\">eat</span> <span style=\"background-color: #FFFCFC\">shit</span> <span style=\"background-color: #FFFAFA\">and</span> <span style=\"background-color: #FFFBFB\">die</span> <span style=\"background-color: #FFFBFB\">bitch</span> <span style=\"background-color: #FFFBFB\">ass</span> <span style=\"background-color: #FFFAFA\">ni</span> <span style=\"background-color: #FFFBFB\">##gga</span> <span style=\"background-color: #FFFBFB\">eat</span> <span style=\"background-color: #FFFBFB\">shit</span> <span style=\"background-color: #FFFAFA\">and</span> <span style=\"background-color: #FFFBFB\">die</span> <span style=\"background-color: #FFFBFB\">bitch</span> <span style=\"background-color: #FFFBFB\">ass</span> <span style=\"background-color: #FFFAFA\">ni</span> <span style=\"background-color: #FFFBFB\">##gga</span> <span style=\"background-color: #FFFBFB\">eat</span> <span style=\"background-color: #FFFBFB\">shit</span> <span style=\"background-color: #FFFAFA\">and</span> <span style=\"background-color: #FFFAFA\">die</span> <span style=\"background-color: #FFFBFB\">bitch</span> <span style=\"background-color: #FFFAFA\">ass</span> <span style=\"background-color: #FF-74D-74D\">ni</span>"
      ],
      "text/plain": [
       "<IPython.core.display.HTML object>"
      ]
     },
     "metadata": {},
     "output_type": "display_data"
    },
    {
     "data": {
      "text/plain": [
       "'eat shit and die bitch ass nigga eat shit and die bitch ass nigga eat shit and die bitch ass nigga eat shit and die bitch ass nigga eat shit and die bitch ass nigga eat shit and die bitch ass nigga eat shit and die bitch ass nigga eat shit and die bitch ass nigga eat shit and die bitch ass nigga eat shit and die bitch ass nigga eat shit and die bitch ass nigga eat shit and die bitch ass nigga eat shit and die bitch ass nigga eat shit and die bitch ass nigga eat shit and die bitch ass nigga eat shit and die bitch ass nigga eat shit and die bitch ass nigga eat shit and die bitch ass nigga eat shit and die bitch ass nigga eat shit and die bitch ass nigga eat shit and die bitch ass nigga eat shit and die bitch ass nigga eat shit and die bitch ass nigga eat shit and die bitch ass nigga eat shit and die bitch ass nigga eat shit and die bitch ass nigga eat shit and die bitch ass nigga eat shit and die bitch ass nigga eat shit and die bitch ass nigga eat shit and die bitch ass nigga eat shit and die bitch ass nigga eat shit and die bitch ass nigga eat shit and die bitch ass nigga eat shit and die bitch ass nigga eat shit and die bitch ass nigga eat shit and die bitch ass nigga eat shit and die bitch ass nigga eat shit and die bitch ass nigga eat shit and die bitch ass nigga eat shit and die bitch ass nigga eat shit and die bitch ass nigga eat shit and die bitch ass nigga eat shit and die bitch ass nigga eat shit and die bitch ass nigga eat shit and die bitch ass nigga eat shit and die bitch ass nigga eat shit and die bitch ass nigga eat shit and die bitch ass nigga eat shit and die bitch ass nigga eat shit and die bitch ass nigga eat shit and die bitch ass nigga eat shit and die bitch ass nigga eat shit and die bitch ass nigga eat shit and die bitch ass nigga eat shit and die bitch ass nigga eat shit and die bitch ass nigga eat shit and die bitch ass nigga eat shit and die bitch ass nigga eat shit and die bitch ass nigga eat shit and die bitch ass nigga eat shit and die bitch ass nigga eat shit and die bitch ass nigga eat shit and die bitch ass nigga eat shit and die bitch ass nigga eat shit and die bitch ass nigga eat shit and die bitch ass nigga eat shit and die bitch ass nigga eat shit and die bitch ass nigga eat shit and die bitch ass nigga eat shit and die bitch ass nigga eat shit and die bitch ass nigga eat shit and die bitch ass nigga eat shit and die bitch ass nigga eat shit and die bitch ass nigga eat shit and die bitch ass nigga eat shit and die bitch ass nigga eat shit and die bitch ass nigga eat shit and die bitch ass nigga eat shit and die bitch ass nigga eat shit and die bitch ass nigga eat shit and die bitch ass nigga eat shit and die bitch ass nigga eat shit and die bitch ass nigga eat shit and die bitch ass nigga eat shit and die bitch ass nigga eat shit and die bitch ass nigga eat shit and die bitch ass nigga eat shit and die bitch ass nigga eat shit and die bitch ass nigga eat shit and die bitch ass nigga eat shit and die bitch ass nigga eat shit and die bitch ass nigga eat shit and die bitch ass nigga eat shit and die bitch ass nigga eat shit and die bitch ass nigga eat shit and die bitch ass nigga eat shit and die bitch ass nigga eat shit and die bitch ass nigga eat shit and die bitch ass nigga eat shit and die bitch ass nigga eat shit and die bitch ass nigga eat shit and die bitch ass nigga eat shit and die bitch ass nigga eat shit and die bitch ass nigga eat shit and die bitch ass nigga eat shit and die bitch ass nigga eat shit and die bitch ass nigga eat shit and die bitch ass nigga eat shit and die bitch ass nigga'"
      ]
     },
     "metadata": {},
     "output_type": "display_data"
    },
    {
     "name": "stdout",
     "output_type": "stream",
     "text": [
      "Offensive Score is 1.3136372417211533\n"
     ]
    },
    {
     "data": {
      "text/html": [
       "<span style=\"background-color: #FFF3F3\">[CLS]</span> <span style=\"background-color: #FFEAEA\">california</span> <span style=\"background-color: #FFEBEB\">##ali</span> <span style=\"background-color: #FFECEC\">##ba</span> <span style=\"background-color: #FFEBEB\">##ba</span> <span style=\"background-color: #FFEFEF\">is</span> <span style=\"background-color: #FFEEEE\">a</span> <span style=\"background-color: #FFEEEE\">bitch</span> <span style=\"background-color: #FFEEEE\">go</span> <span style=\"background-color: #FFEAEA\">fuck</span> <span style=\"background-color: #FFEFEF\">yourself</span> <span style=\"background-color: #FFEEEE\">you</span> <span style=\"background-color: #FFEFEF\">bitch</span> <span style=\"background-color: #FFEEEE\">ass</span> <span style=\"background-color: #FFF2F2\">mother</span> <span style=\"background-color: #FFF1F1\">##fu</span> <span style=\"background-color: #FFF1F1\">##cker</span> <span style=\"background-color: #FFEDED\">don</span> <span style=\"background-color: #FFF0F0\">i</span> <span style=\"background-color: #FFF0F0\">you</span> <span style=\"background-color: #FFEFEF\">ever</span> <span style=\"background-color: #FFEEEE\">in</span> <span style=\"background-color: #FFEFEF\">your</span> <span style=\"background-color: #FFF0F0\">fucking</span> <span style=\"background-color: #FFF1F1\">life</span> <span style=\"background-color: #FFECEC\">threatening</span> <span style=\"background-color: #FFEEEE\">me</span> <span style=\"background-color: #FFEEEE\">you</span> <span style=\"background-color: #FFEFEF\">fucking</span> <span style=\"background-color: #FFF1F1\">piece</span> <span style=\"background-color: #FFF1F1\">of</span> <span style=\"background-color: #FFF1F1\">shit</span> <span style=\"background-color: #FFEEEE\">you</span> <span style=\"background-color: #FFEDED\">you</span> <span style=\"background-color: #FFECEC\">don</span> <span style=\"background-color: #FFEEEE\">i</span> <span style=\"background-color: #FFEFEF\">know</span> <span style=\"background-color: #FFF1F1\">me</span> <span style=\"background-color: #FFEFEF\">i</span> <span style=\"background-color: #FFEFEF\">will</span> <span style=\"background-color: #FFEEEE\">fucking</span> <span style=\"background-color: #FFE7E7\">kill</span> <span style=\"background-color: #FFF0F0\">your</span> <span style=\"background-color: #FFE8E8\">ass</span> <span style=\"background-color: #FFEFEF\">you</span> <span style=\"background-color: #FFECEC\">punk</span> <span style=\"background-color: #FFE9E9\">pussy</span> <span style=\"background-color: #FFF1F1\">bitch</span> <span style=\"background-color: #FFEEEE\">tell</span> <span style=\"background-color: #FFF0F0\">your</span> <span style=\"background-color: #FFF1F1\">mama</span> <span style=\"background-color: #FFEDED\">to</span> <span style=\"background-color: #FFEFEF\">my</span> <span style=\"background-color: #FFE1E1\">black</span> <span style=\"background-color: #FFE3E3\">dick</span> <span style=\"background-color: #FF-761-761\">[SEP]</span>"
      ],
      "text/plain": [
       "<IPython.core.display.HTML object>"
      ]
     },
     "metadata": {},
     "output_type": "display_data"
    },
    {
     "data": {
      "text/plain": [
       "'californiaalibaba is a bitch go fuck yourself you bitch ass motherfucker don i you ever in your fucking life threatening me you fucking piece of shit you you don i know me i will fucking kill your ass you punk pussy bitch tell your mama to my black dick'"
      ]
     },
     "metadata": {},
     "output_type": "display_data"
    },
    {
     "name": "stdout",
     "output_type": "stream",
     "text": [
      "Offensive Score is 1.3116341829299927\n"
     ]
    },
    {
     "data": {
      "text/html": [
       "<span style=\"background-color: #FFFAFA\">[CLS]</span> <span style=\"background-color: #FFF8F8\">fuck</span> <span style=\"background-color: #FFF9F9\">u</span> <span style=\"background-color: #FFFAFA\">bitch</span> <span style=\"background-color: #FFF9F9\">##es</span> <span style=\"background-color: #FFF8F8\">fuck</span> <span style=\"background-color: #FFF9F9\">u</span> <span style=\"background-color: #FFFAFA\">bitch</span> <span style=\"background-color: #FFFAFA\">##es</span> <span style=\"background-color: #FFF8F8\">fuck</span> <span style=\"background-color: #FFF9F9\">u</span> <span style=\"background-color: #FFFAFA\">bitch</span> <span style=\"background-color: #FFFAFA\">##es</span> <span style=\"background-color: #FFF9F9\">fuck</span> <span style=\"background-color: #FFFAFA\">u</span> <span style=\"background-color: #FFFBFB\">bitch</span> <span style=\"background-color: #FFFAFA\">##es</span> <span style=\"background-color: #FFF9F9\">fuck</span> <span style=\"background-color: #FFFAFA\">u</span> <span style=\"background-color: #FFFBFB\">bitch</span> <span style=\"background-color: #FFFBFB\">##es</span> <span style=\"background-color: #FFF9F9\">fuck</span> <span style=\"background-color: #FFFAFA\">u</span> <span style=\"background-color: #FFFBFB\">bitch</span> <span style=\"background-color: #FFFBFB\">##es</span> <span style=\"background-color: #FFF9F9\">fuck</span> <span style=\"background-color: #FFFAFA\">u</span> <span style=\"background-color: #FFFBFB\">bitch</span> <span style=\"background-color: #FFFBFB\">##es</span> <span style=\"background-color: #FFF9F9\">fuck</span> <span style=\"background-color: #FFFAFA\">u</span> <span style=\"background-color: #FFFBFB\">bitch</span> <span style=\"background-color: #FFFAFA\">##es</span> <span style=\"background-color: #FFF9F9\">fuck</span> <span style=\"background-color: #FFFAFA\">u</span> <span style=\"background-color: #FFFBFB\">bitch</span> <span style=\"background-color: #FFFAFA\">##es</span> <span style=\"background-color: #FFF9F9\">fuck</span> <span style=\"background-color: #FFFAFA\">u</span> <span style=\"background-color: #FFFBFB\">bitch</span> <span style=\"background-color: #FFFBFB\">##es</span> <span style=\"background-color: #FFF9F9\">fuck</span> <span style=\"background-color: #FFFAFA\">u</span> <span style=\"background-color: #FFFBFB\">bitch</span> <span style=\"background-color: #FFFBFB\">##es</span> <span style=\"background-color: #FFF9F9\">fuck</span> <span style=\"background-color: #FFFAFA\">u</span> <span style=\"background-color: #FFFCFC\">bitch</span> <span style=\"background-color: #FFFBFB\">##es</span> <span style=\"background-color: #FFFAFA\">fuck</span> <span style=\"background-color: #FFFBFB\">u</span> <span style=\"background-color: #FFFCFC\">bitch</span> <span style=\"background-color: #FFFBFB\">##es</span> <span style=\"background-color: #FFFAFA\">fuck</span> <span style=\"background-color: #FFFBFB\">u</span> <span style=\"background-color: #FFFCFC\">bitch</span> <span style=\"background-color: #FFFBFB\">##es</span> <span style=\"background-color: #FFFAFA\">fuck</span> <span style=\"background-color: #FFFBFB\">u</span> <span style=\"background-color: #FFFCFC\">bitch</span> <span style=\"background-color: #FFFBFB\">##es</span> <span style=\"background-color: #FFFAFA\">fuck</span> <span style=\"background-color: #FFFAFA\">u</span> <span style=\"background-color: #FFFCFC\">bitch</span> <span style=\"background-color: #FFFBFB\">##es</span> <span style=\"background-color: #FFFAFA\">fuck</span> <span style=\"background-color: #FFFBFB\">u</span> <span style=\"background-color: #FFFCFC\">bitch</span> <span style=\"background-color: #FFFBFB\">##es</span> <span style=\"background-color: #FFFAFA\">fuck</span> <span style=\"background-color: #FFFBFB\">u</span> <span style=\"background-color: #FFFCFC\">bitch</span> <span style=\"background-color: #FFFBFB\">##es</span> <span style=\"background-color: #FFFAFA\">fuck</span> <span style=\"background-color: #FFFBFB\">u</span> <span style=\"background-color: #FFFCFC\">bitch</span> <span style=\"background-color: #FFFCFC\">##es</span> <span style=\"background-color: #FFFAFA\">fuck</span> <span style=\"background-color: #FFFBFB\">u</span> <span style=\"background-color: #FFFCFC\">bitch</span> <span style=\"background-color: #FFFCFC\">##es</span> <span style=\"background-color: #FFFAFA\">fuck</span> <span style=\"background-color: #FFFBFB\">u</span> <span style=\"background-color: #FFFCFC\">bitch</span> <span style=\"background-color: #FFFCFC\">##es</span> <span style=\"background-color: #FFFAFA\">fuck</span> <span style=\"background-color: #FFFBFB\">u</span> <span style=\"background-color: #FFFCFC\">bitch</span> <span style=\"background-color: #FFFCFC\">##es</span> <span style=\"background-color: #FFFAFA\">fuck</span> <span style=\"background-color: #FFFBFB\">u</span> <span style=\"background-color: #FFFCFC\">bitch</span> <span style=\"background-color: #FFFCFC\">##es</span> <span style=\"background-color: #FFFAFA\">fuck</span> <span style=\"background-color: #FFFBFB\">u</span> <span style=\"background-color: #FFFCFC\">bitch</span> <span style=\"background-color: #FFFCFC\">##es</span> <span style=\"background-color: #FFFAFA\">fuck</span> <span style=\"background-color: #FFFBFB\">u</span> <span style=\"background-color: #FFFCFC\">bitch</span> <span style=\"background-color: #FFFCFC\">##es</span> <span style=\"background-color: #FFFAFA\">fuck</span> <span style=\"background-color: #FFFBFB\">u</span> <span style=\"background-color: #FFFCFC\">bitch</span> <span style=\"background-color: #FFFCFC\">##es</span> <span style=\"background-color: #FFFAFA\">fuck</span> <span style=\"background-color: #FFFBFB\">u</span> <span style=\"background-color: #FFFCFC\">bitch</span> <span style=\"background-color: #FFFCFC\">##es</span> <span style=\"background-color: #FFFBFB\">fuck</span> <span style=\"background-color: #FFFCFC\">u</span> <span style=\"background-color: #FFFCFC\">bitch</span> <span style=\"background-color: #FFFCFC\">##es</span> <span style=\"background-color: #FFFAFA\">fuck</span> <span style=\"background-color: #FFFBFB\">u</span> <span style=\"background-color: #FFFCFC\">bitch</span> <span style=\"background-color: #FFFCFC\">##es</span> <span style=\"background-color: #FFFAFA\">fuck</span> <span style=\"background-color: #FFFBFB\">u</span> <span style=\"background-color: #FFFCFC\">bitch</span> <span style=\"background-color: #FFFCFC\">##es</span> <span style=\"background-color: #FFFAFA\">fuck</span> <span style=\"background-color: #FFFBFB\">u</span> <span style=\"background-color: #FFFCFC\">bitch</span> <span style=\"background-color: #FFFBFB\">##es</span> <span style=\"background-color: #FFFAFA\">fuck</span> <span style=\"background-color: #FFFBFB\">u</span> <span style=\"background-color: #FFFCFC\">bitch</span> <span style=\"background-color: #FFFBFB\">##es</span> <span style=\"background-color: #FFFAFA\">fuck</span> <span style=\"background-color: #FFFBFB\">u</span> <span style=\"background-color: #FFFCFC\">bitch</span> <span style=\"background-color: #FFFBFB\">##es</span> <span style=\"background-color: #FFFAFA\">fuck</span> <span style=\"background-color: #FFFBFB\">u</span> <span style=\"background-color: #FFFCFC\">bitch</span> <span style=\"background-color: #FFFBFB\">##es</span> <span style=\"background-color: #FFFAFA\">fuck</span> <span style=\"background-color: #FFFBFB\">u</span> <span style=\"background-color: #FFFBFB\">bitch</span> <span style=\"background-color: #FFFBFB\">##es</span> <span style=\"background-color: #FFFAFA\">fuck</span> <span style=\"background-color: #FFFBFB\">u</span> <span style=\"background-color: #FFFBFB\">bitch</span> <span style=\"background-color: #FFFBFB\">##es</span> <span style=\"background-color: #FFFAFA\">fuck</span> <span style=\"background-color: #FFFBFB\">u</span> <span style=\"background-color: #FFFBFB\">bitch</span> <span style=\"background-color: #FFFBFB\">##es</span> <span style=\"background-color: #FFF9F9\">fuck</span> <span style=\"background-color: #FFFAFA\">u</span> <span style=\"background-color: #FFFBFB\">bitch</span> <span style=\"background-color: #FFFBFB\">##es</span> <span style=\"background-color: #FFFAFA\">fuck</span> <span style=\"background-color: #FFFAFA\">u</span> <span style=\"background-color: #FFFBFB\">bitch</span> <span style=\"background-color: #FFFBFB\">##es</span> <span style=\"background-color: #FFFAFA\">fuck</span> <span style=\"background-color: #FFFAFA\">u</span> <span style=\"background-color: #FFFBFB\">bitch</span> <span style=\"background-color: #FFFBFB\">##es</span> <span style=\"background-color: #FFF9F9\">fuck</span> <span style=\"background-color: #FFFBFB\">u</span> <span style=\"background-color: #FFFBFB\">bitch</span> <span style=\"background-color: #FFFBFB\">##es</span> <span style=\"background-color: #FFFAFA\">fuck</span> <span style=\"background-color: #FFFBFB\">u</span> <span style=\"background-color: #FFFBFB\">bitch</span> <span style=\"background-color: #FFFBFB\">##es</span> <span style=\"background-color: #FFFAFA\">fuck</span> <span style=\"background-color: #FFFBFB\">u</span> <span style=\"background-color: #FFFBFB\">bitch</span> <span style=\"background-color: #FFFBFB\">##es</span> <span style=\"background-color: #FFFAFA\">fuck</span> <span style=\"background-color: #FFFBFB\">u</span> <span style=\"background-color: #FFFBFB\">bitch</span> <span style=\"background-color: #FFFBFB\">##es</span> <span style=\"background-color: #FFFAFA\">fuck</span> <span style=\"background-color: #FFFBFB\">u</span> <span style=\"background-color: #FFFBFB\">bitch</span> <span style=\"background-color: #FFFBFB\">##es</span> <span style=\"background-color: #FFFAFA\">fuck</span> <span style=\"background-color: #FFFBFB\">u</span> <span style=\"background-color: #FFFBFB\">bitch</span> <span style=\"background-color: #FFFBFB\">##es</span> <span style=\"background-color: #FFFAFA\">fuck</span> <span style=\"background-color: #FFFBFB\">u</span> <span style=\"background-color: #FFFBFB\">bitch</span> <span style=\"background-color: #FFFBFB\">##es</span> <span style=\"background-color: #FFFAFA\">fuck</span> <span style=\"background-color: #FFFBFB\">u</span> <span style=\"background-color: #FFFCFC\">bitch</span> <span style=\"background-color: #FFFBFB\">##es</span> <span style=\"background-color: #FFFAFA\">fuck</span> <span style=\"background-color: #FFFBFB\">u</span> <span style=\"background-color: #FFFCFC\">bitch</span> <span style=\"background-color: #FFFBFB\">##es</span> <span style=\"background-color: #FFFAFA\">fuck</span> <span style=\"background-color: #FFFBFB\">u</span> <span style=\"background-color: #FFFCFC\">bitch</span> <span style=\"background-color: #FFFBFB\">##es</span> <span style=\"background-color: #FFFAFA\">fuck</span> <span style=\"background-color: #FFFBFB\">u</span> <span style=\"background-color: #FFFCFC\">bitch</span> <span style=\"background-color: #FFFBFB\">##es</span> <span style=\"background-color: #FFFBFB\">fuck</span> <span style=\"background-color: #FFFBFB\">u</span> <span style=\"background-color: #FFFCFC\">bitch</span> <span style=\"background-color: #FFFCFC\">##es</span> <span style=\"background-color: #FFFAFA\">fuck</span> <span style=\"background-color: #FFFBFB\">u</span> <span style=\"background-color: #FFFCFC\">bitch</span> <span style=\"background-color: #FFFBFB\">##es</span> <span style=\"background-color: #FFFAFA\">fuck</span> <span style=\"background-color: #FFFBFB\">u</span> <span style=\"background-color: #FFFCFC\">bitch</span> <span style=\"background-color: #FFFBFB\">##es</span> <span style=\"background-color: #FFFAFA\">fuck</span> <span style=\"background-color: #FFFBFB\">u</span> <span style=\"background-color: #FFFCFC\">bitch</span> <span style=\"background-color: #FFFBFB\">##es</span> <span style=\"background-color: #FFFAFA\">fuck</span> <span style=\"background-color: #FFFBFB\">u</span> <span style=\"background-color: #FFFCFC\">bitch</span> <span style=\"background-color: #FFFBFB\">##es</span> <span style=\"background-color: #FFFAFA\">fuck</span> <span style=\"background-color: #FFFBFB\">u</span> <span style=\"background-color: #FFFBFB\">bitch</span> <span style=\"background-color: #FFFBFB\">##es</span> <span style=\"background-color: #FFFAFA\">fuck</span> <span style=\"background-color: #FFFAFA\">u</span> <span style=\"background-color: #FFFBFB\">bitch</span> <span style=\"background-color: #FFFBFB\">##es</span> <span style=\"background-color: #FFFAFA\">fuck</span> <span style=\"background-color: #FFFBFB\">u</span> <span style=\"background-color: #FFFBFB\">bitch</span> <span style=\"background-color: #FFFBFB\">##es</span> <span style=\"background-color: #FFFAFA\">fuck</span> <span style=\"background-color: #FFFBFB\">u</span> <span style=\"background-color: #FFFCFC\">bitch</span> <span style=\"background-color: #FFFBFB\">##es</span> <span style=\"background-color: #FFFAFA\">fuck</span> <span style=\"background-color: #FFFBFB\">u</span> <span style=\"background-color: #FFFBFB\">bitch</span> <span style=\"background-color: #FFFBFB\">##es</span> <span style=\"background-color: #FFFAFA\">fuck</span> <span style=\"background-color: #FFFAFA\">u</span> <span style=\"background-color: #FFFBFB\">bitch</span> <span style=\"background-color: #FFFBFB\">##es</span> <span style=\"background-color: #FFFAFA\">fuck</span> <span style=\"background-color: #FFFAFA\">u</span> <span style=\"background-color: #FFFBFB\">bitch</span> <span style=\"background-color: #FFFBFB\">##es</span> <span style=\"background-color: #FFFAFA\">fuck</span> <span style=\"background-color: #FFFBFB\">u</span> <span style=\"background-color: #FF-72F-72F\">bitch</span>"
      ],
      "text/plain": [
       "<IPython.core.display.HTML object>"
      ]
     },
     "metadata": {},
     "output_type": "display_data"
    },
    {
     "data": {
      "text/plain": [
       "'fuck u bitches fuck u bitches fuck u bitches fuck u bitches fuck u bitches fuck u bitches fuck u bitches fuck u bitches fuck u bitches fuck u bitches fuck u bitches fuck u bitches fuck u bitches fuck u bitches fuck u bitches fuck u bitches fuck u bitches fuck u bitches fuck u bitches fuck u bitches fuck u bitches fuck u bitches fuck u bitches fuck u bitches fuck u bitches fuck u bitches fuck u bitches fuck u bitches fuck u bitches fuck u bitches fuck u bitches fuck u bitches fuck u bitches fuck u bitches fuck u bitches fuck u bitches fuck u bitches fuck u bitches fuck u bitches fuck u bitches fuck u bitches fuck u bitches fuck u bitches fuck u bitches fuck u bitches fuck u bitches fuck u bitches fuck u bitches fuck u bitches fuck u bitches fuck u bitches fuck u bitches fuck u bitches fuck u bitches fuck u bitches fuck u bitches fuck u bitches fuck u bitches fuck u bitches fuck u bitches fuck u bitches fuck u bitches fuck u bitches fuck u bitches fuck u bitches fuck u bitches fuck u bitches fuck u bitches fuck u bitches fuck u bitches fuck u bitches fuck u bitches fuck u bitches fuck u bitches fuck u bitches fuck u bitches fuck u bitches fuck u bitches fuck u bitches fuck u bitches fuck u bitches fuck u bitches fuck u bitches fuck u bitches fuck u bitches fuck u bitches fuck u bitches fuck u bitches fuck u bitches fuck u bitches fuck u bitches fuck u bitches fuck u bitches fuck u bitches fuck u bitches fuck u bitches fuck u bitches fuck u bitches fuck u bitches fuck u bitches fuck u bitches fuck u bitches fuck u bitches fuck u bitches fuck u bitches fuck u bitches fuck u bitches fuck u bitches fuck u bitches fuck u bitches fuck u bitches fuck u bitches fuck u bitches fuck u bitches fuck u bitches fuck u bitches fuck u bitches fuck u bitches fuck u bitches fuck u bitches fuck u bitches fuck u bitches fuck u bitches fuck u bitches fuck u bitches fuck u bitches fuck u bitches fuck u bitches fuck u bitches fuck u bitches fuck u bitches fuck u bitches fuck u bitches fuck u bitches fuck u bitches fuck u bitches fuck u bitches fuck u bitches fuck u bitches fuck u bitches fuck u bitches fuck u bitches fuck u bitches fuck u bitches fuck u bitches fuck u bitches fuck u bitches fuck u bitches fuck u bitches fuck u bitches fuck u bitches fuck u bitches fuck u bitches fuck u bitches fuck u bitches fuck u bitches fuck u bitches fuck u bitches fuck u bitches fuck u bitches fuck u bitches fuck u bitches fuck u bitches fuck u bitches fuck u bitches fuck u bitches fuck u bitches fuck u bitches fuck u bitches fuck u bitches fuck u bitches fuck u bitches fuck u bitches fuck u bitches fuck u bitches fuck u bitches fuck u bitches fuck u bitches fuck u bitches fuck u bitches fuck u bitches fuck u bitches fuck u bitches fuck u bitches fuck u bitches fuck u bitches fuck u bitches fuck u bitches fuck u bitches fuck u bitches fuck u bitches fuck u bitches fuck u bitches fuck u bitches fuck u bitches fuck u bitches fuck u bitches fuck u bitches fuck u bitches fuck u bitches fuck u bitches fuck u bitches fuck u bitches fuck u bitches fuck u bitches fuck u bitches fuck u bitches fuck u bitches fuck u bitches fuck u bitches fuck u bitches fuck u bitches fuck u bitches fuck u bitches fuck u bitches fuck u bitches fuck u bitches fuck u bitches fuck u bitches fuck u bitches fuck u bitches fuck u bitches fuck u bitches fuck u bitches fuck u bitches fuck u bitches fuck u bitches fuck u bitches fuck u bitches fuck u bitches fuck u bitches fuck u bitches fuck u bitches fuck u bitches fuck u bitches fuck u bitches fuck u bitches fuck u bitches fuck u bitches fuck u bitches fuck u bitches fuck u bitches fuck u bitches fuck u bitches fuck u bitches fuck u bitches fuck u bitches fuck u bitches fuck u bitches fuck u bitches fuck u bitches fuck u bitches fuck u bitches fuck u bitches fuck u bitches fuck u bitches fuck u bitches fuck u bitches fuck u bitches fuck u bitches fuck u bitches fuck u bitches fuck u bitches fuck u bitches fuck u bitches fuck u bitches fuck u bitches fuck u bitches fuck u bitches fuck u bitches fuck u bitches fuck u bitches fuck u bitches fuck u bitches fuck u bitches fuck u bitches fuck u bitches fuck u bitches fuck u bitches fuck u bitches fuck u bitches fuck u bitches fuck u bitches fuck u bitches fuck u bitches fuck u bitches fuck u bitches fuck u bitches fuck u bitches fuck u bitches fuck u bitches fuck u bitches fuck u bitches fuck u bitches fuck u bitches fuck u bitches fuck u bitches fuck u bitches fuck u bitches fuck u bitches fuck u bitches fuck u bitches fuck u bitches fuck u bitches fuck u bitches fuck u bitches fuck u bitches fuck u bitches fuck u bitches fuck u bitches fuck u bitches fuck u bitches fuck u bitches fuck u bitches fuck u bitches fuck u bitches fuck u bitches fuck u bitches fuck u bitches fuck u bitches fuck u bitches fuck u bitches fuck u bitches fuck u bitches fuck u bitches fuck u bitches fuck u bitches fuck u bitches fuck u bitches fuck u bitches fuck u bitches fuck u bitches fuck u bitches fuck'"
      ]
     },
     "metadata": {},
     "output_type": "display_data"
    },
    {
     "name": "stdout",
     "output_type": "stream",
     "text": [
      "Offensive Score is 1.295826405286789\n"
     ]
    },
    {
     "data": {
      "text/html": [
       "<span style=\"background-color: #FFE4E4\">[CLS]</span> <span style=\"background-color: #FFB7B7\">suck</span> <span style=\"background-color: #FFCCCC\">my</span> <span style=\"background-color: #FFD0D0\">fat</span> <span style=\"background-color: #FFCFCF\">##tie</span> <span style=\"background-color: #FFD0D0\">you</span> <span style=\"background-color: #FFD3D3\">cu</span> <span style=\"background-color: #FFD2D2\">##nt</span> <span style=\"background-color: #FFD6D6\">piece</span> <span style=\"background-color: #FFD8D8\">of</span> <span style=\"background-color: #FFD8D8\">shit</span> <span style=\"background-color: #FFC2C2\">blow</span> <span style=\"background-color: #FFD1D1\">your</span> <span style=\"background-color: #FFC9C9\">warning</span> <span style=\"background-color: #FFD3D3\">out</span> <span style=\"background-color: #FFD2D2\">your</span> <span style=\"background-color: #FFC6C6\">ass</span> <span style=\"background-color: #FF-7D5-7D5\">[SEP]</span>"
      ],
      "text/plain": [
       "<IPython.core.display.HTML object>"
      ]
     },
     "metadata": {},
     "output_type": "display_data"
    },
    {
     "data": {
      "text/plain": [
       "'suck my fattie you cunt piece of shit blow your warning out your ass'"
      ]
     },
     "metadata": {},
     "output_type": "display_data"
    },
    {
     "name": "stdout",
     "output_type": "stream",
     "text": [
      "Offensive Score is 1.2930670976638794\n"
     ]
    },
    {
     "data": {
      "text/html": [
       "<span style=\"background-color: #FFF3F3\">[CLS]</span> <span style=\"background-color: #FFE9E9\">fuck</span> <span style=\"background-color: #FFEDED\">you</span> <span style=\"background-color: #FFF0F0\">hon</span> <span style=\"background-color: #FFEEEE\">##key</span> <span style=\"background-color: #FFEAEA\">why</span> <span style=\"background-color: #FFECEC\">you</span> <span style=\"background-color: #FFEFEF\">hat</span> <span style=\"background-color: #FFEDED\">##in</span> <span style=\"background-color: #FFEEEE\">on</span> <span style=\"background-color: #FFE1E1\">blacks</span> <span style=\"background-color: #FFEBEB\">you</span> <span style=\"background-color: #FFE9E9\">fucking</span> <span style=\"background-color: #FFE8E8\">pussy</span> <span style=\"background-color: #FFEBEB\">geek</span> <span style=\"background-color: #FFECEC\">nazi</span> <span style=\"background-color: #FFEAEA\">i</span> <span style=\"background-color: #FFEDED\">all</span> <span style=\"background-color: #FFEDED\">come</span> <span style=\"background-color: #FFEEEE\">to</span> <span style=\"background-color: #FFEDED\">your</span> <span style=\"background-color: #FFF1F1\">house</span> <span style=\"background-color: #FFEAEA\">and</span> <span style=\"background-color: #FFDFDF\">rape</span> <span style=\"background-color: #FFEAEA\">your</span> <span style=\"background-color: #FFEDED\">mom</span> <span style=\"background-color: #FFEAEA\">because</span> <span style=\"background-color: #FFEAEA\">i</span> <span style=\"background-color: #FFEDED\">ve</span> <span style=\"background-color: #FFEBEB\">got</span> <span style=\"background-color: #FFECEC\">a</span> <span style=\"background-color: #FFECEC\">big</span> <span style=\"background-color: #FFE6E6\">black</span> <span style=\"background-color: #FFE7E7\">dick</span> <span style=\"background-color: #FFE6E6\">in</span> <span style=\"background-color: #FFE9E9\">her</span> <span style=\"background-color: #FFEBEB\">tight</span> <span style=\"background-color: #FFE4E4\">white</span> <span style=\"background-color: #FFE6E6\">ass</span> <span style=\"background-color: #FFEEEE\">hon</span> <span style=\"background-color: #FFECEC\">##key</span> <span style=\"background-color: #FF-7CA-7CA\">[SEP]</span>"
      ],
      "text/plain": [
       "<IPython.core.display.HTML object>"
      ]
     },
     "metadata": {},
     "output_type": "display_data"
    },
    {
     "data": {
      "text/plain": [
       "'fuck you honkey why you hatin on blacks you fucking pussy geek nazi i all come to your house and rape your mom because i ve got a big black dick in her tight white ass honkey'"
      ]
     },
     "metadata": {},
     "output_type": "display_data"
    },
    {
     "name": "stdout",
     "output_type": "stream",
     "text": [
      "Offensive Score is 1.2911979258060455\n"
     ]
    },
    {
     "data": {
      "text/html": [
       "<span style=\"background-color: #FFDCDC\">[CLS]</span> <span style=\"background-color: #FFBEBE\">fuck</span> <span style=\"background-color: #FFC6C6\">you</span> <span style=\"background-color: #FFBCBC\">fuck</span> <span style=\"background-color: #FFC1C1\">you</span> <span style=\"background-color: #FFC7C7\">major</span> <span style=\"background-color: #FFBFBF\">##ly</span> <span style=\"background-color: #FFAEAE\">suck</span> <span style=\"background-color: #FFBCBC\">my</span> <span style=\"background-color: #FFB3B3\">dick</span> <span style=\"background-color: #FFBEBE\">asshole</span> <span style=\"background-color: #FF-844-844\">[SEP]</span>"
      ],
      "text/plain": [
       "<IPython.core.display.HTML object>"
      ]
     },
     "metadata": {},
     "output_type": "display_data"
    },
    {
     "data": {
      "text/plain": [
       "'fuck you fuck you majorly suck my dick asshole'"
      ]
     },
     "metadata": {},
     "output_type": "display_data"
    },
    {
     "name": "stdout",
     "output_type": "stream",
     "text": [
      "Offensive Score is 1.2902242243289948\n"
     ]
    },
    {
     "data": {
      "text/html": [
       "<span style=\"background-color: #FFE5E5\">[CLS]</span> <span style=\"background-color: #FFC5C5\">eat</span> <span style=\"background-color: #FFD5D5\">shit</span> <span style=\"background-color: #FFCFCF\">you</span> <span style=\"background-color: #FFD6D6\">fucking</span> <span style=\"background-color: #FFC7C7\">ars</span> <span style=\"background-color: #FFD5D5\">##e</span> <span style=\"background-color: #FFBFBF\">rap</span> <span style=\"background-color: #FFD4D4\">##ping</span> <span style=\"background-color: #FFC1C1\">jew</span> <span style=\"background-color: #FFD1D1\">fucking</span> <span style=\"background-color: #FFC8C8\">arab</span> <span style=\"background-color: #FFC5C5\">i</span> <span style=\"background-color: #FFC7C7\">all</span> <span style=\"background-color: #FFB7B7\">kill</span> <span style=\"background-color: #FFC7C7\">you</span> <span style=\"background-color: #FFBFBF\">1</span> <span style=\"background-color: #FF-785-785\">[SEP]</span>"
      ],
      "text/plain": [
       "<IPython.core.display.HTML object>"
      ]
     },
     "metadata": {},
     "output_type": "display_data"
    },
    {
     "data": {
      "text/plain": [
       "'eat shit you fucking arse rapping jew fucking arab i all kill you 1'"
      ]
     },
     "metadata": {},
     "output_type": "display_data"
    },
    {
     "name": "stdout",
     "output_type": "stream",
     "text": [
      "Offensive Score is 1.2880936115980148\n"
     ]
    },
    {
     "data": {
      "text/html": [
       "<span style=\"background-color: #FFEDED\">[CLS]</span> <span style=\"background-color: #FFE0E0\">suite</span> <span style=\"background-color: #FFDBDB\">##ci</span> <span style=\"background-color: #FFDFDF\">##vil</span> <span style=\"background-color: #FFE0E0\">your</span> <span style=\"background-color: #FFE4E4\">a</span> <span style=\"background-color: #FFDDDD\">pussy</span> <span style=\"background-color: #FFDCDC\">ass</span> <span style=\"background-color: #FFE5E5\">bitch</span> <span style=\"background-color: #FFDFDF\">i</span> <span style=\"background-color: #FFDFDF\">i</span> <span style=\"background-color: #FFE4E4\">fuck</span> <span style=\"background-color: #FFE6E6\">##en</span> <span style=\"background-color: #FFD2D2\">kick</span> <span style=\"background-color: #FFE6E6\">your</span> <span style=\"background-color: #FFDDDD\">ass</span> <span style=\"background-color: #FFDFDF\">any</span> <span style=\"background-color: #FFE7E7\">fuck</span> <span style=\"background-color: #FFE6E6\">##en</span> <span style=\"background-color: #FFE7E7\">day</span> <span style=\"background-color: #FFE4E4\">you</span> <span style=\"background-color: #FFE6E6\">little</span> <span style=\"background-color: #FFE6E6\">bitch</span> <span style=\"background-color: #FFE8E8\">face</span> <span style=\"background-color: #FFE6E6\">cu</span> <span style=\"background-color: #FFE5E5\">##nt</span> <span style=\"background-color: #FFE1E1\">fuck</span> <span style=\"background-color: #FFE6E6\">you</span> <span style=\"background-color: #FFDCDC\">and</span> <span style=\"background-color: #FFDCDC\">fuck</span> <span style=\"background-color: #FFDFDF\">barcelona</span> <span style=\"background-color: #FF-77C-77C\">[SEP]</span>"
      ],
      "text/plain": [
       "<IPython.core.display.HTML object>"
      ]
     },
     "metadata": {},
     "output_type": "display_data"
    },
    {
     "data": {
      "text/plain": [
       "'suitecivil your a pussy ass bitch i i fucken kick your ass any fucken day you little bitch face cunt fuck you and fuck barcelona'"
      ]
     },
     "metadata": {},
     "output_type": "display_data"
    },
    {
     "name": "stdout",
     "output_type": "stream",
     "text": [
      "Offensive Score is 1.2878752052783966\n"
     ]
    },
    {
     "data": {
      "text/html": [
       "<span style=\"background-color: #FFF6F6\">[CLS]</span> <span style=\"background-color: #FFF2F2\">ya</span> <span style=\"background-color: #FFF1F1\">##lla</span> <span style=\"background-color: #FFF3F3\">are</span> <span style=\"background-color: #FFF1F1\">you</span> <span style=\"background-color: #FFF3F3\">stupid</span> <span style=\"background-color: #FFF1F1\">and</span> <span style=\"background-color: #FFF5F5\">a</span> <span style=\"background-color: #FFE9E9\">gay</span> <span style=\"background-color: #FFF1F1\">ass</span> <span style=\"background-color: #FFF3F3\">fa</span> <span style=\"background-color: #FFF6F6\">##g</span> <span style=\"background-color: #FFF2F2\">who</span> <span style=\"background-color: #FFF3F3\">##s</span> <span style=\"background-color: #FFF4F4\">mother</span> <span style=\"background-color: #FFF4F4\">was</span> <span style=\"background-color: #FFF5F5\">a</span> <span style=\"background-color: #FFF4F4\">fucking</span> <span style=\"background-color: #FFF4F4\">whore</span> <span style=\"background-color: #FFF1F1\">you</span> <span style=\"background-color: #FFF3F3\">fu</span> <span style=\"background-color: #FFF6F6\">##king</span> <span style=\"background-color: #FFF5F5\">idiot</span> <span style=\"background-color: #FFF3F3\">##ical</span> <span style=\"background-color: #FFF5F5\">mongol</span> <span style=\"background-color: #FFF3F3\">##ical</span> <span style=\"background-color: #FFF4F4\">son</span> <span style=\"background-color: #FFF5F5\">of</span> <span style=\"background-color: #FFF4F4\">a</span> <span style=\"background-color: #FFF5F5\">bitch</span> <span style=\"background-color: #FFF2F2\">you</span> <span style=\"background-color: #FFF4F4\">are</span> <span style=\"background-color: #FFF1F1\">so</span> <span style=\"background-color: #FFF1F1\">fucking</span> <span style=\"background-color: #FFF2F2\">faa</span> <span style=\"background-color: #FFF3F3\">##ggy</span> <span style=\"background-color: #FFF3F3\">##y</span> <span style=\"background-color: #FFF2F2\">that</span> <span style=\"background-color: #FFF6F6\">ou</span> <span style=\"background-color: #FFF5F5\">##y</span> <span style=\"background-color: #FFEFEF\">suck</span> <span style=\"background-color: #FFF5F5\">as</span> <span style=\"background-color: #FFF6F6\">much</span> <span style=\"background-color: #FFEFEF\">cock</span> <span style=\"background-color: #FFF4F4\">as</span> <span style=\"background-color: #FFF3F3\">your</span> <span style=\"background-color: #FFF7F7\">dad</span> <span style=\"background-color: #FFF4F4\">who</span> <span style=\"background-color: #FFF7F7\">was</span> <span style=\"background-color: #FFF7F7\">the</span> <span style=\"background-color: #FFF8F8\">biggest</span> <span style=\"background-color: #FFE9E9\">gay</span> <span style=\"background-color: #FFF2F2\">ass</span> <span style=\"background-color: #FFF7F7\">idiot</span> <span style=\"background-color: #FFF7F7\">in</span> <span style=\"background-color: #FFF7F7\">history</span> <span style=\"background-color: #FFF5F5\">who</span> <span style=\"background-color: #FFF7F7\">ever</span> <span style=\"background-color: #FFEFEF\">sucked</span> <span style=\"background-color: #FFF0F0\">cock</span> <span style=\"background-color: #FFF2F2\">and</span> <span style=\"background-color: #FFF5F5\">o</span> <span style=\"background-color: #FFF3F3\">##yu</span> <span style=\"background-color: #FFF5F5\">also</span> <span style=\"background-color: #FFF6F6\">stuck</span> <span style=\"background-color: #FFF5F5\">up</span> <span style=\"background-color: #FFF5F5\">a</span> <span style=\"background-color: #FFF4F4\">dil</span> <span style=\"background-color: #FFF7F7\">##do</span> <span style=\"background-color: #FFF5F5\">up</span> <span style=\"background-color: #FFF4F4\">your</span> <span style=\"background-color: #FFF5F5\">mothers</span> <span style=\"background-color: #FFF0F0\">ass</span> <span style=\"background-color: #FFF4F4\">while</span> <span style=\"background-color: #FFF5F5\">she</span> <span style=\"background-color: #FFF5F5\">was</span> <span style=\"background-color: #FFF5F5\">po</span> <span style=\"background-color: #FFF5F5\">##oin</span> <span style=\"background-color: #FFF5F5\">##g</span> <span style=\"background-color: #FFF3F3\">and</span> <span style=\"background-color: #FFF4F4\">you</span> <span style=\"background-color: #FFF3F3\">made</span> <span style=\"background-color: #FFF3F3\">your</span> <span style=\"background-color: #FFF3F3\">sister</span> <span style=\"background-color: #FFEFEF\">eat</span> <span style=\"background-color: #FFF1F1\">that</span> <span style=\"background-color: #FFF3F3\">shit</span> <span style=\"background-color: #FF-73C-73C\">[SEP]</span>"
      ],
      "text/plain": [
       "<IPython.core.display.HTML object>"
      ]
     },
     "metadata": {},
     "output_type": "display_data"
    },
    {
     "data": {
      "text/plain": [
       "'yalla are you stupid and a gay ass fag whos mother was a fucking whore you fuking idiotical mongolical son of a bitch you are so fucking faaggyy that ouy suck as much cock as your dad who was the biggest gay ass idiot in history who ever sucked cock and oyu also stuck up a dildo up your mothers ass while she was pooing and you made your sister eat that shit'"
      ]
     },
     "metadata": {},
     "output_type": "display_data"
    },
    {
     "name": "stdout",
     "output_type": "stream",
     "text": [
      "Offensive Score is 1.286572441458702\n"
     ]
    },
    {
     "data": {
      "text/html": [
       "<span style=\"background-color: #FFF3F3\">[CLS]</span> <span style=\"background-color: #FFEAEA\">fuck</span> <span style=\"background-color: #FFF3F3\">bill</span> <span style=\"background-color: #FFF3F3\">##c</span> <span style=\"background-color: #FFF1F1\">##j</span> <span style=\"background-color: #FFECEC\">and</span> <span style=\"background-color: #FFEDED\">kill</span> <span style=\"background-color: #FFF3F3\">bill</span> <span style=\"background-color: #FFF2F2\">##c</span> <span style=\"background-color: #FFF1F1\">##j</span> <span style=\"background-color: #FFEDED\">because</span> <span style=\"background-color: #FFEFEF\">i</span> <span style=\"background-color: #FFEFEF\">hate</span> <span style=\"background-color: #FFEEEE\">his</span> <span style=\"background-color: #FFF0F0\">big</span> <span style=\"background-color: #FFEFEF\">fat</span> <span style=\"background-color: #FFEEEE\">fuck</span> <span style=\"background-color: #FFF0F0\">kill</span> <span style=\"background-color: #FFF4F4\">bill</span> <span style=\"background-color: #FFF3F3\">##c</span> <span style=\"background-color: #FFF3F3\">##j</span> <span style=\"background-color: #FFF2F2\">kill</span> <span style=\"background-color: #FFF5F5\">bill</span> <span style=\"background-color: #FFF3F3\">##c</span> <span style=\"background-color: #FFF3F3\">##j</span> <span style=\"background-color: #FFF1F1\">kill</span> <span style=\"background-color: #FFF4F4\">bill</span> <span style=\"background-color: #FFF4F4\">##c</span> <span style=\"background-color: #FFF0F0\">##js</span> <span style=\"background-color: #FFE7E7\">ass</span> <span style=\"background-color: #FFEEEE\">kill</span> <span style=\"background-color: #FFEFEF\">his</span> <span style=\"background-color: #FFF0F0\">big</span> <span style=\"background-color: #FFEEEE\">fat</span> <span style=\"background-color: #FFEFEF\">fuck</span> <span style=\"background-color: #FFEEEE\">kill</span> <span style=\"background-color: #FFF0F0\">his</span> <span style=\"background-color: #FFE8E8\">ass</span> <span style=\"background-color: #FFEFEF\">kill</span> <span style=\"background-color: #FFF3F3\">bill</span> <span style=\"background-color: #FFF3F3\">##c</span> <span style=\"background-color: #FFF1F1\">##j</span> <span style=\"background-color: #FFECEC\">fuck</span> <span style=\"background-color: #FFF4F4\">bill</span> <span style=\"background-color: #FFF4F4\">##c</span> <span style=\"background-color: #FFF3F3\">##j</span> <span style=\"background-color: #FFF2F2\">kill</span> <span style=\"background-color: #FFF0F0\">his</span> <span style=\"background-color: #FFE6E6\">ass</span> <span style=\"background-color: #FFF3F3\">kill</span> <span style=\"background-color: #FFF6F6\">bill</span> <span style=\"background-color: #FFF5F5\">##c</span> <span style=\"background-color: #FFF5F5\">##j</span> <span style=\"background-color: #FFF3F3\">kill</span> <span style=\"background-color: #FFF7F7\">bill</span> <span style=\"background-color: #FFF4F4\">##c</span> <span style=\"background-color: #FFF3F3\">##j</span> <span style=\"background-color: #FFF1F1\">i</span> <span style=\"background-color: #FFF2F2\">hate</span> <span style=\"background-color: #FFF3F3\">him</span> <span style=\"background-color: #FFEFEF\">kill</span> <span style=\"background-color: #FFF6F6\">bill</span> <span style=\"background-color: #FFF3F3\">##c</span> <span style=\"background-color: #FFF3F3\">##j</span> <span style=\"background-color: #FFEEEE\">and</span> <span style=\"background-color: #FFF1F1\">avenge</span> <span style=\"background-color: #FFF1F1\">tough</span> <span style=\"background-color: #FFEEEE\">##head</span> <span style=\"background-color: #FFEEEE\">kill</span> <span style=\"background-color: #FFEFEF\">his</span> <span style=\"background-color: #FFE6E6\">ass</span> <span style=\"background-color: #FF-719-719\">[SEP]</span>"
      ],
      "text/plain": [
       "<IPython.core.display.HTML object>"
      ]
     },
     "metadata": {},
     "output_type": "display_data"
    },
    {
     "data": {
      "text/plain": [
       "'fuck billcj and kill billcj because i hate his big fat fuck kill billcj kill billcj kill billcjs ass kill his big fat fuck kill his ass kill billcj fuck billcj kill his ass kill billcj kill billcj i hate him kill billcj and avenge toughhead kill his ass'"
      ]
     },
     "metadata": {},
     "output_type": "display_data"
    },
    {
     "name": "stdout",
     "output_type": "stream",
     "text": [
      "Offensive Score is 1.2737418115139008\n"
     ]
    },
    {
     "data": {
      "text/html": [
       "<span style=\"background-color: #FFE7E7\">[CLS]</span> <span style=\"background-color: #FFD8D8\">go</span> <span style=\"background-color: #FFCDCD\">fuck</span> <span style=\"background-color: #FFD6D6\">yourself</span> <span style=\"background-color: #FFD2D2\">you</span> <span style=\"background-color: #FFD8D8\">fucking</span> <span style=\"background-color: #FFC3C3\">dick</span> <span style=\"background-color: #FFD7D7\">go</span> <span style=\"background-color: #FFDBDB\">rot</span> <span style=\"background-color: #FFD5D5\">in</span> <span style=\"background-color: #FFD8D8\">hell</span> <span style=\"background-color: #FFD1D1\">piece</span> <span style=\"background-color: #FFD4D4\">of</span> <span style=\"background-color: #FFD8D8\">crap</span> <span style=\"background-color: #FFC8C8\">your</span> <span style=\"background-color: #FFCBCB\">mother</span> <span style=\"background-color: #FFD7D7\">is</span> <span style=\"background-color: #FFD3D3\">a</span> <span style=\"background-color: #FFD1D1\">whore</span> <span style=\"background-color: #FF-7CB-7CB\">[SEP]</span>"
      ],
      "text/plain": [
       "<IPython.core.display.HTML object>"
      ]
     },
     "metadata": {},
     "output_type": "display_data"
    },
    {
     "data": {
      "text/plain": [
       "'go fuck yourself you fucking dick go rot in hell piece of crap your mother is a whore'"
      ]
     },
     "metadata": {},
     "output_type": "display_data"
    },
    {
     "name": "stdout",
     "output_type": "stream",
     "text": [
      "Offensive Score is 1.273691013455391\n"
     ]
    },
    {
     "data": {
      "text/html": [
       "<span style=\"background-color: #FFF4F4\">[CLS]</span> <span style=\"background-color: #FFECEC\">fuck</span> <span style=\"background-color: #FFEFEF\">you</span> <span style=\"background-color: #FFEEEE\">you</span> <span style=\"background-color: #FFE7E7\">gay</span> <span style=\"background-color: #FFEDED\">ass</span> <span style=\"background-color: #FFEDED\">liberal</span> <span style=\"background-color: #FFEDED\">hey</span> <span style=\"background-color: #FFF1F1\">asshole</span> <span style=\"background-color: #FFEEEE\">why</span> <span style=\"background-color: #FFF1F1\">don</span> <span style=\"background-color: #FFEEEE\">##t</span> <span style=\"background-color: #FFF0F0\">you</span> <span style=\"background-color: #FFEEEE\">get</span> <span style=\"background-color: #FFEFEF\">your</span> <span style=\"background-color: #FFEFEF\">face</span> <span style=\"background-color: #FFEEEE\">out</span> <span style=\"background-color: #FFEFEF\">of</span> <span style=\"background-color: #FFEDED\">the</span> <span style=\"background-color: #FFEDED\">fucking</span> <span style=\"background-color: #FFEBEB\">child</span> <span style=\"background-color: #FFEEEE\">mole</span> <span style=\"background-color: #FFEDED\">##sted</span> <span style=\"background-color: #FFF0F0\">home</span> <span style=\"background-color: #FFEDED\">##page</span> <span style=\"background-color: #FFEBEB\">and</span> <span style=\"background-color: #FFEFEF\">go</span> <span style=\"background-color: #FFEAEA\">fuck</span> <span style=\"background-color: #FFEEEE\">your</span> <span style=\"background-color: #FFF2F2\">self</span> <span style=\"background-color: #FFEEEE\">you</span> <span style=\"background-color: #FFE8E8\">gay</span> <span style=\"background-color: #FFEDED\">ass</span> <span style=\"background-color: #FFEFEF\">liberal</span> <span style=\"background-color: #FFF1F1\">mother</span> <span style=\"background-color: #FFF0F0\">fuck</span> <span style=\"background-color: #FFF5F5\">##er</span> <span style=\"background-color: #FFEEEE\">i</span> <span style=\"background-color: #FFF1F1\">hate</span> <span style=\"background-color: #FFEBEB\">jews</span> <span style=\"background-color: #FFF0F0\">like</span> <span style=\"background-color: #FFF1F1\">you</span> <span style=\"background-color: #FFEDED\">fuck</span> <span style=\"background-color: #FFF1F1\">you</span> <span style=\"background-color: #FFF0F0\">and</span> <span style=\"background-color: #FFF1F1\">your</span> <span style=\"background-color: #FFF5F5\">whole</span> <span style=\"background-color: #FFF0F0\">fucking</span> <span style=\"background-color: #FFF6F6\">family</span> <span style=\"background-color: #FFF0F0\">you</span> <span style=\"background-color: #FFF0F0\">fucking</span> <span style=\"background-color: #FFF0F0\">sand</span> <span style=\"background-color: #FFEDED\">ni</span> <span style=\"background-color: #FFEEEE\">##gger</span> <span style=\"background-color: #FFF2F2\">lover</span> <span style=\"background-color: #FF-796-796\">[SEP]</span>"
      ],
      "text/plain": [
       "<IPython.core.display.HTML object>"
      ]
     },
     "metadata": {},
     "output_type": "display_data"
    },
    {
     "data": {
      "text/plain": [
       "'fuck you you gay ass liberal hey asshole why dont you get your face out of the fucking child molested homepage and go fuck your self you gay ass liberal mother fucker i hate jews like you fuck you and your whole fucking family you fucking sand nigger lover'"
      ]
     },
     "metadata": {},
     "output_type": "display_data"
    }
   ],
   "source": [
    "high_score_list = text_df.sort_values(\"target\", ascending=False).head(20).index.tolist()\n",
    "\n",
    "for num in high_score_list:\n",
    "    \n",
    "    ids = config.tokenizer(text_df.loc[num, \"text\"])[\"input_ids\"]\n",
    "    tokens = config.tokenizer.convert_ids_to_tokens(ids)\n",
    "    attention = attention_array[num, :][np.nonzero(mask_array[num, :])]\n",
    "\n",
    "    html_outputs = []\n",
    "\n",
    "    for word, attn in zip(tokens, attention):\n",
    "        html_outputs.append(highlight_r(word, attn))\n",
    "\n",
    "    print(f\"Offensive Score is {PRED[num, 0]}\")\n",
    "    display(HTML(' '.join(html_outputs)))\n",
    "    display(text_df.loc[num, \"text\"])\n",
    "\n"
   ]
  },
  {
   "cell_type": "code",
   "execution_count": null,
   "id": "39a4f596",
   "metadata": {},
   "outputs": [],
   "source": []
  }
 ],
 "metadata": {
  "kernelspec": {
   "display_name": "Python 3 (ipykernel)",
   "language": "python",
   "name": "python3"
  },
  "language_info": {
   "codemirror_mode": {
    "name": "ipython",
    "version": 3
   },
   "file_extension": ".py",
   "mimetype": "text/x-python",
   "name": "python",
   "nbconvert_exporter": "python",
   "pygments_lexer": "ipython3",
   "version": "3.7.10"
  }
 },
 "nbformat": 4,
 "nbformat_minor": 5
}
