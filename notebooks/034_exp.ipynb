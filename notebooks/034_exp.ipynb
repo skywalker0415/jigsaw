{
 "cells": [
  {
   "cell_type": "markdown",
   "id": "9091cf64",
   "metadata": {},
   "source": [
    "![](https://images.unsplash.com/photo-1602084551218-a28205125639?ixlib=rb-1.2.1&ixid=MnwxMjA3fDB8MHxwaG90by1wYWdlfHx8fGVufDB8fHx8&auto=format&fit=crop&w=2070&q=80)"
   ]
  },
  {
   "cell_type": "markdown",
   "id": "57a0112e",
   "metadata": {},
   "source": [
    "<div class = 'alert alert-block alert-info'\n",
    "     style = 'background-color:#4c1c84;\n",
    "              color:#eeebf1;\n",
    "              border-width:5px;\n",
    "              border-color:#4c1c84;\n",
    "              font-family:Comic Sans MS;\n",
    "              border-radius: 50px 50px'>\n",
    "    <p style = 'font-size:24px'>Exp 034</p>\n",
    "</div>\n",
    "\n",
    "<p style = 'font-size:24px;\n",
    "            color:#4c1c84'>\n",
    "    実施したこと\n",
    "</p>\n",
    "    <li style = \"color:#4c1c84;\n",
    "                font-size:14px\">033_expの結果解析</li>"
   ]
  },
  {
   "cell_type": "markdown",
   "id": "323565a7",
   "metadata": {},
   "source": [
    "<br>\n",
    "<h1 style = \"font-size:45px; font-family:Comic Sans MS ; font-weight : normal; background-color: #4c1c84 ; color : #eeebf1; text-align: center; border-radius: 100px 100px;\">\n",
    "    Config\n",
    "</h1>\n",
    "<br>"
   ]
  },
  {
   "cell_type": "code",
   "execution_count": 27,
   "id": "37933fa2",
   "metadata": {},
   "outputs": [],
   "source": [
    "import sys\n",
    "sys.path.append(\"../src/utils/iterative-stratification/\")\n",
    "sys.path.append(\"../src/utils/detoxify\")\n",
    "sys.path.append(\"../src/utils/coral-pytorch/\")\n",
    "sys.path.append(\"../src/utils/pyspellchecker\")"
   ]
  },
  {
   "cell_type": "code",
   "execution_count": 28,
   "id": "3a183996",
   "metadata": {},
   "outputs": [],
   "source": [
    "import warnings\n",
    "warnings.simplefilter('ignore')\n",
    "\n",
    "import os\n",
    "import gc\n",
    "gc.enable()\n",
    "import sys\n",
    "import glob\n",
    "import copy\n",
    "import math\n",
    "import time\n",
    "import random\n",
    "import string\n",
    "import psutil\n",
    "import pathlib\n",
    "from pathlib import Path\n",
    "from contextlib import contextmanager\n",
    "from collections import defaultdict\n",
    "from box import Box\n",
    "from typing import Optional\n",
    "from pprint import pprint\n",
    "\n",
    "import numpy as np\n",
    "import pandas as pd\n",
    "import matplotlib.pyplot as plt\n",
    "import seaborn as sns\n",
    "import japanize_matplotlib\n",
    "\n",
    "from tqdm.auto import tqdm as tqdmp\n",
    "from tqdm.autonotebook import tqdm as tqdm\n",
    "tqdmp.pandas()\n",
    "\n",
    "## Model\n",
    "from sklearn.metrics import mean_squared_error\n",
    "from sklearn.model_selection import StratifiedKFold, KFold\n",
    "import torch\n",
    "import torch.nn as nn\n",
    "import torch.nn.functional as F\n",
    "from torch.utils.data import Dataset, DataLoader\n",
    "from transformers import AutoTokenizer, AutoModel, AdamW, AutoModelForSequenceClassification\n",
    "from transformers import RobertaModel, RobertaForSequenceClassification\n",
    "from transformers import RobertaTokenizer\n",
    "from transformers import LukeTokenizer, LukeModel, LukeConfig\n",
    "from transformers import get_linear_schedule_with_warmup, get_cosine_schedule_with_warmup\n",
    "from transformers import BertTokenizer, BertForSequenceClassification, BertForMaskedLM\n",
    "from transformers import RobertaTokenizer, RobertaForSequenceClassification\n",
    "from transformers import XLMRobertaTokenizer, XLMRobertaForSequenceClassification\n",
    "from transformers import DebertaTokenizer, DebertaModel\n",
    "\n",
    "# Pytorch Lightning\n",
    "import pytorch_lightning as pl\n",
    "from pytorch_lightning.utilities.seed import seed_everything\n",
    "from pytorch_lightning import callbacks\n",
    "from pytorch_lightning.callbacks.progress import ProgressBarBase\n",
    "from pytorch_lightning import LightningDataModule, LightningDataModule\n",
    "from pytorch_lightning import Trainer\n",
    "from pytorch_lightning.callbacks import ModelCheckpoint, EarlyStopping, LearningRateMonitor\n",
    "from pytorch_lightning.loggers import WandbLogger\n",
    "from pytorch_lightning.loggers.csv_logs import CSVLogger\n",
    "from pytorch_lightning.callbacks import RichProgressBar\n",
    "\n",
    "from sklearn.linear_model import Ridge\n",
    "from sklearn.svm import SVC, SVR\n",
    "from sklearn.feature_extraction.text import TfidfVectorizer\n",
    "from scipy.stats import rankdata\n",
    "from cuml.svm import SVR as cuml_SVR\n",
    "from cuml.linear_model import Ridge as cuml_Ridge\n",
    "import cudf\n",
    "from detoxify import Detoxify\n",
    "from iterstrat.ml_stratifiers import MultilabelStratifiedKFold\n",
    "\n",
    "from ast import literal_eval\n",
    "from nltk.tokenize import TweetTokenizer\n",
    "import spacy\n",
    "from scipy.stats import sem\n",
    "from copy import deepcopy\n",
    "from spellchecker import SpellChecker\n",
    "from typing import Text, Set, List\n"
   ]
  },
  {
   "cell_type": "code",
   "execution_count": 29,
   "id": "ea15b3d0",
   "metadata": {},
   "outputs": [],
   "source": [
    "import torch\n",
    "\n",
    "config = {\n",
    "    \"exp_comment\":\"Jigsaw-Classification をHateBERTで学習\",\n",
    "    \"seed\": 42,\n",
    "    \"root\": \"/content/drive/MyDrive/kaggle/Jigsaw/raw\",\n",
    "    \"n_fold\": 5,\n",
    "    \"epoch\": 5,\n",
    "    \"max_length\": 256,\n",
    "    \"environment\": \"AWS\",\n",
    "    \"project\": \"Jigsaw\",\n",
    "    \"entity\": \"dataskywalker\",\n",
    "    \"exp_name\": \"034_exp\",\n",
    "    \"margin\": 0.5,\n",
    "    \"train_fold\": [0, 1, 2, 3, 4],\n",
    "\n",
    "    \"trainer\": {\n",
    "        \"gpus\": 1,\n",
    "        \"accumulate_grad_batches\": 8,\n",
    "        \"progress_bar_refresh_rate\": 1,\n",
    "        \"fast_dev_run\": True,\n",
    "        \"num_sanity_val_steps\": 0,\n",
    "    },\n",
    "\n",
    "    \"train_loader\": {\n",
    "        \"batch_size\": 8,\n",
    "        \"shuffle\": True,\n",
    "        \"num_workers\": 1,\n",
    "        \"pin_memory\": True,\n",
    "        \"drop_last\": True,\n",
    "    },\n",
    "\n",
    "    \"valid_loader\": {\n",
    "        \"batch_size\": 8,\n",
    "        \"shuffle\": False,\n",
    "        \"num_workers\": 1,\n",
    "        \"pin_memory\": True,\n",
    "        \"drop_last\": False,\n",
    "    },\n",
    "\n",
    "    \"test_loader\": {\n",
    "        \"batch_size\": 8,\n",
    "        \"shuffle\": False,\n",
    "        \"num_workers\": 1,\n",
    "        \"pin_memory\": True,\n",
    "        \"drop_last\": False,\n",
    "    },\n",
    "\n",
    "    \"backbone\": {\n",
    "        \"name\": \"GroNLP/hateBERT\",\n",
    "        \"output_dim\": 1,\n",
    "    },\n",
    "\n",
    "    \"optimizer\": {\n",
    "        \"name\": \"torch.optim.AdamW\",\n",
    "        \"params\": {\n",
    "            \"lr\": 1e-6,\n",
    "        },\n",
    "    },\n",
    "\n",
    "    \"scheduler\": {\n",
    "        \"name\": \"torch.optim.lr_scheduler.CosineAnnealingWarmRestarts\",\n",
    "        \"params\": {\n",
    "            \"T_0\": 20,\n",
    "            \"eta_min\": 0,\n",
    "        },\n",
    "    },\n",
    "\n",
    "    \"loss\": \"nn.MSELoss\",\n",
    "}\n",
    "\n",
    "config = Box(config)\n",
    "config.tokenizer = AutoTokenizer.from_pretrained(config.backbone.name)\n",
    "config.model = BertForMaskedLM.from_pretrained(config.backbone.name)\n",
    "# pprint(config)"
   ]
  },
  {
   "cell_type": "code",
   "execution_count": 30,
   "id": "8c3feb92",
   "metadata": {},
   "outputs": [],
   "source": [
    "config.tokenizer.save_pretrained(f\"../data/processed/{config.backbone.name}\")\n",
    "\n",
    "pretrain_model = BertForMaskedLM.from_pretrained(config.backbone.name)\n",
    "pretrain_model.save_pretrained(f\"../data/processed/{config.backbone.name}\")"
   ]
  },
  {
   "cell_type": "code",
   "execution_count": 31,
   "id": "c19f54d6",
   "metadata": {},
   "outputs": [
    {
     "name": "stdout",
     "output_type": "stream",
     "text": [
      "Your environment is 'AWS'.\n",
      "INPUT_DIR is /mnt/work/data/kaggle/Jigsaw\n",
      "MODEL_DIR is ../models/034_exp\n",
      "OUTPUT_DIR is ../data/interim/034_exp\n",
      "UTIL_DIR is /mnt/work/shimizu/kaggle/PetFinder/src/utils\n"
     ]
    }
   ],
   "source": [
    "# 個人的にAWSやKaggle環境やGoogle Colabを行ったり来たりしているのでまとめています\n",
    "import os\n",
    "import sys\n",
    "from pathlib import Path\n",
    "\n",
    "if config.environment == 'AWS':\n",
    "    \n",
    "    INPUT_DIR = Path('/mnt/work/data/kaggle/Jigsaw/')\n",
    "    MODEL_DIR = Path(f'../models/{config.exp_name}/')\n",
    "    OUTPUT_DIR = Path(f'../data/interim/{config.exp_name}/')\n",
    "    UTIL_DIR = Path('/mnt/work/shimizu/kaggle/PetFinder/src/utils')\n",
    "    \n",
    "    os.makedirs(MODEL_DIR, exist_ok=True)\n",
    "    os.makedirs(OUTPUT_DIR, exist_ok=True)\n",
    "    \n",
    "    print(f\"Your environment is 'AWS'.\\nINPUT_DIR is {INPUT_DIR}\\nMODEL_DIR is {MODEL_DIR}\\nOUTPUT_DIR is {OUTPUT_DIR}\\nUTIL_DIR is {UTIL_DIR}\")\n",
    "    \n",
    "    \n",
    "elif config.environment == 'Kaggle':\n",
    "    INPUT_DIR = Path('../input/*****')\n",
    "    MODEL_DIR = Path('./')\n",
    "    OUTPUT_DIR = Path('./')\n",
    "    print(f\"Your environment is 'Kaggle'.\\nINPUT_DIR is {INPUT_DIR}\\nMODEL_DIR is {MODEL_DIR}\\nOUTPUT_DIR is {OUTPUT_DIR}\")\n",
    "\n",
    "    \n",
    "elif config.environment == 'Colab':\n",
    "    INPUT_DIR = Path('/content/drive/MyDrive/kaggle/Jigsaw/raw')\n",
    "    BASE_DIR = Path(\"/content/drive/MyDrive/kaggle/Jigsaw/interim\")\n",
    "\n",
    "    MODEL_DIR = BASE_DIR / f'{config.exp_name}'\n",
    "    OUTPUT_DIR = BASE_DIR / f'{config.exp_name}/'\n",
    "\n",
    "    os.makedirs(MODEL_DIR, exist_ok=True)\n",
    "    os.makedirs(OUTPUT_DIR, exist_ok=True)\n",
    "    \n",
    "    if not os.path.exists(INPUT_DIR):\n",
    "        print('Please Mount your Google Drive.')\n",
    "    else:\n",
    "        print(f\"Your environment is 'Colab'.\\nINPUT_DIR is {INPUT_DIR}\\nMODEL_DIR is {MODEL_DIR}\\nOUTPUT_DIR is {OUTPUT_DIR}\")\n",
    "        \n",
    "else:\n",
    "    print(\"Please choose 'AWS' or 'Kaggle' or 'Colab'.\\nINPUT_DIR is not found.\")"
   ]
  },
  {
   "cell_type": "code",
   "execution_count": 32,
   "id": "9a312908",
   "metadata": {},
   "outputs": [
    {
     "data": {
      "text/plain": [
       "42"
      ]
     },
     "execution_count": 32,
     "metadata": {},
     "output_type": "execute_result"
    }
   ],
   "source": [
    "# Seed固定\n",
    "seed_everything(config.seed)"
   ]
  },
  {
   "cell_type": "code",
   "execution_count": 33,
   "id": "e119a415",
   "metadata": {},
   "outputs": [],
   "source": [
    "## 処理時間計測\n",
    "@contextmanager\n",
    "def timer(name:str, slack:bool=False):\n",
    "    t0 = time.time()\n",
    "    p = psutil.Process(os.getpid())\n",
    "    m0 = p.memory_info()[0] / 2. ** 30\n",
    "    print(f'<< {name} >> Start')\n",
    "    yield\n",
    "    \n",
    "    m1 = p.memory_info()[0] / 2. ** 30\n",
    "    delta = m1 - m0\n",
    "    sign = '+' if delta >= 0 else '-'\n",
    "    delta = math.fabs(delta)\n",
    "    \n",
    "    print(f\"<< {name} >> {m1:.1f}GB({sign}{delta:.1f}GB):{time.time() - t0:.1f}sec\", file=sys.stderr)"
   ]
  },
  {
   "cell_type": "markdown",
   "id": "a31026e1",
   "metadata": {
    "id": "zWE2XhHeTFos"
   },
   "source": [
    "<br>\n",
    "<h1 style = \"font-size:45px; font-family:Comic Sans MS ; font-weight : normal; background-color: #4c1c84 ; color : #eeebf1; text-align: center; border-radius: 100px 100px;\">\n",
    "    Data Load\n",
    "</h1>\n",
    "<br>"
   ]
  },
  {
   "cell_type": "code",
   "execution_count": 34,
   "id": "cce08233",
   "metadata": {
    "colab": {
     "base_uri": "https://localhost:8080/"
    },
    "id": "3DFxNX0CTD9t",
    "outputId": "240b449b-9f09-4519-d155-b4f865053621"
   },
   "outputs": [
    {
     "name": "stdout",
     "output_type": "stream",
     "text": [
      "/mnt/work/data/kaggle/Jigsaw/comments_to_score.csv\n",
      "/mnt/work/data/kaggle/Jigsaw/sample_submission.csv\n",
      "/mnt/work/data/kaggle/Jigsaw/validation_data.csv\n"
     ]
    }
   ],
   "source": [
    "## Data Check\n",
    "for dirnames, _, filenames in os.walk(INPUT_DIR):\n",
    "    \n",
    "    for filename in filenames:\n",
    "\n",
    "        print(f'{dirnames}/{filename}')"
   ]
  },
  {
   "cell_type": "code",
   "execution_count": 35,
   "id": "5b14b145",
   "metadata": {},
   "outputs": [
    {
     "data": {
      "text/html": [
       "<div>\n",
       "<style scoped>\n",
       "    .dataframe tbody tr th:only-of-type {\n",
       "        vertical-align: middle;\n",
       "    }\n",
       "\n",
       "    .dataframe tbody tr th {\n",
       "        vertical-align: top;\n",
       "    }\n",
       "\n",
       "    .dataframe thead th {\n",
       "        text-align: right;\n",
       "    }\n",
       "</style>\n",
       "<table border=\"1\" class=\"dataframe\">\n",
       "  <thead>\n",
       "    <tr style=\"text-align: right;\">\n",
       "      <th></th>\n",
       "      <th>worker</th>\n",
       "      <th>less_toxic</th>\n",
       "      <th>more_toxic</th>\n",
       "    </tr>\n",
       "  </thead>\n",
       "  <tbody>\n",
       "    <tr>\n",
       "      <th>0</th>\n",
       "      <td>313</td>\n",
       "      <td>This article sucks \\n\\nwoo woo wooooooo</td>\n",
       "      <td>WHAT!!!!!!!!?!?!!?!?!!?!?!?!?!!!!!!!!!!!!!!!!!...</td>\n",
       "    </tr>\n",
       "    <tr>\n",
       "      <th>1</th>\n",
       "      <td>188</td>\n",
       "      <td>\"And yes, people should recognize that but the...</td>\n",
       "      <td>Daphne Guinness \\n\\nTop of the mornin' my fav...</td>\n",
       "    </tr>\n",
       "    <tr>\n",
       "      <th>2</th>\n",
       "      <td>82</td>\n",
       "      <td>Western Media?\\n\\nYup, because every crime in...</td>\n",
       "      <td>\"Atom you don't believe actual photos of mastu...</td>\n",
       "    </tr>\n",
       "    <tr>\n",
       "      <th>3</th>\n",
       "      <td>347</td>\n",
       "      <td>And you removed it! You numbskull! I don't car...</td>\n",
       "      <td>You seem to have sand in your vagina.\\n\\nMight...</td>\n",
       "    </tr>\n",
       "    <tr>\n",
       "      <th>4</th>\n",
       "      <td>539</td>\n",
       "      <td>smelly vagina \\n\\nBluerasberry why don't you ...</td>\n",
       "      <td>hey \\n\\nway to support nazis, you racist</td>\n",
       "    </tr>\n",
       "  </tbody>\n",
       "</table>\n",
       "</div>"
      ],
      "text/plain": [
       "   worker                                         less_toxic  \\\n",
       "0     313            This article sucks \\n\\nwoo woo wooooooo   \n",
       "1     188  \"And yes, people should recognize that but the...   \n",
       "2      82   Western Media?\\n\\nYup, because every crime in...   \n",
       "3     347  And you removed it! You numbskull! I don't car...   \n",
       "4     539   smelly vagina \\n\\nBluerasberry why don't you ...   \n",
       "\n",
       "                                          more_toxic  \n",
       "0  WHAT!!!!!!!!?!?!!?!?!!?!?!?!?!!!!!!!!!!!!!!!!!...  \n",
       "1   Daphne Guinness \\n\\nTop of the mornin' my fav...  \n",
       "2  \"Atom you don't believe actual photos of mastu...  \n",
       "3  You seem to have sand in your vagina.\\n\\nMight...  \n",
       "4           hey \\n\\nway to support nazis, you racist  "
      ]
     },
     "metadata": {},
     "output_type": "display_data"
    },
    {
     "data": {
      "text/html": [
       "<div>\n",
       "<style scoped>\n",
       "    .dataframe tbody tr th:only-of-type {\n",
       "        vertical-align: middle;\n",
       "    }\n",
       "\n",
       "    .dataframe tbody tr th {\n",
       "        vertical-align: top;\n",
       "    }\n",
       "\n",
       "    .dataframe thead th {\n",
       "        text-align: right;\n",
       "    }\n",
       "</style>\n",
       "<table border=\"1\" class=\"dataframe\">\n",
       "  <thead>\n",
       "    <tr style=\"text-align: right;\">\n",
       "      <th></th>\n",
       "      <th>comment_id</th>\n",
       "      <th>text</th>\n",
       "    </tr>\n",
       "  </thead>\n",
       "  <tbody>\n",
       "    <tr>\n",
       "      <th>0</th>\n",
       "      <td>114890</td>\n",
       "      <td>\"\\n \\n\\nGjalexei, you asked about whether ther...</td>\n",
       "    </tr>\n",
       "    <tr>\n",
       "      <th>1</th>\n",
       "      <td>732895</td>\n",
       "      <td>Looks like be have an abuser , can you please ...</td>\n",
       "    </tr>\n",
       "    <tr>\n",
       "      <th>2</th>\n",
       "      <td>1139051</td>\n",
       "      <td>I confess to having complete (and apparently b...</td>\n",
       "    </tr>\n",
       "    <tr>\n",
       "      <th>3</th>\n",
       "      <td>1434512</td>\n",
       "      <td>\"\\n\\nFreud's ideas are certainly much discusse...</td>\n",
       "    </tr>\n",
       "    <tr>\n",
       "      <th>4</th>\n",
       "      <td>2084821</td>\n",
       "      <td>It is not just you. This is a laundry list of ...</td>\n",
       "    </tr>\n",
       "  </tbody>\n",
       "</table>\n",
       "</div>"
      ],
      "text/plain": [
       "   comment_id                                               text\n",
       "0      114890  \"\\n \\n\\nGjalexei, you asked about whether ther...\n",
       "1      732895  Looks like be have an abuser , can you please ...\n",
       "2     1139051  I confess to having complete (and apparently b...\n",
       "3     1434512  \"\\n\\nFreud's ideas are certainly much discusse...\n",
       "4     2084821  It is not just you. This is a laundry list of ..."
      ]
     },
     "metadata": {},
     "output_type": "display_data"
    }
   ],
   "source": [
    "val_df = pd.read_csv(\"/mnt/work/data/kaggle/Jigsaw/validation_data.csv\")\n",
    "test_df = pd.read_csv(\"/mnt/work/data/kaggle/Jigsaw/comments_to_score.csv\")\n",
    "\n",
    "display(val_df.head())\n",
    "display(test_df.head())"
   ]
  },
  {
   "cell_type": "markdown",
   "id": "d38e1820",
   "metadata": {},
   "source": [
    "<br>\n",
    "<h2 style = \"font-size:45px;\n",
    "             font-family:Comic Sans MS ;\n",
    "             font-weight : normal; \n",
    "             background-color: #eeebf1 ;\n",
    "             color : #4c1c84;\n",
    "             text-align: center;\n",
    "             border-radius: 100px 100px;\">\n",
    "    033_exp 解析\n",
    "</h2>\n",
    "<br>"
   ]
  },
  {
   "cell_type": "code",
   "execution_count": 36,
   "id": "01145e22",
   "metadata": {},
   "outputs": [
    {
     "data": {
      "text/html": [
       "<div>\n",
       "<style scoped>\n",
       "    .dataframe tbody tr th:only-of-type {\n",
       "        vertical-align: middle;\n",
       "    }\n",
       "\n",
       "    .dataframe tbody tr th {\n",
       "        vertical-align: top;\n",
       "    }\n",
       "\n",
       "    .dataframe thead th {\n",
       "        text-align: right;\n",
       "    }\n",
       "</style>\n",
       "<table border=\"1\" class=\"dataframe\">\n",
       "  <thead>\n",
       "    <tr style=\"text-align: right;\">\n",
       "      <th></th>\n",
       "      <th>worker</th>\n",
       "      <th>less_toxic</th>\n",
       "      <th>more_toxic</th>\n",
       "      <th>Rank__less__ToxicBERT__Ruddit</th>\n",
       "      <th>Rank__more__ToxicBERT__Ruddit</th>\n",
       "      <th>Diff__ToxicBERT__Ruddit</th>\n",
       "      <th>Rank__less__RoBERTa_Base__Jigsaw_Unbiased</th>\n",
       "      <th>Rank__more__RoBERTa_Base__Jigsaw_Unbiased</th>\n",
       "      <th>Diff__RoBERTa_Base__Jigsaw_Unbiased</th>\n",
       "      <th>Rank__less__DeBERTa_Base__Jigsaw_Unbiased</th>\n",
       "      <th>...</th>\n",
       "      <th>Diff_Rank__mul_xlmroberta_mean</th>\n",
       "      <th>Rank__ori_albert_mean__less</th>\n",
       "      <th>Rank__ori_albert_mean__more</th>\n",
       "      <th>Diff_Rank__ori_albert_mean</th>\n",
       "      <th>Rank__unb_albert_mean__less</th>\n",
       "      <th>Rank__unb_albert_mean__more</th>\n",
       "      <th>Diff_Rank__unb_albert_mean</th>\n",
       "      <th>Rank__Less__Ensemble</th>\n",
       "      <th>Rank__more__Ensemble</th>\n",
       "      <th>Diff__Ensemble</th>\n",
       "    </tr>\n",
       "  </thead>\n",
       "  <tbody>\n",
       "    <tr>\n",
       "      <th>0</th>\n",
       "      <td>313</td>\n",
       "      <td>This article sucks \\n\\nwoo woo wooooooo</td>\n",
       "      <td>WHAT!!!!!!!!?!?!!?!?!!?!?!?!?!!!!!!!!!!!!!!!!!...</td>\n",
       "      <td>10793</td>\n",
       "      <td>4862</td>\n",
       "      <td>-5931</td>\n",
       "      <td>9071</td>\n",
       "      <td>9871</td>\n",
       "      <td>800</td>\n",
       "      <td>8895</td>\n",
       "      <td>...</td>\n",
       "      <td>-469</td>\n",
       "      <td>10383</td>\n",
       "      <td>9528</td>\n",
       "      <td>-855</td>\n",
       "      <td>8970</td>\n",
       "      <td>1071</td>\n",
       "      <td>-7899</td>\n",
       "      <td>9200.000000</td>\n",
       "      <td>8243.166667</td>\n",
       "      <td>-956.833333</td>\n",
       "    </tr>\n",
       "    <tr>\n",
       "      <th>1</th>\n",
       "      <td>188</td>\n",
       "      <td>\"And yes, people should recognize that but the...</td>\n",
       "      <td>Daphne Guinness \\n\\nTop of the mornin' my fav...</td>\n",
       "      <td>2471</td>\n",
       "      <td>9550</td>\n",
       "      <td>7079</td>\n",
       "      <td>666</td>\n",
       "      <td>11089</td>\n",
       "      <td>10423</td>\n",
       "      <td>2013</td>\n",
       "      <td>...</td>\n",
       "      <td>8936</td>\n",
       "      <td>1830</td>\n",
       "      <td>9422</td>\n",
       "      <td>7592</td>\n",
       "      <td>2645</td>\n",
       "      <td>11898</td>\n",
       "      <td>9253</td>\n",
       "      <td>2010.250000</td>\n",
       "      <td>9675.833333</td>\n",
       "      <td>7665.583333</td>\n",
       "    </tr>\n",
       "    <tr>\n",
       "      <th>2</th>\n",
       "      <td>82</td>\n",
       "      <td>Western Media?\\n\\nYup, because every crime in...</td>\n",
       "      <td>\"Atom you don't believe actual photos of mastu...</td>\n",
       "      <td>8100</td>\n",
       "      <td>8049</td>\n",
       "      <td>-51</td>\n",
       "      <td>8055</td>\n",
       "      <td>9134</td>\n",
       "      <td>1079</td>\n",
       "      <td>8011</td>\n",
       "      <td>...</td>\n",
       "      <td>-535</td>\n",
       "      <td>3773</td>\n",
       "      <td>3651</td>\n",
       "      <td>-122</td>\n",
       "      <td>6248</td>\n",
       "      <td>8672</td>\n",
       "      <td>2424</td>\n",
       "      <td>6828.166667</td>\n",
       "      <td>7113.666667</td>\n",
       "      <td>285.500000</td>\n",
       "    </tr>\n",
       "    <tr>\n",
       "      <th>3</th>\n",
       "      <td>347</td>\n",
       "      <td>And you removed it! You numbskull! I don't car...</td>\n",
       "      <td>You seem to have sand in your vagina.\\n\\nMight...</td>\n",
       "      <td>9296</td>\n",
       "      <td>13474</td>\n",
       "      <td>4178</td>\n",
       "      <td>7319</td>\n",
       "      <td>13711</td>\n",
       "      <td>6392</td>\n",
       "      <td>6376</td>\n",
       "      <td>...</td>\n",
       "      <td>4820</td>\n",
       "      <td>8475</td>\n",
       "      <td>13309</td>\n",
       "      <td>4834</td>\n",
       "      <td>3809</td>\n",
       "      <td>14126</td>\n",
       "      <td>10317</td>\n",
       "      <td>8208.166667</td>\n",
       "      <td>13103.583333</td>\n",
       "      <td>4895.416667</td>\n",
       "    </tr>\n",
       "    <tr>\n",
       "      <th>4</th>\n",
       "      <td>539</td>\n",
       "      <td>smelly vagina \\n\\nBluerasberry why don't you ...</td>\n",
       "      <td>hey \\n\\nway to support nazis, you racist</td>\n",
       "      <td>9468</td>\n",
       "      <td>416</td>\n",
       "      <td>-9052</td>\n",
       "      <td>12294</td>\n",
       "      <td>9974</td>\n",
       "      <td>-2320</td>\n",
       "      <td>12166</td>\n",
       "      <td>...</td>\n",
       "      <td>-1114</td>\n",
       "      <td>10779</td>\n",
       "      <td>9605</td>\n",
       "      <td>-1174</td>\n",
       "      <td>11595</td>\n",
       "      <td>9705</td>\n",
       "      <td>-1890</td>\n",
       "      <td>10584.916667</td>\n",
       "      <td>9678.083333</td>\n",
       "      <td>-906.833333</td>\n",
       "    </tr>\n",
       "  </tbody>\n",
       "</table>\n",
       "<p>5 rows × 42 columns</p>\n",
       "</div>"
      ],
      "text/plain": [
       "   worker                                         less_toxic  \\\n",
       "0     313            This article sucks \\n\\nwoo woo wooooooo   \n",
       "1     188  \"And yes, people should recognize that but the...   \n",
       "2      82   Western Media?\\n\\nYup, because every crime in...   \n",
       "3     347  And you removed it! You numbskull! I don't car...   \n",
       "4     539   smelly vagina \\n\\nBluerasberry why don't you ...   \n",
       "\n",
       "                                          more_toxic  \\\n",
       "0  WHAT!!!!!!!!?!?!!?!?!!?!?!?!?!!!!!!!!!!!!!!!!!...   \n",
       "1   Daphne Guinness \\n\\nTop of the mornin' my fav...   \n",
       "2  \"Atom you don't believe actual photos of mastu...   \n",
       "3  You seem to have sand in your vagina.\\n\\nMight...   \n",
       "4           hey \\n\\nway to support nazis, you racist   \n",
       "\n",
       "   Rank__less__ToxicBERT__Ruddit  Rank__more__ToxicBERT__Ruddit  \\\n",
       "0                          10793                           4862   \n",
       "1                           2471                           9550   \n",
       "2                           8100                           8049   \n",
       "3                           9296                          13474   \n",
       "4                           9468                            416   \n",
       "\n",
       "   Diff__ToxicBERT__Ruddit  Rank__less__RoBERTa_Base__Jigsaw_Unbiased  \\\n",
       "0                    -5931                                       9071   \n",
       "1                     7079                                        666   \n",
       "2                      -51                                       8055   \n",
       "3                     4178                                       7319   \n",
       "4                    -9052                                      12294   \n",
       "\n",
       "   Rank__more__RoBERTa_Base__Jigsaw_Unbiased  \\\n",
       "0                                       9871   \n",
       "1                                      11089   \n",
       "2                                       9134   \n",
       "3                                      13711   \n",
       "4                                       9974   \n",
       "\n",
       "   Diff__RoBERTa_Base__Jigsaw_Unbiased  \\\n",
       "0                                  800   \n",
       "1                                10423   \n",
       "2                                 1079   \n",
       "3                                 6392   \n",
       "4                                -2320   \n",
       "\n",
       "   Rank__less__DeBERTa_Base__Jigsaw_Unbiased  ...  \\\n",
       "0                                       8895  ...   \n",
       "1                                       2013  ...   \n",
       "2                                       8011  ...   \n",
       "3                                       6376  ...   \n",
       "4                                      12166  ...   \n",
       "\n",
       "   Diff_Rank__mul_xlmroberta_mean  Rank__ori_albert_mean__less  \\\n",
       "0                            -469                        10383   \n",
       "1                            8936                         1830   \n",
       "2                            -535                         3773   \n",
       "3                            4820                         8475   \n",
       "4                           -1114                        10779   \n",
       "\n",
       "   Rank__ori_albert_mean__more  Diff_Rank__ori_albert_mean  \\\n",
       "0                         9528                        -855   \n",
       "1                         9422                        7592   \n",
       "2                         3651                        -122   \n",
       "3                        13309                        4834   \n",
       "4                         9605                       -1174   \n",
       "\n",
       "   Rank__unb_albert_mean__less  Rank__unb_albert_mean__more  \\\n",
       "0                         8970                         1071   \n",
       "1                         2645                        11898   \n",
       "2                         6248                         8672   \n",
       "3                         3809                        14126   \n",
       "4                        11595                         9705   \n",
       "\n",
       "   Diff_Rank__unb_albert_mean  Rank__Less__Ensemble  Rank__more__Ensemble  \\\n",
       "0                       -7899           9200.000000           8243.166667   \n",
       "1                        9253           2010.250000           9675.833333   \n",
       "2                        2424           6828.166667           7113.666667   \n",
       "3                       10317           8208.166667          13103.583333   \n",
       "4                       -1890          10584.916667           9678.083333   \n",
       "\n",
       "   Diff__Ensemble  \n",
       "0     -956.833333  \n",
       "1     7665.583333  \n",
       "2      285.500000  \n",
       "3     4895.416667  \n",
       "4     -906.833333  \n",
       "\n",
       "[5 rows x 42 columns]"
      ]
     },
     "execution_count": 36,
     "metadata": {},
     "output_type": "execute_result"
    }
   ],
   "source": [
    "oof_df = pd.read_csv(\"../data/external/031_exp__oof.csv\")\n",
    "oof_df.head()"
   ]
  },
  {
   "cell_type": "code",
   "execution_count": 44,
   "id": "4c234a33",
   "metadata": {},
   "outputs": [],
   "source": [
    "oof_df = pd.concat(\n",
    "    [oof_df, ohashi_lstm_df[\"Diff__ohashi_lstm\"]],\n",
    "    axis=1\n",
    ")"
   ]
  },
  {
   "cell_type": "code",
   "execution_count": 45,
   "id": "9f1e0130",
   "metadata": {},
   "outputs": [
    {
     "name": "stdout",
     "output_type": "stream",
     "text": [
      "['Diff__ToxicBERT__Ruddit', 'Diff__RoBERTa_Base__Jigsaw_Unbiased', 'Diff__DeBERTa_Base__Jigsaw_Unbiased', 'Diff__Luke_Base__Wiki_Attack', 'Diff__TFIDF_Ridge__WikiAttack', 'Diff__TFIDF_Ridge__Jigsaw_classification', 'Diff__TFIDF_Ridge__Ruddit', 'Diff__Ensemble', 'Diff__ohashi_lstm']\n"
     ]
    }
   ],
   "source": [
    "diff_cols = [col for col in oof_df.columns.tolist() if \"Diff__\" in col]\n",
    "print(diff_cols)"
   ]
  },
  {
   "cell_type": "code",
   "execution_count": 46,
   "id": "9ab7491b",
   "metadata": {},
   "outputs": [
    {
     "name": "stdout",
     "output_type": "stream",
     "text": [
      "Diff__ToxicBERT__Ruddit Score: 0.647270\n",
      "Diff__RoBERTa_Base__Jigsaw_Unbiased Score: 0.697124\n",
      "Diff__DeBERTa_Base__Jigsaw_Unbiased Score: 0.698585\n",
      "Diff__Luke_Base__Wiki_Attack Score: 0.687126\n",
      "Diff__TFIDF_Ridge__WikiAttack Score: 0.678956\n",
      "Diff__TFIDF_Ridge__Jigsaw_classification Score: 0.689053\n",
      "Diff__TFIDF_Ridge__Ruddit Score: 0.632490\n",
      "Diff__Ensemble Score: 0.708749\n",
      "Diff__ohashi_lstm Score: 0.685034\n"
     ]
    }
   ],
   "source": [
    "for col in diff_cols:\n",
    "    \n",
    "    tmp_score = oof_df[oof_df[col]>0][col].count()/len(oof_df)\n",
    "    print(f\"{col} Score: {tmp_score:.6f}\")"
   ]
  },
  {
   "cell_type": "code",
   "execution_count": 24,
   "id": "2d07b01a",
   "metadata": {},
   "outputs": [],
   "source": [
    "worst_idx_list = oof_df.sort_values(\"Diff__Ensemble\")[[\"worker\", \"less_toxic\", \"more_toxic\", \"Diff__Ensemble\"]].head(20).index.tolist()\n"
   ]
  },
  {
   "cell_type": "code",
   "execution_count": 26,
   "id": "4bb67acf",
   "metadata": {},
   "outputs": [
    {
     "name": "stdout",
     "output_type": "stream",
     "text": [
      "======================================================================\n",
      "index is 25062\n",
      "-------------------- less toxic --------------------\n",
      "CaliforniaAliBaba is a Bitch\n",
      "Go fuck yourself you bitch ass motherfucker. Don't you ever in your fucking life threatening me you fucking piece of shit you. You don't know me I will fucking kill your ass you punk pussy bitch. tell your mama to my black dick.\n",
      "-------------------- more toxic --------------------\n",
      "I've heard a snippet on their myspace page but I'm afraid I haven't given them much though musically as of yet.  Perhaps I will be purchasing one of their albums since I seem to spend about a third of my time on wiki reverting their vandalism.   \n",
      "======================================================================\n",
      "======================================================================\n",
      "index is 15465\n",
      "-------------------- less toxic --------------------\n",
      " lick my nuts \n",
      "\n",
      "you richard dawkins cock smoking asshole\n",
      "-------------------- more toxic --------------------\n",
      "Can you point those out? |heru|nar \n",
      "======================================================================\n",
      "======================================================================\n",
      "index is 20725\n",
      "-------------------- less toxic --------------------\n",
      "=why are you being so rude? i only want to help you motherfuckers. fuck! retards! you're such retards! i hope you all die! seriously, die!!!\n",
      "-------------------- more toxic --------------------\n",
      "Titicut Follies\n",
      "I can't believe this film is not on the list.  Wiseman's other films are on the list, so why isn't Titicut Follies on the list?24.129.100.84  \n",
      "======================================================================\n",
      "======================================================================\n",
      "index is 13641\n",
      "-------------------- less toxic --------------------\n",
      " You can suck my cock, motherfucker \n",
      "\n",
      "ALSO, NIGGER. BLOCK ME, YOU THINK I GIVE A FUCK? I COULD VANDALIZE YOUR PAGE 24/7.\n",
      "BITCHES DONT KNOW 'BOUT MY DYNAMIC IP.\n",
      "\n",
      "89.123.115.221  \n",
      "-------------------- more toxic --------------------\n",
      "\"\n",
      " Speedy deletion of \"\"Allan kamuyu\"\" \n",
      "\n",
      "A page you created, Allan kamuyu, has been tagged for deletion in accordance with our deletion policy. In particular, it meets one or more criteria for speedy deletion; the relevant criterion is:\n",
      "\n",
      "Patent nonsense and gibberish, an unsalvageably incoherent page with no meaningful content.\n",
      "\n",
      "You are welcome to contribute content which complies with our content policies and any applicable inclusion guidelines. However, please do not simply re-create the page with the same content. You may also wish to read our introduction to editing and guide to writing your first article.\n",
      "\n",
      "If you have any questions, please contact an administrator for assistance. Thank you —— | t • c \"\n",
      "======================================================================\n",
      "======================================================================\n",
      "index is 3252\n",
      "-------------------- less toxic --------------------\n",
      "well you can suck my balls gay fuck. Wikipedia is not censored, so I don't give a fuck about your feelings nor do I give a fuck about your grammar nazism because I the edit summary is not on the front page of the discussion... do you go calling foul to every grammar mistake in the discussion section of articles? \n",
      "\n",
      "And I AM correct in changing it as I own the DVD and played it repeatedly... further.. surf the imdb boards... the general consensus is that SHE IS THE INSURANCE THAT THE UNMUTATED VIRUS GETS BACK TO THE FUTURE. \n",
      "\n",
      "Why the FUCK do you think the scientist sits there? same appearance as she was 30 years later? (ie haven't aged a bit) she CAME BACK AND SAT NEXT TO THE PERSON WHO RELEASED THE VIRUS... or do you really think she began in insurance then thirty years later haven't aged a single bit and became a scientists working on time travel?\n",
      "\n",
      "Fucking hypocrite.\n",
      "-------------------- more toxic --------------------\n",
      "\"\n",
      "\n",
      "I'm fine with leaving it out of this article as much as we can, but it's not \"\"distorting\"\" the facts  the truth is, the ideal mini (a least in AMHA rules) IS supposed to look like a horse and not a pony. (Not many succeed, but that's a different debate)  I define \"\"respect\"\" as giving careful consideration to what those who are involved firsthand prefer doesn't mean we obey in lockstep, but if reasonable, it's worthy of serious consideration.  I agree with you on the mane hairs thing, personally, but it IS the standard of the largest mini association, the AMHA (and I've judged these little buggers, so I AM familiar with their rule book) it's true that they often have withers that are hard to find, and on wiki, that was a battle I lost with the mini people long ago.  (talk) \"\n",
      "======================================================================\n",
      "======================================================================\n",
      "index is 21075\n",
      "-------------------- less toxic --------------------\n",
      "Go fuk your mom you fukin faggot.  I'll commit vandalizim on your page all fukin day long, and you'll like it you fuking quer.\n",
      "\n",
      "Oh... and trace my IP.  It'll come back to a wireless network shared by a lot of peple.  Good luck wid dat you quer fuking homo.  You got damn dog rapist.\n",
      "-------------------- more toxic --------------------\n",
      "\"\n",
      "I'm afraid I don't see the problem you seem to have. The table looks OK even at low (<900px wide) resolutions. Your comment that \"\"adding extra columns which have no content other than N/A is ridiculous as it shows absolutely no information of any kind\"\" ignores the fact that there is content in these columns. Obviously there is presently none for seasons that haven't been released on Blu-ray but this is something that exists now in many tables for DVD entries. As Blu-ray versions are released, this information will be supplied. A separate Blu-ray table would unnecessarily duplicate content ad somebody would no doubt complain about that. An all inclusive table seems the best compromise.   \"\n",
      "======================================================================\n",
      "======================================================================\n",
      "index is 9227\n",
      "-------------------- less toxic --------------------\n",
      "Yea well kiss my fucker shit nuts!\n",
      "-------------------- more toxic --------------------\n",
      " Azari or Azerbaijani? \n",
      "\n",
      "Azari-iranian,azerbaijani-turkic nation.\n",
      "======================================================================\n",
      "======================================================================\n",
      "index is 565\n",
      "-------------------- less toxic --------------------\n",
      "LOL; charles, you are a real fag aren't you? siding with chinks?? \n",
      "go fuck yourself, asswipe! we don't need no chinks in here. \n",
      "\n",
      "FAG\n",
      "-------------------- more toxic --------------------\n",
      "\"\n",
      "\n",
      "I'm not the one who added that source, neither had I actually read it before hand. On the subject of \"\"that you or any other Cradle fan made\"\" - that sounds fairly ridiculous, as you could just as well say that about any topic on Wikipedia. I'm not arguing this because I think there's a source that was added that proves it, it seems to be fairly obvious as the only difference was the back ground (at one point there was a picture of the original on Wikipedia, which was linked from this article, but it got deleted). It's like saying that the Sigil of Baphomet requires a source to say it was based off a pentagram. ≈  \"\n",
      "======================================================================\n",
      "======================================================================\n",
      "index is 566\n",
      "-------------------- less toxic --------------------\n",
      "LOL; charles, you are a real fag aren't you? siding with chinks?? \n",
      "go fuck yourself, asswipe! we don't need no chinks in here. \n",
      "\n",
      "FAG\n",
      "-------------------- more toxic --------------------\n",
      "\"\n",
      "\n",
      "I'm not the one who added that source, neither had I actually read it before hand. On the subject of \"\"that you or any other Cradle fan made\"\" - that sounds fairly ridiculous, as you could just as well say that about any topic on Wikipedia. I'm not arguing this because I think there's a source that was added that proves it, it seems to be fairly obvious as the only difference was the back ground (at one point there was a picture of the original on Wikipedia, which was linked from this article, but it got deleted). It's like saying that the Sigil of Baphomet requires a source to say it was based off a pentagram. ≈  \"\n",
      "======================================================================\n",
      "======================================================================\n",
      "index is 12482\n",
      "-------------------- less toxic --------------------\n",
      " Steve Little \n",
      "\n",
      "Steve Little's character in Eastbound and Down is NOT BUMBLING. HE IS MILDLY RETARDED! Your ignorance in handling this matter angers me to a new level of hate for faggot wikipedia moderators who think they are fucking geniuses you guys are fucking retards who were born with no penises and masturbate all day to yourselves fucking with peoples edits and pissing them off really bad. I hope you one day get bored of masturbating in your white room by yourself and decide to try and have sex with a beehive, resulting in your dick getting so swollen you die a very slow painful death in the hospital with no one with you to care or give you a funeral. May you rot in a fucking morgue with a swollen dick shoved up your own ass by a disturbed doctor.\n",
      "-------------------- more toxic --------------------\n",
      " The only thing I can considor I an attack was his edits. Which is acceptable as critism.\n",
      "======================================================================\n",
      "======================================================================\n",
      "index is 14301\n",
      "-------------------- less toxic --------------------\n",
      " Warnings \n",
      "\n",
      "you asshole gave me mutiple warnings for the same thing and now i'm on my final warning.I hate you peice of shit.Burn in hell\n",
      "-------------------- more toxic --------------------\n",
      "Editor issue\n",
      "I noticed you have had a bit of a problem on the Seymour Hersh page with some recent edits. Myself and another editor have had issues with the same person on other pages and have recently submitted a sockpuppet investigation request. I thought I might point it out to you, as I noticed the  edits on Hersh were involved. The sockpuppet page is at Wikipedia:Suspected sock puppets/Dooyar, if you have any comments or input. Thanks.   \n",
      "======================================================================\n",
      "======================================================================\n",
      "index is 2563\n",
      "-------------------- less toxic --------------------\n",
      "Wesley Bartz likes to suck cock. Loves that cock. He can't live without the cock\n",
      "-------------------- more toxic --------------------\n",
      "Yay! Here's a cookie... oh wait I ate them all. ^_^; Well, rain check on that cookie. )  \n",
      "======================================================================\n",
      "======================================================================\n",
      "index is 2562\n",
      "-------------------- less toxic --------------------\n",
      "Wesley Bartz likes to suck cock. Loves that cock. He can't live without the cock\n",
      "-------------------- more toxic --------------------\n",
      "Yay! Here's a cookie... oh wait I ate them all. ^_^; Well, rain check on that cookie. )  \n",
      "======================================================================\n",
      "======================================================================\n",
      "index is 14029\n",
      "-------------------- less toxic --------------------\n",
      "Hey you FUCKWAD pedophile\n",
      "\n",
      "Do you even fucking realize what this asshole did to our country.  I bet you'll be cheering when you see penises cut and put in our troops mouth.   \n",
      "-------------------- more toxic --------------------\n",
      "\"\n",
      "\n",
      " The Cramp Twins \n",
      "\n",
      "The Cramp Twins is an animated series created by cartoonist Brian Wood. The show was produced in association with Cartoon Network Europe. It is about Lucien Cramp (Kath Soucie) and Wayne Cramp (Tom Kenny), not-so identical twins who live with their hygiene-obsessed mother (Nicole Oliver) and their Western-obsessed father (Ian James Corlett) in the fictional town of Soap City. Wayne and Lucian's personalities clash, and they rarely get along. Wayne has a friend called Dirty Joe (Lee Tockar), who owns a dump, and neighbour Wendy Winkle (Reverend Andrew Sparks) has a crush on him, but he hates her. Wayne's and Lucien's teacher is Miss. Hillary Hissy (Demi Buchanan, who also plays Tony's mom Lily and Mrs. Winkle). Lucien's friends include environment-friendly Tony Parsons (Terry Klassen who also plays Tony's dad, Seth) and Mari and Luke Harrison (Adam Little).\n",
      "\n",
      "Season one premiered in the UK in September 2001 on Cartoon Network (UK) and on February 2, 2002 on CBBC on BBC One respectively and has reached high popularity with children. Season one ended on 21 June 2002. A second season premiered in Autumn 2003. Season 2 finished in 2003.\n",
      "Season 3 started in 2004 and ended in 2005. Season 4 began in 2006 and ended that same year.\n",
      "The show is currently licensed to Cartoon Network.\n",
      "\n",
      "The show was originally canceled in the US in February 2005, when Mew Mew Power (aka \"\"Tokyo Mew Mew\"\") was airing in its slot February 19, 2005, and it was originally intended to be a sneak peek for the series to air September 2005 with Cramp Twins continuing to air there, but 4Kids TV decided to cancel The Cramp Twins to put Mew Mew Power in its slot. A press release went out about a possible 3-part finale answering any unanswered questions, but the show returned in the summer of 2006, and later with more new episodes.\n",
      "\n",
      " Main characters \n",
      " Lucien Cramp: Lucien is the smarter of the twins, but also considered the 'eco-loser'.  Gentle and sensitive, Lucien is frequently bullied and name-called by his brother; Wayne's favourite choice of addressing Lucien is \"\"Girlpants\"\", but he sometimes calls Lucien a \"\"nerd\"\". Lucien enjoys science, nature and is a vegetarian. Lucian longs for a pet, but due to his mother's extreme cleaniliness rules, he is denied owning any.  Secretly, Lucien keeps a worm farm under his bed, that only Tony, Mari, Wayne and Wendy know about. It is shown in many episodes that Lucien has a fear of clowns. He has many skills, including knitting, and has shown interest in playing the harp. Lucien likes going to Soap City's only swamp (the only place he gets peace from Wayne, who is afraid of the place) where Tony lives. Lucien is technically the older twin as he was born first in the opening credits. Lucien Cramp is voiced by Kath Soucie. \n",
      " Wayne Archibald Cramp is the blue-skinned antihero of the series. He is taller, destructive, and the less intelligent of the twins. Wayne is obsessed with junk, which he collects and hides in his room; he spends most of his time at the junkyard, owned by only friend, Dirty Joe. Unlike Lucien, who loves the swamp, Wayne is terrified of the place, and also has a fear of frogs. Wayne is constantly annoyed by Wendy Winkle who has a crush on him. Wayne's only love is anything sugary, his main source of energy, and if he is deprived from it, he becomes tired and speaks nonsense. Wayne likes to give the impression that he's the best-behaved of the twins to his mother, and sometimes Miss Hissy, but in truth, he likes to manipulate to achieve his goals.  Sometimes Lucien who gets in trouble for Wayne's behaviour, although in many episodes, somehow the tides turn and Wayne is punished by pure coincidence. Wayne is vo\n",
      "======================================================================\n",
      "======================================================================\n",
      "index is 27978\n",
      "-------------------- less toxic --------------------\n",
      "Hey, Halcy.Seems like you get mad alot. Want me to call the WAAAAAMBULANCE for you? Want some dick (extra small) with that too, bitch? U mad? butthurt? I bet you're having an orgy with MeetTheMedic and MeepTheSheep, aren't you? You three would make a good threesome. You're all reject 4-Chan trolls that became admins on another website to have Unwarranted Self Importance while you spam faggot and dick all day. Seems like you enjoy that kind of stuff. I had no idea, really.\n",
      " \n",
      "TL;DR: U mad?\n",
      "-------------------- more toxic --------------------\n",
      "\"\n",
      "\n",
      "Not to forgot the \"\"spring creek blows\"\" on the bottom of the page.  -_-'  170.215.88.205  Anon\"\n",
      "======================================================================\n",
      "======================================================================\n",
      "index is 18940\n",
      "-------------------- less toxic --------------------\n",
      "\"\n",
      "\n",
      "That's a lie! You're guilty of sophistry and manipulation.  Oh, You are a clever one, aren't you. I read what you edited. I saw what you didwhat you added, what you deletedI don't how you did it, but we both know WHAT you didand you continue to do it! With the full weight of your title and insider access as an \"\"administrator.\"\" I'm not an expert at Wikioh, excuuuuse meI mean \"\"Wikipedia.\"\"\n",
      "\n",
      "And why, for the love of God, do all of you continue to refuse to address my issue regarding the concensus that was reached long ago; namely, that the ARTICLE WAS FUCKING FINE UNTIL YOU DECIDED YOU WE WERE NOT AS BRILLIANT AS YOU? GO FUCK YOURSELF...I'M DONE...GEE, WHAT A LIFE YOU HAVE! WIKIPEDIA...NO PAY, NO GLORY. AND THE BUTT OF JOKES FROM JAY LENO AND DAVID LETTERMAN.\n",
      "\n",
      "OH, AND BY THE WAY....You should remove the photo of Peg from the article, for, as your puckerd asshole will see, it was contributed by mefrom MY ORIGINAL research. You are a fucking a liar and a hypocrite, Gwen. You have no true alligenmce to Wikipedia....you belong to a hateful, politcal band of cultish fanatics within...me, I'm just a fucking Iraq War Vet who tried to help make Wikipedia honest....\n",
      "\n",
      "You changed the history to reflect your \"\"rightness\"\" and calmly sit back and wait for the maniac to vent. Well, there ya go, Miss Cunt..you got what you wanted. GO FUCK YOURSELF. (Oh, know, gee, I guess I won't be able to edit for Wikipedia anymore after that tirade)\n",
      "\n",
      "WHO FUCKING CARES. WHAT THE FUCK GOOD DID IT DO ME? IF YOU HAD ONE FUCKING OUNCE OF INTEGRITY, YOU WOULD COMPARE THE VERY ORIGINAL ARTICLE WITH MY CONTRIBUTIONS...Peg Entwistle's Wikipedia looked like a fucking GOD DAMNED article from WEEKLY WORLD NEWS.  \"\n",
      "-------------------- more toxic --------------------\n",
      " attack page Reece Sherwood \n",
      "\n",
      "has been recreated with an odd attempt at NPOV.  Thanks.  \n",
      "======================================================================\n",
      "======================================================================\n",
      "index is 26059\n",
      "-------------------- less toxic --------------------\n",
      "That's becasue you are an asshole and a cunt, you fucking asshole. Your whimsical reverts to my legitimate additions are biased in nature. So go fuck yourself and your pathetic existence.\n",
      "-------------------- more toxic --------------------\n",
      " Anti-Catholicism \n",
      "\n",
      "Your edits are highly spurious in cases related to Jacobitism.  I just thought you needed a reality-check.  Please be aware that revisionist political activism has no place here at the Wikipedia.   \n",
      "======================================================================\n",
      "======================================================================\n",
      "index is 26060\n",
      "-------------------- less toxic --------------------\n",
      "That's becasue you are an asshole and a cunt, you fucking asshole. Your whimsical reverts to my legitimate additions are biased in nature. So go fuck yourself and your pathetic existence.\n",
      "-------------------- more toxic --------------------\n",
      " Anti-Catholicism \n",
      "\n",
      "Your edits are highly spurious in cases related to Jacobitism.  I just thought you needed a reality-check.  Please be aware that revisionist political activism has no place here at the Wikipedia.   \n",
      "======================================================================\n",
      "======================================================================\n",
      "index is 6530\n",
      "-------------------- less toxic --------------------\n",
      "Robin hood is a gay bum bandit who abuses women's rights. He is going to find elephants' trunks sucking his backside next time. What a loser. LEave catherine alone.\n",
      "-------------------- more toxic --------------------\n",
      "\"\n",
      "also I just noticed that Eek is super sensitive to \"\"vandalism\"\". maybe this particular user does not even know what it is?   \"\n",
      "======================================================================\n",
      "======================================================================\n",
      "index is 3651\n",
      "-------------------- less toxic --------------------\n",
      "Blah Blah Blah. Cry me a river. Go suck a prick.\n",
      "-------------------- more toxic --------------------\n",
      " Your edit to Cool (aesthetic) \n",
      "\n",
      "Please do not add nonsense to Wikipedia. It is considered vandalism. If you would like to experiment, use the sandbox. Thank you.   (talk contribs) \n",
      "======================================================================\n"
     ]
    }
   ],
   "source": [
    "for idx in worst_idx_list:\n",
    "    \n",
    "    \n",
    "    print(f\"=\"*70)\n",
    "    print(f\"index is {idx}\")\n",
    "    print(f\"-\"*20, \"less toxic\", f\"-\"*20)\n",
    "    print(oof_df.loc[idx, \"less_toxic\"])\n",
    "    print(f\"-\"*20, \"more toxic\", f\"-\"*20)\n",
    "    print(oof_df.loc[idx, \"more_toxic\"])\n",
    "    print(f\"=\"*70)\n"
   ]
  },
  {
   "cell_type": "markdown",
   "id": "3729a6a9",
   "metadata": {},
   "source": [
    "<br>\n",
    "<h2 style = \"font-size:45px;\n",
    "             font-family:Comic Sans MS ;\n",
    "             font-weight : normal; \n",
    "             background-color: #eeebf1 ;\n",
    "             color : #4c1c84;\n",
    "             text-align: center;\n",
    "             border-radius: 100px 100px;\">\n",
    "    Jigsaw Classification\n",
    "</h2>\n",
    "<br>"
   ]
  },
  {
   "cell_type": "code",
   "execution_count": 63,
   "id": "60a86f55",
   "metadata": {},
   "outputs": [
    {
     "data": {
      "text/html": [
       "<div>\n",
       "<style scoped>\n",
       "    .dataframe tbody tr th:only-of-type {\n",
       "        vertical-align: middle;\n",
       "    }\n",
       "\n",
       "    .dataframe tbody tr th {\n",
       "        vertical-align: top;\n",
       "    }\n",
       "\n",
       "    .dataframe thead th {\n",
       "        text-align: right;\n",
       "    }\n",
       "</style>\n",
       "<table border=\"1\" class=\"dataframe\">\n",
       "  <thead>\n",
       "    <tr style=\"text-align: right;\">\n",
       "      <th></th>\n",
       "      <th>id</th>\n",
       "      <th>comment_text</th>\n",
       "      <th>toxic</th>\n",
       "      <th>severe_toxic</th>\n",
       "      <th>obscene</th>\n",
       "      <th>threat</th>\n",
       "      <th>insult</th>\n",
       "      <th>identity_hate</th>\n",
       "    </tr>\n",
       "  </thead>\n",
       "  <tbody>\n",
       "    <tr>\n",
       "      <th>0</th>\n",
       "      <td>0000997932d777bf</td>\n",
       "      <td>Explanation\\nWhy the edits made under my usern...</td>\n",
       "      <td>0</td>\n",
       "      <td>0</td>\n",
       "      <td>0</td>\n",
       "      <td>0</td>\n",
       "      <td>0</td>\n",
       "      <td>0</td>\n",
       "    </tr>\n",
       "    <tr>\n",
       "      <th>1</th>\n",
       "      <td>000103f0d9cfb60f</td>\n",
       "      <td>D'aww! He matches this background colour I'm s...</td>\n",
       "      <td>0</td>\n",
       "      <td>0</td>\n",
       "      <td>0</td>\n",
       "      <td>0</td>\n",
       "      <td>0</td>\n",
       "      <td>0</td>\n",
       "    </tr>\n",
       "    <tr>\n",
       "      <th>2</th>\n",
       "      <td>000113f07ec002fd</td>\n",
       "      <td>Hey man, I'm really not trying to edit war. It...</td>\n",
       "      <td>0</td>\n",
       "      <td>0</td>\n",
       "      <td>0</td>\n",
       "      <td>0</td>\n",
       "      <td>0</td>\n",
       "      <td>0</td>\n",
       "    </tr>\n",
       "    <tr>\n",
       "      <th>3</th>\n",
       "      <td>0001b41b1c6bb37e</td>\n",
       "      <td>\"\\nMore\\nI can't make any real suggestions on ...</td>\n",
       "      <td>0</td>\n",
       "      <td>0</td>\n",
       "      <td>0</td>\n",
       "      <td>0</td>\n",
       "      <td>0</td>\n",
       "      <td>0</td>\n",
       "    </tr>\n",
       "    <tr>\n",
       "      <th>4</th>\n",
       "      <td>0001d958c54c6e35</td>\n",
       "      <td>You, sir, are my hero. Any chance you remember...</td>\n",
       "      <td>0</td>\n",
       "      <td>0</td>\n",
       "      <td>0</td>\n",
       "      <td>0</td>\n",
       "      <td>0</td>\n",
       "      <td>0</td>\n",
       "    </tr>\n",
       "    <tr>\n",
       "      <th>5</th>\n",
       "      <td>00025465d4725e87</td>\n",
       "      <td>\"\\n\\nCongratulations from me as well, use the ...</td>\n",
       "      <td>0</td>\n",
       "      <td>0</td>\n",
       "      <td>0</td>\n",
       "      <td>0</td>\n",
       "      <td>0</td>\n",
       "      <td>0</td>\n",
       "    </tr>\n",
       "    <tr>\n",
       "      <th>6</th>\n",
       "      <td>0002bcb3da6cb337</td>\n",
       "      <td>COCKSUCKER BEFORE YOU PISS AROUND ON MY WORK</td>\n",
       "      <td>1</td>\n",
       "      <td>1</td>\n",
       "      <td>1</td>\n",
       "      <td>0</td>\n",
       "      <td>1</td>\n",
       "      <td>0</td>\n",
       "    </tr>\n",
       "    <tr>\n",
       "      <th>7</th>\n",
       "      <td>00031b1e95af7921</td>\n",
       "      <td>Your vandalism to the Matt Shirvington article...</td>\n",
       "      <td>0</td>\n",
       "      <td>0</td>\n",
       "      <td>0</td>\n",
       "      <td>0</td>\n",
       "      <td>0</td>\n",
       "      <td>0</td>\n",
       "    </tr>\n",
       "    <tr>\n",
       "      <th>8</th>\n",
       "      <td>00037261f536c51d</td>\n",
       "      <td>Sorry if the word 'nonsense' was offensive to ...</td>\n",
       "      <td>0</td>\n",
       "      <td>0</td>\n",
       "      <td>0</td>\n",
       "      <td>0</td>\n",
       "      <td>0</td>\n",
       "      <td>0</td>\n",
       "    </tr>\n",
       "    <tr>\n",
       "      <th>9</th>\n",
       "      <td>00040093b2687caa</td>\n",
       "      <td>alignment on this subject and which are contra...</td>\n",
       "      <td>0</td>\n",
       "      <td>0</td>\n",
       "      <td>0</td>\n",
       "      <td>0</td>\n",
       "      <td>0</td>\n",
       "      <td>0</td>\n",
       "    </tr>\n",
       "  </tbody>\n",
       "</table>\n",
       "</div>"
      ],
      "text/plain": [
       "                 id                                       comment_text  toxic  \\\n",
       "0  0000997932d777bf  Explanation\\nWhy the edits made under my usern...      0   \n",
       "1  000103f0d9cfb60f  D'aww! He matches this background colour I'm s...      0   \n",
       "2  000113f07ec002fd  Hey man, I'm really not trying to edit war. It...      0   \n",
       "3  0001b41b1c6bb37e  \"\\nMore\\nI can't make any real suggestions on ...      0   \n",
       "4  0001d958c54c6e35  You, sir, are my hero. Any chance you remember...      0   \n",
       "5  00025465d4725e87  \"\\n\\nCongratulations from me as well, use the ...      0   \n",
       "6  0002bcb3da6cb337       COCKSUCKER BEFORE YOU PISS AROUND ON MY WORK      1   \n",
       "7  00031b1e95af7921  Your vandalism to the Matt Shirvington article...      0   \n",
       "8  00037261f536c51d  Sorry if the word 'nonsense' was offensive to ...      0   \n",
       "9  00040093b2687caa  alignment on this subject and which are contra...      0   \n",
       "\n",
       "   severe_toxic  obscene  threat  insult  identity_hate  \n",
       "0             0        0       0       0              0  \n",
       "1             0        0       0       0              0  \n",
       "2             0        0       0       0              0  \n",
       "3             0        0       0       0              0  \n",
       "4             0        0       0       0              0  \n",
       "5             0        0       0       0              0  \n",
       "6             1        1       0       1              0  \n",
       "7             0        0       0       0              0  \n",
       "8             0        0       0       0              0  \n",
       "9             0        0       0       0              0  "
      ]
     },
     "metadata": {},
     "output_type": "display_data"
    },
    {
     "data": {
      "text/plain": [
       "(159571, 8)"
      ]
     },
     "metadata": {},
     "output_type": "display_data"
    }
   ],
   "source": [
    "train_df = pd.read_csv(\"../data/external/jigsaw-classification/train.csv.zip\")\n",
    "display(train_df.head(10))\n",
    "display(train_df.shape)"
   ]
  },
  {
   "cell_type": "code",
   "execution_count": 64,
   "id": "9e70f433",
   "metadata": {},
   "outputs": [
    {
     "data": {
      "application/vnd.jupyter.widget-view+json": {
       "model_id": "999ffabbed324320963874e630a892a0",
       "version_major": 2,
       "version_minor": 0
      },
      "text/plain": [
       "  0%|          | 0/159571 [00:00<?, ?it/s]"
      ]
     },
     "metadata": {},
     "output_type": "display_data"
    }
   ],
   "source": [
    "train_df[\"is_colon\"] = train_df[\"comment_text\"].progress_apply(lambda x:1 if \":\" in x else 0)"
   ]
  },
  {
   "cell_type": "code",
   "execution_count": 65,
   "id": "20a84a89",
   "metadata": {},
   "outputs": [],
   "source": [
    "def preprocess_text(txt:str) -> str:\n",
    "    \n",
    "    new_texts = txt\n",
    "    new_texts = new_texts.replace(\":\", \",\")\n",
    "    \n",
    "    return new_texts"
   ]
  },
  {
   "cell_type": "code",
   "execution_count": 66,
   "id": "5305e82b",
   "metadata": {},
   "outputs": [
    {
     "data": {
      "application/vnd.jupyter.widget-view+json": {
       "model_id": "5f33bae3b8b6436f8812d97c1cf4a494",
       "version_major": 2,
       "version_minor": 0
      },
      "text/plain": [
       "  0%|          | 0/159571 [00:00<?, ?it/s]"
      ]
     },
     "metadata": {},
     "output_type": "display_data"
    },
    {
     "data": {
      "application/vnd.jupyter.widget-view+json": {
       "model_id": "50ab06c1a7c84a4998ee328bef5a252d",
       "version_major": 2,
       "version_minor": 0
      },
      "text/plain": [
       "  0%|          | 0/7537 [00:00<?, ?it/s]"
      ]
     },
     "metadata": {},
     "output_type": "display_data"
    },
    {
     "data": {
      "application/vnd.jupyter.widget-view+json": {
       "model_id": "cef2669bac7d47e99a4c46ea628f43d9",
       "version_major": 2,
       "version_minor": 0
      },
      "text/plain": [
       "  0%|          | 0/30108 [00:00<?, ?it/s]"
      ]
     },
     "metadata": {},
     "output_type": "display_data"
    },
    {
     "data": {
      "application/vnd.jupyter.widget-view+json": {
       "model_id": "07c67ca5c7c54f7ca71f30904d3bcc44",
       "version_major": 2,
       "version_minor": 0
      },
      "text/plain": [
       "  0%|          | 0/30108 [00:00<?, ?it/s]"
      ]
     },
     "metadata": {},
     "output_type": "display_data"
    }
   ],
   "source": [
    "train_df[\"text\"] = train_df[\"comment_text\"].progress_apply(preprocess_text)\n",
    "test_df[\"text\"] = test_df[\"text\"].progress_apply(preprocess_text)\n",
    "val_df[\"less_toxic\"] = val_df[\"less_toxic\"].progress_apply(preprocess_text)\n",
    "val_df[\"more_toxic\"] = val_df[\"more_toxic\"].progress_apply(preprocess_text)"
   ]
  },
  {
   "cell_type": "code",
   "execution_count": 67,
   "id": "f1c15fa8",
   "metadata": {},
   "outputs": [],
   "source": [
    "import re\n",
    "\n",
    "spell = SpellChecker(distance=1)\n",
    "\n",
    "def misspelt_words_fn(dataframe: pd.DataFrame) -> Set[Text]:\n",
    "    misspelt_words = set()\n",
    "    for tweet in dataframe['text'].str.casefold():\n",
    "        [misspelt_words.add(word) for word in spell.unknown(tweet.split())]\n",
    "    return misspelt_words\n",
    "\n",
    "WORD = re.compile(r'\\w+')\n",
    "def reTokenize(tweet: Text) -> List[Text]:\n",
    "    return WORD.findall(tweet.casefold())\n",
    "\n",
    "PATTERN = re.compile(r\"(.)\\1{2,}\")\n",
    "def reduce_lengthening(text: Text) -> Text:\n",
    "    return PATTERN.sub(r\"\\1\\1\", text)\n",
    "\n",
    "def spell_correction(text: Text) -> Text:\n",
    "    return ' '.join([spell.correction(word)\n",
    "                     if word in misspelt_words else word\n",
    "                     for word in reTokenize(reduce_lengthening(text))])\n"
   ]
  },
  {
   "cell_type": "code",
   "execution_count": 68,
   "id": "5b1ce403",
   "metadata": {},
   "outputs": [
    {
     "data": {
      "application/vnd.jupyter.widget-view+json": {
       "model_id": "c2f09279ce4e43798463c6107ed474fc",
       "version_major": 2,
       "version_minor": 0
      },
      "text/plain": [
       "  0%|          | 0/159571 [00:00<?, ?it/s]"
      ]
     },
     "metadata": {},
     "output_type": "display_data"
    },
    {
     "data": {
      "application/vnd.jupyter.widget-view+json": {
       "model_id": "951e79c211bb42a4858e4819a1532ca1",
       "version_major": 2,
       "version_minor": 0
      },
      "text/plain": [
       "  0%|          | 0/7537 [00:00<?, ?it/s]"
      ]
     },
     "metadata": {},
     "output_type": "display_data"
    },
    {
     "data": {
      "application/vnd.jupyter.widget-view+json": {
       "model_id": "65b292c4ee7e481d94046a155ba307fa",
       "version_major": 2,
       "version_minor": 0
      },
      "text/plain": [
       "  0%|          | 0/30108 [00:00<?, ?it/s]"
      ]
     },
     "metadata": {},
     "output_type": "display_data"
    },
    {
     "data": {
      "application/vnd.jupyter.widget-view+json": {
       "model_id": "0ecfaea6f3ad49169510cd5d26e8f0d1",
       "version_major": 2,
       "version_minor": 0
      },
      "text/plain": [
       "  0%|          | 0/30108 [00:00<?, ?it/s]"
      ]
     },
     "metadata": {},
     "output_type": "display_data"
    }
   ],
   "source": [
    "train_df[\"text\"] = train_df[\"text\"].progress_apply(spell_correction)\n",
    "test_df[\"text\"] = test_df[\"text\"].progress_apply(spell_correction)\n",
    "val_df[\"less_toxic\"] = val_df[\"less_toxic\"].progress_apply(spell_correction)\n",
    "val_df[\"more_toxic\"] = val_df[\"more_toxic\"].progress_apply(spell_correction)"
   ]
  },
  {
   "cell_type": "code",
   "execution_count": 69,
   "id": "1ce1fbb0",
   "metadata": {},
   "outputs": [
    {
     "data": {
      "image/png": "[encoded data removed]",
      "text/plain": [
       "<Figure size 864x360 with 1 Axes>"
      ]
     },
     "metadata": {
      "needs_background": "light"
     },
     "output_type": "display_data"
    }
   ],
   "source": [
    "target_cols = [\n",
    "    \"toxic\",\n",
    "    \"severe_toxic\",\n",
    "    \"obscene\",\n",
    "    \"threat\",\n",
    "    \"insult\",\n",
    "    \"identity_hate\"\n",
    "]\n",
    "\n",
    "plt.figure(figsize=(12, 5))\n",
    "sns.histplot(train_df[\"toxic\"], color=\"#4c1c84\")\n",
    "plt.grid()\n",
    "plt.show()"
   ]
  },
  {
   "cell_type": "markdown",
   "id": "6012fc8c",
   "metadata": {},
   "source": [
    "<br>\n",
    "<h1 style = \"font-size:45px; font-family:Comic Sans MS ; font-weight : normal; background-color: #4c1c84 ; color : #eeebf1; text-align: center; border-radius: 100px 100px;\">\n",
    "    Pytorch Dataset\n",
    "</h1>\n",
    "<br>"
   ]
  },
  {
   "cell_type": "code",
   "execution_count": 70,
   "id": "8f60c886",
   "metadata": {},
   "outputs": [],
   "source": [
    "class JigsawDataset:\n",
    "    \n",
    "    def __init__(self, df, tokenizer, max_length, mode, target_cols):\n",
    "        \n",
    "        self.df = df\n",
    "        self.max_len = max_length\n",
    "        self.tokenizer = tokenizer\n",
    "        self.mode = mode\n",
    "        self.target_cols = target_cols\n",
    "        \n",
    "        if self.mode == \"train\":\n",
    "            self.text = df[\"text\"].values\n",
    "            self.target = df[target_cols].values\n",
    "            \n",
    "        elif self.mode == \"valid\":\n",
    "            self.more_toxic = df[\"more_toxic\"].values\n",
    "            self.less_toxic = df[\"less_toxic\"].values\n",
    "            \n",
    "        else:\n",
    "            self.text = df[\"text\"].values\n",
    "            \n",
    "    def __len__(self):\n",
    "        return len(self.df)\n",
    "    \n",
    "    def __getitem__(self, index):\n",
    "        \n",
    "        if self.mode == \"train\":\n",
    "            \n",
    "            text = self.text[index]\n",
    "            target = self.target[index]\n",
    "            \n",
    "            inputs_text = self.tokenizer.encode_plus(\n",
    "                text,\n",
    "                truncation=True,\n",
    "                return_attention_mask=True,\n",
    "                return_token_type_ids=True,\n",
    "                max_length = self.max_len,\n",
    "                padding=\"max_length\",\n",
    "            )\n",
    "            \n",
    "            text_ids = inputs_text[\"input_ids\"]\n",
    "            text_mask = inputs_text[\"attention_mask\"]\n",
    "            text_token_type_ids = inputs_text[\"token_type_ids\"]\n",
    "\n",
    "            return {\n",
    "                'text_ids': torch.tensor(text_ids, dtype=torch.long),\n",
    "                'text_mask': torch.tensor(text_mask, dtype=torch.long),\n",
    "                'text_token_type_ids': torch.tensor(text_token_type_ids, dtype=torch.long),\n",
    "                'target': torch.tensor(target, dtype=torch.float)\n",
    "            }\n",
    "        \n",
    "        elif self.mode == \"valid\":\n",
    "            \n",
    "            more_toxic = self.more_toxic[index]\n",
    "            less_toxic = self.less_toxic[index]\n",
    "\n",
    "            inputs_more_toxic = self.tokenizer.encode_plus(\n",
    "                more_toxic,\n",
    "                truncation=True,\n",
    "                return_attention_mask=True,\n",
    "                return_token_type_ids=True,\n",
    "                max_length = self.max_len,\n",
    "                padding=\"max_length\",\n",
    "            )\n",
    "\n",
    "            inputs_less_toxic = self.tokenizer.encode_plus(\n",
    "                less_toxic,\n",
    "                truncation=True,\n",
    "                return_attention_mask=True,\n",
    "                return_token_type_ids=True,\n",
    "                max_length = self.max_len,\n",
    "                padding=\"max_length\",\n",
    "            )\n",
    "            \n",
    "            target = 1\n",
    "\n",
    "            more_toxic_ids = inputs_more_toxic[\"input_ids\"]\n",
    "            more_toxic_mask = inputs_more_toxic[\"attention_mask\"]\n",
    "            more_token_type_ids = inputs_more_toxic[\"token_type_ids\"]\n",
    "\n",
    "            less_toxic_ids = inputs_less_toxic[\"input_ids\"]\n",
    "            less_toxic_mask = inputs_less_toxic[\"attention_mask\"]\n",
    "            less_token_type_ids = inputs_less_toxic[\"token_type_ids\"]\n",
    "            \n",
    "            return {\n",
    "                'more_toxic_ids': torch.tensor(more_toxic_ids, dtype=torch.long),\n",
    "                'more_toxic_mask': torch.tensor(more_toxic_mask, dtype=torch.long),\n",
    "                'more_token_type_ids': torch.tensor(more_token_type_ids, dtype=torch.long),\n",
    "                \n",
    "                'less_toxic_ids': torch.tensor(less_toxic_ids, dtype=torch.long),\n",
    "                'less_toxic_mask': torch.tensor(less_toxic_mask, dtype=torch.long),\n",
    "                'less_token_type_ids': torch.tensor(less_token_type_ids, dtype=torch.long),\n",
    "                \n",
    "                'target': torch.tensor(target, dtype=torch.float)\n",
    "            }\n",
    "        \n",
    "        else:\n",
    "            \n",
    "            text = self.text[index]\n",
    "            \n",
    "            inputs_text = self.tokenizer.encode_plus(\n",
    "                text,\n",
    "                truncation=True,\n",
    "                return_attention_mask=True,\n",
    "                return_token_type_ids=True,\n",
    "                max_length = self.max_len,\n",
    "                padding=\"max_length\",\n",
    "            )\n",
    "            \n",
    "            text_ids = inputs_text[\"input_ids\"]\n",
    "            text_mask = inputs_text[\"attention_mask\"]\n",
    "            text_token_type_ids = inputs_text[\"token_type_ids\"]\n",
    "\n",
    "            return {\n",
    "                'text_ids': torch.tensor(text_ids, dtype=torch.long),\n",
    "                'text_mask': torch.tensor(text_mask, dtype=torch.long),\n",
    "                'text_token_type_ids': torch.tensor(text_token_type_ids, dtype=torch.long),\n",
    "            }"
   ]
  },
  {
   "cell_type": "markdown",
   "id": "4fe40f97",
   "metadata": {},
   "source": [
    "<br>\n",
    "<h2 style = \"font-size:45px;\n",
    "             font-family:Comic Sans MS ;\n",
    "             font-weight : normal;\n",
    "             background-color: #eeebf1 ;\n",
    "             color : #4c1c84;\n",
    "             text-align: center; \n",
    "             border-radius: 100px 100px;\">\n",
    "    DataModule\n",
    "</h2>\n",
    "<br>"
   ]
  },
  {
   "cell_type": "code",
   "execution_count": 71,
   "id": "48957358",
   "metadata": {},
   "outputs": [],
   "source": [
    "class JigsawDataModule(LightningDataModule):\n",
    "\n",
    "    def __init__(self, train_df, valid_df, test_df, cfg):\n",
    "\n",
    "        super().__init__()\n",
    "        self._train_df = train_df\n",
    "        self._valid_df = valid_df\n",
    "        self._test_df = test_df\n",
    "        self._cfg = cfg\n",
    "\n",
    "    def train_dataloader(self):\n",
    "        dataset = JigsawDataset(\n",
    "            df=self._train_df, \n",
    "            tokenizer=self._cfg.tokenizer,\n",
    "            max_length=self._cfg.max_length,\n",
    "            mode=\"train\",\n",
    "            target_cols=target_cols\n",
    "            )\n",
    "        return DataLoader(dataset, **self._cfg.train_loader)\n",
    "\n",
    "    def val_dataloader(self):\n",
    "        dataset = JigsawDataset(\n",
    "            df=self._valid_df, \n",
    "            tokenizer=self._cfg.tokenizer,\n",
    "            max_length=self._cfg.max_length,\n",
    "            mode=\"valid\",\n",
    "            target_cols=target_cols\n",
    "            )\n",
    "        return DataLoader(dataset, **self._cfg.valid_loader)\n",
    "\n",
    "    def test_dataloader(self):\n",
    "        dataset = JigsawDataset(\n",
    "            df=self._test_df,\n",
    "            tokenizer = self._cfg.tokenizer,\n",
    "            max_length=self._cfg.max_length,\n",
    "            mode=\"test\",\n",
    "            target_cols=target_cols\n",
    "        )\n",
    "\n",
    "        return DataLoader(dataset, **self._cfg.test_loader)"
   ]
  },
  {
   "cell_type": "code",
   "execution_count": 72,
   "id": "3ea46f71",
   "metadata": {},
   "outputs": [],
   "source": [
    "## DataCheck\n",
    "seed_everything(config.seed)\n",
    "\n",
    "sample_dataloader = JigsawDataModule(train_df, val_df, test_df, config).train_dataloader()\n",
    "for data in sample_dataloader:\n",
    "    break"
   ]
  },
  {
   "cell_type": "code",
   "execution_count": 73,
   "id": "2bd5cbd2",
   "metadata": {},
   "outputs": [
    {
     "name": "stdout",
     "output_type": "stream",
     "text": [
      "torch.Size([8, 256])\n",
      "torch.Size([8, 256])\n",
      "torch.Size([8, 256])\n",
      "torch.Size([8, 6])\n",
      "tensor([[0., 0., 0., 0., 0., 0.],\n",
      "        [0., 0., 0., 0., 0., 0.],\n",
      "        [0., 0., 0., 0., 0., 0.],\n",
      "        [0., 0., 0., 0., 0., 0.],\n",
      "        [0., 0., 0., 0., 0., 0.],\n",
      "        [0., 0., 0., 0., 0., 0.],\n",
      "        [0., 0., 0., 0., 0., 0.],\n",
      "        [0., 0., 0., 0., 0., 0.]])\n",
      "torch.Size([8, 256, 768]) torch.Size([8, 12, 256, 256])\n",
      "torch.Size([8, 768]) torch.Size([8, 12, 256, 256])\n"
     ]
    }
   ],
   "source": [
    "print(data[\"text_ids\"].size())\n",
    "print(data[\"text_mask\"].size())\n",
    "print(data[\"text_token_type_ids\"].size())\n",
    "print(data[\"target\"].size())\n",
    "print(data[\"target\"])\n",
    "output = config.model(\n",
    "    data[\"text_ids\"],\n",
    "    data[\"text_mask\"],\n",
    "    data[\"text_token_type_ids\"],\n",
    "    output_hidden_states=True,\n",
    "    output_attentions=True,\n",
    ")\n",
    "print(output[\"hidden_states\"][-1].size(), output[\"attentions\"][-1].size())\n",
    "print(output[\"hidden_states\"][-1][:, 0, :].size(), output[\"attentions\"][-1].size())"
   ]
  },
  {
   "cell_type": "markdown",
   "id": "411f68ee",
   "metadata": {},
   "source": [
    "<br>\n",
    "<h2 style = \"font-size:45px;\n",
    "             font-family:Comic Sans MS ;\n",
    "             font-weight : normal;\n",
    "             background-color: #eeebf1 ;\n",
    "             color : #4c1c84;\n",
    "             text-align: center; \n",
    "             border-radius: 100px 100px;\">\n",
    "    LigitningModule\n",
    "</h2>\n",
    "<br>"
   ]
  },
  {
   "cell_type": "code",
   "execution_count": 74,
   "id": "18c6bafc",
   "metadata": {},
   "outputs": [],
   "source": [
    "class JigsawModel(pl.LightningModule):\n",
    "    \n",
    "    def __init__(self, cfg, fold_num):\n",
    "        \n",
    "        super().__init__()\n",
    "        self.cfg = cfg\n",
    "        self.__build_model()\n",
    "        self.criterion = eval(self.cfg.loss)()\n",
    "        self.save_hyperparameters(cfg)\n",
    "        self.fold_num = fold_num\n",
    "        \n",
    "    def __build_model(self):\n",
    "        \n",
    "        self.base_model = BertForMaskedLM.from_pretrained(\n",
    "            self.cfg.backbone.name\n",
    "        )\n",
    "        print(f\"Use Model: {self.cfg.backbone.name}\")\n",
    "        self.norm = nn.LayerNorm(768)\n",
    "        self.drop = nn.Dropout(p=0.3)\n",
    "        self.head = nn.Linear(768, self.cfg.backbone.output_dim)\n",
    "        \n",
    "    def forward(self, ids, mask, token_type_ids):\n",
    "        \n",
    "        output = self.base_model(\n",
    "            input_ids=ids, \n",
    "            attention_mask=mask,\n",
    "            token_type_ids=token_type_ids,\n",
    "            output_hidden_states=True,\n",
    "            output_attentions=True\n",
    "        )\n",
    "        feature = self.norm(output[\"hidden_states\"][-1][:, 0, :])\n",
    "        out = self.drop(feature)\n",
    "        out = self.head(out)\n",
    "        \n",
    "        return {\n",
    "            \"logits\":out, \n",
    "            \"feature\":feature,\n",
    "            \"attention\":output[\"attentions\"], \n",
    "            \"mask\":mask,\n",
    "        }\n",
    "    \n",
    "    def training_step(self, batch, batch_idx):\n",
    "        \n",
    "        text_ids = batch[\"text_ids\"]\n",
    "        text_mask = batch['text_mask']\n",
    "        text_token_type_ids = batch['text_token_type_ids']\n",
    "        targets = batch['target']\n",
    "        \n",
    "        outputs = self.forward(text_ids, text_mask, text_token_type_ids)\n",
    "        loss = torch.sqrt(self.criterion(outputs[\"logits\"], targets))\n",
    "        \n",
    "        return {\n",
    "            \"loss\":loss,\n",
    "            \"targets\":targets,\n",
    "        }\n",
    "    \n",
    "    def training_epoch_end(self, training_step_outputs):\n",
    "\n",
    "        loss_list = []\n",
    "\n",
    "        for out in training_step_outputs:\n",
    "\n",
    "            loss_list.extend([out[\"loss\"].cpu().detach().tolist()])\n",
    "\n",
    "        meanloss = sum(loss_list)/len(loss_list)\n",
    "\n",
    "        logs = {f\"train_loss/fold{self.fold_num+1}\": meanloss,}\n",
    "\n",
    "        self.log_dict(\n",
    "            logs,\n",
    "            on_step=False,\n",
    "            on_epoch=True,\n",
    "            prog_bar=True,\n",
    "            logger=True\n",
    "        )\n",
    "        \n",
    "    def validation_step(self, batch, batch_idx):\n",
    "\n",
    "        more_toxic_ids = batch['more_toxic_ids']\n",
    "        more_toxic_mask = batch['more_toxic_mask']\n",
    "        more_text_token_type_ids = batch['more_token_type_ids']\n",
    "        \n",
    "        less_toxic_ids = batch['less_toxic_ids']\n",
    "        less_toxic_mask = batch['less_toxic_mask']\n",
    "        less_text_token_type_ids = batch['less_token_type_ids']\n",
    "        \n",
    "        targets = batch['target']\n",
    "\n",
    "        more_outputs = self.forward(\n",
    "            more_toxic_ids, \n",
    "            more_toxic_mask,\n",
    "            more_text_token_type_ids\n",
    "        )\n",
    "        \n",
    "        less_outputs = self.forward(\n",
    "            less_toxic_ids, \n",
    "            less_toxic_mask,\n",
    "            less_text_token_type_ids\n",
    "        )\n",
    "        \n",
    "        \n",
    "        more_outputs = torch.sum(more_outputs[\"logits\"], 1)\n",
    "        less_outputs = torch.sum(less_outputs[\"logits\"], 1)\n",
    "        \n",
    "        outputs = more_outputs - less_outputs\n",
    "        logits = outputs.clone()\n",
    "\n",
    "        logits[logits > 0] = 1\n",
    "        loss = self.criterion(logits, targets)\n",
    "\n",
    "        return {\n",
    "            \"loss\":loss,\n",
    "            \"pred\":outputs,\n",
    "            \"targets\":targets,\n",
    "        }\n",
    "    \n",
    "    \n",
    "    def validation_epoch_end(self, validation_step_outputs):\n",
    "\n",
    "        loss_list = []\n",
    "        pred_list = []\n",
    "        target_list = []\n",
    "\n",
    "        for out in validation_step_outputs:\n",
    "            loss_list.extend([out[\"loss\"].cpu().detach().tolist()])\n",
    "            pred_list.append(out[\"pred\"].detach().cpu().numpy())\n",
    "            target_list.append(out[\"targets\"].detach().cpu().numpy())\n",
    "\n",
    "        meanloss = sum(loss_list)/len(loss_list)\n",
    "        pred_list = np.concatenate(pred_list)\n",
    "        pred_count = sum(x>0 for x in pred_list)/len(pred_list)\n",
    "\n",
    "        logs = {\n",
    "            f\"valid_loss/fold{self.fold_num+1}\":meanloss,\n",
    "            f\"valid_acc/fold{self.fold_num+1}\":pred_count,\n",
    "        }\n",
    "\n",
    "        self.log_dict(\n",
    "            logs,\n",
    "            on_step=False,\n",
    "            on_epoch=True,\n",
    "            prog_bar=True,\n",
    "            logger=True\n",
    "        )\n",
    "        \n",
    "    def configure_optimizers(self):\n",
    "\n",
    "        optimizer = eval(self.cfg.optimizer.name)(\n",
    "            self.parameters(), **self.cfg.optimizer.params\n",
    "        )\n",
    "\n",
    "        self.scheduler = eval(self.cfg.scheduler.name)(\n",
    "            optimizer, **self.cfg.scheduler.params\n",
    "        )\n",
    "        \n",
    "        scheduler = {\"scheduler\": self.scheduler, \"interval\": \"step\",}\n",
    "\n",
    "        return [optimizer], [scheduler]"
   ]
  },
  {
   "cell_type": "markdown",
   "id": "9709105d",
   "metadata": {},
   "source": [
    "<br>\n",
    "<h2 style = \"font-size:45px;\n",
    "             font-family:Comic Sans MS ;\n",
    "             font-weight : normal;\n",
    "             background-color: #eeebf1 ;\n",
    "             color : #4c1c84;\n",
    "             text-align: center; \n",
    "             border-radius: 100px 100px;\">\n",
    "    Training\n",
    "</h2>\n",
    "<br>"
   ]
  },
  {
   "cell_type": "code",
   "execution_count": 77,
   "id": "6e395718",
   "metadata": {},
   "outputs": [
    {
     "data": {
      "text/html": [
       "<div>\n",
       "<style scoped>\n",
       "    .dataframe tbody tr th:only-of-type {\n",
       "        vertical-align: middle;\n",
       "    }\n",
       "\n",
       "    .dataframe tbody tr th {\n",
       "        vertical-align: top;\n",
       "    }\n",
       "\n",
       "    .dataframe thead th {\n",
       "        text-align: right;\n",
       "    }\n",
       "</style>\n",
       "<table border=\"1\" class=\"dataframe\">\n",
       "  <thead>\n",
       "    <tr style=\"text-align: right;\">\n",
       "      <th></th>\n",
       "      <th>id</th>\n",
       "      <th>comment_text</th>\n",
       "      <th>toxic</th>\n",
       "      <th>severe_toxic</th>\n",
       "      <th>obscene</th>\n",
       "      <th>threat</th>\n",
       "      <th>insult</th>\n",
       "      <th>identity_hate</th>\n",
       "      <th>is_colon</th>\n",
       "      <th>text</th>\n",
       "      <th>kfold</th>\n",
       "    </tr>\n",
       "  </thead>\n",
       "  <tbody>\n",
       "    <tr>\n",
       "      <th>0</th>\n",
       "      <td>0000997932d777bf</td>\n",
       "      <td>Explanation\\nWhy the edits made under my usern...</td>\n",
       "      <td>0</td>\n",
       "      <td>0</td>\n",
       "      <td>0</td>\n",
       "      <td>0</td>\n",
       "      <td>0</td>\n",
       "      <td>0</td>\n",
       "      <td>0</td>\n",
       "      <td>explanation why the edits made under my userna...</td>\n",
       "      <td>0</td>\n",
       "    </tr>\n",
       "    <tr>\n",
       "      <th>1</th>\n",
       "      <td>000103f0d9cfb60f</td>\n",
       "      <td>D'aww! He matches this background colour I'm s...</td>\n",
       "      <td>0</td>\n",
       "      <td>0</td>\n",
       "      <td>0</td>\n",
       "      <td>0</td>\n",
       "      <td>0</td>\n",
       "      <td>0</td>\n",
       "      <td>1</td>\n",
       "      <td>d aww he matches this background colour i m se...</td>\n",
       "      <td>2</td>\n",
       "    </tr>\n",
       "    <tr>\n",
       "      <th>2</th>\n",
       "      <td>000113f07ec002fd</td>\n",
       "      <td>Hey man, I'm really not trying to edit war. It...</td>\n",
       "      <td>0</td>\n",
       "      <td>0</td>\n",
       "      <td>0</td>\n",
       "      <td>0</td>\n",
       "      <td>0</td>\n",
       "      <td>0</td>\n",
       "      <td>0</td>\n",
       "      <td>hey man i m really not trying to edit war it s...</td>\n",
       "      <td>3</td>\n",
       "    </tr>\n",
       "    <tr>\n",
       "      <th>3</th>\n",
       "      <td>0001b41b1c6bb37e</td>\n",
       "      <td>\"\\nMore\\nI can't make any real suggestions on ...</td>\n",
       "      <td>0</td>\n",
       "      <td>0</td>\n",
       "      <td>0</td>\n",
       "      <td>0</td>\n",
       "      <td>0</td>\n",
       "      <td>0</td>\n",
       "      <td>1</td>\n",
       "      <td>more i can t make any real suggestions on impr...</td>\n",
       "      <td>2</td>\n",
       "    </tr>\n",
       "    <tr>\n",
       "      <th>4</th>\n",
       "      <td>0001d958c54c6e35</td>\n",
       "      <td>You, sir, are my hero. Any chance you remember...</td>\n",
       "      <td>0</td>\n",
       "      <td>0</td>\n",
       "      <td>0</td>\n",
       "      <td>0</td>\n",
       "      <td>0</td>\n",
       "      <td>0</td>\n",
       "      <td>0</td>\n",
       "      <td>you sir are my hero any chance you remember wh...</td>\n",
       "      <td>0</td>\n",
       "    </tr>\n",
       "  </tbody>\n",
       "</table>\n",
       "</div>"
      ],
      "text/plain": [
       "                 id                                       comment_text  toxic  \\\n",
       "0  0000997932d777bf  Explanation\\nWhy the edits made under my usern...      0   \n",
       "1  000103f0d9cfb60f  D'aww! He matches this background colour I'm s...      0   \n",
       "2  000113f07ec002fd  Hey man, I'm really not trying to edit war. It...      0   \n",
       "3  0001b41b1c6bb37e  \"\\nMore\\nI can't make any real suggestions on ...      0   \n",
       "4  0001d958c54c6e35  You, sir, are my hero. Any chance you remember...      0   \n",
       "\n",
       "   severe_toxic  obscene  threat  insult  identity_hate  is_colon  \\\n",
       "0             0        0       0       0              0         0   \n",
       "1             0        0       0       0              0         1   \n",
       "2             0        0       0       0              0         0   \n",
       "3             0        0       0       0              0         1   \n",
       "4             0        0       0       0              0         0   \n",
       "\n",
       "                                                text  kfold  \n",
       "0  explanation why the edits made under my userna...      0  \n",
       "1  d aww he matches this background colour i m se...      2  \n",
       "2  hey man i m really not trying to edit war it s...      3  \n",
       "3  more i can t make any real suggestions on impr...      2  \n",
       "4  you sir are my hero any chance you remember wh...      0  "
      ]
     },
     "execution_count": 77,
     "metadata": {},
     "output_type": "execute_result"
    }
   ],
   "source": [
    "skf = KFold(\n",
    "    n_splits=config.n_fold, \n",
    "    shuffle=True, \n",
    "    random_state=config.seed\n",
    ")\n",
    "\n",
    "for fold, (_, val_idx) in enumerate(skf.split(X=train_df, y=train_df[\"toxic\"])):\n",
    "    train_df.loc[val_idx, \"kfold\"] = int(fold)\n",
    "\n",
    "train_df[\"kfold\"] = train_df[\"kfold\"].astype(int)\n",
    "train_df.head()"
   ]
  },
  {
   "cell_type": "code",
   "execution_count": 78,
   "id": "23db6b55",
   "metadata": {},
   "outputs": [
    {
     "name": "stdout",
     "output_type": "stream",
     "text": [
      "★★★★★★★★★★★★★★★★★★★★★★★★★  Fold1  ★★★★★★★★★★★★★★★★★★★★★★★★★\n",
      "Use Model: GroNLP/hateBERT\n"
     ]
    },
    {
     "data": {
      "text/html": [
       "<pre style=\"white-space:pre;overflow-x:auto;line-height:normal;font-family:Menlo,'DejaVu Sans Mono',consolas,'Courier New',monospace\">┏━━━┳━━━━━━━━━━━━┳━━━━━━━━━━━━━━━━━┳━━━━━━━━┓\n",
       "┃<span style=\"color: #800080; text-decoration-color: #800080; font-weight: bold\">   </span>┃<span style=\"color: #800080; text-decoration-color: #800080; font-weight: bold\"> Name       </span>┃<span style=\"color: #800080; text-decoration-color: #800080; font-weight: bold\"> Type            </span>┃<span style=\"color: #800080; text-decoration-color: #800080; font-weight: bold\"> Params </span>┃\n",
       "┡━━━╇━━━━━━━━━━━━╇━━━━━━━━━━━━━━━━━╇━━━━━━━━┩\n",
       "│<span style=\"color: #7f7f7f; text-decoration-color: #7f7f7f\"> 0 </span>│ base_model │ BertForMaskedLM │  109 M │\n",
       "│<span style=\"color: #7f7f7f; text-decoration-color: #7f7f7f\"> 1 </span>│ norm       │ LayerNorm       │  1.5 K │\n",
       "│<span style=\"color: #7f7f7f; text-decoration-color: #7f7f7f\"> 2 </span>│ drop       │ Dropout         │      0 │\n",
       "│<span style=\"color: #7f7f7f; text-decoration-color: #7f7f7f\"> 3 </span>│ head       │ Linear          │  4.6 K │\n",
       "│<span style=\"color: #7f7f7f; text-decoration-color: #7f7f7f\"> 4 </span>│ criterion  │ MSELoss         │      0 │\n",
       "└───┴────────────┴─────────────────┴────────┘\n",
       "</pre>\n"
      ],
      "text/plain": [
       "┏━━━┳━━━━━━━━━━━━┳━━━━━━━━━━━━━━━━━┳━━━━━━━━┓\n",
       "┃\u001b[1;35m \u001b[0m\u001b[1;35m \u001b[0m\u001b[1;35m \u001b[0m┃\u001b[1;35m \u001b[0m\u001b[1;35mName      \u001b[0m\u001b[1;35m \u001b[0m┃\u001b[1;35m \u001b[0m\u001b[1;35mType           \u001b[0m\u001b[1;35m \u001b[0m┃\u001b[1;35m \u001b[0m\u001b[1;35mParams\u001b[0m\u001b[1;35m \u001b[0m┃\n",
       "┡━━━╇━━━━━━━━━━━━╇━━━━━━━━━━━━━━━━━╇━━━━━━━━┩\n",
       "│\u001b[2m \u001b[0m\u001b[2m0\u001b[0m\u001b[2m \u001b[0m│ base_model │ BertForMaskedLM │  109 M │\n",
       "│\u001b[2m \u001b[0m\u001b[2m1\u001b[0m\u001b[2m \u001b[0m│ norm       │ LayerNorm       │  1.5 K │\n",
       "│\u001b[2m \u001b[0m\u001b[2m2\u001b[0m\u001b[2m \u001b[0m│ drop       │ Dropout         │      0 │\n",
       "│\u001b[2m \u001b[0m\u001b[2m3\u001b[0m\u001b[2m \u001b[0m│ head       │ Linear          │  4.6 K │\n",
       "│\u001b[2m \u001b[0m\u001b[2m4\u001b[0m\u001b[2m \u001b[0m│ criterion  │ MSELoss         │      0 │\n",
       "└───┴────────────┴─────────────────┴────────┘\n"
      ]
     },
     "metadata": {},
     "output_type": "display_data"
    },
    {
     "data": {
      "text/html": [
       "<pre style=\"white-space:pre;overflow-x:auto;line-height:normal;font-family:Menlo,'DejaVu Sans Mono',consolas,'Courier New',monospace\"><span style=\"font-weight: bold\">Trainable params</span>: 109 M                                                                      \n",
       "<span style=\"font-weight: bold\">Non-trainable params</span>: 0                                                                      \n",
       "<span style=\"font-weight: bold\">Total params</span>: 109 M                                                                          \n",
       "<span style=\"font-weight: bold\">Total estimated model params size (MB)</span>: 438                                                  \n",
       "</pre>\n"
      ],
      "text/plain": [
       "\u001b[1mTrainable params\u001b[0m: 109 M                                                                      \n",
       "\u001b[1mNon-trainable params\u001b[0m: 0                                                                      \n",
       "\u001b[1mTotal params\u001b[0m: 109 M                                                                          \n",
       "\u001b[1mTotal estimated model params size (MB)\u001b[0m: 438                                                  \n"
      ]
     },
     "metadata": {},
     "output_type": "display_data"
    },
    {
     "data": {
      "application/vnd.jupyter.widget-view+json": {
       "model_id": "83181854a8214a51ae9aa7cec64be8ef",
       "version_major": 2,
       "version_minor": 0
      },
      "text/plain": [
       "Output()"
      ]
     },
     "metadata": {},
     "output_type": "display_data"
    },
    {
     "data": {
      "text/html": [
       "<pre style=\"white-space:pre;overflow-x:auto;line-height:normal;font-family:Menlo,'DejaVu Sans Mono',consolas,'Courier New',monospace\"><span style=\"color: #c0c0c0; text-decoration-color: #c0c0c0\">Epoch 0   </span> <span style=\"color: #6206e0; text-decoration-color: #6206e0\">━━━━━━━━━━━━━━━━━━━━━━━━━━━━━━</span> <span style=\"color: #c0c0c0; text-decoration-color: #c0c0c0\">2/2</span> <span style=\"color: #8a8a8a; text-decoration-color: #8a8a8a\">0:00:00 • 0:00:00</span> <span style=\"color: #b2b2b2; text-decoration-color: #b2b2b2\">3.73it/s</span> <span style=\"color: #c0c0c0; text-decoration-color: #c0c0c0\">loss: 0.591 v_num:  </span>\n",
       "</pre>\n"
      ],
      "text/plain": [
       "\u001b[37mEpoch 0   \u001b[0m \u001b[38;2;98;6;224m━━━━━━━━━━━━━━━━━━━━━━━━━━━━━━\u001b[0m \u001b[37m2/2\u001b[0m \u001b[38;5;245m0:00:00 • 0:00:00\u001b[0m \u001b[38;5;249m3.73it/s\u001b[0m \u001b[37mloss: 0.591 v_num:  \u001b[0m\n"
      ]
     },
     "metadata": {},
     "output_type": "display_data"
    },
    {
     "data": {
      "text/html": [
       "<pre style=\"white-space:pre;overflow-x:auto;line-height:normal;font-family:Menlo,'DejaVu Sans Mono',consolas,'Courier New',monospace\">\n",
       "</pre>\n"
      ],
      "text/plain": [
       "\n"
      ]
     },
     "metadata": {},
     "output_type": "display_data"
    },
    {
     "name": "stdout",
     "output_type": "stream",
     "text": [
      "★★★★★★★★★★★★★★★★★★★★★★★★★  Fold2  ★★★★★★★★★★★★★★★★★★★★★★★★★\n",
      "Use Model: GroNLP/hateBERT\n"
     ]
    },
    {
     "data": {
      "text/html": [
       "<pre style=\"white-space:pre;overflow-x:auto;line-height:normal;font-family:Menlo,'DejaVu Sans Mono',consolas,'Courier New',monospace\">┏━━━┳━━━━━━━━━━━━┳━━━━━━━━━━━━━━━━━┳━━━━━━━━┓\n",
       "┃<span style=\"color: #800080; text-decoration-color: #800080; font-weight: bold\">   </span>┃<span style=\"color: #800080; text-decoration-color: #800080; font-weight: bold\"> Name       </span>┃<span style=\"color: #800080; text-decoration-color: #800080; font-weight: bold\"> Type            </span>┃<span style=\"color: #800080; text-decoration-color: #800080; font-weight: bold\"> Params </span>┃\n",
       "┡━━━╇━━━━━━━━━━━━╇━━━━━━━━━━━━━━━━━╇━━━━━━━━┩\n",
       "│<span style=\"color: #7f7f7f; text-decoration-color: #7f7f7f\"> 0 </span>│ base_model │ BertForMaskedLM │  109 M │\n",
       "│<span style=\"color: #7f7f7f; text-decoration-color: #7f7f7f\"> 1 </span>│ norm       │ LayerNorm       │  1.5 K │\n",
       "│<span style=\"color: #7f7f7f; text-decoration-color: #7f7f7f\"> 2 </span>│ drop       │ Dropout         │      0 │\n",
       "│<span style=\"color: #7f7f7f; text-decoration-color: #7f7f7f\"> 3 </span>│ head       │ Linear          │  4.6 K │\n",
       "│<span style=\"color: #7f7f7f; text-decoration-color: #7f7f7f\"> 4 </span>│ criterion  │ MSELoss         │      0 │\n",
       "└───┴────────────┴─────────────────┴────────┘\n",
       "</pre>\n"
      ],
      "text/plain": [
       "┏━━━┳━━━━━━━━━━━━┳━━━━━━━━━━━━━━━━━┳━━━━━━━━┓\n",
       "┃\u001b[1;35m \u001b[0m\u001b[1;35m \u001b[0m\u001b[1;35m \u001b[0m┃\u001b[1;35m \u001b[0m\u001b[1;35mName      \u001b[0m\u001b[1;35m \u001b[0m┃\u001b[1;35m \u001b[0m\u001b[1;35mType           \u001b[0m\u001b[1;35m \u001b[0m┃\u001b[1;35m \u001b[0m\u001b[1;35mParams\u001b[0m\u001b[1;35m \u001b[0m┃\n",
       "┡━━━╇━━━━━━━━━━━━╇━━━━━━━━━━━━━━━━━╇━━━━━━━━┩\n",
       "│\u001b[2m \u001b[0m\u001b[2m0\u001b[0m\u001b[2m \u001b[0m│ base_model │ BertForMaskedLM │  109 M │\n",
       "│\u001b[2m \u001b[0m\u001b[2m1\u001b[0m\u001b[2m \u001b[0m│ norm       │ LayerNorm       │  1.5 K │\n",
       "│\u001b[2m \u001b[0m\u001b[2m2\u001b[0m\u001b[2m \u001b[0m│ drop       │ Dropout         │      0 │\n",
       "│\u001b[2m \u001b[0m\u001b[2m3\u001b[0m\u001b[2m \u001b[0m│ head       │ Linear          │  4.6 K │\n",
       "│\u001b[2m \u001b[0m\u001b[2m4\u001b[0m\u001b[2m \u001b[0m│ criterion  │ MSELoss         │      0 │\n",
       "└───┴────────────┴─────────────────┴────────┘\n"
      ]
     },
     "metadata": {},
     "output_type": "display_data"
    },
    {
     "data": {
      "text/html": [
       "<pre style=\"white-space:pre;overflow-x:auto;line-height:normal;font-family:Menlo,'DejaVu Sans Mono',consolas,'Courier New',monospace\"><span style=\"font-weight: bold\">Trainable params</span>: 109 M                                                                      \n",
       "<span style=\"font-weight: bold\">Non-trainable params</span>: 0                                                                      \n",
       "<span style=\"font-weight: bold\">Total params</span>: 109 M                                                                          \n",
       "<span style=\"font-weight: bold\">Total estimated model params size (MB)</span>: 438                                                  \n",
       "</pre>\n"
      ],
      "text/plain": [
       "\u001b[1mTrainable params\u001b[0m: 109 M                                                                      \n",
       "\u001b[1mNon-trainable params\u001b[0m: 0                                                                      \n",
       "\u001b[1mTotal params\u001b[0m: 109 M                                                                          \n",
       "\u001b[1mTotal estimated model params size (MB)\u001b[0m: 438                                                  \n"
      ]
     },
     "metadata": {},
     "output_type": "display_data"
    },
    {
     "data": {
      "application/vnd.jupyter.widget-view+json": {
       "model_id": "6e9f6ebe30a343d1a88bc42fd620ac5b",
       "version_major": 2,
       "version_minor": 0
      },
      "text/plain": [
       "Output()"
      ]
     },
     "metadata": {},
     "output_type": "display_data"
    },
    {
     "data": {
      "text/html": [
       "<pre style=\"white-space:pre;overflow-x:auto;line-height:normal;font-family:Menlo,'DejaVu Sans Mono',consolas,'Courier New',monospace\"><span style=\"color: #c0c0c0; text-decoration-color: #c0c0c0\">Epoch 0   </span> <span style=\"color: #6206e0; text-decoration-color: #6206e0\">━━━━━━━━━━━━━━━━━━━━━━━━━━━━━━</span> <span style=\"color: #c0c0c0; text-decoration-color: #c0c0c0\">2/2</span> <span style=\"color: #8a8a8a; text-decoration-color: #8a8a8a\">0:00:00 • 0:00:00</span> <span style=\"color: #b2b2b2; text-decoration-color: #b2b2b2\">3.67it/s</span> <span style=\"color: #c0c0c0; text-decoration-color: #c0c0c0\">loss: 0.641 v_num:  </span>\n",
       "</pre>\n"
      ],
      "text/plain": [
       "\u001b[37mEpoch 0   \u001b[0m \u001b[38;2;98;6;224m━━━━━━━━━━━━━━━━━━━━━━━━━━━━━━\u001b[0m \u001b[37m2/2\u001b[0m \u001b[38;5;245m0:00:00 • 0:00:00\u001b[0m \u001b[38;5;249m3.67it/s\u001b[0m \u001b[37mloss: 0.641 v_num:  \u001b[0m\n"
      ]
     },
     "metadata": {},
     "output_type": "display_data"
    },
    {
     "data": {
      "text/html": [
       "<pre style=\"white-space:pre;overflow-x:auto;line-height:normal;font-family:Menlo,'DejaVu Sans Mono',consolas,'Courier New',monospace\">\n",
       "</pre>\n"
      ],
      "text/plain": [
       "\n"
      ]
     },
     "metadata": {},
     "output_type": "display_data"
    },
    {
     "name": "stdout",
     "output_type": "stream",
     "text": [
      "★★★★★★★★★★★★★★★★★★★★★★★★★  Fold3  ★★★★★★★★★★★★★★★★★★★★★★★★★\n",
      "Use Model: GroNLP/hateBERT\n"
     ]
    },
    {
     "data": {
      "text/html": [
       "<pre style=\"white-space:pre;overflow-x:auto;line-height:normal;font-family:Menlo,'DejaVu Sans Mono',consolas,'Courier New',monospace\">┏━━━┳━━━━━━━━━━━━┳━━━━━━━━━━━━━━━━━┳━━━━━━━━┓\n",
       "┃<span style=\"color: #800080; text-decoration-color: #800080; font-weight: bold\">   </span>┃<span style=\"color: #800080; text-decoration-color: #800080; font-weight: bold\"> Name       </span>┃<span style=\"color: #800080; text-decoration-color: #800080; font-weight: bold\"> Type            </span>┃<span style=\"color: #800080; text-decoration-color: #800080; font-weight: bold\"> Params </span>┃\n",
       "┡━━━╇━━━━━━━━━━━━╇━━━━━━━━━━━━━━━━━╇━━━━━━━━┩\n",
       "│<span style=\"color: #7f7f7f; text-decoration-color: #7f7f7f\"> 0 </span>│ base_model │ BertForMaskedLM │  109 M │\n",
       "│<span style=\"color: #7f7f7f; text-decoration-color: #7f7f7f\"> 1 </span>│ norm       │ LayerNorm       │  1.5 K │\n",
       "│<span style=\"color: #7f7f7f; text-decoration-color: #7f7f7f\"> 2 </span>│ drop       │ Dropout         │      0 │\n",
       "│<span style=\"color: #7f7f7f; text-decoration-color: #7f7f7f\"> 3 </span>│ head       │ Linear          │  4.6 K │\n",
       "│<span style=\"color: #7f7f7f; text-decoration-color: #7f7f7f\"> 4 </span>│ criterion  │ MSELoss         │      0 │\n",
       "└───┴────────────┴─────────────────┴────────┘\n",
       "</pre>\n"
      ],
      "text/plain": [
       "┏━━━┳━━━━━━━━━━━━┳━━━━━━━━━━━━━━━━━┳━━━━━━━━┓\n",
       "┃\u001b[1;35m \u001b[0m\u001b[1;35m \u001b[0m\u001b[1;35m \u001b[0m┃\u001b[1;35m \u001b[0m\u001b[1;35mName      \u001b[0m\u001b[1;35m \u001b[0m┃\u001b[1;35m \u001b[0m\u001b[1;35mType           \u001b[0m\u001b[1;35m \u001b[0m┃\u001b[1;35m \u001b[0m\u001b[1;35mParams\u001b[0m\u001b[1;35m \u001b[0m┃\n",
       "┡━━━╇━━━━━━━━━━━━╇━━━━━━━━━━━━━━━━━╇━━━━━━━━┩\n",
       "│\u001b[2m \u001b[0m\u001b[2m0\u001b[0m\u001b[2m \u001b[0m│ base_model │ BertForMaskedLM │  109 M │\n",
       "│\u001b[2m \u001b[0m\u001b[2m1\u001b[0m\u001b[2m \u001b[0m│ norm       │ LayerNorm       │  1.5 K │\n",
       "│\u001b[2m \u001b[0m\u001b[2m2\u001b[0m\u001b[2m \u001b[0m│ drop       │ Dropout         │      0 │\n",
       "│\u001b[2m \u001b[0m\u001b[2m3\u001b[0m\u001b[2m \u001b[0m│ head       │ Linear          │  4.6 K │\n",
       "│\u001b[2m \u001b[0m\u001b[2m4\u001b[0m\u001b[2m \u001b[0m│ criterion  │ MSELoss         │      0 │\n",
       "└───┴────────────┴─────────────────┴────────┘\n"
      ]
     },
     "metadata": {},
     "output_type": "display_data"
    },
    {
     "data": {
      "text/html": [
       "<pre style=\"white-space:pre;overflow-x:auto;line-height:normal;font-family:Menlo,'DejaVu Sans Mono',consolas,'Courier New',monospace\"><span style=\"font-weight: bold\">Trainable params</span>: 109 M                                                                      \n",
       "<span style=\"font-weight: bold\">Non-trainable params</span>: 0                                                                      \n",
       "<span style=\"font-weight: bold\">Total params</span>: 109 M                                                                          \n",
       "<span style=\"font-weight: bold\">Total estimated model params size (MB)</span>: 438                                                  \n",
       "</pre>\n"
      ],
      "text/plain": [
       "\u001b[1mTrainable params\u001b[0m: 109 M                                                                      \n",
       "\u001b[1mNon-trainable params\u001b[0m: 0                                                                      \n",
       "\u001b[1mTotal params\u001b[0m: 109 M                                                                          \n",
       "\u001b[1mTotal estimated model params size (MB)\u001b[0m: 438                                                  \n"
      ]
     },
     "metadata": {},
     "output_type": "display_data"
    },
    {
     "data": {
      "application/vnd.jupyter.widget-view+json": {
       "model_id": "0e72143ae74e459493ffaebc30db8b9c",
       "version_major": 2,
       "version_minor": 0
      },
      "text/plain": [
       "Output()"
      ]
     },
     "metadata": {},
     "output_type": "display_data"
    },
    {
     "data": {
      "text/html": [
       "<pre style=\"white-space:pre;overflow-x:auto;line-height:normal;font-family:Menlo,'DejaVu Sans Mono',consolas,'Courier New',monospace\"><span style=\"color: #c0c0c0; text-decoration-color: #c0c0c0\">Epoch 0   </span> <span style=\"color: #6206e0; text-decoration-color: #6206e0\">━━━━━━━━━━━━━━━━━━━━━━━━━━━━━━</span> <span style=\"color: #c0c0c0; text-decoration-color: #c0c0c0\">2/2</span> <span style=\"color: #8a8a8a; text-decoration-color: #8a8a8a\">0:00:00 • 0:00:00</span> <span style=\"color: #b2b2b2; text-decoration-color: #b2b2b2\">3.44it/s</span> <span style=\"color: #c0c0c0; text-decoration-color: #c0c0c0\">loss: 0.675 v_num:  </span>\n",
       "</pre>\n"
      ],
      "text/plain": [
       "\u001b[37mEpoch 0   \u001b[0m \u001b[38;2;98;6;224m━━━━━━━━━━━━━━━━━━━━━━━━━━━━━━\u001b[0m \u001b[37m2/2\u001b[0m \u001b[38;5;245m0:00:00 • 0:00:00\u001b[0m \u001b[38;5;249m3.44it/s\u001b[0m \u001b[37mloss: 0.675 v_num:  \u001b[0m\n"
      ]
     },
     "metadata": {},
     "output_type": "display_data"
    },
    {
     "data": {
      "text/html": [
       "<pre style=\"white-space:pre;overflow-x:auto;line-height:normal;font-family:Menlo,'DejaVu Sans Mono',consolas,'Courier New',monospace\">\n",
       "</pre>\n"
      ],
      "text/plain": [
       "\n"
      ]
     },
     "metadata": {},
     "output_type": "display_data"
    },
    {
     "name": "stdout",
     "output_type": "stream",
     "text": [
      "★★★★★★★★★★★★★★★★★★★★★★★★★  Fold4  ★★★★★★★★★★★★★★★★★★★★★★★★★\n",
      "Use Model: GroNLP/hateBERT\n"
     ]
    },
    {
     "data": {
      "text/html": [
       "<pre style=\"white-space:pre;overflow-x:auto;line-height:normal;font-family:Menlo,'DejaVu Sans Mono',consolas,'Courier New',monospace\">┏━━━┳━━━━━━━━━━━━┳━━━━━━━━━━━━━━━━━┳━━━━━━━━┓\n",
       "┃<span style=\"color: #800080; text-decoration-color: #800080; font-weight: bold\">   </span>┃<span style=\"color: #800080; text-decoration-color: #800080; font-weight: bold\"> Name       </span>┃<span style=\"color: #800080; text-decoration-color: #800080; font-weight: bold\"> Type            </span>┃<span style=\"color: #800080; text-decoration-color: #800080; font-weight: bold\"> Params </span>┃\n",
       "┡━━━╇━━━━━━━━━━━━╇━━━━━━━━━━━━━━━━━╇━━━━━━━━┩\n",
       "│<span style=\"color: #7f7f7f; text-decoration-color: #7f7f7f\"> 0 </span>│ base_model │ BertForMaskedLM │  109 M │\n",
       "│<span style=\"color: #7f7f7f; text-decoration-color: #7f7f7f\"> 1 </span>│ norm       │ LayerNorm       │  1.5 K │\n",
       "│<span style=\"color: #7f7f7f; text-decoration-color: #7f7f7f\"> 2 </span>│ drop       │ Dropout         │      0 │\n",
       "│<span style=\"color: #7f7f7f; text-decoration-color: #7f7f7f\"> 3 </span>│ head       │ Linear          │  4.6 K │\n",
       "│<span style=\"color: #7f7f7f; text-decoration-color: #7f7f7f\"> 4 </span>│ criterion  │ MSELoss         │      0 │\n",
       "└───┴────────────┴─────────────────┴────────┘\n",
       "</pre>\n"
      ],
      "text/plain": [
       "┏━━━┳━━━━━━━━━━━━┳━━━━━━━━━━━━━━━━━┳━━━━━━━━┓\n",
       "┃\u001b[1;35m \u001b[0m\u001b[1;35m \u001b[0m\u001b[1;35m \u001b[0m┃\u001b[1;35m \u001b[0m\u001b[1;35mName      \u001b[0m\u001b[1;35m \u001b[0m┃\u001b[1;35m \u001b[0m\u001b[1;35mType           \u001b[0m\u001b[1;35m \u001b[0m┃\u001b[1;35m \u001b[0m\u001b[1;35mParams\u001b[0m\u001b[1;35m \u001b[0m┃\n",
       "┡━━━╇━━━━━━━━━━━━╇━━━━━━━━━━━━━━━━━╇━━━━━━━━┩\n",
       "│\u001b[2m \u001b[0m\u001b[2m0\u001b[0m\u001b[2m \u001b[0m│ base_model │ BertForMaskedLM │  109 M │\n",
       "│\u001b[2m \u001b[0m\u001b[2m1\u001b[0m\u001b[2m \u001b[0m│ norm       │ LayerNorm       │  1.5 K │\n",
       "│\u001b[2m \u001b[0m\u001b[2m2\u001b[0m\u001b[2m \u001b[0m│ drop       │ Dropout         │      0 │\n",
       "│\u001b[2m \u001b[0m\u001b[2m3\u001b[0m\u001b[2m \u001b[0m│ head       │ Linear          │  4.6 K │\n",
       "│\u001b[2m \u001b[0m\u001b[2m4\u001b[0m\u001b[2m \u001b[0m│ criterion  │ MSELoss         │      0 │\n",
       "└───┴────────────┴─────────────────┴────────┘\n"
      ]
     },
     "metadata": {},
     "output_type": "display_data"
    },
    {
     "data": {
      "text/html": [
       "<pre style=\"white-space:pre;overflow-x:auto;line-height:normal;font-family:Menlo,'DejaVu Sans Mono',consolas,'Courier New',monospace\"><span style=\"font-weight: bold\">Trainable params</span>: 109 M                                                                      \n",
       "<span style=\"font-weight: bold\">Non-trainable params</span>: 0                                                                      \n",
       "<span style=\"font-weight: bold\">Total params</span>: 109 M                                                                          \n",
       "<span style=\"font-weight: bold\">Total estimated model params size (MB)</span>: 438                                                  \n",
       "</pre>\n"
      ],
      "text/plain": [
       "\u001b[1mTrainable params\u001b[0m: 109 M                                                                      \n",
       "\u001b[1mNon-trainable params\u001b[0m: 0                                                                      \n",
       "\u001b[1mTotal params\u001b[0m: 109 M                                                                          \n",
       "\u001b[1mTotal estimated model params size (MB)\u001b[0m: 438                                                  \n"
      ]
     },
     "metadata": {},
     "output_type": "display_data"
    },
    {
     "data": {
      "application/vnd.jupyter.widget-view+json": {
       "model_id": "4025eab697364cfca23bd7377266cf1e",
       "version_major": 2,
       "version_minor": 0
      },
      "text/plain": [
       "Output()"
      ]
     },
     "metadata": {},
     "output_type": "display_data"
    },
    {
     "data": {
      "text/html": [
       "<pre style=\"white-space:pre;overflow-x:auto;line-height:normal;font-family:Menlo,'DejaVu Sans Mono',consolas,'Courier New',monospace\"><span style=\"color: #c0c0c0; text-decoration-color: #c0c0c0\">Epoch 0   </span> <span style=\"color: #6206e0; text-decoration-color: #6206e0\">━━━━━━━━━━━━━━━━━━━━━━━━━━━━━━</span> <span style=\"color: #c0c0c0; text-decoration-color: #c0c0c0\">2/2</span> <span style=\"color: #8a8a8a; text-decoration-color: #8a8a8a\">0:00:00 • 0:00:00</span> <span style=\"color: #b2b2b2; text-decoration-color: #b2b2b2\">3.10it/s</span> <span style=\"color: #c0c0c0; text-decoration-color: #c0c0c0\">loss: 0.581 v_num:  </span>\n",
       "</pre>\n"
      ],
      "text/plain": [
       "\u001b[37mEpoch 0   \u001b[0m \u001b[38;2;98;6;224m━━━━━━━━━━━━━━━━━━━━━━━━━━━━━━\u001b[0m \u001b[37m2/2\u001b[0m \u001b[38;5;245m0:00:00 • 0:00:00\u001b[0m \u001b[38;5;249m3.10it/s\u001b[0m \u001b[37mloss: 0.581 v_num:  \u001b[0m\n"
      ]
     },
     "metadata": {},
     "output_type": "display_data"
    },
    {
     "data": {
      "text/html": [
       "<pre style=\"white-space:pre;overflow-x:auto;line-height:normal;font-family:Menlo,'DejaVu Sans Mono',consolas,'Courier New',monospace\">\n",
       "</pre>\n"
      ],
      "text/plain": [
       "\n"
      ]
     },
     "metadata": {},
     "output_type": "display_data"
    },
    {
     "name": "stdout",
     "output_type": "stream",
     "text": [
      "★★★★★★★★★★★★★★★★★★★★★★★★★  Fold5  ★★★★★★★★★★★★★★★★★★★★★★★★★\n",
      "Use Model: GroNLP/hateBERT\n"
     ]
    },
    {
     "data": {
      "text/html": [
       "<pre style=\"white-space:pre;overflow-x:auto;line-height:normal;font-family:Menlo,'DejaVu Sans Mono',consolas,'Courier New',monospace\">┏━━━┳━━━━━━━━━━━━┳━━━━━━━━━━━━━━━━━┳━━━━━━━━┓\n",
       "┃<span style=\"color: #800080; text-decoration-color: #800080; font-weight: bold\">   </span>┃<span style=\"color: #800080; text-decoration-color: #800080; font-weight: bold\"> Name       </span>┃<span style=\"color: #800080; text-decoration-color: #800080; font-weight: bold\"> Type            </span>┃<span style=\"color: #800080; text-decoration-color: #800080; font-weight: bold\"> Params </span>┃\n",
       "┡━━━╇━━━━━━━━━━━━╇━━━━━━━━━━━━━━━━━╇━━━━━━━━┩\n",
       "│<span style=\"color: #7f7f7f; text-decoration-color: #7f7f7f\"> 0 </span>│ base_model │ BertForMaskedLM │  109 M │\n",
       "│<span style=\"color: #7f7f7f; text-decoration-color: #7f7f7f\"> 1 </span>│ norm       │ LayerNorm       │  1.5 K │\n",
       "│<span style=\"color: #7f7f7f; text-decoration-color: #7f7f7f\"> 2 </span>│ drop       │ Dropout         │      0 │\n",
       "│<span style=\"color: #7f7f7f; text-decoration-color: #7f7f7f\"> 3 </span>│ head       │ Linear          │  4.6 K │\n",
       "│<span style=\"color: #7f7f7f; text-decoration-color: #7f7f7f\"> 4 </span>│ criterion  │ MSELoss         │      0 │\n",
       "└───┴────────────┴─────────────────┴────────┘\n",
       "</pre>\n"
      ],
      "text/plain": [
       "┏━━━┳━━━━━━━━━━━━┳━━━━━━━━━━━━━━━━━┳━━━━━━━━┓\n",
       "┃\u001b[1;35m \u001b[0m\u001b[1;35m \u001b[0m\u001b[1;35m \u001b[0m┃\u001b[1;35m \u001b[0m\u001b[1;35mName      \u001b[0m\u001b[1;35m \u001b[0m┃\u001b[1;35m \u001b[0m\u001b[1;35mType           \u001b[0m\u001b[1;35m \u001b[0m┃\u001b[1;35m \u001b[0m\u001b[1;35mParams\u001b[0m\u001b[1;35m \u001b[0m┃\n",
       "┡━━━╇━━━━━━━━━━━━╇━━━━━━━━━━━━━━━━━╇━━━━━━━━┩\n",
       "│\u001b[2m \u001b[0m\u001b[2m0\u001b[0m\u001b[2m \u001b[0m│ base_model │ BertForMaskedLM │  109 M │\n",
       "│\u001b[2m \u001b[0m\u001b[2m1\u001b[0m\u001b[2m \u001b[0m│ norm       │ LayerNorm       │  1.5 K │\n",
       "│\u001b[2m \u001b[0m\u001b[2m2\u001b[0m\u001b[2m \u001b[0m│ drop       │ Dropout         │      0 │\n",
       "│\u001b[2m \u001b[0m\u001b[2m3\u001b[0m\u001b[2m \u001b[0m│ head       │ Linear          │  4.6 K │\n",
       "│\u001b[2m \u001b[0m\u001b[2m4\u001b[0m\u001b[2m \u001b[0m│ criterion  │ MSELoss         │      0 │\n",
       "└───┴────────────┴─────────────────┴────────┘\n"
      ]
     },
     "metadata": {},
     "output_type": "display_data"
    },
    {
     "data": {
      "text/html": [
       "<pre style=\"white-space:pre;overflow-x:auto;line-height:normal;font-family:Menlo,'DejaVu Sans Mono',consolas,'Courier New',monospace\"><span style=\"font-weight: bold\">Trainable params</span>: 109 M                                                                      \n",
       "<span style=\"font-weight: bold\">Non-trainable params</span>: 0                                                                      \n",
       "<span style=\"font-weight: bold\">Total params</span>: 109 M                                                                          \n",
       "<span style=\"font-weight: bold\">Total estimated model params size (MB)</span>: 438                                                  \n",
       "</pre>\n"
      ],
      "text/plain": [
       "\u001b[1mTrainable params\u001b[0m: 109 M                                                                      \n",
       "\u001b[1mNon-trainable params\u001b[0m: 0                                                                      \n",
       "\u001b[1mTotal params\u001b[0m: 109 M                                                                          \n",
       "\u001b[1mTotal estimated model params size (MB)\u001b[0m: 438                                                  \n"
      ]
     },
     "metadata": {},
     "output_type": "display_data"
    },
    {
     "data": {
      "application/vnd.jupyter.widget-view+json": {
       "model_id": "f5c48adca21f4171951afb28940f26e7",
       "version_major": 2,
       "version_minor": 0
      },
      "text/plain": [
       "Output()"
      ]
     },
     "metadata": {},
     "output_type": "display_data"
    },
    {
     "data": {
      "text/html": [
       "<pre style=\"white-space:pre;overflow-x:auto;line-height:normal;font-family:Menlo,'DejaVu Sans Mono',consolas,'Courier New',monospace\"><span style=\"color: #c0c0c0; text-decoration-color: #c0c0c0\">Epoch 0   </span> <span style=\"color: #6206e0; text-decoration-color: #6206e0\">━━━━━━━━━━━━━━━━━━━━━━━━━━━━━━</span> <span style=\"color: #c0c0c0; text-decoration-color: #c0c0c0\">2/2</span> <span style=\"color: #8a8a8a; text-decoration-color: #8a8a8a\">0:00:00 • 0:00:00</span> <span style=\"color: #b2b2b2; text-decoration-color: #b2b2b2\">2.85it/s</span> <span style=\"color: #c0c0c0; text-decoration-color: #c0c0c0\">loss: 0.769 v_num:  </span>\n",
       "</pre>\n"
      ],
      "text/plain": [
       "\u001b[37mEpoch 0   \u001b[0m \u001b[38;2;98;6;224m━━━━━━━━━━━━━━━━━━━━━━━━━━━━━━\u001b[0m \u001b[37m2/2\u001b[0m \u001b[38;5;245m0:00:00 • 0:00:00\u001b[0m \u001b[38;5;249m2.85it/s\u001b[0m \u001b[37mloss: 0.769 v_num:  \u001b[0m\n"
      ]
     },
     "metadata": {},
     "output_type": "display_data"
    },
    {
     "data": {
      "text/html": [
       "<pre style=\"white-space:pre;overflow-x:auto;line-height:normal;font-family:Menlo,'DejaVu Sans Mono',consolas,'Courier New',monospace\">\n",
       "</pre>\n"
      ],
      "text/plain": [
       "\n"
      ]
     },
     "metadata": {},
     "output_type": "display_data"
    }
   ],
   "source": [
    "## Debug\n",
    "config.trainer.fast_dev_run = True\n",
    "config.backbone.output_dim = len(target_cols)\n",
    "\n",
    "for fold in config.train_fold:\n",
    "    \n",
    "    print(\"★\"*25, f\" Fold{fold+1} \", \"★\"*25)\n",
    "\n",
    "    df_train = train_df[train_df.kfold != fold].reset_index(drop=True)\n",
    "\n",
    "    datamodule = JigsawDataModule(df_train, val_df, test_df, config)\n",
    "    sample_dataloader = JigsawDataModule(df_train, val_df, test_df, config).train_dataloader()\n",
    "\n",
    "    config.scheduler.params.T_0 = config.epoch * len(sample_dataloader)\n",
    "    model = JigsawModel(config, fold)\n",
    "    lr_monitor = callbacks.LearningRateMonitor()\n",
    "\n",
    "    loss_checkpoint = callbacks.ModelCheckpoint(\n",
    "        filename=f\"best_acc_fold{fold+1}\",\n",
    "        monitor=f\"valid_acc/fold{fold+1}\",\n",
    "        save_top_k=1,\n",
    "        mode=\"max\",\n",
    "        save_last=False,\n",
    "        dirpath=MODEL_DIR,\n",
    "        save_weights_only=True,\n",
    "    )\n",
    "\n",
    "    wandb_logger = WandbLogger(\n",
    "        project=config.project, \n",
    "        entity=config.entity,\n",
    "        name = f\"{config.exp_name}\",\n",
    "        tags = ['Hate-BERT', \"Jigsaw-Classification\"]\n",
    "    )\n",
    "\n",
    "    lr_monitor = LearningRateMonitor(logging_interval='step')\n",
    "\n",
    "    trainer = pl.Trainer(\n",
    "        max_epochs=config.epoch,\n",
    "        callbacks=[loss_checkpoint, lr_monitor, RichProgressBar()],\n",
    "#         deterministic=True,\n",
    "        logger=[wandb_logger],\n",
    "        **config.trainer\n",
    "    )\n",
    "    trainer.fit(model, datamodule=datamodule)"
   ]
  },
  {
   "cell_type": "code",
   "execution_count": null,
   "id": "80052712",
   "metadata": {},
   "outputs": [
    {
     "name": "stdout",
     "output_type": "stream",
     "text": [
      "★★★★★★★★★★★★★★★★★★★★★★★★★  Fold1  ★★★★★★★★★★★★★★★★★★★★★★★★★\n",
      "Use Model: GroNLP/hateBERT\n"
     ]
    },
    {
     "name": "stderr",
     "output_type": "stream",
     "text": [
      "\u001b[34m\u001b[1mwandb\u001b[0m: Currently logged in as: \u001b[33mdataskywalker\u001b[0m (use `wandb login --relogin` to force relogin)\n",
      "\u001b[34m\u001b[1mwandb\u001b[0m: wandb version 0.12.9 is available!  To upgrade, please run:\n",
      "\u001b[34m\u001b[1mwandb\u001b[0m:  $ pip install wandb --upgrade\n",
      "2022-01-27 09:12:16.260800: I tensorflow/stream_executor/platform/default/dso_loader.cc:49] Successfully opened dynamic library libcudart.so.11.0\n",
      "fatal: ambiguous argument 'HEAD': unknown revision or path not in the working tree.\n",
      "Use '--' to separate paths from revisions, like this:\n",
      "'git <command> [<revision>...] -- [<file>...]'\n",
      "\n",
      "CondaEnvException: Unable to determine environment\n",
      "\n",
      "Please re-run this command with one of the following options:\n",
      "\n",
      "* Provide an environment name via --name or -n\n",
      "* Re-run this command inside an activated conda environment.\n",
      "\n"
     ]
    },
    {
     "data": {
      "text/html": [
       "\n",
       "                Tracking run with wandb version 0.11.2<br/>\n",
       "                Syncing run <strong style=\"color:#cdcd00\">032_exp</strong> to <a href=\"https://wandb.ai\" target=\"_blank\">Weights & Biases</a> <a href=\"https://docs.wandb.com/integrations/jupyter.html\" target=\"_blank\">(Documentation)</a>.<br/>\n",
       "                Project page: <a href=\"https://wandb.ai/dataskywalker/Jigsaw\" target=\"_blank\">https://wandb.ai/dataskywalker/Jigsaw</a><br/>\n",
       "                Run page: <a href=\"https://wandb.ai/dataskywalker/Jigsaw/runs/35fa3ll7\" target=\"_blank\">https://wandb.ai/dataskywalker/Jigsaw/runs/35fa3ll7</a><br/>\n",
       "                Run data is saved locally in <code>/mnt/work/shimizu/kaggle/Jigsaw/notebooks/wandb/run-20220127_091213-35fa3ll7</code><br/><br/>\n",
       "            "
      ],
      "text/plain": [
       "<IPython.core.display.HTML object>"
      ]
     },
     "metadata": {},
     "output_type": "display_data"
    },
    {
     "data": {
      "text/html": [
       "<pre style=\"white-space:pre;overflow-x:auto;line-height:normal;font-family:Menlo,'DejaVu Sans Mono',consolas,'Courier New',monospace\">┏━━━┳━━━━━━━━━━━━┳━━━━━━━━━━━━━━━━━┳━━━━━━━━┓\n",
       "┃<span style=\"color: #800080; text-decoration-color: #800080; font-weight: bold\">   </span>┃<span style=\"color: #800080; text-decoration-color: #800080; font-weight: bold\"> Name       </span>┃<span style=\"color: #800080; text-decoration-color: #800080; font-weight: bold\"> Type            </span>┃<span style=\"color: #800080; text-decoration-color: #800080; font-weight: bold\"> Params </span>┃\n",
       "┡━━━╇━━━━━━━━━━━━╇━━━━━━━━━━━━━━━━━╇━━━━━━━━┩\n",
       "│<span style=\"color: #7f7f7f; text-decoration-color: #7f7f7f\"> 0 </span>│ base_model │ BertForMaskedLM │  109 M │\n",
       "│<span style=\"color: #7f7f7f; text-decoration-color: #7f7f7f\"> 1 </span>│ norm       │ LayerNorm       │  1.5 K │\n",
       "│<span style=\"color: #7f7f7f; text-decoration-color: #7f7f7f\"> 2 </span>│ drop       │ Dropout         │      0 │\n",
       "│<span style=\"color: #7f7f7f; text-decoration-color: #7f7f7f\"> 3 </span>│ head       │ Linear          │  4.6 K │\n",
       "│<span style=\"color: #7f7f7f; text-decoration-color: #7f7f7f\"> 4 </span>│ criterion  │ MSELoss         │      0 │\n",
       "└───┴────────────┴─────────────────┴────────┘\n",
       "</pre>\n"
      ],
      "text/plain": [
       "┏━━━┳━━━━━━━━━━━━┳━━━━━━━━━━━━━━━━━┳━━━━━━━━┓\n",
       "┃\u001b[1;35m \u001b[0m\u001b[1;35m \u001b[0m\u001b[1;35m \u001b[0m┃\u001b[1;35m \u001b[0m\u001b[1;35mName      \u001b[0m\u001b[1;35m \u001b[0m┃\u001b[1;35m \u001b[0m\u001b[1;35mType           \u001b[0m\u001b[1;35m \u001b[0m┃\u001b[1;35m \u001b[0m\u001b[1;35mParams\u001b[0m\u001b[1;35m \u001b[0m┃\n",
       "┡━━━╇━━━━━━━━━━━━╇━━━━━━━━━━━━━━━━━╇━━━━━━━━┩\n",
       "│\u001b[2m \u001b[0m\u001b[2m0\u001b[0m\u001b[2m \u001b[0m│ base_model │ BertForMaskedLM │  109 M │\n",
       "│\u001b[2m \u001b[0m\u001b[2m1\u001b[0m\u001b[2m \u001b[0m│ norm       │ LayerNorm       │  1.5 K │\n",
       "│\u001b[2m \u001b[0m\u001b[2m2\u001b[0m\u001b[2m \u001b[0m│ drop       │ Dropout         │      0 │\n",
       "│\u001b[2m \u001b[0m\u001b[2m3\u001b[0m\u001b[2m \u001b[0m│ head       │ Linear          │  4.6 K │\n",
       "│\u001b[2m \u001b[0m\u001b[2m4\u001b[0m\u001b[2m \u001b[0m│ criterion  │ MSELoss         │      0 │\n",
       "└───┴────────────┴─────────────────┴────────┘\n"
      ]
     },
     "metadata": {},
     "output_type": "display_data"
    },
    {
     "data": {
      "text/html": [
       "<pre style=\"white-space:pre;overflow-x:auto;line-height:normal;font-family:Menlo,'DejaVu Sans Mono',consolas,'Courier New',monospace\"><span style=\"font-weight: bold\">Trainable params</span>: 109 M                                                                      \n",
       "<span style=\"font-weight: bold\">Non-trainable params</span>: 0                                                                      \n",
       "<span style=\"font-weight: bold\">Total params</span>: 109 M                                                                          \n",
       "<span style=\"font-weight: bold\">Total estimated model params size (MB)</span>: 438                                                  \n",
       "</pre>\n"
      ],
      "text/plain": [
       "\u001b[1mTrainable params\u001b[0m: 109 M                                                                      \n",
       "\u001b[1mNon-trainable params\u001b[0m: 0                                                                      \n",
       "\u001b[1mTotal params\u001b[0m: 109 M                                                                          \n",
       "\u001b[1mTotal estimated model params size (MB)\u001b[0m: 438                                                  \n"
      ]
     },
     "metadata": {},
     "output_type": "display_data"
    },
    {
     "data": {
      "application/vnd.jupyter.widget-view+json": {
       "model_id": "115c253740bf4b2d898f8fbf5ff9aff9",
       "version_major": 2,
       "version_minor": 0
      },
      "text/plain": [
       "Output()"
      ]
     },
     "metadata": {},
     "output_type": "display_data"
    }
   ],
   "source": [
    "## Training\n",
    "config.trainer.fast_dev_run = False\n",
    "config.backbone.output_dim = len(target_cols)\n",
    "\n",
    "for fold in config.train_fold:\n",
    "    \n",
    "    print(\"★\"*25, f\" Fold{fold+1} \", \"★\"*25)\n",
    "\n",
    "    df_train = train_df[train_df.kfold != fold].reset_index(drop=True)\n",
    "\n",
    "    datamodule = JigsawDataModule(df_train, val_df, test_df, config)\n",
    "    sample_dataloader = JigsawDataModule(df_train, val_df, test_df, config).train_dataloader()\n",
    "\n",
    "    config.scheduler.params.T_0 = config.epoch * len(sample_dataloader)\n",
    "    model = JigsawModel(config, fold)\n",
    "    lr_monitor = callbacks.LearningRateMonitor()\n",
    "\n",
    "    loss_checkpoint = callbacks.ModelCheckpoint(\n",
    "        filename=f\"best_acc_fold{fold+1}\",\n",
    "        monitor=f\"valid_acc/fold{fold+1}\",\n",
    "        save_top_k=1,\n",
    "        mode=\"max\",\n",
    "        save_last=False,\n",
    "        dirpath=MODEL_DIR,\n",
    "        save_weights_only=True,\n",
    "    )\n",
    "\n",
    "    wandb_logger = WandbLogger(\n",
    "        project=config.project, \n",
    "        entity=config.entity,\n",
    "        name = f\"{config.exp_name}\",\n",
    "        tags = ['Hate-BERT', \"Jigsaw-Classification\"]\n",
    "    )\n",
    "\n",
    "    lr_monitor = LearningRateMonitor(logging_interval='step')\n",
    "\n",
    "    trainer = pl.Trainer(\n",
    "        max_epochs=config.epoch,\n",
    "        callbacks=[loss_checkpoint, lr_monitor, RichProgressBar()],\n",
    "#         deterministic=True,\n",
    "        logger=[wandb_logger],\n",
    "        **config.trainer\n",
    "    )\n",
    "    trainer.fit(model, datamodule=datamodule)"
   ]
  },
  {
   "cell_type": "code",
   "execution_count": 54,
   "id": "29d9f9d8",
   "metadata": {},
   "outputs": [
    {
     "name": "stdout",
     "output_type": "stream",
     "text": [
      "Device == cuda\n",
      "★★★★★★★★★★★★★★★★★★★★★★★★★  Fold1  ★★★★★★★★★★★★★★★★★★★★★★★★★\n",
      "Use Model: GroNLP/hateBERT\n",
      "Use Model: GroNLP/hateBERT\n"
     ]
    },
    {
     "data": {
      "application/vnd.jupyter.widget-view+json": {
       "model_id": "7b879e4a291845ec83f0a55e2e787739",
       "version_major": 2,
       "version_minor": 0
      },
      "text/plain": [
       "  0%|          | 0/3764 [00:00<?, ?it/s]"
      ]
     },
     "metadata": {},
     "output_type": "display_data"
    },
    {
     "name": "stdout",
     "output_type": "stream",
     "text": [
      "★★★★★★★★★★★★★★★★★★★★★★★★★  Fold2  ★★★★★★★★★★★★★★★★★★★★★★★★★\n",
      "Use Model: GroNLP/hateBERT\n",
      "Use Model: GroNLP/hateBERT\n"
     ]
    },
    {
     "data": {
      "application/vnd.jupyter.widget-view+json": {
       "model_id": "5fde0d8a52574f5b951ab7afa7591be7",
       "version_major": 2,
       "version_minor": 0
      },
      "text/plain": [
       "  0%|          | 0/3764 [00:00<?, ?it/s]"
      ]
     },
     "metadata": {},
     "output_type": "display_data"
    },
    {
     "name": "stdout",
     "output_type": "stream",
     "text": [
      "★★★★★★★★★★★★★★★★★★★★★★★★★  Fold3  ★★★★★★★★★★★★★★★★★★★★★★★★★\n",
      "Use Model: GroNLP/hateBERT\n",
      "Use Model: GroNLP/hateBERT\n"
     ]
    },
    {
     "data": {
      "application/vnd.jupyter.widget-view+json": {
       "model_id": "1b2c0605560a4297b0679ef083f8cc27",
       "version_major": 2,
       "version_minor": 0
      },
      "text/plain": [
       "  0%|          | 0/3764 [00:00<?, ?it/s]"
      ]
     },
     "metadata": {},
     "output_type": "display_data"
    },
    {
     "name": "stdout",
     "output_type": "stream",
     "text": [
      "★★★★★★★★★★★★★★★★★★★★★★★★★  Fold4  ★★★★★★★★★★★★★★★★★★★★★★★★★\n",
      "Use Model: GroNLP/hateBERT\n",
      "Use Model: GroNLP/hateBERT\n"
     ]
    },
    {
     "data": {
      "application/vnd.jupyter.widget-view+json": {
       "model_id": "732e89e950154ab1bd7bc7e9d79247de",
       "version_major": 2,
       "version_minor": 0
      },
      "text/plain": [
       "  0%|          | 0/3764 [00:00<?, ?it/s]"
      ]
     },
     "metadata": {},
     "output_type": "display_data"
    },
    {
     "name": "stdout",
     "output_type": "stream",
     "text": [
      "★★★★★★★★★★★★★★★★★★★★★★★★★  Fold5  ★★★★★★★★★★★★★★★★★★★★★★★★★\n",
      "Use Model: GroNLP/hateBERT\n",
      "Use Model: GroNLP/hateBERT\n"
     ]
    },
    {
     "data": {
      "application/vnd.jupyter.widget-view+json": {
       "model_id": "4b2924b19c9443aa938a6a278ba83d6c",
       "version_major": 2,
       "version_minor": 0
      },
      "text/plain": [
       "  0%|          | 0/3764 [00:00<?, ?it/s]"
      ]
     },
     "metadata": {},
     "output_type": "display_data"
    }
   ],
   "source": [
    "device = torch.device('cuda' if torch.cuda.is_available() else 'cpu')\n",
    "config.backbone.output_dim = len(target_cols)\n",
    "\n",
    "print(f\"Device == {device}\")\n",
    "\n",
    "MORE = np.zeros((len(val_df), config.backbone.output_dim))\n",
    "LESS = np.zeros((len(val_df), config.backbone.output_dim))\n",
    "PRED = np.zeros((len(test_df), config.backbone.output_dim))\n",
    "\n",
    "attention_array = np.zeros((len(val_df), 256)) # attention格納\n",
    "mask_array = np.zeros((len(val_df), 256)) # mask情報格納,後でattentionと掛け合わせる\n",
    "\n",
    "for fold in config.train_fold:\n",
    "\n",
    "    pred_list = []\n",
    "    print(\"★\"*25, f\" Fold{fold+1} \", \"★\"*25)\n",
    "\n",
    "    valid_dataloader = JigsawDataModule(train_df, val_df, test_df, config).val_dataloader()\n",
    "    model = JigsawModel(config, fold)\n",
    "\n",
    "    loss_checkpoint = callbacks.ModelCheckpoint(\n",
    "        filename=f\"best_acc_fold{fold+1}\",\n",
    "        monitor=f\"valid_acc/fold{fold+1}\",\n",
    "        save_top_k=1,\n",
    "        mode=\"max\",\n",
    "        save_last=False,\n",
    "        dirpath=\"../input/toxicroberta/\",\n",
    "    )\n",
    "    model = model.load_from_checkpoint(MODEL_DIR/f\"best_acc_fold{fold+1}.ckpt\", cfg=config, fold_num=fold)\n",
    "    model.to(device)\n",
    "    model.eval()\n",
    "    \n",
    "    more_list = []\n",
    "    less_list = []\n",
    "    \n",
    "    for step, data in tqdm(enumerate(valid_dataloader), total=len(valid_dataloader)):\n",
    "\n",
    "        more_toxic_ids = data['more_toxic_ids'].to(device)\n",
    "        more_toxic_mask = data['more_toxic_mask'].to(device)\n",
    "        more_text_token_type_ids = data['more_token_type_ids'].to(device)\n",
    "        \n",
    "        less_toxic_ids = data['less_toxic_ids'].to(device)\n",
    "        less_toxic_mask = data['less_toxic_mask'].to(device)\n",
    "        less_text_token_type_ids = data['less_token_type_ids'].to(device)\n",
    "        \n",
    "        more_outputs = model(\n",
    "            more_toxic_ids, \n",
    "            more_toxic_mask,\n",
    "            more_text_token_type_ids,\n",
    "        )\n",
    "        \n",
    "        less_outputs = model(\n",
    "            less_toxic_ids, \n",
    "            less_toxic_mask,\n",
    "            less_text_token_type_ids\n",
    "        )\n",
    "        \n",
    "        more_list.append(more_outputs[\"logits\"].detach().cpu().numpy())\n",
    "        less_list.append(less_outputs[\"logits\"].detach().cpu().numpy())\n",
    "\n",
    "    MORE += np.concatenate(more_list)/len(config.train_fold)\n",
    "    LESS += np.concatenate(less_list)/len(config.train_fold)\n",
    "#     PRED += pred_list/len(config.train_fold)"
   ]
  },
  {
   "cell_type": "code",
   "execution_count": 55,
   "id": "4ab7f8fe",
   "metadata": {},
   "outputs": [
    {
     "data": {
      "image/png": "[encoded data removed]",
      "text/plain": [
       "<Figure size 864x360 with 1 Axes>"
      ]
     },
     "metadata": {
      "needs_background": "light"
     },
     "output_type": "display_data"
    }
   ],
   "source": [
    "plt.figure(figsize=(12, 5))\n",
    "plt.scatter(LESS, MORE)\n",
    "plt.xlabel(\"less-toxic\")\n",
    "plt.ylabel(\"more-toxic\")\n",
    "plt.grid()\n",
    "plt.show()"
   ]
  },
  {
   "cell_type": "code",
   "execution_count": 56,
   "id": "3d82c774",
   "metadata": {},
   "outputs": [
    {
     "name": "stdout",
     "output_type": "stream",
     "text": [
      "Wiki Attack Score: 0.626345\n"
     ]
    }
   ],
   "source": [
    "val_df[\"less_attack\"] = LESS.sum(axis=1)\n",
    "val_df[\"more_attack\"] = MORE.sum(axis=1)\n",
    "val_df[\"diff_attack\"] = val_df[\"more_attack\"] - val_df[\"less_attack\"]\n",
    "attack_score = val_df[val_df[\"diff_attack\"]>0][\"diff_attack\"].count()/len(val_df)\n",
    "print(f\"Wiki Attack Score: {attack_score:.6f}\")"
   ]
  },
  {
   "cell_type": "markdown",
   "id": "283f3fa9",
   "metadata": {},
   "source": [
    "<br>\n",
    "<h2 style = \"font-size:45px;\n",
    "             font-family:Comic Sans MS ;\n",
    "             font-weight : normal;\n",
    "             background-color: #eeebf1 ;\n",
    "             color : #4c1c84;\n",
    "             text-align: center; \n",
    "             border-radius: 100px 100px;\">\n",
    "    Attention Visualize\n",
    "</h2>\n",
    "<br>"
   ]
  },
  {
   "cell_type": "code",
   "execution_count": 57,
   "id": "c0acd57f",
   "metadata": {},
   "outputs": [
    {
     "data": {
      "text/html": [
       "<div>\n",
       "<style scoped>\n",
       "    .dataframe tbody tr th:only-of-type {\n",
       "        vertical-align: middle;\n",
       "    }\n",
       "\n",
       "    .dataframe tbody tr th {\n",
       "        vertical-align: top;\n",
       "    }\n",
       "\n",
       "    .dataframe thead th {\n",
       "        text-align: right;\n",
       "    }\n",
       "</style>\n",
       "<table border=\"1\" class=\"dataframe\">\n",
       "  <thead>\n",
       "    <tr style=\"text-align: right;\">\n",
       "      <th></th>\n",
       "      <th>text</th>\n",
       "    </tr>\n",
       "  </thead>\n",
       "  <tbody>\n",
       "    <tr>\n",
       "      <th>0</th>\n",
       "      <td>FUCK \\n\\nWhy hasn't anyone included this info...</td>\n",
       "    </tr>\n",
       "    <tr>\n",
       "      <th>1</th>\n",
       "      <td>Come on, we've had enough of your fanatical ex...</td>\n",
       "    </tr>\n",
       "    <tr>\n",
       "      <th>2</th>\n",
       "      <td>MONGO is a homosexual crybaby!</td>\n",
       "    </tr>\n",
       "    <tr>\n",
       "      <th>3</th>\n",
       "      <td>The black album is certainly not thrash, nor a...</td>\n",
       "    </tr>\n",
       "    <tr>\n",
       "      <th>4</th>\n",
       "      <td>The statement about which you were bitching</td>\n",
       "    </tr>\n",
       "  </tbody>\n",
       "</table>\n",
       "</div>"
      ],
      "text/plain": [
       "                                                text\n",
       "0   FUCK \\n\\nWhy hasn't anyone included this info...\n",
       "1  Come on, we've had enough of your fanatical ex...\n",
       "2                     MONGO is a homosexual crybaby!\n",
       "3  The black album is certainly not thrash, nor a...\n",
       "4        The statement about which you were bitching"
      ]
     },
     "metadata": {},
     "output_type": "display_data"
    },
    {
     "data": {
      "text/plain": [
       "(14251, 1)"
      ]
     },
     "metadata": {},
     "output_type": "display_data"
    }
   ],
   "source": [
    "text_df = pd.DataFrame()\n",
    "text_df[\"text\"] = list(set(val_df[\"less_toxic\"].unique().tolist() + val_df[\"more_toxic\"].unique().tolist()))\n",
    "\n",
    "display(text_df.head())\n",
    "display(text_df.shape)"
   ]
  },
  {
   "cell_type": "code",
   "execution_count": 58,
   "id": "926843b7",
   "metadata": {},
   "outputs": [
    {
     "name": "stdout",
     "output_type": "stream",
     "text": [
      "Device == cuda\n",
      "★★★★★★★★★★★★★★★★★★★★★★★★★  Fold1  ★★★★★★★★★★★★★★★★★★★★★★★★★\n",
      "Use Model: GroNLP/hateBERT\n",
      "Use Model: GroNLP/hateBERT\n"
     ]
    },
    {
     "data": {
      "application/vnd.jupyter.widget-view+json": {
       "model_id": "62209713472045b3aeb3f10581a7324c",
       "version_major": 2,
       "version_minor": 0
      },
      "text/plain": [
       "  0%|          | 0/1782 [00:00<?, ?it/s]"
      ]
     },
     "metadata": {},
     "output_type": "display_data"
    },
    {
     "name": "stdout",
     "output_type": "stream",
     "text": [
      "★★★★★★★★★★★★★★★★★★★★★★★★★  Fold2  ★★★★★★★★★★★★★★★★★★★★★★★★★\n",
      "Use Model: GroNLP/hateBERT\n",
      "Use Model: GroNLP/hateBERT\n"
     ]
    },
    {
     "data": {
      "application/vnd.jupyter.widget-view+json": {
       "model_id": "a2dc4dd9b79c4e379cabb59f94a5397f",
       "version_major": 2,
       "version_minor": 0
      },
      "text/plain": [
       "  0%|          | 0/1782 [00:00<?, ?it/s]"
      ]
     },
     "metadata": {},
     "output_type": "display_data"
    },
    {
     "name": "stdout",
     "output_type": "stream",
     "text": [
      "★★★★★★★★★★★★★★★★★★★★★★★★★  Fold3  ★★★★★★★★★★★★★★★★★★★★★★★★★\n",
      "Use Model: GroNLP/hateBERT\n",
      "Use Model: GroNLP/hateBERT\n"
     ]
    },
    {
     "data": {
      "application/vnd.jupyter.widget-view+json": {
       "model_id": "75cd09f3efeb437b97a919bb4c3ad7b4",
       "version_major": 2,
       "version_minor": 0
      },
      "text/plain": [
       "  0%|          | 0/1782 [00:00<?, ?it/s]"
      ]
     },
     "metadata": {},
     "output_type": "display_data"
    },
    {
     "name": "stdout",
     "output_type": "stream",
     "text": [
      "★★★★★★★★★★★★★★★★★★★★★★★★★  Fold4  ★★★★★★★★★★★★★★★★★★★★★★★★★\n",
      "Use Model: GroNLP/hateBERT\n",
      "Use Model: GroNLP/hateBERT\n"
     ]
    },
    {
     "data": {
      "application/vnd.jupyter.widget-view+json": {
       "model_id": "c8a3c2446f224643af6b8581ed5287a9",
       "version_major": 2,
       "version_minor": 0
      },
      "text/plain": [
       "  0%|          | 0/1782 [00:00<?, ?it/s]"
      ]
     },
     "metadata": {},
     "output_type": "display_data"
    },
    {
     "name": "stdout",
     "output_type": "stream",
     "text": [
      "★★★★★★★★★★★★★★★★★★★★★★★★★  Fold5  ★★★★★★★★★★★★★★★★★★★★★★★★★\n",
      "Use Model: GroNLP/hateBERT\n",
      "Use Model: GroNLP/hateBERT\n"
     ]
    },
    {
     "data": {
      "application/vnd.jupyter.widget-view+json": {
       "model_id": "2f8bc28dd1764973943da512958f74c4",
       "version_major": 2,
       "version_minor": 0
      },
      "text/plain": [
       "  0%|          | 0/1782 [00:00<?, ?it/s]"
      ]
     },
     "metadata": {},
     "output_type": "display_data"
    }
   ],
   "source": [
    "device = torch.device('cuda' if torch.cuda.is_available() else 'cpu')\n",
    "config.backbone.output_dim = len(target_cols)\n",
    "\n",
    "print(f\"Device == {device}\")\n",
    "\n",
    "attention_array = np.zeros((len(text_df), config.max_length)) # attention格納\n",
    "mask_array = np.zeros((len(text_df), config.max_length)) # mask情報格納,後でattentionと掛け合わせる\n",
    "feature_array = np.zeros((len(text_df), 768))\n",
    "PRED = np.zeros((len(text_df), config.backbone.output_dim))\n",
    "\n",
    "for fold in config.train_fold:\n",
    "\n",
    "    pred_list = []\n",
    "    print(\"★\"*25, f\" Fold{fold+1} \", \"★\"*25)\n",
    "\n",
    "    test_dataloader = JigsawDataModule(train_df, val_df, text_df, config).test_dataloader()\n",
    "    model = JigsawModel(config, fold)\n",
    "\n",
    "    loss_checkpoint = callbacks.ModelCheckpoint(\n",
    "        filename=f\"best_acc_fold{fold+1}\",\n",
    "        monitor=f\"valid_acc/fold{fold+1}\",\n",
    "        save_top_k=1,\n",
    "        mode=\"max\",\n",
    "        save_last=False,\n",
    "        dirpath=\"../input/toxicroberta/\",\n",
    "    )\n",
    "    model = model.load_from_checkpoint(MODEL_DIR/f\"best_acc_fold{fold+1}.ckpt\", cfg=config, fold_num=fold)\n",
    "    model.to(device)\n",
    "    model.eval()\n",
    "    \n",
    "    attention_list = []\n",
    "    feature_list = []\n",
    "    mask_list = []\n",
    "    pred_list = []\n",
    "    \n",
    "    for step, data in tqdm(enumerate(test_dataloader), total=len(test_dataloader)):\n",
    "\n",
    "        text_ids = data[\"text_ids\"].to(device)\n",
    "        text_mask = data[\"text_mask\"].to(device)\n",
    "        text_token_type_ids = data[\"text_token_type_ids\"].to(device)\n",
    "        \n",
    "        mask_list.append(text_mask.detach().cpu().numpy())\n",
    "            \n",
    "        outputs = model(\n",
    "            text_ids, \n",
    "            text_mask,\n",
    "            text_token_type_ids,\n",
    "        )\n",
    "        \n",
    "        ## Last LayerのCLS Tokenに対するAttention\n",
    "        last_attention = outputs[\"attention\"][-1].detach().cpu().numpy()\n",
    "        total_attention = np.zeros((last_attention.shape[0], config.max_length))\n",
    "        \n",
    "        for batch in range(last_attention.shape[0]):\n",
    "            for n_head in range(12):\n",
    "                total_attention[batch, :] += last_attention[batch, n_head, 0, :]\n",
    "                \n",
    "        attention_list.append(total_attention)\n",
    "        pred_list.append(outputs[\"logits\"].detach().cpu().numpy())\n",
    "        feature_list.append(outputs[\"feature\"].detach().cpu().numpy())\n",
    "\n",
    "    attention_array += np.concatenate(attention_list)/config.n_fold\n",
    "    mask_array += np.concatenate(mask_list)/config.n_fold\n",
    "    feature_array += np.concatenate(feature_list)/config.n_fold\n",
    "    PRED += np.concatenate(pred_list)/len(config.train_fold)\n",
    "    \n",
    "    "
   ]
  },
  {
   "cell_type": "code",
   "execution_count": 59,
   "id": "373528d5",
   "metadata": {},
   "outputs": [],
   "source": [
    "text_df[\"target\"] = PRED[:, 0]\n",
    "text_df.to_pickle(OUTPUT_DIR/\"text_df.pkl\")\n",
    "np.save(OUTPUT_DIR/'toxic-attention.npy', attention_array)\n",
    "np.save(OUTPUT_DIR/'toxic-mask.npy', mask_array)\n",
    "np.save(OUTPUT_DIR/'toxic-feature.npy', feature_array)"
   ]
  },
  {
   "cell_type": "code",
   "execution_count": 60,
   "id": "f8778fba",
   "metadata": {},
   "outputs": [
    {
     "data": {
      "image/png": "[encoded data removed]",
      "text/plain": [
       "<Figure size 864x360 with 1 Axes>"
      ]
     },
     "metadata": {
      "needs_background": "light"
     },
     "output_type": "display_data"
    }
   ],
   "source": [
    "plt.figure(figsize=(12, 5))\n",
    "sns.histplot(text_df[\"target\"], color=\"#4c1c84\")\n",
    "plt.grid()\n",
    "plt.show()"
   ]
  },
  {
   "cell_type": "markdown",
   "id": "fefc5237",
   "metadata": {},
   "source": [
    "<br>\n",
    "<h2 style = \"font-size:45px;\n",
    "             font-family:Comic Sans MS ;\n",
    "             font-weight : normal;\n",
    "             background-color: #eeebf1 ;\n",
    "             color : #4c1c84;\n",
    "             text-align: center; \n",
    "             border-radius: 100px 100px;\">\n",
    "    Attention Load\n",
    "</h2>\n",
    "<br>"
   ]
  },
  {
   "cell_type": "code",
   "execution_count": 61,
   "id": "1111ff3c",
   "metadata": {},
   "outputs": [],
   "source": [
    "text_df = pd.read_pickle(OUTPUT_DIR/\"text_df.pkl\")\n",
    "attention_array = np.load(OUTPUT_DIR/'toxic-attention.npy')\n",
    "mask_array = np.load(OUTPUT_DIR/'toxic-mask.npy')"
   ]
  },
  {
   "cell_type": "code",
   "execution_count": 62,
   "id": "e5946d61",
   "metadata": {},
   "outputs": [],
   "source": [
    "from IPython.display import display, HTML\n",
    "\n",
    "def highlight_r(word, attn):\n",
    "    html_color = '#%02X%02X%02X' % (255, int(255*(1 - attn)), int(255*(1 - attn)))\n",
    "    return '<span style=\"background-color: {}\">{}</span>'.format(html_color, word)"
   ]
  },
  {
   "cell_type": "code",
   "execution_count": 63,
   "id": "85c7b567",
   "metadata": {},
   "outputs": [
    {
     "name": "stdout",
     "output_type": "stream",
     "text": [
      "Offensive Score is 0.1531775863841176\n"
     ]
    },
    {
     "data": {
      "text/html": [
       "<span style=\"background-color: #FFAAAA\">[CLS]</span> <span style=\"background-color: #FFE2E2\">2005</span> <span style=\"background-color: #FFF5F5\">(</span> <span style=\"background-color: #FFD3D3\">utc</span> <span style=\"background-color: #FFF5F5\">)</span> <span style=\"background-color: #FFE1E1\">what</span> <span style=\"background-color: #FFEFEF\">a</span> <span style=\"background-color: #FFF6F6\">load</span> <span style=\"background-color: #FFE5E5\">of</span> <span style=\"background-color: #FFEFEF\">shit</span> <span style=\"background-color: #FFF4F4\">.</span> <span style=\"background-color: #FFEAEA\">i</span> <span style=\"background-color: #FFF4F4\">see</span> <span style=\"background-color: #FFDDDD\">entries</span> <span style=\"background-color: #FFF5F5\">all</span> <span style=\"background-color: #FFF3F3\">the</span> <span style=\"background-color: #FFFAFA\">time</span> <span style=\"background-color: #FFF3F3\">that</span> <span style=\"background-color: #FFF6F6\">have</span> <span style=\"background-color: #FFDFDF\">links</span> <span style=\"background-color: #FFF4F4\">which</span> <span style=\"background-color: #FFF8F8\">have</span> <span style=\"background-color: #FFFAFA\">nothing</span> <span style=\"background-color: #FFFAFA\">much</span> <span style=\"background-color: #FFF6F6\">to</span> <span style=\"background-color: #FFF7F7\">do</span> <span style=\"background-color: #FFF2F2\">with</span> <span style=\"background-color: #FFE8E8\">the</span> <span style=\"background-color: #FFD7D7\">entry</span> <span style=\"background-color: #FFF6F6\">in</span> <span style=\"background-color: #FFF3F3\">question</span> <span style=\"background-color: #FFF3F3\">.</span> <span style=\"background-color: #FFEEEE\">also</span> <span style=\"background-color: #FFEEEE\">,</span> <span style=\"background-color: #FFDDDD\">the</span> <span style=\"background-color: #FFDCDC\">far</span> <span style=\"background-color: #FFD0D0\">##k</span> <span style=\"background-color: #FFD2D2\">thread</span> <span style=\"background-color: #FFE6E6\">is</span> <span style=\"background-color: #FFD7D7\">discussing</span> <span style=\"background-color: #FFB0B0\">the</span> <span style=\"background-color: #FFF6F6\">hurricane</span> <span style=\"background-color: #FFF0F0\">.</span> <span style=\"background-color: #FFEFEF\">therefore</span> <span style=\"background-color: #FFEFEF\">,</span> <span style=\"background-color: #FFE7E7\">it</span> <span style=\"background-color: #FFEDED\">'</span> <span style=\"background-color: #FFF2F2\">s</span> <span style=\"background-color: #FFE8E8\">valid</span> <span style=\"background-color: #FFE9E9\">.</span> <span style=\"background-color: #FFF1F1\">06</span> <span style=\"background-color: #FFD0D0\">:</span> <span style=\"background-color: #FFF6F6\">47</span> <span style=\"background-color: #FFEFEF\">,</span> <span style=\"background-color: #FFF9F9\">29</span> <span style=\"background-color: #FFF4F4\">august</span> <span style=\"background-color: #FF-670-670\">[SEP]</span>"
      ],
      "text/plain": [
       "<IPython.core.display.HTML object>"
      ]
     },
     "metadata": {},
     "output_type": "display_data"
    },
    {
     "data": {
      "text/plain": [
       "\" 2005 (UTC)\\n\\nWhat a load of shit. I see entries ALL THE TIME that have links which have nothing much to do with the entry in question. Also, the Fark thread IS DISCUSSING THE HURRICANE.  Therefore, it's valid.   06:47, 29 August\""
      ]
     },
     "metadata": {},
     "output_type": "display_data"
    }
   ],
   "source": [
    "num = 12\n",
    "\n",
    "ids = config.tokenizer(text_df.loc[num, \"text\"])[\"input_ids\"]\n",
    "tokens = config.tokenizer.convert_ids_to_tokens(ids)\n",
    "attention = attention_array[num, :][np.nonzero(mask_array[num, :])]\n",
    "\n",
    "html_outputs = []\n",
    "\n",
    "for word, attn in zip(tokens, attention):\n",
    "    html_outputs.append(highlight_r(word, attn))\n",
    "\n",
    "print(f\"Offensive Score is {PRED[num, 0]}\")\n",
    "display(HTML(' '.join(html_outputs)))\n",
    "display(text_df.loc[num, \"text\"])"
   ]
  },
  {
   "cell_type": "code",
   "execution_count": 64,
   "id": "02a211d3",
   "metadata": {},
   "outputs": [
    {
     "data": {
      "text/html": [
       "<div>\n",
       "<style scoped>\n",
       "    .dataframe tbody tr th:only-of-type {\n",
       "        vertical-align: middle;\n",
       "    }\n",
       "\n",
       "    .dataframe tbody tr th {\n",
       "        vertical-align: top;\n",
       "    }\n",
       "\n",
       "    .dataframe thead th {\n",
       "        text-align: right;\n",
       "    }\n",
       "</style>\n",
       "<table border=\"1\" class=\"dataframe\">\n",
       "  <thead>\n",
       "    <tr style=\"text-align: right;\">\n",
       "      <th></th>\n",
       "      <th>text</th>\n",
       "      <th>target</th>\n",
       "    </tr>\n",
       "  </thead>\n",
       "  <tbody>\n",
       "    <tr>\n",
       "      <th>359</th>\n",
       "      <td>you bitchass trick\\n\\nyour fat ass is full of ...</td>\n",
       "      <td>1.253505</td>\n",
       "    </tr>\n",
       "    <tr>\n",
       "      <th>5925</th>\n",
       "      <td>Mine ur own fucking bussiness.wat da fuck is u...</td>\n",
       "      <td>1.209513</td>\n",
       "    </tr>\n",
       "    <tr>\n",
       "      <th>11655</th>\n",
       "      <td>Chanting Fox \\n\\nShut up you dumb cunt. Your ...</td>\n",
       "      <td>1.209113</td>\n",
       "    </tr>\n",
       "    <tr>\n",
       "      <th>4274</th>\n",
       "      <td>YAMLA,  are you stupid and a gay ass fag whos ...</td>\n",
       "      <td>1.207486</td>\n",
       "    </tr>\n",
       "    <tr>\n",
       "      <th>4165</th>\n",
       "      <td>Chanting Cox \\n\\nShut up you dumb cunt. Your ...</td>\n",
       "      <td>1.193007</td>\n",
       "    </tr>\n",
       "    <tr>\n",
       "      <th>9100</th>\n",
       "      <td>YOU GUYS ARE FUCKIN CRAZY YOU STUPID SHIT LICK...</td>\n",
       "      <td>1.181670</td>\n",
       "    </tr>\n",
       "    <tr>\n",
       "      <th>6876</th>\n",
       "      <td>HEEY FUCKFACE YOU ARE A REAL BITCH ASS PUSSY W...</td>\n",
       "      <td>1.162992</td>\n",
       "    </tr>\n",
       "    <tr>\n",
       "      <th>2730</th>\n",
       "      <td>closedmouth is a DICK-FUCK \\n\\nthis guy is a ...</td>\n",
       "      <td>1.146494</td>\n",
       "    </tr>\n",
       "    <tr>\n",
       "      <th>2268</th>\n",
       "      <td>DOUCHE BAG DOUCHE BAG DOUCHE BAG DOUCHE BAG FU...</td>\n",
       "      <td>1.123234</td>\n",
       "    </tr>\n",
       "    <tr>\n",
       "      <th>5082</th>\n",
       "      <td>is all pretty gay if u ask me...bunch or fucki...</td>\n",
       "      <td>1.119021</td>\n",
       "    </tr>\n",
       "    <tr>\n",
       "      <th>355</th>\n",
       "      <td>YOUR A FUCKING FAGGOT YOU INTERNET THUG GET OF...</td>\n",
       "      <td>1.118270</td>\n",
       "    </tr>\n",
       "    <tr>\n",
       "      <th>2169</th>\n",
       "      <td>Fucking Faggot\\n\\nThis guy is a total fucking ...</td>\n",
       "      <td>1.109722</td>\n",
       "    </tr>\n",
       "    <tr>\n",
       "      <th>6428</th>\n",
       "      <td>Yes Ah soooBig Dumb Object, just a bunch o hos...</td>\n",
       "      <td>1.107138</td>\n",
       "    </tr>\n",
       "    <tr>\n",
       "      <th>7682</th>\n",
       "      <td>how dare u you german piece of dog shit \\n\\nd...</td>\n",
       "      <td>1.106936</td>\n",
       "    </tr>\n",
       "    <tr>\n",
       "      <th>2882</th>\n",
       "      <td>Fuck you \\nfred fuck you you bitch ass punk u...</td>\n",
       "      <td>1.098104</td>\n",
       "    </tr>\n",
       "    <tr>\n",
       "      <th>4360</th>\n",
       "      <td>you bunch of cock cucking, toilet scrubbing, t...</td>\n",
       "      <td>1.095425</td>\n",
       "    </tr>\n",
       "    <tr>\n",
       "      <th>9046</th>\n",
       "      <td>Diana is a fucking bitch nigger piece of shit</td>\n",
       "      <td>1.094099</td>\n",
       "    </tr>\n",
       "    <tr>\n",
       "      <th>436</th>\n",
       "      <td>FUCK YOU, YOU GAY ASS LIBERAL!!!\\nhey asshole ...</td>\n",
       "      <td>1.093758</td>\n",
       "    </tr>\n",
       "    <tr>\n",
       "      <th>10688</th>\n",
       "      <td>Suck a Dick\\nPussy Hoe Ass\\nYa'll lame anyways...</td>\n",
       "      <td>1.093661</td>\n",
       "    </tr>\n",
       "    <tr>\n",
       "      <th>8471</th>\n",
       "      <td>Hey Man\\nYou are a retarded Mexican cocksuckin...</td>\n",
       "      <td>1.090663</td>\n",
       "    </tr>\n",
       "  </tbody>\n",
       "</table>\n",
       "</div>"
      ],
      "text/plain": [
       "                                                    text    target\n",
       "359    you bitchass trick\\n\\nyour fat ass is full of ...  1.253505\n",
       "5925   Mine ur own fucking bussiness.wat da fuck is u...  1.209513\n",
       "11655   Chanting Fox \\n\\nShut up you dumb cunt. Your ...  1.209113\n",
       "4274   YAMLA,  are you stupid and a gay ass fag whos ...  1.207486\n",
       "4165    Chanting Cox \\n\\nShut up you dumb cunt. Your ...  1.193007\n",
       "9100   YOU GUYS ARE FUCKIN CRAZY YOU STUPID SHIT LICK...  1.181670\n",
       "6876   HEEY FUCKFACE YOU ARE A REAL BITCH ASS PUSSY W...  1.162992\n",
       "2730    closedmouth is a DICK-FUCK \\n\\nthis guy is a ...  1.146494\n",
       "2268   DOUCHE BAG DOUCHE BAG DOUCHE BAG DOUCHE BAG FU...  1.123234\n",
       "5082   is all pretty gay if u ask me...bunch or fucki...  1.119021\n",
       "355    YOUR A FUCKING FAGGOT YOU INTERNET THUG GET OF...  1.118270\n",
       "2169   Fucking Faggot\\n\\nThis guy is a total fucking ...  1.109722\n",
       "6428   Yes Ah soooBig Dumb Object, just a bunch o hos...  1.107138\n",
       "7682    how dare u you german piece of dog shit \\n\\nd...  1.106936\n",
       "2882    Fuck you \\nfred fuck you you bitch ass punk u...  1.098104\n",
       "4360   you bunch of cock cucking, toilet scrubbing, t...  1.095425\n",
       "9046       Diana is a fucking bitch nigger piece of shit  1.094099\n",
       "436    FUCK YOU, YOU GAY ASS LIBERAL!!!\\nhey asshole ...  1.093758\n",
       "10688  Suck a Dick\\nPussy Hoe Ass\\nYa'll lame anyways...  1.093661\n",
       "8471   Hey Man\\nYou are a retarded Mexican cocksuckin...  1.090663"
      ]
     },
     "execution_count": 64,
     "metadata": {},
     "output_type": "execute_result"
    }
   ],
   "source": [
    "text_df.sort_values(\"target\", ascending=False).head(20)"
   ]
  },
  {
   "cell_type": "code",
   "execution_count": 65,
   "id": "2bba492f",
   "metadata": {},
   "outputs": [
    {
     "name": "stdout",
     "output_type": "stream",
     "text": [
      "Offensive Score is 1.2535049617290497\n"
     ]
    },
    {
     "data": {
      "text/html": [
       "<span style=\"background-color: #FF9898\">[CLS]</span> <span style=\"background-color: #FFC1C1\">you</span> <span style=\"background-color: #FFDADA\">bitch</span> <span style=\"background-color: #FFDFDF\">##ass</span> <span style=\"background-color: #FFE1E1\">trick</span> <span style=\"background-color: #FFC7C7\">your</span> <span style=\"background-color: #FFD0D0\">fat</span> <span style=\"background-color: #FFE6E6\">ass</span> <span style=\"background-color: #FFAEAE\">is</span> <span style=\"background-color: #FFD7D7\">full</span> <span style=\"background-color: #FFC8C8\">of</span> <span style=\"background-color: #FFC6C6\">dogs</span> <span style=\"background-color: #FFD5D5\">##hit</span> <span style=\"background-color: #FFC7C7\">,</span> <span style=\"background-color: #FFD9D9\">com</span> <span style=\"background-color: #FFD1D1\">##mie</span> <span style=\"background-color: #FFEAEA\">loving</span> <span style=\"background-color: #FFD9D9\">,</span> <span style=\"background-color: #FFE0E0\">lying</span> <span style=\"background-color: #FFD6D6\">,</span> <span style=\"background-color: #FFD5D5\">bastard</span> <span style=\"background-color: #FFE0E0\">##o</span> <span style=\"background-color: #FFC7C7\">chin</span> <span style=\"background-color: #FFDDDD\">##k</span> <span style=\"background-color: #FFDADA\">.</span> <span style=\"background-color: #FF-68E-68E\">[SEP]</span>"
      ],
      "text/plain": [
       "<IPython.core.display.HTML object>"
      ]
     },
     "metadata": {},
     "output_type": "display_data"
    },
    {
     "data": {
      "text/plain": [
       "'you bitchass trick\\n\\nyour fat ass is full of dogshit,\\n\\ncommie loving, lying, bastardo chink.'"
      ]
     },
     "metadata": {},
     "output_type": "display_data"
    },
    {
     "name": "stdout",
     "output_type": "stream",
     "text": [
      "Offensive Score is 1.2095131427049637\n"
     ]
    },
    {
     "data": {
      "text/html": [
       "<span style=\"background-color: #FFA3A3\">[CLS]</span> <span style=\"background-color: #FFCDCD\">mine</span> <span style=\"background-color: #FFAFAF\">ur</span> <span style=\"background-color: #FFC5C5\">own</span> <span style=\"background-color: #FFD7D7\">fucking</span> <span style=\"background-color: #FFD6D6\">bus</span> <span style=\"background-color: #FFECEC\">##sin</span> <span style=\"background-color: #FFC3C3\">##ess</span> <span style=\"background-color: #FFD6D6\">.</span> <span style=\"background-color: #FFE3E3\">wat</span> <span style=\"background-color: #FFE4E4\">da</span> <span style=\"background-color: #FFEFEF\">fuck</span> <span style=\"background-color: #FFE1E1\">is</span> <span style=\"background-color: #FFD7D7\">ur</span> <span style=\"background-color: #FFE4E4\">problem</span> <span style=\"background-color: #FFD6D6\">u</span> <span style=\"background-color: #FFE7E7\">ugly</span> <span style=\"background-color: #FFEEEE\">fat</span> <span style=\"background-color: #FFF3F3\">ass</span> <span style=\"background-color: #FFF1F1\">mother</span> <span style=\"background-color: #FFF0F0\">##fu</span> <span style=\"background-color: #FFF5F5\">##ck</span> <span style=\"background-color: #FFA5A5\">]</span> <span style=\"background-color: #FFDADA\">.</span> <span style=\"background-color: #FFCCCC\">go</span> <span style=\"background-color: #FFEEEE\">suck</span> <span style=\"background-color: #FFE7E7\">on</span> <span style=\"background-color: #FFDBDB\">your</span> <span style=\"background-color: #FFE7E7\">mom</span> <span style=\"background-color: #FFF3F3\">##s</span> <span style=\"background-color: #FFEBEB\">dick</span> <span style=\"background-color: #FFEAEA\">and</span> <span style=\"background-color: #FFDFDF\">fuck</span> <span style=\"background-color: #FFD1D1\">ur</span> <span style=\"background-color: #FFEBEB\">dad</span> <span style=\"background-color: #FFF1F1\">##s</span> <span style=\"background-color: #FFE9E9\">pussy</span> <span style=\"background-color: #FFE6E6\">.</span> <span style=\"background-color: #FFCFCF\">u</span> <span style=\"background-color: #FFEDED\">fat</span> <span style=\"background-color: #FFF1F1\">bitch</span> <span style=\"background-color: #FFEAEA\">.</span> <span style=\"background-color: #FF-5AB-5AB\">[SEP]</span>"
      ],
      "text/plain": [
       "<IPython.core.display.HTML object>"
      ]
     },
     "metadata": {},
     "output_type": "display_data"
    },
    {
     "data": {
      "text/plain": [
       "'Mine ur own fucking bussiness.wat da fuck is ur problem u ugly fat ass motherfuck ].go suck on your moms dick and fuck ur dads pussy.u fat bitch.'"
      ]
     },
     "metadata": {},
     "output_type": "display_data"
    },
    {
     "name": "stdout",
     "output_type": "stream",
     "text": [
      "Offensive Score is 1.2091129273176193\n"
     ]
    },
    {
     "data": {
      "text/html": [
       "<span style=\"background-color: #FF7777\">[CLS]</span> <span style=\"background-color: #FFF1F1\">chanting</span> <span style=\"background-color: #FF8F8F\">fox</span> <span style=\"background-color: #FFA2A2\">shut</span> <span style=\"background-color: #FFCBCB\">up</span> <span style=\"background-color: #FFB9B9\">you</span> <span style=\"background-color: #FFE4E4\">dumb</span> <span style=\"background-color: #FFE6E6\">cu</span> <span style=\"background-color: #FFEDED\">##nt</span> <span style=\"background-color: #FFDADA\">.</span> <span style=\"background-color: #FF8E8E\">your</span> <span style=\"background-color: #FFCDCD\">a</span> <span style=\"background-color: #FFC0C0\">ni</span> <span style=\"background-color: #FFC7C7\">##gger</span> <span style=\"background-color: #FFE3E3\">loving</span> <span style=\"background-color: #FFD0D0\">,</span> <span style=\"background-color: #FFD7D7\">cum</span> <span style=\"background-color: #FFE3E3\">cu</span> <span style=\"background-color: #FFEEEE\">##zzling</span> <span style=\"background-color: #FFC8C8\">crack</span> <span style=\"background-color: #FFCECE\">whore</span> <span style=\"background-color: #FFD4D4\">bitch</span> <span style=\"background-color: #FFC5C5\">!</span> <span style=\"background-color: #FF-630-630\">[SEP]</span>"
      ],
      "text/plain": [
       "<IPython.core.display.HTML object>"
      ]
     },
     "metadata": {},
     "output_type": "display_data"
    },
    {
     "data": {
      "text/plain": [
       "' Chanting Fox \\n\\nShut up you dumb cunt. Your a nigger  loving, cum cuzzling crack whore bitch!'"
      ]
     },
     "metadata": {},
     "output_type": "display_data"
    },
    {
     "name": "stdout",
     "output_type": "stream",
     "text": [
      "Offensive Score is 1.2074861228466034\n"
     ]
    },
    {
     "data": {
      "text/html": [
       "<span style=\"background-color: #FFC6C6\">[CLS]</span> <span style=\"background-color: #FFE9E9\">ya</span> <span style=\"background-color: #FFEEEE\">##ml</span> <span style=\"background-color: #FFECEC\">##a</span> <span style=\"background-color: #FFE3E3\">,</span> <span style=\"background-color: #FFDFDF\">are</span> <span style=\"background-color: #FFDBDB\">you</span> <span style=\"background-color: #FFECEC\">stupid</span> <span style=\"background-color: #FFF2F2\">and</span> <span style=\"background-color: #FFF4F4\">a</span> <span style=\"background-color: #FFE6E6\">gay</span> <span style=\"background-color: #FFF7F7\">ass</span> <span style=\"background-color: #FFF2F2\">fa</span> <span style=\"background-color: #FFF7F7\">##g</span> <span style=\"background-color: #FFF2F2\">who</span> <span style=\"background-color: #FFECEC\">##s</span> <span style=\"background-color: #FFF1F1\">mother</span> <span style=\"background-color: #FFEDED\">was</span> <span style=\"background-color: #FFF3F3\">a</span> <span style=\"background-color: #FFF1F1\">fucking</span> <span style=\"background-color: #FFF1F1\">whore</span> <span style=\"background-color: #FFE8E8\">you</span> <span style=\"background-color: #FFF2F2\">fu</span> <span style=\"background-color: #FFF9F9\">##king</span> <span style=\"background-color: #FFF6F6\">idiot</span> <span style=\"background-color: #FFF8F8\">##ical</span> <span style=\"background-color: #FFF4F4\">mongol</span> <span style=\"background-color: #FFF7F7\">##ical</span> <span style=\"background-color: #FFF7F7\">son</span> <span style=\"background-color: #FFFBFB\">of</span> <span style=\"background-color: #FFFBFB\">a</span> <span style=\"background-color: #FFF9F9\">bitch</span> <span style=\"background-color: #FFE1E1\">you</span> <span style=\"background-color: #FFEDED\">are</span> <span style=\"background-color: #FFECEC\">so</span> <span style=\"background-color: #FFEDED\">fucking</span> <span style=\"background-color: #FFEEEE\">faa</span> <span style=\"background-color: #FFFAFA\">##aa</span> <span style=\"background-color: #FFF9F9\">##aa</span> <span style=\"background-color: #FFFCFC\">##ag</span> <span style=\"background-color: #FFFAFA\">##gg</span> <span style=\"background-color: #FFFAFA\">##gg</span> <span style=\"background-color: #FFFBFB\">##gg</span> <span style=\"background-color: #FFFBFB\">##gg</span> <span style=\"background-color: #FFFBFB\">##gg</span> <span style=\"background-color: #FFFCFC\">##ggy</span> <span style=\"background-color: #FFFCFC\">##y</span> <span style=\"background-color: #FFFCFC\">##y</span> <span style=\"background-color: #FFFCFC\">##y</span> <span style=\"background-color: #FFFCFC\">##y</span> <span style=\"background-color: #FFFCFC\">##y</span> <span style=\"background-color: #FFFCFC\">##y</span> <span style=\"background-color: #FFFCFC\">##y</span> <span style=\"background-color: #FFFCFC\">##y</span> <span style=\"background-color: #FFFBFB\">##y</span> <span style=\"background-color: #FFFBFB\">##y</span> <span style=\"background-color: #FFFBFB\">##y</span> <span style=\"background-color: #FFFBFB\">##y</span> <span style=\"background-color: #FFE9E9\">##y</span> <span style=\"background-color: #FFF5F5\">that</span> <span style=\"background-color: #FFF1F1\">o</span> <span style=\"background-color: #FFF2F2\">##yu</span> <span style=\"background-color: #FFE0E0\">##y</span> <span style=\"background-color: #FFEDED\">suck</span> <span style=\"background-color: #FFF1F1\">as</span> <span style=\"background-color: #FFF8F8\">much</span> <span style=\"background-color: #FFE8E8\">cock</span> <span style=\"background-color: #FFF1F1\">as</span> <span style=\"background-color: #FFE0E0\">your</span> <span style=\"background-color: #FFEBEB\">dad</span> <span style=\"background-color: #FFF2F2\">who</span> <span style=\"background-color: #FFEEEE\">was</span> <span style=\"background-color: #FFF7F7\">the</span> <span style=\"background-color: #FFF9F9\">biggest</span> <span style=\"background-color: #FFEBEB\">gay</span> <span style=\"background-color: #FFF6F6\">ass</span> <span style=\"background-color: #FFF2F2\">idiot</span> <span style=\"background-color: #FFFAFA\">in</span> <span style=\"background-color: #FFFAFA\">history</span> <span style=\"background-color: #FFF7F7\">who</span> <span style=\"background-color: #FFFCFC\">ever</span> <span style=\"background-color: #FFF4F4\">sucked</span> <span style=\"background-color: #FFF1F1\">cock</span> <span style=\"background-color: #FFE8E8\">and</span> <span style=\"background-color: #FFF0F0\">o</span> <span style=\"background-color: #FFF0F0\">##yu</span> <span style=\"background-color: #FFF4F4\">also</span> <span style=\"background-color: #FFF9F9\">stuck</span> <span style=\"background-color: #FFF7F7\">up</span> <span style=\"background-color: #FFF3F3\">a</span> <span style=\"background-color: #FFF5F5\">dil</span> <span style=\"background-color: #FFF7F7\">##do</span> <span style=\"background-color: #FFF5F5\">up</span> <span style=\"background-color: #FFE4E4\">your</span> <span style=\"background-color: #FFF2F2\">mothers</span> <span style=\"background-color: #FFF8F8\">ass</span> <span style=\"background-color: #FFF2F2\">while</span> <span style=\"background-color: #FFF4F4\">she</span> <span style=\"background-color: #FFF6F6\">was</span> <span style=\"background-color: #FFF0F0\">po</span> <span style=\"background-color: #FFF1F1\">##oin</span> <span style=\"background-color: #FFF2F2\">##g</span> <span style=\"background-color: #FFE9E9\">and</span> <span style=\"background-color: #FFE3E3\">you</span> <span style=\"background-color: #FFF2F2\">made</span> <span style=\"background-color: #FFE7E7\">your</span> <span style=\"background-color: #FFEAEA\">sister</span> <span style=\"background-color: #FFE7E7\">eat</span> <span style=\"background-color: #FFEDED\">that</span> <span style=\"background-color: #FFF1F1\">shit</span> <span style=\"background-color: #FFF4F4\">!</span> <span style=\"background-color: #FFF8F8\">!</span> <span style=\"background-color: #FFF9F9\">!</span> <span style=\"background-color: #FFF3F3\">!</span> <span style=\"background-color: #FF-563-563\">[SEP]</span>"
      ],
      "text/plain": [
       "<IPython.core.display.HTML object>"
      ]
     },
     "metadata": {},
     "output_type": "display_data"
    },
    {
     "data": {
      "text/plain": [
       "'YAMLA,  are you stupid and a gay ass fag whos mother was a fucking whore you fuking idiotical mongolical son of a bitch you are so fucking faaaaaaagggggggggggggyyyyyyyyyyyyyy that oyuy suck as much cock as your dad who was the biggest gay ass idiot in history who ever sucked cock and oyu also stuck up a dildo up your mothers ass while she was pooing and you made your sister eat that shit!!!!'"
      ]
     },
     "metadata": {},
     "output_type": "display_data"
    },
    {
     "name": "stdout",
     "output_type": "stream",
     "text": [
      "Offensive Score is 1.193007230758667\n"
     ]
    },
    {
     "data": {
      "text/html": [
       "<span style=\"background-color: #FF7E7E\">[CLS]</span> <span style=\"background-color: #FFD3D3\">chanting</span> <span style=\"background-color: #FFBEBE\">cox</span> <span style=\"background-color: #FF9595\">shut</span> <span style=\"background-color: #FFBABA\">up</span> <span style=\"background-color: #FFB8B8\">you</span> <span style=\"background-color: #FFE2E2\">dumb</span> <span style=\"background-color: #FFE3E3\">cu</span> <span style=\"background-color: #FFE9E9\">##nt</span> <span style=\"background-color: #FFDADA\">.</span> <span style=\"background-color: #FF9A9A\">your</span> <span style=\"background-color: #FFCDCD\">a</span> <span style=\"background-color: #FFC4C4\">ni</span> <span style=\"background-color: #FFCBCB\">##gger</span> <span style=\"background-color: #FFE3E3\">loving</span> <span style=\"background-color: #FFD1D1\">,</span> <span style=\"background-color: #FFD8D8\">cum</span> <span style=\"background-color: #FFE3E3\">cu</span> <span style=\"background-color: #FFEFEF\">##zzling</span> <span style=\"background-color: #FFCBCB\">crack</span> <span style=\"background-color: #FFD4D4\">whore</span> <span style=\"background-color: #FFD4D4\">bitch</span> <span style=\"background-color: #FFC3C3\">!</span> <span style=\"background-color: #FF-63F-63F\">[SEP]</span>"
      ],
      "text/plain": [
       "<IPython.core.display.HTML object>"
      ]
     },
     "metadata": {},
     "output_type": "display_data"
    },
    {
     "data": {
      "text/plain": [
       "' Chanting Cox \\n\\nShut up you dumb cunt. Your a nigger  loving, cum cuzzling crack whore bitch!'"
      ]
     },
     "metadata": {},
     "output_type": "display_data"
    },
    {
     "name": "stdout",
     "output_type": "stream",
     "text": [
      "Offensive Score is 1.1816698163747787\n"
     ]
    },
    {
     "data": {
      "text/html": [
       "<span style=\"background-color: #FFB2B2\">[CLS]</span> <span style=\"background-color: #FFE5E5\">you</span> <span style=\"background-color: #FFF1F1\">guys</span> <span style=\"background-color: #FFF2F2\">are</span> <span style=\"background-color: #FFF1F1\">fuck</span> <span style=\"background-color: #FFECEC\">##in</span> <span style=\"background-color: #FFE8E8\">crazy</span> <span style=\"background-color: #FFE5E5\">you</span> <span style=\"background-color: #FFF5F5\">stupid</span> <span style=\"background-color: #FFF3F3\">shit</span> <span style=\"background-color: #FFCCCC\">lick</span> <span style=\"background-color: #FFE5E5\">your</span> <span style=\"background-color: #FFEDED\">own</span> <span style=\"background-color: #FFF0F0\">pi</span> <span style=\"background-color: #FFD7D7\">##mp</span> <span style=\"background-color: #FFEFEF\">##ly</span> <span style=\"background-color: #FFEEEE\">fat</span> <span style=\"background-color: #FFF1F1\">ugly</span> <span style=\"background-color: #FFE1E1\">bum</span> <span style=\"background-color: #FFEDED\">!</span> <span style=\"background-color: #FFF3F3\">!</span> <span style=\"background-color: #FFF4F4\">!</span> <span style=\"background-color: #FFECEC\">!</span> <span style=\"background-color: #FFECEC\">you</span> <span style=\"background-color: #FFF1F1\">are</span> <span style=\"background-color: #FFEBEB\">crazy</span> <span style=\"background-color: #FFEDED\">you</span> <span style=\"background-color: #FFF4F4\">all</span> <span style=\"background-color: #FFDEDE\">gay</span> <span style=\"background-color: #FFF8F8\">##s</span> <span style=\"background-color: #FFF6F6\">and</span> <span style=\"background-color: #FFF3F3\">fa</span> <span style=\"background-color: #FFE4E4\">##gg</span> <span style=\"background-color: #FFF8F8\">##ots</span> <span style=\"background-color: #FFE9E9\">if</span> <span style=\"background-color: #FFF8F8\">not</span> <span style=\"background-color: #FFEDED\">male</span> <span style=\"background-color: #FFEEEE\">than</span> <span style=\"background-color: #FFCFCF\">lesbian</span> <span style=\"background-color: #FFE6E6\">i</span> <span style=\"background-color: #FFF0F0\">know</span> <span style=\"background-color: #FFE5E5\">you</span> <span style=\"background-color: #FFF1F1\">gonna</span> <span style=\"background-color: #FFF7F7\">del</span> <span style=\"background-color: #FFE9E9\">##ete</span> <span style=\"background-color: #FFDFDF\">me</span> <span style=\"background-color: #FFF0F0\">or</span> <span style=\"background-color: #FFF3F3\">do</span> <span style=\"background-color: #FFE9E9\">your</span> <span style=\"background-color: #FFF0F0\">stupid</span> <span style=\"background-color: #FFF2F2\">block</span> <span style=\"background-color: #FFEEEE\">thing</span> <span style=\"background-color: #FFE6E6\">to</span> <span style=\"background-color: #FFEBEB\">me</span> <span style=\"background-color: #FFF7F7\">now</span> <span style=\"background-color: #FFE4E4\">but</span> <span style=\"background-color: #FFF0F0\">i</span> <span style=\"background-color: #FFF9F9\">don</span> <span style=\"background-color: #FFEEEE\">'</span> <span style=\"background-color: #FFF5F5\">t</span> <span style=\"background-color: #FFF3F3\">care</span> <span style=\"background-color: #FFDFDF\">you</span> <span style=\"background-color: #FFE5E5\">are</span> <span style=\"background-color: #FFF3F3\">single</span> <span style=\"background-color: #FFEEEE\">and</span> <span style=\"background-color: #FFF1F1\">have</span> <span style=\"background-color: #FFEEEE\">the</span> <span style=\"background-color: #FFEEEE\">weird</span> <span style=\"background-color: #FFF7F7\">##est</span> <span style=\"background-color: #FFDEDE\">boo</span> <span style=\"background-color: #FFF0F0\">##bs</span> <span style=\"background-color: #FFE9E9\">okay</span> <span style=\"background-color: #FFEFEF\">i</span> <span style=\"background-color: #FFF3F3\">hate</span> <span style=\"background-color: #FFEBEB\">you</span> <span style=\"background-color: #FFEBEB\">bitch</span> <span style=\"background-color: #FFF6F6\">##es</span> <span style=\"background-color: #FFE9E9\">!</span> <span style=\"background-color: #FF-543-543\">[SEP]</span>"
      ],
      "text/plain": [
       "<IPython.core.display.HTML object>"
      ]
     },
     "metadata": {},
     "output_type": "display_data"
    },
    {
     "data": {
      "text/plain": [
       "\"YOU GUYS ARE FUCKIN CRAZY YOU STUPID SHIT LICK YOUR OWN PIMPLY FAT UGLY BUM!!!! YOU ARE CRAZY YOU ALL GAYS AND FAGGOTS IF NOT MALE THAN LESBIAN I KNOW YOU GONNA DELETE ME OR DO YOUR STUPID BLOCK THING TO ME NOW BUT I DON'T CARE YOU ARE SINGLE AND HAVE THE WEIRDEST BOOBS OKAY I HATE YOU BITCHES!\""
      ]
     },
     "metadata": {},
     "output_type": "display_data"
    },
    {
     "name": "stdout",
     "output_type": "stream",
     "text": [
      "Offensive Score is 1.1629921793937683\n"
     ]
    },
    {
     "data": {
      "text/html": [
       "<span style=\"background-color: #FF7171\">[CLS]</span> <span style=\"background-color: #FFC3C3\">hee</span> <span style=\"background-color: #FFBFBF\">##y</span> <span style=\"background-color: #FFCCCC\">fuck</span> <span style=\"background-color: #FFDCDC\">##face</span> <span style=\"background-color: #FFB5B5\">you</span> <span style=\"background-color: #FFACAC\">are</span> <span style=\"background-color: #FFB7B7\">a</span> <span style=\"background-color: #FFC1C1\">real</span> <span style=\"background-color: #FFD8D8\">bitch</span> <span style=\"background-color: #FFDDDD\">ass</span> <span style=\"background-color: #FFD3D3\">pussy</span> <span style=\"background-color: #FFD1D1\">whipped</span> <span style=\"background-color: #FFD6D6\">mu</span> <span style=\"background-color: #FFB3B3\">##tha</span> <span style=\"background-color: #FFDBDB\">##fu</span> <span style=\"background-color: #FFE7E7\">##cking</span> <span style=\"background-color: #FFD5D5\">fa</span> <span style=\"background-color: #FFC6C6\">##gg</span> <span style=\"background-color: #FFD7D7\">##ot</span> <span style=\"background-color: #FFD5D5\">shit</span> <span style=\"background-color: #FFEAEA\">##face</span> <span style=\"background-color: #FFDCDC\">##d</span> <span style=\"background-color: #FFCCCC\">dick</span> <span style=\"background-color: #FFDFDF\">head</span> <span style=\"background-color: #FF-5EC-5EC\">[SEP]</span>"
      ],
      "text/plain": [
       "<IPython.core.display.HTML object>"
      ]
     },
     "metadata": {},
     "output_type": "display_data"
    },
    {
     "data": {
      "text/plain": [
       "'HEEY FUCKFACE YOU ARE A REAL BITCH ASS PUSSY WHIPPED MUTHAFUCKING FAGGOT SHITFACEd DICK HEAd '"
      ]
     },
     "metadata": {},
     "output_type": "display_data"
    },
    {
     "name": "stdout",
     "output_type": "stream",
     "text": [
      "Offensive Score is 1.1464938670396805\n"
     ]
    },
    {
     "data": {
      "text/html": [
       "<span style=\"background-color: #FF9393\">[CLS]</span> <span style=\"background-color: #FFECEC\">closed</span> <span style=\"background-color: #FFDEDE\">##mouth</span> <span style=\"background-color: #FFD1D1\">is</span> <span style=\"background-color: #FFDDDD\">a</span> <span style=\"background-color: #FFDCDC\">dick</span> <span style=\"background-color: #FFCBCB\">-</span> <span style=\"background-color: #FFEDED\">fuck</span> <span style=\"background-color: #FFCDCD\">this</span> <span style=\"background-color: #FFE1E1\">guy</span> <span style=\"background-color: #FFDADA\">is</span> <span style=\"background-color: #FFE5E5\">a</span> <span style=\"background-color: #FFEEEE\">jack</span> <span style=\"background-color: #FFF0F0\">##ass</span> <span style=\"background-color: #FFCFCF\">who</span> <span style=\"background-color: #FFDFDF\">su</span> <span style=\"background-color: #FFE4E4\">##x</span> <span style=\"background-color: #FFD5D5\">cock</span> <span style=\"background-color: #FFD5D5\">4</span> <span style=\"background-color: #FFE3E3\">a</span> <span style=\"background-color: #FFF1F1\">fuck</span> <span style=\"background-color: #FFECEC\">##in</span> <span style=\"background-color: #FFE0E0\">job</span> <span style=\"background-color: #FFE3E3\">y</span> <span style=\"background-color: #FFE8E8\">the</span> <span style=\"background-color: #FFEEEE\">fuck</span> <span style=\"background-color: #FFE0E0\">does</span> <span style=\"background-color: #FFC9C9\">the</span> <span style=\"background-color: #FFBBBB\">trans</span> <span style=\"background-color: #FFE8E8\">do</span> <span style=\"background-color: #FFEAEA\">it</span> <span style=\"background-color: #FFEEEE\">?</span> <span style=\"background-color: #FFF1F1\">?</span> <span style=\"background-color: #FFF2F2\">?</span> <span style=\"background-color: #FFF3F3\">?</span> <span style=\"background-color: #FFEBEB\">?</span> <span style=\"background-color: #FFE5E5\">cu</span> <span style=\"background-color: #FFEAEA\">##z</span> <span style=\"background-color: #FFC4C4\">its</span> <span style=\"background-color: #FFD1D1\">into</span> <span style=\"background-color: #FFDEDE\">th</span> <span style=\"background-color: #FFE9E9\">##t</span> <span style=\"background-color: #FFEDED\">kinda</span> <span style=\"background-color: #FFE3E3\">shit</span> <span style=\"background-color: #FFF6F6\">></span> <span style=\"background-color: #FFE2E2\">:</span> <span style=\"background-color: #FFDFDF\">(</span> <span style=\"background-color: #FF-550-550\">[SEP]</span>"
      ],
      "text/plain": [
       "<IPython.core.display.HTML object>"
      ]
     },
     "metadata": {},
     "output_type": "display_data"
    },
    {
     "data": {
      "text/plain": [
       "' closedmouth is a DICK-FUCK \\n\\nthis guy is a jackass who sux cock 4 a fuckin job y the fuck does the trans do it?????cuz its into tht kinda shit >:('"
      ]
     },
     "metadata": {},
     "output_type": "display_data"
    },
    {
     "name": "stdout",
     "output_type": "stream",
     "text": [
      "Offensive Score is 1.1232340037822723\n"
     ]
    },
    {
     "data": {
      "text/html": [
       "<span style=\"background-color: #FFB6B6\">[CLS]</span> <span style=\"background-color: #FFF4F4\">do</span> <span style=\"background-color: #FFF3F3\">##uche</span> <span style=\"background-color: #FFF6F6\">bag</span> <span style=\"background-color: #FFF6F6\">do</span> <span style=\"background-color: #FFF5F5\">##uche</span> <span style=\"background-color: #FFF8F8\">bag</span> <span style=\"background-color: #FFF7F7\">do</span> <span style=\"background-color: #FFF6F6\">##uche</span> <span style=\"background-color: #FFF8F8\">bag</span> <span style=\"background-color: #FFF7F7\">do</span> <span style=\"background-color: #FFF7F7\">##uche</span> <span style=\"background-color: #FFF8F8\">bag</span> <span style=\"background-color: #FFF3F3\">fuck</span> <span style=\"background-color: #FFF8F8\">##er</span> <span style=\"background-color: #FFF3F3\">fuck</span> <span style=\"background-color: #FFF8F8\">##er</span> <span style=\"background-color: #FFF3F3\">fuck</span> <span style=\"background-color: #FFF8F8\">##er</span> <span style=\"background-color: #FFF3F3\">fuck</span> <span style=\"background-color: #FFF8F8\">##er</span> <span style=\"background-color: #FFF1F1\">fuck</span> <span style=\"background-color: #FFFAFA\">##er</span> <span style=\"background-color: #FFF0F0\">cock</span> <span style=\"background-color: #FFF5F5\">shit</span> <span style=\"background-color: #FFECEC\">fuck</span> <span style=\"background-color: #FFF9F9\">tits</span> <span style=\"background-color: #FFF2F2\">balls</span> <span style=\"background-color: #FFE7E7\">wei</span> <span style=\"background-color: #FFF5F5\">##ner</span> <span style=\"background-color: #FFD6D6\">.</span> <span style=\"background-color: #FFE3E3\">clue</span> <span style=\"background-color: #FFE1E1\">##bot</span> <span style=\"background-color: #FFE3E3\">is</span> <span style=\"background-color: #FFEBEB\">a</span> <span style=\"background-color: #FFF2F2\">fa</span> <span style=\"background-color: #FFEBEB\">##gg</span> <span style=\"background-color: #FFF1F1\">##ot</span> <span style=\"background-color: #FFEDED\">who</span> <span style=\"background-color: #FFF3F3\">likes</span> <span style=\"background-color: #FFECEC\">to</span> <span style=\"background-color: #FFF1F1\">get</span> <span style=\"background-color: #FFF6F6\">corn</span> <span style=\"background-color: #FFF9F9\">##hole</span> <span style=\"background-color: #FFF6F6\">##d</span> <span style=\"background-color: #FFEAEA\">by</span> <span style=\"background-color: #FFF3F3\">young</span> <span style=\"background-color: #FFF4F4\">black</span> <span style=\"background-color: #FFF3F3\">stallion</span> <span style=\"background-color: #FFF3F3\">##s</span> <span style=\"background-color: #FFF4F4\">24</span> <span style=\"background-color: #FFF8F8\">/</span> <span style=\"background-color: #FFFBFB\">7</span> <span style=\"background-color: #FFDEDE\">365</span> <span style=\"background-color: #FFEDED\">.</span> <span style=\"background-color: #FFF3F3\">.</span> <span style=\"background-color: #FFF5F5\">.</span> <span style=\"background-color: #FFF6F6\">.</span> <span style=\"background-color: #FFF6F6\">.</span> <span style=\"background-color: #FFECEC\">.</span> <span style=\"background-color: #FFF3F3\">suck</span> <span style=\"background-color: #FFF1F1\">it</span> <span style=\"background-color: #FFF2F2\">bitch</span> <span style=\"background-color: #FFF4F4\">rep</span> <span style=\"background-color: #FFF2F2\">##pin</span> <span style=\"background-color: #FFEBEB\">ne</span> <span style=\"background-color: #FFF3F3\">##bra</span> <span style=\"background-color: #FFF6F6\">##ck</span> <span style=\"background-color: #FFF3F3\">##a</span> <span style=\"background-color: #FFF1F1\">bitch</span> <span style=\"background-color: #FFF7F7\">.</span> <span style=\"background-color: #FFF6F6\">.</span> <span style=\"background-color: #FFF3F3\">.</span> <span style=\"background-color: #FFEEEE\">one</span> <span style=\"background-color: #FFE7E7\">love</span> <span style=\"background-color: #FFF4F4\">alright</span> <span style=\"background-color: #FFF4F4\">you</span> <span style=\"background-color: #FFF2F2\">fucking</span> <span style=\"background-color: #FFE8E8\">clue</span> <span style=\"background-color: #FFF2F2\">##bot</span> <span style=\"background-color: #FFE4E4\">cock</span> <span style=\"background-color: #FFF5F5\">sucker</span> <span style=\"background-color: #FFF4F4\">don</span> <span style=\"background-color: #FFE6E6\">##t</span> <span style=\"background-color: #FFF6F6\">be</span> <span style=\"background-color: #FFF5F5\">telling</span> <span style=\"background-color: #FFF3F3\">me</span> <span style=\"background-color: #FFF7F7\">i</span> <span style=\"background-color: #FFF4F4\">can</span> <span style=\"background-color: #FFE1E1\">##t</span> <span style=\"background-color: #FFF4F4\">say</span> <span style=\"background-color: #FFF5F5\">whatever</span> <span style=\"background-color: #FFF7F7\">the</span> <span style=\"background-color: #FFF9F9\">fuck</span> <span style=\"background-color: #FFF8F8\">i</span> <span style=\"background-color: #FFF9F9\">want</span> <span style=\"background-color: #FFF6F6\">to</span> <span style=\"background-color: #FFEDED\">on</span> <span style=\"background-color: #FFF2F2\">this</span> <span style=\"background-color: #FFF5F5\">god</span> <span style=\"background-color: #FFF6F6\">##dam</span> <span style=\"background-color: #FFF9F9\">##med</span> <span style=\"background-color: #FFEFEF\">website</span> <span style=\"background-color: #FFF4F4\">.</span> <span style=\"background-color: #FFF8F8\">.</span> <span style=\"background-color: #FFE8E8\">.</span> <span style=\"background-color: #FFE8E8\">freedom</span> <span style=\"background-color: #FFF9F9\">of</span> <span style=\"background-color: #FFEFEF\">speech</span> <span style=\"background-color: #FFF2F2\">bitch</span> <span style=\"background-color: #FFF7F7\">.</span> <span style=\"background-color: #FFF8F8\">.</span> <span style=\"background-color: #FFF5F5\">.</span> <span style=\"background-color: #FFFBFB\">put</span> <span style=\"background-color: #FFF5F5\">that</span> <span style=\"background-color: #FFF9F9\">in</span> <span style=\"background-color: #FFF8F8\">your</span> <span style=\"background-color: #FFF5F5\">fucking</span> <span style=\"background-color: #FFF6F6\">pipe</span> <span style=\"background-color: #FFF9F9\">and</span> <span style=\"background-color: #FFFAFA\">smoke</span> <span style=\"background-color: #FFFCFC\">it</span> <span style=\"background-color: #FFE9E9\">.</span> <span style=\"background-color: #FF-4E5-4E5\">[SEP]</span>"
      ],
      "text/plain": [
       "<IPython.core.display.HTML object>"
      ]
     },
     "metadata": {},
     "output_type": "display_data"
    },
    {
     "data": {
      "text/plain": [
       "'DOUCHE BAG DOUCHE BAG DOUCHE BAG DOUCHE BAG FUCKER FUCKER FUCKER FUCKER FUCKER COCK SHIT FUCK TITS BALLS WEINER. CLUEBOT IS A FAGGOT WHO LIKES TO GET CORNHOLED BY YOUNG BLACK STALLIONS 24/7 365......SUCK IT BITCH        REPPIN NEBRACKA BITCH...one love\\nalright you fucking cluebot cock sucker dont be telling me i cant say whatever the fuck i want to on this goddammed website...freedom of speech bitch...put that in your fucking pipe and smoke it.'"
      ]
     },
     "metadata": {},
     "output_type": "display_data"
    },
    {
     "name": "stdout",
     "output_type": "stream",
     "text": [
      "Offensive Score is 1.1190205514431\n"
     ]
    },
    {
     "data": {
      "text/html": [
       "<span style=\"background-color: #FFAEAE\">[CLS]</span> <span style=\"background-color: #FFE1E1\">is</span> <span style=\"background-color: #FFD5D5\">all</span> <span style=\"background-color: #FFE5E5\">pretty</span> <span style=\"background-color: #FFCFCF\">gay</span> <span style=\"background-color: #FFECEC\">if</span> <span style=\"background-color: #FFDDDD\">u</span> <span style=\"background-color: #FFF4F4\">ask</span> <span style=\"background-color: #FFEEEE\">me</span> <span style=\"background-color: #FFEDED\">.</span> <span style=\"background-color: #FFEDED\">.</span> <span style=\"background-color: #FFE4E4\">.</span> <span style=\"background-color: #FFE5E5\">bunch</span> <span style=\"background-color: #FFD6D6\">or</span> <span style=\"background-color: #FFE5E5\">fucking</span> <span style=\"background-color: #FFF2F2\">re</span> <span style=\"background-color: #FFE8E8\">##tar</span> <span style=\"background-color: #FFE8E8\">##ds</span> <span style=\"background-color: #FFE1E1\">.</span> <span style=\"background-color: #FFBABA\">you</span> <span style=\"background-color: #FFD1D1\">are</span> <span style=\"background-color: #FFD6D6\">a</span> <span style=\"background-color: #FFDCDC\">wife</span> <span style=\"background-color: #FFE7E7\">beat</span> <span style=\"background-color: #FFF1F1\">##er</span> <span style=\"background-color: #FFD2D2\">/</span> <span style=\"background-color: #FFE8E8\">cu</span> <span style=\"background-color: #FFECEC\">##nt</span> <span style=\"background-color: #FFD8D8\">slap</span> <span style=\"background-color: #FFF4F4\">##per</span> <span style=\"background-color: #FFDFDF\">.</span> <span style=\"background-color: #FFF2F2\">that</span> <span style=\"background-color: #FFEEEE\">'</span> <span style=\"background-color: #FFF1F1\">s</span> <span style=\"background-color: #FFEFEF\">right</span> <span style=\"background-color: #FFDDDD\">i</span> <span style=\"background-color: #FFDBDB\">called</span> <span style=\"background-color: #FFC5C5\">your</span> <span style=\"background-color: #FFE1E1\">wife</span> <span style=\"background-color: #FFEDED\">a</span> <span style=\"background-color: #FFE6E6\">cu</span> <span style=\"background-color: #FFEFEF\">##nt</span> <span style=\"background-color: #FFE4E4\">.</span> <span style=\"background-color: #FFE3E3\">bitch</span> <span style=\"background-color: #FFF0F0\">##es</span> <span style=\"background-color: #FFF6F6\">!</span> <span style=\"background-color: #FFF8F8\">!</span> <span style=\"background-color: #FFF8F8\">!</span> <span style=\"background-color: #FFF3F3\">!</span> <span style=\"background-color: #FF-5D4-5D4\">[SEP]</span>"
      ],
      "text/plain": [
       "<IPython.core.display.HTML object>"
      ]
     },
     "metadata": {},
     "output_type": "display_data"
    },
    {
     "data": {
      "text/plain": [
       "\"is all pretty gay if u ask me...bunch or fucking retards.\\nYou are a wife beater/cunt slapper. That's right I called your wife a cunt. BITCHES!!!!\""
      ]
     },
     "metadata": {},
     "output_type": "display_data"
    },
    {
     "name": "stdout",
     "output_type": "stream",
     "text": [
      "Offensive Score is 1.1182697713375092\n"
     ]
    },
    {
     "data": {
      "text/html": [
       "<span style=\"background-color: #FF6D6D\">[CLS]</span> <span style=\"background-color: #FF9999\">your</span> <span style=\"background-color: #FFBFBF\">a</span> <span style=\"background-color: #FFD0D0\">fucking</span> <span style=\"background-color: #FFD0D0\">fa</span> <span style=\"background-color: #FFAAAA\">##gg</span> <span style=\"background-color: #FFCBCB\">##ot</span> <span style=\"background-color: #FFB7B7\">you</span> <span style=\"background-color: #FFC2C2\">internet</span> <span style=\"background-color: #FFC1C1\">thug</span> <span style=\"background-color: #FFA4A4\">get</span> <span style=\"background-color: #FF9A9A\">off</span> <span style=\"background-color: #FFB7B7\">fed</span> <span style=\"background-color: #FFBCBC\">##er</span> <span style=\"background-color: #FFD9D9\">##lines</span> <span style=\"background-color: #FF9A9A\">nuts</span> <span style=\"background-color: #FF-644-644\">[SEP]</span>"
      ],
      "text/plain": [
       "<IPython.core.display.HTML object>"
      ]
     },
     "metadata": {},
     "output_type": "display_data"
    },
    {
     "data": {
      "text/plain": [
       "'YOUR A FUCKING FAGGOT YOU INTERNET THUG GET OFF FEDERLINES NUTS'"
      ]
     },
     "metadata": {},
     "output_type": "display_data"
    },
    {
     "name": "stdout",
     "output_type": "stream",
     "text": [
      "Offensive Score is 1.1097222417593002\n"
     ]
    },
    {
     "data": {
      "text/html": [
       "<span style=\"background-color: #FF4343\">[CLS]</span> <span style=\"background-color: #FFB6B6\">fucking</span> <span style=\"background-color: #FFACAC\">fa</span> <span style=\"background-color: #FF9999\">##gg</span> <span style=\"background-color: #FF9090\">##ot</span> <span style=\"background-color: #FF7D7D\">this</span> <span style=\"background-color: #FFB1B1\">guy</span> <span style=\"background-color: #FF8989\">is</span> <span style=\"background-color: #FFA9A9\">a</span> <span style=\"background-color: #FFB1B1\">total</span> <span style=\"background-color: #FFC3C3\">fucking</span> <span style=\"background-color: #FFB8B8\">fa</span> <span style=\"background-color: #FF9B9B\">##gg</span> <span style=\"background-color: #FFB4B4\">##ot</span> <span style=\"background-color: #FF-5B2-5B2\">[SEP]</span>"
      ],
      "text/plain": [
       "<IPython.core.display.HTML object>"
      ]
     },
     "metadata": {},
     "output_type": "display_data"
    },
    {
     "data": {
      "text/plain": [
       "'Fucking Faggot\\n\\nThis guy is a total fucking faggot'"
      ]
     },
     "metadata": {},
     "output_type": "display_data"
    },
    {
     "name": "stdout",
     "output_type": "stream",
     "text": [
      "Offensive Score is 1.1071379035711288\n"
     ]
    },
    {
     "data": {
      "text/html": [
       "<span style=\"background-color: #FF8181\">[CLS]</span> <span style=\"background-color: #FFBEBE\">yes</span> <span style=\"background-color: #FF9898\">ah</span> <span style=\"background-color: #FFD7D7\">soo</span> <span style=\"background-color: #FFE4E4\">##ob</span> <span style=\"background-color: #FFD0D0\">##ig</span> <span style=\"background-color: #FF9292\">dumb</span> <span style=\"background-color: #FFECEC\">object</span> <span style=\"background-color: #FFB1B1\">,</span> <span style=\"background-color: #FFC4C4\">just</span> <span style=\"background-color: #FFB7B7\">a</span> <span style=\"background-color: #FFE7E7\">bunch</span> <span style=\"background-color: #FFDCDC\">o</span> <span style=\"background-color: #FFE8E8\">hose</span> <span style=\"background-color: #FFE2E2\">##rs</span> <span style=\"background-color: #FFAEAE\">,</span> <span style=\"background-color: #FFC4C4\">give</span> <span style=\"background-color: #FFB2B2\">up</span> <span style=\"background-color: #FFCFCF\">so</span> <span style=\"background-color: #FFDADA\">easily</span> <span style=\"background-color: #FFDADA\">.</span> <span style=\"background-color: #FFD9D9\">.</span> <span style=\"background-color: #FFA9A9\">quit</span> <span style=\"background-color: #FFD7D7\">##ters</span> <span style=\"background-color: #FF-5B0-5B0\">[SEP]</span>"
      ],
      "text/plain": [
       "<IPython.core.display.HTML object>"
      ]
     },
     "metadata": {},
     "output_type": "display_data"
    },
    {
     "data": {
      "text/plain": [
       "'Yes Ah soooBig Dumb Object, just a bunch o hosers, give up so easily..quitters'"
      ]
     },
     "metadata": {},
     "output_type": "display_data"
    },
    {
     "name": "stdout",
     "output_type": "stream",
     "text": [
      "Offensive Score is 1.1069359183311462\n"
     ]
    },
    {
     "data": {
      "text/html": [
       "<span style=\"background-color: #FF8282\">[CLS]</span> <span style=\"background-color: #FFDDDD\">how</span> <span style=\"background-color: #FFDDDD\">dare</span> <span style=\"background-color: #FFC7C7\">u</span> <span style=\"background-color: #FFD4D4\">you</span> <span style=\"background-color: #FFD2D2\">german</span> <span style=\"background-color: #FFDCDC\">piece</span> <span style=\"background-color: #FFD9D9\">of</span> <span style=\"background-color: #FFCFCF\">dog</span> <span style=\"background-color: #FFEBEB\">shit</span> <span style=\"background-color: #FFE0E0\">don</span> <span style=\"background-color: #FFC9C9\">##t</span> <span style=\"background-color: #FFC9C9\">u</span> <span style=\"background-color: #FFDEDE\">fucking</span> <span style=\"background-color: #FFC9C9\">clear</span> <span style=\"background-color: #FF8C8C\">my</span> <span style=\"background-color: #FFCCCC\">edit</span> <span style=\"background-color: #FFE3E3\">ever</span> <span style=\"background-color: #FFEBEB\">again</span> <span style=\"background-color: #FFD6D6\">u</span> <span style=\"background-color: #FFE4E4\">piece</span> <span style=\"background-color: #FFE3E3\">of</span> <span style=\"background-color: #FFDFDF\">horse</span> <span style=\"background-color: #FFEDED\">shit</span> <span style=\"background-color: #FFDFDF\">fa</span> <span style=\"background-color: #FFC7C7\">##gg</span> <span style=\"background-color: #FFE4E4\">##ot</span> <span style=\"background-color: #FF-667-667\">[SEP]</span>"
      ],
      "text/plain": [
       "<IPython.core.display.HTML object>"
      ]
     },
     "metadata": {},
     "output_type": "display_data"
    },
    {
     "data": {
      "text/plain": [
       "' how dare u you german piece of dog shit \\n\\ndont u fucking clear my edit ever again u piece of horse shit faggot'"
      ]
     },
     "metadata": {},
     "output_type": "display_data"
    },
    {
     "name": "stdout",
     "output_type": "stream",
     "text": [
      "Offensive Score is 1.0981042832136154\n"
     ]
    },
    {
     "data": {
      "text/html": [
       "<span style=\"background-color: #FFABAB\">[CLS]</span> <span style=\"background-color: #FFE0E0\">fuck</span> <span style=\"background-color: #FFE7E7\">you</span> <span style=\"background-color: #FFF0F0\">fred</span> <span style=\"background-color: #FFE7E7\">fuck</span> <span style=\"background-color: #FFE7E7\">you</span> <span style=\"background-color: #FFE4E4\">you</span> <span style=\"background-color: #FFEAEA\">bitch</span> <span style=\"background-color: #FFECEC\">ass</span> <span style=\"background-color: #FFCECE\">punk</span> <span style=\"background-color: #FFC2C2\">u</span> <span style=\"background-color: #FFE5E5\">can</span> <span style=\"background-color: #FFF7F7\">suck</span> <span style=\"background-color: #FFEDED\">a</span> <span style=\"background-color: #FFEBEB\">dick</span> <span style=\"background-color: #FFE1E1\">del</span> <span style=\"background-color: #FFE3E3\">##eti</span> <span style=\"background-color: #FFE0E0\">##ng</span> <span style=\"background-color: #FFD8D8\">everything</span> <span style=\"background-color: #FFE5E5\">fuck</span> <span style=\"background-color: #FFEEEE\">you</span> <span style=\"background-color: #FFDADA\">ho</span> <span style=\"background-color: #FFEFEF\">go</span> <span style=\"background-color: #FFECEC\">to</span> <span style=\"background-color: #FFEAEA\">hell</span> <span style=\"background-color: #FFE3E3\">you</span> <span style=\"background-color: #FFE5E5\">dumb</span> <span style=\"background-color: #FFF0F0\">##ass</span> <span style=\"background-color: #FFD5D5\">.</span> <span style=\"background-color: #FFD9D9\">your</span> <span style=\"background-color: #FFD6D6\">a</span> <span style=\"background-color: #FFE3E3\">bitch</span> <span style=\"background-color: #FFE1E1\">you</span> <span style=\"background-color: #FFEFEF\">stupid</span> <span style=\"background-color: #FFEFEF\">ass</span> <span style=\"background-color: #FFE9E9\">mother</span> <span style=\"background-color: #FFEEEE\">##fu</span> <span style=\"background-color: #FFEEEE\">##cker</span> <span style=\"background-color: #FFDADA\">.</span> <span style=\"background-color: #FFEDED\">put</span> <span style=\"background-color: #FFDFDF\">a</span> <span style=\"background-color: #FFEFEF\">big</span> <span style=\"background-color: #FFE2E2\">stick</span> <span style=\"background-color: #FFE6E6\">in</span> <span style=\"background-color: #FFDFDF\">your</span> <span style=\"background-color: #FFF1F1\">mouth</span> <span style=\"background-color: #FFE0E0\">and</span> <span style=\"background-color: #FFD9D9\">leave</span> <span style=\"background-color: #FFD8D8\">.</span> <span style=\"background-color: #FF-5BB-5BB\">[SEP]</span>"
      ],
      "text/plain": [
       "<IPython.core.display.HTML object>"
      ]
     },
     "metadata": {},
     "output_type": "display_data"
    },
    {
     "data": {
      "text/plain": [
       "' Fuck you \\nfred fuck you you bitch ass punk u can suck a dick deleting everything fuck you ho go to hell you dumbass. your a bitch you stupid ass motherfucker. put a big stick in your mouth and leave.'"
      ]
     },
     "metadata": {},
     "output_type": "display_data"
    },
    {
     "name": "stdout",
     "output_type": "stream",
     "text": [
      "Offensive Score is 1.0954248905181885\n"
     ]
    },
    {
     "data": {
      "text/html": [
       "<span style=\"background-color: #FF8282\">[CLS]</span> <span style=\"background-color: #FFB3B3\">you</span> <span style=\"background-color: #FFDCDC\">bunch</span> <span style=\"background-color: #FFC3C3\">of</span> <span style=\"background-color: #FFE0E0\">cock</span> <span style=\"background-color: #FFE1E1\">cu</span> <span style=\"background-color: #FFF1F1\">##cking</span> <span style=\"background-color: #FFD5D5\">,</span> <span style=\"background-color: #FFF1F1\">toilet</span> <span style=\"background-color: #FFEEEE\">scrub</span> <span style=\"background-color: #FFF6F6\">##bing</span> <span style=\"background-color: #FFD7D7\">,</span> <span style=\"background-color: #FFE3E3\">ti</span> <span style=\"background-color: #FFF3F3\">##t</span> <span style=\"background-color: #FFEFEF\">licking</span> <span style=\"background-color: #FFD5D5\">,</span> <span style=\"background-color: #FFDADA\">fanny</span> <span style=\"background-color: #FFECEC\">kissing</span> <span style=\"background-color: #FFD3D3\">,</span> <span style=\"background-color: #FFD7D7\">ars</span> <span style=\"background-color: #FFE7E7\">##e</span> <span style=\"background-color: #FFD9D9\">wan</span> <span style=\"background-color: #FFF4F4\">##king</span> <span style=\"background-color: #FFDDDD\">bastards</span> <span style=\"background-color: #FFD9D9\">i</span> <span style=\"background-color: #FFBCBC\">hope</span> <span style=\"background-color: #FFC1C1\">you</span> <span style=\"background-color: #FFDFDF\">all</span> <span style=\"background-color: #FFE7E7\">rot</span> <span style=\"background-color: #FFE8E8\">in</span> <span style=\"background-color: #FFD9D9\">hell</span> <span style=\"background-color: #FFD8D8\">especially</span> <span style=\"background-color: #FFB8B8\">guy</span> <span style=\"background-color: #FFEAEA\">walters</span> <span style=\"background-color: #FF-624-624\">[SEP]</span>"
      ],
      "text/plain": [
       "<IPython.core.display.HTML object>"
      ]
     },
     "metadata": {},
     "output_type": "display_data"
    },
    {
     "data": {
      "text/plain": [
       "'you bunch of cock cucking, toilet scrubbing, tit licking, fanny kissing, arse wanking BASTARDS I HOPE YOU ALL ROT IN HELL ESPECIALLY GUY WALTERS'"
      ]
     },
     "metadata": {},
     "output_type": "display_data"
    },
    {
     "name": "stdout",
     "output_type": "stream",
     "text": [
      "Offensive Score is 1.0940985679626465\n"
     ]
    },
    {
     "data": {
      "text/html": [
       "<span style=\"background-color: #FF3838\">[CLS]</span> <span style=\"background-color: #FFC3C3\">diana</span> <span style=\"background-color: #FF6969\">is</span> <span style=\"background-color: #FF6A6A\">a</span> <span style=\"background-color: #FFB6B6\">fucking</span> <span style=\"background-color: #FFA1A1\">bitch</span> <span style=\"background-color: #FF8F8F\">ni</span> <span style=\"background-color: #FF8383\">##gger</span> <span style=\"background-color: #FFA2A2\">piece</span> <span style=\"background-color: #FFB5B5\">of</span> <span style=\"background-color: #FFD7D7\">shit</span> <span style=\"background-color: #FF-669-669\">[SEP]</span>"
      ],
      "text/plain": [
       "<IPython.core.display.HTML object>"
      ]
     },
     "metadata": {},
     "output_type": "display_data"
    },
    {
     "data": {
      "text/plain": [
       "'Diana is a fucking bitch nigger piece of shit'"
      ]
     },
     "metadata": {},
     "output_type": "display_data"
    },
    {
     "name": "stdout",
     "output_type": "stream",
     "text": [
      "Offensive Score is 1.0937582701444626\n"
     ]
    },
    {
     "data": {
      "text/html": [
       "<span style=\"background-color: #FFC2C2\">[CLS]</span> <span style=\"background-color: #FFECEC\">fuck</span> <span style=\"background-color: #FFEAEA\">you</span> <span style=\"background-color: #FFDCDC\">,</span> <span style=\"background-color: #FFEAEA\">you</span> <span style=\"background-color: #FFE1E1\">gay</span> <span style=\"background-color: #FFF2F2\">ass</span> <span style=\"background-color: #FFDDDD\">liberal</span> <span style=\"background-color: #FFECEC\">!</span> <span style=\"background-color: #FFF2F2\">!</span> <span style=\"background-color: #FFE8E8\">!</span> <span style=\"background-color: #FFE9E9\">hey</span> <span style=\"background-color: #FFEBEB\">asshole</span> <span style=\"background-color: #FFF3F3\">why</span> <span style=\"background-color: #FFE9E9\">don</span> <span style=\"background-color: #FFE0E0\">##t</span> <span style=\"background-color: #FFEEEE\">you</span> <span style=\"background-color: #FFEFEF\">get</span> <span style=\"background-color: #FFECEC\">your</span> <span style=\"background-color: #FFEDED\">face</span> <span style=\"background-color: #FFF8F8\">out</span> <span style=\"background-color: #FFF6F6\">of</span> <span style=\"background-color: #FFD2D2\">the</span> <span style=\"background-color: #FFE7E7\">fucking</span> <span style=\"background-color: #FFE1E1\">child</span> <span style=\"background-color: #FFD4D4\">mole</span> <span style=\"background-color: #FFF7F7\">##ste</span> <span style=\"background-color: #FFECEC\">##s</span> <span style=\"background-color: #FFF3F3\">home</span> <span style=\"background-color: #FFF1F1\">##page</span> <span style=\"background-color: #FFEBEB\">and</span> <span style=\"background-color: #FFECEC\">go</span> <span style=\"background-color: #FFEDED\">fuck</span> <span style=\"background-color: #FFF3F3\">your</span> <span style=\"background-color: #FFF5F5\">self</span> <span style=\"background-color: #FFEDED\">you</span> <span style=\"background-color: #FFE9E9\">gay</span> <span style=\"background-color: #FFF3F3\">ass</span> <span style=\"background-color: #FFDFDF\">liberal</span> <span style=\"background-color: #FFF2F2\">mother</span> <span style=\"background-color: #FFF5F5\">fuck</span> <span style=\"background-color: #FFF9F9\">##er</span> <span style=\"background-color: #FFE3E3\">i</span> <span style=\"background-color: #FFE9E9\">hate</span> <span style=\"background-color: #FFC5C5\">jews</span> <span style=\"background-color: #FFF2F2\">like</span> <span style=\"background-color: #FFF2F2\">you</span> <span style=\"background-color: #FFF1F1\">fuck</span> <span style=\"background-color: #FFF0F0\">you</span> <span style=\"background-color: #FFF8F8\">and</span> <span style=\"background-color: #FFEDED\">your</span> <span style=\"background-color: #FFF8F8\">whole</span> <span style=\"background-color: #FFEEEE\">fucking</span> <span style=\"background-color: #FFF5F5\">family</span> <span style=\"background-color: #FFEBEB\">you</span> <span style=\"background-color: #FFEFEF\">fucking</span> <span style=\"background-color: #FFE7E7\">sand</span> <span style=\"background-color: #FFF0F0\">ni</span> <span style=\"background-color: #FFF2F2\">##gger</span> <span style=\"background-color: #FFF4F4\">lover</span> <span style=\"background-color: #FF-670-670\">[SEP]</span>"
      ],
      "text/plain": [
       "<IPython.core.display.HTML object>"
      ]
     },
     "metadata": {},
     "output_type": "display_data"
    },
    {
     "data": {
      "text/plain": [
       "'FUCK YOU, YOU GAY ASS LIBERAL!!!\\nhey asshole why dont you get your face out of the fucking child molestes homepage and go fuck your self you gay ass liberal mother fucker i hate jews like you fuck you and your whole fucking family you fucking sand nigger lover'"
      ]
     },
     "metadata": {},
     "output_type": "display_data"
    },
    {
     "name": "stdout",
     "output_type": "stream",
     "text": [
      "Offensive Score is 1.0936612784862518\n"
     ]
    },
    {
     "data": {
      "text/html": [
       "<span style=\"background-color: #FF8585\">[CLS]</span> <span style=\"background-color: #FFD4D4\">suck</span> <span style=\"background-color: #FFDFDF\">a</span> <span style=\"background-color: #FFD2D2\">dick</span> <span style=\"background-color: #FFC7C7\">pussy</span> <span style=\"background-color: #FFCACA\">ho</span> <span style=\"background-color: #FFE3E3\">##e</span> <span style=\"background-color: #FFDEDE\">ass</span> <span style=\"background-color: #FFCACA\">ya</span> <span style=\"background-color: #FFD7D7\">'</span> <span style=\"background-color: #FFE9E9\">ll</span> <span style=\"background-color: #FFD6D6\">lame</span> <span style=\"background-color: #FFD2D2\">anyway</span> <span style=\"background-color: #FFDEDE\">##s</span> <span style=\"background-color: #FFD1D1\">and</span> <span style=\"background-color: #FFD7D7\">how</span> <span style=\"background-color: #FFD3D3\">you</span> <span style=\"background-color: #FFD7D7\">know</span> <span style=\"background-color: #FFCDCD\">what</span> <span style=\"background-color: #FFD2D2\">somebody</span> <span style=\"background-color: #FFD0D0\">doing</span> <span style=\"background-color: #FFCECE\">?</span> <span style=\"background-color: #FFE2E2\">get</span> <span style=\"background-color: #FFD7D7\">yo</span> <span style=\"background-color: #FFCFCF\">fake</span> <span style=\"background-color: #FFE5E5\">ass</span> <span style=\"background-color: #FFE3E3\">outta</span> <span style=\"background-color: #FFE2E2\">here</span> <span style=\"background-color: #FFE0E0\">bitch</span> <span style=\"background-color: #FFECEC\">!</span> <span style=\"background-color: #FFF1F1\">!</span> <span style=\"background-color: #FFE8E8\">!</span> <span style=\"background-color: #FF-5F6-5F6\">[SEP]</span>"
      ],
      "text/plain": [
       "<IPython.core.display.HTML object>"
      ]
     },
     "metadata": {},
     "output_type": "display_data"
    },
    {
     "data": {
      "text/plain": [
       "\"Suck a Dick\\nPussy Hoe Ass\\nYa'll lame anyways\\nAnd how you know what somebody doing?\\nGet yo fake ass outta here bitch!!!\""
      ]
     },
     "metadata": {},
     "output_type": "display_data"
    },
    {
     "name": "stdout",
     "output_type": "stream",
     "text": [
      "Offensive Score is 1.0906627178192139\n"
     ]
    },
    {
     "data": {
      "text/html": [
       "<span style=\"background-color: #FFA8A8\">[CLS]</span> <span style=\"background-color: #FFDBDB\">hey</span> <span style=\"background-color: #FFD3D3\">man</span> <span style=\"background-color: #FFD0D0\">you</span> <span style=\"background-color: #FFD6D6\">are</span> <span style=\"background-color: #FFD8D8\">a</span> <span style=\"background-color: #FFF1F1\">re</span> <span style=\"background-color: #FFEDED\">##tar</span> <span style=\"background-color: #FFE4E4\">##ded</span> <span style=\"background-color: #FFCACA\">mexican</span> <span style=\"background-color: #FFE6E6\">cock</span> <span style=\"background-color: #FFF2F2\">##su</span> <span style=\"background-color: #FFF0F0\">##cking</span> <span style=\"background-color: #FFEBEB\">piece</span> <span style=\"background-color: #FFE9E9\">of</span> <span style=\"background-color: #FFE9E9\">fucking</span> <span style=\"background-color: #FFF5F5\">shit</span> <span style=\"background-color: #FFE6E6\">.</span> <span style=\"background-color: #FFE6E6\">please</span> <span style=\"background-color: #FFDEDE\">go</span> <span style=\"background-color: #FFE6E6\">fucking</span> <span style=\"background-color: #FFDBDB\">kill</span> <span style=\"background-color: #FFE3E3\">yourself</span> <span style=\"background-color: #FFE7E7\">.</span> <span style=\"background-color: #FFD6D6\">wikipedia</span> <span style=\"background-color: #FFBDBD\">ad</span> <span style=\"background-color: #FFC2C2\">##mins</span> <span style=\"background-color: #FFDCDC\">are</span> <span style=\"background-color: #FFE2E2\">lower</span> <span style=\"background-color: #FFECEC\">then</span> <span style=\"background-color: #FFDADA\">ni</span> <span style=\"background-color: #FFD8D8\">##gger</span> <span style=\"background-color: #FFEAEA\">##s</span> <span style=\"background-color: #FFE1E1\">!</span> <span style=\"background-color: #FFE7E7\">fuck</span> <span style=\"background-color: #FFE0E0\">you</span> <span style=\"background-color: #FFE5E5\">!</span> <span style=\"background-color: #FF-667-667\">[SEP]</span>"
      ],
      "text/plain": [
       "<IPython.core.display.HTML object>"
      ]
     },
     "metadata": {},
     "output_type": "display_data"
    },
    {
     "data": {
      "text/plain": [
       "'Hey Man\\nYou are a retarded Mexican cocksucking piece of fucking shit. Please go fucking kill yourself. Wikipedia admins are lower then niggers! Fuck you!  '"
      ]
     },
     "metadata": {},
     "output_type": "display_data"
    }
   ],
   "source": [
    "high_score_list = text_df.sort_values(\"target\", ascending=False).head(20).index.tolist()\n",
    "\n",
    "for num in high_score_list:\n",
    "    \n",
    "    ids = config.tokenizer(text_df.loc[num, \"text\"])[\"input_ids\"]\n",
    "    tokens = config.tokenizer.convert_ids_to_tokens(ids)\n",
    "    attention = attention_array[num, :][np.nonzero(mask_array[num, :])]\n",
    "\n",
    "    html_outputs = []\n",
    "\n",
    "    for word, attn in zip(tokens, attention):\n",
    "        html_outputs.append(highlight_r(word, attn))\n",
    "\n",
    "    print(f\"Offensive Score is {PRED[num, 0]}\")\n",
    "    display(HTML(' '.join(html_outputs)))\n",
    "    display(text_df.loc[num, \"text\"])\n",
    "\n"
   ]
  },
  {
   "cell_type": "code",
   "execution_count": null,
   "id": "3de067e8",
   "metadata": {},
   "outputs": [],
   "source": []
  }
 ],
 "metadata": {
  "kernelspec": {
   "display_name": "Python 3 (ipykernel)",
   "language": "python",
   "name": "python3"
  },
  "language_info": {
   "codemirror_mode": {
    "name": "ipython",
    "version": 3
   },
   "file_extension": ".py",
   "mimetype": "text/x-python",
   "name": "python",
   "nbconvert_exporter": "python",
   "pygments_lexer": "ipython3",
   "version": "3.7.10"
  }
 },
 "nbformat": 4,
 "nbformat_minor": 5
}
